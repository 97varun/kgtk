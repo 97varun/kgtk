{
 "cells": [
  {
   "cell_type": "markdown",
   "metadata": {},
   "source": [
    "## Sort issue"
   ]
  },
  {
   "cell_type": "code",
   "execution_count": 6,
   "metadata": {},
   "outputs": [],
   "source": [
    "%%bash\n",
    "kgtk import_conceptnet --english_only conceptnet-assertions-5.7.0.csv / \\\n",
    "            filter -p \" ; /r/Causes,/r/UsedFor,/r/Synonym,/r/DefinedAs,/r/IsA ; \""
   ]
  },
  {
   "cell_type": "code",
   "execution_count": 13,
   "metadata": {},
   "outputs": [],
   "source": [
    "cat tmp.tsv | kgtk sort -c \"node1,label,node2\" -o dir_sorted.tsv"
   ]
  },
  {
   "cell_type": "code",
   "execution_count": 14,
   "metadata": {},
   "outputs": [
    {
     "name": "stdout",
     "output_type": "stream",
     "text": [
      "/c/en/acting_in_play\ty\n",
      "\n"
     ]
    },
    {
     "name": "stdin",
     "output_type": "stream",
     "text": [
      "continue? \n"
     ]
    }
   ],
   "source": [
    "with open('dir_sorted.tsv', 'r') as f:\n",
    "    for line in f:\n",
    "        l=line.split('\\t')\n",
    "        if len(l)!=3:\n",
    "            print(line)\n",
    "            input('continue?')"
   ]
  },
  {
   "cell_type": "code",
   "execution_count": null,
   "metadata": {},
   "outputs": [],
   "source": []
  }
 ],
 "metadata": {
  "kernelspec": {
   "display_name": "Python 3",
   "language": "python",
   "name": "python3"
  },
  "language_info": {
   "codemirror_mode": {
    "name": "ipython",
    "version": 3
   },
   "file_extension": ".py",
   "mimetype": "text/x-python",
   "name": "python",
   "nbconvert_exporter": "python",
   "pygments_lexer": "ipython3",
   "version": "3.7.7"
  }
 },
 "nbformat": 4,
 "nbformat_minor": 4
}
