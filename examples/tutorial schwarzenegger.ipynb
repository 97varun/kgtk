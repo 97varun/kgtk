{
 "cells": [
  {
   "cell_type": "code",
   "execution_count": 1,
   "metadata": {
    "tags": [
     "parameters"
    ]
   },
   "outputs": [],
   "source": [
    "# Parameters\n",
    "\n",
    "# Folder on local machine where to create the output and temporary folders\n",
    "output_path = \"/Users/pedroszekely/Downloads/kypher\"\n",
    "\n",
    "# The names of the output and temporary folders\n",
    "output_folder = \"schwarzenegger\"\n",
    "temp_folder = \"temp.schwarzenegger\"\n",
    "\n",
    "data_folder = output_path + \"/\" + output_folder\n",
    "\n",
    "# Location of the cache database for kypher\n",
    "cache_path = \"/Users/pedroszekely/Downloads/kypher/temp.schwarzenegger\"\n",
    "\n",
    "# shortcuts to commands\n",
    "kgtk = \"time kgtk --debug\"\n",
    "# kgtk = \"kgtk --debug\""
   ]
  },
  {
   "cell_type": "code",
   "execution_count": 2,
   "metadata": {},
   "outputs": [],
   "source": [
    "import io\n",
    "import os\n",
    "import subprocess\n",
    "import sys\n",
    "\n",
    "import numpy as np\n",
    "import pandas as pd\n",
    "\n",
    "import papermill as pm"
   ]
  },
  {
   "cell_type": "code",
   "execution_count": 7,
   "metadata": {},
   "outputs": [
    {
     "name": "stdout",
     "output_type": "stream",
     "text": [
      "ALL: \"/Users/pedroszekely/Downloads/kypher/schwarzenegger/Q2685.graph.all.tsv.gz\"\n",
      "EXAMPLES_DIR: \"/Users/pedroszekely/Downloads/kypher\"\n",
      "OUT: \"/Users/pedroszekely/Downloads/kypher/schwarzenegger\"\n",
      "STORE: \"/Users/pedroszekely/Downloads/kypher/temp.schwarzenegger/wikidata.sqlite3.db\"\n",
      "TEMP: \"/Users/pedroszekely/Downloads/kypher/temp.schwarzenegger\"\n",
      "kgtk: \"time kgtk --debug\"\n",
      "kypher: \"time kgtk --debug query --graph-cache /Users/pedroszekely/Downloads/kypher/temp.schwarzenegger/wikidata.sqlite3.db\"\n"
     ]
    }
   ],
   "source": [
    "# The names of files in the KGTK Wikidata distirbution that we will use in this notebook.\n",
    "file_names = {\n",
    "    \"all\": \"Q2685.graph.all.tsv.gz\",\n",
    "}\n",
    "\n",
    "# We will define environment variables to hold the full paths to the files as we will use them in the shell commands\n",
    "kgtk_environment_variables = []\n",
    "\n",
    "for key, value in file_names.items():\n",
    "    variable = key.upper()\n",
    "    os.environ[variable] = data_folder + \"/\" + value\n",
    "    kgtk_environment_variables.append(variable)\n",
    "    \n",
    "# KGTK creates a SQLite database to index the knowledge graph.\n",
    "if cache_path:\n",
    "    os.environ['STORE'] = \"{}/wikidata.sqlite3.db\".format(cache_path)\n",
    "else:\n",
    "    os.environ['STORE'] = \"{}/{}/wikidata.sqlite3.db\".format(output_path, temp_folder)\n",
    "kgtk_environment_variables.append('STORE')\n",
    "\n",
    "# We will create many temporary files, so set up a folder for outputs and one for the temporary files.\n",
    "os.environ['TEMP'] = \"{}/{}\".format(output_path, temp_folder) \n",
    "os.environ['OUT'] = \"{}/{}\".format(output_path, output_folder) \n",
    "kgtk_environment_variables.append('TEMP')\n",
    "kgtk_environment_variables.append('OUT')\n",
    "\n",
    "# Envronment variables with shortcuts to the commands we use often\n",
    "os.environ['kgtk'] = kgtk\n",
    "# Use for debugging, but careful as it causes import to dataframes to break\n",
    "os.environ['kypher'] = \"time kgtk --debug query --graph-cache \" + os.environ['STORE']\n",
    "# os.environ['kypher'] = \"time kgtk query --graph-cache \" + os.environ['STORE']\n",
    "#os.environ['kypher'] = \"kgtk query --graph-cache \" + os.environ['STORE']\n",
    "kgtk_environment_variables.append('kgtk')\n",
    "kgtk_environment_variables.append('kypher')\n",
    "\n",
    "# We'll save the current working directory so we can call into other example notebooks later\n",
    "os.environ[\"EXAMPLES_DIR\"] = os.getcwd()\n",
    "kgtk_environment_variables.append('EXAMPLES_DIR')\n",
    "\n",
    "kgtk_environment_variables.sort()\n",
    "for variable in kgtk_environment_variables:\n",
    "    print(\"{}: \\\"{}\\\"\".format(variable, os.environ[variable]))"
   ]
  },
  {
   "cell_type": "code",
   "execution_count": 8,
   "metadata": {},
   "outputs": [],
   "source": [
    "def kgtk_to_dataframe(kgtk):\n",
    "    columns = kgtk[0].split(\"\\t\")\n",
    "    data = []\n",
    "    for line in kgtk[1:]:\n",
    "        data.append(line.encode('utf-8').decode('utf-8').split(\"\\t\"))\n",
    "    return pd.DataFrame(data, columns=columns)    "
   ]
  },
  {
   "cell_type": "code",
   "execution_count": 9,
   "metadata": {},
   "outputs": [
    {
     "name": "stdout",
     "output_type": "stream",
     "text": [
      "/Users/pedroszekely/Downloads/kypher\n"
     ]
    }
   ],
   "source": [
    "%cd {output_path}"
   ]
  },
  {
   "cell_type": "markdown",
   "metadata": {},
   "source": [
    "Define the shortcuts for Kypher"
   ]
  },
  {
   "cell_type": "code",
   "execution_count": 10,
   "metadata": {},
   "outputs": [
    {
     "name": "stdout",
     "output_type": "stream",
     "text": [
      "[2021-09-28 08:50:09 sqlstore]: IMPORT graph directly into table graph_1 from /Users/pedroszekely/Downloads/kypher/schwarzenegger/Q2685.graph.all.tsv.gz ...\n",
      "[2021-09-28 08:50:22 query]: SQL Translation:\n",
      "---------------------------------------------\n",
      "  SELECT *\n",
      "     FROM graph_1 AS graph_1_c1\n",
      "     LIMIT ?\n",
      "  PARAS: [3]\n",
      "---------------------------------------------\n",
      "node1\tlabel\tnode2\tid\n",
      "P10\tdatatype\tcommonsMedia\tP10-datatype\n",
      "P1000\tP31\tQ18608871\tP1000-P31-Q18608871-093affb5-0\n",
      "P1001\tP1647\tP276\tP1001-P1647-P276-e4e44f83-0\n",
      "       14.24 real        22.22 user         0.78 sys\n"
     ]
    }
   ],
   "source": [
    "!$kypher \\\n",
    "-i \"$ALL\" --as all \\\n",
    "--limit 3"
   ]
  },
  {
   "cell_type": "raw",
   "metadata": {},
   "source": [
    "# Command to produce tables to put in the documentation\n",
    "!zcat < \"$OUT\"/derived.P131admin.tsv.gz | head -5000 | kgtk cat --every-nth-record 1000 | kgtk md"
   ]
  },
  {
   "cell_type": "code",
   "execution_count": null,
   "metadata": {},
   "outputs": [],
   "source": []
  },
  {
   "cell_type": "markdown",
   "metadata": {},
   "source": [
    "# To Do\n",
    "- Do partition of the graph in to the usual Wikidata files\n",
    "- Compute the derived files"
   ]
  },
  {
   "cell_type": "code",
   "execution_count": null,
   "metadata": {},
   "outputs": [],
   "source": []
  },
  {
   "cell_type": "markdown",
   "metadata": {},
   "source": [
    "# Explore The Arnold Schwarzenegger Graph `Q2685`\n",
    "\n"
   ]
  },
  {
   "cell_type": "code",
   "execution_count": 11,
   "metadata": {},
   "outputs": [
    {
     "name": "stdout",
     "output_type": "stream",
     "text": [
      "[2021-09-28 09:17:55 query]: SQL Translation:\n",
      "---------------------------------------------\n",
      "  SELECT count(DISTINCT graph_1_c1.\"node1\")\n",
      "     FROM graph_1 AS graph_1_c1\n",
      "     WHERE graph_1_c1.\"label\" = ?\n",
      "        AND graph_1_c1.\"node2\" = ?\n",
      "  PARAS: ['P31', 'Q5']\n",
      "---------------------------------------------\n",
      "[2021-09-28 09:17:55 sqlstore]: CREATE INDEX on table graph_1 column label ...\n",
      "[2021-09-28 09:17:57 sqlstore]: ANALYZE INDEX on table graph_1 column label ...\n",
      "[2021-09-28 09:17:57 sqlstore]: CREATE INDEX on table graph_1 column node2 ...\n",
      "[2021-09-28 09:17:59 sqlstore]: ANALYZE INDEX on table graph_1 column node2 ...\n",
      "count(DISTINCT graph_1_c1.\"node1\")\n",
      "18446\n",
      "        5.47 real         4.27 user         0.71 sys\n"
     ]
    }
   ],
   "source": [
    "!$kypher -i all \\\n",
    "--match '(n1)-[:P31]->(:Q5)' \\\n",
    "--return 'count(distinct n1)'"
   ]
  },
  {
   "cell_type": "markdown",
   "metadata": {},
   "source": [
    "Count organizations"
   ]
  },
  {
   "cell_type": "code",
   "execution_count": 12,
   "metadata": {},
   "outputs": [
    {
     "name": "stdout",
     "output_type": "stream",
     "text": [
      "[2021-09-28 09:19:48 query]: SQL Translation:\n",
      "---------------------------------------------\n",
      "  SELECT count(DISTINCT graph_1_c1.\"node1\")\n",
      "     FROM graph_1 AS graph_1_c1\n",
      "     WHERE graph_1_c1.\"label\" = ?\n",
      "        AND graph_1_c1.\"node2\" = ?\n",
      "  PARAS: ['P31', 'Q43229']\n",
      "---------------------------------------------\n",
      "count(DISTINCT graph_1_c1.\"node1\")\n",
      "614\n",
      "        1.35 real         0.85 user         0.21 sys\n"
     ]
    }
   ],
   "source": [
    "!$kypher -i all \\\n",
    "--match '(n1)-[:P31]->(:Q43229)' \\\n",
    "--return 'count(distinct n1)'"
   ]
  },
  {
   "cell_type": "markdown",
   "metadata": {},
   "source": [
    "Schwarzenegger films, may be incomplete as we need to use P279star, but we don't have those files yet"
   ]
  },
  {
   "cell_type": "code",
   "execution_count": 15,
   "metadata": {},
   "outputs": [
    {
     "name": "stdout",
     "output_type": "stream",
     "text": [
      "[2021-09-28 09:24:17 query]: SQL Translation:\n",
      "---------------------------------------------\n",
      "  SELECT DISTINCT graph_1_c1.\"node1\"\n",
      "     FROM graph_1 AS graph_1_c1\n",
      "     INNER JOIN graph_1 AS graph_1_c2\n",
      "     ON graph_1_c1.\"node1\" = graph_1_c2.\"node1\"\n",
      "        AND graph_1_c1.\"label\" = ?\n",
      "        AND graph_1_c1.\"node2\" = ?\n",
      "        AND graph_1_c2.\"label\" = ?\n",
      "        AND graph_1_c2.\"node2\" = ?\n",
      "  PARAS: ['P31', 'Q11424', 'P161', 'Q2685']\n",
      "---------------------------------------------\n",
      "node1\n",
      "Q15140437\n",
      "Q162255\n",
      "Q170564\n",
      "Q200804\n",
      "Q29054009\n",
      "Q309003\n",
      "Q39072454\n",
      "Q740516\n",
      "        1.52 real         0.93 user         0.24 sys\n"
     ]
    }
   ],
   "source": [
    "!$kypher -i all \\\n",
    "--match ' \\\n",
    "    (film)-[:P31]->(:Q11424), \\\n",
    "    (film)-[:P161]->(:Q2685)' \\\n",
    "--return 'distinct film' "
   ]
  },
  {
   "cell_type": "code",
   "execution_count": null,
   "metadata": {},
   "outputs": [],
   "source": []
  },
  {
   "cell_type": "code",
   "execution_count": null,
   "metadata": {},
   "outputs": [],
   "source": []
  },
  {
   "cell_type": "code",
   "execution_count": null,
   "metadata": {},
   "outputs": [],
   "source": []
  }
 ],
 "metadata": {
  "kernelspec": {
   "display_name": "kgtk-env",
   "language": "python",
   "name": "kgtk-env"
  },
  "language_info": {
   "codemirror_mode": {
    "name": "ipython",
    "version": 3
   },
   "file_extension": ".py",
   "mimetype": "text/x-python",
   "name": "python",
   "nbconvert_exporter": "python",
   "pygments_lexer": "ipython3",
   "version": "3.7.9"
  }
 },
 "nbformat": 4,
 "nbformat_minor": 4
}
