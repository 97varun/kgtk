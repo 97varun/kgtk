{
 "cells": [
  {
   "cell_type": "code",
   "execution_count": 1,
   "metadata": {},
   "outputs": [
    {
     "name": "stdout",
     "output_type": "stream",
     "text": [
      "User home: /Users/amandeep\n",
      "Current dir: /Users/amandeep/Github/kgtk/examples\n",
      "Use-cases dir: /Users/amandeep/Github/kgtk/use-cases\n"
     ]
    }
   ],
   "source": [
    "import io\n",
    "import os\n",
    "import subprocess\n",
    "import sys\n",
    "\n",
    "import numpy as np\n",
    "import pandas as pd\n",
    "\n",
    "from IPython.display import display, HTML\n",
    "\n",
    "import papermill as pm\n",
    "from configure_kgtk_notebooks import ConfigureKGTK"
   ]
  },
  {
   "cell_type": "code",
   "execution_count": 2,
   "metadata": {
    "tags": [
     "parameters"
    ]
   },
   "outputs": [],
   "source": [
    "# Parameters\n",
    "\n",
    "# Folder on local machine where to create the output and temporary folders\n",
    "input_path = \"/Users/amandeep/iswc-2021-tutorial\"\n",
    "output_path = \"/Users/amandeep/iswc-2021-tutorial\"\n",
    "project_name = \"arnold\"\n",
    "files = \"all,label\""
   ]
  },
  {
   "cell_type": "code",
   "execution_count": 3,
   "metadata": {},
   "outputs": [],
   "source": [
    "files = files.split(\",\")"
   ]
  },
  {
   "cell_type": "code",
   "execution_count": 4,
   "metadata": {},
   "outputs": [],
   "source": [
    "ck = ConfigureKGTK()\n",
    "ck.configure_kgtk(input_graph_path=input_path,\n",
    "                 output_path=output_path,\n",
    "                 project_name=project_name)"
   ]
  },
  {
   "cell_type": "code",
   "execution_count": 5,
   "metadata": {},
   "outputs": [
    {
     "name": "stdout",
     "output_type": "stream",
     "text": [
      "EXAMPLES_DIR: /Users/amandeep/Github/kgtk/examples\n",
      "USE_CASES_DIR: /Users/amandeep/Github/kgtk/use-cases\n",
      "GRAPH: /Users/amandeep/iswc-2021-tutorial\n",
      "OUT: /Users/amandeep/iswc-2021-tutorial/arnold\n",
      "TEMP: /Users/amandeep/iswc-2021-tutorial/arnold/temp.arnold\n",
      "STORE: /Users/amandeep/iswc-2021-tutorial/arnold/temp.arnold/wikidata.sqlite3.db\n",
      "kgtk: kgtk --debug\n",
      "kypher: kgtk --debug query --graph-cache /Users/amandeep/iswc-2021-tutorial/arnold/temp.arnold/wikidata.sqlite3.db\n",
      "all: /Users/amandeep/iswc-2021-tutorial/all.tsv.gz\n",
      "label: /Users/amandeep/iswc-2021-tutorial/labels.en.tsv.gz\n"
     ]
    }
   ],
   "source": [
    "ck.print_env_variables(files)"
   ]
  },
  {
   "cell_type": "code",
   "execution_count": 6,
   "metadata": {},
   "outputs": [
    {
     "name": "stdout",
     "output_type": "stream",
     "text": [
      "kgtk --debug query --graph-cache /Users/amandeep/iswc-2021-tutorial/arnold/temp.arnold/wikidata.sqlite3.db -i \"/Users/amandeep/iswc-2021-tutorial/all.tsv.gz\" --as all  -i \"/Users/amandeep/iswc-2021-tutorial/labels.en.tsv.gz\" --as label  --limit 3\n",
      "[2021-10-01 09:50:12 sqlstore]: IMPORT graph directly into table graph_1 from /Users/amandeep/iswc-2021-tutorial/all.tsv.gz ...\n",
      "[2021-10-01 09:50:20 sqlstore]: IMPORT graph directly into table graph_2 from /Users/amandeep/iswc-2021-tutorial/labels.en.tsv.gz ...\n",
      "[2021-10-01 09:50:20 query]: SQL Translation:\n",
      "---------------------------------------------\n",
      "  SELECT *\n",
      "     FROM graph_1 AS graph_1_c1\n",
      "     LIMIT ?\n",
      "  PARAS: [3]\n",
      "---------------------------------------------\n",
      "node1\tlabel\tnode2\tid\n",
      "P10\tP31\tQ18610173\tP10-P31-Q18610173-85ef4d24-0\n",
      "P1000\tP31\tQ18608871\tP1000-P31-Q18608871-093affb5-0\n",
      "P1001\tP1647\tP276\tP1001-P1647-P276-e4e44f83-0\n"
     ]
    }
   ],
   "source": [
    "ck.load_files_into_cache(file_list=files)"
   ]
  },
  {
   "cell_type": "code",
   "execution_count": 7,
   "metadata": {},
   "outputs": [],
   "source": [
    "os.environ['KGTK_LABEL_FILE'] = \"{}\".format(os.environ['label']) "
   ]
  },
  {
   "cell_type": "code",
   "execution_count": 8,
   "metadata": {},
   "outputs": [],
   "source": [
    "kypher = os.environ['kypher']\n",
    "kgtk = os.environ['kgtk']"
   ]
  },
  {
   "cell_type": "code",
   "execution_count": 9,
   "metadata": {},
   "outputs": [],
   "source": [
    "def kgtk_to_dataframe(kgtk):\n",
    "    columns = kgtk[0].split(\"\\t\")\n",
    "    data = []\n",
    "    for line in kgtk[1:]:\n",
    "        data.append(line.encode('utf-8').decode('utf-8').split(\"\\t\"))\n",
    "    return pd.DataFrame(data, columns=columns)    "
   ]
  },
  {
   "cell_type": "markdown",
   "metadata": {},
   "source": [
    "Define the shortcuts for Kypher"
   ]
  },
  {
   "cell_type": "raw",
   "metadata": {},
   "source": [
    "# Command to produce tables to put in the documentation\n",
    "!zcat < \"$OUT\"/derived.P131admin.tsv.gz | head -5000 | kgtk cat --every-nth-record 1000 | kgtk md"
   ]
  },
  {
   "cell_type": "markdown",
   "metadata": {},
   "source": [
    "# To Do\n",
    "- Do partition of the graph in to the usual Wikidata files\n",
    "- Compute the derived files"
   ]
  },
  {
   "cell_type": "markdown",
   "metadata": {},
   "source": [
    "# Explore The Arnold Schwarzenegger Graph `Q2685`\n",
    "\n"
   ]
  },
  {
   "cell_type": "code",
   "execution_count": 10,
   "metadata": {},
   "outputs": [
    {
     "name": "stdout",
     "output_type": "stream",
     "text": [
      "[2021-10-01 09:50:47 query]: SQL Translation:\n",
      "---------------------------------------------\n",
      "  SELECT count(DISTINCT graph_1_c1.\"node1\")\n",
      "     FROM graph_1 AS graph_1_c1\n",
      "     WHERE graph_1_c1.\"label\" = ?\n",
      "        AND graph_1_c1.\"node2\" = ?\n",
      "  PARAS: ['P31', 'Q5']\n",
      "---------------------------------------------\n",
      "[2021-10-01 09:50:47 sqlstore]: CREATE INDEX on table graph_1 column label ...\n",
      "[2021-10-01 09:50:48 sqlstore]: ANALYZE INDEX on table graph_1 column label ...\n",
      "[2021-10-01 09:50:48 sqlstore]: CREATE INDEX on table graph_1 column node2 ...\n",
      "[2021-10-01 09:50:50 sqlstore]: ANALYZE INDEX on table graph_1 column node2 ...\n",
      "count(DISTINCT graph_1_c1.\"node1\")\n",
      "10918\n"
     ]
    }
   ],
   "source": [
    "!$kypher -i all \\\n",
    "--match '(n1)-[:P31]->(:Q5)' \\\n",
    "--return 'count(distinct n1)'"
   ]
  },
  {
   "cell_type": "markdown",
   "metadata": {},
   "source": [
    "Count organizations"
   ]
  },
  {
   "cell_type": "markdown",
   "metadata": {},
   "source": [
    "Number of edges in the graph (not counting qualifier edges)"
   ]
  },
  {
   "cell_type": "code",
   "execution_count": 11,
   "metadata": {},
   "outputs": [
    {
     "name": "stdout",
     "output_type": "stream",
     "text": [
      "[2021-10-01 09:50:53 query]: SQL Translation:\n",
      "---------------------------------------------\n",
      "  SELECT count(DISTINCT graph_1_c1.\"id\")\n",
      "     FROM graph_1 AS graph_1_c1\n",
      "  PARAS: []\n",
      "---------------------------------------------\n",
      "count(DISTINCT graph_1_c1.\"id\")\n",
      "1523735\n"
     ]
    }
   ],
   "source": [
    "!$kypher -i all \\\n",
    "--match '()-[l]->()' \\\n",
    "--return 'count(distinct l)'"
   ]
  },
  {
   "cell_type": "markdown",
   "metadata": {},
   "source": [
    "Count the number of qualifier edges"
   ]
  },
  {
   "cell_type": "code",
   "execution_count": 12,
   "metadata": {},
   "outputs": [
    {
     "name": "stdout",
     "output_type": "stream",
     "text": [
      "[2021-10-01 09:50:57 query]: SQL Translation:\n",
      "---------------------------------------------\n",
      "  SELECT count(DISTINCT graph_1_c2.\"id\")\n",
      "     FROM graph_1 AS graph_1_c1\n",
      "     INNER JOIN graph_1 AS graph_1_c2\n",
      "     ON graph_1_c1.\"id\" = graph_1_c2.\"node1\"\n",
      "  PARAS: []\n",
      "---------------------------------------------\n",
      "[2021-10-01 09:50:57 sqlstore]: CREATE INDEX on table graph_1 column node1 ...\n",
      "[2021-10-01 09:50:58 sqlstore]: ANALYZE INDEX on table graph_1 column node1 ...\n",
      "[2021-10-01 09:50:58 sqlstore]: CREATE INDEX on table graph_1 column id ...\n",
      "[2021-10-01 09:51:00 sqlstore]: ANALYZE INDEX on table graph_1 column id ...\n",
      "count(DISTINCT graph_1_c2.\"id\")\n",
      "270275\n"
     ]
    }
   ],
   "source": [
    "!$kypher -i all \\\n",
    "--match '()-[l]->(), (l)-[q]->()' \\\n",
    "--return 'count(distinct q)'"
   ]
  },
  {
   "cell_type": "code",
   "execution_count": 13,
   "metadata": {},
   "outputs": [
    {
     "name": "stdout",
     "output_type": "stream",
     "text": [
      "[2021-10-01 09:51:02 query]: SQL Translation:\n",
      "---------------------------------------------\n",
      "  SELECT count(DISTINCT graph_1_c1.\"node1\")\n",
      "     FROM graph_1 AS graph_1_c1\n",
      "     WHERE graph_1_c1.\"label\" = ?\n",
      "        AND graph_1_c1.\"node2\" = ?\n",
      "  PARAS: ['P31', 'Q43229']\n",
      "---------------------------------------------\n",
      "count(DISTINCT graph_1_c1.\"node1\")\n",
      "206\n"
     ]
    }
   ],
   "source": [
    "!$kypher -i all \\\n",
    "--match '(n1)-[:P31]->(:Q43229)' \\\n",
    "--return 'count(distinct n1)'"
   ]
  },
  {
   "cell_type": "markdown",
   "metadata": {},
   "source": [
    "Schwarzenegger films, may be incomplete as we need to use P279star, but we don't have those files yet"
   ]
  },
  {
   "cell_type": "code",
   "execution_count": 14,
   "metadata": {},
   "outputs": [
    {
     "data": {
      "text/html": [
       "[2021-10-01 09:51:05 query]: SQL Translation: ---------------------------------------------   SELECT DISTINCT graph_1_c1.\"node1\" \"_aLias.id\"      FROM graph_1 AS graph_1_c1      WHERE graph_1_c1.\"label\" = ?         AND graph_1_c1.\"node2\" = ?   PARAS: ['P161', 'Q2685'] --------------------------------------------- <!DOCTYPE html><html lang=\"en\"><head><meta charset=\"utf-8\"><style>table, th, td {border: 1px solid black;border-collapse: collapse;}</style></head><body><table><tr><th>id</th><th>id;label</th></tr><tr><td>Q110397</td><td>&#x27;True Lies&#x27;@en</td></tr><tr><td>Q15140437</td><td>&#x27;Terminator Genisys&#x27;@en</td></tr><tr><td>Q162255</td><td>&#x27;The Terminator&#x27;@en</td></tr><tr><td>Q170564</td><td>&#x27;Terminator 2: Judgment Day&#x27;@en</td></tr><tr><td>Q200804</td><td>&#x27;Predator&#x27;@en</td></tr><tr><td>Q222018</td><td>&#x27;Total Recall&#x27;@en</td></tr><tr><td>Q2842976</td><td>&#x27;American Masters&#x27;@en</td></tr><tr><td>Q29054009</td><td>&#x27;Terminator 3: Rise of the Machines&#x27;@en</td></tr><tr><td>Q309003</td><td>&#x27;Conan the Barbarian&#x27;@en</td></tr><tr><td>Q370326</td><td>&#x27;Eraser&#x27;@en</td></tr><tr><td>Q39072454</td><td>&#x27;Terminator: Dark Fate&#x27;@en</td></tr><tr><td>Q728267</td><td>&#x27;T2-3D: Battle Across Time&#x27;@en</td></tr><tr><td>Q740516</td><td>&#x27;Conan the Destroyer&#x27;@en</td></tr><tr><td>Q858840</td><td>&#x27;Last Action Hero&#x27;@en</td></tr></table></body></html>"
      ],
      "text/plain": [
       "<IPython.core.display.HTML object>"
      ]
     },
     "metadata": {},
     "output_type": "display_data"
    }
   ],
   "source": [
    "h = !$kypher -i all \\\n",
    "--match ' \\\n",
    "    (film)-[:P161]->(:Q2685)' \\\n",
    "--return 'distinct film as id' \\\n",
    "/ add-labels / html\n",
    "\n",
    "display(HTML(\" \".join(h)))"
   ]
  },
  {
   "cell_type": "code",
   "execution_count": 15,
   "metadata": {},
   "outputs": [
    {
     "name": "stdout",
     "output_type": "stream",
     "text": [
      "[2021-10-01 09:51:07 query]: SQL Translation:\n",
      "---------------------------------------------\n",
      "  SELECT DISTINCT graph_1_c1.\"node1\" \"_aLias.id\"\n",
      "     FROM graph_1 AS graph_1_c1\n",
      "     WHERE graph_1_c1.\"label\" = ?\n",
      "        AND graph_1_c1.\"node2\" = ?\n",
      "  PARAS: ['P166', 'Q630018']\n",
      "---------------------------------------------\n",
      "id\tid;label\n",
      "Q11975\t'Britney Spears'@en\n",
      "Q162389\t'Tony Curtis'@en\n",
      "Q212648\t'Rudy Giuliani'@en\n",
      "Q214574\t'Jan Josef Liefers'@en\n",
      "Q221074\t'Bud Spencer'@en\n",
      "Q229760\t'Rita Ora'@en\n",
      "Q243430\t'Terence Hill'@en\n",
      "Q2685\t'Arnold Schwarzenegger'@en\n",
      "Q312674\t'Giorgio Moroder'@en\n",
      "Q342617\t'Ben Whishaw'@en\n",
      "Q450675\t'Francis'@en\n",
      "Q60863\t'Nadja Uhl'@en\n",
      "Q78766\t'Elyas M\\'Barek'@en\n"
     ]
    }
   ],
   "source": [
    "!$kypher -i all \\\n",
    "--match ' \\\n",
    "    (film)-[:P166]->(:Q630018)' \\\n",
    "--return 'distinct film as id' \\\n",
    "/ add-labels"
   ]
  },
  {
   "cell_type": "code",
   "execution_count": null,
   "metadata": {},
   "outputs": [],
   "source": []
  }
 ],
 "metadata": {
  "kernelspec": {
   "display_name": "kgtk-env",
   "language": "python",
   "name": "kgtk-env"
  },
  "language_info": {
   "codemirror_mode": {
    "name": "ipython",
    "version": 3
   },
   "file_extension": ".py",
   "mimetype": "text/x-python",
   "name": "python",
   "nbconvert_exporter": "python",
   "pygments_lexer": "ipython3",
   "version": "3.7.9"
  }
 },
 "nbformat": 4,
 "nbformat_minor": 4
}
