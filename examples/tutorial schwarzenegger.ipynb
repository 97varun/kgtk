{
 "cells": [
  {
   "cell_type": "code",
   "execution_count": 1,
   "metadata": {
    "tags": [
     "parameters"
    ]
   },
   "outputs": [],
   "source": [
    "# Parameters\n",
    "\n",
    "# Folder on local machine where to create the output and temporary folders\n",
    "output_path = \"/Users/pedroszekely/Downloads/kypher\"\n",
    "\n",
    "# The names of the output and temporary folders\n",
    "output_folder = \"schwarzenegger\"\n",
    "temp_folder = \"temp.schwarzenegger\"\n",
    "\n",
    "data_folder = output_path + \"/\" + output_folder\n",
    "\n",
    "# Location of the cache database for kypher\n",
    "cache_path = \"/Users/pedroszekely/Downloads/kypher/temp.schwarzenegger\"\n",
    "\n",
    "# shortcuts to commands\n",
    "kgtk = \"time kgtk --debug\"\n",
    "# kgtk = \"kgtk --debug\""
   ]
  },
  {
   "cell_type": "code",
   "execution_count": 2,
   "metadata": {},
   "outputs": [],
   "source": [
    "import io\n",
    "import os\n",
    "import subprocess\n",
    "import sys\n",
    "\n",
    "import numpy as np\n",
    "import pandas as pd\n",
    "\n",
    "from IPython.display import display, HTML\n",
    "\n",
    "import papermill as pm"
   ]
  },
  {
   "cell_type": "code",
   "execution_count": 25,
   "metadata": {},
   "outputs": [
    {
     "name": "stdout",
     "output_type": "stream",
     "text": [
      "ALL: \"/Users/pedroszekely/Downloads/kypher/schwarzenegger/Q2685.graph.all.tsv.gz\"\n",
      "EXAMPLES_DIR: \"/Users/pedroszekely/Downloads/kypher\"\n",
      "KGTK_LABEL: \"/Users/pedroszekely/Downloads/kypher/schwarzenegger/Q2685.graph.label.tsv.gz\"\n",
      "OUT: \"/Users/pedroszekely/Downloads/kypher/schwarzenegger\"\n",
      "STORE: \"/Users/pedroszekely/Downloads/kypher/temp.schwarzenegger/wikidata.sqlite3.db\"\n",
      "TEMP: \"/Users/pedroszekely/Downloads/kypher/temp.schwarzenegger\"\n",
      "kgtk: \"time kgtk --debug\"\n",
      "kypher: \"time kgtk --debug query --graph-cache /Users/pedroszekely/Downloads/kypher/temp.schwarzenegger/wikidata.sqlite3.db\"\n"
     ]
    }
   ],
   "source": [
    "# The names of files in the KGTK Wikidata distirbution that we will use in this notebook.\n",
    "file_names = {\n",
    "    \"all\": \"Q2685.graph.all.tsv.gz\",\n",
    "}\n",
    "\n",
    "# We will define environment variables to hold the full paths to the files as we will use them in the shell commands\n",
    "kgtk_environment_variables = []\n",
    "\n",
    "for key, value in file_names.items():\n",
    "    variable = key.upper()\n",
    "    os.environ[variable] = data_folder + \"/\" + value\n",
    "    kgtk_environment_variables.append(variable)\n",
    "    \n",
    "# KGTK creates a SQLite database to index the knowledge graph.\n",
    "if cache_path:\n",
    "    os.environ['STORE'] = \"{}/wikidata.sqlite3.db\".format(cache_path)\n",
    "else:\n",
    "    os.environ['STORE'] = \"{}/{}/wikidata.sqlite3.db\".format(output_path, temp_folder)\n",
    "kgtk_environment_variables.append('STORE')\n",
    "\n",
    "# We will create many temporary files, so set up a folder for outputs and one for the temporary files.\n",
    "os.environ['TEMP'] = \"{}/{}\".format(output_path, temp_folder) \n",
    "os.environ['OUT'] = \"{}/{}\".format(output_path, output_folder) \n",
    "kgtk_environment_variables.append('TEMP')\n",
    "kgtk_environment_variables.append('OUT')\n",
    "\n",
    "os.environ['KGTK_LABEL_FILE'] = \"{}/{}\".format(os.environ['OUT'], \"Q2685.graph.label.tsv.gz\") \n",
    "kgtk_environment_variables.append('KGTK_LABEL')\n",
    "\n",
    "# Envronment variables with shortcuts to the commands we use often\n",
    "os.environ['kgtk'] = kgtk\n",
    "# Use for debugging, but careful as it causes import to dataframes to break\n",
    "os.environ['kypher'] = \"time kgtk --debug query --graph-cache \" + os.environ['STORE']\n",
    "# os.environ['kypher'] = \"time kgtk query --graph-cache \" + os.environ['STORE']\n",
    "#os.environ['kypher'] = \"kgtk query --graph-cache \" + os.environ['STORE']\n",
    "kgtk_environment_variables.append('kgtk')\n",
    "kgtk_environment_variables.append('kypher')\n",
    "\n",
    "# We'll save the current working directory so we can call into other example notebooks later\n",
    "os.environ[\"EXAMPLES_DIR\"] = os.getcwd()\n",
    "kgtk_environment_variables.append('EXAMPLES_DIR')\n",
    "\n",
    "kgtk_environment_variables.sort()\n",
    "for variable in kgtk_environment_variables:\n",
    "    print(\"{}: \\\"{}\\\"\".format(variable, os.environ[variable]))"
   ]
  },
  {
   "cell_type": "code",
   "execution_count": 4,
   "metadata": {},
   "outputs": [],
   "source": [
    "def kgtk_to_dataframe(kgtk):\n",
    "    columns = kgtk[0].split(\"\\t\")\n",
    "    data = []\n",
    "    for line in kgtk[1:]:\n",
    "        data.append(line.encode('utf-8').decode('utf-8').split(\"\\t\"))\n",
    "    return pd.DataFrame(data, columns=columns)    "
   ]
  },
  {
   "cell_type": "code",
   "execution_count": 5,
   "metadata": {},
   "outputs": [
    {
     "name": "stdout",
     "output_type": "stream",
     "text": [
      "/Users/pedroszekely/Downloads/kypher\n"
     ]
    }
   ],
   "source": [
    "%cd {output_path}"
   ]
  },
  {
   "cell_type": "markdown",
   "metadata": {},
   "source": [
    "Define the shortcuts for Kypher"
   ]
  },
  {
   "cell_type": "code",
   "execution_count": 6,
   "metadata": {},
   "outputs": [
    {
     "name": "stdout",
     "output_type": "stream",
     "text": [
      "[2021-09-28 12:13:50 sqlstore]: DROP graph data table graph_1 from all\n",
      "[2021-09-28 12:13:53 sqlstore]: IMPORT graph directly into table graph_1 from /Users/pedroszekely/Downloads/kypher/schwarzenegger/Q2685.graph.all.tsv.gz ...\n",
      "[2021-09-28 12:14:06 query]: SQL Translation:\n",
      "---------------------------------------------\n",
      "  SELECT *\n",
      "     FROM graph_1 AS graph_1_c1\n",
      "     LIMIT ?\n",
      "  PARAS: [3]\n",
      "---------------------------------------------\n",
      "node1\tlabel\tnode2\tid\n",
      "P10\tdatatype\tcommonsMedia\tP10-datatype\n",
      "P1000\tP31\tQ18608871\tP1000-P31-Q18608871-093affb5-0\n",
      "P1001\tP1647\tP276\tP1001-P1647-P276-e4e44f83-0\n",
      "       17.05 real        21.87 user         2.82 sys\n"
     ]
    }
   ],
   "source": [
    "!$kypher \\\n",
    "-i \"$ALL\" --as all \\\n",
    "--limit 3"
   ]
  },
  {
   "cell_type": "raw",
   "metadata": {},
   "source": [
    "# Command to produce tables to put in the documentation\n",
    "!zcat < \"$OUT\"/derived.P131admin.tsv.gz | head -5000 | kgtk cat --every-nth-record 1000 | kgtk md"
   ]
  },
  {
   "cell_type": "code",
   "execution_count": null,
   "metadata": {},
   "outputs": [],
   "source": []
  },
  {
   "cell_type": "markdown",
   "metadata": {},
   "source": [
    "# To Do\n",
    "- Do partition of the graph in to the usual Wikidata files\n",
    "- Compute the derived files"
   ]
  },
  {
   "cell_type": "code",
   "execution_count": null,
   "metadata": {},
   "outputs": [],
   "source": []
  },
  {
   "cell_type": "markdown",
   "metadata": {},
   "source": [
    "# Explore The Arnold Schwarzenegger Graph `Q2685`\n",
    "\n"
   ]
  },
  {
   "cell_type": "code",
   "execution_count": 7,
   "metadata": {},
   "outputs": [
    {
     "name": "stdout",
     "output_type": "stream",
     "text": [
      "[2021-09-28 12:14:07 query]: SQL Translation:\n",
      "---------------------------------------------\n",
      "  SELECT count(DISTINCT graph_1_c1.\"node1\")\n",
      "     FROM graph_1 AS graph_1_c1\n",
      "     WHERE graph_1_c1.\"label\" = ?\n",
      "        AND graph_1_c1.\"node2\" = ?\n",
      "  PARAS: ['P31', 'Q5']\n",
      "---------------------------------------------\n",
      "[2021-09-28 12:14:07 sqlstore]: CREATE INDEX on table graph_1 column label ...\n",
      "[2021-09-28 12:14:08 sqlstore]: ANALYZE INDEX on table graph_1 column label ...\n",
      "[2021-09-28 12:14:08 sqlstore]: CREATE INDEX on table graph_1 column node2 ...\n",
      "[2021-09-28 12:14:11 sqlstore]: ANALYZE INDEX on table graph_1 column node2 ...\n",
      "count(DISTINCT graph_1_c1.\"node1\")\n",
      "18446\n",
      "        4.82 real         4.15 user         0.58 sys\n"
     ]
    }
   ],
   "source": [
    "!$kypher -i all \\\n",
    "--match '(n1)-[:P31]->(:Q5)' \\\n",
    "--return 'count(distinct n1)'"
   ]
  },
  {
   "cell_type": "markdown",
   "metadata": {},
   "source": [
    "Count organizations"
   ]
  },
  {
   "cell_type": "markdown",
   "metadata": {},
   "source": [
    "Number of edges in the graph (not counting qualifier edges)"
   ]
  },
  {
   "cell_type": "code",
   "execution_count": 10,
   "metadata": {},
   "outputs": [
    {
     "name": "stdout",
     "output_type": "stream",
     "text": [
      "[2021-09-28 12:16:30 query]: SQL Translation:\n",
      "---------------------------------------------\n",
      "  SELECT count(DISTINCT graph_1_c1.\"id\")\n",
      "     FROM graph_1 AS graph_1_c1\n",
      "  PARAS: []\n",
      "---------------------------------------------\n",
      "count(DISTINCT graph_1_c1.\"id\")\n",
      "2421622\n",
      "        3.56 real         2.80 user         0.71 sys\n"
     ]
    }
   ],
   "source": [
    "!$kypher -i all \\\n",
    "--match '()-[l]->()' \\\n",
    "--return 'count(distinct l)'"
   ]
  },
  {
   "cell_type": "markdown",
   "metadata": {},
   "source": [
    "Count the number of qualifier edges"
   ]
  },
  {
   "cell_type": "code",
   "execution_count": 11,
   "metadata": {},
   "outputs": [
    {
     "name": "stdout",
     "output_type": "stream",
     "text": [
      "[2021-09-28 12:17:34 query]: SQL Translation:\n",
      "---------------------------------------------\n",
      "  SELECT count(DISTINCT graph_1_c2.\"id\")\n",
      "     FROM graph_1 AS graph_1_c1\n",
      "     INNER JOIN graph_1 AS graph_1_c2\n",
      "     ON graph_1_c1.\"id\" = graph_1_c2.\"node1\"\n",
      "  PARAS: []\n",
      "---------------------------------------------\n",
      "[2021-09-28 12:17:34 sqlstore]: CREATE INDEX on table graph_1 column id ...\n",
      "[2021-09-28 12:17:36 sqlstore]: ANALYZE INDEX on table graph_1 column id ...\n",
      "count(DISTINCT graph_1_c2.\"id\")\n",
      "630986\n",
      "        4.25 real         3.48 user         0.68 sys\n"
     ]
    }
   ],
   "source": [
    "!$kypher -i all \\\n",
    "--match '()-[l]->(), (l)-[q]->()' \\\n",
    "--return 'count(distinct q)'"
   ]
  },
  {
   "cell_type": "code",
   "execution_count": null,
   "metadata": {},
   "outputs": [],
   "source": []
  },
  {
   "cell_type": "code",
   "execution_count": 8,
   "metadata": {},
   "outputs": [
    {
     "name": "stdout",
     "output_type": "stream",
     "text": [
      "[2021-09-28 12:14:12 query]: SQL Translation:\n",
      "---------------------------------------------\n",
      "  SELECT count(DISTINCT graph_1_c1.\"node1\")\n",
      "     FROM graph_1 AS graph_1_c1\n",
      "     WHERE graph_1_c1.\"label\" = ?\n",
      "        AND graph_1_c1.\"node2\" = ?\n",
      "  PARAS: ['P31', 'Q43229']\n",
      "---------------------------------------------\n",
      "count(DISTINCT graph_1_c1.\"node1\")\n",
      "618\n",
      "        1.05 real         0.85 user         0.16 sys\n"
     ]
    }
   ],
   "source": [
    "!$kypher -i all \\\n",
    "--match '(n1)-[:P31]->(:Q43229)' \\\n",
    "--return 'count(distinct n1)'"
   ]
  },
  {
   "cell_type": "markdown",
   "metadata": {},
   "source": [
    "Schwarzenegger films, may be incomplete as we need to use P279star, but we don't have those files yet"
   ]
  },
  {
   "cell_type": "code",
   "execution_count": 40,
   "metadata": {},
   "outputs": [
    {
     "data": {
      "text/html": [
       "[2021-09-28 14:33:16 query]: SQL Translation: ---------------------------------------------   SELECT DISTINCT graph_1_c1.\"node1\" \"_aLias.id\"      FROM graph_1 AS graph_1_c1      WHERE graph_1_c1.\"label\" = ?         AND graph_1_c1.\"node2\" = ?   PARAS: ['P161', 'Q2685'] --------------------------------------------- <!DOCTYPE html> <html lang=\"en\"> <head> <meta charset=\"utf-8\"> <style> table, th, td { border: 1px solid black; border-collapse: collapse; } </style> </head> <body> <table> <tr> <th>id</th> <th>id;label</th> </tr> <tr> <td>Q15140437</td> <td>&#x27;Terminator Genisys&#x27;@en</td> </tr> <tr> <td>Q162255</td> <td>&#x27;The Terminator&#x27;@en</td> </tr> <tr> <td>Q170564</td> <td>&#x27;Terminator 2: Judgment Day&#x27;@en</td> </tr> <tr> <td>Q200804</td> <td>&#x27;Predator&#x27;@en</td> </tr> <tr> <td>Q29054009</td> <td>&#x27;Terminator 3: Rise of the Machines&#x27;@en</td> </tr> <tr> <td>Q309003</td> <td>&#x27;Conan the Barbarian&#x27;@en</td> </tr> <tr> <td>Q39072454</td> <td>&#x27;Terminator: Dark Fate&#x27;@en</td> </tr> <tr> <td>Q728267</td> <td>&#x27;T2-3D: Battle Across Time&#x27;@en</td> </tr> <tr> <td>Q740516</td> <td>&#x27;Conan the Destroyer&#x27;@en</td> </tr> <tr> <td>Q858840</td> <td>&#x27;Last Action Hero&#x27;@en</td> </tr> </table> </body> </html>         2.52 real         3.56 user         0.66 sys"
      ],
      "text/plain": [
       "<IPython.core.display.HTML object>"
      ]
     },
     "metadata": {},
     "output_type": "display_data"
    }
   ],
   "source": [
    "h = !$kypher -i all \\\n",
    "--match ' \\\n",
    "    (film)-[:P161]->(:Q2685)' \\\n",
    "--return 'distinct film as id' \\\n",
    "/ add-labels / html\n",
    "\n",
    "display(HTML(\" \".join(h)))"
   ]
  },
  {
   "cell_type": "code",
   "execution_count": null,
   "metadata": {},
   "outputs": [],
   "source": [
    "Q630018 Bambi Award"
   ]
  },
  {
   "cell_type": "code",
   "execution_count": 26,
   "metadata": {},
   "outputs": [
    {
     "name": "stdout",
     "output_type": "stream",
     "text": [
      "[2021-09-28 12:59:37 query]: SQL Translation:\n",
      "---------------------------------------------\n",
      "  SELECT DISTINCT graph_1_c1.\"node1\" \"_aLias.id\"\n",
      "     FROM graph_1 AS graph_1_c1\n",
      "     WHERE graph_1_c1.\"label\" = ?\n",
      "        AND graph_1_c1.\"node2\" = ?\n",
      "  PARAS: ['P166', 'Q630018']\n",
      "---------------------------------------------\n",
      "id\tid;label\n",
      "Q162389\t'Tony Curtis'@en\n",
      "Q212648\t'Rudy Giuliani'@en\n",
      "Q2685\t'Arnold Schwarzenegger'@en\n",
      "Q342617\t'Ben Whishaw'@en\n",
      "Q450675\t'Francis'@en\n",
      "Q66286\t'Rita Süssmuth'@en\n",
      "Q74268\t'Bernhard Vogel'@en\n",
      "        2.25 real         2.63 user         0.44 sys\n"
     ]
    }
   ],
   "source": [
    "!$kypher -i all \\\n",
    "--match ' \\\n",
    "    (film)-[:P166]->(:Q630018)' \\\n",
    "--return 'distinct film as id' \\\n",
    "/ add-labels"
   ]
  },
  {
   "cell_type": "code",
   "execution_count": null,
   "metadata": {},
   "outputs": [],
   "source": []
  }
 ],
 "metadata": {
  "kernelspec": {
   "display_name": "kgtk-env",
   "language": "python",
   "name": "kgtk-env"
  },
  "language_info": {
   "codemirror_mode": {
    "name": "ipython",
    "version": 3
   },
   "file_extension": ".py",
   "mimetype": "text/x-python",
   "name": "python",
   "nbconvert_exporter": "python",
   "pygments_lexer": "ipython3",
   "version": "3.7.9"
  }
 },
 "nbformat": 4,
 "nbformat_minor": 4
}
