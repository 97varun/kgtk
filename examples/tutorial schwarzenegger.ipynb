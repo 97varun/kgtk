{
 "cells": [
  {
   "cell_type": "code",
   "execution_count": 1,
   "metadata": {},
   "outputs": [
    {
     "name": "stdout",
     "output_type": "stream",
     "text": [
      "User home: /Users/pedroszekely\n",
      "Current dir: /Users/pedroszekely/Documents/GitHub/kgtk/examples\n",
      "Use-cases dir: /Users/pedroszekely/Documents/GitHub/kgtk/use-cases\n"
     ]
    }
   ],
   "source": [
    "import io\n",
    "import os\n",
    "import subprocess\n",
    "import sys\n",
    "\n",
    "import numpy as np\n",
    "import pandas as pd\n",
    "\n",
    "from IPython.display import display, HTML\n",
    "\n",
    "import papermill as pm\n",
    "from configure_kgtk_notebooks import ConfigureKGTK"
   ]
  },
  {
   "cell_type": "code",
   "execution_count": 8,
   "metadata": {
    "tags": [
     "parameters"
    ]
   },
   "outputs": [],
   "source": [
    "# Parameters\n",
    "\n",
    "# Folder on local machine where to create the output and temporary folders\n",
    "input_path = \"/Users/pedroszekely/Downloads/kypher/iswc/inputs\"\n",
    "output_path = \"/Users/pedroszekely/Downloads/kypher/iswc/ouptuts\"\n",
    "project_name = \"arnold\"\n",
    "files = \"all,label\""
   ]
  },
  {
   "cell_type": "code",
   "execution_count": 9,
   "metadata": {},
   "outputs": [],
   "source": [
    "files = files.split(\",\")"
   ]
  },
  {
   "cell_type": "code",
   "execution_count": 10,
   "metadata": {},
   "outputs": [],
   "source": [
    "ck = ConfigureKGTK()\n",
    "ck.configure_kgtk(input_graph_path=input_path,\n",
    "                  output_path=output_path,\n",
    "                  project_name=project_name)"
   ]
  },
  {
   "cell_type": "code",
   "execution_count": 11,
   "metadata": {},
   "outputs": [
    {
     "name": "stdout",
     "output_type": "stream",
     "text": [
      "EXAMPLES_DIR: /Users/pedroszekely/Documents/GitHub/kgtk/examples\n",
      "USE_CASES_DIR: /Users/pedroszekely/Documents/GitHub/kgtk/use-cases\n",
      "GRAPH: /Users/pedroszekely/Downloads/kypher/iswc/inputs\n",
      "OUT: /Users/pedroszekely/Downloads/kypher/iswc/ouptuts/arnold\n",
      "TEMP: /Users/pedroszekely/Downloads/kypher/iswc/ouptuts/arnold/temp.arnold\n",
      "STORE: /Users/pedroszekely/Downloads/kypher/iswc/ouptuts/arnold/temp.arnold/wikidata.sqlite3.db\n",
      "kgtk: kgtk --debug\n",
      "kypher: kgtk --debug query --graph-cache /Users/pedroszekely/Downloads/kypher/iswc/ouptuts/arnold/temp.arnold/wikidata.sqlite3.db\n",
      "GRAPH: /Users/pedroszekely/Downloads/kypher/iswc/inputs\n",
      "OUT: /Users/pedroszekely/Downloads/kypher/iswc/ouptuts/arnold\n",
      "TEMP: /Users/pedroszekely/Downloads/kypher/iswc/ouptuts/arnold/temp.arnold\n",
      "STORE: /Users/pedroszekely/Downloads/kypher/iswc/ouptuts/arnold/temp.arnold/wikidata.sqlite3.db\n",
      "kgtk: kgtk --debug\n",
      "kypher: kgtk --debug query --graph-cache /Users/pedroszekely/Downloads/kypher/iswc/ouptuts/arnold/temp.arnold/wikidata.sqlite3.db\n",
      "all: /Users/pedroszekely/Downloads/kypher/iswc/inputs/all.tsv.gz\n",
      "label: /Users/pedroszekely/Downloads/kypher/iswc/inputs/labels.en.tsv.gz\n"
     ]
    }
   ],
   "source": [
    "ck.print_env_variables(files)"
   ]
  },
  {
   "cell_type": "code",
   "execution_count": 12,
   "metadata": {},
   "outputs": [
    {
     "name": "stdout",
     "output_type": "stream",
     "text": [
      "kgtk --debug query --graph-cache /Users/pedroszekely/Downloads/kypher/iswc/ouptuts/arnold/temp.arnold/wikidata.sqlite3.db -i \"/Users/pedroszekely/Downloads/kypher/iswc/inputs/all.tsv.gz\" --as all  -i \"/Users/pedroszekely/Downloads/kypher/iswc/inputs/labels.en.tsv.gz\" --as label  --limit 3\n",
      "[2021-10-01 17:51:36 query]: SQL Translation:\n",
      "---------------------------------------------\n",
      "  SELECT *\n",
      "     FROM graph_1 AS graph_1_c1\n",
      "     LIMIT ?\n",
      "  PARAS: [3]\n",
      "---------------------------------------------\n",
      "node1\tlabel\tnode2\tid\n",
      "P10\tP31\tQ18610173\tP10-P31-Q18610173-85ef4d24-0\n",
      "P1000\tP31\tQ18608871\tP1000-P31-Q18608871-093affb5-0\n",
      "P1001\tP1647\tP276\tP1001-P1647-P276-e4e44f83-0\n"
     ]
    }
   ],
   "source": [
    "ck.load_files_into_cache(file_list=files)"
   ]
  },
  {
   "cell_type": "code",
   "execution_count": 13,
   "metadata": {},
   "outputs": [],
   "source": [
    "os.environ['KGTK_LABEL_FILE'] = \"{}\".format(os.environ['label']) "
   ]
  },
  {
   "cell_type": "code",
   "execution_count": 14,
   "metadata": {},
   "outputs": [],
   "source": [
    "os.environ['kypher'] = \"kgtk query --graph-cache /Users/pedroszekely/Downloads/kypher/iswc/ouptuts/arnold/temp.arnold/wikidata.sqlite3.db\""
   ]
  },
  {
   "cell_type": "markdown",
   "metadata": {},
   "source": [
    "# To Do\n",
    "- Do partition of the graph in to the usual Wikidata files\n",
    "- Compute the derived files"
   ]
  },
  {
   "cell_type": "markdown",
   "metadata": {},
   "source": [
    "# Explore The Arnold Schwarzenegger Graph `Q2685`\n",
    "\n"
   ]
  },
  {
   "cell_type": "markdown",
   "metadata": {},
   "source": [
    "Number of nodes in the graph"
   ]
  },
  {
   "cell_type": "code",
   "execution_count": 15,
   "metadata": {},
   "outputs": [
    {
     "name": "stdout",
     "output_type": "stream",
     "text": [
      "count(DISTINCT graph_1_c1.\"node1\")\n",
      "10918\n"
     ]
    }
   ],
   "source": [
    "!$kypher -i all \\\n",
    "--match '(n1)-[:P31]->(:Q5)' \\\n",
    "--return 'count(distinct n1)'"
   ]
  },
  {
   "cell_type": "markdown",
   "metadata": {},
   "source": [
    "Number of edges in the graph (not counting qualifier edges)"
   ]
  },
  {
   "cell_type": "code",
   "execution_count": 16,
   "metadata": {},
   "outputs": [
    {
     "name": "stdout",
     "output_type": "stream",
     "text": [
      "count(DISTINCT graph_1_c1.\"id\")\n",
      "1523735\n"
     ]
    }
   ],
   "source": [
    "!$kypher -i all \\\n",
    "--match '()-[l]->()' \\\n",
    "--return 'count(distinct l)'"
   ]
  },
  {
   "cell_type": "markdown",
   "metadata": {},
   "source": [
    "Number of qualifier edges"
   ]
  },
  {
   "cell_type": "code",
   "execution_count": 17,
   "metadata": {},
   "outputs": [
    {
     "name": "stdout",
     "output_type": "stream",
     "text": [
      "count(DISTINCT graph_1_c2.\"id\")\n",
      "270275\n"
     ]
    }
   ],
   "source": [
    "!$kypher -i all \\\n",
    "--match '()-[l]->(), (l)-[q]->()' \\\n",
    "--return 'count(distinct q)'"
   ]
  },
  {
   "cell_type": "markdown",
   "metadata": {},
   "source": [
    "Number of organizations (should be updated to use P279star)"
   ]
  },
  {
   "cell_type": "code",
   "execution_count": 18,
   "metadata": {},
   "outputs": [
    {
     "name": "stdout",
     "output_type": "stream",
     "text": [
      "count(DISTINCT graph_1_c1.\"node1\")\n",
      "206\n"
     ]
    }
   ],
   "source": [
    "!$kypher -i all \\\n",
    "--match '(n1)-[:P31]->(:Q43229)' \\\n",
    "--return 'count(distinct n1)'"
   ]
  },
  {
   "cell_type": "markdown",
   "metadata": {},
   "source": [
    "Films where Schwarzenegger is a cast member"
   ]
  },
  {
   "cell_type": "code",
   "execution_count": 19,
   "metadata": {},
   "outputs": [
    {
     "data": {
      "text/html": [
       "<!DOCTYPE html><html lang=\"en\"><head><meta charset=\"utf-8\"><style>table, th, td {border: 1px solid black;border-collapse: collapse;}</style></head><body><table><tr><th>id</th><th>id;label</th></tr><tr><td>Q110397</td><td>&#x27;True Lies&#x27;@en</td></tr><tr><td>Q15140437</td><td>&#x27;Terminator Genisys&#x27;@en</td></tr><tr><td>Q162255</td><td>&#x27;The Terminator&#x27;@en</td></tr><tr><td>Q170564</td><td>&#x27;Terminator 2: Judgment Day&#x27;@en</td></tr><tr><td>Q200804</td><td>&#x27;Predator&#x27;@en</td></tr><tr><td>Q222018</td><td>&#x27;Total Recall&#x27;@en</td></tr><tr><td>Q2842976</td><td>&#x27;American Masters&#x27;@en</td></tr><tr><td>Q29054009</td><td>&#x27;Terminator 3: Rise of the Machines&#x27;@en</td></tr><tr><td>Q309003</td><td>&#x27;Conan the Barbarian&#x27;@en</td></tr><tr><td>Q370326</td><td>&#x27;Eraser&#x27;@en</td></tr><tr><td>Q39072454</td><td>&#x27;Terminator: Dark Fate&#x27;@en</td></tr><tr><td>Q728267</td><td>&#x27;T2-3D: Battle Across Time&#x27;@en</td></tr><tr><td>Q740516</td><td>&#x27;Conan the Destroyer&#x27;@en</td></tr><tr><td>Q858840</td><td>&#x27;Last Action Hero&#x27;@en</td></tr></table></body></html>"
      ],
      "text/plain": [
       "<IPython.core.display.HTML object>"
      ]
     },
     "metadata": {},
     "output_type": "display_data"
    }
   ],
   "source": [
    "h = !$kypher -i all \\\n",
    "--match ' \\\n",
    "    (film)-[:P161]->(:Q2685)' \\\n",
    "--return 'distinct film as id' \\\n",
    "/ add-labels / html\n",
    "\n",
    "display(HTML(h[0]))"
   ]
  },
  {
   "cell_type": "markdown",
   "metadata": {},
   "source": [
    "People who won the Bambi Award"
   ]
  },
  {
   "cell_type": "code",
   "execution_count": 31,
   "metadata": {},
   "outputs": [
    {
     "data": {
      "text/html": [
       "<!DOCTYPE html><html lang=\"en\"><head><meta charset=\"utf-8\"><style>table, th, td {border: 1px solid black;border-collapse: collapse;}</style></head><body><table><tr><th>id</th><th>id;label</th></tr><tr><td>Q11975</td><td>&#x27;Britney Spears&#x27;@en</td></tr><tr><td>Q162389</td><td>&#x27;Tony Curtis&#x27;@en</td></tr><tr><td>Q212648</td><td>&#x27;Rudy Giuliani&#x27;@en</td></tr><tr><td>Q214574</td><td>&#x27;Jan Josef Liefers&#x27;@en</td></tr><tr><td>Q221074</td><td>&#x27;Bud Spencer&#x27;@en</td></tr><tr><td>Q229760</td><td>&#x27;Rita Ora&#x27;@en</td></tr><tr><td>Q243430</td><td>&#x27;Terence Hill&#x27;@en</td></tr><tr><td>Q2685</td><td>&#x27;Arnold Schwarzenegger&#x27;@en</td></tr><tr><td>Q312674</td><td>&#x27;Giorgio Moroder&#x27;@en</td></tr><tr><td>Q342617</td><td>&#x27;Ben Whishaw&#x27;@en</td></tr><tr><td>Q450675</td><td>&#x27;Francis&#x27;@en</td></tr><tr><td>Q60863</td><td>&#x27;Nadja Uhl&#x27;@en</td></tr><tr><td>Q78766</td><td>&#x27;Elyas M\\&#x27;Barek&#x27;@en</td></tr></table></body></html>"
      ],
      "text/plain": [
       "<IPython.core.display.HTML object>"
      ]
     },
     "metadata": {},
     "output_type": "display_data"
    },
    {
     "name": "stdout",
     "output_type": "stream",
     "text": [
      "CPU times: user 3.42 ms, sys: 9.32 ms, total: 12.7 ms\n",
      "Wall time: 1.15 s\n"
     ]
    }
   ],
   "source": [
    "%%time\n",
    "h = !$kypher -i all \\\n",
    "--match ' \\\n",
    "    (film)-[:P166]->(:Q630018)' \\\n",
    "--return 'distinct film as id' \\\n",
    "/ add-labels / html\n",
    "\n",
    "display(HTML(h[0]))"
   ]
  },
  {
   "cell_type": "markdown",
   "metadata": {},
   "source": [
    "Select the subgraph that contains item to item edges"
   ]
  },
  {
   "cell_type": "code",
   "execution_count": 15,
   "metadata": {},
   "outputs": [
    {
     "name": "stdout",
     "output_type": "stream",
     "text": [
      "[2021-10-01 17:24:31 query]: SQL Translation:\n",
      "---------------------------------------------\n",
      "  SELECT DISTINCT graph_1_c1.\"node1\" \"_aLias.node1\", graph_1_c2.\"node1\" \"_aLias.label\", graph_1_c1.\"node2\" \"_aLias.node2\", graph_1_c1.\"id\" \"_aLias.id\"\n",
      "     FROM graph_1 AS graph_1_c1\n",
      "     INNER JOIN graph_1 AS graph_1_c2\n",
      "     ON graph_1_c2.\"node1\" = graph_1_c1.\"label\"\n",
      "        AND graph_1_c1.\"label\" = graph_1_c2.\"node1\"\n",
      "        AND graph_1_c2.\"label\" = ?\n",
      "        AND graph_1_c2.\"node2\" = ?\n",
      "  PARAS: ['datatype', 'wikibase-item']\n",
      "---------------------------------------------\n",
      "CPU times: user 84.2 ms, sys: 34.2 ms, total: 118 ms\n",
      "Wall time: 7.69 s\n"
     ]
    }
   ],
   "source": [
    "%%time\n",
    "!$kypher -i all \\\n",
    "--match ' \\\n",
    "    (n1)-[r {label: property}]->(n2), \\\n",
    "    (property)-[l:datatype]->(:`wikibase-item`)' \\\n",
    "--return 'distinct n1 as node1, property as label, n2 as node2, r as id' \\\n",
    "-o \"$TEMP\"/item.edges.tsv.gz"
   ]
  },
  {
   "cell_type": "markdown",
   "metadata": {},
   "source": [
    "Compute network statistics"
   ]
  },
  {
   "cell_type": "code",
   "execution_count": 36,
   "metadata": {},
   "outputs": [
    {
     "name": "stdout",
     "output_type": "stream",
     "text": [
      "node1\tlabel\tnode2\tid\n",
      "P1001-P1855-Q11696-cdbf391b-0\tvertex_in_degree\t0\tP1001-P1855-Q11696-cdbf391b-0-vertex_in_degree-0\n",
      "P1001-P1855-Q11696-cdbf391b-0\tvertex_out_degree\t1\tP1001-P1855-Q11696-cdbf391b-0-vertex_out_degree-1\n",
      "CPU times: user 188 ms, sys: 73.5 ms, total: 261 ms\n",
      "Wall time: 16.8 s\n"
     ]
    }
   ],
   "source": [
    "%%time\n",
    "!$kgtk graph-statistics -i \"$TEMP\"/item.edges.tsv.gz \\\n",
    "--pagerank True \\\n",
    "--hits False \\\n",
    "--degrees False \\\n",
    "--undirected True \\\n",
    "--page-rank-property Ppagerank \\\n",
    "--statistics-only True \\\n",
    "-o \"$TEMP\"/pagerank.tsv.gz\n",
    "\n",
    "!$kypher -i \"$TEMP\"/pagerank.tsv.gz --as pagerank --limit 2"
   ]
  },
  {
   "cell_type": "code",
   "execution_count": 37,
   "metadata": {},
   "outputs": [
    {
     "name": "stdout",
     "output_type": "stream",
     "text": [
      "node1\tlabel\tnode2\tid\n",
      "P1001-P1855-Q11696-cdbf391b-0\tPindegree\t0\tP1001-P1855-Q11696-cdbf391b-0-Pindegree-0\n",
      "P1001-P1855-Q11696-cdbf391b-0\tPoutdegree\t1\tP1001-P1855-Q11696-cdbf391b-0-Poutdegree-1\n",
      "CPU times: user 161 ms, sys: 65.2 ms, total: 227 ms\n",
      "Wall time: 14.7 s\n"
     ]
    }
   ],
   "source": [
    "%%time\n",
    "!$kgtk graph-statistics -i \"$TEMP\"/item.edges.tsv.gz \\\n",
    "--pagerank False \\\n",
    "--hits False \\\n",
    "--degrees True \\\n",
    "--undirected False \\\n",
    "--vertex-in-degree-property Pindegree \\\n",
    "--vertex-out-degree-property Poutdegree \\\n",
    "--statistics-only True \\\n",
    "-o \"$TEMP\"/degrees.tsv.gz\n",
    "\n",
    "!$kypher -i \"$TEMP\"/degrees.tsv.gz --as degrees --limit 2"
   ]
  },
  {
   "cell_type": "code",
   "execution_count": 41,
   "metadata": {},
   "outputs": [
    {
     "data": {
      "text/html": [
       "<!DOCTYPE html><html lang=\"en\"><head><meta charset=\"utf-8\"><style>table, th, td {border: 1px solid black;border-collapse: collapse;}</style></head><body><table><tr><th>node1</th><th>label</th><th>node2</th><th>node1;label</th></tr><tr><td>Q40026</td><td>Ppagerank</td><td>8.895744855562736e-05</td><td>&#x27;Sylvester Stallone&#x27;@en</td></tr><tr><td>Q55245</td><td>Ppagerank</td><td>8.60081254522788e-05</td><td>&#x27;Laurence Olivier&#x27;@en</td></tr><tr><td>Q42574</td><td>Ppagerank</td><td>8.053169474528737e-05</td><td>&#x27;James Cameron&#x27;@en</td></tr><tr><td>Q76</td><td>Ppagerank</td><td>7.859729524225644e-05</td><td>&#x27;Barack Obama&#x27;@en</td></tr><tr><td>Q2263</td><td>Ppagerank</td><td>7.455667246613304e-05</td><td>&#x27;Tom Hanks&#x27;@en</td></tr><tr><td>Q22686</td><td>Ppagerank</td><td>7.389881122758954e-05</td><td>&#x27;Donald Trump&#x27;@en</td></tr><tr><td>Q43203</td><td>Ppagerank</td><td>6.922374438747931e-05</td><td>&#x27;Clint Eastwood&#x27;@en</td></tr><tr><td>Q65932</td><td>Ppagerank</td><td>6.83331169060919e-05</td><td>&#x27;Anthony Hopkins&#x27;@en</td></tr><tr><td>Q35332</td><td>Ppagerank</td><td>6.772067757039425e-05</td><td>&#x27;Brad Pitt&#x27;@en</td></tr><tr><td>Q7542</td><td>Ppagerank</td><td>6.675128769339656e-05</td><td>&#x27;Prince&#x27;@en</td></tr></table></body></html>"
      ],
      "text/plain": [
       "<IPython.core.display.HTML object>"
      ]
     },
     "metadata": {},
     "output_type": "display_data"
    },
    {
     "name": "stdout",
     "output_type": "stream",
     "text": [
      "CPU times: user 3.59 ms, sys: 8.84 ms, total: 12.4 ms\n",
      "Wall time: 1.63 s\n"
     ]
    }
   ],
   "source": [
    "%%time\n",
    "h=!$kypher -i all -i pagerank \\\n",
    "--match ' \\\n",
    "    all: (:Q5)<-[:P31]-(n1), \\\n",
    "    pagerank: (n1)-[l:Ppagerank]->(pagerank)' \\\n",
    "--return 'n1 as node1, l.label as label, pagerank as node2' \\\n",
    "--order-by 'cast(pagerank, float) desc' \\\n",
    "--limit 10 \\\n",
    "/ add-labels / html\n",
    "\n",
    "display(HTML(h[0]))"
   ]
  },
  {
   "cell_type": "code",
   "execution_count": 43,
   "metadata": {},
   "outputs": [
    {
     "data": {
      "text/html": [
       "<!DOCTYPE html><html lang=\"en\"><head><meta charset=\"utf-8\"><style>table, th, td {border: 1px solid black;border-collapse: collapse;}</style></head><body><table><tr><th>node1</th><th>label</th><th>node2</th><th>id</th><th>node1;label</th></tr><tr><td>Q2685</td><td>Ppagerank</td><td>5.8866752866196186e-05</td><td>Q2685-Ppagerank-7847</td><td>&#x27;Arnold Schwarzenegger&#x27;@en</td></tr></table></body></html>"
      ],
      "text/plain": [
       "<IPython.core.display.HTML object>"
      ]
     },
     "metadata": {},
     "output_type": "display_data"
    }
   ],
   "source": [
    "h=!$kypher -i pagerank \\\n",
    "--match '(n1:Q2685)-[l:Ppagerank]->(pagerank)' \\\n",
    "/ add-labels / html\n",
    "\n",
    "display(HTML(h[0]))"
   ]
  },
  {
   "cell_type": "markdown",
   "metadata": {},
   "source": [
    "In degree"
   ]
  },
  {
   "cell_type": "code",
   "execution_count": 45,
   "metadata": {},
   "outputs": [
    {
     "data": {
      "text/html": [
       "<!DOCTYPE html><html lang=\"en\"><head><meta charset=\"utf-8\"><style>table, th, td {border: 1px solid black;border-collapse: collapse;}</style></head><body><table><tr><th>node1</th><th>label</th><th>node2</th><th>node1;label</th></tr><tr><td>Q791801</td><td>Pindegree</td><td>16962</td><td>&#x27;estimation process&#x27;@en</td></tr><tr><td>Q30</td><td>Pindegree</td><td>13437</td><td>&#x27;United States of America&#x27;@en</td></tr><tr><td>Q5</td><td>Pindegree</td><td>10967</td><td>&#x27;human&#x27;@en</td></tr><tr><td>Q6581097</td><td>Pindegree</td><td>7193</td><td>&#x27;male&#x27;@en</td></tr><tr><td>Q39825</td><td>Pindegree</td><td>7177</td><td>&#x27;census&#x27;@en</td></tr><tr><td>Q1860</td><td>Pindegree</td><td>6899</td><td>&#x27;English&#x27;@en</td></tr><tr><td>Q15911027</td><td>Pindegree</td><td>3824</td><td>&#x27;demographic balance&#x27;@en</td></tr><tr><td>Q15221623</td><td>Pindegree</td><td>3178</td><td>&#x27;bilateral relation&#x27;@en</td></tr><tr><td>Q183</td><td>Pindegree</td><td>2984</td><td>&#x27;Germany&#x27;@en</td></tr><tr><td>Q28378282</td><td>Pindegree</td><td>2674</td><td>&#x27;verified account&#x27;@en</td></tr></table></body></html>"
      ],
      "text/plain": [
       "<IPython.core.display.HTML object>"
      ]
     },
     "metadata": {},
     "output_type": "display_data"
    },
    {
     "name": "stdout",
     "output_type": "stream",
     "text": [
      "CPU times: user 4.02 ms, sys: 10.1 ms, total: 14.1 ms\n",
      "Wall time: 1.32 s\n"
     ]
    }
   ],
   "source": [
    "%%time\n",
    "h=!$kypher -i all -i degrees \\\n",
    "--match ' \\\n",
    "    degrees: (n1)-[l:Pindegree]->(degree)' \\\n",
    "--return 'n1 as node1, l.label as label, degree as node2' \\\n",
    "--order-by 'cast(degree, int) desc' \\\n",
    "--limit 10 \\\n",
    "/ add-labels / html\n",
    "\n",
    "display(HTML(h[0]))"
   ]
  },
  {
   "cell_type": "markdown",
   "metadata": {},
   "source": [
    "Out degree"
   ]
  },
  {
   "cell_type": "code",
   "execution_count": 46,
   "metadata": {},
   "outputs": [
    {
     "data": {
      "text/html": [
       "<!DOCTYPE html><html lang=\"en\"><head><meta charset=\"utf-8\"><style>table, th, td {border: 1px solid black;border-collapse: collapse;}</style></head><body><table><tr><th>node1</th><th>label</th><th>node2</th><th>node1;label</th></tr><tr><td>Q30</td><td>Poutdegree</td><td>765</td><td>&#x27;United States of America&#x27;@en</td></tr><tr><td>Q97</td><td>Poutdegree</td><td>614</td><td>&#x27;Atlantic Ocean&#x27;@en</td></tr><tr><td>Q668</td><td>Poutdegree</td><td>520</td><td>&#x27;India&#x27;@en</td></tr><tr><td>Q98</td><td>Poutdegree</td><td>424</td><td>&#x27;Pacific Ocean&#x27;@en</td></tr><tr><td>Q159</td><td>Poutdegree</td><td>371</td><td>&#x27;Russia&#x27;@en</td></tr><tr><td>Q183</td><td>Poutdegree</td><td>366</td><td>&#x27;Germany&#x27;@en</td></tr><tr><td>Q38</td><td>Poutdegree</td><td>313</td><td>&#x27;Italy&#x27;@en</td></tr><tr><td>Q408</td><td>Poutdegree</td><td>304</td><td>&#x27;Australia&#x27;@en</td></tr><tr><td>Q215</td><td>Poutdegree</td><td>303</td><td>&#x27;Slovenia&#x27;@en</td></tr><tr><td>Q142</td><td>Poutdegree</td><td>297</td><td>&#x27;France&#x27;@en</td></tr></table></body></html>"
      ],
      "text/plain": [
       "<IPython.core.display.HTML object>"
      ]
     },
     "metadata": {},
     "output_type": "display_data"
    }
   ],
   "source": [
    "h=!$kypher -i all -i degrees \\\n",
    "--match ' \\\n",
    "    degrees: (n1)-[l:Poutdegree]->(degree)' \\\n",
    "--return 'n1 as node1, l.label as label, degree as node2' \\\n",
    "--order-by 'cast(degree, int) desc' \\\n",
    "--limit 10 \\\n",
    "/ add-labels / html\n",
    "\n",
    "display(HTML(h[0]))"
   ]
  },
  {
   "cell_type": "code",
   "execution_count": null,
   "metadata": {},
   "outputs": [],
   "source": []
  },
  {
   "cell_type": "markdown",
   "metadata": {},
   "source": [
    "q-nodes with ULAN id, but without birth place"
   ]
  },
  {
   "cell_type": "code",
   "execution_count": 21,
   "metadata": {},
   "outputs": [
    {
     "name": "stdout",
     "output_type": "stream",
     "text": [
      "[2021-10-01 17:25:02 query]: SQL Translation:\n",
      "---------------------------------------------\n",
      "  SELECT count(DISTINCT graph_1_c1.\"node1\")\n",
      "     FROM graph_1 AS graph_1_c1\n",
      "     WHERE graph_1_c1.\"label\" = ?\n",
      "  PARAS: ['P245']\n",
      "---------------------------------------------\n",
      "count(DISTINCT graph_1_c1.\"node1\")\n",
      "431\n"
     ]
    }
   ],
   "source": [
    "!$kypher -i all \\\n",
    "--match '(n1)-[:P245]->(ulan_id)' \\\n",
    "--return 'count(distinct n1)'"
   ]
  },
  {
   "cell_type": "code",
   "execution_count": 22,
   "metadata": {},
   "outputs": [
    {
     "name": "stdout",
     "output_type": "stream",
     "text": [
      "[2021-10-01 17:25:03 query]: SQL Translation:\n",
      "---------------------------------------------\n",
      "  SELECT DISTINCT graph_1_c1.\"node1\" \"_aLias.node1\", graph_1_c1.\"label\" \"_aLias.label\", graph_1_c1.\"node2\" \"_aLias.node2\"\n",
      "     FROM graph_1 AS graph_1_c1\n",
      "     WHERE graph_1_c1.\"label\" = ?\n",
      "     LIMIT ?\n",
      "  PARAS: ['P245', 10]\n",
      "---------------------------------------------\n",
      "| node1     | label | node2       | node1;label                            | label;label                        |\n",
      "| --------- | ----- | ----------- | -------------------------------------- | ---------------------------------- |\n",
      "| Q100948   | P245  | \"500224955\" | 'Rachel Carson'@en                     | 'Union List of Artist Names ID'@en |\n",
      "| Q101771   | P245  | \"500281177\" | 'Gottfried Gruben'@en                  | 'Union List of Artist Names ID'@en |\n",
      "| Q101791   | P245  | \"500001235\" | 'Sep Ruf'@en                           | 'Union List of Artist Names ID'@en |\n",
      "| Q102139   | P245  | \"500256782\" | 'Margrethe II of Denmark'@en           | 'Union List of Artist Names ID'@en |\n",
      "| Q1024362  | P245  | \"500302331\" | 'Spanish National Research Council'@en | 'Union List of Artist Names ID'@en |\n",
      "| Q1024426  | P245  | \"500286871\" | 'University of South Carolina'@en      | 'Union List of Artist Names ID'@en |\n",
      "| Q102711   | P245  | \"500114625\" | 'Dennis Hopper'@en                     | 'Union List of Artist Names ID'@en |\n",
      "| Q10288082 | P245  | \"500304375\" | 'Wildenstein & Company'@en             | 'Union List of Artist Names ID'@en |\n",
      "| Q103876   | P245  | \"500355461\" | 'Peter O\\'Toole'@en                    | 'Union List of Artist Names ID'@en |\n",
      "| Q1065     | P245  | \"500354403\" | 'United Nations'@en                    | 'Union List of Artist Names ID'@en |\n"
     ]
    }
   ],
   "source": [
    "!$kypher -i all \\\n",
    "--match '(n1)-[l:P245]->(ulan_id)' \\\n",
    "--return 'distinct n1 as node1, l.label as label, ulan_id as node2' \\\n",
    "--limit 10 \\\n",
    "/ add-labels / table"
   ]
  },
  {
   "cell_type": "markdown",
   "metadata": {},
   "source": [
    "P19: place of birth"
   ]
  },
  {
   "cell_type": "code",
   "execution_count": 23,
   "metadata": {},
   "outputs": [
    {
     "name": "stdout",
     "output_type": "stream",
     "text": [
      "[2021-10-01 17:25:03 query]: SQL Translation:\n",
      "---------------------------------------------\n",
      "  SELECT count(DISTINCT graph_1_c1.\"node1\")\n",
      "     FROM graph_1 AS graph_1_c1\n",
      "     INNER JOIN graph_1 AS graph_1_c2\n",
      "     ON graph_1_c1.\"node1\" = graph_1_c2.\"node1\"\n",
      "        AND graph_1_c1.\"label\" = ?\n",
      "        AND graph_1_c2.\"label\" = ?\n",
      "  PARAS: ['P245', 'P19']\n",
      "---------------------------------------------\n",
      "count(DISTINCT graph_1_c1.\"node1\")\n",
      "143\n"
     ]
    }
   ],
   "source": [
    "!$kypher -i all \\\n",
    "--match '(n1)-[:P245]->(ulan_id), (n1)-[:P19]->()' \\\n",
    "--return 'count(distinct n1)'"
   ]
  },
  {
   "cell_type": "markdown",
   "metadata": {},
   "source": [
    "Sample of q-nodes that have ULAN ids, but don't have birth place"
   ]
  },
  {
   "cell_type": "code",
   "execution_count": 24,
   "metadata": {},
   "outputs": [
    {
     "name": "stdout",
     "output_type": "stream",
     "text": [
      "[2021-10-01 17:25:04 query]: SQL Translation:\n",
      "---------------------------------------------\n",
      "  SELECT DISTINCT graph_1_c1.\"node1\" \"_aLias.node1\"\n",
      "     FROM graph_1 AS graph_1_c1\n",
      "     LEFT JOIN graph_1 AS graph_1_c2\n",
      "     ON graph_1_c1.\"node1\" = graph_1_c2.\"node1\"\n",
      "        AND graph_1_c2.\"label\" = ?\n",
      "     WHERE graph_1_c1.\"label\" = ?\n",
      "        AND (graph_1_c2.\"node2\" IS NULL)\n",
      "     LIMIT ?\n",
      "  PARAS: ['P19', 'P245', 10]\n",
      "---------------------------------------------\n",
      "| node1     | node1;label                            |\n",
      "| --------- | -------------------------------------- |\n",
      "| Q100948   | 'Rachel Carson'@en                     |\n",
      "| Q102139   | 'Margrethe II of Denmark'@en           |\n",
      "| Q1024362  | 'Spanish National Research Council'@en |\n",
      "| Q1024426  | 'University of South Carolina'@en      |\n",
      "| Q102711   | 'Dennis Hopper'@en                     |\n",
      "| Q10288082 | 'Wildenstein & Company'@en             |\n",
      "| Q1065     | 'United Nations'@en                    |\n",
      "| Q1065414  | 'Vrije Universiteit Amsterdam'@en      |\n",
      "| Q1066442  | 'Charles Moore'@en                     |\n",
      "| Q1068072  | 'University of Delaware'@en            |\n"
     ]
    }
   ],
   "source": [
    "!$kypher -i all \\\n",
    "--match '(n1)-[:P245]->(ulan_id)' \\\n",
    "--opt '(n1)-[:P19]->(birth_place)' \\\n",
    "--where: 'birth_place is null' \\\n",
    "--return 'distinct n1 as node1' \\\n",
    "--limit 10 \\\n",
    "/ add-labels / table"
   ]
  },
  {
   "cell_type": "code",
   "execution_count": null,
   "metadata": {},
   "outputs": [],
   "source": []
  },
  {
   "cell_type": "markdown",
   "metadata": {},
   "source": [
    "q-nodes with ULAN id, but without birth date"
   ]
  },
  {
   "cell_type": "code",
   "execution_count": 25,
   "metadata": {},
   "outputs": [
    {
     "name": "stdout",
     "output_type": "stream",
     "text": [
      "[2021-10-01 17:25:05 query]: SQL Translation:\n",
      "---------------------------------------------\n",
      "  SELECT count(DISTINCT graph_1_c1.\"node1\")\n",
      "     FROM graph_1 AS graph_1_c1\n",
      "     INNER JOIN graph_1 AS graph_1_c2\n",
      "     ON graph_1_c1.\"node1\" = graph_1_c2.\"node1\"\n",
      "        AND graph_1_c1.\"label\" = ?\n",
      "        AND graph_1_c2.\"label\" = ?\n",
      "  PARAS: ['P245', 'P569']\n",
      "---------------------------------------------\n",
      "count(DISTINCT graph_1_c1.\"node1\")\n",
      "240\n"
     ]
    }
   ],
   "source": [
    "!$kypher -i all \\\n",
    "--match '(n1)-[:P245]->(ulan_id), (n1)-[:P569]->()' \\\n",
    "--return 'count(distinct n1)'"
   ]
  },
  {
   "cell_type": "markdown",
   "metadata": {},
   "source": [
    "Sample of q-nodes that have ULAN ids, but don't have birth date (P569)"
   ]
  },
  {
   "cell_type": "code",
   "execution_count": 26,
   "metadata": {},
   "outputs": [
    {
     "name": "stdout",
     "output_type": "stream",
     "text": [
      "[2021-10-01 17:25:06 query]: SQL Translation:\n",
      "---------------------------------------------\n",
      "  SELECT DISTINCT graph_1_c1.\"node1\" \"_aLias.node1\"\n",
      "     FROM graph_1 AS graph_1_c1\n",
      "     LEFT JOIN graph_1 AS graph_1_c2\n",
      "     ON graph_1_c1.\"node1\" = graph_1_c2.\"node1\"\n",
      "        AND graph_1_c2.\"label\" = ?\n",
      "     WHERE graph_1_c1.\"label\" = ?\n",
      "        AND (graph_1_c2.\"node2\" IS NULL)\n",
      "     LIMIT ?\n",
      "  PARAS: ['P19', 'P569', 10]\n",
      "---------------------------------------------\n",
      "| node1      | node1;label            |\n",
      "| ---------- | ---------------------- |\n",
      "| Q1000048   | 'Franz Zimmermann'@en  |\n",
      "| Q1001      | 'Mahatma Gandhi'@en    |\n",
      "| Q100494914 | 'Willi Kurt Roth'@en   |\n",
      "| Q100533268 | 'Laurie Sandell'@en    |\n",
      "| Q100741820 | 'James Biden'@en       |\n",
      "| Q100741824 | 'Francis Biden'@en     |\n",
      "| Q100749    | 'Clemens Fuest'@en     |\n",
      "| Q100948    | 'Rachel Carson'@en     |\n",
      "| Q1010297   | 'Burchard Brentjes'@en |\n",
      "| Q101268    | 'August Thiersch'@en   |\n"
     ]
    }
   ],
   "source": [
    "!$kypher -i all \\\n",
    "--match '(n1)-[:P569]->(ulan_id)' \\\n",
    "--opt '(n1)-[:P19]->(birth_place)' \\\n",
    "--where: 'birth_place is null' \\\n",
    "--return 'distinct n1 as node1' \\\n",
    "--limit 10 \\\n",
    "/ add-labels / table"
   ]
  },
  {
   "cell_type": "code",
   "execution_count": null,
   "metadata": {},
   "outputs": [],
   "source": []
  },
  {
   "cell_type": "code",
   "execution_count": 27,
   "metadata": {},
   "outputs": [
    {
     "name": "stdout",
     "output_type": "stream",
     "text": [
      "[2021-10-01 17:25:07 query]: SQL Translation:\n",
      "---------------------------------------------\n",
      "  SELECT DISTINCT graph_1_c1.\"node1\" \"_aLias.node\", graph_1_c1.\"label\" \"_aLias.label\", graph_1_c1.\"node2\" \"_aLias.node2\"\n",
      "     FROM graph_1 AS graph_1_c1\n",
      "     WHERE graph_1_c1.\"label\" = ?\n",
      "  PARAS: ['P245']\n",
      "---------------------------------------------\n"
     ]
    }
   ],
   "source": [
    "!$kypher -i all \\\n",
    "--match '(n1)-[l:P245]->(ulan_id)' \\\n",
    "--return 'distinct n1 as node, l.label as label, ulan_id as node2' \\\n",
    "-o \"$TEMP\"/ulan-qnodes.tsv"
   ]
  },
  {
   "cell_type": "code",
   "execution_count": null,
   "metadata": {},
   "outputs": [],
   "source": []
  },
  {
   "cell_type": "code",
   "execution_count": null,
   "metadata": {},
   "outputs": [],
   "source": []
  },
  {
   "cell_type": "code",
   "execution_count": 23,
   "metadata": {},
   "outputs": [
    {
     "name": "stdout",
     "output_type": "stream",
     "text": [
      "INFO:torchbiggraph:Loading entity counts...\n",
      "INFO:torchbiggraph:Creating workers...\n",
      "INFO:torchbiggraph:Initializing global model...\n",
      "INFO:torchbiggraph:Starting epoch 1 / 100, edge path 1 / 1, edge chunk 1 / 1\n",
      "INFO:torchbiggraph:Edge path: /tmp/output/edges_partitioned\n",
      "INFO:torchbiggraph:still in queue: 0\n",
      "INFO:torchbiggraph:Swapping partitioned embeddings None ( 0 , 0 )\n",
      "INFO:torchbiggraph:( 0 , 0 ): Loading entities\n",
      "Traceback (most recent call last):\n",
      "  File \"/Users/pedroszekely/opt/anaconda3/envs/kgtk-env/lib/python3.8/site-packages/kgtk/cli/graph_embeddings.py\", line 443, in run\n",
      "    train(config, subprocess_init=subprocess_init)\n",
      "  File \"/Users/pedroszekely/opt/anaconda3/envs/kgtk-env/lib/python3.8/site-packages/torchbiggraph/train.py\", line 938, in train\n",
      "    for _ in train_and_report_stats(config, model, trainer, evaluator, rank, subprocess_init):\n",
      "  File \"/Users/pedroszekely/opt/anaconda3/envs/kgtk-env/lib/python3.8/site-packages/torchbiggraph/train.py\", line 782, in train_and_report_stats\n",
      "    all_stats = get_async_result(future_all_stats, pool)\n",
      "  File \"/Users/pedroszekely/opt/anaconda3/envs/kgtk-env/lib/python3.8/site-packages/torchbiggraph/util.py\", line 243, in get_async_result\n",
      "    raise RuntimeError(\n",
      "RuntimeError: A subprocess exited unexpectedly with status -11\n",
      "\n",
      "During handling of the above exception, another exception occurred:\n",
      "\n",
      "Traceback (most recent call last):\n",
      "  File \"/Users/pedroszekely/opt/anaconda3/envs/kgtk-env/lib/python3.8/site-packages/kgtk/exceptions.py\", line 46, in __call__\n",
      "    return_code = func(*args, **kwargs) or 0\n",
      "  File \"/Users/pedroszekely/opt/anaconda3/envs/kgtk-env/lib/python3.8/site-packages/kgtk/cli/graph_embeddings.py\", line 483, in run\n",
      "    raise KGTKException(str(e))\n",
      "kgtk.exceptions.KGTKException: A subprocess exited unexpectedly with status -11\n",
      "A subprocess exited unexpectedly with status -11\n",
      "CPU times: user 616 ms, sys: 203 ms, total: 819 ms\n",
      "Wall time: 55.8 s\n"
     ]
    }
   ],
   "source": [
    "%%time\n",
    "!$kgtk --debug graph-embeddings -i \"$TEMP\"/item.edges.tsv.gz \\\n",
    "--dimension 20 \\\n",
    "--output_format kgtk \\\n",
    "-o \"$OUT\"/graph-embeddings.tsv.gz"
   ]
  },
  {
   "cell_type": "code",
   "execution_count": null,
   "metadata": {},
   "outputs": [],
   "source": []
  }
 ],
 "metadata": {
  "kernelspec": {
   "display_name": "kgtk-env",
   "language": "python",
   "name": "kgtk-env"
  },
  "language_info": {
   "codemirror_mode": {
    "name": "ipython",
    "version": 3
   },
   "file_extension": ".py",
   "mimetype": "text/x-python",
   "name": "python",
   "nbconvert_exporter": "python",
   "pygments_lexer": "ipython3",
   "version": "3.8.11"
  }
 },
 "nbformat": 4,
 "nbformat_minor": 4
}
