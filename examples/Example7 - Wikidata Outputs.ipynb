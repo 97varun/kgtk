{
 "cells": [
  {
   "cell_type": "markdown",
   "metadata": {},
   "source": [
    "# Generating Useful Wikidata Files"
   ]
  },
  {
   "cell_type": "code",
   "execution_count": 1,
   "metadata": {},
   "outputs": [],
   "source": [
    "import io\n",
    "import os\n",
    "\n",
    "import numpy as np\n",
    "import pandas as pd\n",
    "\n",
    "# from IPython.display import display, HTML, Image\n",
    "# from pandas_profiling import ProfileReport"
   ]
  },
  {
   "cell_type": "markdown",
   "metadata": {},
   "source": [
    "## Set up environment and folders to store the files\n",
    "\n",
    "- `WIKIDATA_HOME` folder where you put your Wikidata data\n",
    "- `OUT` folder where the output files go\n",
    "- `TEMP` folder to keep temporary files , including the database\n",
    "- `kgtk` shortcut to invoke the kgtk software\n",
    "- `compress` the compression software to use\n",
    "\n",
    "The current implementation of some of the kgtk commands does not understand compressed files. In particular, `query` often rejects `gz` files.\n",
    "\n",
    "To dos:\n",
    "\n",
    "- Make sure that all files have id columns as `query` gets unhappy when files have no ids.\n",
    "- Create an output folder for a subset of Wikidata without scholarly articles. This is half done: the remaining work is to subtract the scholarly articles from `EDGES` and repeat the workflow.\n",
    "- Change the naming convention to make it clear which files are a partition of the original `EDGES`, so users know what files they need to get to have a full version.\n",
    "- Create a qualifier file for the partition files of Wikidata: this is so that if a user gets one of the partitions, they can get the corresponding qualifier file.\n",
    "- Add pagerank and other stats. We can compute the pagerank from the `all.item` file, so maybe should be called `all.item.pagerank.tsv`\n",
    "\n",
    "Naming convention: the name `all` is redundant, we should consider removing it. I recomment using the prefix `part.` to name the partition of Wikidata, e.g., `part.label`, `part.quantity`. Files such as `P279` are not partitions as it is a subset of `part.item`.\n",
    "\n",
    "If we create a subset of Wikidata, e.g., no scholarly articles, we could call it `minus.Q13442814`; if we remove galaxies too, we could call it `minus.Q13442814-Q318`, so the files would be `minus.Q13442814-Q318.part.quantity.tsv` (the idea of `all` is in contrast to `minus`). We can also have files that start with Qnodes, e.g, `Q5.part.quantity.tsv`; constructing such files is harder as we don't want dangling nodes in the item file."
   ]
  },
  {
   "cell_type": "code",
   "execution_count": 2,
   "metadata": {},
   "outputs": [
    {
     "name": "stdout",
     "output_type": "stream",
     "text": [
      "env: WIKIDATA_HOME=/Users/pedroszekely/Downloads/kypher\n",
      "env: OUT=/Users/pedroszekely/Downloads/kypher/output\n",
      "env: TEMP=/Users/pedroszekely/Downloads/kypher/temp\n",
      "env: kgtk=time kgtk --debug\n",
      "env: compress=compress\n",
      "env: compress=cat\n"
     ]
    }
   ],
   "source": [
    "#home = %env HOME\n",
    "# supply home from command line\n",
    "# supply wiki_file from command line as well\n",
    "# f_path from command line\n",
    "%env WIKIDATA_HOME=$home/$f_path\n",
    "wikidata_home = %env WIKIDATA_HOME\n",
    "%env OUT = $wikidata_home/output\n",
    "%env TEMP = $wikidata_home/temp\n",
    "\n",
    "# Define $kgtk so that we can turn on and off the debugging options\n",
    "%env kgtk = time kgtk --debug\n",
    "#%env kgtk = kgtk\n",
    "%env compress = compress\n",
    "%env compress = cat"
   ]
  },
  {
   "cell_type": "code",
   "execution_count": 3,
   "metadata": {},
   "outputs": [
    {
     "name": "stdout",
     "output_type": "stream",
     "text": [
      "/Users/pedroszekely/Downloads/kypher\n"
     ]
    }
   ],
   "source": [
    "cd $wikidata_home"
   ]
  },
  {
   "cell_type": "code",
   "execution_count": 4,
   "metadata": {},
   "outputs": [
    {
     "name": "stdout",
     "output_type": "stream",
     "text": [
      "mkdir: output: File exists\n",
      "mkdir: temp: File exists\n"
     ]
    }
   ],
   "source": [
    "!mkdir output\n",
    "!mkdir temp"
   ]
  },
  {
   "cell_type": "markdown",
   "metadata": {},
   "source": [
    "Clean up the output and temp folders before we start"
   ]
  },
  {
   "cell_type": "code",
   "execution_count": 5,
   "metadata": {},
   "outputs": [
    {
     "name": "stdout",
     "output_type": "stream",
     "text": [
      "rm: /Users/pedroszekely/Downloads/kypher/temp/*.tsv: No such file or directory\n"
     ]
    }
   ],
   "source": [
    "!rm $OUT/*.tsv\n",
    "!rm $TEMP/*.tsv"
   ]
  },
  {
   "cell_type": "markdown",
   "metadata": {},
   "source": [
    "The `all` file contains 100M edges of the full dump, `all.10` contains 10M edges. This is for testing, as we should run on the full edges file."
   ]
  },
  {
   "cell_type": "code",
   "execution_count": 6,
   "metadata": {},
   "outputs": [
    {
     "name": "stdout",
     "output_type": "stream",
     "text": [
      "env: STORE=/Users/pedroszekely/Downloads/kypher/temp/wikidata.sqlite3.db\n",
      "env: EDGES=/Users/pedroszekely/Downloads/kypher/all.10.tsv\n",
      "env: EDGES=/Users/pedroszekely/Downloads/kypher/all.tsv\n"
     ]
    }
   ],
   "source": [
    "%env STORE=$wikidata_home/temp/wikidata.sqlite3.db\n",
    "# %env EDGES=$wikidata_home/all.10.tsv\n",
    "%env EDGES=$wikidata_home/$wiki_file\n",
    "\n",
    "#%env QUALS=$wikidata_home/wikidata-20200803-all-qualifiers.tsv.gz\n",
    "#%env LABELS=$wikidata_home/wikidata-20200803-all-labels-en-sorted.tsv.gz"
   ]
  },
  {
   "cell_type": "markdown",
   "metadata": {},
   "source": [
    "Uncomment the line below to remove the sqllite2 database. It takes a long time to load all the data and create indices, so don't remove the database unless you change files that have already been loaded and you need to force a reload."
   ]
  },
  {
   "cell_type": "code",
   "execution_count": 7,
   "metadata": {},
   "outputs": [],
   "source": [
    "#rm $TEMP/wikidata.sqlite3.db"
   ]
  },
  {
   "cell_type": "markdown",
   "metadata": {},
   "source": [
    "### Get a sample and force importing the edge file into the database"
   ]
  },
  {
   "cell_type": "code",
   "execution_count": 8,
   "metadata": {},
   "outputs": [
    {
     "name": "stdout",
     "output_type": "stream",
     "text": [
      "[2020-09-20 22:30:38 sqlstore]: IMPORT graph directly into table graph_1 from /Users/pedroszekely/Downloads/kypher/all.tsv ...\n",
      "[2020-09-20 22:42:49 query]: SQL Translation:\n",
      "---------------------------------------------\n",
      "  SELECT *\n",
      "     FROM graph_1 graph_1_c1\n",
      "     LIMIT ?\n",
      "  PARAS: [10]\n",
      "---------------------------------------------\n",
      "id\tnode1\tlabel\tnode2\trank\tnode2;magnitude\tnode2;unit\tnode2;date\tnode2;item\tnode2;lower\tnode2;upper\tnode2;latitude\tnode2;longitude\tnode2;precision\tnode2;calendar\tnode2;entity-type\tnode2;wikidatatype\n",
      "Q45-label-en\tQ45\tlabel\t'Portugal'@en\t\t\t\t\t\t\t\t\t\t\t\t\t\n",
      "Q45-label-fr\tQ45\tlabel\t'Portugal'@fr\t\t\t\t\t\t\t\t\t\t\t\t\t\n",
      "Q45-label-nb\tQ45\tlabel\t'Portugal'@nb\t\t\t\t\t\t\t\t\t\t\t\t\t\n",
      "Q45-label-it\tQ45\tlabel\t'Portogallo'@it\t\t\t\t\t\t\t\t\t\t\t\t\t\n",
      "Q45-label-ru\tQ45\tlabel\t'Португалия'@ru\t\t\t\t\t\t\t\t\t\t\t\t\t\n",
      "Q45-label-nl\tQ45\tlabel\t'Portugal'@nl\t\t\t\t\t\t\t\t\t\t\t\t\t\n",
      "Q45-label-es\tQ45\tlabel\t'Portugal'@es\t\t\t\t\t\t\t\t\t\t\t\t\t\n",
      "Q45-label-de\tQ45\tlabel\t'Portugal'@de\t\t\t\t\t\t\t\t\t\t\t\t\t\n",
      "Q45-label-pl\tQ45\tlabel\t'Portugalia'@pl\t\t\t\t\t\t\t\t\t\t\t\t\t\n",
      "Q45-label-be-tarask\tQ45\tlabel\t'Партугалія'@be-tarask\t\t\t\t\t\t\t\t\t\t\t\t\t\n",
      "      731.42 real      1197.28 user        28.62 sys\n"
     ]
    }
   ],
   "source": [
    "!$kgtk query -i $EDGES --limit 10 --graph-cache $STORE"
   ]
  },
  {
   "cell_type": "markdown",
   "metadata": {},
   "source": [
    "Force creation of the index on the label column"
   ]
  },
  {
   "cell_type": "code",
   "execution_count": 9,
   "metadata": {},
   "outputs": [
    {
     "name": "stdout",
     "output_type": "stream",
     "text": [
      "[2020-09-20 22:42:50 query]: SQL Translation:\n",
      "---------------------------------------------\n",
      "  SELECT *\n",
      "     FROM graph_1 graph_1_c1\n",
      "     WHERE graph_1_c1.\"label\"=?\n",
      "     LIMIT ?\n",
      "  PARAS: ['P31', 5]\n",
      "---------------------------------------------\n",
      "[2020-09-20 22:42:50 sqlstore]: CREATE INDEX on table graph_1 column label ...\n",
      "[2020-09-20 22:45:19 sqlstore]: ANALYZE INDEX on table graph_1 column label ...\n",
      "id\tnode1\tlabel\tnode2\trank\tnode2;magnitude\tnode2;unit\tnode2;date\tnode2;item\tnode2;lower\tnode2;upper\tnode2;latitude\tnode2;longitude\tnode2;precision\tnode2;calendar\tnode2;entity-type\tnode2;wikidatatype\n",
      "Q45-P31-1\tQ45\tP31\tQ3624078\tnormal\t\t\t\tQ3624078\t\t\t\t\t\t\titem\twikibase-item\n",
      "Q45-P31-2\tQ45\tP31\tQ6256\tnormal\t\t\t\tQ6256\t\t\t\t\t\t\titem\twikibase-item\n",
      "Q45-P31-3\tQ45\tP31\tQ20181813\tnormal\t\t\t\tQ20181813\t\t\t\t\t\t\titem\twikibase-item\n",
      "Q140-P31-1\tQ140\tP31\tQ16521\tnormal\t\t\t\tQ16521\t\t\t\t\t\t\titem\twikibase-item\n",
      "Q183-P31-1\tQ183\tP31\tQ3624078\tpreferred\t\t\t\tQ3624078\t\t\t\t\t\t\titem\twikibase-item\n",
      "      161.10 real        67.03 user        21.44 sys\n"
     ]
    }
   ],
   "source": [
    "!$kgtk query -i $EDGES --graph-cache $STORE -o - \\\n",
    "    --match '(i)-[:P31]->(c)' \\\n",
    "    --limit 5"
   ]
  },
  {
   "cell_type": "markdown",
   "metadata": {},
   "source": [
    "Force creation of the index on the node2 column"
   ]
  },
  {
   "cell_type": "code",
   "execution_count": 10,
   "metadata": {},
   "outputs": [
    {
     "name": "stdout",
     "output_type": "stream",
     "text": [
      "[2020-09-20 22:45:33 query]: SQL Translation:\n",
      "---------------------------------------------\n",
      "  SELECT *\n",
      "     FROM graph_1 graph_1_c1\n",
      "     WHERE graph_1_c1.\"node2\"=?\n",
      "     LIMIT ?\n",
      "  PARAS: ['Q5', 5]\n",
      "---------------------------------------------\n",
      "[2020-09-20 22:45:33 sqlstore]: CREATE INDEX on table graph_1 column node2 ...\n",
      "[2020-09-20 22:49:38 sqlstore]: ANALYZE INDEX on table graph_1 column node2 ...\n",
      "id\tnode1\tlabel\tnode2\trank\tnode2;magnitude\tnode2;unit\tnode2;date\tnode2;item\tnode2;lower\tnode2;upper\tnode2;latitude\tnode2;longitude\tnode2;precision\tnode2;calendar\tnode2;entity-type\tnode2;wikidatatype\n",
      "Q1253-P31-1\tQ1253\tP31\tQ5\tnormal\t\t\t\tQ5\t\t\t\t\t\t\titem\twikibase-item\n",
      "Q1526-P31-1\tQ1526\tP31\tQ5\tnormal\t\t\t\tQ5\t\t\t\t\t\t\titem\twikibase-item\n",
      "Q3794-P31-1\tQ3794\tP31\tQ5\tnormal\t\t\t\tQ5\t\t\t\t\t\t\titem\twikibase-item\n",
      "Q4291-P31-1\tQ4291\tP31\tQ5\tnormal\t\t\t\tQ5\t\t\t\t\t\t\titem\twikibase-item\n",
      "Q4489-P31-1\tQ4489\tP31\tQ5\tnormal\t\t\t\tQ5\t\t\t\t\t\t\titem\twikibase-item\n",
      "      263.21 real       102.59 user        35.79 sys\n"
     ]
    }
   ],
   "source": [
    "!$kgtk query -i $EDGES --graph-cache $STORE -o - \\\n",
    "    --match '(i)-[r]->(:Q5)' \\\n",
    "    --limit 5"
   ]
  },
  {
   "cell_type": "markdown",
   "metadata": {},
   "source": [
    "### Count the number of edges"
   ]
  },
  {
   "cell_type": "code",
   "execution_count": 11,
   "metadata": {},
   "outputs": [
    {
     "name": "stdout",
     "output_type": "stream",
     "text": [
      "[2020-09-20 22:49:54 query]: SQL Translation:\n",
      "---------------------------------------------\n",
      "  SELECT count(graph_1_c1.\"id\") \"count\"\n",
      "     FROM graph_1 graph_1_c1\n",
      "     LIMIT ?\n",
      "  PARAS: [10]\n",
      "---------------------------------------------\n",
      "count\n",
      "99999999\n",
      "       52.37 real         8.40 user         9.00 sys\n"
     ]
    }
   ],
   "source": [
    "!$kgtk query -i $EDGES --graph-cache $STORE \\\n",
    "    --match 'all: ()-[r]->()' \\\n",
    "    --return 'count(r) as count' \\\n",
    "    --limit 10"
   ]
  },
  {
   "cell_type": "markdown",
   "metadata": {},
   "source": [
    "### Get the distribution of the label column\n",
    "I would like to have it sorted numerically, but don't know how to make it happen"
   ]
  },
  {
   "cell_type": "code",
   "execution_count": 12,
   "metadata": {},
   "outputs": [
    {
     "name": "stdout",
     "output_type": "stream",
     "text": [
      "      326.64 real       320.87 user         5.13 sys\n"
     ]
    }
   ],
   "source": [
    "!$kgtk unique --column label -i $EDGES / sort2 -c node2 -r -o $OUT/all-distribution.tsv "
   ]
  },
  {
   "cell_type": "code",
   "execution_count": 13,
   "metadata": {},
   "outputs": [
    {
     "name": "stdout",
     "output_type": "stream",
     "text": [
      "node1  label  node2\n",
      "P814   count  999\n",
      "P18    count  99319\n",
      "P4342  count  991\n",
      "P687   count  990\n",
      "P6055  count  99\n",
      "P3884  count  99\n",
      "P169   count  99\n",
      "P1653  count  99\n",
      "P282   count  9858\n"
     ]
    }
   ],
   "source": [
    "!head $OUT/all-distribution.tsv | column -t -s $'\\t' "
   ]
  },
  {
   "cell_type": "markdown",
   "metadata": {},
   "source": [
    "### Compute files with labels, aliases and descriptions\n",
    "Return the id, node1, label and node2 columns"
   ]
  },
  {
   "cell_type": "code",
   "execution_count": 14,
   "metadata": {},
   "outputs": [
    {
     "name": "stdout",
     "output_type": "stream",
     "text": [
      "[2020-09-20 22:56:14 query]: SQL Translation:\n",
      "---------------------------------------------\n",
      "  SELECT graph_1_c1.\"id\", graph_1_c1.\"node1\", graph_1_c1.\"label\", graph_1_c1.\"node2\"\n",
      "     FROM graph_1 graph_1_c1\n",
      "     WHERE graph_1_c1.\"label\"=?\n",
      "  PARAS: ['label']\n",
      "---------------------------------------------\n",
      "      117.57 real        38.36 user        20.29 sys\n"
     ]
    }
   ],
   "source": [
    "!$kgtk query -i $EDGES --graph-cache $STORE -o - \\\n",
    "    --match '(n1)-[l:label]->(n2)' \\\n",
    "    --return 'l, n1, l.label, n2' \\\n",
    "    | $compress > $OUT/all.label.tsv"
   ]
  },
  {
   "cell_type": "code",
   "execution_count": 15,
   "metadata": {},
   "outputs": [
    {
     "name": "stdout",
     "output_type": "stream",
     "text": [
      "[2020-09-20 22:58:11 query]: SQL Translation:\n",
      "---------------------------------------------\n",
      "  SELECT graph_1_c1.\"id\", graph_1_c1.\"node1\", graph_1_c1.\"label\", graph_1_c1.\"node2\"\n",
      "     FROM graph_1 graph_1_c1\n",
      "     WHERE graph_1_c1.\"label\"=?\n",
      "  PARAS: ['alias']\n",
      "---------------------------------------------\n",
      "       20.87 real         7.68 user         2.70 sys\n"
     ]
    }
   ],
   "source": [
    "!$kgtk query -i $EDGES --graph-cache $STORE -o - \\\n",
    "    --match '(n1)-[l:alias]->(n2)' \\\n",
    "    --return 'l, n1, l.label, n2' \\\n",
    "    | $compress > $OUT/all.alias.tsv"
   ]
  },
  {
   "cell_type": "code",
   "execution_count": 16,
   "metadata": {},
   "outputs": [
    {
     "name": "stdout",
     "output_type": "stream",
     "text": [
      "[2020-09-20 22:58:32 query]: SQL Translation:\n",
      "---------------------------------------------\n",
      "  SELECT graph_1_c1.\"id\", graph_1_c1.\"node1\", graph_1_c1.\"label\", graph_1_c1.\"node2\"\n",
      "     FROM graph_1 graph_1_c1\n",
      "     WHERE graph_1_c1.\"label\"=?\n",
      "  PARAS: ['description']\n",
      "---------------------------------------------\n",
      "      318.41 real       194.71 user        28.51 sys\n"
     ]
    }
   ],
   "source": [
    "!$kgtk query -i $EDGES --graph-cache $STORE -o - \\\n",
    "    --match '(n1)-[l:description]->(n2)' \\\n",
    "    --return 'l, n1, l.label, n2' \\\n",
    "    | $compress > $OUT/all.description.tsv"
   ]
  },
  {
   "cell_type": "markdown",
   "metadata": {},
   "source": [
    "### Now create files with the English labels, aliases and descriptions"
   ]
  },
  {
   "cell_type": "code",
   "execution_count": 17,
   "metadata": {},
   "outputs": [
    {
     "name": "stdout",
     "output_type": "stream",
     "text": [
      "[2020-09-20 23:03:51 sqlstore]: IMPORT graph directly into table graph_2 from /Users/pedroszekely/Downloads/kypher/output/all.label.tsv ...\n",
      "[2020-09-20 23:04:50 query]: SQL Translation:\n",
      "---------------------------------------------\n",
      "  SELECT *\n",
      "     FROM graph_2 graph_2_c1\n",
      "     WHERE (kgtk_lqstring_lang(graph_2_c1.\"node2\") = ?)\n",
      "  PARAS: ['en']\n",
      "---------------------------------------------\n",
      "       83.68 real       114.10 user         3.45 sys\n"
     ]
    }
   ],
   "source": [
    "!$kgtk query -i $OUT/all.label.tsv --graph-cache $STORE -o - \\\n",
    "    --match '()-[]->(n2)' \\\n",
    "    --where 'n2.kgtk_lqstring_lang = \"en\"' \\\n",
    "    | kgtk sort2 \\\n",
    "    | $compress > $OUT/all.label.en.tsv"
   ]
  },
  {
   "cell_type": "code",
   "execution_count": 18,
   "metadata": {},
   "outputs": [
    {
     "name": "stdout",
     "output_type": "stream",
     "text": [
      "[2020-09-20 23:05:16 sqlstore]: IMPORT graph directly into table graph_3 from /Users/pedroszekely/Downloads/kypher/output/all.alias.tsv ...\n",
      "[2020-09-20 23:05:26 query]: SQL Translation:\n",
      "---------------------------------------------\n",
      "  SELECT *\n",
      "     FROM graph_3 graph_3_c1\n",
      "     WHERE (kgtk_lqstring_lang(graph_3_c1.\"node2\") = ?)\n",
      "  PARAS: ['en']\n",
      "---------------------------------------------\n",
      "       14.72 real        20.29 user         0.65 sys\n"
     ]
    }
   ],
   "source": [
    "!$kgtk query -i $OUT/all.alias.tsv --graph-cache $STORE -o - \\\n",
    "    --match '()-[]->(n2)' \\\n",
    "    --where 'n2.kgtk_lqstring_lang = \"en\"' \\\n",
    "    | kgtk sort2 \\\n",
    "    | $compress > $OUT/all.alias.en.tsv"
   ]
  },
  {
   "cell_type": "code",
   "execution_count": 19,
   "metadata": {},
   "outputs": [
    {
     "name": "stdout",
     "output_type": "stream",
     "text": [
      "[2020-09-20 23:05:31 sqlstore]: IMPORT graph directly into table graph_4 from /Users/pedroszekely/Downloads/kypher/output/all.description.tsv ...\n",
      "[2020-09-20 23:11:41 query]: SQL Translation:\n",
      "---------------------------------------------\n",
      "  SELECT *\n",
      "     FROM graph_4 graph_4_c1\n",
      "     WHERE (kgtk_lqstring_lang(graph_4_c1.\"node2\") = ?)\n",
      "  PARAS: ['en']\n",
      "---------------------------------------------\n",
      "      470.45 real       658.21 user        17.29 sys\n"
     ]
    }
   ],
   "source": [
    "!$kgtk query -i $OUT/all.description.tsv --graph-cache $STORE -o - \\\n",
    "    --match '()-[]->(n2)' \\\n",
    "    --where 'n2.kgtk_lqstring_lang = \"en\"' \\\n",
    "    | kgtk sort2 \\\n",
    "    | $compress > $OUT/all.description.en.tsv"
   ]
  },
  {
   "cell_type": "markdown",
   "metadata": {},
   "source": [
    "Let's sample these files to see what they look like:\n",
    "\n",
    "* we are getting all variants of English, we really want `en` only\n",
    "* the labels have the language tags, how do we output only the string without the language tag?"
   ]
  },
  {
   "cell_type": "code",
   "execution_count": 20,
   "metadata": {},
   "outputs": [
    {
     "name": "stdout",
     "output_type": "stream",
     "text": [
      "id                 node1  label  node2\n",
      "P1015-label-en     P1015  label  'NORAF ID'@en\n",
      "P1015-label-en-gb  P1015  label  'BIBSYS ID'@en-gb\n",
      "P102-label-en      P102   label  'member of political party'@en\n",
      "P102-label-en-ca   P102   label  'member of political party'@en-ca\n",
      "P102-label-en-gb   P102   label  'member of political party'@en-gb\n",
      "P1025-label-en     P1025  label  'SUDOC editions'@en\n",
      "P1057-label-en     P1057  label  'chromosome'@en\n",
      "P1057-label-en-gb  P1057  label  'chromosome'@en-gb\n",
      "P1064-label-en     P1064  label  'track gauge'@en\n"
     ]
    }
   ],
   "source": [
    "!head $OUT/all.label.en.tsv | column -t -s $'\\t' "
   ]
  },
  {
   "cell_type": "markdown",
   "metadata": {},
   "source": [
    "### Compute the distribution of the number of edges for each Wikidata type"
   ]
  },
  {
   "cell_type": "code",
   "execution_count": 21,
   "metadata": {},
   "outputs": [
    {
     "name": "stdout",
     "output_type": "stream",
     "text": [
      "      296.67 real       291.06 user         4.66 sys\n"
     ]
    }
   ],
   "source": [
    "!$kgtk unique --column 'node2;wikidatatype' -i $EDGES / sort2 -c node2 -r -o $OUT/all.wikidatatype.distribution.tsv"
   ]
  },
  {
   "cell_type": "code",
   "execution_count": 22,
   "metadata": {},
   "outputs": [
    {
     "name": "stdout",
     "output_type": "stream",
     "text": [
      "node1              label  node2\n",
      "monolingualtext    count  875537\n",
      "wikibase-property  count  710\n",
      "geo-shape          count  560\n",
      "string             count  5431775\n",
      "math               count  391\n",
      "external-id        count  3559912\n",
      "wikibase-lexeme    count  25\n",
      "globe-coordinate   count  224842\n",
      "wikibase-form      count  16\n",
      "quantity           count  1434724\n",
      "url                count  141091\n",
      "musical-notation   count  14\n",
      "tabular-data       count  128\n",
      "commonsMedia       count  122171\n",
      "wikibase-item      count  11793643\n",
      "time               count  1049993\n"
     ]
    }
   ],
   "source": [
    "!column -t -s $'\\t' $OUT/all.wikidatatype.distribution.tsv"
   ]
  },
  {
   "cell_type": "markdown",
   "metadata": {},
   "source": [
    "### Create a file to contain the edges for each wikidata type"
   ]
  },
  {
   "cell_type": "code",
   "execution_count": 23,
   "metadata": {},
   "outputs": [
    {
     "name": "stdout",
     "output_type": "stream",
     "text": [
      "$kgtk query -i $EDGES --graph-cache $STORE -o -     --match '(n1)-[l]->(n2 {wikidatatype: type})'     --return 'l, n1, l.label, n2'    --where 'type = \"time\"'     | kgtk sort2 | $compress > $OUT/all.time.tsv\n",
      "$kgtk query -i $EDGES --graph-cache $STORE -o -     --match '(n1)-[l]->(n2 {wikidatatype: type})'     --return 'l, n1, l.label, n2'    --where 'type = \"wikibase-item\"'     | kgtk sort2 | $compress > $OUT/all.wikibase-item.tsv\n",
      "$kgtk query -i $EDGES --graph-cache $STORE -o -     --match '(n1)-[l]->(n2 {wikidatatype: type})'     --return 'l, n1, l.label, n2'    --where 'type = \"math\"'     | kgtk sort2 | $compress > $OUT/all.math.tsv\n",
      "$kgtk query -i $EDGES --graph-cache $STORE -o -     --match '(n1)-[l]->(n2 {wikidatatype: type})'     --return 'l, n1, l.label, n2'    --where 'type = \"wikibase-form\"'     | kgtk sort2 | $compress > $OUT/all.wikibase-form.tsv\n",
      "$kgtk query -i $EDGES --graph-cache $STORE -o -     --match '(n1)-[l]->(n2 {wikidatatype: type})'     --return 'l, n1, l.label, n2'    --where 'type = \"quantity\"'     | kgtk sort2 | $compress > $OUT/all.quantity.tsv\n",
      "$kgtk query -i $EDGES --graph-cache $STORE -o -     --match '(n1)-[l]->(n2 {wikidatatype: type})'     --return 'l, n1, l.label, n2'    --where 'type = \"string\"'     | kgtk sort2 | $compress > $OUT/all.string.tsv\n",
      "$kgtk query -i $EDGES --graph-cache $STORE -o -     --match '(n1)-[l]->(n2 {wikidatatype: type})'     --return 'l, n1, l.label, n2'    --where 'type = \"external-id\"'     | kgtk sort2 | $compress > $OUT/all.external-id.tsv\n",
      "$kgtk query -i $EDGES --graph-cache $STORE -o -     --match '(n1)-[l]->(n2 {wikidatatype: type})'     --return 'l, n1, l.label, n2'    --where 'type = \"commonsMedia\"'     | kgtk sort2 | $compress > $OUT/all.commonsMedia.tsv\n",
      "$kgtk query -i $EDGES --graph-cache $STORE -o -     --match '(n1)-[l]->(n2 {wikidatatype: type})'     --return 'l, n1, l.label, n2'    --where 'type = \"globe-coordinate\"'     | kgtk sort2 | $compress > $OUT/all.globe-coordinate.tsv\n",
      "$kgtk query -i $EDGES --graph-cache $STORE -o -     --match '(n1)-[l]->(n2 {wikidatatype: type})'     --return 'l, n1, l.label, n2'    --where 'type = \"monolingualtext\"'     | kgtk sort2 | $compress > $OUT/all.monolingualtext.tsv\n",
      "$kgtk query -i $EDGES --graph-cache $STORE -o -     --match '(n1)-[l]->(n2 {wikidatatype: type})'     --return 'l, n1, l.label, n2'    --where 'type = \"musical-notation\"'     | kgtk sort2 | $compress > $OUT/all.musical-notation.tsv\n",
      "$kgtk query -i $EDGES --graph-cache $STORE -o -     --match '(n1)-[l]->(n2 {wikidatatype: type})'     --return 'l, n1, l.label, n2'    --where 'type = \"geo-shape\"'     | kgtk sort2 | $compress > $OUT/all.geo-shape.tsv\n",
      "$kgtk query -i $EDGES --graph-cache $STORE -o -     --match '(n1)-[l]->(n2 {wikidatatype: type})'     --return 'l, n1, l.label, n2'    --where 'type = \"wikibase-property\"'     | kgtk sort2 | $compress > $OUT/all.wikibase-property.tsv\n",
      "$kgtk query -i $EDGES --graph-cache $STORE -o -     --match '(n1)-[l]->(n2 {wikidatatype: type})'     --return 'l, n1, l.label, n2'    --where 'type = \"url\"'     | kgtk sort2 | $compress > $OUT/all.url.tsv\n"
     ]
    }
   ],
   "source": [
    "types = [\n",
    "    \"time\",\n",
    "    \"wikibase-item\",\n",
    "    \"math\",\n",
    "    \"wikibase-form\",\n",
    "    \"quantity\",\n",
    "    \"string\",\n",
    "    \"external-id\",\n",
    "    \"commonsMedia\",\n",
    "    \"globe-coordinate\",\n",
    "    \"monolingualtext\",\n",
    "    \"musical-notation\",\n",
    "    \"geo-shape\",\n",
    "    \"wikibase-property\",\n",
    "    \"url\",\n",
    "]\n",
    "command = \"$kgtk query -i $EDGES --graph-cache $STORE -o - \\\n",
    "    --match '(n1)-[l]->(n2 {wikidatatype: type})' \\\n",
    "    --return 'l, n1, l.label, n2'\\\n",
    "    --where 'type = \\\"TYPE\\\"' \\\n",
    "    | kgtk sort2 | $compress > $OUT/all.TYPE.tsv\"\n",
    "for type in types:\n",
    "    cmd = command.replace(\"TYPE\", type)\n",
    "    print(cmd)\n",
    "    os.system(cmd)"
   ]
  },
  {
   "cell_type": "markdown",
   "metadata": {},
   "source": [
    "### Create a file with the sitelinks"
   ]
  },
  {
   "cell_type": "code",
   "execution_count": 24,
   "metadata": {},
   "outputs": [
    {
     "name": "stdout",
     "output_type": "stream",
     "text": [
      "[2020-09-20 23:33:12 query]: SQL Translation:\n",
      "---------------------------------------------\n",
      "  SELECT graph_1_c1.\"id\", graph_1_c1.\"node1\", graph_1_c1.\"label\", graph_1_c1.\"node2\"\n",
      "     FROM graph_1 graph_1_c1\n",
      "     WHERE graph_1_c1.\"label\"=?\n",
      "  PARAS: ['wikipedia_sitelink']\n",
      "---------------------------------------------\n",
      "       18.79 real         7.54 user         3.12 sys\n"
     ]
    }
   ],
   "source": [
    "!$kgtk query -i $EDGES --graph-cache $STORE -o - \\\n",
    "    --match '(n1)-[l:wikipedia_sitelink]->(n2)' \\\n",
    "    --return 'l, n1, l.label, n2' \\\n",
    "    | kgtk sort2 \\\n",
    "    | $compress > $OUT/all.wikipedia_sitelink.tsv"
   ]
  },
  {
   "cell_type": "markdown",
   "metadata": {},
   "source": [
    "### Create a file that specifies for each node whether it is an item or a property"
   ]
  },
  {
   "cell_type": "code",
   "execution_count": 25,
   "metadata": {},
   "outputs": [
    {
     "name": "stdout",
     "output_type": "stream",
     "text": [
      "[2020-09-20 23:33:32 query]: SQL Translation:\n",
      "---------------------------------------------\n",
      "  SELECT graph_1_c1.\"id\", graph_1_c1.\"node1\", graph_1_c1.\"label\", graph_1_c1.\"node2\"\n",
      "     FROM graph_1 graph_1_c1\n",
      "     WHERE graph_1_c1.\"label\"=?\n",
      "  PARAS: ['type']\n",
      "---------------------------------------------\n",
      "       33.82 real         7.49 user         7.16 sys\n"
     ]
    }
   ],
   "source": [
    "!$kgtk query -i $EDGES --graph-cache $STORE -o - \\\n",
    "    --match '(n1)-[l:type]->(n2)' \\\n",
    "    --return 'l, n1, l.label, n2' \\\n",
    "    | kgtk sort2 \\\n",
    "    | $compress > $OUT/all.type.tsv "
   ]
  },
  {
   "cell_type": "markdown",
   "metadata": {},
   "source": [
    "### Create the P31 and P279 files"
   ]
  },
  {
   "cell_type": "code",
   "execution_count": 26,
   "metadata": {},
   "outputs": [
    {
     "name": "stdout",
     "output_type": "stream",
     "text": [
      "[2020-09-20 23:34:07 query]: SQL Translation:\n",
      "---------------------------------------------\n",
      "  SELECT graph_1_c1.\"id\", graph_1_c1.\"node1\", graph_1_c1.\"label\", graph_1_c1.\"node2\"\n",
      "     FROM graph_1 graph_1_c1\n",
      "     WHERE graph_1_c1.\"label\"=?\n",
      "  PARAS: ['P31']\n",
      "---------------------------------------------\n",
      "       25.20 real         6.62 user         5.06 sys\n"
     ]
    }
   ],
   "source": [
    "!$kgtk query -i $EDGES --graph-cache $STORE -o - \\\n",
    "    --match '(n1)-[l:P31]->(n2)' \\\n",
    "    --return 'l, n1, l.label, n2' \\\n",
    "    | kgtk sort2 | $compress > $OUT/all.P31.tsv"
   ]
  },
  {
   "cell_type": "code",
   "execution_count": 27,
   "metadata": {},
   "outputs": [
    {
     "name": "stdout",
     "output_type": "stream",
     "text": [
      "[2020-09-20 23:34:32 query]: SQL Translation:\n",
      "---------------------------------------------\n",
      "  SELECT graph_1_c1.\"id\", graph_1_c1.\"node1\", graph_1_c1.\"label\", graph_1_c1.\"node2\"\n",
      "     FROM graph_1 graph_1_c1\n",
      "     WHERE graph_1_c1.\"label\"=?\n",
      "  PARAS: ['P279']\n",
      "---------------------------------------------\n",
      "        1.52 real         0.77 user         0.27 sys\n"
     ]
    }
   ],
   "source": [
    "!$kgtk query -i $EDGES --graph-cache $STORE -o - \\\n",
    "    --match '(n1)-[l:P279]->(n2)' \\\n",
    "    --return 'l, n1, l.label, n2' \\\n",
    "    | kgtk sort2 | $compress > $OUT/all.P279.tsv"
   ]
  },
  {
   "cell_type": "code",
   "execution_count": 28,
   "metadata": {},
   "outputs": [
    {
     "name": "stdout",
     "output_type": "stream",
     "text": [
      "id           node1  label  node2\n",
      "P1015-P31-1  P1015  P31    Q55586529\n",
      "P1015-P31-2  P1015  P31    Q19595382\n",
      "P1015-P31-3  P1015  P31    Q19833377\n",
      "P102-P31-1   P102   P31    Q18608871\n",
      "P1025-P31-1  P1025  P31    Q29547399\n",
      "P1025-P31-2  P1025  P31    Q96776953\n",
      "P1057-P31-1  P1057  P31    Q19887775\n",
      "P1064-P31-1  P1064  P31    Q23310071\n",
      "P1108-P31-1  P1108  P31    Q21294996\n"
     ]
    }
   ],
   "source": [
    "!head $OUT/all.P31.tsv | column -t -s $'\\t' "
   ]
  },
  {
   "cell_type": "code",
   "execution_count": 29,
   "metadata": {},
   "outputs": [
    {
     "name": "stdout",
     "output_type": "stream",
     "text": [
      "        9.27 real         8.97 user         0.20 sys\n"
     ]
    }
   ],
   "source": [
    "!$kgtk cat -i $OUT/all.P279.tsv -i $OUT/all.P31.tsv -o - \\\n",
    "    | kgtk sort2 | $compress > $OUT/all.P31_P279.tsv"
   ]
  },
  {
   "cell_type": "code",
   "execution_count": 30,
   "metadata": {},
   "outputs": [
    {
     "name": "stdout",
     "output_type": "stream",
     "text": [
      "id           node1  label  node2\n",
      "P1015-P31-1  P1015  P31    Q55586529\n",
      "P1015-P31-2  P1015  P31    Q19595382\n",
      "P1015-P31-3  P1015  P31    Q19833377\n",
      "P102-P31-1   P102   P31    Q18608871\n",
      "P1025-P31-1  P1025  P31    Q29547399\n",
      "P1025-P31-2  P1025  P31    Q96776953\n",
      "P1057-P31-1  P1057  P31    Q19887775\n",
      "P1064-P31-1  P1064  P31    Q23310071\n",
      "P1108-P31-1  P1108  P31    Q21294996\n"
     ]
    }
   ],
   "source": [
    "!head $OUT/all.P31_P279.tsv | column -t -s $'\\t' "
   ]
  },
  {
   "cell_type": "markdown",
   "metadata": {},
   "source": [
    "### Create the file that contains all nodes reachable via P279 starting from a node2 in P31 or a node1 in P279"
   ]
  },
  {
   "cell_type": "markdown",
   "metadata": {},
   "source": [
    "First compute the roots"
   ]
  },
  {
   "cell_type": "code",
   "execution_count": 31,
   "metadata": {},
   "outputs": [
    {
     "name": "stdout",
     "output_type": "stream",
     "text": [
      "[2020-09-20 23:34:44 sqlstore]: IMPORT graph directly into table graph_5 from /Users/pedroszekely/Downloads/kypher/output/all.P279.tsv ...\n",
      "[2020-09-20 23:34:45 query]: SQL Translation:\n",
      "---------------------------------------------\n",
      "  SELECT graph_5_c1.\"node1\" \"node\"\n",
      "     FROM graph_5 graph_5_c1\n",
      "  PARAS: []\n",
      "---------------------------------------------\n",
      "        1.90 real         1.03 user         0.20 sys\n"
     ]
    }
   ],
   "source": [
    "!$kgtk query -i $OUT/all.P279.tsv --graph-cache $STORE -o - \\\n",
    "    --match '(n1)-[]->()' \\\n",
    "    --return 'n1 as node' \\\n",
    "    | kgtk sort -c node > $TEMP/P279.n1.tsv"
   ]
  },
  {
   "cell_type": "code",
   "execution_count": 32,
   "metadata": {},
   "outputs": [
    {
     "name": "stdout",
     "output_type": "stream",
     "text": [
      "[2020-09-20 23:34:47 sqlstore]: IMPORT graph directly into table graph_6 from /Users/pedroszekely/Downloads/kypher/output/all.P31.tsv ...\n",
      "[2020-09-20 23:34:52 query]: SQL Translation:\n",
      "---------------------------------------------\n",
      "  SELECT graph_6_c1.\"node2\" \"node\"\n",
      "     FROM graph_6 graph_6_c1\n",
      "  PARAS: []\n",
      "---------------------------------------------\n",
      "        8.04 real        11.35 user         0.42 sys\n"
     ]
    }
   ],
   "source": [
    "!$kgtk query -i $OUT/all.P31.tsv --graph-cache $STORE  -o - \\\n",
    "    --match '()-[]->(n2)' \\\n",
    "    --return 'n2 as node' \\\n",
    "    | kgtk sort -c node > $TEMP/P31.n2.tsv"
   ]
  },
  {
   "cell_type": "code",
   "execution_count": 33,
   "metadata": {},
   "outputs": [
    {
     "name": "stdout",
     "output_type": "stream",
     "text": [
      "       11.50 real        16.15 user         0.58 sys\n"
     ]
    }
   ],
   "source": [
    "!$kgtk cat --mode NONE $TEMP/P31.n2.tsv $TEMP/P279.n1.tsv \\\n",
    "    / compact --mode NONE --columns node \\\n",
    "    > $TEMP/P279.roots.tsv"
   ]
  },
  {
   "cell_type": "markdown",
   "metadata": {},
   "source": [
    "Now we can invoke the reachable-nodes command"
   ]
  },
  {
   "cell_type": "code",
   "execution_count": 34,
   "metadata": {},
   "outputs": [
    {
     "name": "stdout",
     "output_type": "stream",
     "text": [
      "        3.11 real         2.48 user         0.25 sys\n"
     ]
    }
   ],
   "source": [
    "!$kgtk reachable-nodes \\\n",
    "    --rootfile $TEMP/P279.roots.tsv \\\n",
    "    --rootfilecolumn 0 \\\n",
    "    --subj 1 --pred 2 --obj 3 \\\n",
    "    $OUT/all.P279.tsv \\\n",
    "    | kgtk sort2 \\\n",
    "    | $compress > $TEMP/P279.reachable.tsv"
   ]
  },
  {
   "cell_type": "markdown",
   "metadata": {},
   "source": [
    "The reachable-nodes command produces edges labeled `reachable`, so we need one command to rename them."
   ]
  },
  {
   "cell_type": "code",
   "execution_count": 35,
   "metadata": {},
   "outputs": [
    {
     "name": "stdout",
     "output_type": "stream",
     "text": [
      "[2020-09-20 23:35:17 sqlstore]: IMPORT graph directly into table graph_7 from /Users/pedroszekely/Downloads/kypher/temp/P279.reachable.tsv ...\n",
      "[2020-09-20 23:35:17 query]: SQL Translation:\n",
      "---------------------------------------------\n",
      "  SELECT graph_7_c1.\"node1\", ? \"label\", graph_7_c1.\"node2\" \"node2\"\n",
      "     FROM graph_7 graph_7_c1\n",
      "  PARAS: ['P279star']\n",
      "---------------------------------------------\n",
      "        0.99 real         0.93 user         0.15 sys\n"
     ]
    }
   ],
   "source": [
    "!$kgtk query -i $TEMP/P279.reachable.tsv --graph-cache $STORE  -o - \\\n",
    "    --match '(n1)-[]->(n2)' \\\n",
    "    --return 'n1, \"P279star\" as label, n2 as node2' \\\n",
    "     > $TEMP/P279star.1.tsv"
   ]
  },
  {
   "cell_type": "markdown",
   "metadata": {},
   "source": [
    "We also want `P279star` to be relflexive, ie, contain `(n1)-[:P279star]->(n1)` for all node1"
   ]
  },
  {
   "cell_type": "code",
   "execution_count": 36,
   "metadata": {},
   "outputs": [
    {
     "name": "stdout",
     "output_type": "stream",
     "text": [
      "[2020-09-20 23:35:18 query]: SQL Translation:\n",
      "---------------------------------------------\n",
      "  SELECT graph_7_c1.\"node1\" \"node1\", ? \"label\", graph_7_c1.\"node1\" \"node2\"\n",
      "     FROM graph_7 graph_7_c1\n",
      "  PARAS: ['P279star']\n",
      "---------------------------------------------\n",
      "        0.73 real         0.62 user         0.10 sys\n"
     ]
    }
   ],
   "source": [
    "!$kgtk query -i $TEMP/P279.reachable.tsv --graph-cache $STORE  -o - \\\n",
    "    --match '(n1)-[]->(n2)' \\\n",
    "    --return 'n1 as node1, \"P279star\" as label, n1 as node2' \\\n",
    "     > $TEMP/P279star.2.tsv"
   ]
  },
  {
   "cell_type": "code",
   "execution_count": 37,
   "metadata": {},
   "outputs": [
    {
     "name": "stdout",
     "output_type": "stream",
     "text": [
      "[2020-09-20 23:35:19 query]: SQL Translation:\n",
      "---------------------------------------------\n",
      "  SELECT graph_7_c1.\"node2\" \"node1\", ? \"label\", graph_7_c1.\"node2\" \"node2\"\n",
      "     FROM graph_7 graph_7_c1\n",
      "  PARAS: ['P279star']\n",
      "---------------------------------------------\n",
      "        0.71 real         0.60 user         0.10 sys\n"
     ]
    }
   ],
   "source": [
    "!$kgtk query -i $TEMP/P279.reachable.tsv --graph-cache $STORE  -o - \\\n",
    "    --match '(n1)-[]->(n2)' \\\n",
    "    --return 'n2 as node1, \"P279star\" as label, n2 as node2' \\\n",
    "     > $TEMP/P279star.3.tsv"
   ]
  },
  {
   "cell_type": "code",
   "execution_count": 38,
   "metadata": {},
   "outputs": [
    {
     "name": "stdout",
     "output_type": "stream",
     "text": [
      "[2020-09-20 23:35:20 query]: SQL Translation:\n",
      "---------------------------------------------\n",
      "  SELECT graph_6_c1.\"node2\" \"node1\", ? \"label\", graph_6_c1.\"node2\" \"node2\"\n",
      "     FROM graph_6 graph_6_c1\n",
      "  PARAS: ['P279star']\n",
      "---------------------------------------------\n",
      "        3.55 real         3.37 user         0.16 sys\n"
     ]
    }
   ],
   "source": [
    "!$kgtk query -i $OUT/all.P31.tsv --graph-cache $STORE  -o - \\\n",
    "    --match '(n1)-[]->(n2)' \\\n",
    "    --return 'n2 as node1, \"P279star\" as label, n2 as node2' \\\n",
    "     > $TEMP/P279star.4.tsv"
   ]
  },
  {
   "cell_type": "markdown",
   "metadata": {},
   "source": [
    "Now we can concatenate these files to produce the final output"
   ]
  },
  {
   "cell_type": "code",
   "execution_count": 39,
   "metadata": {},
   "outputs": [
    {
     "name": "stdout",
     "output_type": "stream",
     "text": [
      "        9.63 real         8.43 user         0.17 sys\n"
     ]
    }
   ],
   "source": [
    "!$kgtk cat --mode NONE $TEMP/P279star.1.tsv $TEMP/P279star.2.tsv $TEMP/P279star.3.tsv $TEMP/P279star.4.tsv \\\n",
    "    | kgtk compact \\\n",
    "    | kgtk sort2 \\\n",
    "    | kgtk add-id --id-style node1-label-node2-num \\\n",
    "    > $OUT/all.P279star.tsv"
   ]
  },
  {
   "cell_type": "markdown",
   "metadata": {},
   "source": [
    "This is difficult to test with our Wikidata subset because our hierarchy is very sparse.\n",
    "\n",
    "This is how we would do the typical `?item P31/P279* ?class` in Kypher. \n",
    "The example shows how to get all the `n1` that are instances of subclasses of beer (q44)."
   ]
  },
  {
   "cell_type": "code",
   "execution_count": 40,
   "metadata": {},
   "outputs": [
    {
     "name": "stdout",
     "output_type": "stream",
     "text": [
      "[2020-09-20 23:35:42 sqlstore]: IMPORT graph directly into table graph_8 from /Users/pedroszekely/Downloads/kypher/output/all.P279star.tsv ...\n",
      "[2020-09-20 23:35:43 query]: SQL Translation:\n",
      "---------------------------------------------\n",
      "  SELECT count(graph_6_c1.\"node1\") \"count\"\n",
      "     FROM graph_6 graph_6_c1, graph_8 graph_8_c2\n",
      "     WHERE graph_6_c1.\"label\"=?\n",
      "     AND graph_8_c2.\"node2\"=?\n",
      "     AND graph_6_c1.\"node2\"=graph_8_c2.\"node1\"\n",
      "  PARAS: ['P31', 'Q44']\n",
      "---------------------------------------------\n",
      "[2020-09-20 23:35:43 sqlstore]: CREATE INDEX on table graph_6 column node2 ...\n",
      "[2020-09-20 23:35:44 sqlstore]: ANALYZE INDEX on table graph_6 column node2 ...\n",
      "[2020-09-20 23:35:44 sqlstore]: CREATE INDEX on table graph_8 column node1 ...\n",
      "[2020-09-20 23:35:44 sqlstore]: ANALYZE INDEX on table graph_8 column node1 ...\n",
      "[2020-09-20 23:35:44 sqlstore]: CREATE INDEX on table graph_8 column node2 ...\n",
      "[2020-09-20 23:35:44 sqlstore]: ANALYZE INDEX on table graph_8 column node2 ...\n",
      "[2020-09-20 23:35:44 sqlstore]: CREATE INDEX on table graph_6 column label ...\n",
      "[2020-09-20 23:35:45 sqlstore]: ANALYZE INDEX on table graph_6 column label ...\n",
      "count\n",
      "4\n",
      "        3.50 real         3.40 user         0.47 sys\n"
     ]
    }
   ],
   "source": [
    "!$kgtk query -i $OUT/all.P31.tsv -i $OUT/all.P279star.tsv --graph-cache $STORE  -o - \\\n",
    "    --match 'P31: (n1)-[:P31]->(c), P279star: (c)-[]->(:Q44)' \\\n",
    "    --return 'count(n1) as count'"
   ]
  },
  {
   "cell_type": "markdown",
   "metadata": {},
   "source": [
    "### Create a file to do generalized Is-A queries\n",
    "The idea is that `(n1)-[:isa]->(n2)` when `(n1)-[:P31]->(n2)` or `(n1)-[:P279]->(n2)`\n",
    "\n",
    "We do this by concatenating the files and renaming the relation"
   ]
  },
  {
   "cell_type": "code",
   "execution_count": 41,
   "metadata": {},
   "outputs": [
    {
     "name": "stdout",
     "output_type": "stream",
     "text": [
      "        8.72 real         8.49 user         0.20 sys\n"
     ]
    }
   ],
   "source": [
    "!$kgtk cat $OUT/all.P31.tsv $OUT/all.P279.tsv \\\n",
    "    > $TEMP/isa.1.tsv"
   ]
  },
  {
   "cell_type": "code",
   "execution_count": 42,
   "metadata": {},
   "outputs": [
    {
     "name": "stdout",
     "output_type": "stream",
     "text": [
      "[2020-09-20 23:35:55 sqlstore]: IMPORT graph directly into table graph_9 from /Users/pedroszekely/Downloads/kypher/temp/isa.1.tsv ...\n",
      "[2020-09-20 23:36:00 query]: SQL Translation:\n",
      "---------------------------------------------\n",
      "  SELECT graph_9_c1.\"node1\", ? \"label\", graph_9_c1.\"node2\"\n",
      "     FROM graph_9 graph_9_c1\n",
      "  PARAS: ['isa']\n",
      "---------------------------------------------\n",
      "        9.27 real        12.63 user         0.38 sys\n"
     ]
    }
   ],
   "source": [
    "!$kgtk query -i $TEMP/isa.1.tsv --graph-cache $STORE  -o - \\\n",
    "    --match '(n1)-[]->(n2)' \\\n",
    "    --return 'n1, \"isa\" as label, n2' \\\n",
    "    | kgtk sort2 \\\n",
    "    | $compress > $OUT/all.isa.tsv "
   ]
  },
  {
   "cell_type": "markdown",
   "metadata": {},
   "source": [
    "Example of how to use the `isa` relation"
   ]
  },
  {
   "cell_type": "code",
   "execution_count": 43,
   "metadata": {},
   "outputs": [
    {
     "name": "stdout",
     "output_type": "stream",
     "text": [
      "[2020-09-20 23:36:04 sqlstore]: IMPORT graph directly into table graph_10 from /Users/pedroszekely/Downloads/kypher/output/all.isa.tsv ...\n",
      "[2020-09-20 23:36:08 query]: SQL Translation:\n",
      "---------------------------------------------\n",
      "  SELECT DISTINCT graph_10_c1.\"node1\", graph_10_c1.\"label\", ? \"node2\"\n",
      "     FROM graph_10 graph_10_c1, graph_8 graph_8_c2\n",
      "     WHERE graph_10_c1.\"label\"=?\n",
      "     AND graph_8_c2.\"node2\"=?\n",
      "     AND graph_10_c1.\"node2\"=graph_8_c2.\"node1\"\n",
      "     LIMIT ?\n",
      "  PARAS: ['Q44', 'isa', 'Q44', 10]\n",
      "---------------------------------------------\n",
      "[2020-09-20 23:36:08 sqlstore]: CREATE INDEX on table graph_10 column node2 ...\n",
      "[2020-09-20 23:36:09 sqlstore]: ANALYZE INDEX on table graph_10 column node2 ...\n",
      "[2020-09-20 23:36:09 sqlstore]: CREATE INDEX on table graph_10 column label ...\n",
      "[2020-09-20 23:36:09 sqlstore]: ANALYZE INDEX on table graph_10 column label ...\n",
      "node1\tlabel\tnode2\n",
      "Q10313616\tisa\tQ44\n",
      "Q12009657\tisa\tQ44\n",
      "Q1445539\tisa\tQ44\n",
      "Q15883984\tisa\tQ44\n",
      "Q16069508\tisa\tQ44\n",
      "Q16545279\tisa\tQ44\n",
      "Q2579953\tisa\tQ44\n",
      "Q28077004\tisa\tQ44\n",
      "Q3699039\tisa\tQ44\n",
      "Q4488344\tisa\tQ44\n",
      "        5.78 real         7.66 user         0.54 sys\n"
     ]
    }
   ],
   "source": [
    "!$kgtk query -i $OUT/all.isa.tsv -i $OUT/all.P279star.tsv --graph-cache $STORE  -o - \\\n",
    "    --match 'isa: (n1)-[l:isa]->(c), P279star: (c)-[]->(:Q44)' \\\n",
    "    --return 'distinct n1, l.label, \"Q44\" as node2' \\\n",
    "    --limit 10"
   ]
  },
  {
   "cell_type": "markdown",
   "metadata": {},
   "source": [
    "### Creating a subset of Wikidata without scholarly articles (Q13442814)\n",
    "First create a file with the schloarly articles"
   ]
  },
  {
   "cell_type": "code",
   "execution_count": 52,
   "metadata": {},
   "outputs": [
    {
     "name": "stdout",
     "output_type": "stream",
     "text": [
      "[2020-09-21 09:57:27 query]: SQL Translation:\n",
      "---------------------------------------------\n",
      "  SELECT DISTINCT graph_10_c1.\"node1\", graph_10_c1.\"label\", graph_10_c1.\"node2\"\n",
      "     FROM graph_10 graph_10_c1\n",
      "     WHERE graph_10_c1.\"label\"=?\n",
      "     AND graph_10_c1.\"node2\"=?\n",
      "  PARAS: ['isa', 'Q13442814']\n",
      "---------------------------------------------\n",
      "        7.84 real         2.59 user         0.54 sys\n"
     ]
    }
   ],
   "source": [
    "!$kgtk query -i $OUT/all.isa.tsv -i $OUT/all.P279star.tsv --graph-cache $STORE  -o - \\\n",
    "    --match 'isa: (n1)-[l:isa]->(n2:Q13442814)' \\\n",
    "    --return 'distinct n1, l.label, n2' \\\n",
    "    | kgtk sort2 \\\n",
    "    | $compress > $OUT/all.isa.Q13442814.tsv "
   ]
  },
  {
   "cell_type": "markdown",
   "metadata": {},
   "source": [
    "Now we need to remove from `$EDGES` any edge where node1 or node2 is in node1 of `$OUT/all.isa.Q13442814.tsv`. The result will be `$OUT/minus.Q13442814.tsv`. We can then run the whole notebook with this new file as $EDGES and compute all the product files in a new output directory"
   ]
  },
  {
   "cell_type": "code",
   "execution_count": 55,
   "metadata": {},
   "outputs": [
    {
     "name": "stdout",
     "output_type": "stream",
     "text": [
      "node1      label  node2\n",
      "Q12376813  isa    Q13442814\n",
      "Q14565069  isa    Q13442814\n",
      "Q16338058  isa    Q13442814\n",
      "Q17166308  isa    Q13442814\n",
      "Q17454081  isa    Q13442814\n",
      "Q17485684  isa    Q13442814\n",
      "Q17485687  isa    Q13442814\n",
      "Q17535010  isa    Q13442814\n",
      "Q1801903   isa    Q13442814\n"
     ]
    }
   ],
   "source": [
    "!head $OUT/all.isa.Q13442814.tsv | column -t -s $'\\t' "
   ]
  },
  {
   "cell_type": "markdown",
   "metadata": {},
   "source": [
    "## Summary"
   ]
  },
  {
   "cell_type": "code",
   "execution_count": 58,
   "metadata": {},
   "outputs": [
    {
     "name": "stdout",
     "output_type": "stream",
     "text": [
      "    6030 /Users/pedroszekely/Downloads/kypher/output/all-distribution.tsv\n",
      "   75887 /Users/pedroszekely/Downloads/kypher/output/all.P279.tsv\n",
      "  161308 /Users/pedroszekely/Downloads/kypher/output/all.P279star.tsv\n",
      " 1790373 /Users/pedroszekely/Downloads/kypher/output/all.P31.tsv\n",
      " 1866259 /Users/pedroszekely/Downloads/kypher/output/all.P31_P279.tsv\n",
      "  215468 /Users/pedroszekely/Downloads/kypher/output/all.alias.en.tsv\n",
      " 2418893 /Users/pedroszekely/Downloads/kypher/output/all.alias.tsv\n",
      "  122172 /Users/pedroszekely/Downloads/kypher/output/all.commonsMedia.tsv\n",
      " 2622641 /Users/pedroszekely/Downloads/kypher/output/all.description.en.tsv\n",
      " 57987893 /Users/pedroszekely/Downloads/kypher/output/all.description.tsv\n",
      " 3559913 /Users/pedroszekely/Downloads/kypher/output/all.external-id.tsv\n",
      "     561 /Users/pedroszekely/Downloads/kypher/output/all.geo-shape.tsv\n",
      "  224843 /Users/pedroszekely/Downloads/kypher/output/all.globe-coordinate.tsv\n",
      "  699853 /Users/pedroszekely/Downloads/kypher/output/all.isa.Q13442814.tsv\n",
      " 1866259 /Users/pedroszekely/Downloads/kypher/output/all.isa.tsv\n",
      " 1690746 /Users/pedroszekely/Downloads/kypher/output/all.label.en.tsv\n",
      " 11275417 /Users/pedroszekely/Downloads/kypher/output/all.label.tsv\n",
      "     392 /Users/pedroszekely/Downloads/kypher/output/all.math.tsv\n",
      "  875538 /Users/pedroszekely/Downloads/kypher/output/all.monolingualtext.tsv\n",
      "      15 /Users/pedroszekely/Downloads/kypher/output/all.musical-notation.tsv\n",
      " 1434725 /Users/pedroszekely/Downloads/kypher/output/all.quantity.tsv\n",
      " 5431776 /Users/pedroszekely/Downloads/kypher/output/all.string.tsv\n",
      " 1049994 /Users/pedroszekely/Downloads/kypher/output/all.time.tsv\n",
      " 1959832 /Users/pedroszekely/Downloads/kypher/output/all.type.tsv\n",
      "  141092 /Users/pedroszekely/Downloads/kypher/output/all.url.tsv\n",
      "      17 /Users/pedroszekely/Downloads/kypher/output/all.wikibase-form.tsv\n",
      " 11793644 /Users/pedroszekely/Downloads/kypher/output/all.wikibase-item.tsv\n",
      "     711 /Users/pedroszekely/Downloads/kypher/output/all.wikibase-property.tsv\n",
      "      17 /Users/pedroszekely/Downloads/kypher/output/all.wikidatatype.distribution.tsv\n",
      " 1591925 /Users/pedroszekely/Downloads/kypher/output/all.wikipedia_sitelink.tsv\n",
      " 100000000 /Users/pedroszekely/Downloads/kypher/all.tsv\n",
      " 210864194 total\n"
     ]
    }
   ],
   "source": [
    "!wc -l $OUT/*.tsv $EDGES"
   ]
  },
  {
   "cell_type": "markdown",
   "metadata": {},
   "source": [
    "Number of distinct items in our dataset"
   ]
  },
  {
   "cell_type": "code",
   "execution_count": 61,
   "metadata": {},
   "outputs": [
    {
     "name": "stdout",
     "output_type": "stream",
     "text": [
      "[2020-09-21 10:15:37 query]: SQL Translation:\n",
      "---------------------------------------------\n",
      "  SELECT count(DISTINCT graph_1_c1.\"node1\") \"count\"\n",
      "     FROM graph_1 graph_1_c1\n",
      "  PARAS: []\n",
      "---------------------------------------------\n",
      "count\n",
      "1959831\n",
      "      100.28 real        57.04 user        10.30 sys\n"
     ]
    }
   ],
   "source": [
    "!$kgtk query -i $EDGES --graph-cache $STORE  -o - \\\n",
    "    --match '(n1)-[]->()' \\\n",
    "    --return 'count(distinct n1) as count'"
   ]
  },
  {
   "cell_type": "markdown",
   "metadata": {},
   "source": [
    "## Other Stuff"
   ]
  },
  {
   "cell_type": "markdown",
   "metadata": {},
   "source": [
    "Little bug: if two files are specified as input, only one is used."
   ]
  },
  {
   "cell_type": "code",
   "execution_count": 44,
   "metadata": {},
   "outputs": [
    {
     "name": "stdout",
     "output_type": "stream",
     "text": [
      "[2020-09-20 23:36:10 query]: SQL Translation:\n",
      "---------------------------------------------\n",
      "  SELECT *\n",
      "     FROM graph_8 graph_8_c1\n",
      "     WHERE graph_8_c1.\"node2\"=?\n",
      "     LIMIT ?\n",
      "  PARAS: ['Q44', 10]\n",
      "---------------------------------------------\n",
      "node1\tlabel\tnode2\tid\n",
      "Q10313616\tP279star\tQ44\tQ10313616-P279star-Q44-0000\n",
      "Q12009657\tP279star\tQ44\tQ12009657-P279star-Q44-0000\n",
      "Q1445539\tP279star\tQ44\tQ1445539-P279star-Q44-0000\n",
      "Q16069508\tP279star\tQ44\tQ16069508-P279star-Q44-0000\n",
      "Q16545279\tP279star\tQ44\tQ16545279-P279star-Q44-0000\n",
      "Q28077004\tP279star\tQ44\tQ28077004-P279star-Q44-0000\n",
      "Q44\tP279star\tQ44\tQ44-P279star-Q44-0000\n",
      "Q4488344\tP279star\tQ44\tQ4488344-P279star-Q44-0000\n",
      "Q4626\tP279star\tQ44\tQ4626-P279star-Q44-0000\n",
      "Q4880001\tP279star\tQ44\tQ4880001-P279star-Q44-0000\n",
      "        0.60 real         0.49 user         0.10 sys\n"
     ]
    }
   ],
   "source": [
    "!$kgtk query -i $OUT/all.isa.tsv -i $OUT/all.P279star.tsv --graph-cache $STORE  -o - \\\n",
    "    --match 'P279star: (c)-[]->(:Q44)' \\\n",
    "    --limit 10"
   ]
  },
  {
   "cell_type": "code",
   "execution_count": 45,
   "metadata": {},
   "outputs": [
    {
     "name": "stdout",
     "output_type": "stream",
     "text": [
      "[2020-09-20 23:36:11 query]: SQL Translation:\n",
      "---------------------------------------------\n",
      "  SELECT *\n",
      "     FROM graph_10 graph_10_c1\n",
      "     WHERE graph_10_c1.\"node2\"=?\n",
      "     LIMIT ?\n",
      "  PARAS: ['Q44', 10]\n",
      "---------------------------------------------\n",
      "node1\tlabel\tnode2\n",
      "Q10313616\tisa\tQ44\n",
      "Q12009657\tisa\tQ44\n",
      "Q1445539\tisa\tQ44\n",
      "Q15883984\tisa\tQ44\n",
      "Q16069508\tisa\tQ44\n",
      "Q16545279\tisa\tQ44\n",
      "Q2579953\tisa\tQ44\n",
      "Q28077004\tisa\tQ44\n",
      "Q3699039\tisa\tQ44\n",
      "Q4488344\tisa\tQ44\n",
      "        0.60 real         0.49 user         0.10 sys\n"
     ]
    }
   ],
   "source": [
    "!$kgtk query -i $OUT/all.isa.tsv -i $OUT/all.P279star.tsv --graph-cache $STORE  -o - \\\n",
    "    --match '(c)-[]->(:Q44)' \\\n",
    "    --limit 10"
   ]
  },
  {
   "cell_type": "code",
   "execution_count": null,
   "metadata": {},
   "outputs": [],
   "source": []
  },
  {
   "cell_type": "code",
   "execution_count": null,
   "metadata": {},
   "outputs": [],
   "source": []
  },
  {
   "cell_type": "code",
   "execution_count": 62,
   "metadata": {},
   "outputs": [
    {
     "name": "stdout",
     "output_type": "stream",
     "text": [
      "[2020-09-21 21:31:06 query]: SQL Translation:\n",
      "---------------------------------------------\n",
      "  SELECT DISTINCT graph_10_c1.\"node1\", graph_10_c1.\"label\", graph_10_c1.\"node2\"\n",
      "     FROM graph_10 graph_10_c1\n",
      "     WHERE graph_10_c1.\"label\"=?\n",
      "     AND graph_10_c1.\"node2\"=?\n",
      "  PARAS: ['isa', 'Q318']\n",
      "---------------------------------------------\n",
      "        5.60 real         0.72 user         0.27 sys\n"
     ]
    }
   ],
   "source": [
    "!$kgtk query -i $OUT/all.isa.tsv -i $OUT/all.P279star.tsv --graph-cache $STORE  -o - \\\n",
    "    --match 'isa: (n1)-[l:isa]->(n2:Q318)' \\\n",
    "    --return 'distinct n1, l.label, n2' \\\n",
    "    | kgtk sort2 \\\n",
    "    | $compress > $OUT/all.isa.Q318.tsv "
   ]
  },
  {
   "cell_type": "code",
   "execution_count": null,
   "metadata": {},
   "outputs": [],
   "source": []
  }
 ],
 "metadata": {
  "kernelspec": {
   "display_name": "kgtk_env",
   "language": "python",
   "name": "kgtk_env"
  },
  "language_info": {
   "codemirror_mode": {
    "name": "ipython",
    "version": 3
   },
   "file_extension": ".py",
   "mimetype": "text/x-python",
   "name": "python",
   "nbconvert_exporter": "python",
   "pygments_lexer": "ipython3",
   "version": "3.6.6"
  }
 },
 "nbformat": 4,
 "nbformat_minor": 4
}
