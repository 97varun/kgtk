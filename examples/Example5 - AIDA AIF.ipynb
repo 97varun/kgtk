{
 "cells": [
  {
   "cell_type": "markdown",
   "metadata": {},
   "source": [
    "# Converting AIF To Pandas\n",
    "This notebook shows how to convert an AIDA TA1 AIF file to Pandas to make it programmer-friendly"
   ]
  },
  {
   "cell_type": "code",
   "execution_count": 1,
   "metadata": {},
   "outputs": [],
   "source": [
    "import numpy as np\n",
    "import pandas as pd\n",
    "import os\n",
    "import io\n",
    "from IPython.display import display, HTML, Image"
   ]
  },
  {
   "cell_type": "markdown",
   "metadata": {},
   "source": [
    "### Before you start\n",
    "All the examples used in this document read from the /aida folder to make sure that the cells can be run in an independent manner.\n",
    "\n",
    "We create the /results folder inside so you can see the results generated from each of the KGTK operations. This way if a cells produces an error, you can continue browsing the notebook."
   ]
  },
  {
   "cell_type": "code",
   "execution_count": 2,
   "metadata": {},
   "outputs": [
    {
     "name": "stdout",
     "output_type": "stream",
     "text": [
      "mkdir: sample_data/aida/results: File exists\n"
     ]
    }
   ],
   "source": [
    "mkdir sample_data/aida/results"
   ]
  },
  {
   "cell_type": "markdown",
   "metadata": {},
   "source": [
    "### Convert AIF triples to TSV KGTK format"
   ]
  },
  {
   "cell_type": "code",
   "execution_count": 3,
   "metadata": {},
   "outputs": [
    {
     "name": "stdout",
     "output_type": "stream",
     "text": [
      "<http://www.isi.edu/gaia/entities/e34874a6-a857-4f14-8aee-9947d3e9caaf> <http://www.w3.org/1999/02/22-rdf-syntax-ns#type> <https://tac.nist.gov/tracks/SM-KBP/2019/ontologies/InterchangeOntology#Entity> .\n",
      "<http://www.isi.edu/gaia/entities/e34874a6-a857-4f14-8aee-9947d3e9caaf> <https://tac.nist.gov/tracks/SM-KBP/2019/ontologies/InterchangeOntology#informativeJustification> _:b0 .\n",
      "<http://www.isi.edu/gaia/entities/e34874a6-a857-4f14-8aee-9947d3e9caaf> <https://tac.nist.gov/tracks/SM-KBP/2019/ontologies/InterchangeOntology#justifiedBy> _:b1 .\n",
      "<http://www.isi.edu/gaia/entities/e34874a6-a857-4f14-8aee-9947d3e9caaf> <https://tac.nist.gov/tracks/SM-KBP/2019/ontologies/InterchangeOntology#privateData> _:g0 .\n",
      "_:g0 <http://www.w3.org/1999/02/22-rdf-syntax-ns#type> <https://tac.nist.gov/tracks/SM-KBP/2019/ontologies/InterchangeOntology#PrivateData> .\n",
      "_:g0 <https://tac.nist.gov/tracks/SM-KBP/2019/ontologies/InterchangeOntology#jsonContent> \"{\\\"fileType\\\":\\\"en\\\"}\"^^<http://www.w3.org/2001/XMLSchema#string> .\n",
      "_:g0 <https://tac.nist.gov/tracks/SM-KBP/2019/ontologies/InterchangeOntology#system> <http://www.rpi.edu/fileType> .\n",
      "<http://www.isi.edu/gaia/entities/e34874a6-a857-4f14-8aee-9947d3e9caaf> <https://tac.nist.gov/tracks/SM-KBP/2019/ontologies/InterchangeOntology#system> <http://www.rpi.edu> .\n",
      "<http://www.isi.edu/gaia/entities/e34874a6-a857-4f14-8aee-9947d3e9caaf> <https://tac.nist.gov/tracks/SM-KBP/2019/ontologies/InterchangeOntology#textValue> \"32\"^^<http://www.w3.org/2001/XMLSchema#string> .\n",
      "_:g1 <http://www.w3.org/1999/02/22-rdf-syntax-ns#type> <https://tac.nist.gov/tracks/SM-KBP/2019/ontologies/InterchangeOntology#ClusterMembership> .\n"
     ]
    }
   ],
   "source": [
    "!head sample_data/aida/HC00001DO.ttl.nt"
   ]
  },
  {
   "cell_type": "markdown",
   "metadata": {},
   "source": [
    "**Define prefixes to compress the URIs**"
   ]
  },
  {
   "cell_type": "code",
   "execution_count": 4,
   "metadata": {},
   "outputs": [
    {
     "data": {
      "text/html": [
       "<div>\n",
       "<style scoped>\n",
       "    .dataframe tbody tr th:only-of-type {\n",
       "        vertical-align: middle;\n",
       "    }\n",
       "\n",
       "    .dataframe tbody tr th {\n",
       "        vertical-align: top;\n",
       "    }\n",
       "\n",
       "    .dataframe thead th {\n",
       "        text-align: right;\n",
       "    }\n",
       "</style>\n",
       "<table border=\"1\" class=\"dataframe\">\n",
       "  <thead>\n",
       "    <tr style=\"text-align: right;\">\n",
       "      <th></th>\n",
       "      <th>node1</th>\n",
       "      <th>label</th>\n",
       "      <th>node2</th>\n",
       "    </tr>\n",
       "  </thead>\n",
       "  <tbody>\n",
       "    <tr>\n",
       "      <th>0</th>\n",
       "      <td>entity</td>\n",
       "      <td>prefix_expansion</td>\n",
       "      <td>http://www.isi.edu/gaia/entities/</td>\n",
       "    </tr>\n",
       "    <tr>\n",
       "      <th>1</th>\n",
       "      <td>relation</td>\n",
       "      <td>prefix_expansion</td>\n",
       "      <td>http://www.isi.edu/gaia/relations/</td>\n",
       "    </tr>\n",
       "    <tr>\n",
       "      <th>2</th>\n",
       "      <td>event</td>\n",
       "      <td>prefix_expansion</td>\n",
       "      <td>http://www.isi.edu/gaia/events/</td>\n",
       "    </tr>\n",
       "    <tr>\n",
       "      <th>3</th>\n",
       "      <td>rdf</td>\n",
       "      <td>prefix_expansion</td>\n",
       "      <td>http://www.w3.org/1999/02/22-rdf-syntax-ns#</td>\n",
       "    </tr>\n",
       "    <tr>\n",
       "      <th>4</th>\n",
       "      <td>ont</td>\n",
       "      <td>prefix_expansion</td>\n",
       "      <td>https://tac.nist.gov/tracks/SM-KBP/2019/ontolo...</td>\n",
       "    </tr>\n",
       "    <tr>\n",
       "      <th>5</th>\n",
       "      <td>rpi</td>\n",
       "      <td>prefix_expansion</td>\n",
       "      <td>http://www.rpi.edu/</td>\n",
       "    </tr>\n",
       "    <tr>\n",
       "      <th>6</th>\n",
       "      <td>xml-schema-type</td>\n",
       "      <td>prefix_expansion</td>\n",
       "      <td>http://www.w3.org/2001/XMLSchema#</td>\n",
       "    </tr>\n",
       "    <tr>\n",
       "      <th>7</th>\n",
       "      <td>columbia</td>\n",
       "      <td>prefix_expansion</td>\n",
       "      <td>http://www.columbia.edu/</td>\n",
       "    </tr>\n",
       "    <tr>\n",
       "      <th>8</th>\n",
       "      <td>isi</td>\n",
       "      <td>prefix_expansion</td>\n",
       "      <td>http://www.isi.edu/</td>\n",
       "    </tr>\n",
       "    <tr>\n",
       "      <th>9</th>\n",
       "      <td>isi1</td>\n",
       "      <td>prefix_expansion</td>\n",
       "      <td>www.isi.edu/</td>\n",
       "    </tr>\n",
       "    <tr>\n",
       "      <th>10</th>\n",
       "      <td>iris</td>\n",
       "      <td>prefix_expansion</td>\n",
       "      <td>http://www.usc.edu/AIDA/IRIS/Systems/</td>\n",
       "    </tr>\n",
       "    <tr>\n",
       "      <th>11</th>\n",
       "      <td>rpi</td>\n",
       "      <td>prefix_expansion</td>\n",
       "      <td>http://www.rpi.edu/</td>\n",
       "    </tr>\n",
       "    <tr>\n",
       "      <th>12</th>\n",
       "      <td>rpi1</td>\n",
       "      <td>prefix_expansion</td>\n",
       "      <td>http://www.rpi.edu</td>\n",
       "    </tr>\n",
       "    <tr>\n",
       "      <th>13</th>\n",
       "      <td>rpi2</td>\n",
       "      <td>prefix_expansion</td>\n",
       "      <td>http://www.rpi.edu-projectToSingleton</td>\n",
       "    </tr>\n",
       "    <tr>\n",
       "      <th>14</th>\n",
       "      <td>ldc</td>\n",
       "      <td>prefix_expansion</td>\n",
       "      <td>https://tac.nist.gov/tracks/SM-KBP/2019/ontolo...</td>\n",
       "    </tr>\n",
       "  </tbody>\n",
       "</table>\n",
       "</div>"
      ],
      "text/plain": [
       "              node1             label  \\\n",
       "0            entity  prefix_expansion   \n",
       "1          relation  prefix_expansion   \n",
       "2             event  prefix_expansion   \n",
       "3               rdf  prefix_expansion   \n",
       "4               ont  prefix_expansion   \n",
       "5               rpi  prefix_expansion   \n",
       "6   xml-schema-type  prefix_expansion   \n",
       "7          columbia  prefix_expansion   \n",
       "8               isi  prefix_expansion   \n",
       "9              isi1  prefix_expansion   \n",
       "10             iris  prefix_expansion   \n",
       "11              rpi  prefix_expansion   \n",
       "12             rpi1  prefix_expansion   \n",
       "13             rpi2  prefix_expansion   \n",
       "14              ldc  prefix_expansion   \n",
       "\n",
       "                                                node2  \n",
       "0                   http://www.isi.edu/gaia/entities/  \n",
       "1                  http://www.isi.edu/gaia/relations/  \n",
       "2                     http://www.isi.edu/gaia/events/  \n",
       "3         http://www.w3.org/1999/02/22-rdf-syntax-ns#  \n",
       "4   https://tac.nist.gov/tracks/SM-KBP/2019/ontolo...  \n",
       "5                                 http://www.rpi.edu/  \n",
       "6                   http://www.w3.org/2001/XMLSchema#  \n",
       "7                            http://www.columbia.edu/  \n",
       "8                                 http://www.isi.edu/  \n",
       "9                                        www.isi.edu/  \n",
       "10              http://www.usc.edu/AIDA/IRIS/Systems/  \n",
       "11                                http://www.rpi.edu/  \n",
       "12                                 http://www.rpi.edu  \n",
       "13              http://www.rpi.edu-projectToSingleton  \n",
       "14  https://tac.nist.gov/tracks/SM-KBP/2019/ontolo...  "
      ]
     },
     "execution_count": 4,
     "metadata": {},
     "output_type": "execute_result"
    }
   ],
   "source": [
    "pd.read_csv(\"sample_data/aida/aida-namespaces.tsv\", delimiter='\\t')"
   ]
  },
  {
   "cell_type": "markdown",
   "metadata": {},
   "source": [
    "**Import the AIF triples**"
   ]
  },
  {
   "cell_type": "code",
   "execution_count": 5,
   "metadata": {},
   "outputs": [],
   "source": [
    "!kgtk import-ntriples -i sample_data/aida/HC00001DO.ttl.nt \\\n",
    "  --namespace-file sample_data/aida/aida-namespaces.tsv \\\n",
    "  --namespace-id-use-uuid True \\\n",
    "  --local-namespace-use-uuid False \\\n",
    "  --local-namespace-prefix _ \\\n",
    "  --newnode-use-uuid True  \\\n",
    "  / sort \\\n",
    "  > sample_data/aida/results/HC00001DO.ttl.tsv"
   ]
  },
  {
   "cell_type": "markdown",
   "metadata": {},
   "source": [
    "**Reified information is cumbersome to work with**"
   ]
  },
  {
   "cell_type": "code",
   "execution_count": 6,
   "metadata": {},
   "outputs": [
    {
     "ename": "EmptyDataError",
     "evalue": "No columns to parse from file",
     "output_type": "error",
     "traceback": [
      "\u001b[0;31m---------------------------------------------------------------------------\u001b[0m",
      "\u001b[0;31mEmptyDataError\u001b[0m                            Traceback (most recent call last)",
      "\u001b[0;32m<ipython-input-6-03406ebcb8f1>\u001b[0m in \u001b[0;36m<module>\u001b[0;34m\u001b[0m\n\u001b[0;32m----> 1\u001b[0;31m \u001b[0mta1\u001b[0m \u001b[0;34m=\u001b[0m \u001b[0mpd\u001b[0m\u001b[0;34m.\u001b[0m\u001b[0mread_csv\u001b[0m\u001b[0;34m(\u001b[0m\u001b[0;34m\"sample_data/aida/results/HC00001DO.ttl.tsv\"\u001b[0m\u001b[0;34m,\u001b[0m \u001b[0mdelimiter\u001b[0m\u001b[0;34m=\u001b[0m\u001b[0;34m'\\t'\u001b[0m\u001b[0;34m)\u001b[0m\u001b[0;34m\u001b[0m\u001b[0;34m\u001b[0m\u001b[0m\n\u001b[0m\u001b[1;32m      2\u001b[0m \u001b[0mdisplay\u001b[0m\u001b[0;34m(\u001b[0m\u001b[0mHTML\u001b[0m\u001b[0;34m(\u001b[0m\u001b[0mta1\u001b[0m\u001b[0;34m.\u001b[0m\u001b[0mloc\u001b[0m\u001b[0;34m[\u001b[0m\u001b[0mta1\u001b[0m\u001b[0;34m.\u001b[0m\u001b[0mnode1\u001b[0m \u001b[0;34m==\u001b[0m\u001b[0;34m'_:g10'\u001b[0m\u001b[0;34m]\u001b[0m\u001b[0;34m.\u001b[0m\u001b[0mto_html\u001b[0m\u001b[0;34m(\u001b[0m\u001b[0;34m)\u001b[0m\u001b[0;34m)\u001b[0m\u001b[0;34m)\u001b[0m\u001b[0;34m\u001b[0m\u001b[0;34m\u001b[0m\u001b[0m\n",
      "\u001b[0;32m~/opt/anaconda3/envs/kgtk-t2wml-env/lib/python3.7/site-packages/pandas/io/parsers.py\u001b[0m in \u001b[0;36mparser_f\u001b[0;34m(filepath_or_buffer, sep, delimiter, header, names, index_col, usecols, squeeze, prefix, mangle_dupe_cols, dtype, engine, converters, true_values, false_values, skipinitialspace, skiprows, skipfooter, nrows, na_values, keep_default_na, na_filter, verbose, skip_blank_lines, parse_dates, infer_datetime_format, keep_date_col, date_parser, dayfirst, cache_dates, iterator, chunksize, compression, thousands, decimal, lineterminator, quotechar, quoting, doublequote, escapechar, comment, encoding, dialect, error_bad_lines, warn_bad_lines, delim_whitespace, low_memory, memory_map, float_precision)\u001b[0m\n\u001b[1;32m    674\u001b[0m         )\n\u001b[1;32m    675\u001b[0m \u001b[0;34m\u001b[0m\u001b[0m\n\u001b[0;32m--> 676\u001b[0;31m         \u001b[0;32mreturn\u001b[0m \u001b[0m_read\u001b[0m\u001b[0;34m(\u001b[0m\u001b[0mfilepath_or_buffer\u001b[0m\u001b[0;34m,\u001b[0m \u001b[0mkwds\u001b[0m\u001b[0;34m)\u001b[0m\u001b[0;34m\u001b[0m\u001b[0;34m\u001b[0m\u001b[0m\n\u001b[0m\u001b[1;32m    677\u001b[0m \u001b[0;34m\u001b[0m\u001b[0m\n\u001b[1;32m    678\u001b[0m     \u001b[0mparser_f\u001b[0m\u001b[0;34m.\u001b[0m\u001b[0m__name__\u001b[0m \u001b[0;34m=\u001b[0m \u001b[0mname\u001b[0m\u001b[0;34m\u001b[0m\u001b[0;34m\u001b[0m\u001b[0m\n",
      "\u001b[0;32m~/opt/anaconda3/envs/kgtk-t2wml-env/lib/python3.7/site-packages/pandas/io/parsers.py\u001b[0m in \u001b[0;36m_read\u001b[0;34m(filepath_or_buffer, kwds)\u001b[0m\n\u001b[1;32m    446\u001b[0m \u001b[0;34m\u001b[0m\u001b[0m\n\u001b[1;32m    447\u001b[0m     \u001b[0;31m# Create the parser.\u001b[0m\u001b[0;34m\u001b[0m\u001b[0;34m\u001b[0m\u001b[0;34m\u001b[0m\u001b[0m\n\u001b[0;32m--> 448\u001b[0;31m     \u001b[0mparser\u001b[0m \u001b[0;34m=\u001b[0m \u001b[0mTextFileReader\u001b[0m\u001b[0;34m(\u001b[0m\u001b[0mfp_or_buf\u001b[0m\u001b[0;34m,\u001b[0m \u001b[0;34m**\u001b[0m\u001b[0mkwds\u001b[0m\u001b[0;34m)\u001b[0m\u001b[0;34m\u001b[0m\u001b[0;34m\u001b[0m\u001b[0m\n\u001b[0m\u001b[1;32m    449\u001b[0m \u001b[0;34m\u001b[0m\u001b[0m\n\u001b[1;32m    450\u001b[0m     \u001b[0;32mif\u001b[0m \u001b[0mchunksize\u001b[0m \u001b[0;32mor\u001b[0m \u001b[0miterator\u001b[0m\u001b[0;34m:\u001b[0m\u001b[0;34m\u001b[0m\u001b[0;34m\u001b[0m\u001b[0m\n",
      "\u001b[0;32m~/opt/anaconda3/envs/kgtk-t2wml-env/lib/python3.7/site-packages/pandas/io/parsers.py\u001b[0m in \u001b[0;36m__init__\u001b[0;34m(self, f, engine, **kwds)\u001b[0m\n\u001b[1;32m    878\u001b[0m             \u001b[0mself\u001b[0m\u001b[0;34m.\u001b[0m\u001b[0moptions\u001b[0m\u001b[0;34m[\u001b[0m\u001b[0;34m\"has_index_names\"\u001b[0m\u001b[0;34m]\u001b[0m \u001b[0;34m=\u001b[0m \u001b[0mkwds\u001b[0m\u001b[0;34m[\u001b[0m\u001b[0;34m\"has_index_names\"\u001b[0m\u001b[0;34m]\u001b[0m\u001b[0;34m\u001b[0m\u001b[0;34m\u001b[0m\u001b[0m\n\u001b[1;32m    879\u001b[0m \u001b[0;34m\u001b[0m\u001b[0m\n\u001b[0;32m--> 880\u001b[0;31m         \u001b[0mself\u001b[0m\u001b[0;34m.\u001b[0m\u001b[0m_make_engine\u001b[0m\u001b[0;34m(\u001b[0m\u001b[0mself\u001b[0m\u001b[0;34m.\u001b[0m\u001b[0mengine\u001b[0m\u001b[0;34m)\u001b[0m\u001b[0;34m\u001b[0m\u001b[0;34m\u001b[0m\u001b[0m\n\u001b[0m\u001b[1;32m    881\u001b[0m \u001b[0;34m\u001b[0m\u001b[0m\n\u001b[1;32m    882\u001b[0m     \u001b[0;32mdef\u001b[0m \u001b[0mclose\u001b[0m\u001b[0;34m(\u001b[0m\u001b[0mself\u001b[0m\u001b[0;34m)\u001b[0m\u001b[0;34m:\u001b[0m\u001b[0;34m\u001b[0m\u001b[0;34m\u001b[0m\u001b[0m\n",
      "\u001b[0;32m~/opt/anaconda3/envs/kgtk-t2wml-env/lib/python3.7/site-packages/pandas/io/parsers.py\u001b[0m in \u001b[0;36m_make_engine\u001b[0;34m(self, engine)\u001b[0m\n\u001b[1;32m   1112\u001b[0m     \u001b[0;32mdef\u001b[0m \u001b[0m_make_engine\u001b[0m\u001b[0;34m(\u001b[0m\u001b[0mself\u001b[0m\u001b[0;34m,\u001b[0m \u001b[0mengine\u001b[0m\u001b[0;34m=\u001b[0m\u001b[0;34m\"c\"\u001b[0m\u001b[0;34m)\u001b[0m\u001b[0;34m:\u001b[0m\u001b[0;34m\u001b[0m\u001b[0;34m\u001b[0m\u001b[0m\n\u001b[1;32m   1113\u001b[0m         \u001b[0;32mif\u001b[0m \u001b[0mengine\u001b[0m \u001b[0;34m==\u001b[0m \u001b[0;34m\"c\"\u001b[0m\u001b[0;34m:\u001b[0m\u001b[0;34m\u001b[0m\u001b[0;34m\u001b[0m\u001b[0m\n\u001b[0;32m-> 1114\u001b[0;31m             \u001b[0mself\u001b[0m\u001b[0;34m.\u001b[0m\u001b[0m_engine\u001b[0m \u001b[0;34m=\u001b[0m \u001b[0mCParserWrapper\u001b[0m\u001b[0;34m(\u001b[0m\u001b[0mself\u001b[0m\u001b[0;34m.\u001b[0m\u001b[0mf\u001b[0m\u001b[0;34m,\u001b[0m \u001b[0;34m**\u001b[0m\u001b[0mself\u001b[0m\u001b[0;34m.\u001b[0m\u001b[0moptions\u001b[0m\u001b[0;34m)\u001b[0m\u001b[0;34m\u001b[0m\u001b[0;34m\u001b[0m\u001b[0m\n\u001b[0m\u001b[1;32m   1115\u001b[0m         \u001b[0;32melse\u001b[0m\u001b[0;34m:\u001b[0m\u001b[0;34m\u001b[0m\u001b[0;34m\u001b[0m\u001b[0m\n\u001b[1;32m   1116\u001b[0m             \u001b[0;32mif\u001b[0m \u001b[0mengine\u001b[0m \u001b[0;34m==\u001b[0m \u001b[0;34m\"python\"\u001b[0m\u001b[0;34m:\u001b[0m\u001b[0;34m\u001b[0m\u001b[0;34m\u001b[0m\u001b[0m\n",
      "\u001b[0;32m~/opt/anaconda3/envs/kgtk-t2wml-env/lib/python3.7/site-packages/pandas/io/parsers.py\u001b[0m in \u001b[0;36m__init__\u001b[0;34m(self, src, **kwds)\u001b[0m\n\u001b[1;32m   1889\u001b[0m         \u001b[0mkwds\u001b[0m\u001b[0;34m[\u001b[0m\u001b[0;34m\"usecols\"\u001b[0m\u001b[0;34m]\u001b[0m \u001b[0;34m=\u001b[0m \u001b[0mself\u001b[0m\u001b[0;34m.\u001b[0m\u001b[0musecols\u001b[0m\u001b[0;34m\u001b[0m\u001b[0;34m\u001b[0m\u001b[0m\n\u001b[1;32m   1890\u001b[0m \u001b[0;34m\u001b[0m\u001b[0m\n\u001b[0;32m-> 1891\u001b[0;31m         \u001b[0mself\u001b[0m\u001b[0;34m.\u001b[0m\u001b[0m_reader\u001b[0m \u001b[0;34m=\u001b[0m \u001b[0mparsers\u001b[0m\u001b[0;34m.\u001b[0m\u001b[0mTextReader\u001b[0m\u001b[0;34m(\u001b[0m\u001b[0msrc\u001b[0m\u001b[0;34m,\u001b[0m \u001b[0;34m**\u001b[0m\u001b[0mkwds\u001b[0m\u001b[0;34m)\u001b[0m\u001b[0;34m\u001b[0m\u001b[0;34m\u001b[0m\u001b[0m\n\u001b[0m\u001b[1;32m   1892\u001b[0m         \u001b[0mself\u001b[0m\u001b[0;34m.\u001b[0m\u001b[0munnamed_cols\u001b[0m \u001b[0;34m=\u001b[0m \u001b[0mself\u001b[0m\u001b[0;34m.\u001b[0m\u001b[0m_reader\u001b[0m\u001b[0;34m.\u001b[0m\u001b[0munnamed_cols\u001b[0m\u001b[0;34m\u001b[0m\u001b[0;34m\u001b[0m\u001b[0m\n\u001b[1;32m   1893\u001b[0m \u001b[0;34m\u001b[0m\u001b[0m\n",
      "\u001b[0;32mpandas/_libs/parsers.pyx\u001b[0m in \u001b[0;36mpandas._libs.parsers.TextReader.__cinit__\u001b[0;34m()\u001b[0m\n",
      "\u001b[0;31mEmptyDataError\u001b[0m: No columns to parse from file"
     ]
    }
   ],
   "source": [
    "ta1 = pd.read_csv(\"sample_data/aida/results/HC00001DO.ttl.tsv\", delimiter='\\t')\n",
    "display(HTML(ta1.loc[ta1.node1 =='_:g10'].to_html()))"
   ]
  },
  {
   "cell_type": "markdown",
   "metadata": {},
   "source": [
    "## Simplify the KG\n",
    "\n",
    "**What we want an easy to understand representation that is close to the diagrams that people want to see**"
   ]
  },
  {
   "cell_type": "markdown",
   "metadata": {},
   "source": [
    "<img src=\"https://raw.githubusercontent.com/usc-isi-i2/kgtk/dev/examples/images/aida-event-graph.png\" width=700/>"
   ]
  },
  {
   "cell_type": "markdown",
   "metadata": {},
   "source": [
    "**Undo the reification, and put the justifications as annotations on the semantic edges**"
   ]
  },
  {
   "cell_type": "code",
   "execution_count": null,
   "metadata": {},
   "outputs": [],
   "source": [
    "!kgtk unreify-rdf-statements -i sample_data/aida/results/HC00001DO.ttl.tsv \\\n",
    "  / sort --columns 1,2 \\\n",
    "  >  sample_data/aida/results/HC00001DO.ttl.unreified.tsv"
   ]
  },
  {
   "cell_type": "markdown",
   "metadata": {},
   "source": [
    "**Events now have direct edges to the role fillers (orange diamonds), the justifications are in the id object**"
   ]
  },
  {
   "cell_type": "code",
   "execution_count": null,
   "metadata": {},
   "outputs": [],
   "source": [
    "unreified = pd.read_csv(\"sample_data/aida/HC00001DO.ttl.unreified.tsv\", delimiter='\\t')\n",
    "unreified.loc[unreified.node1 == 'event:fd2323ad-b9c6-4b57-9228-8579b52475c8']"
   ]
  },
  {
   "cell_type": "markdown",
   "metadata": {},
   "source": [
    "**The relations are also objects with direct links to the entities (green diamonds)**"
   ]
  },
  {
   "cell_type": "code",
   "execution_count": null,
   "metadata": {},
   "outputs": [],
   "source": [
    "unreified.loc[unreified.node1 == 'relation:4b8f6334-dbc1-4186-8d9e-a04d864d9a9d']"
   ]
  },
  {
   "cell_type": "markdown",
   "metadata": {},
   "source": [
    "## Create files to Work in TA2\n",
    "\n",
    "**We want Pandas-friendly files, having a single rows for entities, relations and events.**\n",
    "\n",
    "For initial analysis, let's remove justifications, etc."
   ]
  },
  {
   "cell_type": "code",
   "execution_count": null,
   "metadata": {},
   "outputs": [],
   "source": [
    "!kgtk filter \\\n",
    "  --invert \\\n",
    "  -p ';ont:justifiedBy,ont:privateData,ont:system,ont:informativeJustification;' sample_data/aida/results/HC00001DO.ttl.unreified.tsv \\\n",
    "  > sample_data/aida/results/HC00001DO.ttl.unreified.nojust.tsv"
   ]
  },
  {
   "cell_type": "markdown",
   "metadata": {},
   "source": [
    "**Split into a separate file for each of entities, relations and events**"
   ]
  },
  {
   "cell_type": "code",
   "execution_count": null,
   "metadata": {},
   "outputs": [],
   "source": [
    "!kgtk filter -p ';rdf:type;ont:Entity' sample_data/aida/results/HC00001DO.ttl.unreified.tsv > sample_data/aida/results/HC00001DO.entity_ids.tsv\n",
    "!kgtk filter -p ';rdf:type;ont:Event' sample_data/aida/results/HC00001DO.ttl.unreified.tsv > sample_data/aida/results/HC00001DO.event_ids.tsv\n",
    "!kgtk filter -p ';rdf:type;ont:Relation' sample_data/aida/results/HC00001DO.ttl.unreified.tsv > sample_data/aida/results/HC00001DO.relation_ids.tsv"
   ]
  },
  {
   "cell_type": "code",
   "execution_count": null,
   "metadata": {},
   "outputs": [],
   "source": [
    "# Get all entities from the unreified file\n",
    "!kgtk ifexists \\\n",
    "    --input-keys node1 \\\n",
    "    --filter-keys node1 \\\n",
    "    --filter-on sample_data/aida/HC00001DO.entity_ids.tsv \\\n",
    "    sample_data/aida/HC00001DO.ttl.unreified.nojust.tsv \\\n",
    "  / sort --columns 1,2 \\\n",
    "  > sample_data/aida/results/HC00001DO.entities.tsv\n",
    "\n",
    "# Get all events from the unreified file\n",
    "!kgtk ifexists \\\n",
    "    --input-keys node1 \\\n",
    "    --filter-keys node1 \\\n",
    "    --filter-on sample_data/aida/HC00001DO.event_ids.tsv \\\n",
    "    sample_data/aida/HC00001DO.ttl.unreified.nojust.tsv \\\n",
    "  / sort --columns 1,2 \\\n",
    "  > sample_data/aida/results/HC00001DO.events.tsv\n",
    "\n",
    "# Get all relations from the unreified file\n",
    "!kgtk ifexists \\\n",
    "    --input-keys node1 \\\n",
    "    --filter-keys node1 \\\n",
    "    --filter-on sample_data/aida/HC00001DO.relation_ids.tsv \\\n",
    "    sample_data/aida/HC00001DO.ttl.unreified.nojust.tsv \\\n",
    "  / sort --columns 1,2 \\\n",
    "  > sample_data/aida/results/HC00001DO.relations.tsv"
   ]
  },
  {
   "cell_type": "markdown",
   "metadata": {},
   "source": [
    "**Little hack : replace ont:textValue by label**"
   ]
  },
  {
   "cell_type": "code",
   "execution_count": null,
   "metadata": {},
   "outputs": [],
   "source": [
    "!sed 's/ont:hasName/label/' sample_data/aida/results/HC00001DO.entities.tsv \\\n",
    "  | sed 's/ont:textValue/label/' \\\n",
    "  > sample_data/aida/results/HC00001DO.entities.renamed.tsv "
   ]
  },
  {
   "cell_type": "markdown",
   "metadata": {},
   "source": [
    "**Remove the type edges as they do not provide useful info (e.g., we know, by construction, the entities file contains entities)**"
   ]
  },
  {
   "cell_type": "code",
   "execution_count": null,
   "metadata": {},
   "outputs": [],
   "source": [
    "!kgtk filter \\\n",
    "  --invert \\\n",
    "  -p ';;ont:Entity' sample_data/aida/results/HC00001DO.entities.renamed.tsv \\\n",
    "  > sample_data/aida/results/results/HC00001DO.entities.notype.tsv\n",
    "!kgtk filter \\\n",
    "  --invert \\\n",
    "  -p ';;ont:Relation' sample_data/aida/results/HC00001DO.relations.tsv \\\n",
    "  > sample_data/aida/results/HC00001DO.relations.notype.tsv\n",
    "!kgtk filter \\\n",
    "  --invert \\\n",
    "  -p ';;ont:Event' sample_data/aida/results/HC00001DO.events.tsv \\\n",
    "  > sample_data/aida/results/HC00001DO.events.notype.tsv"
   ]
  },
  {
   "cell_type": "markdown",
   "metadata": {},
   "source": [
    "## Let's make a file that has one entity per row\n",
    "**Start by lifting the labels into a column**"
   ]
  },
  {
   "cell_type": "code",
   "execution_count": null,
   "metadata": {},
   "outputs": [],
   "source": [
    "!kgtk lift --suppress-empty-columns True sample_data/aida/results/HC00001DO.entities.notype.tsv / sort > sample_data/aida/results/HC00001DO.entities.labels.tsv"
   ]
  },
  {
   "cell_type": "code",
   "execution_count": null,
   "metadata": {},
   "outputs": [],
   "source": [
    "entities = pd.read_csv(\"sample_data/aida/results/HC00001DO.entities.labels.tsv\", delimiter='\\t')\n",
    "entities"
   ]
  },
  {
   "cell_type": "markdown",
   "metadata": {},
   "source": [
    "**Now lift the LDC link targets into a separate column, this is a bit complicated because of the extra level of reification**"
   ]
  },
  {
   "cell_type": "code",
   "execution_count": null,
   "metadata": {},
   "outputs": [],
   "source": [
    "!kgtk lift \\\n",
    "    --suppress-empty-columns True \\\n",
    "    --label-value ont:linkTarget \\\n",
    "    --lift-suffix ';temp' \\\n",
    "    --label-file sample_data/aida/results/HC00001DO.ttl.unreified.tsv \\\n",
    "    sample_data/aida/HC00001DO.entities.labels.tsv \\\n",
    "  / lift \\\n",
    "    --suppress-empty-columns True \\\n",
    "    --label-value ont:link \\\n",
    "    --lift-suffix ';linkTarget' \\\n",
    "    --node2-name 'node2;temp' \\\n",
    "  / sort \\\n",
    "  / remove_columns  -c 'node2;temp' \\\n",
    "  > sample_data/aida/results/HC00001DO.entities.labels.linktargets.tsv"
   ]
  },
  {
   "cell_type": "code",
   "execution_count": null,
   "metadata": {},
   "outputs": [],
   "source": [
    "entities = pd.read_csv(\"sample_data/aida/results/HC00001DO.entities.labels.linktargets.tsv\", delimiter='\\t')\n",
    "entities"
   ]
  },
  {
   "cell_type": "markdown",
   "metadata": {},
   "source": [
    "**Statistics of fraction of entities have labels or link targets**"
   ]
  },
  {
   "cell_type": "code",
   "execution_count": null,
   "metadata": {},
   "outputs": [],
   "source": [
    "((entities.shape[0]-entities.isnull().sum())/entities.shape[0]).round(3)"
   ]
  },
  {
   "cell_type": "markdown",
   "metadata": {},
   "source": [
    "**Distribution of types**"
   ]
  },
  {
   "cell_type": "code",
   "execution_count": null,
   "metadata": {},
   "outputs": [],
   "source": [
    "entities['node2'].value_counts()"
   ]
  },
  {
   "cell_type": "markdown",
   "metadata": {},
   "source": [
    "**Add the labels of the entities to the event file**"
   ]
  },
  {
   "cell_type": "code",
   "execution_count": null,
   "metadata": {},
   "outputs": [],
   "source": [
    "!kgtk filter \\\n",
    "  -p ';label;' sample_data/aida/results/HC00001DO.entities.renamed.tsv \\\n",
    "  > sample_data/aida/results/HC00001DO.entities.renamed.labels.tsv"
   ]
  },
  {
   "cell_type": "code",
   "execution_count": null,
   "metadata": {},
   "outputs": [],
   "source": [
    "!kgtk join sample_data/aida/results/HC00001DO.events.notype.tsv sample_data/aida/results/HC00001DO.entities.renamed.labels.tsv \\\n",
    "  --left-join \\\n",
    "  --left-file-join-columns node2 \\\n",
    "  --right-file-join-columns node1 \\\n",
    "  / lift --suppress-empty-columns \\\n",
    "  > sample_data/aida/results/HC00001DO.events.notype.entity-labels.tsv"
   ]
  },
  {
   "cell_type": "code",
   "execution_count": null,
   "metadata": {},
   "outputs": [],
   "source": [
    "events = pd.read_csv(\"sample_data/aida/results/HC00001DO.events.notype.entity-labels.tsv\", delimiter='\\t')\n",
    "display(HTML(events[:10].to_html()))"
   ]
  },
  {
   "cell_type": "code",
   "execution_count": null,
   "metadata": {},
   "outputs": [],
   "source": [
    "events['node1'].value_counts()[:10]"
   ]
  },
  {
   "cell_type": "markdown",
   "metadata": {},
   "source": [
    "### Work with clusters"
   ]
  },
  {
   "cell_type": "code",
   "execution_count": null,
   "metadata": {},
   "outputs": [],
   "source": [
    "!kgtk filter -p ';ont:clusterMember;' sample_data/aida/results/HC00001DO.ttl.unreified.tsv > sample_data/aida/results/HC00001DO.ttl.clusters.tsv"
   ]
  },
  {
   "cell_type": "code",
   "execution_count": null,
   "metadata": {},
   "outputs": [],
   "source": [
    "!kgtk join sample_data/aida/HC00001DO.ttl.clusters.tsv sample_data/aida/results/HC00001DO.entities.notype.tsv \\\n",
    "  --left-file-join-columns node2 \\\n",
    "  --right-file-join-columns node1 \\\n",
    "  > sample_data/aida/results/HC00001DO.cluster.ids.entities.tsv \n",
    "!kgtk join sample_data/aida/HC00001DO.ttl.clusters.tsv sample_data/aida/results/HC00001DO.relations.notype.tsv \\\n",
    "  --left-file-join-columns node2 \\\n",
    "  --right-file-join-columns node1 \\\n",
    "  > sample_data/aida/results/HC00001DO.cluster.ids.relations.tsv \n",
    "!kgtk join sample_data/aida/HC00001DO.ttl.clusters.tsv sample_data/aida/results/HC00001DO.events.notype.tsv \\\n",
    "  --left-file-join-columns node2 \\\n",
    "  --right-file-join-columns node1 \\\n",
    "  > sample_data/aida/results/HC00001DO.cluster.ids.events.tsv "
   ]
  },
  {
   "cell_type": "code",
   "execution_count": null,
   "metadata": {},
   "outputs": [],
   "source": [
    "!kgtk ifexists \\\n",
    "  --input-keys node1 \\\n",
    "  --filter-keys node1 \\\n",
    "  --filter-on sample_data/aida/results/HC00001DO.cluster.ids.entities.tsv \\\n",
    "    sample_data/aida/HC00001DO.ttl.unreified.tsv \\\n",
    "  > sample_data/aida/results/HC00001DO.cluster.entities.tsv \n",
    "!kgtk ifexists \\\n",
    "  --input-keys node1 \\\n",
    "  --filter-keys node1 \\\n",
    "  --filter-on sample_data/aida/results/HC00001DO.cluster.ids.relations.tsv \\\n",
    "    sample_data/aida/HC00001DO.ttl.unreified.tsv \\\n",
    "  > sample_data/aida/results/HC00001DO.cluster.relations.tsv \n",
    "!kgtk ifexists \\\n",
    "  --input-keys node1 \\\n",
    "  --filter-keys node1 \\\n",
    "  --filter-on sample_data/aida/results/HC00001DO.cluster.ids.events.tsv \\\n",
    "    sample_data/aida/HC00001DO.ttl.unreified.tsv \\\n",
    "  > sample_data/aida/results/HC00001DO.cluster.events.tsv "
   ]
  },
  {
   "cell_type": "markdown",
   "metadata": {},
   "source": [
    "### Create and edge file with ids to load in Wikidata SPARQL and browse using SQID"
   ]
  },
  {
   "cell_type": "code",
   "execution_count": null,
   "metadata": {},
   "outputs": [],
   "source": [
    "!kgtk add_id sample_data/aida/results/HC00001DO.ttl.unreified.tsv  > sample_data/aida/results/HC00001DO.ttl.unreified.ids.tsv"
   ]
  },
  {
   "cell_type": "code",
   "execution_count": null,
   "metadata": {},
   "outputs": [],
   "source": [
    "# Read KGTK results into lines and directly into Pandas\n",
    "# lines = !kgtk filter -p ';prefix_expansion;' ta1/HC00001DO/HC00001DO.ttl.tsv\n",
    "# pd.read_csv(io.StringIO('\\n'.join(lines)), delimiter='\\t')"
   ]
  }
 ],
 "metadata": {
  "kernelspec": {
   "display_name": "Python 3",
   "language": "python",
   "name": "python3"
  },
  "language_info": {
   "codemirror_mode": {
    "name": "ipython",
    "version": 3
   },
   "file_extension": ".py",
   "mimetype": "text/x-python",
   "name": "python",
   "nbconvert_exporter": "python",
   "pygments_lexer": "ipython3",
   "version": "3.7.7"
  }
 },
 "nbformat": 4,
 "nbformat_minor": 4
}
