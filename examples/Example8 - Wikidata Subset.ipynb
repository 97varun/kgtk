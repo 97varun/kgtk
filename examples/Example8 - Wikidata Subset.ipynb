{
 "cells": [
  {
   "cell_type": "markdown",
   "metadata": {},
   "source": [
    "# Creating a subset of Wikidata\n",
    "\n",
    "This notebook illustrates how to create a subset of Wikidata. We use as an example https://www.wikidata.org/wiki/Q11173 (chemical compound)\n",
    "\n",
    "Parameters are set up in the first cell so that we can run this notebook in batch mode. Example invocation command:\n",
    "\n",
    "```\n",
    "papermill Example8\\ -\\ Wikidata\\ Subset.ipynb exmaple8.out.ipynb \\\n",
    "-p wikidata_home /Users/pedroszekely/Downloads/kypher \\\n",
    "-p wikidata_file all.10.tsv.gz \\\n",
    "-p wikidata_parts_folder /Users/pedroszekely/Downloads/kypher/output.all.10 \\\n",
    "-p subset_name Q11173 \\\n",
    "-p home /Users/pedroszekely/Downloads/kypher \\\n",
    "-p delete_database yes \n",
    "```"
   ]
  },
  {
   "cell_type": "code",
   "execution_count": 1,
   "metadata": {
    "tags": [
     "parameters"
    ]
   },
   "outputs": [],
   "source": [
    "# Parameters\n",
    "wikidata_home = \"/Users/pedroszekely/Downloads/kypher\"\n",
    "wikidata_file = \"wikidata-20200803-all-edges.tsv.gz\"\n",
    "wikidata_file = \"all.10.tsv.gz\"\n",
    "wikidata_parts_folder = \"/Users/pedroszekely/Downloads/kypher/useful_wikidata_files\"\n",
    "wikidata_parts_folder = \"/Users/pedroszekely/Downloads/kypher/output.all.10\"\n",
    "subset_name = \"Q11173\"\n",
    "#subset_name = \"Q318\"\n",
    "#subset_name = \"Q5\"\n",
    "home = \"/Users/pedroszekely/Downloads/kypher\"\n",
    "delete_database = \"yes\""
   ]
  },
  {
   "cell_type": "code",
   "execution_count": 2,
   "metadata": {},
   "outputs": [],
   "source": [
    "temp_folder = subset_name + \"-temp\"\n",
    "output_folder = subset_name"
   ]
  },
  {
   "cell_type": "code",
   "execution_count": 3,
   "metadata": {},
   "outputs": [],
   "source": [
    "import io\n",
    "import os\n",
    "import subprocess\n",
    "import sys\n",
    "\n",
    "import numpy as np\n",
    "import pandas as pd\n",
    "\n",
    "# from IPython.display import display, HTML, Image\n",
    "# from pandas_profiling import ProfileReport"
   ]
  },
  {
   "cell_type": "markdown",
   "metadata": {},
   "source": [
    "A convenience function to run templetazed commands, substituting NAME with the name of the dataset and substituting other keys provided in a dictionary."
   ]
  },
  {
   "cell_type": "code",
   "execution_count": 4,
   "metadata": {},
   "outputs": [],
   "source": [
    "def run_command(command, substitution_dictionary = {}):\n",
    "    \"\"\"Run a templetized command.\"\"\"\n",
    "    cmd = command.replace(\"NAME\", subset_name)\n",
    "    for k, v in substitution_dictionary.items():\n",
    "        cmd = cmd.replace(k, v)\n",
    "    \n",
    "    print(cmd)\n",
    "    output = subprocess.run([cmd], shell=True, universal_newlines=True, stdout=subprocess.PIPE, stderr=subprocess.PIPE)\n",
    "    print(output.stdout)\n",
    "    print(output.stderr)\n",
    "    #print(output.returncode)"
   ]
  },
  {
   "cell_type": "markdown",
   "metadata": {},
   "source": [
    "### Set up environment variables and folders that we need"
   ]
  },
  {
   "cell_type": "code",
   "execution_count": 5,
   "metadata": {},
   "outputs": [],
   "source": [
    "# folder containing wikidata broken down into smaller files.\n",
    "os.environ['WIKIDATA_PARTS'] = wikidata_parts_folder\n",
    "# path of folder where the wikidata parts folder is stored.\n",
    "os.environ['WIKIDATA_HOME'] = wikidata_home\n",
    "# name of the dataset\n",
    "os.environ['NAME'] = subset_name\n",
    "# folder where to put the output\n",
    "os.environ['OUT'] = \"{}/{}\".format(home, output_folder)\n",
    "# temporary folder\n",
    "os.environ['TEMP'] = \"{}/{}\".format(home, temp_folder)\n",
    "# kgtk command to run\n",
    "os.environ['kgtk'] = \"kgtk\"\n",
    "os.environ['kgtk'] = \"time kgtk --debug\"\n",
    "# absolute path of the db\n",
    "os.environ['STORE'] = \"{}/{}/wikidata.sqlite3.db\".format(home, temp_folder)"
   ]
  },
  {
   "cell_type": "code",
   "execution_count": 6,
   "metadata": {},
   "outputs": [
    {
     "name": "stdout",
     "output_type": "stream",
     "text": [
      "/Users/pedroszekely/Downloads/kypher\n"
     ]
    }
   ],
   "source": [
    "cd $home"
   ]
  },
  {
   "cell_type": "code",
   "execution_count": 7,
   "metadata": {},
   "outputs": [
    {
     "name": "stdout",
     "output_type": "stream",
     "text": [
      "mkdir: Q11173: File exists\n",
      "mkdir: Q11173-temp: File exists\n"
     ]
    }
   ],
   "source": [
    "!mkdir $output_folder\n",
    "!mkdir $temp_folder"
   ]
  },
  {
   "cell_type": "code",
   "execution_count": 8,
   "metadata": {},
   "outputs": [
    {
     "name": "stdout",
     "output_type": "stream",
     "text": [
      "rm: /Users/pedroszekely/Downloads/kypher/Q11173/*.tsv: No such file or directory\n",
      "rm: /Users/pedroszekely/Downloads/kypher/Q11173-temp/*.tsv: No such file or directory\n"
     ]
    }
   ],
   "source": [
    "!rm $OUT/*.tsv $OUT/*.tsv.gz\n",
    "!rm $TEMP/*.tsv $TEMP/*.tsv.gz"
   ]
  },
  {
   "cell_type": "code",
   "execution_count": 9,
   "metadata": {},
   "outputs": [
    {
     "name": "stdout",
     "output_type": "stream",
     "text": [
      "Deleted database\n"
     ]
    }
   ],
   "source": [
    "if delete_database:\n",
    "    print(\"Deleted database\")\n",
    "    !rm $TEMP/wikidata.sqlite3.db"
   ]
  },
  {
   "cell_type": "markdown",
   "metadata": {},
   "source": [
    "### Extract the Q-nodes for the items we want\n",
    "Here we assume that the subset is for an individual q-node, so that the subset name is the name of the q-node. We should generalize this so that this query can be passed in as a parameter. We construct a file that contains all the node1s that are isa of the given NAME q-node"
   ]
  },
  {
   "cell_type": "code",
   "execution_count": 10,
   "metadata": {},
   "outputs": [
    {
     "name": "stdout",
     "output_type": "stream",
     "text": [
      "$kgtk query -i $WIKIDATA_PARTS/all.isa.tsv.gz -i $WIKIDATA_PARTS/all.P279star.tsv.gz     --graph-cache $STORE     -o $TEMP/all.isa.Q11173.tsv.gz      --match 'isa: (n1)-[l:isa]->(n2:Q11173)'     --return 'distinct n1 , l.label, n2'\n",
      "\n",
      "[2020-09-29 17:00:54 sqlstore]: IMPORT graph directly into table graph_1 from /Users/pedroszekely/Downloads/kypher/output.all.10/all.isa.tsv.gz ...\n",
      "[2020-09-29 17:00:54 sqlstore]: IMPORT graph directly into table graph_2 from /Users/pedroszekely/Downloads/kypher/output.all.10/all.P279star.tsv.gz ...\n",
      "[2020-09-29 17:00:54 query]: SQL Translation:\n",
      "---------------------------------------------\n",
      "  SELECT DISTINCT graph_1_c1.\"node1\", graph_1_c1.\"label\", graph_1_c1.\"node2\"\n",
      "     FROM graph_1 AS graph_1_c1\n",
      "     WHERE graph_1_c1.\"label\"=?\n",
      "     AND graph_1_c1.\"node2\"=?\n",
      "  PARAS: ['isa', 'Q11173']\n",
      "---------------------------------------------\n",
      "[2020-09-29 17:00:54 sqlstore]: CREATE INDEX on table graph_1 column label ...\n",
      "[2020-09-29 17:00:54 sqlstore]: ANALYZE INDEX on table graph_1 column label ...\n",
      "[2020-09-29 17:00:54 sqlstore]: CREATE INDEX on table graph_1 column node2 ...\n",
      "[2020-09-29 17:00:54 sqlstore]: ANALYZE INDEX on table graph_1 column node2 ...\n",
      "        1.16 real         1.13 user         0.20 sys\n",
      "\n"
     ]
    }
   ],
   "source": [
    "command = \"$kgtk query -i $WIKIDATA_PARTS/all.isa.tsv.gz -i $WIKIDATA_PARTS/all.P279star.tsv.gz \\\n",
    "    --graph-cache $STORE \\\n",
    "    -o $TEMP/all.isa.NAME.tsv.gz  \\\n",
    "    --match 'isa: (n1)-[l:isa]->(n2:NAME)' \\\n",
    "    --return 'distinct n1, l.label, n2'\"\n",
    "run_command(command)"
   ]
  },
  {
   "cell_type": "markdown",
   "metadata": {},
   "source": [
    "### Generate the parts of this dataset"
   ]
  },
  {
   "cell_type": "code",
   "execution_count": 31,
   "metadata": {},
   "outputs": [
    {
     "name": "stdout",
     "output_type": "stream",
     "text": [
      "$kgtk query -i $TEMP/all.isa.Q11173.tsv.gz -i $WIKIDATA_PARTS/part.time.tsv.gz --graph-cache $STORE      -o $OUT/Q11173.part.time.tsv.gz      --match 'Q11173: (n1)-[]->(), time: (n1)-[l]->(n2)'     --return 'distinct l, n1, l.label, n2'     --order-by 'n1, l.label, n2'\n",
      "\n",
      "[2020-09-29 17:03:08 query]: SQL Translation:\n",
      "---------------------------------------------\n",
      "  SELECT DISTINCT graph_4_c2.\"id\", graph_3_c1.\"node1\", graph_4_c2.\"label\", graph_4_c2.\"node2\"\n",
      "     FROM graph_3 AS graph_3_c1, graph_4 AS graph_4_c2\n",
      "     WHERE graph_3_c1.\"node1\"=graph_4_c2.\"node1\"\n",
      "     ORDER BY graph_3_c1.\"node1\" ASC, graph_4_c2.\"label\" ASC, graph_4_c2.\"node2\" ASC\n",
      "  PARAS: []\n",
      "---------------------------------------------\n",
      "        0.72 real         0.57 user         0.13 sys\n",
      "\n",
      "$kgtk query -i $TEMP/all.isa.Q11173.tsv.gz -i $WIKIDATA_PARTS/part.wikibase_item.tsv.gz --graph-cache $STORE      -o $OUT/Q11173.part.wikibase_item.tsv.gz      --match 'Q11173: (n1)-[]->(), wikibase_item: (n1)-[l]->(n2)'     --return 'distinct l, n1, l.label, n2'     --order-by 'n1, l.label, n2'\n",
      "\n",
      "[2020-09-29 17:03:09 query]: SQL Translation:\n",
      "---------------------------------------------\n",
      "  SELECT DISTINCT graph_5_c2.\"id\", graph_5_c2.\"node1\", graph_5_c2.\"label\", graph_5_c2.\"node2\"\n",
      "     FROM graph_3 AS graph_3_c1, graph_5 AS graph_5_c2\n",
      "     WHERE graph_3_c1.\"node1\"=graph_5_c2.\"node1\"\n",
      "     ORDER BY graph_5_c2.\"node1\" ASC, graph_5_c2.\"label\" ASC, graph_5_c2.\"node2\" ASC\n",
      "  PARAS: []\n",
      "---------------------------------------------\n",
      "        0.67 real         0.54 user         0.11 sys\n",
      "\n",
      "$kgtk query -i $TEMP/all.isa.Q11173.tsv.gz -i $WIKIDATA_PARTS/part.math.tsv.gz --graph-cache $STORE      -o $OUT/Q11173.part.math.tsv.gz      --match 'Q11173: (n1)-[]->(), math: (n1)-[l]->(n2)'     --return 'distinct l, n1, l.label, n2'     --order-by 'n1, l.label, n2'\n",
      "\n",
      "[2020-09-29 17:03:09 query]: SQL Translation:\n",
      "---------------------------------------------\n",
      "  SELECT DISTINCT graph_6_c2.\"id\", graph_3_c1.\"node1\", graph_6_c2.\"label\", graph_6_c2.\"node2\"\n",
      "     FROM graph_3 AS graph_3_c1, graph_6 AS graph_6_c2\n",
      "     WHERE graph_3_c1.\"node1\"=graph_6_c2.\"node1\"\n",
      "     ORDER BY graph_3_c1.\"node1\" ASC, graph_6_c2.\"label\" ASC, graph_6_c2.\"node2\" ASC\n",
      "  PARAS: []\n",
      "---------------------------------------------\n",
      "        0.70 real         0.56 user         0.12 sys\n",
      "\n",
      "$kgtk query -i $TEMP/all.isa.Q11173.tsv.gz -i $WIKIDATA_PARTS/part.wikibase_form.tsv.gz --graph-cache $STORE      -o $OUT/Q11173.part.wikibase_form.tsv.gz      --match 'Q11173: (n1)-[]->(), wikibase_form: (n1)-[l]->(n2)'     --return 'distinct l, n1, l.label, n2'     --order-by 'n1, l.label, n2'\n",
      "\n",
      "[2020-09-29 17:03:10 query]: SQL Translation:\n",
      "---------------------------------------------\n",
      "  SELECT DISTINCT graph_7_c2.\"id\", graph_3_c1.\"node1\", graph_7_c2.\"label\", graph_7_c2.\"node2\"\n",
      "     FROM graph_3 AS graph_3_c1, graph_7 AS graph_7_c2\n",
      "     WHERE graph_3_c1.\"node1\"=graph_7_c2.\"node1\"\n",
      "     ORDER BY graph_3_c1.\"node1\" ASC, graph_7_c2.\"label\" ASC, graph_7_c2.\"node2\" ASC\n",
      "  PARAS: []\n",
      "---------------------------------------------\n",
      "        0.68 real         0.55 user         0.12 sys\n",
      "\n",
      "$kgtk query -i $TEMP/all.isa.Q11173.tsv.gz -i $WIKIDATA_PARTS/part.quantity.tsv.gz --graph-cache $STORE      -o $OUT/Q11173.part.quantity.tsv.gz      --match 'Q11173: (n1)-[]->(), quantity: (n1)-[l]->(n2)'     --return 'distinct l, n1, l.label, n2'     --order-by 'n1, l.label, n2'\n",
      "\n",
      "[2020-09-29 17:03:11 query]: SQL Translation:\n",
      "---------------------------------------------\n",
      "  SELECT DISTINCT graph_8_c2.\"id\", graph_3_c1.\"node1\", graph_8_c2.\"label\", graph_8_c2.\"node2\"\n",
      "     FROM graph_3 AS graph_3_c1, graph_8 AS graph_8_c2\n",
      "     WHERE graph_3_c1.\"node1\"=graph_8_c2.\"node1\"\n",
      "     ORDER BY graph_3_c1.\"node1\" ASC, graph_8_c2.\"label\" ASC, graph_8_c2.\"node2\" ASC\n",
      "  PARAS: []\n",
      "---------------------------------------------\n",
      "        0.71 real         0.57 user         0.12 sys\n",
      "\n",
      "$kgtk query -i $TEMP/all.isa.Q11173.tsv.gz -i $WIKIDATA_PARTS/part.string.tsv.gz --graph-cache $STORE      -o $OUT/Q11173.part.string.tsv.gz      --match 'Q11173: (n1)-[]->(), string: (n1)-[l]->(n2)'     --return 'distinct l, n1, l.label, n2'     --order-by 'n1, l.label, n2'\n",
      "\n",
      "[2020-09-29 17:03:12 query]: SQL Translation:\n",
      "---------------------------------------------\n",
      "  SELECT DISTINCT graph_9_c2.\"id\", graph_3_c1.\"node1\", graph_9_c2.\"label\", graph_9_c2.\"node2\"\n",
      "     FROM graph_3 AS graph_3_c1, graph_9 AS graph_9_c2\n",
      "     WHERE graph_3_c1.\"node1\"=graph_9_c2.\"node1\"\n",
      "     ORDER BY graph_3_c1.\"node1\" ASC, graph_9_c2.\"label\" ASC, graph_9_c2.\"node2\" ASC\n",
      "  PARAS: []\n",
      "---------------------------------------------\n",
      "        0.80 real         0.62 user         0.14 sys\n",
      "\n",
      "$kgtk query -i $TEMP/all.isa.Q11173.tsv.gz -i $WIKIDATA_PARTS/part.external_id.tsv.gz --graph-cache $STORE      -o $OUT/Q11173.part.external_id.tsv.gz      --match 'Q11173: (n1)-[]->(), external_id: (n1)-[l]->(n2)'     --return 'distinct l, n1, l.label, n2'     --order-by 'n1, l.label, n2'\n",
      "\n",
      "[2020-09-29 17:03:12 query]: SQL Translation:\n",
      "---------------------------------------------\n",
      "  SELECT DISTINCT graph_10_c2.\"id\", graph_10_c2.\"node1\", graph_10_c2.\"label\", graph_10_c2.\"node2\"\n",
      "     FROM graph_10 AS graph_10_c2, graph_3 AS graph_3_c1\n",
      "     WHERE graph_10_c2.\"node1\"=graph_3_c1.\"node1\"\n",
      "     ORDER BY graph_10_c2.\"node1\" ASC, graph_10_c2.\"label\" ASC, graph_10_c2.\"node2\" ASC\n",
      "  PARAS: []\n",
      "---------------------------------------------\n",
      "        0.80 real         0.64 user         0.14 sys\n",
      "\n",
      "$kgtk query -i $TEMP/all.isa.Q11173.tsv.gz -i $WIKIDATA_PARTS/part.commonsMedia.tsv.gz --graph-cache $STORE      -o $OUT/Q11173.part.commonsMedia.tsv.gz      --match 'Q11173: (n1)-[]->(), commonsMedia: (n1)-[l]->(n2)'     --return 'distinct l, n1, l.label, n2'     --order-by 'n1, l.label, n2'\n",
      "\n",
      "[2020-09-29 17:03:13 query]: SQL Translation:\n",
      "---------------------------------------------\n",
      "  SELECT DISTINCT graph_11_c2.\"id\", graph_11_c2.\"node1\", graph_11_c2.\"label\", graph_11_c2.\"node2\"\n",
      "     FROM graph_11 AS graph_11_c2, graph_3 AS graph_3_c1\n",
      "     WHERE graph_11_c2.\"node1\"=graph_3_c1.\"node1\"\n",
      "     ORDER BY graph_11_c2.\"node1\" ASC, graph_11_c2.\"label\" ASC, graph_11_c2.\"node2\" ASC\n",
      "  PARAS: []\n",
      "---------------------------------------------\n",
      "        0.75 real         0.60 user         0.13 sys\n",
      "\n",
      "$kgtk query -i $TEMP/all.isa.Q11173.tsv.gz -i $WIKIDATA_PARTS/part.globe_coordinate.tsv.gz --graph-cache $STORE      -o $OUT/Q11173.part.globe_coordinate.tsv.gz      --match 'Q11173: (n1)-[]->(), globe_coordinate: (n1)-[l]->(n2)'     --return 'distinct l, n1, l.label, n2'     --order-by 'n1, l.label, n2'\n",
      "\n",
      "[2020-09-29 17:03:14 query]: SQL Translation:\n",
      "---------------------------------------------\n",
      "  SELECT DISTINCT graph_12_c2.\"id\", graph_12_c2.\"node1\", graph_12_c2.\"label\", graph_12_c2.\"node2\"\n",
      "     FROM graph_12 AS graph_12_c2, graph_3 AS graph_3_c1\n",
      "     WHERE graph_12_c2.\"node1\"=graph_3_c1.\"node1\"\n",
      "     ORDER BY graph_12_c2.\"node1\" ASC, graph_12_c2.\"label\" ASC, graph_12_c2.\"node2\" ASC\n",
      "  PARAS: []\n",
      "---------------------------------------------\n",
      "        0.68 real         0.54 user         0.12 sys\n",
      "\n",
      "$kgtk query -i $TEMP/all.isa.Q11173.tsv.gz -i $WIKIDATA_PARTS/part.monolingualtext.tsv.gz --graph-cache $STORE      -o $OUT/Q11173.part.monolingualtext.tsv.gz      --match 'Q11173: (n1)-[]->(), monolingualtext: (n1)-[l]->(n2)'     --return 'distinct l, n1, l.label, n2'     --order-by 'n1, l.label, n2'\n",
      "\n",
      "[2020-09-29 17:03:15 query]: SQL Translation:\n",
      "---------------------------------------------\n",
      "  SELECT DISTINCT graph_13_c2.\"id\", graph_3_c1.\"node1\", graph_13_c2.\"label\", graph_13_c2.\"node2\"\n",
      "     FROM graph_13 AS graph_13_c2, graph_3 AS graph_3_c1\n",
      "     WHERE graph_13_c2.\"node1\"=graph_3_c1.\"node1\"\n",
      "     ORDER BY graph_3_c1.\"node1\" ASC, graph_13_c2.\"label\" ASC, graph_13_c2.\"node2\" ASC\n",
      "  PARAS: []\n",
      "---------------------------------------------\n",
      "        0.65 real         0.52 user         0.11 sys\n",
      "\n",
      "$kgtk query -i $TEMP/all.isa.Q11173.tsv.gz -i $WIKIDATA_PARTS/part.musical_notation.tsv.gz --graph-cache $STORE      -o $OUT/Q11173.part.musical_notation.tsv.gz      --match 'Q11173: (n1)-[]->(), musical_notation: (n1)-[l]->(n2)'     --return 'distinct l, n1, l.label, n2'     --order-by 'n1, l.label, n2'\n",
      "\n",
      "[2020-09-29 17:03:15 query]: SQL Translation:\n",
      "---------------------------------------------\n",
      "  SELECT DISTINCT graph_14_c2.\"id\", graph_14_c2.\"node1\", graph_14_c2.\"label\", graph_14_c2.\"node2\"\n",
      "     FROM graph_14 AS graph_14_c2, graph_3 AS graph_3_c1\n",
      "     WHERE graph_14_c2.\"node1\"=graph_3_c1.\"node1\"\n",
      "     ORDER BY graph_14_c2.\"node1\" ASC, graph_14_c2.\"label\" ASC, graph_14_c2.\"node2\" ASC\n",
      "  PARAS: []\n",
      "---------------------------------------------\n",
      "        0.69 real         0.55 user         0.12 sys\n",
      "\n",
      "$kgtk query -i $TEMP/all.isa.Q11173.tsv.gz -i $WIKIDATA_PARTS/part.geo_shape.tsv.gz --graph-cache $STORE      -o $OUT/Q11173.part.geo_shape.tsv.gz      --match 'Q11173: (n1)-[]->(), geo_shape: (n1)-[l]->(n2)'     --return 'distinct l, n1, l.label, n2'     --order-by 'n1, l.label, n2'\n"
     ]
    },
    {
     "name": "stdout",
     "output_type": "stream",
     "text": [
      "\n",
      "[2020-09-29 17:03:16 query]: SQL Translation:\n",
      "---------------------------------------------\n",
      "  SELECT DISTINCT graph_15_c2.\"id\", graph_15_c2.\"node1\", graph_15_c2.\"label\", graph_15_c2.\"node2\"\n",
      "     FROM graph_15 AS graph_15_c2, graph_3 AS graph_3_c1\n",
      "     WHERE graph_15_c2.\"node1\"=graph_3_c1.\"node1\"\n",
      "     ORDER BY graph_15_c2.\"node1\" ASC, graph_15_c2.\"label\" ASC, graph_15_c2.\"node2\" ASC\n",
      "  PARAS: []\n",
      "---------------------------------------------\n",
      "        0.67 real         0.54 user         0.11 sys\n",
      "\n",
      "$kgtk query -i $TEMP/all.isa.Q11173.tsv.gz -i $WIKIDATA_PARTS/part.wikibase_property.tsv.gz --graph-cache $STORE      -o $OUT/Q11173.part.wikibase_property.tsv.gz      --match 'Q11173: (n1)-[]->(), wikibase_property: (n1)-[l]->(n2)'     --return 'distinct l, n1, l.label, n2'     --order-by 'n1, l.label, n2'\n",
      "\n",
      "[2020-09-29 17:03:17 query]: SQL Translation:\n",
      "---------------------------------------------\n",
      "  SELECT DISTINCT graph_16_c2.\"id\", graph_16_c2.\"node1\", graph_16_c2.\"label\", graph_16_c2.\"node2\"\n",
      "     FROM graph_16 AS graph_16_c2, graph_3 AS graph_3_c1\n",
      "     WHERE graph_16_c2.\"node1\"=graph_3_c1.\"node1\"\n",
      "     ORDER BY graph_16_c2.\"node1\" ASC, graph_16_c2.\"label\" ASC, graph_16_c2.\"node2\" ASC\n",
      "  PARAS: []\n",
      "---------------------------------------------\n",
      "        0.68 real         0.55 user         0.12 sys\n",
      "\n",
      "$kgtk query -i $TEMP/all.isa.Q11173.tsv.gz -i $WIKIDATA_PARTS/part.url.tsv.gz --graph-cache $STORE      -o $OUT/Q11173.part.url.tsv.gz      --match 'Q11173: (n1)-[]->(), url: (n1)-[l]->(n2)'     --return 'distinct l, n1, l.label, n2'     --order-by 'n1, l.label, n2'\n",
      "\n",
      "[2020-09-29 17:03:17 query]: SQL Translation:\n",
      "---------------------------------------------\n",
      "  SELECT DISTINCT graph_17_c2.\"id\", graph_3_c1.\"node1\", graph_17_c2.\"label\", graph_17_c2.\"node2\"\n",
      "     FROM graph_17 AS graph_17_c2, graph_3 AS graph_3_c1\n",
      "     WHERE graph_17_c2.\"node1\"=graph_3_c1.\"node1\"\n",
      "     ORDER BY graph_3_c1.\"node1\" ASC, graph_17_c2.\"label\" ASC, graph_17_c2.\"node2\" ASC\n",
      "  PARAS: []\n",
      "---------------------------------------------\n",
      "        0.68 real         0.55 user         0.12 sys\n",
      "\n"
     ]
    }
   ],
   "source": [
    "types = [\n",
    "    \"time\",\n",
    "    \"wikibase_item\",\n",
    "    \"math\",\n",
    "    \"wikibase_form\",\n",
    "    \"quantity\",\n",
    "    \"string\",\n",
    "    \"external_id\",\n",
    "    \"commonsMedia\",\n",
    "    \"globe_coordinate\",\n",
    "    \"monolingualtext\",\n",
    "    \"musical_notation\",\n",
    "    \"geo_shape\",\n",
    "    \"wikibase_property\",\n",
    "    \"url\",\n",
    "]\n",
    "command = \"$kgtk query -i $TEMP/all.isa.NAME.tsv.gz -i $WIKIDATA_PARTS/part.TYPE_FILE.tsv.gz --graph-cache $STORE  \\\n",
    "    -o $OUT/NAME.part.TYPE_FILE.tsv.gz  \\\n",
    "    --match 'NAME: (n1)-[]->(), TYPE_FILE: (n1)-[l]->(n2)' \\\n",
    "    --return 'distinct l, n1, l.label, n2' \\\n",
    "    --order-by 'n1, l.label, n2'\"\n",
    "for type in types:\n",
    "    run_command(command, {\"TYPE_FILE\": type.replace(\"-\", \"_\")})\n"
   ]
  },
  {
   "cell_type": "markdown",
   "metadata": {},
   "source": [
    "### Generate a P279star file"
   ]
  },
  {
   "cell_type": "markdown",
   "metadata": {},
   "source": [
    "First generate the P279 and P31 or every node2 in the wikibase_item file."
   ]
  },
  {
   "cell_type": "code",
   "execution_count": 12,
   "metadata": {
    "scrolled": true
   },
   "outputs": [
    {
     "name": "stdout",
     "output_type": "stream",
     "text": [
      "$kgtk query -i $OUT/Q11173.part.wikibase_item.tsv.gz -i $WIKIDATA_PARTS/all.P279.tsv.gz --graph-cache $STORE -o $TEMP/node2.P279.tsv.gz --match 'Q11173: ()-[]->(n1), P279: (n1)-[l]->(n2)' --return 'distinct l, n1 as node1, l.label, n2' --order-by 'n1, l.label, n2'\n",
      "\n",
      "[2020-09-29 17:01:12 sqlstore]: IMPORT graph directly into table graph_18 from /Users/pedroszekely/Downloads/kypher/Q11173/Q11173.part.wikibase_item.tsv.gz ...\n",
      "[2020-09-29 17:01:12 sqlstore]: IMPORT graph directly into table graph_19 from /Users/pedroszekely/Downloads/kypher/output.all.10/all.P279.tsv.gz ...\n",
      "[2020-09-29 17:01:12 query]: SQL Translation:\n",
      "---------------------------------------------\n",
      "  SELECT DISTINCT graph_19_c2.\"id\", graph_18_c1.\"node2\" \"node1\", graph_19_c2.\"label\", graph_19_c2.\"node2\"\n",
      "     FROM graph_18 AS graph_18_c1, graph_19 AS graph_19_c2\n",
      "     WHERE graph_18_c1.\"node2\"=graph_19_c2.\"node1\"\n",
      "     ORDER BY graph_18_c1.\"node2\" ASC, graph_19_c2.\"label\" ASC, graph_19_c2.\"node2\" ASC\n",
      "  PARAS: []\n",
      "---------------------------------------------\n",
      "[2020-09-29 17:01:12 sqlstore]: CREATE INDEX on table graph_19 column node1 ...\n",
      "[2020-09-29 17:01:12 sqlstore]: ANALYZE INDEX on table graph_19 column node1 ...\n",
      "[2020-09-29 17:01:12 sqlstore]: CREATE INDEX on table graph_18 column node2 ...\n",
      "[2020-09-29 17:01:12 sqlstore]: ANALYZE INDEX on table graph_18 column node2 ...\n",
      "        0.76 real         0.60 user         0.16 sys\n",
      "\n",
      "$kgtk query -i $OUT/Q11173.part.wikibase_item.tsv.gz -i $WIKIDATA_PARTS/all.P31.tsv.gz --graph-cache $STORE -o $TEMP/node2.P31.tsv.gz --match 'Q11173: ()-[]->(n1), P31: (n1)-[l]->(n2)' --return 'distinct l, n1 as node1, l.label, n2' --order-by 'n1, l.label, n2'\n",
      "\n",
      "[2020-09-29 17:01:13 sqlstore]: IMPORT graph directly into table graph_20 from /Users/pedroszekely/Downloads/kypher/output.all.10/all.P31.tsv.gz ...\n",
      "[2020-09-29 17:01:13 query]: SQL Translation:\n",
      "---------------------------------------------\n",
      "  SELECT DISTINCT graph_20_c2.\"id\", graph_20_c2.\"node1\" \"node1\", graph_20_c2.\"label\", graph_20_c2.\"node2\"\n",
      "     FROM graph_18 AS graph_18_c1, graph_20 AS graph_20_c2\n",
      "     WHERE graph_18_c1.\"node2\"=graph_20_c2.\"node1\"\n",
      "     ORDER BY graph_20_c2.\"node1\" ASC, graph_20_c2.\"label\" ASC, graph_20_c2.\"node2\" ASC\n",
      "  PARAS: []\n",
      "---------------------------------------------\n",
      "[2020-09-29 17:01:13 sqlstore]: CREATE INDEX on table graph_20 column node1 ...\n",
      "[2020-09-29 17:01:13 sqlstore]: ANALYZE INDEX on table graph_20 column node1 ...\n",
      "        1.06 real         1.12 user         0.16 sys\n",
      "\n",
      "        0.63 real         0.49 user         0.10 sys\n"
     ]
    }
   ],
   "source": [
    "command_p279 = \"$kgtk query -i $OUT/NAME.part.wikibase_item.tsv.gz -i $WIKIDATA_PARTS/all.P279.tsv.gz --graph-cache $STORE \\\n",
    "-o $TEMP/node2.P279.tsv.gz \\\n",
    "--match 'NAME: ()-[]->(n1), P279: (n1)-[l]->(n2)' \\\n",
    "--return 'distinct l, n1 as node1, l.label, n2' \\\n",
    "--order-by 'n1, l.label, n2'\"\n",
    "\n",
    "command_p31 = \"$kgtk query -i $OUT/NAME.part.wikibase_item.tsv.gz -i $WIKIDATA_PARTS/all.P31.tsv.gz --graph-cache $STORE \\\n",
    "-o $TEMP/node2.P31.tsv.gz \\\n",
    "--match 'NAME: ()-[]->(n1), P31: (n1)-[l]->(n2)' \\\n",
    "--return 'distinct l, n1 as node1, l.label, n2' \\\n",
    "--order-by 'n1, l.label, n2'\"\n",
    "\n",
    "run_command(command_p279)\n",
    "run_command(command_p31)\n",
    "\n",
    "!$kgtk cat $TEMP/node2.P279.tsv.gz $TEMP/node2.P31.tsv.gz | gzip > $TEMP/$NAME.P279_P31.tsv.gz\n"
   ]
  },
  {
   "cell_type": "code",
   "execution_count": 13,
   "metadata": {},
   "outputs": [],
   "source": [
    "!kgtk cat -i $OUT/$NAME.part.*.tsv.gz  | gzip > $TEMP/$NAME.all_1.tsv.gz"
   ]
  },
  {
   "cell_type": "code",
   "execution_count": 14,
   "metadata": {},
   "outputs": [
    {
     "name": "stdout",
     "output_type": "stream",
     "text": [
      "$kgtk query -i $WIKIDATA_PARTS/all.P279star.tsv.gz -i $TEMP/Q11173.all_1.tsv.gz     --graph-cache $STORE      -o $TEMP/P279star.1.tsv.gz     --match 'P279star: (n1)-[l]->(n2), all_1: (n1)-[]->()'     --return 'distinct l, n1, l.label, n2'\n",
      "\n",
      "[2020-09-29 17:01:15 sqlstore]: IMPORT graph directly into table graph_21 from /Users/pedroszekely/Downloads/kypher/Q11173-temp/Q11173.all_1.tsv.gz ...\n",
      "[2020-09-29 17:01:15 query]: SQL Translation:\n",
      "---------------------------------------------\n",
      "  SELECT DISTINCT graph_2_c1.\"id\", graph_2_c1.\"node1\", graph_2_c1.\"label\", graph_2_c1.\"node2\"\n",
      "     FROM graph_2 AS graph_2_c1, graph_21 AS graph_21_c2\n",
      "     WHERE graph_21_c2.\"node1\"=graph_2_c1.\"node1\"\n",
      "  PARAS: []\n",
      "---------------------------------------------\n",
      "[2020-09-29 17:01:15 sqlstore]: CREATE INDEX on table graph_21 column node1 ...\n",
      "[2020-09-29 17:01:15 sqlstore]: ANALYZE INDEX on table graph_21 column node1 ...\n",
      "[2020-09-29 17:01:15 sqlstore]: CREATE INDEX on table graph_2 column node1 ...\n",
      "[2020-09-29 17:01:15 sqlstore]: ANALYZE INDEX on table graph_2 column node1 ...\n",
      "        0.75 real         0.61 user         0.15 sys\n",
      "\n",
      "$kgtk query -i $WIKIDATA_PARTS/all.P279star.tsv.gz -i $TEMP/Q11173.all_1.tsv.gz     --graph-cache $STORE      -o $TEMP/P279star.2.tsv.gz     --match 'P279star: (n1)-[l]->(n2), all_1: ()-[]->(n1)'     --return 'distinct l, n1 as node1, l.label, n2'\n",
      "\n",
      "[2020-09-29 17:01:16 query]: SQL Translation:\n",
      "---------------------------------------------\n",
      "  SELECT DISTINCT graph_2_c1.\"id\", graph_2_c1.\"node1\" \"node1\", graph_2_c1.\"label\", graph_2_c1.\"node2\"\n",
      "     FROM graph_2 AS graph_2_c1, graph_21 AS graph_21_c2\n",
      "     WHERE graph_21_c2.\"node2\"=graph_2_c1.\"node1\"\n",
      "  PARAS: []\n",
      "---------------------------------------------\n",
      "[2020-09-29 17:01:16 sqlstore]: CREATE INDEX on table graph_21 column node2 ...\n",
      "[2020-09-29 17:01:16 sqlstore]: ANALYZE INDEX on table graph_21 column node2 ...\n",
      "        0.72 real         0.57 user         0.12 sys\n",
      "\n",
      "$kgtk cat $TEMP/P279star.1.tsv.gz $TEMP/P279star.2.tsv.gz | gzip > $OUT/Q11173.P279star.tsv.gz\n",
      "\n",
      "        0.62 real         0.49 user         0.11 sys\n",
      "\n"
     ]
    }
   ],
   "source": [
    "command_node1 = \"$kgtk query -i $WIKIDATA_PARTS/all.P279star.tsv.gz -i $TEMP/NAME.all_1.tsv.gz \\\n",
    "    --graph-cache $STORE  \\\n",
    "    -o $TEMP/P279star.1.tsv.gz \\\n",
    "    --match 'P279star: (n1)-[l]->(n2), all_1: (n1)-[]->()' \\\n",
    "    --return 'distinct l, n1, l.label, n2'\"\n",
    "\n",
    "command_node2 = \"$kgtk query -i $WIKIDATA_PARTS/all.P279star.tsv.gz -i $TEMP/NAME.all_1.tsv.gz \\\n",
    "    --graph-cache $STORE  \\\n",
    "    -o $TEMP/P279star.2.tsv.gz \\\n",
    "    --match 'P279star: (n1)-[l]->(n2), all_1: ()-[]->(n1)' \\\n",
    "    --return 'distinct l, n1 as node1, l.label, n2'\" \n",
    "\n",
    "cat_command = \"$kgtk cat $TEMP/P279star.1.tsv.gz $TEMP/P279star.2.tsv.gz | gzip > $OUT/NAME.P279star.tsv.gz\"\n",
    "\n",
    "run_command(command_node1)\n",
    "run_command(command_node2)\n",
    "run_command(cat_command)"
   ]
  },
  {
   "cell_type": "markdown",
   "metadata": {},
   "source": [
    "### Construct a file with all the edges so we can produce the final outputs"
   ]
  },
  {
   "cell_type": "markdown",
   "metadata": {},
   "source": [
    "### Get info on all properties"
   ]
  },
  {
   "cell_type": "code",
   "execution_count": 15,
   "metadata": {
    "scrolled": true
   },
   "outputs": [
    {
     "name": "stdout",
     "output_type": "stream",
     "text": [
      "        0.66 real         0.54 user         0.11 sys\r\n"
     ]
    }
   ],
   "source": [
    "!$kgtk cat $OUT/*.gz | gzip > $TEMP/everything_1.tsv.gz"
   ]
  },
  {
   "cell_type": "markdown",
   "metadata": {},
   "source": [
    "First get a list of all the proerties used in this file"
   ]
  },
  {
   "cell_type": "code",
   "execution_count": 16,
   "metadata": {},
   "outputs": [
    {
     "name": "stdout",
     "output_type": "stream",
     "text": [
      "[2020-09-29 17:01:18 sqlstore]: IMPORT graph directly into table graph_22 from /Users/pedroszekely/Downloads/kypher/Q11173-temp/everything_1.tsv.gz ...\n",
      "[2020-09-29 17:01:18 query]: SQL Translation:\n",
      "---------------------------------------------\n",
      "  SELECT DISTINCT graph_22_c1.\"label\" \"node1\", ? \"label\", ? \"node2\"\n",
      "     FROM graph_22 AS graph_22_c1\n",
      "  PARAS: ['dummy', 'dummy']\n",
      "---------------------------------------------\n",
      "        0.72 real         0.59 user         0.13 sys\n"
     ]
    }
   ],
   "source": [
    "!$kgtk query -i $TEMP/everything_1.tsv.gz --graph-cache $STORE \\\n",
    "-o $TEMP/properties.tsv \\\n",
    "--match '(n1)-[l]->(n2)' \\\n",
    "--return 'distinct l.label as node1, \"dummy\" as label, \"dummy\" as node2' "
   ]
  },
  {
   "cell_type": "markdown",
   "metadata": {},
   "source": [
    "Now get all the info in these properties"
   ]
  },
  {
   "cell_type": "code",
   "execution_count": 17,
   "metadata": {},
   "outputs": [
    {
     "name": "stdout",
     "output_type": "stream",
     "text": [
      "[2020-09-29 17:01:19 sqlstore]: IMPORT graph directly into table graph_23 from /Users/pedroszekely/Downloads/kypher/Q11173-temp/properties.tsv ...\n",
      "[2020-09-29 17:01:19 query]: SQL Translation:\n",
      "---------------------------------------------\n",
      "  SELECT DISTINCT graph_5_c1.\"id\", graph_5_c1.\"node1\", graph_5_c1.\"label\", graph_5_c1.\"node2\"\n",
      "     FROM graph_23 AS graph_23_c2, graph_5 AS graph_5_c1\n",
      "     WHERE graph_23_c2.\"node1\"=graph_5_c1.\"node1\"\n",
      "  PARAS: []\n",
      "---------------------------------------------\n",
      "[2020-09-29 17:01:19 sqlstore]: CREATE INDEX on table graph_23 column node1 ...\n",
      "[2020-09-29 17:01:19 sqlstore]: ANALYZE INDEX on table graph_23 column node1 ...\n",
      "        0.71 real         0.55 user         0.13 sys\n"
     ]
    }
   ],
   "source": [
    "!$kgtk query -i $TEMP/properties.tsv -i $WIKIDATA_PARTS/part.wikibase_item.tsv.gz --graph-cache $STORE \\\n",
    "-o $OUT/$NAME.properties.tsv.gz \\\n",
    "--match 'wikibase_item: (p)-[l]->(n2), properties: (p)-[]->()' \\\n",
    "--return 'distinct l, p, l.label, n2' "
   ]
  },
  {
   "cell_type": "markdown",
   "metadata": {},
   "source": [
    "### Generate the labels, aliases and descriptions\n",
    "We want the labels, aliases and descriptions for every q-node in our dataset. THis means that we need these lables for all q-nodes that appear in the node1 or node2 position.\n",
    "\n",
    "The first step is to concatenate all the files in our dataset."
   ]
  },
  {
   "cell_type": "code",
   "execution_count": 18,
   "metadata": {},
   "outputs": [
    {
     "name": "stdout",
     "output_type": "stream",
     "text": [
      "        0.65 real         0.53 user         0.10 sys\r\n"
     ]
    }
   ],
   "source": [
    "!$kgtk cat $OUT/*.gz | gzip > $TEMP/everything_2.tsv.gz"
   ]
  },
  {
   "cell_type": "markdown",
   "metadata": {},
   "source": [
    "Now we extract the labels from from our input wikidata folder. We do this matching node1, thend node 2, then we concatenate the resulting label files."
   ]
  },
  {
   "cell_type": "code",
   "execution_count": 19,
   "metadata": {
    "scrolled": true
   },
   "outputs": [
    {
     "name": "stdout",
     "output_type": "stream",
     "text": [
      "$kgtk query -i $TEMP/everything_2.tsv.gz -i $WIKIDATA_PARTS/part.label.en.tsv.gz --graph-cache $STORE      -o $TEMP/Q11173.label.en.1.tsv.gz      --match 'everything_2: (n1)-[]->(), part: (n1)-[l]->(n2)'     --return 'distinct l, n1, l.label, n2'     --order-by 'n1, l.label, n2'\n",
      "\n",
      "[2020-09-29 17:01:21 sqlstore]: IMPORT graph directly into table graph_24 from /Users/pedroszekely/Downloads/kypher/Q11173-temp/everything_2.tsv.gz ...\n",
      "[2020-09-29 17:01:21 sqlstore]: IMPORT graph directly into table graph_25 from /Users/pedroszekely/Downloads/kypher/output.all.10/part.label.en.tsv.gz ...\n",
      "[2020-09-29 17:01:21 query]: SQL Translation:\n",
      "---------------------------------------------\n",
      "  SELECT DISTINCT graph_25_c2.\"id\", graph_24_c1.\"node1\", graph_25_c2.\"label\", graph_25_c2.\"node2\"\n",
      "     FROM graph_24 AS graph_24_c1, graph_25 AS graph_25_c2\n",
      "     WHERE graph_24_c1.\"node1\"=graph_25_c2.\"node1\"\n",
      "     ORDER BY graph_24_c1.\"node1\" ASC, graph_25_c2.\"label\" ASC, graph_25_c2.\"node2\" ASC\n",
      "  PARAS: []\n",
      "---------------------------------------------\n",
      "[2020-09-29 17:01:21 sqlstore]: CREATE INDEX on table graph_25 column node1 ...\n",
      "[2020-09-29 17:01:21 sqlstore]: ANALYZE INDEX on table graph_25 column node1 ...\n",
      "[2020-09-29 17:01:21 sqlstore]: CREATE INDEX on table graph_24 column node1 ...\n",
      "[2020-09-29 17:01:21 sqlstore]: ANALYZE INDEX on table graph_24 column node1 ...\n",
      "        1.44 real         1.62 user         0.20 sys\n",
      "\n",
      "$kgtk query -i $TEMP/everything_2.tsv.gz -i $WIKIDATA_PARTS/part.label.en.tsv.gz --graph-cache $STORE      -o $TEMP/Q11173.label.en.2.tsv.gz      --match 'everything_2: ()-[]->(n1), part: (n1)-[l]->(n2)'     --return 'distinct l, n1 as node1, l.label, n2'     --order-by 'n1, l.label, n2'\n",
      "\n",
      "[2020-09-29 17:01:22 query]: SQL Translation:\n",
      "---------------------------------------------\n",
      "  SELECT DISTINCT graph_25_c2.\"id\", graph_25_c2.\"node1\" \"node1\", graph_25_c2.\"label\", graph_25_c2.\"node2\"\n",
      "     FROM graph_24 AS graph_24_c1, graph_25 AS graph_25_c2\n",
      "     WHERE graph_24_c1.\"node2\"=graph_25_c2.\"node1\"\n",
      "     ORDER BY graph_25_c2.\"node1\" ASC, graph_25_c2.\"label\" ASC, graph_25_c2.\"node2\" ASC\n",
      "  PARAS: []\n",
      "---------------------------------------------\n",
      "[2020-09-29 17:01:22 sqlstore]: CREATE INDEX on table graph_24 column node2 ...\n",
      "[2020-09-29 17:01:22 sqlstore]: ANALYZE INDEX on table graph_24 column node2 ...\n",
      "        0.67 real         0.54 user         0.11 sys\n",
      "\n",
      "kgtk cat $TEMP/Q11173.label.*.gz | gzip > $OUT/Q11173.label.en.tsv.gz\n",
      "\n",
      "\n",
      "$kgtk query -i $TEMP/everything_2.tsv.gz -i $WIKIDATA_PARTS/part.alias.en.tsv.gz --graph-cache $STORE      -o $TEMP/Q11173.alias.en.1.tsv.gz      --match 'everything_2: (n1)-[]->(), part: (n1)-[l]->(n2)'     --return 'distinct l, n1, l.label, n2'     --order-by 'n1, l.label, n2'\n",
      "\n",
      "[2020-09-29 17:01:24 sqlstore]: IMPORT graph directly into table graph_26 from /Users/pedroszekely/Downloads/kypher/output.all.10/part.alias.en.tsv.gz ...\n",
      "[2020-09-29 17:01:24 query]: SQL Translation:\n",
      "---------------------------------------------\n",
      "  SELECT DISTINCT graph_26_c2.\"id\", graph_24_c1.\"node1\", graph_26_c2.\"label\", graph_26_c2.\"node2\"\n",
      "     FROM graph_24 AS graph_24_c1, graph_26 AS graph_26_c2\n",
      "     WHERE graph_24_c1.\"node1\"=graph_26_c2.\"node1\"\n",
      "     ORDER BY graph_24_c1.\"node1\" ASC, graph_26_c2.\"label\" ASC, graph_26_c2.\"node2\" ASC\n",
      "  PARAS: []\n",
      "---------------------------------------------\n",
      "[2020-09-29 17:01:24 sqlstore]: CREATE INDEX on table graph_26 column node1 ...\n",
      "[2020-09-29 17:01:24 sqlstore]: ANALYZE INDEX on table graph_26 column node1 ...\n",
      "        0.90 real         0.84 user         0.15 sys\n",
      "\n",
      "$kgtk query -i $TEMP/everything_2.tsv.gz -i $WIKIDATA_PARTS/part.alias.en.tsv.gz --graph-cache $STORE      -o $TEMP/Q11173.alias.en.2.tsv.gz      --match 'everything_2: ()-[]->(n1), part: (n1)-[l]->(n2)'     --return 'distinct l, n1 as node1, l.label, n2'     --order-by 'n1, l.label, n2'\n",
      "\n",
      "[2020-09-29 17:01:24 query]: SQL Translation:\n",
      "---------------------------------------------\n",
      "  SELECT DISTINCT graph_26_c2.\"id\", graph_24_c1.\"node2\" \"node1\", graph_26_c2.\"label\", graph_26_c2.\"node2\"\n",
      "     FROM graph_24 AS graph_24_c1, graph_26 AS graph_26_c2\n",
      "     WHERE graph_24_c1.\"node2\"=graph_26_c2.\"node1\"\n",
      "     ORDER BY graph_24_c1.\"node2\" ASC, graph_26_c2.\"label\" ASC, graph_26_c2.\"node2\" ASC\n",
      "  PARAS: []\n",
      "---------------------------------------------\n",
      "        0.67 real         0.54 user         0.12 sys\n",
      "\n",
      "kgtk cat $TEMP/Q11173.alias.*.gz | gzip > $OUT/Q11173.alias.en.tsv.gz\n",
      "\n",
      "\n",
      "$kgtk query -i $TEMP/everything_2.tsv.gz -i $WIKIDATA_PARTS/part.description.en.tsv.gz --graph-cache $STORE      -o $TEMP/Q11173.description.en.1.tsv.gz      --match 'everything_2: (n1)-[]->(), part: (n1)-[l]->(n2)'     --return 'distinct l, n1, l.label, n2'     --order-by 'n1, l.label, n2'\n",
      "\n",
      "[2020-09-29 17:01:26 sqlstore]: IMPORT graph directly into table graph_27 from /Users/pedroszekely/Downloads/kypher/output.all.10/part.description.en.tsv.gz ...\n",
      "[2020-09-29 17:01:26 query]: SQL Translation:\n",
      "---------------------------------------------\n",
      "  SELECT DISTINCT graph_27_c2.\"id\", graph_27_c2.\"node1\", graph_27_c2.\"label\", graph_27_c2.\"node2\"\n",
      "     FROM graph_24 AS graph_24_c1, graph_27 AS graph_27_c2\n",
      "     WHERE graph_24_c1.\"node1\"=graph_27_c2.\"node1\"\n",
      "     ORDER BY graph_27_c2.\"node1\" ASC, graph_27_c2.\"label\" ASC, graph_27_c2.\"node2\" ASC\n",
      "  PARAS: []\n",
      "---------------------------------------------\n",
      "[2020-09-29 17:01:26 sqlstore]: CREATE INDEX on table graph_27 column node1 ...\n",
      "[2020-09-29 17:01:27 sqlstore]: ANALYZE INDEX on table graph_27 column node1 ...\n",
      "        1.49 real         1.75 user         0.18 sys\n",
      "\n",
      "$kgtk query -i $TEMP/everything_2.tsv.gz -i $WIKIDATA_PARTS/part.description.en.tsv.gz --graph-cache $STORE      -o $TEMP/Q11173.description.en.2.tsv.gz      --match 'everything_2: ()-[]->(n1), part: (n1)-[l]->(n2)'     --return 'distinct l, n1 as node1, l.label, n2'     --order-by 'n1, l.label, n2'\n",
      "\n",
      "[2020-09-29 17:01:27 query]: SQL Translation:\n",
      "---------------------------------------------\n",
      "  SELECT DISTINCT graph_27_c2.\"id\", graph_24_c1.\"node2\" \"node1\", graph_27_c2.\"label\", graph_27_c2.\"node2\"\n",
      "     FROM graph_24 AS graph_24_c1, graph_27 AS graph_27_c2\n",
      "     WHERE graph_24_c1.\"node2\"=graph_27_c2.\"node1\"\n",
      "     ORDER BY graph_24_c1.\"node2\" ASC, graph_27_c2.\"label\" ASC, graph_27_c2.\"node2\" ASC\n",
      "  PARAS: []\n",
      "---------------------------------------------\n",
      "        0.67 real         0.54 user         0.11 sys\n",
      "\n",
      "kgtk cat $TEMP/Q11173.description.*.gz | gzip > $OUT/Q11173.description.en.tsv.gz\n",
      "\n",
      "\n"
     ]
    }
   ],
   "source": [
    "labels = [\n",
    "    \"label\",\n",
    "    \"alias\",\n",
    "    \"description\"\n",
    "]\n",
    "\n",
    "command_node1 = \"$kgtk query -i $TEMP/everything_2.tsv.gz -i $WIKIDATA_PARTS/part.LABEL.en.tsv.gz --graph-cache $STORE  \\\n",
    "    -o $TEMP/NAME.LABEL.en.1.tsv.gz  \\\n",
    "    --match 'everything_2: (n1)-[]->(), part: (n1)-[l]->(n2)' \\\n",
    "    --return 'distinct l, n1, l.label, n2' \\\n",
    "    --order-by 'n1, l.label, n2'\"\n",
    "\n",
    "command_node2 = \"$kgtk query -i $TEMP/everything_2.tsv.gz -i $WIKIDATA_PARTS/part.LABEL.en.tsv.gz --graph-cache $STORE  \\\n",
    "    -o $TEMP/NAME.LABEL.en.2.tsv.gz  \\\n",
    "    --match 'everything_2: ()-[]->(n1), part: (n1)-[l]->(n2)' \\\n",
    "    --return 'distinct l, n1 as node1, l.label, n2' \\\n",
    "    --order-by 'n1, l.label, n2'\"\n",
    "\n",
    "cat_command = \"kgtk cat $TEMP/NAME.LABEL.*.gz | gzip > $OUT/NAME.LABEL.en.tsv.gz\"\n",
    "\n",
    "for label in labels:\n",
    "    run_command(command_node1, {\"LABEL\": label})\n",
    "    run_command(command_node2, {\"LABEL\": label})\n",
    "    run_command(cat_command, {\"LABEL\": label})\n"
   ]
  },
  {
   "cell_type": "markdown",
   "metadata": {},
   "source": [
    "### Summary of what we got"
   ]
  },
  {
   "cell_type": "code",
   "execution_count": 20,
   "metadata": {},
   "outputs": [
    {
     "name": "stdout",
     "output_type": "stream",
     "text": [
      "Q11173.P279star.tsv.gz     171\n",
      "Q11173.alias.en.tsv.gz     929\n",
      "Q11173.description.en.tsv.gz     325\n",
      "Q11173.label.en.tsv.gz     318\n",
      "Q11173.part.commonsMedia.tsv.gz     169\n",
      "Q11173.part.external_id.tsv.gz    4693\n",
      "Q11173.part.geo_shape.tsv.gz       1\n",
      "Q11173.part.globe_coordinate.tsv.gz       1\n",
      "Q11173.part.math.tsv.gz       1\n",
      "Q11173.part.monolingualtext.tsv.gz      26\n",
      "Q11173.part.musical_notation.tsv.gz       1\n",
      "Q11173.part.quantity.tsv.gz     454\n",
      "Q11173.part.string.tsv.gz     660\n",
      "Q11173.part.time.tsv.gz       1\n",
      "Q11173.part.url.tsv.gz       2\n",
      "Q11173.part.wikibase_form.tsv.gz       1\n",
      "Q11173.part.wikibase_item.tsv.gz    1047\n",
      "Q11173.part.wikibase_property.tsv.gz       1\n",
      "Q11173.properties.tsv.gz       1\n"
     ]
    }
   ],
   "source": [
    "%%bash\n",
    "for f in $OUT/*.tsv.gz; do\n",
    "    echo -n `basename $f`\n",
    "    gzcat $f | wc -l\n",
    "done"
   ]
  },
  {
   "cell_type": "markdown",
   "metadata": {},
   "source": [
    "Unzip the everything file as graph-statistics cannont work with gz files"
   ]
  },
  {
   "cell_type": "code",
   "execution_count": 21,
   "metadata": {},
   "outputs": [
    {
     "name": "stdout",
     "output_type": "stream",
     "text": [
      "rm: /Users/pedroszekely/Downloads/kypher/Q11173-temp/everything_2.tsv: No such file or directory\r\n"
     ]
    }
   ],
   "source": [
    "!rm $TEMP/everything_2.tsv"
   ]
  },
  {
   "cell_type": "code",
   "execution_count": 22,
   "metadata": {},
   "outputs": [],
   "source": [
    "!gunzip --keep $TEMP/everything_2.tsv.gz"
   ]
  },
  {
   "cell_type": "code",
   "execution_count": 23,
   "metadata": {},
   "outputs": [
    {
     "name": "stdout",
     "output_type": "stream",
     "text": [
      "       15.21 real         4.85 user         0.86 sys\r\n"
     ]
    }
   ],
   "source": [
    "!$kgtk graph-statistics --log $OUT/$NAME.everything.statistics.txt \\\n",
    "    --statistics-only --pagerank -i $TEMP/everything_2.tsv \\\n",
    "    | gzip > $OUT/$NAME.statistics.tsv.gz"
   ]
  },
  {
   "cell_type": "code",
   "execution_count": 24,
   "metadata": {
    "scrolled": true
   },
   "outputs": [
    {
     "name": "stdout",
     "output_type": "stream",
     "text": [
      "loading the TSV graph now ...\r\n",
      "graph loaded! It has 6726 nodes and 7214 edges\r\n",
      "\r\n",
      "###Top relations:\r\n",
      "P31\t416\r\n",
      "P4964\t400\r\n",
      "P6689\t318\r\n",
      "P638\t275\r\n",
      "P274\t265\r\n",
      "P231\t261\r\n",
      "P235\t255\r\n",
      "P234\t252\r\n",
      "P661\t252\r\n",
      "P662\t251\r\n",
      "\r\n",
      "###PageRank\r\n",
      "Max pageranks\r\n",
      "300\tQ423762\t0.006476\r\n",
      "37\tQ43656\t0.013584\r\n",
      "3\tQ11173\t0.016631\r\n",
      "169\tQ193572\t0.010468\r\n",
      "160\tQ171877\t0.009084\r\n"
     ]
    }
   ],
   "source": [
    "!cat $OUT/$NAME.everything.statistics.txt"
   ]
  },
  {
   "cell_type": "code",
   "execution_count": null,
   "metadata": {},
   "outputs": [],
   "source": []
  },
  {
   "cell_type": "code",
   "execution_count": 25,
   "metadata": {},
   "outputs": [
    {
     "name": "stdout",
     "output_type": "stream",
     "text": [
      ".\u001b[1;33mr\u001b[31mw\u001b[0m\u001b[38;5;244m-\u001b[33mr\u001b[38;5;244m--\u001b[33mr\u001b[38;5;244m--\u001b[0m  \u001b[1;32m71\u001b[0m\u001b[32mk\u001b[0m \u001b[1;33mpedroszekely\u001b[0m \u001b[34m27 Sep  8:37\u001b[0m all-distribution.tsv\r\n",
      ".\u001b[1;33mr\u001b[31mw\u001b[0m\u001b[38;5;244m-\u001b[33mr\u001b[38;5;244m--\u001b[33mr\u001b[38;5;244m--\u001b[0m  \u001b[1;32m555\u001b[0m \u001b[1;33mpedroszekely\u001b[0m \u001b[34m27 Sep  8:42\u001b[0m \u001b[31mall.isa.Q318.tsv.gz\u001b[0m\r\n",
      ".\u001b[1;33mr\u001b[31mw\u001b[0m\u001b[38;5;244m-\u001b[33mr\u001b[38;5;244m--\u001b[33mr\u001b[38;5;244m--\u001b[0m   \u001b[1;32m88\u001b[0m \u001b[1;33mpedroszekely\u001b[0m \u001b[34m27 Sep  8:42\u001b[0m \u001b[31mall.isa.Q13442814.tsv.gz\u001b[0m\r\n",
      ".\u001b[1;33mr\u001b[31mw\u001b[0m\u001b[38;5;244m-\u001b[33mr\u001b[38;5;244m--\u001b[33mr\u001b[38;5;244m--\u001b[0m \u001b[1;32m577\u001b[0m\u001b[32mk\u001b[0m \u001b[1;33mpedroszekely\u001b[0m \u001b[34m27 Sep  8:42\u001b[0m \u001b[31mall.isa.tsv.gz\u001b[0m\r\n",
      ".\u001b[1;33mr\u001b[31mw\u001b[0m\u001b[38;5;244m-\u001b[33mr\u001b[38;5;244m--\u001b[33mr\u001b[38;5;244m--\u001b[0m \u001b[1;32m842\u001b[0m\u001b[32mk\u001b[0m \u001b[1;33mpedroszekely\u001b[0m \u001b[34m27 Sep  8:41\u001b[0m \u001b[31mall.P31.tsv.gz\u001b[0m\r\n",
      ".\u001b[1;33mr\u001b[31mw\u001b[0m\u001b[38;5;244m-\u001b[33mr\u001b[38;5;244m--\u001b[33mr\u001b[38;5;244m--\u001b[0m \u001b[1;32m885\u001b[0m\u001b[32mk\u001b[0m \u001b[1;33mpedroszekely\u001b[0m \u001b[34m27 Sep  8:41\u001b[0m \u001b[31mall.P31_P279.tsv.gz\u001b[0m\r\n",
      ".\u001b[1;33mr\u001b[31mw\u001b[0m\u001b[38;5;244m-\u001b[33mr\u001b[38;5;244m--\u001b[33mr\u001b[38;5;244m--\u001b[0m  \u001b[1;32m42\u001b[0m\u001b[32mk\u001b[0m \u001b[1;33mpedroszekely\u001b[0m \u001b[34m27 Sep  8:41\u001b[0m \u001b[31mall.P279.tsv.gz\u001b[0m\r\n",
      ".\u001b[1;33mr\u001b[31mw\u001b[0m\u001b[38;5;244m-\u001b[33mr\u001b[38;5;244m--\u001b[33mr\u001b[38;5;244m--\u001b[0m \u001b[1;32m178\u001b[0m\u001b[32mk\u001b[0m \u001b[1;33mpedroszekely\u001b[0m \u001b[34m27 Sep  8:41\u001b[0m \u001b[31mall.P279star.tsv.gz\u001b[0m\r\n",
      ".\u001b[1;33mr\u001b[31mw\u001b[0m\u001b[38;5;244m-\u001b[33mr\u001b[38;5;244m--\u001b[33mr\u001b[38;5;244m--\u001b[0m  \u001b[1;32m212\u001b[0m \u001b[1;33mpedroszekely\u001b[0m \u001b[34m27 Sep  8:40\u001b[0m \u001b[31mall.wikidatatype.distribution.tsv.gz\u001b[0m\r\n",
      ".\u001b[1;33mr\u001b[31mw\u001b[0m\u001b[38;5;244m-\u001b[33mr\u001b[38;5;244m--\u001b[33mr\u001b[38;5;244m--\u001b[0m \u001b[1;32m441\u001b[0m\u001b[32mk\u001b[0m \u001b[1;33mpedroszekely\u001b[0m \u001b[34m27 Sep  8:39\u001b[0m \u001b[31mpart.alias.en.tsv.gz\u001b[0m\r\n",
      ".\u001b[1;33mr\u001b[31mw\u001b[0m\u001b[38;5;244m-\u001b[33mr\u001b[38;5;244m--\u001b[33mr\u001b[38;5;244m--\u001b[0m \u001b[1;32m3.2\u001b[0m\u001b[32mM\u001b[0m \u001b[1;33mpedroszekely\u001b[0m \u001b[34m27 Sep  8:37\u001b[0m \u001b[31mpart.alias.tsv.gz\u001b[0m\r\n",
      ".\u001b[1;33mr\u001b[31mw\u001b[0m\u001b[38;5;244m-\u001b[33mr\u001b[38;5;244m--\u001b[33mr\u001b[38;5;244m--\u001b[0m \u001b[1;32m882\u001b[0m\u001b[32mk\u001b[0m \u001b[1;33mpedroszekely\u001b[0m \u001b[34m27 Sep  8:41\u001b[0m \u001b[31mpart.commonsMedia.tsv.gz\u001b[0m\r\n",
      ".\u001b[1;33mr\u001b[31mw\u001b[0m\u001b[38;5;244m-\u001b[33mr\u001b[38;5;244m--\u001b[33mr\u001b[38;5;244m--\u001b[0m \u001b[1;32m1.6\u001b[0m\u001b[32mM\u001b[0m \u001b[1;33mpedroszekely\u001b[0m \u001b[34m27 Sep  8:39\u001b[0m \u001b[31mpart.description.en.tsv.gz\u001b[0m\r\n",
      ".\u001b[1;33mr\u001b[31mw\u001b[0m\u001b[38;5;244m-\u001b[33mr\u001b[38;5;244m--\u001b[33mr\u001b[38;5;244m--\u001b[0m  \u001b[1;32m60\u001b[0m\u001b[32mM\u001b[0m \u001b[1;33mpedroszekely\u001b[0m \u001b[34m27 Sep  8:38\u001b[0m \u001b[31mpart.description.tsv.gz\u001b[0m\r\n",
      ".\u001b[1;33mr\u001b[31mw\u001b[0m\u001b[38;5;244m-\u001b[33mr\u001b[38;5;244m--\u001b[33mr\u001b[38;5;244m--\u001b[0m \u001b[1;32m5.7\u001b[0m\u001b[32mM\u001b[0m \u001b[1;33mpedroszekely\u001b[0m \u001b[34m27 Sep  8:41\u001b[0m \u001b[31mpart.external_id.tsv.gz\u001b[0m\r\n",
      ".\u001b[1;33mr\u001b[31mw\u001b[0m\u001b[38;5;244m-\u001b[33mr\u001b[38;5;244m--\u001b[33mr\u001b[38;5;244m--\u001b[0m \u001b[1;32m4.1\u001b[0m\u001b[32mk\u001b[0m \u001b[1;33mpedroszekely\u001b[0m \u001b[34m27 Sep  8:41\u001b[0m \u001b[31mpart.geo_shape.tsv.gz\u001b[0m\r\n",
      ".\u001b[1;33mr\u001b[31mw\u001b[0m\u001b[38;5;244m-\u001b[33mr\u001b[38;5;244m--\u001b[33mr\u001b[38;5;244m--\u001b[0m \u001b[1;32m400\u001b[0m\u001b[32mk\u001b[0m \u001b[1;33mpedroszekely\u001b[0m \u001b[34m27 Sep  8:41\u001b[0m \u001b[31mpart.globe_coordinate.tsv.gz\u001b[0m\r\n",
      ".\u001b[1;33mr\u001b[31mw\u001b[0m\u001b[38;5;244m-\u001b[33mr\u001b[38;5;244m--\u001b[33mr\u001b[38;5;244m--\u001b[0m \u001b[1;32m2.1\u001b[0m\u001b[32mM\u001b[0m \u001b[1;33mpedroszekely\u001b[0m \u001b[34m27 Sep  8:39\u001b[0m \u001b[31mpart.label.en.tsv.gz\u001b[0m\r\n",
      ".\u001b[1;33mr\u001b[31mw\u001b[0m\u001b[38;5;244m-\u001b[33mr\u001b[38;5;244m--\u001b[33mr\u001b[38;5;244m--\u001b[0m  \u001b[1;32m21\u001b[0m\u001b[32mM\u001b[0m \u001b[1;33mpedroszekely\u001b[0m \u001b[34m27 Sep  8:37\u001b[0m \u001b[31mpart.label.tsv.gz\u001b[0m\r\n",
      ".\u001b[1;33mr\u001b[31mw\u001b[0m\u001b[38;5;244m-\u001b[33mr\u001b[38;5;244m--\u001b[33mr\u001b[38;5;244m--\u001b[0m \u001b[1;32m2.5\u001b[0m\u001b[32mk\u001b[0m \u001b[1;33mpedroszekely\u001b[0m \u001b[34m27 Sep  8:40\u001b[0m \u001b[31mpart.math.tsv.gz\u001b[0m\r\n",
      ".\u001b[1;33mr\u001b[31mw\u001b[0m\u001b[38;5;244m-\u001b[33mr\u001b[38;5;244m--\u001b[33mr\u001b[38;5;244m--\u001b[0m \u001b[1;32m479\u001b[0m\u001b[32mk\u001b[0m \u001b[1;33mpedroszekely\u001b[0m \u001b[34m27 Sep  8:41\u001b[0m \u001b[31mpart.monolingualtext.tsv.gz\u001b[0m\r\n",
      ".\u001b[1;33mr\u001b[31mw\u001b[0m\u001b[38;5;244m-\u001b[33mr\u001b[38;5;244m--\u001b[33mr\u001b[38;5;244m--\u001b[0m  \u001b[1;32m228\u001b[0m \u001b[1;33mpedroszekely\u001b[0m \u001b[34m27 Sep  8:41\u001b[0m \u001b[31mpart.musical_notation.tsv.gz\u001b[0m\r\n",
      ".\u001b[1;33mr\u001b[31mw\u001b[0m\u001b[38;5;244m-\u001b[33mr\u001b[38;5;244m--\u001b[33mr\u001b[38;5;244m--\u001b[0m \u001b[1;32m628\u001b[0m\u001b[32mk\u001b[0m \u001b[1;33mpedroszekely\u001b[0m \u001b[34m27 Sep  8:40\u001b[0m \u001b[31mpart.quantity.tsv.gz\u001b[0m\r\n",
      ".\u001b[1;33mr\u001b[31mw\u001b[0m\u001b[38;5;244m-\u001b[33mr\u001b[38;5;244m--\u001b[33mr\u001b[38;5;244m--\u001b[0m \u001b[1;32m1.1\u001b[0m\u001b[32mM\u001b[0m \u001b[1;33mpedroszekely\u001b[0m \u001b[34m27 Sep  8:41\u001b[0m \u001b[31mpart.string.tsv.gz\u001b[0m\r\n",
      ".\u001b[1;33mr\u001b[31mw\u001b[0m\u001b[38;5;244m-\u001b[33mr\u001b[38;5;244m--\u001b[33mr\u001b[38;5;244m--\u001b[0m \u001b[1;32m816\u001b[0m\u001b[32mk\u001b[0m \u001b[1;33mpedroszekely\u001b[0m \u001b[34m27 Sep  8:40\u001b[0m \u001b[31mpart.time.tsv.gz\u001b[0m\r\n",
      ".\u001b[1;33mr\u001b[31mw\u001b[0m\u001b[38;5;244m-\u001b[33mr\u001b[38;5;244m--\u001b[33mr\u001b[38;5;244m--\u001b[0m \u001b[1;32m854\u001b[0m\u001b[32mk\u001b[0m \u001b[1;33mpedroszekely\u001b[0m \u001b[34m27 Sep  8:41\u001b[0m \u001b[31mpart.type.tsv.gz\u001b[0m\r\n",
      ".\u001b[1;33mr\u001b[31mw\u001b[0m\u001b[38;5;244m-\u001b[33mr\u001b[38;5;244m--\u001b[33mr\u001b[38;5;244m--\u001b[0m \u001b[1;32m256\u001b[0m\u001b[32mk\u001b[0m \u001b[1;33mpedroszekely\u001b[0m \u001b[34m27 Sep  8:41\u001b[0m \u001b[31mpart.url.tsv.gz\u001b[0m\r\n",
      ".\u001b[1;33mr\u001b[31mw\u001b[0m\u001b[38;5;244m-\u001b[33mr\u001b[38;5;244m--\u001b[33mr\u001b[38;5;244m--\u001b[0m  \u001b[1;32m162\u001b[0m \u001b[1;33mpedroszekely\u001b[0m \u001b[34m27 Sep  8:40\u001b[0m \u001b[31mpart.wikibase_form.tsv.gz\u001b[0m\r\n",
      ".\u001b[1;33mr\u001b[31mw\u001b[0m\u001b[38;5;244m-\u001b[33mr\u001b[38;5;244m--\u001b[33mr\u001b[38;5;244m--\u001b[0m \u001b[1;32m6.3\u001b[0m\u001b[32mM\u001b[0m \u001b[1;33mpedroszekely\u001b[0m \u001b[34m27 Sep  8:40\u001b[0m \u001b[31mpart.wikibase_item.tsv.gz\u001b[0m\r\n",
      ".\u001b[1;33mr\u001b[31mw\u001b[0m\u001b[38;5;244m-\u001b[33mr\u001b[38;5;244m--\u001b[33mr\u001b[38;5;244m--\u001b[0m \u001b[1;32m1.4\u001b[0m\u001b[32mk\u001b[0m \u001b[1;33mpedroszekely\u001b[0m \u001b[34m27 Sep  8:41\u001b[0m \u001b[31mpart.wikibase_property.tsv.gz\u001b[0m\r\n",
      ".\u001b[1;33mr\u001b[31mw\u001b[0m\u001b[38;5;244m-\u001b[33mr\u001b[38;5;244m--\u001b[33mr\u001b[38;5;244m--\u001b[0m \u001b[1;32m8.6\u001b[0m\u001b[32mM\u001b[0m \u001b[1;33mpedroszekely\u001b[0m \u001b[34m27 Sep  8:41\u001b[0m \u001b[31mpart.wikipedia_sitelink.tsv.gz\u001b[0m\r\n"
     ]
    }
   ],
   "source": [
    "!exa -l $WIKIDATA_PARTS"
   ]
  },
  {
   "cell_type": "markdown",
   "metadata": {},
   "source": [
    "Example of how to do simple queries"
   ]
  },
  {
   "cell_type": "code",
   "execution_count": 26,
   "metadata": {},
   "outputs": [
    {
     "name": "stdout",
     "output_type": "stream",
     "text": [
      "[2020-09-29 17:01:45 sqlstore]: IMPORT graph directly into table graph_28 from /Users/pedroszekely/Downloads/kypher/Q11173/Q11173.label.en.tsv.gz ...\n",
      "[2020-09-29 17:01:45 query]: SQL Translation:\n",
      "---------------------------------------------\n",
      "  SELECT graph_28_c1.\"node1\" \"node\", graph_28_c1.\"node2\" \"label\"\n",
      "     FROM graph_28 AS graph_28_c1\n",
      "     WHERE graph_28_c1.\"label\"=?\n",
      "     AND graph_28_c1.\"node1\"=?\n",
      "  PARAS: ['label', 'P39']\n",
      "---------------------------------------------\n",
      "[2020-09-29 17:01:45 sqlstore]: CREATE INDEX on table graph_28 column label ...\n",
      "[2020-09-29 17:01:45 sqlstore]: ANALYZE INDEX on table graph_28 column label ...\n",
      "[2020-09-29 17:01:45 sqlstore]: CREATE INDEX on table graph_28 column node1 ...\n",
      "[2020-09-29 17:01:45 sqlstore]: ANALYZE INDEX on table graph_28 column node1 ...\n",
      "node\tlabel\n",
      "        0.90 real         0.59 user         0.18 sys\n"
     ]
    }
   ],
   "source": [
    "!$kgtk query -i $OUT/$NAME.label.en.tsv.gz --graph-cache $STORE \\\n",
    "--match '(n:P39)-[:label]->(n2)' \\\n",
    "--return 'n as node, n2 as label'"
   ]
  },
  {
   "cell_type": "markdown",
   "metadata": {},
   "source": [
    "Example of how to get statistics on the properties. "
   ]
  },
  {
   "cell_type": "code",
   "execution_count": 27,
   "metadata": {},
   "outputs": [
    {
     "name": "stdout",
     "output_type": "stream",
     "text": [
      "^C\r\n"
     ]
    }
   ],
   "source": [
    "!kgtk query -i $TEMP/everything_2.tsv.gz -i $WIKIDATA_PARTS/part.label.en.tsv.gz --graph-cache $STORE \\\n",
    "--match 'everything: (n1)-[l:P106]->(n2), label: (n2)-[:label]->(label)' \\\n",
    "--return 'distinct l.label as property_id, label as property_label, n2 as value, count(n2) as value_count' \\\n",
    "--order-by 'count(n2) desc' \\\n",
    "--limit 10 \\\n",
    "| column -t -s $'\\t' "
   ]
  },
  {
   "cell_type": "code",
   "execution_count": null,
   "metadata": {},
   "outputs": [],
   "source": []
  }
 ],
 "metadata": {
  "kernelspec": {
   "display_name": "kgtk",
   "language": "python",
   "name": "kgtk"
  },
  "language_info": {
   "codemirror_mode": {
    "name": "ipython",
    "version": 3
   },
   "file_extension": ".py",
   "mimetype": "text/x-python",
   "name": "python",
   "nbconvert_exporter": "python",
   "pygments_lexer": "ipython3",
   "version": "3.7.8"
  }
 },
 "nbformat": 4,
 "nbformat_minor": 4
}
