{
 "cells": [
  {
   "cell_type": "markdown",
   "metadata": {},
   "source": [
    "# Creating a subset of Wikidata\n",
    "\n",
    "This notebook illustrates how to create a subset of Wikidata. We use as an example https://www.wikidata.org/wiki/Q11173 (chemical compound)\n",
    "\n",
    "Parameters are set up in the first cell so that we can run this notebook in batch mode. Example invocation command:\n",
    "\n",
    "```\n",
    "papermill Example8\\ -\\ Wikidata\\ Subset.ipynb exmaple8.out.ipynb \\\n",
    "-p wikidata_home /Users/pedroszekely/Downloads/kypher \\\n",
    "-p wikidata_file all.10.tsv.gz \\\n",
    "-p wikidata_parts_folder /Users/pedroszekely/Downloads/kypher/output.all.10 \\\n",
    "-p subset_name Q11173 \\\n",
    "-p home /Users/pedroszekely/Downloads/kypher \\\n",
    "-p delete_database yes \n",
    "```"
   ]
  },
  {
   "cell_type": "code",
   "execution_count": 1,
   "metadata": {
    "tags": [
     "parameters"
    ]
   },
   "outputs": [],
   "source": [
    "# Parameters\n",
    "wikidata_home = \"/Users/pedroszekely/Downloads/kypher\"\n",
    "wikidata_file = \"all.10.tsv.gz\"\n",
    "wikidata_parts_folder = \"/Users/pedroszekely/Downloads/kypher/output.all.10\"\n",
    "subset_name = \"Q11173\"\n",
    "subset_name = \"Q318\"\n",
    "subset_name = \"Q5\"\n",
    "home = \"/Users/pedroszekely/Downloads/kypher\"\n",
    "delete_database = \"yes\""
   ]
  },
  {
   "cell_type": "code",
   "execution_count": null,
   "metadata": {},
   "outputs": [],
   "source": [
    "temp_folder = subset_name + \"-temp\"\n",
    "output_folder = subset_name"
   ]
  },
  {
   "cell_type": "code",
   "execution_count": 2,
   "metadata": {},
   "outputs": [],
   "source": [
    "import io\n",
    "import os\n",
    "import subprocess\n",
    "import sys\n",
    "\n",
    "import numpy as np\n",
    "import pandas as pd\n",
    "\n",
    "# from IPython.display import display, HTML, Image\n",
    "# from pandas_profiling import ProfileReport"
   ]
  },
  {
   "cell_type": "markdown",
   "metadata": {},
   "source": [
    "A convenience function to run templetazed commands, substituting NAME with the name of the dataset and substituting other keys provided in a dictionary."
   ]
  },
  {
   "cell_type": "code",
   "execution_count": 3,
   "metadata": {},
   "outputs": [],
   "source": [
    "def run_command(command, substitution_dictionary = {}):\n",
    "    \"\"\"Run a templetized command.\"\"\"\n",
    "    cmd = command.replace(\"NAME\", subset_name)\n",
    "    for k, v in substitution_dictionary.items():\n",
    "        cmd = cmd.replace(k, v)\n",
    "    \n",
    "    print(cmd)\n",
    "    output = subprocess.run([cmd], shell=True, universal_newlines=True, stdout=subprocess.PIPE, stderr=subprocess.PIPE)\n",
    "    print(output.stdout)\n",
    "    print(output.stderr)\n",
    "    #print(output.returncode)"
   ]
  },
  {
   "cell_type": "markdown",
   "metadata": {},
   "source": [
    "### Set up environment variables and folders that we need"
   ]
  },
  {
   "cell_type": "code",
   "execution_count": 4,
   "metadata": {},
   "outputs": [],
   "source": [
    "# folder containing wikidata broken down into smaller files.\n",
    "os.environ['WIKIDATA_PARTS'] = wikidata_parts_folder\n",
    "# path of folder where the wikidata parts folder is stored.\n",
    "os.environ['WIKIDATA_HOME'] = wikidata_home\n",
    "# name of the dataset\n",
    "os.environ['NAME'] = subset_name\n",
    "# folder where to put the output\n",
    "os.environ['OUT'] = \"{}/{}\".format(home, output_folder)\n",
    "# temporary folder\n",
    "os.environ['TEMP'] = \"{}/{}\".format(home, temp_folder)\n",
    "# kgtk command to run\n",
    "os.environ['kgtk'] = \"kgtk\"\n",
    "os.environ['kgtk'] = \"time kgtk --debug\"\n",
    "# absolute path of the db\n",
    "os.environ['STORE'] = \"{}/{}/wikidata.sqlite3.db\".format(home, temp_folder)"
   ]
  },
  {
   "cell_type": "code",
   "execution_count": 5,
   "metadata": {},
   "outputs": [
    {
     "name": "stdout",
     "output_type": "stream",
     "text": [
      "/Users/pedroszekely/Downloads/kypher\n"
     ]
    }
   ],
   "source": [
    "cd $home"
   ]
  },
  {
   "cell_type": "code",
   "execution_count": 6,
   "metadata": {},
   "outputs": [
    {
     "name": "stdout",
     "output_type": "stream",
     "text": [
      "mkdir: Q5: File exists\n",
      "mkdir: Q5-temp: File exists\n"
     ]
    }
   ],
   "source": [
    "!mkdir $output_folder\n",
    "!mkdir $temp_folder"
   ]
  },
  {
   "cell_type": "code",
   "execution_count": 7,
   "metadata": {},
   "outputs": [
    {
     "name": "stdout",
     "output_type": "stream",
     "text": [
      "rm: /Users/pedroszekely/Downloads/kypher/Q5/*.tsv: No such file or directory\n",
      "rm: /Users/pedroszekely/Downloads/kypher/Q5-temp/*.tsv: No such file or directory\n"
     ]
    }
   ],
   "source": [
    "!rm $OUT/*.tsv $OUT/*.tsv.gz\n",
    "!rm $TEMP/*.tsv $TEMP/*.tsv.gz"
   ]
  },
  {
   "cell_type": "code",
   "execution_count": 8,
   "metadata": {},
   "outputs": [
    {
     "name": "stdout",
     "output_type": "stream",
     "text": [
      "Deleted database\n"
     ]
    }
   ],
   "source": [
    "if delete_database:\n",
    "    print(\"Deleted database\")\n",
    "    !rm $TEMP/wikidata.sqlite3.db"
   ]
  },
  {
   "cell_type": "markdown",
   "metadata": {},
   "source": [
    "### Extract the Q-nodes for the items we want\n",
    "Here we assume that the subset is for an individual q-node, so that the subset name is the name of the q-node. We should generalize this so that this query can be passed in as a parameter. We construct a file that contains all the node1s that are isa of the given NAME q-node"
   ]
  },
  {
   "cell_type": "code",
   "execution_count": 9,
   "metadata": {},
   "outputs": [
    {
     "name": "stdout",
     "output_type": "stream",
     "text": [
      "$kgtk query -i $WIKIDATA_PARTS/all.isa.tsv.gz -i $WIKIDATA_PARTS/all.P279star.tsv.gz     --graph-cache $STORE     -o $TEMP/all.isa.Q5.tsv.gz      --match 'isa: (n1)-[l:isa]->(n2:Q5)'     --return 'distinct n1, l.label, n2'\n",
      "\n",
      "[2020-09-26 21:40:15 sqlstore]: IMPORT graph directly into table graph_1 from /Users/pedroszekely/Downloads/kypher/output.all.10/all.isa.tsv.gz ...\n",
      "[2020-09-26 21:40:16 sqlstore]: IMPORT graph directly into table graph_2 from /Users/pedroszekely/Downloads/kypher/output.all.10/all.P279star.tsv.gz ...\n",
      "[2020-09-26 21:40:16 query]: SQL Translation:\n",
      "---------------------------------------------\n",
      "  SELECT DISTINCT graph_1_c1.\"node1\", graph_1_c1.\"label\", graph_1_c1.\"node2\"\n",
      "     FROM graph_1 AS graph_1_c1\n",
      "     WHERE graph_1_c1.\"label\"=?\n",
      "     AND graph_1_c1.\"node2\"=?\n",
      "  PARAS: ['isa', 'Q5']\n",
      "---------------------------------------------\n",
      "[2020-09-26 21:40:16 sqlstore]: CREATE INDEX on table graph_1 column label ...\n",
      "[2020-09-26 21:40:16 sqlstore]: ANALYZE INDEX on table graph_1 column label ...\n",
      "[2020-09-26 21:40:16 sqlstore]: CREATE INDEX on table graph_1 column node2 ...\n",
      "[2020-09-26 21:40:16 sqlstore]: ANALYZE INDEX on table graph_1 column node2 ...\n",
      "        1.56 real         1.44 user         0.25 sys\n",
      "\n"
     ]
    }
   ],
   "source": [
    "command = \"$kgtk query -i $WIKIDATA_PARTS/all.isa.tsv.gz -i $WIKIDATA_PARTS/all.P279star.tsv.gz \\\n",
    "    --graph-cache $STORE \\\n",
    "    -o $TEMP/all.isa.NAME.tsv.gz  \\\n",
    "    --match 'isa: (n1)-[l:isa]->(n2:NAME)' \\\n",
    "    --return 'distinct n1, l.label, n2'\"\n",
    "run_command(command)"
   ]
  },
  {
   "cell_type": "markdown",
   "metadata": {},
   "source": [
    "### Generate the parts of this dataset"
   ]
  },
  {
   "cell_type": "code",
   "execution_count": 10,
   "metadata": {},
   "outputs": [
    {
     "name": "stdout",
     "output_type": "stream",
     "text": [
      "$kgtk query -i $TEMP/all.isa.Q5.tsv.gz -i $WIKIDATA_PARTS/part.time.tsv.gz --graph-cache $STORE      -o $OUT/Q5.part.time.tsv.gz      --match 'Q5: (n1)-[]->(), time: (n1)-[l]->(n2)'     --return 'distinct l, n1, l.label, n2'     --order-by 'n1, l.label, n2'\n",
      "\n",
      "[2020-09-26 21:40:17 sqlstore]: IMPORT graph directly into table graph_3 from /Users/pedroszekely/Downloads/kypher/Q5-temp/all.isa.Q5.tsv.gz ...\n",
      "[2020-09-26 21:40:17 sqlstore]: IMPORT graph directly into table graph_4 from /Users/pedroszekely/Downloads/kypher/output.all.10/part.time.tsv.gz ...\n",
      "[2020-09-26 21:40:17 query]: SQL Translation:\n",
      "---------------------------------------------\n",
      "  SELECT DISTINCT graph_4_c2.\"id\", graph_3_c1.\"node1\", graph_4_c2.\"label\", graph_4_c2.\"node2\"\n",
      "     FROM graph_3 AS graph_3_c1, graph_4 AS graph_4_c2\n",
      "     WHERE graph_3_c1.\"node1\"=graph_4_c2.\"node1\"\n",
      "     ORDER BY graph_3_c1.\"node1\" ASC, graph_4_c2.\"label\" ASC, graph_4_c2.\"node2\" ASC\n",
      "  PARAS: []\n",
      "---------------------------------------------\n",
      "[2020-09-26 21:40:17 sqlstore]: CREATE INDEX on table graph_3 column node1 ...\n",
      "[2020-09-26 21:40:17 sqlstore]: ANALYZE INDEX on table graph_3 column node1 ...\n",
      "[2020-09-26 21:40:17 sqlstore]: CREATE INDEX on table graph_4 column node1 ...\n",
      "[2020-09-26 21:40:17 sqlstore]: ANALYZE INDEX on table graph_4 column node1 ...\n",
      "        1.81 real         1.71 user         0.21 sys\n",
      "\n",
      "$kgtk query -i $TEMP/all.isa.Q5.tsv.gz -i $WIKIDATA_PARTS/part.wikibase_item.tsv.gz --graph-cache $STORE      -o $OUT/Q5.part.wikibase_item.tsv.gz      --match 'Q5: (n1)-[]->(), wikibase_item: (n1)-[l]->(n2)'     --return 'distinct l, n1, l.label, n2'     --order-by 'n1, l.label, n2'\n",
      "\n",
      "[2020-09-26 21:40:19 sqlstore]: IMPORT graph directly into table graph_5 from /Users/pedroszekely/Downloads/kypher/output.all.10/part.wikibase_item.tsv.gz ...\n",
      "[2020-09-26 21:40:21 query]: SQL Translation:\n",
      "---------------------------------------------\n",
      "  SELECT DISTINCT graph_5_c2.\"id\", graph_5_c2.\"node1\", graph_5_c2.\"label\", graph_5_c2.\"node2\"\n",
      "     FROM graph_3 AS graph_3_c1, graph_5 AS graph_5_c2\n",
      "     WHERE graph_3_c1.\"node1\"=graph_5_c2.\"node1\"\n",
      "     ORDER BY graph_5_c2.\"node1\" ASC, graph_5_c2.\"label\" ASC, graph_5_c2.\"node2\" ASC\n",
      "  PARAS: []\n",
      "---------------------------------------------\n",
      "[2020-09-26 21:40:21 sqlstore]: CREATE INDEX on table graph_5 column node1 ...\n",
      "[2020-09-26 21:40:21 sqlstore]: ANALYZE INDEX on table graph_5 column node1 ...\n",
      "        7.02 real         8.20 user         0.36 sys\n",
      "\n",
      "$kgtk query -i $TEMP/all.isa.Q5.tsv.gz -i $WIKIDATA_PARTS/part.math.tsv.gz --graph-cache $STORE      -o $OUT/Q5.part.math.tsv.gz      --match 'Q5: (n1)-[]->(), math: (n1)-[l]->(n2)'     --return 'distinct l, n1, l.label, n2'     --order-by 'n1, l.label, n2'\n",
      "\n",
      "[2020-09-26 21:40:26 sqlstore]: IMPORT graph directly into table graph_6 from /Users/pedroszekely/Downloads/kypher/output.all.10/part.math.tsv.gz ...\n",
      "[2020-09-26 21:40:26 query]: SQL Translation:\n",
      "---------------------------------------------\n",
      "  SELECT DISTINCT graph_6_c2.\"id\", graph_3_c1.\"node1\", graph_6_c2.\"label\", graph_6_c2.\"node2\"\n",
      "     FROM graph_3 AS graph_3_c1, graph_6 AS graph_6_c2\n",
      "     WHERE graph_3_c1.\"node1\"=graph_6_c2.\"node1\"\n",
      "     ORDER BY graph_3_c1.\"node1\" ASC, graph_6_c2.\"label\" ASC, graph_6_c2.\"node2\" ASC\n",
      "  PARAS: []\n",
      "---------------------------------------------\n",
      "[2020-09-26 21:40:26 sqlstore]: CREATE INDEX on table graph_6 column node1 ...\n",
      "[2020-09-26 21:40:26 sqlstore]: ANALYZE INDEX on table graph_6 column node1 ...\n",
      "        0.69 real         0.54 user         0.14 sys\n",
      "\n",
      "$kgtk query -i $TEMP/all.isa.Q5.tsv.gz -i $WIKIDATA_PARTS/part.wikibase_form.tsv.gz --graph-cache $STORE      -o $OUT/Q5.part.wikibase_form.tsv.gz      --match 'Q5: (n1)-[]->(), wikibase_form: (n1)-[l]->(n2)'     --return 'distinct l, n1, l.label, n2'     --order-by 'n1, l.label, n2'\n",
      "\n",
      "[2020-09-26 21:40:26 sqlstore]: IMPORT graph directly into table graph_7 from /Users/pedroszekely/Downloads/kypher/output.all.10/part.wikibase_form.tsv.gz ...\n",
      "[2020-09-26 21:40:26 query]: SQL Translation:\n",
      "---------------------------------------------\n",
      "  SELECT DISTINCT graph_7_c2.\"id\", graph_7_c2.\"node1\", graph_7_c2.\"label\", graph_7_c2.\"node2\"\n",
      "     FROM graph_3 AS graph_3_c1, graph_7 AS graph_7_c2\n",
      "     WHERE graph_3_c1.\"node1\"=graph_7_c2.\"node1\"\n",
      "     ORDER BY graph_7_c2.\"node1\" ASC, graph_7_c2.\"label\" ASC, graph_7_c2.\"node2\" ASC\n",
      "  PARAS: []\n",
      "---------------------------------------------\n",
      "[2020-09-26 21:40:26 sqlstore]: CREATE INDEX on table graph_7 column node1 ...\n",
      "[2020-09-26 21:40:26 sqlstore]: ANALYZE INDEX on table graph_7 column node1 ...\n",
      "        0.72 real         0.56 user         0.14 sys\n",
      "\n",
      "$kgtk query -i $TEMP/all.isa.Q5.tsv.gz -i $WIKIDATA_PARTS/part.quantity.tsv.gz --graph-cache $STORE      -o $OUT/Q5.part.quantity.tsv.gz      --match 'Q5: (n1)-[]->(), quantity: (n1)-[l]->(n2)'     --return 'distinct l, n1, l.label, n2'     --order-by 'n1, l.label, n2'\n",
      "\n",
      "[2020-09-26 21:40:27 sqlstore]: IMPORT graph directly into table graph_8 from /Users/pedroszekely/Downloads/kypher/output.all.10/part.quantity.tsv.gz ...\n",
      "[2020-09-26 21:40:27 query]: SQL Translation:\n",
      "---------------------------------------------\n",
      "  SELECT DISTINCT graph_8_c2.\"id\", graph_8_c2.\"node1\", graph_8_c2.\"label\", graph_8_c2.\"node2\"\n",
      "     FROM graph_3 AS graph_3_c1, graph_8 AS graph_8_c2\n",
      "     WHERE graph_3_c1.\"node1\"=graph_8_c2.\"node1\"\n",
      "     ORDER BY graph_8_c2.\"node1\" ASC, graph_8_c2.\"label\" ASC, graph_8_c2.\"node2\" ASC\n",
      "  PARAS: []\n",
      "---------------------------------------------\n",
      "[2020-09-26 21:40:27 sqlstore]: CREATE INDEX on table graph_8 column node1 ...\n",
      "[2020-09-26 21:40:27 sqlstore]: ANALYZE INDEX on table graph_8 column node1 ...\n",
      "        1.07 real         1.07 user         0.15 sys\n",
      "\n",
      "$kgtk query -i $TEMP/all.isa.Q5.tsv.gz -i $WIKIDATA_PARTS/part.string.tsv.gz --graph-cache $STORE      -o $OUT/Q5.part.string.tsv.gz      --match 'Q5: (n1)-[]->(), string: (n1)-[l]->(n2)'     --return 'distinct l, n1, l.label, n2'     --order-by 'n1, l.label, n2'\n",
      "\n",
      "[2020-09-26 21:40:28 sqlstore]: IMPORT graph directly into table graph_9 from /Users/pedroszekely/Downloads/kypher/output.all.10/part.string.tsv.gz ...\n",
      "[2020-09-26 21:40:28 query]: SQL Translation:\n",
      "---------------------------------------------\n",
      "  SELECT DISTINCT graph_9_c2.\"id\", graph_3_c1.\"node1\", graph_9_c2.\"label\", graph_9_c2.\"node2\"\n",
      "     FROM graph_3 AS graph_3_c1, graph_9 AS graph_9_c2\n",
      "     WHERE graph_3_c1.\"node1\"=graph_9_c2.\"node1\"\n",
      "     ORDER BY graph_3_c1.\"node1\" ASC, graph_9_c2.\"label\" ASC, graph_9_c2.\"node2\" ASC\n",
      "  PARAS: []\n",
      "---------------------------------------------\n",
      "[2020-09-26 21:40:28 sqlstore]: CREATE INDEX on table graph_9 column node1 ...\n",
      "[2020-09-26 21:40:28 sqlstore]: ANALYZE INDEX on table graph_9 column node1 ...\n",
      "        1.10 real         1.11 user         0.15 sys\n",
      "\n",
      "$kgtk query -i $TEMP/all.isa.Q5.tsv.gz -i $WIKIDATA_PARTS/part.external_id.tsv.gz --graph-cache $STORE      -o $OUT/Q5.part.external_id.tsv.gz      --match 'Q5: (n1)-[]->(), external_id: (n1)-[l]->(n2)'     --return 'distinct l, n1, l.label, n2'     --order-by 'n1, l.label, n2'\n",
      "\n",
      "[2020-09-26 21:40:29 sqlstore]: IMPORT graph directly into table graph_10 from /Users/pedroszekely/Downloads/kypher/output.all.10/part.external_id.tsv.gz ...\n",
      "[2020-09-26 21:40:31 query]: SQL Translation:\n",
      "---------------------------------------------\n",
      "  SELECT DISTINCT graph_10_c2.\"id\", graph_3_c1.\"node1\", graph_10_c2.\"label\", graph_10_c2.\"node2\"\n",
      "     FROM graph_10 AS graph_10_c2, graph_3 AS graph_3_c1\n",
      "     WHERE graph_10_c2.\"node1\"=graph_3_c1.\"node1\"\n",
      "     ORDER BY graph_3_c1.\"node1\" ASC, graph_10_c2.\"label\" ASC, graph_10_c2.\"node2\" ASC\n",
      "  PARAS: []\n",
      "---------------------------------------------\n",
      "[2020-09-26 21:40:31 sqlstore]: CREATE INDEX on table graph_10 column node1 ...\n",
      "[2020-09-26 21:40:31 sqlstore]: ANALYZE INDEX on table graph_10 column node1 ...\n",
      "        4.18 real         4.91 user         0.27 sys\n",
      "\n",
      "$kgtk query -i $TEMP/all.isa.Q5.tsv.gz -i $WIKIDATA_PARTS/part.commonsMedia.tsv.gz --graph-cache $STORE      -o $OUT/Q5.part.commonsMedia.tsv.gz      --match 'Q5: (n1)-[]->(), commonsMedia: (n1)-[l]->(n2)'     --return 'distinct l, n1, l.label, n2'     --order-by 'n1, l.label, n2'\n",
      "\n",
      "[2020-09-26 21:40:33 sqlstore]: IMPORT graph directly into table graph_11 from /Users/pedroszekely/Downloads/kypher/output.all.10/part.commonsMedia.tsv.gz ...\n",
      "[2020-09-26 21:40:34 query]: SQL Translation:\n",
      "---------------------------------------------\n",
      "  SELECT DISTINCT graph_11_c2.\"id\", graph_11_c2.\"node1\", graph_11_c2.\"label\", graph_11_c2.\"node2\"\n",
      "     FROM graph_11 AS graph_11_c2, graph_3 AS graph_3_c1\n",
      "     WHERE graph_11_c2.\"node1\"=graph_3_c1.\"node1\"\n",
      "     ORDER BY graph_11_c2.\"node1\" ASC, graph_11_c2.\"label\" ASC, graph_11_c2.\"node2\" ASC\n",
      "  PARAS: []\n",
      "---------------------------------------------\n",
      "[2020-09-26 21:40:34 sqlstore]: CREATE INDEX on table graph_11 column node1 ...\n",
      "[2020-09-26 21:40:34 sqlstore]: ANALYZE INDEX on table graph_11 column node1 ...\n",
      "        1.00 real         0.97 user         0.14 sys\n",
      "\n",
      "$kgtk query -i $TEMP/all.isa.Q5.tsv.gz -i $WIKIDATA_PARTS/part.globe_coordinate.tsv.gz --graph-cache $STORE      -o $OUT/Q5.part.globe_coordinate.tsv.gz      --match 'Q5: (n1)-[]->(), globe_coordinate: (n1)-[l]->(n2)'     --return 'distinct l, n1, l.label, n2'     --order-by 'n1, l.label, n2'\n"
     ]
    },
    {
     "name": "stdout",
     "output_type": "stream",
     "text": [
      "\n",
      "[2020-09-26 21:40:34 sqlstore]: IMPORT graph directly into table graph_12 from /Users/pedroszekely/Downloads/kypher/output.all.10/part.globe_coordinate.tsv.gz ...\n",
      "[2020-09-26 21:40:35 query]: SQL Translation:\n",
      "---------------------------------------------\n",
      "  SELECT DISTINCT graph_12_c2.\"id\", graph_12_c2.\"node1\", graph_12_c2.\"label\", graph_12_c2.\"node2\"\n",
      "     FROM graph_12 AS graph_12_c2, graph_3 AS graph_3_c1\n",
      "     WHERE graph_12_c2.\"node1\"=graph_3_c1.\"node1\"\n",
      "     ORDER BY graph_12_c2.\"node1\" ASC, graph_12_c2.\"label\" ASC, graph_12_c2.\"node2\" ASC\n",
      "  PARAS: []\n",
      "---------------------------------------------\n",
      "[2020-09-26 21:40:35 sqlstore]: CREATE INDEX on table graph_12 column node1 ...\n",
      "[2020-09-26 21:40:35 sqlstore]: ANALYZE INDEX on table graph_12 column node1 ...\n",
      "        0.79 real         0.72 user         0.14 sys\n",
      "\n",
      "$kgtk query -i $TEMP/all.isa.Q5.tsv.gz -i $WIKIDATA_PARTS/part.monolingualtext.tsv.gz --graph-cache $STORE      -o $OUT/Q5.part.monolingualtext.tsv.gz      --match 'Q5: (n1)-[]->(), monolingualtext: (n1)-[l]->(n2)'     --return 'distinct l, n1, l.label, n2'     --order-by 'n1, l.label, n2'\n",
      "\n",
      "[2020-09-26 21:40:35 sqlstore]: IMPORT graph directly into table graph_13 from /Users/pedroszekely/Downloads/kypher/output.all.10/part.monolingualtext.tsv.gz ...\n",
      "[2020-09-26 21:40:35 query]: SQL Translation:\n",
      "---------------------------------------------\n",
      "  SELECT DISTINCT graph_13_c2.\"id\", graph_13_c2.\"node1\", graph_13_c2.\"label\", graph_13_c2.\"node2\"\n",
      "     FROM graph_13 AS graph_13_c2, graph_3 AS graph_3_c1\n",
      "     WHERE graph_13_c2.\"node1\"=graph_3_c1.\"node1\"\n",
      "     ORDER BY graph_13_c2.\"node1\" ASC, graph_13_c2.\"label\" ASC, graph_13_c2.\"node2\" ASC\n",
      "  PARAS: []\n",
      "---------------------------------------------\n",
      "[2020-09-26 21:40:35 sqlstore]: CREATE INDEX on table graph_13 column node1 ...\n",
      "[2020-09-26 21:40:35 sqlstore]: ANALYZE INDEX on table graph_13 column node1 ...\n",
      "        0.88 real         0.80 user         0.14 sys\n",
      "\n",
      "$kgtk query -i $TEMP/all.isa.Q5.tsv.gz -i $WIKIDATA_PARTS/part.musical_notation.tsv.gz --graph-cache $STORE      -o $OUT/Q5.part.musical_notation.tsv.gz      --match 'Q5: (n1)-[]->(), musical_notation: (n1)-[l]->(n2)'     --return 'distinct l, n1, l.label, n2'     --order-by 'n1, l.label, n2'\n",
      "\n",
      "[2020-09-26 21:40:36 sqlstore]: IMPORT graph directly into table graph_14 from /Users/pedroszekely/Downloads/kypher/output.all.10/part.musical_notation.tsv.gz ...\n",
      "[2020-09-26 21:40:36 query]: SQL Translation:\n",
      "---------------------------------------------\n",
      "  SELECT DISTINCT graph_14_c2.\"id\", graph_14_c2.\"node1\", graph_14_c2.\"label\", graph_14_c2.\"node2\"\n",
      "     FROM graph_14 AS graph_14_c2, graph_3 AS graph_3_c1\n",
      "     WHERE graph_14_c2.\"node1\"=graph_3_c1.\"node1\"\n",
      "     ORDER BY graph_14_c2.\"node1\" ASC, graph_14_c2.\"label\" ASC, graph_14_c2.\"node2\" ASC\n",
      "  PARAS: []\n",
      "---------------------------------------------\n",
      "[2020-09-26 21:40:36 sqlstore]: CREATE INDEX on table graph_14 column node1 ...\n",
      "[2020-09-26 21:40:36 sqlstore]: ANALYZE INDEX on table graph_14 column node1 ...\n",
      "        0.72 real         0.56 user         0.14 sys\n",
      "\n",
      "$kgtk query -i $TEMP/all.isa.Q5.tsv.gz -i $WIKIDATA_PARTS/part.geo_shape.tsv.gz --graph-cache $STORE      -o $OUT/Q5.part.geo_shape.tsv.gz      --match 'Q5: (n1)-[]->(), geo_shape: (n1)-[l]->(n2)'     --return 'distinct l, n1, l.label, n2'     --order-by 'n1, l.label, n2'\n",
      "\n",
      "[2020-09-26 21:40:37 sqlstore]: IMPORT graph directly into table graph_15 from /Users/pedroszekely/Downloads/kypher/output.all.10/part.geo_shape.tsv.gz ...\n",
      "[2020-09-26 21:40:37 query]: SQL Translation:\n",
      "---------------------------------------------\n",
      "  SELECT DISTINCT graph_15_c2.\"id\", graph_3_c1.\"node1\", graph_15_c2.\"label\", graph_15_c2.\"node2\"\n",
      "     FROM graph_15 AS graph_15_c2, graph_3 AS graph_3_c1\n",
      "     WHERE graph_15_c2.\"node1\"=graph_3_c1.\"node1\"\n",
      "     ORDER BY graph_3_c1.\"node1\" ASC, graph_15_c2.\"label\" ASC, graph_15_c2.\"node2\" ASC\n",
      "  PARAS: []\n",
      "---------------------------------------------\n",
      "[2020-09-26 21:40:37 sqlstore]: CREATE INDEX on table graph_15 column node1 ...\n",
      "[2020-09-26 21:40:37 sqlstore]: ANALYZE INDEX on table graph_15 column node1 ...\n",
      "        0.70 real         0.55 user         0.14 sys\n",
      "\n",
      "$kgtk query -i $TEMP/all.isa.Q5.tsv.gz -i $WIKIDATA_PARTS/part.wikibase_property.tsv.gz --graph-cache $STORE      -o $OUT/Q5.part.wikibase_property.tsv.gz      --match 'Q5: (n1)-[]->(), wikibase_property: (n1)-[l]->(n2)'     --return 'distinct l, n1, l.label, n2'     --order-by 'n1, l.label, n2'\n",
      "\n",
      "[2020-09-26 21:40:38 sqlstore]: IMPORT graph directly into table graph_16 from /Users/pedroszekely/Downloads/kypher/output.all.10/part.wikibase_property.tsv.gz ...\n",
      "[2020-09-26 21:40:38 query]: SQL Translation:\n",
      "---------------------------------------------\n",
      "  SELECT DISTINCT graph_16_c2.\"id\", graph_16_c2.\"node1\", graph_16_c2.\"label\", graph_16_c2.\"node2\"\n",
      "     FROM graph_16 AS graph_16_c2, graph_3 AS graph_3_c1\n",
      "     WHERE graph_16_c2.\"node1\"=graph_3_c1.\"node1\"\n",
      "     ORDER BY graph_16_c2.\"node1\" ASC, graph_16_c2.\"label\" ASC, graph_16_c2.\"node2\" ASC\n",
      "  PARAS: []\n",
      "---------------------------------------------\n",
      "[2020-09-26 21:40:38 sqlstore]: CREATE INDEX on table graph_16 column node1 ...\n",
      "[2020-09-26 21:40:38 sqlstore]: ANALYZE INDEX on table graph_16 column node1 ...\n",
      "        0.69 real         0.54 user         0.13 sys\n",
      "\n",
      "$kgtk query -i $TEMP/all.isa.Q5.tsv.gz -i $WIKIDATA_PARTS/part.url.tsv.gz --graph-cache $STORE      -o $OUT/Q5.part.url.tsv.gz      --match 'Q5: (n1)-[]->(), url: (n1)-[l]->(n2)'     --return 'distinct l, n1, l.label, n2'     --order-by 'n1, l.label, n2'\n",
      "\n",
      "[2020-09-26 21:40:38 sqlstore]: IMPORT graph directly into table graph_17 from /Users/pedroszekely/Downloads/kypher/output.all.10/part.url.tsv.gz ...\n",
      "[2020-09-26 21:40:38 query]: SQL Translation:\n",
      "---------------------------------------------\n",
      "  SELECT DISTINCT graph_17_c2.\"id\", graph_3_c1.\"node1\", graph_17_c2.\"label\", graph_17_c2.\"node2\"\n",
      "     FROM graph_17 AS graph_17_c2, graph_3 AS graph_3_c1\n",
      "     WHERE graph_17_c2.\"node1\"=graph_3_c1.\"node1\"\n",
      "     ORDER BY graph_3_c1.\"node1\" ASC, graph_17_c2.\"label\" ASC, graph_17_c2.\"node2\" ASC\n",
      "  PARAS: []\n",
      "---------------------------------------------\n",
      "[2020-09-26 21:40:38 sqlstore]: CREATE INDEX on table graph_17 column node1 ...\n",
      "[2020-09-26 21:40:38 sqlstore]: ANALYZE INDEX on table graph_17 column node1 ...\n",
      "        0.75 real         0.66 user         0.13 sys\n",
      "\n"
     ]
    }
   ],
   "source": [
    "types = [\n",
    "    \"time\",\n",
    "    \"wikibase_item\",\n",
    "    \"math\",\n",
    "    \"wikibase_form\",\n",
    "    \"quantity\",\n",
    "    \"string\",\n",
    "    \"external_id\",\n",
    "    \"commonsMedia\",\n",
    "    \"globe_coordinate\",\n",
    "    \"monolingualtext\",\n",
    "    \"musical_notation\",\n",
    "    \"geo_shape\",\n",
    "    \"wikibase_property\",\n",
    "    \"url\",\n",
    "]\n",
    "command = \"$kgtk query -i $TEMP/all.isa.NAME.tsv.gz -i $WIKIDATA_PARTS/part.TYPE_FILE.tsv.gz --graph-cache $STORE  \\\n",
    "    -o $OUT/NAME.part.TYPE_FILE.tsv.gz  \\\n",
    "    --match 'NAME: (n1)-[]->(), TYPE_FILE: (n1)-[l]->(n2)' \\\n",
    "    --return 'distinct l, n1, l.label, n2' \\\n",
    "    --order-by 'n1, l.label, n2'\"\n",
    "for type in types:\n",
    "    run_command(command, {\"TYPE_FILE\": type.replace(\"-\", \"_\")})\n"
   ]
  },
  {
   "cell_type": "markdown",
   "metadata": {},
   "source": [
    "### Generate a P279star file"
   ]
  },
  {
   "cell_type": "code",
   "execution_count": 11,
   "metadata": {},
   "outputs": [],
   "source": [
    "!kgtk cat -i $OUT/$NAME.part.*.tsv.gz | gzip > $TEMP/$NAME.all_1.tsv.gz"
   ]
  },
  {
   "cell_type": "code",
   "execution_count": 12,
   "metadata": {},
   "outputs": [
    {
     "name": "stdout",
     "output_type": "stream",
     "text": [
      "$kgtk query -i $WIKIDATA_PARTS/all.P279star.tsv.gz -i $TEMP/Q5.all_1.tsv.gz     --graph-cache $STORE      -o $TEMP/P279star.1.tsv.gz     --match 'P279star: (n1)-[l]->(n2), all_1: (n1)-[]->()'     --return 'distinct l, n1, l.label, n2'\n",
      "\n",
      "[2020-09-26 21:40:43 sqlstore]: IMPORT graph directly into table graph_18 from /Users/pedroszekely/Downloads/kypher/Q5-temp/Q5.all_1.tsv.gz ...\n",
      "[2020-09-26 21:40:45 query]: SQL Translation:\n",
      "---------------------------------------------\n",
      "  SELECT DISTINCT graph_2_c1.\"id\", graph_2_c1.\"node1\", graph_2_c1.\"label\", graph_2_c1.\"node2\"\n",
      "     FROM graph_18 AS graph_18_c2, graph_2 AS graph_2_c1\n",
      "     WHERE graph_18_c2.\"node1\"=graph_2_c1.\"node1\"\n",
      "  PARAS: []\n",
      "---------------------------------------------\n",
      "[2020-09-26 21:40:45 sqlstore]: CREATE INDEX on table graph_18 column node1 ...\n",
      "[2020-09-26 21:40:45 sqlstore]: ANALYZE INDEX on table graph_18 column node1 ...\n",
      "[2020-09-26 21:40:45 sqlstore]: CREATE INDEX on table graph_2 column node1 ...\n",
      "[2020-09-26 21:40:45 sqlstore]: ANALYZE INDEX on table graph_2 column node1 ...\n",
      "        3.15 real         4.34 user         0.32 sys\n",
      "\n",
      "$kgtk query -i $WIKIDATA_PARTS/all.P279star.tsv.gz -i $TEMP/Q5.all_1.tsv.gz     --graph-cache $STORE      -o $TEMP/P279star.2.tsv.gz     --match 'P279star: (n1)-[l]->(n2), all_1: ()-[]->(n1)'     --return 'distinct l, n1 as node1, l.label, n2'\n",
      "\n",
      "[2020-09-26 21:40:46 query]: SQL Translation:\n",
      "---------------------------------------------\n",
      "  SELECT DISTINCT graph_2_c1.\"id\", graph_2_c1.\"node1\" \"node1\", graph_2_c1.\"label\", graph_2_c1.\"node2\"\n",
      "     FROM graph_18 AS graph_18_c2, graph_2 AS graph_2_c1\n",
      "     WHERE graph_18_c2.\"node2\"=graph_2_c1.\"node1\"\n",
      "  PARAS: []\n",
      "---------------------------------------------\n",
      "[2020-09-26 21:40:46 sqlstore]: CREATE INDEX on table graph_18 column node2 ...\n",
      "[2020-09-26 21:40:47 sqlstore]: ANALYZE INDEX on table graph_18 column node2 ...\n",
      "        1.25 real         1.02 user         0.19 sys\n",
      "\n",
      "$kgtk cat $TEMP/P279star.1.tsv.gz $TEMP/P279star.2.tsv.gz | gzip > $OUT/Q5.P279star.tsv.gz\n",
      "\n",
      "        0.62 real         0.50 user         0.11 sys\n",
      "\n"
     ]
    }
   ],
   "source": [
    "command_node1 = \"$kgtk query -i $WIKIDATA_PARTS/all.P279star.tsv.gz -i $TEMP/NAME.all_1.tsv.gz \\\n",
    "    --graph-cache $STORE  \\\n",
    "    -o $TEMP/P279star.1.tsv.gz \\\n",
    "    --match 'P279star: (n1)-[l]->(n2), all_1: (n1)-[]->()' \\\n",
    "    --return 'distinct l, n1, l.label, n2'\"\n",
    "\n",
    "command_node2 = \"$kgtk query -i $WIKIDATA_PARTS/all.P279star.tsv.gz -i $TEMP/NAME.all_1.tsv.gz \\\n",
    "    --graph-cache $STORE  \\\n",
    "    -o $TEMP/P279star.2.tsv.gz \\\n",
    "    --match 'P279star: (n1)-[l]->(n2), all_1: ()-[]->(n1)' \\\n",
    "    --return 'distinct l, n1 as node1, l.label, n2'\" \n",
    "\n",
    "cat_command = \"$kgtk cat $TEMP/P279star.1.tsv.gz $TEMP/P279star.2.tsv.gz | gzip > $OUT/NAME.P279star.tsv.gz\"\n",
    "\n",
    "run_command(command_node1)\n",
    "run_command(command_node2)\n",
    "run_command(cat_command)"
   ]
  },
  {
   "cell_type": "markdown",
   "metadata": {},
   "source": [
    "### Generate the labels, aliases and descriptions\n",
    "We want the labels, aliases and descriptions for every q-node in our dataset. THis means that we need these lables for all q-nodes that appear in the node1 or node2 position.\n",
    "\n",
    "The first step is to concatenate all the files in our dataset."
   ]
  },
  {
   "cell_type": "code",
   "execution_count": 13,
   "metadata": {},
   "outputs": [],
   "source": [
    "!kgtk cat -i $TEMP/$NAME.all_1.tsv.gz $OUT/$NAME.P279star.tsv.gz | gzip > $TEMP/$NAME.all_2.tsv.gz"
   ]
  },
  {
   "cell_type": "markdown",
   "metadata": {},
   "source": [
    "Now we extract the labels from from our input wikidata folder. We do this matching node1, thend node 2, then we concatenate the resulting label files."
   ]
  },
  {
   "cell_type": "code",
   "execution_count": 14,
   "metadata": {
    "scrolled": true
   },
   "outputs": [
    {
     "name": "stdout",
     "output_type": "stream",
     "text": [
      "$kgtk query -i $TEMP/Q5.all_2.tsv.gz -i $WIKIDATA_PARTS/part.label.en.tsv.gz --graph-cache $STORE      -o $TEMP/Q5.label.en.1.tsv.gz      --match 'Q5: (n1)-[]->(), part: (n1)-[l]->(n2)'     --return 'l, n1, l.label, n2'     --order-by 'n1, l.label, n2'\n",
      "\n",
      "[2020-09-26 21:40:52 sqlstore]: IMPORT graph directly into table graph_19 from /Users/pedroszekely/Downloads/kypher/Q5-temp/Q5.all_2.tsv.gz ...\n",
      "[2020-09-26 21:40:54 sqlstore]: IMPORT graph directly into table graph_20 from /Users/pedroszekely/Downloads/kypher/output.all.10/part.label.en.tsv.gz ...\n",
      "[2020-09-26 21:40:54 query]: SQL Translation:\n",
      "---------------------------------------------\n",
      "  SELECT graph_20_c2.\"id\", graph_19_c1.\"node1\", graph_20_c2.\"label\", graph_20_c2.\"node2\"\n",
      "     FROM graph_19 AS graph_19_c1, graph_20 AS graph_20_c2\n",
      "     WHERE graph_19_c1.\"node1\"=graph_20_c2.\"node1\"\n",
      "     ORDER BY graph_19_c1.\"node1\" ASC, graph_20_c2.\"label\" ASC, graph_20_c2.\"node2\" ASC\n",
      "  PARAS: []\n",
      "---------------------------------------------\n",
      "[2020-09-26 21:40:54 sqlstore]: CREATE INDEX on table graph_19 column node1 ...\n",
      "[2020-09-26 21:40:55 sqlstore]: ANALYZE INDEX on table graph_19 column node1 ...\n",
      "[2020-09-26 21:40:55 sqlstore]: CREATE INDEX on table graph_20 column node1 ...\n",
      "[2020-09-26 21:40:55 sqlstore]: ANALYZE INDEX on table graph_20 column node1 ...\n",
      "        6.20 real         7.61 user         0.36 sys\n",
      "\n",
      "$kgtk query -i $TEMP/Q5.all_2.tsv.gz -i $WIKIDATA_PARTS/part.label.en.tsv.gz --graph-cache $STORE      -o $TEMP/Q5.label.en.2.tsv.gz      --match 'Q5: ()-[]->(n1), part: (n1)-[l]->(n2)'     --return 'l, n1 as node1, l.label, n2'     --order-by 'n1, l.label, n2'\n",
      "\n",
      "[2020-09-26 21:40:58 query]: SQL Translation:\n",
      "---------------------------------------------\n",
      "  SELECT graph_20_c2.\"id\", graph_19_c1.\"node2\" \"node1\", graph_20_c2.\"label\", graph_20_c2.\"node2\"\n",
      "     FROM graph_19 AS graph_19_c1, graph_20 AS graph_20_c2\n",
      "     WHERE graph_19_c1.\"node2\"=graph_20_c2.\"node1\"\n",
      "     ORDER BY graph_19_c1.\"node2\" ASC, graph_20_c2.\"label\" ASC, graph_20_c2.\"node2\" ASC\n",
      "  PARAS: []\n",
      "---------------------------------------------\n",
      "[2020-09-26 21:40:58 sqlstore]: CREATE INDEX on table graph_19 column node2 ...\n",
      "[2020-09-26 21:40:58 sqlstore]: ANALYZE INDEX on table graph_19 column node2 ...\n",
      "        1.21 real         0.98 user         0.18 sys\n",
      "\n",
      "kgtk cat $TEMP/Q5.label.*.gz | gzip > $OUT/$Q5.label.en.tsv.gz\n",
      "\n",
      "\n",
      "$kgtk query -i $TEMP/Q5.all_2.tsv.gz -i $WIKIDATA_PARTS/part.alias.en.tsv.gz --graph-cache $STORE      -o $TEMP/Q5.alias.en.1.tsv.gz      --match 'Q5: (n1)-[]->(), part: (n1)-[l]->(n2)'     --return 'l, n1, l.label, n2'     --order-by 'n1, l.label, n2'\n",
      "\n",
      "[2020-09-26 21:41:03 sqlstore]: IMPORT graph directly into table graph_21 from /Users/pedroszekely/Downloads/kypher/output.all.10/part.alias.en.tsv.gz ...\n",
      "[2020-09-26 21:41:03 query]: SQL Translation:\n",
      "---------------------------------------------\n",
      "  SELECT graph_21_c2.\"id\", graph_19_c1.\"node1\", graph_21_c2.\"label\", graph_21_c2.\"node2\"\n",
      "     FROM graph_19 AS graph_19_c1, graph_21 AS graph_21_c2\n",
      "     WHERE graph_19_c1.\"node1\"=graph_21_c2.\"node1\"\n",
      "     ORDER BY graph_19_c1.\"node1\" ASC, graph_21_c2.\"label\" ASC, graph_21_c2.\"node2\" ASC\n",
      "  PARAS: []\n",
      "---------------------------------------------\n",
      "[2020-09-26 21:41:03 sqlstore]: CREATE INDEX on table graph_21 column node1 ...\n",
      "[2020-09-26 21:41:03 sqlstore]: ANALYZE INDEX on table graph_21 column node1 ...\n",
      "        2.74 real         2.64 user         0.16 sys\n",
      "\n",
      "$kgtk query -i $TEMP/Q5.all_2.tsv.gz -i $WIKIDATA_PARTS/part.alias.en.tsv.gz --graph-cache $STORE      -o $TEMP/Q5.alias.en.2.tsv.gz      --match 'Q5: ()-[]->(n1), part: (n1)-[l]->(n2)'     --return 'l, n1 as node1, l.label, n2'     --order-by 'n1, l.label, n2'\n",
      "\n",
      "[2020-09-26 21:41:06 query]: SQL Translation:\n",
      "---------------------------------------------\n",
      "  SELECT graph_21_c2.\"id\", graph_19_c1.\"node2\" \"node1\", graph_21_c2.\"label\", graph_21_c2.\"node2\"\n",
      "     FROM graph_19 AS graph_19_c1, graph_21 AS graph_21_c2\n",
      "     WHERE graph_19_c1.\"node2\"=graph_21_c2.\"node1\"\n",
      "     ORDER BY graph_19_c1.\"node2\" ASC, graph_21_c2.\"label\" ASC, graph_21_c2.\"node2\" ASC\n",
      "  PARAS: []\n",
      "---------------------------------------------\n",
      "        0.83 real         0.69 user         0.13 sys\n",
      "\n",
      "kgtk cat $TEMP/Q5.alias.*.gz | gzip > $OUT/$Q5.alias.en.tsv.gz\n",
      "\n",
      "\n",
      "$kgtk query -i $TEMP/Q5.all_2.tsv.gz -i $WIKIDATA_PARTS/part.description.en.tsv.gz --graph-cache $STORE      -o $TEMP/Q5.description.en.1.tsv.gz      --match 'Q5: (n1)-[]->(), part: (n1)-[l]->(n2)'     --return 'l, n1, l.label, n2'     --order-by 'n1, l.label, n2'\n",
      "\n",
      "[2020-09-26 21:41:10 sqlstore]: IMPORT graph directly into table graph_22 from /Users/pedroszekely/Downloads/kypher/output.all.10/part.description.en.tsv.gz ...\n",
      "[2020-09-26 21:41:11 query]: SQL Translation:\n",
      "---------------------------------------------\n",
      "  SELECT graph_22_c2.\"id\", graph_22_c2.\"node1\", graph_22_c2.\"label\", graph_22_c2.\"node2\"\n",
      "     FROM graph_19 AS graph_19_c1, graph_22 AS graph_22_c2\n",
      "     WHERE graph_19_c1.\"node1\"=graph_22_c2.\"node1\"\n",
      "     ORDER BY graph_22_c2.\"node1\" ASC, graph_22_c2.\"label\" ASC, graph_22_c2.\"node2\" ASC\n",
      "  PARAS: []\n",
      "---------------------------------------------\n",
      "[2020-09-26 21:41:11 sqlstore]: CREATE INDEX on table graph_22 column node1 ...\n",
      "[2020-09-26 21:41:11 sqlstore]: ANALYZE INDEX on table graph_22 column node1 ...\n",
      "        3.91 real         4.14 user         0.20 sys\n",
      "\n",
      "$kgtk query -i $TEMP/Q5.all_2.tsv.gz -i $WIKIDATA_PARTS/part.description.en.tsv.gz --graph-cache $STORE      -o $TEMP/Q5.description.en.2.tsv.gz      --match 'Q5: ()-[]->(n1), part: (n1)-[l]->(n2)'     --return 'l, n1 as node1, l.label, n2'     --order-by 'n1, l.label, n2'\n",
      "\n",
      "[2020-09-26 21:41:14 query]: SQL Translation:\n",
      "---------------------------------------------\n",
      "  SELECT graph_22_c2.\"id\", graph_19_c1.\"node2\" \"node1\", graph_22_c2.\"label\", graph_22_c2.\"node2\"\n",
      "     FROM graph_19 AS graph_19_c1, graph_22 AS graph_22_c2\n",
      "     WHERE graph_19_c1.\"node2\"=graph_22_c2.\"node1\"\n",
      "     ORDER BY graph_19_c1.\"node2\" ASC, graph_22_c2.\"label\" ASC, graph_22_c2.\"node2\" ASC\n",
      "  PARAS: []\n",
      "---------------------------------------------\n",
      "        0.72 real         0.58 user         0.12 sys\n",
      "\n",
      "kgtk cat $TEMP/Q5.description.*.gz | gzip > $OUT/$Q5.description.en.tsv.gz\n",
      "\n",
      "\n"
     ]
    }
   ],
   "source": [
    "labels = [\n",
    "    \"label\",\n",
    "    \"alias\",\n",
    "    \"description\"\n",
    "]\n",
    "\n",
    "command_node1 = \"$kgtk query -i $TEMP/NAME.all_2.tsv.gz -i $WIKIDATA_PARTS/part.LABEL.en.tsv.gz --graph-cache $STORE  \\\n",
    "    -o $TEMP/NAME.LABEL.en.1.tsv.gz  \\\n",
    "    --match 'NAME: (n1)-[]->(), part: (n1)-[l]->(n2)' \\\n",
    "    --return 'l, n1, l.label, n2' \\\n",
    "    --order-by 'n1, l.label, n2'\"\n",
    "\n",
    "command_node2 = \"$kgtk query -i $TEMP/NAME.all_2.tsv.gz -i $WIKIDATA_PARTS/part.LABEL.en.tsv.gz --graph-cache $STORE  \\\n",
    "    -o $TEMP/NAME.LABEL.en.2.tsv.gz  \\\n",
    "    --match 'NAME: ()-[]->(n1), part: (n1)-[l]->(n2)' \\\n",
    "    --return 'l, n1 as node1, l.label, n2' \\\n",
    "    --order-by 'n1, l.label, n2'\"\n",
    "\n",
    "cat_command = \"kgtk cat $TEMP/NAME.LABEL.*.gz | gzip > $OUT/$NAME.LABEL.en.tsv.gz\"\n",
    "\n",
    "for label in labels:\n",
    "    run_command(command_node1, {\"LABEL\": label})\n",
    "    run_command(command_node2, {\"LABEL\": label})\n",
    "    run_command(cat_command, {\"LABEL\": label})\n"
   ]
  },
  {
   "cell_type": "markdown",
   "metadata": {},
   "source": [
    "### Summary of what we got"
   ]
  },
  {
   "cell_type": "code",
   "execution_count": 15,
   "metadata": {},
   "outputs": [
    {
     "name": "stdout",
     "output_type": "stream",
     "text": [
      "Q5.P279star.tsv.gz     482\n",
      "Q5.part.commonsMedia.tsv.gz   10285\n",
      "Q5.part.external_id.tsv.gz  182960\n",
      "Q5.part.geo_shape.tsv.gz       1\n",
      "Q5.part.globe_coordinate.tsv.gz       1\n",
      "Q5.part.math.tsv.gz       1\n",
      "Q5.part.monolingualtext.tsv.gz    6334\n",
      "Q5.part.musical_notation.tsv.gz       1\n",
      "Q5.part.quantity.tsv.gz   13984\n",
      "Q5.part.string.tsv.gz    9277\n",
      "Q5.part.time.tsv.gz   47355\n",
      "Q5.part.url.tsv.gz    1591\n",
      "Q5.part.wikibase_form.tsv.gz       8\n",
      "Q5.part.wikibase_item.tsv.gz  337605\n",
      "Q5.part.wikibase_property.tsv.gz       1\n"
     ]
    }
   ],
   "source": [
    "%%bash\n",
    "for f in $OUT/*.tsv.gz; do\n",
    "    echo -n `basename $f`\n",
    "    gzcat $f | wc -l\n",
    "done"
   ]
  },
  {
   "cell_type": "code",
   "execution_count": 16,
   "metadata": {},
   "outputs": [
    {
     "name": "stdout",
     "output_type": "stream",
     "text": [
      "        3.67 real         3.48 user         0.14 sys\r\n"
     ]
    }
   ],
   "source": [
    "!$kgtk cat $OUT/*.gz > $TEMP/everything.tsv"
   ]
  },
  {
   "cell_type": "code",
   "execution_count": 17,
   "metadata": {},
   "outputs": [
    {
     "name": "stdout",
     "output_type": "stream",
     "text": [
      "       14.78 real        17.07 user         0.92 sys\r\n"
     ]
    }
   ],
   "source": [
    "!$kgtk graph-statistics --log $OUT/$NAME.everything.statistics.txt \\\n",
    "    --statistics-only --pagerank -i $TEMP/everything.tsv \\\n",
    "    | gzip > $OUT/$NAME.statistics.tsv.gz"
   ]
  },
  {
   "cell_type": "code",
   "execution_count": 18,
   "metadata": {
    "scrolled": true
   },
   "outputs": [
    {
     "name": "stdout",
     "output_type": "stream",
     "text": [
      "loading the TSV graph now ...\r\n",
      "graph loaded! It has 330189 nodes and 609871 edges\r\n",
      "\r\n",
      "###Top relations:\r\n",
      "P106\t44621\r\n",
      "P31\t30984\r\n",
      "P21\t30593\r\n",
      "P569\t29455\r\n",
      "P27\t28609\r\n",
      "P735\t26676\r\n",
      "P19\t21619\r\n",
      "P54\t16787\r\n",
      "P570\t15185\r\n",
      "P734\t14326\r\n",
      "\r\n",
      "###PageRank\r\n",
      "Max pageranks\r\n",
      "242\tQ82955\t0.002672\r\n",
      "351\tQ6581072\t0.003000\r\n",
      "1\tQ5\t0.019608\r\n",
      "261449\tQ6581097\t0.016356\r\n",
      "261693\tQ30\t0.003148\r\n"
     ]
    }
   ],
   "source": [
    "!cat $OUT/$NAME.everything.statistics.txt"
   ]
  },
  {
   "cell_type": "code",
   "execution_count": null,
   "metadata": {},
   "outputs": [],
   "source": []
  }
 ],
 "metadata": {
  "celltoolbar": "Tags",
  "kernelspec": {
   "display_name": "kgtk",
   "language": "python",
   "name": "kgtk"
  },
  "language_info": {
   "codemirror_mode": {
    "name": "ipython",
    "version": 3
   },
   "file_extension": ".py",
   "mimetype": "text/x-python",
   "name": "python",
   "nbconvert_exporter": "python",
   "pygments_lexer": "ipython3",
   "version": "3.7.8"
  }
 },
 "nbformat": 4,
 "nbformat_minor": 4
}
