{
 "cells": [
  {
   "cell_type": "code",
   "execution_count": 1,
   "metadata": {
    "execution": {
     "iopub.execute_input": "2020-09-23T23:13:17.531552Z",
     "iopub.status.busy": "2020-09-23T23:13:17.530838Z",
     "iopub.status.idle": "2020-09-23T23:13:17.533655Z",
     "shell.execute_reply": "2020-09-23T23:13:17.533184Z"
    },
    "papermill": {
     "duration": 0.055291,
     "end_time": "2020-09-23T23:13:17.533848",
     "exception": false,
     "start_time": "2020-09-23T23:13:17.478557",
     "status": "completed"
    },
    "tags": [
     "injected-parameters"
    ]
   },
   "outputs": [],
   "source": [
    "# Parameters\n",
    "home = \"/Users/amandeep\"\n",
    "f_path = \"Documents/wikidata-20200504\"\n",
    "wiki_file = \"all.tsv\"\n"
   ]
  },
  {
   "cell_type": "markdown",
   "metadata": {
    "papermill": {
     "duration": 0.030351,
     "end_time": "2020-09-23T23:13:17.599523",
     "exception": false,
     "start_time": "2020-09-23T23:13:17.569172",
     "status": "completed"
    },
    "tags": []
   },
   "source": [
    "# Generating Useful Wikidata Files"
   ]
  },
  {
   "cell_type": "code",
   "execution_count": 2,
   "metadata": {
    "execution": {
     "iopub.execute_input": "2020-09-23T23:13:17.662124Z",
     "iopub.status.busy": "2020-09-23T23:13:17.661480Z",
     "iopub.status.idle": "2020-09-23T23:13:18.177190Z",
     "shell.execute_reply": "2020-09-23T23:13:18.177772Z"
    },
    "papermill": {
     "duration": 0.548218,
     "end_time": "2020-09-23T23:13:18.177971",
     "exception": false,
     "start_time": "2020-09-23T23:13:17.629753",
     "status": "completed"
    },
    "tags": []
   },
   "outputs": [],
   "source": [
    "import io\n",
    "import os\n",
    "\n",
    "import numpy as np\n",
    "import pandas as pd\n",
    "\n",
    "# from IPython.display import display, HTML, Image\n",
    "# from pandas_profiling import ProfileReport"
   ]
  },
  {
   "cell_type": "markdown",
   "metadata": {
    "papermill": {
     "duration": 0.031442,
     "end_time": "2020-09-23T23:13:18.248170",
     "exception": false,
     "start_time": "2020-09-23T23:13:18.216728",
     "status": "completed"
    },
    "tags": []
   },
   "source": [
    "## Set up environment and folders to store the files\n",
    "\n",
    "- `WIKIDATA_HOME` folder where you put your Wikidata data\n",
    "- `OUT` folder where the output files go\n",
    "- `TEMP` folder to keep temporary files , including the database\n",
    "- `kgtk` shortcut to invoke the kgtk software\n",
    "- `compress` the compression software to use\n",
    "\n",
    "The current implementation of some of the kgtk commands does not understand compressed files. In particular, `query` often rejects `gz` files.\n",
    "\n",
    "To dos:\n",
    "\n",
    "- Make sure that all files have id columns as `query` gets unhappy when files have no ids.\n",
    "- Create an output folder for a subset of Wikidata without scholarly articles. This is half done: the remaining work is to subtract the scholarly articles from `EDGES` and repeat the workflow.\n",
    "- Change the naming convention to make it clear which files are a partition of the original `EDGES`, so users know what files they need to get to have a full version.\n",
    "- Create a qualifier file for the partition files of Wikidata: this is so that if a user gets one of the partitions, they can get the corresponding qualifier file.\n",
    "- Add pagerank and other stats. We can compute the pagerank from the `all.item` file, so maybe should be called `all.item.pagerank.tsv`\n",
    "\n",
    "Naming convention: the name `all` is redundant, we should consider removing it. I recomment using the prefix `part.` to name the partition of Wikidata, e.g., `part.label`, `part.quantity`. Files such as `P279` are not partitions as it is a subset of `part.item`.\n",
    "\n",
    "If we create a subset of Wikidata, e.g., no scholarly articles, we could call it `minus.Q13442814`; if we remove galaxies too, we could call it `minus.Q13442814-Q318`, so the files would be `minus.Q13442814-Q318.part.quantity.tsv` (the idea of `all` is in contrast to `minus`). We can also have files that start with Qnodes, e.g, `Q5.part.quantity.tsv`; constructing such files is harder as we don't want dangling nodes in the item file."
   ]
  },
  {
   "cell_type": "code",
   "execution_count": 3,
   "metadata": {
    "execution": {
     "iopub.execute_input": "2020-09-23T23:13:18.352483Z",
     "iopub.status.busy": "2020-09-23T23:13:18.351660Z",
     "iopub.status.idle": "2020-09-23T23:13:18.354443Z",
     "shell.execute_reply": "2020-09-23T23:13:18.355135Z"
    },
    "papermill": {
     "duration": 0.071685,
     "end_time": "2020-09-23T23:13:18.355332",
     "exception": false,
     "start_time": "2020-09-23T23:13:18.283647",
     "status": "completed"
    },
    "tags": []
   },
   "outputs": [
    {
     "name": "stdout",
     "output_type": "stream",
     "text": [
      "env: WIKIDATA_HOME=/Users/amandeep/Documents/wikidata-20200504\n",
      "env: OUT=/Users/amandeep/Documents/wikidata-20200504/output\n",
      "env: TEMP=/Users/amandeep/Documents/wikidata-20200504/temp\n",
      "env: kgtk=time kgtk --debug\n",
      "env: compress=compress\n",
      "env: compress=cat\n"
     ]
    }
   ],
   "source": [
    "#home = %env HOME\n",
    "# supply home from command line\n",
    "# supply wiki_file from command line as well\n",
    "# f_path from command line\n",
    "%env WIKIDATA_HOME=$home/$f_path\n",
    "wikidata_home = %env WIKIDATA_HOME\n",
    "%env OUT = $wikidata_home/output\n",
    "%env TEMP = $wikidata_home/temp\n",
    "\n",
    "# Define $kgtk so that we can turn on and off the debugging options\n",
    "%env kgtk = time kgtk --debug\n",
    "#%env kgtk = kgtk\n",
    "%env compress = compress\n",
    "%env compress = cat"
   ]
  },
  {
   "cell_type": "code",
   "execution_count": 4,
   "metadata": {
    "execution": {
     "iopub.execute_input": "2020-09-23T23:13:18.428427Z",
     "iopub.status.busy": "2020-09-23T23:13:18.427472Z",
     "iopub.status.idle": "2020-09-23T23:13:18.430306Z",
     "shell.execute_reply": "2020-09-23T23:13:18.430664Z"
    },
    "papermill": {
     "duration": 0.036696,
     "end_time": "2020-09-23T23:13:18.430814",
     "exception": false,
     "start_time": "2020-09-23T23:13:18.394118",
     "status": "completed"
    },
    "tags": []
   },
   "outputs": [
    {
     "name": "stdout",
     "output_type": "stream",
     "text": [
      "/Users/amandeep/Documents/wikidata-20200504\n"
     ]
    }
   ],
   "source": [
    "cd $wikidata_home"
   ]
  },
  {
   "cell_type": "code",
   "execution_count": 5,
   "metadata": {
    "execution": {
     "iopub.execute_input": "2020-09-23T23:13:18.496666Z",
     "iopub.status.busy": "2020-09-23T23:13:18.495841Z",
     "iopub.status.idle": "2020-09-23T23:13:18.735172Z",
     "shell.execute_reply": "2020-09-23T23:13:18.735981Z"
    },
    "papermill": {
     "duration": 0.274134,
     "end_time": "2020-09-23T23:13:18.736257",
     "exception": false,
     "start_time": "2020-09-23T23:13:18.462123",
     "status": "completed"
    },
    "tags": []
   },
   "outputs": [
    {
     "name": "stdout",
     "output_type": "stream",
     "text": [
      "mkdir: output: File exists\r\n"
     ]
    },
    {
     "name": "stdout",
     "output_type": "stream",
     "text": [
      "mkdir: temp: File exists\r\n"
     ]
    }
   ],
   "source": [
    "!mkdir output\n",
    "!mkdir temp"
   ]
  },
  {
   "cell_type": "markdown",
   "metadata": {
    "papermill": {
     "duration": 0.033923,
     "end_time": "2020-09-23T23:13:18.810811",
     "exception": false,
     "start_time": "2020-09-23T23:13:18.776888",
     "status": "completed"
    },
    "tags": []
   },
   "source": [
    "Clean up the output and temp folders before we start"
   ]
  },
  {
   "cell_type": "code",
   "execution_count": 6,
   "metadata": {
    "execution": {
     "iopub.execute_input": "2020-09-23T23:13:18.879662Z",
     "iopub.status.busy": "2020-09-23T23:13:18.879030Z",
     "iopub.status.idle": "2020-09-23T23:13:19.128236Z",
     "shell.execute_reply": "2020-09-23T23:13:19.128849Z"
    },
    "papermill": {
     "duration": 0.286129,
     "end_time": "2020-09-23T23:13:19.129079",
     "exception": false,
     "start_time": "2020-09-23T23:13:18.842950",
     "status": "completed"
    },
    "tags": []
   },
   "outputs": [],
   "source": [
    "!rm $OUT/*.tsv\n",
    "!rm $TEMP/*.tsv"
   ]
  },
  {
   "cell_type": "markdown",
   "metadata": {
    "papermill": {
     "duration": 0.03527,
     "end_time": "2020-09-23T23:13:19.207579",
     "exception": false,
     "start_time": "2020-09-23T23:13:19.172309",
     "status": "completed"
    },
    "tags": []
   },
   "source": [
    "The `all` file contains 100M edges of the full dump, `all.10` contains 10M edges. This is for testing, as we should run on the full edges file."
   ]
  },
  {
   "cell_type": "code",
   "execution_count": 7,
   "metadata": {
    "execution": {
     "iopub.execute_input": "2020-09-23T23:13:19.275159Z",
     "iopub.status.busy": "2020-09-23T23:13:19.274369Z",
     "iopub.status.idle": "2020-09-23T23:13:19.276984Z",
     "shell.execute_reply": "2020-09-23T23:13:19.277348Z"
    },
    "papermill": {
     "duration": 0.038105,
     "end_time": "2020-09-23T23:13:19.277498",
     "exception": false,
     "start_time": "2020-09-23T23:13:19.239393",
     "status": "completed"
    },
    "tags": []
   },
   "outputs": [
    {
     "name": "stdout",
     "output_type": "stream",
     "text": [
      "env: STORE=/Users/amandeep/Documents/wikidata-20200504/temp/wikidata.sqlite3.db\n",
      "env: EDGES=/Users/amandeep/Documents/wikidata-20200504/all.tsv\n"
     ]
    }
   ],
   "source": [
    "%env STORE=$wikidata_home/temp/wikidata.sqlite3.db\n",
    "# %env EDGES=$wikidata_home/all.10.tsv\n",
    "%env EDGES=$wikidata_home/$wiki_file\n",
    "\n",
    "#%env QUALS=$wikidata_home/wikidata-20200803-all-qualifiers.tsv.gz\n",
    "#%env LABELS=$wikidata_home/wikidata-20200803-all-labels-en-sorted.tsv.gz"
   ]
  },
  {
   "cell_type": "markdown",
   "metadata": {
    "papermill": {
     "duration": 0.031852,
     "end_time": "2020-09-23T23:13:19.341886",
     "exception": false,
     "start_time": "2020-09-23T23:13:19.310034",
     "status": "completed"
    },
    "tags": []
   },
   "source": [
    "Uncomment the line below to remove the sqllite2 database. It takes a long time to load all the data and create indices, so don't remove the database unless you change files that have already been loaded and you need to force a reload."
   ]
  },
  {
   "cell_type": "code",
   "execution_count": 8,
   "metadata": {
    "execution": {
     "iopub.execute_input": "2020-09-23T23:13:19.409568Z",
     "iopub.status.busy": "2020-09-23T23:13:19.408970Z",
     "iopub.status.idle": "2020-09-23T23:13:19.410932Z",
     "shell.execute_reply": "2020-09-23T23:13:19.411348Z"
    },
    "papermill": {
     "duration": 0.035866,
     "end_time": "2020-09-23T23:13:19.411495",
     "exception": false,
     "start_time": "2020-09-23T23:13:19.375629",
     "status": "completed"
    },
    "tags": []
   },
   "outputs": [],
   "source": [
    "#rm $TEMP/wikidata.sqlite3.db"
   ]
  },
  {
   "cell_type": "markdown",
   "metadata": {
    "papermill": {
     "duration": 0.031233,
     "end_time": "2020-09-23T23:13:19.473693",
     "exception": false,
     "start_time": "2020-09-23T23:13:19.442460",
     "status": "completed"
    },
    "tags": []
   },
   "source": [
    "### Get a sample and force importing the edge file into the database"
   ]
  },
  {
   "cell_type": "code",
   "execution_count": 9,
   "metadata": {
    "execution": {
     "iopub.execute_input": "2020-09-23T23:13:19.547661Z",
     "iopub.status.busy": "2020-09-23T23:13:19.547157Z",
     "iopub.status.idle": "2020-09-23T23:13:19.664512Z",
     "shell.execute_reply": "2020-09-23T23:13:19.665216Z"
    },
    "papermill": {
     "duration": 0.152508,
     "end_time": "2020-09-23T23:13:19.665447",
     "exception": false,
     "start_time": "2020-09-23T23:13:19.512939",
     "status": "completed"
    },
    "tags": []
   },
   "outputs": [
    {
     "name": "stdout",
     "output_type": "stream",
     "text": [
      "zsh:1: command not found: time kgtk --debug\r\n"
     ]
    }
   ],
   "source": [
    "!$kgtk query -i $EDGES --limit 10 --graph-cache $STORE"
   ]
  },
  {
   "cell_type": "markdown",
   "metadata": {
    "papermill": {
     "duration": 0.037401,
     "end_time": "2020-09-23T23:13:19.747582",
     "exception": false,
     "start_time": "2020-09-23T23:13:19.710181",
     "status": "completed"
    },
    "tags": []
   },
   "source": [
    "Force creation of the index on the label column"
   ]
  },
  {
   "cell_type": "code",
   "execution_count": 10,
   "metadata": {
    "execution": {
     "iopub.execute_input": "2020-09-23T23:13:19.816417Z",
     "iopub.status.busy": "2020-09-23T23:13:19.815895Z",
     "iopub.status.idle": "2020-09-23T23:13:19.933056Z",
     "shell.execute_reply": "2020-09-23T23:13:19.933758Z"
    },
    "papermill": {
     "duration": 0.155124,
     "end_time": "2020-09-23T23:13:19.933989",
     "exception": false,
     "start_time": "2020-09-23T23:13:19.778865",
     "status": "completed"
    },
    "tags": []
   },
   "outputs": [
    {
     "name": "stdout",
     "output_type": "stream",
     "text": [
      "zsh:1: command not found: time kgtk --debug\r\n"
     ]
    }
   ],
   "source": [
    "!$kgtk query -i $EDGES --graph-cache $STORE -o - \\\n",
    "    --match '(i)-[:P31]->(c)' \\\n",
    "    --limit 5"
   ]
  },
  {
   "cell_type": "markdown",
   "metadata": {
    "papermill": {
     "duration": 0.03615,
     "end_time": "2020-09-23T23:13:20.015236",
     "exception": false,
     "start_time": "2020-09-23T23:13:19.979086",
     "status": "completed"
    },
    "tags": []
   },
   "source": [
    "Force creation of the index on the node2 column"
   ]
  },
  {
   "cell_type": "code",
   "execution_count": 11,
   "metadata": {
    "execution": {
     "iopub.execute_input": "2020-09-23T23:13:20.082635Z",
     "iopub.status.busy": "2020-09-23T23:13:20.082081Z",
     "iopub.status.idle": "2020-09-23T23:13:20.204944Z",
     "shell.execute_reply": "2020-09-23T23:13:20.205563Z"
    },
    "papermill": {
     "duration": 0.158499,
     "end_time": "2020-09-23T23:13:20.205795",
     "exception": false,
     "start_time": "2020-09-23T23:13:20.047296",
     "status": "completed"
    },
    "tags": []
   },
   "outputs": [
    {
     "name": "stdout",
     "output_type": "stream",
     "text": [
      "zsh:1: command not found: time kgtk --debug\r\n"
     ]
    }
   ],
   "source": [
    "!$kgtk query -i $EDGES --graph-cache $STORE -o - \\\n",
    "    --match '(i)-[r]->(:Q5)' \\\n",
    "    --limit 5"
   ]
  },
  {
   "cell_type": "markdown",
   "metadata": {
    "papermill": {
     "duration": 0.034488,
     "end_time": "2020-09-23T23:13:20.285570",
     "exception": false,
     "start_time": "2020-09-23T23:13:20.251082",
     "status": "completed"
    },
    "tags": []
   },
   "source": [
    "### Count the number of edges"
   ]
  },
  {
   "cell_type": "code",
   "execution_count": 12,
   "metadata": {
    "execution": {
     "iopub.execute_input": "2020-09-23T23:13:20.356221Z",
     "iopub.status.busy": "2020-09-23T23:13:20.355701Z",
     "iopub.status.idle": "2020-09-23T23:13:20.477832Z",
     "shell.execute_reply": "2020-09-23T23:13:20.478457Z"
    },
    "papermill": {
     "duration": 0.158837,
     "end_time": "2020-09-23T23:13:20.478689",
     "exception": false,
     "start_time": "2020-09-23T23:13:20.319852",
     "status": "completed"
    },
    "tags": []
   },
   "outputs": [
    {
     "name": "stdout",
     "output_type": "stream",
     "text": [
      "zsh:1: command not found: time kgtk --debug\r\n"
     ]
    }
   ],
   "source": [
    "!$kgtk query -i $EDGES --graph-cache $STORE \\\n",
    "    --match 'all: ()-[r]->()' \\\n",
    "    --return 'count(r) as count' \\\n",
    "    --limit 10"
   ]
  },
  {
   "cell_type": "markdown",
   "metadata": {
    "papermill": {
     "duration": 0.035848,
     "end_time": "2020-09-23T23:13:20.561172",
     "exception": false,
     "start_time": "2020-09-23T23:13:20.525324",
     "status": "completed"
    },
    "tags": []
   },
   "source": [
    "### Get the distribution of the label column\n",
    "I would like to have it sorted numerically, but don't know how to make it happen"
   ]
  },
  {
   "cell_type": "code",
   "execution_count": 13,
   "metadata": {
    "execution": {
     "iopub.execute_input": "2020-09-23T23:13:20.637007Z",
     "iopub.status.busy": "2020-09-23T23:13:20.636301Z",
     "iopub.status.idle": "2020-09-23T23:13:20.756272Z",
     "shell.execute_reply": "2020-09-23T23:13:20.756793Z"
    },
    "papermill": {
     "duration": 0.156283,
     "end_time": "2020-09-23T23:13:20.756994",
     "exception": false,
     "start_time": "2020-09-23T23:13:20.600711",
     "status": "completed"
    },
    "tags": []
   },
   "outputs": [
    {
     "name": "stdout",
     "output_type": "stream",
     "text": [
      "zsh:1: command not found: time kgtk --debug\r\n"
     ]
    }
   ],
   "source": [
    "!$kgtk unique --column label -i $EDGES / sort2 -c node2 -r -o $OUT/all-distribution.tsv "
   ]
  },
  {
   "cell_type": "code",
   "execution_count": 14,
   "metadata": {
    "execution": {
     "iopub.execute_input": "2020-09-23T23:13:20.843918Z",
     "iopub.status.busy": "2020-09-23T23:13:20.843126Z",
     "iopub.status.idle": "2020-09-23T23:13:20.965405Z",
     "shell.execute_reply": "2020-09-23T23:13:20.966025Z"
    },
    "papermill": {
     "duration": 0.16497,
     "end_time": "2020-09-23T23:13:20.966258",
     "exception": false,
     "start_time": "2020-09-23T23:13:20.801288",
     "status": "completed"
    },
    "tags": []
   },
   "outputs": [
    {
     "name": "stdout",
     "output_type": "stream",
     "text": [
      "head: /Users/amandeep/Documents/wikidata-20200504/output/all-distribution.tsv: No such file or directory\r\n"
     ]
    }
   ],
   "source": [
    "!head $OUT/all-distribution.tsv | column -t -s $'\\t' "
   ]
  },
  {
   "cell_type": "markdown",
   "metadata": {
    "papermill": {
     "duration": 0.036794,
     "end_time": "2020-09-23T23:13:21.049926",
     "exception": false,
     "start_time": "2020-09-23T23:13:21.013132",
     "status": "completed"
    },
    "tags": []
   },
   "source": [
    "### Compute files with labels, aliases and descriptions\n",
    "Return the id, node1, label and node2 columns"
   ]
  },
  {
   "cell_type": "code",
   "execution_count": 15,
   "metadata": {
    "execution": {
     "iopub.execute_input": "2020-09-23T23:13:21.120591Z",
     "iopub.status.busy": "2020-09-23T23:13:21.120062Z",
     "iopub.status.idle": "2020-09-23T23:13:21.238728Z",
     "shell.execute_reply": "2020-09-23T23:13:21.239269Z"
    },
    "papermill": {
     "duration": 0.156521,
     "end_time": "2020-09-23T23:13:21.239500",
     "exception": false,
     "start_time": "2020-09-23T23:13:21.082979",
     "status": "completed"
    },
    "tags": []
   },
   "outputs": [
    {
     "name": "stdout",
     "output_type": "stream",
     "text": [
      "zsh:1: command not found: time kgtk --debug\r\n"
     ]
    }
   ],
   "source": [
    "!$kgtk query -i $EDGES --graph-cache $STORE -o - \\\n",
    "    --match '(n1)-[l:label]->(n2)' \\\n",
    "    --return 'l, n1, l.label, n2' \\\n",
    "    | $compress > $OUT/all.label.tsv"
   ]
  },
  {
   "cell_type": "code",
   "execution_count": 16,
   "metadata": {
    "execution": {
     "iopub.execute_input": "2020-09-23T23:13:21.330145Z",
     "iopub.status.busy": "2020-09-23T23:13:21.329443Z",
     "iopub.status.idle": "2020-09-23T23:13:21.451368Z",
     "shell.execute_reply": "2020-09-23T23:13:21.452007Z"
    },
    "papermill": {
     "duration": 0.167227,
     "end_time": "2020-09-23T23:13:21.452238",
     "exception": false,
     "start_time": "2020-09-23T23:13:21.285011",
     "status": "completed"
    },
    "tags": []
   },
   "outputs": [
    {
     "name": "stdout",
     "output_type": "stream",
     "text": [
      "zsh:1: command not found: time kgtk --debug\r\n"
     ]
    }
   ],
   "source": [
    "!$kgtk query -i $EDGES --graph-cache $STORE -o - \\\n",
    "    --match '(n1)-[l:alias]->(n2)' \\\n",
    "    --return 'l, n1, l.label, n2' \\\n",
    "    | $compress > $OUT/all.alias.tsv"
   ]
  },
  {
   "cell_type": "code",
   "execution_count": 17,
   "metadata": {
    "execution": {
     "iopub.execute_input": "2020-09-23T23:13:21.541173Z",
     "iopub.status.busy": "2020-09-23T23:13:21.540625Z",
     "iopub.status.idle": "2020-09-23T23:13:21.661082Z",
     "shell.execute_reply": "2020-09-23T23:13:21.660512Z"
    },
    "papermill": {
     "duration": 0.161849,
     "end_time": "2020-09-23T23:13:21.661276",
     "exception": false,
     "start_time": "2020-09-23T23:13:21.499427",
     "status": "completed"
    },
    "tags": []
   },
   "outputs": [
    {
     "name": "stdout",
     "output_type": "stream",
     "text": [
      "zsh:1: command not found: time kgtk --debug\r\n"
     ]
    }
   ],
   "source": [
    "!$kgtk query -i $EDGES --graph-cache $STORE -o - \\\n",
    "    --match '(n1)-[l:description]->(n2)' \\\n",
    "    --return 'l, n1, l.label, n2' \\\n",
    "    | $compress > $OUT/all.description.tsv"
   ]
  },
  {
   "cell_type": "markdown",
   "metadata": {
    "papermill": {
     "duration": 0.040838,
     "end_time": "2020-09-23T23:13:21.749436",
     "exception": false,
     "start_time": "2020-09-23T23:13:21.708598",
     "status": "completed"
    },
    "tags": []
   },
   "source": [
    "### Now create files with the English labels, aliases and descriptions"
   ]
  },
  {
   "cell_type": "code",
   "execution_count": 18,
   "metadata": {
    "execution": {
     "iopub.execute_input": "2020-09-23T23:13:21.822628Z",
     "iopub.status.busy": "2020-09-23T23:13:21.822103Z",
     "iopub.status.idle": "2020-09-23T23:13:22.852893Z",
     "shell.execute_reply": "2020-09-23T23:13:22.853511Z"
    },
    "papermill": {
     "duration": 1.069382,
     "end_time": "2020-09-23T23:13:22.853741",
     "exception": false,
     "start_time": "2020-09-23T23:13:21.784359",
     "status": "completed"
    },
    "tags": []
   },
   "outputs": [
    {
     "name": "stdout",
     "output_type": "stream",
     "text": [
      "zsh:1: command not found: time kgtk --debug\r\n"
     ]
    },
    {
     "name": "stdout",
     "output_type": "stream",
     "text": [
      "In input header '': Column 0 has an invalid name in the file header\r\n",
      "/Users/amandeep/Github/kgtk/kgtk/exceptions.py:62: UserWarning: Please raise KGTKException instead of <class 'SystemExit'>\r\n",
      "  warnings.warn('Please raise KGTKException instead of {}'.format(type_))\r\n",
      "KGTKException found\r\n",
      "\r\n"
     ]
    }
   ],
   "source": [
    "!$kgtk query -i $OUT/all.label.tsv --graph-cache $STORE -o - \\\n",
    "    --match '()-[]->(n2)' \\\n",
    "    --where 'n2.kgtk_lqstring_lang = \"en\"' \\\n",
    "    | kgtk sort2 \\\n",
    "    | $compress > $OUT/all.label.en.tsv"
   ]
  },
  {
   "cell_type": "code",
   "execution_count": 19,
   "metadata": {
    "execution": {
     "iopub.execute_input": "2020-09-23T23:13:22.953206Z",
     "iopub.status.busy": "2020-09-23T23:13:22.952501Z",
     "iopub.status.idle": "2020-09-23T23:13:23.716931Z",
     "shell.execute_reply": "2020-09-23T23:13:23.717742Z"
    },
    "papermill": {
     "duration": 0.81522,
     "end_time": "2020-09-23T23:13:23.717974",
     "exception": false,
     "start_time": "2020-09-23T23:13:22.902754",
     "status": "completed"
    },
    "tags": []
   },
   "outputs": [
    {
     "name": "stdout",
     "output_type": "stream",
     "text": [
      "zsh:1: command not found: time kgtk --debug\r\n"
     ]
    },
    {
     "name": "stdout",
     "output_type": "stream",
     "text": [
      "In input header '': Column 0 has an invalid name in the file header\r\n",
      "/Users/amandeep/Github/kgtk/kgtk/exceptions.py:62: UserWarning: Please raise KGTKException instead of <class 'SystemExit'>\r\n",
      "  warnings.warn('Please raise KGTKException instead of {}'.format(type_))\r\n",
      "KGTKException found\r\n",
      "\r\n"
     ]
    }
   ],
   "source": [
    "!$kgtk query -i $OUT/all.alias.tsv --graph-cache $STORE -o - \\\n",
    "    --match '()-[]->(n2)' \\\n",
    "    --where 'n2.kgtk_lqstring_lang = \"en\"' \\\n",
    "    | kgtk sort2 \\\n",
    "    | $compress > $OUT/all.alias.en.tsv"
   ]
  },
  {
   "cell_type": "code",
   "execution_count": 20,
   "metadata": {
    "execution": {
     "iopub.execute_input": "2020-09-23T23:13:23.811295Z",
     "iopub.status.busy": "2020-09-23T23:13:23.810648Z",
     "iopub.status.idle": "2020-09-23T23:13:24.550066Z",
     "shell.execute_reply": "2020-09-23T23:13:24.550684Z"
    },
    "papermill": {
     "duration": 0.783668,
     "end_time": "2020-09-23T23:13:24.550914",
     "exception": false,
     "start_time": "2020-09-23T23:13:23.767246",
     "status": "completed"
    },
    "tags": []
   },
   "outputs": [
    {
     "name": "stdout",
     "output_type": "stream",
     "text": [
      "zsh:1: command not found: time kgtk --debug\r\n"
     ]
    },
    {
     "name": "stdout",
     "output_type": "stream",
     "text": [
      "In input header '': Column 0 has an invalid name in the file header\r\n",
      "/Users/amandeep/Github/kgtk/kgtk/exceptions.py:62: UserWarning: Please raise KGTKException instead of <class 'SystemExit'>\r\n",
      "  warnings.warn('Please raise KGTKException instead of {}'.format(type_))\r\n",
      "KGTKException found\r\n",
      "\r\n"
     ]
    }
   ],
   "source": [
    "!$kgtk query -i $OUT/all.description.tsv --graph-cache $STORE -o - \\\n",
    "    --match '()-[]->(n2)' \\\n",
    "    --where 'n2.kgtk_lqstring_lang = \"en\"' \\\n",
    "    | kgtk sort2 \\\n",
    "    | $compress > $OUT/all.description.en.tsv"
   ]
  },
  {
   "cell_type": "markdown",
   "metadata": {
    "papermill": {
     "duration": 0.039369,
     "end_time": "2020-09-23T23:13:24.639328",
     "exception": false,
     "start_time": "2020-09-23T23:13:24.599959",
     "status": "completed"
    },
    "tags": []
   },
   "source": [
    "Let's sample these files to see what they look like:\n",
    "\n",
    "* we are getting all variants of English, we really want `en` only\n",
    "* the labels have the language tags, how do we output only the string without the language tag?"
   ]
  },
  {
   "cell_type": "code",
   "execution_count": 21,
   "metadata": {
    "execution": {
     "iopub.execute_input": "2020-09-23T23:13:24.714880Z",
     "iopub.status.busy": "2020-09-23T23:13:24.714319Z",
     "iopub.status.idle": "2020-09-23T23:13:24.832984Z",
     "shell.execute_reply": "2020-09-23T23:13:24.833713Z"
    },
    "papermill": {
     "duration": 0.158786,
     "end_time": "2020-09-23T23:13:24.833916",
     "exception": false,
     "start_time": "2020-09-23T23:13:24.675130",
     "status": "completed"
    },
    "tags": []
   },
   "outputs": [],
   "source": [
    "!head $OUT/all.label.en.tsv | column -t -s $'\\t' "
   ]
  },
  {
   "cell_type": "markdown",
   "metadata": {
    "papermill": {
     "duration": 0.037178,
     "end_time": "2020-09-23T23:13:24.918757",
     "exception": false,
     "start_time": "2020-09-23T23:13:24.881579",
     "status": "completed"
    },
    "tags": []
   },
   "source": [
    "### Compute the distribution of the number of edges for each Wikidata type"
   ]
  },
  {
   "cell_type": "code",
   "execution_count": 22,
   "metadata": {
    "execution": {
     "iopub.execute_input": "2020-09-23T23:13:24.994622Z",
     "iopub.status.busy": "2020-09-23T23:13:24.993710Z",
     "iopub.status.idle": "2020-09-23T23:13:25.109410Z",
     "shell.execute_reply": "2020-09-23T23:13:25.109952Z"
    },
    "papermill": {
     "duration": 0.154789,
     "end_time": "2020-09-23T23:13:25.110162",
     "exception": false,
     "start_time": "2020-09-23T23:13:24.955373",
     "status": "completed"
    },
    "tags": []
   },
   "outputs": [
    {
     "name": "stdout",
     "output_type": "stream",
     "text": [
      "zsh:1: command not found: time kgtk --debug\r\n"
     ]
    }
   ],
   "source": [
    "!$kgtk unique --column 'node2;wikidatatype' -i $EDGES / sort2 -c node2 -r -o $OUT/all.wikidatatype.distribution.tsv"
   ]
  },
  {
   "cell_type": "code",
   "execution_count": 23,
   "metadata": {
    "execution": {
     "iopub.execute_input": "2020-09-23T23:13:25.205366Z",
     "iopub.status.busy": "2020-09-23T23:13:25.204804Z",
     "iopub.status.idle": "2020-09-23T23:13:25.324664Z",
     "shell.execute_reply": "2020-09-23T23:13:25.325276Z"
    },
    "papermill": {
     "duration": 0.166652,
     "end_time": "2020-09-23T23:13:25.325519",
     "exception": false,
     "start_time": "2020-09-23T23:13:25.158867",
     "status": "completed"
    },
    "tags": []
   },
   "outputs": [
    {
     "name": "stdout",
     "output_type": "stream",
     "text": [
      "column: /Users/amandeep/Documents/wikidata-20200504/output/all.wikidatatype.distribution.tsv: No such file or directory\r\n"
     ]
    }
   ],
   "source": [
    "!column -t -s $'\\t' $OUT/all.wikidatatype.distribution.tsv"
   ]
  },
  {
   "cell_type": "markdown",
   "metadata": {
    "papermill": {
     "duration": 0.03747,
     "end_time": "2020-09-23T23:13:25.412128",
     "exception": false,
     "start_time": "2020-09-23T23:13:25.374658",
     "status": "completed"
    },
    "tags": []
   },
   "source": [
    "### Create a file to contain the edges for each wikidata type"
   ]
  },
  {
   "cell_type": "code",
   "execution_count": 24,
   "metadata": {
    "execution": {
     "iopub.execute_input": "2020-09-23T23:13:25.488582Z",
     "iopub.status.busy": "2020-09-23T23:13:25.488059Z",
     "iopub.status.idle": "2020-09-23T23:13:36.120654Z",
     "shell.execute_reply": "2020-09-23T23:13:36.121193Z"
    },
    "papermill": {
     "duration": 10.673084,
     "end_time": "2020-09-23T23:13:36.121445",
     "exception": false,
     "start_time": "2020-09-23T23:13:25.448361",
     "status": "completed"
    },
    "tags": []
   },
   "outputs": [
    {
     "name": "stdout",
     "output_type": "stream",
     "text": [
      "$kgtk query -i $EDGES --graph-cache $STORE -o -     --match '(n1)-[l]->(n2 {wikidatatype: type})'     --return 'l, n1, l.label, n2'    --where 'type = \"time\"'     | kgtk sort2 | $compress > $OUT/all.time.tsv\n"
     ]
    },
    {
     "name": "stdout",
     "output_type": "stream",
     "text": [
      "$kgtk query -i $EDGES --graph-cache $STORE -o -     --match '(n1)-[l]->(n2 {wikidatatype: type})'     --return 'l, n1, l.label, n2'    --where 'type = \"wikibase-item\"'     | kgtk sort2 | $compress > $OUT/all.wikibase-item.tsv\n"
     ]
    },
    {
     "name": "stdout",
     "output_type": "stream",
     "text": [
      "$kgtk query -i $EDGES --graph-cache $STORE -o -     --match '(n1)-[l]->(n2 {wikidatatype: type})'     --return 'l, n1, l.label, n2'    --where 'type = \"math\"'     | kgtk sort2 | $compress > $OUT/all.math.tsv\n"
     ]
    },
    {
     "name": "stdout",
     "output_type": "stream",
     "text": [
      "$kgtk query -i $EDGES --graph-cache $STORE -o -     --match '(n1)-[l]->(n2 {wikidatatype: type})'     --return 'l, n1, l.label, n2'    --where 'type = \"wikibase-form\"'     | kgtk sort2 | $compress > $OUT/all.wikibase-form.tsv\n"
     ]
    },
    {
     "name": "stdout",
     "output_type": "stream",
     "text": [
      "$kgtk query -i $EDGES --graph-cache $STORE -o -     --match '(n1)-[l]->(n2 {wikidatatype: type})'     --return 'l, n1, l.label, n2'    --where 'type = \"quantity\"'     | kgtk sort2 | $compress > $OUT/all.quantity.tsv\n"
     ]
    },
    {
     "name": "stdout",
     "output_type": "stream",
     "text": [
      "$kgtk query -i $EDGES --graph-cache $STORE -o -     --match '(n1)-[l]->(n2 {wikidatatype: type})'     --return 'l, n1, l.label, n2'    --where 'type = \"string\"'     | kgtk sort2 | $compress > $OUT/all.string.tsv\n"
     ]
    },
    {
     "name": "stdout",
     "output_type": "stream",
     "text": [
      "$kgtk query -i $EDGES --graph-cache $STORE -o -     --match '(n1)-[l]->(n2 {wikidatatype: type})'     --return 'l, n1, l.label, n2'    --where 'type = \"external-id\"'     | kgtk sort2 | $compress > $OUT/all.external-id.tsv\n"
     ]
    },
    {
     "name": "stdout",
     "output_type": "stream",
     "text": [
      "$kgtk query -i $EDGES --graph-cache $STORE -o -     --match '(n1)-[l]->(n2 {wikidatatype: type})'     --return 'l, n1, l.label, n2'    --where 'type = \"commonsMedia\"'     | kgtk sort2 | $compress > $OUT/all.commonsMedia.tsv\n"
     ]
    },
    {
     "name": "stdout",
     "output_type": "stream",
     "text": [
      "$kgtk query -i $EDGES --graph-cache $STORE -o -     --match '(n1)-[l]->(n2 {wikidatatype: type})'     --return 'l, n1, l.label, n2'    --where 'type = \"globe-coordinate\"'     | kgtk sort2 | $compress > $OUT/all.globe-coordinate.tsv\n"
     ]
    },
    {
     "name": "stdout",
     "output_type": "stream",
     "text": [
      "$kgtk query -i $EDGES --graph-cache $STORE -o -     --match '(n1)-[l]->(n2 {wikidatatype: type})'     --return 'l, n1, l.label, n2'    --where 'type = \"monolingualtext\"'     | kgtk sort2 | $compress > $OUT/all.monolingualtext.tsv\n"
     ]
    },
    {
     "name": "stdout",
     "output_type": "stream",
     "text": [
      "$kgtk query -i $EDGES --graph-cache $STORE -o -     --match '(n1)-[l]->(n2 {wikidatatype: type})'     --return 'l, n1, l.label, n2'    --where 'type = \"musical-notation\"'     | kgtk sort2 | $compress > $OUT/all.musical-notation.tsv\n"
     ]
    },
    {
     "name": "stdout",
     "output_type": "stream",
     "text": [
      "$kgtk query -i $EDGES --graph-cache $STORE -o -     --match '(n1)-[l]->(n2 {wikidatatype: type})'     --return 'l, n1, l.label, n2'    --where 'type = \"geo-shape\"'     | kgtk sort2 | $compress > $OUT/all.geo-shape.tsv\n"
     ]
    },
    {
     "name": "stdout",
     "output_type": "stream",
     "text": [
      "$kgtk query -i $EDGES --graph-cache $STORE -o -     --match '(n1)-[l]->(n2 {wikidatatype: type})'     --return 'l, n1, l.label, n2'    --where 'type = \"wikibase-property\"'     | kgtk sort2 | $compress > $OUT/all.wikibase-property.tsv\n"
     ]
    },
    {
     "name": "stdout",
     "output_type": "stream",
     "text": [
      "$kgtk query -i $EDGES --graph-cache $STORE -o -     --match '(n1)-[l]->(n2 {wikidatatype: type})'     --return 'l, n1, l.label, n2'    --where 'type = \"url\"'     | kgtk sort2 | $compress > $OUT/all.url.tsv\n"
     ]
    }
   ],
   "source": [
    "types = [\n",
    "    \"time\",\n",
    "    \"wikibase-item\",\n",
    "    \"math\",\n",
    "    \"wikibase-form\",\n",
    "    \"quantity\",\n",
    "    \"string\",\n",
    "    \"external-id\",\n",
    "    \"commonsMedia\",\n",
    "    \"globe-coordinate\",\n",
    "    \"monolingualtext\",\n",
    "    \"musical-notation\",\n",
    "    \"geo-shape\",\n",
    "    \"wikibase-property\",\n",
    "    \"url\",\n",
    "]\n",
    "command = \"$kgtk query -i $EDGES --graph-cache $STORE -o - \\\n",
    "    --match '(n1)-[l]->(n2 {wikidatatype: type})' \\\n",
    "    --return 'l, n1, l.label, n2'\\\n",
    "    --where 'type = \\\"TYPE\\\"' \\\n",
    "    | kgtk sort2 | $compress > $OUT/all.TYPE.tsv\"\n",
    "for type in types:\n",
    "    cmd = command.replace(\"TYPE\", type)\n",
    "    print(cmd)\n",
    "    os.system(cmd)"
   ]
  },
  {
   "cell_type": "markdown",
   "metadata": {
    "papermill": {
     "duration": 0.03968,
     "end_time": "2020-09-23T23:13:36.214478",
     "exception": false,
     "start_time": "2020-09-23T23:13:36.174798",
     "status": "completed"
    },
    "tags": []
   },
   "source": [
    "### Create a file with the sitelinks"
   ]
  },
  {
   "cell_type": "code",
   "execution_count": 25,
   "metadata": {
    "execution": {
     "iopub.execute_input": "2020-09-23T23:13:36.297030Z",
     "iopub.status.busy": "2020-09-23T23:13:36.296517Z",
     "iopub.status.idle": "2020-09-23T23:13:37.134626Z",
     "shell.execute_reply": "2020-09-23T23:13:37.135240Z"
    },
    "papermill": {
     "duration": 0.882542,
     "end_time": "2020-09-23T23:13:37.135468",
     "exception": false,
     "start_time": "2020-09-23T23:13:36.252926",
     "status": "completed"
    },
    "tags": []
   },
   "outputs": [
    {
     "name": "stdout",
     "output_type": "stream",
     "text": [
      "zsh:1: command not found: time kgtk --debug\r\n"
     ]
    },
    {
     "name": "stdout",
     "output_type": "stream",
     "text": [
      "In input header '': Column 0 has an invalid name in the file header\r\n",
      "/Users/amandeep/Github/kgtk/kgtk/exceptions.py:62: UserWarning: Please raise KGTKException instead of <class 'SystemExit'>\r\n",
      "  warnings.warn('Please raise KGTKException instead of {}'.format(type_))\r\n",
      "KGTKException found\r\n",
      "\r\n"
     ]
    }
   ],
   "source": [
    "!$kgtk query -i $EDGES --graph-cache $STORE -o - \\\n",
    "    --match '(n1)-[l:wikipedia_sitelink]->(n2)' \\\n",
    "    --return 'l, n1, l.label, n2' \\\n",
    "    | kgtk sort2 \\\n",
    "    | $compress > $OUT/all.wikipedia_sitelink.tsv"
   ]
  },
  {
   "cell_type": "markdown",
   "metadata": {
    "papermill": {
     "duration": 0.059329,
     "end_time": "2020-09-23T23:13:37.255548",
     "exception": false,
     "start_time": "2020-09-23T23:13:37.196219",
     "status": "completed"
    },
    "tags": []
   },
   "source": [
    "### Create a file that specifies for each node whether it is an item or a property"
   ]
  },
  {
   "cell_type": "code",
   "execution_count": 26,
   "metadata": {
    "execution": {
     "iopub.execute_input": "2020-09-23T23:13:37.360581Z",
     "iopub.status.busy": "2020-09-23T23:13:37.360054Z",
     "iopub.status.idle": "2020-09-23T23:13:38.186545Z",
     "shell.execute_reply": "2020-09-23T23:13:38.187244Z"
    },
    "papermill": {
     "duration": 0.87746,
     "end_time": "2020-09-23T23:13:38.187477",
     "exception": false,
     "start_time": "2020-09-23T23:13:37.310017",
     "status": "completed"
    },
    "tags": []
   },
   "outputs": [
    {
     "name": "stdout",
     "output_type": "stream",
     "text": [
      "zsh:1: command not found: time kgtk --debug\r\n"
     ]
    },
    {
     "name": "stdout",
     "output_type": "stream",
     "text": [
      "In input header '': Column 0 has an invalid name in the file header\r\n",
      "/Users/amandeep/Github/kgtk/kgtk/exceptions.py:62: UserWarning: Please raise KGTKException instead of <class 'SystemExit'>\r\n",
      "  warnings.warn('Please raise KGTKException instead of {}'.format(type_))\r\n",
      "KGTKException found\r\n",
      "\r\n"
     ]
    }
   ],
   "source": [
    "!$kgtk query -i $EDGES --graph-cache $STORE -o - \\\n",
    "    --match '(n1)-[l:type]->(n2)' \\\n",
    "    --return 'l, n1, l.label, n2' \\\n",
    "    | kgtk sort2 \\\n",
    "    | $compress > $OUT/all.type.tsv "
   ]
  },
  {
   "cell_type": "markdown",
   "metadata": {
    "papermill": {
     "duration": 0.04224,
     "end_time": "2020-09-23T23:13:38.285203",
     "exception": false,
     "start_time": "2020-09-23T23:13:38.242963",
     "status": "completed"
    },
    "tags": []
   },
   "source": [
    "### Create the P31 and P279 files"
   ]
  },
  {
   "cell_type": "code",
   "execution_count": 27,
   "metadata": {
    "execution": {
     "iopub.execute_input": "2020-09-23T23:13:38.372182Z",
     "iopub.status.busy": "2020-09-23T23:13:38.371673Z",
     "iopub.status.idle": "2020-09-23T23:13:39.161138Z",
     "shell.execute_reply": "2020-09-23T23:13:39.161766Z"
    },
    "papermill": {
     "duration": 0.834354,
     "end_time": "2020-09-23T23:13:39.162003",
     "exception": false,
     "start_time": "2020-09-23T23:13:38.327649",
     "status": "completed"
    },
    "tags": []
   },
   "outputs": [
    {
     "name": "stdout",
     "output_type": "stream",
     "text": [
      "zsh:1: command not found: time kgtk --debug\r\n"
     ]
    },
    {
     "name": "stdout",
     "output_type": "stream",
     "text": [
      "In input header '': Column 0 has an invalid name in the file header\r\n",
      "/Users/amandeep/Github/kgtk/kgtk/exceptions.py:62: UserWarning: Please raise KGTKException instead of <class 'SystemExit'>\r\n",
      "  warnings.warn('Please raise KGTKException instead of {}'.format(type_))\r\n",
      "KGTKException found\r\n",
      "\r\n"
     ]
    }
   ],
   "source": [
    "!$kgtk query -i $EDGES --graph-cache $STORE -o - \\\n",
    "    --match '(n1)-[l:P31]->(n2)' \\\n",
    "    --return 'l, n1, l.label, n2' \\\n",
    "    | kgtk sort2 | $compress > $OUT/all.P31.tsv"
   ]
  },
  {
   "cell_type": "code",
   "execution_count": 28,
   "metadata": {
    "execution": {
     "iopub.execute_input": "2020-09-23T23:13:39.268402Z",
     "iopub.status.busy": "2020-09-23T23:13:39.267581Z",
     "iopub.status.idle": "2020-09-23T23:13:40.144625Z",
     "shell.execute_reply": "2020-09-23T23:13:40.145252Z"
    },
    "papermill": {
     "duration": 0.928469,
     "end_time": "2020-09-23T23:13:40.145563",
     "exception": false,
     "start_time": "2020-09-23T23:13:39.217094",
     "status": "completed"
    },
    "tags": []
   },
   "outputs": [
    {
     "name": "stdout",
     "output_type": "stream",
     "text": [
      "zsh:1: command not found: time kgtk --debug\r\n"
     ]
    },
    {
     "name": "stdout",
     "output_type": "stream",
     "text": [
      "In input header '': Column 0 has an invalid name in the file header\r\n",
      "/Users/amandeep/Github/kgtk/kgtk/exceptions.py:62: UserWarning: Please raise KGTKException instead of <class 'SystemExit'>\r\n",
      "  warnings.warn('Please raise KGTKException instead of {}'.format(type_))\r\n",
      "KGTKException found\r\n",
      "\r\n"
     ]
    }
   ],
   "source": [
    "!$kgtk query -i $EDGES --graph-cache $STORE -o - \\\n",
    "    --match '(n1)-[l:P279]->(n2)' \\\n",
    "    --return 'l, n1, l.label, n2' \\\n",
    "    | kgtk sort2 | $compress > $OUT/all.P279.tsv"
   ]
  },
  {
   "cell_type": "code",
   "execution_count": 29,
   "metadata": {
    "execution": {
     "iopub.execute_input": "2020-09-23T23:13:40.268332Z",
     "iopub.status.busy": "2020-09-23T23:13:40.267421Z",
     "iopub.status.idle": "2020-09-23T23:13:40.394129Z",
     "shell.execute_reply": "2020-09-23T23:13:40.394787Z"
    },
    "papermill": {
     "duration": 0.190565,
     "end_time": "2020-09-23T23:13:40.395129",
     "exception": false,
     "start_time": "2020-09-23T23:13:40.204564",
     "status": "completed"
    },
    "tags": []
   },
   "outputs": [],
   "source": [
    "!head $OUT/all.P31.tsv | column -t -s $'\\t' "
   ]
  },
  {
   "cell_type": "code",
   "execution_count": 30,
   "metadata": {
    "execution": {
     "iopub.execute_input": "2020-09-23T23:13:40.501366Z",
     "iopub.status.busy": "2020-09-23T23:13:40.500850Z",
     "iopub.status.idle": "2020-09-23T23:13:41.430032Z",
     "shell.execute_reply": "2020-09-23T23:13:41.430632Z"
    },
    "papermill": {
     "duration": 0.978673,
     "end_time": "2020-09-23T23:13:41.430866",
     "exception": false,
     "start_time": "2020-09-23T23:13:40.452193",
     "status": "completed"
    },
    "tags": []
   },
   "outputs": [
    {
     "name": "stdout",
     "output_type": "stream",
     "text": [
      "zsh:1: command not found: time kgtk --debug\r\n"
     ]
    },
    {
     "name": "stdout",
     "output_type": "stream",
     "text": [
      "In input header '': Column 0 has an invalid name in the file header\r\n",
      "/Users/amandeep/Github/kgtk/kgtk/exceptions.py:62: UserWarning: Please raise KGTKException instead of <class 'SystemExit'>\r\n",
      "  warnings.warn('Please raise KGTKException instead of {}'.format(type_))\r\n",
      "KGTKException found\r\n",
      "\r\n"
     ]
    }
   ],
   "source": [
    "!$kgtk cat -i $OUT/all.P279.tsv -i $OUT/all.P31.tsv -o - \\\n",
    "    | kgtk sort2 | $compress > $OUT/all.P31_P279.tsv"
   ]
  },
  {
   "cell_type": "code",
   "execution_count": 31,
   "metadata": {
    "execution": {
     "iopub.execute_input": "2020-09-23T23:13:41.576563Z",
     "iopub.status.busy": "2020-09-23T23:13:41.575339Z",
     "iopub.status.idle": "2020-09-23T23:13:41.700624Z",
     "shell.execute_reply": "2020-09-23T23:13:41.701308Z"
    },
    "papermill": {
     "duration": 0.206378,
     "end_time": "2020-09-23T23:13:41.701555",
     "exception": false,
     "start_time": "2020-09-23T23:13:41.495177",
     "status": "completed"
    },
    "tags": []
   },
   "outputs": [],
   "source": [
    "!head $OUT/all.P31_P279.tsv | column -t -s $'\\t' "
   ]
  },
  {
   "cell_type": "markdown",
   "metadata": {
    "papermill": {
     "duration": 0.056323,
     "end_time": "2020-09-23T23:13:41.819392",
     "exception": false,
     "start_time": "2020-09-23T23:13:41.763069",
     "status": "completed"
    },
    "tags": []
   },
   "source": [
    "### Create the file that contains all nodes reachable via P279 starting from a node2 in P31 or a node1 in P279"
   ]
  },
  {
   "cell_type": "markdown",
   "metadata": {
    "papermill": {
     "duration": 0.044899,
     "end_time": "2020-09-23T23:13:41.910373",
     "exception": false,
     "start_time": "2020-09-23T23:13:41.865474",
     "status": "completed"
    },
    "tags": []
   },
   "source": [
    "First compute the roots"
   ]
  },
  {
   "cell_type": "code",
   "execution_count": 32,
   "metadata": {
    "execution": {
     "iopub.execute_input": "2020-09-23T23:13:42.002259Z",
     "iopub.status.busy": "2020-09-23T23:13:42.001743Z",
     "iopub.status.idle": "2020-09-23T23:13:48.975113Z",
     "shell.execute_reply": "2020-09-23T23:13:48.975923Z"
    },
    "papermill": {
     "duration": 7.020746,
     "end_time": "2020-09-23T23:13:48.976192",
     "exception": false,
     "start_time": "2020-09-23T23:13:41.955446",
     "status": "completed"
    },
    "tags": []
   },
   "outputs": [
    {
     "name": "stdout",
     "output_type": "stream",
     "text": [
      "zsh:1: command not found: time kgtk --debug\r\n"
     ]
    },
    {
     "name": "stdout",
     "output_type": "stream",
     "text": [
      "INTERNAL ERROR: sh.\r\n",
      "\r\n",
      "Original exception:\r\n",
      "===================\r\n",
      "\r\n",
      "    Traceback (most recent call last):\r\n",
      "      File \"/Users/amandeep/Github/kgtk/kgtk_env/lib/python3.6/site-packages/sh.py\", line 2082, in __init__\r\n",
      "        preexec_fn()\r\n",
      "      File \"/Users/amandeep/Github/kgtk/kgtk/cli/sort.py\", line 152, in wait_for_key_spec\r\n",
      "        raise KGTKException('INTERNAL ERROR: failed to communicate sort key')\r\n",
      "    kgtk.exceptions.KGTKException: INTERNAL ERROR: failed to communicate sort key\r\n",
      "    \r\n",
      "\r\n",
      "\r\n"
     ]
    }
   ],
   "source": [
    "!$kgtk query -i $OUT/all.P279.tsv --graph-cache $STORE -o - \\\n",
    "    --match '(n1)-[]->()' \\\n",
    "    --return 'n1 as node' \\\n",
    "    | kgtk sort -c node > $TEMP/P279.n1.tsv"
   ]
  },
  {
   "cell_type": "code",
   "execution_count": 33,
   "metadata": {
    "execution": {
     "iopub.execute_input": "2020-09-23T23:13:49.122576Z",
     "iopub.status.busy": "2020-09-23T23:13:49.121821Z",
     "iopub.status.idle": "2020-09-23T23:13:56.332425Z",
     "shell.execute_reply": "2020-09-23T23:13:56.333137Z"
    },
    "papermill": {
     "duration": 7.278197,
     "end_time": "2020-09-23T23:13:56.333379",
     "exception": false,
     "start_time": "2020-09-23T23:13:49.055182",
     "status": "completed"
    },
    "tags": []
   },
   "outputs": [
    {
     "name": "stdout",
     "output_type": "stream",
     "text": [
      "zsh:1: command not found: time kgtk --debug\r\n"
     ]
    },
    {
     "name": "stdout",
     "output_type": "stream",
     "text": [
      "INTERNAL ERROR: sh.\r\n",
      "\r\n",
      "Original exception:\r\n",
      "===================\r\n",
      "\r\n",
      "    Traceback (most recent call last):\r\n",
      "      File \"/Users/amandeep/Github/kgtk/kgtk_env/lib/python3.6/site-packages/sh.py\", line 2082, in __init__\r\n",
      "        preexec_fn()\r\n",
      "      File \"/Users/amandeep/Github/kgtk/kgtk/cli/sort.py\", line 152, in wait_for_key_spec\r\n",
      "        raise KGTKException('INTERNAL ERROR: failed to communicate sort key')\r\n",
      "    kgtk.exceptions.KGTKException: INTERNAL ERROR: failed to communicate sort key\r\n",
      "    \r\n",
      "\r\n",
      "\r\n"
     ]
    }
   ],
   "source": [
    "!$kgtk query -i $OUT/all.P31.tsv --graph-cache $STORE  -o - \\\n",
    "    --match '()-[]->(n2)' \\\n",
    "    --return 'n2 as node' \\\n",
    "    | kgtk sort -c node > $TEMP/P31.n2.tsv"
   ]
  },
  {
   "cell_type": "code",
   "execution_count": 34,
   "metadata": {
    "execution": {
     "iopub.execute_input": "2020-09-23T23:13:56.452705Z",
     "iopub.status.busy": "2020-09-23T23:13:56.448511Z",
     "iopub.status.idle": "2020-09-23T23:13:56.570693Z",
     "shell.execute_reply": "2020-09-23T23:13:56.571307Z"
    },
    "papermill": {
     "duration": 0.176199,
     "end_time": "2020-09-23T23:13:56.571538",
     "exception": false,
     "start_time": "2020-09-23T23:13:56.395339",
     "status": "completed"
    },
    "tags": []
   },
   "outputs": [
    {
     "name": "stdout",
     "output_type": "stream",
     "text": [
      "zsh:1: command not found: time kgtk --debug\r\n"
     ]
    }
   ],
   "source": [
    "!$kgtk cat --mode NONE $TEMP/P31.n2.tsv $TEMP/P279.n1.tsv \\\n",
    "    / compact --mode NONE --columns node \\\n",
    "    > $TEMP/P279.roots.tsv"
   ]
  },
  {
   "cell_type": "markdown",
   "metadata": {
    "papermill": {
     "duration": 0.04403,
     "end_time": "2020-09-23T23:13:56.675082",
     "exception": false,
     "start_time": "2020-09-23T23:13:56.631052",
     "status": "completed"
    },
    "tags": []
   },
   "source": [
    "Now we can invoke the reachable-nodes command"
   ]
  },
  {
   "cell_type": "code",
   "execution_count": 35,
   "metadata": {
    "execution": {
     "iopub.execute_input": "2020-09-23T23:13:56.765598Z",
     "iopub.status.busy": "2020-09-23T23:13:56.765085Z",
     "iopub.status.idle": "2020-09-23T23:13:57.509733Z",
     "shell.execute_reply": "2020-09-23T23:13:57.510405Z"
    },
    "papermill": {
     "duration": 0.792852,
     "end_time": "2020-09-23T23:13:57.510655",
     "exception": false,
     "start_time": "2020-09-23T23:13:56.717803",
     "status": "completed"
    },
    "tags": []
   },
   "outputs": [
    {
     "name": "stdout",
     "output_type": "stream",
     "text": [
      "zsh:1: command not found: time kgtk --debug\r\n"
     ]
    },
    {
     "name": "stdout",
     "output_type": "stream",
     "text": [
      "In input header '': Column 0 has an invalid name in the file header\r\n",
      "/Users/amandeep/Github/kgtk/kgtk/exceptions.py:62: UserWarning: Please raise KGTKException instead of <class 'SystemExit'>\r\n",
      "  warnings.warn('Please raise KGTKException instead of {}'.format(type_))\r\n",
      "KGTKException found\r\n",
      "\r\n"
     ]
    }
   ],
   "source": [
    "!$kgtk reachable-nodes \\\n",
    "    --rootfile $TEMP/P279.roots.tsv \\\n",
    "    --rootfilecolumn 0 \\\n",
    "    --subj 1 --pred 2 --obj 3 \\\n",
    "    $OUT/all.P279.tsv \\\n",
    "    | kgtk sort2 \\\n",
    "    | $compress > $TEMP/P279.reachable.tsv"
   ]
  },
  {
   "cell_type": "markdown",
   "metadata": {
    "papermill": {
     "duration": 0.060919,
     "end_time": "2020-09-23T23:13:57.633848",
     "exception": false,
     "start_time": "2020-09-23T23:13:57.572929",
     "status": "completed"
    },
    "tags": []
   },
   "source": [
    "The reachable-nodes command produces edges labeled `reachable`, so we need one command to rename them."
   ]
  },
  {
   "cell_type": "code",
   "execution_count": 36,
   "metadata": {
    "execution": {
     "iopub.execute_input": "2020-09-23T23:13:57.752192Z",
     "iopub.status.busy": "2020-09-23T23:13:57.751414Z",
     "iopub.status.idle": "2020-09-23T23:13:57.872555Z",
     "shell.execute_reply": "2020-09-23T23:13:57.873213Z"
    },
    "papermill": {
     "duration": 0.184803,
     "end_time": "2020-09-23T23:13:57.873506",
     "exception": false,
     "start_time": "2020-09-23T23:13:57.688703",
     "status": "completed"
    },
    "tags": []
   },
   "outputs": [
    {
     "name": "stdout",
     "output_type": "stream",
     "text": [
      "zsh:1: command not found: time kgtk --debug\r\n"
     ]
    }
   ],
   "source": [
    "!$kgtk query -i $TEMP/P279.reachable.tsv --graph-cache $STORE  -o - \\\n",
    "    --match '(n1)-[]->(n2)' \\\n",
    "    --return 'n1, \"P279star\" as label, n2 as node2' \\\n",
    "     > $TEMP/P279star.1.tsv"
   ]
  },
  {
   "cell_type": "markdown",
   "metadata": {
    "papermill": {
     "duration": 0.058537,
     "end_time": "2020-09-23T23:13:57.997063",
     "exception": false,
     "start_time": "2020-09-23T23:13:57.938526",
     "status": "completed"
    },
    "tags": []
   },
   "source": [
    "We also want `P279star` to be relflexive, ie, contain `(n1)-[:P279star]->(n1)` for all node1"
   ]
  },
  {
   "cell_type": "code",
   "execution_count": 37,
   "metadata": {
    "execution": {
     "iopub.execute_input": "2020-09-23T23:13:58.105545Z",
     "iopub.status.busy": "2020-09-23T23:13:58.105008Z",
     "iopub.status.idle": "2020-09-23T23:13:58.222373Z",
     "shell.execute_reply": "2020-09-23T23:13:58.222989Z"
    },
    "papermill": {
     "duration": 0.171876,
     "end_time": "2020-09-23T23:13:58.223286",
     "exception": false,
     "start_time": "2020-09-23T23:13:58.051410",
     "status": "completed"
    },
    "tags": []
   },
   "outputs": [
    {
     "name": "stdout",
     "output_type": "stream",
     "text": [
      "zsh:1: command not found: time kgtk --debug\r\n"
     ]
    }
   ],
   "source": [
    "!$kgtk query -i $TEMP/P279.reachable.tsv --graph-cache $STORE  -o - \\\n",
    "    --match '(n1)-[]->(n2)' \\\n",
    "    --return 'n1 as node1, \"P279star\" as label, n1 as node2' \\\n",
    "     > $TEMP/P279star.2.tsv"
   ]
  },
  {
   "cell_type": "code",
   "execution_count": 38,
   "metadata": {
    "execution": {
     "iopub.execute_input": "2020-09-23T23:13:58.334757Z",
     "iopub.status.busy": "2020-09-23T23:13:58.334251Z",
     "iopub.status.idle": "2020-09-23T23:13:58.455476Z",
     "shell.execute_reply": "2020-09-23T23:13:58.456101Z"
    },
    "papermill": {
     "duration": 0.173085,
     "end_time": "2020-09-23T23:13:58.456334",
     "exception": false,
     "start_time": "2020-09-23T23:13:58.283249",
     "status": "completed"
    },
    "tags": []
   },
   "outputs": [
    {
     "name": "stdout",
     "output_type": "stream",
     "text": [
      "zsh:1: command not found: time kgtk --debug\r\n"
     ]
    }
   ],
   "source": [
    "!$kgtk query -i $TEMP/P279.reachable.tsv --graph-cache $STORE  -o - \\\n",
    "    --match '(n1)-[]->(n2)' \\\n",
    "    --return 'n2 as node1, \"P279star\" as label, n2 as node2' \\\n",
    "     > $TEMP/P279star.3.tsv"
   ]
  },
  {
   "cell_type": "code",
   "execution_count": 39,
   "metadata": {
    "execution": {
     "iopub.execute_input": "2020-09-23T23:13:58.569977Z",
     "iopub.status.busy": "2020-09-23T23:13:58.569467Z",
     "iopub.status.idle": "2020-09-23T23:13:58.690692Z",
     "shell.execute_reply": "2020-09-23T23:13:58.691388Z"
    },
    "papermill": {
     "duration": 0.172838,
     "end_time": "2020-09-23T23:13:58.691618",
     "exception": false,
     "start_time": "2020-09-23T23:13:58.518780",
     "status": "completed"
    },
    "tags": []
   },
   "outputs": [
    {
     "name": "stdout",
     "output_type": "stream",
     "text": [
      "zsh:1: command not found: time kgtk --debug\r\n"
     ]
    }
   ],
   "source": [
    "!$kgtk query -i $OUT/all.P31.tsv --graph-cache $STORE  -o - \\\n",
    "    --match '(n1)-[]->(n2)' \\\n",
    "    --return 'n2 as node1, \"P279star\" as label, n2 as node2' \\\n",
    "     > $TEMP/P279star.4.tsv"
   ]
  },
  {
   "cell_type": "markdown",
   "metadata": {
    "papermill": {
     "duration": 0.054322,
     "end_time": "2020-09-23T23:13:58.808847",
     "exception": false,
     "start_time": "2020-09-23T23:13:58.754525",
     "status": "completed"
    },
    "tags": []
   },
   "source": [
    "Now we can concatenate these files to produce the final output"
   ]
  },
  {
   "cell_type": "code",
   "execution_count": 40,
   "metadata": {
    "execution": {
     "iopub.execute_input": "2020-09-23T23:13:58.907168Z",
     "iopub.status.busy": "2020-09-23T23:13:58.906658Z",
     "iopub.status.idle": "2020-09-23T23:13:59.762049Z",
     "shell.execute_reply": "2020-09-23T23:13:59.762666Z"
    },
    "papermill": {
     "duration": 0.907231,
     "end_time": "2020-09-23T23:13:59.762897",
     "exception": false,
     "start_time": "2020-09-23T23:13:58.855666",
     "status": "completed"
    },
    "tags": []
   },
   "outputs": [
    {
     "name": "stdout",
     "output_type": "stream",
     "text": [
      "zsh:1: command not found: time kgtk --debug\r\n"
     ]
    },
    {
     "name": "stdout",
     "output_type": "stream",
     "text": [
      "No header line in file\r\n"
     ]
    },
    {
     "name": "stdout",
     "output_type": "stream",
     "text": [
      "In input header '': Column 0 has an invalid name in the file header\r\n",
      "In input header '': Column 0 has an invalid name in the file header\r\n",
      "Exit requested\r\n",
      "/Users/amandeep/Github/kgtk/kgtk/exceptions.py:62: UserWarning: Please raise KGTKException instead of <class 'SystemExit'>\r\n",
      "  warnings.warn('Please raise KGTKException instead of {}'.format(type_))\r\n",
      "KGTKException found\r\n",
      "\r\n"
     ]
    }
   ],
   "source": [
    "!$kgtk cat --mode NONE $TEMP/P279star.1.tsv $TEMP/P279star.2.tsv $TEMP/P279star.3.tsv $TEMP/P279star.4.tsv \\\n",
    "    | kgtk compact \\\n",
    "    | kgtk sort2 \\\n",
    "    | kgtk add-id --id-style node1-label-node2-num \\\n",
    "    > $OUT/all.P279star.tsv"
   ]
  },
  {
   "cell_type": "markdown",
   "metadata": {
    "papermill": {
     "duration": 0.047166,
     "end_time": "2020-09-23T23:13:59.872744",
     "exception": false,
     "start_time": "2020-09-23T23:13:59.825578",
     "status": "completed"
    },
    "tags": []
   },
   "source": [
    "This is difficult to test with our Wikidata subset because our hierarchy is very sparse.\n",
    "\n",
    "This is how we would do the typical `?item P31/P279* ?class` in Kypher. \n",
    "The example shows how to get all the `n1` that are instances of subclasses of beer (q44)."
   ]
  },
  {
   "cell_type": "code",
   "execution_count": 41,
   "metadata": {
    "execution": {
     "iopub.execute_input": "2020-09-23T23:13:59.970451Z",
     "iopub.status.busy": "2020-09-23T23:13:59.969821Z",
     "iopub.status.idle": "2020-09-23T23:14:00.092249Z",
     "shell.execute_reply": "2020-09-23T23:14:00.092874Z"
    },
    "papermill": {
     "duration": 0.173418,
     "end_time": "2020-09-23T23:14:00.093107",
     "exception": false,
     "start_time": "2020-09-23T23:13:59.919689",
     "status": "completed"
    },
    "tags": []
   },
   "outputs": [
    {
     "name": "stdout",
     "output_type": "stream",
     "text": [
      "zsh:1: command not found: time kgtk --debug\r\n"
     ]
    }
   ],
   "source": [
    "!$kgtk query -i $OUT/all.P31.tsv -i $OUT/all.P279star.tsv --graph-cache $STORE  -o - \\\n",
    "    --match 'P31: (n1)-[:P31]->(c), P279star: (c)-[]->(:Q44)' \\\n",
    "    --return 'count(n1) as count'"
   ]
  },
  {
   "cell_type": "markdown",
   "metadata": {
    "papermill": {
     "duration": 0.051958,
     "end_time": "2020-09-23T23:14:00.202529",
     "exception": false,
     "start_time": "2020-09-23T23:14:00.150571",
     "status": "completed"
    },
    "tags": []
   },
   "source": [
    "### Create a file to do generalized Is-A queries\n",
    "The idea is that `(n1)-[:isa]->(n2)` when `(n1)-[:P31]->(n2)` or `(n1)-[:P279]->(n2)`\n",
    "\n",
    "We do this by concatenating the files and renaming the relation"
   ]
  },
  {
   "cell_type": "code",
   "execution_count": 42,
   "metadata": {
    "execution": {
     "iopub.execute_input": "2020-09-23T23:14:00.317342Z",
     "iopub.status.busy": "2020-09-23T23:14:00.316694Z",
     "iopub.status.idle": "2020-09-23T23:14:00.439315Z",
     "shell.execute_reply": "2020-09-23T23:14:00.440039Z"
    },
    "papermill": {
     "duration": 0.179533,
     "end_time": "2020-09-23T23:14:00.440242",
     "exception": false,
     "start_time": "2020-09-23T23:14:00.260709",
     "status": "completed"
    },
    "tags": []
   },
   "outputs": [
    {
     "name": "stdout",
     "output_type": "stream",
     "text": [
      "zsh:1: command not found: time kgtk --debug\r\n"
     ]
    }
   ],
   "source": [
    "!$kgtk cat $OUT/all.P31.tsv $OUT/all.P279.tsv \\\n",
    "    > $TEMP/isa.1.tsv"
   ]
  },
  {
   "cell_type": "code",
   "execution_count": 43,
   "metadata": {
    "execution": {
     "iopub.execute_input": "2020-09-23T23:14:00.572331Z",
     "iopub.status.busy": "2020-09-23T23:14:00.571343Z",
     "iopub.status.idle": "2020-09-23T23:14:01.320302Z",
     "shell.execute_reply": "2020-09-23T23:14:01.320925Z"
    },
    "papermill": {
     "duration": 0.815679,
     "end_time": "2020-09-23T23:14:01.321160",
     "exception": false,
     "start_time": "2020-09-23T23:14:00.505481",
     "status": "completed"
    },
    "tags": []
   },
   "outputs": [
    {
     "name": "stdout",
     "output_type": "stream",
     "text": [
      "zsh:1: command not found: time kgtk --debug\r\n"
     ]
    },
    {
     "name": "stdout",
     "output_type": "stream",
     "text": [
      "In input header '': Column 0 has an invalid name in the file header\r\n",
      "/Users/amandeep/Github/kgtk/kgtk/exceptions.py:62: UserWarning: Please raise KGTKException instead of <class 'SystemExit'>\r\n",
      "  warnings.warn('Please raise KGTKException instead of {}'.format(type_))\r\n",
      "KGTKException found\r\n",
      "\r\n"
     ]
    }
   ],
   "source": [
    "!$kgtk query -i $TEMP/isa.1.tsv --graph-cache $STORE  -o - \\\n",
    "    --match '(n1)-[]->(n2)' \\\n",
    "    --return 'n1, \"isa\" as label, n2' \\\n",
    "    | kgtk sort2 \\\n",
    "    | $compress > $OUT/all.isa.tsv "
   ]
  },
  {
   "cell_type": "markdown",
   "metadata": {
    "papermill": {
     "duration": 0.047275,
     "end_time": "2020-09-23T23:14:01.430825",
     "exception": false,
     "start_time": "2020-09-23T23:14:01.383550",
     "status": "completed"
    },
    "tags": []
   },
   "source": [
    "Example of how to use the `isa` relation"
   ]
  },
  {
   "cell_type": "code",
   "execution_count": 44,
   "metadata": {
    "execution": {
     "iopub.execute_input": "2020-09-23T23:14:01.537275Z",
     "iopub.status.busy": "2020-09-23T23:14:01.536721Z",
     "iopub.status.idle": "2020-09-23T23:14:01.651180Z",
     "shell.execute_reply": "2020-09-23T23:14:01.651976Z"
    },
    "papermill": {
     "duration": 0.174682,
     "end_time": "2020-09-23T23:14:01.652262",
     "exception": false,
     "start_time": "2020-09-23T23:14:01.477580",
     "status": "completed"
    },
    "tags": []
   },
   "outputs": [
    {
     "name": "stdout",
     "output_type": "stream",
     "text": [
      "zsh:1: command not found: time kgtk --debug\r\n"
     ]
    }
   ],
   "source": [
    "!$kgtk query -i $OUT/all.isa.tsv -i $OUT/all.P279star.tsv --graph-cache $STORE  -o - \\\n",
    "    --match 'isa: (n1)-[l:isa]->(c), P279star: (c)-[]->(:Q44)' \\\n",
    "    --return 'distinct n1, l.label, \"Q44\" as node2' \\\n",
    "    --limit 10"
   ]
  },
  {
   "cell_type": "markdown",
   "metadata": {
    "papermill": {
     "duration": 0.047564,
     "end_time": "2020-09-23T23:14:01.761605",
     "exception": false,
     "start_time": "2020-09-23T23:14:01.714041",
     "status": "completed"
    },
    "tags": []
   },
   "source": [
    "### Creating a subset of Wikidata without scholarly articles (Q13442814)\n",
    "First create a file with the schloarly articles"
   ]
  },
  {
   "cell_type": "code",
   "execution_count": 45,
   "metadata": {
    "execution": {
     "iopub.execute_input": "2020-09-23T23:14:01.862301Z",
     "iopub.status.busy": "2020-09-23T23:14:01.861643Z",
     "iopub.status.idle": "2020-09-23T23:14:02.642814Z",
     "shell.execute_reply": "2020-09-23T23:14:02.643437Z"
    },
    "papermill": {
     "duration": 0.834348,
     "end_time": "2020-09-23T23:14:02.643723",
     "exception": false,
     "start_time": "2020-09-23T23:14:01.809375",
     "status": "completed"
    },
    "tags": []
   },
   "outputs": [
    {
     "name": "stdout",
     "output_type": "stream",
     "text": [
      "zsh:1: command not found: time kgtk --debug\r\n"
     ]
    },
    {
     "name": "stdout",
     "output_type": "stream",
     "text": [
      "In input header '': Column 0 has an invalid name in the file header\r\n",
      "/Users/amandeep/Github/kgtk/kgtk/exceptions.py:62: UserWarning: Please raise KGTKException instead of <class 'SystemExit'>\r\n",
      "  warnings.warn('Please raise KGTKException instead of {}'.format(type_))\r\n",
      "KGTKException found\r\n",
      "\r\n"
     ]
    }
   ],
   "source": [
    "!$kgtk query -i $OUT/all.isa.tsv -i $OUT/all.P279star.tsv --graph-cache $STORE  -o - \\\n",
    "    --match 'isa: (n1)-[l:isa]->(n2:Q13442814)' \\\n",
    "    --return 'distinct n1, l.label, n2' \\\n",
    "    | kgtk sort2 \\\n",
    "    | $compress > $OUT/all.isa.Q13442814.tsv "
   ]
  },
  {
   "cell_type": "markdown",
   "metadata": {
    "papermill": {
     "duration": 0.048161,
     "end_time": "2020-09-23T23:14:02.755363",
     "exception": false,
     "start_time": "2020-09-23T23:14:02.707202",
     "status": "completed"
    },
    "tags": []
   },
   "source": [
    "Now we need to remove from `$EDGES` any edge where node1 or node2 is in node1 of `$OUT/all.isa.Q13442814.tsv`. The result will be `$OUT/minus.Q13442814.tsv`. We can then run the whole notebook with this new file as $EDGES and compute all the product files in a new output directory"
   ]
  },
  {
   "cell_type": "code",
   "execution_count": 46,
   "metadata": {
    "execution": {
     "iopub.execute_input": "2020-09-23T23:14:02.856325Z",
     "iopub.status.busy": "2020-09-23T23:14:02.855811Z",
     "iopub.status.idle": "2020-09-23T23:14:02.981601Z",
     "shell.execute_reply": "2020-09-23T23:14:02.982280Z"
    },
    "papermill": {
     "duration": 0.177566,
     "end_time": "2020-09-23T23:14:02.982525",
     "exception": false,
     "start_time": "2020-09-23T23:14:02.804959",
     "status": "completed"
    },
    "tags": []
   },
   "outputs": [],
   "source": [
    "!head $OUT/all.isa.Q13442814.tsv | column -t -s $'\\t' "
   ]
  },
  {
   "cell_type": "markdown",
   "metadata": {
    "papermill": {
     "duration": 0.052901,
     "end_time": "2020-09-23T23:14:03.093104",
     "exception": false,
     "start_time": "2020-09-23T23:14:03.040203",
     "status": "completed"
    },
    "tags": []
   },
   "source": [
    "## Summary"
   ]
  },
  {
   "cell_type": "code",
   "execution_count": 47,
   "metadata": {
    "execution": {
     "iopub.execute_input": "2020-09-23T23:14:03.195209Z",
     "iopub.status.busy": "2020-09-23T23:14:03.194692Z",
     "iopub.status.idle": "2020-09-23T23:14:03.326583Z",
     "shell.execute_reply": "2020-09-23T23:14:03.327281Z"
    },
    "papermill": {
     "duration": 0.184785,
     "end_time": "2020-09-23T23:14:03.327510",
     "exception": false,
     "start_time": "2020-09-23T23:14:03.142725",
     "status": "completed"
    },
    "tags": []
   },
   "outputs": [
    {
     "name": "stdout",
     "output_type": "stream",
     "text": [
      "       1 /Users/amandeep/Documents/wikidata-20200504/output/all.P279.tsv\r\n",
      "       0 /Users/amandeep/Documents/wikidata-20200504/output/all.P279star.tsv\r\n",
      "       1 /Users/amandeep/Documents/wikidata-20200504/output/all.P31.tsv\r\n",
      "       1 /Users/amandeep/Documents/wikidata-20200504/output/all.P31_P279.tsv\r\n",
      "       1 /Users/amandeep/Documents/wikidata-20200504/output/all.alias.en.tsv\r\n",
      "       0 /Users/amandeep/Documents/wikidata-20200504/output/all.alias.tsv\r\n",
      "       1 /Users/amandeep/Documents/wikidata-20200504/output/all.commonsMedia.tsv\r\n",
      "       1 /Users/amandeep/Documents/wikidata-20200504/output/all.description.en.tsv\r\n",
      "       0 /Users/amandeep/Documents/wikidata-20200504/output/all.description.tsv\r\n",
      "       1 /Users/amandeep/Documents/wikidata-20200504/output/all.external-id.tsv\r\n",
      "       1 /Users/amandeep/Documents/wikidata-20200504/output/all.geo-shape.tsv\r\n",
      "       1 /Users/amandeep/Documents/wikidata-20200504/output/all.globe-coordinate.tsv\r\n",
      "       1 /Users/amandeep/Documents/wikidata-20200504/output/all.isa.Q13442814.tsv\r\n",
      "       1 /Users/amandeep/Documents/wikidata-20200504/output/all.isa.tsv\r\n",
      "       1 /Users/amandeep/Documents/wikidata-20200504/output/all.label.en.tsv\r\n",
      "       0 /Users/amandeep/Documents/wikidata-20200504/output/all.label.tsv\r\n",
      "       1 /Users/amandeep/Documents/wikidata-20200504/output/all.math.tsv\r\n",
      "       1 /Users/amandeep/Documents/wikidata-20200504/output/all.monolingualtext.tsv\r\n",
      "       1 /Users/amandeep/Documents/wikidata-20200504/output/all.musical-notation.tsv\r\n",
      "       1 /Users/amandeep/Documents/wikidata-20200504/output/all.quantity.tsv\r\n",
      "       1 /Users/amandeep/Documents/wikidata-20200504/output/all.string.tsv\r\n",
      "       1 /Users/amandeep/Documents/wikidata-20200504/output/all.time.tsv\r\n",
      "       1 /Users/amandeep/Documents/wikidata-20200504/output/all.type.tsv\r\n",
      "       1 /Users/amandeep/Documents/wikidata-20200504/output/all.url.tsv\r\n",
      "       1 /Users/amandeep/Documents/wikidata-20200504/output/all.wikibase-form.tsv\r\n",
      "       1 /Users/amandeep/Documents/wikidata-20200504/output/all.wikibase-item.tsv\r\n",
      "       1 /Users/amandeep/Documents/wikidata-20200504/output/all.wikibase-property.tsv\r\n",
      "       1 /Users/amandeep/Documents/wikidata-20200504/output/all.wikipedia_sitelink.tsv\r\n",
      "   10000 /Users/amandeep/Documents/wikidata-20200504/all.tsv\r\n",
      "   10024 total\r\n"
     ]
    }
   ],
   "source": [
    "!wc -l $OUT/*.tsv $EDGES"
   ]
  },
  {
   "cell_type": "markdown",
   "metadata": {
    "papermill": {
     "duration": 0.048944,
     "end_time": "2020-09-23T23:14:03.443251",
     "exception": false,
     "start_time": "2020-09-23T23:14:03.394307",
     "status": "completed"
    },
    "tags": []
   },
   "source": [
    "Number of distinct items in our dataset"
   ]
  },
  {
   "cell_type": "code",
   "execution_count": 48,
   "metadata": {
    "execution": {
     "iopub.execute_input": "2020-09-23T23:14:03.547893Z",
     "iopub.status.busy": "2020-09-23T23:14:03.547363Z",
     "iopub.status.idle": "2020-09-23T23:14:03.665345Z",
     "shell.execute_reply": "2020-09-23T23:14:03.666461Z"
    },
    "papermill": {
     "duration": 0.174928,
     "end_time": "2020-09-23T23:14:03.666714",
     "exception": false,
     "start_time": "2020-09-23T23:14:03.491786",
     "status": "completed"
    },
    "tags": []
   },
   "outputs": [
    {
     "name": "stdout",
     "output_type": "stream",
     "text": [
      "zsh:1: command not found: time kgtk --debug\r\n"
     ]
    }
   ],
   "source": [
    "!$kgtk query -i $EDGES --graph-cache $STORE  -o - \\\n",
    "    --match '(n1)-[]->()' \\\n",
    "    --return 'count(distinct n1) as count'"
   ]
  },
  {
   "cell_type": "markdown",
   "metadata": {
    "papermill": {
     "duration": 0.051632,
     "end_time": "2020-09-23T23:14:03.786225",
     "exception": false,
     "start_time": "2020-09-23T23:14:03.734593",
     "status": "completed"
    },
    "tags": []
   },
   "source": [
    "## Other Stuff"
   ]
  },
  {
   "cell_type": "markdown",
   "metadata": {
    "papermill": {
     "duration": 0.049065,
     "end_time": "2020-09-23T23:14:03.884496",
     "exception": false,
     "start_time": "2020-09-23T23:14:03.835431",
     "status": "completed"
    },
    "tags": []
   },
   "source": [
    "Little bug: if two files are specified as input, only one is used."
   ]
  },
  {
   "cell_type": "code",
   "execution_count": 49,
   "metadata": {
    "execution": {
     "iopub.execute_input": "2020-09-23T23:14:03.986611Z",
     "iopub.status.busy": "2020-09-23T23:14:03.986035Z",
     "iopub.status.idle": "2020-09-23T23:14:04.102075Z",
     "shell.execute_reply": "2020-09-23T23:14:04.102680Z"
    },
    "papermill": {
     "duration": 0.170625,
     "end_time": "2020-09-23T23:14:04.102880",
     "exception": false,
     "start_time": "2020-09-23T23:14:03.932255",
     "status": "completed"
    },
    "tags": []
   },
   "outputs": [
    {
     "name": "stdout",
     "output_type": "stream",
     "text": [
      "zsh:1: command not found: time kgtk --debug\r\n"
     ]
    }
   ],
   "source": [
    "!$kgtk query -i $OUT/all.isa.tsv -i $OUT/all.P279star.tsv --graph-cache $STORE  -o - \\\n",
    "    --match 'P279star: (c)-[]->(:Q44)' \\\n",
    "    --limit 10"
   ]
  },
  {
   "cell_type": "code",
   "execution_count": 50,
   "metadata": {
    "execution": {
     "iopub.execute_input": "2020-09-23T23:14:04.215748Z",
     "iopub.status.busy": "2020-09-23T23:14:04.215235Z",
     "iopub.status.idle": "2020-09-23T23:14:04.335031Z",
     "shell.execute_reply": "2020-09-23T23:14:04.335723Z"
    },
    "papermill": {
     "duration": 0.175583,
     "end_time": "2020-09-23T23:14:04.336015",
     "exception": false,
     "start_time": "2020-09-23T23:14:04.160432",
     "status": "completed"
    },
    "tags": []
   },
   "outputs": [
    {
     "name": "stdout",
     "output_type": "stream",
     "text": [
      "zsh:1: command not found: time kgtk --debug\r\n"
     ]
    }
   ],
   "source": [
    "!$kgtk query -i $OUT/all.isa.tsv -i $OUT/all.P279star.tsv --graph-cache $STORE  -o - \\\n",
    "    --match '(c)-[]->(:Q44)' \\\n",
    "    --limit 10"
   ]
  },
  {
   "cell_type": "code",
   "execution_count": null,
   "metadata": {
    "papermill": {
     "duration": 0.050864,
     "end_time": "2020-09-23T23:14:04.452276",
     "exception": false,
     "start_time": "2020-09-23T23:14:04.401412",
     "status": "completed"
    },
    "tags": []
   },
   "outputs": [],
   "source": []
  },
  {
   "cell_type": "code",
   "execution_count": null,
   "metadata": {
    "papermill": {
     "duration": 0.051282,
     "end_time": "2020-09-23T23:14:04.557344",
     "exception": false,
     "start_time": "2020-09-23T23:14:04.506062",
     "status": "completed"
    },
    "tags": []
   },
   "outputs": [],
   "source": []
  },
  {
   "cell_type": "code",
   "execution_count": 51,
   "metadata": {
    "execution": {
     "iopub.execute_input": "2020-09-23T23:14:04.659388Z",
     "iopub.status.busy": "2020-09-23T23:14:04.658851Z",
     "iopub.status.idle": "2020-09-23T23:14:05.391553Z",
     "shell.execute_reply": "2020-09-23T23:14:05.392173Z"
    },
    "papermill": {
     "duration": 0.786586,
     "end_time": "2020-09-23T23:14:05.392408",
     "exception": false,
     "start_time": "2020-09-23T23:14:04.605822",
     "status": "completed"
    },
    "tags": []
   },
   "outputs": [
    {
     "name": "stdout",
     "output_type": "stream",
     "text": [
      "zsh:1: command not found: time kgtk --debug\r\n"
     ]
    },
    {
     "name": "stdout",
     "output_type": "stream",
     "text": [
      "In input header '': Column 0 has an invalid name in the file header\r\n",
      "/Users/amandeep/Github/kgtk/kgtk/exceptions.py:62: UserWarning: Please raise KGTKException instead of <class 'SystemExit'>\r\n",
      "  warnings.warn('Please raise KGTKException instead of {}'.format(type_))\r\n",
      "KGTKException found\r\n",
      "\r\n"
     ]
    }
   ],
   "source": [
    "!$kgtk query -i $OUT/all.isa.tsv -i $OUT/all.P279star.tsv --graph-cache $STORE  -o - \\\n",
    "    --match 'isa: (n1)-[l:isa]->(n2:Q318)' \\\n",
    "    --return 'distinct n1, l.label, n2' \\\n",
    "    | kgtk sort2 \\\n",
    "    | $compress > $OUT/all.isa.Q318.tsv "
   ]
  },
  {
   "cell_type": "code",
   "execution_count": null,
   "metadata": {
    "papermill": {
     "duration": 0.051276,
     "end_time": "2020-09-23T23:14:05.510270",
     "exception": false,
     "start_time": "2020-09-23T23:14:05.458994",
     "status": "completed"
    },
    "tags": []
   },
   "outputs": [],
   "source": []
  }
 ],
 "metadata": {
  "kernelspec": {
   "display_name": "kgtk_env",
   "language": "python",
   "name": "kgtk_env"
  },
  "language_info": {
   "codemirror_mode": {
    "name": "ipython",
    "version": 3
   },
   "file_extension": ".py",
   "mimetype": "text/x-python",
   "name": "python",
   "nbconvert_exporter": "python",
   "pygments_lexer": "ipython3",
   "version": "3.6.6"
  },
  "papermill": {
   "default_parameters": {},
   "duration": 49.53514,
   "end_time": "2020-09-23T23:14:05.876283",
   "environment_variables": {},
   "exception": null,
   "input_path": "Example7 - Wikidata Outputs.ipynb",
   "output_path": "exmaple7_out.ipynb",
   "parameters": {
    "f_path": "Documents/wikidata-20200504",
    "home": "/Users/amandeep",
    "wiki_file": "all.tsv"
   },
   "start_time": "2020-09-23T23:13:16.341143",
   "version": "2.2.0"
  }
 },
 "nbformat": 4,
 "nbformat_minor": 4
}