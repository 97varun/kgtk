{
 "cells": [
  {
   "cell_type": "markdown",
   "metadata": {},
   "source": [
    "# Example Scenario 1: Obtaining embeddings for strong relations\n",
    "\n",
    "*Carol would like to combine two subsets of Wikidata: one containing all people, and the other containing all edges that point to USA. The combined  file  needs to be sorted by subject, after which she would compute the set of reachable nodes via the properties `instance of (P31)` or `subclass of (P279)`.*"
   ]
  },
  {
   "cell_type": "markdown",
   "metadata": {},
   "source": [
    "## Preparation\n",
    "\n",
    "To run this notebook, Carol would need the Wikidata edges file. We will work with the Wikidata file we downloaded and unpacked in `Example2` for Bob."
   ]
  },
  {
   "cell_type": "markdown",
   "metadata": {},
   "source": [
    "## Implementation in KGTK\n",
    "\n",
    "First, Carol needs to extract the two subsets with the `filter` operation:"
   ]
  },
  {
   "cell_type": "code",
   "execution_count": 15,
   "metadata": {},
   "outputs": [],
   "source": [
    "%%bash\n",
    "kgtk filter -p ' ; P279 ; ' wikidata_edges_20200504.tsv > subclass.tsv"
   ]
  },
  {
   "cell_type": "code",
   "execution_count": 20,
   "metadata": {},
   "outputs": [],
   "source": [
    "%%bash\n",
    "kgtk filter -p ' Q8023,Q483203,Q1426 ;  P106 ; ' wikidata_edges_20200504.tsv > people.tsv\n"
   ]
  },
  {
   "cell_type": "markdown",
   "metadata": {},
   "source": [
    "Then, she can merge the two files into one and perform further operations:"
   ]
  },
  {
   "cell_type": "code",
   "execution_count": 11,
   "metadata": {},
   "outputs": [],
   "source": [
    "%%bash\n",
    "kgtk cat people.tsv subclass.tsv / newsort -c \"node1\" -o cat.tsv"
   ]
  },
  {
   "cell_type": "markdown",
   "metadata": {},
   "source": [
    "## Missing pieces\n",
    "* get the wikidata file\n",
    "* perhaps make it a tsv\n",
    "* concatenate two files - test\n",
    "* sort test\n",
    "* reachable nodes test"
   ]
  },
  {
   "cell_type": "code",
   "execution_count": 12,
   "metadata": {},
   "outputs": [],
   "source": [
    "%%bash\n",
    "kgtk reachable_nodes cat.tsv --subj 1 --pred 2 --obj 3 --props P31,P279 --root \"Q1001698, Q5\" > reachable.tsv"
   ]
  },
  {
   "cell_type": "code",
   "execution_count": null,
   "metadata": {},
   "outputs": [],
   "source": []
  }
 ],
 "metadata": {
  "kernelspec": {
   "display_name": "Python 3",
   "language": "python",
   "name": "python3"
  },
  "language_info": {
   "codemirror_mode": {
    "name": "ipython",
    "version": 3
   },
   "file_extension": ".py",
   "mimetype": "text/x-python",
   "name": "python",
   "nbconvert_exporter": "python",
   "pygments_lexer": "ipython3",
   "version": "3.7.7"
  }
 },
 "nbformat": 4,
 "nbformat_minor": 4
}
