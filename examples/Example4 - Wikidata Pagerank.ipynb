{
 "cells": [
  {
   "cell_type": "markdown",
   "metadata": {},
   "source": [
    "# Calculating Pagerank on Wikidata"
   ]
  },
  {
   "cell_type": "code",
   "execution_count": 1,
   "metadata": {},
   "outputs": [],
   "source": [
    "import numpy as np\n",
    "import pandas as pd\n",
    "import os"
   ]
  },
  {
   "cell_type": "code",
   "execution_count": 2,
   "metadata": {},
   "outputs": [
    {
     "name": "stdout",
     "output_type": "stream",
     "text": [
      "env: MY=/Users/pedroszekely/Downloads\n",
      "env: WD=/Volumes/GoogleDrive/Shared drives/KGTK/datasets/wikidata-20200504\n"
     ]
    }
   ],
   "source": [
    "%env MY=/Users/pedroszekely/Downloads\n",
    "%env WD=/Volumes/GoogleDrive/Shared drives/KGTK/datasets/wikidata-20200504"
   ]
  },
  {
   "cell_type": "markdown",
   "metadata": {},
   "source": [
    "We need to filter the wikidata edge file to remove all edges where `node2` is a literal. \n",
    "We can do this by running `ifexists` to keep eges wehre `node2` also appears in `node1`.\n",
    "This takes 2-3 hours on a laptop."
   ]
  },
  {
   "cell_type": "code",
   "execution_count": null,
   "metadata": {},
   "outputs": [],
   "source": [
    "!time gzcat \"$WD/wikidata_edges_20200504.tsv.gz\" \\\n",
    ">   | pv -p -s 86582473531 \\\n",
    ">   | kgtk  ifexists --filter-on \"$WD/wikidata_edges_20200504.tsv.gz\" --input-keys node2 --filter-keys node1 \\\n",
    ">   | gzip > \"$MY/wikidata-item-edges.tsv.gz\""
   ]
  },
  {
   "cell_type": "markdown",
   "metadata": {},
   "source": [
    "We have 460 million edges that connect items to other items, let's make sure this is what we want before spending a lot of time computing pagerank"
   ]
  },
  {
   "cell_type": "code",
   "execution_count": 10,
   "metadata": {},
   "outputs": [
    {
     "name": "stdout",
     "output_type": "stream",
     "text": [
      " 460763981 3225347876 32869769062\n"
     ]
    }
   ],
   "source": [
    "!gzcat $MY/wikidata-item-edges.tsv.gz | wc"
   ]
  },
  {
   "cell_type": "code",
   "execution_count": 13,
   "metadata": {},
   "outputs": [
    {
     "name": "stdout",
     "output_type": "stream",
     "text": [
      "id\tnode1\tlabel\tnode2\trank\tnode2;magnitude\tnode2;unit\tnode2;date\tnode2;item\tnode2;lower\tnode2;upper\tnode2;latitude\tnode2;longitude\tnode2;precision\tnode2;calendar\tnode2;entity-type\n",
      "Q8-P31-1\tQ8\tP31\tQ331769\tnormal\t\t\t\tQ331769\t\t\t\t\t\t\titem\n",
      "Q8-P31-2\tQ8\tP31\tQ60539479\tnormal\t\t\t\tQ60539479\t\t\t\t\t\t\titem\n",
      "Q8-P31-3\tQ8\tP31\tQ9415\tnormal\t\t\t\tQ9415\t\t\t\t\t\t\titem\n",
      "Q8-P1343-1\tQ8\tP1343\tQ20743760\tnormal\t\t\t\tQ20743760\t\t\t\t\t\t\titem\n",
      "Q8-P1343-2\tQ8\tP1343\tQ1970746\tnormal\t\t\t\tQ1970746\t\t\t\t\t\t\titem\n",
      "Q8-P1343-3\tQ8\tP1343\tQ19180675\tnormal\t\t\t\tQ19180675\t\t\t\t\t\t\titem\n",
      "Q8-P461-1\tQ8\tP461\tQ169251\tnormal\t\t\t\tQ169251\t\t\t\t\t\t\titem\n",
      "Q8-P279-1\tQ8\tP279\tQ16748867\tnormal\t\t\t\tQ16748867\t\t\t\t\t\t\titem\n",
      "Q8-P460-1\tQ8\tP460\tQ935526\tnormal\t\t\t\tQ935526\t\t\t\t\t\t\titem\n",
      "gzcat: error writing to output: Broken pipe\n",
      "gzcat: /Users/pedroszekely/Downloads/wikidata-item-edges.tsv.gz: uncompress failed\n"
     ]
    }
   ],
   "source": [
    "!gzcat $MY/wikidata-item-edges.tsv.gz | head"
   ]
  },
  {
   "cell_type": "markdown",
   "metadata": {},
   "source": [
    "Let's do a sanity check to make sure that we have the edges that we want.\n",
    "We can do this by counting how many edges of each `entity-type`. \n",
    "Good news, we only have items and properties."
   ]
  },
  {
   "cell_type": "code",
   "execution_count": 25,
   "metadata": {},
   "outputs": [
    {
     "name": "stdout",
     "output_type": "stream",
     "text": [
      "node1\tlabel\tnode2\n",
      "item\tcount\t460737401\n",
      "property\tcount\t26579\n",
      "gzcat: error writing to output: Broken pipe\n",
      "gzcat: /Users/pedroszekely/Downloads/wikidata-item-edges.tsv.gz: uncompress failed\n",
      "\n",
      "real\t20m30.673s\n",
      "user\t20m21.082s\n",
      "sys\t0m5.851s\n"
     ]
    }
   ],
   "source": [
    "!time gzcat $MY/wikidata-item-edges.tsv.gz | kgtk unique $MY/wikidata-item-edges.tsv.gz --column 'node2;entity-type'"
   ]
  },
  {
   "cell_type": "markdown",
   "metadata": {},
   "source": [
    "We only needd `node`, `label` and `node2`, so let's remove the other columns"
   ]
  },
  {
   "cell_type": "code",
   "execution_count": 41,
   "metadata": {},
   "outputs": [
    {
     "name": "stdout",
     "output_type": "stream",
     "text": [
      "\n",
      "real\t34m58.124s\n",
      "user\t55m51.261s\n",
      "sys\t2m33.186s\n"
     ]
    }
   ],
   "source": [
    "!time gzcat $MY/wikidata-item-edges.tsv.gz | kgtk remove_columns -c 'id,rank,node2;magnitude,node2;unit,node2;date,node2;item,node2;lower,node2;upper,node2;latitude,node2;longitude,node2;precision,node2;calendar,node2;entity-type' \\\n",
    "  | gzip > $MY/wikidata-item-edges-only.tsv.gz"
   ]
  },
  {
   "cell_type": "code",
   "execution_count": 4,
   "metadata": {},
   "outputs": [
    {
     "name": "stdout",
     "output_type": "stream",
     "text": [
      "gzcat: can't stat: /Users/pedroszekely/Downloads/wikidata-item-edges-only.tsv.gz (/Users/pedroszekely/Downloads/wikidata-item-edges-only.tsv.gz.gz): No such file or directory\n"
     ]
    }
   ],
   "source": [
    "!gzcat $MY/wikidata-item-edges-only.tsv.gz | head"
   ]
  },
  {
   "cell_type": "code",
   "execution_count": 44,
   "metadata": {},
   "outputs": [],
   "source": [
    "!gunzip $MY/wikidata-item-edges-only.tsv.gz"
   ]
  },
  {
   "cell_type": "markdown",
   "metadata": {},
   "source": [
    "The `kgtk graph_statistics` command will compute pagerank. It will run out of memory on a laptop with 16GB of memory."
   ]
  },
  {
   "cell_type": "code",
   "execution_count": 12,
   "metadata": {},
   "outputs": [
    {
     "name": "stdout",
     "output_type": "stream",
     "text": [
      "/bin/sh: line 1: 89795 Killed: 9               kgtk graph_statistics --directed --degrees --pagerank --log $MY/log.txt $MY/wikidata-item-edges-only.tsv > $MY/wikidata-pagerank-degrees.tsv\n",
      "\n",
      "real\t32m57.832s\n",
      "user\t19m47.624s\n",
      "sys\t8m58.352s\n"
     ]
    }
   ],
   "source": [
    "!time kgtk graph_statistics --directed --degrees --pagerank --log $MY/log.txt $MY/wikidata-item-edges-only.tsv > $MY/wikidata-pagerank-degrees.tsv"
   ]
  },
  {
   "cell_type": "code",
   "execution_count": 47,
   "metadata": {},
   "outputs": [],
   "source": []
  },
  {
   "cell_type": "code",
   "execution_count": 11,
   "metadata": {},
   "outputs": [
    {
     "name": "stdout",
     "output_type": "stream",
     "text": [
      "Q1693\tvertex_pagerank\t0.0012109738177124639\tQ1693-vertex_pagerank-2447\n",
      "Q586\tvertex_in_degree\t1\tQ586-vertex_in_degree-2448\n",
      "Q586\tvertex_out_degree\t0\tQ586-vertex_out_degree-2449\n",
      "Q586\tvertex_pagerank\t0.0012109738177124639\tQ586-vertex_pagerank-2450\n",
      "Q64\tvertex_in_degree\t1\tQ64-vertex_in_degree-2451\n",
      "Q64\tvertex_out_degree\t0\tQ64-vertex_out_degree-2452\n",
      "Q64\tvertex_pagerank\t0.0012109738177124639\tQ64-vertex_pagerank-2453\n",
      "Q569998\tvertex_in_degree\t1\tQ569998-vertex_in_degree-2454\n",
      "Q569998\tvertex_out_degree\t0\tQ569998-vertex_out_degree-2455\n",
      "Q569998\tvertex_pagerank\t0.0012109738177124639\tQ569998-vertex_pagerank-2456\n"
     ]
    }
   ],
   "source": [
    "!tail  $MY/wikidata-pagerank-degrees.tsv"
   ]
  },
  {
   "cell_type": "code",
   "execution_count": 8,
   "metadata": {},
   "outputs": [
    {
     "name": "stdout",
     "output_type": "stream",
     "text": [
      "node1\tlabel\tnode2\n",
      "Q8\tP31\tQ331769\n",
      "Q8\tP31\tQ60539479\n",
      "Q8\tP31\tQ9415\n",
      "Q8\tP1343\tQ20743760\n",
      "Q8\tP1343\tQ1970746\n",
      "Q8\tP1343\tQ19180675\n",
      "Q8\tP461\tQ169251\n",
      "Q8\tP279\tQ16748867\n",
      "Q8\tP460\tQ935526\n"
     ]
    }
   ],
   "source": [
    "!head $MY/wikidata-item-edges-only-1000.tsv"
   ]
  },
  {
   "cell_type": "code",
   "execution_count": null,
   "metadata": {},
   "outputs": [],
   "source": []
  }
 ],
 "metadata": {
  "kernelspec": {
   "display_name": "Python 3",
   "language": "python",
   "name": "python3"
  },
  "language_info": {
   "codemirror_mode": {
    "name": "ipython",
    "version": 3
   },
   "file_extension": ".py",
   "mimetype": "text/x-python",
   "name": "python",
   "nbconvert_exporter": "python",
   "pygments_lexer": "ipython3",
   "version": "3.7.7"
  }
 },
 "nbformat": 4,
 "nbformat_minor": 4
}
