{
 "cells": [
  {
   "cell_type": "markdown",
   "metadata": {
    "papermill": {
     "duration": 0.039113,
     "end_time": "2021-01-04T11:46:02.656241",
     "exception": false,
     "start_time": "2021-01-04T11:46:02.617128",
     "status": "completed"
    },
    "tags": []
   },
   "source": [
    "# Generating statistics for subset of Wikidata\n",
    "\n",
    "This notebook illustrates how to generate statistics for a subset of Wikidata. \\\n",
    "We use as an example https://www.wikidata.org/wiki/Q11173 (chemical compound).\n",
    "\n",
    "Example Dataset wikidata subset: https://drive.google.com/drive/u/1/folders/1KjNwV5M2G3JzCrPgqk_TSx8wTE49O2Sx \\\n",
    "Example Dataset statistics: https://drive.google.com/drive/u/0/folders/1_4Mxd0MAo0l9aR3aInv0YMTJrtneh7HW \n",
    "\n",
    "### Example Invocation command\n",
    "\n",
    "    papermill /Users/shashanksaurabh/Desktop/MS/ISI/isi/kgtk_shashank73744/kgtk/examples/Example_10_Wikidata_Subgraph_Statistics.ipynb \\\n",
    "    /Users/shashanksaurabh/Desktop/MS/ISI/isi/kgtk_shashank73744/kgtk/examples/Example_10_output.ipynb \\\n",
    "    -p wikidata_home '/Users/shashanksaurabh/Desktop/Data_isi' \\\n",
    "    -p wikidata_parts_folder '/Users/shashanksaurabh/Desktop/Data_isi/Chemical' \\\n",
    "    -p cache_folder '/Users/shashanksaurabh/Desktop/Data_isi/Temp' \\\n",
    "    -p output_folder '/Users/shashanksaurabh/Desktop/Data_isi/output' \\\n",
    "    -p delete_database 'yes' \\\n",
    "    -p K \\\"10\\\" \\\n",
    "    -p subset_name 'Q11173'\n"
   ]
  },
  {
   "cell_type": "code",
   "execution_count": 1,
   "metadata": {
    "execution": {
     "iopub.execute_input": "2021-01-04T11:46:02.734388Z",
     "iopub.status.busy": "2021-01-04T11:46:02.733624Z",
     "iopub.status.idle": "2021-01-04T11:46:02.738043Z",
     "shell.execute_reply": "2021-01-04T11:46:02.737386Z"
    },
    "papermill": {
     "duration": 0.045348,
     "end_time": "2021-01-04T11:46:02.738328",
     "exception": false,
     "start_time": "2021-01-04T11:46:02.692980",
     "status": "completed"
    },
    "scrolled": false,
    "tags": [
     "parameters"
    ]
   },
   "outputs": [],
   "source": [
    "wikidata_home = \"/Volumes/BACKUP/Data_isi\"\n",
    "\n",
    "# path to folder which contains all files corresponding to the wikidata subset. \n",
    "#(For more information on wikidata subset please check Example 8)\n",
    "wikidata_parts_folder = \"/Volumes/BACKUP/Data_isi/wikidata/parts\"\n",
    "\n",
    "# The notebook creates a cache, which is present in the cache_folder. The cache can be deleted after the execution.\n",
    "cache_folder = \"/Volumes/BACKUP/Data_isi/wikidata/temp\"\n",
    "\n",
    "# path to the folder where the output (here statistics) would be stored\n",
    "output_folder = \"/Volumes/BACKUP/Data_isi/wikidata/output\"\n",
    "\n",
    "# In each of statistics top K results are chosen.\n",
    "#In the following examples this has been implemented using the --limit attribute.\n",
    "K = \"5\"\n",
    "\n",
    "# This represents the Qnode of wikidata subset.\n",
    "subset_name = \"Q11173\""
   ]
  },
  {
   "cell_type": "code",
   "execution_count": 2,
   "metadata": {
    "execution": {
     "iopub.execute_input": "2021-01-04T11:46:02.812017Z",
     "iopub.status.busy": "2021-01-04T11:46:02.810801Z",
     "iopub.status.idle": "2021-01-04T11:46:02.813865Z",
     "shell.execute_reply": "2021-01-04T11:46:02.814355Z"
    },
    "papermill": {
     "duration": 0.040708,
     "end_time": "2021-01-04T11:46:02.814517",
     "exception": false,
     "start_time": "2021-01-04T11:46:02.773809",
     "status": "completed"
    },
    "tags": [
     "injected-parameters"
    ]
   },
   "outputs": [],
   "source": [
    "# Parameters\n",
    "wikidata_home = \"/Volumes/BACKUP/Data_isi/Alcoholic_Beverages/\"\n",
    "wikidata_parts_folder = \"/Volumes/BACKUP/Data_isi/Alcoholic_Beverages/parts\"\n",
    "cache_folder = \"/Volumes/BACKUP/Data_isi/Alcoholic_Beverages/temp\"\n",
    "output_folder = \"/Volumes/BACKUP/Data_isi/Alcoholic_Beverages/stats\"\n",
    "delete_database = \"yes\"\n",
    "K = \"\\\"10\\\"\"\n",
    "subset_name = \"Q154\"\n"
   ]
  },
  {
   "cell_type": "code",
   "execution_count": 3,
   "metadata": {
    "execution": {
     "iopub.execute_input": "2021-01-04T11:46:02.895595Z",
     "iopub.status.busy": "2021-01-04T11:46:02.894598Z",
     "iopub.status.idle": "2021-01-04T11:46:05.652102Z",
     "shell.execute_reply": "2021-01-04T11:46:05.653148Z"
    },
    "papermill": {
     "duration": 2.804381,
     "end_time": "2021-01-04T11:46:05.653498",
     "exception": false,
     "start_time": "2021-01-04T11:46:02.849117",
     "status": "completed"
    },
    "scrolled": false,
    "tags": []
   },
   "outputs": [],
   "source": [
    "import io\n",
    "import os\n",
    "import subprocess\n",
    "import sys\n",
    "import math\n",
    "\n",
    "import numpy as np\n",
    "import pandas as pd\n",
    "\n",
    "from IPython.display import display, HTML, Markdown, Image\n",
    "\n",
    "from kgtk.kypher.sqlstore import *\n",
    "\n",
    "import matplotlib.pyplot as plt\n",
    "\n",
    "import shutil\n",
    "\n",
    "from qwikidata.sparql  import return_sparql_query_results\n",
    "\n",
    "# import altair as alt\n",
    "# alt.renderers.enable('altair_viewer')\n",
    "\n",
    "# from IPython.display import display, HTML, Image\n",
    "# from pandas_profiling import ProfileReport"
   ]
  },
  {
   "cell_type": "code",
   "execution_count": 4,
   "metadata": {
    "execution": {
     "iopub.execute_input": "2021-01-04T11:46:05.729292Z",
     "iopub.status.busy": "2021-01-04T11:46:05.728063Z",
     "iopub.status.idle": "2021-01-04T11:46:05.731182Z",
     "shell.execute_reply": "2021-01-04T11:46:05.731689Z"
    },
    "papermill": {
     "duration": 0.042697,
     "end_time": "2021-01-04T11:46:05.731856",
     "exception": false,
     "start_time": "2021-01-04T11:46:05.689159",
     "status": "completed"
    },
    "scrolled": false,
    "tags": []
   },
   "outputs": [],
   "source": [
    "try:\n",
    "    int_k = int(K)\n",
    "except Exception as e:\n",
    "    int_k = int(K[1:-1])"
   ]
  },
  {
   "cell_type": "markdown",
   "metadata": {
    "papermill": {
     "duration": 0.03173,
     "end_time": "2021-01-04T11:46:05.795495",
     "exception": false,
     "start_time": "2021-01-04T11:46:05.763765",
     "status": "completed"
    },
    "tags": []
   },
   "source": [
    "### Set up environment variables and folders that we need"
   ]
  },
  {
   "cell_type": "code",
   "execution_count": 5,
   "metadata": {
    "execution": {
     "iopub.execute_input": "2021-01-04T11:46:05.871886Z",
     "iopub.status.busy": "2021-01-04T11:46:05.866417Z",
     "iopub.status.idle": "2021-01-04T11:46:05.888605Z",
     "shell.execute_reply": "2021-01-04T11:46:05.889065Z"
    },
    "papermill": {
     "duration": 0.063204,
     "end_time": "2021-01-04T11:46:05.889217",
     "exception": false,
     "start_time": "2021-01-04T11:46:05.826013",
     "status": "completed"
    },
    "scrolled": false,
    "tags": []
   },
   "outputs": [],
   "source": [
    "# path to folder which contains all files corresponding to the wikidata subset. \n",
    "#(For more information on wikidata subset please check Example 8)\n",
    "os.environ['WIKIDATA_PARTS'] = wikidata_parts_folder\n",
    "\n",
    "# path to the folder where the output (here statistics) would be stored\n",
    "os.environ['OUTPUT_FOLDER'] = output_folder\n",
    "\n",
    "# The statistics are stored in two different folders, overview folder and class folder.\n",
    "# If the folders are not present then in the following command they are created\n",
    "if not os.path.isdir(os.path.join(output_folder,\"overview\")):\n",
    "    os.mkdir(os.path.join(output_folder,\"overview\"))    \n",
    "if not os.path.isdir(os.path.join(output_folder,\"class_overview\")):\n",
    "    os.mkdir(os.path.join(output_folder,\"class_overview\"))\n",
    "if not os.path.isdir(os.path.join(output_folder,\"property_overview\")):\n",
    "    os.mkdir(os.path.join(output_folder,\"property_overview\"))\n",
    "if not os.path.isdir(os.path.join(output_folder,\"raw_files\")):\n",
    "    os.mkdir(os.path.join(output_folder,\"raw_files\"))\n",
    "if not os.path.isdir(os.path.join(os.path.join(output_folder,\"raw_files\"),\"overview\")):\n",
    "    os.mkdir(os.path.join(os.path.join(output_folder,\"raw_files\"),\"overview\"))\n",
    "if not os.path.isdir(os.path.join(os.path.join(output_folder,\"raw_files\"),\"class_overview\")):\n",
    "    os.mkdir(os.path.join(os.path.join(output_folder,\"raw_files\"),\"class_overview\"))\n",
    "if not os.path.isdir(os.path.join(os.path.join(output_folder,\"raw_files\"),\"property_overview\")):\n",
    "    os.mkdir(os.path.join(os.path.join(output_folder,\"raw_files\"),\"property_overview\"))\n",
    "\n",
    "# Environmnet variable for the two sub folders where the statistics would be stored  \n",
    "os.environ['OVERVIEW_FOLDER'] = os.path.join(output_folder,\"overview\")\n",
    "os.environ['CLASS_FOLDER'] = os.path.join(output_folder,\"class_overview\")\n",
    "os.environ['PROPERTY_OVERVIEW'] = os.path.join(output_folder,\"property_overview\")\n",
    "os.environ['RAW_FILES_OVERVIEW'] = os.path.join(os.path.join(output_folder,\"raw_files\"),\"overview\")\n",
    "os.environ['RAW_FILES_PROPERTY'] = os.path.join(os.path.join(output_folder,\"raw_files\"),\"property_overview\")\n",
    "os.environ['RAW_FILES_CLASS'] = os.path.join(os.path.join(output_folder,\"raw_files\"),\"class_overview\")\n",
    "\n",
    "# kgtk command to run\n",
    "os.environ['kgtk'] = \"kgtk\"\n",
    "os.environ['kgtk'] = \"time kgtk --debug\"\n",
    "\n",
    "# absolute path of the db\n",
    "os.environ['STORE'] = \"{}/wikidata.sqlite3.db\".format(cache_folder)\n",
    "os.environ['K'] = K\n",
    "os.environ['label'] = \"labels.en.tsv.gz\"\n",
    "\n",
    "# file name corresponding to different part of the Wikidata subgraph.\n",
    "os.environ['subset_name']  = subset_name\n",
    "os.environ['external_id']  = \"claims.external-id.tsv.gz\"\n",
    "os.environ['time']  =  \"claims.time.tsv.gz\"\n",
    "os.environ['wikibase_item']  = \"claims.wikibase-item.tsv.gz\"\n",
    "os.environ['quantity']  =  \"claims.quantity.tsv.gz\"\n",
    "os.environ['statistics']  =  \"claims.statistics.tsv.gz\"\n",
    "os.environ['wikibase_form']  = \"claims.wikibase-form.tsv.gz\"\n",
    "os.environ['monolingualtext']  =  \"claims.monolingualtext.tsv.gz\"\n",
    "os.environ['math']  =  \"claims.math.tsv.gz\"\n",
    "os.environ['commonsMedia']  =  \"claims.commonsMedia.tsv.gz\"\n",
    "os.environ['globe_coordinate']  =  \"claims.globe-coordinate.tsv.gz\"\n",
    "os.environ['musical_notation']  =  \"claims.musical-notation.tsv.gz\"\n",
    "os.environ['geo_shape']  = \"claims.geo-shape.tsv.gz\"\n",
    "os.environ['url']  = \"claims.url.tsv.gz\"\n",
    "os.environ['string']  = \"claims.string.tsv.gz\"\n",
    "os.environ['alias']  = \"aliases.en.tsv.gz\"\n",
    "os.environ['description']  = \"descriptions.en.tsv.gz\"\n",
    "\n",
    "# file name corresponding to the qualifiers\n",
    "os.environ['external_id_qualifiers']  = \"qualifiers.external-id.tsv.gz\"\n",
    "os.environ['time_qualifiers']  =  \"qualifiers.time.tsv.gz\"\n",
    "os.environ['wikibase_item_qualifiers']  = \"qualifiers.wikibase-item.tsv.gz\"\n",
    "os.environ['quantity_qualifiers']  =  \"qualifiers.quantity.tsv.gz\"\n",
    "os.environ['statistics_qualifiers']  =  \"qualifiers.statistics.tsv.gz\"\n",
    "os.environ['wikibase_form_qualifiers']  = \"qualifiers.wikibase-form.tsv.gz\"\n",
    "os.environ['monolingualtext_qualifiers']  =  \"qualifiers.monolingualtext.tsv.gz\"\n",
    "os.environ['math_qualifiers']  =  \"qualifiers.math.tsv.gz\"\n",
    "os.environ['commonsMedia_qualifiers']  =  \"qualifiers.commonsMedia.tsv.gz\"\n",
    "os.environ['globe_coordinate_qualifiers']  =  \"qualifiers.globe-coordinate.tsv.gz\"\n",
    "os.environ['musical_notation_qualifiers']  =  \"qualifiers.musical-notation.tsv.gz\"\n",
    "os.environ['geo_shape_qualifiers']  = \"qualifiers.geo-shape.tsv.gz\"\n",
    "os.environ['url_qualifiers']  = \"qualifiers.url.tsv.gz\"\n",
    "os.environ['string_qualifiers']  = \"qualifiers.string.tsv.gz\"\n",
    "\n",
    "\n",
    "# Output file corresponding to the overview folder (contains overview part of the statistics)\n",
    "os.environ['class_summary']  = \"Overview.class.tsv\"\n",
    "os.environ['top_pagrank']  = \"top_pagrank.tsv\"\n",
    "os.environ['stats']  = \"Overview.nodes.tsv\"\n",
    "os.environ['all_degree']  = \"allDegree.tsv\"\n",
    "os.environ['degree']  = \"Overview.degree.tsv\"\n",
    "os.environ['temp']  = \"temp_tsv.tsv\"\n",
    "os.environ['magnitudes_destribution'] =  \"magnitude_destribution_for_quantity.tsv\"\n",
    "os.environ['year_destribution_per_deacade'] =  \"year_destribution_for_time_per_decade.tsv\"\n",
    "os.environ['year_destribution_per_50_years'] =  \"year_destribution_for_time_per_50_years.tsv\"\n",
    "os.environ['globe_coordinate_destribution'] =   \"coordinate_destribution_for_globe_coordinate.tsv\"\n",
    "os.environ['geo_shape_random_samples'] = \"Property_overview.geo_shape.random.tsv\"\n",
    "\n",
    "# Output files corresponding to the class summary folder (contains class summary part of the statistics)\n",
    "os.environ['property_summary_external_id']  = \"Overview.property.externalID.tsv\"\n",
    "os.environ['property_summary_time']  = \"Overview.property.time.tsv\"\n",
    "os.environ['property_summary_wikibase_item']  = \"Overview.property.wikibaseItem.tsv\"\n",
    "os.environ['property_summary_quantity']  = \"Overview.property.quantity.tsv\"\n",
    "os.environ['property_summary_wikibase_form']  = \"Overview.property.wikibaseForm.tsv\"\n",
    "os.environ['property_summary_monolingualtext']  = \"Overview.property.monolingualText.tsv\"\n",
    "os.environ['property_summary_math']  = \"Overview.property.math.tsv\"\n",
    "os.environ['property_summary_commonsMedia']  = \"Overview.property.commonsMedia.tsv\"\n",
    "os.environ['property_summary_globe_coordinate']  = \"Overview.property.globeCoordinate.tsv\"\n",
    "os.environ['property_summary_musical_notation']  = \"Overview.property.musicalNotation.tsv\"\n",
    "os.environ['property_summary_geo_shape']  = \"Overview.property.geoShape.tsv\"\n",
    "os.environ['property_summary_url']  = \"Overview.property.url.tsv\"\n",
    "os.environ['property_summary_string']  = \"Overview.property.strings.tsv\""
   ]
  },
  {
   "cell_type": "code",
   "execution_count": 6,
   "metadata": {
    "execution": {
     "iopub.execute_input": "2021-01-04T11:46:05.957195Z",
     "iopub.status.busy": "2021-01-04T11:46:05.956236Z",
     "iopub.status.idle": "2021-01-04T11:46:05.959807Z",
     "shell.execute_reply": "2021-01-04T11:46:05.960340Z"
    },
    "papermill": {
     "duration": 0.040683,
     "end_time": "2021-01-04T11:46:05.960513",
     "exception": false,
     "start_time": "2021-01-04T11:46:05.919830",
     "status": "completed"
    },
    "scrolled": false,
    "tags": []
   },
   "outputs": [],
   "source": [
    "#Deleting any files in the output folder\n",
    "# !rm -f $OVERVIEW_FOLDER/*\n",
    "# !rm -f $CLASS_FOLDER/*\n",
    "# !rm -f $PROPERTY_OVERVIEW/*"
   ]
  },
  {
   "cell_type": "code",
   "execution_count": 7,
   "metadata": {
    "execution": {
     "iopub.execute_input": "2021-01-04T11:46:06.032536Z",
     "iopub.status.busy": "2021-01-04T11:46:06.031410Z",
     "iopub.status.idle": "2021-01-04T11:46:06.034539Z",
     "shell.execute_reply": "2021-01-04T11:46:06.035036Z"
    },
    "papermill": {
     "duration": 0.041662,
     "end_time": "2021-01-04T11:46:06.035317",
     "exception": false,
     "start_time": "2021-01-04T11:46:05.993655",
     "status": "completed"
    },
    "scrolled": false,
    "tags": []
   },
   "outputs": [],
   "source": [
    "#Variable storing all the datatypes of a properties\n",
    "types = [ \"time\",\n",
    "         \"wikibase_item\",\n",
    "         \"math\",\n",
    "         \"wikibase_form\",\n",
    "         \"quantity\",\n",
    "         \"string\",\n",
    "         \"external_id\",\n",
    "         \"commonsMedia\",\n",
    "         \"globe_coordinate\",\n",
    "         \"monolingualtext\",\n",
    "         \"musical_notation\",\n",
    "         \"geo_shape\",\n",
    "         \"url\"\n",
    "        ]"
   ]
  },
  {
   "cell_type": "code",
   "execution_count": 8,
   "metadata": {
    "execution": {
     "iopub.execute_input": "2021-01-04T11:46:06.106133Z",
     "iopub.status.busy": "2021-01-04T11:46:06.105101Z",
     "iopub.status.idle": "2021-01-04T11:46:06.108719Z",
     "shell.execute_reply": "2021-01-04T11:46:06.109282Z"
    },
    "papermill": {
     "duration": 0.041686,
     "end_time": "2021-01-04T11:46:06.109483",
     "exception": false,
     "start_time": "2021-01-04T11:46:06.067797",
     "status": "completed"
    },
    "scrolled": false,
    "tags": []
   },
   "outputs": [],
   "source": [
    "types_with_fileName = [\n",
    "        (\"time\",\"Time\",\"property_summary_time\"),\n",
    "        (\"wikibase_item\",\"Wikibase_item\",\"property_summary_wikibase_item\"),\n",
    "        (\"math\",\"Math\",\"property_summary_math\"),\n",
    "        (\"wikibase_form\",\"Wikibase-form\",\"property_summary_wikibase_form\"),\n",
    "        (\"quantity\",\"Quantity\",\"property_summary_quantity\"),\n",
    "        (\"string\",\"String\",\"property_summary_string\"),\n",
    "        (\"external_id\",\"External-id\",\"property_summary_external_id\"),\n",
    "        (\"commonsMedia\",\"CommonsMedia\",\"property_summary_commonsMedia\"),\n",
    "        (\"globe_coordinate\",\"Globe-coordinate\",\"property_summary_globe_coordinate\"),\n",
    "        (\"monolingualtext\",\"Monolingualtext\",\"property_summary_monolingualtext\"),\n",
    "        (\"musical_notation\",\"Musical-notation\",\"property_summary_musical_notation\"),\n",
    "        (\"geo_shape\",\"Geo-shape\",\"property_summary_geo_shape\"),\n",
    "        (\"url\",\"Url\",\"property_summary_url\"),\n",
    "    ]"
   ]
  },
  {
   "cell_type": "code",
   "execution_count": 9,
   "metadata": {
    "execution": {
     "iopub.execute_input": "2021-01-04T11:46:06.182367Z",
     "iopub.status.busy": "2021-01-04T11:46:06.181487Z",
     "iopub.status.idle": "2021-01-04T11:46:06.185733Z",
     "shell.execute_reply": "2021-01-04T11:46:06.186245Z"
    },
    "papermill": {
     "duration": 0.046023,
     "end_time": "2021-01-04T11:46:06.186414",
     "exception": false,
     "start_time": "2021-01-04T11:46:06.140391",
     "status": "completed"
    },
    "scrolled": false,
    "tags": []
   },
   "outputs": [],
   "source": [
    "FNULL = open(os.devnull, 'w')\n",
    "def run_command(cmd, substitution_dictionary = {}):\n",
    "    \"\"\"Run a templetized command.\"\"\"\n",
    "    debug = False\n",
    "    for k, v in substitution_dictionary.items():\n",
    "        cmd = cmd.replace(k, v)\n",
    "    \n",
    "    if debug:\n",
    "        print(cmd)\n",
    "        output = subprocess.run([cmd], shell=True, universal_newlines=True, stdout=subprocess.PIPE, stderr=subprocess.PIPE)\n",
    "        print(output.stdout)\n",
    "        print(output.stderr)\n",
    "    else:\n",
    "        output = subprocess.run([cmd], shell=True, universal_newlines=True, stdout=FNULL, stderr=subprocess.PIPE)\n",
    "    #print(output.returncode)"
   ]
  },
  {
   "cell_type": "code",
   "execution_count": 10,
   "metadata": {
    "execution": {
     "iopub.execute_input": "2021-01-04T11:46:06.272700Z",
     "iopub.status.busy": "2021-01-04T11:46:06.271729Z",
     "iopub.status.idle": "2021-01-04T11:46:06.276779Z",
     "shell.execute_reply": "2021-01-04T11:46:06.276276Z"
    },
    "papermill": {
     "duration": 0.050915,
     "end_time": "2021-01-04T11:46:06.276907",
     "exception": false,
     "start_time": "2021-01-04T11:46:06.225992",
     "status": "completed"
    },
    "scrolled": false,
    "tags": []
   },
   "outputs": [],
   "source": [
    "FNULL = open(os.devnull, 'w')\n",
    "def run_command_return_df(cmd,folder,output_file, substitution_dictionary = {},save=True,restart=True):\n",
    "    \"\"\"Run a templetized command.\"\"\"\n",
    "    debug = True\n",
    "    file_path = os.path.join(os.getenv(folder),output_file)\n",
    "    # Restart here means if the command has already been run then just read the dataframe from file and return it.\n",
    "    if restart and os.path.exists(file_path):\n",
    "        try:\n",
    "            df = pd.read_csv(file_path,delimiter='\\t')\n",
    "            return df\n",
    "        except:\n",
    "            os.remove(file_path)        \n",
    "    \n",
    "    #Replace the string with the substitution dictionary\n",
    "    for k,v in substitution_dictionary.items():\n",
    "        cmd = cmd.replace(k, v)\n",
    "\n",
    "    #Based on debug print the statement or not\n",
    "    if debug:\n",
    "        print(cmd)\n",
    "        output = subprocess.run([cmd], shell=True, universal_newlines=True, stdout=subprocess.PIPE, stderr=subprocess.PIPE)\n",
    "        print(output.stdout)\n",
    "        print(output.stderr)\n",
    "    else:\n",
    "        output = subprocess.run([cmd], shell=True, universal_newlines=True, stdout=FNULL, stderr=subprocess.PIPE)\n",
    "    \n",
    "    \n",
    "    try:\n",
    "        df = pd.read_csv(file_path,delimiter='\\t')\n",
    "    except Exception as e:\n",
    "        df = pd.DataFrame()\n",
    "        \n",
    "    #If save is set to False then delete the output file.\n",
    "    if not save:\n",
    "        if os.path.exists(file_path):\n",
    "            os.remove(file_path)\n",
    "    return df\n",
    "#   print(output.returncode)"
   ]
  },
  {
   "cell_type": "code",
   "execution_count": 11,
   "metadata": {
    "execution": {
     "iopub.execute_input": "2021-01-04T11:46:06.346358Z",
     "iopub.status.busy": "2021-01-04T11:46:06.345389Z",
     "iopub.status.idle": "2021-01-04T11:46:06.348705Z",
     "shell.execute_reply": "2021-01-04T11:46:06.349286Z"
    },
    "papermill": {
     "duration": 0.041166,
     "end_time": "2021-01-04T11:46:06.349466",
     "exception": false,
     "start_time": "2021-01-04T11:46:06.308300",
     "status": "completed"
    },
    "scrolled": false,
    "tags": []
   },
   "outputs": [],
   "source": [
    "# This function is used to print the string in different font, colors and font-size.\n",
    "def printmd(string,color='black',size='25',fontWeight=\"bold\"):\n",
    "    colorstr = \"<span style='font-weight: {};margin-top=80px;margin-bottom=80px; font-size:{}; color:{}'>{}</span>\".format(fontWeight,str(size)+'px',color, string)\n",
    "    display(HTML(colorstr))"
   ]
  },
  {
   "cell_type": "code",
   "execution_count": 12,
   "metadata": {
    "execution": {
     "iopub.execute_input": "2021-01-04T11:46:06.425223Z",
     "iopub.status.busy": "2021-01-04T11:46:06.423904Z",
     "iopub.status.idle": "2021-01-04T11:46:06.427237Z",
     "shell.execute_reply": "2021-01-04T11:46:06.427779Z"
    },
    "papermill": {
     "duration": 0.04263,
     "end_time": "2021-01-04T11:46:06.427943",
     "exception": false,
     "start_time": "2021-01-04T11:46:06.385313",
     "status": "completed"
    },
    "scrolled": true,
    "tags": []
   },
   "outputs": [],
   "source": [
    "# Its  a helper function which given a qnode or pnode returns the link corresponding to it.\n",
    "def generate_link(string):\n",
    "    if string[0] == 'P':\n",
    "        return \"https://www.wikidata.org/wiki/Property:\"+string \n",
    "    elif string[0] == 'Q':\n",
    "        return \"https://www.wikidata.org/wiki/\"+string\n",
    "    return string"
   ]
  },
  {
   "cell_type": "code",
   "execution_count": 13,
   "metadata": {
    "execution": {
     "iopub.execute_input": "2021-01-04T11:46:06.499580Z",
     "iopub.status.busy": "2021-01-04T11:46:06.498472Z",
     "iopub.status.idle": "2021-01-04T11:46:06.502597Z",
     "shell.execute_reply": "2021-01-04T11:46:06.501940Z"
    },
    "papermill": {
     "duration": 0.043529,
     "end_time": "2021-01-04T11:46:06.502739",
     "exception": false,
     "start_time": "2021-01-04T11:46:06.459210",
     "status": "completed"
    },
    "scrolled": false,
    "tags": []
   },
   "outputs": [],
   "source": [
    "# It returns the label of the qnode\n",
    "def find_label(qnode):\n",
    "    try:\n",
    "        if(str(qnode)==\"nan\"):\n",
    "            return \"Number\"\n",
    "        query_string = \"\"\"\n",
    "                PREFIX rdfs: <http://www.w3.org/2000/01/rdf-schema#> \\\n",
    "                PREFIX wd: <http://www.wikidata.org/entity/> \\\n",
    "                SELECT  * \\\n",
    "                WHERE { \\\n",
    "                    wd:__qnode rdfs:label ?label . \\\n",
    "                    FILTER (langMatches( lang(?label), \"EN\" ) ) \\\n",
    "                  } \\\n",
    "                LIMIT 1\n",
    "            \"\"\"\n",
    "        query_string = query_string.replace(\"__qnode\",str(qnode))\n",
    "        res = return_sparql_query_results(query_string)\n",
    "#         print(query_string)\n",
    "#         print(res)\n",
    "        if 'results' in res and \"bindings\" in res['results'] and len(res['results']['bindings'])>=1 and \"label\" in res['results']['bindings'][0] and \"value\" in res['results']['bindings'][0][\"label\"] :\n",
    "            return res['results']['bindings'][0][\"label\"][\"value\"].capitalize()\n",
    "        return qnode\n",
    "    except Exception as e:\n",
    "        return qnode"
   ]
  },
  {
   "cell_type": "code",
   "execution_count": 14,
   "metadata": {
    "execution": {
     "iopub.execute_input": "2021-01-04T11:46:06.574972Z",
     "iopub.status.busy": "2021-01-04T11:46:06.574123Z",
     "iopub.status.idle": "2021-01-04T11:46:06.577873Z",
     "shell.execute_reply": "2021-01-04T11:46:06.577266Z"
    },
    "papermill": {
     "duration": 0.042586,
     "end_time": "2021-01-04T11:46:06.578187",
     "exception": false,
     "start_time": "2021-01-04T11:46:06.535601",
     "status": "completed"
    },
    "tags": []
   },
   "outputs": [],
   "source": [
    "def Capitalize(String_item):\n",
    "    try:\n",
    "        if type(String_item)==\"str\":\n",
    "            return String_item.capitalize()\n",
    "        else:\n",
    "            return String_item.to_string().capitalize()\n",
    "    except Exception as e:\n",
    "        return String_item"
   ]
  },
  {
   "cell_type": "code",
   "execution_count": 15,
   "metadata": {
    "execution": {
     "iopub.execute_input": "2021-01-04T11:46:06.654565Z",
     "iopub.status.busy": "2021-01-04T11:46:06.647831Z",
     "iopub.status.idle": "2021-01-04T11:46:06.672901Z",
     "shell.execute_reply": "2021-01-04T11:46:06.673358Z"
    },
    "papermill": {
     "duration": 0.062164,
     "end_time": "2021-01-04T11:46:06.673514",
     "exception": false,
     "start_time": "2021-01-04T11:46:06.611350",
     "status": "completed"
    },
    "tags": []
   },
   "outputs": [],
   "source": [
    "#This function display the top units for the property of datatype:quantity\n",
    "#@argument\n",
    "#pnode: The pnode of the property for which the top units and destribution is to be found\n",
    "#prop_label: The label of the property for which the units and destribution is to be found\n",
    "#_restart: Here restart means if you allow to use any existing, keep it true if you re running it or you have imported the files.\n",
    "#_save: If it is set then it will save the file otherwise will delete any generated file.\n",
    "#folder: The folder in which the output files to be stored\n",
    "#raw_folder: This work in conjunction with _restart, in this folder all the raw files are stored\n",
    "def quantity_distribution(pnode,prop_label,_restart=True,_save=True,folder=\"PROPERTY_OVERVIEW\",raw_folder=\"RAW_FILES_PROPERTY\"):\n",
    "     #This Kypher querry can be used to find the destribution of all the wikidata units for a property\n",
    "    cmd1 = \"$kgtk query -i $WIKIDATA_PARTS/$quantity --graph-cache $STORE \\\n",
    "            -o $__folder/__output_file \\\n",
    "            --match  '(n1)-[r{label:llab}]->(v)' \\\n",
    "            --return 'distinct kgtk_quantity_wd_units(v) as Unit , count(n1) as Number_of_Statements ' \\\n",
    "            --where 'kgtk_quantity(v) AND (llab in [\\\"__prop\\\"])' \\\n",
    "            --order-by 'count(n1) desc' \"\n",
    "\n",
    "    #This Kypher querry can be used to find the destribution of all the wikidata units(SI) for a property\n",
    "    cmd2 = \"$kgtk query -i $WIKIDATA_PARTS/$quantity --graph-cache $STORE \\\n",
    "            -o $__folder/__output_file \\\n",
    "            --match  '(n1)-[r{label:llab}]->(v)' \\\n",
    "            --return 'distinct kgtk_quantity_si_units(v) as Unit , count(n1) as Number_of_Statements ' \\\n",
    "            --where 'kgtk_quantity(v) AND (llab in [\\\"__prop\\\"])' \\\n",
    "            --order-by 'count(n1) desc' \"\n",
    "\n",
    "    #This Kypher querry can be used to find all the statements corresponding to a unit(Qnode) and a property \n",
    "    cmd3 = \"$kgtk query -i $WIKIDATA_PARTS/$quantity --graph-cache $STORE \\\n",
    "            -o $__folder/__output_file \\\n",
    "            --match  '(n1)-[r{label:llab}]->(v)' \\\n",
    "            --return 'kgtk_quantity_number(v) as Magnitude ' \\\n",
    "            --where 'kgtk_quantity(v) AND (kgtk_quantity_wd_units(v) in [\\\"__unit\\\"]) AND (llab in [\\\"__prop\\\"])' \"\n",
    "\n",
    "    #This Kypher querry can be used to find all the statements corresponding to a unit(SI unit) and a property \n",
    "    cmd4 = \"$kgtk query -i $WIKIDATA_PARTS/$quantity --graph-cache $STORE \\\n",
    "            -o $__folder/__output_file \\\n",
    "            --match  '(n1)-[r{label:llab}]->(v)' \\\n",
    "            --return 'kgtk_quantity_number(v) as Magnitude ' \\\n",
    "            --where 'kgtk_quantity(v) AND (kgtk_quantity_si_units(v) in [\\\"__unit\\\"]) AND (llab in [\\\"__prop\\\"])' \"\n",
    "    \n",
    "    #This Kypher querry can be used to find the destribution number when there is no unit but number for a datatype\n",
    "    cmd5 = \"$kgtk query -i $WIKIDATA_PARTS/$quantity --graph-cache $STORE \\\n",
    "            -o $__folder/__output_file \\\n",
    "            --match  '(n1)-[r{label:llab}]->(v)' \\\n",
    "            --return 'kgtk_quantity_number(v) as Magnitude ' \\\n",
    "            --where 'kgtk_number(v) AND (llab in [\\\"__prop\\\"])' \"\n",
    "\n",
    "\n",
    "    #Dynamically setting the name of the output file based on the name of property\n",
    "    output_file_units_destribution = \"Property_overview.quantity.\"+prop_label+\".units_distribution.raw.tsv\"\n",
    "\n",
    "    output_file_units_destribution_saving = \"Property_overview.quantity.\"+prop_label+\".units_distribution.tsv\"\n",
    "\n",
    "    printmd(\"Below is the distribution of units for \" + prop_label + \" in the subgraph\",'blue')\n",
    "\n",
    "    #Running command 1 and loading the dataframe\n",
    "    pd_unit_destribution = run_command_return_df(cmd1,raw_folder,output_file_units_destribution,{\"__output_file\":output_file_units_destribution,\"__prop\":pnode,\"__folder\":raw_folder},save=_save,restart=_restart);\n",
    "\n",
    "    #If there are no wikidata units then trying for SI units\n",
    "    if(len(pd_unit_destribution)==0):\n",
    "            output_file_units_destribution = \"Property_overview.quantity.\"+prop_label+\".units_distribution.si.raw.tsv\"\n",
    "            pd_unit_destribution = run_command_return_df(cmd2,raw_folder,output_file_units_destribution,{\"__output_file\":output_file_units_destribution,\"__prop\":pnode,\"__folder\":raw_folder},save=_save,restart=_restart);\n",
    "            if(len(pd_unit_destribution)==0):\n",
    "                printmd('There are no units for this property');\n",
    "                output_file_magnitude_destribution = \"Property_overview.quantity.\"+prop_label+ \".number.value_distibution.raw.tsv\"\n",
    "                output_file_magnitude_destribution_saving = \"Property_overview.quantity.\"+prop_label+ \".number.value_distibution.tsv\"\n",
    "                \n",
    "                # Running Command 5 to find the destribution of numbers and loading the output in a dataframe apart from saving it.\n",
    "                magnitude_distribution = run_command_return_df(cmd5,raw_folder,output_file_magnitude_destribution,{\"__output_file\":output_file_magnitude_destribution,\"__prop\":pnode,\"__folder\":raw_folder},save=_save,restart=_restart);\n",
    "                if (len(magnitude_distribution)>0):\n",
    "        #             print(magnitude_distribution)\n",
    "                    # Binnig the magnitudes for displaying the histogram\n",
    "                    #This is done to remove the log tails\n",
    "                    start_histogram = magnitude_distribution.quantile(0.01)['Magnitude']\n",
    "                    end_histogram = magnitude_distribution.quantile(0.99)['Magnitude']\n",
    "                    step_size = (end_histogram-start_histogram)/1000\n",
    "\n",
    "                    #This is done to ensure the tail are included if they are small\n",
    "                    start_histogram = start_histogram -20*step_size\n",
    "                    end_histogram = end_histogram + 20*step_size\n",
    "                    bin_values = np.arange(start=start_histogram, stop=end_histogram, step=step_size)\n",
    "            #         bin_values = np.arange(start=min(magnitude_distribution['Magnitude']), stop=max(magnitude_distribution['Magnitude']), step=10)\n",
    "\n",
    "\n",
    "                    #Displaying the histogram\n",
    "                    printmd('Below is a histogram of distribution of Number for ' + str(prop_label).capitalize() + ' in the subgraph','blue')\n",
    "                    magnitude_distribution['Magnitude'].hist(bins=bin_values, figsize=[14,6])\n",
    "                    magnitude_distribution = magnitude_distribution['Magnitude'].value_counts(bins=bin_values, sort=False)\n",
    "\n",
    "                    plt.xlabel(\"Magnitude\")\n",
    "                    plt.ylabel(\"Number of values\")\n",
    "                    plt.show()\n",
    "                    plt.figure()\n",
    "                else:\n",
    "                    printmd('There is some error with unit in the subgraph');\n",
    "                    return\n",
    "                magnitude_distribution.to_csv(os.path.join(os.getenv(folder),output_file_magnitude_destribution_saving),sep='\\t')\n",
    "                return\n",
    "            else:\n",
    "                cmd_for_value_distribution = cmd4\n",
    "                pd_unit_destribution_display =pd_unit_destribution.copy()\n",
    "                pd_unit_destribution_display[\"Unit\"] = pd_unit_destribution_display[\"Unit\"].map(Capitalize)\n",
    "    else:\n",
    "        cmd_for_value_distribution = cmd3\n",
    "        pd_unit_destribution_display =pd_unit_destribution.copy()\n",
    "        pd_unit_destribution_display[\"Unit\"] = pd_unit_destribution_display[\"Unit\"].map(find_label)\n",
    "\n",
    "\n",
    "    #Saving the file after mapping qnode with label\n",
    "    pd_unit_destribution_display.to_csv(os.path.join(os.getenv(folder),output_file_units_destribution_saving),sep='\\t')\n",
    "\n",
    "    #Displaying the destribution of qunatities for a property\n",
    "    display(HTML(pd_unit_destribution_display[:5].to_html(index=False)))\n",
    "\n",
    "    #Finding the most prevalent unit\n",
    "    if len(pd_unit_destribution)>=1:\n",
    "\n",
    "        #Finding the most prevalent unit\n",
    "#         print(pd_unit_destribution);\n",
    "        most_prevalent_unit_qnode = str(pd_unit_destribution.iloc[0]['Unit']);\n",
    "        most_prevalent_unit_label = re.sub(\"[^0-9a-zA-Z]+\", \"_\",   str(pd_unit_destribution_display.iloc[0][\"Unit\"]));\n",
    "        \n",
    "        if most_prevalent_unit_qnode == \"nan\":\n",
    "            most_prevalent_unit_qnode =\"\"\n",
    "            most_prevalent_unit_label = \"Number\"\n",
    "        \n",
    "        # Dynamically setting the name of output file corresponding to the magnitude destrbution of most prevalent unit\n",
    "        output_file_magnitude_destribution = \"Property_overview.quantity.\"+prop_label+ \".\"+most_prevalent_unit_label+ \".value_distibution.raw.tsv\"\n",
    "        output_file_magnitude_destribution_saving = \"Property_overview.quantity.\"+prop_label+ \".\"+most_prevalent_unit_label+ \".value_distibution.tsv\"\n",
    "\n",
    "        # Running Command 3/4/5 and loading the output in a dataframe apart from saving it.\n",
    "        if most_prevalent_unit_label == \"Number\":\n",
    "            magnitude_distribution = run_command_return_df(cmd5,raw_folder,output_file_magnitude_destribution,{\"__output_file\":output_file_magnitude_destribution,\"__prop\":pnode,\"__folder\":raw_folder},save=_save,restart=_restart);\n",
    "        else:\n",
    "            magnitude_distribution = run_command_return_df(cmd_for_value_distribution,raw_folder,output_file_magnitude_destribution,{\"__output_file\":output_file_magnitude_destribution,\"__prop\":pnode,\"__unit\":most_prevalent_unit_qnode,\"__folder\":raw_folder},save=_save,restart=_restart);\n",
    "        if (len(magnitude_distribution)>0):\n",
    "#             print(magnitude_distribution)\n",
    "            # Binnig the magnitudes for displaying the histogram\n",
    "            #This is done to remove the log tails\n",
    "            start_histogram = magnitude_distribution.quantile(0.01)['Magnitude']\n",
    "            end_histogram = magnitude_distribution.quantile(0.99)['Magnitude']\n",
    "            step_size = (end_histogram-start_histogram)/1000\n",
    "\n",
    "            #This is done to ensure the tail are included if they are small\n",
    "            start_histogram = start_histogram -20*step_size\n",
    "            end_histogram = end_histogram + 20*step_size\n",
    "            bin_values = np.arange(start=start_histogram, stop=end_histogram, step=step_size)\n",
    "    #         bin_values = np.arange(start=min(magnitude_distribution['Magnitude']), stop=max(magnitude_distribution['Magnitude']), step=10)\n",
    "\n",
    "\n",
    "            #Displaying the histogram\n",
    "            printmd('Below is a histogram of distribution of values for unit: \"'+most_prevalent_unit_label +'\" for ' + prop_label + ' in the subgraph','blue')\n",
    "            magnitude_distribution['Magnitude'].hist(bins=bin_values, figsize=[14,6])\n",
    "            magnitude_distribution = magnitude_distribution['Magnitude'].value_counts(bins=bin_values, sort=False)\n",
    "\n",
    "            plt.xlabel(most_prevalent_unit_label)\n",
    "            plt.ylabel(\"Number of values\")\n",
    "            plt.show()\n",
    "            plt.figure()\n",
    "        else:\n",
    "            printmd('There is some error with unit in the subgraph');\n",
    "\n",
    "        #Saving the file for the display using html\n",
    "        magnitude_distribution.to_csv(os.path.join(os.getenv(folder),output_file_magnitude_destribution_saving),sep='\\t')\n",
    "        return"
   ]
  },
  {
   "cell_type": "code",
   "execution_count": 16,
   "metadata": {
    "execution": {
     "iopub.execute_input": "2021-01-04T11:46:06.759739Z",
     "iopub.status.busy": "2021-01-04T11:46:06.753150Z",
     "iopub.status.idle": "2021-01-04T11:46:06.774692Z",
     "shell.execute_reply": "2021-01-04T11:46:06.774201Z"
    },
    "papermill": {
     "duration": 0.068156,
     "end_time": "2021-01-04T11:46:06.774822",
     "exception": false,
     "start_time": "2021-01-04T11:46:06.706666",
     "status": "completed"
    },
    "tags": []
   },
   "outputs": [],
   "source": [
    "#This function displays the stacked histogram for the distribution of instances of the property (property must be of time data type)\n",
    "#@argument\n",
    "#pnode: The pnode corresponding to the property\n",
    "#prop_label: The label for the property\n",
    "#output_file_time_distribution_raw: It is the file name for saving the output file thus reducing re run time.\n",
    "#restart: Here restart means if you allow to use any existing, keep it true if you re running it or you have imported the files.\n",
    "#save: If it is set then it will save the file otherwise will delete any generated file.\n",
    "#min_year: It is the start year for the histogram\n",
    "#max_year: It is the end year for the histogram\n",
    "#folder: It is the environment variable corresponding to the path of the folder.\n",
    "#number_of_unique_classes: It sets the number of unique classes for the histogram\n",
    "#@return\n",
    "#It returns a dataframe corresponding to the histogram in the following format\n",
    "#Year Class1(Count of instances of Class1) Class2(Count of instances of Class2)\n",
    "def time_prop_distribution(pnode,prop_label,_save=True,_restart=True,output_file_time_distribution_raw=None,_min_year=1800,_max_year=2100,number_of_unique_classes=5,folder=\"PROPERTY_OVERVIEW\",raw_folder=\"RAW_FILES_PROPERTY\"):\n",
    "    if _min_year > _max_year:\n",
    "        printmd(\"_max_year should be greater than the _min_year\",'blue')\n",
    "        return\n",
    "    \n",
    "    cmd = \"$kgtk query -i $WIKIDATA_PARTS/$time -i $WIKIDATA_PARTS/$wikibase_item  -i $WIKIDATA_PARTS/$label --graph-cache $STORE \\\n",
    "        -o $__folder/__output_file \\\n",
    "        --match  'time: (n1)-[r{label:llab}]->(v), item:(n1)-[l{label:llab2}]->(class), label:(class)-[:label]->(class_with_label)' \\\n",
    "        --return 'kgtk_date_year(v) as Year, kgtk_lqstring_text(class_with_label) as Class' \\\n",
    "        --where 'kgtk_date(v) AND llab in [\\\"__prop\\\"] AND llab2 in [\\\"P31\\\"] AND kgtk_lqstring_lang_suffix(class_with_label) = \\\"en\\\" AND kgtk_date_precision(v)>8 '\"\n",
    "    \n",
    "    cmd_without_class = \"$kgtk query -i $WIKIDATA_PARTS/$time -i $WIKIDATA_PARTS/$wikibase_item  -i $WIKIDATA_PARTS/$label --graph-cache $STORE \\\n",
    "        -o $__folder/__output_file \\\n",
    "        --match  'time: (n1)-[r{label:llab}]->(v)' \\\n",
    "        --return 'kgtk_date_year(v) as Year' \\\n",
    "        --where 'kgtk_date(v) AND llab in [\\\"__prop\\\"] AND kgtk_date_precision(v)>8 '\"\n",
    "    \n",
    "    prop_label = re.sub(\"[^0-9a-zA-Z]+\", \"_\",  prop_label) \n",
    "\n",
    "    if output_file_time_distribution_raw == None:\n",
    "        output_file_time_distribution_raw = \"Property_overview.time.\"+prop_label+\".year_distibution.raw.tsv\"\n",
    "    \n",
    "    #Running command 1\n",
    "    time_distribution = run_command_return_df(cmd,raw_folder,output_file_time_distribution_raw,{\"__output_file\":output_file_time_distribution_raw,\"__prop\":pnode,\"__folder\":raw_folder},save=_save,restart=_restart);\n",
    "    if(len(time_distribution)>0 and \"Class\" in time_distribution):\n",
    "        \n",
    "#Part-1, This is for saving the statistics to file, we are saving everything irrespect of _min_year and _max_year\n",
    "        \n",
    "        #Finding the top five unique classes sorted based on number of statements\n",
    "        unique_classes = time_distribution[\"Class\"].value_counts().keys()[:number_of_unique_classes]\n",
    "\n",
    "        #Dataframe for stacked histogram\n",
    "        time_distribution_stacked = pd.DataFrame();\n",
    "\n",
    "        #Will be saving the result in different format\n",
    "        time_distribution_stacked_saving = pd.DataFrame();\n",
    "\n",
    "        #A local function to find the if a class belong to top five classes.\n",
    "        def names_not_in_top_five(class_name):\n",
    "            if(class_name not in unique_classes):\n",
    "                return True\n",
    "            return False\n",
    "\n",
    "        #Creating the a boolean column to see if the class belongs to non of the top five class;\n",
    "        time_distribution[\"Other\"] = time_distribution[\"Class\"].map(names_not_in_top_five)\n",
    "        for index, name in enumerate(unique_classes):        \n",
    "\n",
    "            # Ditribution of year for a property and class are stacked in the dataframe time_distribution_stacked\n",
    "            time_distribution_class = pd.DataFrame()\n",
    "            time_distribution_class[\"Year\"] = time_distribution[time_distribution[\"Class\"] == name][\"Year\"]\n",
    "            time_distribution_stacked[name.capitalize()] = list(time_distribution_class[\"Year\"]) + (len(time_distribution)-len(time_distribution_class))*[np.nan]\n",
    "\n",
    "        # Adding count for all other classess\n",
    "        time_distribution_class = pd.DataFrame()\n",
    "        time_distribution_class[\"Year\"] = time_distribution[time_distribution[\"Other\"]][\"Year\"]\n",
    "        time_distribution_stacked[\"Others\"] = list(time_distribution_class[\"Year\"]) + (len(time_distribution)-len(time_distribution_class))*[np.nan]\n",
    "\n",
    "        #Applying value count to all the columns\n",
    "        time_distribution_stacked_saving = time_distribution_stacked.apply(pd.Series.value_counts)\n",
    "        time_distribution_stacked_saving.rename_axis(\"Year\",inplace=True)\n",
    "        \n",
    "        output_file_time_distribution = \"Property_overview.time.\"+prop_label+\".year_distibution.tsv\"\n",
    "        time_distribution_stacked_saving.to_csv(os.path.join(os.getenv(folder),output_file_time_distribution),sep=\"\\t\")\n",
    "        \n",
    "#Part-2, This is for showing the histogram, here we are doing everything with reference to the _min_year and _max_year\n",
    "        time_distribution_zoomed = pd.DataFrame()\n",
    "        time_distribution_stacked = pd.DataFrame()\n",
    "        time_distribution_zoomed = (time_distribution[(time_distribution[\"Year\"]>=int(_min_year)) & (time_distribution[\"Year\"]<=int(_max_year))]).copy()\n",
    "        #Finding the top five unique classes sorted based on number of statements\n",
    "        unique_classes = time_distribution_zoomed[\"Class\"].value_counts().keys()[:number_of_unique_classes]\n",
    "        printmd(\"Below is stacked histogram for \" + prop_label.capitalize() + \" binned per year from \"+str(_min_year).capitalize() +\" to \"+str(_max_year).capitalize(),'blue')\n",
    "        #Dataframe for stacked histogram\n",
    "        time_distribution_stacked = pd.DataFrame();\n",
    "\n",
    "        #A local function to find the if a class belong to top five classes.\n",
    "        def names_not_in_top_five_zoomed(class_name):\n",
    "            if(class_name not in unique_classes):\n",
    "                return True\n",
    "            return False\n",
    "\n",
    "        #Creating the a boolean column to see if the class belongs to non of the top five class;\n",
    "        time_distribution_zoomed[\"Other\"] = time_distribution_zoomed[\"Class\"].map(names_not_in_top_five_zoomed)\n",
    "        for index, name in enumerate(unique_classes):        \n",
    "\n",
    "            # Ditribution of year for a property and class are stacked in the dataframe time_distribution_stacked\n",
    "            time_distribution_class = pd.DataFrame()\n",
    "            time_distribution_class[\"Year\"] = time_distribution_zoomed[time_distribution[\"Class\"] == name][\"Year\"]\n",
    "            time_distribution_stacked[name.capitalize()] = list(time_distribution_class[\"Year\"]) + (len(time_distribution_zoomed)-len(time_distribution_class))*[np.nan]\n",
    "\n",
    "        # Adding count for all other classess\n",
    "        time_distribution_class = pd.DataFrame()\n",
    "        time_distribution_class[\"Year\"] = time_distribution_zoomed[time_distribution_zoomed[\"Other\"]][\"Year\"]\n",
    "        time_distribution_stacked[\"Others\"] = list(time_distribution_class[\"Year\"]) + (len(time_distribution_zoomed)-len(time_distribution_class))*[np.nan]\n",
    "    #     time_distribution_class[\"Year\"].value_counts().to_csv(os.path.join(os.getenv('PROPERTY_OVERVIEW'),output_file_time_distribution_class),sep='\\t')\n",
    "        # The smallest year in the dataframe\n",
    "        min_year = max(_min_year,min(time_distribution[\"Year\"]))\n",
    "\n",
    "        # The largest year in the dataframe\n",
    "        max_year = min(_max_year,max(time_distribution[\"Year\"]))\n",
    "\n",
    "\n",
    "        bin_values = np.arange(start=((min_year-20)//10)*10, stop=((max_year+20)//10)*10, step=1)\n",
    "\n",
    "        time_distribution_stacked.plot.hist(bins=bin_values, stacked=True,figsize=[14,6])\n",
    "\n",
    "        plt.show()\n",
    "        \n",
    "        time_distribution_stacked_saving = pd.DataFrame()\n",
    "        #Applying value count to all the columns\n",
    "        time_distribution_stacked_saving = time_distribution_stacked.apply(pd.Series.value_counts)\n",
    "        time_distribution_stacked_saving.rename_axis(\"Year\",inplace=True)\n",
    "        \n",
    "        output_file_time_distribution = \"Property_overview.time.\"+prop_label+\".range.year_distibution.raw.tsv\"\n",
    "        time_distribution_stacked_saving.to_csv(os.path.join(os.getenv(raw_folder),output_file_time_distribution),sep=\"\\t\")\n",
    "\n",
    "    else:\n",
    "        # Checking if the file is produced with the above \"command\" then deleting it\n",
    "        file_path = os.path.join(os.getenv(folder),output_file_time_distribution_raw)\n",
    "        if os.path.exists(file_path):\n",
    "            try:\n",
    "                time_distribution = pd.read_csv(file_path,delimiter=\"\\t\")\n",
    "                if \"Class\" in time_distribution:\n",
    "                    os.remove(file_path)\n",
    "            except Exception as e:\n",
    "                os.remove(file_path)\n",
    "                \n",
    "        printmd(\"Below is histogram for \" + prop_label.capitalize() + \" binned per year\",'blue')\n",
    "        #Running cmd_without_class \n",
    "        time_distribution = run_command_return_df(cmd_without_class,folder,output_file_time_distribution_raw,{\"__output_file\":output_file_time_distribution_raw,\"__prop\":pnode,\"__folder\":folder},save=_save,restart=_restart);\n",
    "        if(len(time_distribution)>0):\n",
    "            # The smallest year in the dataframe\n",
    "            min_year = _min_year\n",
    "\n",
    "            # The largest year in the dataframe\n",
    "            max_year = _max_year\n",
    "\n",
    "\n",
    "            printmd(\"Below is a histogram for the distribution of '\" + prop_label + \"' binned per year from \"+ str(_min_year).capitalize() +\" to \"+str(_max_year).capitalize() ,'blue')\n",
    "\n",
    "            bin_values = np.arange(start=((min_year-20)//10)*10, stop=((max_year+20)//10)*10, step=1)\n",
    "\n",
    "\n",
    "            time_distribution['Year'].hist(bins=bin_values, figsize=[14,6])\n",
    "\n",
    "            plt.show()\n",
    "            time_distribution_stacked_saving = time_distribution[\"Year\"].value_counts()\n",
    "            time_distribution_stacked_saving.rename_axis(\"Year\",inplace=True)\n",
    "            output_file_time_distribution = \"Property_overview.time.\"+prop_label+\".year_distibution.tsv\"\n",
    "            time_distribution_stacked_saving.to_csv(os.path.join(os.getenv(folder),output_file_time_distribution),sep=\"\\t\")\n",
    "        else:\n",
    "            printmd(\"There is some error with this property\")\n",
    "            time_distribution_stacked_saving = pd.DataFrame(columns=[\"Year\",\"Count\"])\n",
    "    return time_distribution_stacked_saving"
   ]
  },
  {
   "cell_type": "code",
   "execution_count": 17,
   "metadata": {
    "execution": {
     "iopub.execute_input": "2021-01-04T11:46:06.857150Z",
     "iopub.status.busy": "2021-01-04T11:46:06.856101Z",
     "iopub.status.idle": "2021-01-04T11:46:06.859919Z",
     "shell.execute_reply": "2021-01-04T11:46:06.860484Z"
    },
    "papermill": {
     "duration": 0.049769,
     "end_time": "2021-01-04T11:46:06.860672",
     "exception": false,
     "start_time": "2021-01-04T11:46:06.810903",
     "status": "completed"
    },
    "tags": []
   },
   "outputs": [],
   "source": [
    "#This function displays the  histogram for the distribution of instances of the property (property must be of time data type)\n",
    "#@argument\n",
    "#pnode: The pnode corresponding to the property\n",
    "#prop_label: The label for the property\n",
    "#property_type: Datatype of the property\n",
    "#output_file_time_distribution_raw: It is the file name for saving the output file thus reducing re run time.\n",
    "#restart: Here restart means if you allow to use any existing, keep it true if you re running it or you have imported the files.\n",
    "#save: If it is set then it will save the file otherwise will delete any generated file.\n",
    "#folder: It is the environment variable corresponding to the path of the folder.\n",
    "def property_distribution(pnode,property_type,prop_label,_save=True,_restart=True,output_file_class_distribution=None,number_of_unique_classes=5,folder=\"PROPERTY_OVERVIEW\",raw_folder=\"RAW_FILES_PROPERTY\"):\n",
    "    cmd_distribution = \"$kgtk query -i $WIKIDATA_PARTS/$__input_file -i $WIKIDATA_PARTS/$wikibase_item  -i $WIKIDATA_PARTS/$label --graph-cache $STORE \\\n",
    "    -o $__folder/__output_file \\\n",
    "    --match  'claims: (n1)-[r{label:llab}]->(v), item:(n1)-[l{label:llab2}]->(class), label:(class)-[:label]->(class_with_label)' \\\n",
    "    --return 'distinct kgtk_lqstring_text(class_with_label) as Class, count(kgtk_lqstring_text(class_with_label)) as Number_of_Instances, class as Qnode' \\\n",
    "    --where 'llab in [\\\"__prop\\\"] AND llab2 in [\\\"P31\\\"] AND kgtk_lqstring_lang_suffix(class_with_label) = \\\"en\\\" ' \\\n",
    "    --order-by 'Number_of_Instances desc' \"\n",
    "\n",
    "    cmd_wikibase_item_distribution = \"$kgtk query -i $WIKIDATA_PARTS/$wikibase_item  -i $WIKIDATA_PARTS/$label --graph-cache $STORE \\\n",
    "    -o $__folder/__output_file \\\n",
    "    --match  'item: (n1)-[r{label:llab}]->(v), item:(n1)-[l{label:llab2}]->(class), label:(class)-[:label]->(class_with_label)' \\\n",
    "    --return 'distinct kgtk_lqstring_text(class_with_label) as Class, count(kgtk_lqstring_text(class_with_label)) as Number_of_Instances, class as Qnode ' \\\n",
    "    --where 'llab in [\\\"__prop\\\"] AND llab2 in [\\\"P31\\\"] AND kgtk_lqstring_lang_suffix(class_with_label) = \\\"en\\\" ' \\\n",
    "    --order-by 'Number_of_Instances desc' \"\n",
    "\n",
    "    prop_label = re.sub(\"[^0-9a-zA-Z]+\", \"_\",  prop_label) \n",
    "    property_type = re.sub(\"[^0-9a-zA-Z]+\", \"_\",  property_type) \n",
    "\n",
    "    if output_file_class_distribution == None:\n",
    "        #Dynamically setting the name of the output file based on the name of property\n",
    "        output_file_class_distribution= \"Property_overview.\"+property_type+\".\"+prop_label+\".class_distribution.tsv\"\n",
    "\n",
    "    if (property_type.lower().find(\"wikibase\") != -1 and property_type.lower().find(\"item\") != -1  ):\n",
    "        #Running command for wikibase item\n",
    "        property_class_distribution = run_command_return_df(cmd_wikibase_item_distribution,folder,output_file_class_distribution,{\"__output_file\":output_file_class_distribution,\"__prop\":pnode,\"__input_file\":property_type,\"__folder\":folder},save=_save,restart=_restart);\n",
    "    else:\n",
    "        #Running command for other data types\n",
    "        property_class_distribution = run_command_return_df(cmd_distribution,folder,output_file_class_distribution,{\"__output_file\":output_file_class_distribution,\"__prop\":pnode,\"__input_file\":property_type,\"__folder\":folder},save=_save,restart=_restart);\n",
    "    printmd(\"Below is ditribution of \" + prop_label.capitalize() + \" in different classes\",'blue')\n",
    "    if len(property_class_distribution)>0:\n",
    "\n",
    "        property_distribution_histogram = pd.DataFrame();\n",
    "\n",
    "        property_distribution_histogram = property_class_distribution[:number_of_unique_classes]\n",
    "\n",
    "        if(len(property_class_distribution)>number_of_unique_classes):\n",
    "            other_classes = sum(property_class_distribution[\"Number_of_Instances\"][5:])\n",
    "            property_distribution_histogram = property_distribution_histogram.append({\"Class\":\"Other Classes\",\"Number_of_Instances\":other_classes,\"Qnode\":\"NA\"},ignore_index=True)\n",
    "\n",
    "        property_distribution_histogram[[\"Class\",\"Number_of_Instances\"]].plot.bar(x=\"Class\")\n",
    "\n",
    "        plt.show()\n",
    "    else:\n",
    "        printmd(\"The subgraph does not have any infromation about the class of the instances of this property\",)\n"
   ]
  },
  {
   "cell_type": "code",
   "execution_count": 18,
   "metadata": {
    "execution": {
     "iopub.execute_input": "2021-01-04T11:46:06.937965Z",
     "iopub.status.busy": "2021-01-04T11:46:06.931166Z",
     "iopub.status.idle": "2021-01-04T11:46:06.948965Z",
     "shell.execute_reply": "2021-01-04T11:46:06.949427Z"
    },
    "papermill": {
     "duration": 0.055971,
     "end_time": "2021-01-04T11:46:06.949584",
     "exception": false,
     "start_time": "2021-01-04T11:46:06.893613",
     "status": "completed"
    },
    "tags": []
   },
   "outputs": [],
   "source": [
    "#This function displays the overview of the property\n",
    "#@argument\n",
    "#Current_Pnode : The pnode of the property for which the overview is to be found\n",
    "#Property_label : The property label of the property\n",
    "#_save: If its true then it saves the generated file\n",
    "#_restart: If its true then it looks the for the saved the file, if it is present loads instead of running the query again\n",
    "#output_file_overview: It is the file if provided saves the output in that file otherwise saves output in Property_overview.[Property_label].overview.tsv file\n",
    "#folder: This corresponds to the environment variable corresponding to the folder in which the file would be stored\n",
    "def property_overview(Current_Pnode,Property_label,Property_type,_save=True,_restart=True,output_file_overview=None,_min_year=1800,_max_year=2100,number_of_unique_classes=5,folder=\"PROPERTY_OVERVIEW\",raw_folder=\"RAW_FILES_PROPERTY\"):   \n",
    "    \n",
    "    Property_label = re.sub(\"[^0-9a-zA-Z]+\", \"_\", Property_label)\n",
    "    printmd('Property: '+ Property_label.capitalize(),'blue')\n",
    "    # Find the list of all the description in English language\n",
    "    cmd = \"$kgtk query -i $WIKIDATA_PARTS/$description --graph-cache $STORE \\\n",
    "            -o $__folder/__output_file \\\n",
    "            --match 'description: (n1:__pnode)-[:description]->(n2)' \\\n",
    "            --return 'kgtk_lqstring_text(n2) as Description_ ' \\\n",
    "            --where 'kgtk_lqstring_lang_suffix(n2) = \\\"en\\\"'\"\n",
    "    \n",
    "    Property_label = re.sub(\"[^0-9a-zA-Z]+\", \"_\",  Property_label) \n",
    "\n",
    "    output_file_for_discription_raw = \"Property_overview.description.\"+Property_label+\".raw.tsv\";\n",
    "\n",
    "    df_temp = run_command_return_df(cmd,raw_folder,output_file_for_discription_raw,{\"__output_file\":output_file_for_discription_raw,\"__pnode\":Current_Pnode,\"__folder\":raw_folder},_save,_restart);\n",
    "    description_array = df_temp[\"Description_\"].values.tolist();\n",
    "    description_current = \"\".join(description_array[0] if len(description_array)>=1 else \"\")\n",
    "\n",
    "\n",
    "    # Find the list of all the aliases in English language\n",
    "    cmd = \"$kgtk query -i $WIKIDATA_PARTS/$alias --graph-cache $STORE \\\n",
    "        -o $__folder/__output_file \\\n",
    "        --match 'alias: (n1:__qnode)-[:alias]->(n2)' \\\n",
    "        --return 'kgtk_lqstring_text(n2) as Alias' \\\n",
    "        --where 'kgtk_lqstring_lang_suffix(n2) = \\\"en\\\"' \"\n",
    "\n",
    "    output_file_for_aliases_raw = \"Property_overview.aliases.\"+Property_label+\".raw.tsv\";\n",
    "    df_temp = run_command_return_df(cmd,raw_folder,output_file_for_aliases_raw,{\"__output_file\":output_file_for_aliases_raw,\"__qnode\":Current_Pnode,\"__folder\":raw_folder},_save,_restart)\n",
    "    aliases_current = \", \".join(df_temp[\"Alias\"].values.tolist())\n",
    "    \n",
    "    #Find the number of qualifiers for a property\n",
    "    cmd = \"$kgtk query -i $WIKIDATA_PARTS/$wikibase_item -i $WIKIDATA_PARTS/$wikibase_item_qualifiers --graph-cache $STORE \\\n",
    "        -o $__folder/__output_file \\\n",
    "        --match 'claims: ()-[l{label:llab}]->(), qualifiers: (l)-[lq]->(n2)' \\\n",
    "        --return 'count(n2) as Number_of_Qualifiers' \\\n",
    "        --where 'llab in [\\\"__prop\\\"]' \"\n",
    "    \n",
    "    output_file_for_qualifiers_raw = \"Property_overview.number_of_qualifiers.\"+Property_label+\".raw.tsv\";\n",
    "    df_temp_qual = run_command_return_df(cmd,raw_folder,output_file_for_qualifiers_raw,{\"__output_file\":output_file_for_qualifiers_raw,\"__prop\":Current_Pnode,\"__folder\":raw_folder},True,True)\n",
    "    Number_of_qualifiers = df_temp_qual.loc[0][\"Number_of_Qualifiers\"]\n",
    "    \n",
    "     #Find the number of Statements for a property\n",
    "    cmd = \"$kgtk query -i $WIKIDATA_PARTS/$__input_file --graph-cache $STORE \\\n",
    "        -o $__folder/__output_file \\\n",
    "        --match 'claims: (n1)-[l{label:llab}]->(n2)' \\\n",
    "        --return 'count(llab) as Number_of_Statements' \\\n",
    "        --where 'llab in [\\\"__prop\\\"]' \"\n",
    "    \n",
    "    output_file_for_statements_raw = \"Property_overview.number_of_statements.\"+Property_label+\".raw.tsv\";\n",
    "    df_temp_qual = run_command_return_df(cmd,raw_folder,output_file_for_statements_raw,{\"__output_file\":output_file_for_statements_raw,\"__prop\":Current_Pnode,\"__folder\":raw_folder,\"__input_file\":Property_type},True,True)\n",
    "    Number_of_statements_of_current_property = df_temp_qual.loc[0][\"Number_of_Statements\"]\n",
    "    \n",
    "    # Print statments\n",
    "    printmd('Description: '+ description_current.capitalize(),size=15, fontWeight='Light')\n",
    "    printmd('Aliases: '+ aliases_current.capitalize(),size=15,fontWeight='Light')\n",
    "    printmd(\"Number of Statements:  \" +str(Number_of_statements_of_current_property),size=15,fontWeight='Light')\n",
    "    printmd(\"Number of Qualifiers:  \" +str(Number_of_qualifiers),size=15,fontWeight='Light')\n",
    "    printmd(\"Property Type: \" +str(Property_type),size=15,fontWeight='Light')\n",
    "\n",
    "    #Create a dataframe corresponding to the above generated statistics\n",
    "    property_overview = pd.DataFrame([[\"Description\",description_current.capitalize()],[\"Aliases\",aliases_current.capitalize()],[\"Number of Statements: \",str(Number_of_statements_of_current_property)],[\"Number of Qualifiers: \",str(Number_of_qualifiers)],[\"Property Type: \",str(Property_type)]],columns=[\"Stat\",\"Value\"])\n",
    "\n",
    "    if output_file_overview == None:\n",
    "        #Dynamically create the name of the output file where the overview would be stored\n",
    "        output_file_overview =\"Property_overview.\"+Property_label+\".overview.tsv\" \n",
    "\n",
    "    # Save the overview to the output file\n",
    "    property_overview.to_csv(os.path.join(os.getenv(folder),output_file_overview),sep='\\t')\n",
    "    \n",
    "    if Property_type.lower().find(\"time\") != -1:\n",
    "        time_prop_distribution(Current_Pnode,Property_label,_save,_restart,_min_year=_min_year,_max_year=_max_year,number_of_unique_classes=number_of_unique_classes)\n",
    "    else:\n",
    "        property_distribution(Current_Pnode,Property_type,Property_label,_save,_restart,number_of_unique_classes=number_of_unique_classes)\n",
    "        \n",
    "    if Property_type.lower().find(\"quantity\") != -1:\n",
    "        quantity_distribution(Current_Pnode,Property_label,_save=_save,_restart=_restart)\n",
    "\n",
    "    printmd(\"------------------------------------------------------------------------------------------\")"
   ]
  },
  {
   "cell_type": "code",
   "execution_count": 19,
   "metadata": {
    "execution": {
     "iopub.execute_input": "2021-01-04T11:46:07.021018Z",
     "iopub.status.busy": "2021-01-04T11:46:07.020049Z",
     "iopub.status.idle": "2021-01-04T11:46:07.023577Z",
     "shell.execute_reply": "2021-01-04T11:46:07.024162Z"
    },
    "papermill": {
     "duration": 0.041332,
     "end_time": "2021-01-04T11:46:07.024341",
     "exception": false,
     "start_time": "2021-01-04T11:46:06.983009",
     "status": "completed"
    },
    "tags": []
   },
   "outputs": [],
   "source": [
    "#This is a helper function which extract the qnode/pnode from the link\n",
    "def get_qnodes_from_link(link):\n",
    "    return str(link.split(\"/\")[-1])"
   ]
  },
  {
   "cell_type": "code",
   "execution_count": 20,
   "metadata": {
    "execution": {
     "iopub.execute_input": "2021-01-04T11:46:07.101336Z",
     "iopub.status.busy": "2021-01-04T11:46:07.100333Z",
     "iopub.status.idle": "2021-01-04T11:46:07.104257Z",
     "shell.execute_reply": "2021-01-04T11:46:07.104832Z"
    },
    "papermill": {
     "duration": 0.047672,
     "end_time": "2021-01-04T11:46:07.105010",
     "exception": false,
     "start_time": "2021-01-04T11:46:07.057338",
     "status": "completed"
    },
    "tags": []
   },
   "outputs": [],
   "source": [
    "# Find labels of all the properties of the class\n",
    "def find_label_property(output_file_labels_property = None, _restart = True,_save=True,folder=\"RAW_FILES_OVERVIEW\"):\n",
    "    \n",
    "    if output_file_labels_property == None:\n",
    "        output_file_labels_property = \"Overview.properties.label.raw.tsv\"\n",
    "    file_path = os.path.join(os.getenv(folder),output_file_labels_property)\n",
    "    \n",
    "    #Loading the file if it already exists\n",
    "    if _restart and os.path.exists(file_path):\n",
    "        try:\n",
    "            df_label = pd.read_csv(file_path,delimiter='\\t')\n",
    "            return df_label\n",
    "        except:\n",
    "            pass\n",
    "    df_label = pd.DataFrame([],columns=['Property','Label'])\n",
    "    \n",
    "    \n",
    "    #Variable storing all the datatypes of a properties\n",
    "    types = [ \"time\",\n",
    "             \"wikibase_item\",\n",
    "             \"math\",\n",
    "             \"wikibase_form\",\n",
    "             \"quantity\",\n",
    "             \"string\",\n",
    "             \"external_id\",\n",
    "             \"commonsMedia\",\n",
    "             \"globe_coordinate\",\n",
    "             \"monolingualtext\",\n",
    "             \"musical_notation\",\n",
    "             \"geo_shape\",\n",
    "             \"url\"\n",
    "            ]\n",
    "    \n",
    "    #Iterating over all the types\n",
    "    for __type in types:\n",
    "        #Find label of properties of a Datatype:__type\n",
    "        __type_label = re.sub(\"[^0-9a-zA-Z]+\", \"_\", __type)\n",
    "        cmd = \"$kgtk query -i $WIKIDATA_PARTS/$__type -i $WIKIDATA_PARTS/$label --graph-cache $STORE \\\n",
    "        -o $__folder/__output_file \\\n",
    "        --match 'claims: (n1)-[l{label:llab}]->(n2), label: (llab)-[:label]->(n1label)' \\\n",
    "        --return 'distinct llab as Property, n1label as `Label`'\"\n",
    "        \n",
    "        # Dynamically genrating the output files for each of the labels for a particular property type\n",
    "        output_file_labels_property_type = \"Overview.properties.label.\"+__type_label+\".raw.tsv\"\n",
    "        df_temp = run_command_return_df(cmd,folder,output_file_labels_property_type,{\"__output_file\":output_file_labels_property_type,\"__type\":__type,\"__folder\":folder},True,True)\n",
    "        df_temp = df_temp.reset_index()\n",
    "        del df_temp[\"index\"]\n",
    "\n",
    "\n",
    "        # Dropping if there are many statements for same instances and same property\n",
    "        # For example a node can have more than P31 statements\n",
    "        df_temp = df_temp.drop_duplicates()\n",
    "        df_label = pd.concat([df_label,df_temp])\n",
    "    df_label.to_csv(os.path.join(os.getenv(folder),output_file_labels_property),sep=\"\\t\")\n",
    "    return df_label"
   ]
  },
  {
   "cell_type": "code",
   "execution_count": 21,
   "metadata": {
    "execution": {
     "iopub.execute_input": "2021-01-04T11:46:07.184866Z",
     "iopub.status.busy": "2021-01-04T11:46:07.183913Z",
     "iopub.status.idle": "2021-01-04T11:46:07.187869Z",
     "shell.execute_reply": "2021-01-04T11:46:07.187180Z"
    },
    "papermill": {
     "duration": 0.0494,
     "end_time": "2021-01-04T11:46:07.188018",
     "exception": false,
     "start_time": "2021-01-04T11:46:07.138618",
     "status": "completed"
    },
    "scrolled": false,
    "tags": []
   },
   "outputs": [],
   "source": [
    "# This is a helper function which finds the statistics on the outcoming properties on the instances of the class\n",
    "# returns a dataframe object with the statistics\n",
    "#@parameters\n",
    "#df_class_example: The dataframe object corresponding to the instances of the class\n",
    "def find_properties(class_label,df_class_example,df_label,output_class_example_with_index,folder=\"CLASS_FOLDER\",_save=True,_restart=True,raw_folder=\"RAW_FILES_CLASS\"):\n",
    "    #Instance set is the set of all the qnodes of the instances of the class\n",
    "    instance_set = set(list(df_class_example[\"Link\"]))\n",
    "    \n",
    "    #This is a helper function which finds the percentage corresponding to the passed value\n",
    "    def find_percent(val):\n",
    "        return round(val*100/number_of_instances,2)\n",
    "    \n",
    "    # This is a helper function which finds the label for the node\n",
    "    def label_node(node):\n",
    "        for ele in df_label[df_label['Property']==node]['Label']:\n",
    "            if kgtk_lqstring_lang_suffix(ele) == \"en\":\n",
    "                return kgtk_lqstring_text(ele)\n",
    "        return node\n",
    "    \n",
    "    # Number of distinct qnodes in the example set.\n",
    "    number_of_instances = len(instance_set)\n",
    "    \n",
    "    # Creating the data frame for the output\n",
    "    df_all_prop = pd.DataFrame([],columns=['id','node1','label','node2'])\n",
    "    for type_ in types:\n",
    "        \n",
    "        cmd = \"$kgtk query -i $__folder/__input_file_1 -i $WIKIDATA_PARTS/$__type --graph-cache $STORE \\\n",
    "               -o $__folder/__output_file \\\n",
    "               --match 'example: (n1)-[l1]->(n2), claims:(n1)-[l{label:llab}]->(val)' \\\n",
    "               --return 'n1 as node1, llab as `label` '\"\n",
    "        type_label = re.sub(\"[^0-9a-zA-Z]+\", \"_\",  type_) \n",
    "        \n",
    "        #Dynamically creating the output file for storing all the statements for all the instances of the class\n",
    "        output_file_instances_claims_type = \"Class_overview.\"+class_label+\".\"+type_label+\".claims.raw.tsv\"\n",
    "        df_temp = run_command_return_df(cmd,raw_folder,output_file_instances_claims_type,{\"__output_file\":output_file_instances_claims_type,\"__type\":type_,\"__input_file_1\":output_class_example_with_index,\"__folder\":raw_folder},_save,_restart)\n",
    "        df_temp = df_temp.reset_index()\n",
    "        del df_temp[\"index\"]\n",
    "        \n",
    "        \n",
    "        # Dropping if there are many statements for same instances and same property\n",
    "        # For example a node can have more than P31 statements\n",
    "        df_temp = df_temp.drop_duplicates()\n",
    "        df_all_prop = pd.concat([df_all_prop,df_temp])\n",
    "    df_all_prop = df_all_prop.reset_index()\n",
    "    \n",
    "    # Finding the count for each of the properties\n",
    "    df_all_prop = df_all_prop['label'].value_counts()\n",
    "    df_all_prop = df_all_prop.reset_index()\n",
    "    df_all_prop.columns = [\"Property Name\",\"Instances\"]\n",
    "    \n",
    "    # Finding the Percent\n",
    "    df_all_prop[\"% Instances\"] = df_all_prop[\"Instances\"].map(find_percent)\n",
    "    df_all_prop[\"Property Name\"] = df_all_prop[\"Property Name\"].map(label_node)\n",
    "\n",
    "    return df_all_prop"
   ]
  },
  {
   "cell_type": "code",
   "execution_count": 22,
   "metadata": {
    "execution": {
     "iopub.execute_input": "2021-01-04T11:46:07.265135Z",
     "iopub.status.busy": "2021-01-04T11:46:07.263236Z",
     "iopub.status.idle": "2021-01-04T11:46:07.267997Z",
     "shell.execute_reply": "2021-01-04T11:46:07.268554Z"
    },
    "papermill": {
     "duration": 0.046688,
     "end_time": "2021-01-04T11:46:07.268721",
     "exception": false,
     "start_time": "2021-01-04T11:46:07.222033",
     "status": "completed"
    },
    "scrolled": false,
    "tags": []
   },
   "outputs": [],
   "source": [
    "# This is a helper function which finds the statistics on the incoming properties on the instances of the class\n",
    "# returns a dataframe object with the statistics\n",
    "#@parameters\n",
    "#df_class_example: The dataframe object corresponding to the instances of the class\n",
    "def find_properties_incoming(class_label,df_class_example,df_label,output_class_example_with_index,_save=True,_restart=True,folder=\"CLASS_FOLDER\",raw_folder=\"RAW_FILES_CLASS\"):\n",
    "#     df_label = pd.read_csv(os.path.join(os.getenv('WIKIDATA_PARTS'),os.getenv('label')),delimiter='\\t')\n",
    "\n",
    "    #Environment variable corresponding to the statistics of each of the property data type\n",
    "    # Here wikibase_item is only relevant because it only has node2 as wikibase-item.\n",
    "    types = [\n",
    "             \"wikibase_item\"\n",
    "            ]\n",
    "    \n",
    "    # This is a helper function which finds the label for the node\n",
    "    def label_node(node):\n",
    "        for ele in df_label[df_label['Property']==node]['Label']:\n",
    "            if kgtk_lqstring_lang_suffix(ele) == \"en\":\n",
    "                return kgtk_lqstring_text(ele)\n",
    "        return node\n",
    "            \n",
    "    # Creating the data frame for the output\n",
    "    df_all_prop = pd.DataFrame([],columns=['id','node1','label','node2'])\n",
    "    for type_ in types:\n",
    "        \n",
    "        #Command to find all the properties of the instances\n",
    "        cmd = \"$kgtk query -i $__folder/__input_file_1 -i $WIKIDATA_PARTS/$__type --graph-cache $STORE \\\n",
    "               -o $__folder/__output_file \\\n",
    "               --match 'examples: (n1)-[l1]->(n2), claims:(val)-[l{label:llab}]->(n1)' \\\n",
    "               --return 'n1 as node1, llab as `label` '\"\n",
    "        \n",
    "        type_label = re.sub(\"[^0-9a-zA-Z]+\", \"_\",  type_) \n",
    "        \n",
    "        #Dynamically Generating output file for saving all the incoming properties to instances of a class\n",
    "        output_file_incoming_claims_type = \"Class_overview.\"+class_label+\".\"+type_label+\".incoming_claims.raw.tsv\"\n",
    "        df_temp = run_command_return_df(cmd,raw_folder,output_file_incoming_claims_type,{\"__output_file\":output_file_incoming_claims_type,\"__type\":type_,\"__input_file_1\":output_class_example_with_index,\"__folder\":raw_folder},_save,_restart)\n",
    "        \n",
    "        #removing the index from the dataframe\n",
    "        df_temp = df_temp.reset_index()\n",
    "        del df_temp[\"index\"]\n",
    "        \n",
    "                \n",
    "        # Dropping if there are many statements for same instances and same property\n",
    "        # For example a node can have more than P31 statements\n",
    "        df_temp = df_temp.drop_duplicates()\n",
    "        df_all_prop = pd.concat([df_all_prop,df_temp])\n",
    "        \n",
    "    df_all_prop = df_all_prop.reset_index()\n",
    "    \n",
    "    # Finding the count for each of the properties\n",
    "    df_all_prop = df_all_prop['label'].value_counts()\n",
    "    df_all_prop = df_all_prop.reset_index()\n",
    "    df_all_prop.columns = [\"Property Name\",\"Instances\"]\n",
    "    df_all_prop[\"Property Name\"] = df_all_prop[\"Property Name\"].map(label_node)\n",
    "\n",
    "    return df_all_prop"
   ]
  },
  {
   "cell_type": "code",
   "execution_count": 23,
   "metadata": {
    "execution": {
     "iopub.execute_input": "2021-01-04T11:46:07.365231Z",
     "iopub.status.busy": "2021-01-04T11:46:07.339850Z",
     "iopub.status.idle": "2021-01-04T11:46:07.368266Z",
     "shell.execute_reply": "2021-01-04T11:46:07.368771Z"
    },
    "papermill": {
     "duration": 0.067417,
     "end_time": "2021-01-04T11:46:07.368938",
     "exception": false,
     "start_time": "2021-01-04T11:46:07.301521",
     "status": "completed"
    },
    "tags": []
   },
   "outputs": [],
   "source": [
    "#This function gives the overview of a property \n",
    "#@parameter\n",
    "#Current_Qnode: The qnode corresponding to the class\n",
    "#class_label: The label corresponding ot the class\n",
    "#_save: This options saves any intermediate file and work in relation with _restrart\n",
    "#_restart: This option uses any intermediate file saved during the execution and thus reduce the time of run\n",
    "#folder: The folder in which the files are saved.\n",
    "def class_overview(Current_Qnode,class_label,_save=True,_restart=True,number_of_examples=3,number_of_incoming_properties=10,number_of_outgoing_properties=10,folder=\"CLASS_FOLDER\",raw_folder=\"RAW_FILES_CLASS\"):\n",
    "    # Heading\n",
    "    printmd('Class: '+class_label,'blue')\n",
    "\n",
    "    # Find the list of all the description in English language\n",
    "    cmd = \"$kgtk query -i $WIKIDATA_PARTS/$description --graph-cache $STORE \\\n",
    "            -o $__folder/__output_file \\\n",
    "            --match 'descriptions: (n1:__qnode)-[:description]->(n2)' \\\n",
    "            --return 'kgtk_lqstring_text(n2) as Description_ ' \\\n",
    "            --where 'kgtk_lqstring_lang_suffix(n2) = \\\"en\\\"'\"\n",
    "\n",
    "    output_file_class_description = \"Class_overview.description.\"+class_label+\".raw.tsv\"\n",
    "    df_temp = run_command_return_df(cmd,raw_folder,output_file_class_description,{\"__output_file\":output_file_class_description,\"__qnode\":Current_Qnode,\"__folder\":raw_folder},_save,_restart);\n",
    "    number_of_description = len(df_temp[\"Description_\"])\n",
    "    description_array = df_temp[\"Description_\"].values.tolist();\n",
    "    description_current = description_array[0] if len(description_array)>=1 else \"\"\n",
    "\n",
    "    # Find the list of all the aliases in English language\n",
    "    cmd = \"$kgtk query -i $WIKIDATA_PARTS/$alias --graph-cache $STORE \\\n",
    "            -o $__folder/__output_file \\\n",
    "            --match 'alias: (n1:__qnode)-[:alias]->(n2)' \\\n",
    "            --return 'kgtk_lqstring_text(n2) as Alias' \\\n",
    "            --where 'kgtk_lqstring_lang_suffix(n2) = \\\"en\\\"' \"\n",
    "\n",
    "    output_file_class_aliases = \"Class_overview.aliases.\"+class_label+\".raw.tsv\"\n",
    "    df_temp = run_command_return_df(cmd,raw_folder,output_file_class_aliases,{\"__output_file\":output_file_class_aliases,\"__qnode\":Current_Qnode,\"__folder\":raw_folder},_save,_restart)\n",
    "    number_of_aliases = len(df_temp[\"Alias\"])\n",
    "    aliases_current = \", \".join(df_temp[\"Alias\"].values.tolist())\n",
    "\n",
    "     # Find the list of all the super classes in English language\n",
    "    cmd = \"$kgtk query -i $WIKIDATA_PARTS/$wikibase_item -i $WIKIDATA_PARTS/$label --graph-cache $STORE \\\n",
    "            -o $__folder/__output_file \\\n",
    "            --match 'item: (n1:__qnode)-[l{label:llab}]->(n2), label:(n2)-[:label]->(n2_label)' \\\n",
    "            --return 'distinct kgtk_lqstring_text(n2_label) as Superclass' \\\n",
    "            --where 'kgtk_lqstring_lang_suffix(n2_label) = \\\"en\\\" AND llab in [\\\"P279\\\"]' \"\n",
    "\n",
    "    output_file_class_super_class = \"Class_overview.super_class.\"+class_label+\".raw.tsv\"\n",
    "    df_temp = run_command_return_df(cmd,raw_folder,output_file_class_super_class,{\"__output_file\":output_file_class_super_class,\"__qnode\":Current_Qnode,\"__folder\":raw_folder},_save,_restart)\n",
    "#     print(df_temp[\"Superclass\"].values.tolist())\n",
    "    direct_super_class_current = df_temp[\"Superclass\"].values.tolist()\n",
    "\n",
    "    # Find the list of all the subclasses in English language\n",
    "    cmd = \"$kgtk query -i $WIKIDATA_PARTS/$wikibase_item -i $WIKIDATA_PARTS/$label --graph-cache $STORE \\\n",
    "            -o $__folder/__output_file \\\n",
    "            --match 'item: (n1)-[l{label:llab}]->(n2:__qnode), label:(n1)-[:label]->(n1_label)' \\\n",
    "            --return 'distinct kgtk_lqstring_text(n1_label) as Subclass' \\\n",
    "            --where 'kgtk_lqstring_lang_suffix(n1_label) = \\\"en\\\" AND llab in [\\\"P279\\\"]' \"\n",
    "\n",
    "    output_file_class_super_class = \"Class_overview.subclass_class.\"+class_label+\".raw.tsv\"\n",
    "    df_temp = run_command_return_df(cmd,raw_folder,output_file_class_super_class,{\"__output_file\":output_file_class_super_class,\"__qnode\":Current_Qnode,\"__folder\":raw_folder},_save,_restart)\n",
    "#     print(df_temp[\"Subclass\"].values.tolist())\n",
    "    subclass_current = df_temp[\"Subclass\"].values.tolist()\n",
    "\n",
    "    #Find number of instances of the class\n",
    "    cmd = \"$kgtk query -i $WIKIDATA_PARTS/$wikibase_item --graph-cache $STORE \\\n",
    "            -o $__folder/__output_file \\\n",
    "            --match 'item: (n1)-[l{label:llab}]->(n2:__qnode)' \\\n",
    "            --return 'count(distinct n1) as Number_of_Instances' \\\n",
    "            --where 'llab in [\\\"P31\\\"]' \"\n",
    "\n",
    "    output_file_class_number_of_instances = \"Class_overview.number_of_instances.\"+class_label+\".raw.tsv\"\n",
    "    df_temp = run_command_return_df(cmd,raw_folder,output_file_class_number_of_instances,{\"__output_file\":output_file_class_number_of_instances,\"__qnode\":Current_Qnode,\"__folder\":raw_folder},_save,_restart)\n",
    "    Number_of_instances_of_current_class = df_temp[\"Number_of_Instances\"];\n",
    "\n",
    "    # Print statments\n",
    "    printmd('Description: '+ description_current.capitalize(),size=15, fontWeight='Light')\n",
    "    printmd('Aliases: '+ aliases_current.capitalize(),size=15,fontWeight='Light')\n",
    "    printmd('Direct Superclasses: '+ \", \".join(direct_super_class_current[:10]).capitalize(),size=15,fontWeight='Light')\n",
    "    printmd('Direct Subclasses: '+ \", \".join(subclass_current[:10]).capitalize(),size=15,fontWeight='Light')\n",
    "    printmd(\"Number of Instances: \" +str(Number_of_instances_of_current_class),size=15,fontWeight='Light')\n",
    "    printmd(\"Number of Superclasses: \" +str(len(direct_super_class_current)),size=15,fontWeight='Light')\n",
    "    printmd(\"Number of Subclasses: \" +str(len(subclass_current)),size=15,fontWeight='Light')\n",
    "    printmd(\"Examples for \" +class_label +\" Class\",'black',size=18)\n",
    "\n",
    "    #Create a dataframe corresponding to the above generated statistics\n",
    "    class_overview = pd.DataFrame([[\"Description\",description_current.capitalize()],[\"Aliases\",aliases_current.capitalize()],[\"Subclass of\",\", \".join(subclass_current).capitalize()],[\"Number of Instances\",Number_of_instances_of_current_class],[\"Number of Subclass\",len(subclass_current)],[\"Number of Superclass\",len(direct_super_class_current)]],columns=[\"Stat\",\"Value\"])\n",
    "\n",
    "    #Dynamically create the name of the output file where the overview would be stored\n",
    "    # Save the overview to the output file\n",
    "    output_file_overview = \"Class_overview.\"+class_label+\".overview.tsv\"\n",
    "    class_overview.to_csv(os.path.join(os.getenv(folder),output_file_overview),sep='\\t')\n",
    "\n",
    "    # Find the example instances of the class\n",
    "    #query to find the example instances of a class\n",
    "    #Dynamically create the name of the output file where the example instances would be stored\n",
    "    output_file_examples_temp = \"Class_overview.\"+class_label+\".examples.temp.tsv\"\n",
    "\n",
    "    cmd = \"$kgtk query -i $WIKIDATA_PARTS/$wikibase_item  -i $WIKIDATA_PARTS/$label -i $WIKIDATA_PARTS/$statistics  --graph-cache $STORE \\\n",
    "            -o $__folder/__output_file \\\n",
    "            --match 'item: (n1)-[l{label:llab}]->(n2:__class), label: (n1)-[:label]->(label), statistics:(:Q42)-[:vertex_pagerank]->(pagerank)' \\\n",
    "            --return ' distinct n1 as Link, kgtk_lqstring_text(label) as `Label_`, pagerank as Pagerank' \\\n",
    "            --where 'label.kgtk_lqstring_lang_suffix = \\\"en\\\" AND llab in [\\\"P31\\\"]' \\\n",
    "            --order-by 'pagerank' \"\n",
    "    df_class_example = run_command_return_df(cmd,raw_folder,output_file_examples_temp,{\"__output_file\":output_file_examples_temp,\"__class\":Current_Qnode,\"__folder\":raw_folder},_save,_restart)\n",
    "\n",
    "    #Remove the index from the dataframe\n",
    "    df_class_example = df_class_example.reset_index()\n",
    "    del df_class_example[\"index\"]\n",
    "\n",
    "    #Rename the column names so that it can be used in the kgtk querry\n",
    "    df_class_example_temp = df_class_example.rename(columns={\"Label_\":\"node2\",\"Pagerank\":\"label\",\"Link\":\"node1\"})\n",
    "\n",
    "    #Remove the index from the dataframe\n",
    "    df_class_example_temp = df_class_example_temp.reset_index()\n",
    "    del df_class_example_temp['index']\n",
    "    \n",
    "    \n",
    "    #This file is being saved for the GUI\n",
    "    output_file = \"Class_overview.\"+class_label+\".examples.tsv\"\n",
    "    #Saave the file to csv.\n",
    "    #This is the name of the temporary file which is created with the\n",
    "    #column names changed to [node1,label,node2] so that we can run kgtk query on it.\n",
    "    output_file_temp = \"temp.\"+output_file\n",
    "    df_class_example_temp.to_csv(os.path.join(os.getenv(raw_folder),output_file_temp),sep='\\t',index=False)\n",
    "\n",
    "    # Change the order of the Columns\n",
    "    df_class_example =  df_class_example[[\"Label_\",\"Pagerank\",\"Link\"]]\n",
    "    df_class_example['Link'] = df_class_example['Link'].apply(generate_link)\n",
    "    \n",
    "    df_class_example.to_csv(os.path.join(os.getenv(folder),output_file),sep='\\t')\n",
    "\n",
    "    display(HTML(df_class_example[:number_of_examples].to_html(index=False)))\n",
    "\n",
    "    #Add index to the instances of the class\n",
    "    cmd =\"$kgtk add-id -i $__folder/__output_file --id-style node1-label-node2 -o $__folder/__output_class_example_with_index\"\n",
    "    cmd = cmd.replace(\"__output_file\",output_file_temp);\n",
    "    \n",
    "    #This is the name of the temporary file which is created with the\n",
    "    #index added in it.\n",
    "    output_class_example_with_index = \"indexed.\" + output_file\n",
    "    cmd = cmd.replace(\"__output_class_example_with_index\",output_class_example_with_index);\n",
    "    cmd = cmd.replace(\"__folder\",raw_folder);\n",
    "    run_command(cmd)\n",
    "    \n",
    "    #Find labels for all the properties\n",
    "    df_label = find_label_property()\n",
    "    \n",
    "    #Dynamically create the name of the output file where the outgoing properties would be stored\n",
    "    output_file_prop = \"Class_overview.\"+class_label+\".outgoing_properties.tsv\"\n",
    "    df_prop_all = find_properties(class_label,df_class_example,df_label,output_class_example_with_index,_save=_save,_restart=_restart)\n",
    "    df_prop_all.to_csv(os.path.join(os.getenv(folder),output_file_prop),sep='\\t')\n",
    "\n",
    "    printmd(\"Distribution of outgoing Properties from instances of \" + class_label +\" Class\",'black',size=18)\n",
    "    display(HTML(df_prop_all[:number_of_outgoing_properties].to_html(index=False)))\n",
    "\n",
    "    #Dynamically create the name of the output file where the incoming properties would be stored\n",
    "    output_file_prop_incoming = \"Class_overview.\"+class_label +\".incoming_properties.tsv\"\n",
    "    df_prop_incoming = find_properties_incoming(class_label,df_class_example,df_label,output_class_example_with_index,_save=_save,_restart=_restart)\n",
    "    df_prop_incoming.to_csv(os.path.join(os.getenv(folder),output_file_prop_incoming),sep='\\t')\n",
    "\n",
    "    printmd(\"Distribution of incoming Properties to instances of \" + class_label +\" Class\",'black',size=18)\n",
    "    display(HTML(df_prop_incoming[:number_of_incoming_properties].to_html(index=False)))\n",
    "\n",
    "    printmd(\"------------------------------------------------------------------------------------------\")\n",
    "    if os.path.exists(os.path.join(os.getenv(raw_folder),output_file_temp)):\n",
    "        os.remove(os.path.join(os.getenv(raw_folder),output_file_temp))\n",
    "    if os.path.exists(os.path.join(os.getenv(raw_folder),output_class_example_with_index)):\n",
    "        os.remove(os.path.join(os.getenv(raw_folder),output_class_example_with_index))"
   ]
  },
  {
   "cell_type": "code",
   "execution_count": 24,
   "metadata": {
    "execution": {
     "iopub.execute_input": "2021-01-04T11:46:07.452512Z",
     "iopub.status.busy": "2021-01-04T11:46:07.451446Z",
     "iopub.status.idle": "2021-01-04T11:46:26.581938Z",
     "shell.execute_reply": "2021-01-04T11:46:26.582401Z"
    },
    "papermill": {
     "duration": 19.179916,
     "end_time": "2021-01-04T11:46:26.582556",
     "exception": false,
     "start_time": "2021-01-04T11:46:07.402640",
     "status": "completed"
    },
    "scrolled": false,
    "tags": []
   },
   "outputs": [
    {
     "data": {
      "text/html": [
       "<span style='font-weight: bold;margin-top=80px;margin-bottom=80px; font-size:25px; color:blue'>Overview of the Graph</span>"
      ],
      "text/plain": [
       "<IPython.core.display.HTML object>"
      ]
     },
     "metadata": {},
     "output_type": "display_data"
    },
    {
     "data": {
      "text/html": [
       "<span style='font-weight: Light;margin-top=80px;margin-bottom=80px; font-size:15px; color:black'>Number of Nodes in the Graph: 6241</span>"
      ],
      "text/plain": [
       "<IPython.core.display.HTML object>"
      ]
     },
     "metadata": {},
     "output_type": "display_data"
    },
    {
     "data": {
      "text/html": [
       "<span style='font-weight: Light;margin-top=80px;margin-bottom=80px; font-size:15px; color:black'>Number of Edges in the Graph: 155223</span>"
      ],
      "text/plain": [
       "<IPython.core.display.HTML object>"
      ]
     },
     "metadata": {},
     "output_type": "display_data"
    },
    {
     "data": {
      "text/html": [
       "<span style='font-weight: Light;margin-top=80px;margin-bottom=80px; font-size:15px; color:black'>Number of Classes in the Graph: 0</span>"
      ],
      "text/plain": [
       "<IPython.core.display.HTML object>"
      ]
     },
     "metadata": {},
     "output_type": "display_data"
    },
    {
     "data": {
      "text/html": [
       "<span style='font-weight: Light;margin-top=80px;margin-bottom=80px; font-size:15px; color:black'>Number of Properties in the Graph: 1507</span>"
      ],
      "text/plain": [
       "<IPython.core.display.HTML object>"
      ]
     },
     "metadata": {},
     "output_type": "display_data"
    }
   ],
   "source": [
    "#Types contain tuple of the environmnet variable corresponding to the input property file, \n",
    "#the name of the Datatype and environmnet variable corresponding to the output file.\n",
    "try:\n",
    "    number_of_node = 0\n",
    "    number_of_edges = 0\n",
    "    number_of_classes = 0\n",
    "    number_of_properties = 0\n",
    "    printmd(\"Overview of the Graph\",'blue')\n",
    "\n",
    "    cmd = \"$kgtk query -i $WIKIDATA_PARTS/$wikibase_item --graph-cache $STORE \\\n",
    "    -o $__folder/__output_file \\\n",
    "    --match 'item: (n1)-[l]->(n2)' \\\n",
    "    --return 'count(distinct n1) as number_of_nodes' \"\n",
    "\n",
    "    output_file_number_of_nodes = \"Overview.number_of_nodes.raw.tsv\"\n",
    "    df_temp = run_command_return_df(cmd,\"RAW_FILES_OVERVIEW\",output_file_number_of_nodes,{\"__output_file\":output_file_number_of_nodes,\"__folder\":\"RAW_FILES_OVERVIEW\"},True,True)\n",
    "    number_of_nodes = df_temp.iloc[0]['number_of_nodes']\n",
    "\n",
    "    number_of_edges = 0\n",
    "    # finding the edges for each of the property data type\n",
    "    for type_,name,file in types_with_fileName:\n",
    "        cmd = \"$kgtk query -i $WIKIDATA_PARTS/$__type --graph-cache $STORE \\\n",
    "        -o $__folder/__output_file \\\n",
    "        --match 'claims: (n1)-[l{label:llab}]->(n2)' \\\n",
    "        --return 'count(llab) as number_of_edges' \"\n",
    "        type_label = re.sub(\"[^0-9a-zA-Z]+\", \"_\", type_)\n",
    "        output_file_number_of_edges_type = \"Overview.number_of_edges.\"+type_label+\".raw.tsv\"\n",
    "        df_temp = run_command_return_df(cmd,\"RAW_FILES_OVERVIEW\",output_file_number_of_edges_type,{\"__output_file\":output_file_number_of_edges_type,\"__type\":type_,\"__folder\":\"RAW_FILES_OVERVIEW\"},True,True)\n",
    "        if len(df_temp)>0:\n",
    "            number_of_edges += df_temp.iloc[0]['number_of_edges']\n",
    "\n",
    "    #Finding the number of classes in the subgraph        \n",
    "    cmd = \"$kgtk query -i $WIKIDATA_PARTS/$wikibase_item --graph-cache $STORE \\\n",
    "    -o $__folder/__output_file \\\n",
    "    --match 'item: (n1)-[l{label:llab}]->(n2)' \\\n",
    "    --where 'llab in [\\\"P279\\\"]' \\\n",
    "    --return 'count(distinct n2) as number_of_classes' \"\n",
    "\n",
    "    output_file_number_of_classes = \"Overview.number_of_classes.raw.tsv\"\n",
    "    df_temp = run_command_return_df(cmd,\"RAW_FILES_OVERVIEW\",output_file_number_of_classes,{\"__output_file\":output_file_number_of_classes,\"__folder\":\"RAW_FILES_OVERVIEW\"},True,True)\n",
    "    number_of_classes = df_temp.iloc[0]['number_of_classes']\n",
    "\n",
    "    number_of_properties = 0\n",
    "    #Finding the number of properties in the sub graph\n",
    "    for type_,name,file in types_with_fileName:\n",
    "        cmd = \"$kgtk query -i $WIKIDATA_PARTS/$__type --graph-cache $STORE \\\n",
    "        -o $__folder/__output_file \\\n",
    "        --match 'claims: (n1)-[l{label:llab}]->(n2)' \\\n",
    "        --return 'count(distinct llab) as number_of_properties' \"\n",
    "        type_label = re.sub(\"[^0-9a-zA-Z]+\", \"_\", type_)\n",
    "        output_file_number_of_properties_type = \"Overview.number_of_properties.\"+type_label+\".raw.tsv\"\n",
    "        df_temp = run_command_return_df(cmd,\"RAW_FILES_OVERVIEW\",output_file_number_of_properties_type,{\"__output_file\":output_file_number_of_properties_type,\"__type\":type_,\"__folder\":\"RAW_FILES_OVERVIEW\"},True,True)\n",
    "        if len(df_temp)>0:\n",
    "            number_of_properties += df_temp.iloc[0]['number_of_properties']\n",
    "\n",
    "    df_stats = pd.DataFrame([[\"Number of Nodes\",number_of_nodes],[\"Number of Edges\",number_of_edges],[\"Number of Classes\",number_of_classes],[\"Number of Properties\",number_of_properties]],columns=['Statistics', 'Value'])\n",
    "    printmd(\"Number of Nodes in the Graph: \"+str(number_of_nodes),size=15,fontWeight='Light')\n",
    "    printmd(\"Number of Edges in the Graph: \"+str(number_of_edges),size=15,fontWeight='Light')\n",
    "    printmd(\"Number of Classes in the Graph: \"+str(number_of_classes),size=15,fontWeight='Light')\n",
    "    printmd(\"Number of Properties in the Graph: \"+str(number_of_properties),size=15,fontWeight='Light')\n",
    "    df_stats.to_csv(os.path.join(os.getenv('OVERVIEW_FOLDER'),os.getenv('stats')),sep='\\t')\n",
    "except Exception as e:\n",
    "    print(e)"
   ]
  },
  {
   "cell_type": "code",
   "execution_count": 25,
   "metadata": {
    "execution": {
     "iopub.execute_input": "2021-01-04T11:46:26.687977Z",
     "iopub.status.busy": "2021-01-04T11:46:26.686655Z",
     "iopub.status.idle": "2021-01-04T11:46:26.692355Z",
     "shell.execute_reply": "2021-01-04T11:46:26.691695Z"
    },
    "papermill": {
     "duration": 0.065701,
     "end_time": "2021-01-04T11:46:26.692498",
     "exception": false,
     "start_time": "2021-01-04T11:46:26.626797",
     "status": "completed"
    },
    "scrolled": false,
    "tags": []
   },
   "outputs": [
    {
     "data": {
      "text/html": [
       "<span style='font-weight: bold;margin-top=80px;margin-bottom=80px; font-size:18px; color:black'>There is no information about the degree for this subgraph</span>"
      ],
      "text/plain": [
       "<IPython.core.display.HTML object>"
      ]
     },
     "metadata": {},
     "output_type": "display_data"
    }
   ],
   "source": [
    "# /Volumes/BACKUP/Data_isi/wikidata_/parts/claims.wikibase-item.tsv.gz\n",
    "try:\n",
    "#     This query finds the statistics for all the nodes in wikibase_item and save it in a file\n",
    "    file_path = os.path.join(os.getenv(\"WIKIDATA_PARTS\"),\"claims.statistics.tsv.gz\")\n",
    "    if os.path.exists(file_path):\n",
    "        cmd = \"$kgtk query -i $WIKIDATA_PARTS/$wikibase_item -i $WIKIDATA_PARTS/claims.statistics.tsv.gz --graph-cache $STORE \\\n",
    "        -o $__folder/$all_degree \\\n",
    "        --match 'item: (n1)-[l]->(n2), statistics:(n1)-[stats_property{label: llab}]->(stats) ' \\\n",
    "        --return 'distinct n1 as node1, llab as `label`, stats as node2' \"\n",
    "        run_command_return_df(cmd,\"RAW_FILES_OVERVIEW\",os.getenv('all_degree'),{\"__folder\":\"RAW_FILES_OVERVIEW\"},True,True)\n",
    "\n",
    "\n",
    "        cmd =\"$kgtk add-id -i $RAW_FILES_OVERVIEW/$all_degree --id-style node1-label-node2 -o $RAW_FILES_OVERVIEW/all_degree.temp.tsv\"\n",
    "        run_command_return_df(cmd,\"RAW_FILES_OVERVIEW\",\"all_degree.temp.tsv\",{},True,True)\n",
    "\n",
    "        cmd = \"kgtk --debug query -i $RAW_FILES_OVERVIEW/all_degree.temp.tsv --graph-cache $STORE \\\n",
    "        -o $__folder/__output_file \\\n",
    "        --match 'tsv: (n1)-[l{label:llab}]->(n2)' \\\n",
    "        --where 'llab in [\\\"vertex_in_degree\\\"]' \\\n",
    "        --return 'avg(n2) as indegree_avg, min(n2) as indegree_min, max(n2) as indegree_max' \"\n",
    "\n",
    "        output_file_in_degree = \"Overview.in_degree.raw.tsv\"\n",
    "        df_temp = run_command_return_df(cmd,\"RAW_FILES_OVERVIEW\",output_file_in_degree,{\"__output_file\":output_file_in_degree,\"__folder\":\"RAW_FILES_OVERVIEW\"},True,True)\n",
    "        indegree_avg = df_temp.iloc[0]['indegree_avg']\n",
    "        indegree_min  = df_temp.iloc[0]['indegree_min']\n",
    "        indegree_max = df_temp.iloc[0]['indegree_max']\n",
    "\n",
    "        cmd = \"kgtk --debug query -i $RAW_FILES_OVERVIEW/all_degree.temp.tsv --graph-cache $STORE \\\n",
    "        -o $__folder/__output_file \\\n",
    "        --match 'tsv: (n1)-[l{label:llab}]->(n2)' \\\n",
    "        --where 'llab in [\\\"vertex_out_degree\\\"]' \\\n",
    "        --return 'avg(n2) as outdegree_avg, min(n2) as outdegree_min, max(n2) as outdegree_max' \"\n",
    "\n",
    "\n",
    "        output_file_out_degree = \"Overview.out_degree.raw.tsv\"\n",
    "        df_temp = run_command_return_df(cmd,\"RAW_FILES_OVERVIEW\",output_file_out_degree,{\"__output_file\":output_file_out_degree,\"__folder\":\"RAW_FILES_OVERVIEW\"},True,True)\n",
    "        outdegree_avg  = df_temp.iloc[0]['outdegree_avg']\n",
    "        outdegree_min  = df_temp.iloc[0]['outdegree_min']\n",
    "        outdegree_max = df_temp.iloc[0]['outdegree_max']\n",
    "        printmd(\"Overview of the Graph\",'blue')\n",
    "        if(indegree_avg == 0 or outdegree_avg == 0):\n",
    "            printmd(\"There is no information about the degree for this subgraph\",size=18)\n",
    "        else:\n",
    "            df_degree = pd.DataFrame([[\"in-degree\",indegree_avg,indegree_min,indegree_max],[\"out-degree\",outdegree_avg,outdegree_min,outdegree_max]],columns=[\"Stat\",\"Average\",\"Min\",\"Max\"])\n",
    "            df_degree.to_csv(os.path.join(os.getenv('OVERVIEW_FOLDER'),os.getenv('degree')),sep='\\t')\n",
    "\n",
    "            printmd(\"Average in-degree of the Graph: \"+str(indegree_avg),size=15,fontWeight='Light')\n",
    "            printmd(\"Minimum in-degree of the Graph: \"+str(indegree_min),size=15,fontWeight='Light')\n",
    "            printmd(\"Maximum in-degree of the Graph: \"+str(indegree_max),size=15,fontWeight='Light')\n",
    "            printmd(\"Average out-degree of the Graph: \"+str(outdegree_avg),size=15,fontWeight='Light')\n",
    "            printmd(\"Minimum out-degree of the Graph: \"+str(int(outdegree_min)),size=15,fontWeight='Light')\n",
    "            printmd(\"Maximum out-degree of the Graph: \"+str(int(outdegree_max)),size=15,fontWeight='Light')\n",
    "    else:\n",
    "        printmd(\"There is no information about the degree for this subgraph\",size=18)\n",
    "# if os.path.exists(os.path.join(os.getenv('OVERVIEW_FOLDER'),os.getenv('all_degree'))):\n",
    "#     os.remove(os.path.join(os.getenv('OVERVIEW_FOLDER'),os.getenv('all_degree')))\n",
    "# if os.path.exists(os.path.join(os.getenv('OVERVIEW_FOLDER'),\"all_degree.temp.tsv\")):\n",
    "#     os.remove(os.path.join(os.getenv('OVERVIEW_FOLDER'),\"all_degree.temp.tsv\"))\n",
    "except Exception as e:\n",
    "    print(e)"
   ]
  },
  {
   "cell_type": "code",
   "execution_count": 26,
   "metadata": {
    "execution": {
     "iopub.execute_input": "2021-01-04T11:46:26.791447Z",
     "iopub.status.busy": "2021-01-04T11:46:26.790659Z",
     "iopub.status.idle": "2021-01-04T11:56:52.435393Z",
     "shell.execute_reply": "2021-01-04T11:56:52.432818Z"
    },
    "papermill": {
     "duration": 625.700157,
     "end_time": "2021-01-04T11:56:52.437208",
     "exception": false,
     "start_time": "2021-01-04T11:46:26.737051",
     "status": "completed"
    },
    "scrolled": false,
    "tags": []
   },
   "outputs": [
    {
     "data": {
      "text/html": [
       "<span style='font-weight: bold;margin-top=80px;margin-bottom=80px; font-size:25px; color:blue'>Class Summary of the Subgraph</span>"
      ],
      "text/plain": [
       "<IPython.core.display.HTML object>"
      ]
     },
     "metadata": {},
     "output_type": "display_data"
    },
    {
     "data": {
      "text/html": [
       "<span style='font-weight: Light;margin-top=80px;margin-bottom=80px; font-size:15px; color:black'>Below is the list of Top K Classes of the Subgraph ordered based on number of instances</span>"
      ],
      "text/plain": [
       "<IPython.core.display.HTML object>"
      ]
     },
     "metadata": {},
     "output_type": "display_data"
    },
    {
     "data": {
      "text/html": [
       "<table border=\"1\" class=\"dataframe\">\n",
       "  <thead>\n",
       "    <tr style=\"text-align: right;\">\n",
       "      <th>Class_Label</th>\n",
       "      <th>Number of Instances</th>\n",
       "      <th>Link</th>\n",
       "    </tr>\n",
       "  </thead>\n",
       "  <tbody>\n",
       "    <tr>\n",
       "      <td>Other Classes</td>\n",
       "      <td>0</td>\n",
       "      <td>NA</td>\n",
       "    </tr>\n",
       "  </tbody>\n",
       "</table>"
      ],
      "text/plain": [
       "<IPython.core.display.HTML object>"
      ]
     },
     "metadata": {},
     "output_type": "display_data"
    }
   ],
   "source": [
    "try:\n",
    "    # This query finds all the classes based on number of Instances\n",
    "    cmd = \"$kgtk query -i $WIKIDATA_PARTS/$wikibase_item -i $WIKIDATA_PARTS/$label --graph-cache $STORE \\\n",
    "    -o $__folder/__output_file \\\n",
    "    --match 'item: (n1)-[l{label:llab}]->(n2), label: (n2)-[:label]->(label_n2)' \\\n",
    "    --return 'distinct n2 as Link, kgtk_lqstring_text(label_n2) as `Class_Label`, count(distinct n1) as `Number of Instances`' \\\n",
    "    --where 'label_n2.kgtk_lqstring_lang_suffix = \\\"en\\\" AND (llab IN [\\\"P31\\\"])  ' \\\n",
    "    --order-by 'count(distinct n1) desc' \"\n",
    "\n",
    "    # Find all the classes in the sub graph\n",
    "    output_file_temp_class_summary = \"temp.\"+os.getenv('class_summary')\n",
    "    df_class_summary = run_command_return_df(cmd,\"RAW_FILES_CLASS\",output_file_temp_class_summary,{\"__output_file\":output_file_temp_class_summary,\"__folder\":\"RAW_FILES_CLASS\"},True,True)\n",
    "\n",
    "    #The statistics for top K properties are generated and sum of Number of instances for \n",
    "    #the remaining properties are stored in other_instances\n",
    "    other_instances = df_class_summary[int(int_k):][\"Number of Instances\"].sum()\n",
    "\n",
    "    #Take top K properties and disregard rest of the properties\n",
    "    df_class_summary = df_class_summary[:int(int_k)]\n",
    "\n",
    "    #Take top K properties and disregard rest of the properties\n",
    "    df_class_summary = df_class_summary[[\"Class_Label\",\"Number of Instances\",\"Link\"]]\n",
    "\n",
    "    df_class_summary = df_class_summary.append({\"Class_Label\":\"Other Classes\",\"Number of Instances\":other_instances,\"Link\":\"NA\"},ignore_index=True)\n",
    "\n",
    "    #Generate hyperlinks from the qnode/pnode\n",
    "    df_class_summary['Link'] = df_class_summary['Link'].apply(generate_link)\n",
    "\n",
    "    #Save the dataframe to the output file\n",
    "    df_class_summary.to_csv(os.path.join(os.getenv('OVERVIEW_FOLDER'),os.getenv('class_summary')),sep='\\t')\n",
    "    printmd(\"Class Summary of the Subgraph\",'blue')\n",
    "    if(len(df_class_summary)>0):\n",
    "        printmd(\"Below is the list of Top K Classes of the Subgraph ordered based on number of instances\",size=\"15\",fontWeight=\"Light\")\n",
    "        display(HTML(df_class_summary.to_html(index=False)))\n",
    "    else:\n",
    "        printmd(\"There is no information about Classes(identified by 'P31') in this graph\")\n",
    "except Exception as e:\n",
    "    print(e)"
   ]
  },
  {
   "cell_type": "code",
   "execution_count": 27,
   "metadata": {
    "execution": {
     "iopub.execute_input": "2021-01-04T11:56:52.574658Z",
     "iopub.status.busy": "2021-01-04T11:56:52.572259Z",
     "iopub.status.idle": "2021-01-04T11:57:06.608807Z",
     "shell.execute_reply": "2021-01-04T11:57:06.608145Z"
    },
    "papermill": {
     "duration": 14.11425,
     "end_time": "2021-01-04T11:57:06.608949",
     "exception": false,
     "start_time": "2021-01-04T11:56:52.494699",
     "status": "completed"
    },
    "scrolled": false,
    "tags": []
   },
   "outputs": [
    {
     "data": {
      "text/html": [
       "<span style='font-weight: bold;margin-top=80px;margin-bottom=80px; font-size:25px; color:blue'>Datatype: Time</span>"
      ],
      "text/plain": [
       "<IPython.core.display.HTML object>"
      ]
     },
     "metadata": {},
     "output_type": "display_data"
    },
    {
     "data": {
      "text/html": [
       "<span style='font-weight: Light;margin-top=80px;margin-bottom=80px; font-size:15px; color:black'>Below are the top K properties of Datatype:Time  ordered based on number of statements</span>"
      ],
      "text/plain": [
       "<IPython.core.display.HTML object>"
      ]
     },
     "metadata": {},
     "output_type": "display_data"
    },
    {
     "data": {
      "text/html": [
       "<table border=\"1\" class=\"dataframe\">\n",
       "  <thead>\n",
       "    <tr style=\"text-align: right;\">\n",
       "      <th>Property_Label</th>\n",
       "      <th>Number_of_Statements</th>\n",
       "      <th>Link</th>\n",
       "    </tr>\n",
       "  </thead>\n",
       "  <tbody>\n",
       "    <tr>\n",
       "      <td>inception</td>\n",
       "      <td>1341</td>\n",
       "      <td>https://www.wikidata.org/wiki/Property:P571</td>\n",
       "    </tr>\n",
       "    <tr>\n",
       "      <td>dissolved, abolished or demolished</td>\n",
       "      <td>105</td>\n",
       "      <td>https://www.wikidata.org/wiki/Property:P576</td>\n",
       "    </tr>\n",
       "    <tr>\n",
       "      <td>date of birth</td>\n",
       "      <td>68</td>\n",
       "      <td>https://www.wikidata.org/wiki/Property:P569</td>\n",
       "    </tr>\n",
       "    <tr>\n",
       "      <td>date of death</td>\n",
       "      <td>52</td>\n",
       "      <td>https://www.wikidata.org/wiki/Property:P570</td>\n",
       "    </tr>\n",
       "    <tr>\n",
       "      <td>publication date</td>\n",
       "      <td>52</td>\n",
       "      <td>https://www.wikidata.org/wiki/Property:P577</td>\n",
       "    </tr>\n",
       "    <tr>\n",
       "      <td>start time</td>\n",
       "      <td>20</td>\n",
       "      <td>https://www.wikidata.org/wiki/Property:P580</td>\n",
       "    </tr>\n",
       "    <tr>\n",
       "      <td>time of earliest written record</td>\n",
       "      <td>19</td>\n",
       "      <td>https://www.wikidata.org/wiki/Property:P1249</td>\n",
       "    </tr>\n",
       "    <tr>\n",
       "      <td>work period (start)</td>\n",
       "      <td>15</td>\n",
       "      <td>https://www.wikidata.org/wiki/Property:P2031</td>\n",
       "    </tr>\n",
       "    <tr>\n",
       "      <td>end time</td>\n",
       "      <td>13</td>\n",
       "      <td>https://www.wikidata.org/wiki/Property:P582</td>\n",
       "    </tr>\n",
       "    <tr>\n",
       "      <td>time of discovery or invention</td>\n",
       "      <td>12</td>\n",
       "      <td>https://www.wikidata.org/wiki/Property:P575</td>\n",
       "    </tr>\n",
       "    <tr>\n",
       "      <td>Other Properties</td>\n",
       "      <td>22</td>\n",
       "      <td>NA</td>\n",
       "    </tr>\n",
       "  </tbody>\n",
       "</table>"
      ],
      "text/plain": [
       "<IPython.core.display.HTML object>"
      ]
     },
     "metadata": {},
     "output_type": "display_data"
    },
    {
     "data": {
      "text/html": [
       "<span style='font-weight: bold;margin-top=80px;margin-bottom=80px; font-size:25px; color:black'>------------------------------------------------------------------------------------------</span>"
      ],
      "text/plain": [
       "<IPython.core.display.HTML object>"
      ]
     },
     "metadata": {},
     "output_type": "display_data"
    },
    {
     "data": {
      "text/html": [
       "<span style='font-weight: bold;margin-top=80px;margin-bottom=80px; font-size:25px; color:blue'>Datatype: Wikibase_item</span>"
      ],
      "text/plain": [
       "<IPython.core.display.HTML object>"
      ]
     },
     "metadata": {},
     "output_type": "display_data"
    },
    {
     "data": {
      "text/html": [
       "<span style='font-weight: Light;margin-top=80px;margin-bottom=80px; font-size:15px; color:black'>Below are the top K properties of Datatype:Wikibase_item  ordered based on number of statements</span>"
      ],
      "text/plain": [
       "<IPython.core.display.HTML object>"
      ]
     },
     "metadata": {},
     "output_type": "display_data"
    },
    {
     "data": {
      "text/html": [
       "<table border=\"1\" class=\"dataframe\">\n",
       "  <thead>\n",
       "    <tr style=\"text-align: right;\">\n",
       "      <th>Property_Label</th>\n",
       "      <th>Number_of_Statements</th>\n",
       "      <th>Link</th>\n",
       "    </tr>\n",
       "  </thead>\n",
       "  <tbody>\n",
       "    <tr>\n",
       "      <td>contains administrative territorial entity</td>\n",
       "      <td>14531</td>\n",
       "      <td>https://www.wikidata.org/wiki/Property:P150</td>\n",
       "    </tr>\n",
       "    <tr>\n",
       "      <td>language used</td>\n",
       "      <td>5513</td>\n",
       "      <td>https://www.wikidata.org/wiki/Property:P2936</td>\n",
       "    </tr>\n",
       "    <tr>\n",
       "      <td>diplomatic relation</td>\n",
       "      <td>4440</td>\n",
       "      <td>https://www.wikidata.org/wiki/Property:P530</td>\n",
       "    </tr>\n",
       "    <tr>\n",
       "      <td>Wikidata property example</td>\n",
       "      <td>3765</td>\n",
       "      <td>https://www.wikidata.org/wiki/Property:P1855</td>\n",
       "    </tr>\n",
       "    <tr>\n",
       "      <td>shares border with</td>\n",
       "      <td>2865</td>\n",
       "      <td>https://www.wikidata.org/wiki/Property:P47</td>\n",
       "    </tr>\n",
       "    <tr>\n",
       "      <td>member of</td>\n",
       "      <td>2818</td>\n",
       "      <td>https://www.wikidata.org/wiki/Property:P463</td>\n",
       "    </tr>\n",
       "    <tr>\n",
       "      <td>country</td>\n",
       "      <td>2614</td>\n",
       "      <td>https://www.wikidata.org/wiki/Property:P17</td>\n",
       "    </tr>\n",
       "    <tr>\n",
       "      <td>material used</td>\n",
       "      <td>1461</td>\n",
       "      <td>https://www.wikidata.org/wiki/Property:P186</td>\n",
       "    </tr>\n",
       "    <tr>\n",
       "      <td>located in the administrative territorial entity</td>\n",
       "      <td>1387</td>\n",
       "      <td>https://www.wikidata.org/wiki/Property:P131</td>\n",
       "    </tr>\n",
       "    <tr>\n",
       "      <td>described by source</td>\n",
       "      <td>1306</td>\n",
       "      <td>https://www.wikidata.org/wiki/Property:P1343</td>\n",
       "    </tr>\n",
       "    <tr>\n",
       "      <td>Other Properties</td>\n",
       "      <td>26297</td>\n",
       "      <td>NA</td>\n",
       "    </tr>\n",
       "  </tbody>\n",
       "</table>"
      ],
      "text/plain": [
       "<IPython.core.display.HTML object>"
      ]
     },
     "metadata": {},
     "output_type": "display_data"
    },
    {
     "data": {
      "text/html": [
       "<span style='font-weight: bold;margin-top=80px;margin-bottom=80px; font-size:25px; color:black'>------------------------------------------------------------------------------------------</span>"
      ],
      "text/plain": [
       "<IPython.core.display.HTML object>"
      ]
     },
     "metadata": {},
     "output_type": "display_data"
    },
    {
     "data": {
      "text/html": [
       "<span style='font-weight: bold;margin-top=80px;margin-bottom=80px; font-size:25px; color:blue'>Datatype: Math</span>"
      ],
      "text/plain": [
       "<IPython.core.display.HTML object>"
      ]
     },
     "metadata": {},
     "output_type": "display_data"
    },
    {
     "data": {
      "text/html": [
       "<span style='font-weight: Light;margin-top=80px;margin-bottom=80px; font-size:15px; color:black'>No Property is present for Datatype:Math</span>"
      ],
      "text/plain": [
       "<IPython.core.display.HTML object>"
      ]
     },
     "metadata": {},
     "output_type": "display_data"
    },
    {
     "data": {
      "text/html": [
       "<span style='font-weight: bold;margin-top=80px;margin-bottom=80px; font-size:25px; color:black'>------------------------------------------------------------------------------------------</span>"
      ],
      "text/plain": [
       "<IPython.core.display.HTML object>"
      ]
     },
     "metadata": {},
     "output_type": "display_data"
    },
    {
     "data": {
      "text/html": [
       "<span style='font-weight: bold;margin-top=80px;margin-bottom=80px; font-size:25px; color:blue'>Datatype: Wikibase-form</span>"
      ],
      "text/plain": [
       "<IPython.core.display.HTML object>"
      ]
     },
     "metadata": {},
     "output_type": "display_data"
    },
    {
     "data": {
      "text/html": [
       "<span style='font-weight: Light;margin-top=80px;margin-bottom=80px; font-size:15px; color:black'>No Property is present for Datatype:Wikibase-form</span>"
      ],
      "text/plain": [
       "<IPython.core.display.HTML object>"
      ]
     },
     "metadata": {},
     "output_type": "display_data"
    },
    {
     "data": {
      "text/html": [
       "<span style='font-weight: bold;margin-top=80px;margin-bottom=80px; font-size:25px; color:black'>------------------------------------------------------------------------------------------</span>"
      ],
      "text/plain": [
       "<IPython.core.display.HTML object>"
      ]
     },
     "metadata": {},
     "output_type": "display_data"
    },
    {
     "data": {
      "text/html": [
       "<span style='font-weight: bold;margin-top=80px;margin-bottom=80px; font-size:25px; color:blue'>Datatype: Quantity</span>"
      ],
      "text/plain": [
       "<IPython.core.display.HTML object>"
      ]
     },
     "metadata": {},
     "output_type": "display_data"
    },
    {
     "data": {
      "text/html": [
       "<span style='font-weight: Light;margin-top=80px;margin-bottom=80px; font-size:15px; color:black'>Below are the top K properties of Datatype:Quantity  ordered based on number of statements</span>"
      ],
      "text/plain": [
       "<IPython.core.display.HTML object>"
      ]
     },
     "metadata": {},
     "output_type": "display_data"
    },
    {
     "data": {
      "text/html": [
       "<table border=\"1\" class=\"dataframe\">\n",
       "  <thead>\n",
       "    <tr style=\"text-align: right;\">\n",
       "      <th>Property_Label</th>\n",
       "      <th>Number_of_Statements</th>\n",
       "      <th>Link</th>\n",
       "    </tr>\n",
       "  </thead>\n",
       "  <tbody>\n",
       "    <tr>\n",
       "      <td>population</td>\n",
       "      <td>7366</td>\n",
       "      <td>https://www.wikidata.org/wiki/Property:P1082</td>\n",
       "    </tr>\n",
       "    <tr>\n",
       "      <td>nominal GDP</td>\n",
       "      <td>4455</td>\n",
       "      <td>https://www.wikidata.org/wiki/Property:P2131</td>\n",
       "    </tr>\n",
       "    <tr>\n",
       "      <td>nominal GDP per capita</td>\n",
       "      <td>4412</td>\n",
       "      <td>https://www.wikidata.org/wiki/Property:P2132</td>\n",
       "    </tr>\n",
       "    <tr>\n",
       "      <td>total reserves</td>\n",
       "      <td>4313</td>\n",
       "      <td>https://www.wikidata.org/wiki/Property:P2134</td>\n",
       "    </tr>\n",
       "    <tr>\n",
       "      <td>Human Development Index</td>\n",
       "      <td>3442</td>\n",
       "      <td>https://www.wikidata.org/wiki/Property:P1081</td>\n",
       "    </tr>\n",
       "    <tr>\n",
       "      <td>inflation rate</td>\n",
       "      <td>2807</td>\n",
       "      <td>https://www.wikidata.org/wiki/Property:P1279</td>\n",
       "    </tr>\n",
       "    <tr>\n",
       "      <td>PPP GDP per capita</td>\n",
       "      <td>2618</td>\n",
       "      <td>https://www.wikidata.org/wiki/Property:P2299</td>\n",
       "    </tr>\n",
       "    <tr>\n",
       "      <td>GDP (PPP)</td>\n",
       "      <td>2583</td>\n",
       "      <td>https://www.wikidata.org/wiki/Property:P4010</td>\n",
       "    </tr>\n",
       "    <tr>\n",
       "      <td>life expectancy</td>\n",
       "      <td>1816</td>\n",
       "      <td>https://www.wikidata.org/wiki/Property:P2250</td>\n",
       "    </tr>\n",
       "    <tr>\n",
       "      <td>total fertility rate</td>\n",
       "      <td>1533</td>\n",
       "      <td>https://www.wikidata.org/wiki/Property:P4841</td>\n",
       "    </tr>\n",
       "    <tr>\n",
       "      <td>Other Properties</td>\n",
       "      <td>4581</td>\n",
       "      <td>NA</td>\n",
       "    </tr>\n",
       "  </tbody>\n",
       "</table>"
      ],
      "text/plain": [
       "<IPython.core.display.HTML object>"
      ]
     },
     "metadata": {},
     "output_type": "display_data"
    },
    {
     "data": {
      "text/html": [
       "<span style='font-weight: bold;margin-top=80px;margin-bottom=80px; font-size:25px; color:black'>------------------------------------------------------------------------------------------</span>"
      ],
      "text/plain": [
       "<IPython.core.display.HTML object>"
      ]
     },
     "metadata": {},
     "output_type": "display_data"
    },
    {
     "data": {
      "text/html": [
       "<span style='font-weight: bold;margin-top=80px;margin-bottom=80px; font-size:25px; color:blue'>Datatype: String</span>"
      ],
      "text/plain": [
       "<IPython.core.display.HTML object>"
      ]
     },
     "metadata": {},
     "output_type": "display_data"
    },
    {
     "data": {
      "text/html": [
       "<span style='font-weight: Light;margin-top=80px;margin-bottom=80px; font-size:15px; color:black'>Below are the top K properties of Datatype:String  ordered based on number of statements</span>"
      ],
      "text/plain": [
       "<IPython.core.display.HTML object>"
      ]
     },
     "metadata": {},
     "output_type": "display_data"
    },
    {
     "data": {
      "text/html": [
       "<table border=\"1\" class=\"dataframe\">\n",
       "  <thead>\n",
       "    <tr style=\"text-align: right;\">\n",
       "      <th>Property_Label</th>\n",
       "      <th>Number_of_Statements</th>\n",
       "      <th>Link</th>\n",
       "    </tr>\n",
       "  </thead>\n",
       "  <tbody>\n",
       "    <tr>\n",
       "      <td>Commons category</td>\n",
       "      <td>1820</td>\n",
       "      <td>https://www.wikidata.org/wiki/Property:P373</td>\n",
       "    </tr>\n",
       "    <tr>\n",
       "      <td>postal code</td>\n",
       "      <td>482</td>\n",
       "      <td>https://www.wikidata.org/wiki/Property:P281</td>\n",
       "    </tr>\n",
       "    <tr>\n",
       "      <td>Commons gallery</td>\n",
       "      <td>458</td>\n",
       "      <td>https://www.wikidata.org/wiki/Property:P935</td>\n",
       "    </tr>\n",
       "    <tr>\n",
       "      <td>licence plate code</td>\n",
       "      <td>272</td>\n",
       "      <td>https://www.wikidata.org/wiki/Property:P395</td>\n",
       "    </tr>\n",
       "    <tr>\n",
       "      <td>IPA transcription</td>\n",
       "      <td>210</td>\n",
       "      <td>https://www.wikidata.org/wiki/Property:P898</td>\n",
       "    </tr>\n",
       "    <tr>\n",
       "      <td>local dialing code</td>\n",
       "      <td>169</td>\n",
       "      <td>https://www.wikidata.org/wiki/Property:P473</td>\n",
       "    </tr>\n",
       "    <tr>\n",
       "      <td>Unicode character</td>\n",
       "      <td>148</td>\n",
       "      <td>https://www.wikidata.org/wiki/Property:P487</td>\n",
       "    </tr>\n",
       "    <tr>\n",
       "      <td>maritime identification digits</td>\n",
       "      <td>134</td>\n",
       "      <td>https://www.wikidata.org/wiki/Property:P2979</td>\n",
       "    </tr>\n",
       "    <tr>\n",
       "      <td>GS1 country code</td>\n",
       "      <td>106</td>\n",
       "      <td>https://www.wikidata.org/wiki/Property:P3067</td>\n",
       "    </tr>\n",
       "    <tr>\n",
       "      <td>mobile country code</td>\n",
       "      <td>102</td>\n",
       "      <td>https://www.wikidata.org/wiki/Property:P2258</td>\n",
       "    </tr>\n",
       "    <tr>\n",
       "      <td>Other Properties</td>\n",
       "      <td>556</td>\n",
       "      <td>NA</td>\n",
       "    </tr>\n",
       "  </tbody>\n",
       "</table>"
      ],
      "text/plain": [
       "<IPython.core.display.HTML object>"
      ]
     },
     "metadata": {},
     "output_type": "display_data"
    },
    {
     "data": {
      "text/html": [
       "<span style='font-weight: bold;margin-top=80px;margin-bottom=80px; font-size:25px; color:black'>------------------------------------------------------------------------------------------</span>"
      ],
      "text/plain": [
       "<IPython.core.display.HTML object>"
      ]
     },
     "metadata": {},
     "output_type": "display_data"
    },
    {
     "data": {
      "text/html": [
       "<span style='font-weight: bold;margin-top=80px;margin-bottom=80px; font-size:25px; color:blue'>Datatype: External-id</span>"
      ],
      "text/plain": [
       "<IPython.core.display.HTML object>"
      ]
     },
     "metadata": {},
     "output_type": "display_data"
    },
    {
     "data": {
      "text/html": [
       "<span style='font-weight: Light;margin-top=80px;margin-bottom=80px; font-size:15px; color:black'>Below are the top K properties of Datatype:External-id  ordered based on number of statements</span>"
      ],
      "text/plain": [
       "<IPython.core.display.HTML object>"
      ]
     },
     "metadata": {},
     "output_type": "display_data"
    },
    {
     "data": {
      "text/html": [
       "<table border=\"1\" class=\"dataframe\">\n",
       "  <thead>\n",
       "    <tr style=\"text-align: right;\">\n",
       "      <th>Property_Label</th>\n",
       "      <th>Number_of_Statements</th>\n",
       "      <th>Link</th>\n",
       "    </tr>\n",
       "  </thead>\n",
       "  <tbody>\n",
       "    <tr>\n",
       "      <td>Freebase ID</td>\n",
       "      <td>1620</td>\n",
       "      <td>https://www.wikidata.org/wiki/Property:P646</td>\n",
       "    </tr>\n",
       "    <tr>\n",
       "      <td>VIAF ID</td>\n",
       "      <td>732</td>\n",
       "      <td>https://www.wikidata.org/wiki/Property:P214</td>\n",
       "    </tr>\n",
       "    <tr>\n",
       "      <td>Quora topic ID</td>\n",
       "      <td>693</td>\n",
       "      <td>https://www.wikidata.org/wiki/Property:P3417</td>\n",
       "    </tr>\n",
       "    <tr>\n",
       "      <td>GND ID</td>\n",
       "      <td>637</td>\n",
       "      <td>https://www.wikidata.org/wiki/Property:P227</td>\n",
       "    </tr>\n",
       "    <tr>\n",
       "      <td>Encyclopædia Britannica Online ID</td>\n",
       "      <td>627</td>\n",
       "      <td>https://www.wikidata.org/wiki/Property:P1417</td>\n",
       "    </tr>\n",
       "    <tr>\n",
       "      <td>TasteAtlas ID</td>\n",
       "      <td>604</td>\n",
       "      <td>https://www.wikidata.org/wiki/Property:P5456</td>\n",
       "    </tr>\n",
       "    <tr>\n",
       "      <td>Library of Congress authority ID</td>\n",
       "      <td>603</td>\n",
       "      <td>https://www.wikidata.org/wiki/Property:P244</td>\n",
       "    </tr>\n",
       "    <tr>\n",
       "      <td>WorldCat Identities ID</td>\n",
       "      <td>558</td>\n",
       "      <td>https://www.wikidata.org/wiki/Property:P7859</td>\n",
       "    </tr>\n",
       "    <tr>\n",
       "      <td>BabelNet ID</td>\n",
       "      <td>551</td>\n",
       "      <td>https://www.wikidata.org/wiki/Property:P2581</td>\n",
       "    </tr>\n",
       "    <tr>\n",
       "      <td>GeoNames ID</td>\n",
       "      <td>530</td>\n",
       "      <td>https://www.wikidata.org/wiki/Property:P1566</td>\n",
       "    </tr>\n",
       "    <tr>\n",
       "      <td>Other Properties</td>\n",
       "      <td>20506</td>\n",
       "      <td>NA</td>\n",
       "    </tr>\n",
       "  </tbody>\n",
       "</table>"
      ],
      "text/plain": [
       "<IPython.core.display.HTML object>"
      ]
     },
     "metadata": {},
     "output_type": "display_data"
    },
    {
     "data": {
      "text/html": [
       "<span style='font-weight: bold;margin-top=80px;margin-bottom=80px; font-size:25px; color:black'>------------------------------------------------------------------------------------------</span>"
      ],
      "text/plain": [
       "<IPython.core.display.HTML object>"
      ]
     },
     "metadata": {},
     "output_type": "display_data"
    },
    {
     "data": {
      "text/html": [
       "<span style='font-weight: bold;margin-top=80px;margin-bottom=80px; font-size:25px; color:blue'>Datatype: CommonsMedia</span>"
      ],
      "text/plain": [
       "<IPython.core.display.HTML object>"
      ]
     },
     "metadata": {},
     "output_type": "display_data"
    },
    {
     "data": {
      "text/html": [
       "<span style='font-weight: Light;margin-top=80px;margin-bottom=80px; font-size:15px; color:black'>Below are the top K properties of Datatype:CommonsMedia  ordered based on number of statements</span>"
      ],
      "text/plain": [
       "<IPython.core.display.HTML object>"
      ]
     },
     "metadata": {},
     "output_type": "display_data"
    },
    {
     "data": {
      "text/html": [
       "<table border=\"1\" class=\"dataframe\">\n",
       "  <thead>\n",
       "    <tr style=\"text-align: right;\">\n",
       "      <th>Property_Label</th>\n",
       "      <th>Number_of_Statements</th>\n",
       "      <th>Link</th>\n",
       "    </tr>\n",
       "  </thead>\n",
       "  <tbody>\n",
       "    <tr>\n",
       "      <td>image</td>\n",
       "      <td>2155</td>\n",
       "      <td>https://www.wikidata.org/wiki/Property:P18</td>\n",
       "    </tr>\n",
       "    <tr>\n",
       "      <td>locator map image</td>\n",
       "      <td>749</td>\n",
       "      <td>https://www.wikidata.org/wiki/Property:P242</td>\n",
       "    </tr>\n",
       "    <tr>\n",
       "      <td>pronunciation audio</td>\n",
       "      <td>728</td>\n",
       "      <td>https://www.wikidata.org/wiki/Property:P443</td>\n",
       "    </tr>\n",
       "    <tr>\n",
       "      <td>flag image</td>\n",
       "      <td>538</td>\n",
       "      <td>https://www.wikidata.org/wiki/Property:P41</td>\n",
       "    </tr>\n",
       "    <tr>\n",
       "      <td>coat of arms image</td>\n",
       "      <td>429</td>\n",
       "      <td>https://www.wikidata.org/wiki/Property:P94</td>\n",
       "    </tr>\n",
       "    <tr>\n",
       "      <td>page banner</td>\n",
       "      <td>376</td>\n",
       "      <td>https://www.wikidata.org/wiki/Property:P948</td>\n",
       "    </tr>\n",
       "    <tr>\n",
       "      <td>logo image</td>\n",
       "      <td>97</td>\n",
       "      <td>https://www.wikidata.org/wiki/Property:P154</td>\n",
       "    </tr>\n",
       "    <tr>\n",
       "      <td>spoken text audio</td>\n",
       "      <td>61</td>\n",
       "      <td>https://www.wikidata.org/wiki/Property:P989</td>\n",
       "    </tr>\n",
       "    <tr>\n",
       "      <td>location map</td>\n",
       "      <td>47</td>\n",
       "      <td>https://www.wikidata.org/wiki/Property:P1943</td>\n",
       "    </tr>\n",
       "    <tr>\n",
       "      <td>seal image</td>\n",
       "      <td>28</td>\n",
       "      <td>https://www.wikidata.org/wiki/Property:P158</td>\n",
       "    </tr>\n",
       "    <tr>\n",
       "      <td>Other Properties</td>\n",
       "      <td>183</td>\n",
       "      <td>NA</td>\n",
       "    </tr>\n",
       "  </tbody>\n",
       "</table>"
      ],
      "text/plain": [
       "<IPython.core.display.HTML object>"
      ]
     },
     "metadata": {},
     "output_type": "display_data"
    },
    {
     "data": {
      "text/html": [
       "<span style='font-weight: bold;margin-top=80px;margin-bottom=80px; font-size:25px; color:black'>------------------------------------------------------------------------------------------</span>"
      ],
      "text/plain": [
       "<IPython.core.display.HTML object>"
      ]
     },
     "metadata": {},
     "output_type": "display_data"
    },
    {
     "data": {
      "text/html": [
       "<span style='font-weight: bold;margin-top=80px;margin-bottom=80px; font-size:25px; color:blue'>Datatype: Globe-coordinate</span>"
      ],
      "text/plain": [
       "<IPython.core.display.HTML object>"
      ]
     },
     "metadata": {},
     "output_type": "display_data"
    },
    {
     "data": {
      "text/html": [
       "<span style='font-weight: Light;margin-top=80px;margin-bottom=80px; font-size:15px; color:black'>Below are the top K properties of Datatype:Globe-coordinate  ordered based on number of statements</span>"
      ],
      "text/plain": [
       "<IPython.core.display.HTML object>"
      ]
     },
     "metadata": {},
     "output_type": "display_data"
    },
    {
     "data": {
      "text/html": [
       "<table border=\"1\" class=\"dataframe\">\n",
       "  <thead>\n",
       "    <tr style=\"text-align: right;\">\n",
       "      <th>Property_Label</th>\n",
       "      <th>Number_of_Statements</th>\n",
       "      <th>Link</th>\n",
       "    </tr>\n",
       "  </thead>\n",
       "  <tbody>\n",
       "    <tr>\n",
       "      <td>coordinate location</td>\n",
       "      <td>825</td>\n",
       "      <td>https://www.wikidata.org/wiki/Property:P625</td>\n",
       "    </tr>\n",
       "    <tr>\n",
       "      <td>coordinates of northernmost point</td>\n",
       "      <td>204</td>\n",
       "      <td>https://www.wikidata.org/wiki/Property:P1332</td>\n",
       "    </tr>\n",
       "    <tr>\n",
       "      <td>coordinates of westernmost point</td>\n",
       "      <td>194</td>\n",
       "      <td>https://www.wikidata.org/wiki/Property:P1335</td>\n",
       "    </tr>\n",
       "    <tr>\n",
       "      <td>coordinates of southernmost point</td>\n",
       "      <td>191</td>\n",
       "      <td>https://www.wikidata.org/wiki/Property:P1333</td>\n",
       "    </tr>\n",
       "    <tr>\n",
       "      <td>coordinates of easternmost point</td>\n",
       "      <td>190</td>\n",
       "      <td>https://www.wikidata.org/wiki/Property:P1334</td>\n",
       "    </tr>\n",
       "    <tr>\n",
       "      <td>coordinates of geographic center</td>\n",
       "      <td>17</td>\n",
       "      <td>https://www.wikidata.org/wiki/Property:P5140</td>\n",
       "    </tr>\n",
       "    <tr>\n",
       "      <td>Other Properties</td>\n",
       "      <td>0</td>\n",
       "      <td>NA</td>\n",
       "    </tr>\n",
       "  </tbody>\n",
       "</table>"
      ],
      "text/plain": [
       "<IPython.core.display.HTML object>"
      ]
     },
     "metadata": {},
     "output_type": "display_data"
    },
    {
     "data": {
      "text/html": [
       "<span style='font-weight: bold;margin-top=80px;margin-bottom=80px; font-size:25px; color:black'>------------------------------------------------------------------------------------------</span>"
      ],
      "text/plain": [
       "<IPython.core.display.HTML object>"
      ]
     },
     "metadata": {},
     "output_type": "display_data"
    },
    {
     "data": {
      "text/html": [
       "<span style='font-weight: bold;margin-top=80px;margin-bottom=80px; font-size:25px; color:blue'>Datatype: Monolingualtext</span>"
      ],
      "text/plain": [
       "<IPython.core.display.HTML object>"
      ]
     },
     "metadata": {},
     "output_type": "display_data"
    },
    {
     "data": {
      "text/html": [
       "<span style='font-weight: Light;margin-top=80px;margin-bottom=80px; font-size:15px; color:black'>Below are the top K properties of Datatype:Monolingualtext  ordered based on number of statements</span>"
      ],
      "text/plain": [
       "<IPython.core.display.HTML object>"
      ]
     },
     "metadata": {},
     "output_type": "display_data"
    },
    {
     "data": {
      "text/html": [
       "<table border=\"1\" class=\"dataframe\">\n",
       "  <thead>\n",
       "    <tr style=\"text-align: right;\">\n",
       "      <th>Property_Label</th>\n",
       "      <th>Number_of_Statements</th>\n",
       "      <th>Link</th>\n",
       "    </tr>\n",
       "  </thead>\n",
       "  <tbody>\n",
       "    <tr>\n",
       "      <td>demonym</td>\n",
       "      <td>3888</td>\n",
       "      <td>https://www.wikidata.org/wiki/Property:P1549</td>\n",
       "    </tr>\n",
       "    <tr>\n",
       "      <td>official name</td>\n",
       "      <td>801</td>\n",
       "      <td>https://www.wikidata.org/wiki/Property:P1448</td>\n",
       "    </tr>\n",
       "    <tr>\n",
       "      <td>short name</td>\n",
       "      <td>393</td>\n",
       "      <td>https://www.wikidata.org/wiki/Property:P1813</td>\n",
       "    </tr>\n",
       "    <tr>\n",
       "      <td>native label</td>\n",
       "      <td>369</td>\n",
       "      <td>https://www.wikidata.org/wiki/Property:P1705</td>\n",
       "    </tr>\n",
       "    <tr>\n",
       "      <td>female form of label</td>\n",
       "      <td>260</td>\n",
       "      <td>https://www.wikidata.org/wiki/Property:P2521</td>\n",
       "    </tr>\n",
       "    <tr>\n",
       "      <td>street address</td>\n",
       "      <td>76</td>\n",
       "      <td>https://www.wikidata.org/wiki/Property:P6375</td>\n",
       "    </tr>\n",
       "    <tr>\n",
       "      <td>male form of label</td>\n",
       "      <td>49</td>\n",
       "      <td>https://www.wikidata.org/wiki/Property:P3321</td>\n",
       "    </tr>\n",
       "    <tr>\n",
       "      <td>title</td>\n",
       "      <td>46</td>\n",
       "      <td>https://www.wikidata.org/wiki/Property:P1476</td>\n",
       "    </tr>\n",
       "    <tr>\n",
       "      <td>name in native language</td>\n",
       "      <td>36</td>\n",
       "      <td>https://www.wikidata.org/wiki/Property:P1559</td>\n",
       "    </tr>\n",
       "    <tr>\n",
       "      <td>nickname</td>\n",
       "      <td>24</td>\n",
       "      <td>https://www.wikidata.org/wiki/Property:P1449</td>\n",
       "    </tr>\n",
       "    <tr>\n",
       "      <td>Other Properties</td>\n",
       "      <td>51</td>\n",
       "      <td>NA</td>\n",
       "    </tr>\n",
       "  </tbody>\n",
       "</table>"
      ],
      "text/plain": [
       "<IPython.core.display.HTML object>"
      ]
     },
     "metadata": {},
     "output_type": "display_data"
    },
    {
     "data": {
      "text/html": [
       "<span style='font-weight: bold;margin-top=80px;margin-bottom=80px; font-size:25px; color:black'>------------------------------------------------------------------------------------------</span>"
      ],
      "text/plain": [
       "<IPython.core.display.HTML object>"
      ]
     },
     "metadata": {},
     "output_type": "display_data"
    },
    {
     "data": {
      "text/html": [
       "<span style='font-weight: bold;margin-top=80px;margin-bottom=80px; font-size:25px; color:blue'>Datatype: Musical-notation</span>"
      ],
      "text/plain": [
       "<IPython.core.display.HTML object>"
      ]
     },
     "metadata": {},
     "output_type": "display_data"
    },
    {
     "data": {
      "text/html": [
       "<span style='font-weight: Light;margin-top=80px;margin-bottom=80px; font-size:15px; color:black'>No Property is present for Datatype:Musical-notation</span>"
      ],
      "text/plain": [
       "<IPython.core.display.HTML object>"
      ]
     },
     "metadata": {},
     "output_type": "display_data"
    },
    {
     "data": {
      "text/html": [
       "<span style='font-weight: bold;margin-top=80px;margin-bottom=80px; font-size:25px; color:black'>------------------------------------------------------------------------------------------</span>"
      ],
      "text/plain": [
       "<IPython.core.display.HTML object>"
      ]
     },
     "metadata": {},
     "output_type": "display_data"
    },
    {
     "data": {
      "text/html": [
       "<span style='font-weight: bold;margin-top=80px;margin-bottom=80px; font-size:25px; color:blue'>Datatype: Geo-shape</span>"
      ],
      "text/plain": [
       "<IPython.core.display.HTML object>"
      ]
     },
     "metadata": {},
     "output_type": "display_data"
    },
    {
     "data": {
      "text/html": [
       "<span style='font-weight: Light;margin-top=80px;margin-bottom=80px; font-size:15px; color:black'>Below are the top K properties of Datatype:Geo-shape  ordered based on number of statements</span>"
      ],
      "text/plain": [
       "<IPython.core.display.HTML object>"
      ]
     },
     "metadata": {},
     "output_type": "display_data"
    },
    {
     "data": {
      "text/html": [
       "<table border=\"1\" class=\"dataframe\">\n",
       "  <thead>\n",
       "    <tr style=\"text-align: right;\">\n",
       "      <th>Property_Label</th>\n",
       "      <th>Number_of_Statements</th>\n",
       "      <th>Link</th>\n",
       "    </tr>\n",
       "  </thead>\n",
       "  <tbody>\n",
       "    <tr>\n",
       "      <td>geoshape</td>\n",
       "      <td>191</td>\n",
       "      <td>https://www.wikidata.org/wiki/Property:P3896</td>\n",
       "    </tr>\n",
       "    <tr>\n",
       "      <td>Other Properties</td>\n",
       "      <td>0</td>\n",
       "      <td>NA</td>\n",
       "    </tr>\n",
       "  </tbody>\n",
       "</table>"
      ],
      "text/plain": [
       "<IPython.core.display.HTML object>"
      ]
     },
     "metadata": {},
     "output_type": "display_data"
    },
    {
     "data": {
      "text/html": [
       "<span style='font-weight: bold;margin-top=80px;margin-bottom=80px; font-size:25px; color:black'>------------------------------------------------------------------------------------------</span>"
      ],
      "text/plain": [
       "<IPython.core.display.HTML object>"
      ]
     },
     "metadata": {},
     "output_type": "display_data"
    },
    {
     "data": {
      "text/html": [
       "<span style='font-weight: bold;margin-top=80px;margin-bottom=80px; font-size:25px; color:blue'>Datatype: Url</span>"
      ],
      "text/plain": [
       "<IPython.core.display.HTML object>"
      ]
     },
     "metadata": {},
     "output_type": "display_data"
    },
    {
     "data": {
      "text/html": [
       "<span style='font-weight: Light;margin-top=80px;margin-bottom=80px; font-size:15px; color:black'>Below are the top K properties of Datatype:Url  ordered based on number of statements</span>"
      ],
      "text/plain": [
       "<IPython.core.display.HTML object>"
      ]
     },
     "metadata": {},
     "output_type": "display_data"
    },
    {
     "data": {
      "text/html": [
       "<table border=\"1\" class=\"dataframe\">\n",
       "  <thead>\n",
       "    <tr style=\"text-align: right;\">\n",
       "      <th>Property_Label</th>\n",
       "      <th>Number_of_Statements</th>\n",
       "      <th>Link</th>\n",
       "    </tr>\n",
       "  </thead>\n",
       "  <tbody>\n",
       "    <tr>\n",
       "      <td>official website</td>\n",
       "      <td>1141</td>\n",
       "      <td>https://www.wikidata.org/wiki/Property:P856</td>\n",
       "    </tr>\n",
       "    <tr>\n",
       "      <td>exact match</td>\n",
       "      <td>49</td>\n",
       "      <td>https://www.wikidata.org/wiki/Property:P2888</td>\n",
       "    </tr>\n",
       "    <tr>\n",
       "      <td>equivalent class</td>\n",
       "      <td>27</td>\n",
       "      <td>https://www.wikidata.org/wiki/Property:P1709</td>\n",
       "    </tr>\n",
       "    <tr>\n",
       "      <td>full work available at URL</td>\n",
       "      <td>12</td>\n",
       "      <td>https://www.wikidata.org/wiki/Property:P953</td>\n",
       "    </tr>\n",
       "    <tr>\n",
       "      <td>Stack Exchange tag</td>\n",
       "      <td>11</td>\n",
       "      <td>https://www.wikidata.org/wiki/Property:P1482</td>\n",
       "    </tr>\n",
       "    <tr>\n",
       "      <td>WordLift URL</td>\n",
       "      <td>9</td>\n",
       "      <td>https://www.wikidata.org/wiki/Property:P6363</td>\n",
       "    </tr>\n",
       "    <tr>\n",
       "      <td>URL</td>\n",
       "      <td>6</td>\n",
       "      <td>https://www.wikidata.org/wiki/Property:P2699</td>\n",
       "    </tr>\n",
       "    <tr>\n",
       "      <td>reference URL</td>\n",
       "      <td>5</td>\n",
       "      <td>https://www.wikidata.org/wiki/Property:P854</td>\n",
       "    </tr>\n",
       "    <tr>\n",
       "      <td>webcam page URL</td>\n",
       "      <td>4</td>\n",
       "      <td>https://www.wikidata.org/wiki/Property:P4238</td>\n",
       "    </tr>\n",
       "    <tr>\n",
       "      <td>web feed URL</td>\n",
       "      <td>3</td>\n",
       "      <td>https://www.wikidata.org/wiki/Property:P1019</td>\n",
       "    </tr>\n",
       "    <tr>\n",
       "      <td>Other Properties</td>\n",
       "      <td>0</td>\n",
       "      <td>NA</td>\n",
       "    </tr>\n",
       "  </tbody>\n",
       "</table>"
      ],
      "text/plain": [
       "<IPython.core.display.HTML object>"
      ]
     },
     "metadata": {},
     "output_type": "display_data"
    },
    {
     "data": {
      "text/html": [
       "<span style='font-weight: bold;margin-top=80px;margin-bottom=80px; font-size:25px; color:black'>------------------------------------------------------------------------------------------</span>"
      ],
      "text/plain": [
       "<IPython.core.display.HTML object>"
      ]
     },
     "metadata": {},
     "output_type": "display_data"
    }
   ],
   "source": [
    "try:\n",
    "    df_property_summary = []\n",
    "\n",
    "    # This query finds all the properties ordered based on Number of Statements\n",
    "    cmd = \"$kgtk query  -i $WIKIDATA_PARTS/$TYPE_FILE -i $WIKIDATA_PARTS/$label --graph-cache $STORE \\\n",
    "    -o $__folder/__output_file \\\n",
    "    --match 'claims: (n1)-[l{label: llab}]->(n2), label: (llab)-[:label]->(label)' \\\n",
    "    --return 'distinct llab as Link, kgtk_lqstring_text(label) as `Property_Label`, count(llab) as `Number_of_Statements`' \\\n",
    "    --where 'label.kgtk_lqstring_lang_suffix = \\\"en\\\" ' \\\n",
    "    --order-by 'count(llab) desc '\"\n",
    "    \n",
    "    # Do it for all the Datatypes\n",
    "    for type,name, output_file in types_with_fileName:\n",
    "        output_file_temp = \"temp.\"+os.getenv(output_file)\n",
    "        temp = run_command_return_df(cmd,\"RAW_FILES_PROPERTY\",output_file_temp,{\"TYPE_FILE\": type,\"__output_file\":output_file_temp,\"__folder\":\"RAW_FILES_PROPERTY\"},True,True)\n",
    "        \n",
    "        #The statistics for top K properties are generated and sum of Number of statements for \n",
    "        #the remaining properties are stored in other_instances\n",
    "        other_instances = temp[int(int_k):][\"Number_of_Statements\"].sum()\n",
    "        \n",
    "        #Take top K properties and disregard rest of the properties\n",
    "        temp = temp[:int(int_k)]\n",
    "        \n",
    "        #Generated hyperlinks from the qnode/pnode\n",
    "        temp['Link'] = temp['Link'].apply(generate_link)\n",
    "        \n",
    "        #Changing the order of the columns\n",
    "        temp = temp[[\"Property_Label\",\"Number_of_Statements\",\"Link\"]]\n",
    "        \n",
    "        temp = temp.append({\"Property_Label\":\"Other Properties\",\"Number_of_Statements\":other_instances,\"Link\":\"NA\"},ignore_index=True)\n",
    "        \n",
    "        # Storing the temp to output file\n",
    "        temp.to_csv(os.path.join(os.getenv('OVERVIEW_FOLDER'),os.getenv(output_file)),sep='\\t')\n",
    "        \n",
    "        # The output if there are no properties for a Datatype\n",
    "        if len(temp) == 1:\n",
    "            printmd(\"Datatype: \"+name, 'blue')\n",
    "            printmd(\"No Property is present for Datatype:\" + name,size=15, fontWeight='Light')\n",
    "            printmd(\"------------------------------------------------------------------------------------------\")\n",
    "            continue\n",
    "        printmd(\"Datatype: \"+name, 'blue')\n",
    "        printmd(\"Below are the top K properties of Datatype:\" + name +\"  ordered based on number of statements\",size =15,fontWeight='Light')\n",
    "        df_property_summary.append(temp)\n",
    "        if len(df_property_summary[-1])>0:\n",
    "            display(HTML(df_property_summary[-1].to_html(index=False)))\n",
    "        else:\n",
    "            printmd(\"There are no properties for this datatype or there are no label for the properties of this datatype\")\n",
    "        printmd(\"------------------------------------------------------------------------------------------\")\n",
    "except Exception as e:\n",
    "    print(e)"
   ]
  },
  {
   "cell_type": "code",
   "execution_count": 28,
   "metadata": {
    "execution": {
     "iopub.execute_input": "2021-01-04T11:57:06.778263Z",
     "iopub.status.busy": "2021-01-04T11:57:06.777537Z",
     "iopub.status.idle": "2021-01-04T11:57:06.782510Z",
     "shell.execute_reply": "2021-01-04T11:57:06.781782Z"
    },
    "papermill": {
     "duration": 0.089838,
     "end_time": "2021-01-04T11:57:06.782655",
     "exception": false,
     "start_time": "2021-01-04T11:57:06.692817",
     "status": "completed"
    },
    "scrolled": false,
    "tags": []
   },
   "outputs": [],
   "source": [
    "#This is a helper function which extract the qnode/pnode from the link\n",
    "def get_qnodes_from_link(link):\n",
    "    return str(link.split(\"/\")[-1])"
   ]
  },
  {
   "cell_type": "code",
   "execution_count": 29,
   "metadata": {
    "execution": {
     "iopub.execute_input": "2021-01-04T11:57:06.959753Z",
     "iopub.status.busy": "2021-01-04T11:57:06.958197Z",
     "iopub.status.idle": "2021-01-04T11:57:14.728096Z",
     "shell.execute_reply": "2021-01-04T11:57:14.727497Z"
    },
    "papermill": {
     "duration": 7.862498,
     "end_time": "2021-01-04T11:57:14.728248",
     "exception": false,
     "start_time": "2021-01-04T11:57:06.865750",
     "status": "completed"
    },
    "scrolled": false,
    "tags": []
   },
   "outputs": [
    {
     "data": {
      "text/html": [
       "<span style='font-weight: bold;margin-top=80px;margin-bottom=80px; font-size:25px; color:blue'>Class Overview</span>"
      ],
      "text/plain": [
       "<IPython.core.display.HTML object>"
      ]
     },
     "metadata": {},
     "output_type": "display_data"
    }
   ],
   "source": [
    "\n",
    "try:\n",
    "    printmd('Class Overview','blue')\n",
    "    # Load the list of classes generated in the  9th cell\n",
    "    df = pd.read_csv(os.path.join(os.getenv('OVERVIEW_FOLDER'),os.getenv('class_summary')),delimiter='\\t')\n",
    "\n",
    "    df_label = find_label_property()\n",
    "\n",
    "    # Do for all the classes generated in the 9th cell\n",
    "    for index, ele in df.iterrows():\n",
    "        \n",
    "        # Ignore the Other Classes part of the statistics\n",
    "        if index==len(df)-1:\n",
    "            continue;\n",
    "        # Parse the Qnode from the  Link\n",
    "        Current_Qnode = ele[\"Link\"].split(\"/\")[-1]\n",
    "\n",
    "        class_label = re.sub(\"[^0-9a-zA-Z]+\", \"_\", ele[\"Class_Label\"])\n",
    "\n",
    "        try:\n",
    "            Number_of_instances_of_current_class = ele[\"Number of Instances\"]\n",
    "            class_overview(Current_Qnode,class_label,_restart=True)\n",
    "        except Exception as e:\n",
    "            printmd('There is some error while finding the overview of the Class:'+class_label.capitalize())\n",
    "            display(e)\n",
    "except Exception as e:\n",
    "    display(e)"
   ]
  },
  {
   "cell_type": "code",
   "execution_count": 30,
   "metadata": {
    "execution": {
     "iopub.execute_input": "2021-01-04T11:57:14.910161Z",
     "iopub.status.busy": "2021-01-04T11:57:14.909180Z",
     "iopub.status.idle": "2021-01-04T11:57:15.040652Z",
     "shell.execute_reply": "2021-01-04T11:57:15.041111Z"
    },
    "papermill": {
     "duration": 0.227754,
     "end_time": "2021-01-04T11:57:15.041265",
     "exception": false,
     "start_time": "2021-01-04T11:57:14.813511",
     "status": "completed"
    },
    "scrolled": false,
    "tags": []
   },
   "outputs": [
    {
     "data": {
      "text/html": [
       "<span style='font-weight: bold;margin-top=80px;margin-bottom=80px; font-size:25px; color:blue'>Property Overview</span>"
      ],
      "text/plain": [
       "<IPython.core.display.HTML object>"
      ]
     },
     "metadata": {},
     "output_type": "display_data"
    },
    {
     "data": {
      "text/html": [
       "<span style='font-weight: bold;margin-top=80px;margin-bottom=80px; font-size:18px; color:black'>Top Ten Properties are </span>"
      ],
      "text/plain": [
       "<IPython.core.display.HTML object>"
      ]
     },
     "metadata": {},
     "output_type": "display_data"
    },
    {
     "data": {
      "text/html": [
       "<table border=\"1\" class=\"dataframe\">\n",
       "  <thead>\n",
       "    <tr style=\"text-align: right;\">\n",
       "      <th>Property_Label</th>\n",
       "      <th>Number_of_Statements</th>\n",
       "      <th>Link</th>\n",
       "      <th>Property Type</th>\n",
       "    </tr>\n",
       "  </thead>\n",
       "  <tbody>\n",
       "    <tr>\n",
       "      <td>contains administrative territorial entity</td>\n",
       "      <td>14531</td>\n",
       "      <td>https://www.wikidata.org/wiki/Property:P150</td>\n",
       "      <td>wikibase_item</td>\n",
       "    </tr>\n",
       "    <tr>\n",
       "      <td>population</td>\n",
       "      <td>7366</td>\n",
       "      <td>https://www.wikidata.org/wiki/Property:P1082</td>\n",
       "      <td>quantity</td>\n",
       "    </tr>\n",
       "    <tr>\n",
       "      <td>language used</td>\n",
       "      <td>5513</td>\n",
       "      <td>https://www.wikidata.org/wiki/Property:P2936</td>\n",
       "      <td>wikibase_item</td>\n",
       "    </tr>\n",
       "    <tr>\n",
       "      <td>nominal GDP</td>\n",
       "      <td>4455</td>\n",
       "      <td>https://www.wikidata.org/wiki/Property:P2131</td>\n",
       "      <td>quantity</td>\n",
       "    </tr>\n",
       "    <tr>\n",
       "      <td>diplomatic relation</td>\n",
       "      <td>4440</td>\n",
       "      <td>https://www.wikidata.org/wiki/Property:P530</td>\n",
       "      <td>wikibase_item</td>\n",
       "    </tr>\n",
       "    <tr>\n",
       "      <td>nominal GDP per capita</td>\n",
       "      <td>4412</td>\n",
       "      <td>https://www.wikidata.org/wiki/Property:P2132</td>\n",
       "      <td>quantity</td>\n",
       "    </tr>\n",
       "    <tr>\n",
       "      <td>total reserves</td>\n",
       "      <td>4313</td>\n",
       "      <td>https://www.wikidata.org/wiki/Property:P2134</td>\n",
       "      <td>quantity</td>\n",
       "    </tr>\n",
       "    <tr>\n",
       "      <td>demonym</td>\n",
       "      <td>3888</td>\n",
       "      <td>https://www.wikidata.org/wiki/Property:P1549</td>\n",
       "      <td>monolingualtext</td>\n",
       "    </tr>\n",
       "    <tr>\n",
       "      <td>Wikidata property example</td>\n",
       "      <td>3765</td>\n",
       "      <td>https://www.wikidata.org/wiki/Property:P1855</td>\n",
       "      <td>wikibase_item</td>\n",
       "    </tr>\n",
       "    <tr>\n",
       "      <td>Human Development Index</td>\n",
       "      <td>3442</td>\n",
       "      <td>https://www.wikidata.org/wiki/Property:P1081</td>\n",
       "      <td>quantity</td>\n",
       "    </tr>\n",
       "  </tbody>\n",
       "</table>"
      ],
      "text/plain": [
       "<IPython.core.display.HTML object>"
      ]
     },
     "metadata": {},
     "output_type": "display_data"
    }
   ],
   "source": [
    "try:    \n",
    "    printmd('Property Overview','blue')\n",
    "    \n",
    "    # List of all the datatypes for the property and their tile.\n",
    "    types_with_titles = [\n",
    "            (\"property_summary_time\",\"time\"),\n",
    "            (\"property_summary_wikibase_item\", \"wikibase_item\"),\n",
    "            (\"property_summary_math\",\"math\"),\n",
    "            (\"property_summary_wikibase_form\", \"wikibase_form\"),\n",
    "            (\"property_summary_quantity\", \"quantity\"),\n",
    "            (\"property_summary_string\", \"string\"),\n",
    "            (\"property_summary_external_id\",\"external_id\"),\n",
    "            (\"property_summary_commonsMedia\",\"commonsMedia\"),\n",
    "            (\"property_summary_globe_coordinate\", \"globe_coordinate\"),\n",
    "            (\"property_summary_monolingualtext\",\"monolingualtext\"),\n",
    "            (\"property_summary_musical_notation\", \"musical_notation\"),\n",
    "            (\"property_summary_geo_shape\", \"geo_shape\"),\n",
    "            (\"property_summary_url\",  \"url\")\n",
    "        ]\n",
    "    \n",
    "    # Create a new Dataframe to store the result.\n",
    "    df_all_prop = pd.DataFrame([],columns=[\"Property_Label\",\"Number_of_Statements\",\"Link\"])\n",
    "    \n",
    "    # For all types of the properties\n",
    "    for type_, type_name in types_with_titles:\n",
    "        \n",
    "        # Read the file generated above while calculating the statistics\n",
    "        df_temp = pd.read_csv(os.path.join(os.getenv('OVERVIEW_FOLDER'),os.getenv(type_)),delimiter='\\t')\n",
    "        \n",
    "        # Adding the column for the data type\n",
    "        df_temp[\"Property Type\"] = type_name\n",
    "        \n",
    "        # Concatenating the data frame\n",
    "        df_all_prop = pd.concat([df_all_prop,df_temp])\n",
    "        df_all_prop = df_all_prop.sort_values(\"Number_of_Statements\",ascending=False).reset_index()\n",
    "        del df_all_prop['index']\n",
    "        del df_all_prop[\"Unnamed: 0\"]\n",
    "    \n",
    "    # Removing the \"Other Properties row\" which was calculated earlier in the overview section\n",
    "    df_all_prop = df_all_prop[df_all_prop[\"Property_Label\"]!=\"Other Properties\"]\n",
    "    printmd(\"Top Ten Properties are \",'black',size=18)\n",
    "    display(HTML(df_all_prop[:10].to_html(index=False)))\n",
    "    df_all_prop.to_csv(os.path.join(os.getenv('PROPERTY_OVERVIEW'),\"Property_overview.top.tsv\"),sep='\\t')\n",
    "except Exception as e:\n",
    "    display(e)"
   ]
  },
  {
   "cell_type": "code",
   "execution_count": 31,
   "metadata": {
    "execution": {
     "iopub.execute_input": "2021-01-04T11:57:15.226172Z",
     "iopub.status.busy": "2021-01-04T11:57:15.224828Z",
     "iopub.status.idle": "2021-01-04T11:57:48.818513Z",
     "shell.execute_reply": "2021-01-04T11:57:48.819419Z"
    },
    "papermill": {
     "duration": 33.690959,
     "end_time": "2021-01-04T11:57:48.819631",
     "exception": false,
     "start_time": "2021-01-04T11:57:15.128672",
     "status": "completed"
    },
    "scrolled": false,
    "tags": []
   },
   "outputs": [
    {
     "data": {
      "text/html": [
       "<span style='font-weight: bold;margin-top=80px;margin-bottom=80px; font-size:25px; color:blue'>Property: Contains_administrative_territorial_entity</span>"
      ],
      "text/plain": [
       "<IPython.core.display.HTML object>"
      ]
     },
     "metadata": {},
     "output_type": "display_data"
    },
    {
     "data": {
      "text/html": [
       "<span style='font-weight: Light;margin-top=80px;margin-bottom=80px; font-size:15px; color:black'>Description: (list of) direct subdivisions of an administrative territorial entity</span>"
      ],
      "text/plain": [
       "<IPython.core.display.HTML object>"
      ]
     },
     "metadata": {},
     "output_type": "display_data"
    },
    {
     "data": {
      "text/html": [
       "<span style='font-weight: Light;margin-top=80px;margin-bottom=80px; font-size:15px; color:black'>Aliases: Has counties, has towns, has states, has local government areas, has cities, has regions, has villages, divides into, has shires, has municipalities, contains, has countries, has wards, subdivided into, has districts, has rural cities, has boroughs, has members, has arrondissements, divided into, has administrative divisions</span>"
      ],
      "text/plain": [
       "<IPython.core.display.HTML object>"
      ]
     },
     "metadata": {},
     "output_type": "display_data"
    },
    {
     "data": {
      "text/html": [
       "<span style='font-weight: Light;margin-top=80px;margin-bottom=80px; font-size:15px; color:black'>Number of Statements:  14531</span>"
      ],
      "text/plain": [
       "<IPython.core.display.HTML object>"
      ]
     },
     "metadata": {},
     "output_type": "display_data"
    },
    {
     "data": {
      "text/html": [
       "<span style='font-weight: Light;margin-top=80px;margin-bottom=80px; font-size:15px; color:black'>Number of Qualifiers:  4711</span>"
      ],
      "text/plain": [
       "<IPython.core.display.HTML object>"
      ]
     },
     "metadata": {},
     "output_type": "display_data"
    },
    {
     "data": {
      "text/html": [
       "<span style='font-weight: Light;margin-top=80px;margin-bottom=80px; font-size:15px; color:black'>Property Type: wikibase_item</span>"
      ],
      "text/plain": [
       "<IPython.core.display.HTML object>"
      ]
     },
     "metadata": {},
     "output_type": "display_data"
    },
    {
     "data": {
      "text/html": [
       "<span style='font-weight: bold;margin-top=80px;margin-bottom=80px; font-size:25px; color:blue'>Below is ditribution of Contains_administrative_territorial_entity in different classes</span>"
      ],
      "text/plain": [
       "<IPython.core.display.HTML object>"
      ]
     },
     "metadata": {},
     "output_type": "display_data"
    },
    {
     "data": {
      "text/html": [
       "<span style='font-weight: bold;margin-top=80px;margin-bottom=80px; font-size:25px; color:black'>The subgraph does not have any infromation about the class of the instances of this property</span>"
      ],
      "text/plain": [
       "<IPython.core.display.HTML object>"
      ]
     },
     "metadata": {},
     "output_type": "display_data"
    },
    {
     "data": {
      "text/html": [
       "<span style='font-weight: bold;margin-top=80px;margin-bottom=80px; font-size:25px; color:black'>------------------------------------------------------------------------------------------</span>"
      ],
      "text/plain": [
       "<IPython.core.display.HTML object>"
      ]
     },
     "metadata": {},
     "output_type": "display_data"
    },
    {
     "data": {
      "text/html": [
       "<span style='font-weight: bold;margin-top=80px;margin-bottom=80px; font-size:25px; color:blue'>Property: Population</span>"
      ],
      "text/plain": [
       "<IPython.core.display.HTML object>"
      ]
     },
     "metadata": {},
     "output_type": "display_data"
    },
    {
     "data": {
      "text/html": [
       "<span style='font-weight: Light;margin-top=80px;margin-bottom=80px; font-size:15px; color:black'>Description: Number of people inhabiting the place; number of people of subject</span>"
      ],
      "text/plain": [
       "<IPython.core.display.HTML object>"
      ]
     },
     "metadata": {},
     "output_type": "display_data"
    },
    {
     "data": {
      "text/html": [
       "<span style='font-weight: Light;margin-top=80px;margin-bottom=80px; font-size:15px; color:black'>Aliases: Inhabitants, human population</span>"
      ],
      "text/plain": [
       "<IPython.core.display.HTML object>"
      ]
     },
     "metadata": {},
     "output_type": "display_data"
    },
    {
     "data": {
      "text/html": [
       "<span style='font-weight: Light;margin-top=80px;margin-bottom=80px; font-size:15px; color:black'>Number of Statements:  7366</span>"
      ],
      "text/plain": [
       "<IPython.core.display.HTML object>"
      ]
     },
     "metadata": {},
     "output_type": "display_data"
    },
    {
     "data": {
      "text/html": [
       "<span style='font-weight: Light;margin-top=80px;margin-bottom=80px; font-size:15px; color:black'>Number of Qualifiers:  0</span>"
      ],
      "text/plain": [
       "<IPython.core.display.HTML object>"
      ]
     },
     "metadata": {},
     "output_type": "display_data"
    },
    {
     "data": {
      "text/html": [
       "<span style='font-weight: Light;margin-top=80px;margin-bottom=80px; font-size:15px; color:black'>Property Type: quantity</span>"
      ],
      "text/plain": [
       "<IPython.core.display.HTML object>"
      ]
     },
     "metadata": {},
     "output_type": "display_data"
    },
    {
     "data": {
      "text/html": [
       "<span style='font-weight: bold;margin-top=80px;margin-bottom=80px; font-size:25px; color:blue'>Below is ditribution of Population in different classes</span>"
      ],
      "text/plain": [
       "<IPython.core.display.HTML object>"
      ]
     },
     "metadata": {},
     "output_type": "display_data"
    },
    {
     "data": {
      "text/html": [
       "<span style='font-weight: bold;margin-top=80px;margin-bottom=80px; font-size:25px; color:black'>The subgraph does not have any infromation about the class of the instances of this property</span>"
      ],
      "text/plain": [
       "<IPython.core.display.HTML object>"
      ]
     },
     "metadata": {},
     "output_type": "display_data"
    },
    {
     "data": {
      "text/html": [
       "<span style='font-weight: bold;margin-top=80px;margin-bottom=80px; font-size:25px; color:blue'>Below is the distribution of units for population in the subgraph</span>"
      ],
      "text/plain": [
       "<IPython.core.display.HTML object>"
      ]
     },
     "metadata": {},
     "output_type": "display_data"
    },
    {
     "data": {
      "text/html": [
       "<table border=\"1\" class=\"dataframe\">\n",
       "  <thead>\n",
       "    <tr style=\"text-align: right;\">\n",
       "      <th>Unit</th>\n",
       "      <th>Number_of_Statements</th>\n",
       "    </tr>\n",
       "  </thead>\n",
       "  <tbody>\n",
       "    <tr>\n",
       "      <td>Number</td>\n",
       "      <td>185</td>\n",
       "    </tr>\n",
       "  </tbody>\n",
       "</table>"
      ],
      "text/plain": [
       "<IPython.core.display.HTML object>"
      ]
     },
     "metadata": {},
     "output_type": "display_data"
    },
    {
     "data": {
      "text/html": [
       "<span style='font-weight: bold;margin-top=80px;margin-bottom=80px; font-size:25px; color:blue'>Below is a histogram of distribution of values for unit: \"Number\" for population in the subgraph</span>"
      ],
      "text/plain": [
       "<IPython.core.display.HTML object>"
      ]
     },
     "metadata": {},
     "output_type": "display_data"
    },
    {
     "data": {
      "image/png": "[encoded data removed]",
      "text/plain": [
       "<Figure size 1008x432 with 1 Axes>"
      ]
     },
     "metadata": {
      "needs_background": "light"
     },
     "output_type": "display_data"
    },
    {
     "data": {
      "text/html": [
       "<span style='font-weight: bold;margin-top=80px;margin-bottom=80px; font-size:25px; color:black'>------------------------------------------------------------------------------------------</span>"
      ],
      "text/plain": [
       "<IPython.core.display.HTML object>"
      ]
     },
     "metadata": {},
     "output_type": "display_data"
    },
    {
     "data": {
      "text/html": [
       "<span style='font-weight: bold;margin-top=80px;margin-bottom=80px; font-size:25px; color:blue'>Property: Language_used</span>"
      ],
      "text/plain": [
       "<IPython.core.display.HTML object>"
      ]
     },
     "metadata": {},
     "output_type": "display_data"
    },
    {
     "data": {
      "text/html": [
       "<span style='font-weight: Light;margin-top=80px;margin-bottom=80px; font-size:15px; color:black'>Description: Language widely used (spoken or written) in this place or at this event</span>"
      ],
      "text/plain": [
       "<IPython.core.display.HTML object>"
      ]
     },
     "metadata": {},
     "output_type": "display_data"
    },
    {
     "data": {
      "text/html": [
       "<span style='font-weight: Light;margin-top=80px;margin-bottom=80px; font-size:15px; color:black'>Aliases: Languages used, working languages, working language</span>"
      ],
      "text/plain": [
       "<IPython.core.display.HTML object>"
      ]
     },
     "metadata": {},
     "output_type": "display_data"
    },
    {
     "data": {
      "text/html": [
       "<span style='font-weight: Light;margin-top=80px;margin-bottom=80px; font-size:15px; color:black'>Number of Statements:  5513</span>"
      ],
      "text/plain": [
       "<IPython.core.display.HTML object>"
      ]
     },
     "metadata": {},
     "output_type": "display_data"
    },
    {
     "data": {
      "text/html": [
       "<span style='font-weight: Light;margin-top=80px;margin-bottom=80px; font-size:15px; color:black'>Number of Qualifiers:  378</span>"
      ],
      "text/plain": [
       "<IPython.core.display.HTML object>"
      ]
     },
     "metadata": {},
     "output_type": "display_data"
    },
    {
     "data": {
      "text/html": [
       "<span style='font-weight: Light;margin-top=80px;margin-bottom=80px; font-size:15px; color:black'>Property Type: wikibase_item</span>"
      ],
      "text/plain": [
       "<IPython.core.display.HTML object>"
      ]
     },
     "metadata": {},
     "output_type": "display_data"
    },
    {
     "data": {
      "text/html": [
       "<span style='font-weight: bold;margin-top=80px;margin-bottom=80px; font-size:25px; color:blue'>Below is ditribution of Language_used in different classes</span>"
      ],
      "text/plain": [
       "<IPython.core.display.HTML object>"
      ]
     },
     "metadata": {},
     "output_type": "display_data"
    },
    {
     "data": {
      "text/html": [
       "<span style='font-weight: bold;margin-top=80px;margin-bottom=80px; font-size:25px; color:black'>The subgraph does not have any infromation about the class of the instances of this property</span>"
      ],
      "text/plain": [
       "<IPython.core.display.HTML object>"
      ]
     },
     "metadata": {},
     "output_type": "display_data"
    },
    {
     "data": {
      "text/html": [
       "<span style='font-weight: bold;margin-top=80px;margin-bottom=80px; font-size:25px; color:black'>------------------------------------------------------------------------------------------</span>"
      ],
      "text/plain": [
       "<IPython.core.display.HTML object>"
      ]
     },
     "metadata": {},
     "output_type": "display_data"
    },
    {
     "data": {
      "text/html": [
       "<span style='font-weight: bold;margin-top=80px;margin-bottom=80px; font-size:25px; color:blue'>Property: Nominal_gdp</span>"
      ],
      "text/plain": [
       "<IPython.core.display.HTML object>"
      ]
     },
     "metadata": {},
     "output_type": "display_data"
    },
    {
     "data": {
      "text/html": [
       "<span style='font-weight: Light;margin-top=80px;margin-bottom=80px; font-size:15px; color:black'>Description: Market value of all officially recognized final goods and services produced within a country in a given period of time</span>"
      ],
      "text/plain": [
       "<IPython.core.display.HTML object>"
      ]
     },
     "metadata": {},
     "output_type": "display_data"
    },
    {
     "data": {
      "text/html": [
       "<span style='font-weight: Light;margin-top=80px;margin-bottom=80px; font-size:15px; color:black'>Aliases: Nominal gdp, gdp, gross domestic product, nominal gross domestic product, gdp, nominal</span>"
      ],
      "text/plain": [
       "<IPython.core.display.HTML object>"
      ]
     },
     "metadata": {},
     "output_type": "display_data"
    },
    {
     "data": {
      "text/html": [
       "<span style='font-weight: Light;margin-top=80px;margin-bottom=80px; font-size:15px; color:black'>Number of Statements:  4455</span>"
      ],
      "text/plain": [
       "<IPython.core.display.HTML object>"
      ]
     },
     "metadata": {},
     "output_type": "display_data"
    },
    {
     "data": {
      "text/html": [
       "<span style='font-weight: Light;margin-top=80px;margin-bottom=80px; font-size:15px; color:black'>Number of Qualifiers:  0</span>"
      ],
      "text/plain": [
       "<IPython.core.display.HTML object>"
      ]
     },
     "metadata": {},
     "output_type": "display_data"
    },
    {
     "data": {
      "text/html": [
       "<span style='font-weight: Light;margin-top=80px;margin-bottom=80px; font-size:15px; color:black'>Property Type: quantity</span>"
      ],
      "text/plain": [
       "<IPython.core.display.HTML object>"
      ]
     },
     "metadata": {},
     "output_type": "display_data"
    },
    {
     "data": {
      "text/html": [
       "<span style='font-weight: bold;margin-top=80px;margin-bottom=80px; font-size:25px; color:blue'>Below is ditribution of Nominal_gdp in different classes</span>"
      ],
      "text/plain": [
       "<IPython.core.display.HTML object>"
      ]
     },
     "metadata": {},
     "output_type": "display_data"
    },
    {
     "data": {
      "text/html": [
       "<span style='font-weight: bold;margin-top=80px;margin-bottom=80px; font-size:25px; color:black'>The subgraph does not have any infromation about the class of the instances of this property</span>"
      ],
      "text/plain": [
       "<IPython.core.display.HTML object>"
      ]
     },
     "metadata": {},
     "output_type": "display_data"
    },
    {
     "data": {
      "text/html": [
       "<span style='font-weight: bold;margin-top=80px;margin-bottom=80px; font-size:25px; color:blue'>Below is the distribution of units for nominal_GDP in the subgraph</span>"
      ],
      "text/plain": [
       "<IPython.core.display.HTML object>"
      ]
     },
     "metadata": {},
     "output_type": "display_data"
    },
    {
     "data": {
      "text/html": [
       "<table border=\"1\" class=\"dataframe\">\n",
       "  <thead>\n",
       "    <tr style=\"text-align: right;\">\n",
       "      <th>Unit</th>\n",
       "      <th>Number_of_Statements</th>\n",
       "    </tr>\n",
       "  </thead>\n",
       "  <tbody>\n",
       "    <tr>\n",
       "      <td>United states dollar</td>\n",
       "      <td>4447</td>\n",
       "    </tr>\n",
       "    <tr>\n",
       "      <td>Euro</td>\n",
       "      <td>7</td>\n",
       "    </tr>\n",
       "    <tr>\n",
       "      <td>Russian ruble</td>\n",
       "      <td>1</td>\n",
       "    </tr>\n",
       "  </tbody>\n",
       "</table>"
      ],
      "text/plain": [
       "<IPython.core.display.HTML object>"
      ]
     },
     "metadata": {},
     "output_type": "display_data"
    },
    {
     "data": {
      "text/html": [
       "<span style='font-weight: bold;margin-top=80px;margin-bottom=80px; font-size:25px; color:blue'>Below is a histogram of distribution of values for unit: \"United_states_dollar\" for nominal_GDP in the subgraph</span>"
      ],
      "text/plain": [
       "<IPython.core.display.HTML object>"
      ]
     },
     "metadata": {},
     "output_type": "display_data"
    },
    {
     "data": {
      "image/png": "[encoded data removed]",
      "text/plain": [
       "<Figure size 1008x432 with 1 Axes>"
      ]
     },
     "metadata": {
      "needs_background": "light"
     },
     "output_type": "display_data"
    },
    {
     "data": {
      "text/html": [
       "<span style='font-weight: bold;margin-top=80px;margin-bottom=80px; font-size:25px; color:black'>------------------------------------------------------------------------------------------</span>"
      ],
      "text/plain": [
       "<IPython.core.display.HTML object>"
      ]
     },
     "metadata": {},
     "output_type": "display_data"
    },
    {
     "data": {
      "text/html": [
       "<span style='font-weight: bold;margin-top=80px;margin-bottom=80px; font-size:25px; color:blue'>Property: Diplomatic_relation</span>"
      ],
      "text/plain": [
       "<IPython.core.display.HTML object>"
      ]
     },
     "metadata": {},
     "output_type": "display_data"
    },
    {
     "data": {
      "text/html": [
       "<span style='font-weight: Light;margin-top=80px;margin-bottom=80px; font-size:15px; color:black'>Description: Diplomatic relations of the country</span>"
      ],
      "text/plain": [
       "<IPython.core.display.HTML object>"
      ]
     },
     "metadata": {},
     "output_type": "display_data"
    },
    {
     "data": {
      "text/html": [
       "<span style='font-weight: Light;margin-top=80px;margin-bottom=80px; font-size:15px; color:black'>Aliases: Political relation, diplomatic relations, foreign relation, political relations, diplomatic relation, ambassadorial relations, foreign relations, ambassadorial relation</span>"
      ],
      "text/plain": [
       "<IPython.core.display.HTML object>"
      ]
     },
     "metadata": {},
     "output_type": "display_data"
    },
    {
     "data": {
      "text/html": [
       "<span style='font-weight: Light;margin-top=80px;margin-bottom=80px; font-size:15px; color:black'>Number of Statements:  4440</span>"
      ],
      "text/plain": [
       "<IPython.core.display.HTML object>"
      ]
     },
     "metadata": {},
     "output_type": "display_data"
    },
    {
     "data": {
      "text/html": [
       "<span style='font-weight: Light;margin-top=80px;margin-bottom=80px; font-size:15px; color:black'>Number of Qualifiers:  5211</span>"
      ],
      "text/plain": [
       "<IPython.core.display.HTML object>"
      ]
     },
     "metadata": {},
     "output_type": "display_data"
    },
    {
     "data": {
      "text/html": [
       "<span style='font-weight: Light;margin-top=80px;margin-bottom=80px; font-size:15px; color:black'>Property Type: wikibase_item</span>"
      ],
      "text/plain": [
       "<IPython.core.display.HTML object>"
      ]
     },
     "metadata": {},
     "output_type": "display_data"
    },
    {
     "data": {
      "text/html": [
       "<span style='font-weight: bold;margin-top=80px;margin-bottom=80px; font-size:25px; color:blue'>Below is ditribution of Diplomatic_relation in different classes</span>"
      ],
      "text/plain": [
       "<IPython.core.display.HTML object>"
      ]
     },
     "metadata": {},
     "output_type": "display_data"
    },
    {
     "data": {
      "text/html": [
       "<span style='font-weight: bold;margin-top=80px;margin-bottom=80px; font-size:25px; color:black'>The subgraph does not have any infromation about the class of the instances of this property</span>"
      ],
      "text/plain": [
       "<IPython.core.display.HTML object>"
      ]
     },
     "metadata": {},
     "output_type": "display_data"
    },
    {
     "data": {
      "text/html": [
       "<span style='font-weight: bold;margin-top=80px;margin-bottom=80px; font-size:25px; color:black'>------------------------------------------------------------------------------------------</span>"
      ],
      "text/plain": [
       "<IPython.core.display.HTML object>"
      ]
     },
     "metadata": {},
     "output_type": "display_data"
    },
    {
     "data": {
      "text/plain": [
       "<Figure size 432x288 with 0 Axes>"
      ]
     },
     "metadata": {},
     "output_type": "display_data"
    }
   ],
   "source": [
    "try:    \n",
    "    # Load the list of classes generated in the  9th cell\n",
    "    df = pd.read_csv(os.path.join(os.getenv('PROPERTY_OVERVIEW'),\"Property_overview.top.tsv\"),delimiter='\\t')\n",
    "\n",
    "    # Do for all the classes generated in the 9th cell\n",
    "    for index, ele in df.iterrows():\n",
    "\n",
    "        if index>=5:\n",
    "            break;\n",
    "\n",
    "        Current_Pnode = ele['Link'].split('/')[-1].split(\":\")[-1]\n",
    "        Number_of_statements_of_current_property = ele[\"Number_of_Statements\"]\n",
    "        Property_type = ele[\"Property Type\"]\n",
    "        Property_label = re.sub(\"[^0-9a-zA-Z]+\", \"_\", ele[\"Property_Label\"])\n",
    "\n",
    "        # Heading\n",
    "        try:\n",
    "            property_overview(Current_Pnode,Property_label,Property_type,True,True)\n",
    "        except Exception as e:\n",
    "            printmd(\"There some problem finding the overview of the Property:\"+Property_label.capitalize())\n",
    "except Exception as e:\n",
    "    display(e)"
   ]
  },
  {
   "cell_type": "code",
   "execution_count": 32,
   "metadata": {
    "execution": {
     "iopub.execute_input": "2021-01-04T11:57:49.218364Z",
     "iopub.status.busy": "2021-01-04T11:57:49.217573Z",
     "iopub.status.idle": "2021-01-04T11:58:37.988435Z",
     "shell.execute_reply": "2021-01-04T11:58:37.988942Z"
    },
    "papermill": {
     "duration": 48.955269,
     "end_time": "2021-01-04T11:58:37.989113",
     "exception": false,
     "start_time": "2021-01-04T11:57:49.033844",
     "status": "completed"
    },
    "scrolled": false,
    "tags": []
   },
   "outputs": [
    {
     "data": {
      "text/html": [
       "<span style='font-weight: bold;margin-top=80px;margin-bottom=80px; font-size:25px; color:blue'>Below is the distribution of units for population in the subgraph</span>"
      ],
      "text/plain": [
       "<IPython.core.display.HTML object>"
      ]
     },
     "metadata": {},
     "output_type": "display_data"
    },
    {
     "data": {
      "text/html": [
       "<table border=\"1\" class=\"dataframe\">\n",
       "  <thead>\n",
       "    <tr style=\"text-align: right;\">\n",
       "      <th>Unit</th>\n",
       "      <th>Number_of_Statements</th>\n",
       "    </tr>\n",
       "  </thead>\n",
       "  <tbody>\n",
       "    <tr>\n",
       "      <td>Number</td>\n",
       "      <td>185</td>\n",
       "    </tr>\n",
       "  </tbody>\n",
       "</table>"
      ],
      "text/plain": [
       "<IPython.core.display.HTML object>"
      ]
     },
     "metadata": {},
     "output_type": "display_data"
    },
    {
     "data": {
      "text/html": [
       "<span style='font-weight: bold;margin-top=80px;margin-bottom=80px; font-size:25px; color:blue'>Below is a histogram of distribution of values for unit: \"Number\" for population in the subgraph</span>"
      ],
      "text/plain": [
       "<IPython.core.display.HTML object>"
      ]
     },
     "metadata": {},
     "output_type": "display_data"
    },
    {
     "data": {
      "image/png": "[encoded data removed]",
      "text/plain": [
       "<Figure size 1008x432 with 1 Axes>"
      ]
     },
     "metadata": {
      "needs_background": "light"
     },
     "output_type": "display_data"
    },
    {
     "data": {
      "text/html": [
       "<span style='font-weight: bold;margin-top=80px;margin-bottom=80px; font-size:25px; color:blue'>Below is the distribution of units for nominal_GDP in the subgraph</span>"
      ],
      "text/plain": [
       "<IPython.core.display.HTML object>"
      ]
     },
     "metadata": {},
     "output_type": "display_data"
    },
    {
     "data": {
      "text/html": [
       "<table border=\"1\" class=\"dataframe\">\n",
       "  <thead>\n",
       "    <tr style=\"text-align: right;\">\n",
       "      <th>Unit</th>\n",
       "      <th>Number_of_Statements</th>\n",
       "    </tr>\n",
       "  </thead>\n",
       "  <tbody>\n",
       "    <tr>\n",
       "      <td>United states dollar</td>\n",
       "      <td>4447</td>\n",
       "    </tr>\n",
       "    <tr>\n",
       "      <td>Euro</td>\n",
       "      <td>7</td>\n",
       "    </tr>\n",
       "    <tr>\n",
       "      <td>Russian ruble</td>\n",
       "      <td>1</td>\n",
       "    </tr>\n",
       "  </tbody>\n",
       "</table>"
      ],
      "text/plain": [
       "<IPython.core.display.HTML object>"
      ]
     },
     "metadata": {},
     "output_type": "display_data"
    },
    {
     "data": {
      "text/html": [
       "<span style='font-weight: bold;margin-top=80px;margin-bottom=80px; font-size:25px; color:blue'>Below is a histogram of distribution of values for unit: \"United_states_dollar\" for nominal_GDP in the subgraph</span>"
      ],
      "text/plain": [
       "<IPython.core.display.HTML object>"
      ]
     },
     "metadata": {},
     "output_type": "display_data"
    },
    {
     "data": {
      "image/png": "[encoded data removed]",
      "text/plain": [
       "<Figure size 1008x432 with 1 Axes>"
      ]
     },
     "metadata": {
      "needs_background": "light"
     },
     "output_type": "display_data"
    },
    {
     "data": {
      "text/html": [
       "<span style='font-weight: bold;margin-top=80px;margin-bottom=80px; font-size:25px; color:blue'>Below is the distribution of units for nominal_GDP_per_capita in the subgraph</span>"
      ],
      "text/plain": [
       "<IPython.core.display.HTML object>"
      ]
     },
     "metadata": {},
     "output_type": "display_data"
    },
    {
     "data": {
      "text/html": [
       "<table border=\"1\" class=\"dataframe\">\n",
       "  <thead>\n",
       "    <tr style=\"text-align: right;\">\n",
       "      <th>Unit</th>\n",
       "      <th>Number_of_Statements</th>\n",
       "    </tr>\n",
       "  </thead>\n",
       "  <tbody>\n",
       "    <tr>\n",
       "      <td>United states dollar</td>\n",
       "      <td>4405</td>\n",
       "    </tr>\n",
       "    <tr>\n",
       "      <td>Euro</td>\n",
       "      <td>6</td>\n",
       "    </tr>\n",
       "    <tr>\n",
       "      <td>Russian ruble</td>\n",
       "      <td>1</td>\n",
       "    </tr>\n",
       "  </tbody>\n",
       "</table>"
      ],
      "text/plain": [
       "<IPython.core.display.HTML object>"
      ]
     },
     "metadata": {},
     "output_type": "display_data"
    },
    {
     "data": {
      "text/html": [
       "<span style='font-weight: bold;margin-top=80px;margin-bottom=80px; font-size:25px; color:blue'>Below is a histogram of distribution of values for unit: \"United_states_dollar\" for nominal_GDP_per_capita in the subgraph</span>"
      ],
      "text/plain": [
       "<IPython.core.display.HTML object>"
      ]
     },
     "metadata": {},
     "output_type": "display_data"
    },
    {
     "data": {
      "image/png": "[encoded data removed]",
      "text/plain": [
       "<Figure size 1008x432 with 1 Axes>"
      ]
     },
     "metadata": {
      "needs_background": "light"
     },
     "output_type": "display_data"
    },
    {
     "data": {
      "text/html": [
       "<span style='font-weight: bold;margin-top=80px;margin-bottom=80px; font-size:25px; color:blue'>Below is the distribution of units for total_reserves in the subgraph</span>"
      ],
      "text/plain": [
       "<IPython.core.display.HTML object>"
      ]
     },
     "metadata": {},
     "output_type": "display_data"
    },
    {
     "data": {
      "text/html": [
       "<table border=\"1\" class=\"dataframe\">\n",
       "  <thead>\n",
       "    <tr style=\"text-align: right;\">\n",
       "      <th>Unit</th>\n",
       "      <th>Number_of_Statements</th>\n",
       "    </tr>\n",
       "  </thead>\n",
       "  <tbody>\n",
       "    <tr>\n",
       "      <td>United states dollar</td>\n",
       "      <td>4313</td>\n",
       "    </tr>\n",
       "  </tbody>\n",
       "</table>"
      ],
      "text/plain": [
       "<IPython.core.display.HTML object>"
      ]
     },
     "metadata": {},
     "output_type": "display_data"
    },
    {
     "data": {
      "text/html": [
       "<span style='font-weight: bold;margin-top=80px;margin-bottom=80px; font-size:25px; color:blue'>Below is a histogram of distribution of values for unit: \"United_states_dollar\" for total_reserves in the subgraph</span>"
      ],
      "text/plain": [
       "<IPython.core.display.HTML object>"
      ]
     },
     "metadata": {},
     "output_type": "display_data"
    },
    {
     "data": {
      "image/png": "[encoded data removed]",
      "text/plain": [
       "<Figure size 1008x432 with 1 Axes>"
      ]
     },
     "metadata": {
      "needs_background": "light"
     },
     "output_type": "display_data"
    },
    {
     "data": {
      "text/html": [
       "<span style='font-weight: bold;margin-top=80px;margin-bottom=80px; font-size:25px; color:blue'>Below is the distribution of units for Human_Development_Index in the subgraph</span>"
      ],
      "text/plain": [
       "<IPython.core.display.HTML object>"
      ]
     },
     "metadata": {},
     "output_type": "display_data"
    },
    {
     "data": {
      "text/html": [
       "<table border=\"1\" class=\"dataframe\">\n",
       "  <thead>\n",
       "    <tr style=\"text-align: right;\">\n",
       "      <th>Unit</th>\n",
       "      <th>Number_of_Statements</th>\n",
       "    </tr>\n",
       "  </thead>\n",
       "  <tbody>\n",
       "    <tr>\n",
       "      <td>Number</td>\n",
       "      <td>1</td>\n",
       "    </tr>\n",
       "  </tbody>\n",
       "</table>"
      ],
      "text/plain": [
       "<IPython.core.display.HTML object>"
      ]
     },
     "metadata": {},
     "output_type": "display_data"
    },
    {
     "data": {
      "text/html": [
       "<span style='font-weight: bold;margin-top=80px;margin-bottom=80px; font-size:25px; color:blue'>Below is a histogram of distribution of values for unit: \"Number\" for Human_Development_Index in the subgraph</span>"
      ],
      "text/plain": [
       "<IPython.core.display.HTML object>"
      ]
     },
     "metadata": {},
     "output_type": "display_data"
    },
    {
     "data": {
      "image/png": "[encoded data removed]",
      "text/plain": [
       "<Figure size 1008x432 with 1 Axes>"
      ]
     },
     "metadata": {
      "needs_background": "light"
     },
     "output_type": "display_data"
    },
    {
     "data": {
      "text/html": [
       "<span style='font-weight: bold;margin-top=80px;margin-bottom=80px; font-size:25px; color:blue'>Below is the distribution of units for inflation_rate in the subgraph</span>"
      ],
      "text/plain": [
       "<IPython.core.display.HTML object>"
      ]
     },
     "metadata": {},
     "output_type": "display_data"
    },
    {
     "data": {
      "text/html": [
       "<table border=\"1\" class=\"dataframe\">\n",
       "  <thead>\n",
       "    <tr style=\"text-align: right;\">\n",
       "      <th>Unit</th>\n",
       "      <th>Number_of_Statements</th>\n",
       "    </tr>\n",
       "  </thead>\n",
       "  <tbody>\n",
       "    <tr>\n",
       "      <td>Percent</td>\n",
       "      <td>2807</td>\n",
       "    </tr>\n",
       "  </tbody>\n",
       "</table>"
      ],
      "text/plain": [
       "<IPython.core.display.HTML object>"
      ]
     },
     "metadata": {},
     "output_type": "display_data"
    },
    {
     "data": {
      "text/html": [
       "<span style='font-weight: bold;margin-top=80px;margin-bottom=80px; font-size:25px; color:blue'>Below is a histogram of distribution of values for unit: \"Percent\" for inflation_rate in the subgraph</span>"
      ],
      "text/plain": [
       "<IPython.core.display.HTML object>"
      ]
     },
     "metadata": {},
     "output_type": "display_data"
    },
    {
     "data": {
      "image/png": "[encoded data removed]",
      "text/plain": [
       "<Figure size 1008x432 with 1 Axes>"
      ]
     },
     "metadata": {
      "needs_background": "light"
     },
     "output_type": "display_data"
    },
    {
     "data": {
      "text/html": [
       "<span style='font-weight: bold;margin-top=80px;margin-bottom=80px; font-size:25px; color:blue'>Below is the distribution of units for PPP_GDP_per_capita in the subgraph</span>"
      ],
      "text/plain": [
       "<IPython.core.display.HTML object>"
      ]
     },
     "metadata": {},
     "output_type": "display_data"
    },
    {
     "data": {
      "text/html": [
       "<table border=\"1\" class=\"dataframe\">\n",
       "  <thead>\n",
       "    <tr style=\"text-align: right;\">\n",
       "      <th>Unit</th>\n",
       "      <th>Number_of_Statements</th>\n",
       "    </tr>\n",
       "  </thead>\n",
       "  <tbody>\n",
       "    <tr>\n",
       "      <td>International united states dollar</td>\n",
       "      <td>2585</td>\n",
       "    </tr>\n",
       "    <tr>\n",
       "      <td>United states dollar</td>\n",
       "      <td>33</td>\n",
       "    </tr>\n",
       "  </tbody>\n",
       "</table>"
      ],
      "text/plain": [
       "<IPython.core.display.HTML object>"
      ]
     },
     "metadata": {},
     "output_type": "display_data"
    },
    {
     "data": {
      "text/html": [
       "<span style='font-weight: bold;margin-top=80px;margin-bottom=80px; font-size:25px; color:blue'>Below is a histogram of distribution of values for unit: \"International_united_states_dollar\" for PPP_GDP_per_capita in the subgraph</span>"
      ],
      "text/plain": [
       "<IPython.core.display.HTML object>"
      ]
     },
     "metadata": {},
     "output_type": "display_data"
    },
    {
     "data": {
      "image/png": "[encoded data removed]",
      "text/plain": [
       "<Figure size 1008x432 with 1 Axes>"
      ]
     },
     "metadata": {
      "needs_background": "light"
     },
     "output_type": "display_data"
    },
    {
     "data": {
      "text/html": [
       "<span style='font-weight: bold;margin-top=80px;margin-bottom=80px; font-size:25px; color:blue'>Below is the distribution of units for GDP_PPP_ in the subgraph</span>"
      ],
      "text/plain": [
       "<IPython.core.display.HTML object>"
      ]
     },
     "metadata": {},
     "output_type": "display_data"
    },
    {
     "data": {
      "text/html": [
       "<table border=\"1\" class=\"dataframe\">\n",
       "  <thead>\n",
       "    <tr style=\"text-align: right;\">\n",
       "      <th>Unit</th>\n",
       "      <th>Number_of_Statements</th>\n",
       "    </tr>\n",
       "  </thead>\n",
       "  <tbody>\n",
       "    <tr>\n",
       "      <td>International united states dollar</td>\n",
       "      <td>2582</td>\n",
       "    </tr>\n",
       "    <tr>\n",
       "      <td>United states dollar</td>\n",
       "      <td>1</td>\n",
       "    </tr>\n",
       "  </tbody>\n",
       "</table>"
      ],
      "text/plain": [
       "<IPython.core.display.HTML object>"
      ]
     },
     "metadata": {},
     "output_type": "display_data"
    },
    {
     "data": {
      "text/html": [
       "<span style='font-weight: bold;margin-top=80px;margin-bottom=80px; font-size:25px; color:blue'>Below is a histogram of distribution of values for unit: \"International_united_states_dollar\" for GDP_PPP_ in the subgraph</span>"
      ],
      "text/plain": [
       "<IPython.core.display.HTML object>"
      ]
     },
     "metadata": {},
     "output_type": "display_data"
    },
    {
     "data": {
      "image/png": "[encoded data removed]",
      "text/plain": [
       "<Figure size 1008x432 with 1 Axes>"
      ]
     },
     "metadata": {
      "needs_background": "light"
     },
     "output_type": "display_data"
    },
    {
     "data": {
      "text/html": [
       "<span style='font-weight: bold;margin-top=80px;margin-bottom=80px; font-size:25px; color:blue'>Below is the distribution of units for life_expectancy in the subgraph</span>"
      ],
      "text/plain": [
       "<IPython.core.display.HTML object>"
      ]
     },
     "metadata": {},
     "output_type": "display_data"
    },
    {
     "data": {
      "text/html": [
       "<table border=\"1\" class=\"dataframe\">\n",
       "  <thead>\n",
       "    <tr style=\"text-align: right;\">\n",
       "      <th>Unit</th>\n",
       "      <th>Number_of_Statements</th>\n",
       "    </tr>\n",
       "  </thead>\n",
       "  <tbody>\n",
       "    <tr>\n",
       "      <td>Year</td>\n",
       "      <td>1816</td>\n",
       "    </tr>\n",
       "  </tbody>\n",
       "</table>"
      ],
      "text/plain": [
       "<IPython.core.display.HTML object>"
      ]
     },
     "metadata": {},
     "output_type": "display_data"
    },
    {
     "data": {
      "text/html": [
       "<span style='font-weight: bold;margin-top=80px;margin-bottom=80px; font-size:25px; color:blue'>Below is a histogram of distribution of values for unit: \"Year\" for life_expectancy in the subgraph</span>"
      ],
      "text/plain": [
       "<IPython.core.display.HTML object>"
      ]
     },
     "metadata": {},
     "output_type": "display_data"
    },
    {
     "data": {
      "image/png": "[encoded data removed]",
      "text/plain": [
       "<Figure size 1008x432 with 1 Axes>"
      ]
     },
     "metadata": {
      "needs_background": "light"
     },
     "output_type": "display_data"
    },
    {
     "data": {
      "text/html": [
       "<span style='font-weight: bold;margin-top=80px;margin-bottom=80px; font-size:25px; color:blue'>Below is the distribution of units for total_fertility_rate in the subgraph</span>"
      ],
      "text/plain": [
       "<IPython.core.display.HTML object>"
      ]
     },
     "metadata": {},
     "output_type": "display_data"
    },
    {
     "data": {
      "text/html": [
       "<span style='font-weight: bold;margin-top=80px;margin-bottom=80px; font-size:25px; color:black'>There are no units for this property</span>"
      ],
      "text/plain": [
       "<IPython.core.display.HTML object>"
      ]
     },
     "metadata": {},
     "output_type": "display_data"
    },
    {
     "data": {
      "text/html": [
       "<span style='font-weight: bold;margin-top=80px;margin-bottom=80px; font-size:25px; color:blue'>Below is a histogram of distribution of Number for Total_fertility_rate in the subgraph</span>"
      ],
      "text/plain": [
       "<IPython.core.display.HTML object>"
      ]
     },
     "metadata": {},
     "output_type": "display_data"
    },
    {
     "data": {
      "image/png": "[encoded data removed]",
      "text/plain": [
       "<Figure size 1008x432 with 1 Axes>"
      ]
     },
     "metadata": {
      "needs_background": "light"
     },
     "output_type": "display_data"
    },
    {
     "data": {
      "text/plain": [
       "<Figure size 432x288 with 0 Axes>"
      ]
     },
     "metadata": {},
     "output_type": "display_data"
    }
   ],
   "source": [
    "try:\n",
    "    #Initializing the dataframe pd_quantity_property with the list of top properties of datatype:quantity found above in the notebook  \n",
    "    pd_quantity_property = pd.read_csv(os.path.join(os.getenv('OVERVIEW_FOLDER'),os.getenv('property_summary_quantity')),delimiter='\\t')\n",
    "\n",
    "    #Iterating over all the rows of dataframe\n",
    "    for index,ele in pd_quantity_property.iterrows():\n",
    "\n",
    "        #Ignoring the 'Other Instances' row\n",
    "        if index>=int_k or ele['Property_Label'] ==\"Other Properties\":\n",
    "            break;\n",
    "\n",
    "        # Extracting the \"Pnode\" corresponding to the property\n",
    "        pnode = ele['Link'].split('/')[-1].split(\":\")[-1]\n",
    "\n",
    "        #Extracting the 'Label' corresponding to the property\n",
    "        prop_label = re.sub(\"[^0-9a-zA-Z]+\", \"_\",  ele['Property_Label']) \n",
    "\n",
    "        quantity_distribution(pnode,prop_label)\n",
    "except Exception as e:\n",
    "    print(e)"
   ]
  },
  {
   "cell_type": "code",
   "execution_count": 33,
   "metadata": {
    "execution": {
     "iopub.execute_input": "2021-01-04T11:58:38.359037Z",
     "iopub.status.busy": "2021-01-04T11:58:38.358234Z",
     "iopub.status.idle": "2021-01-04T11:59:01.959086Z",
     "shell.execute_reply": "2021-01-04T11:59:01.960169Z"
    },
    "papermill": {
     "duration": 23.772834,
     "end_time": "2021-01-04T11:59:01.960490",
     "exception": false,
     "start_time": "2021-01-04T11:58:38.187656",
     "status": "completed"
    },
    "scrolled": false,
    "tags": []
   },
   "outputs": [
    {
     "data": {
      "text/html": [
       "<span style='font-weight: bold;margin-top=80px;margin-bottom=80px; font-size:25px; color:blue'>Below are statistics for top five properties of Datatype:Time</span>"
      ],
      "text/plain": [
       "<IPython.core.display.HTML object>"
      ]
     },
     "metadata": {},
     "output_type": "display_data"
    },
    {
     "data": {
      "text/html": [
       "<span style='font-weight: bold;margin-top=80px;margin-bottom=80px; font-size:25px; color:blue'>Below is histogram for Inception binned per year</span>"
      ],
      "text/plain": [
       "<IPython.core.display.HTML object>"
      ]
     },
     "metadata": {},
     "output_type": "display_data"
    },
    {
     "data": {
      "text/html": [
       "<span style='font-weight: bold;margin-top=80px;margin-bottom=80px; font-size:25px; color:blue'>Below is a histogram for the distribution of 'inception' binned per year from 1800 to 2100</span>"
      ],
      "text/plain": [
       "<IPython.core.display.HTML object>"
      ]
     },
     "metadata": {},
     "output_type": "display_data"
    },
    {
     "data": {
      "image/png": "[encoded data removed]",
      "text/plain": [
       "<Figure size 1008x432 with 1 Axes>"
      ]
     },
     "metadata": {
      "needs_background": "light"
     },
     "output_type": "display_data"
    },
    {
     "data": {
      "text/html": [
       "<span style='font-weight: bold;margin-top=80px;margin-bottom=80px; font-size:25px; color:blue'>Below is histogram for Dissolved_abolished_or_demolished binned per year</span>"
      ],
      "text/plain": [
       "<IPython.core.display.HTML object>"
      ]
     },
     "metadata": {},
     "output_type": "display_data"
    },
    {
     "data": {
      "text/html": [
       "<span style='font-weight: bold;margin-top=80px;margin-bottom=80px; font-size:25px; color:blue'>Below is a histogram for the distribution of 'dissolved_abolished_or_demolished' binned per year from 1800 to 2100</span>"
      ],
      "text/plain": [
       "<IPython.core.display.HTML object>"
      ]
     },
     "metadata": {},
     "output_type": "display_data"
    },
    {
     "data": {
      "image/png": "[encoded data removed]",
      "text/plain": [
       "<Figure size 1008x432 with 1 Axes>"
      ]
     },
     "metadata": {
      "needs_background": "light"
     },
     "output_type": "display_data"
    },
    {
     "data": {
      "text/html": [
       "<span style='font-weight: bold;margin-top=80px;margin-bottom=80px; font-size:25px; color:blue'>Below is histogram for Date_of_birth binned per year</span>"
      ],
      "text/plain": [
       "<IPython.core.display.HTML object>"
      ]
     },
     "metadata": {},
     "output_type": "display_data"
    },
    {
     "data": {
      "text/html": [
       "<span style='font-weight: bold;margin-top=80px;margin-bottom=80px; font-size:25px; color:blue'>Below is a histogram for the distribution of 'date_of_birth' binned per year from 1800 to 2100</span>"
      ],
      "text/plain": [
       "<IPython.core.display.HTML object>"
      ]
     },
     "metadata": {},
     "output_type": "display_data"
    },
    {
     "data": {
      "image/png": "[encoded data removed]",
      "text/plain": [
       "<Figure size 1008x432 with 1 Axes>"
      ]
     },
     "metadata": {
      "needs_background": "light"
     },
     "output_type": "display_data"
    },
    {
     "data": {
      "text/html": [
       "<span style='font-weight: bold;margin-top=80px;margin-bottom=80px; font-size:25px; color:blue'>Below is histogram for Date_of_death binned per year</span>"
      ],
      "text/plain": [
       "<IPython.core.display.HTML object>"
      ]
     },
     "metadata": {},
     "output_type": "display_data"
    },
    {
     "data": {
      "text/html": [
       "<span style='font-weight: bold;margin-top=80px;margin-bottom=80px; font-size:25px; color:blue'>Below is a histogram for the distribution of 'date_of_death' binned per year from 1800 to 2100</span>"
      ],
      "text/plain": [
       "<IPython.core.display.HTML object>"
      ]
     },
     "metadata": {},
     "output_type": "display_data"
    },
    {
     "data": {
      "image/png": "[encoded data removed]",
      "text/plain": [
       "<Figure size 1008x432 with 1 Axes>"
      ]
     },
     "metadata": {
      "needs_background": "light"
     },
     "output_type": "display_data"
    },
    {
     "data": {
      "text/html": [
       "<span style='font-weight: bold;margin-top=80px;margin-bottom=80px; font-size:25px; color:blue'>Below is histogram for Publication_date binned per year</span>"
      ],
      "text/plain": [
       "<IPython.core.display.HTML object>"
      ]
     },
     "metadata": {},
     "output_type": "display_data"
    },
    {
     "data": {
      "text/html": [
       "<span style='font-weight: bold;margin-top=80px;margin-bottom=80px; font-size:25px; color:blue'>Below is a histogram for the distribution of 'publication_date' binned per year from 1800 to 2100</span>"
      ],
      "text/plain": [
       "<IPython.core.display.HTML object>"
      ]
     },
     "metadata": {},
     "output_type": "display_data"
    },
    {
     "data": {
      "image/png": "[encoded data removed]",
      "text/plain": [
       "<Figure size 1008x432 with 1 Axes>"
      ]
     },
     "metadata": {
      "needs_background": "light"
     },
     "output_type": "display_data"
    },
    {
     "data": {
      "text/html": [
       "<span style='font-weight: bold;margin-top=80px;margin-bottom=80px; font-size:25px; color:blue'>Below is histogram for Start_time binned per year</span>"
      ],
      "text/plain": [
       "<IPython.core.display.HTML object>"
      ]
     },
     "metadata": {},
     "output_type": "display_data"
    },
    {
     "data": {
      "text/html": [
       "<span style='font-weight: bold;margin-top=80px;margin-bottom=80px; font-size:25px; color:blue'>Below is a histogram for the distribution of 'start_time' binned per year from 1800 to 2100</span>"
      ],
      "text/plain": [
       "<IPython.core.display.HTML object>"
      ]
     },
     "metadata": {},
     "output_type": "display_data"
    },
    {
     "data": {
      "image/png": "[encoded data removed]",
      "text/plain": [
       "<Figure size 1008x432 with 1 Axes>"
      ]
     },
     "metadata": {
      "needs_background": "light"
     },
     "output_type": "display_data"
    },
    {
     "data": {
      "text/html": [
       "<span style='font-weight: bold;margin-top=80px;margin-bottom=80px; font-size:25px; color:blue'>Below is histogram for Time_of_earliest_written_record binned per year</span>"
      ],
      "text/plain": [
       "<IPython.core.display.HTML object>"
      ]
     },
     "metadata": {},
     "output_type": "display_data"
    },
    {
     "data": {
      "text/html": [
       "<span style='font-weight: bold;margin-top=80px;margin-bottom=80px; font-size:25px; color:blue'>Below is a histogram for the distribution of 'time_of_earliest_written_record' binned per year from 1800 to 2100</span>"
      ],
      "text/plain": [
       "<IPython.core.display.HTML object>"
      ]
     },
     "metadata": {},
     "output_type": "display_data"
    },
    {
     "data": {
      "image/png": "[encoded data removed]",
      "text/plain": [
       "<Figure size 1008x432 with 1 Axes>"
      ]
     },
     "metadata": {
      "needs_background": "light"
     },
     "output_type": "display_data"
    },
    {
     "data": {
      "text/html": [
       "<span style='font-weight: bold;margin-top=80px;margin-bottom=80px; font-size:25px; color:blue'>Below is histogram for Work_period_start_ binned per year</span>"
      ],
      "text/plain": [
       "<IPython.core.display.HTML object>"
      ]
     },
     "metadata": {},
     "output_type": "display_data"
    },
    {
     "data": {
      "text/html": [
       "<span style='font-weight: bold;margin-top=80px;margin-bottom=80px; font-size:25px; color:blue'>Below is a histogram for the distribution of 'work_period_start_' binned per year from 1800 to 2100</span>"
      ],
      "text/plain": [
       "<IPython.core.display.HTML object>"
      ]
     },
     "metadata": {},
     "output_type": "display_data"
    },
    {
     "data": {
      "image/png": "[encoded data removed]",
      "text/plain": [
       "<Figure size 1008x432 with 1 Axes>"
      ]
     },
     "metadata": {
      "needs_background": "light"
     },
     "output_type": "display_data"
    },
    {
     "data": {
      "text/html": [
       "<span style='font-weight: bold;margin-top=80px;margin-bottom=80px; font-size:25px; color:blue'>Below is histogram for End_time binned per year</span>"
      ],
      "text/plain": [
       "<IPython.core.display.HTML object>"
      ]
     },
     "metadata": {},
     "output_type": "display_data"
    },
    {
     "data": {
      "text/html": [
       "<span style='font-weight: bold;margin-top=80px;margin-bottom=80px; font-size:25px; color:blue'>Below is a histogram for the distribution of 'end_time' binned per year from 1800 to 2100</span>"
      ],
      "text/plain": [
       "<IPython.core.display.HTML object>"
      ]
     },
     "metadata": {},
     "output_type": "display_data"
    },
    {
     "data": {
      "image/png": "[encoded data removed]",
      "text/plain": [
       "<Figure size 1008x432 with 1 Axes>"
      ]
     },
     "metadata": {
      "needs_background": "light"
     },
     "output_type": "display_data"
    },
    {
     "data": {
      "text/html": [
       "<span style='font-weight: bold;margin-top=80px;margin-bottom=80px; font-size:25px; color:blue'>Below is histogram for Time_of_discovery_or_invention binned per year</span>"
      ],
      "text/plain": [
       "<IPython.core.display.HTML object>"
      ]
     },
     "metadata": {},
     "output_type": "display_data"
    },
    {
     "data": {
      "text/html": [
       "<span style='font-weight: bold;margin-top=80px;margin-bottom=80px; font-size:25px; color:blue'>Below is a histogram for the distribution of 'time_of_discovery_or_invention' binned per year from 1800 to 2100</span>"
      ],
      "text/plain": [
       "<IPython.core.display.HTML object>"
      ]
     },
     "metadata": {},
     "output_type": "display_data"
    },
    {
     "data": {
      "image/png": "[encoded data removed]",
      "text/plain": [
       "<Figure size 1008x432 with 1 Axes>"
      ]
     },
     "metadata": {
      "needs_background": "light"
     },
     "output_type": "display_data"
    }
   ],
   "source": [
    "try:\n",
    "    #Initializing the dataframe pd_time_property with the list of top properties of datatype:time found above in the notebook  \n",
    "    pd_time_property = pd.read_csv(os.path.join(os.getenv('OVERVIEW_FOLDER'),os.getenv('property_summary_time')),delimiter='\\t')\n",
    "    printmd(\"Below are statistics for top five properties of Datatype:\" + \"time\".capitalize(),'blue')\n",
    "    for index,ele in pd_time_property.iterrows():\n",
    "\n",
    "        #Ignoring the 'Other Instances' row\n",
    "        if index>=int_k or ele['Property_Label'] ==\"Other Properties\":\n",
    "            break;\n",
    "\n",
    "        # Extracting the \"Pnode\" corresponding to the property\n",
    "        pnode = ele['Link'].split('/')[-1].split(\":\")[-1]\n",
    "\n",
    "        #Extracting the 'Label' corresponding to the property\n",
    "        prop_label = re.sub(\"[^0-9a-zA-Z]+\", \"_\",  ele['Property_Label'])    \n",
    "\n",
    "        time_distribution_stacked_saving = time_prop_distribution(pnode,prop_label,True,True)\n",
    "\n",
    "        #Dynamically setting the name of the output file based on the name of property\n",
    "        output_file_time_distribution = \"Property_overview.time.\"+prop_label+\".year_distibution.tsv\"\n",
    "\n",
    "        #Saving the dataframe\n",
    "        time_distribution_stacked_saving.to_csv(os.path.join(os.getenv('PROPERTY_OVERVIEW'),output_file_time_distribution),sep='\\t')\n",
    "except Exception as e:\n",
    "    print(e)"
   ]
  },
  {
   "cell_type": "code",
   "execution_count": 34,
   "metadata": {
    "execution": {
     "iopub.execute_input": "2021-01-04T11:59:02.348359Z",
     "iopub.status.busy": "2021-01-04T11:59:02.345502Z",
     "iopub.status.idle": "2021-01-04T11:59:36.742549Z",
     "shell.execute_reply": "2021-01-04T11:59:36.741883Z"
    },
    "papermill": {
     "duration": 34.59485,
     "end_time": "2021-01-04T11:59:36.742692",
     "exception": false,
     "start_time": "2021-01-04T11:59:02.147842",
     "status": "completed"
    },
    "scrolled": false,
    "tags": []
   },
   "outputs": [
    {
     "data": {
      "text/html": [
       "<span style='font-weight: bold;margin-top=80px;margin-bottom=80px; font-size:25px; color:blue'>Below are statistics for top properties of Datatype:Wikibase_item</span>"
      ],
      "text/plain": [
       "<IPython.core.display.HTML object>"
      ]
     },
     "metadata": {},
     "output_type": "display_data"
    },
    {
     "data": {
      "text/html": [
       "<span style='font-weight: bold;margin-top=80px;margin-bottom=80px; font-size:25px; color:blue'>Below is ditribution of Contains_administrative_territorial_entity in different classes</span>"
      ],
      "text/plain": [
       "<IPython.core.display.HTML object>"
      ]
     },
     "metadata": {},
     "output_type": "display_data"
    },
    {
     "data": {
      "text/html": [
       "<span style='font-weight: bold;margin-top=80px;margin-bottom=80px; font-size:25px; color:black'>The subgraph does not have any infromation about the class of the instances of this property</span>"
      ],
      "text/plain": [
       "<IPython.core.display.HTML object>"
      ]
     },
     "metadata": {},
     "output_type": "display_data"
    },
    {
     "data": {
      "text/html": [
       "<span style='font-weight: bold;margin-top=80px;margin-bottom=80px; font-size:25px; color:blue'>Below is ditribution of Language_used in different classes</span>"
      ],
      "text/plain": [
       "<IPython.core.display.HTML object>"
      ]
     },
     "metadata": {},
     "output_type": "display_data"
    },
    {
     "data": {
      "text/html": [
       "<span style='font-weight: bold;margin-top=80px;margin-bottom=80px; font-size:25px; color:black'>The subgraph does not have any infromation about the class of the instances of this property</span>"
      ],
      "text/plain": [
       "<IPython.core.display.HTML object>"
      ]
     },
     "metadata": {},
     "output_type": "display_data"
    },
    {
     "data": {
      "text/html": [
       "<span style='font-weight: bold;margin-top=80px;margin-bottom=80px; font-size:25px; color:blue'>Below is ditribution of Diplomatic_relation in different classes</span>"
      ],
      "text/plain": [
       "<IPython.core.display.HTML object>"
      ]
     },
     "metadata": {},
     "output_type": "display_data"
    },
    {
     "data": {
      "text/html": [
       "<span style='font-weight: bold;margin-top=80px;margin-bottom=80px; font-size:25px; color:black'>The subgraph does not have any infromation about the class of the instances of this property</span>"
      ],
      "text/plain": [
       "<IPython.core.display.HTML object>"
      ]
     },
     "metadata": {},
     "output_type": "display_data"
    },
    {
     "data": {
      "text/html": [
       "<span style='font-weight: bold;margin-top=80px;margin-bottom=80px; font-size:25px; color:blue'>Below is ditribution of Wikidata_property_example in different classes</span>"
      ],
      "text/plain": [
       "<IPython.core.display.HTML object>"
      ]
     },
     "metadata": {},
     "output_type": "display_data"
    },
    {
     "data": {
      "text/html": [
       "<span style='font-weight: bold;margin-top=80px;margin-bottom=80px; font-size:25px; color:black'>The subgraph does not have any infromation about the class of the instances of this property</span>"
      ],
      "text/plain": [
       "<IPython.core.display.HTML object>"
      ]
     },
     "metadata": {},
     "output_type": "display_data"
    },
    {
     "data": {
      "text/html": [
       "<span style='font-weight: bold;margin-top=80px;margin-bottom=80px; font-size:25px; color:blue'>Below is ditribution of Shares_border_with in different classes</span>"
      ],
      "text/plain": [
       "<IPython.core.display.HTML object>"
      ]
     },
     "metadata": {},
     "output_type": "display_data"
    },
    {
     "data": {
      "text/html": [
       "<span style='font-weight: bold;margin-top=80px;margin-bottom=80px; font-size:25px; color:black'>The subgraph does not have any infromation about the class of the instances of this property</span>"
      ],
      "text/plain": [
       "<IPython.core.display.HTML object>"
      ]
     },
     "metadata": {},
     "output_type": "display_data"
    },
    {
     "data": {
      "text/html": [
       "<span style='font-weight: bold;margin-top=80px;margin-bottom=80px; font-size:25px; color:blue'>Below is ditribution of Member_of in different classes</span>"
      ],
      "text/plain": [
       "<IPython.core.display.HTML object>"
      ]
     },
     "metadata": {},
     "output_type": "display_data"
    },
    {
     "data": {
      "text/html": [
       "<span style='font-weight: bold;margin-top=80px;margin-bottom=80px; font-size:25px; color:black'>The subgraph does not have any infromation about the class of the instances of this property</span>"
      ],
      "text/plain": [
       "<IPython.core.display.HTML object>"
      ]
     },
     "metadata": {},
     "output_type": "display_data"
    },
    {
     "data": {
      "text/html": [
       "<span style='font-weight: bold;margin-top=80px;margin-bottom=80px; font-size:25px; color:blue'>Below is ditribution of Country in different classes</span>"
      ],
      "text/plain": [
       "<IPython.core.display.HTML object>"
      ]
     },
     "metadata": {},
     "output_type": "display_data"
    },
    {
     "data": {
      "text/html": [
       "<span style='font-weight: bold;margin-top=80px;margin-bottom=80px; font-size:25px; color:black'>The subgraph does not have any infromation about the class of the instances of this property</span>"
      ],
      "text/plain": [
       "<IPython.core.display.HTML object>"
      ]
     },
     "metadata": {},
     "output_type": "display_data"
    },
    {
     "data": {
      "text/html": [
       "<span style='font-weight: bold;margin-top=80px;margin-bottom=80px; font-size:25px; color:blue'>Below is ditribution of Material_used in different classes</span>"
      ],
      "text/plain": [
       "<IPython.core.display.HTML object>"
      ]
     },
     "metadata": {},
     "output_type": "display_data"
    },
    {
     "data": {
      "text/html": [
       "<span style='font-weight: bold;margin-top=80px;margin-bottom=80px; font-size:25px; color:black'>The subgraph does not have any infromation about the class of the instances of this property</span>"
      ],
      "text/plain": [
       "<IPython.core.display.HTML object>"
      ]
     },
     "metadata": {},
     "output_type": "display_data"
    },
    {
     "data": {
      "text/html": [
       "<span style='font-weight: bold;margin-top=80px;margin-bottom=80px; font-size:25px; color:blue'>Below is ditribution of Located_in_the_administrative_territorial_entity in different classes</span>"
      ],
      "text/plain": [
       "<IPython.core.display.HTML object>"
      ]
     },
     "metadata": {},
     "output_type": "display_data"
    },
    {
     "data": {
      "text/html": [
       "<span style='font-weight: bold;margin-top=80px;margin-bottom=80px; font-size:25px; color:black'>The subgraph does not have any infromation about the class of the instances of this property</span>"
      ],
      "text/plain": [
       "<IPython.core.display.HTML object>"
      ]
     },
     "metadata": {},
     "output_type": "display_data"
    },
    {
     "data": {
      "text/html": [
       "<span style='font-weight: bold;margin-top=80px;margin-bottom=80px; font-size:25px; color:blue'>Below is ditribution of Described_by_source in different classes</span>"
      ],
      "text/plain": [
       "<IPython.core.display.HTML object>"
      ]
     },
     "metadata": {},
     "output_type": "display_data"
    },
    {
     "data": {
      "text/html": [
       "<span style='font-weight: bold;margin-top=80px;margin-bottom=80px; font-size:25px; color:black'>The subgraph does not have any infromation about the class of the instances of this property</span>"
      ],
      "text/plain": [
       "<IPython.core.display.HTML object>"
      ]
     },
     "metadata": {},
     "output_type": "display_data"
    },
    {
     "data": {
      "text/html": [
       "<span style='font-weight: bold;margin-top=80px;margin-bottom=80px; font-size:25px; color:blue'>Below are statistics for top properties of Datatype:Math</span>"
      ],
      "text/plain": [
       "<IPython.core.display.HTML object>"
      ]
     },
     "metadata": {},
     "output_type": "display_data"
    },
    {
     "data": {
      "text/html": [
       "<span style='font-weight: bold;margin-top=80px;margin-bottom=80px; font-size:25px; color:blue'>Below are statistics for top properties of Datatype:Wikibase-form</span>"
      ],
      "text/plain": [
       "<IPython.core.display.HTML object>"
      ]
     },
     "metadata": {},
     "output_type": "display_data"
    },
    {
     "data": {
      "text/html": [
       "<span style='font-weight: bold;margin-top=80px;margin-bottom=80px; font-size:25px; color:blue'>Below are statistics for top properties of Datatype:External-id</span>"
      ],
      "text/plain": [
       "<IPython.core.display.HTML object>"
      ]
     },
     "metadata": {},
     "output_type": "display_data"
    },
    {
     "data": {
      "text/html": [
       "<span style='font-weight: bold;margin-top=80px;margin-bottom=80px; font-size:25px; color:blue'>Below is ditribution of Freebase_id in different classes</span>"
      ],
      "text/plain": [
       "<IPython.core.display.HTML object>"
      ]
     },
     "metadata": {},
     "output_type": "display_data"
    },
    {
     "data": {
      "text/html": [
       "<span style='font-weight: bold;margin-top=80px;margin-bottom=80px; font-size:25px; color:black'>The subgraph does not have any infromation about the class of the instances of this property</span>"
      ],
      "text/plain": [
       "<IPython.core.display.HTML object>"
      ]
     },
     "metadata": {},
     "output_type": "display_data"
    },
    {
     "data": {
      "text/html": [
       "<span style='font-weight: bold;margin-top=80px;margin-bottom=80px; font-size:25px; color:blue'>Below is ditribution of Viaf_id in different classes</span>"
      ],
      "text/plain": [
       "<IPython.core.display.HTML object>"
      ]
     },
     "metadata": {},
     "output_type": "display_data"
    },
    {
     "data": {
      "text/html": [
       "<span style='font-weight: bold;margin-top=80px;margin-bottom=80px; font-size:25px; color:black'>The subgraph does not have any infromation about the class of the instances of this property</span>"
      ],
      "text/plain": [
       "<IPython.core.display.HTML object>"
      ]
     },
     "metadata": {},
     "output_type": "display_data"
    },
    {
     "data": {
      "text/html": [
       "<span style='font-weight: bold;margin-top=80px;margin-bottom=80px; font-size:25px; color:blue'>Below is ditribution of Quora_topic_id in different classes</span>"
      ],
      "text/plain": [
       "<IPython.core.display.HTML object>"
      ]
     },
     "metadata": {},
     "output_type": "display_data"
    },
    {
     "data": {
      "text/html": [
       "<span style='font-weight: bold;margin-top=80px;margin-bottom=80px; font-size:25px; color:black'>The subgraph does not have any infromation about the class of the instances of this property</span>"
      ],
      "text/plain": [
       "<IPython.core.display.HTML object>"
      ]
     },
     "metadata": {},
     "output_type": "display_data"
    },
    {
     "data": {
      "text/html": [
       "<span style='font-weight: bold;margin-top=80px;margin-bottom=80px; font-size:25px; color:blue'>Below is ditribution of Gnd_id in different classes</span>"
      ],
      "text/plain": [
       "<IPython.core.display.HTML object>"
      ]
     },
     "metadata": {},
     "output_type": "display_data"
    },
    {
     "data": {
      "text/html": [
       "<span style='font-weight: bold;margin-top=80px;margin-bottom=80px; font-size:25px; color:black'>The subgraph does not have any infromation about the class of the instances of this property</span>"
      ],
      "text/plain": [
       "<IPython.core.display.HTML object>"
      ]
     },
     "metadata": {},
     "output_type": "display_data"
    },
    {
     "data": {
      "text/html": [
       "<span style='font-weight: bold;margin-top=80px;margin-bottom=80px; font-size:25px; color:blue'>Below is ditribution of Encyclop_dia_britannica_online_id in different classes</span>"
      ],
      "text/plain": [
       "<IPython.core.display.HTML object>"
      ]
     },
     "metadata": {},
     "output_type": "display_data"
    },
    {
     "data": {
      "text/html": [
       "<span style='font-weight: bold;margin-top=80px;margin-bottom=80px; font-size:25px; color:black'>The subgraph does not have any infromation about the class of the instances of this property</span>"
      ],
      "text/plain": [
       "<IPython.core.display.HTML object>"
      ]
     },
     "metadata": {},
     "output_type": "display_data"
    },
    {
     "data": {
      "text/html": [
       "<span style='font-weight: bold;margin-top=80px;margin-bottom=80px; font-size:25px; color:blue'>Below is ditribution of Tasteatlas_id in different classes</span>"
      ],
      "text/plain": [
       "<IPython.core.display.HTML object>"
      ]
     },
     "metadata": {},
     "output_type": "display_data"
    },
    {
     "data": {
      "text/html": [
       "<span style='font-weight: bold;margin-top=80px;margin-bottom=80px; font-size:25px; color:black'>The subgraph does not have any infromation about the class of the instances of this property</span>"
      ],
      "text/plain": [
       "<IPython.core.display.HTML object>"
      ]
     },
     "metadata": {},
     "output_type": "display_data"
    },
    {
     "data": {
      "text/html": [
       "<span style='font-weight: bold;margin-top=80px;margin-bottom=80px; font-size:25px; color:blue'>Below is ditribution of Library_of_congress_authority_id in different classes</span>"
      ],
      "text/plain": [
       "<IPython.core.display.HTML object>"
      ]
     },
     "metadata": {},
     "output_type": "display_data"
    },
    {
     "data": {
      "text/html": [
       "<span style='font-weight: bold;margin-top=80px;margin-bottom=80px; font-size:25px; color:black'>The subgraph does not have any infromation about the class of the instances of this property</span>"
      ],
      "text/plain": [
       "<IPython.core.display.HTML object>"
      ]
     },
     "metadata": {},
     "output_type": "display_data"
    },
    {
     "data": {
      "text/html": [
       "<span style='font-weight: bold;margin-top=80px;margin-bottom=80px; font-size:25px; color:blue'>Below is ditribution of Worldcat_identities_id in different classes</span>"
      ],
      "text/plain": [
       "<IPython.core.display.HTML object>"
      ]
     },
     "metadata": {},
     "output_type": "display_data"
    },
    {
     "data": {
      "text/html": [
       "<span style='font-weight: bold;margin-top=80px;margin-bottom=80px; font-size:25px; color:black'>The subgraph does not have any infromation about the class of the instances of this property</span>"
      ],
      "text/plain": [
       "<IPython.core.display.HTML object>"
      ]
     },
     "metadata": {},
     "output_type": "display_data"
    },
    {
     "data": {
      "text/html": [
       "<span style='font-weight: bold;margin-top=80px;margin-bottom=80px; font-size:25px; color:blue'>Below is ditribution of Babelnet_id in different classes</span>"
      ],
      "text/plain": [
       "<IPython.core.display.HTML object>"
      ]
     },
     "metadata": {},
     "output_type": "display_data"
    },
    {
     "data": {
      "text/html": [
       "<span style='font-weight: bold;margin-top=80px;margin-bottom=80px; font-size:25px; color:black'>The subgraph does not have any infromation about the class of the instances of this property</span>"
      ],
      "text/plain": [
       "<IPython.core.display.HTML object>"
      ]
     },
     "metadata": {},
     "output_type": "display_data"
    },
    {
     "data": {
      "text/html": [
       "<span style='font-weight: bold;margin-top=80px;margin-bottom=80px; font-size:25px; color:blue'>Below is ditribution of Geonames_id in different classes</span>"
      ],
      "text/plain": [
       "<IPython.core.display.HTML object>"
      ]
     },
     "metadata": {},
     "output_type": "display_data"
    },
    {
     "data": {
      "text/html": [
       "<span style='font-weight: bold;margin-top=80px;margin-bottom=80px; font-size:25px; color:black'>The subgraph does not have any infromation about the class of the instances of this property</span>"
      ],
      "text/plain": [
       "<IPython.core.display.HTML object>"
      ]
     },
     "metadata": {},
     "output_type": "display_data"
    },
    {
     "data": {
      "text/html": [
       "<span style='font-weight: bold;margin-top=80px;margin-bottom=80px; font-size:25px; color:blue'>Below are statistics for top properties of Datatype:Commonsmedia</span>"
      ],
      "text/plain": [
       "<IPython.core.display.HTML object>"
      ]
     },
     "metadata": {},
     "output_type": "display_data"
    },
    {
     "data": {
      "text/html": [
       "<span style='font-weight: bold;margin-top=80px;margin-bottom=80px; font-size:25px; color:blue'>Below is ditribution of Image in different classes</span>"
      ],
      "text/plain": [
       "<IPython.core.display.HTML object>"
      ]
     },
     "metadata": {},
     "output_type": "display_data"
    },
    {
     "data": {
      "text/html": [
       "<span style='font-weight: bold;margin-top=80px;margin-bottom=80px; font-size:25px; color:black'>The subgraph does not have any infromation about the class of the instances of this property</span>"
      ],
      "text/plain": [
       "<IPython.core.display.HTML object>"
      ]
     },
     "metadata": {},
     "output_type": "display_data"
    },
    {
     "data": {
      "text/html": [
       "<span style='font-weight: bold;margin-top=80px;margin-bottom=80px; font-size:25px; color:blue'>Below is ditribution of Locator_map_image in different classes</span>"
      ],
      "text/plain": [
       "<IPython.core.display.HTML object>"
      ]
     },
     "metadata": {},
     "output_type": "display_data"
    },
    {
     "data": {
      "text/html": [
       "<span style='font-weight: bold;margin-top=80px;margin-bottom=80px; font-size:25px; color:black'>The subgraph does not have any infromation about the class of the instances of this property</span>"
      ],
      "text/plain": [
       "<IPython.core.display.HTML object>"
      ]
     },
     "metadata": {},
     "output_type": "display_data"
    },
    {
     "data": {
      "text/html": [
       "<span style='font-weight: bold;margin-top=80px;margin-bottom=80px; font-size:25px; color:blue'>Below is ditribution of Pronunciation_audio in different classes</span>"
      ],
      "text/plain": [
       "<IPython.core.display.HTML object>"
      ]
     },
     "metadata": {},
     "output_type": "display_data"
    },
    {
     "data": {
      "text/html": [
       "<span style='font-weight: bold;margin-top=80px;margin-bottom=80px; font-size:25px; color:black'>The subgraph does not have any infromation about the class of the instances of this property</span>"
      ],
      "text/plain": [
       "<IPython.core.display.HTML object>"
      ]
     },
     "metadata": {},
     "output_type": "display_data"
    },
    {
     "data": {
      "text/html": [
       "<span style='font-weight: bold;margin-top=80px;margin-bottom=80px; font-size:25px; color:blue'>Below is ditribution of Flag_image in different classes</span>"
      ],
      "text/plain": [
       "<IPython.core.display.HTML object>"
      ]
     },
     "metadata": {},
     "output_type": "display_data"
    },
    {
     "data": {
      "text/html": [
       "<span style='font-weight: bold;margin-top=80px;margin-bottom=80px; font-size:25px; color:black'>The subgraph does not have any infromation about the class of the instances of this property</span>"
      ],
      "text/plain": [
       "<IPython.core.display.HTML object>"
      ]
     },
     "metadata": {},
     "output_type": "display_data"
    },
    {
     "data": {
      "text/html": [
       "<span style='font-weight: bold;margin-top=80px;margin-bottom=80px; font-size:25px; color:blue'>Below is ditribution of Coat_of_arms_image in different classes</span>"
      ],
      "text/plain": [
       "<IPython.core.display.HTML object>"
      ]
     },
     "metadata": {},
     "output_type": "display_data"
    },
    {
     "data": {
      "text/html": [
       "<span style='font-weight: bold;margin-top=80px;margin-bottom=80px; font-size:25px; color:black'>The subgraph does not have any infromation about the class of the instances of this property</span>"
      ],
      "text/plain": [
       "<IPython.core.display.HTML object>"
      ]
     },
     "metadata": {},
     "output_type": "display_data"
    },
    {
     "data": {
      "text/html": [
       "<span style='font-weight: bold;margin-top=80px;margin-bottom=80px; font-size:25px; color:blue'>Below is ditribution of Page_banner in different classes</span>"
      ],
      "text/plain": [
       "<IPython.core.display.HTML object>"
      ]
     },
     "metadata": {},
     "output_type": "display_data"
    },
    {
     "data": {
      "text/html": [
       "<span style='font-weight: bold;margin-top=80px;margin-bottom=80px; font-size:25px; color:black'>The subgraph does not have any infromation about the class of the instances of this property</span>"
      ],
      "text/plain": [
       "<IPython.core.display.HTML object>"
      ]
     },
     "metadata": {},
     "output_type": "display_data"
    },
    {
     "data": {
      "text/html": [
       "<span style='font-weight: bold;margin-top=80px;margin-bottom=80px; font-size:25px; color:blue'>Below is ditribution of Logo_image in different classes</span>"
      ],
      "text/plain": [
       "<IPython.core.display.HTML object>"
      ]
     },
     "metadata": {},
     "output_type": "display_data"
    },
    {
     "data": {
      "text/html": [
       "<span style='font-weight: bold;margin-top=80px;margin-bottom=80px; font-size:25px; color:black'>The subgraph does not have any infromation about the class of the instances of this property</span>"
      ],
      "text/plain": [
       "<IPython.core.display.HTML object>"
      ]
     },
     "metadata": {},
     "output_type": "display_data"
    },
    {
     "data": {
      "text/html": [
       "<span style='font-weight: bold;margin-top=80px;margin-bottom=80px; font-size:25px; color:blue'>Below is ditribution of Spoken_text_audio in different classes</span>"
      ],
      "text/plain": [
       "<IPython.core.display.HTML object>"
      ]
     },
     "metadata": {},
     "output_type": "display_data"
    },
    {
     "data": {
      "text/html": [
       "<span style='font-weight: bold;margin-top=80px;margin-bottom=80px; font-size:25px; color:black'>The subgraph does not have any infromation about the class of the instances of this property</span>"
      ],
      "text/plain": [
       "<IPython.core.display.HTML object>"
      ]
     },
     "metadata": {},
     "output_type": "display_data"
    },
    {
     "data": {
      "text/html": [
       "<span style='font-weight: bold;margin-top=80px;margin-bottom=80px; font-size:25px; color:blue'>Below is ditribution of Location_map in different classes</span>"
      ],
      "text/plain": [
       "<IPython.core.display.HTML object>"
      ]
     },
     "metadata": {},
     "output_type": "display_data"
    },
    {
     "data": {
      "text/html": [
       "<span style='font-weight: bold;margin-top=80px;margin-bottom=80px; font-size:25px; color:black'>The subgraph does not have any infromation about the class of the instances of this property</span>"
      ],
      "text/plain": [
       "<IPython.core.display.HTML object>"
      ]
     },
     "metadata": {},
     "output_type": "display_data"
    },
    {
     "data": {
      "text/html": [
       "<span style='font-weight: bold;margin-top=80px;margin-bottom=80px; font-size:25px; color:blue'>Below is ditribution of Seal_image in different classes</span>"
      ],
      "text/plain": [
       "<IPython.core.display.HTML object>"
      ]
     },
     "metadata": {},
     "output_type": "display_data"
    },
    {
     "data": {
      "text/html": [
       "<span style='font-weight: bold;margin-top=80px;margin-bottom=80px; font-size:25px; color:black'>The subgraph does not have any infromation about the class of the instances of this property</span>"
      ],
      "text/plain": [
       "<IPython.core.display.HTML object>"
      ]
     },
     "metadata": {},
     "output_type": "display_data"
    },
    {
     "data": {
      "text/html": [
       "<span style='font-weight: bold;margin-top=80px;margin-bottom=80px; font-size:25px; color:blue'>Below are statistics for top properties of Datatype:Monolingualtext</span>"
      ],
      "text/plain": [
       "<IPython.core.display.HTML object>"
      ]
     },
     "metadata": {},
     "output_type": "display_data"
    },
    {
     "data": {
      "text/html": [
       "<span style='font-weight: bold;margin-top=80px;margin-bottom=80px; font-size:25px; color:blue'>Below is ditribution of Demonym in different classes</span>"
      ],
      "text/plain": [
       "<IPython.core.display.HTML object>"
      ]
     },
     "metadata": {},
     "output_type": "display_data"
    },
    {
     "data": {
      "text/html": [
       "<span style='font-weight: bold;margin-top=80px;margin-bottom=80px; font-size:25px; color:black'>The subgraph does not have any infromation about the class of the instances of this property</span>"
      ],
      "text/plain": [
       "<IPython.core.display.HTML object>"
      ]
     },
     "metadata": {},
     "output_type": "display_data"
    },
    {
     "data": {
      "text/html": [
       "<span style='font-weight: bold;margin-top=80px;margin-bottom=80px; font-size:25px; color:blue'>Below is ditribution of Official_name in different classes</span>"
      ],
      "text/plain": [
       "<IPython.core.display.HTML object>"
      ]
     },
     "metadata": {},
     "output_type": "display_data"
    },
    {
     "data": {
      "text/html": [
       "<span style='font-weight: bold;margin-top=80px;margin-bottom=80px; font-size:25px; color:black'>The subgraph does not have any infromation about the class of the instances of this property</span>"
      ],
      "text/plain": [
       "<IPython.core.display.HTML object>"
      ]
     },
     "metadata": {},
     "output_type": "display_data"
    },
    {
     "data": {
      "text/html": [
       "<span style='font-weight: bold;margin-top=80px;margin-bottom=80px; font-size:25px; color:blue'>Below is ditribution of Short_name in different classes</span>"
      ],
      "text/plain": [
       "<IPython.core.display.HTML object>"
      ]
     },
     "metadata": {},
     "output_type": "display_data"
    },
    {
     "data": {
      "text/html": [
       "<span style='font-weight: bold;margin-top=80px;margin-bottom=80px; font-size:25px; color:black'>The subgraph does not have any infromation about the class of the instances of this property</span>"
      ],
      "text/plain": [
       "<IPython.core.display.HTML object>"
      ]
     },
     "metadata": {},
     "output_type": "display_data"
    },
    {
     "data": {
      "text/html": [
       "<span style='font-weight: bold;margin-top=80px;margin-bottom=80px; font-size:25px; color:blue'>Below is ditribution of Native_label in different classes</span>"
      ],
      "text/plain": [
       "<IPython.core.display.HTML object>"
      ]
     },
     "metadata": {},
     "output_type": "display_data"
    },
    {
     "data": {
      "text/html": [
       "<span style='font-weight: bold;margin-top=80px;margin-bottom=80px; font-size:25px; color:black'>The subgraph does not have any infromation about the class of the instances of this property</span>"
      ],
      "text/plain": [
       "<IPython.core.display.HTML object>"
      ]
     },
     "metadata": {},
     "output_type": "display_data"
    },
    {
     "data": {
      "text/html": [
       "<span style='font-weight: bold;margin-top=80px;margin-bottom=80px; font-size:25px; color:blue'>Below is ditribution of Female_form_of_label in different classes</span>"
      ],
      "text/plain": [
       "<IPython.core.display.HTML object>"
      ]
     },
     "metadata": {},
     "output_type": "display_data"
    },
    {
     "data": {
      "text/html": [
       "<span style='font-weight: bold;margin-top=80px;margin-bottom=80px; font-size:25px; color:black'>The subgraph does not have any infromation about the class of the instances of this property</span>"
      ],
      "text/plain": [
       "<IPython.core.display.HTML object>"
      ]
     },
     "metadata": {},
     "output_type": "display_data"
    },
    {
     "data": {
      "text/html": [
       "<span style='font-weight: bold;margin-top=80px;margin-bottom=80px; font-size:25px; color:blue'>Below is ditribution of Street_address in different classes</span>"
      ],
      "text/plain": [
       "<IPython.core.display.HTML object>"
      ]
     },
     "metadata": {},
     "output_type": "display_data"
    },
    {
     "data": {
      "text/html": [
       "<span style='font-weight: bold;margin-top=80px;margin-bottom=80px; font-size:25px; color:black'>The subgraph does not have any infromation about the class of the instances of this property</span>"
      ],
      "text/plain": [
       "<IPython.core.display.HTML object>"
      ]
     },
     "metadata": {},
     "output_type": "display_data"
    },
    {
     "data": {
      "text/html": [
       "<span style='font-weight: bold;margin-top=80px;margin-bottom=80px; font-size:25px; color:blue'>Below is ditribution of Male_form_of_label in different classes</span>"
      ],
      "text/plain": [
       "<IPython.core.display.HTML object>"
      ]
     },
     "metadata": {},
     "output_type": "display_data"
    },
    {
     "data": {
      "text/html": [
       "<span style='font-weight: bold;margin-top=80px;margin-bottom=80px; font-size:25px; color:black'>The subgraph does not have any infromation about the class of the instances of this property</span>"
      ],
      "text/plain": [
       "<IPython.core.display.HTML object>"
      ]
     },
     "metadata": {},
     "output_type": "display_data"
    },
    {
     "data": {
      "text/html": [
       "<span style='font-weight: bold;margin-top=80px;margin-bottom=80px; font-size:25px; color:blue'>Below is ditribution of Title in different classes</span>"
      ],
      "text/plain": [
       "<IPython.core.display.HTML object>"
      ]
     },
     "metadata": {},
     "output_type": "display_data"
    },
    {
     "data": {
      "text/html": [
       "<span style='font-weight: bold;margin-top=80px;margin-bottom=80px; font-size:25px; color:black'>The subgraph does not have any infromation about the class of the instances of this property</span>"
      ],
      "text/plain": [
       "<IPython.core.display.HTML object>"
      ]
     },
     "metadata": {},
     "output_type": "display_data"
    },
    {
     "data": {
      "text/html": [
       "<span style='font-weight: bold;margin-top=80px;margin-bottom=80px; font-size:25px; color:blue'>Below is ditribution of Name_in_native_language in different classes</span>"
      ],
      "text/plain": [
       "<IPython.core.display.HTML object>"
      ]
     },
     "metadata": {},
     "output_type": "display_data"
    },
    {
     "data": {
      "text/html": [
       "<span style='font-weight: bold;margin-top=80px;margin-bottom=80px; font-size:25px; color:black'>The subgraph does not have any infromation about the class of the instances of this property</span>"
      ],
      "text/plain": [
       "<IPython.core.display.HTML object>"
      ]
     },
     "metadata": {},
     "output_type": "display_data"
    },
    {
     "data": {
      "text/html": [
       "<span style='font-weight: bold;margin-top=80px;margin-bottom=80px; font-size:25px; color:blue'>Below is ditribution of Nickname in different classes</span>"
      ],
      "text/plain": [
       "<IPython.core.display.HTML object>"
      ]
     },
     "metadata": {},
     "output_type": "display_data"
    },
    {
     "data": {
      "text/html": [
       "<span style='font-weight: bold;margin-top=80px;margin-bottom=80px; font-size:25px; color:black'>The subgraph does not have any infromation about the class of the instances of this property</span>"
      ],
      "text/plain": [
       "<IPython.core.display.HTML object>"
      ]
     },
     "metadata": {},
     "output_type": "display_data"
    },
    {
     "data": {
      "text/html": [
       "<span style='font-weight: bold;margin-top=80px;margin-bottom=80px; font-size:25px; color:blue'>Below are statistics for top properties of Datatype:Musical-notation</span>"
      ],
      "text/plain": [
       "<IPython.core.display.HTML object>"
      ]
     },
     "metadata": {},
     "output_type": "display_data"
    },
    {
     "data": {
      "text/html": [
       "<span style='font-weight: bold;margin-top=80px;margin-bottom=80px; font-size:25px; color:blue'>Below are statistics for top properties of Datatype:Geo-shape</span>"
      ],
      "text/plain": [
       "<IPython.core.display.HTML object>"
      ]
     },
     "metadata": {},
     "output_type": "display_data"
    },
    {
     "data": {
      "text/html": [
       "<span style='font-weight: bold;margin-top=80px;margin-bottom=80px; font-size:25px; color:blue'>Below is ditribution of Geoshape in different classes</span>"
      ],
      "text/plain": [
       "<IPython.core.display.HTML object>"
      ]
     },
     "metadata": {},
     "output_type": "display_data"
    },
    {
     "data": {
      "text/html": [
       "<span style='font-weight: bold;margin-top=80px;margin-bottom=80px; font-size:25px; color:black'>The subgraph does not have any infromation about the class of the instances of this property</span>"
      ],
      "text/plain": [
       "<IPython.core.display.HTML object>"
      ]
     },
     "metadata": {},
     "output_type": "display_data"
    },
    {
     "data": {
      "text/html": [
       "<span style='font-weight: bold;margin-top=80px;margin-bottom=80px; font-size:25px; color:blue'>Below are statistics for top properties of Datatype:Url</span>"
      ],
      "text/plain": [
       "<IPython.core.display.HTML object>"
      ]
     },
     "metadata": {},
     "output_type": "display_data"
    },
    {
     "data": {
      "text/html": [
       "<span style='font-weight: bold;margin-top=80px;margin-bottom=80px; font-size:25px; color:blue'>Below is ditribution of Official_website in different classes</span>"
      ],
      "text/plain": [
       "<IPython.core.display.HTML object>"
      ]
     },
     "metadata": {},
     "output_type": "display_data"
    },
    {
     "data": {
      "text/html": [
       "<span style='font-weight: bold;margin-top=80px;margin-bottom=80px; font-size:25px; color:black'>The subgraph does not have any infromation about the class of the instances of this property</span>"
      ],
      "text/plain": [
       "<IPython.core.display.HTML object>"
      ]
     },
     "metadata": {},
     "output_type": "display_data"
    },
    {
     "data": {
      "text/html": [
       "<span style='font-weight: bold;margin-top=80px;margin-bottom=80px; font-size:25px; color:blue'>Below is ditribution of Exact_match in different classes</span>"
      ],
      "text/plain": [
       "<IPython.core.display.HTML object>"
      ]
     },
     "metadata": {},
     "output_type": "display_data"
    },
    {
     "data": {
      "text/html": [
       "<span style='font-weight: bold;margin-top=80px;margin-bottom=80px; font-size:25px; color:black'>The subgraph does not have any infromation about the class of the instances of this property</span>"
      ],
      "text/plain": [
       "<IPython.core.display.HTML object>"
      ]
     },
     "metadata": {},
     "output_type": "display_data"
    },
    {
     "data": {
      "text/html": [
       "<span style='font-weight: bold;margin-top=80px;margin-bottom=80px; font-size:25px; color:blue'>Below is ditribution of Equivalent_class in different classes</span>"
      ],
      "text/plain": [
       "<IPython.core.display.HTML object>"
      ]
     },
     "metadata": {},
     "output_type": "display_data"
    },
    {
     "data": {
      "text/html": [
       "<span style='font-weight: bold;margin-top=80px;margin-bottom=80px; font-size:25px; color:black'>The subgraph does not have any infromation about the class of the instances of this property</span>"
      ],
      "text/plain": [
       "<IPython.core.display.HTML object>"
      ]
     },
     "metadata": {},
     "output_type": "display_data"
    },
    {
     "data": {
      "text/html": [
       "<span style='font-weight: bold;margin-top=80px;margin-bottom=80px; font-size:25px; color:blue'>Below is ditribution of Full_work_available_at_url in different classes</span>"
      ],
      "text/plain": [
       "<IPython.core.display.HTML object>"
      ]
     },
     "metadata": {},
     "output_type": "display_data"
    },
    {
     "data": {
      "text/html": [
       "<span style='font-weight: bold;margin-top=80px;margin-bottom=80px; font-size:25px; color:black'>The subgraph does not have any infromation about the class of the instances of this property</span>"
      ],
      "text/plain": [
       "<IPython.core.display.HTML object>"
      ]
     },
     "metadata": {},
     "output_type": "display_data"
    },
    {
     "data": {
      "text/html": [
       "<span style='font-weight: bold;margin-top=80px;margin-bottom=80px; font-size:25px; color:blue'>Below is ditribution of Stack_exchange_tag in different classes</span>"
      ],
      "text/plain": [
       "<IPython.core.display.HTML object>"
      ]
     },
     "metadata": {},
     "output_type": "display_data"
    },
    {
     "data": {
      "text/html": [
       "<span style='font-weight: bold;margin-top=80px;margin-bottom=80px; font-size:25px; color:black'>The subgraph does not have any infromation about the class of the instances of this property</span>"
      ],
      "text/plain": [
       "<IPython.core.display.HTML object>"
      ]
     },
     "metadata": {},
     "output_type": "display_data"
    },
    {
     "data": {
      "text/html": [
       "<span style='font-weight: bold;margin-top=80px;margin-bottom=80px; font-size:25px; color:blue'>Below is ditribution of Wordlift_url in different classes</span>"
      ],
      "text/plain": [
       "<IPython.core.display.HTML object>"
      ]
     },
     "metadata": {},
     "output_type": "display_data"
    },
    {
     "data": {
      "text/html": [
       "<span style='font-weight: bold;margin-top=80px;margin-bottom=80px; font-size:25px; color:black'>The subgraph does not have any infromation about the class of the instances of this property</span>"
      ],
      "text/plain": [
       "<IPython.core.display.HTML object>"
      ]
     },
     "metadata": {},
     "output_type": "display_data"
    },
    {
     "data": {
      "text/html": [
       "<span style='font-weight: bold;margin-top=80px;margin-bottom=80px; font-size:25px; color:blue'>Below is ditribution of Url in different classes</span>"
      ],
      "text/plain": [
       "<IPython.core.display.HTML object>"
      ]
     },
     "metadata": {},
     "output_type": "display_data"
    },
    {
     "data": {
      "text/html": [
       "<span style='font-weight: bold;margin-top=80px;margin-bottom=80px; font-size:25px; color:black'>The subgraph does not have any infromation about the class of the instances of this property</span>"
      ],
      "text/plain": [
       "<IPython.core.display.HTML object>"
      ]
     },
     "metadata": {},
     "output_type": "display_data"
    },
    {
     "data": {
      "text/html": [
       "<span style='font-weight: bold;margin-top=80px;margin-bottom=80px; font-size:25px; color:blue'>Below is ditribution of Reference_url in different classes</span>"
      ],
      "text/plain": [
       "<IPython.core.display.HTML object>"
      ]
     },
     "metadata": {},
     "output_type": "display_data"
    },
    {
     "data": {
      "text/html": [
       "<span style='font-weight: bold;margin-top=80px;margin-bottom=80px; font-size:25px; color:black'>The subgraph does not have any infromation about the class of the instances of this property</span>"
      ],
      "text/plain": [
       "<IPython.core.display.HTML object>"
      ]
     },
     "metadata": {},
     "output_type": "display_data"
    },
    {
     "data": {
      "text/html": [
       "<span style='font-weight: bold;margin-top=80px;margin-bottom=80px; font-size:25px; color:blue'>Below is ditribution of Webcam_page_url in different classes</span>"
      ],
      "text/plain": [
       "<IPython.core.display.HTML object>"
      ]
     },
     "metadata": {},
     "output_type": "display_data"
    },
    {
     "data": {
      "text/html": [
       "<span style='font-weight: bold;margin-top=80px;margin-bottom=80px; font-size:25px; color:black'>The subgraph does not have any infromation about the class of the instances of this property</span>"
      ],
      "text/plain": [
       "<IPython.core.display.HTML object>"
      ]
     },
     "metadata": {},
     "output_type": "display_data"
    },
    {
     "data": {
      "text/html": [
       "<span style='font-weight: bold;margin-top=80px;margin-bottom=80px; font-size:25px; color:blue'>Below is ditribution of Web_feed_url in different classes</span>"
      ],
      "text/plain": [
       "<IPython.core.display.HTML object>"
      ]
     },
     "metadata": {},
     "output_type": "display_data"
    },
    {
     "data": {
      "text/html": [
       "<span style='font-weight: bold;margin-top=80px;margin-bottom=80px; font-size:25px; color:black'>The subgraph does not have any infromation about the class of the instances of this property</span>"
      ],
      "text/plain": [
       "<IPython.core.display.HTML object>"
      ]
     },
     "metadata": {},
     "output_type": "display_data"
    }
   ],
   "source": [
    "try:\n",
    "    types_with_fileName = [\n",
    "            (\"wikibase_item\",\"Wikibase_item\",\"property_summary_wikibase_item\"),\n",
    "            (\"math\",\"Math\",\"property_summary_math\"),\n",
    "            (\"wikibase_form\",\"Wikibase-form\",\"property_summary_wikibase_form\"),\n",
    "            (\"external_id\",\"External-id\",\"property_summary_external_id\"),\n",
    "            (\"commonsMedia\",\"CommonsMedia\",\"property_summary_commonsMedia\"),\n",
    "            (\"monolingualtext\",\"Monolingualtext\",\"property_summary_monolingualtext\"),\n",
    "            (\"musical_notation\",\"Musical-notation\",\"property_summary_musical_notation\"),\n",
    "            (\"geo_shape\",\"Geo-shape\",\"property_summary_geo_shape\"),\n",
    "            (\"url\",\"Url\",\"property_summary_url\"),\n",
    "        ]\n",
    "\n",
    "    for property_type,property_head,property_file in types_with_fileName:\n",
    "        #Initializing the dataframe pd_time_property with the list of top properties of datatype:time found above in the notebook  \n",
    "        pd_property = pd.read_csv(os.path.join(os.getenv('OVERVIEW_FOLDER'),os.getenv(property_file)),delimiter='\\t')\n",
    "        printmd(\"Below are statistics for top properties of Datatype:\" + property_head.capitalize(),'blue')\n",
    "        for index,ele in pd_property.iterrows():\n",
    "\n",
    "            #Ignoring the 'Other Instances' row\n",
    "            if index>=int_k or ele['Property_Label'] ==\"Other Properties\":\n",
    "                break;\n",
    "\n",
    "            # Extracting the \"Pnode\" corresponding to the property\n",
    "            pnode = ele['Link'].split('/')[-1].split(\":\")[-1]\n",
    "\n",
    "            if pnode == \"P31\":\n",
    "                continue\n",
    "\n",
    "            #Extracting the 'Label' corresponding to the property\n",
    "            prop_label = re.sub(\"[^0-9a-zA-Z]+\", \"_\",  ele['Property_Label'])\n",
    "\n",
    "            property_distribution(pnode,property_type,prop_label)\n",
    "except Exception as e:\n",
    "    print(e)"
   ]
  },
  {
   "cell_type": "code",
   "execution_count": 35,
   "metadata": {
    "execution": {
     "iopub.execute_input": "2021-01-04T11:59:37.295000Z",
     "iopub.status.busy": "2021-01-04T11:59:37.290862Z",
     "iopub.status.idle": "2021-01-04T11:59:41.350987Z",
     "shell.execute_reply": "2021-01-04T11:59:41.351455Z"
    },
    "papermill": {
     "duration": 4.333137,
     "end_time": "2021-01-04T11:59:41.351609",
     "exception": false,
     "start_time": "2021-01-04T11:59:37.018472",
     "status": "completed"
    },
    "scrolled": false,
    "tags": []
   },
   "outputs": [
    {
     "data": {
      "text/html": [
       "<span style='font-weight: bold;margin-top=80px;margin-bottom=80px; font-size:25px; color:blue'>Below is the distribution of coordinate for Property:Coordinate_location</span>"
      ],
      "text/plain": [
       "<IPython.core.display.HTML object>"
      ]
     },
     "metadata": {},
     "output_type": "display_data"
    },
    {
     "data": {
      "text/html": [
       "<span style='font-weight: bold;margin-top=80px;margin-bottom=80px; font-size:25px; color:black'>There is no information about the classes(identified by 'P31') in this subgraph</span>"
      ],
      "text/plain": [
       "<IPython.core.display.HTML object>"
      ]
     },
     "metadata": {},
     "output_type": "display_data"
    },
    {
     "data": {
      "text/html": [
       "<span style='font-weight: bold;margin-top=80px;margin-bottom=80px; font-size:25px; color:blue'>Below is the distribution of coordinate for Property:Coordinates_of_northernmost_point</span>"
      ],
      "text/plain": [
       "<IPython.core.display.HTML object>"
      ]
     },
     "metadata": {},
     "output_type": "display_data"
    },
    {
     "data": {
      "text/html": [
       "<span style='font-weight: bold;margin-top=80px;margin-bottom=80px; font-size:25px; color:black'>There is no information about the classes(identified by 'P31') in this subgraph</span>"
      ],
      "text/plain": [
       "<IPython.core.display.HTML object>"
      ]
     },
     "metadata": {},
     "output_type": "display_data"
    },
    {
     "data": {
      "text/html": [
       "<span style='font-weight: bold;margin-top=80px;margin-bottom=80px; font-size:25px; color:blue'>Below is the distribution of coordinate for Property:Coordinates_of_westernmost_point</span>"
      ],
      "text/plain": [
       "<IPython.core.display.HTML object>"
      ]
     },
     "metadata": {},
     "output_type": "display_data"
    },
    {
     "data": {
      "text/html": [
       "<span style='font-weight: bold;margin-top=80px;margin-bottom=80px; font-size:25px; color:black'>There is no information about the classes(identified by 'P31') in this subgraph</span>"
      ],
      "text/plain": [
       "<IPython.core.display.HTML object>"
      ]
     },
     "metadata": {},
     "output_type": "display_data"
    },
    {
     "data": {
      "text/html": [
       "<span style='font-weight: bold;margin-top=80px;margin-bottom=80px; font-size:25px; color:blue'>Below is the distribution of coordinate for Property:Coordinates_of_southernmost_point</span>"
      ],
      "text/plain": [
       "<IPython.core.display.HTML object>"
      ]
     },
     "metadata": {},
     "output_type": "display_data"
    },
    {
     "data": {
      "text/html": [
       "<span style='font-weight: bold;margin-top=80px;margin-bottom=80px; font-size:25px; color:black'>There is no information about the classes(identified by 'P31') in this subgraph</span>"
      ],
      "text/plain": [
       "<IPython.core.display.HTML object>"
      ]
     },
     "metadata": {},
     "output_type": "display_data"
    },
    {
     "data": {
      "text/html": [
       "<span style='font-weight: bold;margin-top=80px;margin-bottom=80px; font-size:25px; color:blue'>Below is the distribution of coordinate for Property:Coordinates_of_easternmost_point</span>"
      ],
      "text/plain": [
       "<IPython.core.display.HTML object>"
      ]
     },
     "metadata": {},
     "output_type": "display_data"
    },
    {
     "data": {
      "text/html": [
       "<span style='font-weight: bold;margin-top=80px;margin-bottom=80px; font-size:25px; color:black'>There is no information about the classes(identified by 'P31') in this subgraph</span>"
      ],
      "text/plain": [
       "<IPython.core.display.HTML object>"
      ]
     },
     "metadata": {},
     "output_type": "display_data"
    },
    {
     "data": {
      "text/html": [
       "<span style='font-weight: bold;margin-top=80px;margin-bottom=80px; font-size:25px; color:blue'>Below is the distribution of coordinate for Property:Coordinates_of_geographic_center</span>"
      ],
      "text/plain": [
       "<IPython.core.display.HTML object>"
      ]
     },
     "metadata": {},
     "output_type": "display_data"
    },
    {
     "data": {
      "text/html": [
       "<span style='font-weight: bold;margin-top=80px;margin-bottom=80px; font-size:25px; color:black'>There is no information about the classes(identified by 'P31') in this subgraph</span>"
      ],
      "text/plain": [
       "<IPython.core.display.HTML object>"
      ]
     },
     "metadata": {},
     "output_type": "display_data"
    }
   ],
   "source": [
    "try:\n",
    "    cmd_coord_distribution_class = \"$kgtk query  -i $WIKIDATA_PARTS/$globe_coordinate -i $WIKIDATA_PARTS/$wikibase_item -i $WIKIDATA_PARTS/$label --graph-cache $STORE \\\n",
    "           -o $PROPERTY_OVERVIEW/__output_file \\\n",
    "           --match 'coordinate: (n1)-[l{label:llab}]->(n2), item: (n1)-[r{label:llab2}]->(class:__class) ' \\\n",
    "           --return 'distinct n2 as coordinate, kgtk_geo_coords_lat(n2) as latitude, kgtk_geo_coords_long(n2) as longitude, count(n2) as Number_of_points  '\\\n",
    "           --where 'llab in [\\\"__prop\\\"] AND llab2 in [\\\"P31\\\"]' \\\n",
    "           --order-by 'count(n2) desc'\"\n",
    "\n",
    "    cmd_distribution = \"$kgtk query -i $WIKIDATA_PARTS/$globe_coordinate -i $WIKIDATA_PARTS/$wikibase_item  -i $WIKIDATA_PARTS/$label --graph-cache $STORE \\\n",
    "        -o $PROPERTY_OVERVIEW/__output_file \\\n",
    "        --match  'coordinate: (n1)-[r{label:llab}]->(v), item:(n1)-[l{label:llab2}]->(class), label:(class)-[:label]->(class_with_label)' \\\n",
    "        --return 'distinct kgtk_lqstring_text(class_with_label) as Class, count(kgtk_lqstring_text(class_with_label)) as Number_of_Instances, class as Qnode' \\\n",
    "        --where 'llab in [\\\"__prop\\\"] AND llab2 in [\\\"P31\\\"] AND kgtk_lqstring_lang_suffix(class_with_label) = \\\"en\\\" ' \\\n",
    "        --order-by 'Number_of_Instances desc' \"\n",
    "\n",
    "    #Initializing the dataframe pd_time_property with the list of top properties of datatype:time found above in the notebook  \n",
    "    pd_coord_property = pd.read_csv(os.path.join(os.getenv('OVERVIEW_FOLDER'),os.getenv('property_summary_globe_coordinate')),delimiter='\\t')\n",
    "    for index,ele in pd_coord_property.iterrows():\n",
    "        #Ignoring the 'Other Instances' row\n",
    "        if index>=int_k or ele['Property_Label'] ==\"Other Properties\":\n",
    "            break;\n",
    "\n",
    "        # Extracting the \"Pnode\" corresponding to the property\n",
    "        pnode = ele['Link'].split('/')[-1].split(\":\")[-1]\n",
    "\n",
    "        #Extracting the 'Label' corresponding to the property\n",
    "        prop_label = re.sub(\"[^0-9a-zA-Z]+\", \"_\", ele['Property_Label'])\n",
    "\n",
    "        printmd(\"Below is the distribution of coordinate for Property:\" + prop_label.capitalize(),'blue')\n",
    "\n",
    "        output_file_class_distribution= \"Property_overview.globe_coordinate.\"+prop_label+\".class_distribution.tsv\"\n",
    "        property_class_distribution = run_command_return_df(cmd_distribution,\"PROPERTY_OVERVIEW\",output_file_class_distribution,{\"__output_file\":output_file_class_distribution,\"__prop\":pnode},save=True,restart=True);\n",
    "        \n",
    "        if(len(property_class_distribution)>0):\n",
    "            for index2,ele2 in property_class_distribution.iterrows():        \n",
    "                if index2>=int_k or ele['Property_Label'] ==\"Other Classes\":\n",
    "                    break;\n",
    "\n",
    "                class_label = re.sub(\"[^0-9a-zA-Z]+\", \"_\", ele2['Class'])\n",
    "\n",
    "                qnode = ele2[\"Qnode\"]\n",
    "\n",
    "                #Dynamically setting the name of the output file based on the name of property\n",
    "                output_file_coord_destribution = \"Property_overview.globe_coordinate.\"+prop_label+\".\"+class_label+\".distribution.tsv\";\n",
    "\n",
    "                #Running command cmd_coord_distribution_class\n",
    "                coordinate_destribution = run_command_return_df(cmd_coord_distribution_class,\"PROPERTY_OVERVIEW\",output_file_coord_destribution,{\"__output_file\":output_file_coord_destribution,\"__prop\":pnode,\"__class\":qnode},save=True,restart=True);\n",
    "                printmd(\"Below is the distribution of coordinate for Property:\" + prop_label.capitalize()+\" for Class:\"+class_label.capitalize(),'blue')\n",
    "                if(len(coordinate_destribution)>0):\n",
    "                    display(HTML(coordinate_destribution[:int_k].to_html(index=False)))\n",
    "                else:\n",
    "                    printmd(\"There is no information about the coordinates for this class\")\n",
    "        else:\n",
    "            printmd(\"There is no information about the classes(identified by 'P31') in this subgraph\")\n",
    "except Exception as e:\n",
    "    print(e)"
   ]
  },
  {
   "cell_type": "code",
   "execution_count": 36,
   "metadata": {
    "execution": {
     "iopub.execute_input": "2021-01-04T11:59:41.922348Z",
     "iopub.status.busy": "2021-01-04T11:59:41.921192Z",
     "iopub.status.idle": "2021-01-04T11:59:41.990132Z",
     "shell.execute_reply": "2021-01-04T11:59:41.990592Z"
    },
    "papermill": {
     "duration": 0.357849,
     "end_time": "2021-01-04T11:59:41.990747",
     "exception": false,
     "start_time": "2021-01-04T11:59:41.632898",
     "status": "completed"
    },
    "scrolled": false,
    "tags": []
   },
   "outputs": [
    {
     "data": {
      "text/html": [
       "<span style='font-weight: bold;margin-top=80px;margin-bottom=80px; font-size:25px; color:blue'>Below are random samples from Geo-shape data</span>"
      ],
      "text/plain": [
       "<IPython.core.display.HTML object>"
      ]
     },
     "metadata": {},
     "output_type": "display_data"
    },
    {
     "data": {
      "text/html": [
       "<div>\n",
       "<style scoped>\n",
       "    .dataframe tbody tr th:only-of-type {\n",
       "        vertical-align: middle;\n",
       "    }\n",
       "\n",
       "    .dataframe tbody tr th {\n",
       "        vertical-align: top;\n",
       "    }\n",
       "\n",
       "    .dataframe thead th {\n",
       "        text-align: right;\n",
       "    }\n",
       "</style>\n",
       "<table border=\"1\" class=\"dataframe\">\n",
       "  <thead>\n",
       "    <tr style=\"text-align: right;\">\n",
       "      <th></th>\n",
       "      <th>id</th>\n",
       "      <th>node1</th>\n",
       "      <th>label</th>\n",
       "      <th>node2</th>\n",
       "      <th>node2;wikidatatype</th>\n",
       "    </tr>\n",
       "  </thead>\n",
       "  <tbody>\n",
       "    <tr>\n",
       "      <th>86</th>\n",
       "      <td>Q218-P3896-276c37-dd941759-0</td>\n",
       "      <td>Q218</td>\n",
       "      <td>P3896</td>\n",
       "      <td>Data:Romania.map</td>\n",
       "      <td>geo-shape</td>\n",
       "    </tr>\n",
       "    <tr>\n",
       "      <th>169</th>\n",
       "      <td>Q794-P3896-bea62e-37ecf26b-0</td>\n",
       "      <td>Q794</td>\n",
       "      <td>P3896</td>\n",
       "      <td>Data:Iran.map</td>\n",
       "      <td>geo-shape</td>\n",
       "    </tr>\n",
       "    <tr>\n",
       "      <th>111</th>\n",
       "      <td>Q3083-P3896-a0c790-544e31b3-0</td>\n",
       "      <td>Q3083</td>\n",
       "      <td>P3896</td>\n",
       "      <td>Data:Ain.map</td>\n",
       "      <td>geo-shape</td>\n",
       "    </tr>\n",
       "    <tr>\n",
       "      <th>131</th>\n",
       "      <td>Q3357-P3896-9eb234-e1986a29-0</td>\n",
       "      <td>Q3357</td>\n",
       "      <td>P3896</td>\n",
       "      <td>Data:Dordogne.map</td>\n",
       "      <td>geo-shape</td>\n",
       "    </tr>\n",
       "    <tr>\n",
       "      <th>147</th>\n",
       "      <td>Q414-P3896-3c2820-4bc2edf3-0</td>\n",
       "      <td>Q414</td>\n",
       "      <td>P3896</td>\n",
       "      <td>Data:Argentina.map</td>\n",
       "      <td>geo-shape</td>\n",
       "    </tr>\n",
       "    <tr>\n",
       "      <th>179</th>\n",
       "      <td>Q837-P3896-30bf40-2231efca-0</td>\n",
       "      <td>Q837</td>\n",
       "      <td>P3896</td>\n",
       "      <td>Data:Nepal.map</td>\n",
       "      <td>geo-shape</td>\n",
       "    </tr>\n",
       "    <tr>\n",
       "      <th>119</th>\n",
       "      <td>Q32-P3896-91b57d-2292122e-0</td>\n",
       "      <td>Q32</td>\n",
       "      <td>P3896</td>\n",
       "      <td>Data:Luxembourg.map</td>\n",
       "      <td>geo-shape</td>\n",
       "    </tr>\n",
       "    <tr>\n",
       "      <th>97</th>\n",
       "      <td>Q238-P3896-c80d9f-a5b11a5a-0</td>\n",
       "      <td>Q238</td>\n",
       "      <td>P3896</td>\n",
       "      <td>Data:San Marino.map</td>\n",
       "      <td>geo-shape</td>\n",
       "    </tr>\n",
       "    <tr>\n",
       "      <th>176</th>\n",
       "      <td>Q822-P3896-2aaf42-92678e4f-0</td>\n",
       "      <td>Q822</td>\n",
       "      <td>P3896</td>\n",
       "      <td>Data:Lebanon.map</td>\n",
       "      <td>geo-shape</td>\n",
       "    </tr>\n",
       "    <tr>\n",
       "      <th>70</th>\n",
       "      <td>Q188890-P3896-db78a4-4a6a350f-0</td>\n",
       "      <td>Q188890</td>\n",
       "      <td>P3896</td>\n",
       "      <td>Data:Hungary/Veszprém.map</td>\n",
       "      <td>geo-shape</td>\n",
       "    </tr>\n",
       "  </tbody>\n",
       "</table>\n",
       "</div>"
      ],
      "text/plain": [
       "                                  id    node1  label  \\\n",
       "86      Q218-P3896-276c37-dd941759-0     Q218  P3896   \n",
       "169     Q794-P3896-bea62e-37ecf26b-0     Q794  P3896   \n",
       "111    Q3083-P3896-a0c790-544e31b3-0    Q3083  P3896   \n",
       "131    Q3357-P3896-9eb234-e1986a29-0    Q3357  P3896   \n",
       "147     Q414-P3896-3c2820-4bc2edf3-0     Q414  P3896   \n",
       "179     Q837-P3896-30bf40-2231efca-0     Q837  P3896   \n",
       "119      Q32-P3896-91b57d-2292122e-0      Q32  P3896   \n",
       "97      Q238-P3896-c80d9f-a5b11a5a-0     Q238  P3896   \n",
       "176     Q822-P3896-2aaf42-92678e4f-0     Q822  P3896   \n",
       "70   Q188890-P3896-db78a4-4a6a350f-0  Q188890  P3896   \n",
       "\n",
       "                         node2 node2;wikidatatype  \n",
       "86            Data:Romania.map          geo-shape  \n",
       "169              Data:Iran.map          geo-shape  \n",
       "111               Data:Ain.map          geo-shape  \n",
       "131          Data:Dordogne.map          geo-shape  \n",
       "147         Data:Argentina.map          geo-shape  \n",
       "179             Data:Nepal.map          geo-shape  \n",
       "119        Data:Luxembourg.map          geo-shape  \n",
       "97         Data:San Marino.map          geo-shape  \n",
       "176           Data:Lebanon.map          geo-shape  \n",
       "70   Data:Hungary/Veszprém.map          geo-shape  "
      ]
     },
     "metadata": {},
     "output_type": "display_data"
    }
   ],
   "source": [
    "try:\n",
    "    df = pd.read_csv(os.path.join(os.getenv('WIKIDATA_PARTS'),os.getenv('geo_shape')),delimiter='\\t',index_col=False)\n",
    "    try:\n",
    "        num_rows = min(int(K[1:-1]),len(df))\n",
    "    except Exception as e:\n",
    "        num_rows = min(int(K),len(df))\n",
    "    df = df.sample(n=num_rows)\n",
    "    printmd(\"Below are random samples from Geo-shape data\" ,'blue')\n",
    "    display(df)\n",
    "    df.to_csv(os.path.join(os.getenv('PROPERTY_OVERVIEW'),os.getenv('geo_shape_random_samples')),sep='\\t',index=False)\n",
    "except Exception as e:\n",
    "    print(e)"
   ]
  },
  {
   "cell_type": "markdown",
   "metadata": {
    "papermill": {
     "duration": 0.275364,
     "end_time": "2021-01-04T11:59:42.547597",
     "exception": false,
     "start_time": "2021-01-04T11:59:42.272233",
     "status": "completed"
    },
    "tags": []
   },
   "source": [
    "## Demonstration of Class overview and Property Overview"
   ]
  },
  {
   "cell_type": "code",
   "execution_count": 37,
   "metadata": {
    "execution": {
     "iopub.execute_input": "2021-01-04T11:59:43.104524Z",
     "iopub.status.busy": "2021-01-04T11:59:43.103414Z",
     "iopub.status.idle": "2021-01-04T11:59:43.106872Z",
     "shell.execute_reply": "2021-01-04T11:59:43.107522Z"
    },
    "papermill": {
     "duration": 0.287379,
     "end_time": "2021-01-04T11:59:43.107692",
     "exception": false,
     "start_time": "2021-01-04T11:59:42.820313",
     "status": "completed"
    },
    "tags": []
   },
   "outputs": [],
   "source": [
    "#class_overview(\"Q483501\",\"artist\")"
   ]
  },
  {
   "cell_type": "code",
   "execution_count": 38,
   "metadata": {
    "execution": {
     "iopub.execute_input": "2021-01-04T11:59:43.672349Z",
     "iopub.status.busy": "2021-01-04T11:59:43.671491Z",
     "iopub.status.idle": "2021-01-04T11:59:43.674767Z",
     "shell.execute_reply": "2021-01-04T11:59:43.675514Z"
    },
    "papermill": {
     "duration": 0.289658,
     "end_time": "2021-01-04T11:59:43.675721",
     "exception": false,
     "start_time": "2021-01-04T11:59:43.386063",
     "status": "completed"
    },
    "tags": []
   },
   "outputs": [],
   "source": [
    "#class_overview(\"Q483501\",\"artist\",number_of_outgoing_properties=3)"
   ]
  },
  {
   "cell_type": "markdown",
   "metadata": {
    "papermill": {
     "duration": 0.301909,
     "end_time": "2021-01-04T11:59:44.258103",
     "exception": false,
     "start_time": "2021-01-04T11:59:43.956194",
     "status": "completed"
    },
    "tags": []
   },
   "source": [
    "# Property types\n",
    "#### [ \"time\",\n",
    "#### \"wikibase_item\",\n",
    "#### \"math\",\n",
    "#### \"wikibase_form\",\n",
    "#### \"quantity\",\n",
    "#### \"string\",\n",
    "#### \"external_id\",\n",
    "#### \"commonsMedia\",\n",
    "#### \"globe_coordinate\",\n",
    "#### \"monolingualtext\",\n",
    "#### \"musical_notation\",\n",
    "#### \"geo_shape\",\n",
    "#### \"url\"\n",
    "#### ]"
   ]
  },
  {
   "cell_type": "code",
   "execution_count": 39,
   "metadata": {
    "execution": {
     "iopub.execute_input": "2021-01-04T11:59:45.042716Z",
     "iopub.status.busy": "2021-01-04T11:59:45.041623Z",
     "iopub.status.idle": "2021-01-04T11:59:45.045117Z",
     "shell.execute_reply": "2021-01-04T11:59:45.044623Z"
    },
    "papermill": {
     "duration": 0.490367,
     "end_time": "2021-01-04T11:59:45.045342",
     "exception": false,
     "start_time": "2021-01-04T11:59:44.554975",
     "status": "completed"
    },
    "tags": []
   },
   "outputs": [],
   "source": [
    "#property_overview(\"P619\",\"space_craft_launch_time\",\"time\")"
   ]
  },
  {
   "cell_type": "markdown",
   "metadata": {
    "papermill": {
     "duration": 0.292208,
     "end_time": "2021-01-04T11:59:45.612467",
     "exception": false,
     "start_time": "2021-01-04T11:59:45.320259",
     "status": "completed"
    },
    "tags": []
   },
   "source": [
    "## Can in zoom into between _min_year and _max_year \n",
    "## Can also increase the number of classes"
   ]
  },
  {
   "cell_type": "code",
   "execution_count": 40,
   "metadata": {
    "execution": {
     "iopub.execute_input": "2021-01-04T11:59:46.188605Z",
     "iopub.status.busy": "2021-01-04T11:59:46.187788Z",
     "iopub.status.idle": "2021-01-04T11:59:46.190935Z",
     "shell.execute_reply": "2021-01-04T11:59:46.191396Z"
    },
    "papermill": {
     "duration": 0.291316,
     "end_time": "2021-01-04T11:59:46.191550",
     "exception": false,
     "start_time": "2021-01-04T11:59:45.900234",
     "status": "completed"
    },
    "scrolled": false,
    "tags": []
   },
   "outputs": [],
   "source": [
    "#property_overview(\"P619\",\"space_craft_launch_time\",\"time\",_restart=True,_min_year=1980,_max_year=2000,number_of_unique_classes=20)"
   ]
  },
  {
   "cell_type": "code",
   "execution_count": 41,
   "metadata": {
    "execution": {
     "iopub.execute_input": "2021-01-04T11:59:46.769410Z",
     "iopub.status.busy": "2021-01-04T11:59:46.768575Z",
     "iopub.status.idle": "2021-01-04T11:59:46.771788Z",
     "shell.execute_reply": "2021-01-04T11:59:46.772257Z"
    },
    "papermill": {
     "duration": 0.289651,
     "end_time": "2021-01-04T11:59:46.772416",
     "exception": false,
     "start_time": "2021-01-04T11:59:46.482765",
     "status": "completed"
    },
    "tags": []
   },
   "outputs": [],
   "source": [
    "#property_overview(\"P2207\",\"spotify_track\",\"external_id\")"
   ]
  },
  {
   "cell_type": "markdown",
   "metadata": {
    "papermill": {
     "duration": 0.274122,
     "end_time": "2021-01-04T11:59:47.317125",
     "exception": false,
     "start_time": "2021-01-04T11:59:47.043003",
     "status": "completed"
    },
    "tags": []
   },
   "source": [
    "## Can set the number of unique classes also"
   ]
  },
  {
   "cell_type": "code",
   "execution_count": 42,
   "metadata": {
    "execution": {
     "iopub.execute_input": "2021-01-04T11:59:47.872848Z",
     "iopub.status.busy": "2021-01-04T11:59:47.872145Z",
     "iopub.status.idle": "2021-01-04T11:59:47.875761Z",
     "shell.execute_reply": "2021-01-04T11:59:47.875238Z"
    },
    "papermill": {
     "duration": 0.288628,
     "end_time": "2021-01-04T11:59:47.875892",
     "exception": false,
     "start_time": "2021-01-04T11:59:47.587264",
     "status": "completed"
    },
    "tags": []
   },
   "outputs": [],
   "source": [
    "#property_overview(\"P2207\",\"spotify_track\",\"external_id\",number_of_unique_classes=20)"
   ]
  },
  {
   "cell_type": "code",
   "execution_count": 43,
   "metadata": {
    "execution": {
     "iopub.execute_input": "2021-01-04T11:59:48.442073Z",
     "iopub.status.busy": "2021-01-04T11:59:48.441069Z",
     "iopub.status.idle": "2021-01-04T11:59:48.445447Z",
     "shell.execute_reply": "2021-01-04T11:59:48.444778Z"
    },
    "papermill": {
     "duration": 0.291458,
     "end_time": "2021-01-04T11:59:48.445591",
     "exception": false,
     "start_time": "2021-01-04T11:59:48.154133",
     "status": "completed"
    },
    "tags": []
   },
   "outputs": [],
   "source": [
    "#property_overview(\"P585\",\"point_in_time\",\"time\")"
   ]
  },
  {
   "cell_type": "code",
   "execution_count": 44,
   "metadata": {
    "execution": {
     "iopub.execute_input": "2021-01-04T11:59:48.986561Z",
     "iopub.status.busy": "2021-01-04T11:59:48.985860Z",
     "iopub.status.idle": "2021-01-04T11:59:48.989085Z",
     "shell.execute_reply": "2021-01-04T11:59:48.989561Z"
    },
    "papermill": {
     "duration": 0.27695,
     "end_time": "2021-01-04T11:59:48.989936",
     "exception": false,
     "start_time": "2021-01-04T11:59:48.712986",
     "status": "completed"
    },
    "tags": []
   },
   "outputs": [],
   "source": [
    "#property_overview(\"P585\",\"point_in_time\",\"time\")"
   ]
  },
  {
   "cell_type": "code",
   "execution_count": 45,
   "metadata": {
    "execution": {
     "iopub.execute_input": "2021-01-04T11:59:49.562468Z",
     "iopub.status.busy": "2021-01-04T11:59:49.561758Z",
     "iopub.status.idle": "2021-01-04T11:59:49.565324Z",
     "shell.execute_reply": "2021-01-04T11:59:49.564827Z"
    },
    "papermill": {
     "duration": 0.287413,
     "end_time": "2021-01-04T11:59:49.565453",
     "exception": false,
     "start_time": "2021-01-04T11:59:49.278040",
     "status": "completed"
    },
    "scrolled": false,
    "tags": []
   },
   "outputs": [],
   "source": [
    "#property_overview(\"P585\",\"point_in_time\",\"time\",_min_year=1880,_max_year=1900,number_of_unique_classes=5)"
   ]
  },
  {
   "cell_type": "code",
   "execution_count": 46,
   "metadata": {
    "execution": {
     "iopub.execute_input": "2021-01-04T11:59:50.193406Z",
     "iopub.status.busy": "2021-01-04T11:59:50.192618Z",
     "iopub.status.idle": "2021-01-04T11:59:50.195640Z",
     "shell.execute_reply": "2021-01-04T11:59:50.196101Z"
    },
    "papermill": {
     "duration": 0.347579,
     "end_time": "2021-01-04T11:59:50.196253",
     "exception": false,
     "start_time": "2021-01-04T11:59:49.848674",
     "status": "completed"
    },
    "tags": []
   },
   "outputs": [],
   "source": [
    "#property_overview(\"P1090\",\"redshift\",\"quantity\")"
   ]
  },
  {
   "cell_type": "code",
   "execution_count": 47,
   "metadata": {
    "execution": {
     "iopub.execute_input": "2021-01-04T11:59:50.770055Z",
     "iopub.status.busy": "2021-01-04T11:59:50.768911Z",
     "iopub.status.idle": "2021-01-04T11:59:50.771779Z",
     "shell.execute_reply": "2021-01-04T11:59:50.772256Z"
    },
    "papermill": {
     "duration": 0.281003,
     "end_time": "2021-01-04T11:59:50.772421",
     "exception": false,
     "start_time": "2021-01-04T11:59:50.491418",
     "status": "completed"
    },
    "scrolled": false,
    "tags": []
   },
   "outputs": [],
   "source": [
    "#property_overview(\"P1086\",\"atomic number\",\"quantity\")"
   ]
  },
  {
   "cell_type": "code",
   "execution_count": 48,
   "metadata": {
    "execution": {
     "iopub.execute_input": "2021-01-04T11:59:51.357480Z",
     "iopub.status.busy": "2021-01-04T11:59:51.356783Z",
     "iopub.status.idle": "2021-01-04T11:59:51.360079Z",
     "shell.execute_reply": "2021-01-04T11:59:51.360541Z"
    },
    "papermill": {
     "duration": 0.312024,
     "end_time": "2021-01-04T11:59:51.360695",
     "exception": false,
     "start_time": "2021-01-04T11:59:51.048671",
     "status": "completed"
    },
    "scrolled": false,
    "tags": []
   },
   "outputs": [],
   "source": [
    "#property_overview(\"P1093\",\"gross tonnage\",\"quantity\")"
   ]
  }
 ],
 "metadata": {
  "kernelspec": {
   "display_name": "Python 3.7.4 64-bit ('base')",
   "language": "python",
   "name": "python37464bitbase93a1b6493da14347a91dee6b82fcd658"
  },
  "language_info": {
   "codemirror_mode": {
    "name": "ipython",
    "version": 3
   },
   "file_extension": ".py",
   "mimetype": "text/x-python",
   "name": "python",
   "nbconvert_exporter": "python",
   "pygments_lexer": "ipython3",
   "version": "3.7.4"
  },
  "papermill": {
   "default_parameters": {},
   "duration": 832.029396,
   "end_time": "2021-01-04T11:59:52.175956",
   "environment_variables": {},
   "exception": null,
   "input_path": "/Users/shashanksaurabh/Desktop/MS/ISI/isi/kgtk_shashank73744/kgtk/examples/Example_10_Wikidata_Subgraph_Statistics-Copy4.ipynb",
   "output_path": "/Users/shashanksaurabh/Desktop/MS/ISI/isi/kgtk_shashank73744/kgtk/examples/Profile_Alcoholic_Beverages.ipynb",
   "parameters": {
    "K": "\"10\"",
    "cache_folder": "/Volumes/BACKUP/Data_isi/Alcoholic_Beverages/temp",
    "delete_database": "yes",
    "output_folder": "/Volumes/BACKUP/Data_isi/Alcoholic_Beverages/stats",
    "subset_name": "Q154",
    "wikidata_home": "/Volumes/BACKUP/Data_isi/Alcoholic_Beverages/",
    "wikidata_parts_folder": "/Volumes/BACKUP/Data_isi/Alcoholic_Beverages/parts"
   },
   "start_time": "2021-01-04T11:46:00.146560",
   "version": "2.2.0"
  }
 },
 "nbformat": 4,
 "nbformat_minor": 4
}
