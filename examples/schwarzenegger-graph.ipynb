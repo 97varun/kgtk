{
 "cells": [
  {
   "cell_type": "code",
   "execution_count": 1,
   "metadata": {
    "tags": [
     "parameters"
    ]
   },
   "outputs": [],
   "source": [
    "# Parameters\n",
    "\n",
    "# Folder on local machine where to create the output and temporary folders\n",
    "output_path = \"/Users/pedroszekely/Downloads/kypher\"\n",
    "\n",
    "# The names of the output and temporary folders\n",
    "output_folder = \"kgtk\"\n",
    "temp_folder = \"temp.kgtk\"\n",
    "\n",
    "# The location of input Wikidata files\n",
    "wikidata_folder = \"/Volumes/GoogleDrive/Shared drives/KGTK/datasets/wikidata-20210215/data/\"\n",
    "\n",
    "# TDM data\n",
    "tdm_folder = \"/Volumes/GoogleDrive/Shared drives/FAAST-ISI/TDM-data/data/kgtk/\"\n",
    "\n",
    "# FactSet data\n",
    "factset_folder = \"/Volumes/GoogleDrive/Shared drives/FAAST-ISI/FactSet-data/kgtk_files/\"\n",
    "\n",
    "# Location of the cache database for kypher\n",
    "cache_path = \"/Users/pedroszekely/Downloads/kypher\"\n",
    "\n",
    "# shortcuts to commands\n",
    "kgtk = \"time kgtk --debug\"\n",
    "# kgtk = \"kgtk --debug\""
   ]
  },
  {
   "cell_type": "code",
   "execution_count": 17,
   "metadata": {},
   "outputs": [],
   "source": [
    "import io\n",
    "import os\n",
    "import subprocess\n",
    "import sys\n",
    "\n",
    "import numpy as np\n",
    "import pandas as pd\n",
    "\n",
    "import papermill as pm"
   ]
  },
  {
   "cell_type": "code",
   "execution_count": 3,
   "metadata": {},
   "outputs": [
    {
     "name": "stdout",
     "output_type": "stream",
     "text": [
      "ALIAS: \"/Volumes/GoogleDrive/Shared drives/KGTK/datasets/wikidata-20210215/data/aliases.en.tsv.gz\"\n",
      "CLAIMS: \"/Volumes/GoogleDrive/Shared drives/KGTK/datasets/wikidata-20210215/data/claims.tsv.gz\"\n",
      "COORDINATES: \"/Volumes/GoogleDrive/Shared drives/KGTK/datasets/wikidata-20210215/data/claims.globe-coordinate.tsv.gz\"\n",
      "DESCRIPTION: \"/Volumes/GoogleDrive/Shared drives/KGTK/datasets/wikidata-20210215/data/descriptions.en.tsv.gz\"\n",
      "DWD_ISA: \"/Volumes/GoogleDrive/Shared drives/KGTK/datasets/wikidata-20210215/data/derived.dwd_isa.tsv.gz\"\n",
      "EXAMPLES_DIR: \"/Users/pedroszekely/Documents/GitHub/kgtk/examples\"\n",
      "EXTERNAL_ID: \"/Volumes/GoogleDrive/Shared drives/KGTK/datasets/wikidata-20210215/data/claims.external-id.tsv.gz\"\n",
      "FS: \"/Volumes/GoogleDrive/Shared drives/FAAST-ISI/FactSet-data/kgtk_files/\"\n",
      "ISA: \"/Volumes/GoogleDrive/Shared drives/KGTK/datasets/wikidata-20210215/data/derived.isa.tsv.gz\"\n",
      "ISASTAR: \"/Volumes/GoogleDrive/Shared drives/KGTK/datasets/wikidata-20210215/data/derived.isastar.tsv.gz\"\n",
      "ITEM: \"/Volumes/GoogleDrive/Shared drives/KGTK/datasets/wikidata-20210215/data/claims.wikibase-item.tsv.gz\"\n",
      "LABEL: \"/Volumes/GoogleDrive/Shared drives/KGTK/datasets/wikidata-20210215/data/labels.en.tsv.gz\"\n",
      "MONOLINGUALTEXT: \"/Volumes/GoogleDrive/Shared drives/KGTK/datasets/wikidata-20210215/data/claims.monolingualtext.tsv.gz\"\n",
      "OUT: \"/Users/pedroszekely/Downloads/kypher/kgtk\"\n",
      "P279: \"/Volumes/GoogleDrive/Shared drives/KGTK/datasets/wikidata-20210215/data/derived.P279.tsv.gz\"\n",
      "P279STAR: \"/Volumes/GoogleDrive/Shared drives/KGTK/datasets/wikidata-20210215/data/derived.P279star.tsv.gz\"\n",
      "P31: \"/Volumes/GoogleDrive/Shared drives/KGTK/datasets/wikidata-20210215/data/derived.P31.tsv.gz\"\n",
      "PROPERTY: \"/Volumes/GoogleDrive/Shared drives/KGTK/datasets/wikidata-20210215/data/claims.wikibase-property.tsv.gz\"\n",
      "PROPERTY_DATATYPES: \"/Volumes/GoogleDrive/Shared drives/KGTK/datasets/wikidata-20210215/data/metadata.property.datatypes.tsv.gz\"\n",
      "QUALIFIERS: \"/Volumes/GoogleDrive/Shared drives/KGTK/datasets/wikidata-20210215/data/qualifiers.tsv.gz\"\n",
      "QUALIFIERS_TIME: \"/Volumes/GoogleDrive/Shared drives/KGTK/datasets/wikidata-20210215/data/qualifiers.time.tsv.gz\"\n",
      "QUANTITY: \"/Volumes/GoogleDrive/Shared drives/KGTK/datasets/wikidata-20210215/data/claims.quantity.tsv.gz\"\n",
      "SITELINKS: \"/Volumes/GoogleDrive/Shared drives/KGTK/datasets/wikidata-20210215/data/sitelinks.tsv.gz\"\n",
      "STORE: \"/Users/pedroszekely/Downloads/kypher/wikidata.sqlite3.db\"\n",
      "STRING: \"/Volumes/GoogleDrive/Shared drives/KGTK/datasets/wikidata-20210215/data/claims.string.tsv.gz\"\n",
      "TDM: \"/Volumes/GoogleDrive/Shared drives/FAAST-ISI/TDM-data/data/kgtk/\"\n",
      "TEMP: \"/Users/pedroszekely/Downloads/kypher/temp.kgtk\"\n",
      "TIME: \"/Volumes/GoogleDrive/Shared drives/KGTK/datasets/wikidata-20210215/data/claims.time.tsv.gz\"\n",
      "WIKIDATA: \"/Volumes/GoogleDrive/Shared drives/KGTK/datasets/wikidata-20210215/data/\"\n",
      "kgtk: \"time kgtk --debug\"\n",
      "kypher: \"time kgtk --debug query --graph-cache /Users/pedroszekely/Downloads/kypher/wikidata.sqlite3.db\"\n"
     ]
    }
   ],
   "source": [
    "# The names of files in the KGTK Wikidata distirbution that we will use in this notebook.\n",
    "file_names = {\n",
    "    \"claims\": \"claims.tsv.gz\",\n",
    "    \"quantity\": \"claims.quantity.tsv.gz\",\n",
    "    \"time\": \"claims.time.tsv.gz\",\n",
    "    \"label\": \"labels.en.tsv.gz\",\n",
    "    \"alias\": \"aliases.en.tsv.gz\",\n",
    "    \"description\": \"descriptions.en.tsv.gz\",\n",
    "    \"item\": \"claims.wikibase-item.tsv.gz\",\n",
    "    \"property\": \"claims.wikibase-property.tsv.gz\",\n",
    "    \"monolingualtext\": \"claims.monolingualtext.tsv.gz\",\n",
    "    \"string\": \"claims.string.tsv.gz\",\n",
    "    \"external_id\": \"claims.external-id.tsv.gz\",\n",
    "    \"qualifiers\": \"qualifiers.tsv.gz\",\n",
    "    \"sitelinks\": \"sitelinks.tsv.gz\",\n",
    "    \"qualifiers_time\": \"qualifiers.time.tsv.gz\",\n",
    "    \"coordinates\": \"claims.globe-coordinate.tsv.gz\",\n",
    "    \"property_datatypes\": \"metadata.property.datatypes.tsv.gz\",\n",
    "    \"isa\": \"derived.isa.tsv.gz\",\n",
    "    \"isastar\": \"derived.isastar.tsv.gz\", \n",
    "    \"p279star\": \"derived.P279star.tsv.gz\",\n",
    "    \"p279\": \"derived.P279.tsv.gz\",\n",
    "    \"p31\": \"derived.P31.tsv.gz\",\n",
    "    \"dwd_isa\": \"derived.dwd_isa.tsv.gz\"\n",
    "}\n",
    "\n",
    "# We will define environment variables to hold the full paths to the files as we will use them in the shell commands\n",
    "kgtk_environment_variables = []\n",
    "\n",
    "os.environ['WIKIDATA'] = wikidata_folder\n",
    "kgtk_environment_variables.append('WIKIDATA')\n",
    "\n",
    "os.environ['TDM'] = tdm_folder\n",
    "kgtk_environment_variables.append('TDM')\n",
    "\n",
    "os.environ['FS'] = factset_folder\n",
    "kgtk_environment_variables.append('FS')\n",
    "\n",
    "for key, value in file_names.items():\n",
    "    variable = key.upper()\n",
    "    os.environ[variable] = wikidata_folder + value\n",
    "    kgtk_environment_variables.append(variable)\n",
    "    \n",
    "# KGTK creates a SQLite database to index the knowledge graph.\n",
    "if cache_path:\n",
    "    os.environ['STORE'] = \"{}/wikidata.sqlite3.db\".format(cache_path)\n",
    "else:\n",
    "    os.environ['STORE'] = \"{}/{}/wikidata.sqlite3.db\".format(output_path, temp_folder)\n",
    "kgtk_environment_variables.append('STORE')\n",
    "\n",
    "# We will create many temporary files, so set up a folder for outputs and one for the temporary files.\n",
    "os.environ['TEMP'] = \"{}/{}\".format(output_path, temp_folder) \n",
    "os.environ['OUT'] = \"{}/{}\".format(output_path, output_folder) \n",
    "kgtk_environment_variables.append('TEMP')\n",
    "kgtk_environment_variables.append('OUT')\n",
    "\n",
    "# Envronment variables with shortcuts to the commands we use often\n",
    "os.environ['kgtk'] = kgtk\n",
    "# Use for debugging, but careful as it causes import to dataframes to break\n",
    "os.environ['kypher'] = \"time kgtk --debug query --graph-cache \" + os.environ['STORE']\n",
    "# os.environ['kypher'] = \"time kgtk query --graph-cache \" + os.environ['STORE']\n",
    "#os.environ['kypher'] = \"kgtk query --graph-cache \" + os.environ['STORE']\n",
    "kgtk_environment_variables.append('kgtk')\n",
    "kgtk_environment_variables.append('kypher')\n",
    "\n",
    "# We'll save the current working directory so we can call into other example notebooks later\n",
    "os.environ[\"EXAMPLES_DIR\"] = os.getcwd()\n",
    "kgtk_environment_variables.append('EXAMPLES_DIR')\n",
    "\n",
    "kgtk_environment_variables.sort()\n",
    "for variable in kgtk_environment_variables:\n",
    "    print(\"{}: \\\"{}\\\"\".format(variable, os.environ[variable]))"
   ]
  },
  {
   "cell_type": "code",
   "execution_count": 4,
   "metadata": {},
   "outputs": [],
   "source": [
    "def kgtk_to_dataframe(kgtk):\n",
    "    columns = kgtk[0].split(\"\\t\")\n",
    "    data = []\n",
    "    for line in kgtk[1:]:\n",
    "        data.append(line.encode('utf-8').decode('utf-8').split(\"\\t\"))\n",
    "    return pd.DataFrame(data, columns=columns)    "
   ]
  },
  {
   "cell_type": "code",
   "execution_count": 5,
   "metadata": {},
   "outputs": [
    {
     "name": "stdout",
     "output_type": "stream",
     "text": [
      "/Users/pedroszekely/Downloads/kypher\n"
     ]
    }
   ],
   "source": [
    "%cd {output_path}"
   ]
  },
  {
   "cell_type": "markdown",
   "metadata": {},
   "source": [
    "Define the shortcuts for Kypher"
   ]
  },
  {
   "cell_type": "code",
   "execution_count": 6,
   "metadata": {},
   "outputs": [
    {
     "name": "stdout",
     "output_type": "stream",
     "text": [
      "[2021-09-27 21:55:41 query]: SQL Translation:\n",
      "---------------------------------------------\n",
      "  SELECT *\n",
      "     FROM graph_1 AS graph_1_c1\n",
      "     LIMIT ?\n",
      "  PARAS: [3]\n",
      "---------------------------------------------\n",
      "id\tnode1\tlabel\tnode2\n",
      "P10-P31-Q18610173-85ef4d24-0\tP10\tP31\tQ18610173\n",
      "P1000-P31-Q18608871-093affb5-0\tP1000\tP31\tQ18608871\n",
      "P1001-P31-Q15720608-deeedec9-0\tP1001\tP31\tQ15720608\n",
      "        1.07 real         0.86 user         0.18 sys\n"
     ]
    }
   ],
   "source": [
    "!$kypher \\\n",
    "-i \"$P31\" --as p31 \\\n",
    "-i \"$P279\" --as p279 \\\n",
    "-i \"$LABEL\" --as labels \\\n",
    "-i \"$ALIAS\" --as aliases \\\n",
    "-i \"$DESCRIPTION\" --as descriptions \\\n",
    "-i \"$P279STAR\" --as p279star \\\n",
    "-i \"$QUALIFIERS\" --as qualifiers \\\n",
    "-i \"$ITEM\" --as items \\\n",
    "-i \"$CLAIMS\" --as claims \\\n",
    "-i \"$PROPERTY\" --as properties \\\n",
    "-i \"$PROPERTY_DATATYPES\" --as datatypes \\\n",
    "-i \"$QUANTITY\" --as quantities \\\n",
    "-i \"$TIME\" --as times \\\n",
    "-i \"$EXTERNAL_ID\" --as external_ids \\\n",
    "-i \"$COORDINATES\" --as coordinates \\\n",
    "-i \"$MONOLINGUALTEXT\" --as monolingual \\\n",
    "-i \"$STRING\" --as string \\\n",
    "--limit 3"
   ]
  },
  {
   "cell_type": "raw",
   "metadata": {},
   "source": [
    "# Command to produce tables to put in the documentation\n",
    "!zcat < \"$OUT\"/derived.P131admin.tsv.gz | head -5000 | kgtk cat --every-nth-record 1000 | kgtk md"
   ]
  },
  {
   "cell_type": "markdown",
   "metadata": {},
   "source": [
    "# Construct The Arnold Schwarzenegger Graph `Q2685`\n",
    "\n",
    "Approach:\n",
    "- Select a subgraph of full Wikidata that includes people (Q5), organizations (Q43229), geographic regions (Q82794), and awards (Q618779). This graph contains all edges that connect instances of the target classes listed above. Output the graph using a single relation we call `link`.\n",
    "- Starting from Schwarzenegger Q2685, compute reachable nodes in the graph computed in the previous step. This step will produce the collection of nodes that will be part of the Schwarzenegger graph.\n",
    "- Extract from Wikidata all the edges that connect nodes from the previous step.\n",
    "- Extract from Wikidata the time, quantity, monolingual and string properties.\n",
    "- Extract from Wikidata the qualifiers for the edges computed in the previous steps.\n",
    "- Extract from Wikidata the labels, aliases and descriptions for the Schwarzenegger nodes."
   ]
  },
  {
   "cell_type": "markdown",
   "metadata": {},
   "source": [
    "## Extract a subset ofg Wikidata to use as the base for the Schewarzenegger graph"
   ]
  },
  {
   "cell_type": "code",
   "execution_count": 127,
   "metadata": {},
   "outputs": [
    {
     "name": "stdout",
     "output_type": "stream",
     "text": [
      "[2021-09-23 20:06:18 query]: SQL Translation:\n",
      "---------------------------------------------\n",
      "  SELECT DISTINCT graph_1_c1.\"node1\" \"_aLias.node1\", ? \"_aLias.label\", graph_8_c2.\"node2\" \"_aLias.node2\"\n",
      "     FROM graph_1 AS graph_1_c1\n",
      "     INNER JOIN graph_1 AS graph_1_c3, graph_6 AS graph_6_c4, graph_6 AS graph_6_c5, graph_8 AS graph_8_c2\n",
      "     ON graph_1_c1.\"node1\" = graph_8_c2.\"node1\"\n",
      "        AND graph_1_c1.\"node2\" = graph_6_c4.\"node1\"\n",
      "        AND graph_1_c3.\"node2\" = graph_6_c5.\"node1\"\n",
      "        AND graph_8_c2.\"node2\" = graph_1_c3.\"node1\"\n",
      "        AND ((graph_6_c4.\"node2\" IN (?, ?, ?, ?, ?)) AND (graph_6_c5.\"node2\" IN (?, ?, ?, ?, ?)))\n",
      "  PARAS: ['link', 'Q11424', 'Q5', 'Q43229', 'Q82794', 'Q618779', 'Q11424', 'Q5', 'Q43229', 'Q82794', 'Q618779']\n",
      "---------------------------------------------\n",
      "     8593.94 real      2910.33 user       726.15 sys\n"
     ]
    }
   ],
   "source": [
    "!$kypher -i p31 -i items -i p279star \\\n",
    "--match ' \\\n",
    "    p31: (n1)-[]->(n1_class), \\\n",
    "    items: (n1)-[]->(n2), \\\n",
    "    p31: (n2)-[]->(n2_class), \\\n",
    "    p279star: (n1_class)-[]->(n1_superclass), \\\n",
    "    p279star: (n2_class)-[]->(n2_superclass)' \\\n",
    "--where 'n1_superclass in [\"Q11424\", \"Q5\", \"Q43229\", \"Q82794\", \"Q618779\"] and n2_superclass in [\"Q11424\", \"Q5\", \"Q43229\", \"Q82794\", \"Q618779\"]' \\\n",
    "--return 'distinct n1 as node1, \"link\" as label, n2 as node2' \\\n",
    "-o \"$TEMP\"/item.per.org.cw.geo.award.link.tsv.gz "
   ]
  },
  {
   "cell_type": "markdown",
   "metadata": {},
   "source": [
    "Starting from `Q2685` traverse links forward in breadfirst mode up to a fixed number of levels to build the graph"
   ]
  },
  {
   "cell_type": "code",
   "execution_count": 7,
   "metadata": {},
   "outputs": [
    {
     "name": "stdout",
     "output_type": "stream",
     "text": [
      "      292.56 real       285.02 user         5.55 sys\n"
     ]
    }
   ],
   "source": [
    "!$kgtk reachable-nodes \\\n",
    "    --root Q2685 \\\n",
    "    --prop link \\\n",
    "    --label \"reachable\" \\\n",
    "    --selflink \\\n",
    "    --breadth-first --depth-limit 4 \\\n",
    "    -i \"$TEMP\"/item.per.org.cw.geo.award.link.tsv.gz  \\\n",
    "    -o \"$TEMP\"/Q2685.reachable.per.org.cw.geo.award.tsv.gz"
   ]
  },
  {
   "cell_type": "code",
   "execution_count": 8,
   "metadata": {},
   "outputs": [
    {
     "name": "stdout",
     "output_type": "stream",
     "text": [
      "node1\tlabel\tnode2\n",
      "Q2685\treachable\tQ2685\n",
      "Q2685\treachable\tQ29468\n",
      "Q2685\treachable\tQ24004771\n",
      "Q2685\treachable\tQ2526255\n",
      "Q2685\treachable\tQ1841\n",
      "Q2685\treachable\tQ4220901\n",
      "Q2685\treachable\tQ602299\n",
      "Q2685\treachable\tQ10855271\n",
      "Q2685\treachable\tQ1153891\n",
      "Q2685\treachable\tQ1426204\n",
      "        1.25 real         0.81 user         0.18 sys\n"
     ]
    }
   ],
   "source": [
    "!$kgtk head -i \"$TEMP\"/Q2685.reachable.per.org.cw.geo.award.tsv.gz"
   ]
  },
  {
   "cell_type": "markdown",
   "metadata": {},
   "source": [
    "Index the resulting file in kypher"
   ]
  },
  {
   "cell_type": "code",
   "execution_count": 9,
   "metadata": {},
   "outputs": [
    {
     "name": "stdout",
     "output_type": "stream",
     "text": [
      "[2021-09-26 10:19:12 sqlstore]: DROP graph data table graph_35 from nodesQ2685\n",
      "[2021-09-26 10:19:12 sqlstore]: IMPORT graph directly into table graph_35 from /Users/pedroszekely/Downloads/kypher/temp.kgtk/Q2685.reachable.per.org.cw.geo.award.tsv.gz ...\n",
      "[2021-09-26 10:19:12 query]: SQL Translation:\n",
      "---------------------------------------------\n",
      "  SELECT *\n",
      "     FROM graph_35 AS graph_35_c1\n",
      "     LIMIT ?\n",
      "  PARAS: [2]\n",
      "---------------------------------------------\n",
      "node1\tlabel\tnode2\n",
      "Q2685\treachable\tQ2685\n",
      "Q2685\treachable\tQ29468\n",
      "        1.48 real         1.22 user         0.31 sys\n"
     ]
    }
   ],
   "source": [
    "!$kypher -i $TEMP/Q2685.reachable.per.org.cw.geo.award.tsv.gz --as nodesQ2685 --limit 2"
   ]
  },
  {
   "cell_type": "markdown",
   "metadata": {},
   "source": [
    "## Build initial graph containing the item edges\n",
    "\n",
    "Figure out which properties are used so so that we can add them as node1s and get all the info about them."
   ]
  },
  {
   "cell_type": "code",
   "execution_count": 10,
   "metadata": {},
   "outputs": [
    {
     "name": "stdout",
     "output_type": "stream",
     "text": [
      "[2021-09-26 10:19:13 query]: SQL Translation:\n",
      "---------------------------------------------\n",
      "  SELECT DISTINCT ? \"_aLias.node1\", ? \"_aLias.label\", graph_19_c3.\"node1\" \"_aLias.node2\"\n",
      "     FROM graph_19 AS graph_19_c3\n",
      "     INNER JOIN graph_35 AS graph_35_c1, graph_9 AS graph_9_c2\n",
      "     ON graph_19_c3.\"node1\" = graph_9_c2.\"label\"\n",
      "        AND graph_35_c1.\"node2\" = graph_9_c2.\"node1\"\n",
      "        AND graph_19_c3.\"label\" = ?\n",
      "        AND graph_9_c2.\"label\" = graph_19_c3.\"node1\"\n",
      "        AND (graph_19_c3.\"node2\" IN (?, ?, ?, ?, ?))\n",
      "  PARAS: ['Q2685', 'link', 'datatype', 'wikibase-item', 'string', 'quantity', 'time', 'monolingualtext']\n",
      "---------------------------------------------\n",
      "[2021-09-26 10:19:13 sqlstore]: CREATE INDEX on table graph_35 column node2 ...\n",
      "[2021-09-26 10:19:13 sqlstore]: ANALYZE INDEX on table graph_35 column node2 ...\n",
      "       67.19 real         6.17 user         8.05 sys\n"
     ]
    }
   ],
   "source": [
    "!$kypher -i nodesQ2685 -i properties -i datatypes -i claims \\\n",
    "--match ' \\\n",
    "    nodesQ2685: ()-[]->(n1), \\\n",
    "    claims: (n1)-[l {label: property}]->(), \\\n",
    "    datatypes: (property)-[:datatype]->(datatype) \\\n",
    "    ' \\\n",
    "--where 'datatype in [\"wikibase-item\", \"string\", \"quantity\", \"time\", \"monolingualtext\"]' \\\n",
    "--return 'distinct \"Q2685\" as node1, \"link\" as label, property as node2' \\\n",
    "-o \"$TEMP\"/Q2685.nodes.property.tsv.gz"
   ]
  },
  {
   "cell_type": "markdown",
   "metadata": {},
   "source": [
    "Concatenate the new nodes with the ones we found via reachability"
   ]
  },
  {
   "cell_type": "code",
   "execution_count": 11,
   "metadata": {},
   "outputs": [],
   "source": [
    "!kgtk cat -i \"$TEMP\"/Q2685.nodes.property.tsv.gz -i \"$TEMP\"/Q2685.reachable.per.org.cw.geo.award.tsv.gz \\\n",
    "-o \"$TEMP\"/Q2685.nodes.all.tsv.gz"
   ]
  },
  {
   "cell_type": "markdown",
   "metadata": {},
   "source": [
    "Print number of nodes that we have so far for the Schw graph"
   ]
  },
  {
   "cell_type": "code",
   "execution_count": 14,
   "metadata": {},
   "outputs": [
    {
     "name": "stdout",
     "output_type": "stream",
     "text": [
      "  103799\n"
     ]
    }
   ],
   "source": [
    "!zcat < \"$TEMP\"/Q2685.nodes.all.tsv.gz | wc -l"
   ]
  },
  {
   "cell_type": "markdown",
   "metadata": {},
   "source": [
    "Update the Kypher database"
   ]
  },
  {
   "cell_type": "code",
   "execution_count": 12,
   "metadata": {},
   "outputs": [
    {
     "name": "stdout",
     "output_type": "stream",
     "text": [
      "[2021-09-26 10:20:22 sqlstore]: DROP graph data table graph_35 from nodesQ2685\n",
      "[2021-09-26 10:20:22 sqlstore]: IMPORT graph directly into table graph_35 from /Users/pedroszekely/Downloads/kypher/temp.kgtk/Q2685.nodes.all.tsv.gz ...\n",
      "[2021-09-26 10:20:22 query]: SQL Translation:\n",
      "---------------------------------------------\n",
      "  SELECT *\n",
      "     FROM graph_35 AS graph_35_c1\n",
      "     LIMIT ?\n",
      "  PARAS: [2]\n",
      "---------------------------------------------\n",
      "node1\tlabel\tnode2\n",
      "Q2685\tlink\tP1082\n",
      "Q2685\tlink\tP112\n",
      "        1.17 real         1.11 user         0.20 sys\n"
     ]
    }
   ],
   "source": [
    "!$kypher -i \"$TEMP\"/Q2685.nodes.all.tsv.gz --as nodesQ2685 --limit 2"
   ]
  },
  {
   "cell_type": "markdown",
   "metadata": {},
   "source": [
    "Extract the item to item edges connecting the nodes in the Schwarzenegger graph"
   ]
  },
  {
   "cell_type": "code",
   "execution_count": 13,
   "metadata": {},
   "outputs": [
    {
     "name": "stdout",
     "output_type": "stream",
     "text": [
      "[2021-09-26 10:20:24 query]: SQL Translation:\n",
      "---------------------------------------------\n",
      "  SELECT DISTINCT graph_35_c1.\"node2\" \"_aLias.node1\", graph_8_c3.\"label\" \"_aLias.label\", graph_35_c2.\"node2\" \"_aLias.node2\", graph_8_c3.\"id\" \"_aLias.id\"\n",
      "     FROM graph_35 AS graph_35_c1\n",
      "     INNER JOIN graph_35 AS graph_35_c2, graph_8 AS graph_8_c3\n",
      "     ON graph_35_c1.\"node2\" = graph_8_c3.\"node1\"\n",
      "        AND graph_35_c2.\"node2\" = graph_8_c3.\"node2\"\n",
      "  PARAS: []\n",
      "---------------------------------------------\n",
      "[2021-09-26 10:20:24 sqlstore]: CREATE INDEX on table graph_35 column node2 ...\n",
      "[2021-09-26 10:20:24 sqlstore]: ANALYZE INDEX on table graph_35 column node2 ...\n",
      "       57.68 real         9.87 user         7.10 sys\n"
     ]
    }
   ],
   "source": [
    "!$kypher -i nodesQ2685 -i items \\\n",
    "--match ' \\\n",
    "    nodesQ2685: ()-[]->(n1), \\\n",
    "    nodesQ2685: ()-[]->(n2), \\\n",
    "    items: (n1)-[l]->(n2) \\\n",
    "    ' \\\n",
    "--return 'distinct n1 as node1, l.label as label, n2 as node2, l as id' \\\n",
    "/ sort \\\n",
    "-o $OUT/Q2685.graph.item.tsv.gz"
   ]
  },
  {
   "cell_type": "markdown",
   "metadata": {},
   "source": [
    "Add to the kypher database"
   ]
  },
  {
   "cell_type": "code",
   "execution_count": 15,
   "metadata": {},
   "outputs": [
    {
     "name": "stdout",
     "output_type": "stream",
     "text": [
      "[2021-09-26 10:21:26 sqlstore]: DROP graph data table graph_36 from Q2685items\n",
      "[2021-09-26 10:21:28 sqlstore]: IMPORT graph directly into table graph_36 from /Users/pedroszekely/Downloads/kypher/kgtk/Q2685.graph.item.tsv.gz ...\n",
      "[2021-09-26 10:21:31 query]: SQL Translation:\n",
      "---------------------------------------------\n",
      "  SELECT *\n",
      "     FROM graph_36 AS graph_36_c1\n",
      "     LIMIT ?\n",
      "  PARAS: [2]\n",
      "---------------------------------------------\n",
      "node1\tlabel\tnode2\tid\n",
      "P1001\tP1855\tQ181574\tP1001-P1855-Q181574-7f428c9b-0\n",
      "P1001\tP1855\tQ8901\tP1001-P1855-Q8901-15be5b36-0\n",
      "        5.01 real         5.24 user         1.09 sys\n"
     ]
    }
   ],
   "source": [
    "!$kypher -i $OUT/Q2685.graph.item.tsv.gz --as Q2685items --limit 2"
   ]
  },
  {
   "cell_type": "markdown",
   "metadata": {},
   "source": [
    "## Extract the other types of edges"
   ]
  },
  {
   "cell_type": "markdown",
   "metadata": {},
   "source": [
    "Extract the quantities"
   ]
  },
  {
   "cell_type": "code",
   "execution_count": 16,
   "metadata": {},
   "outputs": [
    {
     "name": "stdout",
     "output_type": "stream",
     "text": [
      "[2021-09-26 10:22:24 query]: SQL Translation:\n",
      "---------------------------------------------\n",
      "  SELECT DISTINCT graph_35_c1.\"node2\" \"_aLias.node1\", graph_11_c2.\"label\" \"_aLias.label\", graph_11_c2.\"node2\" \"_aLias.node2\", graph_11_c2.\"id\" \"_aLias.id\"\n",
      "     FROM graph_11 AS graph_11_c2\n",
      "     INNER JOIN graph_35 AS graph_35_c1\n",
      "     ON graph_35_c1.\"node2\" = graph_11_c2.\"node1\"\n",
      "  PARAS: []\n",
      "---------------------------------------------\n",
      "       13.86 real         4.98 user         2.49 sys\n"
     ]
    }
   ],
   "source": [
    "!$kypher -i quantities -i nodesQ2685 \\\n",
    "--match ' \\\n",
    "    nodesQ2685: ()-[]->(n1), \\\n",
    "    quantities: (n1)-[l]->(n2) \\\n",
    "    ' \\\n",
    "--return 'distinct n1 as node1, l.label as label, n2 as node2, l as id' \\\n",
    "/ sort \\\n",
    "-o $OUT/Q2685.graph.quantity.tsv.gz"
   ]
  },
  {
   "cell_type": "markdown",
   "metadata": {},
   "source": [
    "Extract the time edges"
   ]
  },
  {
   "cell_type": "code",
   "execution_count": 17,
   "metadata": {},
   "outputs": [
    {
     "name": "stdout",
     "output_type": "stream",
     "text": [
      "[2021-09-26 10:22:38 query]: SQL Translation:\n",
      "---------------------------------------------\n",
      "  SELECT DISTINCT graph_35_c1.\"node2\" \"_aLias.node1\", graph_31_c2.\"label\" \"_aLias.label\", graph_31_c2.\"node2\" \"_aLias.node2\", graph_31_c2.\"id\" \"_aLias.id\"\n",
      "     FROM graph_31 AS graph_31_c2\n",
      "     INNER JOIN graph_35 AS graph_35_c1\n",
      "     ON graph_35_c1.\"node2\" = graph_31_c2.\"node1\"\n",
      "  PARAS: []\n",
      "---------------------------------------------\n",
      "       15.28 real         3.44 user         2.73 sys\n"
     ]
    }
   ],
   "source": [
    "!$kypher -i times -i nodesQ2685 \\\n",
    "--match ' \\\n",
    "    nodesQ2685: ()-[]->(n1), \\\n",
    "    times: (n1)-[l]->(n2) \\\n",
    "    ' \\\n",
    "--return 'distinct n1 as node1, l.label as label, n2 as node2, l as id' \\\n",
    "/ sort \\\n",
    "-o $OUT/Q2685.graph.time.tsv.gz"
   ]
  },
  {
   "cell_type": "markdown",
   "metadata": {},
   "source": [
    "Extract the monolingual text edges"
   ]
  },
  {
   "cell_type": "code",
   "execution_count": 18,
   "metadata": {},
   "outputs": [
    {
     "name": "stdout",
     "output_type": "stream",
     "text": [
      "[2021-09-26 10:22:54 query]: SQL Translation:\n",
      "---------------------------------------------\n",
      "  SELECT DISTINCT graph_35_c1.\"node2\" \"_aLias.node1\", graph_14_c2.\"label\" \"_aLias.label\", graph_14_c2.\"node2\" \"_aLias.node2\", graph_14_c2.\"id\" \"_aLias.id\"\n",
      "     FROM graph_14 AS graph_14_c2\n",
      "     INNER JOIN graph_35 AS graph_35_c1\n",
      "     ON graph_35_c1.\"node2\" = graph_14_c2.\"node1\"\n",
      "  PARAS: []\n",
      "---------------------------------------------\n",
      "       12.76 real         3.44 user         2.27 sys\n"
     ]
    }
   ],
   "source": [
    "!$kypher -i monolingual -i nodesQ2685 \\\n",
    "--match ' \\\n",
    "    nodesQ2685: ()-[]->(n1), \\\n",
    "    monolingual: (n1)-[l]->(n2) \\\n",
    "    ' \\\n",
    "--return 'distinct n1 as node1, l.label as label, n2 as node2, l as id' \\\n",
    "/ sort \\\n",
    "-o $OUT/Q2685.graph.monolingual.tsv.gz"
   ]
  },
  {
   "cell_type": "markdown",
   "metadata": {},
   "source": [
    "Extract the string edges"
   ]
  },
  {
   "cell_type": "code",
   "execution_count": 19,
   "metadata": {},
   "outputs": [
    {
     "name": "stdout",
     "output_type": "stream",
     "text": [
      "[2021-09-26 10:23:07 query]: SQL Translation:\n",
      "---------------------------------------------\n",
      "  SELECT DISTINCT graph_35_c1.\"node2\" \"_aLias.node1\", graph_33_c2.\"label\" \"_aLias.label\", graph_33_c2.\"node2\" \"_aLias.node2\", graph_33_c2.\"id\" \"_aLias.id\"\n",
      "     FROM graph_33 AS graph_33_c2\n",
      "     INNER JOIN graph_35 AS graph_35_c1\n",
      "     ON graph_35_c1.\"node2\" = graph_33_c2.\"node1\"\n",
      "  PARAS: []\n",
      "---------------------------------------------\n",
      "       26.46 real         4.10 user         3.66 sys\n"
     ]
    }
   ],
   "source": [
    "!$kypher -i string -i nodesQ2685 \\\n",
    "--match ' \\\n",
    "    nodesQ2685: ()-[]->(n1), \\\n",
    "    string: (n1)-[l]->(n2) \\\n",
    "    ' \\\n",
    "--return 'distinct n1 as node1, l.label as label, n2 as node2, l as id' \\\n",
    "/ sort \\\n",
    "-o $OUT/Q2685.graph.string.tsv.gz"
   ]
  },
  {
   "cell_type": "markdown",
   "metadata": {},
   "source": [
    "## Complete the graph"
   ]
  },
  {
   "cell_type": "code",
   "execution_count": 97,
   "metadata": {},
   "outputs": [
    {
     "name": "stdout",
     "output_type": "stream",
     "text": [
      "[2021-09-26 18:46:07 sqlstore]: DROP graph data table graph_34 from Q2685base\n",
      "[2021-09-26 18:46:10 sqlstore]: IMPORT graph directly into table graph_44 from /Users/pedroszekely/Downloads/kypher/kgtk/Q2685.graph.item.quantity.time.monolingual.string.tsv.gz ...\n",
      "[2021-09-26 18:46:16 query]: SQL Translation:\n",
      "---------------------------------------------\n",
      "  SELECT *\n",
      "     FROM graph_44 AS graph_44_c1\n",
      "     LIMIT ?\n",
      "  PARAS: [2]\n",
      "---------------------------------------------\n",
      "node1\tlabel\tnode2\tid\n",
      "P1001\tP1855\tQ181574\tP1001-P1855-Q181574-7f428c9b-0\n",
      "P1001\tP1855\tQ8901\tP1001-P1855-Q8901-15be5b36-0\n",
      "        9.99 real        11.36 user         1.78 sys\n"
     ]
    }
   ],
   "source": [
    "!kgtk cat \\\n",
    "-i $OUT/Q2685.graph.item.tsv.gz \\\n",
    "-i $OUT/Q2685.graph.quantity.tsv.gz \\\n",
    "-i $OUT/Q2685.graph.time.tsv.gz \\\n",
    "-i $OUT/Q2685.graph.monolingual.tsv.gz \\\n",
    "-i $OUT/Q2685.graph.string.tsv.gz \\\n",
    "-o $OUT/Q2685.graph.item.quantity.time.monolingual.string.tsv.gz \n",
    "\n",
    "!$kypher -i $OUT/Q2685.graph.item.quantity.time.monolingual.string.tsv.gz --as Q2685base --limit 2"
   ]
  },
  {
   "cell_type": "markdown",
   "metadata": {},
   "source": [
    "### Collect all the properties"
   ]
  },
  {
   "cell_type": "markdown",
   "metadata": {},
   "source": [
    "Get edges for the properties"
   ]
  },
  {
   "cell_type": "code",
   "execution_count": 98,
   "metadata": {},
   "outputs": [
    {
     "name": "stdout",
     "output_type": "stream",
     "text": [
      "[2021-09-26 18:46:19 query]: SQL Translation:\n",
      "---------------------------------------------\n",
      "  SELECT DISTINCT graph_10_c2.\"node1\" \"_aLias.node1\", graph_10_c2.\"label\" \"_aLias.label\", graph_10_c2.\"node2\" \"_aLias.node2\", graph_10_c2.\"id\" \"_aLias.id\"\n",
      "     FROM graph_10 AS graph_10_c2\n",
      "     INNER JOIN graph_44 AS graph_44_c1\n",
      "     ON graph_10_c2.\"node1\" = graph_44_c1.\"label\"\n",
      "        AND graph_44_c1.\"label\" = graph_10_c2.\"node1\"\n",
      "  PARAS: []\n",
      "---------------------------------------------\n",
      "[2021-09-26 18:46:19 sqlstore]: CREATE INDEX on table graph_44 column label ...\n",
      "[2021-09-26 18:46:19 sqlstore]: ANALYZE INDEX on table graph_44 column label ...\n",
      "        7.31 real         7.54 user         0.72 sys\n"
     ]
    }
   ],
   "source": [
    "!$kypher -i Q2685base -i properties \\\n",
    "--match ' \\\n",
    "    Q2685base: ()-[l {label: property}]->(), \\\n",
    "    properties: (property)-[lp]->(n) \\\n",
    "    ' \\\n",
    "--return 'distinct property as node1, lp.label as label, n as node2, lp as id' \\\n",
    "/ sort \\\n",
    "-o $OUT/Q2685.graph.property.tsv.gz"
   ]
  },
  {
   "cell_type": "markdown",
   "metadata": {},
   "source": [
    "Update the base"
   ]
  },
  {
   "cell_type": "code",
   "execution_count": 99,
   "metadata": {},
   "outputs": [
    {
     "name": "stdout",
     "output_type": "stream",
     "text": [
      "[2021-09-26 18:46:58 sqlstore]: DROP graph data table graph_44 from Q2685base\n",
      "[2021-09-26 18:46:59 sqlstore]: IMPORT graph directly into table graph_44 from /Users/pedroszekely/Downloads/kypher/kgtk/Q2685.graph.item.quantity.time.monolingual.string.property.tsv.gz ...\n",
      "[2021-09-26 18:47:05 query]: SQL Translation:\n",
      "---------------------------------------------\n",
      "  SELECT *\n",
      "     FROM graph_44 AS graph_44_c1\n",
      "     LIMIT ?\n",
      "  PARAS: [2]\n",
      "---------------------------------------------\n",
      "node1\tlabel\tnode2\tid\n",
      "P1001\tP1647\tP276\tP1001-P1647-P276-e4e44f83-0\n",
      "P1001\tP1659\tP1269\tP1001-P1659-P1269-785921cd-0\n",
      "        7.54 real        10.30 user         1.14 sys\n"
     ]
    }
   ],
   "source": [
    "!kgtk cat \\\n",
    "-i $OUT/Q2685.graph.item.quantity.time.monolingual.string.tsv.gz \\\n",
    "-i $OUT/Q2685.graph.property.tsv.gz \\\n",
    "/ compact \\\n",
    "-o $OUT/Q2685.graph.item.quantity.time.monolingual.string.property.tsv.gz \n",
    "\n",
    "!$kypher -i $OUT/Q2685.graph.item.quantity.time.monolingual.string.property.tsv.gz --as Q2685base --limit 2"
   ]
  },
  {
   "cell_type": "markdown",
   "metadata": {},
   "source": [
    "### Compute qualifiers"
   ]
  },
  {
   "cell_type": "code",
   "execution_count": 100,
   "metadata": {},
   "outputs": [
    {
     "name": "stdout",
     "output_type": "stream",
     "text": [
      "[2021-09-26 18:47:07 query]: SQL Translation:\n",
      "---------------------------------------------\n",
      "  SELECT DISTINCT graph_44_c1.\"id\" \"_aLias.node1\", graph_7_c2.\"label\" \"_aLias.label\", graph_7_c2.\"node2\" \"_aLias.node2\", graph_7_c2.\"id\" \"_aLias.id\"\n",
      "     FROM graph_44 AS graph_44_c1\n",
      "     INNER JOIN graph_7 AS graph_7_c2\n",
      "     ON graph_44_c1.\"id\" = graph_7_c2.\"node1\"\n",
      "        AND graph_7_c2.\"label\" = graph_7_c2.\"label\"\n",
      "  PARAS: []\n",
      "---------------------------------------------\n",
      "[2021-09-26 18:47:07 sqlstore]: CREATE INDEX on table graph_44 column id ...\n",
      "[2021-09-26 18:47:07 sqlstore]: ANALYZE INDEX on table graph_44 column id ...\n",
      "       43.89 real        10.37 user         5.98 sys\n"
     ]
    }
   ],
   "source": [
    "!$kypher -i qualifiers -i Q2685base \\\n",
    "--match ' \\\n",
    "    Q2685base: ()-[l]->(), \\\n",
    "    qualifiers: (l)-[lq {label: property}]->(n) \\\n",
    "    ' \\\n",
    "--return 'distinct l as node1, property as label, n as node2, lq as id' \\\n",
    "/ sort \\\n",
    "-o $OUT/Q2685.graph.qualifiers.tsv.gz"
   ]
  },
  {
   "cell_type": "markdown",
   "metadata": {},
   "source": [
    "Update the base again"
   ]
  },
  {
   "cell_type": "code",
   "execution_count": 101,
   "metadata": {},
   "outputs": [
    {
     "name": "stdout",
     "output_type": "stream",
     "text": [
      "[2021-09-26 18:48:32 sqlstore]: DROP graph data table graph_44 from Q2685base\n",
      "[2021-09-26 18:48:33 sqlstore]: IMPORT graph directly into table graph_44 from /Users/pedroszekely/Downloads/kypher/kgtk/Q2685.graph.item.quantity.time.monolingual.string.property.qualifiers.tsv.gz ...\n",
      "[2021-09-26 18:48:44 query]: SQL Translation:\n",
      "---------------------------------------------\n",
      "  SELECT *\n",
      "     FROM graph_44 AS graph_44_c1\n",
      "     LIMIT ?\n",
      "  PARAS: [2]\n",
      "---------------------------------------------\n",
      "node1\tlabel\tnode2\tid\n",
      "P1001\tP1647\tP276\tP1001-P1647-P276-e4e44f83-0\n",
      "P1001\tP1659\tP1269\tP1001-P1659-P1269-785921cd-0\n",
      "       12.61 real        17.94 user         1.54 sys\n"
     ]
    }
   ],
   "source": [
    "!kgtk cat \\\n",
    "-i $OUT/Q2685.graph.item.quantity.time.monolingual.string.property.tsv.gz \\\n",
    "-i $OUT/Q2685.graph.qualifiers.tsv.gz \\\n",
    "/ compact \\\n",
    "-o $OUT/Q2685.graph.item.quantity.time.monolingual.string.property.qualifiers.tsv.gz \n",
    "\n",
    "!$kypher -i $OUT/Q2685.graph.item.quantity.time.monolingual.string.property.qualifiers.tsv.gz --as Q2685base --limit 2"
   ]
  },
  {
   "cell_type": "markdown",
   "metadata": {},
   "source": [
    "### Make sure that every q-node has at least P31 and P279\n",
    "need to do it twice, once for node1 and once for node2"
   ]
  },
  {
   "cell_type": "code",
   "execution_count": 28,
   "metadata": {},
   "outputs": [
    {
     "name": "stdout",
     "output_type": "stream",
     "text": [
      "[2021-09-26 10:25:33 query]: SQL Translation:\n",
      "---------------------------------------------\n",
      "  SELECT DISTINCT graph_34_c1.\"node1\" \"_aLias.node1\", graph_9_c2.\"label\" \"_aLias.label\", graph_9_c2.\"node2\" \"_aLias.node2\", graph_9_c2.\"id\" \"_aLias.id\"\n",
      "     FROM graph_34 AS graph_34_c1\n",
      "     INNER JOIN graph_9 AS graph_9_c2\n",
      "     ON graph_34_c1.\"node1\" = graph_9_c2.\"node1\"\n",
      "        AND graph_9_c2.\"label\" = graph_9_c2.\"label\"\n",
      "        AND (graph_9_c2.\"label\" IN (?, ?))\n",
      "  PARAS: ['P31', 'P279']\n",
      "---------------------------------------------\n",
      "[2021-09-26 10:25:33 sqlstore]: CREATE INDEX on table graph_34 column node1 ...\n",
      "[2021-09-26 10:25:33 sqlstore]: ANALYZE INDEX on table graph_34 column node1 ...\n",
      "      865.92 real        96.54 user       131.06 sys\n"
     ]
    }
   ],
   "source": [
    "!$kypher -i Q2685base -i claims \\\n",
    "--match 'Q2685base: (n)-[]->(), claims: (n)-[l {label: property}]->(n2)' \\\n",
    "--where 'property in [\"P31\", \"P279\"]' \\\n",
    "--return 'distinct n as node1, property as label, n2 as node2, l as id' \\\n",
    "-o \"$TEMP\"/Q2685.node1.P31.P279.tsv.gz"
   ]
  },
  {
   "cell_type": "code",
   "execution_count": 29,
   "metadata": {},
   "outputs": [
    {
     "name": "stdout",
     "output_type": "stream",
     "text": [
      "[2021-09-26 10:39:59 query]: SQL Translation:\n",
      "---------------------------------------------\n",
      "  SELECT DISTINCT graph_34_c1.\"node2\" \"_aLias.node1\", graph_9_c2.\"label\" \"_aLias.label\", graph_9_c2.\"node2\" \"_aLias.node2\", graph_9_c2.\"id\" \"_aLias.id\"\n",
      "     FROM graph_34 AS graph_34_c1\n",
      "     INNER JOIN graph_9 AS graph_9_c2\n",
      "     ON graph_34_c1.\"node2\" = graph_9_c2.\"node1\"\n",
      "        AND graph_9_c2.\"label\" = graph_9_c2.\"label\"\n",
      "        AND (graph_9_c2.\"label\" IN (?, ?))\n",
      "  PARAS: ['P31', 'P279']\n",
      "---------------------------------------------\n",
      "[2021-09-26 10:39:59 sqlstore]: CREATE INDEX on table graph_34 column node2 ...\n",
      "[2021-09-26 10:40:02 sqlstore]: ANALYZE INDEX on table graph_34 column node2 ...\n",
      "      911.56 real       100.93 user       135.47 sys\n"
     ]
    }
   ],
   "source": [
    "!$kypher -i Q2685base -i claims \\\n",
    "--match 'Q2685base: ()-[]->(n), claims: (n)-[l {label: property}]->(n2)' \\\n",
    "--where 'property in [\"P31\", \"P279\"]' \\\n",
    "--return 'distinct n as node1, property as label, n2 as node2, l as id' \\\n",
    "-o \"$TEMP\"/Q2685.node2.P31.P279.tsv.gz"
   ]
  },
  {
   "cell_type": "markdown",
   "metadata": {},
   "source": [
    "Recreate the base file"
   ]
  },
  {
   "cell_type": "code",
   "execution_count": 102,
   "metadata": {},
   "outputs": [
    {
     "name": "stdout",
     "output_type": "stream",
     "text": [
      "[2021-09-26 18:49:30 sqlstore]: DROP graph data table graph_44 from Q2685base\n",
      "[2021-09-26 18:49:32 sqlstore]: IMPORT graph directly into table graph_44 from /Users/pedroszekely/Downloads/kypher/kgtk/Q2685.graph.item.quantity.time.monolingual.string.property.qualifiers.P31.P279.tsv.gz ...\n",
      "[2021-09-26 18:49:42 query]: SQL Translation:\n",
      "---------------------------------------------\n",
      "  SELECT *\n",
      "     FROM graph_44 AS graph_44_c1\n",
      "     LIMIT ?\n",
      "  PARAS: [2]\n",
      "---------------------------------------------\n",
      "node1\tlabel\tnode2\tid\n",
      "P1000\tP31\tQ18608871\tP1000-P31-Q18608871-093affb5-0\n",
      "P1001\tP1647\tP276\tP1001-P1647-P276-e4e44f83-0\n",
      "       12.22 real        17.50 user         1.49 sys\n"
     ]
    }
   ],
   "source": [
    "!kgtk cat \\\n",
    "-i $OUT/Q2685.graph.item.quantity.time.monolingual.string.property.qualifiers.tsv.gz \\\n",
    "-i \"$TEMP\"/Q2685.node2.P31.P279.tsv.gz \\\n",
    "/ compact \\\n",
    "-o $OUT/Q2685.graph.item.quantity.time.monolingual.string.property.qualifiers.P31.P279.tsv.gz \n",
    "\n",
    "!$kypher -i $OUT/Q2685.graph.item.quantity.time.monolingual.string.property.qualifiers.P31.P279.tsv.gz --as Q2685base --limit 2"
   ]
  },
  {
   "cell_type": "markdown",
   "metadata": {},
   "source": [
    "### Incorporate all nodes up to the top of the class hierarchy\n",
    "When we do a breath first traversal, we may not follow enough links on the P279 hierarchy to reach the top. We need to do a full traversal on the P279 hierarchy to incorporate all the relevant classes.\n",
    "\n",
    "Approach:\n",
    "- Create a graph including P31 and P279 to do the traversal\n",
    "- Create a file of all the nodes in the Schwarzenneger file to use as roots"
   ]
  },
  {
   "cell_type": "code",
   "execution_count": 73,
   "metadata": {},
   "outputs": [
    {
     "name": "stdout",
     "output_type": "stream",
     "text": [
      "[2021-09-26 17:25:27 query]: SQL Translation:\n",
      "---------------------------------------------\n",
      "  SELECT DISTINCT graph_9_c1.\"node1\" \"_aLias.node1\", ? \"_aLias.label\", graph_9_c1.\"node2\" \"_aLias.node2\"\n",
      "     FROM graph_9 AS graph_9_c1\n",
      "     WHERE graph_9_c1.\"label\" = graph_9_c1.\"label\"\n",
      "        AND (graph_9_c1.\"label\" IN (?, ?))\n",
      "  PARAS: ['link', 'P31', 'P279']\n",
      "---------------------------------------------\n",
      "     1486.66 real       595.18 user       169.53 sys\n"
     ]
    }
   ],
   "source": [
    "!$kypher -i claims \\\n",
    "--match '(n1)-[l {label:property}]->(n2)' \\\n",
    "--where 'property in [\"P31\", \"P279\"]' \\\n",
    "--return 'distinct n1 as node1, \"link\" as label, n2 as node2' \\\n",
    "-o \"$TEMP\"/P31.P279.subgraph.tsv.gz"
   ]
  },
  {
   "cell_type": "markdown",
   "metadata": {},
   "source": [
    "#### Create the roots"
   ]
  },
  {
   "cell_type": "markdown",
   "metadata": {},
   "source": [
    "Find roots in node1\n",
    "\n",
    "> This step is including qualifier ids in node1, which makes reachable nodes have more roots than necessary. Would be nice to eliminate qualifiers here."
   ]
  },
  {
   "cell_type": "code",
   "execution_count": 103,
   "metadata": {},
   "outputs": [
    {
     "name": "stdout",
     "output_type": "stream",
     "text": [
      "[2021-09-26 18:51:37 query]: SQL Translation:\n",
      "---------------------------------------------\n",
      "  SELECT DISTINCT graph_44_c1.\"node1\" \"_aLias.node1\"\n",
      "     FROM graph_44 AS graph_44_c1\n",
      "  PARAS: []\n",
      "---------------------------------------------\n",
      "        4.79 real         4.44 user         0.31 sys\n"
     ]
    }
   ],
   "source": [
    "!$kypher -i Q2685base \\\n",
    "--match '(n)-[]->()' \\\n",
    "--return 'distinct n as node1' \\\n",
    "-o \"$TEMP\"/Q2685.node1.tsv.gz"
   ]
  },
  {
   "cell_type": "markdown",
   "metadata": {},
   "source": [
    "Find roots in node2"
   ]
  },
  {
   "cell_type": "code",
   "execution_count": 104,
   "metadata": {},
   "outputs": [
    {
     "name": "stdout",
     "output_type": "stream",
     "text": [
      "[2021-09-26 18:51:42 query]: SQL Translation:\n",
      "---------------------------------------------\n",
      "  SELECT DISTINCT graph_44_c1.\"node2\" \"_aLias.node1\"\n",
      "     FROM graph_19 AS graph_19_c2\n",
      "     INNER JOIN graph_44 AS graph_44_c1\n",
      "     ON graph_19_c2.\"node1\" = graph_44_c1.\"label\"\n",
      "        AND graph_19_c2.\"label\" = ?\n",
      "        AND graph_44_c1.\"label\" = graph_19_c2.\"node1\"\n",
      "        AND (graph_19_c2.\"node2\" IN (?))\n",
      "  PARAS: ['datatype', 'wikibase-item']\n",
      "---------------------------------------------\n",
      "[2021-09-26 18:51:42 sqlstore]: CREATE INDEX on table graph_44 column label ...\n",
      "[2021-09-26 18:51:44 sqlstore]: ANALYZE INDEX on table graph_44 column label ...\n",
      "        3.66 real         3.26 user         0.35 sys\n"
     ]
    }
   ],
   "source": [
    "!$kypher -i Q2685base -i datatypes \\\n",
    "--match ' \\\n",
    "    Q2685base: ()-[l {label: property}]->(n), \\\n",
    "    datatypes: (property)-[:datatype]->(datatype) \\\n",
    "    ' \\\n",
    "--where 'datatype in [\"wikibase-item\"]' \\\n",
    "--return 'distinct n as node1' \\\n",
    "-o \"$TEMP\"/Q2685.node2.tsv.gz"
   ]
  },
  {
   "cell_type": "markdown",
   "metadata": {},
   "source": [
    "Combine the two files to create all the roots"
   ]
  },
  {
   "cell_type": "code",
   "execution_count": 105,
   "metadata": {},
   "outputs": [
    {
     "name": "stdout",
     "output_type": "stream",
     "text": [
      "        8.95 real         9.79 user         0.61 sys\n",
      "[2021-09-26 18:51:58 sqlstore]: DROP graph data table graph_37 from Q2685node1\n",
      "[2021-09-26 18:51:58 sqlstore]: IMPORT graph directly into table graph_45 from /Users/pedroszekely/Downloads/kypher/temp.kgtk/Q2685.nodes.tsv.gz ...\n",
      "[2021-09-26 18:51:59 query]: SQL Translation:\n",
      "---------------------------------------------\n",
      "  SELECT *\n",
      "     FROM graph_45 AS graph_45_c1\n",
      "     LIMIT ?\n",
      "  PARAS: [2]\n",
      "---------------------------------------------\n",
      "node1\n",
      "P1000\n",
      "P1001\n",
      "        2.29 real         2.44 user         0.43 sys\n"
     ]
    }
   ],
   "source": [
    "!$kgtk cat --mode=NONE -i \"$TEMP\"/Q2685.node1.tsv.gz -i \"$TEMP\"/Q2685.node2.tsv.gz \\\n",
    "/ compact --mode=NONE --columns node1 \\\n",
    "-o \"$TEMP\"/Q2685.nodes.tsv.gz\n",
    "\n",
    "!$kypher -i \"$TEMP\"/Q2685.nodes.tsv.gz --as Q2685node1 --limit 2"
   ]
  },
  {
   "cell_type": "markdown",
   "metadata": {},
   "source": [
    "Circumvent a problem in `reachable-nodes` where it does not accept a root file with column header `node1`"
   ]
  },
  {
   "cell_type": "code",
   "execution_count": 106,
   "metadata": {},
   "outputs": [
    {
     "name": "stdout",
     "output_type": "stream",
     "text": [
      "        8.86 real         9.64 user         0.61 sys\n"
     ]
    }
   ],
   "source": [
    "!$kgtk rename-columns -i \"$TEMP\"/Q2685.nodes.tsv.gz --output-columns id --mode=NONE \\\n",
    "/ compact -o \"$TEMP\"/Q2685.roots.tsv.gz"
   ]
  },
  {
   "cell_type": "markdown",
   "metadata": {},
   "source": [
    "Do a depth-first traversal of the P31/P279 graph using as roots all items in the Schewarzenegger graph"
   ]
  },
  {
   "cell_type": "code",
   "execution_count": 107,
   "metadata": {},
   "outputs": [
    {
     "name": "stdout",
     "output_type": "stream",
     "text": [
      "     3768.66 real      2439.57 user      1324.00 sys\n"
     ]
    }
   ],
   "source": [
    "!$kgtk reachable-nodes \\\n",
    "    --rootfile \"$TEMP\"/Q2685.roots.tsv.gz \\\n",
    "    --rootfilecolumn id \\\n",
    "    --prop link \\\n",
    "    --label \"reachable\" \\\n",
    "    --selflink \\\n",
    "    -i \"$TEMP\"/P31.P279.subgraph.tsv.gz \\\n",
    "    -o \"$TEMP\"/P31.P279.reachable.tsv.gz"
   ]
  },
  {
   "cell_type": "markdown",
   "metadata": {},
   "source": [
    "Deduplicate the reachable nodes file"
   ]
  },
  {
   "cell_type": "code",
   "execution_count": 33,
   "metadata": {},
   "outputs": [
    {
     "name": "stdout",
     "output_type": "stream",
     "text": [
      "      157.61 real       204.91 user         5.78 sys\n"
     ]
    }
   ],
   "source": [
    "!$kgtk remove-columns -i \"$TEMP\"/P31.P279.reachable.tsv.gz --columns node1 label \\\n",
    "/ rename-columns --mode=NONE --output-columns node1 \\\n",
    "/ compact --mode=NONE --columns node1 \\\n",
    "-o \"$TEMP\"/P31.P279.reachable.dedup.tsv.gz"
   ]
  },
  {
   "cell_type": "markdown",
   "metadata": {},
   "source": [
    "Put all the reachable nodes in `Q2685node1`"
   ]
  },
  {
   "cell_type": "code",
   "execution_count": 34,
   "metadata": {},
   "outputs": [
    {
     "name": "stdout",
     "output_type": "stream",
     "text": [
      "        9.51 real        10.34 user         0.68 sys\n",
      "[2021-09-28 09:09:21 sqlstore]: DROP graph data table graph_45 from Q2685node1\n",
      "[2021-09-28 09:09:21 sqlstore]: IMPORT graph directly into table graph_45 from /Users/pedroszekely/Downloads/kypher/temp.kgtk/Q2685.nodes.ontology.tsv.gz ...\n",
      "[2021-09-28 09:09:22 query]: SQL Translation:\n",
      "---------------------------------------------\n",
      "  SELECT *\n",
      "     FROM graph_45 AS graph_45_c1\n",
      "     LIMIT ?\n",
      "  PARAS: [2]\n",
      "---------------------------------------------\n",
      "node1\n",
      "P1000\n",
      "P1001\n",
      "        2.30 real         2.70 user         0.35 sys\n"
     ]
    }
   ],
   "source": [
    "!$kgtk cat --mode=NONE \\\n",
    "-i \"$TEMP\"/Q2685.nodes.tsv.gz \\\n",
    "-i \"$TEMP\"/P31.P279.reachable.dedup.tsv.gz \\\n",
    "/ compact --deduplicate --mode=NONE --columns node1 \\\n",
    "-o \"$TEMP\"/Q2685.nodes.ontology.tsv.gz\n",
    "\n",
    "!$kypher -i \"$TEMP\"/Q2685.nodes.ontology.tsv.gz --as Q2685node1 --limit 2"
   ]
  },
  {
   "cell_type": "markdown",
   "metadata": {},
   "source": [
    "Extract all P31/P279 edges from Wikidata for all the nodes in the Schwarzenegger graph and consolidate."
   ]
  },
  {
   "cell_type": "code",
   "execution_count": 35,
   "metadata": {},
   "outputs": [
    {
     "name": "stdout",
     "output_type": "stream",
     "text": [
      "[2021-09-28 09:10:25 query]: SQL Translation:\n",
      "---------------------------------------------\n",
      "  SELECT DISTINCT graph_45_c1.\"node1\" \"_aLias.node1\", graph_9_c2.\"label\" \"_aLias.label\", graph_9_c2.\"node2\" \"_aLias.node2\", graph_9_c2.\"id\" \"_aLias.id\"\n",
      "     FROM graph_45 AS graph_45_c1\n",
      "     INNER JOIN graph_9 AS graph_9_c2\n",
      "     ON graph_45_c1.\"node1\" = graph_9_c2.\"node1\"\n",
      "        AND graph_9_c2.\"label\" = graph_9_c2.\"label\"\n",
      "        AND (graph_9_c2.\"label\" IN (?, ?))\n",
      "  PARAS: ['P31', 'P279']\n",
      "---------------------------------------------\n",
      "[2021-09-28 09:10:25 sqlstore]: CREATE INDEX on table graph_45 column node1 ...\n",
      "[2021-09-28 09:10:26 sqlstore]: ANALYZE INDEX on table graph_45 column node1 ...\n",
      "      968.70 real       148.87 user       147.10 sys\n",
      "[2021-09-28 09:26:33 sqlstore]: DROP graph data table graph_37 from Q2685base\n",
      "[2021-09-28 09:26:36 sqlstore]: IMPORT graph directly into table graph_37 from /Users/pedroszekely/Downloads/kypher/kgtk/Q2685.graph.item.quantity.time.monolingual.string.property.qualifiers.P31.P279.ontology.tsv.gz ...\n",
      "[2021-09-28 09:26:47 query]: SQL Translation:\n",
      "---------------------------------------------\n",
      "  SELECT *\n",
      "     FROM graph_37 AS graph_37_c1\n",
      "     LIMIT ?\n",
      "  PARAS: [2]\n",
      "---------------------------------------------\n",
      "node1\tlabel\tnode2\tid\n",
      "P1000\tP31\tQ18608871\tP1000-P31-Q18608871-093affb5-0\n",
      "P1001\tP1647\tP276\tP1001-P1647-P276-e4e44f83-0\n",
      "       14.91 real        19.82 user         1.99 sys\n"
     ]
    }
   ],
   "source": [
    "!$kypher -i claims -i Q2685node1 \\\n",
    "--match ' \\\n",
    "    Q2685node1: (n1), \\\n",
    "    claims: (n1)-[l {label:property}]->(n2) \\\n",
    "    ' \\\n",
    "--where 'property in [\"P31\", \"P279\"]' \\\n",
    "--return 'distinct n1 as node1, property as label, n2 as node2, l as id' \\\n",
    "/ cat -i - -i $OUT/Q2685.graph.item.quantity.time.monolingual.string.property.qualifiers.P31.P279.tsv.gz \\\n",
    "/ compact \\\n",
    "-o $OUT/Q2685.graph.item.quantity.time.monolingual.string.property.qualifiers.P31.P279.ontology.tsv.gz \\\n",
    "\n",
    "!$kypher -i $OUT/Q2685.graph.item.quantity.time.monolingual.string.property.qualifiers.P31.P279.ontology.tsv.gz --as Q2685base --limit 2"
   ]
  },
  {
   "cell_type": "markdown",
   "metadata": {},
   "source": [
    "I am not certain about the need for this cell, whether new nodes can appear after adding P31 and P279."
   ]
  },
  {
   "cell_type": "code",
   "execution_count": 48,
   "metadata": {},
   "outputs": [
    {
     "name": "stdout",
     "output_type": "stream",
     "text": [
      "[2021-09-28 09:36:31 query]: SQL Translation:\n",
      "---------------------------------------------\n",
      "  SELECT DISTINCT graph_37_c1.\"node2\" \"_aLias.node1\"\n",
      "     FROM graph_19 AS graph_19_c2\n",
      "     INNER JOIN graph_37 AS graph_37_c1\n",
      "     ON graph_19_c2.\"node1\" = graph_37_c1.\"label\"\n",
      "        AND graph_19_c2.\"label\" = ?\n",
      "        AND graph_37_c1.\"label\" = graph_19_c2.\"node1\"\n",
      "        AND (graph_19_c2.\"node2\" IN (?))\n",
      "  PARAS: ['datatype', 'wikibase-item']\n",
      "---------------------------------------------\n",
      "       10.83 real        12.65 user         1.01 sys\n",
      "[2021-09-28 09:36:41 sqlstore]: DROP graph data table graph_45 from Q2685node1\n",
      "[2021-09-28 09:36:41 sqlstore]: IMPORT graph directly into table graph_45 from /Users/pedroszekely/Downloads/kypher/temp.kgtk/Q2685.nodes.ontology.star.tsv.gz ...\n",
      "[2021-09-28 09:36:42 query]: SQL Translation:\n",
      "---------------------------------------------\n",
      "  SELECT *\n",
      "     FROM graph_45 AS graph_45_c1\n",
      "     LIMIT ?\n",
      "  PARAS: [2]\n",
      "---------------------------------------------\n",
      "node1\n",
      "P1000\n",
      "P1001\n",
      "        2.45 real         2.61 user         0.47 sys\n"
     ]
    }
   ],
   "source": [
    "!$kypher -i Q2685base -i datatypes \\\n",
    "--match ' \\\n",
    "    Q2685base: ()-[l {label: property}]->(n), \\\n",
    "    datatypes: (property)-[:datatype]->(datatype) \\\n",
    "    ' \\\n",
    "--where 'datatype in [\"wikibase-item\"]' \\\n",
    "--return 'distinct n as node1' \\\n",
    "/ cat -i - -i \"$TEMP\"/Q2685.nodes.ontology.tsv.gz --mode=NONE \\\n",
    "/ compact --mode=NONE --columns node1 \\\n",
    "-o \"$TEMP\"/Q2685.nodes.ontology.star.tsv.gz \\\n",
    "\n",
    "!$kypher -i \"$TEMP\"/Q2685.nodes.ontology.star.tsv.gz --as Q2685node1 --limit 2"
   ]
  },
  {
   "cell_type": "markdown",
   "metadata": {},
   "source": [
    "## Add property datatypes"
   ]
  },
  {
   "cell_type": "code",
   "execution_count": 49,
   "metadata": {},
   "outputs": [
    {
     "name": "stdout",
     "output_type": "stream",
     "text": [
      "[2021-09-28 09:36:44 query]: SQL Translation:\n",
      "---------------------------------------------\n",
      "  SELECT DISTINCT graph_19_c2.\"node1\" \"_aLias.node1\", graph_19_c2.\"label\" \"_aLias.label\", graph_19_c2.\"node2\" \"_aLias.node2\", graph_19_c2.\"id\" \"_aLias.id\"\n",
      "     FROM graph_19 AS graph_19_c2\n",
      "     INNER JOIN graph_37 AS graph_37_c1\n",
      "     ON graph_19_c2.\"node1\" = graph_37_c1.\"label\"\n",
      "        AND graph_19_c2.\"label\" = ?\n",
      "        AND graph_37_c1.\"label\" = graph_19_c2.\"node1\"\n",
      "  PARAS: ['datatype']\n",
      "---------------------------------------------\n",
      "       47.05 real        49.81 user         2.02 sys\n",
      "[2021-09-28 09:37:30 query]: SQL Translation:\n",
      "---------------------------------------------\n",
      "  SELECT *\n",
      "     FROM graph_37 AS graph_37_c1\n",
      "     LIMIT ?\n",
      "  PARAS: [2]\n",
      "---------------------------------------------\n",
      "node1\tlabel\tnode2\tid\n",
      "P1000\tP31\tQ18608871\tP1000-P31-Q18608871-093affb5-0\n",
      "P1001\tP1647\tP276\tP1001-P1647-P276-e4e44f83-0\n",
      "        1.01 real         0.81 user         0.15 sys\n"
     ]
    }
   ],
   "source": [
    "!$kypher -i datatypes -i Q2685base \\\n",
    "--match ' \\\n",
    "    Q2685base: ()-[r {label: property}]->(), \\\n",
    "    datatypes: (property)-[l:datatype]->(datatype) \\\n",
    "    ' \\\n",
    "--return 'distinct property as node1, l.label as label, datatype as node2, l as id' \\\n",
    "/ cat -i - -i $OUT/Q2685.graph.item.quantity.time.monolingual.string.property.qualifiers.P31.P279.ontology.tsv.gz \\\n",
    "/ compact \\\n",
    "-o $OUT/Q2685.graph.item.quantity.time.monolingual.string.property.qualifiers.P31.P279.ontology.datatype.tsv.gz \\\n",
    "\n",
    "!$kypher -i Q2685.graph.item.quantity.time.monolingual.string.property.qualifiers.P31.P279.ontology.datatype.tsv.gz --as Q2685base --limit 2"
   ]
  },
  {
   "cell_type": "markdown",
   "metadata": {},
   "source": [
    "## Build labels, aliases and descriptions"
   ]
  },
  {
   "cell_type": "markdown",
   "metadata": {},
   "source": [
    "Extract the label edges"
   ]
  },
  {
   "cell_type": "code",
   "execution_count": 50,
   "metadata": {},
   "outputs": [
    {
     "name": "stdout",
     "output_type": "stream",
     "text": [
      "[2021-09-28 09:37:33 query]: SQL Translation:\n",
      "---------------------------------------------\n",
      "  SELECT DISTINCT graph_45_c1.\"node1\" \"_aLias.node1\", graph_4_c2.\"label\" \"_aLias.label\", graph_4_c2.\"node2\" \"_aLias.node2\", graph_4_c2.\"id\" \"_aLias.id\"\n",
      "     FROM graph_4 AS graph_4_c2\n",
      "     INNER JOIN graph_45 AS graph_45_c1\n",
      "     ON graph_45_c1.\"node1\" = graph_4_c2.\"node1\"\n",
      "  PARAS: []\n",
      "---------------------------------------------\n",
      "[2021-09-28 09:37:33 sqlstore]: CREATE INDEX on table graph_45 column node1 ...\n",
      "[2021-09-28 09:37:33 sqlstore]: ANALYZE INDEX on table graph_45 column node1 ...\n",
      "       32.35 real         5.24 user         4.98 sys\n"
     ]
    }
   ],
   "source": [
    "!$kypher -i labels -i Q2685node1 \\\n",
    "--match ' \\\n",
    "    Q2685node1: (n1)-[]->(), \\\n",
    "    labels: (n1)-[l]->(n2) \\\n",
    "    ' \\\n",
    "--return 'distinct n1 as node1, l.label as label, n2 as node2, l as id' \\\n",
    "/ sort \\\n",
    "-o $OUT/Q2685.graph.label.tsv.gz"
   ]
  },
  {
   "cell_type": "markdown",
   "metadata": {},
   "source": [
    "Extract the alias edges"
   ]
  },
  {
   "cell_type": "code",
   "execution_count": 51,
   "metadata": {},
   "outputs": [
    {
     "name": "stdout",
     "output_type": "stream",
     "text": [
      "[2021-09-28 09:38:05 query]: SQL Translation:\n",
      "---------------------------------------------\n",
      "  SELECT DISTINCT graph_45_c1.\"node1\" \"_aLias.node1\", graph_5_c2.\"label\" \"_aLias.label\", graph_5_c2.\"node2\" \"_aLias.node2\", graph_5_c2.\"id\" \"_aLias.id\"\n",
      "     FROM graph_45 AS graph_45_c1\n",
      "     INNER JOIN graph_5 AS graph_5_c2\n",
      "     ON graph_45_c1.\"node1\" = graph_5_c2.\"node1\"\n",
      "  PARAS: []\n",
      "---------------------------------------------\n",
      "        7.92 real         3.98 user         1.70 sys\n"
     ]
    }
   ],
   "source": [
    "!$kypher -i aliases -i Q2685node1 \\\n",
    "--match ' \\\n",
    "    Q2685node1: (n1)-[]->(), \\\n",
    "    aliases: (n1)-[l]->(n2) \\\n",
    "    ' \\\n",
    "--return 'distinct n1 as node1, l.label as label, n2 as node2, l as id' \\\n",
    "/ sort \\\n",
    "-o $OUT/Q2685.graph.alias.tsv.gz"
   ]
  },
  {
   "cell_type": "markdown",
   "metadata": {},
   "source": [
    "Extract the description edges"
   ]
  },
  {
   "cell_type": "code",
   "execution_count": 52,
   "metadata": {},
   "outputs": [
    {
     "name": "stdout",
     "output_type": "stream",
     "text": [
      "[2021-09-28 09:38:13 query]: SQL Translation:\n",
      "---------------------------------------------\n",
      "  SELECT DISTINCT graph_45_c1.\"node1\" \"_aLias.node1\", graph_32_c2.\"label\" \"_aLias.label\", graph_32_c2.\"node2\" \"_aLias.node2\", graph_32_c2.\"id\" \"_aLias.id\"\n",
      "     FROM graph_32 AS graph_32_c2\n",
      "     INNER JOIN graph_45 AS graph_45_c1\n",
      "     ON graph_45_c1.\"node1\" = graph_32_c2.\"node1\"\n",
      "  PARAS: []\n",
      "---------------------------------------------\n",
      "       36.54 real         5.32 user         5.49 sys\n"
     ]
    }
   ],
   "source": [
    "!$kypher -i descriptions -i Q2685node1 \\\n",
    "--match ' \\\n",
    "    Q2685node1: (n1)-[]->(), \\\n",
    "    descriptions: (n1)-[l]->(n2) \\\n",
    "    ' \\\n",
    "--return 'distinct n1 as node1, l.label as label, n2 as node2, l as id' \\\n",
    "/ sort \\\n",
    "-o $OUT/Q2685.graph.description.tsv.gz"
   ]
  },
  {
   "cell_type": "markdown",
   "metadata": {},
   "source": [
    "## Compute useful derived files"
   ]
  },
  {
   "cell_type": "markdown",
   "metadata": {},
   "source": [
    "### Inverses of `P279`"
   ]
  },
  {
   "cell_type": "markdown",
   "metadata": {},
   "source": [
    "> To do: need to define t`P279_` property, it's datatype, label, etc."
   ]
  },
  {
   "cell_type": "code",
   "execution_count": 53,
   "metadata": {},
   "outputs": [
    {
     "name": "stdout",
     "output_type": "stream",
     "text": [
      "[2021-09-28 09:38:50 query]: SQL Translation:\n",
      "---------------------------------------------\n",
      "  SELECT DISTINCT graph_37_c1.\"node2\" \"_aLias.node1\", ? \"_aLias.label\", graph_37_c1.\"node1\" \"_aLias.node2\"\n",
      "     FROM graph_37 AS graph_37_c1\n",
      "     WHERE graph_37_c1.\"label\" = ?\n",
      "  PARAS: ['P279_', 'P279']\n",
      "---------------------------------------------\n",
      "        2.86 real         4.12 user         0.90 sys\n"
     ]
    }
   ],
   "source": [
    "!$kypher -i Q2685base \\\n",
    "--match '(n1)-[:P279]->(class)' \\\n",
    "--return 'distinct class as node1, \"P279_\" as label, n1 as node2' \\\n",
    "/ add-id --id-style wikidata \\\n",
    "/ sort \\\n",
    "-o \"$OUT\"/Q2685.derived.P279inv.tsv.gz"
   ]
  },
  {
   "cell_type": "code",
   "execution_count": null,
   "metadata": {},
   "outputs": [],
   "source": []
  },
  {
   "cell_type": "code",
   "execution_count": null,
   "metadata": {},
   "outputs": [],
   "source": []
  },
  {
   "cell_type": "markdown",
   "metadata": {},
   "source": [
    "## Final files\n",
    "- base, includes all edges except labeles, aliases and descriptions\n",
    "- labels\n",
    "- aliases\n",
    "- descriptions"
   ]
  },
  {
   "cell_type": "code",
   "execution_count": 54,
   "metadata": {},
   "outputs": [
    {
     "name": "stdout",
     "output_type": "stream",
     "text": [
      "       18.98 real        18.61 user         0.27 sys\n"
     ]
    }
   ],
   "source": [
    "!$kgtk cat \\\n",
    "-i \"$OUT\"/Q2685.graph.item.quantity.time.monolingual.string.property.qualifiers.P31.P279.ontology.datatype.tsv.gz \\\n",
    "-i \"$OUT\"/Q2685.graph.alias.tsv.gz \\\n",
    "-i \"$OUT\"/Q2685.graph.label.tsv.gz \\\n",
    "-i \"$OUT\"/Q2685.graph.description.tsv.gz \\\n",
    "-o \"$OUT\"/Q2685.graph.all.tsv.gz"
   ]
  },
  {
   "cell_type": "code",
   "execution_count": null,
   "metadata": {},
   "outputs": [],
   "source": []
  },
  {
   "cell_type": "code",
   "execution_count": 55,
   "metadata": {},
   "outputs": [
    {
     "name": "stdout",
     "output_type": "stream",
     "text": [
      "[2021-09-28 09:39:11 sqlstore]: DROP graph data table graph_40 from Q2685aliases\n",
      "[2021-09-28 09:39:11 sqlstore]: IMPORT graph directly into table graph_40 from /Users/pedroszekely/Downloads/kypher/kgtk/Q2685.graph.alias.tsv.gz ...\n",
      "[2021-09-28 09:39:12 sqlstore]: DROP graph data table graph_41 from Q2685labels\n",
      "[2021-09-28 09:39:12 sqlstore]: IMPORT graph directly into table graph_41 from /Users/pedroszekely/Downloads/kypher/kgtk/Q2685.graph.label.tsv.gz ...\n",
      "[2021-09-28 09:39:12 sqlstore]: DROP graph data table graph_42 from Q2685descriptions\n",
      "[2021-09-28 09:39:12 sqlstore]: IMPORT graph directly into table graph_42 from /Users/pedroszekely/Downloads/kypher/kgtk/Q2685.graph.description.tsv.gz ...\n",
      "[2021-09-28 09:39:13 query]: SQL Translation:\n",
      "---------------------------------------------\n",
      "  SELECT *\n",
      "     FROM graph_40 AS graph_40_c1\n",
      "     LIMIT ?\n",
      "  PARAS: [2]\n",
      "---------------------------------------------\n",
      "node1\tlabel\tnode2\tid\n",
      "P1001\talias\t'belongs to jurisdiction'@en\tP1001-alias-en-0dd7ce-0\n",
      "P1001\talias\t'linked to jurisdiction'@en\tP1001-alias-en-106818-0\n",
      "        3.39 real         4.12 user         0.53 sys\n"
     ]
    }
   ],
   "source": [
    "!$kypher \\\n",
    "-i \"$OUT\"/Q2685.graph.alias.tsv.gz --as Q2685aliases \\\n",
    "-i \"$OUT\"/Q2685.graph.label.tsv.gz --as Q2685labels \\\n",
    "-i \"$OUT\"/Q2685.graph.description.tsv.gz --as Q2685descriptions \\\n",
    "--limit 2"
   ]
  },
  {
   "cell_type": "code",
   "execution_count": null,
   "metadata": {},
   "outputs": [],
   "source": []
  },
  {
   "cell_type": "code",
   "execution_count": 56,
   "metadata": {},
   "outputs": [
    {
     "name": "stdout",
     "output_type": "stream",
     "text": [
      "[2021-09-28 09:39:14 query]: SQL Translation:\n",
      "---------------------------------------------\n",
      "  SELECT count(DISTINCT graph_37_c1.\"node1\")\n",
      "     FROM graph_37 AS graph_37_c1\n",
      "  PARAS: []\n",
      "---------------------------------------------\n",
      "count(DISTINCT graph_37_c1.\"node1\")\n",
      "512883\n",
      "        2.56 real         2.12 user         0.39 sys\n"
     ]
    }
   ],
   "source": [
    "!$kypher -i Q2685base --match '(n)-[]->()' --return 'count(distinct n)'"
   ]
  },
  {
   "cell_type": "code",
   "execution_count": 57,
   "metadata": {},
   "outputs": [
    {
     "name": "stdout",
     "output_type": "stream",
     "text": [
      "[2021-09-28 09:39:17 query]: SQL Translation:\n",
      "---------------------------------------------\n",
      "  SELECT count(DISTINCT graph_41_c1.\"node1\")\n",
      "     FROM graph_41 AS graph_41_c1\n",
      "  PARAS: []\n",
      "---------------------------------------------\n",
      "count(DISTINCT graph_41_c1.\"node1\")\n",
      "126830\n",
      "        1.19 real         0.98 user         0.18 sys\n"
     ]
    }
   ],
   "source": [
    "!$kypher -i Q2685labels --match '(n)-[]->()' --return 'count(distinct n)'"
   ]
  },
  {
   "cell_type": "code",
   "execution_count": null,
   "metadata": {},
   "outputs": [],
   "source": []
  },
  {
   "cell_type": "code",
   "execution_count": null,
   "metadata": {},
   "outputs": [],
   "source": []
  },
  {
   "cell_type": "code",
   "execution_count": null,
   "metadata": {},
   "outputs": [],
   "source": []
  }
 ],
 "metadata": {
  "kernelspec": {
   "display_name": "kgtk-env",
   "language": "python",
   "name": "kgtk-env"
  },
  "language_info": {
   "codemirror_mode": {
    "name": "ipython",
    "version": 3
   },
   "file_extension": ".py",
   "mimetype": "text/x-python",
   "name": "python",
   "nbconvert_exporter": "python",
   "pygments_lexer": "ipython3",
   "version": "3.7.9"
  }
 },
 "nbformat": 4,
 "nbformat_minor": 4
}
