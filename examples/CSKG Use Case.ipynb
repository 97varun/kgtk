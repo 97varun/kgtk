{
 "cells": [
  {
   "cell_type": "markdown",
   "metadata": {},
   "source": [
    "# CSKG use case\n",
    "\n",
    "In this notebook, we will *compute statistics and embeddings over a 0.1% random sample of our Commonsense Knowledge Graph (CSKG).* \n",
    "\n",
    "This sample contains 17,234 edges.\n",
    "\n",
    "## Preparation"
   ]
  },
  {
   "cell_type": "markdown",
   "metadata": {},
   "source": [
    "As a preparation for this notebook:\n",
    "* please download a subset of the CSKG graph provided [here]()\n",
    "* place it in the same directory as this notebook"
   ]
  },
  {
   "cell_type": "markdown",
   "metadata": {},
   "source": [
    "## Computing statistics over the graph\n",
    "\n",
    "Let's compute graph statistics: degrees, PageRank and HITS centrality, and other general graph descriptors."
   ]
  },
  {
   "cell_type": "code",
   "execution_count": 1,
   "metadata": {},
   "outputs": [],
   "source": [
    "%%bash\n",
    "kgtk graph_statistics --directed --degrees --pagerank --hits --log cskg_summary.txt cskg_sample.tsv > cskg_stats.tsv"
   ]
  },
  {
   "cell_type": "markdown",
   "metadata": {},
   "source": [
    "### Inspecting the output\n",
    "\n",
    "This command has computed individual degree numbers, HITS hubs and authority values, and PageRank for all nodes in `cskg_stats.tsv`. Here are the last 10 lines of the file:"
   ]
  },
  {
   "cell_type": "code",
   "execution_count": null,
   "metadata": {},
   "outputs": [],
   "source": [
    "%%bash\n",
    "tail cskg_stats.tsv"
   ]
  },
  {
   "cell_type": "markdown",
   "metadata": {},
   "source": [
    "It has also generated an aggregated summary of these and other graph statistics in `cskg_summary.txt`. Let's print the contents of this file:"
   ]
  },
  {
   "cell_type": "code",
   "execution_count": null,
   "metadata": {},
   "outputs": [],
   "source": [
    "%%bash\n",
    "cat cskg_summary.txt"
   ]
  },
  {
   "cell_type": "markdown",
   "metadata": {},
   "source": [
    "## Computing embeddings"
   ]
  },
  {
   "cell_type": "markdown",
   "metadata": {},
   "source": [
    "Another common operation is computing BERT-large embeddings over CSKG knowledge. Here is how:"
   ]
  },
  {
   "cell_type": "code",
   "execution_count": 7,
   "metadata": {},
   "outputs": [
    {
     "name": "stderr",
     "output_type": "stream",
     "text": [
      "100%|██████████| 14184/14184 [33:19<00:00,  7.09it/s]\n"
     ]
    }
   ],
   "source": [
    "%%bash\n",
    "kgtk text_embedding --debug --embedding-projector-metadata-path none \\\n",
    "                    --embedding-projector-metadata-path none \\\n",
    "                    --label-properties \"/r/Synonym\" \\\n",
    "                    --isa-properties \"/r/IsA\" \\\n",
    "                    --description-properties \"/r/DefinedAs\" \\\n",
    "                    --property-value \"/r/Causes\" \"/r/UsedFor\" \\\n",
    "                    --has-properties \"\" \\\n",
    "                    -f kgtk_format \\\n",
    "                    --output-format kgtk_format \\\n",
    "                    --use-cache \\\n",
    "                    --model bert-large-nli-cls-token -i cskg_sample.tsv > cskg_embedings.txt"
   ]
  },
  {
   "cell_type": "markdown",
   "metadata": {},
   "source": [
    "You can now inspect the embeddings in `cskg_embeddings.txt`."
   ]
  },
  {
   "cell_type": "code",
   "execution_count": null,
   "metadata": {},
   "outputs": [],
   "source": []
  }
 ],
 "metadata": {
  "kernelspec": {
   "display_name": "Python 3",
   "language": "python",
   "name": "python3"
  },
  "language_info": {
   "codemirror_mode": {
    "name": "ipython",
    "version": 3
   },
   "file_extension": ".py",
   "mimetype": "text/x-python",
   "name": "python",
   "nbconvert_exporter": "python",
   "pygments_lexer": "ipython3",
   "version": "3.7.7"
  }
 },
 "nbformat": 4,
 "nbformat_minor": 4
}
