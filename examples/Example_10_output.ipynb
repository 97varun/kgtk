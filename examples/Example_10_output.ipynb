{
 "cells": [
  {
   "cell_type": "markdown",
   "metadata": {
    "papermill": {
     "duration": 0.0237,
     "end_time": "2020-11-17T21:01:40.149949",
     "exception": false,
     "start_time": "2020-11-17T21:01:40.126249",
     "status": "completed"
    },
    "tags": []
   },
   "source": [
    "# Generating statistics for subset of Wikidata\n",
    "\n",
    "This notebook illustrates how to generate statistics for a subset of Wikidata. \\\n",
    "We use as an example https://www.wikidata.org/wiki/Q11173 (chemical compound).\n",
    "\n",
    "Example Dataset wikidata subset: https://drive.google.com/drive/u/1/folders/1KjNwV5M2G3JzCrPgqk_TSx8wTE49O2Sx \\\n",
    "Example Dataset statistics: https://drive.google.com/drive/u/0/folders/1_4Mxd0MAo0l9aR3aInv0YMTJrtneh7HW \n",
    "\n",
    "### Example Invocation command\n",
    "\n",
    "    papermill /Users/shashanksaurabh/Desktop/MS/ISI/isi/kgtk_shashank73744/kgtk/examples/Example_10_Wikidata_Subgraph_Statistics.ipynb \\\n",
    "    /Users/shashanksaurabh/Desktop/MS/ISI/isi/kgtk_shashank73744/kgtk/examples/Example_10_output.ipynb \\\n",
    "    -p wikidata_home '/Users/shashanksaurabh/Desktop/Data_isi' \\\n",
    "    -p wikidata_parts_folder '/Users/shashanksaurabh/Desktop/Data_isi/Chemical' \\\n",
    "    -p cache_folder '/Users/shashanksaurabh/Desktop/Data_isi/Temp' \\\n",
    "    -p output_folder '/Users/shashanksaurabh/Desktop/Data_isi/output' \\\n",
    "    -p delete_database 'yes' \\\n",
    "    -p K \\\"10\\\" \\\n",
    "    -p subset_name 'Q11173'\n"
   ]
  },
  {
   "cell_type": "code",
   "execution_count": 1,
   "metadata": {
    "execution": {
     "iopub.execute_input": "2020-11-17T21:01:40.196257Z",
     "iopub.status.busy": "2020-11-17T21:01:40.195399Z",
     "iopub.status.idle": "2020-11-17T21:01:40.198853Z",
     "shell.execute_reply": "2020-11-17T21:01:40.198289Z"
    },
    "papermill": {
     "duration": 0.030357,
     "end_time": "2020-11-17T21:01:40.199035",
     "exception": false,
     "start_time": "2020-11-17T21:01:40.168678",
     "status": "completed"
    },
    "scrolled": false,
    "tags": [
     "parameters"
    ]
   },
   "outputs": [],
   "source": [
    "wikidata_home = \"/Users/shashanksaurabh/Desktop/Data_isi\"\n",
    "\n",
    "# path to folder which contains all files corresponding to the wikidata subset. \n",
    "#(For more information on wikidata subset please check Example 8)\n",
    "wikidata_parts_folder = \"/Users/shashanksaurabh/Desktop/Data_isi/Chemical\"\n",
    "\n",
    "# The notebook creates a cache, which is present in the cache_folder. The cache can be deleted after the execution.\n",
    "cache_folder = \"/Users/shashanksaurabh/Desktop/Data_isi/Temp\"\n",
    "\n",
    "# path to the folder where the output (here statistics) would be stored\n",
    "output_folder = \"/Users/shashanksaurabh/Desktop/Data_isi/output\"\n",
    "\n",
    "# In each of statistics top K results are chosen.\n",
    "#In the following examples this has been implemented using the --limit attribute.\n",
    "K = \"10\"\n",
    "\n",
    "# This represents the Qnode of wikidata subset.\n",
    "subset_name = \"Q11173\""
   ]
  },
  {
   "cell_type": "code",
   "execution_count": 2,
   "metadata": {
    "execution": {
     "iopub.execute_input": "2020-11-17T21:01:40.240867Z",
     "iopub.status.busy": "2020-11-17T21:01:40.240248Z",
     "iopub.status.idle": "2020-11-17T21:01:40.243543Z",
     "shell.execute_reply": "2020-11-17T21:01:40.243056Z"
    },
    "papermill": {
     "duration": 0.026594,
     "end_time": "2020-11-17T21:01:40.243669",
     "exception": false,
     "start_time": "2020-11-17T21:01:40.217075",
     "status": "completed"
    },
    "tags": [
     "injected-parameters"
    ]
   },
   "outputs": [],
   "source": [
    "# Parameters\n",
    "wikidata_home = \"/Users/shashanksaurabh/Desktop/Data_isi\"\n",
    "wikidata_parts_folder = \"/Users/shashanksaurabh/Desktop/Data_isi/Chemical\"\n",
    "cache_folder = \"/Users/shashanksaurabh/Desktop/Data_isi/Temp\"\n",
    "output_folder = \"/Users/shashanksaurabh/Desktop/Data_isi/output-chemical\"\n",
    "delete_database = \"yes\"\n",
    "K = \"\\\"10\\\"\"\n",
    "subset_name = \"Q11173\"\n"
   ]
  },
  {
   "cell_type": "code",
   "execution_count": 3,
   "metadata": {
    "execution": {
     "iopub.execute_input": "2020-11-17T21:01:40.284442Z",
     "iopub.status.busy": "2020-11-17T21:01:40.283338Z",
     "iopub.status.idle": "2020-11-17T21:01:42.188066Z",
     "shell.execute_reply": "2020-11-17T21:01:42.188677Z"
    },
    "papermill": {
     "duration": 1.927997,
     "end_time": "2020-11-17T21:01:42.188873",
     "exception": false,
     "start_time": "2020-11-17T21:01:40.260876",
     "status": "completed"
    },
    "scrolled": false,
    "tags": []
   },
   "outputs": [],
   "source": [
    "import io\n",
    "import os\n",
    "import subprocess\n",
    "import sys\n",
    "\n",
    "import numpy as np\n",
    "import pandas as pd\n",
    "\n",
    "from IPython.display import display, HTML, Markdown, Image\n",
    "\n",
    "from kgtk.kypher.sqlstore import *\n",
    "\n",
    "import matplotlib.pyplot as plt\n",
    "\n",
    "from qwikidata.sparql  import return_sparql_query_results\n",
    "\n",
    "# import altair as alt\n",
    "# alt.renderers.enable('altair_viewer')\n",
    "\n",
    "# from IPython.display import display, HTML, Image\n",
    "# from pandas_profiling import ProfileReport"
   ]
  },
  {
   "cell_type": "code",
   "execution_count": 4,
   "metadata": {
    "execution": {
     "iopub.execute_input": "2020-11-17T21:01:42.233708Z",
     "iopub.status.busy": "2020-11-17T21:01:42.232557Z",
     "iopub.status.idle": "2020-11-17T21:01:42.236944Z",
     "shell.execute_reply": "2020-11-17T21:01:42.236064Z"
    },
    "papermill": {
     "duration": 0.029247,
     "end_time": "2020-11-17T21:01:42.237145",
     "exception": false,
     "start_time": "2020-11-17T21:01:42.207898",
     "status": "completed"
    },
    "tags": []
   },
   "outputs": [],
   "source": [
    "try:\n",
    "    int_k = int(K)\n",
    "except Exception as e:\n",
    "    int_k = int(K[1:-1])"
   ]
  },
  {
   "cell_type": "markdown",
   "metadata": {
    "papermill": {
     "duration": 0.018172,
     "end_time": "2020-11-17T21:01:42.278941",
     "exception": false,
     "start_time": "2020-11-17T21:01:42.260769",
     "status": "completed"
    },
    "tags": []
   },
   "source": [
    "### Set up environment variables and folders that we need"
   ]
  },
  {
   "cell_type": "code",
   "execution_count": 5,
   "metadata": {
    "execution": {
     "iopub.execute_input": "2020-11-17T21:01:42.324609Z",
     "iopub.status.busy": "2020-11-17T21:01:42.318033Z",
     "iopub.status.idle": "2020-11-17T21:01:42.337284Z",
     "shell.execute_reply": "2020-11-17T21:01:42.336712Z"
    },
    "papermill": {
     "duration": 0.039412,
     "end_time": "2020-11-17T21:01:42.337409",
     "exception": false,
     "start_time": "2020-11-17T21:01:42.297997",
     "status": "completed"
    },
    "scrolled": false,
    "tags": []
   },
   "outputs": [],
   "source": [
    "# path to folder which contains all files corresponding to the wikidata subset. \n",
    "#(For more information on wikidata subset please check Example 8)\n",
    "os.environ['WIKIDATA_PARTS'] = wikidata_parts_folder\n",
    "\n",
    "# path to the folder where the output (here statistics) would be stored\n",
    "os.environ['OUTPUT_FOLDER'] = output_folder\n",
    "\n",
    "# The statistics are stored in two different folders, overview folder and class folder.\n",
    "# If the folders are not present then in the following command they are created\n",
    "if not os.path.isdir(os.path.join(output_folder,\"overview_folder\")):\n",
    "    os.mkdir(os.path.join(output_folder,\"overview_folder\"))\n",
    "if not os.path.isdir(os.path.join(output_folder,\"classes\")):\n",
    "    os.mkdir(os.path.join(output_folder,\"classes\"))\n",
    "if not os.path.isdir(os.path.join(output_folder,\"property_overview\")):\n",
    "    os.mkdir(os.path.join(output_folder,\"property_overview\"))\n",
    "\n",
    "# Environmnet variable for the two sub folders where the statistics would be stored  \n",
    "os.environ['OVERVIEW_FOLDER'] = os.path.join(output_folder,\"overview_folder\")\n",
    "os.environ['CLASS_FOLDER'] = os.path.join(output_folder,\"classes\")\n",
    "os.environ['PROPERTY_OVERVIEW'] = os.path.join(output_folder,\"property_overview\")\n",
    "\n",
    "# kgtk command to run\n",
    "os.environ['kgtk'] = \"kgtk\"\n",
    "os.environ['kgtk'] = \"time kgtk --debug\"\n",
    "\n",
    "# absolute path of the db\n",
    "os.environ['STORE'] = \"{}/wikidata.sqlite3.db\".format(cache_folder)\n",
    "os.environ['K'] = K\n",
    "os.environ['label'] = subset_name + \".label.en.tsv.gz\"\n",
    "\n",
    "# file name corresponding to different part of the Wikidata subgraph.\n",
    "os.environ['subset_name']  = subset_name\n",
    "os.environ['external_id']  = subset_name + \".part.external-id.tsv.gz\"\n",
    "os.environ['time']  = subset_name +  \".part.time.tsv.gz\"\n",
    "os.environ['wikibase_item']  = subset_name + \".part.wikibase-item.tsv.gz\"\n",
    "os.environ['quantity']  = subset_name +  \".part.quantity.tsv.gz\"\n",
    "os.environ['statistics']  = subset_name + \".statistics.tsv.gz\"\n",
    "os.environ['wikibase_form']  = subset_name + \".part.wikibase-form.tsv.gz\"\n",
    "os.environ['monolingualtext']  = subset_name + \".part.monolingualtext.tsv.gz\"\n",
    "os.environ['math']  = subset_name + \".part.math.tsv.gz\"\n",
    "os.environ['commonsMedia']  = subset_name + \".part.commonsMedia.tsv.gz\"\n",
    "os.environ['globe_coordinate']  = subset_name + \".part.globe-coordinate.tsv.gz\"\n",
    "os.environ['musical_notation']  = subset_name + \".part.musical-notation.tsv.gz\"\n",
    "os.environ['geo_shape']  = subset_name + \".part.geo-shape.tsv.gz\"\n",
    "os.environ['url']  = subset_name + \".part.url.tsv.gz\"\n",
    "os.environ['string']  = subset_name + \".part.string.tsv.gz\"\n",
    "os.environ['alias']  = subset_name + \".alias.en.tsv.gz\"\n",
    "os.environ['description']  = subset_name + \".description.en.tsv.gz\"\n",
    "\n",
    "# Output file corresponding to the overview folder (contains overview part of the statistics)\n",
    "os.environ['class_summary']  = \"Overview.class.tsv\"\n",
    "os.environ['top_pagrank']  = subset_name + \"_top_pagrank.tsv\"\n",
    "os.environ['stats']  = \"Overview.nodes.tsv\"\n",
    "os.environ['all_degree']  = subset_name + \"_allDegree.tsv\"\n",
    "os.environ['degree']  = \"Overview.degree.tsv\"\n",
    "os.environ['class_summary']  = subset_name + \"_class_summary.tsv\"\n",
    "os.environ['temp']  = subset_name + \"_temp_tsv.tsv\"\n",
    "os.environ['magnitudes_destribution'] = subset_name + \"_magnitude_destribution_for_quantity.tsv\"\n",
    "os.environ['year_destribution_per_deacade'] = subset_name + \"_year_destribution_for_time_per_decade.tsv\"\n",
    "os.environ['year_destribution_per_50_years'] = subset_name + \"_year_destribution_for_time_per_50_years.tsv\"\n",
    "os.environ['globe_coordinate_destribution'] = subset_name + \"_coordinate_destribution_for_globe_coordinate.tsv\"\n",
    "os.environ['geo_shape_random_samples'] = \"Property_overview.geo_shape.random.tsv\"\n",
    "\n",
    "# Output files corresponding to the class summary folder (contains class summary part of the statistics)\n",
    "os.environ['property_summary_external_id']  = \"Overview.property.externalID.tsv\"\n",
    "os.environ['property_summary_time']  = \"Overview.property.time.tsv\"\n",
    "os.environ['property_summary_wikibase_item']  = \"Overview.property.wikibaseItem.tsv\"\n",
    "os.environ['property_summary_quantity']  = \"Overview.property.quantity.tsv\"\n",
    "os.environ['property_summary_wikibase_form']  = \"Overview.property.wikibaseForm.tsv\"\n",
    "os.environ['property_summary_monolingualtext']  = \"Overview.property.monolingualText.tsv\"\n",
    "os.environ['property_summary_math']  = \"Overview.property.math.tsv\"\n",
    "os.environ['property_summary_commonsMedia']  = \"Overview.property.commonsMedia.tsv\"\n",
    "os.environ['property_summary_globe_coordinate']  = \"Overview.property.globeCoordinate.tsv\"\n",
    "os.environ['property_summary_musical_notation']  = \"Overview.property.musicalNotation.tsv\"\n",
    "os.environ['property_summary_geo_shape']  = \"Overview.property.geoShape.tsv\"\n",
    "os.environ['property_summary_url']  = \"Overview.property.url.tsv\"\n",
    "os.environ['property_summary_string']  = \"Overview.property.strings.tsv\""
   ]
  },
  {
   "cell_type": "code",
   "execution_count": 6,
   "metadata": {
    "execution": {
     "iopub.execute_input": "2020-11-17T21:01:42.383257Z",
     "iopub.status.busy": "2020-11-17T21:01:42.382354Z",
     "iopub.status.idle": "2020-11-17T21:01:42.386174Z",
     "shell.execute_reply": "2020-11-17T21:01:42.386833Z"
    },
    "papermill": {
     "duration": 0.030322,
     "end_time": "2020-11-17T21:01:42.387032",
     "exception": false,
     "start_time": "2020-11-17T21:01:42.356710",
     "status": "completed"
    },
    "scrolled": false,
    "tags": []
   },
   "outputs": [],
   "source": [
    "FNULL = open(os.devnull, 'w')\n",
    "def run_command(cmd, substitution_dictionary = {}):\n",
    "    \"\"\"Run a templetized command.\"\"\"\n",
    "    debug = False\n",
    "    for k, v in substitution_dictionary.items():\n",
    "        cmd = cmd.replace(k, v)\n",
    "    \n",
    "#     print(cmd)\n",
    "    if debug:\n",
    "        output = subprocess.run([cmd], shell=True, universal_newlines=True, stdout=subprocess.PIPE, stderr=subprocess.PIPE)\n",
    "        print(output.stdout)\n",
    "        print(output.stderr)\n",
    "    else:\n",
    "        output = subprocess.run([cmd], shell=True, universal_newlines=True, stdout=FNULL, stderr=subprocess.PIPE)\n",
    "    #print(output.returncode)"
   ]
  },
  {
   "cell_type": "code",
   "execution_count": 7,
   "metadata": {
    "execution": {
     "iopub.execute_input": "2020-11-17T21:01:42.449251Z",
     "iopub.status.busy": "2020-11-17T21:01:42.448239Z",
     "iopub.status.idle": "2020-11-17T21:01:42.460451Z",
     "shell.execute_reply": "2020-11-17T21:01:42.459901Z"
    },
    "papermill": {
     "duration": 0.041226,
     "end_time": "2020-11-17T21:01:42.460609",
     "exception": false,
     "start_time": "2020-11-17T21:01:42.419383",
     "status": "completed"
    },
    "scrolled": false,
    "tags": []
   },
   "outputs": [],
   "source": [
    "# This function is used to print the string in different font, colors and font-size.\n",
    "def printmd(string,color='black',size='25',fontWeight=\"bold\"):\n",
    "    colorstr = \"<span style='font-weight: {};margin-top=80px;margin-bottom=80px; font-size:{}; color:{}'>{}</span>\".format(fontWeight,str(size)+'px',color, string)\n",
    "    display(HTML(colorstr))"
   ]
  },
  {
   "cell_type": "code",
   "execution_count": 8,
   "metadata": {
    "execution": {
     "iopub.execute_input": "2020-11-17T21:01:42.508433Z",
     "iopub.status.busy": "2020-11-17T21:01:42.507602Z",
     "iopub.status.idle": "2020-11-17T21:01:42.509997Z",
     "shell.execute_reply": "2020-11-17T21:01:42.510479Z"
    },
    "papermill": {
     "duration": 0.026944,
     "end_time": "2020-11-17T21:01:42.510635",
     "exception": false,
     "start_time": "2020-11-17T21:01:42.483691",
     "status": "completed"
    },
    "scrolled": true,
    "tags": []
   },
   "outputs": [],
   "source": [
    "# Its  a helper function which given a qnode or pnode returns the link corresponding to it.\n",
    "def generate_link(string):\n",
    "    if string[0] == 'P':\n",
    "        return \"https://www.wikidata.org/wiki/Property:\"+string \n",
    "    elif string[0] == 'Q':\n",
    "        return \"https://www.wikidata.org/wiki/\"+string\n",
    "    return string"
   ]
  },
  {
   "cell_type": "code",
   "execution_count": 9,
   "metadata": {
    "execution": {
     "iopub.execute_input": "2020-11-17T21:01:42.560775Z",
     "iopub.status.busy": "2020-11-17T21:01:42.559760Z",
     "iopub.status.idle": "2020-11-17T21:01:42.562886Z",
     "shell.execute_reply": "2020-11-17T21:01:42.562282Z"
    },
    "papermill": {
     "duration": 0.027579,
     "end_time": "2020-11-17T21:01:42.563031",
     "exception": false,
     "start_time": "2020-11-17T21:01:42.535452",
     "status": "completed"
    },
    "tags": []
   },
   "outputs": [],
   "source": [
    "# It returns the label of the qnode\n",
    "def find_label(qnode):\n",
    "    try:\n",
    "        query_string = \"\"\"\n",
    "                PREFIX rdfs: <http://www.w3.org/2000/01/rdf-schema#> \\\n",
    "                PREFIX wd: <http://www.wikidata.org/entity/> \\\n",
    "                SELECT  * \\\n",
    "                WHERE { \\\n",
    "                    wd:__qnode rdfs:label ?label . \\\n",
    "                    FILTER (langMatches( lang(?label), \"EN\" ) ) \\\n",
    "                  } \\\n",
    "                LIMIT 1\n",
    "            \"\"\"\n",
    "        query_string = query_string.replace(\"__qnode\",str(qnode))\n",
    "        res = return_sparql_query_results(query_string)\n",
    "#         print(query_string)\n",
    "#         print(res)\n",
    "        if 'results' in res and \"bindings\" in res['results'] and len(res['results']['bindings'])>=1 and \"label\" in res['results']['bindings'][0] and \"value\" in res['results']['bindings'][0][\"label\"] :\n",
    "            return res['results']['bindings'][0][\"label\"][\"value\"].capitalize()\n",
    "        return qnode\n",
    "    except Exception as e:\n",
    "        return qnode"
   ]
  },
  {
   "cell_type": "code",
   "execution_count": 10,
   "metadata": {
    "execution": {
     "iopub.execute_input": "2020-11-17T21:01:42.613732Z",
     "iopub.status.busy": "2020-11-17T21:01:42.612856Z",
     "iopub.status.idle": "2020-11-17T21:01:57.813940Z",
     "shell.execute_reply": "2020-11-17T21:01:57.813437Z"
    },
    "papermill": {
     "duration": 15.231339,
     "end_time": "2020-11-17T21:01:57.814089",
     "exception": false,
     "start_time": "2020-11-17T21:01:42.582750",
     "status": "completed"
    },
    "scrolled": false,
    "tags": []
   },
   "outputs": [
    {
     "data": {
      "text/html": [
       "<span style='font-weight: bold;margin-top=80px;margin-bottom=80px; font-size:25px; color:blue'>Overview of the Graph</span>"
      ],
      "text/plain": [
       "<IPython.core.display.HTML object>"
      ]
     },
     "metadata": {},
     "output_type": "display_data"
    },
    {
     "data": {
      "text/html": [
       "<span style='font-weight: Light;margin-top=80px;margin-bottom=80px; font-size:15px; color:black'>Number of Nodes in the Graph: 1064158</span>"
      ],
      "text/plain": [
       "<IPython.core.display.HTML object>"
      ]
     },
     "metadata": {},
     "output_type": "display_data"
    },
    {
     "data": {
      "text/html": [
       "<span style='font-weight: Light;margin-top=80px;margin-bottom=80px; font-size:15px; color:black'>Number of Edges in the Graph: 6935066</span>"
      ],
      "text/plain": [
       "<IPython.core.display.HTML object>"
      ]
     },
     "metadata": {},
     "output_type": "display_data"
    },
    {
     "data": {
      "text/html": [
       "<span style='font-weight: Light;margin-top=80px;margin-bottom=80px; font-size:15px; color:black'>Number of Classes in the Graph: 609</span>"
      ],
      "text/plain": [
       "<IPython.core.display.HTML object>"
      ]
     },
     "metadata": {},
     "output_type": "display_data"
    },
    {
     "data": {
      "text/html": [
       "<span style='font-weight: Light;margin-top=80px;margin-bottom=80px; font-size:15px; color:black'>Number of Properties in the Graph: 454</span>"
      ],
      "text/plain": [
       "<IPython.core.display.HTML object>"
      ]
     },
     "metadata": {},
     "output_type": "display_data"
    }
   ],
   "source": [
    "#Types contain tuple of the environmnet variable corresponding to the input property file, \n",
    "#the name of the Datatype and environmnet variable corresponding to the output file.\n",
    "types = [\n",
    "        (\"time\",\"Time\",\"property_summary_time\"),\n",
    "        (\"wikibase_item\",\"Wikibase_item\",\"property_summary_wikibase_item\"),\n",
    "        (\"math\",\"Math\",\"property_summary_math\"),\n",
    "        (\"wikibase_form\",\"Wikibase-form\",\"property_summary_wikibase_form\"),\n",
    "        (\"quantity\",\"Quantity\",\"property_summary_quantity\"),\n",
    "        (\"string\",\"String\",\"property_summary_string\"),\n",
    "        (\"external_id\",\"External-id\",\"property_summary_external_id\"),\n",
    "        (\"commonsMedia\",\"CommonsMedia\",\"property_summary_commonsMedia\"),\n",
    "        (\"globe_coordinate\",\"Globe-coordinate\",\"property_summary_globe_coordinate\"),\n",
    "        (\"monolingualtext\",\"Monolingualtext\",\"property_summary_monolingualtext\"),\n",
    "        (\"musical_notation\",\"Musical-notation\",\"property_summary_musical_notation\"),\n",
    "        (\"geo_shape\",\"Geo-shape\",\"property_summary_geo_shape\"),\n",
    "        (\"url\",\"Url\",\"property_summary_url\"),\n",
    "    ]\n",
    "try:\n",
    "    number_of_node = 0\n",
    "    number_of_edges = 0\n",
    "    number_of_classes = 0\n",
    "    number_of_properties = 0\n",
    "    for type_,name,file in types:\n",
    "        temp = pd.read_csv(os.path.join(os.getenv('WIKIDATA_PARTS'),os.getenv(type_)),delimiter='\\t')\n",
    "        number_of_properties += temp['label'].nunique()\n",
    "        number_of_edges+=temp['node1'].count()\n",
    "        if (name==\"Wikibase_item\"):\n",
    "            number_of_node+=temp['node1'].nunique()\n",
    "            number_of_classes = temp[temp['label']=='P279']['node2'].nunique()\n",
    "    df_stats = pd.DataFrame([[\"Number of Nodes\",number_of_node],[\"Number of Edges\",number_of_edges],[\"Number of Classes\",number_of_classes],[\"Number of Properties\",number_of_properties]],columns=['Statistics', 'Value'])\n",
    "    printmd(\"Overview of the Graph\",'blue')\n",
    "    printmd(\"Number of Nodes in the Graph: \"+str(number_of_node),size=15,fontWeight='Light')\n",
    "    printmd(\"Number of Edges in the Graph: \"+str(number_of_edges),size=15,fontWeight='Light')\n",
    "    printmd(\"Number of Classes in the Graph: \"+str(number_of_classes),size=15,fontWeight='Light')\n",
    "    printmd(\"Number of Properties in the Graph: \"+str(number_of_properties),size=15,fontWeight='Light')\n",
    "    df_stats.to_csv(os.path.join(os.getenv('OVERVIEW_FOLDER'),os.getenv('stats')),sep='\\t')\n",
    "except Exception as e:\n",
    "    print(e)"
   ]
  },
  {
   "cell_type": "code",
   "execution_count": 11,
   "metadata": {
    "execution": {
     "iopub.execute_input": "2020-11-17T21:01:57.867747Z",
     "iopub.status.busy": "2020-11-17T21:01:57.863028Z",
     "iopub.status.idle": "2020-11-17T21:03:19.082771Z",
     "shell.execute_reply": "2020-11-17T21:03:19.073674Z"
    },
    "papermill": {
     "duration": 81.248383,
     "end_time": "2020-11-17T21:03:19.083050",
     "exception": false,
     "start_time": "2020-11-17T21:01:57.834667",
     "status": "completed"
    },
    "scrolled": false,
    "tags": []
   },
   "outputs": [
    {
     "data": {
      "text/html": [
       "<span style='font-weight: bold;margin-top=80px;margin-bottom=80px; font-size:25px; color:blue'>Overview of the Graph</span>"
      ],
      "text/plain": [
       "<IPython.core.display.HTML object>"
      ]
     },
     "metadata": {},
     "output_type": "display_data"
    },
    {
     "data": {
      "text/html": [
       "<span style='font-weight: Light;margin-top=80px;margin-bottom=80px; font-size:15px; color:black'>Average in-degree of the Graph: 0.0</span>"
      ],
      "text/plain": [
       "<IPython.core.display.HTML object>"
      ]
     },
     "metadata": {},
     "output_type": "display_data"
    },
    {
     "data": {
      "text/html": [
       "<span style='font-weight: Light;margin-top=80px;margin-bottom=80px; font-size:15px; color:black'>Minimum in-degree of the Graph: 0.0</span>"
      ],
      "text/plain": [
       "<IPython.core.display.HTML object>"
      ]
     },
     "metadata": {},
     "output_type": "display_data"
    },
    {
     "data": {
      "text/html": [
       "<span style='font-weight: Light;margin-top=80px;margin-bottom=80px; font-size:15px; color:black'>Maximum in-degree of the Graph: 0.0</span>"
      ],
      "text/plain": [
       "<IPython.core.display.HTML object>"
      ]
     },
     "metadata": {},
     "output_type": "display_data"
    },
    {
     "data": {
      "text/html": [
       "<span style='font-weight: Light;margin-top=80px;margin-bottom=80px; font-size:15px; color:black'>Average out-degree of the Graph: 6.608249902740007</span>"
      ],
      "text/plain": [
       "<IPython.core.display.HTML object>"
      ]
     },
     "metadata": {},
     "output_type": "display_data"
    },
    {
     "data": {
      "text/html": [
       "<span style='font-weight: Light;margin-top=80px;margin-bottom=80px; font-size:15px; color:black'>Minimum out-degree of the Graph: 1</span>"
      ],
      "text/plain": [
       "<IPython.core.display.HTML object>"
      ]
     },
     "metadata": {},
     "output_type": "display_data"
    },
    {
     "data": {
      "text/html": [
       "<span style='font-weight: Light;margin-top=80px;margin-bottom=80px; font-size:15px; color:black'>Maximum out-degree of the Graph: 1804</span>"
      ],
      "text/plain": [
       "<IPython.core.display.HTML object>"
      ]
     },
     "metadata": {},
     "output_type": "display_data"
    }
   ],
   "source": [
    "try:\n",
    "    # This query finds the statistics for all the nodes in wikibase_item and save it in a file\n",
    "    cmd = \"$kgtk query -i $WIKIDATA_PARTS/$wikibase_item -i $WIKIDATA_PARTS/$statistics --graph-cache $STORE \\\n",
    "    -o $OVERVIEW_FOLDER/$all_degree \\\n",
    "    --match 'item: (n1)-[l]->(n2), statistics:(n1)-[stats_property{label: llab}]->(stats) ' \\\n",
    "    --return 'distinct n1 as qnode, llab as `Property`, stats as Value' \"\n",
    "    run_command(cmd, {\"__subset_name\": subset_name})\n",
    "    temp = pd.read_csv(os.path.join(os.getenv('OVERVIEW_FOLDER'),os.getenv('all_degree')),delimiter='\\t')\n",
    "    indegree_avg  = temp[temp['Property']=='vertex_in_degree']['Value'].mean()\n",
    "    indegree_min  = temp[temp['Property']=='vertex_in_degree']['Value'].min()\n",
    "    indegree_max = temp[temp['Property']=='vertex_in_degree']['Value'].max()\n",
    "    outdegree_avg  = temp[temp['Property']=='vertex_out_degree']['Value'].mean()\n",
    "    outdegree_min  = temp[temp['Property']=='vertex_out_degree']['Value'].min()\n",
    "    outdegree_max = temp[temp['Property']=='vertex_out_degree']['Value'].max()\n",
    "    df_degree = pd.DataFrame([[\"in-degree\",indegree_avg,indegree_min,indegree_max],[\"out-degree\",outdegree_avg,outdegree_min,outdegree_max]],columns=[\"Stat\",\"Average\",\"Min\",\"Max\"])\n",
    "    df_degree.to_csv(os.path.join(os.getenv('OVERVIEW_FOLDER'),os.getenv('degree')),sep='\\t')\n",
    "    printmd(\"Overview of the Graph\",'blue')\n",
    "    printmd(\"Average in-degree of the Graph: \"+str(indegree_avg),size=15,fontWeight='Light')\n",
    "    printmd(\"Minimum in-degree of the Graph: \"+str(indegree_min),size=15,fontWeight='Light')\n",
    "    printmd(\"Maximum in-degree of the Graph: \"+str(indegree_max),size=15,fontWeight='Light')\n",
    "    printmd(\"Average out-degree of the Graph: \"+str(outdegree_avg),size=15,fontWeight='Light')\n",
    "    printmd(\"Minimum out-degree of the Graph: \"+str(int(outdegree_min)),size=15,fontWeight='Light')\n",
    "    printmd(\"Maximum out-degree of the Graph: \"+str(int(outdegree_max)),size=15,fontWeight='Light')\n",
    "except Exception as e:\n",
    "    print(e)"
   ]
  },
  {
   "cell_type": "code",
   "execution_count": 12,
   "metadata": {
    "execution": {
     "iopub.execute_input": "2020-11-17T21:03:19.146277Z",
     "iopub.status.busy": "2020-11-17T21:03:19.135233Z",
     "iopub.status.idle": "2020-11-17T21:03:53.272272Z",
     "shell.execute_reply": "2020-11-17T21:03:53.270930Z"
    },
    "papermill": {
     "duration": 34.164273,
     "end_time": "2020-11-17T21:03:53.272428",
     "exception": false,
     "start_time": "2020-11-17T21:03:19.108155",
     "status": "completed"
    },
    "scrolled": true,
    "tags": []
   },
   "outputs": [
    {
     "data": {
      "text/html": [
       "<span style='font-weight: bold;margin-top=80px;margin-bottom=80px; font-size:25px; color:blue'>Class Summary of the Subgraph</span>"
      ],
      "text/plain": [
       "<IPython.core.display.HTML object>"
      ]
     },
     "metadata": {},
     "output_type": "display_data"
    },
    {
     "data": {
      "text/html": [
       "<span style='font-weight: Light;margin-top=80px;margin-bottom=80px; font-size:15px; color:black'>Below is the list of Top K Classes of the Subgraph ordered based on number of instances</span>"
      ],
      "text/plain": [
       "<IPython.core.display.HTML object>"
      ]
     },
     "metadata": {},
     "output_type": "display_data"
    },
    {
     "data": {
      "text/html": [
       "<table border=\"1\" class=\"dataframe\">\n",
       "  <thead>\n",
       "    <tr style=\"text-align: right;\">\n",
       "      <th>Class_Label</th>\n",
       "      <th>Number of Instances</th>\n",
       "      <th>Pagerank</th>\n",
       "      <th>Link</th>\n",
       "    </tr>\n",
       "  </thead>\n",
       "  <tbody>\n",
       "    <tr>\n",
       "      <td>chemical compound</td>\n",
       "      <td>1063060</td>\n",
       "      <td>0.0627481</td>\n",
       "      <td>https://www.wikidata.org/wiki/Q11173</td>\n",
       "    </tr>\n",
       "    <tr>\n",
       "      <td>medication</td>\n",
       "      <td>2507</td>\n",
       "      <td>0.000111443</td>\n",
       "      <td>https://www.wikidata.org/wiki/Q12140</td>\n",
       "    </tr>\n",
       "    <tr>\n",
       "      <td>diacylglycerophosphocholine</td>\n",
       "      <td>485</td>\n",
       "      <td>2.45038e-05</td>\n",
       "      <td>https://www.wikidata.org/wiki/Q63436503</td>\n",
       "    </tr>\n",
       "    <tr>\n",
       "      <td>carcinogen</td>\n",
       "      <td>479</td>\n",
       "      <td>2.7155e-05</td>\n",
       "      <td>https://www.wikidata.org/wiki/Q187661</td>\n",
       "    </tr>\n",
       "    <tr>\n",
       "      <td>wax monoester</td>\n",
       "      <td>410</td>\n",
       "      <td>2.07372e-05</td>\n",
       "      <td>https://www.wikidata.org/wiki/Q63446172</td>\n",
       "    </tr>\n",
       "    <tr>\n",
       "      <td>lipid</td>\n",
       "      <td>350</td>\n",
       "      <td>2.1516e-05</td>\n",
       "      <td>https://www.wikidata.org/wiki/Q11367</td>\n",
       "    </tr>\n",
       "    <tr>\n",
       "      <td>flavonoid</td>\n",
       "      <td>343</td>\n",
       "      <td>1.86838e-05</td>\n",
       "      <td>https://www.wikidata.org/wiki/Q222174</td>\n",
       "    </tr>\n",
       "    <tr>\n",
       "      <td>essential medicine</td>\n",
       "      <td>308</td>\n",
       "      <td>1.09212e-05</td>\n",
       "      <td>https://www.wikidata.org/wiki/Q35456</td>\n",
       "    </tr>\n",
       "    <tr>\n",
       "      <td>heterocyclic compound</td>\n",
       "      <td>286</td>\n",
       "      <td>2.05663e-05</td>\n",
       "      <td>https://www.wikidata.org/wiki/Q193430</td>\n",
       "    </tr>\n",
       "    <tr>\n",
       "      <td>monoclonal antibody</td>\n",
       "      <td>273</td>\n",
       "      <td>1.32401e-05</td>\n",
       "      <td>https://www.wikidata.org/wiki/Q422248</td>\n",
       "    </tr>\n",
       "    <tr>\n",
       "      <td>Other Classes</td>\n",
       "      <td>12612</td>\n",
       "      <td>NA</td>\n",
       "      <td>NA</td>\n",
       "    </tr>\n",
       "  </tbody>\n",
       "</table>"
      ],
      "text/plain": [
       "<IPython.core.display.HTML object>"
      ]
     },
     "metadata": {},
     "output_type": "display_data"
    }
   ],
   "source": [
    "try:\n",
    "    # This query finds all the classes based on number of Instances\n",
    "    cmd = \"$kgtk query -i $WIKIDATA_PARTS/$wikibase_item -i $WIKIDATA_PARTS/$label -i $WIKIDATA_PARTS/$statistics --graph-cache $STORE \\\n",
    "    -o $OVERVIEW_FOLDER/$class_summary \\\n",
    "    --match 'item: (n1)-[l{label:llab}]->(n2), label: (n2)-[:label]->(label_n2),statistics:(n2)-[:vertex_pagerank]->(pagerank) ' \\\n",
    "    --return 'distinct n2 as Link, kgtk_lqstring_text(label_n2) as `Class_Label`, count(distinct n1) as `Number of Instances`, pagerank as Pagerank' \\\n",
    "    --where 'label_n2.kgtk_lqstring_lang_suffix = \\\"en\\\" AND (llab IN [\\\"P31\\\"])  ' \\\n",
    "    --order-by 'count(distinct n1) desc' \"\n",
    "    run_command(cmd)\n",
    "    \n",
    "    # Load the Dataframe with the file created in the above query\n",
    "    df_class_summary = pd.read_csv(os.path.join(os.getenv('OVERVIEW_FOLDER'),os.getenv('class_summary')),delimiter='\\t')\n",
    "    \n",
    "    #The statistics for top K properties are generated and sum of Number of instances for \n",
    "    #the remaining properties are stored in other_instances\n",
    "    other_instances = df_class_summary[int(int_k):][\"Number of Instances\"].sum()\n",
    "    \n",
    "    #Take top K properties and disregard rest of the properties\n",
    "    df_class_summary = df_class_summary[:int(int_k)]\n",
    "    \n",
    "    #Take top K properties and disregard rest of the properties\n",
    "    df_class_summary = df_class_summary[[\"Class_Label\",\"Number of Instances\",\"Pagerank\",\"Link\"]]\n",
    "    \n",
    "    df_class_summary = df_class_summary.append({\"Class_Label\":\"Other Classes\",\"Number of Instances\":other_instances,\"Pagerank\":\"NA\",\"Link\":\"NA\"},ignore_index=True)\n",
    "    \n",
    "    #Generate hyperlinks from the qnode/pnode\n",
    "    df_class_summary['Link'] = df_class_summary['Link'].apply(generate_link)\n",
    "    \n",
    "    #Save the dataframe to the output file\n",
    "    df_class_summary.to_csv(os.path.join(os.getenv('OVERVIEW_FOLDER'),os.getenv('class_summary')),sep='\\t')\n",
    "    printmd(\"Class Summary of the Subgraph\",'blue')\n",
    "    printmd(\"Below is the list of Top K Classes of the Subgraph ordered based on number of instances\",size=\"15\",fontWeight=\"Light\")\n",
    "    display(HTML(df_class_summary.to_html(index=False)))\n",
    "except Exception as e:\n",
    "    print(e)"
   ]
  },
  {
   "cell_type": "code",
   "execution_count": 13,
   "metadata": {
    "execution": {
     "iopub.execute_input": "2020-11-17T21:03:53.338236Z",
     "iopub.status.busy": "2020-11-17T21:03:53.337415Z",
     "iopub.status.idle": "2020-11-17T21:04:40.861838Z",
     "shell.execute_reply": "2020-11-17T21:04:40.862328Z"
    },
    "papermill": {
     "duration": 47.562962,
     "end_time": "2020-11-17T21:04:40.862491",
     "exception": false,
     "start_time": "2020-11-17T21:03:53.299529",
     "status": "completed"
    },
    "scrolled": false,
    "tags": []
   },
   "outputs": [
    {
     "data": {
      "text/html": [
       "<span style='font-weight: bold;margin-top=80px;margin-bottom=80px; font-size:25px; color:blue'>Datatype: Time</span>"
      ],
      "text/plain": [
       "<IPython.core.display.HTML object>"
      ]
     },
     "metadata": {},
     "output_type": "display_data"
    },
    {
     "data": {
      "text/html": [
       "<span style='font-weight: Light;margin-top=80px;margin-bottom=80px; font-size:15px; color:black'>Below are the top K properties of Datatype:Time  ordered based on number of statements</span>"
      ],
      "text/plain": [
       "<IPython.core.display.HTML object>"
      ]
     },
     "metadata": {},
     "output_type": "display_data"
    },
    {
     "data": {
      "text/html": [
       "<table border=\"1\" class=\"dataframe\">\n",
       "  <thead>\n",
       "    <tr style=\"text-align: right;\">\n",
       "      <th>Property_Label</th>\n",
       "      <th>Number_of_Statements</th>\n",
       "      <th>Link</th>\n",
       "    </tr>\n",
       "  </thead>\n",
       "  <tbody>\n",
       "    <tr>\n",
       "      <td>time of discovery or invention</td>\n",
       "      <td>20</td>\n",
       "      <td>https://www.wikidata.org/wiki/Property:P575</td>\n",
       "    </tr>\n",
       "    <tr>\n",
       "      <td>discontinued date</td>\n",
       "      <td>1</td>\n",
       "      <td>https://www.wikidata.org/wiki/Property:P2669</td>\n",
       "    </tr>\n",
       "    <tr>\n",
       "      <td>inception</td>\n",
       "      <td>1</td>\n",
       "      <td>https://www.wikidata.org/wiki/Property:P571</td>\n",
       "    </tr>\n",
       "    <tr>\n",
       "      <td>service entry</td>\n",
       "      <td>1</td>\n",
       "      <td>https://www.wikidata.org/wiki/Property:P729</td>\n",
       "    </tr>\n",
       "    <tr>\n",
       "      <td>service retirement</td>\n",
       "      <td>1</td>\n",
       "      <td>https://www.wikidata.org/wiki/Property:P730</td>\n",
       "    </tr>\n",
       "    <tr>\n",
       "      <td>Other Properties</td>\n",
       "      <td>0</td>\n",
       "      <td>NA</td>\n",
       "    </tr>\n",
       "  </tbody>\n",
       "</table>"
      ],
      "text/plain": [
       "<IPython.core.display.HTML object>"
      ]
     },
     "metadata": {},
     "output_type": "display_data"
    },
    {
     "data": {
      "text/html": [
       "<span style='font-weight: bold;margin-top=80px;margin-bottom=80px; font-size:25px; color:black'>------------------------------------------------------------------------------------------</span>"
      ],
      "text/plain": [
       "<IPython.core.display.HTML object>"
      ]
     },
     "metadata": {},
     "output_type": "display_data"
    },
    {
     "data": {
      "text/html": [
       "<span style='font-weight: bold;margin-top=80px;margin-bottom=80px; font-size:25px; color:blue'>Datatype: Wikibase Item</span>"
      ],
      "text/plain": [
       "<IPython.core.display.HTML object>"
      ]
     },
     "metadata": {},
     "output_type": "display_data"
    },
    {
     "data": {
      "text/html": [
       "<span style='font-weight: Light;margin-top=80px;margin-bottom=80px; font-size:15px; color:black'>Below are the top K properties of Datatype:Wikibase Item  ordered based on number of statements</span>"
      ],
      "text/plain": [
       "<IPython.core.display.HTML object>"
      ]
     },
     "metadata": {},
     "output_type": "display_data"
    },
    {
     "data": {
      "text/html": [
       "<table border=\"1\" class=\"dataframe\">\n",
       "  <thead>\n",
       "    <tr style=\"text-align: right;\">\n",
       "      <th>Property_Label</th>\n",
       "      <th>Number_of_Statements</th>\n",
       "      <th>Link</th>\n",
       "    </tr>\n",
       "  </thead>\n",
       "  <tbody>\n",
       "    <tr>\n",
       "      <td>catalog</td>\n",
       "      <td>49434</td>\n",
       "      <td>https://www.wikidata.org/wiki/Property:P972</td>\n",
       "    </tr>\n",
       "    <tr>\n",
       "      <td>has part</td>\n",
       "      <td>15973</td>\n",
       "      <td>https://www.wikidata.org/wiki/Property:P527</td>\n",
       "    </tr>\n",
       "    <tr>\n",
       "      <td>part of</td>\n",
       "      <td>9430</td>\n",
       "      <td>https://www.wikidata.org/wiki/Property:P361</td>\n",
       "    </tr>\n",
       "    <tr>\n",
       "      <td>medical condition treated</td>\n",
       "      <td>6121</td>\n",
       "      <td>https://www.wikidata.org/wiki/Property:P2175</td>\n",
       "    </tr>\n",
       "    <tr>\n",
       "      <td>active ingredient in</td>\n",
       "      <td>4178</td>\n",
       "      <td>https://www.wikidata.org/wiki/Property:P3780</td>\n",
       "    </tr>\n",
       "    <tr>\n",
       "      <td>physically interacts with</td>\n",
       "      <td>3852</td>\n",
       "      <td>https://www.wikidata.org/wiki/Property:P129</td>\n",
       "    </tr>\n",
       "    <tr>\n",
       "      <td>significant drug interaction</td>\n",
       "      <td>1721</td>\n",
       "      <td>https://www.wikidata.org/wiki/Property:P769</td>\n",
       "    </tr>\n",
       "    <tr>\n",
       "      <td>stereoisomer of</td>\n",
       "      <td>1457</td>\n",
       "      <td>https://www.wikidata.org/wiki/Property:P3364</td>\n",
       "    </tr>\n",
       "    <tr>\n",
       "      <td>safety classification and labelling</td>\n",
       "      <td>1376</td>\n",
       "      <td>https://www.wikidata.org/wiki/Property:P4952</td>\n",
       "    </tr>\n",
       "    <tr>\n",
       "      <td>pregnancy category</td>\n",
       "      <td>1353</td>\n",
       "      <td>https://www.wikidata.org/wiki/Property:P3489</td>\n",
       "    </tr>\n",
       "    <tr>\n",
       "      <td>Other Properties</td>\n",
       "      <td>5728</td>\n",
       "      <td>NA</td>\n",
       "    </tr>\n",
       "  </tbody>\n",
       "</table>"
      ],
      "text/plain": [
       "<IPython.core.display.HTML object>"
      ]
     },
     "metadata": {},
     "output_type": "display_data"
    },
    {
     "data": {
      "text/html": [
       "<span style='font-weight: bold;margin-top=80px;margin-bottom=80px; font-size:25px; color:black'>------------------------------------------------------------------------------------------</span>"
      ],
      "text/plain": [
       "<IPython.core.display.HTML object>"
      ]
     },
     "metadata": {},
     "output_type": "display_data"
    },
    {
     "data": {
      "text/html": [
       "<span style='font-weight: bold;margin-top=80px;margin-bottom=80px; font-size:25px; color:blue'>Datatype: Mathematical Expression</span>"
      ],
      "text/plain": [
       "<IPython.core.display.HTML object>"
      ]
     },
     "metadata": {},
     "output_type": "display_data"
    },
    {
     "data": {
      "text/html": [
       "<span style='font-weight: Light;margin-top=80px;margin-bottom=80px; font-size:15px; color:black'>No Property is present for Datatype:Mathematical Expression</span>"
      ],
      "text/plain": [
       "<IPython.core.display.HTML object>"
      ]
     },
     "metadata": {},
     "output_type": "display_data"
    },
    {
     "data": {
      "text/html": [
       "<span style='font-weight: bold;margin-top=80px;margin-bottom=80px; font-size:25px; color:black'>------------------------------------------------------------------------------------------</span>"
      ],
      "text/plain": [
       "<IPython.core.display.HTML object>"
      ]
     },
     "metadata": {},
     "output_type": "display_data"
    },
    {
     "data": {
      "text/html": [
       "<span style='font-weight: bold;margin-top=80px;margin-bottom=80px; font-size:25px; color:blue'>Datatype: Wikibase Form</span>"
      ],
      "text/plain": [
       "<IPython.core.display.HTML object>"
      ]
     },
     "metadata": {},
     "output_type": "display_data"
    },
    {
     "data": {
      "text/html": [
       "<span style='font-weight: Light;margin-top=80px;margin-bottom=80px; font-size:15px; color:black'>No Property is present for Datatype:Wikibase Form</span>"
      ],
      "text/plain": [
       "<IPython.core.display.HTML object>"
      ]
     },
     "metadata": {},
     "output_type": "display_data"
    },
    {
     "data": {
      "text/html": [
       "<span style='font-weight: bold;margin-top=80px;margin-bottom=80px; font-size:25px; color:black'>------------------------------------------------------------------------------------------</span>"
      ],
      "text/plain": [
       "<IPython.core.display.HTML object>"
      ]
     },
     "metadata": {},
     "output_type": "display_data"
    },
    {
     "data": {
      "text/html": [
       "<span style='font-weight: bold;margin-top=80px;margin-bottom=80px; font-size:25px; color:blue'>Datatype: Quantity</span>"
      ],
      "text/plain": [
       "<IPython.core.display.HTML object>"
      ]
     },
     "metadata": {},
     "output_type": "display_data"
    },
    {
     "data": {
      "text/html": [
       "<span style='font-weight: Light;margin-top=80px;margin-bottom=80px; font-size:15px; color:black'>Below are the top K properties of Datatype:Quantity  ordered based on number of statements</span>"
      ],
      "text/plain": [
       "<IPython.core.display.HTML object>"
      ]
     },
     "metadata": {},
     "output_type": "display_data"
    },
    {
     "data": {
      "text/html": [
       "<table border=\"1\" class=\"dataframe\">\n",
       "  <thead>\n",
       "    <tr style=\"text-align: right;\">\n",
       "      <th>Property_Label</th>\n",
       "      <th>Number_of_Statements</th>\n",
       "      <th>Link</th>\n",
       "    </tr>\n",
       "  </thead>\n",
       "  <tbody>\n",
       "    <tr>\n",
       "      <td>mass</td>\n",
       "      <td>146546</td>\n",
       "      <td>https://www.wikidata.org/wiki/Property:P2067</td>\n",
       "    </tr>\n",
       "    <tr>\n",
       "      <td>melting point</td>\n",
       "      <td>9494</td>\n",
       "      <td>https://www.wikidata.org/wiki/Property:P2101</td>\n",
       "    </tr>\n",
       "    <tr>\n",
       "      <td>density</td>\n",
       "      <td>1113</td>\n",
       "      <td>https://www.wikidata.org/wiki/Property:P2054</td>\n",
       "    </tr>\n",
       "    <tr>\n",
       "      <td>defined daily dose</td>\n",
       "      <td>908</td>\n",
       "      <td>https://www.wikidata.org/wiki/Property:P4250</td>\n",
       "    </tr>\n",
       "    <tr>\n",
       "      <td>boiling point</td>\n",
       "      <td>873</td>\n",
       "      <td>https://www.wikidata.org/wiki/Property:P2102</td>\n",
       "    </tr>\n",
       "    <tr>\n",
       "      <td>time-weighted average exposure limit</td>\n",
       "      <td>715</td>\n",
       "      <td>https://www.wikidata.org/wiki/Property:P2404</td>\n",
       "    </tr>\n",
       "    <tr>\n",
       "      <td>vapor pressure</td>\n",
       "      <td>605</td>\n",
       "      <td>https://www.wikidata.org/wiki/Property:P2119</td>\n",
       "    </tr>\n",
       "    <tr>\n",
       "      <td>median lethal dose (LD50)</td>\n",
       "      <td>477</td>\n",
       "      <td>https://www.wikidata.org/wiki/Property:P2240</td>\n",
       "    </tr>\n",
       "    <tr>\n",
       "      <td>solubility</td>\n",
       "      <td>433</td>\n",
       "      <td>https://www.wikidata.org/wiki/Property:P2177</td>\n",
       "    </tr>\n",
       "    <tr>\n",
       "      <td>flash point</td>\n",
       "      <td>405</td>\n",
       "      <td>https://www.wikidata.org/wiki/Property:P2128</td>\n",
       "    </tr>\n",
       "    <tr>\n",
       "      <td>Other Properties</td>\n",
       "      <td>3450</td>\n",
       "      <td>NA</td>\n",
       "    </tr>\n",
       "  </tbody>\n",
       "</table>"
      ],
      "text/plain": [
       "<IPython.core.display.HTML object>"
      ]
     },
     "metadata": {},
     "output_type": "display_data"
    },
    {
     "data": {
      "text/html": [
       "<span style='font-weight: bold;margin-top=80px;margin-bottom=80px; font-size:25px; color:black'>------------------------------------------------------------------------------------------</span>"
      ],
      "text/plain": [
       "<IPython.core.display.HTML object>"
      ]
     },
     "metadata": {},
     "output_type": "display_data"
    },
    {
     "data": {
      "text/html": [
       "<span style='font-weight: bold;margin-top=80px;margin-bottom=80px; font-size:25px; color:blue'>Datatype: String</span>"
      ],
      "text/plain": [
       "<IPython.core.display.HTML object>"
      ]
     },
     "metadata": {},
     "output_type": "display_data"
    },
    {
     "data": {
      "text/html": [
       "<span style='font-weight: Light;margin-top=80px;margin-bottom=80px; font-size:15px; color:black'>Below are the top K properties of Datatype:String  ordered based on number of statements</span>"
      ],
      "text/plain": [
       "<IPython.core.display.HTML object>"
      ]
     },
     "metadata": {},
     "output_type": "display_data"
    },
    {
     "data": {
      "text/html": [
       "<table border=\"1\" class=\"dataframe\">\n",
       "  <thead>\n",
       "    <tr style=\"text-align: right;\">\n",
       "      <th>Property_Label</th>\n",
       "      <th>Number_of_Statements</th>\n",
       "      <th>Link</th>\n",
       "    </tr>\n",
       "  </thead>\n",
       "  <tbody>\n",
       "    <tr>\n",
       "      <td>chemical formula</td>\n",
       "      <td>344854</td>\n",
       "      <td>https://www.wikidata.org/wiki/Property:P274</td>\n",
       "    </tr>\n",
       "    <tr>\n",
       "      <td>canonical SMILES</td>\n",
       "      <td>199853</td>\n",
       "      <td>https://www.wikidata.org/wiki/Property:P233</td>\n",
       "    </tr>\n",
       "    <tr>\n",
       "      <td>isomeric SMILES</td>\n",
       "      <td>141589</td>\n",
       "      <td>https://www.wikidata.org/wiki/Property:P2017</td>\n",
       "    </tr>\n",
       "    <tr>\n",
       "      <td>Commons category</td>\n",
       "      <td>3463</td>\n",
       "      <td>https://www.wikidata.org/wiki/Property:P373</td>\n",
       "    </tr>\n",
       "    <tr>\n",
       "      <td>NIOSH Pocket Guide ID</td>\n",
       "      <td>615</td>\n",
       "      <td>https://www.wikidata.org/wiki/Property:P1931</td>\n",
       "    </tr>\n",
       "    <tr>\n",
       "      <td>NCI Thesaurus ID</td>\n",
       "      <td>416</td>\n",
       "      <td>https://www.wikidata.org/wiki/Property:P1748</td>\n",
       "    </tr>\n",
       "    <tr>\n",
       "      <td>MCN code</td>\n",
       "      <td>378</td>\n",
       "      <td>https://www.wikidata.org/wiki/Property:P1987</td>\n",
       "    </tr>\n",
       "    <tr>\n",
       "      <td>Open Food Facts food additive ID</td>\n",
       "      <td>228</td>\n",
       "      <td>https://www.wikidata.org/wiki/Property:P1820</td>\n",
       "    </tr>\n",
       "    <tr>\n",
       "      <td>Commons gallery</td>\n",
       "      <td>75</td>\n",
       "      <td>https://www.wikidata.org/wiki/Property:P935</td>\n",
       "    </tr>\n",
       "    <tr>\n",
       "      <td>LEM ID</td>\n",
       "      <td>15</td>\n",
       "      <td>https://www.wikidata.org/wiki/Property:P920</td>\n",
       "    </tr>\n",
       "    <tr>\n",
       "      <td>Other Properties</td>\n",
       "      <td>79</td>\n",
       "      <td>NA</td>\n",
       "    </tr>\n",
       "  </tbody>\n",
       "</table>"
      ],
      "text/plain": [
       "<IPython.core.display.HTML object>"
      ]
     },
     "metadata": {},
     "output_type": "display_data"
    },
    {
     "data": {
      "text/html": [
       "<span style='font-weight: bold;margin-top=80px;margin-bottom=80px; font-size:25px; color:black'>------------------------------------------------------------------------------------------</span>"
      ],
      "text/plain": [
       "<IPython.core.display.HTML object>"
      ]
     },
     "metadata": {},
     "output_type": "display_data"
    },
    {
     "data": {
      "text/html": [
       "<span style='font-weight: bold;margin-top=80px;margin-bottom=80px; font-size:25px; color:blue'>Datatype: External Id</span>"
      ],
      "text/plain": [
       "<IPython.core.display.HTML object>"
      ]
     },
     "metadata": {},
     "output_type": "display_data"
    },
    {
     "data": {
      "text/html": [
       "<span style='font-weight: Light;margin-top=80px;margin-bottom=80px; font-size:15px; color:black'>Below are the top K properties of Datatype:External Id  ordered based on number of statements</span>"
      ],
      "text/plain": [
       "<IPython.core.display.HTML object>"
      ]
     },
     "metadata": {},
     "output_type": "display_data"
    },
    {
     "data": {
      "text/html": [
       "<table border=\"1\" class=\"dataframe\">\n",
       "  <thead>\n",
       "    <tr style=\"text-align: right;\">\n",
       "      <th>Property_Label</th>\n",
       "      <th>Number_of_Statements</th>\n",
       "      <th>Link</th>\n",
       "    </tr>\n",
       "  </thead>\n",
       "  <tbody>\n",
       "    <tr>\n",
       "      <td>InChIKey</td>\n",
       "      <td>997389</td>\n",
       "      <td>https://www.wikidata.org/wiki/Property:P235</td>\n",
       "    </tr>\n",
       "    <tr>\n",
       "      <td>InChI</td>\n",
       "      <td>990406</td>\n",
       "      <td>https://www.wikidata.org/wiki/Property:P234</td>\n",
       "    </tr>\n",
       "    <tr>\n",
       "      <td>CAS Registry Number</td>\n",
       "      <td>927660</td>\n",
       "      <td>https://www.wikidata.org/wiki/Property:P231</td>\n",
       "    </tr>\n",
       "    <tr>\n",
       "      <td>DSSTox substance ID</td>\n",
       "      <td>848585</td>\n",
       "      <td>https://www.wikidata.org/wiki/Property:P3117</td>\n",
       "    </tr>\n",
       "    <tr>\n",
       "      <td>PubChem CID</td>\n",
       "      <td>250629</td>\n",
       "      <td>https://www.wikidata.org/wiki/Property:P662</td>\n",
       "    </tr>\n",
       "    <tr>\n",
       "      <td>ChemSpider ID</td>\n",
       "      <td>125009</td>\n",
       "      <td>https://www.wikidata.org/wiki/Property:P661</td>\n",
       "    </tr>\n",
       "    <tr>\n",
       "      <td>NSC number</td>\n",
       "      <td>115816</td>\n",
       "      <td>https://www.wikidata.org/wiki/Property:P2840</td>\n",
       "    </tr>\n",
       "    <tr>\n",
       "      <td>ChEBI ID</td>\n",
       "      <td>86055</td>\n",
       "      <td>https://www.wikidata.org/wiki/Property:P683</td>\n",
       "    </tr>\n",
       "    <tr>\n",
       "      <td>UNII</td>\n",
       "      <td>59120</td>\n",
       "      <td>https://www.wikidata.org/wiki/Property:P652</td>\n",
       "    </tr>\n",
       "    <tr>\n",
       "      <td>EC number</td>\n",
       "      <td>54335</td>\n",
       "      <td>https://www.wikidata.org/wiki/Property:P232</td>\n",
       "    </tr>\n",
       "    <tr>\n",
       "      <td>Other Properties</td>\n",
       "      <td>413316</td>\n",
       "      <td>NA</td>\n",
       "    </tr>\n",
       "  </tbody>\n",
       "</table>"
      ],
      "text/plain": [
       "<IPython.core.display.HTML object>"
      ]
     },
     "metadata": {},
     "output_type": "display_data"
    },
    {
     "data": {
      "text/html": [
       "<span style='font-weight: bold;margin-top=80px;margin-bottom=80px; font-size:25px; color:black'>------------------------------------------------------------------------------------------</span>"
      ],
      "text/plain": [
       "<IPython.core.display.HTML object>"
      ]
     },
     "metadata": {},
     "output_type": "display_data"
    },
    {
     "data": {
      "text/html": [
       "<span style='font-weight: bold;margin-top=80px;margin-bottom=80px; font-size:25px; color:blue'>Datatype: Common Media</span>"
      ],
      "text/plain": [
       "<IPython.core.display.HTML object>"
      ]
     },
     "metadata": {},
     "output_type": "display_data"
    },
    {
     "data": {
      "text/html": [
       "<span style='font-weight: Light;margin-top=80px;margin-bottom=80px; font-size:15px; color:black'>Below are the top K properties of Datatype:Common Media  ordered based on number of statements</span>"
      ],
      "text/plain": [
       "<IPython.core.display.HTML object>"
      ]
     },
     "metadata": {},
     "output_type": "display_data"
    },
    {
     "data": {
      "text/html": [
       "<table border=\"1\" class=\"dataframe\">\n",
       "  <thead>\n",
       "    <tr style=\"text-align: right;\">\n",
       "      <th>Property_Label</th>\n",
       "      <th>Number_of_Statements</th>\n",
       "      <th>Link</th>\n",
       "    </tr>\n",
       "  </thead>\n",
       "  <tbody>\n",
       "    <tr>\n",
       "      <td>chemical structure</td>\n",
       "      <td>12520</td>\n",
       "      <td>https://www.wikidata.org/wiki/Property:P117</td>\n",
       "    </tr>\n",
       "    <tr>\n",
       "      <td>image</td>\n",
       "      <td>1992</td>\n",
       "      <td>https://www.wikidata.org/wiki/Property:P18</td>\n",
       "    </tr>\n",
       "    <tr>\n",
       "      <td>molecular model</td>\n",
       "      <td>20</td>\n",
       "      <td>https://www.wikidata.org/wiki/Property:P8224</td>\n",
       "    </tr>\n",
       "    <tr>\n",
       "      <td>pronunciation audio</td>\n",
       "      <td>17</td>\n",
       "      <td>https://www.wikidata.org/wiki/Property:P443</td>\n",
       "    </tr>\n",
       "    <tr>\n",
       "      <td>spoken text audio</td>\n",
       "      <td>6</td>\n",
       "      <td>https://www.wikidata.org/wiki/Property:P989</td>\n",
       "    </tr>\n",
       "    <tr>\n",
       "      <td>Gene Atlas Image</td>\n",
       "      <td>3</td>\n",
       "      <td>https://www.wikidata.org/wiki/Property:P692</td>\n",
       "    </tr>\n",
       "    <tr>\n",
       "      <td>3D model</td>\n",
       "      <td>2</td>\n",
       "      <td>https://www.wikidata.org/wiki/Property:P4896</td>\n",
       "    </tr>\n",
       "    <tr>\n",
       "      <td>video</td>\n",
       "      <td>1</td>\n",
       "      <td>https://www.wikidata.org/wiki/Property:P10</td>\n",
       "    </tr>\n",
       "    <tr>\n",
       "      <td>locator map image</td>\n",
       "      <td>1</td>\n",
       "      <td>https://www.wikidata.org/wiki/Property:P242</td>\n",
       "    </tr>\n",
       "    <tr>\n",
       "      <td>schematic</td>\n",
       "      <td>1</td>\n",
       "      <td>https://www.wikidata.org/wiki/Property:P5555</td>\n",
       "    </tr>\n",
       "    <tr>\n",
       "      <td>Other Properties</td>\n",
       "      <td>0</td>\n",
       "      <td>NA</td>\n",
       "    </tr>\n",
       "  </tbody>\n",
       "</table>"
      ],
      "text/plain": [
       "<IPython.core.display.HTML object>"
      ]
     },
     "metadata": {},
     "output_type": "display_data"
    },
    {
     "data": {
      "text/html": [
       "<span style='font-weight: bold;margin-top=80px;margin-bottom=80px; font-size:25px; color:black'>------------------------------------------------------------------------------------------</span>"
      ],
      "text/plain": [
       "<IPython.core.display.HTML object>"
      ]
     },
     "metadata": {},
     "output_type": "display_data"
    },
    {
     "data": {
      "text/html": [
       "<span style='font-weight: bold;margin-top=80px;margin-bottom=80px; font-size:25px; color:blue'>Datatype: Globe Coordinate</span>"
      ],
      "text/plain": [
       "<IPython.core.display.HTML object>"
      ]
     },
     "metadata": {},
     "output_type": "display_data"
    },
    {
     "data": {
      "text/html": [
       "<span style='font-weight: Light;margin-top=80px;margin-bottom=80px; font-size:15px; color:black'>Below are the top K properties of Datatype:Globe Coordinate  ordered based on number of statements</span>"
      ],
      "text/plain": [
       "<IPython.core.display.HTML object>"
      ]
     },
     "metadata": {},
     "output_type": "display_data"
    },
    {
     "data": {
      "text/html": [
       "<table border=\"1\" class=\"dataframe\">\n",
       "  <thead>\n",
       "    <tr style=\"text-align: right;\">\n",
       "      <th>Property_Label</th>\n",
       "      <th>Number_of_Statements</th>\n",
       "      <th>Link</th>\n",
       "    </tr>\n",
       "  </thead>\n",
       "  <tbody>\n",
       "    <tr>\n",
       "      <td>coordinate location</td>\n",
       "      <td>1</td>\n",
       "      <td>https://www.wikidata.org/wiki/Property:P625</td>\n",
       "    </tr>\n",
       "    <tr>\n",
       "      <td>Other Properties</td>\n",
       "      <td>0</td>\n",
       "      <td>NA</td>\n",
       "    </tr>\n",
       "  </tbody>\n",
       "</table>"
      ],
      "text/plain": [
       "<IPython.core.display.HTML object>"
      ]
     },
     "metadata": {},
     "output_type": "display_data"
    },
    {
     "data": {
      "text/html": [
       "<span style='font-weight: bold;margin-top=80px;margin-bottom=80px; font-size:25px; color:black'>------------------------------------------------------------------------------------------</span>"
      ],
      "text/plain": [
       "<IPython.core.display.HTML object>"
      ]
     },
     "metadata": {},
     "output_type": "display_data"
    },
    {
     "data": {
      "text/html": [
       "<span style='font-weight: bold;margin-top=80px;margin-bottom=80px; font-size:25px; color:blue'>Datatype: Monolingualtext</span>"
      ],
      "text/plain": [
       "<IPython.core.display.HTML object>"
      ]
     },
     "metadata": {},
     "output_type": "display_data"
    },
    {
     "data": {
      "text/html": [
       "<span style='font-weight: Light;margin-top=80px;margin-bottom=80px; font-size:15px; color:black'>Below are the top K properties of Datatype:Monolingualtext  ordered based on number of statements</span>"
      ],
      "text/plain": [
       "<IPython.core.display.HTML object>"
      ]
     },
     "metadata": {},
     "output_type": "display_data"
    },
    {
     "data": {
      "text/html": [
       "<table border=\"1\" class=\"dataframe\">\n",
       "  <thead>\n",
       "    <tr style=\"text-align: right;\">\n",
       "      <th>Property_Label</th>\n",
       "      <th>Number_of_Statements</th>\n",
       "      <th>Link</th>\n",
       "    </tr>\n",
       "  </thead>\n",
       "  <tbody>\n",
       "    <tr>\n",
       "      <td>World Health Organisation International Nonproprietary Name</td>\n",
       "      <td>2414</td>\n",
       "      <td>https://www.wikidata.org/wiki/Property:P2275</td>\n",
       "    </tr>\n",
       "    <tr>\n",
       "      <td>native label</td>\n",
       "      <td>13</td>\n",
       "      <td>https://www.wikidata.org/wiki/Property:P1705</td>\n",
       "    </tr>\n",
       "    <tr>\n",
       "      <td>short name</td>\n",
       "      <td>9</td>\n",
       "      <td>https://www.wikidata.org/wiki/Property:P1813</td>\n",
       "    </tr>\n",
       "    <tr>\n",
       "      <td>name</td>\n",
       "      <td>4</td>\n",
       "      <td>https://www.wikidata.org/wiki/Property:P2561</td>\n",
       "    </tr>\n",
       "    <tr>\n",
       "      <td>official name</td>\n",
       "      <td>1</td>\n",
       "      <td>https://www.wikidata.org/wiki/Property:P1448</td>\n",
       "    </tr>\n",
       "    <tr>\n",
       "      <td>nickname</td>\n",
       "      <td>1</td>\n",
       "      <td>https://www.wikidata.org/wiki/Property:P1449</td>\n",
       "    </tr>\n",
       "    <tr>\n",
       "      <td>title</td>\n",
       "      <td>1</td>\n",
       "      <td>https://www.wikidata.org/wiki/Property:P1476</td>\n",
       "    </tr>\n",
       "    <tr>\n",
       "      <td>pronunciation</td>\n",
       "      <td>1</td>\n",
       "      <td>https://www.wikidata.org/wiki/Property:P7243</td>\n",
       "    </tr>\n",
       "    <tr>\n",
       "      <td>Other Properties</td>\n",
       "      <td>0</td>\n",
       "      <td>NA</td>\n",
       "    </tr>\n",
       "  </tbody>\n",
       "</table>"
      ],
      "text/plain": [
       "<IPython.core.display.HTML object>"
      ]
     },
     "metadata": {},
     "output_type": "display_data"
    },
    {
     "data": {
      "text/html": [
       "<span style='font-weight: bold;margin-top=80px;margin-bottom=80px; font-size:25px; color:black'>------------------------------------------------------------------------------------------</span>"
      ],
      "text/plain": [
       "<IPython.core.display.HTML object>"
      ]
     },
     "metadata": {},
     "output_type": "display_data"
    },
    {
     "data": {
      "text/html": [
       "<span style='font-weight: bold;margin-top=80px;margin-bottom=80px; font-size:25px; color:blue'>Datatype: Musical Notation</span>"
      ],
      "text/plain": [
       "<IPython.core.display.HTML object>"
      ]
     },
     "metadata": {},
     "output_type": "display_data"
    },
    {
     "data": {
      "text/html": [
       "<span style='font-weight: Light;margin-top=80px;margin-bottom=80px; font-size:15px; color:black'>No Property is present for Datatype:Musical Notation</span>"
      ],
      "text/plain": [
       "<IPython.core.display.HTML object>"
      ]
     },
     "metadata": {},
     "output_type": "display_data"
    },
    {
     "data": {
      "text/html": [
       "<span style='font-weight: bold;margin-top=80px;margin-bottom=80px; font-size:25px; color:black'>------------------------------------------------------------------------------------------</span>"
      ],
      "text/plain": [
       "<IPython.core.display.HTML object>"
      ]
     },
     "metadata": {},
     "output_type": "display_data"
    },
    {
     "data": {
      "text/html": [
       "<span style='font-weight: bold;margin-top=80px;margin-bottom=80px; font-size:25px; color:blue'>Datatype: Geo Shape</span>"
      ],
      "text/plain": [
       "<IPython.core.display.HTML object>"
      ]
     },
     "metadata": {},
     "output_type": "display_data"
    },
    {
     "data": {
      "text/html": [
       "<span style='font-weight: Light;margin-top=80px;margin-bottom=80px; font-size:15px; color:black'>No Property is present for Datatype:Geo Shape</span>"
      ],
      "text/plain": [
       "<IPython.core.display.HTML object>"
      ]
     },
     "metadata": {},
     "output_type": "display_data"
    },
    {
     "data": {
      "text/html": [
       "<span style='font-weight: bold;margin-top=80px;margin-bottom=80px; font-size:25px; color:black'>------------------------------------------------------------------------------------------</span>"
      ],
      "text/plain": [
       "<IPython.core.display.HTML object>"
      ]
     },
     "metadata": {},
     "output_type": "display_data"
    },
    {
     "data": {
      "text/html": [
       "<span style='font-weight: bold;margin-top=80px;margin-bottom=80px; font-size:25px; color:blue'>Datatype: Url</span>"
      ],
      "text/plain": [
       "<IPython.core.display.HTML object>"
      ]
     },
     "metadata": {},
     "output_type": "display_data"
    },
    {
     "data": {
      "text/html": [
       "<span style='font-weight: Light;margin-top=80px;margin-bottom=80px; font-size:15px; color:black'>Below are the top K properties of Datatype:Url  ordered based on number of statements</span>"
      ],
      "text/plain": [
       "<IPython.core.display.HTML object>"
      ]
     },
     "metadata": {},
     "output_type": "display_data"
    },
    {
     "data": {
      "text/html": [
       "<table border=\"1\" class=\"dataframe\">\n",
       "  <thead>\n",
       "    <tr style=\"text-align: right;\">\n",
       "      <th>Property_Label</th>\n",
       "      <th>Number_of_Statements</th>\n",
       "      <th>Link</th>\n",
       "    </tr>\n",
       "  </thead>\n",
       "  <tbody>\n",
       "    <tr>\n",
       "      <td>exact match</td>\n",
       "      <td>41</td>\n",
       "      <td>https://www.wikidata.org/wiki/Property:P2888</td>\n",
       "    </tr>\n",
       "    <tr>\n",
       "      <td>official website</td>\n",
       "      <td>26</td>\n",
       "      <td>https://www.wikidata.org/wiki/Property:P856</td>\n",
       "    </tr>\n",
       "    <tr>\n",
       "      <td>WordLift URL</td>\n",
       "      <td>4</td>\n",
       "      <td>https://www.wikidata.org/wiki/Property:P6363</td>\n",
       "    </tr>\n",
       "    <tr>\n",
       "      <td>Stack Exchange tag</td>\n",
       "      <td>1</td>\n",
       "      <td>https://www.wikidata.org/wiki/Property:P1482</td>\n",
       "    </tr>\n",
       "    <tr>\n",
       "      <td>equivalent class</td>\n",
       "      <td>1</td>\n",
       "      <td>https://www.wikidata.org/wiki/Property:P1709</td>\n",
       "    </tr>\n",
       "    <tr>\n",
       "      <td>user manual URL</td>\n",
       "      <td>1</td>\n",
       "      <td>https://www.wikidata.org/wiki/Property:P2078</td>\n",
       "    </tr>\n",
       "    <tr>\n",
       "      <td>URL</td>\n",
       "      <td>1</td>\n",
       "      <td>https://www.wikidata.org/wiki/Property:P2699</td>\n",
       "    </tr>\n",
       "    <tr>\n",
       "      <td>reference URL</td>\n",
       "      <td>1</td>\n",
       "      <td>https://www.wikidata.org/wiki/Property:P854</td>\n",
       "    </tr>\n",
       "    <tr>\n",
       "      <td>Other Properties</td>\n",
       "      <td>0</td>\n",
       "      <td>NA</td>\n",
       "    </tr>\n",
       "  </tbody>\n",
       "</table>"
      ],
      "text/plain": [
       "<IPython.core.display.HTML object>"
      ]
     },
     "metadata": {},
     "output_type": "display_data"
    },
    {
     "data": {
      "text/html": [
       "<span style='font-weight: bold;margin-top=80px;margin-bottom=80px; font-size:25px; color:black'>------------------------------------------------------------------------------------------</span>"
      ],
      "text/plain": [
       "<IPython.core.display.HTML object>"
      ]
     },
     "metadata": {},
     "output_type": "display_data"
    }
   ],
   "source": [
    "try:\n",
    "    df_property_summary = []\n",
    "\n",
    "    #Types contain tuple of the environmnet variable corresponding to the input property file, \n",
    "    #the name of the Datatype and environmnet variable corresponding to the output file.\n",
    "    types = [\n",
    "        (\"time\",\"Time\",\"property_summary_time\"),\n",
    "        (\"wikibase_item\",\"Wikibase Item\",\"property_summary_wikibase_item\"),\n",
    "        (\"math\",\"Mathematical Expression\",\"property_summary_math\"),\n",
    "        (\"wikibase_form\",\"Wikibase Form\",\"property_summary_wikibase_form\"),\n",
    "        (\"quantity\",\"Quantity\",\"property_summary_quantity\"),\n",
    "        (\"string\",\"String\",\"property_summary_string\"),\n",
    "        (\"external_id\",\"External Id\",\"property_summary_external_id\"),\n",
    "        (\"commonsMedia\",\"Common Media\",\"property_summary_commonsMedia\"),\n",
    "        (\"globe_coordinate\",\"Globe Coordinate\",\"property_summary_globe_coordinate\"),\n",
    "        (\"monolingualtext\",\"Monolingualtext\",\"property_summary_monolingualtext\"),\n",
    "        (\"musical_notation\",\"Musical Notation\",\"property_summary_musical_notation\"),\n",
    "        (\"geo_shape\",\"Geo Shape\",\"property_summary_geo_shape\"),\n",
    "        (\"url\",\"Url\",\"property_summary_url\"),\n",
    "    ]\n",
    "\n",
    "    # This query finds all the properties ordered based on Number of Statements\n",
    "    cmd = \"$kgtk query  -i $WIKIDATA_PARTS/$TYPE_FILE -i $WIKIDATA_PARTS/$label --graph-cache $STORE \\\n",
    "    -o $OVERVIEW_FOLDER/$output_file \\\n",
    "    --match 'part: (n1)-[l{label: llab}]->(n2), label: (llab)-[:label]->(label)' \\\n",
    "    --return 'distinct llab as Link, kgtk_lqstring_text(label) as `Property_Label`, count(llab) as `Number_of_Statements`' \\\n",
    "    --where 'label.kgtk_lqstring_lang_suffix = \\\"en\\\" ' \\\n",
    "    --order-by 'count(llab) desc '\"\n",
    "    \n",
    "    # Do it for all the Datatypes\n",
    "    for type,name, output_file in types:\n",
    "        run_command(cmd, {\"TYPE_FILE\": type,\"output_file\":output_file})\n",
    "        \n",
    "        #Create dataframe object corresponding the file generated by the above command\n",
    "        temp = pd.read_csv(os.path.join(os.getenv('OVERVIEW_FOLDER'),os.getenv(output_file)),delimiter='\\t')\n",
    "        \n",
    "        #The statistics for top K properties are generated and sum of Number of statements for \n",
    "        #the remaining properties are stored in other_instances\n",
    "        other_instances = temp[int(int_k):][\"Number_of_Statements\"].sum()\n",
    "        \n",
    "        #Take top K properties and disregard rest of the properties\n",
    "        temp = temp[:int(int_k)]\n",
    "        \n",
    "        #Generated hyperlinks from the qnode/pnode\n",
    "        temp['Link'] = temp['Link'].apply(generate_link)\n",
    "        \n",
    "        #Changing the order of the columns\n",
    "        temp = temp[[\"Property_Label\",\"Number_of_Statements\",\"Link\"]]\n",
    "        \n",
    "        temp = temp.append({\"Property_Label\":\"Other Properties\",\"Number_of_Statements\":other_instances,\"Link\":\"NA\"},ignore_index=True)\n",
    "        \n",
    "        # Storing the temp to output file\n",
    "        temp.to_csv(os.path.join(os.getenv('OVERVIEW_FOLDER'),os.getenv(output_file)),sep='\\t')\n",
    "        \n",
    "        # The output if there are no properties for a Datatype\n",
    "        if len(temp) == 1:\n",
    "            printmd(\"Datatype: \"+name, 'blue')\n",
    "            printmd(\"No Property is present for Datatype:\" + name,size=15, fontWeight='Light')\n",
    "            printmd(\"------------------------------------------------------------------------------------------\")\n",
    "            continue\n",
    "        printmd(\"Datatype: \"+name, 'blue')\n",
    "        printmd(\"Below are the top K properties of Datatype:\" + name +\"  ordered based on number of statements\",size =15,fontWeight='Light')\n",
    "        df_property_summary.append(temp)\n",
    "        display(HTML(df_property_summary[-1].to_html(index=False)))\n",
    "        printmd(\"------------------------------------------------------------------------------------------\")\n",
    "except Exception as e:\n",
    "    print(e)"
   ]
  },
  {
   "cell_type": "code",
   "execution_count": 14,
   "metadata": {
    "execution": {
     "iopub.execute_input": "2020-11-17T21:04:40.963010Z",
     "iopub.status.busy": "2020-11-17T21:04:40.962328Z",
     "iopub.status.idle": "2020-11-17T21:04:40.965861Z",
     "shell.execute_reply": "2020-11-17T21:04:40.965329Z"
    },
    "papermill": {
     "duration": 0.056643,
     "end_time": "2020-11-17T21:04:40.965998",
     "exception": false,
     "start_time": "2020-11-17T21:04:40.909355",
     "status": "completed"
    },
    "scrolled": false,
    "tags": []
   },
   "outputs": [],
   "source": [
    "# This is a helper function which finds the Label corrponding to a qnode/pnode of the Subgraph\n",
    "# return the label of the node if found otherwise empty string\n",
    "#@parametes\n",
    "#node: node for which label needs to returned\n",
    "#df_label: Dataframe corresponding to the label\n",
    "def label_node(node,df_label):\n",
    "    for ele in df_label[df_label['node1']==node]['node2']:\n",
    "        if kgtk_lqstring_lang(ele) == \"en\":\n",
    "            return kgtk_lqstring_text(ele)\n",
    "    return \"\"\n",
    "        "
   ]
  },
  {
   "cell_type": "code",
   "execution_count": 15,
   "metadata": {
    "execution": {
     "iopub.execute_input": "2020-11-17T21:04:41.067062Z",
     "iopub.status.busy": "2020-11-17T21:04:41.066411Z",
     "iopub.status.idle": "2020-11-17T21:04:41.069791Z",
     "shell.execute_reply": "2020-11-17T21:04:41.069303Z"
    },
    "papermill": {
     "duration": 0.056965,
     "end_time": "2020-11-17T21:04:41.069915",
     "exception": false,
     "start_time": "2020-11-17T21:04:41.012950",
     "status": "completed"
    },
    "scrolled": false,
    "tags": []
   },
   "outputs": [],
   "source": [
    "# This is a helper function which finds all the superclasses of a class\n",
    "# returns the list of superclasses\n",
    "#@parameters\n",
    "#Class: node for which all the superclasses needs to be returned\n",
    "#df_wikibase_item: Dataframe corresponding to the wikibase item\n",
    "#df_label: Dataframe corresponding to the label\n",
    "def direct_superclasses(Class,df_wikibase_item,df_label):\n",
    "    result = []\n",
    "    corr_ele = df_wikibase_item[(df_wikibase_item['label']=='P279') & (df_wikibase_item['node1']==Class)]['node2']\n",
    "    for ele in corr_ele.values.tolist():\n",
    "        result.append(label_node(ele,df_label))\n",
    "    return result"
   ]
  },
  {
   "cell_type": "code",
   "execution_count": 16,
   "metadata": {
    "execution": {
     "iopub.execute_input": "2020-11-17T21:04:41.170663Z",
     "iopub.status.busy": "2020-11-17T21:04:41.170052Z",
     "iopub.status.idle": "2020-11-17T21:04:41.173600Z",
     "shell.execute_reply": "2020-11-17T21:04:41.172974Z"
    },
    "papermill": {
     "duration": 0.056044,
     "end_time": "2020-11-17T21:04:41.173728",
     "exception": false,
     "start_time": "2020-11-17T21:04:41.117684",
     "status": "completed"
    },
    "scrolled": false,
    "tags": []
   },
   "outputs": [],
   "source": [
    "# This is a helper function which finds all the direct subclasses of a class\n",
    "# returns the list of subclasses\n",
    "#@parameters\n",
    "#Class: node for which all the subclasses needs to be returned\n",
    "#df_wikibase_item: Dataframe corresponding to the wikibase item\n",
    "#df_label: Dataframe corresponding to the label\n",
    "def direct_subclasses(Class,df_wikibase_item,df_label):\n",
    "    result = []\n",
    "    for i,ele in enumerate(df_wikibase_item[(df_wikibase_item['label']=='P279') & (df_wikibase_item['node2']==Class)]['node1'].values.tolist()):\n",
    "        result.append(label_node(ele,df_label))\n",
    "    return result"
   ]
  },
  {
   "cell_type": "code",
   "execution_count": 17,
   "metadata": {
    "execution": {
     "iopub.execute_input": "2020-11-17T21:04:41.364147Z",
     "iopub.status.busy": "2020-11-17T21:04:41.359585Z",
     "iopub.status.idle": "2020-11-17T21:04:41.367044Z",
     "shell.execute_reply": "2020-11-17T21:04:41.367498Z"
    },
    "papermill": {
     "duration": 0.145226,
     "end_time": "2020-11-17T21:04:41.367646",
     "exception": false,
     "start_time": "2020-11-17T21:04:41.222420",
     "status": "completed"
    },
    "tags": []
   },
   "outputs": [],
   "source": [
    "# This is a helper function which finds the statistics on the outcoming properties on the instances of the class\n",
    "# returns a dataframe object with the statistics\n",
    "#@parameters\n",
    "#df_class_example: The dataframe object corresponding to the instances of the class\n",
    "def find_properties(df_class_example):\n",
    "    \n",
    "    df_label = pd.read_csv(os.path.join(os.getenv('WIKIDATA_PARTS'),os.getenv('label')),delimiter='\\t')\n",
    "\n",
    "    #Environment variable corresponding to the statistics of each of the property data type\n",
    "    types = [ \"time\",\n",
    "             \"wikibase_item\",\n",
    "             \"math\",\n",
    "             \"wikibase_form\",\n",
    "             \"quantity\",\n",
    "             \"string\",\n",
    "             \"external_id\",\n",
    "             \"commonsMedia\",\n",
    "             \"globe_coordinate\",\n",
    "             \"monolingualtext\",\n",
    "             \"musical_notation\",\n",
    "             \"geo_shape\",\n",
    "             \"url\"\n",
    "            ]\n",
    "    \n",
    "    #This is a helper function which extract the qnode/pnode from the link\n",
    "    def get_qnodes_from_link(link):\n",
    "        return str(link.split(\"/\")[-1])\n",
    "    \n",
    "    #This is a helper function checks if the node is present in instance_set or not\n",
    "    def selected_qnode(node):\n",
    "        return node in instance_set\n",
    "    \n",
    "    #Instance set is the set of all the qnodes of the instances of the class\n",
    "    instance_set = set(list(df_class_example[\"Link\"].map(get_qnodes_from_link)))\n",
    "    \n",
    "    #This is a helper function which finds the percentage corresponding to the passed value\n",
    "    def find_percent(val):\n",
    "        return round(val*100/number_of_instances,2)\n",
    "    \n",
    "    # This is a helper function which finds the label for the node\n",
    "    def label_node(node):\n",
    "        for ele in df_label[df_label['node1']==node]['node2']:\n",
    "            if kgtk_lqstring_lang(ele) == \"en\":\n",
    "                return kgtk_lqstring_text(ele)\n",
    "        return node\n",
    "    \n",
    "    # Number of distinct qnodes in the example set.\n",
    "    number_of_instances = len(instance_set)\n",
    "    \n",
    "    # Creating the data frame for the output\n",
    "    df_all_prop = pd.DataFrame([],columns=['id','node1','label','node2'])\n",
    "    for type_ in types:\n",
    "        \n",
    "        # Reading the property statistics of the type denoted by 'type_'\n",
    "        df_temp = pd.read_csv(os.path.join(os.getenv('WIKIDATA_PARTS'),os.getenv(type_)),delimiter='\\t')\n",
    "        \n",
    "        # Selecting columns in the property statistics\n",
    "        df_temp = df_temp[['node1','label']]\n",
    "        \n",
    "        # Finding all the statement which for the instances of the class\n",
    "        df_temp = df_temp[df_temp['node1'].apply(selected_qnode)]\n",
    "        \n",
    "        df_temp = df_temp.reset_index()\n",
    "        del df_temp[\"index\"]\n",
    "        \n",
    "        # Dropping if there are many statements for same instances and same property\n",
    "        # For example a node can have more than P31 statements\n",
    "        df_temp = df_temp.drop_duplicates()\n",
    "        df_all_prop = pd.concat([df_all_prop,df_temp])\n",
    "    df_all_prop = df_all_prop.reset_index()\n",
    "    \n",
    "    # Finding the count for each of the properties\n",
    "    df_all_prop = df_all_prop['label'].value_counts()\n",
    "    df_all_prop = df_all_prop.reset_index()\n",
    "    df_all_prop.columns = [\"Property Name\",\"Instances\"]\n",
    "    \n",
    "    # Finding the Percent\n",
    "    df_all_prop[\"% Instances\"] = df_all_prop[\"Instances\"].map(find_percent)\n",
    "    df_all_prop[\"Property Name\"] = df_all_prop[\"Property Name\"].map(label_node)\n",
    "\n",
    "    return df_all_prop"
   ]
  },
  {
   "cell_type": "code",
   "execution_count": 18,
   "metadata": {
    "execution": {
     "iopub.execute_input": "2020-11-17T21:04:41.476192Z",
     "iopub.status.busy": "2020-11-17T21:04:41.474752Z",
     "iopub.status.idle": "2020-11-17T21:04:41.478006Z",
     "shell.execute_reply": "2020-11-17T21:04:41.478469Z"
    },
    "papermill": {
     "duration": 0.061964,
     "end_time": "2020-11-17T21:04:41.478620",
     "exception": false,
     "start_time": "2020-11-17T21:04:41.416656",
     "status": "completed"
    },
    "tags": []
   },
   "outputs": [],
   "source": [
    "# This is a helper function which finds the statistics on the incoming properties on the instances of the class\n",
    "# returns a dataframe object with the statistics\n",
    "#@parameters\n",
    "#df_class_example: The dataframe object corresponding to the instances of the class\n",
    "def find_properties_incoming(df_class_example):\n",
    "    \n",
    "    df_label = pd.read_csv(os.path.join(os.getenv('WIKIDATA_PARTS'),os.getenv('label')),delimiter='\\t')\n",
    "\n",
    "    #Environment variable corresponding to the statistics of each of the property data type\n",
    "    # Here wikibase_item is only relevant because it only has node2 as wikibase-item.\n",
    "    types = [\n",
    "             \"wikibase_item\"\n",
    "            ]\n",
    "    \n",
    "    #This is a helper function which extract the qnode/pnode from the link\n",
    "    def get_qnodes_from_link(link):\n",
    "        return str(link.split(\"/\")[-1])\n",
    "    \n",
    "    #This is a helper function checks if the node is present in instance_set or not\n",
    "    def selected_qnode(node):\n",
    "        return node in instance_set\n",
    "    \n",
    "    #Instance set is the set of all the qnodes of the instances of the class\n",
    "    instance_set = set(list(df_class_example[\"Link\"].map(get_qnodes_from_link)))\n",
    "    \n",
    "    # This is a helper function which finds the label for the node\n",
    "    def label_node(node):\n",
    "        for ele in df_label[df_label['node1']==node]['node2']:\n",
    "            if kgtk_lqstring_lang(ele) == \"en\":\n",
    "                return kgtk_lqstring_text(ele)\n",
    "        return node\n",
    "        \n",
    "    # Number of distinct qnodes in the example set.\n",
    "    number_of_instances = len(instance_set)\n",
    "    \n",
    "    # Creating the data frame for the output\n",
    "    df_all_prop = pd.DataFrame([],columns=['id','node1','label','node2'])\n",
    "    for type_ in types:\n",
    "        \n",
    "        # Reading the property statistics of the type denoted by 'type_'\n",
    "        df_temp = pd.read_csv(os.path.join(os.getenv('WIKIDATA_PARTS'),os.getenv(type_)),delimiter='\\t')\n",
    "        \n",
    "        # Selecting columns in the property statistics\n",
    "        df_temp = df_temp[['node2','label']]\n",
    "        \n",
    "         # Finding all the statement which for the instances of the class\n",
    "        df_temp = df_temp[df_temp['node2'].apply(selected_qnode)]\n",
    "        df_temp = df_temp.reset_index()\n",
    "        del df_temp[\"index\"]\n",
    "        \n",
    "        # Dropping if there are many statements for same instances and same property\n",
    "        # For example a node can have more than P31 statements\n",
    "        df_temp = df_temp.drop_duplicates()\n",
    "        df_all_prop = pd.concat([df_all_prop,df_temp])\n",
    "    df_all_prop = df_all_prop.reset_index()\n",
    "    \n",
    "    # Finding the count for each of the properties\n",
    "    df_all_prop = df_all_prop['label'].value_counts()\n",
    "    df_all_prop = df_all_prop.reset_index()\n",
    "    df_all_prop.columns = [\"Property Name\",\"Instances\"]\n",
    "    df_all_prop[\"Property Name\"] = df_all_prop[\"Property Name\"].map(label_node)\n",
    "\n",
    "    return df_all_prop"
   ]
  },
  {
   "cell_type": "code",
   "execution_count": 19,
   "metadata": {
    "execution": {
     "iopub.execute_input": "2020-11-17T21:04:41.601066Z",
     "iopub.status.busy": "2020-11-17T21:04:41.580603Z",
     "iopub.status.idle": "2020-11-17T21:14:27.067666Z",
     "shell.execute_reply": "2020-11-17T21:14:27.069196Z"
    },
    "papermill": {
     "duration": 585.542849,
     "end_time": "2020-11-17T21:14:27.069922",
     "exception": false,
     "start_time": "2020-11-17T21:04:41.527073",
     "status": "completed"
    },
    "scrolled": false,
    "tags": []
   },
   "outputs": [
    {
     "data": {
      "text/html": [
       "<span style='font-weight: bold;margin-top=80px;margin-bottom=80px; font-size:25px; color:blue'>Class Overview</span>"
      ],
      "text/plain": [
       "<IPython.core.display.HTML object>"
      ]
     },
     "metadata": {},
     "output_type": "display_data"
    },
    {
     "data": {
      "text/html": [
       "<span style='font-weight: bold;margin-top=80px;margin-bottom=80px; font-size:25px; color:blue'>Class: Chemical compound</span>"
      ],
      "text/plain": [
       "<IPython.core.display.HTML object>"
      ]
     },
     "metadata": {},
     "output_type": "display_data"
    },
    {
     "data": {
      "text/html": [
       "<span style='font-weight: Light;margin-top=80px;margin-bottom=80px; font-size:15px; color:black'>Description: Pure chemical substance consisting of two or more different chemical elements</span>"
      ],
      "text/plain": [
       "<IPython.core.display.HTML object>"
      ]
     },
     "metadata": {},
     "output_type": "display_data"
    },
    {
     "data": {
      "text/html": [
       "<span style='font-weight: Light;margin-top=80px;margin-bottom=80px; font-size:15px; color:black'>Aliases: Compound, heteroatomic molecular entity, compound, heteroatomic molecular entity</span>"
      ],
      "text/plain": [
       "<IPython.core.display.HTML object>"
      ]
     },
     "metadata": {},
     "output_type": "display_data"
    },
    {
     "data": {
      "text/html": [
       "<span style='font-weight: Light;margin-top=80px;margin-bottom=80px; font-size:15px; color:black'>Direct Superclasses: </span>"
      ],
      "text/plain": [
       "<IPython.core.display.HTML object>"
      ]
     },
     "metadata": {},
     "output_type": "display_data"
    },
    {
     "data": {
      "text/html": [
       "<span style='font-weight: Light;margin-top=80px;margin-bottom=80px; font-size:15px; color:black'>Direct Subclasses: Butylbenzenes, c4-benzenes, homatropine, dl-3-phenyllactic acid, benzenedicarboxylic acid, (rs)-oxybutynin, compound of zinc, chloroanisole, chlorobenzenesulfonic acid, chloronitrobenzenes</span>"
      ],
      "text/plain": [
       "<IPython.core.display.HTML object>"
      ]
     },
     "metadata": {},
     "output_type": "display_data"
    },
    {
     "data": {
      "text/html": [
       "<span style='font-weight: Light;margin-top=80px;margin-bottom=80px; font-size:15px; color:black'>Number of Instances: 1063060</span>"
      ],
      "text/plain": [
       "<IPython.core.display.HTML object>"
      ]
     },
     "metadata": {},
     "output_type": "display_data"
    },
    {
     "data": {
      "text/html": [
       "<span style='font-weight: Light;margin-top=80px;margin-bottom=80px; font-size:15px; color:black'>Number of Superclasses: 0</span>"
      ],
      "text/plain": [
       "<IPython.core.display.HTML object>"
      ]
     },
     "metadata": {},
     "output_type": "display_data"
    },
    {
     "data": {
      "text/html": [
       "<span style='font-weight: Light;margin-top=80px;margin-bottom=80px; font-size:15px; color:black'>Number of Subclasses: 1136</span>"
      ],
      "text/plain": [
       "<IPython.core.display.HTML object>"
      ]
     },
     "metadata": {},
     "output_type": "display_data"
    },
    {
     "data": {
      "text/html": [
       "<span style='font-weight: bold;margin-top=80px;margin-bottom=80px; font-size:18px; color:black'>Examples for chemical compound Class</span>"
      ],
      "text/plain": [
       "<IPython.core.display.HTML object>"
      ]
     },
     "metadata": {},
     "output_type": "display_data"
    },
    {
     "data": {
      "text/html": [
       "<table border=\"1\" class=\"dataframe\">\n",
       "  <thead>\n",
       "    <tr style=\"text-align: right;\">\n",
       "      <th>Label_</th>\n",
       "      <th>Pagerank</th>\n",
       "      <th>Link</th>\n",
       "    </tr>\n",
       "  </thead>\n",
       "  <tbody>\n",
       "    <tr>\n",
       "      <td>patrinoside</td>\n",
       "      <td>0.000001</td>\n",
       "      <td>https://www.wikidata.org/wiki/Q27107631</td>\n",
       "    </tr>\n",
       "    <tr>\n",
       "      <td>acid blue 62</td>\n",
       "      <td>0.000001</td>\n",
       "      <td>https://www.wikidata.org/wiki/Q27276381</td>\n",
       "    </tr>\n",
       "    <tr>\n",
       "      <td>(ethylenedinitrilo)tetraacetonitrile</td>\n",
       "      <td>0.000001</td>\n",
       "      <td>https://www.wikidata.org/wiki/Q27286054</td>\n",
       "    </tr>\n",
       "  </tbody>\n",
       "</table>"
      ],
      "text/plain": [
       "<IPython.core.display.HTML object>"
      ]
     },
     "metadata": {},
     "output_type": "display_data"
    },
    {
     "data": {
      "text/html": [
       "<span style='font-weight: bold;margin-top=80px;margin-bottom=80px; font-size:18px; color:black'>Distribution of outgoing Properties from instances of chemical compound Class</span>"
      ],
      "text/plain": [
       "<IPython.core.display.HTML object>"
      ]
     },
     "metadata": {},
     "output_type": "display_data"
    },
    {
     "data": {
      "text/html": [
       "<table border=\"1\" class=\"dataframe\">\n",
       "  <thead>\n",
       "    <tr style=\"text-align: right;\">\n",
       "      <th>Property Name</th>\n",
       "      <th>Instances</th>\n",
       "      <th>% Instances</th>\n",
       "    </tr>\n",
       "  </thead>\n",
       "  <tbody>\n",
       "    <tr>\n",
       "      <td>P31</td>\n",
       "      <td>1055956</td>\n",
       "      <td>100.00</td>\n",
       "    </tr>\n",
       "    <tr>\n",
       "      <td>InChIKey</td>\n",
       "      <td>992446</td>\n",
       "      <td>93.99</td>\n",
       "    </tr>\n",
       "    <tr>\n",
       "      <td>InChI</td>\n",
       "      <td>985520</td>\n",
       "      <td>93.33</td>\n",
       "    </tr>\n",
       "    <tr>\n",
       "      <td>CAS Registry Number</td>\n",
       "      <td>924660</td>\n",
       "      <td>87.57</td>\n",
       "    </tr>\n",
       "    <tr>\n",
       "      <td>DSSTox substance ID</td>\n",
       "      <td>846217</td>\n",
       "      <td>80.14</td>\n",
       "    </tr>\n",
       "    <tr>\n",
       "      <td>chemical formula</td>\n",
       "      <td>338297</td>\n",
       "      <td>32.04</td>\n",
       "    </tr>\n",
       "    <tr>\n",
       "      <td>PubChem CID</td>\n",
       "      <td>246097</td>\n",
       "      <td>23.31</td>\n",
       "    </tr>\n",
       "    <tr>\n",
       "      <td>SMILES</td>\n",
       "      <td>196683</td>\n",
       "      <td>18.63</td>\n",
       "    </tr>\n",
       "    <tr>\n",
       "      <td>mass</td>\n",
       "      <td>145639</td>\n",
       "      <td>13.79</td>\n",
       "    </tr>\n",
       "    <tr>\n",
       "      <td>isomeric SMILES</td>\n",
       "      <td>140044</td>\n",
       "      <td>13.26</td>\n",
       "    </tr>\n",
       "  </tbody>\n",
       "</table>"
      ],
      "text/plain": [
       "<IPython.core.display.HTML object>"
      ]
     },
     "metadata": {},
     "output_type": "display_data"
    },
    {
     "data": {
      "text/html": [
       "<span style='font-weight: bold;margin-top=80px;margin-bottom=80px; font-size:18px; color:black'>Distribution of incoming Properties to instances of chemical compound Class</span>"
      ],
      "text/plain": [
       "<IPython.core.display.HTML object>"
      ]
     },
     "metadata": {},
     "output_type": "display_data"
    },
    {
     "data": {
      "text/html": [
       "<table border=\"1\" class=\"dataframe\">\n",
       "  <thead>\n",
       "    <tr style=\"text-align: right;\">\n",
       "      <th>Property Name</th>\n",
       "      <th>Instances</th>\n",
       "    </tr>\n",
       "  </thead>\n",
       "  <tbody>\n",
       "    <tr>\n",
       "      <td>stereoisomer of</td>\n",
       "      <td>700</td>\n",
       "    </tr>\n",
       "    <tr>\n",
       "      <td>different from</td>\n",
       "      <td>310</td>\n",
       "    </tr>\n",
       "    <tr>\n",
       "      <td>has part</td>\n",
       "      <td>164</td>\n",
       "    </tr>\n",
       "    <tr>\n",
       "      <td>tautomer of</td>\n",
       "      <td>137</td>\n",
       "    </tr>\n",
       "    <tr>\n",
       "      <td>significant drug interaction</td>\n",
       "      <td>115</td>\n",
       "    </tr>\n",
       "    <tr>\n",
       "      <td>is a hydrated form of</td>\n",
       "      <td>103</td>\n",
       "    </tr>\n",
       "    <tr>\n",
       "      <td>P31</td>\n",
       "      <td>73</td>\n",
       "    </tr>\n",
       "    <tr>\n",
       "      <td>P279</td>\n",
       "      <td>48</td>\n",
       "    </tr>\n",
       "    <tr>\n",
       "      <td>part of</td>\n",
       "      <td>41</td>\n",
       "    </tr>\n",
       "    <tr>\n",
       "      <td>conjugate acid</td>\n",
       "      <td>13</td>\n",
       "    </tr>\n",
       "  </tbody>\n",
       "</table>"
      ],
      "text/plain": [
       "<IPython.core.display.HTML object>"
      ]
     },
     "metadata": {},
     "output_type": "display_data"
    },
    {
     "data": {
      "text/html": [
       "<span style='font-weight: bold;margin-top=80px;margin-bottom=80px; font-size:25px; color:black'>------------------------------------------------------------------------------------------</span>"
      ],
      "text/plain": [
       "<IPython.core.display.HTML object>"
      ]
     },
     "metadata": {},
     "output_type": "display_data"
    },
    {
     "data": {
      "text/html": [
       "<span style='font-weight: bold;margin-top=80px;margin-bottom=80px; font-size:25px; color:blue'>Class: Medication</span>"
      ],
      "text/plain": [
       "<IPython.core.display.HTML object>"
      ]
     },
     "metadata": {},
     "output_type": "display_data"
    },
    {
     "data": {
      "text/html": [
       "<span style='font-weight: Light;margin-top=80px;margin-bottom=80px; font-size:15px; color:black'>Description: Substance used to diagnose, cure, treat, or prevent disease</span>"
      ],
      "text/plain": [
       "<IPython.core.display.HTML object>"
      ]
     },
     "metadata": {},
     "output_type": "display_data"
    },
    {
     "data": {
      "text/html": [
       "<span style='font-weight: Light;margin-top=80px;margin-bottom=80px; font-size:15px; color:black'>Aliases: Drug, medicine, pharmaceutical drug, pharmaceutical, drug, medicine, pharmaceutical drug, pharmaceutical</span>"
      ],
      "text/plain": [
       "<IPython.core.display.HTML object>"
      ]
     },
     "metadata": {},
     "output_type": "display_data"
    },
    {
     "data": {
      "text/html": [
       "<span style='font-weight: Light;margin-top=80px;margin-bottom=80px; font-size:15px; color:black'>Direct Superclasses: </span>"
      ],
      "text/plain": [
       "<IPython.core.display.HTML object>"
      ]
     },
     "metadata": {},
     "output_type": "display_data"
    },
    {
     "data": {
      "text/html": [
       "<span style='font-weight: Light;margin-top=80px;margin-bottom=80px; font-size:15px; color:black'>Direct Subclasses: (rs)-oxybutynin, isoxsuprine, hormone, chlorhexidine, (rs)-clenbuterol, ketamine, panobinostat dl-lactate, mecamylamine, (rs)-meclizine, antihypoxic drugs</span>"
      ],
      "text/plain": [
       "<IPython.core.display.HTML object>"
      ]
     },
     "metadata": {},
     "output_type": "display_data"
    },
    {
     "data": {
      "text/html": [
       "<span style='font-weight: Light;margin-top=80px;margin-bottom=80px; font-size:15px; color:black'>Number of Instances: 2507</span>"
      ],
      "text/plain": [
       "<IPython.core.display.HTML object>"
      ]
     },
     "metadata": {},
     "output_type": "display_data"
    },
    {
     "data": {
      "text/html": [
       "<span style='font-weight: Light;margin-top=80px;margin-bottom=80px; font-size:15px; color:black'>Number of Superclasses: 0</span>"
      ],
      "text/plain": [
       "<IPython.core.display.HTML object>"
      ]
     },
     "metadata": {},
     "output_type": "display_data"
    },
    {
     "data": {
      "text/html": [
       "<span style='font-weight: Light;margin-top=80px;margin-bottom=80px; font-size:15px; color:black'>Number of Subclasses: 15</span>"
      ],
      "text/plain": [
       "<IPython.core.display.HTML object>"
      ]
     },
     "metadata": {},
     "output_type": "display_data"
    },
    {
     "data": {
      "text/html": [
       "<span style='font-weight: bold;margin-top=80px;margin-bottom=80px; font-size:18px; color:black'>Examples for medication Class</span>"
      ],
      "text/plain": [
       "<IPython.core.display.HTML object>"
      ]
     },
     "metadata": {},
     "output_type": "display_data"
    },
    {
     "data": {
      "text/html": [
       "<table border=\"1\" class=\"dataframe\">\n",
       "  <thead>\n",
       "    <tr style=\"text-align: right;\">\n",
       "      <th>Label_</th>\n",
       "      <th>Pagerank</th>\n",
       "      <th>Link</th>\n",
       "    </tr>\n",
       "  </thead>\n",
       "  <tbody>\n",
       "    <tr>\n",
       "      <td>dulaglutide</td>\n",
       "      <td>0.000001</td>\n",
       "      <td>https://www.wikidata.org/wiki/Q21011228</td>\n",
       "    </tr>\n",
       "    <tr>\n",
       "      <td>tezacaftor</td>\n",
       "      <td>0.000001</td>\n",
       "      <td>https://www.wikidata.org/wiki/Q27270940</td>\n",
       "    </tr>\n",
       "    <tr>\n",
       "      <td>lobeglitazone</td>\n",
       "      <td>0.000001</td>\n",
       "      <td>https://www.wikidata.org/wiki/Q18350076</td>\n",
       "    </tr>\n",
       "  </tbody>\n",
       "</table>"
      ],
      "text/plain": [
       "<IPython.core.display.HTML object>"
      ]
     },
     "metadata": {},
     "output_type": "display_data"
    },
    {
     "data": {
      "text/html": [
       "<span style='font-weight: bold;margin-top=80px;margin-bottom=80px; font-size:18px; color:black'>Distribution of outgoing Properties from instances of medication Class</span>"
      ],
      "text/plain": [
       "<IPython.core.display.HTML object>"
      ]
     },
     "metadata": {},
     "output_type": "display_data"
    },
    {
     "data": {
      "text/html": [
       "<table border=\"1\" class=\"dataframe\">\n",
       "  <thead>\n",
       "    <tr style=\"text-align: right;\">\n",
       "      <th>Property Name</th>\n",
       "      <th>Instances</th>\n",
       "      <th>% Instances</th>\n",
       "    </tr>\n",
       "  </thead>\n",
       "  <tbody>\n",
       "    <tr>\n",
       "      <td>P31</td>\n",
       "      <td>2505</td>\n",
       "      <td>100.00</td>\n",
       "    </tr>\n",
       "    <tr>\n",
       "      <td>CAS Registry Number</td>\n",
       "      <td>2452</td>\n",
       "      <td>97.88</td>\n",
       "    </tr>\n",
       "    <tr>\n",
       "      <td>UNII</td>\n",
       "      <td>2412</td>\n",
       "      <td>96.29</td>\n",
       "    </tr>\n",
       "    <tr>\n",
       "      <td>DrugBank ID</td>\n",
       "      <td>2296</td>\n",
       "      <td>91.66</td>\n",
       "    </tr>\n",
       "    <tr>\n",
       "      <td>ChEMBL ID</td>\n",
       "      <td>2291</td>\n",
       "      <td>91.46</td>\n",
       "    </tr>\n",
       "    <tr>\n",
       "      <td>chemical formula</td>\n",
       "      <td>2260</td>\n",
       "      <td>90.22</td>\n",
       "    </tr>\n",
       "    <tr>\n",
       "      <td>InChIKey</td>\n",
       "      <td>2257</td>\n",
       "      <td>90.10</td>\n",
       "    </tr>\n",
       "    <tr>\n",
       "      <td>PubChem CID</td>\n",
       "      <td>2246</td>\n",
       "      <td>89.66</td>\n",
       "    </tr>\n",
       "    <tr>\n",
       "      <td>ChemSpider ID</td>\n",
       "      <td>2221</td>\n",
       "      <td>88.66</td>\n",
       "    </tr>\n",
       "    <tr>\n",
       "      <td>SMILES</td>\n",
       "      <td>2181</td>\n",
       "      <td>87.07</td>\n",
       "    </tr>\n",
       "  </tbody>\n",
       "</table>"
      ],
      "text/plain": [
       "<IPython.core.display.HTML object>"
      ]
     },
     "metadata": {},
     "output_type": "display_data"
    },
    {
     "data": {
      "text/html": [
       "<span style='font-weight: bold;margin-top=80px;margin-bottom=80px; font-size:18px; color:black'>Distribution of incoming Properties to instances of medication Class</span>"
      ],
      "text/plain": [
       "<IPython.core.display.HTML object>"
      ]
     },
     "metadata": {},
     "output_type": "display_data"
    },
    {
     "data": {
      "text/html": [
       "<table border=\"1\" class=\"dataframe\">\n",
       "  <thead>\n",
       "    <tr style=\"text-align: right;\">\n",
       "      <th>Property Name</th>\n",
       "      <th>Instances</th>\n",
       "    </tr>\n",
       "  </thead>\n",
       "  <tbody>\n",
       "    <tr>\n",
       "      <td>significant drug interaction</td>\n",
       "      <td>112</td>\n",
       "    </tr>\n",
       "    <tr>\n",
       "      <td>different from</td>\n",
       "      <td>71</td>\n",
       "    </tr>\n",
       "    <tr>\n",
       "      <td>stereoisomer of</td>\n",
       "      <td>48</td>\n",
       "    </tr>\n",
       "    <tr>\n",
       "      <td>has part</td>\n",
       "      <td>31</td>\n",
       "    </tr>\n",
       "    <tr>\n",
       "      <td>is a hydrated form of</td>\n",
       "      <td>13</td>\n",
       "    </tr>\n",
       "    <tr>\n",
       "      <td>P279</td>\n",
       "      <td>6</td>\n",
       "    </tr>\n",
       "    <tr>\n",
       "      <td>P31</td>\n",
       "      <td>5</td>\n",
       "    </tr>\n",
       "    <tr>\n",
       "      <td>tautomer of</td>\n",
       "      <td>2</td>\n",
       "    </tr>\n",
       "    <tr>\n",
       "      <td>conjugate acid</td>\n",
       "      <td>1</td>\n",
       "    </tr>\n",
       "    <tr>\n",
       "      <td>P2868</td>\n",
       "      <td>1</td>\n",
       "    </tr>\n",
       "  </tbody>\n",
       "</table>"
      ],
      "text/plain": [
       "<IPython.core.display.HTML object>"
      ]
     },
     "metadata": {},
     "output_type": "display_data"
    },
    {
     "data": {
      "text/html": [
       "<span style='font-weight: bold;margin-top=80px;margin-bottom=80px; font-size:25px; color:black'>------------------------------------------------------------------------------------------</span>"
      ],
      "text/plain": [
       "<IPython.core.display.HTML object>"
      ]
     },
     "metadata": {},
     "output_type": "display_data"
    },
    {
     "data": {
      "text/html": [
       "<span style='font-weight: bold;margin-top=80px;margin-bottom=80px; font-size:25px; color:blue'>Class: Diacylglycerophosphocholine</span>"
      ],
      "text/plain": [
       "<IPython.core.display.HTML object>"
      ]
     },
     "metadata": {},
     "output_type": "display_data"
    },
    {
     "data": {
      "text/html": [
       "<span style='font-weight: Light;margin-top=80px;margin-bottom=80px; font-size:15px; color:black'>Description: Class of chemical compounds</span>"
      ],
      "text/plain": [
       "<IPython.core.display.HTML object>"
      ]
     },
     "metadata": {},
     "output_type": "display_data"
    },
    {
     "data": {
      "text/html": [
       "<span style='font-weight: Light;margin-top=80px;margin-bottom=80px; font-size:15px; color:black'>Aliases: </span>"
      ],
      "text/plain": [
       "<IPython.core.display.HTML object>"
      ]
     },
     "metadata": {},
     "output_type": "display_data"
    },
    {
     "data": {
      "text/html": [
       "<span style='font-weight: Light;margin-top=80px;margin-bottom=80px; font-size:15px; color:black'>Direct Superclasses: </span>"
      ],
      "text/plain": [
       "<IPython.core.display.HTML object>"
      ]
     },
     "metadata": {},
     "output_type": "display_data"
    },
    {
     "data": {
      "text/html": [
       "<span style='font-weight: Light;margin-top=80px;margin-bottom=80px; font-size:15px; color:black'>Direct Subclasses: </span>"
      ],
      "text/plain": [
       "<IPython.core.display.HTML object>"
      ]
     },
     "metadata": {},
     "output_type": "display_data"
    },
    {
     "data": {
      "text/html": [
       "<span style='font-weight: Light;margin-top=80px;margin-bottom=80px; font-size:15px; color:black'>Number of Instances: 485</span>"
      ],
      "text/plain": [
       "<IPython.core.display.HTML object>"
      ]
     },
     "metadata": {},
     "output_type": "display_data"
    },
    {
     "data": {
      "text/html": [
       "<span style='font-weight: Light;margin-top=80px;margin-bottom=80px; font-size:15px; color:black'>Number of Superclasses: 0</span>"
      ],
      "text/plain": [
       "<IPython.core.display.HTML object>"
      ]
     },
     "metadata": {},
     "output_type": "display_data"
    },
    {
     "data": {
      "text/html": [
       "<span style='font-weight: Light;margin-top=80px;margin-bottom=80px; font-size:15px; color:black'>Number of Subclasses: 0</span>"
      ],
      "text/plain": [
       "<IPython.core.display.HTML object>"
      ]
     },
     "metadata": {},
     "output_type": "display_data"
    },
    {
     "data": {
      "text/html": [
       "<span style='font-weight: bold;margin-top=80px;margin-bottom=80px; font-size:18px; color:black'>Examples for diacylglycerophosphocholine Class</span>"
      ],
      "text/plain": [
       "<IPython.core.display.HTML object>"
      ]
     },
     "metadata": {},
     "output_type": "display_data"
    },
    {
     "data": {
      "text/html": [
       "<table border=\"1\" class=\"dataframe\">\n",
       "  <thead>\n",
       "    <tr style=\"text-align: right;\">\n",
       "      <th>Label_</th>\n",
       "      <th>Pagerank</th>\n",
       "      <th>Link</th>\n",
       "    </tr>\n",
       "  </thead>\n",
       "  <tbody>\n",
       "    <tr>\n",
       "      <td>1-hexadecanoyl-2-(9Z,12Z-octadecadienoyl)-sn-glycero-3-phosphocholine</td>\n",
       "      <td>0.000001</td>\n",
       "      <td>https://www.wikidata.org/wiki/Q27105002</td>\n",
       "    </tr>\n",
       "    <tr>\n",
       "      <td>1-stearoyl-2-palmitoyl-sn-glycero-3-phosphocholine</td>\n",
       "      <td>0.000001</td>\n",
       "      <td>https://www.wikidata.org/wiki/Q27145082</td>\n",
       "    </tr>\n",
       "    <tr>\n",
       "      <td>1-palmitoyl-2-acetyl-sn-glycero-3-phosphocholine</td>\n",
       "      <td>0.000001</td>\n",
       "      <td>https://www.wikidata.org/wiki/Q27145169</td>\n",
       "    </tr>\n",
       "  </tbody>\n",
       "</table>"
      ],
      "text/plain": [
       "<IPython.core.display.HTML object>"
      ]
     },
     "metadata": {},
     "output_type": "display_data"
    },
    {
     "data": {
      "text/html": [
       "<span style='font-weight: bold;margin-top=80px;margin-bottom=80px; font-size:18px; color:black'>Distribution of outgoing Properties from instances of diacylglycerophosphocholine Class</span>"
      ],
      "text/plain": [
       "<IPython.core.display.HTML object>"
      ]
     },
     "metadata": {},
     "output_type": "display_data"
    },
    {
     "data": {
      "text/html": [
       "<table border=\"1\" class=\"dataframe\">\n",
       "  <thead>\n",
       "    <tr style=\"text-align: right;\">\n",
       "      <th>Property Name</th>\n",
       "      <th>Instances</th>\n",
       "      <th>% Instances</th>\n",
       "    </tr>\n",
       "  </thead>\n",
       "  <tbody>\n",
       "    <tr>\n",
       "      <td>LIPID MAPS ID</td>\n",
       "      <td>484</td>\n",
       "      <td>100.00</td>\n",
       "    </tr>\n",
       "    <tr>\n",
       "      <td>InChIKey</td>\n",
       "      <td>484</td>\n",
       "      <td>100.00</td>\n",
       "    </tr>\n",
       "    <tr>\n",
       "      <td>P31</td>\n",
       "      <td>484</td>\n",
       "      <td>100.00</td>\n",
       "    </tr>\n",
       "    <tr>\n",
       "      <td>isomeric SMILES</td>\n",
       "      <td>482</td>\n",
       "      <td>99.59</td>\n",
       "    </tr>\n",
       "    <tr>\n",
       "      <td>PubChem CID</td>\n",
       "      <td>482</td>\n",
       "      <td>99.59</td>\n",
       "    </tr>\n",
       "    <tr>\n",
       "      <td>InChI</td>\n",
       "      <td>482</td>\n",
       "      <td>99.59</td>\n",
       "    </tr>\n",
       "    <tr>\n",
       "      <td>chemical formula</td>\n",
       "      <td>482</td>\n",
       "      <td>99.59</td>\n",
       "    </tr>\n",
       "    <tr>\n",
       "      <td>ChemSpider ID</td>\n",
       "      <td>387</td>\n",
       "      <td>79.96</td>\n",
       "    </tr>\n",
       "    <tr>\n",
       "      <td>SMILES</td>\n",
       "      <td>387</td>\n",
       "      <td>79.96</td>\n",
       "    </tr>\n",
       "    <tr>\n",
       "      <td>mass</td>\n",
       "      <td>387</td>\n",
       "      <td>79.96</td>\n",
       "    </tr>\n",
       "  </tbody>\n",
       "</table>"
      ],
      "text/plain": [
       "<IPython.core.display.HTML object>"
      ]
     },
     "metadata": {},
     "output_type": "display_data"
    },
    {
     "data": {
      "text/html": [
       "<span style='font-weight: bold;margin-top=80px;margin-bottom=80px; font-size:18px; color:black'>Distribution of incoming Properties to instances of diacylglycerophosphocholine Class</span>"
      ],
      "text/plain": [
       "<IPython.core.display.HTML object>"
      ]
     },
     "metadata": {},
     "output_type": "display_data"
    },
    {
     "data": {
      "text/html": [
       "<table border=\"1\" class=\"dataframe\">\n",
       "  <thead>\n",
       "    <tr style=\"text-align: right;\">\n",
       "      <th>Property Name</th>\n",
       "      <th>Instances</th>\n",
       "    </tr>\n",
       "  </thead>\n",
       "  <tbody>\n",
       "  </tbody>\n",
       "</table>"
      ],
      "text/plain": [
       "<IPython.core.display.HTML object>"
      ]
     },
     "metadata": {},
     "output_type": "display_data"
    },
    {
     "data": {
      "text/html": [
       "<span style='font-weight: bold;margin-top=80px;margin-bottom=80px; font-size:25px; color:black'>------------------------------------------------------------------------------------------</span>"
      ],
      "text/plain": [
       "<IPython.core.display.HTML object>"
      ]
     },
     "metadata": {},
     "output_type": "display_data"
    },
    {
     "data": {
      "text/html": [
       "<span style='font-weight: bold;margin-top=80px;margin-bottom=80px; font-size:25px; color:blue'>Class: Carcinogen</span>"
      ],
      "text/plain": [
       "<IPython.core.display.HTML object>"
      ]
     },
     "metadata": {},
     "output_type": "display_data"
    },
    {
     "data": {
      "text/html": [
       "<span style='font-weight: Light;margin-top=80px;margin-bottom=80px; font-size:15px; color:black'>Description: Substance, radionuclide, or radiation directly involved in causing cancer</span>"
      ],
      "text/plain": [
       "<IPython.core.display.HTML object>"
      ]
     },
     "metadata": {},
     "output_type": "display_data"
    },
    {
     "data": {
      "text/html": [
       "<span style='font-weight: Light;margin-top=80px;margin-bottom=80px; font-size:15px; color:black'>Aliases: Carcinogens, oncogen, oncogens, carcinogens, oncogen, oncogens</span>"
      ],
      "text/plain": [
       "<IPython.core.display.HTML object>"
      ]
     },
     "metadata": {},
     "output_type": "display_data"
    },
    {
     "data": {
      "text/html": [
       "<span style='font-weight: Light;margin-top=80px;margin-bottom=80px; font-size:15px; color:black'>Direct Superclasses: </span>"
      ],
      "text/plain": [
       "<IPython.core.display.HTML object>"
      ]
     },
     "metadata": {},
     "output_type": "display_data"
    },
    {
     "data": {
      "text/html": [
       "<span style='font-weight: Light;margin-top=80px;margin-bottom=80px; font-size:15px; color:black'>Direct Subclasses: </span>"
      ],
      "text/plain": [
       "<IPython.core.display.HTML object>"
      ]
     },
     "metadata": {},
     "output_type": "display_data"
    },
    {
     "data": {
      "text/html": [
       "<span style='font-weight: Light;margin-top=80px;margin-bottom=80px; font-size:15px; color:black'>Number of Instances: 479</span>"
      ],
      "text/plain": [
       "<IPython.core.display.HTML object>"
      ]
     },
     "metadata": {},
     "output_type": "display_data"
    },
    {
     "data": {
      "text/html": [
       "<span style='font-weight: Light;margin-top=80px;margin-bottom=80px; font-size:15px; color:black'>Number of Superclasses: 0</span>"
      ],
      "text/plain": [
       "<IPython.core.display.HTML object>"
      ]
     },
     "metadata": {},
     "output_type": "display_data"
    },
    {
     "data": {
      "text/html": [
       "<span style='font-weight: Light;margin-top=80px;margin-bottom=80px; font-size:15px; color:black'>Number of Subclasses: 0</span>"
      ],
      "text/plain": [
       "<IPython.core.display.HTML object>"
      ]
     },
     "metadata": {},
     "output_type": "display_data"
    },
    {
     "data": {
      "text/html": [
       "<span style='font-weight: bold;margin-top=80px;margin-bottom=80px; font-size:18px; color:black'>Examples for carcinogen Class</span>"
      ],
      "text/plain": [
       "<IPython.core.display.HTML object>"
      ]
     },
     "metadata": {},
     "output_type": "display_data"
    },
    {
     "data": {
      "text/html": [
       "<table border=\"1\" class=\"dataframe\">\n",
       "  <thead>\n",
       "    <tr style=\"text-align: right;\">\n",
       "      <th>Label_</th>\n",
       "      <th>Pagerank</th>\n",
       "      <th>Link</th>\n",
       "    </tr>\n",
       "  </thead>\n",
       "  <tbody>\n",
       "    <tr>\n",
       "      <td>bromodichloroacetic acid</td>\n",
       "      <td>0.000001</td>\n",
       "      <td>https://www.wikidata.org/wiki/Q27289240</td>\n",
       "    </tr>\n",
       "    <tr>\n",
       "      <td>glycidaldehyde</td>\n",
       "      <td>0.000001</td>\n",
       "      <td>https://www.wikidata.org/wiki/Q2307855</td>\n",
       "    </tr>\n",
       "    <tr>\n",
       "      <td>aniline</td>\n",
       "      <td>0.000010</td>\n",
       "      <td>https://www.wikidata.org/wiki/Q186414</td>\n",
       "    </tr>\n",
       "  </tbody>\n",
       "</table>"
      ],
      "text/plain": [
       "<IPython.core.display.HTML object>"
      ]
     },
     "metadata": {},
     "output_type": "display_data"
    },
    {
     "data": {
      "text/html": [
       "<span style='font-weight: bold;margin-top=80px;margin-bottom=80px; font-size:18px; color:black'>Distribution of outgoing Properties from instances of carcinogen Class</span>"
      ],
      "text/plain": [
       "<IPython.core.display.HTML object>"
      ]
     },
     "metadata": {},
     "output_type": "display_data"
    },
    {
     "data": {
      "text/html": [
       "<table border=\"1\" class=\"dataframe\">\n",
       "  <thead>\n",
       "    <tr style=\"text-align: right;\">\n",
       "      <th>Property Name</th>\n",
       "      <th>Instances</th>\n",
       "      <th>% Instances</th>\n",
       "    </tr>\n",
       "  </thead>\n",
       "  <tbody>\n",
       "    <tr>\n",
       "      <td>P31</td>\n",
       "      <td>479</td>\n",
       "      <td>100.00</td>\n",
       "    </tr>\n",
       "    <tr>\n",
       "      <td>CA PROP 65 ID</td>\n",
       "      <td>478</td>\n",
       "      <td>99.79</td>\n",
       "    </tr>\n",
       "    <tr>\n",
       "      <td>CAS Registry Number</td>\n",
       "      <td>477</td>\n",
       "      <td>99.58</td>\n",
       "    </tr>\n",
       "    <tr>\n",
       "      <td>InChIKey</td>\n",
       "      <td>475</td>\n",
       "      <td>99.16</td>\n",
       "    </tr>\n",
       "    <tr>\n",
       "      <td>DSSTox substance ID</td>\n",
       "      <td>473</td>\n",
       "      <td>98.75</td>\n",
       "    </tr>\n",
       "    <tr>\n",
       "      <td>InChI</td>\n",
       "      <td>471</td>\n",
       "      <td>98.33</td>\n",
       "    </tr>\n",
       "    <tr>\n",
       "      <td>ChemSpider ID</td>\n",
       "      <td>469</td>\n",
       "      <td>97.91</td>\n",
       "    </tr>\n",
       "    <tr>\n",
       "      <td>chemical formula</td>\n",
       "      <td>465</td>\n",
       "      <td>97.08</td>\n",
       "    </tr>\n",
       "    <tr>\n",
       "      <td>PubChem CID</td>\n",
       "      <td>464</td>\n",
       "      <td>96.87</td>\n",
       "    </tr>\n",
       "    <tr>\n",
       "      <td>SMILES</td>\n",
       "      <td>462</td>\n",
       "      <td>96.45</td>\n",
       "    </tr>\n",
       "  </tbody>\n",
       "</table>"
      ],
      "text/plain": [
       "<IPython.core.display.HTML object>"
      ]
     },
     "metadata": {},
     "output_type": "display_data"
    },
    {
     "data": {
      "text/html": [
       "<span style='font-weight: bold;margin-top=80px;margin-bottom=80px; font-size:18px; color:black'>Distribution of incoming Properties to instances of carcinogen Class</span>"
      ],
      "text/plain": [
       "<IPython.core.display.HTML object>"
      ]
     },
     "metadata": {},
     "output_type": "display_data"
    },
    {
     "data": {
      "text/html": [
       "<table border=\"1\" class=\"dataframe\">\n",
       "  <thead>\n",
       "    <tr style=\"text-align: right;\">\n",
       "      <th>Property Name</th>\n",
       "      <th>Instances</th>\n",
       "    </tr>\n",
       "  </thead>\n",
       "  <tbody>\n",
       "    <tr>\n",
       "      <td>different from</td>\n",
       "      <td>11</td>\n",
       "    </tr>\n",
       "    <tr>\n",
       "      <td>has part</td>\n",
       "      <td>6</td>\n",
       "    </tr>\n",
       "    <tr>\n",
       "      <td>significant drug interaction</td>\n",
       "      <td>5</td>\n",
       "    </tr>\n",
       "    <tr>\n",
       "      <td>P31</td>\n",
       "      <td>4</td>\n",
       "    </tr>\n",
       "    <tr>\n",
       "      <td>stereoisomer of</td>\n",
       "      <td>2</td>\n",
       "    </tr>\n",
       "    <tr>\n",
       "      <td>polymer of</td>\n",
       "      <td>1</td>\n",
       "    </tr>\n",
       "    <tr>\n",
       "      <td>material used</td>\n",
       "      <td>1</td>\n",
       "    </tr>\n",
       "    <tr>\n",
       "      <td>P279</td>\n",
       "      <td>1</td>\n",
       "    </tr>\n",
       "  </tbody>\n",
       "</table>"
      ],
      "text/plain": [
       "<IPython.core.display.HTML object>"
      ]
     },
     "metadata": {},
     "output_type": "display_data"
    },
    {
     "data": {
      "text/html": [
       "<span style='font-weight: bold;margin-top=80px;margin-bottom=80px; font-size:25px; color:black'>------------------------------------------------------------------------------------------</span>"
      ],
      "text/plain": [
       "<IPython.core.display.HTML object>"
      ]
     },
     "metadata": {},
     "output_type": "display_data"
    },
    {
     "data": {
      "text/html": [
       "<span style='font-weight: bold;margin-top=80px;margin-bottom=80px; font-size:25px; color:blue'>Class: Wax monoester</span>"
      ],
      "text/plain": [
       "<IPython.core.display.HTML object>"
      ]
     },
     "metadata": {},
     "output_type": "display_data"
    },
    {
     "data": {
      "text/html": [
       "<span style='font-weight: Light;margin-top=80px;margin-bottom=80px; font-size:15px; color:black'>Description: Class of chemical compounds</span>"
      ],
      "text/plain": [
       "<IPython.core.display.HTML object>"
      ]
     },
     "metadata": {},
     "output_type": "display_data"
    },
    {
     "data": {
      "text/html": [
       "<span style='font-weight: Light;margin-top=80px;margin-bottom=80px; font-size:15px; color:black'>Aliases: </span>"
      ],
      "text/plain": [
       "<IPython.core.display.HTML object>"
      ]
     },
     "metadata": {},
     "output_type": "display_data"
    },
    {
     "data": {
      "text/html": [
       "<span style='font-weight: Light;margin-top=80px;margin-bottom=80px; font-size:15px; color:black'>Direct Superclasses: </span>"
      ],
      "text/plain": [
       "<IPython.core.display.HTML object>"
      ]
     },
     "metadata": {},
     "output_type": "display_data"
    },
    {
     "data": {
      "text/html": [
       "<span style='font-weight: Light;margin-top=80px;margin-bottom=80px; font-size:15px; color:black'>Direct Subclasses: </span>"
      ],
      "text/plain": [
       "<IPython.core.display.HTML object>"
      ]
     },
     "metadata": {},
     "output_type": "display_data"
    },
    {
     "data": {
      "text/html": [
       "<span style='font-weight: Light;margin-top=80px;margin-bottom=80px; font-size:15px; color:black'>Number of Instances: 410</span>"
      ],
      "text/plain": [
       "<IPython.core.display.HTML object>"
      ]
     },
     "metadata": {},
     "output_type": "display_data"
    },
    {
     "data": {
      "text/html": [
       "<span style='font-weight: Light;margin-top=80px;margin-bottom=80px; font-size:15px; color:black'>Number of Superclasses: 0</span>"
      ],
      "text/plain": [
       "<IPython.core.display.HTML object>"
      ]
     },
     "metadata": {},
     "output_type": "display_data"
    },
    {
     "data": {
      "text/html": [
       "<span style='font-weight: Light;margin-top=80px;margin-bottom=80px; font-size:15px; color:black'>Number of Subclasses: 0</span>"
      ],
      "text/plain": [
       "<IPython.core.display.HTML object>"
      ]
     },
     "metadata": {},
     "output_type": "display_data"
    },
    {
     "data": {
      "text/html": [
       "<span style='font-weight: bold;margin-top=80px;margin-bottom=80px; font-size:18px; color:black'>Examples for wax monoester Class</span>"
      ],
      "text/plain": [
       "<IPython.core.display.HTML object>"
      ]
     },
     "metadata": {},
     "output_type": "display_data"
    },
    {
     "data": {
      "text/html": [
       "<table border=\"1\" class=\"dataframe\">\n",
       "  <thead>\n",
       "    <tr style=\"text-align: right;\">\n",
       "      <th>Label_</th>\n",
       "      <th>Pagerank</th>\n",
       "      <th>Link</th>\n",
       "    </tr>\n",
       "  </thead>\n",
       "  <tbody>\n",
       "    <tr>\n",
       "      <td>ethyl-2-nonynoate</td>\n",
       "      <td>0.000001</td>\n",
       "      <td>https://www.wikidata.org/wiki/Q27269581</td>\n",
       "    </tr>\n",
       "    <tr>\n",
       "      <td>cetyl myristate</td>\n",
       "      <td>0.000001</td>\n",
       "      <td>https://www.wikidata.org/wiki/Q27268650</td>\n",
       "    </tr>\n",
       "    <tr>\n",
       "      <td>2-pentyl butyrate</td>\n",
       "      <td>0.000001</td>\n",
       "      <td>https://www.wikidata.org/wiki/Q27285351</td>\n",
       "    </tr>\n",
       "  </tbody>\n",
       "</table>"
      ],
      "text/plain": [
       "<IPython.core.display.HTML object>"
      ]
     },
     "metadata": {},
     "output_type": "display_data"
    },
    {
     "data": {
      "text/html": [
       "<span style='font-weight: bold;margin-top=80px;margin-bottom=80px; font-size:18px; color:black'>Distribution of outgoing Properties from instances of wax monoester Class</span>"
      ],
      "text/plain": [
       "<IPython.core.display.HTML object>"
      ]
     },
     "metadata": {},
     "output_type": "display_data"
    },
    {
     "data": {
      "text/html": [
       "<table border=\"1\" class=\"dataframe\">\n",
       "  <thead>\n",
       "    <tr style=\"text-align: right;\">\n",
       "      <th>Property Name</th>\n",
       "      <th>Instances</th>\n",
       "      <th>% Instances</th>\n",
       "    </tr>\n",
       "  </thead>\n",
       "  <tbody>\n",
       "    <tr>\n",
       "      <td>InChI</td>\n",
       "      <td>410</td>\n",
       "      <td>100.00</td>\n",
       "    </tr>\n",
       "    <tr>\n",
       "      <td>LIPID MAPS ID</td>\n",
       "      <td>410</td>\n",
       "      <td>100.00</td>\n",
       "    </tr>\n",
       "    <tr>\n",
       "      <td>P31</td>\n",
       "      <td>410</td>\n",
       "      <td>100.00</td>\n",
       "    </tr>\n",
       "    <tr>\n",
       "      <td>InChIKey</td>\n",
       "      <td>410</td>\n",
       "      <td>100.00</td>\n",
       "    </tr>\n",
       "    <tr>\n",
       "      <td>PubChem CID</td>\n",
       "      <td>409</td>\n",
       "      <td>99.76</td>\n",
       "    </tr>\n",
       "    <tr>\n",
       "      <td>chemical formula</td>\n",
       "      <td>409</td>\n",
       "      <td>99.76</td>\n",
       "    </tr>\n",
       "    <tr>\n",
       "      <td>SMILES</td>\n",
       "      <td>409</td>\n",
       "      <td>99.76</td>\n",
       "    </tr>\n",
       "    <tr>\n",
       "      <td>ChemSpider ID</td>\n",
       "      <td>408</td>\n",
       "      <td>99.51</td>\n",
       "    </tr>\n",
       "    <tr>\n",
       "      <td>mass</td>\n",
       "      <td>407</td>\n",
       "      <td>99.27</td>\n",
       "    </tr>\n",
       "    <tr>\n",
       "      <td>CAS Registry Number</td>\n",
       "      <td>394</td>\n",
       "      <td>96.10</td>\n",
       "    </tr>\n",
       "  </tbody>\n",
       "</table>"
      ],
      "text/plain": [
       "<IPython.core.display.HTML object>"
      ]
     },
     "metadata": {},
     "output_type": "display_data"
    },
    {
     "data": {
      "text/html": [
       "<span style='font-weight: bold;margin-top=80px;margin-bottom=80px; font-size:18px; color:black'>Distribution of incoming Properties to instances of wax monoester Class</span>"
      ],
      "text/plain": [
       "<IPython.core.display.HTML object>"
      ]
     },
     "metadata": {},
     "output_type": "display_data"
    },
    {
     "data": {
      "text/html": [
       "<table border=\"1\" class=\"dataframe\">\n",
       "  <thead>\n",
       "    <tr style=\"text-align: right;\">\n",
       "      <th>Property Name</th>\n",
       "      <th>Instances</th>\n",
       "    </tr>\n",
       "  </thead>\n",
       "  <tbody>\n",
       "    <tr>\n",
       "      <td>stereoisomer of</td>\n",
       "      <td>2</td>\n",
       "    </tr>\n",
       "    <tr>\n",
       "      <td>P31</td>\n",
       "      <td>1</td>\n",
       "    </tr>\n",
       "  </tbody>\n",
       "</table>"
      ],
      "text/plain": [
       "<IPython.core.display.HTML object>"
      ]
     },
     "metadata": {},
     "output_type": "display_data"
    },
    {
     "data": {
      "text/html": [
       "<span style='font-weight: bold;margin-top=80px;margin-bottom=80px; font-size:25px; color:black'>------------------------------------------------------------------------------------------</span>"
      ],
      "text/plain": [
       "<IPython.core.display.HTML object>"
      ]
     },
     "metadata": {},
     "output_type": "display_data"
    },
    {
     "data": {
      "text/html": [
       "<span style='font-weight: bold;margin-top=80px;margin-bottom=80px; font-size:25px; color:blue'>Class: Lipid</span>"
      ],
      "text/plain": [
       "<IPython.core.display.HTML object>"
      ]
     },
     "metadata": {},
     "output_type": "display_data"
    },
    {
     "data": {
      "text/html": [
       "<span style='font-weight: Light;margin-top=80px;margin-bottom=80px; font-size:15px; color:black'>Description: Naturally occurring molecules including fats, waxes, sterols, fat-soluble vitamins and others</span>"
      ],
      "text/plain": [
       "<IPython.core.display.HTML object>"
      ]
     },
     "metadata": {},
     "output_type": "display_data"
    },
    {
     "data": {
      "text/html": [
       "<span style='font-weight: Light;margin-top=80px;margin-bottom=80px; font-size:15px; color:black'>Aliases: Lipids, lipids</span>"
      ],
      "text/plain": [
       "<IPython.core.display.HTML object>"
      ]
     },
     "metadata": {},
     "output_type": "display_data"
    },
    {
     "data": {
      "text/html": [
       "<span style='font-weight: Light;margin-top=80px;margin-bottom=80px; font-size:15px; color:black'>Direct Superclasses: </span>"
      ],
      "text/plain": [
       "<IPython.core.display.HTML object>"
      ]
     },
     "metadata": {},
     "output_type": "display_data"
    },
    {
     "data": {
      "text/html": [
       "<span style='font-weight: Light;margin-top=80px;margin-bottom=80px; font-size:15px; color:black'>Direct Subclasses: Agepc, c16 dhlactosylceramide (incomplete stereochemistry)</span>"
      ],
      "text/plain": [
       "<IPython.core.display.HTML object>"
      ]
     },
     "metadata": {},
     "output_type": "display_data"
    },
    {
     "data": {
      "text/html": [
       "<span style='font-weight: Light;margin-top=80px;margin-bottom=80px; font-size:15px; color:black'>Number of Instances: 350</span>"
      ],
      "text/plain": [
       "<IPython.core.display.HTML object>"
      ]
     },
     "metadata": {},
     "output_type": "display_data"
    },
    {
     "data": {
      "text/html": [
       "<span style='font-weight: Light;margin-top=80px;margin-bottom=80px; font-size:15px; color:black'>Number of Superclasses: 0</span>"
      ],
      "text/plain": [
       "<IPython.core.display.HTML object>"
      ]
     },
     "metadata": {},
     "output_type": "display_data"
    },
    {
     "data": {
      "text/html": [
       "<span style='font-weight: Light;margin-top=80px;margin-bottom=80px; font-size:15px; color:black'>Number of Subclasses: 2</span>"
      ],
      "text/plain": [
       "<IPython.core.display.HTML object>"
      ]
     },
     "metadata": {},
     "output_type": "display_data"
    },
    {
     "data": {
      "text/html": [
       "<span style='font-weight: bold;margin-top=80px;margin-bottom=80px; font-size:18px; color:black'>Examples for lipid Class</span>"
      ],
      "text/plain": [
       "<IPython.core.display.HTML object>"
      ]
     },
     "metadata": {},
     "output_type": "display_data"
    },
    {
     "data": {
      "text/html": [
       "<table border=\"1\" class=\"dataframe\">\n",
       "  <thead>\n",
       "    <tr style=\"text-align: right;\">\n",
       "      <th>Label_</th>\n",
       "      <th>Pagerank</th>\n",
       "      <th>Link</th>\n",
       "    </tr>\n",
       "  </thead>\n",
       "  <tbody>\n",
       "    <tr>\n",
       "      <td>dihydroceramide-1-phosphorylcholine</td>\n",
       "      <td>1.869609e-07</td>\n",
       "      <td>https://www.wikidata.org/wiki/Q37613317</td>\n",
       "    </tr>\n",
       "    <tr>\n",
       "      <td>C16 Dihydroceramide-1-Phosphate</td>\n",
       "      <td>2.390966e-07</td>\n",
       "      <td>https://www.wikidata.org/wiki/Q37611218</td>\n",
       "    </tr>\n",
       "    <tr>\n",
       "      <td>PI(19:1(9Z)/19:1(9Z))</td>\n",
       "      <td>2.498945e-07</td>\n",
       "      <td>https://www.wikidata.org/wiki/Q63343724</td>\n",
       "    </tr>\n",
       "  </tbody>\n",
       "</table>"
      ],
      "text/plain": [
       "<IPython.core.display.HTML object>"
      ]
     },
     "metadata": {},
     "output_type": "display_data"
    },
    {
     "data": {
      "text/html": [
       "<span style='font-weight: bold;margin-top=80px;margin-bottom=80px; font-size:18px; color:black'>Distribution of outgoing Properties from instances of lipid Class</span>"
      ],
      "text/plain": [
       "<IPython.core.display.HTML object>"
      ]
     },
     "metadata": {},
     "output_type": "display_data"
    },
    {
     "data": {
      "text/html": [
       "<table border=\"1\" class=\"dataframe\">\n",
       "  <thead>\n",
       "    <tr style=\"text-align: right;\">\n",
       "      <th>Property Name</th>\n",
       "      <th>Instances</th>\n",
       "      <th>% Instances</th>\n",
       "    </tr>\n",
       "  </thead>\n",
       "  <tbody>\n",
       "    <tr>\n",
       "      <td>P31</td>\n",
       "      <td>350</td>\n",
       "      <td>100.00</td>\n",
       "    </tr>\n",
       "    <tr>\n",
       "      <td>LIPID MAPS ID</td>\n",
       "      <td>344</td>\n",
       "      <td>98.29</td>\n",
       "    </tr>\n",
       "    <tr>\n",
       "      <td>InChIKey</td>\n",
       "      <td>341</td>\n",
       "      <td>97.43</td>\n",
       "    </tr>\n",
       "    <tr>\n",
       "      <td>chemical formula</td>\n",
       "      <td>335</td>\n",
       "      <td>95.71</td>\n",
       "    </tr>\n",
       "    <tr>\n",
       "      <td>isomeric SMILES</td>\n",
       "      <td>335</td>\n",
       "      <td>95.71</td>\n",
       "    </tr>\n",
       "    <tr>\n",
       "      <td>InChI</td>\n",
       "      <td>300</td>\n",
       "      <td>85.71</td>\n",
       "    </tr>\n",
       "    <tr>\n",
       "      <td>PubChem CID</td>\n",
       "      <td>201</td>\n",
       "      <td>57.43</td>\n",
       "    </tr>\n",
       "    <tr>\n",
       "      <td>ChEBI ID</td>\n",
       "      <td>14</td>\n",
       "      <td>4.00</td>\n",
       "    </tr>\n",
       "    <tr>\n",
       "      <td>KEGG ID</td>\n",
       "      <td>5</td>\n",
       "      <td>1.43</td>\n",
       "    </tr>\n",
       "    <tr>\n",
       "      <td>IEDB Epitope ID</td>\n",
       "      <td>5</td>\n",
       "      <td>1.43</td>\n",
       "    </tr>\n",
       "  </tbody>\n",
       "</table>"
      ],
      "text/plain": [
       "<IPython.core.display.HTML object>"
      ]
     },
     "metadata": {},
     "output_type": "display_data"
    },
    {
     "data": {
      "text/html": [
       "<span style='font-weight: bold;margin-top=80px;margin-bottom=80px; font-size:18px; color:black'>Distribution of incoming Properties to instances of lipid Class</span>"
      ],
      "text/plain": [
       "<IPython.core.display.HTML object>"
      ]
     },
     "metadata": {},
     "output_type": "display_data"
    },
    {
     "data": {
      "text/html": [
       "<table border=\"1\" class=\"dataframe\">\n",
       "  <thead>\n",
       "    <tr style=\"text-align: right;\">\n",
       "      <th>Property Name</th>\n",
       "      <th>Instances</th>\n",
       "    </tr>\n",
       "  </thead>\n",
       "  <tbody>\n",
       "    <tr>\n",
       "      <td>P31</td>\n",
       "      <td>1</td>\n",
       "    </tr>\n",
       "    <tr>\n",
       "      <td>P279</td>\n",
       "      <td>1</td>\n",
       "    </tr>\n",
       "  </tbody>\n",
       "</table>"
      ],
      "text/plain": [
       "<IPython.core.display.HTML object>"
      ]
     },
     "metadata": {},
     "output_type": "display_data"
    },
    {
     "data": {
      "text/html": [
       "<span style='font-weight: bold;margin-top=80px;margin-bottom=80px; font-size:25px; color:black'>------------------------------------------------------------------------------------------</span>"
      ],
      "text/plain": [
       "<IPython.core.display.HTML object>"
      ]
     },
     "metadata": {},
     "output_type": "display_data"
    },
    {
     "data": {
      "text/html": [
       "<span style='font-weight: bold;margin-top=80px;margin-bottom=80px; font-size:25px; color:blue'>Class: Flavonoid</span>"
      ],
      "text/plain": [
       "<IPython.core.display.HTML object>"
      ]
     },
     "metadata": {},
     "output_type": "display_data"
    },
    {
     "data": {
      "text/html": [
       "<span style='font-weight: Light;margin-top=80px;margin-bottom=80px; font-size:15px; color:black'>Description: Any organic compound having a 2-phenylchromane skeleton</span>"
      ],
      "text/plain": [
       "<IPython.core.display.HTML object>"
      ]
     },
     "metadata": {},
     "output_type": "display_data"
    },
    {
     "data": {
      "text/html": [
       "<span style='font-weight: Light;margin-top=80px;margin-bottom=80px; font-size:15px; color:black'>Aliases: Flavonoids, flavonoids</span>"
      ],
      "text/plain": [
       "<IPython.core.display.HTML object>"
      ]
     },
     "metadata": {},
     "output_type": "display_data"
    },
    {
     "data": {
      "text/html": [
       "<span style='font-weight: Light;margin-top=80px;margin-bottom=80px; font-size:15px; color:black'>Direct Superclasses: </span>"
      ],
      "text/plain": [
       "<IPython.core.display.HTML object>"
      ]
     },
     "metadata": {},
     "output_type": "display_data"
    },
    {
     "data": {
      "text/html": [
       "<span style='font-weight: Light;margin-top=80px;margin-bottom=80px; font-size:15px; color:black'>Direct Subclasses: Flavone, quercetin</span>"
      ],
      "text/plain": [
       "<IPython.core.display.HTML object>"
      ]
     },
     "metadata": {},
     "output_type": "display_data"
    },
    {
     "data": {
      "text/html": [
       "<span style='font-weight: Light;margin-top=80px;margin-bottom=80px; font-size:15px; color:black'>Number of Instances: 343</span>"
      ],
      "text/plain": [
       "<IPython.core.display.HTML object>"
      ]
     },
     "metadata": {},
     "output_type": "display_data"
    },
    {
     "data": {
      "text/html": [
       "<span style='font-weight: Light;margin-top=80px;margin-bottom=80px; font-size:15px; color:black'>Number of Superclasses: 0</span>"
      ],
      "text/plain": [
       "<IPython.core.display.HTML object>"
      ]
     },
     "metadata": {},
     "output_type": "display_data"
    },
    {
     "data": {
      "text/html": [
       "<span style='font-weight: Light;margin-top=80px;margin-bottom=80px; font-size:15px; color:black'>Number of Subclasses: 2</span>"
      ],
      "text/plain": [
       "<IPython.core.display.HTML object>"
      ]
     },
     "metadata": {},
     "output_type": "display_data"
    },
    {
     "data": {
      "text/html": [
       "<span style='font-weight: bold;margin-top=80px;margin-bottom=80px; font-size:18px; color:black'>Examples for flavonoid Class</span>"
      ],
      "text/plain": [
       "<IPython.core.display.HTML object>"
      ]
     },
     "metadata": {},
     "output_type": "display_data"
    },
    {
     "data": {
      "text/html": [
       "<table border=\"1\" class=\"dataframe\">\n",
       "  <thead>\n",
       "    <tr style=\"text-align: right;\">\n",
       "      <th>Label_</th>\n",
       "      <th>Pagerank</th>\n",
       "      <th>Link</th>\n",
       "    </tr>\n",
       "  </thead>\n",
       "  <tbody>\n",
       "    <tr>\n",
       "      <td>7,3\\\\\\\\\\\\\\\\'-dihydroxy-4\\\\\\\\\\\\\\\\'-methoxy-8-methylflavan</td>\n",
       "      <td>0.000001</td>\n",
       "      <td>https://www.wikidata.org/wiki/Q27105590</td>\n",
       "    </tr>\n",
       "    <tr>\n",
       "      <td>3\\\\\\\\\\\\\\\\',4\\\\\\\\\\\\\\\\',5,6-tetrahydroxy-3,7-dimethoxyflavone</td>\n",
       "      <td>0.000001</td>\n",
       "      <td>https://www.wikidata.org/wiki/Q27103316</td>\n",
       "    </tr>\n",
       "    <tr>\n",
       "      <td>robinetinidol</td>\n",
       "      <td>0.000001</td>\n",
       "      <td>https://www.wikidata.org/wiki/Q7352935</td>\n",
       "    </tr>\n",
       "  </tbody>\n",
       "</table>"
      ],
      "text/plain": [
       "<IPython.core.display.HTML object>"
      ]
     },
     "metadata": {},
     "output_type": "display_data"
    },
    {
     "data": {
      "text/html": [
       "<span style='font-weight: bold;margin-top=80px;margin-bottom=80px; font-size:18px; color:black'>Distribution of outgoing Properties from instances of flavonoid Class</span>"
      ],
      "text/plain": [
       "<IPython.core.display.HTML object>"
      ]
     },
     "metadata": {},
     "output_type": "display_data"
    },
    {
     "data": {
      "text/html": [
       "<table border=\"1\" class=\"dataframe\">\n",
       "  <thead>\n",
       "    <tr style=\"text-align: right;\">\n",
       "      <th>Property Name</th>\n",
       "      <th>Instances</th>\n",
       "      <th>% Instances</th>\n",
       "    </tr>\n",
       "  </thead>\n",
       "  <tbody>\n",
       "    <tr>\n",
       "      <td>LIPID MAPS ID</td>\n",
       "      <td>343</td>\n",
       "      <td>100.00</td>\n",
       "    </tr>\n",
       "    <tr>\n",
       "      <td>InChI</td>\n",
       "      <td>343</td>\n",
       "      <td>100.00</td>\n",
       "    </tr>\n",
       "    <tr>\n",
       "      <td>chemical formula</td>\n",
       "      <td>343</td>\n",
       "      <td>100.00</td>\n",
       "    </tr>\n",
       "    <tr>\n",
       "      <td>P31</td>\n",
       "      <td>343</td>\n",
       "      <td>100.00</td>\n",
       "    </tr>\n",
       "    <tr>\n",
       "      <td>PubChem CID</td>\n",
       "      <td>343</td>\n",
       "      <td>100.00</td>\n",
       "    </tr>\n",
       "    <tr>\n",
       "      <td>InChIKey</td>\n",
       "      <td>343</td>\n",
       "      <td>100.00</td>\n",
       "    </tr>\n",
       "    <tr>\n",
       "      <td>ChemSpider ID</td>\n",
       "      <td>338</td>\n",
       "      <td>98.54</td>\n",
       "    </tr>\n",
       "    <tr>\n",
       "      <td>SMILES</td>\n",
       "      <td>336</td>\n",
       "      <td>97.96</td>\n",
       "    </tr>\n",
       "    <tr>\n",
       "      <td>mass</td>\n",
       "      <td>328</td>\n",
       "      <td>95.63</td>\n",
       "    </tr>\n",
       "    <tr>\n",
       "      <td>CAS Registry Number</td>\n",
       "      <td>293</td>\n",
       "      <td>85.42</td>\n",
       "    </tr>\n",
       "  </tbody>\n",
       "</table>"
      ],
      "text/plain": [
       "<IPython.core.display.HTML object>"
      ]
     },
     "metadata": {},
     "output_type": "display_data"
    },
    {
     "data": {
      "text/html": [
       "<span style='font-weight: bold;margin-top=80px;margin-bottom=80px; font-size:18px; color:black'>Distribution of incoming Properties to instances of flavonoid Class</span>"
      ],
      "text/plain": [
       "<IPython.core.display.HTML object>"
      ]
     },
     "metadata": {},
     "output_type": "display_data"
    },
    {
     "data": {
      "text/html": [
       "<table border=\"1\" class=\"dataframe\">\n",
       "  <thead>\n",
       "    <tr style=\"text-align: right;\">\n",
       "      <th>Property Name</th>\n",
       "      <th>Instances</th>\n",
       "    </tr>\n",
       "  </thead>\n",
       "  <tbody>\n",
       "    <tr>\n",
       "      <td>stereoisomer of</td>\n",
       "      <td>4</td>\n",
       "    </tr>\n",
       "    <tr>\n",
       "      <td>different from</td>\n",
       "      <td>1</td>\n",
       "    </tr>\n",
       "    <tr>\n",
       "      <td>P279</td>\n",
       "      <td>1</td>\n",
       "    </tr>\n",
       "    <tr>\n",
       "      <td>is a hydrated form of</td>\n",
       "      <td>1</td>\n",
       "    </tr>\n",
       "  </tbody>\n",
       "</table>"
      ],
      "text/plain": [
       "<IPython.core.display.HTML object>"
      ]
     },
     "metadata": {},
     "output_type": "display_data"
    },
    {
     "data": {
      "text/html": [
       "<span style='font-weight: bold;margin-top=80px;margin-bottom=80px; font-size:25px; color:black'>------------------------------------------------------------------------------------------</span>"
      ],
      "text/plain": [
       "<IPython.core.display.HTML object>"
      ]
     },
     "metadata": {},
     "output_type": "display_data"
    },
    {
     "data": {
      "text/html": [
       "<span style='font-weight: bold;margin-top=80px;margin-bottom=80px; font-size:25px; color:blue'>Class: Essential medicine</span>"
      ],
      "text/plain": [
       "<IPython.core.display.HTML object>"
      ]
     },
     "metadata": {},
     "output_type": "display_data"
    },
    {
     "data": {
      "text/html": [
       "<span style='font-weight: Light;margin-top=80px;margin-bottom=80px; font-size:15px; color:black'>Description: Drug that satisfies the health care needs of the majority of the population</span>"
      ],
      "text/plain": [
       "<IPython.core.display.HTML object>"
      ]
     },
     "metadata": {},
     "output_type": "display_data"
    },
    {
     "data": {
      "text/html": [
       "<span style='font-weight: Light;margin-top=80px;margin-bottom=80px; font-size:15px; color:black'>Aliases: Drugs, essential, drugs, essential</span>"
      ],
      "text/plain": [
       "<IPython.core.display.HTML object>"
      ]
     },
     "metadata": {},
     "output_type": "display_data"
    },
    {
     "data": {
      "text/html": [
       "<span style='font-weight: Light;margin-top=80px;margin-bottom=80px; font-size:15px; color:black'>Direct Superclasses: </span>"
      ],
      "text/plain": [
       "<IPython.core.display.HTML object>"
      ]
     },
     "metadata": {},
     "output_type": "display_data"
    },
    {
     "data": {
      "text/html": [
       "<span style='font-weight: Light;margin-top=80px;margin-bottom=80px; font-size:15px; color:black'>Direct Subclasses: (rs)-methadone, ketamine, dl-ofloxacin, biperiden, (rs)-primaquine, isoniazid, propranolol</span>"
      ],
      "text/plain": [
       "<IPython.core.display.HTML object>"
      ]
     },
     "metadata": {},
     "output_type": "display_data"
    },
    {
     "data": {
      "text/html": [
       "<span style='font-weight: Light;margin-top=80px;margin-bottom=80px; font-size:15px; color:black'>Number of Instances: 308</span>"
      ],
      "text/plain": [
       "<IPython.core.display.HTML object>"
      ]
     },
     "metadata": {},
     "output_type": "display_data"
    },
    {
     "data": {
      "text/html": [
       "<span style='font-weight: Light;margin-top=80px;margin-bottom=80px; font-size:15px; color:black'>Number of Superclasses: 0</span>"
      ],
      "text/plain": [
       "<IPython.core.display.HTML object>"
      ]
     },
     "metadata": {},
     "output_type": "display_data"
    },
    {
     "data": {
      "text/html": [
       "<span style='font-weight: Light;margin-top=80px;margin-bottom=80px; font-size:15px; color:black'>Number of Subclasses: 7</span>"
      ],
      "text/plain": [
       "<IPython.core.display.HTML object>"
      ]
     },
     "metadata": {},
     "output_type": "display_data"
    },
    {
     "data": {
      "text/html": [
       "<span style='font-weight: bold;margin-top=80px;margin-bottom=80px; font-size:18px; color:black'>Examples for essential medicine Class</span>"
      ],
      "text/plain": [
       "<IPython.core.display.HTML object>"
      ]
     },
     "metadata": {},
     "output_type": "display_data"
    },
    {
     "data": {
      "text/html": [
       "<table border=\"1\" class=\"dataframe\">\n",
       "  <thead>\n",
       "    <tr style=\"text-align: right;\">\n",
       "      <th>Label_</th>\n",
       "      <th>Pagerank</th>\n",
       "      <th>Link</th>\n",
       "    </tr>\n",
       "  </thead>\n",
       "  <tbody>\n",
       "    <tr>\n",
       "      <td>Peginterferon alfa-2a</td>\n",
       "      <td>0.000001</td>\n",
       "      <td>https://www.wikidata.org/wiki/Q420056</td>\n",
       "    </tr>\n",
       "    <tr>\n",
       "      <td>erythromycin</td>\n",
       "      <td>0.000010</td>\n",
       "      <td>https://www.wikidata.org/wiki/Q213511</td>\n",
       "    </tr>\n",
       "    <tr>\n",
       "      <td>Imipenem/cilastatin</td>\n",
       "      <td>0.000001</td>\n",
       "      <td>https://www.wikidata.org/wiki/Q6004128</td>\n",
       "    </tr>\n",
       "  </tbody>\n",
       "</table>"
      ],
      "text/plain": [
       "<IPython.core.display.HTML object>"
      ]
     },
     "metadata": {},
     "output_type": "display_data"
    },
    {
     "data": {
      "text/html": [
       "<span style='font-weight: bold;margin-top=80px;margin-bottom=80px; font-size:18px; color:black'>Distribution of outgoing Properties from instances of essential medicine Class</span>"
      ],
      "text/plain": [
       "<IPython.core.display.HTML object>"
      ]
     },
     "metadata": {},
     "output_type": "display_data"
    },
    {
     "data": {
      "text/html": [
       "<table border=\"1\" class=\"dataframe\">\n",
       "  <thead>\n",
       "    <tr style=\"text-align: right;\">\n",
       "      <th>Property Name</th>\n",
       "      <th>Instances</th>\n",
       "      <th>% Instances</th>\n",
       "    </tr>\n",
       "  </thead>\n",
       "  <tbody>\n",
       "    <tr>\n",
       "      <td>P31</td>\n",
       "      <td>308</td>\n",
       "      <td>100.00</td>\n",
       "    </tr>\n",
       "    <tr>\n",
       "      <td>CAS Registry Number</td>\n",
       "      <td>306</td>\n",
       "      <td>99.35</td>\n",
       "    </tr>\n",
       "    <tr>\n",
       "      <td>UNII</td>\n",
       "      <td>300</td>\n",
       "      <td>97.40</td>\n",
       "    </tr>\n",
       "    <tr>\n",
       "      <td>Microsoft Academic ID</td>\n",
       "      <td>297</td>\n",
       "      <td>96.43</td>\n",
       "    </tr>\n",
       "    <tr>\n",
       "      <td>ChEMBL ID</td>\n",
       "      <td>297</td>\n",
       "      <td>96.43</td>\n",
       "    </tr>\n",
       "    <tr>\n",
       "      <td>chemical formula</td>\n",
       "      <td>295</td>\n",
       "      <td>95.78</td>\n",
       "    </tr>\n",
       "    <tr>\n",
       "      <td>ChemSpider ID</td>\n",
       "      <td>292</td>\n",
       "      <td>94.81</td>\n",
       "    </tr>\n",
       "    <tr>\n",
       "      <td>InChIKey</td>\n",
       "      <td>292</td>\n",
       "      <td>94.81</td>\n",
       "    </tr>\n",
       "    <tr>\n",
       "      <td>PubChem CID</td>\n",
       "      <td>292</td>\n",
       "      <td>94.81</td>\n",
       "    </tr>\n",
       "    <tr>\n",
       "      <td>DSSTox substance ID</td>\n",
       "      <td>289</td>\n",
       "      <td>93.83</td>\n",
       "    </tr>\n",
       "  </tbody>\n",
       "</table>"
      ],
      "text/plain": [
       "<IPython.core.display.HTML object>"
      ]
     },
     "metadata": {},
     "output_type": "display_data"
    },
    {
     "data": {
      "text/html": [
       "<span style='font-weight: bold;margin-top=80px;margin-bottom=80px; font-size:18px; color:black'>Distribution of incoming Properties to instances of essential medicine Class</span>"
      ],
      "text/plain": [
       "<IPython.core.display.HTML object>"
      ]
     },
     "metadata": {},
     "output_type": "display_data"
    },
    {
     "data": {
      "text/html": [
       "<table border=\"1\" class=\"dataframe\">\n",
       "  <thead>\n",
       "    <tr style=\"text-align: right;\">\n",
       "      <th>Property Name</th>\n",
       "      <th>Instances</th>\n",
       "    </tr>\n",
       "  </thead>\n",
       "  <tbody>\n",
       "    <tr>\n",
       "      <td>significant drug interaction</td>\n",
       "      <td>36</td>\n",
       "    </tr>\n",
       "    <tr>\n",
       "      <td>different from</td>\n",
       "      <td>13</td>\n",
       "    </tr>\n",
       "    <tr>\n",
       "      <td>has part</td>\n",
       "      <td>12</td>\n",
       "    </tr>\n",
       "    <tr>\n",
       "      <td>stereoisomer of</td>\n",
       "      <td>5</td>\n",
       "    </tr>\n",
       "    <tr>\n",
       "      <td>is a hydrated form of</td>\n",
       "      <td>4</td>\n",
       "    </tr>\n",
       "    <tr>\n",
       "      <td>P31</td>\n",
       "      <td>2</td>\n",
       "    </tr>\n",
       "    <tr>\n",
       "      <td>P279</td>\n",
       "      <td>2</td>\n",
       "    </tr>\n",
       "    <tr>\n",
       "      <td>P2868</td>\n",
       "      <td>1</td>\n",
       "    </tr>\n",
       "    <tr>\n",
       "      <td>active ingredient in</td>\n",
       "      <td>1</td>\n",
       "    </tr>\n",
       "  </tbody>\n",
       "</table>"
      ],
      "text/plain": [
       "<IPython.core.display.HTML object>"
      ]
     },
     "metadata": {},
     "output_type": "display_data"
    },
    {
     "data": {
      "text/html": [
       "<span style='font-weight: bold;margin-top=80px;margin-bottom=80px; font-size:25px; color:black'>------------------------------------------------------------------------------------------</span>"
      ],
      "text/plain": [
       "<IPython.core.display.HTML object>"
      ]
     },
     "metadata": {},
     "output_type": "display_data"
    },
    {
     "data": {
      "text/html": [
       "<span style='font-weight: bold;margin-top=80px;margin-bottom=80px; font-size:25px; color:blue'>Class: Heterocyclic compound</span>"
      ],
      "text/plain": [
       "<IPython.core.display.HTML object>"
      ]
     },
     "metadata": {},
     "output_type": "display_data"
    },
    {
     "data": {
      "text/html": [
       "<span style='font-weight: Light;margin-top=80px;margin-bottom=80px; font-size:15px; color:black'>Description: Cyclic chemical compound having as ring members atoms of at least two different elements</span>"
      ],
      "text/plain": [
       "<IPython.core.display.HTML object>"
      ]
     },
     "metadata": {},
     "output_type": "display_data"
    },
    {
     "data": {
      "text/html": [
       "<span style='font-weight: Light;margin-top=80px;margin-bottom=80px; font-size:15px; color:black'>Aliases: Heterocycle, heterocyclic compounds, ring structure, heterocycle, heterocyclic compounds, ring structure</span>"
      ],
      "text/plain": [
       "<IPython.core.display.HTML object>"
      ]
     },
     "metadata": {},
     "output_type": "display_data"
    },
    {
     "data": {
      "text/html": [
       "<span style='font-weight: Light;margin-top=80px;margin-bottom=80px; font-size:15px; color:black'>Direct Superclasses: </span>"
      ],
      "text/plain": [
       "<IPython.core.display.HTML object>"
      ]
     },
     "metadata": {},
     "output_type": "display_data"
    },
    {
     "data": {
      "text/html": [
       "<span style='font-weight: Light;margin-top=80px;margin-bottom=80px; font-size:15px; color:black'>Direct Subclasses: </span>"
      ],
      "text/plain": [
       "<IPython.core.display.HTML object>"
      ]
     },
     "metadata": {},
     "output_type": "display_data"
    },
    {
     "data": {
      "text/html": [
       "<span style='font-weight: Light;margin-top=80px;margin-bottom=80px; font-size:15px; color:black'>Number of Instances: 286</span>"
      ],
      "text/plain": [
       "<IPython.core.display.HTML object>"
      ]
     },
     "metadata": {},
     "output_type": "display_data"
    },
    {
     "data": {
      "text/html": [
       "<span style='font-weight: Light;margin-top=80px;margin-bottom=80px; font-size:15px; color:black'>Number of Superclasses: 0</span>"
      ],
      "text/plain": [
       "<IPython.core.display.HTML object>"
      ]
     },
     "metadata": {},
     "output_type": "display_data"
    },
    {
     "data": {
      "text/html": [
       "<span style='font-weight: Light;margin-top=80px;margin-bottom=80px; font-size:15px; color:black'>Number of Subclasses: 0</span>"
      ],
      "text/plain": [
       "<IPython.core.display.HTML object>"
      ]
     },
     "metadata": {},
     "output_type": "display_data"
    },
    {
     "data": {
      "text/html": [
       "<span style='font-weight: bold;margin-top=80px;margin-bottom=80px; font-size:18px; color:black'>Examples for heterocyclic compound Class</span>"
      ],
      "text/plain": [
       "<IPython.core.display.HTML object>"
      ]
     },
     "metadata": {},
     "output_type": "display_data"
    },
    {
     "data": {
      "text/html": [
       "<table border=\"1\" class=\"dataframe\">\n",
       "  <thead>\n",
       "    <tr style=\"text-align: right;\">\n",
       "      <th>Label_</th>\n",
       "      <th>Pagerank</th>\n",
       "      <th>Link</th>\n",
       "    </tr>\n",
       "  </thead>\n",
       "  <tbody>\n",
       "    <tr>\n",
       "      <td>mafosfamide</td>\n",
       "      <td>0.000001</td>\n",
       "      <td>https://www.wikidata.org/wiki/Q10322996</td>\n",
       "    </tr>\n",
       "    <tr>\n",
       "      <td>metofenazate</td>\n",
       "      <td>0.000001</td>\n",
       "      <td>https://www.wikidata.org/wiki/Q4492673</td>\n",
       "    </tr>\n",
       "    <tr>\n",
       "      <td>4-hydroperoxycyclophosphamide</td>\n",
       "      <td>0.000001</td>\n",
       "      <td>https://www.wikidata.org/wiki/Q4637151</td>\n",
       "    </tr>\n",
       "  </tbody>\n",
       "</table>"
      ],
      "text/plain": [
       "<IPython.core.display.HTML object>"
      ]
     },
     "metadata": {},
     "output_type": "display_data"
    },
    {
     "data": {
      "text/html": [
       "<span style='font-weight: bold;margin-top=80px;margin-bottom=80px; font-size:18px; color:black'>Distribution of outgoing Properties from instances of heterocyclic compound Class</span>"
      ],
      "text/plain": [
       "<IPython.core.display.HTML object>"
      ]
     },
     "metadata": {},
     "output_type": "display_data"
    },
    {
     "data": {
      "text/html": [
       "<table border=\"1\" class=\"dataframe\">\n",
       "  <thead>\n",
       "    <tr style=\"text-align: right;\">\n",
       "      <th>Property Name</th>\n",
       "      <th>Instances</th>\n",
       "      <th>% Instances</th>\n",
       "    </tr>\n",
       "  </thead>\n",
       "  <tbody>\n",
       "    <tr>\n",
       "      <td>P31</td>\n",
       "      <td>282</td>\n",
       "      <td>100.00</td>\n",
       "    </tr>\n",
       "    <tr>\n",
       "      <td>InChIKey</td>\n",
       "      <td>274</td>\n",
       "      <td>97.16</td>\n",
       "    </tr>\n",
       "    <tr>\n",
       "      <td>InChI</td>\n",
       "      <td>272</td>\n",
       "      <td>96.45</td>\n",
       "    </tr>\n",
       "    <tr>\n",
       "      <td>PubChem CID</td>\n",
       "      <td>272</td>\n",
       "      <td>96.45</td>\n",
       "    </tr>\n",
       "    <tr>\n",
       "      <td>CAS Registry Number</td>\n",
       "      <td>272</td>\n",
       "      <td>96.45</td>\n",
       "    </tr>\n",
       "    <tr>\n",
       "      <td>chemical formula</td>\n",
       "      <td>272</td>\n",
       "      <td>96.45</td>\n",
       "    </tr>\n",
       "    <tr>\n",
       "      <td>ChemSpider ID</td>\n",
       "      <td>271</td>\n",
       "      <td>96.10</td>\n",
       "    </tr>\n",
       "    <tr>\n",
       "      <td>SMILES</td>\n",
       "      <td>270</td>\n",
       "      <td>95.74</td>\n",
       "    </tr>\n",
       "    <tr>\n",
       "      <td>mass</td>\n",
       "      <td>255</td>\n",
       "      <td>90.43</td>\n",
       "    </tr>\n",
       "    <tr>\n",
       "      <td>DSSTox substance ID</td>\n",
       "      <td>243</td>\n",
       "      <td>86.17</td>\n",
       "    </tr>\n",
       "  </tbody>\n",
       "</table>"
      ],
      "text/plain": [
       "<IPython.core.display.HTML object>"
      ]
     },
     "metadata": {},
     "output_type": "display_data"
    },
    {
     "data": {
      "text/html": [
       "<span style='font-weight: bold;margin-top=80px;margin-bottom=80px; font-size:18px; color:black'>Distribution of incoming Properties to instances of heterocyclic compound Class</span>"
      ],
      "text/plain": [
       "<IPython.core.display.HTML object>"
      ]
     },
     "metadata": {},
     "output_type": "display_data"
    },
    {
     "data": {
      "text/html": [
       "<table border=\"1\" class=\"dataframe\">\n",
       "  <thead>\n",
       "    <tr style=\"text-align: right;\">\n",
       "      <th>Property Name</th>\n",
       "      <th>Instances</th>\n",
       "    </tr>\n",
       "  </thead>\n",
       "  <tbody>\n",
       "    <tr>\n",
       "      <td>significant drug interaction</td>\n",
       "      <td>13</td>\n",
       "    </tr>\n",
       "    <tr>\n",
       "      <td>different from</td>\n",
       "      <td>4</td>\n",
       "    </tr>\n",
       "    <tr>\n",
       "      <td>has part</td>\n",
       "      <td>3</td>\n",
       "    </tr>\n",
       "    <tr>\n",
       "      <td>P279</td>\n",
       "      <td>2</td>\n",
       "    </tr>\n",
       "    <tr>\n",
       "      <td>is a hydrated form of</td>\n",
       "      <td>2</td>\n",
       "    </tr>\n",
       "  </tbody>\n",
       "</table>"
      ],
      "text/plain": [
       "<IPython.core.display.HTML object>"
      ]
     },
     "metadata": {},
     "output_type": "display_data"
    },
    {
     "data": {
      "text/html": [
       "<span style='font-weight: bold;margin-top=80px;margin-bottom=80px; font-size:25px; color:black'>------------------------------------------------------------------------------------------</span>"
      ],
      "text/plain": [
       "<IPython.core.display.HTML object>"
      ]
     },
     "metadata": {},
     "output_type": "display_data"
    },
    {
     "data": {
      "text/html": [
       "<span style='font-weight: bold;margin-top=80px;margin-bottom=80px; font-size:25px; color:blue'>Class: Monoclonal antibody</span>"
      ],
      "text/plain": [
       "<IPython.core.display.HTML object>"
      ]
     },
     "metadata": {},
     "output_type": "display_data"
    },
    {
     "data": {
      "text/html": [
       "<span style='font-weight: Light;margin-top=80px;margin-bottom=80px; font-size:15px; color:black'>Description: Monospecific antibody that is made by identical immune cells that are all clones of a unique parent cell</span>"
      ],
      "text/plain": [
       "<IPython.core.display.HTML object>"
      ]
     },
     "metadata": {},
     "output_type": "display_data"
    },
    {
     "data": {
      "text/html": [
       "<span style='font-weight: Light;margin-top=80px;margin-bottom=80px; font-size:15px; color:black'>Aliases: Antibodies, monoclonal, monoclonal antibody, monoclonal antibodies, antibodies, monoclonal, monoclonal antibody, monoclonal antibodies</span>"
      ],
      "text/plain": [
       "<IPython.core.display.HTML object>"
      ]
     },
     "metadata": {},
     "output_type": "display_data"
    },
    {
     "data": {
      "text/html": [
       "<span style='font-weight: Light;margin-top=80px;margin-bottom=80px; font-size:15px; color:black'>Direct Superclasses: </span>"
      ],
      "text/plain": [
       "<IPython.core.display.HTML object>"
      ]
     },
     "metadata": {},
     "output_type": "display_data"
    },
    {
     "data": {
      "text/html": [
       "<span style='font-weight: Light;margin-top=80px;margin-bottom=80px; font-size:15px; color:black'>Direct Subclasses: Evolocumab, adalimumab, elotuzumab, trastuzumab, palivizumab, panitumumab, efalizumab, alirocumab</span>"
      ],
      "text/plain": [
       "<IPython.core.display.HTML object>"
      ]
     },
     "metadata": {},
     "output_type": "display_data"
    },
    {
     "data": {
      "text/html": [
       "<span style='font-weight: Light;margin-top=80px;margin-bottom=80px; font-size:15px; color:black'>Number of Instances: 273</span>"
      ],
      "text/plain": [
       "<IPython.core.display.HTML object>"
      ]
     },
     "metadata": {},
     "output_type": "display_data"
    },
    {
     "data": {
      "text/html": [
       "<span style='font-weight: Light;margin-top=80px;margin-bottom=80px; font-size:15px; color:black'>Number of Superclasses: 0</span>"
      ],
      "text/plain": [
       "<IPython.core.display.HTML object>"
      ]
     },
     "metadata": {},
     "output_type": "display_data"
    },
    {
     "data": {
      "text/html": [
       "<span style='font-weight: Light;margin-top=80px;margin-bottom=80px; font-size:15px; color:black'>Number of Subclasses: 8</span>"
      ],
      "text/plain": [
       "<IPython.core.display.HTML object>"
      ]
     },
     "metadata": {},
     "output_type": "display_data"
    },
    {
     "data": {
      "text/html": [
       "<span style='font-weight: bold;margin-top=80px;margin-bottom=80px; font-size:18px; color:black'>Examples for monoclonal antibody Class</span>"
      ],
      "text/plain": [
       "<IPython.core.display.HTML object>"
      ]
     },
     "metadata": {},
     "output_type": "display_data"
    },
    {
     "data": {
      "text/html": [
       "<table border=\"1\" class=\"dataframe\">\n",
       "  <thead>\n",
       "    <tr style=\"text-align: right;\">\n",
       "      <th>Label_</th>\n",
       "      <th>Pagerank</th>\n",
       "      <th>Link</th>\n",
       "    </tr>\n",
       "  </thead>\n",
       "  <tbody>\n",
       "    <tr>\n",
       "      <td>Canakinumab</td>\n",
       "      <td>0.000001</td>\n",
       "      <td>https://www.wikidata.org/wiki/Q3655009</td>\n",
       "    </tr>\n",
       "    <tr>\n",
       "      <td>Secukinumab</td>\n",
       "      <td>0.000001</td>\n",
       "      <td>https://www.wikidata.org/wiki/Q7444755</td>\n",
       "    </tr>\n",
       "    <tr>\n",
       "      <td>Ofatumumab</td>\n",
       "      <td>0.000001</td>\n",
       "      <td>https://www.wikidata.org/wiki/Q410656</td>\n",
       "    </tr>\n",
       "  </tbody>\n",
       "</table>"
      ],
      "text/plain": [
       "<IPython.core.display.HTML object>"
      ]
     },
     "metadata": {},
     "output_type": "display_data"
    },
    {
     "data": {
      "text/html": [
       "<span style='font-weight: bold;margin-top=80px;margin-bottom=80px; font-size:18px; color:black'>Distribution of outgoing Properties from instances of monoclonal antibody Class</span>"
      ],
      "text/plain": [
       "<IPython.core.display.HTML object>"
      ]
     },
     "metadata": {},
     "output_type": "display_data"
    },
    {
     "data": {
      "text/html": [
       "<table border=\"1\" class=\"dataframe\">\n",
       "  <thead>\n",
       "    <tr style=\"text-align: right;\">\n",
       "      <th>Property Name</th>\n",
       "      <th>Instances</th>\n",
       "      <th>% Instances</th>\n",
       "    </tr>\n",
       "  </thead>\n",
       "  <tbody>\n",
       "    <tr>\n",
       "      <td>P31</td>\n",
       "      <td>273</td>\n",
       "      <td>100.00</td>\n",
       "    </tr>\n",
       "    <tr>\n",
       "      <td>CAS Registry Number</td>\n",
       "      <td>269</td>\n",
       "      <td>98.53</td>\n",
       "    </tr>\n",
       "    <tr>\n",
       "      <td>UNII</td>\n",
       "      <td>260</td>\n",
       "      <td>95.24</td>\n",
       "    </tr>\n",
       "    <tr>\n",
       "      <td>DrugBank ID</td>\n",
       "      <td>173</td>\n",
       "      <td>63.37</td>\n",
       "    </tr>\n",
       "    <tr>\n",
       "      <td>Microsoft Academic ID</td>\n",
       "      <td>161</td>\n",
       "      <td>58.97</td>\n",
       "    </tr>\n",
       "    <tr>\n",
       "      <td>World Health Organisation International Nonproprietary Name</td>\n",
       "      <td>95</td>\n",
       "      <td>34.80</td>\n",
       "    </tr>\n",
       "    <tr>\n",
       "      <td>ChEMBL ID</td>\n",
       "      <td>92</td>\n",
       "      <td>33.70</td>\n",
       "    </tr>\n",
       "    <tr>\n",
       "      <td>ATC code</td>\n",
       "      <td>81</td>\n",
       "      <td>29.67</td>\n",
       "    </tr>\n",
       "    <tr>\n",
       "      <td>KEGG ID</td>\n",
       "      <td>69</td>\n",
       "      <td>25.27</td>\n",
       "    </tr>\n",
       "    <tr>\n",
       "      <td>Guide to Pharmacology Ligand ID</td>\n",
       "      <td>69</td>\n",
       "      <td>25.27</td>\n",
       "    </tr>\n",
       "  </tbody>\n",
       "</table>"
      ],
      "text/plain": [
       "<IPython.core.display.HTML object>"
      ]
     },
     "metadata": {},
     "output_type": "display_data"
    },
    {
     "data": {
      "text/html": [
       "<span style='font-weight: bold;margin-top=80px;margin-bottom=80px; font-size:18px; color:black'>Distribution of incoming Properties to instances of monoclonal antibody Class</span>"
      ],
      "text/plain": [
       "<IPython.core.display.HTML object>"
      ]
     },
     "metadata": {},
     "output_type": "display_data"
    },
    {
     "data": {
      "text/html": [
       "<table border=\"1\" class=\"dataframe\">\n",
       "  <thead>\n",
       "    <tr style=\"text-align: right;\">\n",
       "      <th>Property Name</th>\n",
       "      <th>Instances</th>\n",
       "    </tr>\n",
       "  </thead>\n",
       "  <tbody>\n",
       "    <tr>\n",
       "      <td>different from</td>\n",
       "      <td>1</td>\n",
       "    </tr>\n",
       "  </tbody>\n",
       "</table>"
      ],
      "text/plain": [
       "<IPython.core.display.HTML object>"
      ]
     },
     "metadata": {},
     "output_type": "display_data"
    },
    {
     "data": {
      "text/html": [
       "<span style='font-weight: bold;margin-top=80px;margin-bottom=80px; font-size:25px; color:black'>------------------------------------------------------------------------------------------</span>"
      ],
      "text/plain": [
       "<IPython.core.display.HTML object>"
      ]
     },
     "metadata": {},
     "output_type": "display_data"
    }
   ],
   "source": [
    "printmd('Class Overview','blue')\n",
    "try:    \n",
    "    # Load the list of classes generated in the  9th cell\n",
    "    df = pd.read_csv(os.path.join(os.getenv('OVERVIEW_FOLDER'),os.getenv('class_summary')),delimiter='\\t')\n",
    "    \n",
    "    # Load the Descriptions of the nodes of the subgraph in a Dataframe\n",
    "    df_description = pd.read_csv(os.path.join(os.getenv('WIKIDATA_PARTS'),os.getenv('description')),delimiter='\\t')\n",
    "    \n",
    "    # Load the Aliases of the nodes  of the subgraph in a Dataframe\n",
    "    df_alias = pd.read_csv(os.path.join(os.getenv('WIKIDATA_PARTS'),os.getenv('alias')),delimiter='\\t')\n",
    "    \n",
    "    # Load the Wikibase item of the subgraph in a Dataframe\n",
    "    df_wikibase_item = pd.read_csv(os.path.join(os.getenv('WIKIDATA_PARTS'),os.getenv('wikibase_item')),delimiter='\\t')\n",
    "    \n",
    "    # Load the Labels of the nodes  of the subgraph in a Dataframe\n",
    "    df_label = pd.read_csv(os.path.join(os.getenv('WIKIDATA_PARTS'),os.getenv('label')),delimiter='\\t')\n",
    "\n",
    "    #query to find the example instances of a class\n",
    "    cmd = \"$kgtk query -i $WIKIDATA_PARTS/$wikibase_item  -i $WIKIDATA_PARTS/$label -i $WIKIDATA_PARTS/$statistics  --graph-cache $STORE \\\n",
    "    -o $CLASS_FOLDER/__output_file \\\n",
    "    --match 'item: (n1)-[l{label:llab}]->(n2:__class), label: (n1)-[:label]->(label), statistics:(n1)-[:vertex_pagerank]->(pagerank)' \\\n",
    "    --return ' distinct n1 as Link, kgtk_lqstring_text(label) as `Label_`, pagerank as Pagerank' \\\n",
    "    --where 'label.kgtk_lqstring_lang_suffix = \\\"en\\\" AND llab in [\\\"P31\\\"]' \\\n",
    "    --order-by 'pagerank' \"\n",
    "    \n",
    "    # Do for all the classes generated in the 9th cell\n",
    "    for index, ele in df.iterrows():\n",
    "        \n",
    "        # Ignore the Other Classes part of the statistics\n",
    "        if index==len(df)-1:\n",
    "            continue;\n",
    "        # Parse the Qnode from the  Link\n",
    "        Current_Qnode = ele[\"Link\"].split(\"/\")[-1]\n",
    "        \n",
    "#         # Don't find the examples for the base class\n",
    "#         if Current_Qnode ==  subset_name:\n",
    "#             continue\n",
    "            \n",
    "        Number_of_instances_of_current_class = ele[\"Number of Instances\"]\n",
    "        \n",
    "        # Heading\n",
    "        printmd('Class: '+ ele[\"Class_Label\"].capitalize(),'blue')\n",
    "        \n",
    "        # Find the list of all the description in English language\n",
    "        description_array = [kgtk_lqstring_text(ele) for ele in df_description[df_description[\"node1\"]==Current_Qnode]['node2'].values.tolist() if kgtk_lqstring_lang(ele) =='en']\n",
    "        description_current = \"\".join(description_array[0] if len(description_array)>=1 else \"\")\n",
    "        \n",
    "        # Find the list of all the aliases in English language\n",
    "        aliases_current = \", \".join([kgtk_lqstring_text(ele) for ele in df_alias[df_alias[\"node1\"]==Current_Qnode]['node2'].values.tolist() if kgtk_lqstring_lang(ele) =='en'])\n",
    "        \n",
    "        # Find the list of all the subclasses in English language\n",
    "        subclass_current = direct_subclasses(Current_Qnode,df_wikibase_item,df_label)\n",
    "        \n",
    "        # Find the list of all the super classes in English language\n",
    "        direct_super_class_current = direct_superclasses(Current_Qnode,df_wikibase_item,df_label)\n",
    "        \n",
    "        # Print statments\n",
    "        printmd('Description: '+ description_current.capitalize(),size=15, fontWeight='Light')\n",
    "        printmd('Aliases: '+ aliases_current.capitalize(),size=15,fontWeight='Light')\n",
    "        printmd('Direct Superclasses: '+ \", \".join(direct_super_class_current[:10]).capitalize(),size=15,fontWeight='Light')\n",
    "        printmd('Direct Subclasses: '+ \", \".join(subclass_current[:10]).capitalize(),size=15,fontWeight='Light')\n",
    "        printmd(\"Number of Instances: \" +str(Number_of_instances_of_current_class),size=15,fontWeight='Light')\n",
    "        printmd(\"Number of Superclasses: \" +str(len(direct_super_class_current)),size=15,fontWeight='Light')\n",
    "        printmd(\"Number of Subclasses: \" +str(len(subclass_current)),size=15,fontWeight='Light')\n",
    "        printmd(\"Examples for \" + ele[\"Class_Label\"] +\" Class\",'black',size=18)\n",
    "        \n",
    "        #Create a dataframe corresponding to the above generated statistics\n",
    "        class_overview = pd.DataFrame([[\"Description\",description_current.capitalize()],[\"Aliases\",aliases_current.capitalize()],[\"Subclass of\",\", \".join(subclass_current).capitalize()],[\"Number of Instances\",Number_of_instances_of_current_class],[\"Number of Subclass\",len(subclass_current)],[\"Number of Superclass\",len(direct_super_class_current)]],columns=[\"Stat\",\"Value\"])\n",
    "        \n",
    "        #Dynamically create the name of the output file where the example instances would be stored\n",
    "        output_file = \"Class_overview.\"+ re.sub(\"[^0-9a-zA-Z]+\", \"_\", ele[\"Class_Label\"])+\".examples.tsv\"\n",
    "        \n",
    "        output_file_prop = \"Class_overview.\"+  re.sub(\"[^0-9a-zA-Z]+\", \"_\", ele[\"Class_Label\"])+\".outgoing_properties.tsv\"\n",
    "        \n",
    "        output_file_prop_incoming = \"Class_overview.\"+ re.sub(\"[^0-9a-zA-Z]+\", \"_\", ele[\"Class_Label\"])+\".incoming_properties.tsv\"\n",
    "        \n",
    "        #Dynamically create the name of the output file where the overview would be stored\n",
    "        output_file_overview = \"Class_overview.\"+  re.sub(\"[^0-9a-zA-Z]+\", \"_\", ele[\"Class_Label\"])+\".overview.tsv\"\n",
    "        \n",
    "        # Save the overview to the output file\n",
    "        class_overview.to_csv(os.path.join(os.getenv('CLASS_FOLDER'),output_file_overview),sep='\\t')\n",
    "        \n",
    "        # Find the example instances of the class\n",
    "        run_command(cmd, {\"__output_file\": output_file,\"__class\": Current_Qnode})\n",
    "        \n",
    "        # Load the examples in a Dataframe\n",
    "        df_class_example = pd.read_csv(os.path.join(os.getenv('CLASS_FOLDER'),output_file),delimiter='\\t')\n",
    "        \n",
    "        # Change the order of the Columns\n",
    "        df_class_example =  df_class_example[[\"Label_\",\"Pagerank\",\"Link\"]]\n",
    "        df_class_example['Link'] = df_class_example['Link'].apply(generate_link)\n",
    "        df_class_example.to_csv(os.path.join(os.getenv('CLASS_FOLDER'),output_file),sep='\\t')\n",
    "\n",
    "        \n",
    "        df_prop_all = find_properties(df_class_example)\n",
    "        df_prop_all.to_csv(os.path.join(os.getenv('CLASS_FOLDER'),output_file_prop),sep='\\t')\n",
    "\n",
    "        \n",
    "        display(HTML(df_class_example[:3].to_html(index=False)))\n",
    "        \n",
    "        printmd(\"Distribution of outgoing Properties from instances of \" + ele[\"Class_Label\"] +\" Class\",'black',size=18)\n",
    "        display(HTML(df_prop_all[:10].to_html(index=False)))\n",
    "        \n",
    "        df_prop_incoming = find_properties_incoming(df_class_example)\n",
    "        df_prop_incoming.to_csv(os.path.join(os.getenv('CLASS_FOLDER'),output_file_prop_incoming),sep='\\t')\n",
    "        \n",
    "        printmd(\"Distribution of incoming Properties to instances of \" + ele[\"Class_Label\"] +\" Class\",'black',size=18)\n",
    "        display(HTML(df_prop_incoming[:10].to_html(index=False)))\n",
    "\n",
    "        printmd(\"------------------------------------------------------------------------------------------\")\n",
    "        \n",
    "        \n",
    "except Exception as e:\n",
    "    display(e)"
   ]
  },
  {
   "cell_type": "code",
   "execution_count": 20,
   "metadata": {
    "execution": {
     "iopub.execute_input": "2020-11-17T21:14:27.402814Z",
     "iopub.status.busy": "2020-11-17T21:14:27.402065Z",
     "iopub.status.idle": "2020-11-17T21:14:27.580009Z",
     "shell.execute_reply": "2020-11-17T21:14:27.580500Z"
    },
    "papermill": {
     "duration": 0.369332,
     "end_time": "2020-11-17T21:14:27.580712",
     "exception": false,
     "start_time": "2020-11-17T21:14:27.211380",
     "status": "completed"
    },
    "tags": []
   },
   "outputs": [
    {
     "data": {
      "text/html": [
       "<span style='font-weight: bold;margin-top=80px;margin-bottom=80px; font-size:25px; color:blue'>Property Overview</span>"
      ],
      "text/plain": [
       "<IPython.core.display.HTML object>"
      ]
     },
     "metadata": {},
     "output_type": "display_data"
    },
    {
     "data": {
      "text/html": [
       "<span style='font-weight: bold;margin-top=80px;margin-bottom=80px; font-size:18px; color:black'>Top Ten Properties are </span>"
      ],
      "text/plain": [
       "<IPython.core.display.HTML object>"
      ]
     },
     "metadata": {},
     "output_type": "display_data"
    },
    {
     "data": {
      "text/html": [
       "<table border=\"1\" class=\"dataframe\">\n",
       "  <thead>\n",
       "    <tr style=\"text-align: right;\">\n",
       "      <th>Property_Label</th>\n",
       "      <th>Number_of_Statements</th>\n",
       "      <th>Link</th>\n",
       "      <th>Property Type</th>\n",
       "    </tr>\n",
       "  </thead>\n",
       "  <tbody>\n",
       "    <tr>\n",
       "      <td>InChIKey</td>\n",
       "      <td>997389</td>\n",
       "      <td>https://www.wikidata.org/wiki/Property:P235</td>\n",
       "      <td>External Id</td>\n",
       "    </tr>\n",
       "    <tr>\n",
       "      <td>InChI</td>\n",
       "      <td>990406</td>\n",
       "      <td>https://www.wikidata.org/wiki/Property:P234</td>\n",
       "      <td>External Id</td>\n",
       "    </tr>\n",
       "    <tr>\n",
       "      <td>CAS Registry Number</td>\n",
       "      <td>927660</td>\n",
       "      <td>https://www.wikidata.org/wiki/Property:P231</td>\n",
       "      <td>External Id</td>\n",
       "    </tr>\n",
       "    <tr>\n",
       "      <td>DSSTox substance ID</td>\n",
       "      <td>848585</td>\n",
       "      <td>https://www.wikidata.org/wiki/Property:P3117</td>\n",
       "      <td>External Id</td>\n",
       "    </tr>\n",
       "    <tr>\n",
       "      <td>chemical formula</td>\n",
       "      <td>344854</td>\n",
       "      <td>https://www.wikidata.org/wiki/Property:P274</td>\n",
       "      <td>String</td>\n",
       "    </tr>\n",
       "    <tr>\n",
       "      <td>PubChem CID</td>\n",
       "      <td>250629</td>\n",
       "      <td>https://www.wikidata.org/wiki/Property:P662</td>\n",
       "      <td>External Id</td>\n",
       "    </tr>\n",
       "    <tr>\n",
       "      <td>canonical SMILES</td>\n",
       "      <td>199853</td>\n",
       "      <td>https://www.wikidata.org/wiki/Property:P233</td>\n",
       "      <td>String</td>\n",
       "    </tr>\n",
       "    <tr>\n",
       "      <td>mass</td>\n",
       "      <td>146546</td>\n",
       "      <td>https://www.wikidata.org/wiki/Property:P2067</td>\n",
       "      <td>Qunatity</td>\n",
       "    </tr>\n",
       "    <tr>\n",
       "      <td>isomeric SMILES</td>\n",
       "      <td>141589</td>\n",
       "      <td>https://www.wikidata.org/wiki/Property:P2017</td>\n",
       "      <td>String</td>\n",
       "    </tr>\n",
       "    <tr>\n",
       "      <td>ChemSpider ID</td>\n",
       "      <td>125009</td>\n",
       "      <td>https://www.wikidata.org/wiki/Property:P661</td>\n",
       "      <td>External Id</td>\n",
       "    </tr>\n",
       "  </tbody>\n",
       "</table>"
      ],
      "text/plain": [
       "<IPython.core.display.HTML object>"
      ]
     },
     "metadata": {},
     "output_type": "display_data"
    }
   ],
   "source": [
    "try:    \n",
    "    printmd('Property Overview','blue')\n",
    "    \n",
    "    # List of all the datatypes for the property and their tile.\n",
    "    types = [\n",
    "            (\"property_summary_time\",\"Time\"),\n",
    "            (\"property_summary_wikibase_item\", \"Wikibase Item\"),\n",
    "            (\"property_summary_math\",\"Math\"),\n",
    "            (\"property_summary_wikibase_form\", \"Wikibase Form\"),\n",
    "            (\"property_summary_quantity\", \"Qunatity\"),\n",
    "            (\"property_summary_string\", \"String\"),\n",
    "            (\"property_summary_external_id\",\"External Id\"),\n",
    "            (\"property_summary_commonsMedia\",\"Common Media\"),\n",
    "            (\"property_summary_globe_coordinate\", \"Globe Coordinate\"),\n",
    "            (\"property_summary_monolingualtext\",\"Monolingual text\"),\n",
    "            (\"property_summary_musical_notation\", \"Musical Notation\"),\n",
    "            (\"property_summary_geo_shape\", \"Geo Shape\"),\n",
    "            (\"property_summary_url\",  \"URL\")\n",
    "        ]\n",
    "    \n",
    "    # Create a new Dataframe to store the result.\n",
    "    df_all_prop = pd.DataFrame([],columns=[\"Property_Label\",\"Number_of_Statements\",\"Link\"])\n",
    "    \n",
    "    # For all types of the properties\n",
    "    for type_, type_name in types:\n",
    "        \n",
    "        # Read the file generated above while calculating the statistics\n",
    "        df_temp = pd.read_csv(os.path.join(os.getenv('OVERVIEW_FOLDER'),os.getenv(type_)),delimiter='\\t')\n",
    "        \n",
    "        # Adding the column for the data type\n",
    "        df_temp[\"Property Type\"] = type_name\n",
    "        \n",
    "        # Concatenating the data frame\n",
    "        df_all_prop = pd.concat([df_all_prop,df_temp])\n",
    "        df_all_prop = df_all_prop.sort_values(\"Number_of_Statements\",ascending=False).reset_index()\n",
    "        del df_all_prop['index']\n",
    "        del df_all_prop[\"Unnamed: 0\"]\n",
    "    \n",
    "    # Removing the \"Other Properties row\" which was calculated earlier in the overview section\n",
    "    df_all_prop = df_all_prop[df_all_prop[\"Property_Label\"]!=\"Other Properties\"]\n",
    "    printmd(\"Top Ten Properties are \",'black',size=18)\n",
    "    display(HTML(df_all_prop[:10].to_html(index=False)))\n",
    "    df_all_prop.to_csv(os.path.join(os.getenv('PROPERTY_OVERVIEW'),\"Property_overview.top.tsv\"),sep='\\t')\n",
    "except Exception as e:\n",
    "    display(e)"
   ]
  },
  {
   "cell_type": "code",
   "execution_count": 21,
   "metadata": {
    "execution": {
     "iopub.execute_input": "2020-11-17T21:14:27.867557Z",
     "iopub.status.busy": "2020-11-17T21:14:27.866866Z",
     "iopub.status.idle": "2020-11-17T21:14:36.220828Z",
     "shell.execute_reply": "2020-11-17T21:14:36.221618Z"
    },
    "papermill": {
     "duration": 8.49911,
     "end_time": "2020-11-17T21:14:36.221975",
     "exception": false,
     "start_time": "2020-11-17T21:14:27.722865",
     "status": "completed"
    },
    "tags": []
   },
   "outputs": [
    {
     "data": {
      "text/html": [
       "<span style='font-weight: bold;margin-top=80px;margin-bottom=80px; font-size:25px; color:blue'>Property: Inchikey</span>"
      ],
      "text/plain": [
       "<IPython.core.display.HTML object>"
      ]
     },
     "metadata": {},
     "output_type": "display_data"
    },
    {
     "data": {
      "text/html": [
       "<span style='font-weight: Light;margin-top=80px;margin-bottom=80px; font-size:15px; color:black'>Description: </span>"
      ],
      "text/plain": [
       "<IPython.core.display.HTML object>"
      ]
     },
     "metadata": {},
     "output_type": "display_data"
    },
    {
     "data": {
      "text/html": [
       "<span style='font-weight: Light;margin-top=80px;margin-bottom=80px; font-size:15px; color:black'>Aliases: </span>"
      ],
      "text/plain": [
       "<IPython.core.display.HTML object>"
      ]
     },
     "metadata": {},
     "output_type": "display_data"
    },
    {
     "data": {
      "text/html": [
       "<span style='font-weight: Light;margin-top=80px;margin-bottom=80px; font-size:15px; color:black'>Number of Statements:  997389</span>"
      ],
      "text/plain": [
       "<IPython.core.display.HTML object>"
      ]
     },
     "metadata": {},
     "output_type": "display_data"
    },
    {
     "data": {
      "text/html": [
       "<span style='font-weight: Light;margin-top=80px;margin-bottom=80px; font-size:15px; color:black'>Property Type: External Id</span>"
      ],
      "text/plain": [
       "<IPython.core.display.HTML object>"
      ]
     },
     "metadata": {},
     "output_type": "display_data"
    },
    {
     "data": {
      "text/html": [
       "<span style='font-weight: bold;margin-top=80px;margin-bottom=80px; font-size:25px; color:black'>------------------------------------------------------------------------------------------</span>"
      ],
      "text/plain": [
       "<IPython.core.display.HTML object>"
      ]
     },
     "metadata": {},
     "output_type": "display_data"
    },
    {
     "data": {
      "text/html": [
       "<span style='font-weight: bold;margin-top=80px;margin-bottom=80px; font-size:25px; color:blue'>Property: Inchi</span>"
      ],
      "text/plain": [
       "<IPython.core.display.HTML object>"
      ]
     },
     "metadata": {},
     "output_type": "display_data"
    },
    {
     "data": {
      "text/html": [
       "<span style='font-weight: Light;margin-top=80px;margin-bottom=80px; font-size:15px; color:black'>Description: </span>"
      ],
      "text/plain": [
       "<IPython.core.display.HTML object>"
      ]
     },
     "metadata": {},
     "output_type": "display_data"
    },
    {
     "data": {
      "text/html": [
       "<span style='font-weight: Light;margin-top=80px;margin-bottom=80px; font-size:15px; color:black'>Aliases: </span>"
      ],
      "text/plain": [
       "<IPython.core.display.HTML object>"
      ]
     },
     "metadata": {},
     "output_type": "display_data"
    },
    {
     "data": {
      "text/html": [
       "<span style='font-weight: Light;margin-top=80px;margin-bottom=80px; font-size:15px; color:black'>Number of Statements:  990406</span>"
      ],
      "text/plain": [
       "<IPython.core.display.HTML object>"
      ]
     },
     "metadata": {},
     "output_type": "display_data"
    },
    {
     "data": {
      "text/html": [
       "<span style='font-weight: Light;margin-top=80px;margin-bottom=80px; font-size:15px; color:black'>Property Type: External Id</span>"
      ],
      "text/plain": [
       "<IPython.core.display.HTML object>"
      ]
     },
     "metadata": {},
     "output_type": "display_data"
    },
    {
     "data": {
      "text/html": [
       "<span style='font-weight: bold;margin-top=80px;margin-bottom=80px; font-size:25px; color:black'>------------------------------------------------------------------------------------------</span>"
      ],
      "text/plain": [
       "<IPython.core.display.HTML object>"
      ]
     },
     "metadata": {},
     "output_type": "display_data"
    },
    {
     "data": {
      "text/html": [
       "<span style='font-weight: bold;margin-top=80px;margin-bottom=80px; font-size:25px; color:blue'>Property: Cas registry number</span>"
      ],
      "text/plain": [
       "<IPython.core.display.HTML object>"
      ]
     },
     "metadata": {},
     "output_type": "display_data"
    },
    {
     "data": {
      "text/html": [
       "<span style='font-weight: Light;margin-top=80px;margin-bottom=80px; font-size:15px; color:black'>Description: </span>"
      ],
      "text/plain": [
       "<IPython.core.display.HTML object>"
      ]
     },
     "metadata": {},
     "output_type": "display_data"
    },
    {
     "data": {
      "text/html": [
       "<span style='font-weight: Light;margin-top=80px;margin-bottom=80px; font-size:15px; color:black'>Aliases: </span>"
      ],
      "text/plain": [
       "<IPython.core.display.HTML object>"
      ]
     },
     "metadata": {},
     "output_type": "display_data"
    },
    {
     "data": {
      "text/html": [
       "<span style='font-weight: Light;margin-top=80px;margin-bottom=80px; font-size:15px; color:black'>Number of Statements:  927660</span>"
      ],
      "text/plain": [
       "<IPython.core.display.HTML object>"
      ]
     },
     "metadata": {},
     "output_type": "display_data"
    },
    {
     "data": {
      "text/html": [
       "<span style='font-weight: Light;margin-top=80px;margin-bottom=80px; font-size:15px; color:black'>Property Type: External Id</span>"
      ],
      "text/plain": [
       "<IPython.core.display.HTML object>"
      ]
     },
     "metadata": {},
     "output_type": "display_data"
    },
    {
     "data": {
      "text/html": [
       "<span style='font-weight: bold;margin-top=80px;margin-bottom=80px; font-size:25px; color:black'>------------------------------------------------------------------------------------------</span>"
      ],
      "text/plain": [
       "<IPython.core.display.HTML object>"
      ]
     },
     "metadata": {},
     "output_type": "display_data"
    },
    {
     "data": {
      "text/html": [
       "<span style='font-weight: bold;margin-top=80px;margin-bottom=80px; font-size:25px; color:blue'>Property: Dsstox substance id</span>"
      ],
      "text/plain": [
       "<IPython.core.display.HTML object>"
      ]
     },
     "metadata": {},
     "output_type": "display_data"
    },
    {
     "data": {
      "text/html": [
       "<span style='font-weight: Light;margin-top=80px;margin-bottom=80px; font-size:15px; color:black'>Description: </span>"
      ],
      "text/plain": [
       "<IPython.core.display.HTML object>"
      ]
     },
     "metadata": {},
     "output_type": "display_data"
    },
    {
     "data": {
      "text/html": [
       "<span style='font-weight: Light;margin-top=80px;margin-bottom=80px; font-size:15px; color:black'>Aliases: </span>"
      ],
      "text/plain": [
       "<IPython.core.display.HTML object>"
      ]
     },
     "metadata": {},
     "output_type": "display_data"
    },
    {
     "data": {
      "text/html": [
       "<span style='font-weight: Light;margin-top=80px;margin-bottom=80px; font-size:15px; color:black'>Number of Statements:  848585</span>"
      ],
      "text/plain": [
       "<IPython.core.display.HTML object>"
      ]
     },
     "metadata": {},
     "output_type": "display_data"
    },
    {
     "data": {
      "text/html": [
       "<span style='font-weight: Light;margin-top=80px;margin-bottom=80px; font-size:15px; color:black'>Property Type: External Id</span>"
      ],
      "text/plain": [
       "<IPython.core.display.HTML object>"
      ]
     },
     "metadata": {},
     "output_type": "display_data"
    },
    {
     "data": {
      "text/html": [
       "<span style='font-weight: bold;margin-top=80px;margin-bottom=80px; font-size:25px; color:black'>------------------------------------------------------------------------------------------</span>"
      ],
      "text/plain": [
       "<IPython.core.display.HTML object>"
      ]
     },
     "metadata": {},
     "output_type": "display_data"
    },
    {
     "data": {
      "text/html": [
       "<span style='font-weight: bold;margin-top=80px;margin-bottom=80px; font-size:25px; color:blue'>Property: Chemical formula</span>"
      ],
      "text/plain": [
       "<IPython.core.display.HTML object>"
      ]
     },
     "metadata": {},
     "output_type": "display_data"
    },
    {
     "data": {
      "text/html": [
       "<span style='font-weight: Light;margin-top=80px;margin-bottom=80px; font-size:15px; color:black'>Description: </span>"
      ],
      "text/plain": [
       "<IPython.core.display.HTML object>"
      ]
     },
     "metadata": {},
     "output_type": "display_data"
    },
    {
     "data": {
      "text/html": [
       "<span style='font-weight: Light;margin-top=80px;margin-bottom=80px; font-size:15px; color:black'>Aliases: </span>"
      ],
      "text/plain": [
       "<IPython.core.display.HTML object>"
      ]
     },
     "metadata": {},
     "output_type": "display_data"
    },
    {
     "data": {
      "text/html": [
       "<span style='font-weight: Light;margin-top=80px;margin-bottom=80px; font-size:15px; color:black'>Number of Statements:  344854</span>"
      ],
      "text/plain": [
       "<IPython.core.display.HTML object>"
      ]
     },
     "metadata": {},
     "output_type": "display_data"
    },
    {
     "data": {
      "text/html": [
       "<span style='font-weight: Light;margin-top=80px;margin-bottom=80px; font-size:15px; color:black'>Property Type: String</span>"
      ],
      "text/plain": [
       "<IPython.core.display.HTML object>"
      ]
     },
     "metadata": {},
     "output_type": "display_data"
    },
    {
     "data": {
      "text/html": [
       "<span style='font-weight: bold;margin-top=80px;margin-bottom=80px; font-size:25px; color:black'>------------------------------------------------------------------------------------------</span>"
      ],
      "text/plain": [
       "<IPython.core.display.HTML object>"
      ]
     },
     "metadata": {},
     "output_type": "display_data"
    }
   ],
   "source": [
    "try:    \n",
    "    # Load the list of classes generated in the  9th cell\n",
    "    df = pd.read_csv(os.path.join(os.getenv('PROPERTY_OVERVIEW'),\"Property_overview.top.tsv\"),delimiter='\\t')\n",
    "    \n",
    "    # Load the Descriptions of the nodes of the subgraph in a Dataframe\n",
    "    df_description = pd.read_csv(os.path.join(os.getenv('WIKIDATA_PARTS'),os.getenv('description')),delimiter='\\t')\n",
    "    \n",
    "    # Load the Aliases of the nodes  of the subgraph in a Dataframe\n",
    "    df_alias = pd.read_csv(os.path.join(os.getenv('WIKIDATA_PARTS'),os.getenv('alias')),delimiter='\\t')\n",
    "\n",
    "    \n",
    "    # Load the Labels of the nodes  of the subgraph in a Dataframe\n",
    "    df_label = pd.read_csv(os.path.join(os.getenv('WIKIDATA_PARTS'),os.getenv('label')),delimiter='\\t')\n",
    "    \n",
    "    # Do for all the classes generated in the 9th cell\n",
    "    for index, ele in df.iterrows():\n",
    "        \n",
    "        if index>=5:\n",
    "            break;\n",
    "        \n",
    "        Current_Pnode = ele[\"Link\"].split(\"/\")[-1]\n",
    "            \n",
    "        Number_of_statements_of_current_property = ele[\"Number_of_Statements\"]\n",
    "        Property_type = ele[\"Property Type\"]\n",
    "        \n",
    "        # Heading\n",
    "        printmd('Property: '+ ele[\"Property_Label\"].capitalize(),'blue')\n",
    "        \n",
    "        # Find the list of all the description in English language\n",
    "        description_array = [kgtk_lqstring_text(ele) for ele in df_description[df_description[\"node1\"]==Current_Pnode]['node2'].values.tolist() if kgtk_lqstring_lang(ele) =='en']\n",
    "        description_current = \"\".join(description_array[0] if len(description_array)>=1 else \"\")\n",
    "        \n",
    "        # Find the list of all the aliases in English language\n",
    "        aliases_current = \", \".join([kgtk_lqstring_text(ele) for ele in df_alias[df_alias[\"node1\"]==Current_Pnode]['node2'].values.tolist() if kgtk_lqstring_lang(ele) =='en'])\n",
    "\n",
    "        \n",
    "        # Print statments\n",
    "        printmd('Description: '+ description_current.capitalize(),size=15, fontWeight='Light')\n",
    "        printmd('Aliases: '+ aliases_current.capitalize(),size=15,fontWeight='Light')\n",
    "        printmd(\"Number of Statements:  \" +str(Number_of_statements_of_current_property),size=15,fontWeight='Light')\n",
    "        printmd(\"Property Type: \" +str(Property_type),size=15,fontWeight='Light')\n",
    "        \n",
    "        #Create a dataframe corresponding to the above generated statistics\n",
    "        property_overview = pd.DataFrame([[\"Description\",description_current.capitalize()],[\"Aliases\",aliases_current.capitalize()],[\"Number of Statements: \",str(Number_of_statements_of_current_property)],[\"Property Type: \",str(Property_type)]],columns=[\"Stat\",\"Value\"])\n",
    "        \n",
    "        \n",
    "        #Dynamically create the name of the output file where the overview would be stored\n",
    "        output_file_overview =\"Property_overview.\"+ re.sub(\"[^0-9a-zA-Z]+\", \"_\", ele[\"Property_Label\"])+\".overview.tsv\" \n",
    "        \n",
    "        # Save the overview to the output file\n",
    "        property_overview.to_csv(os.path.join(os.getenv('PROPERTY_OVERVIEW'),output_file_overview),sep='\\t')\n",
    "        \n",
    "        printmd(\"------------------------------------------------------------------------------------------\")\n",
    "except Exception as e:\n",
    "    display(e)"
   ]
  },
  {
   "cell_type": "code",
   "execution_count": 22,
   "metadata": {
    "execution": {
     "iopub.execute_input": "2020-11-17T21:14:36.631862Z",
     "iopub.status.busy": "2020-11-17T21:14:36.617477Z",
     "iopub.status.idle": "2020-11-17T21:15:22.252586Z",
     "shell.execute_reply": "2020-11-17T21:15:22.253146Z"
    },
    "papermill": {
     "duration": 45.835313,
     "end_time": "2020-11-17T21:15:22.253313",
     "exception": false,
     "start_time": "2020-11-17T21:14:36.418000",
     "status": "completed"
    },
    "scrolled": false,
    "tags": []
   },
   "outputs": [
    {
     "name": "stdout",
     "output_type": "stream",
     "text": [
      "\n"
     ]
    },
    {
     "data": {
      "text/html": [
       "<span style='font-weight: bold;margin-top=80px;margin-bottom=80px; font-size:25px; color:blue'>Below is the distribution of units for mass in the subgraph</span>"
      ],
      "text/plain": [
       "<IPython.core.display.HTML object>"
      ]
     },
     "metadata": {},
     "output_type": "display_data"
    },
    {
     "data": {
      "text/html": [
       "<table border=\"1\" class=\"dataframe\">\n",
       "  <thead>\n",
       "    <tr style=\"text-align: right;\">\n",
       "      <th>Unit</th>\n",
       "      <th>Number_of_Statements</th>\n",
       "    </tr>\n",
       "  </thead>\n",
       "  <tbody>\n",
       "    <tr>\n",
       "      <td>Dalton</td>\n",
       "      <td>146073</td>\n",
       "    </tr>\n",
       "    <tr>\n",
       "      <td>Gram per mole</td>\n",
       "      <td>457</td>\n",
       "    </tr>\n",
       "    <tr>\n",
       "      <td>Kilodalton</td>\n",
       "      <td>1</td>\n",
       "    </tr>\n",
       "  </tbody>\n",
       "</table>"
      ],
      "text/plain": [
       "<IPython.core.display.HTML object>"
      ]
     },
     "metadata": {},
     "output_type": "display_data"
    },
    {
     "data": {
      "text/html": [
       "<span style='font-weight: bold;margin-top=80px;margin-bottom=80px; font-size:25px; color:blue'>Below is a histogram of distribution of values for unit: \"Dalton\" for mass in the subgraph (binned on an interval of 10 units)</span>"
      ],
      "text/plain": [
       "<IPython.core.display.HTML object>"
      ]
     },
     "metadata": {},
     "output_type": "display_data"
    },
    {
     "data": {
      "image/png": "[encoded data removed]",
      "text/plain": [
       "<Figure size 1008x432 with 1 Axes>"
      ]
     },
     "metadata": {
      "needs_background": "light"
     },
     "output_type": "display_data"
    },
    {
     "name": "stdout",
     "output_type": "stream",
     "text": [
      "\n"
     ]
    },
    {
     "data": {
      "text/html": [
       "<span style='font-weight: bold;margin-top=80px;margin-bottom=80px; font-size:25px; color:blue'>Below is the distribution of units for melting_point in the subgraph</span>"
      ],
      "text/plain": [
       "<IPython.core.display.HTML object>"
      ]
     },
     "metadata": {},
     "output_type": "display_data"
    },
    {
     "data": {
      "text/html": [
       "<table border=\"1\" class=\"dataframe\">\n",
       "  <thead>\n",
       "    <tr style=\"text-align: right;\">\n",
       "      <th>Unit</th>\n",
       "      <th>Number_of_Statements</th>\n",
       "    </tr>\n",
       "  </thead>\n",
       "  <tbody>\n",
       "    <tr>\n",
       "      <td>Degree celsius</td>\n",
       "      <td>8975</td>\n",
       "    </tr>\n",
       "    <tr>\n",
       "      <td>Degree fahrenheit</td>\n",
       "      <td>506</td>\n",
       "    </tr>\n",
       "    <tr>\n",
       "      <td>Kelvin</td>\n",
       "      <td>10</td>\n",
       "    </tr>\n",
       "    <tr>\n",
       "      <td>NaN</td>\n",
       "      <td>3</td>\n",
       "    </tr>\n",
       "  </tbody>\n",
       "</table>"
      ],
      "text/plain": [
       "<IPython.core.display.HTML object>"
      ]
     },
     "metadata": {},
     "output_type": "display_data"
    },
    {
     "data": {
      "text/html": [
       "<span style='font-weight: bold;margin-top=80px;margin-bottom=80px; font-size:25px; color:blue'>Below is a histogram of distribution of values for unit: \"Degree_celsius\" for melting_point in the subgraph (binned on an interval of 10 units)</span>"
      ],
      "text/plain": [
       "<IPython.core.display.HTML object>"
      ]
     },
     "metadata": {},
     "output_type": "display_data"
    },
    {
     "data": {
      "image/png": "[encoded data removed]",
      "text/plain": [
       "<Figure size 1008x432 with 1 Axes>"
      ]
     },
     "metadata": {
      "needs_background": "light"
     },
     "output_type": "display_data"
    },
    {
     "name": "stdout",
     "output_type": "stream",
     "text": [
      "\n"
     ]
    },
    {
     "data": {
      "text/html": [
       "<span style='font-weight: bold;margin-top=80px;margin-bottom=80px; font-size:25px; color:blue'>Below is the distribution of units for density in the subgraph</span>"
      ],
      "text/plain": [
       "<IPython.core.display.HTML object>"
      ]
     },
     "metadata": {},
     "output_type": "display_data"
    },
    {
     "data": {
      "text/html": [
       "<table border=\"1\" class=\"dataframe\">\n",
       "  <thead>\n",
       "    <tr style=\"text-align: right;\">\n",
       "      <th>Unit</th>\n",
       "      <th>Number_of_Statements</th>\n",
       "    </tr>\n",
       "  </thead>\n",
       "  <tbody>\n",
       "    <tr>\n",
       "      <td>Gram per cubic centimetre</td>\n",
       "      <td>1095</td>\n",
       "    </tr>\n",
       "    <tr>\n",
       "      <td>Kilogram per cubic metre</td>\n",
       "      <td>8</td>\n",
       "    </tr>\n",
       "    <tr>\n",
       "      <td>Gram per litre</td>\n",
       "      <td>7</td>\n",
       "    </tr>\n",
       "    <tr>\n",
       "      <td>Gram per cubic metre</td>\n",
       "      <td>3</td>\n",
       "    </tr>\n",
       "  </tbody>\n",
       "</table>"
      ],
      "text/plain": [
       "<IPython.core.display.HTML object>"
      ]
     },
     "metadata": {},
     "output_type": "display_data"
    },
    {
     "data": {
      "text/html": [
       "<span style='font-weight: bold;margin-top=80px;margin-bottom=80px; font-size:25px; color:blue'>Below is a histogram of distribution of values for unit: \"Gram_per_cubic_centimetre\" for density in the subgraph (binned on an interval of 10 units)</span>"
      ],
      "text/plain": [
       "<IPython.core.display.HTML object>"
      ]
     },
     "metadata": {},
     "output_type": "display_data"
    },
    {
     "data": {
      "image/png": "[encoded data removed]",
      "text/plain": [
       "<Figure size 1008x432 with 1 Axes>"
      ]
     },
     "metadata": {
      "needs_background": "light"
     },
     "output_type": "display_data"
    },
    {
     "name": "stdout",
     "output_type": "stream",
     "text": [
      "\n"
     ]
    },
    {
     "data": {
      "text/html": [
       "<span style='font-weight: bold;margin-top=80px;margin-bottom=80px; font-size:25px; color:blue'>Below is the distribution of units for defined_daily_dose in the subgraph</span>"
      ],
      "text/plain": [
       "<IPython.core.display.HTML object>"
      ]
     },
     "metadata": {},
     "output_type": "display_data"
    },
    {
     "data": {
      "text/html": [
       "<table border=\"1\" class=\"dataframe\">\n",
       "  <thead>\n",
       "    <tr style=\"text-align: right;\">\n",
       "      <th>Unit</th>\n",
       "      <th>Number_of_Statements</th>\n",
       "    </tr>\n",
       "  </thead>\n",
       "  <tbody>\n",
       "    <tr>\n",
       "      <td>Milligram</td>\n",
       "      <td>460</td>\n",
       "    </tr>\n",
       "    <tr>\n",
       "      <td>Gram</td>\n",
       "      <td>426</td>\n",
       "    </tr>\n",
       "    <tr>\n",
       "      <td>Microgram</td>\n",
       "      <td>18</td>\n",
       "    </tr>\n",
       "    <tr>\n",
       "      <td>Millilitre</td>\n",
       "      <td>4</td>\n",
       "    </tr>\n",
       "  </tbody>\n",
       "</table>"
      ],
      "text/plain": [
       "<IPython.core.display.HTML object>"
      ]
     },
     "metadata": {},
     "output_type": "display_data"
    },
    {
     "data": {
      "text/html": [
       "<span style='font-weight: bold;margin-top=80px;margin-bottom=80px; font-size:25px; color:blue'>Below is a histogram of distribution of values for unit: \"Milligram\" for defined_daily_dose in the subgraph (binned on an interval of 10 units)</span>"
      ],
      "text/plain": [
       "<IPython.core.display.HTML object>"
      ]
     },
     "metadata": {},
     "output_type": "display_data"
    },
    {
     "data": {
      "image/png": "[encoded data removed]",
      "text/plain": [
       "<Figure size 1008x432 with 1 Axes>"
      ]
     },
     "metadata": {
      "needs_background": "light"
     },
     "output_type": "display_data"
    },
    {
     "name": "stdout",
     "output_type": "stream",
     "text": [
      "\n"
     ]
    },
    {
     "data": {
      "text/html": [
       "<span style='font-weight: bold;margin-top=80px;margin-bottom=80px; font-size:25px; color:blue'>Below is the distribution of units for boiling_point in the subgraph</span>"
      ],
      "text/plain": [
       "<IPython.core.display.HTML object>"
      ]
     },
     "metadata": {},
     "output_type": "display_data"
    },
    {
     "data": {
      "text/html": [
       "<table border=\"1\" class=\"dataframe\">\n",
       "  <thead>\n",
       "    <tr style=\"text-align: right;\">\n",
       "      <th>Unit</th>\n",
       "      <th>Number_of_Statements</th>\n",
       "    </tr>\n",
       "  </thead>\n",
       "  <tbody>\n",
       "    <tr>\n",
       "      <td>Degree fahrenheit</td>\n",
       "      <td>414</td>\n",
       "    </tr>\n",
       "    <tr>\n",
       "      <td>Degree celsius</td>\n",
       "      <td>334</td>\n",
       "    </tr>\n",
       "    <tr>\n",
       "      <td>Kelvin</td>\n",
       "      <td>124</td>\n",
       "    </tr>\n",
       "  </tbody>\n",
       "</table>"
      ],
      "text/plain": [
       "<IPython.core.display.HTML object>"
      ]
     },
     "metadata": {},
     "output_type": "display_data"
    },
    {
     "data": {
      "text/html": [
       "<span style='font-weight: bold;margin-top=80px;margin-bottom=80px; font-size:25px; color:blue'>Below is a histogram of distribution of values for unit: \"Degree_fahrenheit\" for boiling_point in the subgraph (binned on an interval of 10 units)</span>"
      ],
      "text/plain": [
       "<IPython.core.display.HTML object>"
      ]
     },
     "metadata": {},
     "output_type": "display_data"
    },
    {
     "data": {
      "image/png": "[encoded data removed]",
      "text/plain": [
       "<Figure size 1008x432 with 1 Axes>"
      ]
     },
     "metadata": {
      "needs_background": "light"
     },
     "output_type": "display_data"
    },
    {
     "name": "stdout",
     "output_type": "stream",
     "text": [
      "\n"
     ]
    },
    {
     "data": {
      "text/html": [
       "<span style='font-weight: bold;margin-top=80px;margin-bottom=80px; font-size:25px; color:blue'>Below is the distribution of units for time_weighted_average_exposure_limit in the subgraph</span>"
      ],
      "text/plain": [
       "<IPython.core.display.HTML object>"
      ]
     },
     "metadata": {},
     "output_type": "display_data"
    },
    {
     "data": {
      "text/html": [
       "<table border=\"1\" class=\"dataframe\">\n",
       "  <thead>\n",
       "    <tr style=\"text-align: right;\">\n",
       "      <th>Unit</th>\n",
       "      <th>Number_of_Statements</th>\n",
       "    </tr>\n",
       "  </thead>\n",
       "  <tbody>\n",
       "    <tr>\n",
       "      <td>Milligram per cubic metre</td>\n",
       "      <td>648</td>\n",
       "    </tr>\n",
       "    <tr>\n",
       "      <td>Parts per million</td>\n",
       "      <td>67</td>\n",
       "    </tr>\n",
       "  </tbody>\n",
       "</table>"
      ],
      "text/plain": [
       "<IPython.core.display.HTML object>"
      ]
     },
     "metadata": {},
     "output_type": "display_data"
    },
    {
     "data": {
      "text/html": [
       "<span style='font-weight: bold;margin-top=80px;margin-bottom=80px; font-size:25px; color:blue'>Below is a histogram of distribution of values for unit: \"Milligram_per_cubic_metre\" for time_weighted_average_exposure_limit in the subgraph (binned on an interval of 10 units)</span>"
      ],
      "text/plain": [
       "<IPython.core.display.HTML object>"
      ]
     },
     "metadata": {},
     "output_type": "display_data"
    },
    {
     "data": {
      "image/png": "[encoded data removed]",
      "text/plain": [
       "<Figure size 1008x432 with 1 Axes>"
      ]
     },
     "metadata": {
      "needs_background": "light"
     },
     "output_type": "display_data"
    },
    {
     "name": "stdout",
     "output_type": "stream",
     "text": [
      "\n"
     ]
    },
    {
     "data": {
      "text/html": [
       "<span style='font-weight: bold;margin-top=80px;margin-bottom=80px; font-size:25px; color:blue'>Below is the distribution of units for vapor_pressure in the subgraph</span>"
      ],
      "text/plain": [
       "<IPython.core.display.HTML object>"
      ]
     },
     "metadata": {},
     "output_type": "display_data"
    },
    {
     "data": {
      "text/html": [
       "<table border=\"1\" class=\"dataframe\">\n",
       "  <thead>\n",
       "    <tr style=\"text-align: right;\">\n",
       "      <th>Unit</th>\n",
       "      <th>Number_of_Statements</th>\n",
       "    </tr>\n",
       "  </thead>\n",
       "  <tbody>\n",
       "    <tr>\n",
       "      <td>Millimetre of mercury</td>\n",
       "      <td>451</td>\n",
       "    </tr>\n",
       "    <tr>\n",
       "      <td>Standard atmosphere</td>\n",
       "      <td>57</td>\n",
       "    </tr>\n",
       "    <tr>\n",
       "      <td>Kilopascal</td>\n",
       "      <td>43</td>\n",
       "    </tr>\n",
       "    <tr>\n",
       "      <td>Hectopascal</td>\n",
       "      <td>31</td>\n",
       "    </tr>\n",
       "    <tr>\n",
       "      <td>Pascal</td>\n",
       "      <td>17</td>\n",
       "    </tr>\n",
       "    <tr>\n",
       "      <td>Bar</td>\n",
       "      <td>4</td>\n",
       "    </tr>\n",
       "    <tr>\n",
       "      <td>Q185648</td>\n",
       "      <td>2</td>\n",
       "    </tr>\n",
       "  </tbody>\n",
       "</table>"
      ],
      "text/plain": [
       "<IPython.core.display.HTML object>"
      ]
     },
     "metadata": {},
     "output_type": "display_data"
    },
    {
     "data": {
      "text/html": [
       "<span style='font-weight: bold;margin-top=80px;margin-bottom=80px; font-size:25px; color:blue'>Below is a histogram of distribution of values for unit: \"Millimetre_of_mercury\" for vapor_pressure in the subgraph (binned on an interval of 10 units)</span>"
      ],
      "text/plain": [
       "<IPython.core.display.HTML object>"
      ]
     },
     "metadata": {},
     "output_type": "display_data"
    },
    {
     "data": {
      "image/png": "[encoded data removed]",
      "text/plain": [
       "<Figure size 1008x432 with 1 Axes>"
      ]
     },
     "metadata": {
      "needs_background": "light"
     },
     "output_type": "display_data"
    },
    {
     "name": "stdout",
     "output_type": "stream",
     "text": [
      "\n"
     ]
    },
    {
     "data": {
      "text/html": [
       "<span style='font-weight: bold;margin-top=80px;margin-bottom=80px; font-size:25px; color:blue'>Below is the distribution of units for median_lethal_dose_LD50_ in the subgraph</span>"
      ],
      "text/plain": [
       "<IPython.core.display.HTML object>"
      ]
     },
     "metadata": {},
     "output_type": "display_data"
    },
    {
     "data": {
      "text/html": [
       "<table border=\"1\" class=\"dataframe\">\n",
       "  <thead>\n",
       "    <tr style=\"text-align: right;\">\n",
       "      <th>Unit</th>\n",
       "      <th>Number_of_Statements</th>\n",
       "    </tr>\n",
       "  </thead>\n",
       "  <tbody>\n",
       "    <tr>\n",
       "      <td>Milligram per kilogram</td>\n",
       "      <td>336</td>\n",
       "    </tr>\n",
       "    <tr>\n",
       "      <td>Parts per million</td>\n",
       "      <td>72</td>\n",
       "    </tr>\n",
       "    <tr>\n",
       "      <td>Milligram per cubic metre</td>\n",
       "      <td>45</td>\n",
       "    </tr>\n",
       "    <tr>\n",
       "      <td>Q21061369</td>\n",
       "      <td>12</td>\n",
       "    </tr>\n",
       "    <tr>\n",
       "      <td>Q21604951</td>\n",
       "      <td>11</td>\n",
       "    </tr>\n",
       "    <tr>\n",
       "      <td>Q2332346</td>\n",
       "      <td>1</td>\n",
       "    </tr>\n",
       "  </tbody>\n",
       "</table>"
      ],
      "text/plain": [
       "<IPython.core.display.HTML object>"
      ]
     },
     "metadata": {},
     "output_type": "display_data"
    },
    {
     "data": {
      "text/html": [
       "<span style='font-weight: bold;margin-top=80px;margin-bottom=80px; font-size:25px; color:blue'>Below is a histogram of distribution of values for unit: \"Milligram_per_kilogram\" for median_lethal_dose_LD50_ in the subgraph (binned on an interval of 10 units)</span>"
      ],
      "text/plain": [
       "<IPython.core.display.HTML object>"
      ]
     },
     "metadata": {},
     "output_type": "display_data"
    },
    {
     "data": {
      "image/png": "[encoded data removed]",
      "text/plain": [
       "<Figure size 1008x432 with 1 Axes>"
      ]
     },
     "metadata": {
      "needs_background": "light"
     },
     "output_type": "display_data"
    },
    {
     "name": "stdout",
     "output_type": "stream",
     "text": [
      "\n"
     ]
    },
    {
     "data": {
      "text/html": [
       "<span style='font-weight: bold;margin-top=80px;margin-bottom=80px; font-size:25px; color:blue'>Below is the distribution of units for solubility in the subgraph</span>"
      ],
      "text/plain": [
       "<IPython.core.display.HTML object>"
      ]
     },
     "metadata": {},
     "output_type": "display_data"
    },
    {
     "data": {
      "text/html": [
       "<table border=\"1\" class=\"dataframe\">\n",
       "  <thead>\n",
       "    <tr style=\"text-align: right;\">\n",
       "      <th>Unit</th>\n",
       "      <th>Number_of_Statements</th>\n",
       "    </tr>\n",
       "  </thead>\n",
       "  <tbody>\n",
       "    <tr>\n",
       "      <td>Gram per 100 gram of solvent</td>\n",
       "      <td>313</td>\n",
       "    </tr>\n",
       "    <tr>\n",
       "      <td>Gram per litre</td>\n",
       "      <td>51</td>\n",
       "    </tr>\n",
       "    <tr>\n",
       "      <td>Gram per kilogram</td>\n",
       "      <td>26</td>\n",
       "    </tr>\n",
       "    <tr>\n",
       "      <td>Gram per kilogram of solvent</td>\n",
       "      <td>20</td>\n",
       "    </tr>\n",
       "    <tr>\n",
       "      <td>Q55726194</td>\n",
       "      <td>9</td>\n",
       "    </tr>\n",
       "    <tr>\n",
       "      <td>Q55435387</td>\n",
       "      <td>1</td>\n",
       "    </tr>\n",
       "    <tr>\n",
       "      <td>Q21091747</td>\n",
       "      <td>1</td>\n",
       "    </tr>\n",
       "    <tr>\n",
       "      <td>Q21064845</td>\n",
       "      <td>1</td>\n",
       "    </tr>\n",
       "    <tr>\n",
       "      <td>Q13147228</td>\n",
       "      <td>1</td>\n",
       "    </tr>\n",
       "  </tbody>\n",
       "</table>"
      ],
      "text/plain": [
       "<IPython.core.display.HTML object>"
      ]
     },
     "metadata": {},
     "output_type": "display_data"
    },
    {
     "data": {
      "text/html": [
       "<span style='font-weight: bold;margin-top=80px;margin-bottom=80px; font-size:25px; color:blue'>Below is a histogram of distribution of values for unit: \"Gram_per_100_gram_of_solvent\" for solubility in the subgraph (binned on an interval of 10 units)</span>"
      ],
      "text/plain": [
       "<IPython.core.display.HTML object>"
      ]
     },
     "metadata": {},
     "output_type": "display_data"
    },
    {
     "data": {
      "image/png": "[encoded data removed]",
      "text/plain": [
       "<Figure size 1008x432 with 1 Axes>"
      ]
     },
     "metadata": {
      "needs_background": "light"
     },
     "output_type": "display_data"
    },
    {
     "name": "stdout",
     "output_type": "stream",
     "text": [
      "\n"
     ]
    },
    {
     "data": {
      "text/html": [
       "<span style='font-weight: bold;margin-top=80px;margin-bottom=80px; font-size:25px; color:blue'>Below is the distribution of units for flash_point in the subgraph</span>"
      ],
      "text/plain": [
       "<IPython.core.display.HTML object>"
      ]
     },
     "metadata": {},
     "output_type": "display_data"
    },
    {
     "data": {
      "text/html": [
       "<table border=\"1\" class=\"dataframe\">\n",
       "  <thead>\n",
       "    <tr style=\"text-align: right;\">\n",
       "      <th>Unit</th>\n",
       "      <th>Number_of_Statements</th>\n",
       "    </tr>\n",
       "  </thead>\n",
       "  <tbody>\n",
       "    <tr>\n",
       "      <td>Degree fahrenheit</td>\n",
       "      <td>316</td>\n",
       "    </tr>\n",
       "    <tr>\n",
       "      <td>Degree celsius</td>\n",
       "      <td>87</td>\n",
       "    </tr>\n",
       "    <tr>\n",
       "      <td>Q11579</td>\n",
       "      <td>2</td>\n",
       "    </tr>\n",
       "  </tbody>\n",
       "</table>"
      ],
      "text/plain": [
       "<IPython.core.display.HTML object>"
      ]
     },
     "metadata": {},
     "output_type": "display_data"
    },
    {
     "data": {
      "text/html": [
       "<span style='font-weight: bold;margin-top=80px;margin-bottom=80px; font-size:25px; color:blue'>Below is a histogram of distribution of values for unit: \"Degree_fahrenheit\" for flash_point in the subgraph (binned on an interval of 10 units)</span>"
      ],
      "text/plain": [
       "<IPython.core.display.HTML object>"
      ]
     },
     "metadata": {},
     "output_type": "display_data"
    },
    {
     "data": {
      "image/png": "[encoded data removed]",
      "text/plain": [
       "<Figure size 1008x432 with 1 Axes>"
      ]
     },
     "metadata": {
      "needs_background": "light"
     },
     "output_type": "display_data"
    },
    {
     "data": {
      "text/plain": [
       "<Figure size 432x288 with 0 Axes>"
      ]
     },
     "metadata": {},
     "output_type": "display_data"
    }
   ],
   "source": [
    "# try:\n",
    "#This Kypher querry can be used to find the destribution of all the units for a property\n",
    "cmd1 = \"$kgtk query -i $WIKIDATA_PARTS/$quantity --graph-cache $STORE \\\n",
    "        -o $PROPERTY_OVERVIEW/_output_file \\\n",
    "        --match  '(n1)-[r{label:llab}]->(v)' \\\n",
    "        --return 'distinct kgtk_quantity_wd_units(v) as Unit , count(n1) as Number_of_Statements ' \\\n",
    "        --where 'kgtk_quantity(v) AND (llab in [\\\"_prop\\\"])' \\\n",
    "        --order-by 'count(n1) desc' \"\n",
    "\n",
    "#This Kypher qurry can be used to find all the statements corresponding to a unit and a property \n",
    "cmd2 = \"$kgtk query -i $WIKIDATA_PARTS/$quantity --graph-cache $STORE \\\n",
    "        -o $PROPERTY_OVERVIEW/_output_file \\\n",
    "        --match  '(n1)-[r{label:llab}]->(v)' \\\n",
    "        --return 'kgtk_quantity_number_int(v) as Magnitude ' \\\n",
    "        --where 'kgtk_quantity(v) AND (kgtk_quantity_wd_units(v) in [\\\"__unit\\\"]) AND (llab in [\\\"_prop\\\"])' \"\n",
    "\n",
    "#Initializing the dataframe pd_quantity_property with the list of top properties of datatype:quantity found above in the notebook  \n",
    "pd_quantity_property = pd.read_csv(os.path.join(os.getenv('OVERVIEW_FOLDER'),os.getenv('property_summary_quantity')),delimiter='\\t')\n",
    "\n",
    "#Iterating over all the rows of dataframe\n",
    "for index,ele in pd_quantity_property.iterrows():\n",
    "\n",
    "    #Ignoring the 'Other Instances' row\n",
    "    if index>=int_k or ele['Property_Label'] ==\"Other Properties\":\n",
    "        break;\n",
    "\n",
    "    # Extracting the \"Pnode\" corresponding to the property\n",
    "    pnode = ele['Link'].split('/')[-1].split(\":\")[-1]\n",
    "    \n",
    "    print()\n",
    "\n",
    "    #Extracting the 'Label' corresponding to the property\n",
    "    prop_label = re.sub(\"[^0-9a-zA-Z]+\", \"_\",  ele['Property_Label']) \n",
    "\n",
    "    #Dynamically setting the name of the output file based on the name of property\n",
    "    output_file_units_destribution = \"Property_overview.quantity.\"+prop_label+\".units_distribution.tsv\"\n",
    "\n",
    "    #Running command 1\n",
    "    run_command(cmd1,{\"_output_file\":output_file_units_destribution,\"_prop\":pnode})\n",
    "\n",
    "    #Loading the destribution of quantities for a property in a dataframe\n",
    "    pd_unit_destribution = pd.read_csv(os.path.join(os.getenv('PROPERTY_OVERVIEW'),output_file_units_destribution),delimiter='\\t')\n",
    "    \n",
    "    pd_unit_destribution_display =pd_unit_destribution .copy()\n",
    "    pd_unit_destribution_display[\"Unit\"] = pd_unit_destribution_display[\"Unit\"].map(find_label)\n",
    "    \n",
    "    #Saving the file after mapping qnode with label\n",
    "    pd_unit_destribution_display.to_csv(os.path.join(os.getenv('PROPERTY_OVERVIEW'),output_file_units_destribution),sep='\\t')\n",
    "    \n",
    "    #Displaying the destribution of qunatities for a property\n",
    "    printmd(\"Below is the distribution of units for \" + prop_label + \" in the subgraph\",'blue')\n",
    "    display(HTML(pd_unit_destribution_display.to_html(index=False)))\n",
    "\n",
    "    #Finding the most prevalent unit\n",
    "    if len(pd_unit_destribution)>=1:\n",
    "\n",
    "        #Finding the most prevalent unit\n",
    "        most_prevalent_unit_qnode = pd_unit_destribution.iloc[0]['Unit']\n",
    "        most_prevalent_unit_label = re.sub(\"[^0-9a-zA-Z]+\", \"_\",   pd_unit_destribution_display.iloc[0][\"Unit\"]) \n",
    "        \n",
    "        # Dynamically setting the name of output file corresponding to the magnitude destrbution of most prevalent unit\n",
    "        output_file_magnitude_destribution = \"Property_overview.quantity.\"+prop_label+ most_prevalent_unit_label+ \".value_distibution.tsv\"\n",
    "\n",
    "        # Running Command 2 \n",
    "        run_command(cmd2,{\"_output_file\":output_file_magnitude_destribution,\"_prop\":pnode,\"__unit\":most_prevalent_unit_qnode})\n",
    "\n",
    "        # Loading the destribution of the magnitudes for a property and unit in a dataframe\n",
    "        magnitude_distribution = pd.read_csv(os.path.join(os.getenv('PROPERTY_OVERVIEW'),output_file_magnitude_destribution),delimiter='\\t')\n",
    "    \n",
    "        # Binnig the magnitudes for displaying the histogram\n",
    "        bin_values = np.arange(start=magnitude_distribution.quantile(.01)['Magnitude'], stop=magnitude_distribution.quantile(.99)['Magnitude'], step=10)\n",
    "#         bin_values = np.arange(start=min(magnitude_distribution['Magnitude']), stop=max(magnitude_distribution['Magnitude']), step=10)\n",
    "\n",
    "        \n",
    "        #Displaying the histogram\n",
    "        printmd('Below is a histogram of distribution of values for unit: \"'+most_prevalent_unit_label +'\" for ' + prop_label + ' in the subgraph (binned on an interval of 10 units)','blue')\n",
    "        magnitude_distribution['Magnitude'].hist(bins=bin_values, figsize=[14,6])\n",
    "        magnitude_distribution = magnitude_distribution['Magnitude'].value_counts(bins=bin_values, sort=False)\n",
    "        \n",
    "        plt.xlabel(most_prevalent_unit_label)\n",
    "        plt.ylabel(\"Number of values\")\n",
    "        plt.show()\n",
    "        plt.figure()\n",
    "       \n",
    "        #Saving the file \n",
    "        magnitude_distribution.to_csv(os.path.join(os.getenv('PROPERTY_OVERVIEW'),output_file_magnitude_destribution),sep='\\t')\n",
    "# except Exception as e:\n",
    "#     print(e)"
   ]
  },
  {
   "cell_type": "code",
   "execution_count": 23,
   "metadata": {
    "execution": {
     "iopub.execute_input": "2020-11-17T21:15:22.675819Z",
     "iopub.status.busy": "2020-11-17T21:15:22.675069Z",
     "iopub.status.idle": "2020-11-17T21:15:28.146658Z",
     "shell.execute_reply": "2020-11-17T21:15:28.145806Z"
    },
    "papermill": {
     "duration": 5.659274,
     "end_time": "2020-11-17T21:15:28.146836",
     "exception": false,
     "start_time": "2020-11-17T21:15:22.487562",
     "status": "completed"
    },
    "scrolled": false,
    "tags": []
   },
   "outputs": [
    {
     "name": "stdout",
     "output_type": "stream",
     "text": [
      "\n"
     ]
    },
    {
     "data": {
      "text/html": [
       "<span style='font-weight: bold;margin-top=80px;margin-bottom=80px; font-size:25px; color:blue'>Below is a histogram for the distribution of 'time_of_discovery_or_invention' binned per year</span>"
      ],
      "text/plain": [
       "<IPython.core.display.HTML object>"
      ]
     },
     "metadata": {},
     "output_type": "display_data"
    },
    {
     "data": {
      "image/png": "[encoded data removed]",
      "text/plain": [
       "<Figure size 1008x432 with 1 Axes>"
      ]
     },
     "metadata": {
      "needs_background": "light"
     },
     "output_type": "display_data"
    },
    {
     "name": "stdout",
     "output_type": "stream",
     "text": [
      "\n"
     ]
    },
    {
     "data": {
      "text/html": [
       "<span style='font-weight: bold;margin-top=80px;margin-bottom=80px; font-size:25px; color:blue'>Below is a histogram for the distribution of 'discontinued_date' binned per year</span>"
      ],
      "text/plain": [
       "<IPython.core.display.HTML object>"
      ]
     },
     "metadata": {},
     "output_type": "display_data"
    },
    {
     "data": {
      "image/png": "[encoded data removed]",
      "text/plain": [
       "<Figure size 1008x432 with 1 Axes>"
      ]
     },
     "metadata": {
      "needs_background": "light"
     },
     "output_type": "display_data"
    },
    {
     "name": "stdout",
     "output_type": "stream",
     "text": [
      "\n"
     ]
    },
    {
     "data": {
      "text/html": [
       "<span style='font-weight: bold;margin-top=80px;margin-bottom=80px; font-size:25px; color:blue'>Below is a histogram for the distribution of 'inception' binned per year</span>"
      ],
      "text/plain": [
       "<IPython.core.display.HTML object>"
      ]
     },
     "metadata": {},
     "output_type": "display_data"
    },
    {
     "data": {
      "image/png": "[encoded data removed]",
      "text/plain": [
       "<Figure size 1008x432 with 1 Axes>"
      ]
     },
     "metadata": {
      "needs_background": "light"
     },
     "output_type": "display_data"
    },
    {
     "name": "stdout",
     "output_type": "stream",
     "text": [
      "\n"
     ]
    },
    {
     "data": {
      "text/html": [
       "<span style='font-weight: bold;margin-top=80px;margin-bottom=80px; font-size:25px; color:blue'>Below is a histogram for the distribution of 'service_entry' binned per year</span>"
      ],
      "text/plain": [
       "<IPython.core.display.HTML object>"
      ]
     },
     "metadata": {},
     "output_type": "display_data"
    },
    {
     "data": {
      "image/png": "[encoded data removed]",
      "text/plain": [
       "<Figure size 1008x432 with 1 Axes>"
      ]
     },
     "metadata": {
      "needs_background": "light"
     },
     "output_type": "display_data"
    },
    {
     "name": "stdout",
     "output_type": "stream",
     "text": [
      "\n"
     ]
    },
    {
     "data": {
      "text/html": [
       "<span style='font-weight: bold;margin-top=80px;margin-bottom=80px; font-size:25px; color:blue'>Below is a histogram for the distribution of 'service_retirement' binned per year</span>"
      ],
      "text/plain": [
       "<IPython.core.display.HTML object>"
      ]
     },
     "metadata": {},
     "output_type": "display_data"
    },
    {
     "data": {
      "image/png": "[encoded data removed]",
      "text/plain": [
       "<Figure size 1008x432 with 1 Axes>"
      ]
     },
     "metadata": {
      "needs_background": "light"
     },
     "output_type": "display_data"
    }
   ],
   "source": [
    "cmd = \"$kgtk query -i $WIKIDATA_PARTS/$time --graph-cache $STORE \\\n",
    "        -o $PROPERTY_OVERVIEW/_output_file \\\n",
    "        --match  '(n1)-[r{label:llab}]->(v)' \\\n",
    "        --return 'kgtk_date_year(v) as Year' \\\n",
    "        --where 'kgtk_date(v) AND llab in [\\\"_prop\\\"] '\"\n",
    "\n",
    "#Initializing the dataframe pd_time_property with the list of top properties of datatype:time found above in the notebook  \n",
    "pd_time_property = pd.read_csv(os.path.join(os.getenv('OVERVIEW_FOLDER'),os.getenv('property_summary_time')),delimiter='\\t')\n",
    "\n",
    "\n",
    "for index,ele in pd_time_property.iterrows():\n",
    "    \n",
    "    #Ignoring the 'Other Instances' row\n",
    "    if index>=int_k or ele['Property_Label'] ==\"Other Properties\":\n",
    "        break;\n",
    "\n",
    "    # Extracting the \"Pnode\" corresponding to the property\n",
    "    pnode = ele['Link'].split('/')[-1].split(\":\")[-1]\n",
    "    \n",
    "    print()\n",
    "\n",
    "    #Extracting the 'Label' corresponding to the property\n",
    "    prop_label = re.sub(\"[^0-9a-zA-Z]+\", \"_\",  ele['Property_Label'])\n",
    "\n",
    "    #Dynamically setting the name of the output file based on the name of property\n",
    "    output_file_time_distribution = \"Property_overview.time.\"+prop_label+\".year_distibution.tsv\"\n",
    "\n",
    "    #Running command 1\n",
    "    run_command(cmd,{\"_output_file\":output_file_time_distribution,\"_prop\":pnode})    \n",
    "        \n",
    "    # Loading the destribution of the time for a property in a dataframe\n",
    "    time_distribution = pd.read_csv(os.path.join(os.getenv('PROPERTY_OVERVIEW'),output_file_time_distribution),delimiter='\\t')\n",
    "    \n",
    "    # The smallest year in the dataframe\n",
    "    min_year = min(time_distribution['Year'])\n",
    "    \n",
    "    # The largest year in the dataframe\n",
    "    max_year = max(time_distribution['Year'])\n",
    "    \n",
    "    \n",
    "    printmd(\"Below is a histogram for the distribution of '\" + prop_label + \"' binned per year\" ,'blue')\n",
    "    \n",
    "    bin_values = np.arange(start=((min_year-20)//10)*10, stop=((max_year+20)//10)*10, step=1)\n",
    "    \n",
    "    \n",
    "    time_distribution['Year'].hist(bins=bin_values, figsize=[14,6])\n",
    "    \n",
    "    plt.show()\n",
    "    "
   ]
  },
  {
   "cell_type": "code",
   "execution_count": 24,
   "metadata": {
    "execution": {
     "iopub.execute_input": "2020-11-17T21:15:28.932037Z",
     "iopub.status.busy": "2020-11-17T21:15:28.930658Z",
     "iopub.status.idle": "2020-11-17T21:15:30.038513Z",
     "shell.execute_reply": "2020-11-17T21:15:30.037027Z"
    },
    "papermill": {
     "duration": 1.673503,
     "end_time": "2020-11-17T21:15:30.038829",
     "exception": false,
     "start_time": "2020-11-17T21:15:28.365326",
     "status": "completed"
    },
    "tags": []
   },
   "outputs": [
    {
     "name": "stdout",
     "output_type": "stream",
     "text": [
      "\n"
     ]
    },
    {
     "data": {
      "text/html": [
       "<span style='font-weight: bold;margin-top=80px;margin-bottom=80px; font-size:25px; color:blue'>Below is the distribution of 'coordinate_location'</span>"
      ],
      "text/plain": [
       "<IPython.core.display.HTML object>"
      ]
     },
     "metadata": {},
     "output_type": "display_data"
    },
    {
     "data": {
      "text/html": [
       "<table border=\"1\" class=\"dataframe\">\n",
       "  <thead>\n",
       "    <tr style=\"text-align: right;\">\n",
       "      <th>coordinate</th>\n",
       "      <th>latitude</th>\n",
       "      <th>longitude</th>\n",
       "      <th>Number_of_points</th>\n",
       "    </tr>\n",
       "  </thead>\n",
       "  <tbody>\n",
       "    <tr>\n",
       "      <td>@37.25/27</td>\n",
       "      <td>37.25</td>\n",
       "      <td>27.0</td>\n",
       "      <td>1</td>\n",
       "    </tr>\n",
       "  </tbody>\n",
       "</table>"
      ],
      "text/plain": [
       "<IPython.core.display.HTML object>"
      ]
     },
     "metadata": {},
     "output_type": "display_data"
    }
   ],
   "source": [
    "cmd = \"$kgtk query  -i $WIKIDATA_PARTS/$globe_coordinate -i $WIKIDATA_PARTS/$label --graph-cache $STORE \\\n",
    "       -o $PROPERTY_OVERVIEW/_output_file \\\n",
    "       --match 'part: (n1)-[l{label:llab}]->(n2)' \\\n",
    "       --return 'distinct n2 as coordinate, kgtk_geo_coords_lat(n2) as latitude, kgtk_geo_coords_long(n2) as longitude, count(n2) as Number_of_points  '\\\n",
    "       --where 'llab in [\\\"_prop\\\"]' \\\n",
    "       --order-by 'count(n2) desc'\"\n",
    "\n",
    "#Initializing the dataframe pd_time_property with the list of top properties of datatype:time found above in the notebook  \n",
    "pd_coord_property = pd.read_csv(os.path.join(os.getenv('OVERVIEW_FOLDER'),os.getenv('property_summary_globe_coordinate')),delimiter='\\t')\n",
    "for index,ele in pd_coord_property.iterrows():\n",
    "    #Ignoring the 'Other Instances' row\n",
    "    if index>=int_k or ele['Property_Label'] ==\"Other Properties\":\n",
    "        break;\n",
    "\n",
    "    # Extracting the \"Pnode\" corresponding to the property\n",
    "    pnode = ele['Link'].split('/')[-1].split(\":\")[-1]\n",
    "    \n",
    "    print()\n",
    "\n",
    "    #Extracting the 'Label' corresponding to the property\n",
    "    prop_label = re.sub(\"[^0-9a-zA-Z]+\", \"_\", ele['Property_Label'])\n",
    "\n",
    "    #Dynamically setting the name of the output file based on the name of property\n",
    "    output_file_coord_destribution = \"Property_overview.geo_coord.\"+prop_label+\".distribution.tsv\";\n",
    "\n",
    "    #Running command 1\n",
    "    run_command(cmd,{\"_output_file\":output_file_coord_destribution,\"_prop\":pnode})    \n",
    "        \n",
    "    # Loading the destribution of the time for a property in a dataframe\n",
    "    coordinate_destribution = pd.read_csv(os.path.join(os.getenv('PROPERTY_OVERVIEW'),output_file_coord_destribution),delimiter='\\t')\n",
    "    \n",
    "    printmd(\"Below is the distribution of '\" + prop_label + \"'\" ,'blue')\n",
    "    display(HTML(coordinate_destribution.to_html(index=False)))\n"
   ]
  },
  {
   "cell_type": "code",
   "execution_count": 25,
   "metadata": {
    "execution": {
     "iopub.execute_input": "2020-11-17T21:15:30.656410Z",
     "iopub.status.busy": "2020-11-17T21:15:30.654227Z",
     "iopub.status.idle": "2020-11-17T21:15:30.681184Z",
     "shell.execute_reply": "2020-11-17T21:15:30.679006Z"
    },
    "papermill": {
     "duration": 0.377616,
     "end_time": "2020-11-17T21:15:30.681789",
     "exception": false,
     "start_time": "2020-11-17T21:15:30.304173",
     "status": "completed"
    },
    "tags": []
   },
   "outputs": [
    {
     "data": {
      "text/html": [
       "<div>\n",
       "<style scoped>\n",
       "    .dataframe tbody tr th:only-of-type {\n",
       "        vertical-align: middle;\n",
       "    }\n",
       "\n",
       "    .dataframe tbody tr th {\n",
       "        vertical-align: top;\n",
       "    }\n",
       "\n",
       "    .dataframe thead th {\n",
       "        text-align: right;\n",
       "    }\n",
       "</style>\n",
       "<table border=\"1\" class=\"dataframe\">\n",
       "  <thead>\n",
       "    <tr style=\"text-align: right;\">\n",
       "      <th></th>\n",
       "      <th>id</th>\n",
       "      <th>node1</th>\n",
       "      <th>label</th>\n",
       "      <th>node2</th>\n",
       "    </tr>\n",
       "  </thead>\n",
       "  <tbody>\n",
       "  </tbody>\n",
       "</table>\n",
       "</div>"
      ],
      "text/plain": [
       "Empty DataFrame\n",
       "Columns: [id, node1, label, node2]\n",
       "Index: []"
      ]
     },
     "metadata": {},
     "output_type": "display_data"
    }
   ],
   "source": [
    "try:\n",
    "    df = pd.read_csv(os.path.join(os.getenv('WIKIDATA_PARTS'),os.getenv('geo_shape')),delimiter='\\t',index_col=False)\n",
    "    try:\n",
    "        num_rows = min(int(K[1:-1]),len(df))\n",
    "    except Exception as e:\n",
    "        num_rows = min(int(K),len(df))\n",
    "    df.sample(n=num_rows)\n",
    "    display(df)\n",
    "    df.to_csv(os.path.join(os.getenv('OUTPUT_FOLDER'),os.getenv('geo_shape_random_samples')),sep='\\t',index=False)\n",
    "except Exception as e:\n",
    "    print(e)"
   ]
  },
  {
   "cell_type": "code",
   "execution_count": null,
   "metadata": {
    "papermill": {
     "duration": 0.25478,
     "end_time": "2020-11-17T21:15:31.204027",
     "exception": false,
     "start_time": "2020-11-17T21:15:30.949247",
     "status": "completed"
    },
    "tags": []
   },
   "outputs": [],
   "source": []
  }
 ],
 "metadata": {
  "kernelspec": {
   "display_name": "Python 3",
   "language": "python",
   "name": "python3"
  },
  "language_info": {
   "codemirror_mode": {
    "name": "ipython",
    "version": 3
   },
   "file_extension": ".py",
   "mimetype": "text/x-python",
   "name": "python",
   "nbconvert_exporter": "python",
   "pygments_lexer": "ipython3",
   "version": "3.7.9"
  },
  "papermill": {
   "default_parameters": {},
   "duration": 835.411709,
   "end_time": "2020-11-17T21:15:33.535083",
   "environment_variables": {},
   "exception": null,
   "input_path": "/Users/shashanksaurabh/Desktop/MS/ISI/isi/kgtk_shashank73744/kgtk/examples/Example_10_Wikidata_Subgraph_Statistics.ipynb",
   "output_path": "/Users/shashanksaurabh/Desktop/MS/ISI/isi/kgtk_shashank73744/kgtk/examples/Example_10_output.ipynb",
   "parameters": {
    "K": "\"10\"",
    "cache_folder": "/Users/shashanksaurabh/Desktop/Data_isi/Temp",
    "delete_database": "yes",
    "output_folder": "/Users/shashanksaurabh/Desktop/Data_isi/output-chemical",
    "subset_name": "Q11173",
    "wikidata_home": "/Users/shashanksaurabh/Desktop/Data_isi",
    "wikidata_parts_folder": "/Users/shashanksaurabh/Desktop/Data_isi/Chemical"
   },
   "start_time": "2020-11-17T21:01:38.123374",
   "version": "2.2.0"
  }
 },
 "nbformat": 4,
 "nbformat_minor": 4
}