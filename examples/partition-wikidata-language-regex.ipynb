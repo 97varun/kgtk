{
 "cells": [
  {
   "cell_type": "markdown",
   "metadata": {},
   "source": [
    "# Creating a subset of Wikidata\n",
    "\n",
    "This notebook illustrates how to partition a Wikidata KGTK edges file.\n",
    "\n",
    "Parameters are set up in the first cell so that we can run this notebook in batch mode. Example invocation command:\n",
    "\n",
    "```\n",
    "papermill partition-wikidata.ipynb partition-wikidata.out.ipynb \\\n",
    "-p wikidata_input_path /data4/rogers/elicit/cache/datasets/wikidata-20200803/data/everything.tsv.gz \\\n",
    "-p wikidata_parts_path /data4/rogers/elicit/cache/datasets/wikidata-20200803/parts \\\n",
    "```\n",
    "\n",
    "Here is a sample of the records that might appear in the input KGTK file:\n",
    "```\n",
    "id\tnode1\tlabel\tnode2\trank\tnode2;wikidatatype\tlang\n",
    "Q1-P1036-418bc4-78f5a565-0\tQ1\tP1036\t\"113\"\tnormal\texternal-id\t\n",
    "Q1-P1343-Q19190511-ab132b87-0   Q1      P1343   Q19190511       normal  wikibase-item   \n",
    "Q1-P18-92a7b3-0dcac501-0        Q1      P18     \"Hubble ultra deep field.jpg\"   normal  commonsMedia    \n",
    "Q1-P2386-cedfb0-0fdbd641-0      Q1      P2386   +880000000000000000000000Q828224        normal  quantity        \n",
    "Q1-P580-a2fccf-63cf4743-0       Q1      P580    ^-13798000000-00-00T00:00:00Z/3 normal  time    \n",
    "Q1-P920-47c0f2-52689c4e-0       Q1      P920    \"LEM201201756\"  normal  string  \n",
    "Q1-P1343-Q19190511-ab132b87-0-P805-Q84065667-0  Q1-P1343-Q19190511-ab132b87-0   P805    Q84065667               wikibase-item   \n",
    "Q1-P1343-Q88672152-5080b9e2-0-P304-5724c3-0     Q1-P1343-Q88672152-5080b9e2-0   P304    \"13-36\"         string  \n",
    "Q1-P2670-Q18343-030eb87e-0-P1107-ce87f8-0       Q1-P2670-Q18343-030eb87e-0      P1107   +0.70           quantity        \n",
    "Q1-P793-Q273508-1900d69c-0-P585-a2fccf-0        Q1-P793-Q273508-1900d69c-0      P585    ^-13798000000-00-00T00:00:00Z/3         time    \n",
    "P10-alias-en-282226-0   P10     alias   'gif'@en\n",
    "P10-description-en      P10     description     'relevant video. For images, use the property P18. For film trailers, qualify with \\\"object has role\\\" (P3831)=\\\"trailer\\\" (Q622550)'@en                        en\n",
    "P10-label-en    P10     label   'video'@en                      en\n",
    "Q1-addl_wikipedia_sitelink-19e42a-0     Q1      addl_wikipedia_sitelink http://enwikiquote.org/wiki/Universe                    en\n",
    "Q1-addl_wikipedia_sitelink-19e42a-0-language-0  Q1-addl_wikipedia_sitelink-19e42a-0     sitelink-language       en                      en\n",
    "Q1-addl_wikipedia_sitelink-19e42a-0-site-0      Q1-addl_wikipedia_sitelink-19e42a-0     sitelink-site   enwikiquote                     en\n",
    "Q1-addl_wikipedia_sitelink-19e42a-0-title-0     Q1-addl_wikipedia_sitelink-19e42a-0     sitelink-title  \"Universe\"                      en\n",
    "Q1-wikipedia_sitelink-5e459a-0  Q1      wikipedia_sitelink      http://en.wikipedia.org/wiki/Universe                   en\n",
    "Q1-wikipedia_sitelink-5e459a-0-badge-Q17437798  Q1-wikipedia_sitelink-5e459a-0  sitelink-badge  Q17437798                       en\n",
    "Q1-wikipedia_sitelink-5e459a-0-language-0       Q1-wikipedia_sitelink-5e459a-0  sitelink-language       en                      en\n",
    "Q1-wikipedia_sitelink-5e459a-0-site-0   Q1-wikipedia_sitelink-5e459a-0  sitelink-site   enwiki                  en\n",
    "Q1-wikipedia_sitelink-5e459a-0-title-0  Q1-wikipedia_sitelink-5e459a-0  sitelink-title  \"Universe\"                      en\n",
    "```\n",
    "Here are some contraints on the contents of the input file:\n",
    "- The input file starts with a KGTK header record.\n",
    "  - In addition to the `id`, `node1`, `label`, and `node2` columns, the file is expected contain `rank`, `node2;wikidatatype`, and `lang` columns.\n",
    "  - The `rank` column is not used in this script.\n",
    "  - The `node2;wikidatatype` column is used to partion claims by Wikidata property datatype.\n",
    "  - The `lang` column is used to extract English language sitelinks.\n",
    "- The `id` column must contain a nonempty value.\n",
    "  - It must follow certain patterns for claim and qualifier records.\n",
    "    - Claim records contain 5 sections separated by hyphens (4 hyphens total).\n",
    "    - Qualifier records contain 8 sections separated by dashes (7 dashes total).\n",
    "- The first section of an `id` value must be the `node` value for the record.\n",
    "  - The qualifier extraction operations depend upon this constraint. \n",
    "- In addition to the claims and qualifiers, the input file is expected to contain:\n",
    "  - English language labels for all property entities appearing in the file.\n",
    "- The input file ought to contain the following:\n",
    "  - alias records in appropriate languages,\n",
    "  - description records in appropriate languages,\n",
    "  - label records in appropriate languages, and\n",
    "  - sitelink records in appropriate languages.\n",
    "- Additionally, this script provides for the appearance of `datatype` and `type` records.\n",
    "  - `datatype` records map Wikidata property entities to Wikidata property datatypes. These records may provide an alternative to the `node2;wikidatatype` column in the future.\n",
    "  - `type` records list all `entityId` values and identify them as properties or items. These records provides a correctness check on the operation of `kgtk import-wikidata`, and may be deprecated in the future. "
   ]
  },
  {
   "cell_type": "markdown",
   "metadata": {},
   "source": [
    "### Parameters for invoking the notebook\n",
    "\n",
    "| Parameter | Description | Default |\n",
    "| --------- | ----------- | ------- |\n",
    "| `wikidata_input_path` | A folder containing the Wikidata KGTK edges to partition. | '/data4/rogers/elicit/cache/datasets/wikidata-20200803/data/everything.tsv.gz' |\n",
    "| `wikidata_parts_path` | A folder containing the part files of Wikidata, including files such as `part.wikibase-item.tsv.gz` | '/data4/rogers/elicit/cache/datasets/wikidata-20200803/parts' |\n",
    "| `temp_folder_path` |    A folder that may be used for temporary files. | wikidata_parts_path + '/temp' |\n",
    "| `gzip_command` |        The compression command for sorting. | 'pigz' |\n",
    "| `sort_extras` |         Extra parameters for the sort program.  The default specifies a path for temporary files. Other useful parameters include '--buffer-size' and '--parallel'. | '--temporary-directory ' + wikidata_parts_path |\n",
    "| `unsorted_extension` |  The file extension for unsorted files. | 'unsorted.tsv.gz' |\n",
    "| `sorted_extension` |    The file extension for sorted files. | 'tsv.gz' |\n",
    "| `use_mgzip` |           When True, use the mgzip program where appropriate for faster compression. | 'True' |\n",
    "| `verbose` |             When True, produce additional feedback messages. | 'True' |\n"
   ]
  },
  {
   "cell_type": "code",
   "execution_count": 1,
   "metadata": {
    "tags": [
     "parameters"
    ]
   },
   "outputs": [],
   "source": [
    "# Parameters\n",
    "wikidata_input_path = '/data4/rogers/elicit/cache/datasets/wikidata-20200803/data/everything.tsv.gz'\n",
    "wikidata_parts_path = '/data4/rogers/elicit/cache/datasets/wikidata-20200803/parts2'\n",
    "temp_folder_path =    wikidata_parts_path + '/temp'\n",
    "gzip_command =        'pigz'\n",
    "sort_extras =         '--temporary-directory ' + wikidata_parts_path\n",
    "unsorted_extension =  'unsorted.tsv.gz'\n",
    "sorted_extension =    'tsv.gz'\n",
    "use_mgzip =           'True'\n",
    "verbose =             'True'\n"
   ]
  },
  {
   "cell_type": "markdown",
   "metadata": {},
   "source": [
    "### Import the Python modules we will use in this script.\n",
    "Almost all of this script consists of shell commands, so all we need to import is `os`, which we use for setup."
   ]
  },
  {
   "cell_type": "code",
   "execution_count": 2,
   "metadata": {},
   "outputs": [],
   "source": [
    "import os"
   ]
  },
  {
   "cell_type": "markdown",
   "metadata": {},
   "source": [
    "### Set up environment variables and folders that we need\n",
    "Define environment variables to pass the script parameters to the KGTK commands."
   ]
  },
  {
   "cell_type": "code",
   "execution_count": 3,
   "metadata": {},
   "outputs": [],
   "source": [
    "# file containing wikidata edges.\n",
    "os.environ['WIKIDATA_INPUT'] =     wikidata_input_path\n",
    "# folder to receive wikidata broken down into smaller files.\n",
    "os.environ['WIKIDATA_PARTS'] =     wikidata_parts_path\n",
    "# temporary folder\n",
    "os.environ['TEMP'] =               temp_folder_path\n",
    "# kgtk command to run\n",
    "# os.environ['kgtk'] =             \"kgtk\"\n",
    "os.environ['kgtk'] =               \"time kgtk --debug --timing\"\n",
    "# gzip command to run\n",
    "os.environ['gzip'] =               gzip_command\n",
    "# extra parameters for sort\n",
    "os.environ['SORT_EXTRAS'] =        sort_extras\n",
    "# The unsorted file extension.\n",
    "os.environ['UNSORTED_EXTENSION'] = unsorted_extension\n",
    "# The sorted file extension.\n",
    "os.environ['SORTED_EXTENSION'] =   sorted_extension\n",
    "# The use_mgzip flag.\n",
    "os.environ['USE_MGZIP'] =          use_mgzip\n",
    "# The verbose flag.\n",
    "os.environ['VERBOSE'] =            verbose\n"
   ]
  },
  {
   "cell_type": "markdown",
   "metadata": {},
   "source": [
    "### Create working folders and empty them"
   ]
  },
  {
   "cell_type": "code",
   "execution_count": 6,
   "metadata": {},
   "outputs": [],
   "source": [
    "!mkdir $WIKIDATA_PARTS\n",
    "!mkdir $TEMP"
   ]
  },
  {
   "cell_type": "code",
   "execution_count": 7,
   "metadata": {},
   "outputs": [],
   "source": [
    "!rm $WIKIDATA_PARTS/*.tsv $WIKIDATA_PARTS/*.tsv.gz\n",
    "!rm $TEMP/*.tsv $TEMP/*.tsv.gz"
   ]
  },
  {
   "cell_type": "markdown",
   "metadata": {},
   "source": [
    "### Partition the Claims, Qualifiers, and Entity Data\n",
    "Split out the entity data (alias, description, label, and sitelinks) and additional metadata (datatype, type).  Separate the qualifiers from the claims."
   ]
  },
  {
   "cell_type": "code",
   "execution_count": 8,
   "metadata": {},
   "outputs": [],
   "source": [
    "!$kgtk filter --verbose=$VERBOSE --use-mgzip=$USE_MGZIP --first-match-only --regex \\\n",
    " --input-file $WIKIDATA_INPUT \\\n",
    " -p '; ^datatype$ ;'      -o $TEMP/property.datatype.$UNSORTED_EXTENSION \\\n",
    " -p '; ^alias$ ;'         -o $TEMP/part.alias.$UNSORTED_EXTENSION \\\n",
    " -p '; ^description$ ;'   -o $TEMP/part.description.$UNSORTED_EXTENSION \\\n",
    " -p '; ^label$ ;'         -o $TEMP/part.label.$UNSORTED_EXTENSION \\\n",
    " -p '; ^(addl_wikipedia_sitelink|sitelink-badge|sitelink-language|sitelink-site|sitelink-title|wikipedia_sitelink)$ ;' \\\n",
    "                          -o $TEMP/part.wikipedia_sitelink.$UNSORTED_EXTENSION \\\n",
    " -p '; ^type$ ;'          -o $TEMP/types.$UNSORTED_EXTENSION \\\n",
    " -p '^.*-.*-.*-.*-.*$ ;;' -o $TEMP/part.qual.$UNSORTED_EXTENSION \\\n",
    " --reject-file $TEMP/part.claims.$UNSORTED_EXTENSION"
   ]
  },
  {
   "cell_type": "markdown",
   "metadata": {},
   "source": [
    "### Sort the initial partitions.\n",
    "Sort each of the initial partition files."
   ]
  },
  {
   "cell_type": "code",
   "execution_count": 9,
   "metadata": {},
   "outputs": [],
   "source": [
    "!$kgtk sort2 --verbose=$VERBOSE --gzip-command=$gzip \\\n",
    " --input-file  $TEMP/property.datatype.$UNSORTED_EXTENSION \\\n",
    " --output-file $WIKIDATA_PARTS/property.datatype.$SORTED_EXTENSION \\\n",
    " --columns     id node1 label node2 \\\n",
    " --extra       \"$SORT_EXTRAS\""
   ]
  },
  {
   "cell_type": "code",
   "execution_count": 9,
   "metadata": {},
   "outputs": [],
   "source": [
    "!$kgtk sort2 --verbose=$VERBOSE --gzip-command=$gzip \\\n",
    " --input-file  $TEMP/part.alias.$UNSORTED_EXTENSION \\\n",
    " --output-file $WIKIDATA_PARTS/part.alias.$SORTED_EXTENSION \\\n",
    " --columns     id node1 label node2 \\\n",
    " --extra       \"$SORT_EXTRAS\""
   ]
  },
  {
   "cell_type": "code",
   "execution_count": 9,
   "metadata": {},
   "outputs": [],
   "source": [
    "!$kgtk sort2 --verbose=$VERBOSE --gzip-command=$gzip \\\n",
    " --input-file  $TEMP/part.description.$UNSORTED_EXTENSION \\\n",
    " --output-file $WIKIDATA_PARTS/part.description.$SORTED_EXTENSION \\\n",
    " --columns     id node1 label node2 \\\n",
    " --extra       \"$SORT_EXTRAS\""
   ]
  },
  {
   "cell_type": "code",
   "execution_count": 9,
   "metadata": {},
   "outputs": [],
   "source": [
    "!$kgtk sort2 --verbose=$VERBOSE --gzip-command=$gzip \\\n",
    " --input-file  $TEMP/part.label.$UNSORTED_EXTENSION \\\n",
    " --output-file $WIKIDATA_PARTS/part.label.$SORTED_EXTENSION \\\n",
    " --columns     id node1 label node2 \\\n",
    " --extra       \"$SORT_EXTRAS\""
   ]
  },
  {
   "cell_type": "code",
   "execution_count": 9,
   "metadata": {},
   "outputs": [],
   "source": [
    "!$kgtk sort2 --verbose=$VERBOSE --gzip-command=$gzip \\\n",
    " --input-file  $TEMP/part.wikipedia_sitelink.$UNSORTED_EXTENSION \\\n",
    " --output-file $WIKIDATA_PARTS/part.wikipedia_sitelink.$SORTED_EXTENSION \\\n",
    " --columns     id node1 label node2 \\\n",
    " --extra       \"$SORT_EXTRAS\""
   ]
  },
  {
   "cell_type": "code",
   "execution_count": 9,
   "metadata": {},
   "outputs": [],
   "source": [
    "!$kgtk sort2 --verbose=$VERBOSE --gzip-command=$gzip \\\n",
    " --input-file  $TEMP/types.$UNSORTED_EXTENSION \\\n",
    " --output-file $WIKIDATA_PARTS/types.$SORTED_EXTENSION \\\n",
    " --columns     id node1 label node2 \\\n",
    " --extra       \"$SORT_EXTRAS\""
   ]
  },
  {
   "cell_type": "code",
   "execution_count": 9,
   "metadata": {},
   "outputs": [],
   "source": [
    "!$kgtk sort2 --verbose=$VERBOSE --gzip-command=$gzip \\\n",
    " --input-file  $TEMP/part.qual.$UNSORTED_EXTENSION \\\n",
    " --output-file $WIKIDATA_PARTS/part.qual.$SORTED_EXTENSION \\\n",
    " --columns     id node1 label node2 \\\n",
    " --extra       \"$SORT_EXTRAS\""
   ]
  },
  {
   "cell_type": "code",
   "execution_count": 9,
   "metadata": {},
   "outputs": [],
   "source": [
    "!$kgtk sort2 --verbose=$VERBOSE --gzip-command=$gzip \\\n",
    " --input-file  $TEMP/part.claims.$UNSORTED_EXTENSION \\\n",
    " --output-file $WIKIDATA_PARTS/part.claims.$SORTED_EXTENSION \\\n",
    " --columns     id node1 label node2 \\\n",
    " --extra       \"$SORT_EXTRAS\""
   ]
  },
  {
   "cell_type": "markdown",
   "metadata": {},
   "source": [
    "### Extract the English aliases, descriptions, labels, and sitelinks.\n",
    "Aliases, descriptions, and labels are extracted by selecting rows where the `node2` value ends in the language suffix for English (`@en`) in a KGTK language-qualified string. This is an abbreviated pattern; a more general pattern would include the single quotes used to delimit a KGTK language-qualified string. If `kgtk import-wikidata` has executed properly, the abbreviated pattern should be sufficient.\n",
    "\n",
    "Sitelink rows do not have a language-specific marker in the `node2` value. We use the `lang` column to provide the language code for English ('en').  The `lang` column is an additional column created by `kgtk import-wikidata`."
   ]
  },
  {
   "cell_type": "code",
   "execution_count": 9,
   "metadata": {},
   "outputs": [],
   "source": [
    "!$kgtk filter --verbose=$VERBOSE --use-mgzip=$USE_MGZIP --regex \\\n",
    " --input-file $WIKIDATA_PARTS/part.alias.$SORTED_EXTENSION \\\n",
    " -p ';; ^.*@en$' -o $WIKIDATA_PARTS/part.alias.en.$SORTED_EXTENSION"
   ]
  },
  {
   "cell_type": "code",
   "execution_count": 9,
   "metadata": {},
   "outputs": [],
   "source": [
    "!$kgtk filter --verbose=$VERBOSE --use-mgzip=$USE_MGZIP --regex \\\n",
    " --input-file $WIKIDATA_PARTS/part.description.$SORTED_EXTENSION \\\n",
    " -p ';; ^.*@en$' -o $WIKIDATA_PARTS/part.description.en.$SORTED_EXTENSION"
   ]
  },
  {
   "cell_type": "code",
   "execution_count": 9,
   "metadata": {},
   "outputs": [],
   "source": [
    "!$kgtk filter --verbose=$VERBOSE --use-mgzip=$USE_MGZIP --regex \\\n",
    " --input-file $WIKIDATA_PARTS/part.label.$SORTED_EXTENSION \\\n",
    " -p ';; ^.*@en$' -o $WIKIDATA_PARTS/part.label.en.$SORTED_EXTENSION"
   ]
  },
  {
   "cell_type": "code",
   "execution_count": 9,
   "metadata": {},
   "outputs": [],
   "source": [
    "!$kgtk filter --verbose=$VERBOSE --use-mgzip=$USE_MGZIP --obj=lang \\\n",
    " --input-file $WIKIDATA_PARTS/part.wikipedia_sitelink.$SORTED_EXTENSION \\\n",
    " -p ';; en' -o $WIKIDATA_PARTS/part.wikipedia_sitelink.en.$SORTED_EXTENSION"
   ]
  },
  {
   "cell_type": "markdown",
   "metadata": {},
   "source": [
    "### Extract the Entity list\n",
    "Create `part.claims.entities`.  This is a single-column KGTK node file that contains a list of all the ikidata `entityId` values in the `node` column of the input file. Wikidata items have `entityId` values that start with `Q`, while Wikidata properties have `entityId` values that start with `P`."
   ]
  },
  {
   "cell_type": "code",
   "execution_count": 9,
   "metadata": {},
   "outputs": [],
   "source": [
    "!$kgtk unique --verbose=$VERBOSE --format=node-only --use-mgzip=$USE_MGZIP \\\n",
    " --input-file  $WIKIDATA_PARTS/part.claims.$SORTED_EXTENSION \\\n",
    " --output-file $WIKIDATA_PARTS/part.claims.entities.$SORTED_EXTENSION \\\n",
    " --column      node1"
   ]
  },
  {
   "cell_type": "markdown",
   "metadata": {},
   "source": [
    "# Count the number of claims per Wikidata datatype"
   ]
  },
  {
   "cell_type": "code",
   "execution_count": 9,
   "metadata": {},
   "outputs": [],
   "source": [
    "!$kgtk unique --verbose=$VERBOSE --use-mgzip=$USE_MGZIP \\\n",
    " --input-file  $WIKIDATA_PARTS/part.claims.$SORTED_EXTENSION \\\n",
    " --output-file $WIKIDATA_PARTS/part.claims.datatypes.$SORTED_EXTENSION \\\n",
    " --column      'node2;wikidatatype'"
   ]
  },
  {
   "cell_type": "markdown",
   "metadata": {},
   "source": [
    "### Partition the claims by Wikidata Property Datatype\n",
    "Wikidata has two names for each Wikidata property datatype: the name that appears in the JSON dump file, and the name that appears in the TTL dump file. `kgtk import-wikidata` currently imports rows from Wikikdata JSON dump files, and these are the names that appear below.\n",
    "\n",
    "The `part.other` file catches any records that have an unknown Wikidata property datatype. Additional Wikidata property datatypes may occur when processing from certain Wikidata extensions."
   ]
  },
  {
   "cell_type": "code",
   "execution_count": 9,
   "metadata": {},
   "outputs": [],
   "source": [
    "!$kgtk filter --verbose=$VERBOSE --use-mgzip=$USE_MGZIP --first-match-only \\\n",
    " --input-file $WIKIDATA_PARTS/part.claims.$SORTED_EXTENSION \\\n",
    " --obj 'node2;wikidatatype' \\\n",
    " -p ';; commonsMedia'      -o $WIKIDATA_PARTS/part.commonsMedia.$SORTED_EXTENSION \\\n",
    " -p ';; external-id'       -o $WIKIDATA_PARTS/part.external-id.$SORTED_EXTENSION \\\n",
    " -p ';; geo-shape'         -o $WIKIDATA_PARTS/part.geo-shape.$SORTED_EXTENSION \\\n",
    " -p ';; globe-coordinate'  -o $WIKIDATA_PARTS/part.globe-coordinate.$SORTED_EXTENSION \\\n",
    " -p ';; math'              -o $WIKIDATA_PARTS/part.math.$SORTED_EXTENSION \\\n",
    " -p ';; monolingualtext'   -o $WIKIDATA_PARTS/part.monolingualtext.$SORTED_EXTENSION \\\n",
    " -p ';; musical-notation'  -o $WIKIDATA_PARTS/part.musical-notation.$SORTED_EXTENSION \\\n",
    " -p ';; quantity'          -o $WIKIDATA_PARTS/part.quantity.$SORTED_EXTENSION \\\n",
    " -p ';; string'            -o $WIKIDATA_PARTS/part.string.$SORTED_EXTENSION \\\n",
    " -p ';; tabular-data'      -o $WIKIDATA_PARTS/part.tabular-data.$SORTED_EXTENSION \\\n",
    " -p ';; time'              -o $WIKIDATA_PARTS/part.time.$SORTED_EXTENSION \\\n",
    " -p ';; url'               -o $WIKIDATA_PARTS/part.url.$SORTED_EXTENSION \\\n",
    " -p ';; wikibase-form'     -o $WIKIDATA_PARTS/part.wikibase-form.$SORTED_EXTENSION \\\n",
    " -p ';; wikibase-item'     -o $WIKIDATA_PARTS/part.wikibase-item.$SORTED_EXTENSION \\\n",
    " -p ';; wikibase-lexeme'   -o $WIKIDATA_PARTS/part.wikibase-lexeme.$SORTED_EXTENSION \\\n",
    " -p ';; wikibase-property' -o $WIKIDATA_PARTS/part.wikibase-property.$SORTED_EXTENSION \\\n",
    " -p ';; wikibase-sense'    -o $WIKIDATA_PARTS/part.wikibase-sense.$SORTED_EXTENSION \\\n",
    " --reject-file $WIKIDATA_PARTS/part.other.$SORTED_EXTENSION"
   ]
  },
  {
   "cell_type": "markdown",
   "metadata": {},
   "source": [
    "### Partition the qualifiers\n",
    "Extract the qualifier records for each of the Wikidata property datatype partition files."
   ]
  },
  {
   "cell_type": "code",
   "execution_count": 9,
   "metadata": {},
   "outputs": [],
   "source": [
    "!$kgtk ifexists --verbose=$VERBOSE --use-mgzip=$USE_MGZIP --presorted \\\n",
    " --input-file  $WIKIDATA_PARTS/part.qual.$SORTED_EXTENSION \\\n",
    " --filter-on   $WIKIDATA_PARTS/part.commonsMedia.$SORTED_EXTENSION \\\n",
    " --output-file $WIKIDATA_PARTS/part.commonsMedia.qual.$SORTED_EXTENSION \\\n",
    " --input-keys  node1 \\\n",
    " --filter-keys id"
   ]
  },
  {
   "cell_type": "code",
   "execution_count": 9,
   "metadata": {},
   "outputs": [],
   "source": [
    "!$kgtk ifexists --verbose=$VERBOSE --use-mgzip=$USE_MGZIP --presorted \\\n",
    " --input-file  $WIKIDATA_PARTS/part.qual.$SORTED_EXTENSION \\\n",
    " --filter-on   $WIKIDATA_PARTS/part.external-id.$SORTED_EXTENSION \\\n",
    " --output-file $WIKIDATA_PARTS/part.external-id.qual.$SORTED_EXTENSION \\\n",
    " --input-keys  node1 \\\n",
    " --filter-keys id"
   ]
  },
  {
   "cell_type": "code",
   "execution_count": 9,
   "metadata": {},
   "outputs": [],
   "source": [
    "!$kgtk ifexists --verbose=$VERBOSE --use-mgzip=$USE_MGZIP --presorted \\\n",
    " --input-file  $WIKIDATA_PARTS/part.qual.$SORTED_EXTENSION \\\n",
    " --filter-on   $WIKIDATA_PARTS/part.geo-shape.$SORTED_EXTENSION \\\n",
    " --output-file $WIKIDATA_PARTS/part.geo-shape.qual.$SORTED_EXTENSION \\\n",
    " --input-keys  node1 \\\n",
    " --filter-keys id"
   ]
  },
  {
   "cell_type": "code",
   "execution_count": 9,
   "metadata": {},
   "outputs": [],
   "source": [
    "!$kgtk ifexists --verbose=$VERBOSE --use-mgzip=$USE_MGZIP --presorted \\\n",
    " --input-file  $WIKIDATA_PARTS/part.qual.$SORTED_EXTENSION \\\n",
    " --filter-on   $WIKIDATA_PARTS/part.globe-coordinate.$SORTED_EXTENSION \\\n",
    " --output-file $WIKIDATA_PARTS/part.globe-coordinate.qual.$SORTED_EXTENSION \\\n",
    " --input-keys  node1 \\\n",
    " --filter-keys id"
   ]
  },
  {
   "cell_type": "code",
   "execution_count": 9,
   "metadata": {},
   "outputs": [],
   "source": [
    "!$kgtk ifexists --verbose=$VERBOSE --use-mgzip=$USE_MGZIP --presorted \\\n",
    " --input-file  $WIKIDATA_PARTS/part.qual.$SORTED_EXTENSION \\\n",
    " --filter-on   $WIKIDATA_PARTS/part.math.$SORTED_EXTENSION \\\n",
    " --output-file $WIKIDATA_PARTS/part.math.qual.$SORTED_EXTENSION \\\n",
    " --input-keys  node1 \\\n",
    " --filter-keys id"
   ]
  },
  {
   "cell_type": "code",
   "execution_count": 9,
   "metadata": {},
   "outputs": [],
   "source": [
    "!$kgtk ifexists --verbose=$VERBOSE --use-mgzip=$USE_MGZIP --presorted \\\n",
    " --input-file  $WIKIDATA_PARTS/part.qual.$SORTED_EXTENSION \\\n",
    " --filter-on   $WIKIDATA_PARTS/part.monolingualtext.$SORTED_EXTENSION \\\n",
    " --output-file $WIKIDATA_PARTS/part.monolingualtext.qual.$SORTED_EXTENSION \\\n",
    " --input-keys  node1 \\\n",
    " --filter-keys id"
   ]
  },
  {
   "cell_type": "code",
   "execution_count": 9,
   "metadata": {},
   "outputs": [],
   "source": [
    "!$kgtk ifexists --verbose=$VERBOSE --use-mgzip=$USE_MGZIP --presorted \\\n",
    " --input-file  $WIKIDATA_PARTS/part.qual.$SORTED_EXTENSION \\\n",
    " --filter-on   $WIKIDATA_PARTS/part.musical-notation.$SORTED_EXTENSION \\\n",
    " --output-file $WIKIDATA_PARTS/part.musical-notation.qual.$SORTED_EXTENSION \\\n",
    " --input-keys  node1 \\\n",
    " --filter-keys id"
   ]
  },
  {
   "cell_type": "code",
   "execution_count": 9,
   "metadata": {},
   "outputs": [],
   "source": [
    "!$kgtk ifexists --verbose=$VERBOSE --use-mgzip=$USE_MGZIP --presorted \\\n",
    " --input-file  $WIKIDATA_PARTS/part.qual.$SORTED_EXTENSION \\\n",
    " --filter-on   $WIKIDATA_PARTS/part.quantity.$SORTED_EXTENSION \\\n",
    " --output-file $WIKIDATA_PARTS/part.quantity.qual.$SORTED_EXTENSION \\\n",
    " --input-keys  node1 \\\n",
    " --filter-keys id"
   ]
  },
  {
   "cell_type": "code",
   "execution_count": 9,
   "metadata": {},
   "outputs": [],
   "source": [
    "!$kgtk ifexists --verbose=$VERBOSE --use-mgzip=$USE_MGZIP --presorted \\\n",
    " --input-file  $WIKIDATA_PARTS/part.qual.$SORTED_EXTENSION \\\n",
    " --filter-on   $WIKIDATA_PARTS/part.string.$SORTED_EXTENSION \\\n",
    " --output-file $WIKIDATA_PARTS/part.string.qual.$SORTED_EXTENSION \\\n",
    " --input-keys  node1 \\\n",
    " --filter-keys id"
   ]
  },
  {
   "cell_type": "code",
   "execution_count": 9,
   "metadata": {},
   "outputs": [],
   "source": [
    "!$kgtk ifexists --verbose=$VERBOSE --use-mgzip=$USE_MGZIP --presorted \\\n",
    " --input-file  $WIKIDATA_PARTS/part.qual.$SORTED_EXTENSION \\\n",
    " --filter-on   $WIKIDATA_PARTS/part.tabular-data.$SORTED_EXTENSION \\\n",
    " --output-file $WIKIDATA_PARTS/part.tabular-data.qual.$SORTED_EXTENSION \\\n",
    " --input-keys  node1 \\\n",
    " --filter-keys id"
   ]
  },
  {
   "cell_type": "code",
   "execution_count": 9,
   "metadata": {},
   "outputs": [],
   "source": [
    "!$kgtk ifexists --verbose=$VERBOSE --use-mgzip=$USE_MGZIP --presorted \\\n",
    " --input-file  $WIKIDATA_PARTS/part.qual.$SORTED_EXTENSION \\\n",
    " --filter-on   $WIKIDATA_PARTS/part.time.$SORTED_EXTENSION \\\n",
    " --output-file $WIKIDATA_PARTS/part.time.qual.$SORTED_EXTENSION \\\n",
    " --input-keys  node1 \\\n",
    " --filter-keys id"
   ]
  },
  {
   "cell_type": "code",
   "execution_count": 9,
   "metadata": {},
   "outputs": [],
   "source": [
    "!$kgtk ifexists --verbose=$VERBOSE --use-mgzip=$USE_MGZIP --presorted \\\n",
    " --input-file  $WIKIDATA_PARTS/part.qual.$SORTED_EXTENSION \\\n",
    " --filter-on   $WIKIDATA_PARTS/part.url.$SORTED_EXTENSION \\\n",
    " --output-file $WIKIDATA_PARTS/part.url.qual.$SORTED_EXTENSION \\\n",
    " --input-keys  node1 \\\n",
    " --filter-keys id"
   ]
  },
  {
   "cell_type": "code",
   "execution_count": 9,
   "metadata": {},
   "outputs": [],
   "source": [
    "!$kgtk ifexists --verbose=$VERBOSE --use-mgzip=$USE_MGZIP --presorted \\\n",
    " --input-file  $WIKIDATA_PARTS/part.qual.$SORTED_EXTENSION \\\n",
    " --filter-on   $WIKIDATA_PARTS/part.wikibase-form.$SORTED_EXTENSION \\\n",
    " --output-file $WIKIDATA_PARTS/part.wikibase-form.qual.$SORTED_EXTENSION \\\n",
    " --input-keys  node1 \\\n",
    " --filter-keys id"
   ]
  },
  {
   "cell_type": "code",
   "execution_count": 9,
   "metadata": {},
   "outputs": [],
   "source": [
    "!$kgtk ifexists --verbose=$VERBOSE --use-mgzip=$USE_MGZIP --presorted \\\n",
    " --input-file  $WIKIDATA_PARTS/part.qual.$SORTED_EXTENSION \\\n",
    " --filter-on   $WIKIDATA_PARTS/part.wikibase-item.$SORTED_EXTENSION \\\n",
    " --output-file $WIKIDATA_PARTS/part.wikibase-item.qual.$SORTED_EXTENSION \\\n",
    " --input-keys  node1 \\\n",
    " --filter-keys id"
   ]
  },
  {
   "cell_type": "code",
   "execution_count": 9,
   "metadata": {},
   "outputs": [],
   "source": [
    "!$kgtk ifexists --verbose=$VERBOSE --use-mgzip=$USE_MGZIP --presorted \\\n",
    " --input-file  $WIKIDATA_PARTS/part.qual.$SORTED_EXTENSION \\\n",
    " --filter-on   $WIKIDATA_PARTS/part.wikibase-lexeme.$SORTED_EXTENSION \\\n",
    " --output-file $WIKIDATA_PARTS/part.wikibase-lexeme.qual.$SORTED_EXTENSION \\\n",
    " --input-keys  node1 \\\n",
    " --filter-keys id"
   ]
  },
  {
   "cell_type": "code",
   "execution_count": 9,
   "metadata": {},
   "outputs": [],
   "source": [
    "!$kgtk ifexists --verbose=$VERBOSE --use-mgzip=$USE_MGZIP --presorted \\\n",
    " --input-file  $WIKIDATA_PARTS/part.qual.$SORTED_EXTENSION \\\n",
    " --filter-on   $WIKIDATA_PARTS/part.wikibase-property.$SORTED_EXTENSION \\\n",
    " --output-file $WIKIDATA_PARTS/part.wikibase-property.qual.$SORTED_EXTENSION \\\n",
    " --input-keys  node1 \\\n",
    " --filter-keys id"
   ]
  },
  {
   "cell_type": "code",
   "execution_count": 9,
   "metadata": {},
   "outputs": [],
   "source": [
    "!$kgtk ifexists --verbose=$VERBOSE --use-mgzip=$USE_MGZIP --presorted \\\n",
    " --input-file  $WIKIDATA_PARTS/part.qual.$SORTED_EXTENSION \\\n",
    " --filter-on   $WIKIDATA_PARTS/part.wikibase-sense.$SORTED_EXTENSION \\\n",
    " --output-file $WIKIDATA_PARTS/part.wikibase-sense.qual.$SORTED_EXTENSION \\\n",
    " --input-keys  node1 \\\n",
    " --filter-keys id"
   ]
  },
  {
   "cell_type": "markdown",
   "metadata": {},
   "source": [
    "### Extract the Property claims\n",
    "Extract the claims that are made about Wikidata properties.  Then, extract the qualifiers for those claims."
   ]
  },
  {
   "cell_type": "code",
   "execution_count": 9,
   "metadata": {},
   "outputs": [],
   "source": [
    "!$kgtk filter --verbose=$VERBOSE --use-mgzip=$USE_MGZIP --regex \\\n",
    " --input-file $WIKIDATA_PARTS/part.claims.$SORTED_EXTENSION \\\n",
    " -p '^P.*$ ;;' -o $WIKIDATA_PARTS/part.property.$SORTED_EXTENSION"
   ]
  },
  {
   "cell_type": "code",
   "execution_count": 9,
   "metadata": {},
   "outputs": [],
   "source": [
    "!$kgtk filter --verbose=$VERBOSE --use-mgzip=$USE_MGZIP --regex \\\n",
    " --input-file $WIKIDATA_PARTS/part.qual.$SORTED_EXTENSION \\\n",
    " -p '^P.*$ ;;' -o $WIKIDATA_PARTS/part.property.qual.$SORTED_EXTENSION"
   ]
  },
  {
   "cell_type": "markdown",
   "metadata": {},
   "source": [
    "### Count the number of property claims per Wikidata property datatype."
   ]
  },
  {
   "cell_type": "code",
   "execution_count": 9,
   "metadata": {},
   "outputs": [],
   "source": [
    "!$kgtk unique --verbose=$VERBOSE --use-mgzip=$USE_MGZIP \\\n",
    " --input-file  $WIKIDATA_PARTS/part.property.$SORTED_EXTENSION \\\n",
    " --output-file $WIKIDATA_PARTS/part.property.datatypes.$SORTED_EXTENSION \\\n",
    " --column      'node2;wikidatatype'"
   ]
  },
  {
   "cell_type": "markdown",
   "metadata": {},
   "source": [
    "### Count and label the property claims.\n",
    "Count the number of claims per property, then lift the English label for each property."
   ]
  },
  {
   "cell_type": "code",
   "execution_count": 9,
   "metadata": {},
   "outputs": [],
   "source": [
    "!$kgtk unique --verbose=$VERBOSE \\\n",
    " --use-mgzip $USE_MGZIP \\\n",
    " --input-file  $WIKIDATA_PARTS/part.property.$SORTED_EXTENSION \\\n",
    " --output-file $WIKIDATA_PARTS/part.property.counts.$SORTED_EXTENSION \\\n",
    " --column      label \\\n",
    " --label       total-count"
   ]
  },
  {
   "cell_type": "code",
   "execution_count": 9,
   "metadata": {},
   "outputs": [],
   "source": [
    "!$kgtk lift --verbose=$VERBOSE --use-mgzip=$USE_MGZIP \\\n",
    " --input-file       $WIKIDATA_PARTS/part.property.counts.$SORTED_EXTENSION \\\n",
    " --input-file       $WIKIDATA_PARTS/part.label.en.$SORTED_EXTENSION \\\n",
    " --output-file      $WIKIDATA_PARTS/part.property.counts-with-labels.$SORTED_EXTENSION \\\n",
    " --columns-to-lift  node1 \\\n",
    " --prefilter-labels"
   ]
  }
 ],
 "metadata": {
  "kernelspec": {
   "display_name": "Python 3",
   "language": "python",
   "name": "python3"
  },
  "language_info": {
   "codemirror_mode": {
    "name": "ipython",
    "version": 3
   },
   "file_extension": ".py",
   "mimetype": "text/x-python",
   "name": "python",
   "nbconvert_exporter": "python",
   "pygments_lexer": "ipython3",
   "version": "3.8.5"
  }
 },
 "nbformat": 4,
 "nbformat_minor": 4
}
