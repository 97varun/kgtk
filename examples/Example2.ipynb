{
 "cells": [
  {
   "cell_type": "markdown",
   "metadata": {},
   "source": [
    "# Example Scenario 2: Validation and statistics on a subset of Wikidata\n",
    "\n",
    "*Bob wants to extract a subset of Wikidata with the `instanceof (P31)`  property, validate it, and compute  its statistics, including  centrality metrics.*"
   ]
  },
  {
   "cell_type": "markdown",
   "metadata": {},
   "source": [
    "### Preparation\n",
    "\n",
    "To run this notebook, Bob would need the Wikidata edges file. We will work with version ` ` of Wikidata. Presumably, this file is not present on Bob's laptop, so we need to download and unpack it first (note: mac users might need to install `wget` first: `brew install wget`):"
   ]
  },
  {
   "cell_type": "code",
   "execution_count": null,
   "metadata": {},
   "outputs": [],
   "source": []
  },
  {
   "cell_type": "code",
   "execution_count": null,
   "metadata": {},
   "outputs": [],
   "source": [
    "%%bash\n",
    "gunzip wikidata_edges_20200504.tsv.gz"
   ]
  },
  {
   "cell_type": "markdown",
   "metadata": {},
   "source": [
    "Alternatively, you can download the Wikidata json.bz2 file and then use the command \n",
    "\n",
    "`kgtk import_wikidata -i wikidata-20200504-all.json.bz2 --node wikidata_nodes_20200504.tsv --edge wikidata_edges_20200504.tsv -qual wikidata_qualifiers_20200504.tsv`\n",
    "\n",
    "This takes 11 hours."
   ]
  },
  {
   "cell_type": "markdown",
   "metadata": {},
   "source": [
    "## Implementation in KGTK\n",
    "\n",
    "**Assume that the Wikidata file has already been transformed to KGTK format.**"
   ]
  },
  {
   "cell_type": "code",
   "execution_count": 24,
   "metadata": {},
   "outputs": [
    {
     "name": "stdout",
     "output_type": "stream",
     "text": [
      "env: obsolete=id,rank,node2;magnitude,node2;unit,node2;item,node2;lower,node2;upper,node2;entity-type,node2;longitude,node2;latitude,node2;date,node2;calendar,node2;precision\n"
     ]
    }
   ],
   "source": [
    "%env obsolete=id,rank,node2;magnitude,node2;unit,node2;item,node2;lower,node2;upper,node2;entity-type,node2;longitude,node2;latitude,node2;date,node2;calendar,node2;precision"
   ]
  },
  {
   "cell_type": "code",
   "execution_count": 25,
   "metadata": {},
   "outputs": [
    {
     "name": "stdout",
     "output_type": "stream",
     "text": [
      "id,rank,node2;magnitude,node2;unit,node2;item,node2;lower,node2;upper,node2;entity-type,node2;longitude,node2;latitude,node2;date,node2;calendar,node2;precision\n"
     ]
    }
   ],
   "source": [
    "%%bash\n",
    "echo \"$obsolete\""
   ]
  },
  {
   "cell_type": "code",
   "execution_count": 30,
   "metadata": {},
   "outputs": [
    {
     "name": "stderr",
     "output_type": "stream",
     "text": [
      "IOPub data rate exceeded.\n",
      "The notebook server will temporarily stop sending output\n",
      "to the client in order to avoid crashing it.\n",
      "To change this limit, set the config variable\n",
      "`--NotebookApp.iopub_data_rate_limit`.\n",
      "\n",
      "Current values:\n",
      "NotebookApp.iopub_data_rate_limit=1000000.0 (bytes/sec)\n",
      "NotebookApp.rate_limit_window=3.0 (secs)\n",
      "\n"
     ]
    },
    {
     "ename": "CalledProcessError",
     "evalue": "Command 'b'kgtk clean_data --error-limit 1000000 wikidata_edges_20200504.tsv / remove_columns -c \"$obsolete\"  / filter -p \\' ; P31 ; \\' > graph.tsv\\n'' returned non-zero exit status 2.",
     "output_type": "error",
     "traceback": [
      "\u001b[0;31m---------------------------------------------------------------------------\u001b[0m",
      "\u001b[0;31mCalledProcessError\u001b[0m                        Traceback (most recent call last)",
      "\u001b[0;32m<ipython-input-30-3fac4f7494c9>\u001b[0m in \u001b[0;36m<module>\u001b[0;34m\u001b[0m\n\u001b[0;32m----> 1\u001b[0;31m \u001b[0mget_ipython\u001b[0m\u001b[0;34m(\u001b[0m\u001b[0;34m)\u001b[0m\u001b[0;34m.\u001b[0m\u001b[0mrun_cell_magic\u001b[0m\u001b[0;34m(\u001b[0m\u001b[0;34m'bash'\u001b[0m\u001b[0;34m,\u001b[0m \u001b[0;34m''\u001b[0m\u001b[0;34m,\u001b[0m \u001b[0;34m'kgtk clean_data --error-limit 1000000 wikidata_edges_20200504.tsv / remove_columns -c \"$obsolete\"  / filter -p \\' ; P31 ; \\' > graph.tsv\\n'\u001b[0m\u001b[0;34m)\u001b[0m\u001b[0;34m\u001b[0m\u001b[0;34m\u001b[0m\u001b[0m\n\u001b[0m",
      "\u001b[0;32m~/opt/anaconda3/envs/kgtk-env/lib/python3.7/site-packages/IPython/core/interactiveshell.py\u001b[0m in \u001b[0;36mrun_cell_magic\u001b[0;34m(self, magic_name, line, cell)\u001b[0m\n\u001b[1;32m   2360\u001b[0m             \u001b[0;32mwith\u001b[0m \u001b[0mself\u001b[0m\u001b[0;34m.\u001b[0m\u001b[0mbuiltin_trap\u001b[0m\u001b[0;34m:\u001b[0m\u001b[0;34m\u001b[0m\u001b[0;34m\u001b[0m\u001b[0m\n\u001b[1;32m   2361\u001b[0m                 \u001b[0margs\u001b[0m \u001b[0;34m=\u001b[0m \u001b[0;34m(\u001b[0m\u001b[0mmagic_arg_s\u001b[0m\u001b[0;34m,\u001b[0m \u001b[0mcell\u001b[0m\u001b[0;34m)\u001b[0m\u001b[0;34m\u001b[0m\u001b[0;34m\u001b[0m\u001b[0m\n\u001b[0;32m-> 2362\u001b[0;31m                 \u001b[0mresult\u001b[0m \u001b[0;34m=\u001b[0m \u001b[0mfn\u001b[0m\u001b[0;34m(\u001b[0m\u001b[0;34m*\u001b[0m\u001b[0margs\u001b[0m\u001b[0;34m,\u001b[0m \u001b[0;34m**\u001b[0m\u001b[0mkwargs\u001b[0m\u001b[0;34m)\u001b[0m\u001b[0;34m\u001b[0m\u001b[0;34m\u001b[0m\u001b[0m\n\u001b[0m\u001b[1;32m   2363\u001b[0m             \u001b[0;32mreturn\u001b[0m \u001b[0mresult\u001b[0m\u001b[0;34m\u001b[0m\u001b[0;34m\u001b[0m\u001b[0m\n\u001b[1;32m   2364\u001b[0m \u001b[0;34m\u001b[0m\u001b[0m\n",
      "\u001b[0;32m~/opt/anaconda3/envs/kgtk-env/lib/python3.7/site-packages/IPython/core/magics/script.py\u001b[0m in \u001b[0;36mnamed_script_magic\u001b[0;34m(line, cell)\u001b[0m\n\u001b[1;32m    140\u001b[0m             \u001b[0;32melse\u001b[0m\u001b[0;34m:\u001b[0m\u001b[0;34m\u001b[0m\u001b[0;34m\u001b[0m\u001b[0m\n\u001b[1;32m    141\u001b[0m                 \u001b[0mline\u001b[0m \u001b[0;34m=\u001b[0m \u001b[0mscript\u001b[0m\u001b[0;34m\u001b[0m\u001b[0;34m\u001b[0m\u001b[0m\n\u001b[0;32m--> 142\u001b[0;31m             \u001b[0;32mreturn\u001b[0m \u001b[0mself\u001b[0m\u001b[0;34m.\u001b[0m\u001b[0mshebang\u001b[0m\u001b[0;34m(\u001b[0m\u001b[0mline\u001b[0m\u001b[0;34m,\u001b[0m \u001b[0mcell\u001b[0m\u001b[0;34m)\u001b[0m\u001b[0;34m\u001b[0m\u001b[0;34m\u001b[0m\u001b[0m\n\u001b[0m\u001b[1;32m    143\u001b[0m \u001b[0;34m\u001b[0m\u001b[0m\n\u001b[1;32m    144\u001b[0m         \u001b[0;31m# write a basic docstring:\u001b[0m\u001b[0;34m\u001b[0m\u001b[0;34m\u001b[0m\u001b[0;34m\u001b[0m\u001b[0m\n",
      "\u001b[0;32m<decorator-gen-110>\u001b[0m in \u001b[0;36mshebang\u001b[0;34m(self, line, cell)\u001b[0m\n",
      "\u001b[0;32m~/opt/anaconda3/envs/kgtk-env/lib/python3.7/site-packages/IPython/core/magic.py\u001b[0m in \u001b[0;36m<lambda>\u001b[0;34m(f, *a, **k)\u001b[0m\n\u001b[1;32m    185\u001b[0m     \u001b[0;31m# but it's overkill for just that one bit of state.\u001b[0m\u001b[0;34m\u001b[0m\u001b[0;34m\u001b[0m\u001b[0;34m\u001b[0m\u001b[0m\n\u001b[1;32m    186\u001b[0m     \u001b[0;32mdef\u001b[0m \u001b[0mmagic_deco\u001b[0m\u001b[0;34m(\u001b[0m\u001b[0marg\u001b[0m\u001b[0;34m)\u001b[0m\u001b[0;34m:\u001b[0m\u001b[0;34m\u001b[0m\u001b[0;34m\u001b[0m\u001b[0m\n\u001b[0;32m--> 187\u001b[0;31m         \u001b[0mcall\u001b[0m \u001b[0;34m=\u001b[0m \u001b[0;32mlambda\u001b[0m \u001b[0mf\u001b[0m\u001b[0;34m,\u001b[0m \u001b[0;34m*\u001b[0m\u001b[0ma\u001b[0m\u001b[0;34m,\u001b[0m \u001b[0;34m**\u001b[0m\u001b[0mk\u001b[0m\u001b[0;34m:\u001b[0m \u001b[0mf\u001b[0m\u001b[0;34m(\u001b[0m\u001b[0;34m*\u001b[0m\u001b[0ma\u001b[0m\u001b[0;34m,\u001b[0m \u001b[0;34m**\u001b[0m\u001b[0mk\u001b[0m\u001b[0;34m)\u001b[0m\u001b[0;34m\u001b[0m\u001b[0;34m\u001b[0m\u001b[0m\n\u001b[0m\u001b[1;32m    188\u001b[0m \u001b[0;34m\u001b[0m\u001b[0m\n\u001b[1;32m    189\u001b[0m         \u001b[0;32mif\u001b[0m \u001b[0mcallable\u001b[0m\u001b[0;34m(\u001b[0m\u001b[0marg\u001b[0m\u001b[0;34m)\u001b[0m\u001b[0;34m:\u001b[0m\u001b[0;34m\u001b[0m\u001b[0;34m\u001b[0m\u001b[0m\n",
      "\u001b[0;32m~/opt/anaconda3/envs/kgtk-env/lib/python3.7/site-packages/IPython/core/magics/script.py\u001b[0m in \u001b[0;36mshebang\u001b[0;34m(self, line, cell)\u001b[0m\n\u001b[1;32m    243\u001b[0m             \u001b[0msys\u001b[0m\u001b[0;34m.\u001b[0m\u001b[0mstderr\u001b[0m\u001b[0;34m.\u001b[0m\u001b[0mflush\u001b[0m\u001b[0;34m(\u001b[0m\u001b[0;34m)\u001b[0m\u001b[0;34m\u001b[0m\u001b[0;34m\u001b[0m\u001b[0m\n\u001b[1;32m    244\u001b[0m         \u001b[0;32mif\u001b[0m \u001b[0margs\u001b[0m\u001b[0;34m.\u001b[0m\u001b[0mraise_error\u001b[0m \u001b[0;32mand\u001b[0m \u001b[0mp\u001b[0m\u001b[0;34m.\u001b[0m\u001b[0mreturncode\u001b[0m\u001b[0;34m!=\u001b[0m\u001b[0;36m0\u001b[0m\u001b[0;34m:\u001b[0m\u001b[0;34m\u001b[0m\u001b[0;34m\u001b[0m\u001b[0m\n\u001b[0;32m--> 245\u001b[0;31m             \u001b[0;32mraise\u001b[0m \u001b[0mCalledProcessError\u001b[0m\u001b[0;34m(\u001b[0m\u001b[0mp\u001b[0m\u001b[0;34m.\u001b[0m\u001b[0mreturncode\u001b[0m\u001b[0;34m,\u001b[0m \u001b[0mcell\u001b[0m\u001b[0;34m,\u001b[0m \u001b[0moutput\u001b[0m\u001b[0;34m=\u001b[0m\u001b[0mout\u001b[0m\u001b[0;34m,\u001b[0m \u001b[0mstderr\u001b[0m\u001b[0;34m=\u001b[0m\u001b[0merr\u001b[0m\u001b[0;34m)\u001b[0m\u001b[0;34m\u001b[0m\u001b[0;34m\u001b[0m\u001b[0m\n\u001b[0m\u001b[1;32m    246\u001b[0m \u001b[0;34m\u001b[0m\u001b[0m\n\u001b[1;32m    247\u001b[0m     \u001b[0;32mdef\u001b[0m \u001b[0m_run_script\u001b[0m\u001b[0;34m(\u001b[0m\u001b[0mself\u001b[0m\u001b[0;34m,\u001b[0m \u001b[0mp\u001b[0m\u001b[0;34m,\u001b[0m \u001b[0mcell\u001b[0m\u001b[0;34m,\u001b[0m \u001b[0mto_close\u001b[0m\u001b[0;34m)\u001b[0m\u001b[0;34m:\u001b[0m\u001b[0;34m\u001b[0m\u001b[0;34m\u001b[0m\u001b[0m\n",
      "\u001b[0;31mCalledProcessError\u001b[0m: Command 'b'kgtk clean_data --error-limit 1000000 wikidata_edges_20200504.tsv / remove_columns -c \"$obsolete\"  / filter -p \\' ; P31 ; \\' > graph.tsv\\n'' returned non-zero exit status 2."
     ]
    }
   ],
   "source": [
    "%%bash\n",
    "kgtk clean_data --error-limit 1000000 wikidata_edges_20200504.tsv / remove_columns -c \"$obsolete\"  / filter -p ' ; P31 ; ' > graph.tsv"
   ]
  },
  {
   "cell_type": "code",
   "execution_count": 27,
   "metadata": {},
   "outputs": [
    {
     "name": "stdout",
     "output_type": "stream",
     "text": [
      "node1\tproperty\tnode2\tid\n",
      "Q8\tQ8\tQ331769\tQ8-Q8-0\n",
      "Q8\tQ8\tQ60539479\tQ8-Q8-1\n",
      "Q8\tQ8\tQ9415\tQ8-Q8-2\n",
      "Q24\tQ24\tQ15632617\tQ24-Q24-3\n",
      "Q24\tQ24\tQ15773317\tQ24-Q24-4\n",
      "Q1868\tQ1868\tQ5\tQ1868-Q1868-5\n",
      "Q45\tQ45\tQ3624078\tQ45-Q45-6\n",
      "Q45\tQ45\tQ6256\tQ45-Q45-7\n",
      "Q45\tQ45\tQ20181813\tQ45-Q45-8\n",
      "Q8\tvertex_in_degree\t0\tQ8-vertex_in_degree-0\n",
      "Q8\tvertex_out_degree\t3\tQ8-vertex_out_degree-1\n",
      "Q8\tvertex_pagerank\t0.060975257748869374\tQ8-vertex_pagerank-2\n",
      "Q331769\tvertex_in_degree\t1\tQ331769-vertex_in_degree-3\n",
      "Q331769\tvertex_out_degree\t0\tQ331769-vertex_out_degree-4\n",
      "Q331769\tvertex_pagerank\t0.07825156317735428\tQ331769-vertex_pagerank-5\n",
      "Q60539479\tvertex_in_degree\t1\tQ60539479-vertex_in_degree-6\n",
      "Q60539479\tvertex_out_degree\t0\tQ60539479-vertex_out_degree-7\n",
      "Q60539479\tvertex_pagerank\t0.07825156317735428\tQ60539479-vertex_pagerank-8\n",
      "Q9415\tvertex_in_degree\t1\tQ9415-vertex_in_degree-9\n",
      "Q9415\tvertex_out_degree\t0\tQ9415-vertex_out_degree-10\n",
      "Q9415\tvertex_pagerank\t0.07825156317735428\tQ9415-vertex_pagerank-11\n",
      "Q24\tvertex_in_degree\t0\tQ24-vertex_in_degree-12\n",
      "Q24\tvertex_out_degree\t2\tQ24-vertex_out_degree-13\n",
      "Q24\tvertex_pagerank\t0.060975257748869374\tQ24-vertex_pagerank-14\n",
      "Q15632617\tvertex_in_degree\t1\tQ15632617-vertex_in_degree-15\n",
      "Q15632617\tvertex_out_degree\t0\tQ15632617-vertex_out_degree-16\n",
      "Q15632617\tvertex_pagerank\t0.08688971589159675\tQ15632617-vertex_pagerank-17\n",
      "Q15773317\tvertex_in_degree\t1\tQ15773317-vertex_in_degree-18\n",
      "Q15773317\tvertex_out_degree\t0\tQ15773317-vertex_out_degree-19\n",
      "Q15773317\tvertex_pagerank\t0.08688971589159675\tQ15773317-vertex_pagerank-20\n",
      "Q1868\tvertex_in_degree\t0\tQ1868-vertex_in_degree-21\n",
      "Q1868\tvertex_out_degree\t1\tQ1868-vertex_out_degree-22\n",
      "Q1868\tvertex_pagerank\t0.060975257748869374\tQ1868-vertex_pagerank-23\n",
      "Q5\tvertex_in_degree\t1\tQ5-vertex_in_degree-24\n",
      "Q5\tvertex_out_degree\t0\tQ5-vertex_out_degree-25\n",
      "Q5\tvertex_pagerank\t0.1128041740343241\tQ5-vertex_pagerank-26\n",
      "Q45\tvertex_in_degree\t0\tQ45-vertex_in_degree-27\n",
      "Q45\tvertex_out_degree\t3\tQ45-vertex_out_degree-28\n",
      "Q45\tvertex_pagerank\t0.060975257748869374\tQ45-vertex_pagerank-29\n",
      "Q3624078\tvertex_in_degree\t1\tQ3624078-vertex_in_degree-30\n",
      "Q3624078\tvertex_out_degree\t0\tQ3624078-vertex_out_degree-31\n",
      "Q3624078\tvertex_pagerank\t0.07825156317735428\tQ3624078-vertex_pagerank-32\n",
      "Q6256\tvertex_in_degree\t1\tQ6256-vertex_in_degree-33\n",
      "Q6256\tvertex_out_degree\t0\tQ6256-vertex_out_degree-34\n",
      "Q6256\tvertex_pagerank\t0.07825156317735428\tQ6256-vertex_pagerank-35\n",
      "Q20181813\tvertex_in_degree\t1\tQ20181813-vertex_in_degree-36\n",
      "Q20181813\tvertex_out_degree\t0\tQ20181813-vertex_out_degree-37\n",
      "Q20181813\tvertex_pagerank\t0.07825156317735428\tQ20181813-vertex_pagerank-38\n"
     ]
    }
   ],
   "source": [
    "%%bash\n",
    "kgtk graph_statistics --directed --degrees --pagerank graph.tsv"
   ]
  },
  {
   "cell_type": "markdown",
   "metadata": {},
   "source": [
    "## Issues\n",
    "\n",
    "* import of wikidata file to kgtk\n",
    "* add the file somewhere downloadable"
   ]
  },
  {
   "cell_type": "code",
   "execution_count": null,
   "metadata": {},
   "outputs": [],
   "source": []
  }
 ],
 "metadata": {
  "kernelspec": {
   "display_name": "Python 3",
   "language": "python",
   "name": "python3"
  },
  "language_info": {
   "codemirror_mode": {
    "name": "ipython",
    "version": 3
   },
   "file_extension": ".py",
   "mimetype": "text/x-python",
   "name": "python",
   "nbconvert_exporter": "python",
   "pygments_lexer": "ipython3",
   "version": "3.7.7"
  }
 },
 "nbformat": 4,
 "nbformat_minor": 4
}
