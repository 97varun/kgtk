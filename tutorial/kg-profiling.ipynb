{
 "cells": [
  {
   "cell_type": "markdown",
   "metadata": {},
   "source": [
    "# Profile The Tutorial Graph\n",
    "\n"
   ]
  },
  {
   "cell_type": "code",
   "execution_count": 1,
   "metadata": {},
   "outputs": [],
   "source": [
    "import io\n",
    "import os\n",
    "import subprocess\n",
    "import sys\n",
    "\n",
    "import numpy as np\n",
    "import pandas as pd\n",
    "from IPython.display import display, HTML\n",
    "\n",
    "import papermill as pm\n",
    "\n",
    "sys.path.insert(0,'..')\n",
    "from configure_kgtk_notebooks import ConfigureKGTK\n",
    "\n",
    "from kgtk.functions import kgtk, kypher"
   ]
  },
  {
   "cell_type": "code",
   "execution_count": 2,
   "metadata": {
    "tags": [
     "parameters"
    ]
   },
   "outputs": [],
   "source": [
    "# Parameters\n",
    "\n",
    "kgtk_path = \"/Users/pedroszekely/Documents/GitHub/kgtk\"\n",
    "\n",
    "# Folder on local machine where to create the output and temporary folders\n",
    "input_path = \"/Users/pedroszekely/Documents/GitHub/kgtk-tutorial-files/datasets/arnold\"\n",
    "output_path = \"/Users/pedroszekely/Downloads/kypher/projects\"\n",
    "project_name = \"tutorial-profiling\""
   ]
  },
  {
   "cell_type": "markdown",
   "metadata": {},
   "source": [
    "These are all the files that we have, but I am tempted to just use the `all` file as it helps to keep the tutorial simpler"
   ]
  },
  {
   "cell_type": "code",
   "execution_count": 11,
   "metadata": {},
   "outputs": [
    {
     "name": "stdout",
     "output_type": "stream",
     "text": [
      "User home: /Users/pedroszekely\n",
      "Current dir: /Users/pedroszekely/Documents/GitHub/kgtk/tutorial\n",
      "KGTK dir: /Users/pedroszekely/Documents/GitHub/kgtk\n",
      "Use-cases dir: /Users/pedroszekely/Documents/GitHub/kgtk/use-cases\n"
     ]
    }
   ],
   "source": [
    "files = [\n",
    "    \"all\",\n",
    "    \"label\",\n",
    "    \"alias\",\n",
    "    \"description\",\n",
    "    \"external_id\",\n",
    "    \"monolingualtext\",\n",
    "    \"quantity\",\n",
    "    \"string\",\n",
    "    \"time\",\n",
    "    \"item\",\n",
    "    \"wikibase_property\",\n",
    "    \"qualifiers\",\n",
    "    \"datatypes\",\n",
    "    \"p279\",\n",
    "    \"p279star\",\n",
    "    \"p31\",\n",
    "    \"in_degree\",\n",
    "    \"out_degree\",\n",
    "    \"pagerank_directed\",\n",
    "    \"pagerank_undirected\"\n",
    "]\n",
    "ck = ConfigureKGTK(kgtk_path=kgtk_path)\n",
    "ck.configure_kgtk(input_graph_path=input_path,\n",
    "                  output_path=output_path,\n",
    "                  project_name=project_name)"
   ]
  },
  {
   "cell_type": "code",
   "execution_count": 12,
   "metadata": {},
   "outputs": [
    {
     "name": "stdout",
     "output_type": "stream",
     "text": [
      "kypher: kgtk query --graph-cache /Users/pedroszekely/Downloads/kypher/projects/tutorial-profiling/temp.tutorial-profiling/wikidata.sqlite3.db\n",
      "GRAPH: /Users/pedroszekely/Documents/GitHub/kgtk-tutorial-files/datasets/arnold\n",
      "EXAMPLES_DIR: /Users/pedroszekely/Documents/GitHub/kgtk/examples\n",
      "kgtk: kgtk\n",
      "STORE: /Users/pedroszekely/Downloads/kypher/projects/tutorial-profiling/temp.tutorial-profiling/wikidata.sqlite3.db\n",
      "TEMP: /Users/pedroszekely/Downloads/kypher/projects/tutorial-profiling/temp.tutorial-profiling\n",
      "USE_CASES_DIR: /Users/pedroszekely/Documents/GitHub/kgtk/use-cases\n",
      "OUT: /Users/pedroszekely/Downloads/kypher/projects/tutorial-profiling\n",
      "all: /Users/pedroszekely/Documents/GitHub/kgtk-tutorial-files/datasets/arnold/all.tsv.gz\n",
      "label: /Users/pedroszekely/Documents/GitHub/kgtk-tutorial-files/datasets/arnold/labels.en.tsv.gz\n",
      "alias: /Users/pedroszekely/Documents/GitHub/kgtk-tutorial-files/datasets/arnold/aliases.en.tsv.gz\n",
      "description: /Users/pedroszekely/Documents/GitHub/kgtk-tutorial-files/datasets/arnold/descriptions.en.tsv.gz\n",
      "external_id: /Users/pedroszekely/Documents/GitHub/kgtk-tutorial-files/datasets/arnold/claims.external-id.tsv.gz\n",
      "monolingualtext: /Users/pedroszekely/Documents/GitHub/kgtk-tutorial-files/datasets/arnold/claims.monolingualtext.tsv.gz\n",
      "quantity: /Users/pedroszekely/Documents/GitHub/kgtk-tutorial-files/datasets/arnold/claims.quantity.tsv.gz\n",
      "string: /Users/pedroszekely/Documents/GitHub/kgtk-tutorial-files/datasets/arnold/claims.string.tsv.gz\n",
      "time: /Users/pedroszekely/Documents/GitHub/kgtk-tutorial-files/datasets/arnold/claims.time.tsv.gz\n",
      "item: /Users/pedroszekely/Documents/GitHub/kgtk-tutorial-files/datasets/arnold/claims.wikibase-item.tsv.gz\n",
      "wikibase_property: /Users/pedroszekely/Documents/GitHub/kgtk-tutorial-files/datasets/arnold/claims.wikibase-property.tsv.gz\n",
      "qualifiers: /Users/pedroszekely/Documents/GitHub/kgtk-tutorial-files/datasets/arnold/qualifiers.tsv.gz\n",
      "datatypes: /Users/pedroszekely/Documents/GitHub/kgtk-tutorial-files/datasets/arnold/metadata.property.datatypes.tsv.gz\n",
      "p279: /Users/pedroszekely/Documents/GitHub/kgtk-tutorial-files/datasets/arnold/derived.P279.tsv.gz\n",
      "p279star: /Users/pedroszekely/Documents/GitHub/kgtk-tutorial-files/datasets/arnold/derived.P279star.tsv.gz\n",
      "p31: /Users/pedroszekely/Documents/GitHub/kgtk-tutorial-files/datasets/arnold/derived.P31.tsv.gz\n",
      "in_degree: /Users/pedroszekely/Documents/GitHub/kgtk-tutorial-files/datasets/arnold/metadata.in_degree.tsv.gz\n",
      "out_degree: /Users/pedroszekely/Documents/GitHub/kgtk-tutorial-files/datasets/arnold/metadata.out_degree.tsv.gz\n",
      "pagerank_directed: /Users/pedroszekely/Documents/GitHub/kgtk-tutorial-files/datasets/arnold/metadata.pagerank.directed.tsv.gz\n",
      "pagerank_undirected: /Users/pedroszekely/Documents/GitHub/kgtk-tutorial-files/datasets/arnold/metadata.pagerank.undirected.tsv.gz\n"
     ]
    }
   ],
   "source": [
    "ck.print_env_variables(files)"
   ]
  },
  {
   "cell_type": "markdown",
   "metadata": {},
   "source": [
    "Set up defaults KGTK"
   ]
  },
  {
   "cell_type": "code",
   "execution_count": 25,
   "metadata": {},
   "outputs": [],
   "source": [
    "os.environ['kgtk_path'] = kgtk_path\n",
    "os.environ['KGTK_GRAPH_CACHE'] = os.environ['STORE']\n",
    "os.environ['KGTK_LABEL_FILE'] = input_path + \"/labels.en.tsv.gz\"\n",
    "os.environ['KGTK_OPTION_DEBUG'] = \"false\""
   ]
  },
  {
   "cell_type": "markdown",
   "metadata": {},
   "source": [
    "Load all my files into the kypher cache so that all graph aliases are defined"
   ]
  },
  {
   "cell_type": "code",
   "execution_count": 26,
   "metadata": {},
   "outputs": [
    {
     "name": "stdout",
     "output_type": "stream",
     "text": [
      "kgtk query --graph-cache /Users/pedroszekely/Downloads/kypher/projects/tutorial-profiling/temp.tutorial-profiling/wikidata.sqlite3.db -i \"/Users/pedroszekely/Documents/GitHub/kgtk-tutorial-files/datasets/arnold/all.tsv.gz\" --as all  -i \"/Users/pedroszekely/Documents/GitHub/kgtk-tutorial-files/datasets/arnold/labels.en.tsv.gz\" --as label  -i \"/Users/pedroszekely/Documents/GitHub/kgtk-tutorial-files/datasets/arnold/aliases.en.tsv.gz\" --as alias  -i \"/Users/pedroszekely/Documents/GitHub/kgtk-tutorial-files/datasets/arnold/descriptions.en.tsv.gz\" --as description  -i \"/Users/pedroszekely/Documents/GitHub/kgtk-tutorial-files/datasets/arnold/claims.external-id.tsv.gz\" --as external_id  -i \"/Users/pedroszekely/Documents/GitHub/kgtk-tutorial-files/datasets/arnold/claims.monolingualtext.tsv.gz\" --as monolingualtext  -i \"/Users/pedroszekely/Documents/GitHub/kgtk-tutorial-files/datasets/arnold/claims.quantity.tsv.gz\" --as quantity  -i \"/Users/pedroszekely/Documents/GitHub/kgtk-tutorial-files/datasets/arnold/claims.string.tsv.gz\" --as string  -i \"/Users/pedroszekely/Documents/GitHub/kgtk-tutorial-files/datasets/arnold/claims.time.tsv.gz\" --as time  -i \"/Users/pedroszekely/Documents/GitHub/kgtk-tutorial-files/datasets/arnold/claims.wikibase-item.tsv.gz\" --as item  -i \"/Users/pedroszekely/Documents/GitHub/kgtk-tutorial-files/datasets/arnold/claims.wikibase-property.tsv.gz\" --as wikibase_property  -i \"/Users/pedroszekely/Documents/GitHub/kgtk-tutorial-files/datasets/arnold/qualifiers.tsv.gz\" --as qualifiers  -i \"/Users/pedroszekely/Documents/GitHub/kgtk-tutorial-files/datasets/arnold/metadata.property.datatypes.tsv.gz\" --as datatypes  -i \"/Users/pedroszekely/Documents/GitHub/kgtk-tutorial-files/datasets/arnold/derived.P279.tsv.gz\" --as p279  -i \"/Users/pedroszekely/Documents/GitHub/kgtk-tutorial-files/datasets/arnold/derived.P279star.tsv.gz\" --as p279star  -i \"/Users/pedroszekely/Documents/GitHub/kgtk-tutorial-files/datasets/arnold/derived.P31.tsv.gz\" --as p31  -i \"/Users/pedroszekely/Documents/GitHub/kgtk-tutorial-files/datasets/arnold/metadata.in_degree.tsv.gz\" --as in_degree  -i \"/Users/pedroszekely/Documents/GitHub/kgtk-tutorial-files/datasets/arnold/metadata.out_degree.tsv.gz\" --as out_degree  -i \"/Users/pedroszekely/Documents/GitHub/kgtk-tutorial-files/datasets/arnold/metadata.pagerank.directed.tsv.gz\" --as pagerank_directed  -i \"/Users/pedroszekely/Documents/GitHub/kgtk-tutorial-files/datasets/arnold/metadata.pagerank.undirected.tsv.gz\" --as pagerank_undirected  --limit 3\n",
      "node1\tlabel\tnode2\tid\tnode2;wikidatatype\n",
      "P10\talias\t'gif'@en\tP10-alias-en-282226-0\t\n",
      "P10\talias\t'animation'@en\tP10-alias-en-2f86d8-0\t\n",
      "P10\talias\t'media'@en\tP10-alias-en-c1427e-0\t\n"
     ]
    }
   ],
   "source": [
    "ck.load_files_into_cache(file_list=files)"
   ]
  },
  {
   "cell_type": "code",
   "execution_count": 18,
   "metadata": {},
   "outputs": [
    {
     "name": "stdout",
     "output_type": "stream",
     "text": [
      "/Users/pedroszekely/Downloads/kypher/projects/tutorial-profiling\n"
     ]
    }
   ],
   "source": [
    "%cd {os.environ['OUT']}"
   ]
  },
  {
   "cell_type": "markdown",
   "metadata": {},
   "source": [
    "## Get instance counts\n",
    "\n"
   ]
  },
  {
   "cell_type": "markdown",
   "metadata": {},
   "source": [
    "We can compute the instance counts by retrieving all statements that use `instance of (P31)` and counting the instances for each class"
   ]
  },
  {
   "cell_type": "code",
   "execution_count": 27,
   "metadata": {},
   "outputs": [
    {
     "name": "stdout",
     "output_type": "stream",
     "text": [
      "CPU times: user 5.15 ms, sys: 10.3 ms, total: 15.5 ms\n",
      "Wall time: 1.13 s\n"
     ]
    },
    {
     "data": {
      "text/html": [
       "<div>\n",
       "<style scoped>\n",
       "    .dataframe tbody tr th:only-of-type {\n",
       "        vertical-align: middle;\n",
       "    }\n",
       "\n",
       "    .dataframe tbody tr th {\n",
       "        vertical-align: top;\n",
       "    }\n",
       "\n",
       "    .dataframe thead th {\n",
       "        text-align: right;\n",
       "    }\n",
       "</style>\n",
       "<table border=\"1\" class=\"dataframe\">\n",
       "  <thead>\n",
       "    <tr style=\"text-align: right;\">\n",
       "      <th></th>\n",
       "      <th>class</th>\n",
       "      <th>count</th>\n",
       "      <th>class;label</th>\n",
       "    </tr>\n",
       "  </thead>\n",
       "  <tbody>\n",
       "    <tr>\n",
       "      <th>0</th>\n",
       "      <td>Q5</td>\n",
       "      <td>10918</td>\n",
       "      <td>'human'@en</td>\n",
       "    </tr>\n",
       "    <tr>\n",
       "      <th>1</th>\n",
       "      <td>Q15221623</td>\n",
       "      <td>3176</td>\n",
       "      <td>'bilateral relation'@en</td>\n",
       "    </tr>\n",
       "    <tr>\n",
       "      <th>2</th>\n",
       "      <td>Q11424</td>\n",
       "      <td>2126</td>\n",
       "      <td>'film'@en</td>\n",
       "    </tr>\n",
       "    <tr>\n",
       "      <th>3</th>\n",
       "      <td>Q4022</td>\n",
       "      <td>1547</td>\n",
       "      <td>'river'@en</td>\n",
       "    </tr>\n",
       "    <tr>\n",
       "      <th>4</th>\n",
       "      <td>Q3918</td>\n",
       "      <td>778</td>\n",
       "      <td>'university'@en</td>\n",
       "    </tr>\n",
       "    <tr>\n",
       "      <th>5</th>\n",
       "      <td>Q3917681</td>\n",
       "      <td>613</td>\n",
       "      <td>'embassy'@en</td>\n",
       "    </tr>\n",
       "    <tr>\n",
       "      <th>6</th>\n",
       "      <td>Q1549591</td>\n",
       "      <td>590</td>\n",
       "      <td>'big city'@en</td>\n",
       "    </tr>\n",
       "    <tr>\n",
       "      <th>7</th>\n",
       "      <td>Q19595382</td>\n",
       "      <td>583</td>\n",
       "      <td>'Wikidata property for authority control for p...</td>\n",
       "    </tr>\n",
       "    <tr>\n",
       "      <th>8</th>\n",
       "      <td>Q11862829</td>\n",
       "      <td>530</td>\n",
       "      <td>'academic discipline'@en</td>\n",
       "    </tr>\n",
       "    <tr>\n",
       "      <th>9</th>\n",
       "      <td>Q15632617</td>\n",
       "      <td>493</td>\n",
       "      <td>'fictional human'@en</td>\n",
       "    </tr>\n",
       "  </tbody>\n",
       "</table>\n",
       "</div>"
      ],
      "text/plain": [
       "       class  count                                        class;label\n",
       "0         Q5  10918                                         'human'@en\n",
       "1  Q15221623   3176                            'bilateral relation'@en\n",
       "2     Q11424   2126                                          'film'@en\n",
       "3      Q4022   1547                                         'river'@en\n",
       "4      Q3918    778                                    'university'@en\n",
       "5   Q3917681    613                                       'embassy'@en\n",
       "6   Q1549591    590                                      'big city'@en\n",
       "7  Q19595382    583  'Wikidata property for authority control for p...\n",
       "8  Q11862829    530                           'academic discipline'@en\n",
       "9  Q15632617    493                               'fictional human'@en"
      ]
     },
     "execution_count": 27,
     "metadata": {},
     "output_type": "execute_result"
    }
   ],
   "source": [
    "%%time\n",
    "kgtk(\"\"\"\n",
    "    query -i all\n",
    "        --match '(instance)-[:P31]->(class)'\n",
    "        --return 'class as class, count(distinct instance) as count'\n",
    "        --order-by 'cast(count, int) desc'\n",
    "        --limit 10 \n",
    "    / add-labels\n",
    "\"\"\")"
   ]
  },
  {
   "cell_type": "markdown",
   "metadata": {},
   "source": [
    "We want to add the profiloing data back into the KG so that we can use it in queries and look at it in the browser.\n",
    "To do so, we create a KGTK graph by using `node1, label, node2` as column headers:"
   ]
  },
  {
   "cell_type": "code",
   "execution_count": 29,
   "metadata": {},
   "outputs": [
    {
     "name": "stdout",
     "output_type": "stream",
     "text": [
      "CPU times: user 4.83 ms, sys: 10.7 ms, total: 15.5 ms\n",
      "Wall time: 759 ms\n"
     ]
    },
    {
     "data": {
      "text/html": [
       "<div>\n",
       "<style scoped>\n",
       "    .dataframe tbody tr th:only-of-type {\n",
       "        vertical-align: middle;\n",
       "    }\n",
       "\n",
       "    .dataframe tbody tr th {\n",
       "        vertical-align: top;\n",
       "    }\n",
       "\n",
       "    .dataframe thead th {\n",
       "        text-align: right;\n",
       "    }\n",
       "</style>\n",
       "<table border=\"1\" class=\"dataframe\">\n",
       "  <thead>\n",
       "    <tr style=\"text-align: right;\">\n",
       "      <th></th>\n",
       "      <th>node1</th>\n",
       "      <th>label</th>\n",
       "      <th>node2</th>\n",
       "    </tr>\n",
       "  </thead>\n",
       "  <tbody>\n",
       "    <tr>\n",
       "      <th>0</th>\n",
       "      <td>Q5</td>\n",
       "      <td>P31_count</td>\n",
       "      <td>10918</td>\n",
       "    </tr>\n",
       "    <tr>\n",
       "      <th>1</th>\n",
       "      <td>Q15221623</td>\n",
       "      <td>P31_count</td>\n",
       "      <td>3176</td>\n",
       "    </tr>\n",
       "    <tr>\n",
       "      <th>2</th>\n",
       "      <td>Q11424</td>\n",
       "      <td>P31_count</td>\n",
       "      <td>2126</td>\n",
       "    </tr>\n",
       "    <tr>\n",
       "      <th>3</th>\n",
       "      <td>Q4022</td>\n",
       "      <td>P31_count</td>\n",
       "      <td>1547</td>\n",
       "    </tr>\n",
       "    <tr>\n",
       "      <th>4</th>\n",
       "      <td>Q3918</td>\n",
       "      <td>P31_count</td>\n",
       "      <td>778</td>\n",
       "    </tr>\n",
       "    <tr>\n",
       "      <th>5</th>\n",
       "      <td>Q3917681</td>\n",
       "      <td>P31_count</td>\n",
       "      <td>613</td>\n",
       "    </tr>\n",
       "    <tr>\n",
       "      <th>6</th>\n",
       "      <td>Q1549591</td>\n",
       "      <td>P31_count</td>\n",
       "      <td>590</td>\n",
       "    </tr>\n",
       "    <tr>\n",
       "      <th>7</th>\n",
       "      <td>Q19595382</td>\n",
       "      <td>P31_count</td>\n",
       "      <td>583</td>\n",
       "    </tr>\n",
       "    <tr>\n",
       "      <th>8</th>\n",
       "      <td>Q11862829</td>\n",
       "      <td>P31_count</td>\n",
       "      <td>530</td>\n",
       "    </tr>\n",
       "    <tr>\n",
       "      <th>9</th>\n",
       "      <td>Q15632617</td>\n",
       "      <td>P31_count</td>\n",
       "      <td>493</td>\n",
       "    </tr>\n",
       "  </tbody>\n",
       "</table>\n",
       "</div>"
      ],
      "text/plain": [
       "       node1      label  node2\n",
       "0         Q5  P31_count  10918\n",
       "1  Q15221623  P31_count   3176\n",
       "2     Q11424  P31_count   2126\n",
       "3      Q4022  P31_count   1547\n",
       "4      Q3918  P31_count    778\n",
       "5   Q3917681  P31_count    613\n",
       "6   Q1549591  P31_count    590\n",
       "7  Q19595382  P31_count    583\n",
       "8  Q11862829  P31_count    530\n",
       "9  Q15632617  P31_count    493"
      ]
     },
     "execution_count": 29,
     "metadata": {},
     "output_type": "execute_result"
    }
   ],
   "source": [
    "%%time\n",
    "kgtk(\"\"\"\n",
    "    query -i all\n",
    "        --match '(instance)-[:P31]->(class)'\n",
    "        --return 'class as node1, \"P31_count\" as label, count(distinct instance) as node2'\n",
    "        --order-by 'cast(node2, int) desc'\n",
    "    --limit 10 \n",
    "\"\"\")"
   ]
  },
  {
   "cell_type": "markdown",
   "metadata": {},
   "source": [
    "It is good practice to add identifiers to the edges so that we can add qualifiers later if we desire:"
   ]
  },
  {
   "cell_type": "code",
   "execution_count": 59,
   "metadata": {},
   "outputs": [
    {
     "name": "stdout",
     "output_type": "stream",
     "text": [
      "CPU times: user 43.6 ms, sys: 19.2 ms, total: 62.8 ms\n",
      "Wall time: 1.19 s\n"
     ]
    },
    {
     "data": {
      "text/html": [
       "<div>\n",
       "<style scoped>\n",
       "    .dataframe tbody tr th:only-of-type {\n",
       "        vertical-align: middle;\n",
       "    }\n",
       "\n",
       "    .dataframe tbody tr th {\n",
       "        vertical-align: top;\n",
       "    }\n",
       "\n",
       "    .dataframe thead th {\n",
       "        text-align: right;\n",
       "    }\n",
       "</style>\n",
       "<table border=\"1\" class=\"dataframe\">\n",
       "  <thead>\n",
       "    <tr style=\"text-align: right;\">\n",
       "      <th></th>\n",
       "      <th>node1</th>\n",
       "      <th>label</th>\n",
       "      <th>node2</th>\n",
       "      <th>id</th>\n",
       "    </tr>\n",
       "  </thead>\n",
       "  <tbody>\n",
       "    <tr>\n",
       "      <th>0</th>\n",
       "      <td>Q5</td>\n",
       "      <td>P31count</td>\n",
       "      <td>10918</td>\n",
       "      <td>Q5-P31count-2bf374</td>\n",
       "    </tr>\n",
       "    <tr>\n",
       "      <th>1</th>\n",
       "      <td>Q15221623</td>\n",
       "      <td>P31count</td>\n",
       "      <td>3176</td>\n",
       "      <td>Q15221623-P31count-73e7f3</td>\n",
       "    </tr>\n",
       "    <tr>\n",
       "      <th>2</th>\n",
       "      <td>Q11424</td>\n",
       "      <td>P31count</td>\n",
       "      <td>2126</td>\n",
       "      <td>Q11424-P31count-d8adfb</td>\n",
       "    </tr>\n",
       "    <tr>\n",
       "      <th>3</th>\n",
       "      <td>Q4022</td>\n",
       "      <td>P31count</td>\n",
       "      <td>1547</td>\n",
       "      <td>Q4022-P31count-05fb3c</td>\n",
       "    </tr>\n",
       "    <tr>\n",
       "      <th>4</th>\n",
       "      <td>Q3918</td>\n",
       "      <td>P31count</td>\n",
       "      <td>778</td>\n",
       "      <td>Q3918-P31count-93411f</td>\n",
       "    </tr>\n",
       "    <tr>\n",
       "      <th>...</th>\n",
       "      <td>...</td>\n",
       "      <td>...</td>\n",
       "      <td>...</td>\n",
       "      <td>...</td>\n",
       "    </tr>\n",
       "    <tr>\n",
       "      <th>4965</th>\n",
       "      <td>Q996839</td>\n",
       "      <td>P31count</td>\n",
       "      <td>1</td>\n",
       "      <td>Q996839-P31count-6b86b2</td>\n",
       "    </tr>\n",
       "    <tr>\n",
       "      <th>4966</th>\n",
       "      <td>Q99934885</td>\n",
       "      <td>P31count</td>\n",
       "      <td>1</td>\n",
       "      <td>Q99934885-P31count-6b86b2</td>\n",
       "    </tr>\n",
       "    <tr>\n",
       "      <th>4967</th>\n",
       "      <td>Q99935030</td>\n",
       "      <td>P31count</td>\n",
       "      <td>1</td>\n",
       "      <td>Q99935030-P31count-6b86b2</td>\n",
       "    </tr>\n",
       "    <tr>\n",
       "      <th>4968</th>\n",
       "      <td>Q99960791</td>\n",
       "      <td>P31count</td>\n",
       "      <td>1</td>\n",
       "      <td>Q99960791-P31count-6b86b2</td>\n",
       "    </tr>\n",
       "    <tr>\n",
       "      <th>4969</th>\n",
       "      <td>Q99972219</td>\n",
       "      <td>P31count</td>\n",
       "      <td>1</td>\n",
       "      <td>Q99972219-P31count-6b86b2</td>\n",
       "    </tr>\n",
       "  </tbody>\n",
       "</table>\n",
       "<p>4970 rows × 4 columns</p>\n",
       "</div>"
      ],
      "text/plain": [
       "          node1     label  node2                         id\n",
       "0            Q5  P31count  10918         Q5-P31count-2bf374\n",
       "1     Q15221623  P31count   3176  Q15221623-P31count-73e7f3\n",
       "2        Q11424  P31count   2126     Q11424-P31count-d8adfb\n",
       "3         Q4022  P31count   1547      Q4022-P31count-05fb3c\n",
       "4         Q3918  P31count    778      Q3918-P31count-93411f\n",
       "...         ...       ...    ...                        ...\n",
       "4965    Q996839  P31count      1    Q996839-P31count-6b86b2\n",
       "4966  Q99934885  P31count      1  Q99934885-P31count-6b86b2\n",
       "4967  Q99935030  P31count      1  Q99935030-P31count-6b86b2\n",
       "4968  Q99960791  P31count      1  Q99960791-P31count-6b86b2\n",
       "4969  Q99972219  P31count      1  Q99972219-P31count-6b86b2\n",
       "\n",
       "[4970 rows x 4 columns]"
      ]
     },
     "execution_count": 59,
     "metadata": {},
     "output_type": "execute_result"
    }
   ],
   "source": [
    "%%time\n",
    "kgtk(\"\"\"\n",
    "    query -i all\n",
    "        --match '(instance)-[:P31]->(class)'\n",
    "        --return 'class as node1, \"P31count\" as label, count(distinct instance) as node2'\n",
    "        --order-by 'cast(node2, int) desc' \n",
    "    / add-id --id-style wikidata\n",
    "\"\"\")"
   ]
  },
  {
   "cell_type": "markdown",
   "metadata": {},
   "source": [
    "Now that we saw the steps to do it, here is the query that you would have written at the start:"
   ]
  },
  {
   "cell_type": "code",
   "execution_count": 60,
   "metadata": {},
   "outputs": [
    {
     "name": "stdout",
     "output_type": "stream",
     "text": [
      "CPU times: user 3.07 ms, sys: 12.4 ms, total: 15.5 ms\n",
      "Wall time: 1.01 s\n"
     ]
    }
   ],
   "source": [
    "%%time\n",
    "kgtk(\"\"\"\n",
    "    query -i all\n",
    "        --match '(instance)-[:P31]->(class)'\n",
    "        --return 'class as node1, \"P31count\" as label, count(distinct instance) as node2'\n",
    "        --order-by 'cast(node2, int) desc'\n",
    "    / add-id --id-style wikidata\n",
    "    -o $OUT/metadata.p31.count.tsv\n",
    "\"\"\")"
   ]
  },
  {
   "cell_type": "markdown",
   "metadata": {},
   "source": [
    "Confirm that the output file went to the right place:"
   ]
  },
  {
   "cell_type": "code",
   "execution_count": 61,
   "metadata": {},
   "outputs": [
    {
     "name": "stdout",
     "output_type": "stream",
     "text": [
      "total 528\n",
      "-rw-r--r--  1 pedroszekely  staff  224219 Oct  8 18:26 metadata.p31.count.tsv\n",
      "drwxr-xr-x  3 pedroszekely  staff      96 Oct  8 18:19 \u001b[34mtemp.tutorial-profiling\u001b[m\u001b[m\n"
     ]
    }
   ],
   "source": [
    "!ls -l $OUT"
   ]
  },
  {
   "cell_type": "markdown",
   "metadata": {},
   "source": [
    "Load the `P31count` graph in the KGTK cache so that we can use it in queries later"
   ]
  },
  {
   "cell_type": "code",
   "execution_count": 62,
   "metadata": {},
   "outputs": [
    {
     "data": {
      "text/html": [
       "<div>\n",
       "<style scoped>\n",
       "    .dataframe tbody tr th:only-of-type {\n",
       "        vertical-align: middle;\n",
       "    }\n",
       "\n",
       "    .dataframe tbody tr th {\n",
       "        vertical-align: top;\n",
       "    }\n",
       "\n",
       "    .dataframe thead th {\n",
       "        text-align: right;\n",
       "    }\n",
       "</style>\n",
       "<table border=\"1\" class=\"dataframe\">\n",
       "  <thead>\n",
       "    <tr style=\"text-align: right;\">\n",
       "      <th></th>\n",
       "      <th>node1</th>\n",
       "      <th>label</th>\n",
       "      <th>node2</th>\n",
       "      <th>id</th>\n",
       "    </tr>\n",
       "  </thead>\n",
       "  <tbody>\n",
       "    <tr>\n",
       "      <th>0</th>\n",
       "      <td>Q5</td>\n",
       "      <td>P31count</td>\n",
       "      <td>10918</td>\n",
       "      <td>Q5-P31count-2bf374</td>\n",
       "    </tr>\n",
       "    <tr>\n",
       "      <th>1</th>\n",
       "      <td>Q15221623</td>\n",
       "      <td>P31count</td>\n",
       "      <td>3176</td>\n",
       "      <td>Q15221623-P31count-73e7f3</td>\n",
       "    </tr>\n",
       "  </tbody>\n",
       "</table>\n",
       "</div>"
      ],
      "text/plain": [
       "       node1     label  node2                         id\n",
       "0         Q5  P31count  10918         Q5-P31count-2bf374\n",
       "1  Q15221623  P31count   3176  Q15221623-P31count-73e7f3"
      ]
     },
     "execution_count": 62,
     "metadata": {},
     "output_type": "execute_result"
    }
   ],
   "source": [
    "kgtk(\"\"\"\n",
    "    query -i $OUT/metadata.p31.count.tsv --as p31count --limit 2\n",
    "\"\"\")"
   ]
  },
  {
   "cell_type": "markdown",
   "metadata": {},
   "source": [
    "## Count the instances of a class including the instances of all the subclasses\n",
    "\n",
    "Approach:\n",
    "- get the class of each instance\n",
    "- get all the superclass of the class of each instance\n",
    "- for every superclass, count all the instances\n",
    "\n",
    "> This query will run at the scale of all Wikidata, which contains millions of classes\n",
    "\n",
    "We add the labels to see the results, not surprisingly, `entity` has the most instances, and the top classes are "
   ]
  },
  {
   "cell_type": "code",
   "execution_count": 63,
   "metadata": {},
   "outputs": [
    {
     "name": "stdout",
     "output_type": "stream",
     "text": [
      "CPU times: user 47.4 ms, sys: 20 ms, total: 67.4 ms\n",
      "Wall time: 7.64 s\n"
     ]
    },
    {
     "data": {
      "text/html": [
       "<div>\n",
       "<style scoped>\n",
       "    .dataframe tbody tr th:only-of-type {\n",
       "        vertical-align: middle;\n",
       "    }\n",
       "\n",
       "    .dataframe tbody tr th {\n",
       "        vertical-align: top;\n",
       "    }\n",
       "\n",
       "    .dataframe thead th {\n",
       "        text-align: right;\n",
       "    }\n",
       "</style>\n",
       "<table border=\"1\" class=\"dataframe\">\n",
       "  <thead>\n",
       "    <tr style=\"text-align: right;\">\n",
       "      <th></th>\n",
       "      <th>class</th>\n",
       "      <th>count</th>\n",
       "      <th>class;label</th>\n",
       "    </tr>\n",
       "  </thead>\n",
       "  <tbody>\n",
       "    <tr>\n",
       "      <th>0</th>\n",
       "      <td>Q35120</td>\n",
       "      <td>49231</td>\n",
       "      <td>'entity'@en</td>\n",
       "    </tr>\n",
       "    <tr>\n",
       "      <th>1</th>\n",
       "      <td>Q99527517</td>\n",
       "      <td>30567</td>\n",
       "      <td>'collection entity'@en</td>\n",
       "    </tr>\n",
       "    <tr>\n",
       "      <th>2</th>\n",
       "      <td>Q28813620</td>\n",
       "      <td>28116</td>\n",
       "      <td>'set'@en</td>\n",
       "    </tr>\n",
       "    <tr>\n",
       "      <th>3</th>\n",
       "      <td>Q16887380</td>\n",
       "      <td>28102</td>\n",
       "      <td>'group'@en</td>\n",
       "    </tr>\n",
       "    <tr>\n",
       "      <th>4</th>\n",
       "      <td>Q58415929</td>\n",
       "      <td>27411</td>\n",
       "      <td>'spatio-temporal entity'@en</td>\n",
       "    </tr>\n",
       "    <tr>\n",
       "      <th>...</th>\n",
       "      <td>...</td>\n",
       "      <td>...</td>\n",
       "      <td>...</td>\n",
       "    </tr>\n",
       "    <tr>\n",
       "      <th>7849</th>\n",
       "      <td>Q100166391</td>\n",
       "      <td>1</td>\n",
       "      <td>'salt production facility'@en</td>\n",
       "    </tr>\n",
       "    <tr>\n",
       "      <th>7850</th>\n",
       "      <td>Q1001059</td>\n",
       "      <td>1</td>\n",
       "      <td>'writ'@en</td>\n",
       "    </tr>\n",
       "    <tr>\n",
       "      <th>7851</th>\n",
       "      <td>Q1000660</td>\n",
       "      <td>1</td>\n",
       "      <td>'algebra over a field'@en</td>\n",
       "    </tr>\n",
       "    <tr>\n",
       "      <th>7852</th>\n",
       "      <td>Q100052008</td>\n",
       "      <td>1</td>\n",
       "      <td>'anthropomorphic Pantherinae'@en</td>\n",
       "    </tr>\n",
       "    <tr>\n",
       "      <th>7853</th>\n",
       "      <td>Q100039327</td>\n",
       "      <td>1</td>\n",
       "      <td>'autonomous constitutional agency'@en</td>\n",
       "    </tr>\n",
       "  </tbody>\n",
       "</table>\n",
       "<p>7854 rows × 3 columns</p>\n",
       "</div>"
      ],
      "text/plain": [
       "           class  count                            class;label\n",
       "0         Q35120  49231                            'entity'@en\n",
       "1      Q99527517  30567                 'collection entity'@en\n",
       "2      Q28813620  28116                               'set'@en\n",
       "3      Q16887380  28102                             'group'@en\n",
       "4      Q58415929  27411            'spatio-temporal entity'@en\n",
       "...          ...    ...                                    ...\n",
       "7849  Q100166391      1          'salt production facility'@en\n",
       "7850    Q1001059      1                              'writ'@en\n",
       "7851    Q1000660      1              'algebra over a field'@en\n",
       "7852  Q100052008      1       'anthropomorphic Pantherinae'@en\n",
       "7853  Q100039327      1  'autonomous constitutional agency'@en\n",
       "\n",
       "[7854 rows x 3 columns]"
      ]
     },
     "execution_count": 63,
     "metadata": {},
     "output_type": "execute_result"
    }
   ],
   "source": [
    "%%time\n",
    "kgtk(\"\"\"\n",
    "    query -i all\n",
    "        --match '\n",
    "            (instance)-[:P31]->(class),\n",
    "            (class)-[:P279star]->(superclass)'\n",
    "        --return 'superclass as class, count(distinct instance) as count'\n",
    "        --order-by 'cast(count, int) desc'\n",
    "    / add-labels\n",
    "\"\"\")"
   ]
  },
  {
   "cell_type": "markdown",
   "metadata": {},
   "source": [
    "Store the results in a file using a new property `P31count_transitive`"
   ]
  },
  {
   "cell_type": "code",
   "execution_count": 67,
   "metadata": {},
   "outputs": [
    {
     "name": "stdout",
     "output_type": "stream",
     "text": [
      "CPU times: user 6.38 ms, sys: 13.8 ms, total: 20.2 ms\n",
      "Wall time: 8.21 s\n"
     ]
    }
   ],
   "source": [
    "%%time\n",
    "kgtk(\"\"\"\n",
    "    query -i all \n",
    "        --match '\n",
    "            (instance)-[:P31]->(class),\n",
    "            (class)-[:P279star]->(superclass)'\n",
    "        --return 'superclass as node1, \"P31count_transitive\" as label, count(distinct instance) as node2'\n",
    "        --order-by 'cast(node2, int) desc'\n",
    "    -o $OUT/metadata.p31.count.transitive.tsv\n",
    "\"\"\")"
   ]
  },
  {
   "cell_type": "code",
   "execution_count": null,
   "metadata": {},
   "outputs": [],
   "source": []
  }
 ],
 "metadata": {
  "kernelspec": {
   "display_name": "kgtk-env",
   "language": "python",
   "name": "kgtk-env"
  },
  "language_info": {
   "codemirror_mode": {
    "name": "ipython",
    "version": 3
   },
   "file_extension": ".py",
   "mimetype": "text/x-python",
   "name": "python",
   "nbconvert_exporter": "python",
   "pygments_lexer": "ipython3",
   "version": "3.8.11"
  }
 },
 "nbformat": 4,
 "nbformat_minor": 4
}
