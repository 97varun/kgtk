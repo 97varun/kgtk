{
 "cells": [
  {
   "cell_type": "markdown",
   "metadata": {},
   "source": [
    "# Profile The Tutorial Graph\n",
    "\n"
   ]
  },
  {
   "cell_type": "code",
   "execution_count": 1,
   "metadata": {},
   "outputs": [],
   "source": [
    "import io\n",
    "import os\n",
    "import subprocess\n",
    "import sys\n",
    "\n",
    "import numpy as np\n",
    "import pandas as pd\n",
    "from IPython.display import display, HTML\n",
    "\n",
    "import papermill as pm\n",
    "\n",
    "sys.path.insert(0,'..')\n",
    "from configure_kgtk_notebooks import ConfigureKGTK\n",
    "\n",
    "from kgtk.functions import kgtk, kypher"
   ]
  },
  {
   "cell_type": "code",
   "execution_count": 2,
   "metadata": {
    "tags": [
     "parameters"
    ]
   },
   "outputs": [],
   "source": [
    "# Parameters\n",
    "\n",
    "kgtk_path = \"/Users/pedroszekely/Documents/GitHub/kgtk\"\n",
    "\n",
    "# Folder on local machine where to create the output and temporary folders\n",
    "input_path = \"/Users/pedroszekely/Documents/GitHub/kgtk-tutorial-files/datasets/arnold\"\n",
    "output_path = \"/Users/pedroszekely/Downloads/kypher/projects\"\n",
    "project_name = \"tutorial-profiling\""
   ]
  },
  {
   "cell_type": "markdown",
   "metadata": {},
   "source": [
    "These are all the files that we have, but I am tempted to just use the `all` file as it helps to keep the tutorial simpler"
   ]
  },
  {
   "cell_type": "code",
   "execution_count": 3,
   "metadata": {},
   "outputs": [
    {
     "name": "stdout",
     "output_type": "stream",
     "text": [
      "User home: /Users/pedroszekely\n",
      "Current dir: /Users/pedroszekely/Documents/GitHub/kgtk/tutorial\n",
      "KGTK dir: /Users/pedroszekely/Documents/GitHub/kgtk\n",
      "Use-cases dir: /Users/pedroszekely/Documents/GitHub/kgtk/use-cases\n"
     ]
    }
   ],
   "source": [
    "files = [\n",
    "    \"all\",\n",
    "    \"label\",\n",
    "    \"alias\",\n",
    "    \"description\",\n",
    "    \"external_id\",\n",
    "    \"monolingualtext\",\n",
    "    \"quantity\",\n",
    "    \"string\",\n",
    "    \"time\",\n",
    "    \"item\",\n",
    "    \"wikibase_property\",\n",
    "    \"qualifiers\",\n",
    "    \"datatypes\",\n",
    "    \"p279\",\n",
    "    \"p279star\",\n",
    "    \"p31\",\n",
    "    \"in_degree\",\n",
    "    \"out_degree\",\n",
    "    \"pagerank_directed\",\n",
    "    \"pagerank_undirected\"\n",
    "]\n",
    "ck = ConfigureKGTK(kgtk_path=kgtk_path)\n",
    "ck.configure_kgtk(input_graph_path=input_path,\n",
    "                  output_path=output_path,\n",
    "                  project_name=project_name)"
   ]
  },
  {
   "cell_type": "code",
   "execution_count": 4,
   "metadata": {},
   "outputs": [
    {
     "name": "stdout",
     "output_type": "stream",
     "text": [
      "TEMP: /Users/pedroszekely/Downloads/kypher/projects/tutorial-profiling/temp.tutorial-profiling\n",
      "EXAMPLES_DIR: /Users/pedroszekely/Documents/GitHub/kgtk/examples\n",
      "USE_CASES_DIR: /Users/pedroszekely/Documents/GitHub/kgtk/use-cases\n",
      "GRAPH: /Users/pedroszekely/Documents/GitHub/kgtk-tutorial-files/datasets/arnold\n",
      "kypher: kgtk query --graph-cache /Users/pedroszekely/Downloads/kypher/projects/tutorial-profiling/temp.tutorial-profiling/wikidata.sqlite3.db\n",
      "OUT: /Users/pedroszekely/Downloads/kypher/projects/tutorial-profiling\n",
      "STORE: /Users/pedroszekely/Downloads/kypher/projects/tutorial-profiling/temp.tutorial-profiling/wikidata.sqlite3.db\n",
      "kgtk: kgtk\n",
      "all: /Users/pedroszekely/Documents/GitHub/kgtk-tutorial-files/datasets/arnold/all.tsv.gz\n",
      "label: /Users/pedroszekely/Documents/GitHub/kgtk-tutorial-files/datasets/arnold/labels.en.tsv.gz\n",
      "alias: /Users/pedroszekely/Documents/GitHub/kgtk-tutorial-files/datasets/arnold/aliases.en.tsv.gz\n",
      "description: /Users/pedroszekely/Documents/GitHub/kgtk-tutorial-files/datasets/arnold/descriptions.en.tsv.gz\n",
      "external_id: /Users/pedroszekely/Documents/GitHub/kgtk-tutorial-files/datasets/arnold/claims.external-id.tsv.gz\n",
      "monolingualtext: /Users/pedroszekely/Documents/GitHub/kgtk-tutorial-files/datasets/arnold/claims.monolingualtext.tsv.gz\n",
      "quantity: /Users/pedroszekely/Documents/GitHub/kgtk-tutorial-files/datasets/arnold/claims.quantity.tsv.gz\n",
      "string: /Users/pedroszekely/Documents/GitHub/kgtk-tutorial-files/datasets/arnold/claims.string.tsv.gz\n",
      "time: /Users/pedroszekely/Documents/GitHub/kgtk-tutorial-files/datasets/arnold/claims.time.tsv.gz\n",
      "item: /Users/pedroszekely/Documents/GitHub/kgtk-tutorial-files/datasets/arnold/claims.wikibase-item.tsv.gz\n",
      "wikibase_property: /Users/pedroszekely/Documents/GitHub/kgtk-tutorial-files/datasets/arnold/claims.wikibase-property.tsv.gz\n",
      "qualifiers: /Users/pedroszekely/Documents/GitHub/kgtk-tutorial-files/datasets/arnold/qualifiers.tsv.gz\n",
      "datatypes: /Users/pedroszekely/Documents/GitHub/kgtk-tutorial-files/datasets/arnold/metadata.property.datatypes.tsv.gz\n",
      "p279: /Users/pedroszekely/Documents/GitHub/kgtk-tutorial-files/datasets/arnold/derived.P279.tsv.gz\n",
      "p279star: /Users/pedroszekely/Documents/GitHub/kgtk-tutorial-files/datasets/arnold/derived.P279star.tsv.gz\n",
      "p31: /Users/pedroszekely/Documents/GitHub/kgtk-tutorial-files/datasets/arnold/derived.P31.tsv.gz\n",
      "in_degree: /Users/pedroszekely/Documents/GitHub/kgtk-tutorial-files/datasets/arnold/metadata.in_degree.tsv.gz\n",
      "out_degree: /Users/pedroszekely/Documents/GitHub/kgtk-tutorial-files/datasets/arnold/metadata.out_degree.tsv.gz\n",
      "pagerank_directed: /Users/pedroszekely/Documents/GitHub/kgtk-tutorial-files/datasets/arnold/metadata.pagerank.directed.tsv.gz\n",
      "pagerank_undirected: /Users/pedroszekely/Documents/GitHub/kgtk-tutorial-files/datasets/arnold/metadata.pagerank.undirected.tsv.gz\n"
     ]
    }
   ],
   "source": [
    "ck.print_env_variables(files)"
   ]
  },
  {
   "cell_type": "markdown",
   "metadata": {},
   "source": [
    "Set up defaults KGTK"
   ]
  },
  {
   "cell_type": "code",
   "execution_count": 5,
   "metadata": {},
   "outputs": [],
   "source": [
    "os.environ['kgtk_path'] = kgtk_path\n",
    "os.environ['KGTK_GRAPH_CACHE'] = os.environ['STORE']\n",
    "os.environ['KGTK_LABEL_FILE'] = input_path + \"/labels.en.tsv.gz\"\n",
    "os.environ['KGTK_OPTION_DEBUG'] = \"false\""
   ]
  },
  {
   "cell_type": "markdown",
   "metadata": {},
   "source": [
    "Load all my files into the kypher cache so that all graph aliases are defined"
   ]
  },
  {
   "cell_type": "code",
   "execution_count": 6,
   "metadata": {},
   "outputs": [
    {
     "name": "stdout",
     "output_type": "stream",
     "text": [
      "kgtk query --graph-cache /Users/pedroszekely/Downloads/kypher/projects/tutorial-profiling/temp.tutorial-profiling/wikidata.sqlite3.db -i \"/Users/pedroszekely/Documents/GitHub/kgtk-tutorial-files/datasets/arnold/all.tsv.gz\" --as all  -i \"/Users/pedroszekely/Documents/GitHub/kgtk-tutorial-files/datasets/arnold/labels.en.tsv.gz\" --as label  -i \"/Users/pedroszekely/Documents/GitHub/kgtk-tutorial-files/datasets/arnold/aliases.en.tsv.gz\" --as alias  -i \"/Users/pedroszekely/Documents/GitHub/kgtk-tutorial-files/datasets/arnold/descriptions.en.tsv.gz\" --as description  -i \"/Users/pedroszekely/Documents/GitHub/kgtk-tutorial-files/datasets/arnold/claims.external-id.tsv.gz\" --as external_id  -i \"/Users/pedroszekely/Documents/GitHub/kgtk-tutorial-files/datasets/arnold/claims.monolingualtext.tsv.gz\" --as monolingualtext  -i \"/Users/pedroszekely/Documents/GitHub/kgtk-tutorial-files/datasets/arnold/claims.quantity.tsv.gz\" --as quantity  -i \"/Users/pedroszekely/Documents/GitHub/kgtk-tutorial-files/datasets/arnold/claims.string.tsv.gz\" --as string  -i \"/Users/pedroszekely/Documents/GitHub/kgtk-tutorial-files/datasets/arnold/claims.time.tsv.gz\" --as time  -i \"/Users/pedroszekely/Documents/GitHub/kgtk-tutorial-files/datasets/arnold/claims.wikibase-item.tsv.gz\" --as item  -i \"/Users/pedroszekely/Documents/GitHub/kgtk-tutorial-files/datasets/arnold/claims.wikibase-property.tsv.gz\" --as wikibase_property  -i \"/Users/pedroszekely/Documents/GitHub/kgtk-tutorial-files/datasets/arnold/qualifiers.tsv.gz\" --as qualifiers  -i \"/Users/pedroszekely/Documents/GitHub/kgtk-tutorial-files/datasets/arnold/metadata.property.datatypes.tsv.gz\" --as datatypes  -i \"/Users/pedroszekely/Documents/GitHub/kgtk-tutorial-files/datasets/arnold/derived.P279.tsv.gz\" --as p279  -i \"/Users/pedroszekely/Documents/GitHub/kgtk-tutorial-files/datasets/arnold/derived.P279star.tsv.gz\" --as p279star  -i \"/Users/pedroszekely/Documents/GitHub/kgtk-tutorial-files/datasets/arnold/derived.P31.tsv.gz\" --as p31  -i \"/Users/pedroszekely/Documents/GitHub/kgtk-tutorial-files/datasets/arnold/metadata.in_degree.tsv.gz\" --as in_degree  -i \"/Users/pedroszekely/Documents/GitHub/kgtk-tutorial-files/datasets/arnold/metadata.out_degree.tsv.gz\" --as out_degree  -i \"/Users/pedroszekely/Documents/GitHub/kgtk-tutorial-files/datasets/arnold/metadata.pagerank.directed.tsv.gz\" --as pagerank_directed  -i \"/Users/pedroszekely/Documents/GitHub/kgtk-tutorial-files/datasets/arnold/metadata.pagerank.undirected.tsv.gz\" --as pagerank_undirected  --limit 3\n",
      "node1\tlabel\tnode2\tid\tnode2;wikidatatype\n",
      "P10\talias\t'gif'@en\tP10-alias-en-282226-0\t\n",
      "P10\talias\t'animation'@en\tP10-alias-en-2f86d8-0\t\n",
      "P10\talias\t'media'@en\tP10-alias-en-c1427e-0\t\n",
      "CPU times: user 4.27 ms, sys: 10.3 ms, total: 14.5 ms\n",
      "Wall time: 1.16 s\n"
     ]
    }
   ],
   "source": [
    "%%time\n",
    "ck.load_files_into_cache(file_list=files)"
   ]
  },
  {
   "cell_type": "code",
   "execution_count": 7,
   "metadata": {},
   "outputs": [
    {
     "name": "stdout",
     "output_type": "stream",
     "text": [
      "/Users/pedroszekely/Downloads/kypher/projects/tutorial-profiling\n"
     ]
    }
   ],
   "source": [
    "%cd {os.environ['OUT']}"
   ]
  },
  {
   "cell_type": "markdown",
   "metadata": {},
   "source": [
    "## Get instance counts\n",
    "\n"
   ]
  },
  {
   "cell_type": "markdown",
   "metadata": {},
   "source": [
    "We can compute the instance counts by retrieving all statements that use `instance of (P31)` and counting the instances for each class"
   ]
  },
  {
   "cell_type": "code",
   "execution_count": 8,
   "metadata": {},
   "outputs": [
    {
     "name": "stdout",
     "output_type": "stream",
     "text": [
      "CPU times: user 8.03 ms, sys: 12.6 ms, total: 20.6 ms\n",
      "Wall time: 1.45 s\n"
     ]
    },
    {
     "data": {
      "text/html": [
       "<div>\n",
       "<style scoped>\n",
       "    .dataframe tbody tr th:only-of-type {\n",
       "        vertical-align: middle;\n",
       "    }\n",
       "\n",
       "    .dataframe tbody tr th {\n",
       "        vertical-align: top;\n",
       "    }\n",
       "\n",
       "    .dataframe thead th {\n",
       "        text-align: right;\n",
       "    }\n",
       "</style>\n",
       "<table border=\"1\" class=\"dataframe\">\n",
       "  <thead>\n",
       "    <tr style=\"text-align: right;\">\n",
       "      <th></th>\n",
       "      <th>class</th>\n",
       "      <th>count</th>\n",
       "      <th>class;label</th>\n",
       "    </tr>\n",
       "  </thead>\n",
       "  <tbody>\n",
       "    <tr>\n",
       "      <th>0</th>\n",
       "      <td>Q5</td>\n",
       "      <td>10918</td>\n",
       "      <td>'human'@en</td>\n",
       "    </tr>\n",
       "    <tr>\n",
       "      <th>1</th>\n",
       "      <td>Q15221623</td>\n",
       "      <td>3176</td>\n",
       "      <td>'bilateral relation'@en</td>\n",
       "    </tr>\n",
       "    <tr>\n",
       "      <th>2</th>\n",
       "      <td>Q11424</td>\n",
       "      <td>2126</td>\n",
       "      <td>'film'@en</td>\n",
       "    </tr>\n",
       "    <tr>\n",
       "      <th>3</th>\n",
       "      <td>Q4022</td>\n",
       "      <td>1547</td>\n",
       "      <td>'river'@en</td>\n",
       "    </tr>\n",
       "    <tr>\n",
       "      <th>4</th>\n",
       "      <td>Q3918</td>\n",
       "      <td>778</td>\n",
       "      <td>'university'@en</td>\n",
       "    </tr>\n",
       "    <tr>\n",
       "      <th>5</th>\n",
       "      <td>Q3917681</td>\n",
       "      <td>613</td>\n",
       "      <td>'embassy'@en</td>\n",
       "    </tr>\n",
       "    <tr>\n",
       "      <th>6</th>\n",
       "      <td>Q1549591</td>\n",
       "      <td>590</td>\n",
       "      <td>'big city'@en</td>\n",
       "    </tr>\n",
       "    <tr>\n",
       "      <th>7</th>\n",
       "      <td>Q19595382</td>\n",
       "      <td>583</td>\n",
       "      <td>'Wikidata property for authority control for p...</td>\n",
       "    </tr>\n",
       "    <tr>\n",
       "      <th>8</th>\n",
       "      <td>Q11862829</td>\n",
       "      <td>530</td>\n",
       "      <td>'academic discipline'@en</td>\n",
       "    </tr>\n",
       "    <tr>\n",
       "      <th>9</th>\n",
       "      <td>Q15632617</td>\n",
       "      <td>493</td>\n",
       "      <td>'fictional human'@en</td>\n",
       "    </tr>\n",
       "  </tbody>\n",
       "</table>\n",
       "</div>"
      ],
      "text/plain": [
       "       class  count                                        class;label\n",
       "0         Q5  10918                                         'human'@en\n",
       "1  Q15221623   3176                            'bilateral relation'@en\n",
       "2     Q11424   2126                                          'film'@en\n",
       "3      Q4022   1547                                         'river'@en\n",
       "4      Q3918    778                                    'university'@en\n",
       "5   Q3917681    613                                       'embassy'@en\n",
       "6   Q1549591    590                                      'big city'@en\n",
       "7  Q19595382    583  'Wikidata property for authority control for p...\n",
       "8  Q11862829    530                           'academic discipline'@en\n",
       "9  Q15632617    493                               'fictional human'@en"
      ]
     },
     "execution_count": 8,
     "metadata": {},
     "output_type": "execute_result"
    }
   ],
   "source": [
    "%%time\n",
    "kgtk(\"\"\"\n",
    "    query -i all\n",
    "        --match '(instance)-[:P31]->(class)'\n",
    "        --return 'class as class, count(distinct instance) as count'\n",
    "        --order-by 'cast(count, int) desc'\n",
    "        --limit 10 \n",
    "    / add-labels\n",
    "\"\"\")"
   ]
  },
  {
   "cell_type": "markdown",
   "metadata": {},
   "source": [
    "We want to add the profiling data back into the KG so that we can use it in queries and look at it in the browser.\n",
    "To do so, we create a KGTK graph by using `node1, label, node2` as column headers:"
   ]
  },
  {
   "cell_type": "code",
   "execution_count": 9,
   "metadata": {},
   "outputs": [
    {
     "name": "stdout",
     "output_type": "stream",
     "text": [
      "CPU times: user 5.36 ms, sys: 11.4 ms, total: 16.8 ms\n",
      "Wall time: 674 ms\n"
     ]
    },
    {
     "data": {
      "text/html": [
       "<div>\n",
       "<style scoped>\n",
       "    .dataframe tbody tr th:only-of-type {\n",
       "        vertical-align: middle;\n",
       "    }\n",
       "\n",
       "    .dataframe tbody tr th {\n",
       "        vertical-align: top;\n",
       "    }\n",
       "\n",
       "    .dataframe thead th {\n",
       "        text-align: right;\n",
       "    }\n",
       "</style>\n",
       "<table border=\"1\" class=\"dataframe\">\n",
       "  <thead>\n",
       "    <tr style=\"text-align: right;\">\n",
       "      <th></th>\n",
       "      <th>node1</th>\n",
       "      <th>label</th>\n",
       "      <th>node2</th>\n",
       "    </tr>\n",
       "  </thead>\n",
       "  <tbody>\n",
       "    <tr>\n",
       "      <th>0</th>\n",
       "      <td>Q5</td>\n",
       "      <td>P31_count</td>\n",
       "      <td>10918</td>\n",
       "    </tr>\n",
       "    <tr>\n",
       "      <th>1</th>\n",
       "      <td>Q15221623</td>\n",
       "      <td>P31_count</td>\n",
       "      <td>3176</td>\n",
       "    </tr>\n",
       "    <tr>\n",
       "      <th>2</th>\n",
       "      <td>Q11424</td>\n",
       "      <td>P31_count</td>\n",
       "      <td>2126</td>\n",
       "    </tr>\n",
       "    <tr>\n",
       "      <th>3</th>\n",
       "      <td>Q4022</td>\n",
       "      <td>P31_count</td>\n",
       "      <td>1547</td>\n",
       "    </tr>\n",
       "    <tr>\n",
       "      <th>4</th>\n",
       "      <td>Q3918</td>\n",
       "      <td>P31_count</td>\n",
       "      <td>778</td>\n",
       "    </tr>\n",
       "    <tr>\n",
       "      <th>5</th>\n",
       "      <td>Q3917681</td>\n",
       "      <td>P31_count</td>\n",
       "      <td>613</td>\n",
       "    </tr>\n",
       "    <tr>\n",
       "      <th>6</th>\n",
       "      <td>Q1549591</td>\n",
       "      <td>P31_count</td>\n",
       "      <td>590</td>\n",
       "    </tr>\n",
       "    <tr>\n",
       "      <th>7</th>\n",
       "      <td>Q19595382</td>\n",
       "      <td>P31_count</td>\n",
       "      <td>583</td>\n",
       "    </tr>\n",
       "    <tr>\n",
       "      <th>8</th>\n",
       "      <td>Q11862829</td>\n",
       "      <td>P31_count</td>\n",
       "      <td>530</td>\n",
       "    </tr>\n",
       "    <tr>\n",
       "      <th>9</th>\n",
       "      <td>Q15632617</td>\n",
       "      <td>P31_count</td>\n",
       "      <td>493</td>\n",
       "    </tr>\n",
       "  </tbody>\n",
       "</table>\n",
       "</div>"
      ],
      "text/plain": [
       "       node1      label  node2\n",
       "0         Q5  P31_count  10918\n",
       "1  Q15221623  P31_count   3176\n",
       "2     Q11424  P31_count   2126\n",
       "3      Q4022  P31_count   1547\n",
       "4      Q3918  P31_count    778\n",
       "5   Q3917681  P31_count    613\n",
       "6   Q1549591  P31_count    590\n",
       "7  Q19595382  P31_count    583\n",
       "8  Q11862829  P31_count    530\n",
       "9  Q15632617  P31_count    493"
      ]
     },
     "execution_count": 9,
     "metadata": {},
     "output_type": "execute_result"
    }
   ],
   "source": [
    "%%time\n",
    "kgtk(\"\"\"\n",
    "    query -i all\n",
    "        --match '(instance)-[:P31]->(class)'\n",
    "        --return 'class as node1, \"P31_count\" as label, count(distinct instance) as node2'\n",
    "        --order-by 'cast(node2, int) desc'\n",
    "    --limit 10 \n",
    "\"\"\")"
   ]
  },
  {
   "cell_type": "markdown",
   "metadata": {},
   "source": [
    "It is good practice to add identifiers to the edges so that we can add qualifiers later if we desire. To add the identifiers, we chain the query output to the `add-id` command:"
   ]
  },
  {
   "cell_type": "code",
   "execution_count": 10,
   "metadata": {},
   "outputs": [
    {
     "name": "stdout",
     "output_type": "stream",
     "text": [
      "CPU times: user 46.5 ms, sys: 18.7 ms, total: 65.2 ms\n",
      "Wall time: 1.16 s\n"
     ]
    },
    {
     "data": {
      "text/html": [
       "<div>\n",
       "<style scoped>\n",
       "    .dataframe tbody tr th:only-of-type {\n",
       "        vertical-align: middle;\n",
       "    }\n",
       "\n",
       "    .dataframe tbody tr th {\n",
       "        vertical-align: top;\n",
       "    }\n",
       "\n",
       "    .dataframe thead th {\n",
       "        text-align: right;\n",
       "    }\n",
       "</style>\n",
       "<table border=\"1\" class=\"dataframe\">\n",
       "  <thead>\n",
       "    <tr style=\"text-align: right;\">\n",
       "      <th></th>\n",
       "      <th>node1</th>\n",
       "      <th>label</th>\n",
       "      <th>node2</th>\n",
       "      <th>id</th>\n",
       "    </tr>\n",
       "  </thead>\n",
       "  <tbody>\n",
       "    <tr>\n",
       "      <th>0</th>\n",
       "      <td>Q5</td>\n",
       "      <td>P31count</td>\n",
       "      <td>10918</td>\n",
       "      <td>Q5-P31count-2bf374</td>\n",
       "    </tr>\n",
       "    <tr>\n",
       "      <th>1</th>\n",
       "      <td>Q15221623</td>\n",
       "      <td>P31count</td>\n",
       "      <td>3176</td>\n",
       "      <td>Q15221623-P31count-73e7f3</td>\n",
       "    </tr>\n",
       "    <tr>\n",
       "      <th>2</th>\n",
       "      <td>Q11424</td>\n",
       "      <td>P31count</td>\n",
       "      <td>2126</td>\n",
       "      <td>Q11424-P31count-d8adfb</td>\n",
       "    </tr>\n",
       "    <tr>\n",
       "      <th>3</th>\n",
       "      <td>Q4022</td>\n",
       "      <td>P31count</td>\n",
       "      <td>1547</td>\n",
       "      <td>Q4022-P31count-05fb3c</td>\n",
       "    </tr>\n",
       "    <tr>\n",
       "      <th>4</th>\n",
       "      <td>Q3918</td>\n",
       "      <td>P31count</td>\n",
       "      <td>778</td>\n",
       "      <td>Q3918-P31count-93411f</td>\n",
       "    </tr>\n",
       "    <tr>\n",
       "      <th>...</th>\n",
       "      <td>...</td>\n",
       "      <td>...</td>\n",
       "      <td>...</td>\n",
       "      <td>...</td>\n",
       "    </tr>\n",
       "    <tr>\n",
       "      <th>4965</th>\n",
       "      <td>Q996839</td>\n",
       "      <td>P31count</td>\n",
       "      <td>1</td>\n",
       "      <td>Q996839-P31count-6b86b2</td>\n",
       "    </tr>\n",
       "    <tr>\n",
       "      <th>4966</th>\n",
       "      <td>Q99934885</td>\n",
       "      <td>P31count</td>\n",
       "      <td>1</td>\n",
       "      <td>Q99934885-P31count-6b86b2</td>\n",
       "    </tr>\n",
       "    <tr>\n",
       "      <th>4967</th>\n",
       "      <td>Q99935030</td>\n",
       "      <td>P31count</td>\n",
       "      <td>1</td>\n",
       "      <td>Q99935030-P31count-6b86b2</td>\n",
       "    </tr>\n",
       "    <tr>\n",
       "      <th>4968</th>\n",
       "      <td>Q99960791</td>\n",
       "      <td>P31count</td>\n",
       "      <td>1</td>\n",
       "      <td>Q99960791-P31count-6b86b2</td>\n",
       "    </tr>\n",
       "    <tr>\n",
       "      <th>4969</th>\n",
       "      <td>Q99972219</td>\n",
       "      <td>P31count</td>\n",
       "      <td>1</td>\n",
       "      <td>Q99972219-P31count-6b86b2</td>\n",
       "    </tr>\n",
       "  </tbody>\n",
       "</table>\n",
       "<p>4970 rows × 4 columns</p>\n",
       "</div>"
      ],
      "text/plain": [
       "          node1     label  node2                         id\n",
       "0            Q5  P31count  10918         Q5-P31count-2bf374\n",
       "1     Q15221623  P31count   3176  Q15221623-P31count-73e7f3\n",
       "2        Q11424  P31count   2126     Q11424-P31count-d8adfb\n",
       "3         Q4022  P31count   1547      Q4022-P31count-05fb3c\n",
       "4         Q3918  P31count    778      Q3918-P31count-93411f\n",
       "...         ...       ...    ...                        ...\n",
       "4965    Q996839  P31count      1    Q996839-P31count-6b86b2\n",
       "4966  Q99934885  P31count      1  Q99934885-P31count-6b86b2\n",
       "4967  Q99935030  P31count      1  Q99935030-P31count-6b86b2\n",
       "4968  Q99960791  P31count      1  Q99960791-P31count-6b86b2\n",
       "4969  Q99972219  P31count      1  Q99972219-P31count-6b86b2\n",
       "\n",
       "[4970 rows x 4 columns]"
      ]
     },
     "execution_count": 10,
     "metadata": {},
     "output_type": "execute_result"
    }
   ],
   "source": [
    "%%time\n",
    "kgtk(\"\"\"\n",
    "    query -i all\n",
    "        --match '(instance)-[:P31]->(class)'\n",
    "        --return 'class as node1, \"P31count\" as label, count(distinct instance) as node2'\n",
    "        --order-by 'cast(node2, int) desc' \n",
    "    / add-id --id-style wikidata\n",
    "\"\"\")"
   ]
  },
  {
   "cell_type": "markdown",
   "metadata": {},
   "source": [
    "Now that we saw the steps to create the graph with the counts, we want to output the results to a file using the `-o` option:"
   ]
  },
  {
   "cell_type": "code",
   "execution_count": 11,
   "metadata": {},
   "outputs": [
    {
     "name": "stdout",
     "output_type": "stream",
     "text": [
      "CPU times: user 3.17 ms, sys: 10.1 ms, total: 13.3 ms\n",
      "Wall time: 1.08 s\n"
     ]
    }
   ],
   "source": [
    "%%time\n",
    "kgtk(\"\"\"\n",
    "    query -i all\n",
    "        --match '(instance)-[:P31]->(class)'\n",
    "        --return 'class as node1, \"P31count\" as label, count(distinct instance) as node2'\n",
    "        --order-by 'cast(node2, int) desc'\n",
    "    / add-id --id-style wikidata\n",
    "    -o $OUT/metadata.p31.count.tsv\n",
    "\"\"\")"
   ]
  },
  {
   "cell_type": "markdown",
   "metadata": {},
   "source": [
    "Confirm that the output file went to the right place:"
   ]
  },
  {
   "cell_type": "code",
   "execution_count": 12,
   "metadata": {},
   "outputs": [
    {
     "name": "stdout",
     "output_type": "stream",
     "text": [
      "total 3208\n",
      "-rw-r--r--  1 pedroszekely  staff  741783 Oct  8 22:42 derived.P31x.tsv\n",
      "-rw-r--r--  1 pedroszekely  staff  528980 Oct  8 21:45 metadata.p31.count.transitive.tsv\n",
      "-rw-r--r--  1 pedroszekely  staff  224219 Oct  8 23:00 metadata.p31.count.tsv\n",
      "-rw-r--r--  1 pedroszekely  staff   44254 Oct  8 22:59 metadata.p31x.count.transitive.tsv\n",
      "drwxr-xr-x  6 pedroszekely  staff     192 Oct  8 23:00 \u001b[34mtemp.tutorial-profiling\u001b[m\u001b[m\n"
     ]
    }
   ],
   "source": [
    "!ls -l $OUT"
   ]
  },
  {
   "cell_type": "markdown",
   "metadata": {},
   "source": [
    "Load the `P31count` graph in the KGTK cache so that we can use it in queries later"
   ]
  },
  {
   "cell_type": "code",
   "execution_count": 13,
   "metadata": {},
   "outputs": [
    {
     "data": {
      "text/html": [
       "<div>\n",
       "<style scoped>\n",
       "    .dataframe tbody tr th:only-of-type {\n",
       "        vertical-align: middle;\n",
       "    }\n",
       "\n",
       "    .dataframe tbody tr th {\n",
       "        vertical-align: top;\n",
       "    }\n",
       "\n",
       "    .dataframe thead th {\n",
       "        text-align: right;\n",
       "    }\n",
       "</style>\n",
       "<table border=\"1\" class=\"dataframe\">\n",
       "  <thead>\n",
       "    <tr style=\"text-align: right;\">\n",
       "      <th></th>\n",
       "      <th>node1</th>\n",
       "      <th>label</th>\n",
       "      <th>node2</th>\n",
       "      <th>id</th>\n",
       "    </tr>\n",
       "  </thead>\n",
       "  <tbody>\n",
       "    <tr>\n",
       "      <th>0</th>\n",
       "      <td>Q5</td>\n",
       "      <td>P31count</td>\n",
       "      <td>10918</td>\n",
       "      <td>Q5-P31count-2bf374</td>\n",
       "    </tr>\n",
       "    <tr>\n",
       "      <th>1</th>\n",
       "      <td>Q15221623</td>\n",
       "      <td>P31count</td>\n",
       "      <td>3176</td>\n",
       "      <td>Q15221623-P31count-73e7f3</td>\n",
       "    </tr>\n",
       "  </tbody>\n",
       "</table>\n",
       "</div>"
      ],
      "text/plain": [
       "       node1     label  node2                         id\n",
       "0         Q5  P31count  10918         Q5-P31count-2bf374\n",
       "1  Q15221623  P31count   3176  Q15221623-P31count-73e7f3"
      ]
     },
     "execution_count": 13,
     "metadata": {},
     "output_type": "execute_result"
    }
   ],
   "source": [
    "kgtk(\"\"\"\n",
    "    query -i $OUT/metadata.p31.count.tsv --as p31count --limit 2\n",
    "\"\"\")"
   ]
  },
  {
   "cell_type": "markdown",
   "metadata": {},
   "source": [
    "## Compute `P31count_transitive`, the count of instances of a class including the instances of all the subclasses\n",
    "\n",
    "Approach:\n",
    "- get the class of each instance\n",
    "- get all the superclass of the class of each instance\n",
    "- for every superclass, count all the instances\n",
    "\n",
    "> This query will run at the scale of all Wikidata, which contains millions of classes\n",
    "\n",
    "We add the labels to see the results, not surprisingly, `entity` has the most instances, and the top classes are those at the top of the Wikidata ontology:"
   ]
  },
  {
   "cell_type": "code",
   "execution_count": 14,
   "metadata": {},
   "outputs": [
    {
     "name": "stdout",
     "output_type": "stream",
     "text": [
      "CPU times: user 50.8 ms, sys: 21.7 ms, total: 72.5 ms\n",
      "Wall time: 10.4 s\n"
     ]
    },
    {
     "data": {
      "text/html": [
       "<div>\n",
       "<style scoped>\n",
       "    .dataframe tbody tr th:only-of-type {\n",
       "        vertical-align: middle;\n",
       "    }\n",
       "\n",
       "    .dataframe tbody tr th {\n",
       "        vertical-align: top;\n",
       "    }\n",
       "\n",
       "    .dataframe thead th {\n",
       "        text-align: right;\n",
       "    }\n",
       "</style>\n",
       "<table border=\"1\" class=\"dataframe\">\n",
       "  <thead>\n",
       "    <tr style=\"text-align: right;\">\n",
       "      <th></th>\n",
       "      <th>class</th>\n",
       "      <th>count</th>\n",
       "      <th>class;label</th>\n",
       "    </tr>\n",
       "  </thead>\n",
       "  <tbody>\n",
       "    <tr>\n",
       "      <th>0</th>\n",
       "      <td>Q35120</td>\n",
       "      <td>49231</td>\n",
       "      <td>'entity'@en</td>\n",
       "    </tr>\n",
       "    <tr>\n",
       "      <th>1</th>\n",
       "      <td>Q99527517</td>\n",
       "      <td>30567</td>\n",
       "      <td>'collection entity'@en</td>\n",
       "    </tr>\n",
       "    <tr>\n",
       "      <th>2</th>\n",
       "      <td>Q28813620</td>\n",
       "      <td>28116</td>\n",
       "      <td>'set'@en</td>\n",
       "    </tr>\n",
       "    <tr>\n",
       "      <th>3</th>\n",
       "      <td>Q16887380</td>\n",
       "      <td>28102</td>\n",
       "      <td>'group'@en</td>\n",
       "    </tr>\n",
       "    <tr>\n",
       "      <th>4</th>\n",
       "      <td>Q58415929</td>\n",
       "      <td>27411</td>\n",
       "      <td>'spatio-temporal entity'@en</td>\n",
       "    </tr>\n",
       "    <tr>\n",
       "      <th>...</th>\n",
       "      <td>...</td>\n",
       "      <td>...</td>\n",
       "      <td>...</td>\n",
       "    </tr>\n",
       "    <tr>\n",
       "      <th>7849</th>\n",
       "      <td>Q100166391</td>\n",
       "      <td>1</td>\n",
       "      <td>'salt production facility'@en</td>\n",
       "    </tr>\n",
       "    <tr>\n",
       "      <th>7850</th>\n",
       "      <td>Q1001059</td>\n",
       "      <td>1</td>\n",
       "      <td>'writ'@en</td>\n",
       "    </tr>\n",
       "    <tr>\n",
       "      <th>7851</th>\n",
       "      <td>Q1000660</td>\n",
       "      <td>1</td>\n",
       "      <td>'algebra over a field'@en</td>\n",
       "    </tr>\n",
       "    <tr>\n",
       "      <th>7852</th>\n",
       "      <td>Q100052008</td>\n",
       "      <td>1</td>\n",
       "      <td>'anthropomorphic Pantherinae'@en</td>\n",
       "    </tr>\n",
       "    <tr>\n",
       "      <th>7853</th>\n",
       "      <td>Q100039327</td>\n",
       "      <td>1</td>\n",
       "      <td>'autonomous constitutional agency'@en</td>\n",
       "    </tr>\n",
       "  </tbody>\n",
       "</table>\n",
       "<p>7854 rows × 3 columns</p>\n",
       "</div>"
      ],
      "text/plain": [
       "           class  count                            class;label\n",
       "0         Q35120  49231                            'entity'@en\n",
       "1      Q99527517  30567                 'collection entity'@en\n",
       "2      Q28813620  28116                               'set'@en\n",
       "3      Q16887380  28102                             'group'@en\n",
       "4      Q58415929  27411            'spatio-temporal entity'@en\n",
       "...          ...    ...                                    ...\n",
       "7849  Q100166391      1          'salt production facility'@en\n",
       "7850    Q1001059      1                              'writ'@en\n",
       "7851    Q1000660      1              'algebra over a field'@en\n",
       "7852  Q100052008      1       'anthropomorphic Pantherinae'@en\n",
       "7853  Q100039327      1  'autonomous constitutional agency'@en\n",
       "\n",
       "[7854 rows x 3 columns]"
      ]
     },
     "execution_count": 14,
     "metadata": {},
     "output_type": "execute_result"
    }
   ],
   "source": [
    "%%time\n",
    "kgtk(\"\"\"\n",
    "    query -i all\n",
    "        --match '\n",
    "            (instance)-[:P31]->(class),\n",
    "            (class)-[:P279star]->(superclass)'\n",
    "        --return 'superclass as class, count(distinct instance) as count'\n",
    "        --order-by 'cast(count, int) desc'\n",
    "    / add-labels\n",
    "\"\"\")"
   ]
  },
  {
   "cell_type": "markdown",
   "metadata": {},
   "source": [
    "Store the results in a file using a new property `P31count_transitive`"
   ]
  },
  {
   "cell_type": "code",
   "execution_count": 15,
   "metadata": {},
   "outputs": [
    {
     "name": "stdout",
     "output_type": "stream",
     "text": [
      "CPU times: user 6.49 ms, sys: 12.9 ms, total: 19.3 ms\n",
      "Wall time: 8.88 s\n"
     ]
    }
   ],
   "source": [
    "%%time\n",
    "kgtk(\"\"\"\n",
    "    query -i all \n",
    "        --match '\n",
    "            (instance)-[:P31]->(class),\n",
    "            (class)-[:P279star]->(superclass)'\n",
    "        --return 'superclass as node1, \"P31count_transitive\" as label, count(distinct instance) as node2'\n",
    "        --order-by 'cast(node2, int) desc'\n",
    "    / add-id --id-style wikidata\n",
    "    -o $OUT/metadata.p31.count.transitive.tsv\n",
    "\"\"\")"
   ]
  },
  {
   "cell_type": "markdown",
   "metadata": {},
   "source": [
    "Find the number of instances of `Q5: human`, `artist: Q483501` and `film director: Q2526255`. There are many instances of human, but only one of artist and zero of film director."
   ]
  },
  {
   "cell_type": "code",
   "execution_count": 16,
   "metadata": {},
   "outputs": [
    {
     "data": {
      "text/html": [
       "<div>\n",
       "<style scoped>\n",
       "    .dataframe tbody tr th:only-of-type {\n",
       "        vertical-align: middle;\n",
       "    }\n",
       "\n",
       "    .dataframe tbody tr th {\n",
       "        vertical-align: top;\n",
       "    }\n",
       "\n",
       "    .dataframe thead th {\n",
       "        text-align: right;\n",
       "    }\n",
       "</style>\n",
       "<table border=\"1\" class=\"dataframe\">\n",
       "  <thead>\n",
       "    <tr style=\"text-align: right;\">\n",
       "      <th></th>\n",
       "      <th>node1</th>\n",
       "      <th>label</th>\n",
       "      <th>node2</th>\n",
       "      <th>id</th>\n",
       "      <th>node1;label</th>\n",
       "    </tr>\n",
       "  </thead>\n",
       "  <tbody>\n",
       "    <tr>\n",
       "      <th>0</th>\n",
       "      <td>Q5</td>\n",
       "      <td>P31count_transitive</td>\n",
       "      <td>10985</td>\n",
       "      <td>Q5-P31count_transitive-189d78</td>\n",
       "      <td>'human'@en</td>\n",
       "    </tr>\n",
       "    <tr>\n",
       "      <th>1</th>\n",
       "      <td>Q483501</td>\n",
       "      <td>P31count_transitive</td>\n",
       "      <td>1</td>\n",
       "      <td>Q483501-P31count_transitive-6b86b2</td>\n",
       "      <td>'artist'@en</td>\n",
       "    </tr>\n",
       "  </tbody>\n",
       "</table>\n",
       "</div>"
      ],
      "text/plain": [
       "     node1                label  node2                                  id  \\\n",
       "0       Q5  P31count_transitive  10985       Q5-P31count_transitive-189d78   \n",
       "1  Q483501  P31count_transitive      1  Q483501-P31count_transitive-6b86b2   \n",
       "\n",
       "   node1;label  \n",
       "0   'human'@en  \n",
       "1  'artist'@en  "
      ]
     },
     "execution_count": 16,
     "metadata": {},
     "output_type": "execute_result"
    }
   ],
   "source": [
    "kgtk(\"\"\"\n",
    "    filter -i $OUT/metadata.p31.count.transitive.tsv -p \"Q5, Q483501, Q2526255 ;;\" / add-labels\n",
    "\"\"\")"
   ]
  },
  {
   "cell_type": "markdown",
   "metadata": {},
   "source": [
    "The reason there are no instances of `artist: Q483501` or `film director: Q2526255`  is that Wikidata uses the property `occupation: P106` to relate people to their occupations, so the connection between human and artist of director is not `instance of: P31`. It would be nice if the browser page for `artist: Q483501` or `film director: Q2526255` would show the number of people with this occupation. DBpedia uses a different model where humans are instances of artist or film director.\n"
   ]
  },
  {
   "cell_type": "markdown",
   "metadata": {},
   "source": [
    "## Define `P31x`, a generalization of `instance of: P31`\n",
    "\n",
    "In our KG we are going to define a new property called `instance of (generalized): P31x` that behaves like DBpedia, so that we can ask for instances of `artist: Q483501`.\n",
    "We do this by generalizing `occupation: P106` abd `position held: 39` to also behave as `P31` statements.\n",
    "\n",
    "Approach:\n",
    "- Combine `x P31 y`, `x P106 y` and `x P39 y` statements using a new `P31x` predicate"
   ]
  },
  {
   "cell_type": "markdown",
   "metadata": {},
   "source": [
    "Use the `filter` to take a peek at the data and see whether our plan makes sense."
   ]
  },
  {
   "cell_type": "code",
   "execution_count": 17,
   "metadata": {},
   "outputs": [
    {
     "data": {
      "text/html": [
       "<div>\n",
       "<style scoped>\n",
       "    .dataframe tbody tr th:only-of-type {\n",
       "        vertical-align: middle;\n",
       "    }\n",
       "\n",
       "    .dataframe tbody tr th {\n",
       "        vertical-align: top;\n",
       "    }\n",
       "\n",
       "    .dataframe thead th {\n",
       "        text-align: right;\n",
       "    }\n",
       "</style>\n",
       "<table border=\"1\" class=\"dataframe\">\n",
       "  <thead>\n",
       "    <tr style=\"text-align: right;\">\n",
       "      <th></th>\n",
       "      <th>node1</th>\n",
       "      <th>label</th>\n",
       "      <th>node2</th>\n",
       "      <th>id</th>\n",
       "      <th>node2;wikidatatype</th>\n",
       "      <th>node1;label</th>\n",
       "      <th>label;label</th>\n",
       "      <th>node2;label</th>\n",
       "    </tr>\n",
       "  </thead>\n",
       "  <tbody>\n",
       "    <tr>\n",
       "      <th>0</th>\n",
       "      <td>Q1000048</td>\n",
       "      <td>P106</td>\n",
       "      <td>Q1622272</td>\n",
       "      <td>Q1000048-P106-Q1622272-3a1be6b5-0</td>\n",
       "      <td>wikibase-item</td>\n",
       "      <td>'Franz Zimmermann'@en</td>\n",
       "      <td>'occupation'@en</td>\n",
       "      <td>'university teacher'@en</td>\n",
       "    </tr>\n",
       "    <tr>\n",
       "      <th>1</th>\n",
       "      <td>Q1000048</td>\n",
       "      <td>P106</td>\n",
       "      <td>Q16267607</td>\n",
       "      <td>Q1000048-P106-Q16267607-e13e45d1-0</td>\n",
       "      <td>wikibase-item</td>\n",
       "      <td>'Franz Zimmermann'@en</td>\n",
       "      <td>'occupation'@en</td>\n",
       "      <td>'classical philologist'@en</td>\n",
       "    </tr>\n",
       "    <tr>\n",
       "      <th>2</th>\n",
       "      <td>Q1001</td>\n",
       "      <td>P106</td>\n",
       "      <td>Q808967</td>\n",
       "      <td>Q1001-P106-Q808967-57fe7a7e-0</td>\n",
       "      <td>wikibase-item</td>\n",
       "      <td>'Mahatma Gandhi'@en</td>\n",
       "      <td>'occupation'@en</td>\n",
       "      <td>'barrister'@en</td>\n",
       "    </tr>\n",
       "    <tr>\n",
       "      <th>3</th>\n",
       "      <td>Q100252</td>\n",
       "      <td>P106</td>\n",
       "      <td>Q1622272</td>\n",
       "      <td>Q100252-P106-Q1622272-e0e6768c-0</td>\n",
       "      <td>wikibase-item</td>\n",
       "      <td>'Johann Nepomuk von Ringseis'@en</td>\n",
       "      <td>'occupation'@en</td>\n",
       "      <td>'university teacher'@en</td>\n",
       "    </tr>\n",
       "    <tr>\n",
       "      <th>4</th>\n",
       "      <td>Q100749</td>\n",
       "      <td>P106</td>\n",
       "      <td>Q1622272</td>\n",
       "      <td>Q100749-P106-Q1622272-1960268e-0</td>\n",
       "      <td>wikibase-item</td>\n",
       "      <td>'Clemens Fuest'@en</td>\n",
       "      <td>'occupation'@en</td>\n",
       "      <td>'university teacher'@en</td>\n",
       "    </tr>\n",
       "    <tr>\n",
       "      <th>5</th>\n",
       "      <td>Q100749</td>\n",
       "      <td>P106</td>\n",
       "      <td>Q188094</td>\n",
       "      <td>Q100749-P106-Q188094-8ae31483-0</td>\n",
       "      <td>wikibase-item</td>\n",
       "      <td>'Clemens Fuest'@en</td>\n",
       "      <td>'occupation'@en</td>\n",
       "      <td>'economist'@en</td>\n",
       "    </tr>\n",
       "    <tr>\n",
       "      <th>6</th>\n",
       "      <td>Q100948</td>\n",
       "      <td>P106</td>\n",
       "      <td>Q15839134</td>\n",
       "      <td>Q100948-P106-Q15839134-1fd212b2-0</td>\n",
       "      <td>wikibase-item</td>\n",
       "      <td>'Rachel Carson'@en</td>\n",
       "      <td>'occupation'@en</td>\n",
       "      <td>'ecologist'@en</td>\n",
       "    </tr>\n",
       "    <tr>\n",
       "      <th>7</th>\n",
       "      <td>Q1010297</td>\n",
       "      <td>P106</td>\n",
       "      <td>Q1622272</td>\n",
       "      <td>Q1010297-P106-Q1622272-e72eab9d-0</td>\n",
       "      <td>wikibase-item</td>\n",
       "      <td>'Burchard Brentjes'@en</td>\n",
       "      <td>'occupation'@en</td>\n",
       "      <td>'university teacher'@en</td>\n",
       "    </tr>\n",
       "    <tr>\n",
       "      <th>8</th>\n",
       "      <td>Q1010297</td>\n",
       "      <td>P39</td>\n",
       "      <td>Q11827483</td>\n",
       "      <td>Q1010297-P39-Q11827483-f6439c09-0</td>\n",
       "      <td>wikibase-item</td>\n",
       "      <td>'Burchard Brentjes'@en</td>\n",
       "      <td>'position held'@en</td>\n",
       "      <td>'Оrdinary professor'@en</td>\n",
       "    </tr>\n",
       "    <tr>\n",
       "      <th>9</th>\n",
       "      <td>Q101268</td>\n",
       "      <td>P106</td>\n",
       "      <td>Q1622272</td>\n",
       "      <td>Q101268-P106-Q1622272-b7682325-0</td>\n",
       "      <td>wikibase-item</td>\n",
       "      <td>'August Thiersch'@en</td>\n",
       "      <td>'occupation'@en</td>\n",
       "      <td>'university teacher'@en</td>\n",
       "    </tr>\n",
       "  </tbody>\n",
       "</table>\n",
       "</div>"
      ],
      "text/plain": [
       "      node1 label      node2                                  id  \\\n",
       "0  Q1000048  P106   Q1622272   Q1000048-P106-Q1622272-3a1be6b5-0   \n",
       "1  Q1000048  P106  Q16267607  Q1000048-P106-Q16267607-e13e45d1-0   \n",
       "2     Q1001  P106    Q808967       Q1001-P106-Q808967-57fe7a7e-0   \n",
       "3   Q100252  P106   Q1622272    Q100252-P106-Q1622272-e0e6768c-0   \n",
       "4   Q100749  P106   Q1622272    Q100749-P106-Q1622272-1960268e-0   \n",
       "5   Q100749  P106    Q188094     Q100749-P106-Q188094-8ae31483-0   \n",
       "6   Q100948  P106  Q15839134   Q100948-P106-Q15839134-1fd212b2-0   \n",
       "7  Q1010297  P106   Q1622272   Q1010297-P106-Q1622272-e72eab9d-0   \n",
       "8  Q1010297   P39  Q11827483   Q1010297-P39-Q11827483-f6439c09-0   \n",
       "9   Q101268  P106   Q1622272    Q101268-P106-Q1622272-b7682325-0   \n",
       "\n",
       "  node2;wikidatatype                       node1;label         label;label  \\\n",
       "0      wikibase-item             'Franz Zimmermann'@en     'occupation'@en   \n",
       "1      wikibase-item             'Franz Zimmermann'@en     'occupation'@en   \n",
       "2      wikibase-item               'Mahatma Gandhi'@en     'occupation'@en   \n",
       "3      wikibase-item  'Johann Nepomuk von Ringseis'@en     'occupation'@en   \n",
       "4      wikibase-item                'Clemens Fuest'@en     'occupation'@en   \n",
       "5      wikibase-item                'Clemens Fuest'@en     'occupation'@en   \n",
       "6      wikibase-item                'Rachel Carson'@en     'occupation'@en   \n",
       "7      wikibase-item            'Burchard Brentjes'@en     'occupation'@en   \n",
       "8      wikibase-item            'Burchard Brentjes'@en  'position held'@en   \n",
       "9      wikibase-item              'August Thiersch'@en     'occupation'@en   \n",
       "\n",
       "                  node2;label  \n",
       "0     'university teacher'@en  \n",
       "1  'classical philologist'@en  \n",
       "2              'barrister'@en  \n",
       "3     'university teacher'@en  \n",
       "4     'university teacher'@en  \n",
       "5              'economist'@en  \n",
       "6              'ecologist'@en  \n",
       "7     'university teacher'@en  \n",
       "8     'Оrdinary professor'@en  \n",
       "9     'university teacher'@en  "
      ]
     },
     "execution_count": 17,
     "metadata": {},
     "output_type": "execute_result"
    }
   ],
   "source": [
    "kgtk(\"\"\"\n",
    "    filter -i $item -p \"; P39, P106 ;\"\n",
    "    / head\n",
    "    / add-labels\n",
    "\"\"\")"
   ]
  },
  {
   "cell_type": "markdown",
   "metadata": {},
   "source": [
    "Select all the `P31`, `P39` and `P106` statements and rewrite them as `P31x` statements, and also make sure that we do this only for humans:"
   ]
  },
  {
   "cell_type": "code",
   "execution_count": 18,
   "metadata": {},
   "outputs": [
    {
     "data": {
      "text/html": [
       "<div>\n",
       "<style scoped>\n",
       "    .dataframe tbody tr th:only-of-type {\n",
       "        vertical-align: middle;\n",
       "    }\n",
       "\n",
       "    .dataframe tbody tr th {\n",
       "        vertical-align: top;\n",
       "    }\n",
       "\n",
       "    .dataframe thead th {\n",
       "        text-align: right;\n",
       "    }\n",
       "</style>\n",
       "<table border=\"1\" class=\"dataframe\">\n",
       "  <thead>\n",
       "    <tr style=\"text-align: right;\">\n",
       "      <th></th>\n",
       "      <th>node1</th>\n",
       "      <th>label</th>\n",
       "      <th>node2</th>\n",
       "      <th>node1;label</th>\n",
       "      <th>node2;label</th>\n",
       "    </tr>\n",
       "  </thead>\n",
       "  <tbody>\n",
       "    <tr>\n",
       "      <th>0</th>\n",
       "      <td>Q1000048</td>\n",
       "      <td>P31x</td>\n",
       "      <td>Q1622272</td>\n",
       "      <td>'Franz Zimmermann'@en</td>\n",
       "      <td>'university teacher'@en</td>\n",
       "    </tr>\n",
       "    <tr>\n",
       "      <th>1</th>\n",
       "      <td>Q1000048</td>\n",
       "      <td>P31x</td>\n",
       "      <td>Q16267607</td>\n",
       "      <td>'Franz Zimmermann'@en</td>\n",
       "      <td>'classical philologist'@en</td>\n",
       "    </tr>\n",
       "    <tr>\n",
       "      <th>2</th>\n",
       "      <td>Q1000048</td>\n",
       "      <td>P31x</td>\n",
       "      <td>Q5</td>\n",
       "      <td>'Franz Zimmermann'@en</td>\n",
       "      <td>'human'@en</td>\n",
       "    </tr>\n",
       "    <tr>\n",
       "      <th>3</th>\n",
       "      <td>Q1001</td>\n",
       "      <td>P31x</td>\n",
       "      <td>Q808967</td>\n",
       "      <td>'Mahatma Gandhi'@en</td>\n",
       "      <td>'barrister'@en</td>\n",
       "    </tr>\n",
       "    <tr>\n",
       "      <th>4</th>\n",
       "      <td>Q1001</td>\n",
       "      <td>P31x</td>\n",
       "      <td>Q5</td>\n",
       "      <td>'Mahatma Gandhi'@en</td>\n",
       "      <td>'human'@en</td>\n",
       "    </tr>\n",
       "    <tr>\n",
       "      <th>5</th>\n",
       "      <td>Q100148353</td>\n",
       "      <td>P31x</td>\n",
       "      <td>Q5</td>\n",
       "      <td>'Jacqueline Goddet'@en</td>\n",
       "      <td>'human'@en</td>\n",
       "    </tr>\n",
       "    <tr>\n",
       "      <th>6</th>\n",
       "      <td>Q100153947</td>\n",
       "      <td>P31x</td>\n",
       "      <td>Q5</td>\n",
       "      <td>'Cathaline Parker Widdoes'@en</td>\n",
       "      <td>'human'@en</td>\n",
       "    </tr>\n",
       "    <tr>\n",
       "      <th>7</th>\n",
       "      <td>Q100153956</td>\n",
       "      <td>P31x</td>\n",
       "      <td>Q5</td>\n",
       "      <td>'Ned Chase'@en</td>\n",
       "      <td>'human'@en</td>\n",
       "    </tr>\n",
       "    <tr>\n",
       "      <th>8</th>\n",
       "      <td>Q100252</td>\n",
       "      <td>P31x</td>\n",
       "      <td>Q1622272</td>\n",
       "      <td>'Johann Nepomuk von Ringseis'@en</td>\n",
       "      <td>'university teacher'@en</td>\n",
       "    </tr>\n",
       "    <tr>\n",
       "      <th>9</th>\n",
       "      <td>Q100252</td>\n",
       "      <td>P31x</td>\n",
       "      <td>Q5</td>\n",
       "      <td>'Johann Nepomuk von Ringseis'@en</td>\n",
       "      <td>'human'@en</td>\n",
       "    </tr>\n",
       "  </tbody>\n",
       "</table>\n",
       "</div>"
      ],
      "text/plain": [
       "        node1 label      node2                       node1;label  \\\n",
       "0    Q1000048  P31x   Q1622272             'Franz Zimmermann'@en   \n",
       "1    Q1000048  P31x  Q16267607             'Franz Zimmermann'@en   \n",
       "2    Q1000048  P31x         Q5             'Franz Zimmermann'@en   \n",
       "3       Q1001  P31x    Q808967               'Mahatma Gandhi'@en   \n",
       "4       Q1001  P31x         Q5               'Mahatma Gandhi'@en   \n",
       "5  Q100148353  P31x         Q5            'Jacqueline Goddet'@en   \n",
       "6  Q100153947  P31x         Q5     'Cathaline Parker Widdoes'@en   \n",
       "7  Q100153956  P31x         Q5                    'Ned Chase'@en   \n",
       "8     Q100252  P31x   Q1622272  'Johann Nepomuk von Ringseis'@en   \n",
       "9     Q100252  P31x         Q5  'Johann Nepomuk von Ringseis'@en   \n",
       "\n",
       "                  node2;label  \n",
       "0     'university teacher'@en  \n",
       "1  'classical philologist'@en  \n",
       "2                  'human'@en  \n",
       "3              'barrister'@en  \n",
       "4                  'human'@en  \n",
       "5                  'human'@en  \n",
       "6                  'human'@en  \n",
       "7                  'human'@en  \n",
       "8     'university teacher'@en  \n",
       "9                  'human'@en  "
      ]
     },
     "execution_count": 18,
     "metadata": {},
     "output_type": "execute_result"
    }
   ],
   "source": [
    "kgtk(\"\"\"\n",
    "    query -i all\n",
    "        --match '\n",
    "            (n1)-[:P31]->(:Q5),\n",
    "            (n1)-[r {label: property}]->(n2)'\n",
    "        --where 'property in [\"P106\", \"P39\", \"P31\"]'\n",
    "        --return 'distinct n1 as node1, \"P31x\" as label, n2 as node2'\n",
    "        --limit 10\n",
    "    / add-labels\n",
    "\"\"\")"
   ]
  },
  {
   "cell_type": "markdown",
   "metadata": {},
   "source": [
    "The test query looks correct, so write the complete dataset into a graph in file `derived.P31x.tsv`:"
   ]
  },
  {
   "cell_type": "code",
   "execution_count": 19,
   "metadata": {},
   "outputs": [
    {
     "name": "stdout",
     "output_type": "stream",
     "text": [
      "CPU times: user 3.1 ms, sys: 9.95 ms, total: 13 ms\n",
      "Wall time: 1.3 s\n"
     ]
    }
   ],
   "source": [
    "%%time\n",
    "kgtk(\"\"\"\n",
    "    query -i item\n",
    "        --match '\n",
    "            (n1)-[:P31]->(:Q5),\n",
    "            (n1)-[r {label: property}]->(n2)'\n",
    "        --where 'property in [\"P106\", \"P39\", \"P31\"]'\n",
    "        --return 'distinct n1 as node1, \"P31x\" as label, n2 as node2'\n",
    "    / add-id --id-style wikidata\n",
    "    -o $OUT/derived.P31x.tsv\n",
    "\"\"\")"
   ]
  },
  {
   "cell_type": "markdown",
   "metadata": {},
   "source": [
    "Load the `p31x` graph defining our generalized `instance of` property:"
   ]
  },
  {
   "cell_type": "code",
   "execution_count": 20,
   "metadata": {},
   "outputs": [
    {
     "data": {
      "text/html": [
       "<div>\n",
       "<style scoped>\n",
       "    .dataframe tbody tr th:only-of-type {\n",
       "        vertical-align: middle;\n",
       "    }\n",
       "\n",
       "    .dataframe tbody tr th {\n",
       "        vertical-align: top;\n",
       "    }\n",
       "\n",
       "    .dataframe thead th {\n",
       "        text-align: right;\n",
       "    }\n",
       "</style>\n",
       "<table border=\"1\" class=\"dataframe\">\n",
       "  <thead>\n",
       "    <tr style=\"text-align: right;\">\n",
       "      <th></th>\n",
       "      <th>node1</th>\n",
       "      <th>label</th>\n",
       "      <th>node2</th>\n",
       "      <th>id</th>\n",
       "    </tr>\n",
       "  </thead>\n",
       "  <tbody>\n",
       "    <tr>\n",
       "      <th>0</th>\n",
       "      <td>Q1000048</td>\n",
       "      <td>P31x</td>\n",
       "      <td>Q1622272</td>\n",
       "      <td>Q1000048-P31x-Q1622272</td>\n",
       "    </tr>\n",
       "    <tr>\n",
       "      <th>1</th>\n",
       "      <td>Q1000048</td>\n",
       "      <td>P31x</td>\n",
       "      <td>Q16267607</td>\n",
       "      <td>Q1000048-P31x-Q16267607</td>\n",
       "    </tr>\n",
       "  </tbody>\n",
       "</table>\n",
       "</div>"
      ],
      "text/plain": [
       "      node1 label      node2                       id\n",
       "0  Q1000048  P31x   Q1622272   Q1000048-P31x-Q1622272\n",
       "1  Q1000048  P31x  Q16267607  Q1000048-P31x-Q16267607"
      ]
     },
     "execution_count": 20,
     "metadata": {},
     "output_type": "execute_result"
    }
   ],
   "source": [
    "kgtk(\"\"\"\n",
    "    query -i $OUT/derived.P31x.tsv --as p31x --limit 2\n",
    "\"\"\")"
   ]
  },
  {
   "cell_type": "markdown",
   "metadata": {},
   "source": [
    "Use the new `P31x` graph to substitute `P31x` for `P31` in our query that computes the class counts:"
   ]
  },
  {
   "cell_type": "code",
   "execution_count": 21,
   "metadata": {},
   "outputs": [
    {
     "name": "stdout",
     "output_type": "stream",
     "text": [
      "CPU times: user 3.43 ms, sys: 10.3 ms, total: 13.8 ms\n",
      "Wall time: 2.3 s\n"
     ]
    }
   ],
   "source": [
    "%%time\n",
    "kgtk(\"\"\"\n",
    "    query -i all -i p31x\n",
    "        --match '\n",
    "            p31x: (instance)-[:P31x]->(class),\n",
    "            all: (class)-[:P279star]->(superclass)'\n",
    "        --return 'superclass as node1, \"P31xcount_transitive\" as label, count(distinct instance) as node2'\n",
    "        --order-by 'cast(node2, int) desc'\n",
    "    / add-id --id-style wikidata\n",
    "    -o $OUT/metadata.p31x.count.transitive.tsv\n",
    "\"\"\")"
   ]
  },
  {
   "cell_type": "markdown",
   "metadata": {},
   "source": [
    "Redo our query to get the number of instances of `Q5: human`, `artist: Q483501` and `film director: Q2526255`.\n",
    "Now we get more reasonable counts for artist and film directors:"
   ]
  },
  {
   "cell_type": "code",
   "execution_count": 22,
   "metadata": {},
   "outputs": [
    {
     "data": {
      "text/html": [
       "<div>\n",
       "<style scoped>\n",
       "    .dataframe tbody tr th:only-of-type {\n",
       "        vertical-align: middle;\n",
       "    }\n",
       "\n",
       "    .dataframe tbody tr th {\n",
       "        vertical-align: top;\n",
       "    }\n",
       "\n",
       "    .dataframe thead th {\n",
       "        text-align: right;\n",
       "    }\n",
       "</style>\n",
       "<table border=\"1\" class=\"dataframe\">\n",
       "  <thead>\n",
       "    <tr style=\"text-align: right;\">\n",
       "      <th></th>\n",
       "      <th>node1</th>\n",
       "      <th>label</th>\n",
       "      <th>node2</th>\n",
       "      <th>id</th>\n",
       "      <th>node1;label</th>\n",
       "    </tr>\n",
       "  </thead>\n",
       "  <tbody>\n",
       "    <tr>\n",
       "      <th>0</th>\n",
       "      <td>Q5</td>\n",
       "      <td>P31xcount_transitive</td>\n",
       "      <td>10918</td>\n",
       "      <td>Q5-P31xcount_transitive-2bf374</td>\n",
       "      <td>'human'@en</td>\n",
       "    </tr>\n",
       "    <tr>\n",
       "      <th>1</th>\n",
       "      <td>Q483501</td>\n",
       "      <td>P31xcount_transitive</td>\n",
       "      <td>2526</td>\n",
       "      <td>Q483501-P31xcount_transitive-565330</td>\n",
       "      <td>'artist'@en</td>\n",
       "    </tr>\n",
       "    <tr>\n",
       "      <th>2</th>\n",
       "      <td>Q2526255</td>\n",
       "      <td>P31xcount_transitive</td>\n",
       "      <td>664</td>\n",
       "      <td>Q2526255-P31xcount_transitive-09eac9</td>\n",
       "      <td>'film director'@en</td>\n",
       "    </tr>\n",
       "  </tbody>\n",
       "</table>\n",
       "</div>"
      ],
      "text/plain": [
       "      node1                 label  node2  \\\n",
       "0        Q5  P31xcount_transitive  10918   \n",
       "1   Q483501  P31xcount_transitive   2526   \n",
       "2  Q2526255  P31xcount_transitive    664   \n",
       "\n",
       "                                     id         node1;label  \n",
       "0        Q5-P31xcount_transitive-2bf374          'human'@en  \n",
       "1   Q483501-P31xcount_transitive-565330         'artist'@en  \n",
       "2  Q2526255-P31xcount_transitive-09eac9  'film director'@en  "
      ]
     },
     "execution_count": 22,
     "metadata": {},
     "output_type": "execute_result"
    }
   ],
   "source": [
    "kgtk(\"\"\"\n",
    "    filter -i $OUT/metadata.p31x.count.transitive.tsv -p \"Q5, Q483501, Q2526255 ;;\" / add-labels\n",
    "\"\"\")"
   ]
  },
  {
   "cell_type": "markdown",
   "metadata": {},
   "source": [
    "Find out the classes that appear in the new file that didn't appear in the old file. To do this we use the `ifnotexists` command that can be used to subtract the statements of one grpah from the statements from another graph.\n",
    "> Some classes may appear in both graphs and have their counts updated (e.g., artists appeared with a count of 1 before):"
   ]
  },
  {
   "cell_type": "code",
   "execution_count": 23,
   "metadata": {},
   "outputs": [
    {
     "data": {
      "text/html": [
       "<div>\n",
       "<style scoped>\n",
       "    .dataframe tbody tr th:only-of-type {\n",
       "        vertical-align: middle;\n",
       "    }\n",
       "\n",
       "    .dataframe tbody tr th {\n",
       "        vertical-align: top;\n",
       "    }\n",
       "\n",
       "    .dataframe thead th {\n",
       "        text-align: right;\n",
       "    }\n",
       "</style>\n",
       "<table border=\"1\" class=\"dataframe\">\n",
       "  <thead>\n",
       "    <tr style=\"text-align: right;\">\n",
       "      <th></th>\n",
       "      <th>node1</th>\n",
       "      <th>label</th>\n",
       "      <th>node2</th>\n",
       "      <th>id</th>\n",
       "      <th>node1;label</th>\n",
       "    </tr>\n",
       "  </thead>\n",
       "  <tbody>\n",
       "    <tr>\n",
       "      <th>0</th>\n",
       "      <td>Q713200</td>\n",
       "      <td>P31xcount_transitive</td>\n",
       "      <td>1890</td>\n",
       "      <td>Q713200-P31xcount_transitive-532530</td>\n",
       "      <td>'performing artist'@en</td>\n",
       "    </tr>\n",
       "    <tr>\n",
       "      <th>1</th>\n",
       "      <td>Q33999</td>\n",
       "      <td>P31xcount_transitive</td>\n",
       "      <td>1889</td>\n",
       "      <td>Q33999-P31xcount_transitive-285f8e</td>\n",
       "      <td>'actor'@en</td>\n",
       "    </tr>\n",
       "    <tr>\n",
       "      <th>2</th>\n",
       "      <td>Q15980804</td>\n",
       "      <td>P31xcount_transitive</td>\n",
       "      <td>1117</td>\n",
       "      <td>Q15980804-P31xcount_transitive-e1d9ce</td>\n",
       "      <td>'media professional'@en</td>\n",
       "    </tr>\n",
       "    <tr>\n",
       "      <th>3</th>\n",
       "      <td>Q131524</td>\n",
       "      <td>P31xcount_transitive</td>\n",
       "      <td>877</td>\n",
       "      <td>Q131524-P31xcount_transitive-30e26c</td>\n",
       "      <td>'entrepreneur'@en</td>\n",
       "    </tr>\n",
       "    <tr>\n",
       "      <th>4</th>\n",
       "      <td>Q13235160</td>\n",
       "      <td>P31xcount_transitive</td>\n",
       "      <td>877</td>\n",
       "      <td>Q13235160-P31xcount_transitive-30e26c</td>\n",
       "      <td>'producer'@en</td>\n",
       "    </tr>\n",
       "    <tr>\n",
       "      <th>...</th>\n",
       "      <td>...</td>\n",
       "      <td>...</td>\n",
       "      <td>...</td>\n",
       "      <td>...</td>\n",
       "      <td>...</td>\n",
       "    </tr>\n",
       "    <tr>\n",
       "      <th>232</th>\n",
       "      <td>Q66495020</td>\n",
       "      <td>P31xcount_transitive</td>\n",
       "      <td>1</td>\n",
       "      <td>Q66495020-P31xcount_transitive-6b86b2</td>\n",
       "      <td>'estate owner'@en</td>\n",
       "    </tr>\n",
       "    <tr>\n",
       "      <th>233</th>\n",
       "      <td>Q7141</td>\n",
       "      <td>P31xcount_transitive</td>\n",
       "      <td>1</td>\n",
       "      <td>Q7141-P31xcount_transitive-6b86b2</td>\n",
       "      <td>'cell biology'@en</td>\n",
       "    </tr>\n",
       "    <tr>\n",
       "      <th>234</th>\n",
       "      <td>Q856887</td>\n",
       "      <td>P31xcount_transitive</td>\n",
       "      <td>1</td>\n",
       "      <td>Q856887-P31xcount_transitive-6b86b2</td>\n",
       "      <td>'security guard'@en</td>\n",
       "    </tr>\n",
       "    <tr>\n",
       "      <th>235</th>\n",
       "      <td>Q957729</td>\n",
       "      <td>P31xcount_transitive</td>\n",
       "      <td>1</td>\n",
       "      <td>Q957729-P31xcount_transitive-6b86b2</td>\n",
       "      <td>'photojournalist'@en</td>\n",
       "    </tr>\n",
       "    <tr>\n",
       "      <th>236</th>\n",
       "      <td>Q98084799</td>\n",
       "      <td>P31xcount_transitive</td>\n",
       "      <td>1</td>\n",
       "      <td>Q98084799-P31xcount_transitive-6b86b2</td>\n",
       "      <td>'professional photographer'@en</td>\n",
       "    </tr>\n",
       "  </tbody>\n",
       "</table>\n",
       "<p>237 rows × 5 columns</p>\n",
       "</div>"
      ],
      "text/plain": [
       "         node1                 label  node2  \\\n",
       "0      Q713200  P31xcount_transitive   1890   \n",
       "1       Q33999  P31xcount_transitive   1889   \n",
       "2    Q15980804  P31xcount_transitive   1117   \n",
       "3      Q131524  P31xcount_transitive    877   \n",
       "4    Q13235160  P31xcount_transitive    877   \n",
       "..         ...                   ...    ...   \n",
       "232  Q66495020  P31xcount_transitive      1   \n",
       "233      Q7141  P31xcount_transitive      1   \n",
       "234    Q856887  P31xcount_transitive      1   \n",
       "235    Q957729  P31xcount_transitive      1   \n",
       "236  Q98084799  P31xcount_transitive      1   \n",
       "\n",
       "                                        id                     node1;label  \n",
       "0      Q713200-P31xcount_transitive-532530          'performing artist'@en  \n",
       "1       Q33999-P31xcount_transitive-285f8e                      'actor'@en  \n",
       "2    Q15980804-P31xcount_transitive-e1d9ce         'media professional'@en  \n",
       "3      Q131524-P31xcount_transitive-30e26c               'entrepreneur'@en  \n",
       "4    Q13235160-P31xcount_transitive-30e26c                   'producer'@en  \n",
       "..                                     ...                             ...  \n",
       "232  Q66495020-P31xcount_transitive-6b86b2               'estate owner'@en  \n",
       "233      Q7141-P31xcount_transitive-6b86b2               'cell biology'@en  \n",
       "234    Q856887-P31xcount_transitive-6b86b2             'security guard'@en  \n",
       "235    Q957729-P31xcount_transitive-6b86b2            'photojournalist'@en  \n",
       "236  Q98084799-P31xcount_transitive-6b86b2  'professional photographer'@en  \n",
       "\n",
       "[237 rows x 5 columns]"
      ]
     },
     "execution_count": 23,
     "metadata": {},
     "output_type": "execute_result"
    }
   ],
   "source": [
    "kgtk(\"\"\"\n",
    "    ifnotexists -i $OUT/metadata.p31x.count.transitive.tsv\n",
    "        --filter-on $OUT/metadata.p31.count.transitive.tsv\n",
    "        --input-keys node1\n",
    "        --filter-keys node1\n",
    "    / add-labels\n",
    "\"\"\")"
   ]
  },
  {
   "cell_type": "markdown",
   "metadata": {},
   "source": [
    "### Summary\n",
    "In this section we:\n",
    "- Computed  `P31x` representing our generalized instance of property. Results in `derived.P31x.tsv`.\n",
    "- Computed `P31xcount_transitive` as a revision of `P31count_transitive` to also include counts via occupation and position held links. Results in `metadata.p31x.count.transitive.tsv`."
   ]
  },
  {
   "cell_type": "code",
   "execution_count": null,
   "metadata": {},
   "outputs": [],
   "source": []
  },
  {
   "cell_type": "markdown",
   "metadata": {},
   "source": [
    "## Compute the number of times each property appears in a class"
   ]
  },
  {
   "cell_type": "code",
   "execution_count": null,
   "metadata": {},
   "outputs": [],
   "source": [
    "\n"
   ]
  },
  {
   "cell_type": "markdown",
   "metadata": {},
   "source": [
    "## Compute the distribution of units for quantity properties"
   ]
  },
  {
   "cell_type": "code",
   "execution_count": null,
   "metadata": {},
   "outputs": [],
   "source": []
  },
  {
   "cell_type": "markdown",
   "metadata": {},
   "source": [
    "## Compute the distribution of years of birthdays"
   ]
  },
  {
   "cell_type": "code",
   "execution_count": null,
   "metadata": {},
   "outputs": [],
   "source": []
  },
  {
   "cell_type": "markdown",
   "metadata": {},
   "source": [
    "## Compute the number of awards each genre of movie has received"
   ]
  },
  {
   "cell_type": "code",
   "execution_count": null,
   "metadata": {},
   "outputs": [],
   "source": []
  },
  {
   "cell_type": "markdown",
   "metadata": {},
   "source": [
    "## Compute the gender of award winners, by award type\n",
    "\n",
    "`film award\n",
    "(Q4220917)`"
   ]
  },
  {
   "cell_type": "code",
   "execution_count": 29,
   "metadata": {},
   "outputs": [
    {
     "data": {
      "text/html": [
       "<div>\n",
       "<style scoped>\n",
       "    .dataframe tbody tr th:only-of-type {\n",
       "        vertical-align: middle;\n",
       "    }\n",
       "\n",
       "    .dataframe tbody tr th {\n",
       "        vertical-align: top;\n",
       "    }\n",
       "\n",
       "    .dataframe thead th {\n",
       "        text-align: right;\n",
       "    }\n",
       "</style>\n",
       "<table border=\"1\" class=\"dataframe\">\n",
       "  <thead>\n",
       "    <tr style=\"text-align: right;\">\n",
       "      <th></th>\n",
       "      <th>award_type</th>\n",
       "      <th>award_type;label</th>\n",
       "    </tr>\n",
       "  </thead>\n",
       "  <tbody>\n",
       "    <tr>\n",
       "      <th>0</th>\n",
       "      <td>Q1011547</td>\n",
       "      <td>'Golden Globe Award'@en</td>\n",
       "    </tr>\n",
       "    <tr>\n",
       "      <th>1</th>\n",
       "      <td>Q106301</td>\n",
       "      <td>'Academy Award for Best Supporting Actress'@en</td>\n",
       "    </tr>\n",
       "    <tr>\n",
       "      <th>2</th>\n",
       "      <td>Q110145</td>\n",
       "      <td>'MTV Movie Awards'@en</td>\n",
       "    </tr>\n",
       "    <tr>\n",
       "      <th>3</th>\n",
       "      <td>Q1111310</td>\n",
       "      <td>'Directors Guild of America Award'@en</td>\n",
       "    </tr>\n",
       "    <tr>\n",
       "      <th>4</th>\n",
       "      <td>Q1131772</td>\n",
       "      <td>'Saturn Award for Best Science Fiction Film'@en</td>\n",
       "    </tr>\n",
       "    <tr>\n",
       "      <th>...</th>\n",
       "      <td>...</td>\n",
       "      <td>...</td>\n",
       "    </tr>\n",
       "    <tr>\n",
       "      <th>90</th>\n",
       "      <td>Q96474700</td>\n",
       "      <td>'award for best screenplay'@en</td>\n",
       "    </tr>\n",
       "    <tr>\n",
       "      <th>91</th>\n",
       "      <td>Q96474701</td>\n",
       "      <td>'award for best adapted screenplay'@en</td>\n",
       "    </tr>\n",
       "    <tr>\n",
       "      <th>92</th>\n",
       "      <td>Q96474704</td>\n",
       "      <td>'award for best makeup and hairdressing'@en</td>\n",
       "    </tr>\n",
       "    <tr>\n",
       "      <th>93</th>\n",
       "      <td>Q96474707</td>\n",
       "      <td>'honorary award'@en</td>\n",
       "    </tr>\n",
       "    <tr>\n",
       "      <th>94</th>\n",
       "      <td>Q96474709</td>\n",
       "      <td>'award for best visual effects'@en</td>\n",
       "    </tr>\n",
       "  </tbody>\n",
       "</table>\n",
       "<p>95 rows × 2 columns</p>\n",
       "</div>"
      ],
      "text/plain": [
       "   award_type                                 award_type;label\n",
       "0    Q1011547                          'Golden Globe Award'@en\n",
       "1     Q106301   'Academy Award for Best Supporting Actress'@en\n",
       "2     Q110145                            'MTV Movie Awards'@en\n",
       "3    Q1111310            'Directors Guild of America Award'@en\n",
       "4    Q1131772  'Saturn Award for Best Science Fiction Film'@en\n",
       "..        ...                                              ...\n",
       "90  Q96474700                   'award for best screenplay'@en\n",
       "91  Q96474701           'award for best adapted screenplay'@en\n",
       "92  Q96474704      'award for best makeup and hairdressing'@en\n",
       "93  Q96474707                              'honorary award'@en\n",
       "94  Q96474709               'award for best visual effects'@en\n",
       "\n",
       "[95 rows x 2 columns]"
      ]
     },
     "execution_count": 29,
     "metadata": {},
     "output_type": "execute_result"
    }
   ],
   "source": [
    "kgtk(\"\"\"\n",
    "    query -i all\n",
    "        --match '\n",
    "            (award)-[P31]->(award_type)-[:P279star]->(:Q4220917)'\n",
    "        --return 'distinct award_type as award_type'\n",
    "    / add-labels\n",
    "\"\"\")"
   ]
  },
  {
   "cell_type": "markdown",
   "metadata": {},
   "source": []
  },
  {
   "cell_type": "code",
   "execution_count": null,
   "metadata": {},
   "outputs": [],
   "source": []
  }
 ],
 "metadata": {
  "kernelspec": {
   "display_name": "kgtk-env",
   "language": "python",
   "name": "kgtk-env"
  },
  "language_info": {
   "codemirror_mode": {
    "name": "ipython",
    "version": 3
   },
   "file_extension": ".py",
   "mimetype": "text/x-python",
   "name": "python",
   "nbconvert_exporter": "python",
   "pygments_lexer": "ipython3",
   "version": "3.8.11"
  }
 },
 "nbformat": 4,
 "nbformat_minor": 4
}
