{
 "cells": [
  {
   "cell_type": "markdown",
   "metadata": {},
   "source": [
    "# Build Graph For The Tutorial\n",
    "\n",
    "This notebook can work for any root node, the default is `Q2685` for Schwarzenegger"
   ]
  },
  {
   "cell_type": "code",
   "execution_count": 1,
   "metadata": {},
   "outputs": [],
   "source": [
    "import io\n",
    "import os\n",
    "import subprocess\n",
    "import sys\n",
    "\n",
    "import numpy as np\n",
    "import pandas as pd\n",
    "from IPython.display import display, HTML\n",
    "\n",
    "import papermill as pm\n",
    "\n",
    "sys.path.insert(0,'../..')\n",
    "from configure_kgtk_notebooks import ConfigureKGTK"
   ]
  },
  {
   "cell_type": "code",
   "execution_count": 2,
   "metadata": {
    "tags": [
     "parameters"
    ]
   },
   "outputs": [],
   "source": [
    "# Parameters\n",
    "kgtk_path = \"/Users/pedroszekely/Documents/GitHub/kgtk\"\n",
    "\n",
    "# Folder on local machine where to create the output and temporary folders\n",
    "input_path = \"/data3/rogers/kgtk/gd/kgtk_public_graphs/cache/wikidata-20210215/data/\"\n",
    "output_path = \"/data1/rogers/kgtk/tutorial/\"\n",
    "project_name = \"build-tutorial\"\n",
    "root = \"Q2685\""
   ]
  },
  {
   "cell_type": "markdown",
   "metadata": {},
   "source": [
    "Put the root q-node in the environment variable `ROOT`"
   ]
  },
  {
   "cell_type": "code",
   "execution_count": 3,
   "metadata": {},
   "outputs": [],
   "source": [
    "os.environ['ROOT'] = root"
   ]
  },
  {
   "cell_type": "code",
   "execution_count": 4,
   "metadata": {},
   "outputs": [
    {
     "name": "stdout",
     "output_type": "stream",
     "text": [
      "User home: /home/rogers\n",
      "Current dir: /data1/rogers/kgtk/github/kgtk/tutorial\n",
      "KGTK dir: /data1/rogers/kgtk/github/kgtk\n",
      "Use-cases dir: /data1/rogers/kgtk/github/kgtk/use-cases\n"
     ]
    }
   ],
   "source": [
    "files = [\n",
    "    \"claims\",\n",
    "    \"item\",\n",
    "    \"wikibase_property\",\n",
    "    \"datatypes\",\n",
    "    \"qualifiers\",\n",
    "    \"p31\",\n",
    "    \"p279\",\n",
    "    \"p279star\",\n",
    "    \"quantity\",\n",
    "    \"time\",\n",
    "    \"external_id\",\n",
    "    \"globe_coordinate\",\n",
    "    \"monolingualtext\",\n",
    "    \"string\",\n",
    "    \"label\",\n",
    "    \"alias\",\n",
    "    \"description\"\n",
    "]\n",
    "ck = ConfigureKGTK(kgtk_path=kgtk_path)\n",
    "ck.configure_kgtk(input_graph_path=input_path,\n",
    "                  output_path=output_path,\n",
    "                  project_name=project_name)"
   ]
  },
  {
   "cell_type": "code",
   "execution_count": 5,
   "metadata": {},
   "outputs": [],
   "source": [
    "os.environ['KGTK_LABEL_FILE'] = \"{}\".format(os.environ['label']) "
   ]
  },
  {
   "cell_type": "code",
   "execution_count": 6,
   "metadata": {},
   "outputs": [
    {
     "name": "stdout",
     "output_type": "stream",
     "text": [
      "USE_CASES_DIR: /data1/rogers/kgtk/github/kgtk/use-cases\n",
      "kypher: kgtk query --graph-cache /data1/rogers/kgtk/tutorial//build-tutorial/temp.build-tutorial/wikidata.sqlite3.db\n",
      "OUT: /data1/rogers/kgtk/tutorial//build-tutorial\n",
      "STORE: /data1/rogers/kgtk/tutorial//build-tutorial/temp.build-tutorial/wikidata.sqlite3.db\n",
      "GRAPH: /data3/rogers/kgtk/gd/kgtk_public_graphs/cache/wikidata-20210215/data/\n",
      "kgtk: kgtk\n",
      "EXAMPLES_DIR: /data1/rogers/kgtk/github/kgtk/examples\n",
      "TEMP: /data1/rogers/kgtk/tutorial//build-tutorial/temp.build-tutorial\n",
      "claims: /data3/rogers/kgtk/gd/kgtk_public_graphs/cache/wikidata-20210215/data//claims.tsv.gz\n",
      "item: /data3/rogers/kgtk/gd/kgtk_public_graphs/cache/wikidata-20210215/data//claims.wikibase-item.tsv.gz\n",
      "wikibase_property: /data3/rogers/kgtk/gd/kgtk_public_graphs/cache/wikidata-20210215/data//claims.wikibase-property.tsv.gz\n",
      "datatypes: /data3/rogers/kgtk/gd/kgtk_public_graphs/cache/wikidata-20210215/data//metadata.property.datatypes.tsv.gz\n",
      "qualifiers: /data3/rogers/kgtk/gd/kgtk_public_graphs/cache/wikidata-20210215/data//qualifiers.tsv.gz\n",
      "p31: /data3/rogers/kgtk/gd/kgtk_public_graphs/cache/wikidata-20210215/data//derived.P31.tsv.gz\n",
      "p279: /data3/rogers/kgtk/gd/kgtk_public_graphs/cache/wikidata-20210215/data//derived.P279.tsv.gz\n",
      "p279star: /data3/rogers/kgtk/gd/kgtk_public_graphs/cache/wikidata-20210215/data//derived.P279star.tsv.gz\n",
      "quantity: /data3/rogers/kgtk/gd/kgtk_public_graphs/cache/wikidata-20210215/data//claims.quantity.tsv.gz\n",
      "time: /data3/rogers/kgtk/gd/kgtk_public_graphs/cache/wikidata-20210215/data//claims.time.tsv.gz\n",
      "external_id: /data3/rogers/kgtk/gd/kgtk_public_graphs/cache/wikidata-20210215/data//claims.external-id.tsv.gz\n",
      "globe_coordinate: /data3/rogers/kgtk/gd/kgtk_public_graphs/cache/wikidata-20210215/data//claims.globe-coordinate.tsv.gz\n",
      "monolingualtext: /data3/rogers/kgtk/gd/kgtk_public_graphs/cache/wikidata-20210215/data//claims.monolingualtext.tsv.gz\n",
      "string: /data3/rogers/kgtk/gd/kgtk_public_graphs/cache/wikidata-20210215/data//claims.string.tsv.gz\n",
      "label: /data3/rogers/kgtk/gd/kgtk_public_graphs/cache/wikidata-20210215/data//labels.en.tsv.gz\n",
      "alias: /data3/rogers/kgtk/gd/kgtk_public_graphs/cache/wikidata-20210215/data//aliases.en.tsv.gz\n",
      "description: /data3/rogers/kgtk/gd/kgtk_public_graphs/cache/wikidata-20210215/data//descriptions.en.tsv.gz\n"
     ]
    }
   ],
   "source": [
    "ck.print_env_variables(files)"
   ]
  },
  {
   "cell_type": "markdown",
   "metadata": {},
   "source": [
    "## Define a custom location for the store when working with full Wikidata so that I can reuse it"
   ]
  },
  {
   "cell_type": "code",
   "execution_count": 7,
   "metadata": {},
   "outputs": [],
   "source": [
    "os.environ['STORE'] = \"/data1/rogers/kgtk/tutorial/wikidata.sqlite3.db\""
   ]
  },
  {
   "cell_type": "markdown",
   "metadata": {},
   "source": [
    "Turn on debugging for kypher"
   ]
  },
  {
   "cell_type": "code",
   "execution_count": 8,
   "metadata": {},
   "outputs": [],
   "source": [
    "os.environ['kypher'] = \"kgtk --debug query --graph-cache \" + os.environ['STORE']"
   ]
  },
  {
   "cell_type": "code",
   "execution_count": 9,
   "metadata": {},
   "outputs": [
    {
     "name": "stdout",
     "output_type": "stream",
     "text": [
      "kgtk --debug query --graph-cache /data1/rogers/kgtk/tutorial/wikidata.sqlite3.db\n"
     ]
    }
   ],
   "source": [
    "!echo \"$kypher\""
   ]
  },
  {
   "cell_type": "markdown",
   "metadata": {},
   "source": [
    "Load all my files into the kypher cache so that all graph aliases are defined"
   ]
  },
  {
   "cell_type": "code",
   "execution_count": 10,
   "metadata": {},
   "outputs": [
    {
     "name": "stdout",
     "output_type": "stream",
     "text": [
      "kgtk --debug query --graph-cache /data1/rogers/kgtk/tutorial/wikidata.sqlite3.db -i \"/data3/rogers/kgtk/gd/kgtk_public_graphs/cache/wikidata-20210215/data//claims.tsv.gz\" --as claims  -i \"/data3/rogers/kgtk/gd/kgtk_public_graphs/cache/wikidata-20210215/data//claims.wikibase-item.tsv.gz\" --as item  -i \"/data3/rogers/kgtk/gd/kgtk_public_graphs/cache/wikidata-20210215/data//claims.wikibase-property.tsv.gz\" --as wikibase_property  -i \"/data3/rogers/kgtk/gd/kgtk_public_graphs/cache/wikidata-20210215/data//metadata.property.datatypes.tsv.gz\" --as datatypes  -i \"/data3/rogers/kgtk/gd/kgtk_public_graphs/cache/wikidata-20210215/data//qualifiers.tsv.gz\" --as qualifiers  -i \"/data3/rogers/kgtk/gd/kgtk_public_graphs/cache/wikidata-20210215/data//derived.P31.tsv.gz\" --as p31  -i \"/data3/rogers/kgtk/gd/kgtk_public_graphs/cache/wikidata-20210215/data//derived.P279.tsv.gz\" --as p279  -i \"/data3/rogers/kgtk/gd/kgtk_public_graphs/cache/wikidata-20210215/data//derived.P279star.tsv.gz\" --as p279star  -i \"/data3/rogers/kgtk/gd/kgtk_public_graphs/cache/wikidata-20210215/data//claims.quantity.tsv.gz\" --as quantity  -i \"/data3/rogers/kgtk/gd/kgtk_public_graphs/cache/wikidata-20210215/data//claims.time.tsv.gz\" --as time  -i \"/data3/rogers/kgtk/gd/kgtk_public_graphs/cache/wikidata-20210215/data//claims.external-id.tsv.gz\" --as external_id  -i \"/data3/rogers/kgtk/gd/kgtk_public_graphs/cache/wikidata-20210215/data//claims.globe-coordinate.tsv.gz\" --as globe_coordinate  -i \"/data3/rogers/kgtk/gd/kgtk_public_graphs/cache/wikidata-20210215/data//claims.monolingualtext.tsv.gz\" --as monolingualtext  -i \"/data3/rogers/kgtk/gd/kgtk_public_graphs/cache/wikidata-20210215/data//claims.string.tsv.gz\" --as string  -i \"/data3/rogers/kgtk/gd/kgtk_public_graphs/cache/wikidata-20210215/data//labels.en.tsv.gz\" --as label  -i \"/data3/rogers/kgtk/gd/kgtk_public_graphs/cache/wikidata-20210215/data//aliases.en.tsv.gz\" --as alias  -i \"/data3/rogers/kgtk/gd/kgtk_public_graphs/cache/wikidata-20210215/data//descriptions.en.tsv.gz\" --as description  --limit 3\n",
      "[2021-10-04 15:58:15 sqlstore]: IMPORT graph directly into table graph_1 from /data3/rogers/kgtk/gd/kgtk_public_graphs/cache/wikidata-20210215/data/claims.tsv.gz ...\n",
      "[2021-10-04 16:22:39 sqlstore]: IMPORT graph directly into table graph_2 from /data3/rogers/kgtk/gd/kgtk_public_graphs/cache/wikidata-20210215/data/claims.wikibase-item.tsv.gz ...\n",
      "[2021-10-04 16:32:10 sqlstore]: IMPORT graph directly into table graph_3 from /data3/rogers/kgtk/gd/kgtk_public_graphs/cache/wikidata-20210215/data/claims.wikibase-property.tsv.gz ...\n",
      "[2021-10-04 16:32:11 sqlstore]: IMPORT graph directly into table graph_4 from /data3/rogers/kgtk/gd/kgtk_public_graphs/cache/wikidata-20210215/data/metadata.property.datatypes.tsv.gz ...\n",
      "[2021-10-04 16:32:11 sqlstore]: IMPORT graph directly into table graph_5 from /data3/rogers/kgtk/gd/kgtk_public_graphs/cache/wikidata-20210215/data/qualifiers.tsv.gz ...\n",
      "[2021-10-04 16:37:53 sqlstore]: IMPORT graph via csv.reader into table graph_6 from /data3/rogers/kgtk/gd/kgtk_public_graphs/cache/wikidata-20210215/data/derived.P31.tsv.gz ...\n",
      "Traceback (most recent call last):\n",
      "  File \"/home/rogers/kgtk/github/kgtk/kgtk/kypher/sqlstore.py\", line 758, in add_graph\n",
      "    self.import_graph_data_via_import(table, file)\n",
      "  File \"/home/rogers/kgtk/github/kgtk/kgtk/kypher/sqlstore.py\", line 816, in import_graph_data_via_import\n",
      "    raise KGTKException('only implemented for existing, named files')\n",
      "kgtk.exceptions.KGTKException: only implemented for existing, named files\n",
      "\n",
      "During handling of the above exception, another exception occurred:\n",
      "\n",
      "Traceback (most recent call last):\n",
      "  File \"/home/rogers/kgtk/github/kgtk/kgtk/cli/query.py\", line 219, in run\n",
      "    query = kyquery.KgtkQuery(inputs, store, loglevel=loglevel,\n",
      "  File \"/home/rogers/kgtk/github/kgtk/kgtk/kypher/query.py\", line 216, in __init__\n",
      "    store.add_graph(file, alias=alias)\n",
      "  File \"/home/rogers/kgtk/github/kgtk/kgtk/kypher/sqlstore.py\", line 761, in add_graph\n",
      "    self.import_graph_data_via_csv(table, file)\n",
      "  File \"/home/rogers/kgtk/github/kgtk/kgtk/kypher/sqlstore.py\", line 796, in import_graph_data_via_csv\n",
      "    with open_to_read(file) as inp:\n",
      "  File \"/home/rogers/kgtk/github/kgtk/kgtk/kypher/sqlstore.py\", line 72, in open_to_read\n",
      "    return gzip.open(file, mode, encoding=enc)\n",
      "  File \"/usr/lib64/python3.8/gzip.py\", line 58, in open\n",
      "    binary_file = GzipFile(filename, gz_mode, compresslevel)\n",
      "  File \"/usr/lib64/python3.8/gzip.py\", line 173, in __init__\n",
      "    fileobj = self.myfileobj = builtins.open(filename, mode or 'rb')\n",
      "FileNotFoundError: [Errno 2] No such file or directory: '/data3/rogers/kgtk/gd/kgtk_public_graphs/cache/wikidata-20210215/data/derived.P31.tsv.gz'\n",
      "\n",
      "During handling of the above exception, another exception occurred:\n",
      "\n",
      "Traceback (most recent call last):\n",
      "  File \"/home/rogers/kgtk/github/kgtk/kgtk/exceptions.py\", line 46, in __call__\n",
      "    return_code = func(*args, **kwargs) or 0\n",
      "  File \"/home/rogers/kgtk/github/kgtk/kgtk/cli/query.py\", line 268, in run\n",
      "    raise KGTKException(str(e) + '\\n')\n",
      "kgtk.exceptions.KGTKException: [Errno 2] No such file or directory: '/data3/rogers/kgtk/gd/kgtk_public_graphs/cache/wikidata-20210215/data/derived.P31.tsv.gz'\n",
      "\n",
      "[Errno 2] No such file or directory: '/data3/rogers/kgtk/gd/kgtk_public_graphs/cache/wikidata-20210215/data/derived.P31.tsv.gz'\n",
      "\n"
     ]
    }
   ],
   "source": [
    "ck.load_files_into_cache(file_list=files)"
   ]
  },
  {
   "cell_type": "code",
   "execution_count": 11,
   "metadata": {},
   "outputs": [
    {
     "name": "stdout",
     "output_type": "stream",
     "text": [
      "/data1/rogers/kgtk/tutorial/build-tutorial\n"
     ]
    }
   ],
   "source": [
    "%cd {os.environ['OUT']}"
   ]
  },
  {
   "cell_type": "markdown",
   "metadata": {},
   "source": [
    "# Approach:\n",
    "- Select a subgraph of full Wikidata that includes people (Q5), organizations (Q43229), geographic regions (Q82794), and awards (Q618779). This graph contains all edges that connect instances of the target classes listed above. Output the graph using a single relation we call `link`.\n",
    "- Starting from Schwarzenegger Q2685, compute reachable nodes in the graph computed in the previous step. This step will produce the collection of nodes that will be part of the Schwarzenegger graph.\n",
    "- Extract from Wikidata all the edges that connect nodes from the previous step.\n",
    "- Extract from Wikidata the time, quantity, monolingual and string properties.\n",
    "- Extract from Wikidata the qualifiers for the edges computed in the previous steps.\n",
    "- Extract from Wikidata the labels, aliases and descriptions for the Schwarzenegger nodes."
   ]
  },
  {
   "cell_type": "markdown",
   "metadata": {},
   "source": [
    "## Extract a subset of Wikidata to use as the base for the Schewarzenegger graph\n",
    "\n",
    "This query takes a really long time, so don't re-execute unless you have to."
   ]
  },
  {
   "cell_type": "code",
   "execution_count": 12,
   "metadata": {},
   "outputs": [
    {
     "name": "stdout",
     "output_type": "stream",
     "text": [
      "[2021-10-04 16:37:54 sqlstore]: IMPORT graph via csv.reader into table graph_6 from /data1/rogers/kgtk/tutorial/build-tutorial/p31 ...\n",
      "Traceback (most recent call last):\n",
      "  File \"/home/rogers/kgtk/github/kgtk/kgtk/kypher/sqlstore.py\", line 758, in add_graph\n",
      "    self.import_graph_data_via_import(table, file)\n",
      "  File \"/home/rogers/kgtk/github/kgtk/kgtk/kypher/sqlstore.py\", line 816, in import_graph_data_via_import\n",
      "    raise KGTKException('only implemented for existing, named files')\n",
      "kgtk.exceptions.KGTKException: only implemented for existing, named files\n",
      "\n",
      "During handling of the above exception, another exception occurred:\n",
      "\n",
      "Traceback (most recent call last):\n",
      "  File \"/home/rogers/kgtk/github/kgtk/kgtk/cli/query.py\", line 219, in run\n",
      "    query = kyquery.KgtkQuery(inputs, store, loglevel=loglevel,\n",
      "  File \"/home/rogers/kgtk/github/kgtk/kgtk/kypher/query.py\", line 216, in __init__\n",
      "    store.add_graph(file, alias=alias)\n",
      "  File \"/home/rogers/kgtk/github/kgtk/kgtk/kypher/sqlstore.py\", line 761, in add_graph\n",
      "    self.import_graph_data_via_csv(table, file)\n",
      "  File \"/home/rogers/kgtk/github/kgtk/kgtk/kypher/sqlstore.py\", line 796, in import_graph_data_via_csv\n",
      "    with open_to_read(file) as inp:\n",
      "  File \"/home/rogers/kgtk/github/kgtk/kgtk/kypher/sqlstore.py\", line 82, in open_to_read\n",
      "    return open(file, mode)\n",
      "FileNotFoundError: [Errno 2] No such file or directory: '/data1/rogers/kgtk/tutorial/build-tutorial/p31'\n",
      "\n",
      "During handling of the above exception, another exception occurred:\n",
      "\n",
      "Traceback (most recent call last):\n",
      "  File \"/home/rogers/kgtk/github/kgtk/kgtk/exceptions.py\", line 46, in __call__\n",
      "    return_code = func(*args, **kwargs) or 0\n",
      "  File \"/home/rogers/kgtk/github/kgtk/kgtk/cli/query.py\", line 268, in run\n",
      "    raise KGTKException(str(e) + '\\n')\n",
      "kgtk.exceptions.KGTKException: [Errno 2] No such file or directory: '/data1/rogers/kgtk/tutorial/build-tutorial/p31'\n",
      "\n",
      "[Errno 2] No such file or directory: '/data1/rogers/kgtk/tutorial/build-tutorial/p31'\n",
      "\n",
      "CPU times: user 6.6 ms, sys: 6.22 ms, total: 12.8 ms\n",
      "Wall time: 937 ms\n"
     ]
    }
   ],
   "source": [
    "%%time\n",
    "!$kypher -i p31 -i item -i p279star \\\n",
    "--match ' \\\n",
    "    p31: (n1)-[]->(n1_class), \\\n",
    "    item: (n1)-[l]->(n2), \\\n",
    "    p31: (n2)-[]->(n2_class), \\\n",
    "    p279star: (n1_class)-[]->(n1_superclass), \\\n",
    "    p279star: (n2_class)-[]->(n2_superclass)' \\\n",
    "--where 'n1_superclass in [\"Q11424\", \"Q5\", \"Q43229\", \"Q82794\", \"Q618779\"] and n2_superclass in [\"Q11424\", \"Q5\", \"Q43229\", \"Q82794\", \"Q618779\"]' \\\n",
    "--return 'distinct n1 as node1, \"link\" as label, n2 as node2, l as id' \\\n",
    "-o \"$TEMP\"/item.per.org.cw.geo.award.link.tsv.gz "
   ]
  },
  {
   "cell_type": "markdown",
   "metadata": {},
   "source": [
    "In the original graph there are qualifier values that we want to follow in the reachablity search. To do so, we will create `link` edges between the qualifier and the value of the statement on which the qualifier is defined."
   ]
  },
  {
   "cell_type": "code",
   "execution_count": null,
   "metadata": {},
   "outputs": [],
   "source": [
    "%%time\n",
    "!$kypher -i qualifiers -i datatypes -i \"$TEMP\"/item.per.org.cw.geo.award.link.tsv.gz --as links \\\n",
    "--match ' \\\n",
    "    links: ()-[l]->(n2), \\\n",
    "    qualifiers: (l)-[q {label: property}]->(qualifier), \\\n",
    "    datatypes: (property)-[:datatype]->(datatype) \\\n",
    "    ' \\\n",
    "--where 'datatype in [\"wikibase-item\"]' \\\n",
    "--return 'n2 as node1, \"link\" as label, qualifier as node2' \\\n",
    "/ add-id --id-style wikidata \\\n",
    "/ cat -i - -i \"$TEMP\"/item.per.org.cw.geo.award.link.tsv.gz \\\n",
    "-o \"$TEMP\"/item.per.org.cw.geo.award.link.qualifier.tsv.gz"
   ]
  },
  {
   "cell_type": "markdown",
   "metadata": {},
   "source": [
    "Starting from `ROOT` traverse links forward in breadfirst mode up to a fixed number of levels to build the graph"
   ]
  },
  {
   "cell_type": "code",
   "execution_count": null,
   "metadata": {},
   "outputs": [],
   "source": [
    "%%time\n",
    "!$kgtk reachable-nodes \\\n",
    "    --root $ROOT \\\n",
    "    --prop link \\\n",
    "    --label \"reachable\" \\\n",
    "    --selflink \\\n",
    "    --breadth-first --depth-limit 3 \\\n",
    "    -i \"$TEMP\"/item.per.org.cw.geo.award.link.qualifier.tsv.gz  \\\n",
    "    -o \"$TEMP\"/root.reachable.per.org.cw.geo.award.tsv.gz"
   ]
  },
  {
   "cell_type": "code",
   "execution_count": null,
   "metadata": {},
   "outputs": [],
   "source": [
    "!$kgtk head -i \"$TEMP\"/root.reachable.per.org.cw.geo.award.tsv.gz"
   ]
  },
  {
   "cell_type": "markdown",
   "metadata": {},
   "source": [
    "Index the resulting file in kypher"
   ]
  },
  {
   "cell_type": "code",
   "execution_count": null,
   "metadata": {},
   "outputs": [],
   "source": [
    "!$kypher -i $TEMP/root.reachable.per.org.cw.geo.award.tsv.gz --as root_nodes --limit 2"
   ]
  },
  {
   "cell_type": "markdown",
   "metadata": {},
   "source": [
    "## Build initial graph containing the item edges\n",
    "\n",
    "Figure out which properties are used so so that we can add them as node1s and get all the info about them."
   ]
  },
  {
   "cell_type": "code",
   "execution_count": null,
   "metadata": {},
   "outputs": [],
   "source": [
    "%%time\n",
    "!$kypher -i root_nodes -i datatypes -i claims \\\n",
    "--match ' \\\n",
    "    root_nodes: ()-[]->(n1), \\\n",
    "    claims: (n1)-[l {label: property}]->(), \\\n",
    "    datatypes: (property)-[:datatype]->(datatype) \\\n",
    "    ' \\\n",
    "--where 'datatype in [\"wikibase-item\", \"string\", \"quantity\", \"time\", \"monolingualtext\"]' \\\n",
    "--return 'distinct \"root\" as node1, \"link\" as label, property as node2' \\\n",
    "-o \"$TEMP\"/root.nodes.property.tsv.gz"
   ]
  },
  {
   "cell_type": "markdown",
   "metadata": {},
   "source": [
    "Concatenate the new nodes with the ones we found via reachability"
   ]
  },
  {
   "cell_type": "code",
   "execution_count": null,
   "metadata": {},
   "outputs": [],
   "source": [
    "!kgtk cat -i \"$TEMP\"/root.nodes.property.tsv.gz -i \"$TEMP\"/root.reachable.per.org.cw.geo.award.tsv.gz \\\n",
    "-o \"$TEMP\"/root.nodes.all.tsv.gz"
   ]
  },
  {
   "cell_type": "markdown",
   "metadata": {},
   "source": [
    "Print number of nodes that we have so far for the new graph"
   ]
  },
  {
   "cell_type": "code",
   "execution_count": null,
   "metadata": {},
   "outputs": [],
   "source": [
    "!zcat < \"$TEMP\"/root.nodes.all.tsv.gz | wc -l"
   ]
  },
  {
   "cell_type": "markdown",
   "metadata": {},
   "source": [
    "Update the Kypher database"
   ]
  },
  {
   "cell_type": "code",
   "execution_count": null,
   "metadata": {},
   "outputs": [],
   "source": [
    "!$kypher -i \"$TEMP\"/root.nodes.all.tsv.gz --as root_nodes --limit 2"
   ]
  },
  {
   "cell_type": "markdown",
   "metadata": {},
   "source": [
    "Extract the item to item edges connecting the nodes in the new graph"
   ]
  },
  {
   "cell_type": "code",
   "execution_count": null,
   "metadata": {},
   "outputs": [],
   "source": [
    "%%time\n",
    "!$kypher -i root_nodes -i item \\\n",
    "--match ' \\\n",
    "    root_nodes: ()-[]->(n1), \\\n",
    "    root_nodes: ()-[]->(n2), \\\n",
    "    item: (n1)-[l]->(n2) \\\n",
    "    ' \\\n",
    "--return 'distinct n1 as node1, l.label as label, n2 as node2, l as id' \\\n",
    "/ sort \\\n",
    "-o $OUT/root.graph.item.tsv.gz"
   ]
  },
  {
   "cell_type": "markdown",
   "metadata": {},
   "source": [
    "Add to the kypher database"
   ]
  },
  {
   "cell_type": "code",
   "execution_count": null,
   "metadata": {},
   "outputs": [],
   "source": [
    "!$kypher -i $OUT/root.graph.item.tsv.gz --as rootitems --limit 2"
   ]
  },
  {
   "cell_type": "markdown",
   "metadata": {},
   "source": [
    "## Extract the other types of edges"
   ]
  },
  {
   "cell_type": "markdown",
   "metadata": {},
   "source": [
    "Extract the quantities"
   ]
  },
  {
   "cell_type": "code",
   "execution_count": null,
   "metadata": {},
   "outputs": [],
   "source": [
    "%%time\n",
    "!$kypher -i quantity -i root_nodes \\\n",
    "--match ' \\\n",
    "    root_nodes: ()-[]->(n1), \\\n",
    "    quantity: (n1)-[l]->(n2) \\\n",
    "    ' \\\n",
    "--return 'distinct n1 as node1, l.label as label, n2 as node2, l as id' \\\n",
    "/ sort \\\n",
    "-o $OUT/root.graph.quantity.tsv.gz"
   ]
  },
  {
   "cell_type": "markdown",
   "metadata": {},
   "source": [
    "Extract the time edges"
   ]
  },
  {
   "cell_type": "code",
   "execution_count": null,
   "metadata": {},
   "outputs": [],
   "source": [
    "%%time\n",
    "!$kypher -i time -i root_nodes \\\n",
    "--match ' \\\n",
    "    root_nodes: ()-[]->(n1), \\\n",
    "    time: (n1)-[l]->(n2) \\\n",
    "    ' \\\n",
    "--return 'distinct n1 as node1, l.label as label, n2 as node2, l as id' \\\n",
    "/ sort \\\n",
    "-o $OUT/root.graph.time.tsv.gz"
   ]
  },
  {
   "cell_type": "markdown",
   "metadata": {},
   "source": [
    "Extract the monolingual text edges"
   ]
  },
  {
   "cell_type": "code",
   "execution_count": null,
   "metadata": {},
   "outputs": [],
   "source": [
    "%%time\n",
    "!$kypher -i monolingualtext -i root_nodes \\\n",
    "--match ' \\\n",
    "    root_nodes: ()-[]->(n1), \\\n",
    "    monolingualtext: (n1)-[l]->(n2) \\\n",
    "    ' \\\n",
    "--return 'distinct n1 as node1, l.label as label, n2 as node2, l as id' \\\n",
    "/ sort \\\n",
    "-o $OUT/root.graph.monolingual.tsv.gz"
   ]
  },
  {
   "cell_type": "markdown",
   "metadata": {},
   "source": [
    "Extract the string edges"
   ]
  },
  {
   "cell_type": "code",
   "execution_count": null,
   "metadata": {},
   "outputs": [],
   "source": [
    "%%time\n",
    "!$kypher -i string -i root_nodes \\\n",
    "--match ' \\\n",
    "    root_nodes: ()-[]->(n1), \\\n",
    "    string: (n1)-[l]->(n2) \\\n",
    "    ' \\\n",
    "--return 'distinct n1 as node1, l.label as label, n2 as node2, l as id' \\\n",
    "/ sort \\\n",
    "-o $OUT/root.graph.string.tsv.gz"
   ]
  },
  {
   "cell_type": "markdown",
   "metadata": {},
   "source": [
    "Extract external identifiers NEW"
   ]
  },
  {
   "cell_type": "code",
   "execution_count": null,
   "metadata": {},
   "outputs": [],
   "source": [
    "%%time\n",
    "!$kypher -i external_id -i root_nodes \\\n",
    "--match ' \\\n",
    "    root_nodes: ()-[]->(n1), \\\n",
    "    external_id: (n1)-[l]->(n2) \\\n",
    "    ' \\\n",
    "--return 'distinct n1 as node1, l.label as label, n2 as node2, l as id' \\\n",
    "/ sort \\\n",
    "-o $OUT/root.graph.external_ids.tsv.gz"
   ]
  },
  {
   "cell_type": "markdown",
   "metadata": {},
   "source": [
    "## Complete the graph"
   ]
  },
  {
   "cell_type": "markdown",
   "metadata": {},
   "source": [
    "Add external_ids"
   ]
  },
  {
   "cell_type": "code",
   "execution_count": null,
   "metadata": {},
   "outputs": [],
   "source": [
    "%%time\n",
    "!kgtk cat \\\n",
    "-i $OUT/root.graph.item.tsv.gz \\\n",
    "-i $OUT/root.graph.quantity.tsv.gz \\\n",
    "-i $OUT/root.graph.time.tsv.gz \\\n",
    "-i $OUT/root.graph.monolingual.tsv.gz \\\n",
    "-i $OUT/root.graph.string.tsv.gz \\\n",
    "-i $OUT/root.graph.external_ids.tsv.gz \\\n",
    "-o $OUT/root.graph.item.quantity.time.monolingual.string.tsv.gz \n",
    "\n",
    "!$kypher -i $OUT/root.graph.item.quantity.time.monolingual.string.tsv.gz --as rootbase --limit 2"
   ]
  },
  {
   "cell_type": "markdown",
   "metadata": {},
   "source": [
    "### Collect all the properties"
   ]
  },
  {
   "cell_type": "markdown",
   "metadata": {},
   "source": [
    "Get edges for the properties"
   ]
  },
  {
   "cell_type": "code",
   "execution_count": null,
   "metadata": {},
   "outputs": [],
   "source": [
    "%%time\n",
    "!$kypher -i rootbase -i wikibase_property \\\n",
    "--match ' \\\n",
    "    rootbase: ()-[l {label: property}]->(), \\\n",
    "    wikibase_property: (property)-[lp]->(n) \\\n",
    "    ' \\\n",
    "--return 'distinct property as node1, lp.label as label, n as node2, lp as id' \\\n",
    "/ sort \\\n",
    "-o $OUT/root.graph.property.tsv.gz"
   ]
  },
  {
   "cell_type": "markdown",
   "metadata": {},
   "source": [
    "Update the base"
   ]
  },
  {
   "cell_type": "code",
   "execution_count": null,
   "metadata": {},
   "outputs": [],
   "source": [
    "%%time\n",
    "!kgtk cat \\\n",
    "-i $OUT/root.graph.item.quantity.time.monolingual.string.tsv.gz \\\n",
    "-i $OUT/root.graph.property.tsv.gz \\\n",
    "/ compact \\\n",
    "-o $OUT/root.graph.item.quantity.time.monolingual.string.property.tsv.gz \n",
    "\n",
    "!$kypher -i $OUT/root.graph.item.quantity.time.monolingual.string.property.tsv.gz --as rootbase --limit 2"
   ]
  },
  {
   "cell_type": "markdown",
   "metadata": {},
   "source": [
    "### Compute qualifiers"
   ]
  },
  {
   "cell_type": "code",
   "execution_count": null,
   "metadata": {},
   "outputs": [],
   "source": [
    "%%time\n",
    "!$kypher -i qualifiers -i rootbase \\\n",
    "--match ' \\\n",
    "    rootbase: ()-[l]->(), \\\n",
    "    qualifiers: (l)-[lq {label: property}]->(n) \\\n",
    "    ' \\\n",
    "--return 'distinct l as node1, property as label, n as node2, lq as id' \\\n",
    "/ sort \\\n",
    "-o $OUT/root.graph.qualifiers.tsv.gz"
   ]
  },
  {
   "cell_type": "markdown",
   "metadata": {},
   "source": [
    "Update the base again"
   ]
  },
  {
   "cell_type": "code",
   "execution_count": null,
   "metadata": {},
   "outputs": [],
   "source": [
    "%%time\n",
    "!kgtk cat \\\n",
    "-i $OUT/root.graph.item.quantity.time.monolingual.string.property.tsv.gz \\\n",
    "-i $OUT/root.graph.qualifiers.tsv.gz \\\n",
    "/ compact \\\n",
    "-o $OUT/root.graph.item.quantity.time.monolingual.string.property.qualifiers.tsv.gz \n",
    "\n",
    "!$kypher -i $OUT/root.graph.item.quantity.time.monolingual.string.property.qualifiers.tsv.gz --as rootbase --limit 2"
   ]
  },
  {
   "cell_type": "markdown",
   "metadata": {},
   "source": [
    "### Add the units"
   ]
  },
  {
   "cell_type": "markdown",
   "metadata": {},
   "source": [
    "Find all values of quantity properties, and get the units defined for them.\n",
    "\n",
    "> `kgtk_quantity_wd_units` throws an exception when it gets a quantity without units, so we have to hack around that using grep."
   ]
  },
  {
   "cell_type": "code",
   "execution_count": null,
   "metadata": {},
   "outputs": [],
   "source": [
    "%%time\n",
    "!$kypher -i datatypes -i rootbase \\\n",
    "--match ' \\\n",
    "    rootbase: ()-[l {label: property}]->(n2), \\\n",
    "    datatypes: (property)-[:datatype]->(datatype) \\\n",
    "    ' \\\n",
    "--where 'datatype in [\"quantity\"]' \\\n",
    "--return 'distinct n2' \\\n",
    "| grep Q > \"$TEMP\"/units.noheader.tsv\n",
    "\n",
    "!echo -e \"node1\" | cat - \"$TEMP\"/units.noheader.tsv > \"$TEMP\"/quantities.units.tsv"
   ]
  },
  {
   "cell_type": "code",
   "execution_count": null,
   "metadata": {},
   "outputs": [],
   "source": [
    "%%time\n",
    "!$kypher -i \"$TEMP\"/quantities.units.tsv \\\n",
    "--match '(quantity)' \\\n",
    "--return 'distinct kgtk_quantity_wd_units(quantity) as node1' \\\n",
    "-o \"$TEMP\"/units.tsv"
   ]
  },
  {
   "cell_type": "markdown",
   "metadata": {},
   "source": [
    "Now that we have the units in a file, we can get all the properties we want about them"
   ]
  },
  {
   "cell_type": "code",
   "execution_count": null,
   "metadata": {},
   "outputs": [],
   "source": [
    "%%time\n",
    "!$kypher -i \"$TEMP\"/units.tsv -i item -i datatypes \\\n",
    "--match ' \\\n",
    "    units: (unit), \\\n",
    "    datatypes: (property)-[:datatype]->(datatype), \\\n",
    "    item: (unit)-[l {label: property}]->(n2) \\\n",
    "    ' \\\n",
    "--where 'datatype in [\"wikibase-item\", \"string\", \"quantity\", \"time\", \"monolingualtext\"]' \\\n",
    "--return 'distinct unit as node1, property as label, n2 as node2, l as id' \\\n",
    "/ cat -i - -i $OUT/root.graph.item.quantity.time.monolingual.string.property.qualifiers.tsv.gz\\\n",
    "/ compact \\\n",
    "-o $OUT/root.graph.item.quantity.time.monolingual.string.property.qualifiers.units.tsv.gz \\\n",
    "\n",
    "!$kypher -i $OUT/root.graph.item.quantity.time.monolingual.string.property.qualifiers.units.tsv.gz --as rootbase --limit 2"
   ]
  },
  {
   "cell_type": "markdown",
   "metadata": {},
   "source": [
    "### Make sure that every q-node has at least P31 and P279\n",
    "need to do it twice, once for node1 and once for node2"
   ]
  },
  {
   "cell_type": "code",
   "execution_count": 36,
   "metadata": {},
   "outputs": [
    {
     "name": "stdout",
     "output_type": "stream",
     "text": [
      "[2021-10-04 16:38:11 sqlstore]: IMPORT graph via csv.reader into table graph_8 from /data1/rogers/kgtk/tutorial/build-tutorial/rootbase ...\n",
      "Traceback (most recent call last):\n",
      "  File \"/home/rogers/kgtk/github/kgtk/kgtk/kypher/sqlstore.py\", line 758, in add_graph\n",
      "    self.import_graph_data_via_import(table, file)\n",
      "  File \"/home/rogers/kgtk/github/kgtk/kgtk/kypher/sqlstore.py\", line 816, in import_graph_data_via_import\n",
      "    raise KGTKException('only implemented for existing, named files')\n",
      "kgtk.exceptions.KGTKException: only implemented for existing, named files\n",
      "\n",
      "During handling of the above exception, another exception occurred:\n",
      "\n",
      "Traceback (most recent call last):\n",
      "  File \"/home/rogers/kgtk/github/kgtk/kgtk/cli/query.py\", line 219, in run\n",
      "    query = kyquery.KgtkQuery(inputs, store, loglevel=loglevel,\n",
      "  File \"/home/rogers/kgtk/github/kgtk/kgtk/kypher/query.py\", line 216, in __init__\n",
      "    store.add_graph(file, alias=alias)\n",
      "  File \"/home/rogers/kgtk/github/kgtk/kgtk/kypher/sqlstore.py\", line 761, in add_graph\n",
      "    self.import_graph_data_via_csv(table, file)\n",
      "  File \"/home/rogers/kgtk/github/kgtk/kgtk/kypher/sqlstore.py\", line 796, in import_graph_data_via_csv\n",
      "    with open_to_read(file) as inp:\n",
      "  File \"/home/rogers/kgtk/github/kgtk/kgtk/kypher/sqlstore.py\", line 82, in open_to_read\n",
      "    return open(file, mode)\n",
      "FileNotFoundError: [Errno 2] No such file or directory: '/data1/rogers/kgtk/tutorial/build-tutorial/rootbase'\n",
      "\n",
      "During handling of the above exception, another exception occurred:\n",
      "\n",
      "Traceback (most recent call last):\n",
      "  File \"/home/rogers/kgtk/github/kgtk/kgtk/exceptions.py\", line 46, in __call__\n",
      "    return_code = func(*args, **kwargs) or 0\n",
      "  File \"/home/rogers/kgtk/github/kgtk/kgtk/cli/query.py\", line 268, in run\n",
      "    raise KGTKException(str(e) + '\\n')\n",
      "kgtk.exceptions.KGTKException: [Errno 2] No such file or directory: '/data1/rogers/kgtk/tutorial/build-tutorial/rootbase'\n",
      "\n",
      "[Errno 2] No such file or directory: '/data1/rogers/kgtk/tutorial/build-tutorial/rootbase'\n",
      "\n",
      "CPU times: user 4.45 ms, sys: 4.38 ms, total: 8.83 ms\n",
      "Wall time: 453 ms\n"
     ]
    }
   ],
   "source": [
    "%%time\n",
    "!$kypher -i rootbase -i claims \\\n",
    "--match 'rootbase: (n)-[]->(), claims: (n)-[l {label: property}]->(n2)' \\\n",
    "--where 'property in [\"P31\", \"P279\"]' \\\n",
    "--return 'distinct n as node1, property as label, n2 as node2, l as id' \\\n",
    "-o \"$TEMP\"/root.node1.P31.P279.tsv.gz"
   ]
  },
  {
   "cell_type": "code",
   "execution_count": 37,
   "metadata": {},
   "outputs": [
    {
     "name": "stdout",
     "output_type": "stream",
     "text": [
      "[2021-10-04 16:38:12 sqlstore]: IMPORT graph via csv.reader into table graph_8 from /data1/rogers/kgtk/tutorial/build-tutorial/rootbase ...\n",
      "Traceback (most recent call last):\n",
      "  File \"/home/rogers/kgtk/github/kgtk/kgtk/kypher/sqlstore.py\", line 758, in add_graph\n",
      "    self.import_graph_data_via_import(table, file)\n",
      "  File \"/home/rogers/kgtk/github/kgtk/kgtk/kypher/sqlstore.py\", line 816, in import_graph_data_via_import\n",
      "    raise KGTKException('only implemented for existing, named files')\n",
      "kgtk.exceptions.KGTKException: only implemented for existing, named files\n",
      "\n",
      "During handling of the above exception, another exception occurred:\n",
      "\n",
      "Traceback (most recent call last):\n",
      "  File \"/home/rogers/kgtk/github/kgtk/kgtk/cli/query.py\", line 219, in run\n",
      "    query = kyquery.KgtkQuery(inputs, store, loglevel=loglevel,\n",
      "  File \"/home/rogers/kgtk/github/kgtk/kgtk/kypher/query.py\", line 216, in __init__\n",
      "    store.add_graph(file, alias=alias)\n",
      "  File \"/home/rogers/kgtk/github/kgtk/kgtk/kypher/sqlstore.py\", line 761, in add_graph\n",
      "    self.import_graph_data_via_csv(table, file)\n",
      "  File \"/home/rogers/kgtk/github/kgtk/kgtk/kypher/sqlstore.py\", line 796, in import_graph_data_via_csv\n",
      "    with open_to_read(file) as inp:\n",
      "  File \"/home/rogers/kgtk/github/kgtk/kgtk/kypher/sqlstore.py\", line 82, in open_to_read\n",
      "    return open(file, mode)\n",
      "FileNotFoundError: [Errno 2] No such file or directory: '/data1/rogers/kgtk/tutorial/build-tutorial/rootbase'\n",
      "\n",
      "During handling of the above exception, another exception occurred:\n",
      "\n",
      "Traceback (most recent call last):\n",
      "  File \"/home/rogers/kgtk/github/kgtk/kgtk/exceptions.py\", line 46, in __call__\n",
      "    return_code = func(*args, **kwargs) or 0\n",
      "  File \"/home/rogers/kgtk/github/kgtk/kgtk/cli/query.py\", line 268, in run\n",
      "    raise KGTKException(str(e) + '\\n')\n",
      "kgtk.exceptions.KGTKException: [Errno 2] No such file or directory: '/data1/rogers/kgtk/tutorial/build-tutorial/rootbase'\n",
      "\n",
      "[Errno 2] No such file or directory: '/data1/rogers/kgtk/tutorial/build-tutorial/rootbase'\n",
      "\n",
      "CPU times: user 4.17 ms, sys: 4.92 ms, total: 9.09 ms\n",
      "Wall time: 457 ms\n"
     ]
    }
   ],
   "source": [
    "%%time\n",
    "!$kypher -i rootbase -i claims \\\n",
    "--match 'rootbase: ()-[]->(n), claims: (n)-[l {label: property}]->(n2)' \\\n",
    "--where 'property in [\"P31\", \"P279\"]' \\\n",
    "--return 'distinct n as node1, property as label, n2 as node2, l as id' \\\n",
    "-o \"$TEMP\"/root.node2.P31.P279.tsv.gz"
   ]
  },
  {
   "cell_type": "markdown",
   "metadata": {},
   "source": [
    "Recreate the base file NEW\n",
    "> the output file should have the `.units` segment in the name, but I didnt' add it so that I don't have to modify all the other ocmmands\n",
    "> a better design for the file names would not have this problem"
   ]
  },
  {
   "cell_type": "code",
   "execution_count": 38,
   "metadata": {},
   "outputs": [
    {
     "name": "stdout",
     "output_type": "stream",
     "text": [
      "[Errno 2] No such file or directory: '/data1/rogers/kgtk/tutorial/build-tutorial/root.graph.item.quantity.time.monolingual.string.property.qualifiers.units.tsv.gz'\n",
      "No header line in file\n",
      "[2021-10-04 16:38:13 sqlstore]: IMPORT graph via csv.reader into table graph_8 from /data1/rogers/kgtk/tutorial/build-tutorial/root.graph.item.quantity.time.monolingual.string.property.qualifiers.P31.P279.tsv.gz ...\n",
      "Traceback (most recent call last):\n",
      "  File \"/home/rogers/kgtk/github/kgtk/kgtk/kypher/sqlstore.py\", line 758, in add_graph\n",
      "    self.import_graph_data_via_import(table, file)\n",
      "  File \"/home/rogers/kgtk/github/kgtk/kgtk/kypher/sqlstore.py\", line 816, in import_graph_data_via_import\n",
      "    raise KGTKException('only implemented for existing, named files')\n",
      "kgtk.exceptions.KGTKException: only implemented for existing, named files\n",
      "\n",
      "During handling of the above exception, another exception occurred:\n",
      "\n",
      "Traceback (most recent call last):\n",
      "  File \"/home/rogers/kgtk/github/kgtk/kgtk/cli/query.py\", line 219, in run\n",
      "    query = kyquery.KgtkQuery(inputs, store, loglevel=loglevel,\n",
      "  File \"/home/rogers/kgtk/github/kgtk/kgtk/kypher/query.py\", line 216, in __init__\n",
      "    store.add_graph(file, alias=alias)\n",
      "  File \"/home/rogers/kgtk/github/kgtk/kgtk/kypher/sqlstore.py\", line 761, in add_graph\n",
      "    self.import_graph_data_via_csv(table, file)\n",
      "  File \"/home/rogers/kgtk/github/kgtk/kgtk/kypher/sqlstore.py\", line 796, in import_graph_data_via_csv\n",
      "    with open_to_read(file) as inp:\n",
      "  File \"/home/rogers/kgtk/github/kgtk/kgtk/kypher/sqlstore.py\", line 72, in open_to_read\n",
      "    return gzip.open(file, mode, encoding=enc)\n",
      "  File \"/usr/lib64/python3.8/gzip.py\", line 58, in open\n",
      "    binary_file = GzipFile(filename, gz_mode, compresslevel)\n",
      "  File \"/usr/lib64/python3.8/gzip.py\", line 173, in __init__\n",
      "    fileobj = self.myfileobj = builtins.open(filename, mode or 'rb')\n",
      "FileNotFoundError: [Errno 2] No such file or directory: '/data1/rogers/kgtk/tutorial/build-tutorial/root.graph.item.quantity.time.monolingual.string.property.qualifiers.P31.P279.tsv.gz'\n",
      "\n",
      "During handling of the above exception, another exception occurred:\n",
      "\n",
      "Traceback (most recent call last):\n",
      "  File \"/home/rogers/kgtk/github/kgtk/kgtk/exceptions.py\", line 46, in __call__\n",
      "    return_code = func(*args, **kwargs) or 0\n",
      "  File \"/home/rogers/kgtk/github/kgtk/kgtk/cli/query.py\", line 268, in run\n",
      "    raise KGTKException(str(e) + '\\n')\n",
      "kgtk.exceptions.KGTKException: [Errno 2] No such file or directory: '/data1/rogers/kgtk/tutorial/build-tutorial/root.graph.item.quantity.time.monolingual.string.property.qualifiers.P31.P279.tsv.gz'\n",
      "\n",
      "[Errno 2] No such file or directory: '/data1/rogers/kgtk/tutorial/build-tutorial/root.graph.item.quantity.time.monolingual.string.property.qualifiers.P31.P279.tsv.gz'\n",
      "\n",
      "CPU times: user 11.9 ms, sys: 4.59 ms, total: 16.5 ms\n",
      "Wall time: 1.16 s\n"
     ]
    }
   ],
   "source": [
    "%%time\n",
    "!kgtk cat \\\n",
    "-i $OUT/root.graph.item.quantity.time.monolingual.string.property.qualifiers.units.tsv.gz \\\n",
    "-i \"$TEMP\"/root.node2.P31.P279.tsv.gz \\\n",
    "/ compact \\\n",
    "-o $OUT/root.graph.item.quantity.time.monolingual.string.property.qualifiers.P31.P279.tsv.gz \n",
    "\n",
    "!$kypher -i $OUT/root.graph.item.quantity.time.monolingual.string.property.qualifiers.P31.P279.tsv.gz --as rootbase --limit 2"
   ]
  },
  {
   "cell_type": "markdown",
   "metadata": {},
   "source": [
    "### Incorporate all nodes up to the top of the class hierarchy\n",
    "When we do a breath first traversal, we may not follow enough links on the P279 hierarchy to reach the top. We need to do a full traversal on the P279 hierarchy to incorporate all the relevant classes.\n",
    "\n",
    "Approach:\n",
    "- Create a graph including P31 and P279 to do the traversal\n",
    "- Create a file of all the nodes in the Schwarzenneger file to use as roots"
   ]
  },
  {
   "cell_type": "code",
   "execution_count": 39,
   "metadata": {},
   "outputs": [
    {
     "name": "stdout",
     "output_type": "stream",
     "text": [
      "[2021-10-04 16:38:13 query]: SQL Translation:\n",
      "---------------------------------------------\n",
      "  SELECT DISTINCT graph_1_c1.\"node1\" \"_aLias.node1\", ? \"_aLias.label\", graph_1_c1.\"node2\" \"_aLias.node2\"\n",
      "     FROM graph_1 AS graph_1_c1\n",
      "     WHERE graph_1_c1.\"label\" = graph_1_c1.\"label\"\n",
      "        AND (graph_1_c1.\"label\" IN (?, ?))\n",
      "  PARAS: ['link', 'P31', 'P279']\n",
      "---------------------------------------------\n",
      "[2021-10-04 16:38:13 sqlstore]: CREATE INDEX on table graph_1 column label ...\n",
      "[2021-10-04 17:04:56 sqlstore]: ANALYZE INDEX on table graph_1 column label ...\n",
      "1402.219u 120.318s 51:52.18 48.9%\t0+0k 458695856+86016408io 23pf+0w\n",
      "CPU times: user 26.1 s, sys: 3.95 s, total: 30.1 s\n",
      "Wall time: 51min 52s\n"
     ]
    }
   ],
   "source": [
    "%%time\n",
    "!$kypher -i claims \\\n",
    "--match '(n1)-[l {label:property}]->(n2)' \\\n",
    "--where 'property in [\"P31\", \"P279\"]' \\\n",
    "--return 'distinct n1 as node1, \"link\" as label, n2 as node2' \\\n",
    "-o \"$TEMP\"/P31.P279.subgraph.tsv.gz"
   ]
  },
  {
   "cell_type": "markdown",
   "metadata": {},
   "source": [
    "#### Create the roots"
   ]
  },
  {
   "cell_type": "markdown",
   "metadata": {},
   "source": [
    "Find roots in node1\n",
    "\n",
    "> This step is including qualifier ids in node1, which makes reachable nodes have more roots than necessary. Would be nice to eliminate qualifiers here."
   ]
  },
  {
   "cell_type": "code",
   "execution_count": 40,
   "metadata": {},
   "outputs": [
    {
     "name": "stdout",
     "output_type": "stream",
     "text": [
      "[2021-10-04 17:30:08 sqlstore]: IMPORT graph via csv.reader into table graph_8 from /data1/rogers/kgtk/tutorial/build-tutorial/rootbase ...\n",
      "Traceback (most recent call last):\n",
      "  File \"/home/rogers/kgtk/github/kgtk/kgtk/kypher/sqlstore.py\", line 758, in add_graph\n",
      "    self.import_graph_data_via_import(table, file)\n",
      "  File \"/home/rogers/kgtk/github/kgtk/kgtk/kypher/sqlstore.py\", line 816, in import_graph_data_via_import\n",
      "    raise KGTKException('only implemented for existing, named files')\n",
      "kgtk.exceptions.KGTKException: only implemented for existing, named files\n",
      "\n",
      "During handling of the above exception, another exception occurred:\n",
      "\n",
      "Traceback (most recent call last):\n",
      "  File \"/home/rogers/kgtk/github/kgtk/kgtk/cli/query.py\", line 219, in run\n",
      "    query = kyquery.KgtkQuery(inputs, store, loglevel=loglevel,\n",
      "  File \"/home/rogers/kgtk/github/kgtk/kgtk/kypher/query.py\", line 216, in __init__\n",
      "    store.add_graph(file, alias=alias)\n",
      "  File \"/home/rogers/kgtk/github/kgtk/kgtk/kypher/sqlstore.py\", line 761, in add_graph\n",
      "    self.import_graph_data_via_csv(table, file)\n",
      "  File \"/home/rogers/kgtk/github/kgtk/kgtk/kypher/sqlstore.py\", line 796, in import_graph_data_via_csv\n",
      "    with open_to_read(file) as inp:\n",
      "  File \"/home/rogers/kgtk/github/kgtk/kgtk/kypher/sqlstore.py\", line 82, in open_to_read\n",
      "    return open(file, mode)\n",
      "FileNotFoundError: [Errno 2] No such file or directory: '/data1/rogers/kgtk/tutorial/build-tutorial/rootbase'\n",
      "\n",
      "During handling of the above exception, another exception occurred:\n",
      "\n",
      "Traceback (most recent call last):\n",
      "  File \"/home/rogers/kgtk/github/kgtk/kgtk/exceptions.py\", line 46, in __call__\n",
      "    return_code = func(*args, **kwargs) or 0\n",
      "  File \"/home/rogers/kgtk/github/kgtk/kgtk/cli/query.py\", line 268, in run\n",
      "    raise KGTKException(str(e) + '\\n')\n",
      "kgtk.exceptions.KGTKException: [Errno 2] No such file or directory: '/data1/rogers/kgtk/tutorial/build-tutorial/rootbase'\n",
      "\n",
      "[Errno 2] No such file or directory: '/data1/rogers/kgtk/tutorial/build-tutorial/rootbase'\n",
      "\n",
      "CPU times: user 24.9 ms, sys: 4.95 ms, total: 29.9 ms\n",
      "Wall time: 3.08 s\n"
     ]
    }
   ],
   "source": [
    "%%time\n",
    "!$kypher -i rootbase \\\n",
    "--match '(n)-[]->()' \\\n",
    "--return 'distinct n as node1' \\\n",
    "-o \"$TEMP\"/root.node1.tsv.gz"
   ]
  },
  {
   "cell_type": "markdown",
   "metadata": {},
   "source": [
    "Find roots in node2"
   ]
  },
  {
   "cell_type": "code",
   "execution_count": 41,
   "metadata": {},
   "outputs": [
    {
     "name": "stdout",
     "output_type": "stream",
     "text": [
      "[2021-10-04 17:30:09 sqlstore]: IMPORT graph via csv.reader into table graph_8 from /data1/rogers/kgtk/tutorial/build-tutorial/rootbase ...\n",
      "Traceback (most recent call last):\n",
      "  File \"/home/rogers/kgtk/github/kgtk/kgtk/kypher/sqlstore.py\", line 758, in add_graph\n",
      "    self.import_graph_data_via_import(table, file)\n",
      "  File \"/home/rogers/kgtk/github/kgtk/kgtk/kypher/sqlstore.py\", line 816, in import_graph_data_via_import\n",
      "    raise KGTKException('only implemented for existing, named files')\n",
      "kgtk.exceptions.KGTKException: only implemented for existing, named files\n",
      "\n",
      "During handling of the above exception, another exception occurred:\n",
      "\n",
      "Traceback (most recent call last):\n",
      "  File \"/home/rogers/kgtk/github/kgtk/kgtk/cli/query.py\", line 219, in run\n",
      "    query = kyquery.KgtkQuery(inputs, store, loglevel=loglevel,\n",
      "  File \"/home/rogers/kgtk/github/kgtk/kgtk/kypher/query.py\", line 216, in __init__\n",
      "    store.add_graph(file, alias=alias)\n",
      "  File \"/home/rogers/kgtk/github/kgtk/kgtk/kypher/sqlstore.py\", line 761, in add_graph\n",
      "    self.import_graph_data_via_csv(table, file)\n",
      "  File \"/home/rogers/kgtk/github/kgtk/kgtk/kypher/sqlstore.py\", line 796, in import_graph_data_via_csv\n",
      "    with open_to_read(file) as inp:\n",
      "  File \"/home/rogers/kgtk/github/kgtk/kgtk/kypher/sqlstore.py\", line 82, in open_to_read\n",
      "    return open(file, mode)\n",
      "FileNotFoundError: [Errno 2] No such file or directory: '/data1/rogers/kgtk/tutorial/build-tutorial/rootbase'\n",
      "\n",
      "During handling of the above exception, another exception occurred:\n",
      "\n",
      "Traceback (most recent call last):\n",
      "  File \"/home/rogers/kgtk/github/kgtk/kgtk/exceptions.py\", line 46, in __call__\n",
      "    return_code = func(*args, **kwargs) or 0\n",
      "  File \"/home/rogers/kgtk/github/kgtk/kgtk/cli/query.py\", line 268, in run\n",
      "    raise KGTKException(str(e) + '\\n')\n",
      "kgtk.exceptions.KGTKException: [Errno 2] No such file or directory: '/data1/rogers/kgtk/tutorial/build-tutorial/rootbase'\n",
      "\n",
      "[Errno 2] No such file or directory: '/data1/rogers/kgtk/tutorial/build-tutorial/rootbase'\n",
      "\n",
      "CPU times: user 0 ns, sys: 8.43 ms, total: 8.43 ms\n",
      "Wall time: 456 ms\n"
     ]
    }
   ],
   "source": [
    "%%time\n",
    "!$kypher -i rootbase -i datatypes \\\n",
    "--match ' \\\n",
    "    rootbase: ()-[l {label: property}]->(n), \\\n",
    "    datatypes: (property)-[:datatype]->(datatype) \\\n",
    "    ' \\\n",
    "--where 'datatype in [\"wikibase-item\"]' \\\n",
    "--return 'distinct n as node1' \\\n",
    "-o \"$TEMP\"/root.node2.tsv.gz"
   ]
  },
  {
   "cell_type": "markdown",
   "metadata": {},
   "source": [
    "Combine the two files to create all the roots"
   ]
  },
  {
   "cell_type": "code",
   "execution_count": 42,
   "metadata": {},
   "outputs": [
    {
     "name": "stdout",
     "output_type": "stream",
     "text": [
      "No header line in file\n",
      "No header line in file\n",
      "[2021-10-04 17:30:10 sqlstore]: IMPORT graph via csv.reader into table graph_8 from /data1/rogers/kgtk/tutorial/build-tutorial/temp.build-tutorial/root.nodes.tsv.gz ...\n",
      "Traceback (most recent call last):\n",
      "  File \"/home/rogers/kgtk/github/kgtk/kgtk/kypher/sqlstore.py\", line 758, in add_graph\n",
      "    self.import_graph_data_via_import(table, file)\n",
      "  File \"/home/rogers/kgtk/github/kgtk/kgtk/kypher/sqlstore.py\", line 816, in import_graph_data_via_import\n",
      "    raise KGTKException('only implemented for existing, named files')\n",
      "kgtk.exceptions.KGTKException: only implemented for existing, named files\n",
      "\n",
      "During handling of the above exception, another exception occurred:\n",
      "\n",
      "Traceback (most recent call last):\n",
      "  File \"/home/rogers/kgtk/github/kgtk/kgtk/cli/query.py\", line 219, in run\n",
      "    query = kyquery.KgtkQuery(inputs, store, loglevel=loglevel,\n",
      "  File \"/home/rogers/kgtk/github/kgtk/kgtk/kypher/query.py\", line 216, in __init__\n",
      "    store.add_graph(file, alias=alias)\n",
      "  File \"/home/rogers/kgtk/github/kgtk/kgtk/kypher/sqlstore.py\", line 761, in add_graph\n",
      "    self.import_graph_data_via_csv(table, file)\n",
      "  File \"/home/rogers/kgtk/github/kgtk/kgtk/kypher/sqlstore.py\", line 796, in import_graph_data_via_csv\n",
      "    with open_to_read(file) as inp:\n",
      "  File \"/home/rogers/kgtk/github/kgtk/kgtk/kypher/sqlstore.py\", line 72, in open_to_read\n",
      "    return gzip.open(file, mode, encoding=enc)\n",
      "  File \"/usr/lib64/python3.8/gzip.py\", line 58, in open\n",
      "    binary_file = GzipFile(filename, gz_mode, compresslevel)\n",
      "  File \"/usr/lib64/python3.8/gzip.py\", line 173, in __init__\n",
      "    fileobj = self.myfileobj = builtins.open(filename, mode or 'rb')\n",
      "FileNotFoundError: [Errno 2] No such file or directory: '/data1/rogers/kgtk/tutorial/build-tutorial/temp.build-tutorial/root.nodes.tsv.gz'\n",
      "\n",
      "During handling of the above exception, another exception occurred:\n",
      "\n",
      "Traceback (most recent call last):\n",
      "  File \"/home/rogers/kgtk/github/kgtk/kgtk/exceptions.py\", line 46, in __call__\n",
      "    return_code = func(*args, **kwargs) or 0\n",
      "  File \"/home/rogers/kgtk/github/kgtk/kgtk/cli/query.py\", line 268, in run\n",
      "    raise KGTKException(str(e) + '\\n')\n",
      "kgtk.exceptions.KGTKException: [Errno 2] No such file or directory: '/data1/rogers/kgtk/tutorial/build-tutorial/temp.build-tutorial/root.nodes.tsv.gz'\n",
      "\n",
      "[Errno 2] No such file or directory: '/data1/rogers/kgtk/tutorial/build-tutorial/temp.build-tutorial/root.nodes.tsv.gz'\n",
      "\n",
      "CPU times: user 16.2 ms, sys: 4.09 ms, total: 20.3 ms\n",
      "Wall time: 1.24 s\n"
     ]
    }
   ],
   "source": [
    "%%time\n",
    "!$kgtk cat --mode=NONE -i \"$TEMP\"/root.node1.tsv.gz -i \"$TEMP\"/root.node2.tsv.gz \\\n",
    "/ compact --mode=NONE --columns node1 \\\n",
    "-o \"$TEMP\"/root.nodes.tsv.gz\n",
    "\n",
    "!$kypher -i \"$TEMP\"/root.nodes.tsv.gz --as rootnode1 --limit 2"
   ]
  },
  {
   "cell_type": "markdown",
   "metadata": {},
   "source": [
    "Circumvent a problem in `reachable-nodes` where it does not accept a root file with column header `node1`"
   ]
  },
  {
   "cell_type": "code",
   "execution_count": 43,
   "metadata": {},
   "outputs": [
    {
     "name": "stdout",
     "output_type": "stream",
     "text": [
      "[Errno 2] No such file or directory: '/data1/rogers/kgtk/tutorial/build-tutorial/temp.build-tutorial/root.nodes.tsv.gz'\n",
      "No header line in file\n",
      "CPU times: user 7.77 ms, sys: 3.55 ms, total: 11.3 ms\n",
      "Wall time: 731 ms\n"
     ]
    }
   ],
   "source": [
    "%%time\n",
    "!$kgtk rename-columns -i \"$TEMP\"/root.nodes.tsv.gz --output-columns id --mode=NONE \\\n",
    "/ compact -o \"$TEMP\"/root.roots.tsv.gz"
   ]
  },
  {
   "cell_type": "markdown",
   "metadata": {},
   "source": [
    "Do a depth-first traversal of the P31/P279 graph using as roots all items in the Schewarzenegger graph"
   ]
  },
  {
   "cell_type": "code",
   "execution_count": 44,
   "metadata": {},
   "outputs": [
    {
     "name": "stdout",
     "output_type": "stream",
     "text": [
      "/home/rogers/kgtk/github/kgtk/kgtk/exceptions.py:66: UserWarning: Please raise KGTKException instead of <class 'FileNotFoundError'>\n",
      "  warnings.warn('Please raise KGTKException instead of {}'.format(type_))\n",
      "KGTKException found\n",
      "\n",
      "CPU times: user 7.67 ms, sys: 4.33 ms, total: 12 ms\n",
      "Wall time: 1.02 s\n"
     ]
    }
   ],
   "source": [
    "%%time\n",
    "!$kgtk reachable-nodes \\\n",
    "    --rootfile \"$TEMP\"/root.roots.tsv.gz \\\n",
    "    --rootfilecolumn id \\\n",
    "    --prop link \\\n",
    "    --label \"reachable\" \\\n",
    "    --selflink \\\n",
    "    -i \"$TEMP\"/P31.P279.subgraph.tsv.gz \\\n",
    "    -o \"$TEMP\"/P31.P279.reachable.tsv.gz"
   ]
  },
  {
   "cell_type": "markdown",
   "metadata": {},
   "source": [
    "Deduplicate the reachable nodes file"
   ]
  },
  {
   "cell_type": "code",
   "execution_count": 45,
   "metadata": {},
   "outputs": [
    {
     "name": "stdout",
     "output_type": "stream",
     "text": [
      "KGTKException found\n",
      "[Errno 2] No such file or directory: '/data1/rogers/kgtk/tutorial/build-tutorial/temp.build-tutorial/P31.P279.reachable.tsv.gz'\n",
      "No header line in file\n",
      "No header line in file\n",
      "CPU times: user 8.77 ms, sys: 908 µs, total: 9.68 ms\n",
      "Wall time: 734 ms\n"
     ]
    }
   ],
   "source": [
    "%%time\n",
    "!$kgtk remove-columns -i \"$TEMP\"/P31.P279.reachable.tsv.gz --columns node1 label \\\n",
    "/ rename-columns --mode=NONE --output-columns node1 \\\n",
    "/ compact --mode=NONE --columns node1 \\\n",
    "-o \"$TEMP\"/P31.P279.reachable.dedup.tsv.gz"
   ]
  },
  {
   "cell_type": "markdown",
   "metadata": {},
   "source": [
    "Put all the reachable nodes in `rootnode1`"
   ]
  },
  {
   "cell_type": "code",
   "execution_count": 46,
   "metadata": {},
   "outputs": [
    {
     "name": "stdout",
     "output_type": "stream",
     "text": [
      "[Errno 2] No such file or directory: '/data1/rogers/kgtk/tutorial/build-tutorial/temp.build-tutorial/root.nodes.tsv.gz'\n",
      "No header line in file\n",
      "[2021-10-04 17:30:14 sqlstore]: IMPORT graph via csv.reader into table graph_8 from /data1/rogers/kgtk/tutorial/build-tutorial/temp.build-tutorial/root.nodes.ontology.tsv.gz ...\n",
      "Traceback (most recent call last):\n",
      "  File \"/home/rogers/kgtk/github/kgtk/kgtk/kypher/sqlstore.py\", line 758, in add_graph\n",
      "    self.import_graph_data_via_import(table, file)\n",
      "  File \"/home/rogers/kgtk/github/kgtk/kgtk/kypher/sqlstore.py\", line 816, in import_graph_data_via_import\n",
      "    raise KGTKException('only implemented for existing, named files')\n",
      "kgtk.exceptions.KGTKException: only implemented for existing, named files\n",
      "\n",
      "During handling of the above exception, another exception occurred:\n",
      "\n",
      "Traceback (most recent call last):\n",
      "  File \"/home/rogers/kgtk/github/kgtk/kgtk/cli/query.py\", line 219, in run\n",
      "    query = kyquery.KgtkQuery(inputs, store, loglevel=loglevel,\n",
      "  File \"/home/rogers/kgtk/github/kgtk/kgtk/kypher/query.py\", line 216, in __init__\n",
      "    store.add_graph(file, alias=alias)\n",
      "  File \"/home/rogers/kgtk/github/kgtk/kgtk/kypher/sqlstore.py\", line 761, in add_graph\n",
      "    self.import_graph_data_via_csv(table, file)\n",
      "  File \"/home/rogers/kgtk/github/kgtk/kgtk/kypher/sqlstore.py\", line 796, in import_graph_data_via_csv\n",
      "    with open_to_read(file) as inp:\n",
      "  File \"/home/rogers/kgtk/github/kgtk/kgtk/kypher/sqlstore.py\", line 72, in open_to_read\n",
      "    return gzip.open(file, mode, encoding=enc)\n",
      "  File \"/usr/lib64/python3.8/gzip.py\", line 58, in open\n",
      "    binary_file = GzipFile(filename, gz_mode, compresslevel)\n",
      "  File \"/usr/lib64/python3.8/gzip.py\", line 173, in __init__\n",
      "    fileobj = self.myfileobj = builtins.open(filename, mode or 'rb')\n",
      "FileNotFoundError: [Errno 2] No such file or directory: '/data1/rogers/kgtk/tutorial/build-tutorial/temp.build-tutorial/root.nodes.ontology.tsv.gz'\n",
      "\n",
      "During handling of the above exception, another exception occurred:\n",
      "\n",
      "Traceback (most recent call last):\n",
      "  File \"/home/rogers/kgtk/github/kgtk/kgtk/exceptions.py\", line 46, in __call__\n",
      "    return_code = func(*args, **kwargs) or 0\n",
      "  File \"/home/rogers/kgtk/github/kgtk/kgtk/cli/query.py\", line 268, in run\n",
      "    raise KGTKException(str(e) + '\\n')\n",
      "kgtk.exceptions.KGTKException: [Errno 2] No such file or directory: '/data1/rogers/kgtk/tutorial/build-tutorial/temp.build-tutorial/root.nodes.ontology.tsv.gz'\n",
      "\n",
      "[Errno 2] No such file or directory: '/data1/rogers/kgtk/tutorial/build-tutorial/temp.build-tutorial/root.nodes.ontology.tsv.gz'\n",
      "\n",
      "CPU times: user 10.9 ms, sys: 4.71 ms, total: 15.6 ms\n",
      "Wall time: 1.2 s\n"
     ]
    }
   ],
   "source": [
    "%%time\n",
    "!$kgtk cat --mode=NONE \\\n",
    "-i \"$TEMP\"/root.nodes.tsv.gz \\\n",
    "-i \"$TEMP\"/P31.P279.reachable.dedup.tsv.gz \\\n",
    "/ compact --deduplicate --mode=NONE --columns node1 \\\n",
    "-o \"$TEMP\"/root.nodes.ontology.tsv.gz\n",
    "\n",
    "!$kypher -i \"$TEMP\"/root.nodes.ontology.tsv.gz --as rootnode1 --limit 2"
   ]
  },
  {
   "cell_type": "markdown",
   "metadata": {},
   "source": [
    "Extract all P31/P279 edges from Wikidata for all the nodes in the new graph and consolidate."
   ]
  },
  {
   "cell_type": "code",
   "execution_count": 47,
   "metadata": {},
   "outputs": [
    {
     "name": "stdout",
     "output_type": "stream",
     "text": [
      "[2021-10-04 17:30:15 sqlstore]: IMPORT graph via csv.reader into table graph_8 from /data1/rogers/kgtk/tutorial/build-tutorial/rootnode1 ...\n",
      "Traceback (most recent call last):\n",
      "  File \"/home/rogers/kgtk/github/kgtk/kgtk/kypher/sqlstore.py\", line 758, in add_graph\n",
      "    self.import_graph_data_via_import(table, file)\n",
      "  File \"/home/rogers/kgtk/github/kgtk/kgtk/kypher/sqlstore.py\", line 816, in import_graph_data_via_import\n",
      "    raise KGTKException('only implemented for existing, named files')\n",
      "kgtk.exceptions.KGTKException: only implemented for existing, named files\n",
      "\n",
      "During handling of the above exception, another exception occurred:\n",
      "\n",
      "Traceback (most recent call last):\n",
      "  File \"/home/rogers/kgtk/github/kgtk/kgtk/cli/query.py\", line 219, in run\n",
      "    query = kyquery.KgtkQuery(inputs, store, loglevel=loglevel,\n",
      "  File \"/home/rogers/kgtk/github/kgtk/kgtk/kypher/query.py\", line 216, in __init__\n",
      "    store.add_graph(file, alias=alias)\n",
      "  File \"/home/rogers/kgtk/github/kgtk/kgtk/kypher/sqlstore.py\", line 761, in add_graph\n",
      "    self.import_graph_data_via_csv(table, file)\n",
      "  File \"/home/rogers/kgtk/github/kgtk/kgtk/kypher/sqlstore.py\", line 796, in import_graph_data_via_csv\n",
      "    with open_to_read(file) as inp:\n",
      "  File \"/home/rogers/kgtk/github/kgtk/kgtk/kypher/sqlstore.py\", line 82, in open_to_read\n",
      "    return open(file, mode)\n",
      "FileNotFoundError: [Errno 2] No such file or directory: '/data1/rogers/kgtk/tutorial/build-tutorial/rootnode1'\n",
      "\n",
      "During handling of the above exception, another exception occurred:\n",
      "\n",
      "Traceback (most recent call last):\n",
      "  File \"/home/rogers/kgtk/github/kgtk/kgtk/exceptions.py\", line 46, in __call__\n",
      "    return_code = func(*args, **kwargs) or 0\n",
      "  File \"/home/rogers/kgtk/github/kgtk/kgtk/cli/query.py\", line 268, in run\n",
      "    raise KGTKException(str(e) + '\\n')\n",
      "kgtk.exceptions.KGTKException: [Errno 2] No such file or directory: '/data1/rogers/kgtk/tutorial/build-tutorial/rootnode1'\n",
      "\n",
      "[Errno 2] No such file or directory: '/data1/rogers/kgtk/tutorial/build-tutorial/rootnode1'\n",
      "\n",
      "Traceback (most recent call last):\n",
      "  File \"/home/rogers/kgtk/github/kgtk/kgtk/io/kgtkreader.py\", line 985, in _build_column_names\n",
      "    header: str = next(source).rstrip(\"\\r\\n\")\n",
      "  File \"/home/rogers/kgtk/github/kgtk/kgtk/utils/closableiter.py\", line 30, in __next__\n",
      "    return self.s.__next__()\n",
      "StopIteration\n",
      "\n",
      "During handling of the above exception, another exception occurred:\n",
      "\n",
      "Traceback (most recent call last):\n",
      "  File \"/home/rogers/kgtk/github/kgtk/kgtk/cli/cat.py\", line 152, in run\n",
      "    kc.process()\n",
      "  File \"/home/rogers/kgtk/github/kgtk/kgtk/join/kgtkcat.py\", line 85, in process\n",
      "    kr = KgtkReader.open(input_file_path,\n",
      "  File \"/home/rogers/kgtk/github/kgtk/kgtk/io/kgtkreader.py\", line 702, in open\n",
      "    (header, column_names) = cls._build_column_names(source, options, input_format, error_file=error_file, verbose=verbose)\n",
      "  File \"/home/rogers/kgtk/github/kgtk/kgtk/io/kgtkreader.py\", line 987, in _build_column_names\n",
      "    raise ValueError(\"No header line in file\")\n",
      "ValueError: No header line in file\n",
      "\n",
      "During handling of the above exception, another exception occurred:\n",
      "\n",
      "Traceback (most recent call last):\n",
      "  File \"/home/rogers/kgtk/github/kgtk/kgtk/exceptions.py\", line 46, in __call__\n",
      "    return_code = func(*args, **kwargs) or 0\n",
      "  File \"/home/rogers/kgtk/github/kgtk/kgtk/cli/cat.py\", line 160, in run\n",
      "    raise KGTKException(str(e))\n",
      "kgtk.exceptions.KGTKException: No header line in file\n",
      "No header line in file\n",
      "[2021-10-04 17:30:15 sqlstore]: IMPORT graph via csv.reader into table graph_8 from /data1/rogers/kgtk/tutorial/build-tutorial/root.graph.item.quantity.time.monolingual.string.property.qualifiers.P31.P279.ontology.tsv.gz ...\n",
      "Traceback (most recent call last):\n",
      "  File \"/home/rogers/kgtk/github/kgtk/kgtk/kypher/sqlstore.py\", line 758, in add_graph\n",
      "    self.import_graph_data_via_import(table, file)\n",
      "  File \"/home/rogers/kgtk/github/kgtk/kgtk/kypher/sqlstore.py\", line 816, in import_graph_data_via_import\n",
      "    raise KGTKException('only implemented for existing, named files')\n",
      "kgtk.exceptions.KGTKException: only implemented for existing, named files\n",
      "\n",
      "During handling of the above exception, another exception occurred:\n",
      "\n",
      "Traceback (most recent call last):\n",
      "  File \"/home/rogers/kgtk/github/kgtk/kgtk/cli/query.py\", line 219, in run\n",
      "    query = kyquery.KgtkQuery(inputs, store, loglevel=loglevel,\n",
      "  File \"/home/rogers/kgtk/github/kgtk/kgtk/kypher/query.py\", line 216, in __init__\n",
      "    store.add_graph(file, alias=alias)\n",
      "  File \"/home/rogers/kgtk/github/kgtk/kgtk/kypher/sqlstore.py\", line 761, in add_graph\n",
      "    self.import_graph_data_via_csv(table, file)\n",
      "  File \"/home/rogers/kgtk/github/kgtk/kgtk/kypher/sqlstore.py\", line 796, in import_graph_data_via_csv\n",
      "    with open_to_read(file) as inp:\n",
      "  File \"/home/rogers/kgtk/github/kgtk/kgtk/kypher/sqlstore.py\", line 72, in open_to_read\n",
      "    return gzip.open(file, mode, encoding=enc)\n",
      "  File \"/usr/lib64/python3.8/gzip.py\", line 58, in open\n",
      "    binary_file = GzipFile(filename, gz_mode, compresslevel)\n",
      "  File \"/usr/lib64/python3.8/gzip.py\", line 173, in __init__\n",
      "    fileobj = self.myfileobj = builtins.open(filename, mode or 'rb')\n",
      "FileNotFoundError: [Errno 2] No such file or directory: '/data1/rogers/kgtk/tutorial/build-tutorial/root.graph.item.quantity.time.monolingual.string.property.qualifiers.P31.P279.ontology.tsv.gz'\n",
      "\n",
      "During handling of the above exception, another exception occurred:\n",
      "\n",
      "Traceback (most recent call last):\n",
      "  File \"/home/rogers/kgtk/github/kgtk/kgtk/exceptions.py\", line 46, in __call__\n",
      "    return_code = func(*args, **kwargs) or 0\n",
      "  File \"/home/rogers/kgtk/github/kgtk/kgtk/cli/query.py\", line 268, in run\n",
      "    raise KGTKException(str(e) + '\\n')\n",
      "kgtk.exceptions.KGTKException: [Errno 2] No such file or directory: '/data1/rogers/kgtk/tutorial/build-tutorial/root.graph.item.quantity.time.monolingual.string.property.qualifiers.P31.P279.ontology.tsv.gz'\n",
      "\n",
      "[Errno 2] No such file or directory: '/data1/rogers/kgtk/tutorial/build-tutorial/root.graph.item.quantity.time.monolingual.string.property.qualifiers.P31.P279.ontology.tsv.gz'\n",
      "\n",
      "CPU times: user 12.5 ms, sys: 7.96 ms, total: 20.5 ms\n",
      "Wall time: 1.26 s\n"
     ]
    }
   ],
   "source": [
    "%%time\n",
    "!$kypher -i claims -i rootnode1 \\\n",
    "--match ' \\\n",
    "    rootnode1: (n1), \\\n",
    "    claims: (n1)-[l {label:property}]->(n2) \\\n",
    "    ' \\\n",
    "--where 'property in [\"P31\", \"P279\"]' \\\n",
    "--return 'distinct n1 as node1, property as label, n2 as node2, l as id' \\\n",
    "/ cat -i - -i $OUT/root.graph.item.quantity.time.monolingual.string.property.qualifiers.P31.P279.tsv.gz \\\n",
    "/ compact \\\n",
    "-o $OUT/root.graph.item.quantity.time.monolingual.string.property.qualifiers.P31.P279.ontology.tsv.gz \\\n",
    "\n",
    "!$kypher -i $OUT/root.graph.item.quantity.time.monolingual.string.property.qualifiers.P31.P279.ontology.tsv.gz --as rootbase --limit 2"
   ]
  },
  {
   "cell_type": "markdown",
   "metadata": {},
   "source": [
    "I am not certain about the need for this cell, whether new nodes can appear after adding P31 and P279."
   ]
  },
  {
   "cell_type": "code",
   "execution_count": 48,
   "metadata": {},
   "outputs": [
    {
     "name": "stdout",
     "output_type": "stream",
     "text": [
      "[2021-10-04 17:30:16 sqlstore]: IMPORT graph via csv.reader into table graph_8 from /data1/rogers/kgtk/tutorial/build-tutorial/rootbase ...\n",
      "Traceback (most recent call last):\n",
      "  File \"/home/rogers/kgtk/github/kgtk/kgtk/kypher/sqlstore.py\", line 758, in add_graph\n",
      "    self.import_graph_data_via_import(table, file)\n",
      "  File \"/home/rogers/kgtk/github/kgtk/kgtk/kypher/sqlstore.py\", line 816, in import_graph_data_via_import\n",
      "    raise KGTKException('only implemented for existing, named files')\n",
      "kgtk.exceptions.KGTKException: only implemented for existing, named files\n",
      "\n",
      "During handling of the above exception, another exception occurred:\n",
      "\n",
      "Traceback (most recent call last):\n",
      "  File \"/home/rogers/kgtk/github/kgtk/kgtk/cli/query.py\", line 219, in run\n",
      "    query = kyquery.KgtkQuery(inputs, store, loglevel=loglevel,\n",
      "  File \"/home/rogers/kgtk/github/kgtk/kgtk/kypher/query.py\", line 216, in __init__\n",
      "    store.add_graph(file, alias=alias)\n",
      "  File \"/home/rogers/kgtk/github/kgtk/kgtk/kypher/sqlstore.py\", line 761, in add_graph\n",
      "    self.import_graph_data_via_csv(table, file)\n",
      "  File \"/home/rogers/kgtk/github/kgtk/kgtk/kypher/sqlstore.py\", line 796, in import_graph_data_via_csv\n",
      "    with open_to_read(file) as inp:\n",
      "  File \"/home/rogers/kgtk/github/kgtk/kgtk/kypher/sqlstore.py\", line 82, in open_to_read\n",
      "    return open(file, mode)\n",
      "FileNotFoundError: [Errno 2] No such file or directory: '/data1/rogers/kgtk/tutorial/build-tutorial/rootbase'\n",
      "\n",
      "During handling of the above exception, another exception occurred:\n",
      "\n",
      "Traceback (most recent call last):\n",
      "  File \"/home/rogers/kgtk/github/kgtk/kgtk/exceptions.py\", line 46, in __call__\n",
      "    return_code = func(*args, **kwargs) or 0\n",
      "  File \"/home/rogers/kgtk/github/kgtk/kgtk/cli/query.py\", line 268, in run\n",
      "    raise KGTKException(str(e) + '\\n')\n",
      "kgtk.exceptions.KGTKException: [Errno 2] No such file or directory: '/data1/rogers/kgtk/tutorial/build-tutorial/rootbase'\n",
      "\n",
      "[Errno 2] No such file or directory: '/data1/rogers/kgtk/tutorial/build-tutorial/rootbase'\n",
      "\n",
      "Traceback (most recent call last):\n",
      "  File \"/home/rogers/kgtk/github/kgtk/kgtk/io/kgtkreader.py\", line 985, in _build_column_names\n",
      "    header: str = next(source).rstrip(\"\\r\\n\")\n",
      "  File \"/home/rogers/kgtk/github/kgtk/kgtk/utils/closableiter.py\", line 30, in __next__\n",
      "    return self.s.__next__()\n",
      "StopIteration\n",
      "\n",
      "During handling of the above exception, another exception occurred:\n",
      "\n",
      "Traceback (most recent call last):\n",
      "  File \"/home/rogers/kgtk/github/kgtk/kgtk/cli/cat.py\", line 152, in run\n",
      "    kc.process()\n",
      "  File \"/home/rogers/kgtk/github/kgtk/kgtk/join/kgtkcat.py\", line 85, in process\n",
      "    kr = KgtkReader.open(input_file_path,\n",
      "  File \"/home/rogers/kgtk/github/kgtk/kgtk/io/kgtkreader.py\", line 702, in open\n",
      "    (header, column_names) = cls._build_column_names(source, options, input_format, error_file=error_file, verbose=verbose)\n",
      "  File \"/home/rogers/kgtk/github/kgtk/kgtk/io/kgtkreader.py\", line 987, in _build_column_names\n",
      "    raise ValueError(\"No header line in file\")\n",
      "ValueError: No header line in file\n",
      "\n",
      "During handling of the above exception, another exception occurred:\n",
      "\n",
      "Traceback (most recent call last):\n",
      "  File \"/home/rogers/kgtk/github/kgtk/kgtk/exceptions.py\", line 46, in __call__\n",
      "    return_code = func(*args, **kwargs) or 0\n",
      "  File \"/home/rogers/kgtk/github/kgtk/kgtk/cli/cat.py\", line 160, in run\n",
      "    raise KGTKException(str(e))\n",
      "kgtk.exceptions.KGTKException: No header line in file\n",
      "No header line in file\n",
      "Traceback (most recent call last):\n",
      "  File \"/home/rogers/kgtk/github/kgtk/kgtk/io/kgtkreader.py\", line 985, in _build_column_names\n",
      "    header: str = next(source).rstrip(\"\\r\\n\")\n",
      "  File \"/home/rogers/kgtk/github/kgtk/kgtk/utils/closableiter.py\", line 30, in __next__\n",
      "    return self.s.__next__()\n",
      "StopIteration\n",
      "\n",
      "During handling of the above exception, another exception occurred:\n",
      "\n",
      "Traceback (most recent call last):\n",
      "  File \"/home/rogers/kgtk/github/kgtk/kgtk/cli/compact.py\", line 243, in run\n",
      "    ex.process()\n",
      "  File \"/home/rogers/kgtk/github/kgtk/kgtk/reshape/kgtkcompact.py\", line 281, in process\n",
      "    kr: KgtkReader =  KgtkReader.open(self.input_file_path,\n",
      "  File \"/home/rogers/kgtk/github/kgtk/kgtk/io/kgtkreader.py\", line 702, in open\n",
      "    (header, column_names) = cls._build_column_names(source, options, input_format, error_file=error_file, verbose=verbose)\n",
      "  File \"/home/rogers/kgtk/github/kgtk/kgtk/io/kgtkreader.py\", line 987, in _build_column_names\n",
      "    raise ValueError(\"No header line in file\")\n",
      "ValueError: No header line in file\n",
      "\n",
      "During handling of the above exception, another exception occurred:\n",
      "\n",
      "Traceback (most recent call last):\n",
      "  File \"/home/rogers/kgtk/github/kgtk/kgtk/exceptions.py\", line 46, in __call__\n",
      "    return_code = func(*args, **kwargs) or 0\n",
      "  File \"/home/rogers/kgtk/github/kgtk/kgtk/cli/compact.py\", line 250, in run\n",
      "    raise KGTKException(str(e))\n",
      "kgtk.exceptions.KGTKException: No header line in file\n",
      "No header line in file\n",
      "[2021-10-04 17:30:16 sqlstore]: IMPORT graph via csv.reader into table graph_8 from /data1/rogers/kgtk/tutorial/build-tutorial/temp.build-tutorial/root.nodes.ontology.star.tsv.gz ...\n",
      "Traceback (most recent call last):\n",
      "  File \"/home/rogers/kgtk/github/kgtk/kgtk/kypher/sqlstore.py\", line 758, in add_graph\n",
      "    self.import_graph_data_via_import(table, file)\n",
      "  File \"/home/rogers/kgtk/github/kgtk/kgtk/kypher/sqlstore.py\", line 816, in import_graph_data_via_import\n",
      "    raise KGTKException('only implemented for existing, named files')\n",
      "kgtk.exceptions.KGTKException: only implemented for existing, named files\n",
      "\n",
      "During handling of the above exception, another exception occurred:\n",
      "\n",
      "Traceback (most recent call last):\n",
      "  File \"/home/rogers/kgtk/github/kgtk/kgtk/cli/query.py\", line 219, in run\n",
      "    query = kyquery.KgtkQuery(inputs, store, loglevel=loglevel,\n",
      "  File \"/home/rogers/kgtk/github/kgtk/kgtk/kypher/query.py\", line 216, in __init__\n",
      "    store.add_graph(file, alias=alias)\n",
      "  File \"/home/rogers/kgtk/github/kgtk/kgtk/kypher/sqlstore.py\", line 761, in add_graph\n",
      "    self.import_graph_data_via_csv(table, file)\n",
      "  File \"/home/rogers/kgtk/github/kgtk/kgtk/kypher/sqlstore.py\", line 796, in import_graph_data_via_csv\n",
      "    with open_to_read(file) as inp:\n",
      "  File \"/home/rogers/kgtk/github/kgtk/kgtk/kypher/sqlstore.py\", line 72, in open_to_read\n",
      "    return gzip.open(file, mode, encoding=enc)\n",
      "  File \"/usr/lib64/python3.8/gzip.py\", line 58, in open\n",
      "    binary_file = GzipFile(filename, gz_mode, compresslevel)\n",
      "  File \"/usr/lib64/python3.8/gzip.py\", line 173, in __init__\n",
      "    fileobj = self.myfileobj = builtins.open(filename, mode or 'rb')\n",
      "FileNotFoundError: [Errno 2] No such file or directory: '/data1/rogers/kgtk/tutorial/build-tutorial/temp.build-tutorial/root.nodes.ontology.star.tsv.gz'\n",
      "\n",
      "During handling of the above exception, another exception occurred:\n",
      "\n",
      "Traceback (most recent call last):\n",
      "  File \"/home/rogers/kgtk/github/kgtk/kgtk/exceptions.py\", line 46, in __call__\n",
      "    return_code = func(*args, **kwargs) or 0\n",
      "  File \"/home/rogers/kgtk/github/kgtk/kgtk/cli/query.py\", line 268, in run\n",
      "    raise KGTKException(str(e) + '\\n')\n",
      "kgtk.exceptions.KGTKException: [Errno 2] No such file or directory: '/data1/rogers/kgtk/tutorial/build-tutorial/temp.build-tutorial/root.nodes.ontology.star.tsv.gz'\n",
      "\n",
      "[Errno 2] No such file or directory: '/data1/rogers/kgtk/tutorial/build-tutorial/temp.build-tutorial/root.nodes.ontology.star.tsv.gz'\n",
      "\n",
      "CPU times: user 17.8 ms, sys: 3.66 ms, total: 21.4 ms\n",
      "Wall time: 1.22 s\n"
     ]
    }
   ],
   "source": [
    "%%time\n",
    "!$kypher -i rootbase -i datatypes \\\n",
    "--match ' \\\n",
    "    rootbase: ()-[l {label: property}]->(n), \\\n",
    "    datatypes: (property)-[:datatype]->(datatype) \\\n",
    "    ' \\\n",
    "--where 'datatype in [\"wikibase-item\"]' \\\n",
    "--return 'distinct n as node1' \\\n",
    "/ cat -i - -i \"$TEMP\"/root.nodes.ontology.tsv.gz --mode=NONE \\\n",
    "/ compact --mode=NONE --columns node1 \\\n",
    "-o \"$TEMP\"/root.nodes.ontology.star.tsv.gz \\\n",
    "\n",
    "!$kypher -i \"$TEMP\"/root.nodes.ontology.star.tsv.gz --as rootnode1 --limit 2"
   ]
  },
  {
   "cell_type": "markdown",
   "metadata": {},
   "source": [
    "Include in node1 all the properties in the graph"
   ]
  },
  {
   "cell_type": "code",
   "execution_count": 49,
   "metadata": {},
   "outputs": [
    {
     "name": "stdout",
     "output_type": "stream",
     "text": [
      "[2021-10-04 17:30:17 sqlstore]: IMPORT graph via csv.reader into table graph_8 from /data1/rogers/kgtk/tutorial/build-tutorial/rootbase ...\n",
      "Traceback (most recent call last):\n",
      "  File \"/home/rogers/kgtk/github/kgtk/kgtk/kypher/sqlstore.py\", line 758, in add_graph\n",
      "    self.import_graph_data_via_import(table, file)\n",
      "  File \"/home/rogers/kgtk/github/kgtk/kgtk/kypher/sqlstore.py\", line 816, in import_graph_data_via_import\n",
      "    raise KGTKException('only implemented for existing, named files')\n",
      "kgtk.exceptions.KGTKException: only implemented for existing, named files\n",
      "\n",
      "During handling of the above exception, another exception occurred:\n",
      "\n",
      "Traceback (most recent call last):\n",
      "  File \"/home/rogers/kgtk/github/kgtk/kgtk/cli/query.py\", line 219, in run\n",
      "    query = kyquery.KgtkQuery(inputs, store, loglevel=loglevel,\n",
      "  File \"/home/rogers/kgtk/github/kgtk/kgtk/kypher/query.py\", line 216, in __init__\n",
      "    store.add_graph(file, alias=alias)\n",
      "  File \"/home/rogers/kgtk/github/kgtk/kgtk/kypher/sqlstore.py\", line 761, in add_graph\n",
      "    self.import_graph_data_via_csv(table, file)\n",
      "  File \"/home/rogers/kgtk/github/kgtk/kgtk/kypher/sqlstore.py\", line 796, in import_graph_data_via_csv\n",
      "    with open_to_read(file) as inp:\n",
      "  File \"/home/rogers/kgtk/github/kgtk/kgtk/kypher/sqlstore.py\", line 82, in open_to_read\n",
      "    return open(file, mode)\n",
      "FileNotFoundError: [Errno 2] No such file or directory: '/data1/rogers/kgtk/tutorial/build-tutorial/rootbase'\n",
      "\n",
      "During handling of the above exception, another exception occurred:\n",
      "\n",
      "Traceback (most recent call last):\n",
      "  File \"/home/rogers/kgtk/github/kgtk/kgtk/exceptions.py\", line 46, in __call__\n",
      "    return_code = func(*args, **kwargs) or 0\n",
      "  File \"/home/rogers/kgtk/github/kgtk/kgtk/cli/query.py\", line 268, in run\n",
      "    raise KGTKException(str(e) + '\\n')\n",
      "kgtk.exceptions.KGTKException: [Errno 2] No such file or directory: '/data1/rogers/kgtk/tutorial/build-tutorial/rootbase'\n",
      "\n",
      "[Errno 2] No such file or directory: '/data1/rogers/kgtk/tutorial/build-tutorial/rootbase'\n",
      "\n",
      "Traceback (most recent call last):\n",
      "  File \"/home/rogers/kgtk/github/kgtk/kgtk/io/kgtkreader.py\", line 985, in _build_column_names\n",
      "    header: str = next(source).rstrip(\"\\r\\n\")\n",
      "  File \"/home/rogers/kgtk/github/kgtk/kgtk/utils/closableiter.py\", line 30, in __next__\n",
      "    return self.s.__next__()\n",
      "StopIteration\n",
      "\n",
      "During handling of the above exception, another exception occurred:\n",
      "\n",
      "Traceback (most recent call last):\n",
      "  File \"/home/rogers/kgtk/github/kgtk/kgtk/cli/cat.py\", line 152, in run\n",
      "    kc.process()\n",
      "  File \"/home/rogers/kgtk/github/kgtk/kgtk/join/kgtkcat.py\", line 85, in process\n",
      "    kr = KgtkReader.open(input_file_path,\n",
      "  File \"/home/rogers/kgtk/github/kgtk/kgtk/io/kgtkreader.py\", line 702, in open\n",
      "    (header, column_names) = cls._build_column_names(source, options, input_format, error_file=error_file, verbose=verbose)\n",
      "  File \"/home/rogers/kgtk/github/kgtk/kgtk/io/kgtkreader.py\", line 987, in _build_column_names\n",
      "    raise ValueError(\"No header line in file\")\n",
      "ValueError: No header line in file\n",
      "\n",
      "During handling of the above exception, another exception occurred:\n",
      "\n",
      "Traceback (most recent call last):\n",
      "  File \"/home/rogers/kgtk/github/kgtk/kgtk/exceptions.py\", line 46, in __call__\n",
      "    return_code = func(*args, **kwargs) or 0\n",
      "  File \"/home/rogers/kgtk/github/kgtk/kgtk/cli/cat.py\", line 160, in run\n",
      "    raise KGTKException(str(e))\n",
      "kgtk.exceptions.KGTKException: No header line in file\n",
      "No header line in file\n",
      "Traceback (most recent call last):\n",
      "  File \"/home/rogers/kgtk/github/kgtk/kgtk/io/kgtkreader.py\", line 985, in _build_column_names\n",
      "    header: str = next(source).rstrip(\"\\r\\n\")\n",
      "  File \"/home/rogers/kgtk/github/kgtk/kgtk/utils/closableiter.py\", line 30, in __next__\n",
      "    return self.s.__next__()\n",
      "StopIteration\n",
      "\n",
      "During handling of the above exception, another exception occurred:\n",
      "\n",
      "Traceback (most recent call last):\n",
      "  File \"/home/rogers/kgtk/github/kgtk/kgtk/cli/compact.py\", line 243, in run\n",
      "    ex.process()\n",
      "  File \"/home/rogers/kgtk/github/kgtk/kgtk/reshape/kgtkcompact.py\", line 281, in process\n",
      "    kr: KgtkReader =  KgtkReader.open(self.input_file_path,\n",
      "  File \"/home/rogers/kgtk/github/kgtk/kgtk/io/kgtkreader.py\", line 702, in open\n",
      "    (header, column_names) = cls._build_column_names(source, options, input_format, error_file=error_file, verbose=verbose)\n",
      "  File \"/home/rogers/kgtk/github/kgtk/kgtk/io/kgtkreader.py\", line 987, in _build_column_names\n",
      "    raise ValueError(\"No header line in file\")\n",
      "ValueError: No header line in file\n",
      "\n",
      "During handling of the above exception, another exception occurred:\n",
      "\n",
      "Traceback (most recent call last):\n",
      "  File \"/home/rogers/kgtk/github/kgtk/kgtk/exceptions.py\", line 46, in __call__\n",
      "    return_code = func(*args, **kwargs) or 0\n",
      "  File \"/home/rogers/kgtk/github/kgtk/kgtk/cli/compact.py\", line 250, in run\n",
      "    raise KGTKException(str(e))\n",
      "kgtk.exceptions.KGTKException: No header line in file\n",
      "No header line in file\n",
      "[2021-10-04 17:30:18 sqlstore]: IMPORT graph via csv.reader into table graph_8 from /data1/rogers/kgtk/tutorial/build-tutorial/temp.build-tutorial/root.nodes.ontology.star.property.tsv.gz ...\n",
      "Traceback (most recent call last):\n",
      "  File \"/home/rogers/kgtk/github/kgtk/kgtk/kypher/sqlstore.py\", line 758, in add_graph\n",
      "    self.import_graph_data_via_import(table, file)\n",
      "  File \"/home/rogers/kgtk/github/kgtk/kgtk/kypher/sqlstore.py\", line 816, in import_graph_data_via_import\n",
      "    raise KGTKException('only implemented for existing, named files')\n",
      "kgtk.exceptions.KGTKException: only implemented for existing, named files\n",
      "\n",
      "During handling of the above exception, another exception occurred:\n",
      "\n",
      "Traceback (most recent call last):\n",
      "  File \"/home/rogers/kgtk/github/kgtk/kgtk/cli/query.py\", line 219, in run\n",
      "    query = kyquery.KgtkQuery(inputs, store, loglevel=loglevel,\n",
      "  File \"/home/rogers/kgtk/github/kgtk/kgtk/kypher/query.py\", line 216, in __init__\n",
      "    store.add_graph(file, alias=alias)\n",
      "  File \"/home/rogers/kgtk/github/kgtk/kgtk/kypher/sqlstore.py\", line 761, in add_graph\n",
      "    self.import_graph_data_via_csv(table, file)\n",
      "  File \"/home/rogers/kgtk/github/kgtk/kgtk/kypher/sqlstore.py\", line 796, in import_graph_data_via_csv\n",
      "    with open_to_read(file) as inp:\n",
      "  File \"/home/rogers/kgtk/github/kgtk/kgtk/kypher/sqlstore.py\", line 72, in open_to_read\n",
      "    return gzip.open(file, mode, encoding=enc)\n",
      "  File \"/usr/lib64/python3.8/gzip.py\", line 58, in open\n",
      "    binary_file = GzipFile(filename, gz_mode, compresslevel)\n",
      "  File \"/usr/lib64/python3.8/gzip.py\", line 173, in __init__\n",
      "    fileobj = self.myfileobj = builtins.open(filename, mode or 'rb')\n",
      "FileNotFoundError: [Errno 2] No such file or directory: '/data1/rogers/kgtk/tutorial/build-tutorial/temp.build-tutorial/root.nodes.ontology.star.property.tsv.gz'\n",
      "\n",
      "During handling of the above exception, another exception occurred:\n",
      "\n",
      "Traceback (most recent call last):\n",
      "  File \"/home/rogers/kgtk/github/kgtk/kgtk/exceptions.py\", line 46, in __call__\n",
      "    return_code = func(*args, **kwargs) or 0\n",
      "  File \"/home/rogers/kgtk/github/kgtk/kgtk/cli/query.py\", line 268, in run\n",
      "    raise KGTKException(str(e) + '\\n')\n",
      "kgtk.exceptions.KGTKException: [Errno 2] No such file or directory: '/data1/rogers/kgtk/tutorial/build-tutorial/temp.build-tutorial/root.nodes.ontology.star.property.tsv.gz'\n",
      "\n",
      "[Errno 2] No such file or directory: '/data1/rogers/kgtk/tutorial/build-tutorial/temp.build-tutorial/root.nodes.ontology.star.property.tsv.gz'\n",
      "\n",
      "CPU times: user 13.6 ms, sys: 4.42 ms, total: 18 ms\n",
      "Wall time: 1.2 s\n"
     ]
    }
   ],
   "source": [
    "%%time\n",
    "!$kypher -i rootbase \\\n",
    "--match ' \\\n",
    "    rootbase: ()-[l {label: property}]->(n)' \\\n",
    "--return 'distinct property as node1' \\\n",
    "/ cat -i - -i \"$TEMP\"/root.nodes.ontology.star.tsv.gz --mode=NONE \\\n",
    "/ compact --mode=NONE --columns node1 \\\n",
    "-o \"$TEMP\"/root.nodes.ontology.star.property.tsv.gz \\\n",
    "\n",
    "!$kypher -i \"$TEMP\"/root.nodes.ontology.star.property.tsv.gz --as rootnode1 --limit 2"
   ]
  },
  {
   "cell_type": "markdown",
   "metadata": {},
   "source": [
    "## Add property datatypes"
   ]
  },
  {
   "cell_type": "code",
   "execution_count": 50,
   "metadata": {},
   "outputs": [
    {
     "name": "stdout",
     "output_type": "stream",
     "text": [
      "[2021-10-04 17:30:18 sqlstore]: IMPORT graph via csv.reader into table graph_8 from /data1/rogers/kgtk/tutorial/build-tutorial/rootbase ...\n",
      "Traceback (most recent call last):\n",
      "  File \"/home/rogers/kgtk/github/kgtk/kgtk/kypher/sqlstore.py\", line 758, in add_graph\n",
      "    self.import_graph_data_via_import(table, file)\n",
      "  File \"/home/rogers/kgtk/github/kgtk/kgtk/kypher/sqlstore.py\", line 816, in import_graph_data_via_import\n",
      "    raise KGTKException('only implemented for existing, named files')\n",
      "kgtk.exceptions.KGTKException: only implemented for existing, named files\n",
      "\n",
      "During handling of the above exception, another exception occurred:\n",
      "\n",
      "Traceback (most recent call last):\n",
      "  File \"/home/rogers/kgtk/github/kgtk/kgtk/cli/query.py\", line 219, in run\n",
      "    query = kyquery.KgtkQuery(inputs, store, loglevel=loglevel,\n",
      "  File \"/home/rogers/kgtk/github/kgtk/kgtk/kypher/query.py\", line 216, in __init__\n",
      "    store.add_graph(file, alias=alias)\n",
      "  File \"/home/rogers/kgtk/github/kgtk/kgtk/kypher/sqlstore.py\", line 761, in add_graph\n",
      "    self.import_graph_data_via_csv(table, file)\n",
      "  File \"/home/rogers/kgtk/github/kgtk/kgtk/kypher/sqlstore.py\", line 796, in import_graph_data_via_csv\n",
      "    with open_to_read(file) as inp:\n",
      "  File \"/home/rogers/kgtk/github/kgtk/kgtk/kypher/sqlstore.py\", line 82, in open_to_read\n",
      "    return open(file, mode)\n",
      "FileNotFoundError: [Errno 2] No such file or directory: '/data1/rogers/kgtk/tutorial/build-tutorial/rootbase'\n",
      "\n",
      "During handling of the above exception, another exception occurred:\n",
      "\n",
      "Traceback (most recent call last):\n",
      "  File \"/home/rogers/kgtk/github/kgtk/kgtk/exceptions.py\", line 46, in __call__\n",
      "    return_code = func(*args, **kwargs) or 0\n",
      "  File \"/home/rogers/kgtk/github/kgtk/kgtk/cli/query.py\", line 268, in run\n",
      "    raise KGTKException(str(e) + '\\n')\n",
      "kgtk.exceptions.KGTKException: [Errno 2] No such file or directory: '/data1/rogers/kgtk/tutorial/build-tutorial/rootbase'\n",
      "\n",
      "[Errno 2] No such file or directory: '/data1/rogers/kgtk/tutorial/build-tutorial/rootbase'\n",
      "\n",
      "Traceback (most recent call last):\n",
      "  File \"/home/rogers/kgtk/github/kgtk/kgtk/io/kgtkreader.py\", line 985, in _build_column_names\n",
      "    header: str = next(source).rstrip(\"\\r\\n\")\n",
      "  File \"/home/rogers/kgtk/github/kgtk/kgtk/utils/closableiter.py\", line 30, in __next__\n",
      "    return self.s.__next__()\n",
      "StopIteration\n",
      "\n",
      "During handling of the above exception, another exception occurred:\n",
      "\n",
      "Traceback (most recent call last):\n",
      "  File \"/home/rogers/kgtk/github/kgtk/kgtk/cli/cat.py\", line 152, in run\n",
      "    kc.process()\n",
      "  File \"/home/rogers/kgtk/github/kgtk/kgtk/join/kgtkcat.py\", line 85, in process\n",
      "    kr = KgtkReader.open(input_file_path,\n",
      "  File \"/home/rogers/kgtk/github/kgtk/kgtk/io/kgtkreader.py\", line 702, in open\n",
      "    (header, column_names) = cls._build_column_names(source, options, input_format, error_file=error_file, verbose=verbose)\n",
      "  File \"/home/rogers/kgtk/github/kgtk/kgtk/io/kgtkreader.py\", line 987, in _build_column_names\n",
      "    raise ValueError(\"No header line in file\")\n",
      "ValueError: No header line in file\n",
      "\n",
      "During handling of the above exception, another exception occurred:\n",
      "\n",
      "Traceback (most recent call last):\n",
      "  File \"/home/rogers/kgtk/github/kgtk/kgtk/exceptions.py\", line 46, in __call__\n",
      "    return_code = func(*args, **kwargs) or 0\n",
      "  File \"/home/rogers/kgtk/github/kgtk/kgtk/cli/cat.py\", line 160, in run\n",
      "    raise KGTKException(str(e))\n",
      "kgtk.exceptions.KGTKException: No header line in file\n",
      "No header line in file\n",
      "Traceback (most recent call last):\n",
      "  File \"/home/rogers/kgtk/github/kgtk/kgtk/io/kgtkreader.py\", line 985, in _build_column_names\n",
      "    header: str = next(source).rstrip(\"\\r\\n\")\n",
      "  File \"/home/rogers/kgtk/github/kgtk/kgtk/utils/closableiter.py\", line 30, in __next__\n",
      "    return self.s.__next__()\n",
      "StopIteration\n",
      "\n",
      "During handling of the above exception, another exception occurred:\n",
      "\n",
      "Traceback (most recent call last):\n",
      "  File \"/home/rogers/kgtk/github/kgtk/kgtk/cli/compact.py\", line 243, in run\n",
      "    ex.process()\n",
      "  File \"/home/rogers/kgtk/github/kgtk/kgtk/reshape/kgtkcompact.py\", line 281, in process\n",
      "    kr: KgtkReader =  KgtkReader.open(self.input_file_path,\n",
      "  File \"/home/rogers/kgtk/github/kgtk/kgtk/io/kgtkreader.py\", line 702, in open\n",
      "    (header, column_names) = cls._build_column_names(source, options, input_format, error_file=error_file, verbose=verbose)\n",
      "  File \"/home/rogers/kgtk/github/kgtk/kgtk/io/kgtkreader.py\", line 987, in _build_column_names\n",
      "    raise ValueError(\"No header line in file\")\n",
      "ValueError: No header line in file\n",
      "\n",
      "During handling of the above exception, another exception occurred:\n",
      "\n",
      "Traceback (most recent call last):\n",
      "  File \"/home/rogers/kgtk/github/kgtk/kgtk/exceptions.py\", line 46, in __call__\n",
      "    return_code = func(*args, **kwargs) or 0\n",
      "  File \"/home/rogers/kgtk/github/kgtk/kgtk/cli/compact.py\", line 250, in run\n",
      "    raise KGTKException(str(e))\n",
      "kgtk.exceptions.KGTKException: No header line in file\n",
      "No header line in file\n",
      "[2021-10-04 17:30:19 sqlstore]: IMPORT graph via csv.reader into table graph_8 from /data1/rogers/kgtk/tutorial/build-tutorial/root.graph.item.quantity.time.monolingual.string.property.qualifiers.P31.P279.ontology.datatype.tsv.gz ...\n",
      "Traceback (most recent call last):\n",
      "  File \"/home/rogers/kgtk/github/kgtk/kgtk/kypher/sqlstore.py\", line 758, in add_graph\n",
      "    self.import_graph_data_via_import(table, file)\n",
      "  File \"/home/rogers/kgtk/github/kgtk/kgtk/kypher/sqlstore.py\", line 816, in import_graph_data_via_import\n",
      "    raise KGTKException('only implemented for existing, named files')\n",
      "kgtk.exceptions.KGTKException: only implemented for existing, named files\n",
      "\n",
      "During handling of the above exception, another exception occurred:\n",
      "\n",
      "Traceback (most recent call last):\n",
      "  File \"/home/rogers/kgtk/github/kgtk/kgtk/cli/query.py\", line 219, in run\n",
      "    query = kyquery.KgtkQuery(inputs, store, loglevel=loglevel,\n",
      "  File \"/home/rogers/kgtk/github/kgtk/kgtk/kypher/query.py\", line 216, in __init__\n",
      "    store.add_graph(file, alias=alias)\n",
      "  File \"/home/rogers/kgtk/github/kgtk/kgtk/kypher/sqlstore.py\", line 761, in add_graph\n",
      "    self.import_graph_data_via_csv(table, file)\n",
      "  File \"/home/rogers/kgtk/github/kgtk/kgtk/kypher/sqlstore.py\", line 796, in import_graph_data_via_csv\n",
      "    with open_to_read(file) as inp:\n",
      "  File \"/home/rogers/kgtk/github/kgtk/kgtk/kypher/sqlstore.py\", line 72, in open_to_read\n",
      "    return gzip.open(file, mode, encoding=enc)\n",
      "  File \"/usr/lib64/python3.8/gzip.py\", line 58, in open\n",
      "    binary_file = GzipFile(filename, gz_mode, compresslevel)\n",
      "  File \"/usr/lib64/python3.8/gzip.py\", line 173, in __init__\n",
      "    fileobj = self.myfileobj = builtins.open(filename, mode or 'rb')\n",
      "FileNotFoundError: [Errno 2] No such file or directory: '/data1/rogers/kgtk/tutorial/build-tutorial/root.graph.item.quantity.time.monolingual.string.property.qualifiers.P31.P279.ontology.datatype.tsv.gz'\n",
      "\n",
      "During handling of the above exception, another exception occurred:\n",
      "\n",
      "Traceback (most recent call last):\n",
      "  File \"/home/rogers/kgtk/github/kgtk/kgtk/exceptions.py\", line 46, in __call__\n",
      "    return_code = func(*args, **kwargs) or 0\n",
      "  File \"/home/rogers/kgtk/github/kgtk/kgtk/cli/query.py\", line 268, in run\n",
      "    raise KGTKException(str(e) + '\\n')\n",
      "kgtk.exceptions.KGTKException: [Errno 2] No such file or directory: '/data1/rogers/kgtk/tutorial/build-tutorial/root.graph.item.quantity.time.monolingual.string.property.qualifiers.P31.P279.ontology.datatype.tsv.gz'\n",
      "\n",
      "[Errno 2] No such file or directory: '/data1/rogers/kgtk/tutorial/build-tutorial/root.graph.item.quantity.time.monolingual.string.property.qualifiers.P31.P279.ontology.datatype.tsv.gz'\n",
      "\n",
      "CPU times: user 9.7 ms, sys: 7.1 ms, total: 16.8 ms\n",
      "Wall time: 1.22 s\n"
     ]
    }
   ],
   "source": [
    "%%time\n",
    "!$kypher -i datatypes -i rootbase \\\n",
    "--match ' \\\n",
    "    rootbase: ()-[r {label: property}]->(), \\\n",
    "    datatypes: (property)-[l:datatype]->(datatype) \\\n",
    "    ' \\\n",
    "--return 'distinct property as node1, l.label as label, datatype as node2, l as id' \\\n",
    "/ cat -i - -i $OUT/root.graph.item.quantity.time.monolingual.string.property.qualifiers.P31.P279.ontology.tsv.gz \\\n",
    "/ compact \\\n",
    "-o $OUT/root.graph.item.quantity.time.monolingual.string.property.qualifiers.P31.P279.ontology.datatype.tsv.gz \\\n",
    "\n",
    "!$kypher -i root.graph.item.quantity.time.monolingual.string.property.qualifiers.P31.P279.ontology.datatype.tsv.gz --as rootbase --limit 2"
   ]
  },
  {
   "cell_type": "markdown",
   "metadata": {},
   "source": [
    "## Build labels, aliases and descriptions"
   ]
  },
  {
   "cell_type": "markdown",
   "metadata": {},
   "source": [
    "Extract the label edges"
   ]
  },
  {
   "cell_type": "code",
   "execution_count": 51,
   "metadata": {},
   "outputs": [
    {
     "name": "stdout",
     "output_type": "stream",
     "text": [
      "[2021-10-04 17:30:20 sqlstore]: IMPORT graph via csv.reader into table graph_8 from /data1/rogers/kgtk/tutorial/build-tutorial/label ...\n",
      "Traceback (most recent call last):\n",
      "  File \"/home/rogers/kgtk/github/kgtk/kgtk/kypher/sqlstore.py\", line 758, in add_graph\n",
      "    self.import_graph_data_via_import(table, file)\n",
      "  File \"/home/rogers/kgtk/github/kgtk/kgtk/kypher/sqlstore.py\", line 816, in import_graph_data_via_import\n",
      "    raise KGTKException('only implemented for existing, named files')\n",
      "kgtk.exceptions.KGTKException: only implemented for existing, named files\n",
      "\n",
      "During handling of the above exception, another exception occurred:\n",
      "\n",
      "Traceback (most recent call last):\n",
      "  File \"/home/rogers/kgtk/github/kgtk/kgtk/cli/query.py\", line 219, in run\n",
      "    query = kyquery.KgtkQuery(inputs, store, loglevel=loglevel,\n",
      "  File \"/home/rogers/kgtk/github/kgtk/kgtk/kypher/query.py\", line 216, in __init__\n",
      "    store.add_graph(file, alias=alias)\n",
      "  File \"/home/rogers/kgtk/github/kgtk/kgtk/kypher/sqlstore.py\", line 761, in add_graph\n",
      "    self.import_graph_data_via_csv(table, file)\n",
      "  File \"/home/rogers/kgtk/github/kgtk/kgtk/kypher/sqlstore.py\", line 796, in import_graph_data_via_csv\n",
      "    with open_to_read(file) as inp:\n",
      "  File \"/home/rogers/kgtk/github/kgtk/kgtk/kypher/sqlstore.py\", line 82, in open_to_read\n",
      "    return open(file, mode)\n",
      "FileNotFoundError: [Errno 2] No such file or directory: '/data1/rogers/kgtk/tutorial/build-tutorial/label'\n",
      "\n",
      "During handling of the above exception, another exception occurred:\n",
      "\n",
      "Traceback (most recent call last):\n",
      "  File \"/home/rogers/kgtk/github/kgtk/kgtk/exceptions.py\", line 46, in __call__\n",
      "    return_code = func(*args, **kwargs) or 0\n",
      "  File \"/home/rogers/kgtk/github/kgtk/kgtk/cli/query.py\", line 268, in run\n",
      "    raise KGTKException(str(e) + '\\n')\n",
      "kgtk.exceptions.KGTKException: [Errno 2] No such file or directory: '/data1/rogers/kgtk/tutorial/build-tutorial/label'\n",
      "\n",
      "[Errno 2] No such file or directory: '/data1/rogers/kgtk/tutorial/build-tutorial/label'\n",
      "\n",
      "In input header '': Column 0 has an empty name in the file header\n",
      "Traceback (most recent call last):\n",
      "  File \"/home/rogers/kgtk/github/kgtk/kgtk/exceptions.py\", line 46, in __call__\n",
      "    return_code = func(*args, **kwargs) or 0\n",
      "  File \"/home/rogers/kgtk/github/kgtk/kgtk/cli/sort.py\", line 541, in run\n",
      "    kr: KgtkReader = KgtkReader.open(Path(\"<%d\" % header_read_fd),\n",
      "  File \"/home/rogers/kgtk/github/kgtk/kgtk/io/kgtkreader.py\", line 720, in open\n",
      "    column_name_map: typing.Mapping[str, int] = cls.build_column_name_map(column_names,\n",
      "  File \"/home/rogers/kgtk/github/kgtk/kgtk/io/kgtkbase.py\", line 146, in build_column_name_map\n",
      "    cls._yelp(\"Column %d has an empty name in the file header\" % column_idx,\n",
      "  File \"/home/rogers/kgtk/github/kgtk/kgtk/io/kgtkbase.py\", line 35, in _yelp\n",
      "    sys.exit(1)\n",
      "SystemExit: 1\n",
      "/home/rogers/kgtk/github/kgtk/kgtk/exceptions.py:66: UserWarning: Please raise KGTKException instead of <class 'SystemExit'>\n",
      "  warnings.warn('Please raise KGTKException instead of {}'.format(type_))\n",
      "KGTKException found\n",
      "\n",
      "CPU times: user 11.9 ms, sys: 0 ns, total: 11.9 ms\n",
      "Wall time: 773 ms\n"
     ]
    }
   ],
   "source": [
    "%%time\n",
    "!$kypher -i label -i rootnode1 \\\n",
    "--match ' \\\n",
    "    rootnode1: (n1)-[]->(), \\\n",
    "    label: (n1)-[l]->(n2) \\\n",
    "    ' \\\n",
    "--return 'distinct n1 as node1, l.label as label, n2 as node2, l as id' \\\n",
    "/ sort \\\n",
    "-o $OUT/root.graph.label.tsv.gz"
   ]
  },
  {
   "cell_type": "markdown",
   "metadata": {},
   "source": [
    "Extract the alias edges"
   ]
  },
  {
   "cell_type": "code",
   "execution_count": 52,
   "metadata": {},
   "outputs": [
    {
     "name": "stdout",
     "output_type": "stream",
     "text": [
      "[2021-10-04 17:30:20 sqlstore]: IMPORT graph via csv.reader into table graph_8 from /data1/rogers/kgtk/tutorial/build-tutorial/alias ...\n",
      "Traceback (most recent call last):\n",
      "  File \"/home/rogers/kgtk/github/kgtk/kgtk/kypher/sqlstore.py\", line 758, in add_graph\n",
      "    self.import_graph_data_via_import(table, file)\n",
      "  File \"/home/rogers/kgtk/github/kgtk/kgtk/kypher/sqlstore.py\", line 816, in import_graph_data_via_import\n",
      "    raise KGTKException('only implemented for existing, named files')\n",
      "kgtk.exceptions.KGTKException: only implemented for existing, named files\n",
      "\n",
      "During handling of the above exception, another exception occurred:\n",
      "\n",
      "Traceback (most recent call last):\n",
      "  File \"/home/rogers/kgtk/github/kgtk/kgtk/cli/query.py\", line 219, in run\n",
      "    query = kyquery.KgtkQuery(inputs, store, loglevel=loglevel,\n",
      "  File \"/home/rogers/kgtk/github/kgtk/kgtk/kypher/query.py\", line 216, in __init__\n",
      "    store.add_graph(file, alias=alias)\n",
      "  File \"/home/rogers/kgtk/github/kgtk/kgtk/kypher/sqlstore.py\", line 761, in add_graph\n",
      "    self.import_graph_data_via_csv(table, file)\n",
      "  File \"/home/rogers/kgtk/github/kgtk/kgtk/kypher/sqlstore.py\", line 796, in import_graph_data_via_csv\n",
      "    with open_to_read(file) as inp:\n",
      "  File \"/home/rogers/kgtk/github/kgtk/kgtk/kypher/sqlstore.py\", line 82, in open_to_read\n",
      "    return open(file, mode)\n",
      "FileNotFoundError: [Errno 2] No such file or directory: '/data1/rogers/kgtk/tutorial/build-tutorial/alias'\n",
      "\n",
      "During handling of the above exception, another exception occurred:\n",
      "\n",
      "Traceback (most recent call last):\n",
      "  File \"/home/rogers/kgtk/github/kgtk/kgtk/exceptions.py\", line 46, in __call__\n",
      "    return_code = func(*args, **kwargs) or 0\n",
      "  File \"/home/rogers/kgtk/github/kgtk/kgtk/cli/query.py\", line 268, in run\n",
      "    raise KGTKException(str(e) + '\\n')\n",
      "kgtk.exceptions.KGTKException: [Errno 2] No such file or directory: '/data1/rogers/kgtk/tutorial/build-tutorial/alias'\n",
      "\n",
      "[Errno 2] No such file or directory: '/data1/rogers/kgtk/tutorial/build-tutorial/alias'\n",
      "\n",
      "In input header '': Column 0 has an empty name in the file header\n",
      "Traceback (most recent call last):\n",
      "  File \"/home/rogers/kgtk/github/kgtk/kgtk/exceptions.py\", line 46, in __call__\n",
      "    return_code = func(*args, **kwargs) or 0\n",
      "  File \"/home/rogers/kgtk/github/kgtk/kgtk/cli/sort.py\", line 541, in run\n",
      "    kr: KgtkReader = KgtkReader.open(Path(\"<%d\" % header_read_fd),\n",
      "  File \"/home/rogers/kgtk/github/kgtk/kgtk/io/kgtkreader.py\", line 720, in open\n",
      "    column_name_map: typing.Mapping[str, int] = cls.build_column_name_map(column_names,\n",
      "  File \"/home/rogers/kgtk/github/kgtk/kgtk/io/kgtkbase.py\", line 146, in build_column_name_map\n",
      "    cls._yelp(\"Column %d has an empty name in the file header\" % column_idx,\n",
      "  File \"/home/rogers/kgtk/github/kgtk/kgtk/io/kgtkbase.py\", line 35, in _yelp\n",
      "    sys.exit(1)\n",
      "SystemExit: 1\n",
      "/home/rogers/kgtk/github/kgtk/kgtk/exceptions.py:66: UserWarning: Please raise KGTKException instead of <class 'SystemExit'>\n",
      "  warnings.warn('Please raise KGTKException instead of {}'.format(type_))\n",
      "KGTKException found\n",
      "\n",
      "CPU times: user 7.19 ms, sys: 4.6 ms, total: 11.8 ms\n",
      "Wall time: 749 ms\n"
     ]
    }
   ],
   "source": [
    "%%time\n",
    "!$kypher -i alias -i rootnode1 \\\n",
    "--match ' \\\n",
    "    rootnode1: (n1)-[]->(), \\\n",
    "    alias: (n1)-[l]->(n2) \\\n",
    "    ' \\\n",
    "--return 'distinct n1 as node1, l.label as label, n2 as node2, l as id' \\\n",
    "/ sort \\\n",
    "-o $OUT/root.graph.alias.tsv.gz"
   ]
  },
  {
   "cell_type": "markdown",
   "metadata": {},
   "source": [
    "Extract the description edges"
   ]
  },
  {
   "cell_type": "code",
   "execution_count": 53,
   "metadata": {},
   "outputs": [
    {
     "name": "stdout",
     "output_type": "stream",
     "text": [
      "[2021-10-04 17:30:21 sqlstore]: IMPORT graph via csv.reader into table graph_8 from /data1/rogers/kgtk/tutorial/build-tutorial/description ...\n",
      "Traceback (most recent call last):\n",
      "  File \"/home/rogers/kgtk/github/kgtk/kgtk/kypher/sqlstore.py\", line 758, in add_graph\n",
      "    self.import_graph_data_via_import(table, file)\n",
      "  File \"/home/rogers/kgtk/github/kgtk/kgtk/kypher/sqlstore.py\", line 816, in import_graph_data_via_import\n",
      "    raise KGTKException('only implemented for existing, named files')\n",
      "kgtk.exceptions.KGTKException: only implemented for existing, named files\n",
      "\n",
      "During handling of the above exception, another exception occurred:\n",
      "\n",
      "Traceback (most recent call last):\n",
      "  File \"/home/rogers/kgtk/github/kgtk/kgtk/cli/query.py\", line 219, in run\n",
      "    query = kyquery.KgtkQuery(inputs, store, loglevel=loglevel,\n",
      "  File \"/home/rogers/kgtk/github/kgtk/kgtk/kypher/query.py\", line 216, in __init__\n",
      "    store.add_graph(file, alias=alias)\n",
      "  File \"/home/rogers/kgtk/github/kgtk/kgtk/kypher/sqlstore.py\", line 761, in add_graph\n",
      "    self.import_graph_data_via_csv(table, file)\n",
      "  File \"/home/rogers/kgtk/github/kgtk/kgtk/kypher/sqlstore.py\", line 796, in import_graph_data_via_csv\n",
      "    with open_to_read(file) as inp:\n",
      "  File \"/home/rogers/kgtk/github/kgtk/kgtk/kypher/sqlstore.py\", line 82, in open_to_read\n",
      "    return open(file, mode)\n",
      "FileNotFoundError: [Errno 2] No such file or directory: '/data1/rogers/kgtk/tutorial/build-tutorial/description'\n",
      "\n",
      "During handling of the above exception, another exception occurred:\n",
      "\n",
      "Traceback (most recent call last):\n",
      "  File \"/home/rogers/kgtk/github/kgtk/kgtk/exceptions.py\", line 46, in __call__\n",
      "    return_code = func(*args, **kwargs) or 0\n",
      "  File \"/home/rogers/kgtk/github/kgtk/kgtk/cli/query.py\", line 268, in run\n",
      "    raise KGTKException(str(e) + '\\n')\n",
      "kgtk.exceptions.KGTKException: [Errno 2] No such file or directory: '/data1/rogers/kgtk/tutorial/build-tutorial/description'\n",
      "\n",
      "[Errno 2] No such file or directory: '/data1/rogers/kgtk/tutorial/build-tutorial/description'\n",
      "\n",
      "In input header '': Column 0 has an empty name in the file header\n",
      "Traceback (most recent call last):\n",
      "  File \"/home/rogers/kgtk/github/kgtk/kgtk/exceptions.py\", line 46, in __call__\n",
      "    return_code = func(*args, **kwargs) or 0\n",
      "  File \"/home/rogers/kgtk/github/kgtk/kgtk/cli/sort.py\", line 541, in run\n",
      "    kr: KgtkReader = KgtkReader.open(Path(\"<%d\" % header_read_fd),\n",
      "  File \"/home/rogers/kgtk/github/kgtk/kgtk/io/kgtkreader.py\", line 720, in open\n",
      "    column_name_map: typing.Mapping[str, int] = cls.build_column_name_map(column_names,\n",
      "  File \"/home/rogers/kgtk/github/kgtk/kgtk/io/kgtkbase.py\", line 146, in build_column_name_map\n",
      "    cls._yelp(\"Column %d has an empty name in the file header\" % column_idx,\n",
      "  File \"/home/rogers/kgtk/github/kgtk/kgtk/io/kgtkbase.py\", line 35, in _yelp\n",
      "    sys.exit(1)\n",
      "SystemExit: 1\n",
      "/home/rogers/kgtk/github/kgtk/kgtk/exceptions.py:66: UserWarning: Please raise KGTKException instead of <class 'SystemExit'>\n",
      "  warnings.warn('Please raise KGTKException instead of {}'.format(type_))\n",
      "KGTKException found\n",
      "\n",
      "CPU times: user 10.5 ms, sys: 1.22 ms, total: 11.7 ms\n",
      "Wall time: 773 ms\n"
     ]
    }
   ],
   "source": [
    "%%time\n",
    "!$kypher -i description -i rootnode1 \\\n",
    "--match ' \\\n",
    "    rootnode1: (n1)-[]->(), \\\n",
    "    description: (n1)-[l]->(n2) \\\n",
    "    ' \\\n",
    "--return 'distinct n1 as node1, l.label as label, n2 as node2, l as id' \\\n",
    "/ sort \\\n",
    "-o $OUT/root.graph.description.tsv.gz"
   ]
  },
  {
   "cell_type": "markdown",
   "metadata": {},
   "source": [
    "## Compute useful derived files"
   ]
  },
  {
   "cell_type": "markdown",
   "metadata": {},
   "source": [
    "### Inverses of `P279`"
   ]
  },
  {
   "cell_type": "markdown",
   "metadata": {},
   "source": [
    "> To do: need to define t`P279_` property, it's datatype, label, etc."
   ]
  },
  {
   "cell_type": "code",
   "execution_count": 54,
   "metadata": {},
   "outputs": [
    {
     "name": "stdout",
     "output_type": "stream",
     "text": [
      "[2021-10-04 17:30:22 sqlstore]: IMPORT graph via csv.reader into table graph_8 from /data1/rogers/kgtk/tutorial/build-tutorial/rootbase ...\n",
      "Traceback (most recent call last):\n",
      "  File \"/home/rogers/kgtk/github/kgtk/kgtk/kypher/sqlstore.py\", line 758, in add_graph\n",
      "    self.import_graph_data_via_import(table, file)\n",
      "  File \"/home/rogers/kgtk/github/kgtk/kgtk/kypher/sqlstore.py\", line 816, in import_graph_data_via_import\n",
      "    raise KGTKException('only implemented for existing, named files')\n",
      "kgtk.exceptions.KGTKException: only implemented for existing, named files\n",
      "\n",
      "During handling of the above exception, another exception occurred:\n",
      "\n",
      "Traceback (most recent call last):\n",
      "  File \"/home/rogers/kgtk/github/kgtk/kgtk/cli/query.py\", line 219, in run\n",
      "    query = kyquery.KgtkQuery(inputs, store, loglevel=loglevel,\n",
      "  File \"/home/rogers/kgtk/github/kgtk/kgtk/kypher/query.py\", line 216, in __init__\n",
      "    store.add_graph(file, alias=alias)\n",
      "  File \"/home/rogers/kgtk/github/kgtk/kgtk/kypher/sqlstore.py\", line 761, in add_graph\n",
      "    self.import_graph_data_via_csv(table, file)\n",
      "  File \"/home/rogers/kgtk/github/kgtk/kgtk/kypher/sqlstore.py\", line 796, in import_graph_data_via_csv\n",
      "    with open_to_read(file) as inp:\n",
      "  File \"/home/rogers/kgtk/github/kgtk/kgtk/kypher/sqlstore.py\", line 82, in open_to_read\n",
      "    return open(file, mode)\n",
      "FileNotFoundError: [Errno 2] No such file or directory: '/data1/rogers/kgtk/tutorial/build-tutorial/rootbase'\n",
      "\n",
      "During handling of the above exception, another exception occurred:\n",
      "\n",
      "Traceback (most recent call last):\n",
      "  File \"/home/rogers/kgtk/github/kgtk/kgtk/exceptions.py\", line 46, in __call__\n",
      "    return_code = func(*args, **kwargs) or 0\n",
      "  File \"/home/rogers/kgtk/github/kgtk/kgtk/cli/query.py\", line 268, in run\n",
      "    raise KGTKException(str(e) + '\\n')\n",
      "kgtk.exceptions.KGTKException: [Errno 2] No such file or directory: '/data1/rogers/kgtk/tutorial/build-tutorial/rootbase'\n",
      "\n",
      "[Errno 2] No such file or directory: '/data1/rogers/kgtk/tutorial/build-tutorial/rootbase'\n",
      "\n",
      "Traceback (most recent call last):\n",
      "  File \"/home/rogers/kgtk/github/kgtk/kgtk/io/kgtkreader.py\", line 985, in _build_column_names\n",
      "    header: str = next(source).rstrip(\"\\r\\n\")\n",
      "  File \"/home/rogers/kgtk/github/kgtk/kgtk/utils/closableiter.py\", line 30, in __next__\n",
      "    return self.s.__next__()\n",
      "StopIteration\n",
      "\n",
      "During handling of the above exception, another exception occurred:\n",
      "\n",
      "Traceback (most recent call last):\n",
      "  File \"/home/rogers/kgtk/github/kgtk/kgtk/cli/add_id.py\", line 102, in run\n",
      "    kr: KgtkReader =  KgtkReader.open(input_kgtk_file,\n",
      "  File \"/home/rogers/kgtk/github/kgtk/kgtk/io/kgtkreader.py\", line 702, in open\n",
      "    (header, column_names) = cls._build_column_names(source, options, input_format, error_file=error_file, verbose=verbose)\n",
      "  File \"/home/rogers/kgtk/github/kgtk/kgtk/io/kgtkreader.py\", line 987, in _build_column_names\n",
      "    raise ValueError(\"No header line in file\")\n",
      "ValueError: No header line in file\n",
      "\n",
      "During handling of the above exception, another exception occurred:\n",
      "\n",
      "Traceback (most recent call last):\n",
      "  File \"/home/rogers/kgtk/github/kgtk/kgtk/exceptions.py\", line 46, in __call__\n",
      "    return_code = func(*args, **kwargs) or 0\n",
      "  File \"/home/rogers/kgtk/github/kgtk/kgtk/cli/add_id.py\", line 136, in run\n",
      "    raise KGTKException(str(e))\n",
      "kgtk.exceptions.KGTKException: No header line in file\n",
      "No header line in file\n",
      "In input header '': Column 0 has an empty name in the file header\n"
     ]
    }
   ],
   "source": [
    "!$kypher -i rootbase \\\n",
    "--match '(n1)-[:P279]->(class)' \\\n",
    "--return 'distinct class as node1, \"P279_\" as label, n1 as node2' \\\n",
    "/ add-id --id-style wikidata \\\n",
    "/ sort \\\n",
    "-o \"$OUT\"/root.derived.P279inv.tsv.gz"
   ]
  },
  {
   "cell_type": "code",
   "execution_count": null,
   "metadata": {},
   "outputs": [],
   "source": []
  },
  {
   "cell_type": "code",
   "execution_count": null,
   "metadata": {},
   "outputs": [],
   "source": []
  },
  {
   "cell_type": "markdown",
   "metadata": {},
   "source": [
    "## Final files\n",
    "- base, includes all edges except labeles, aliases and descriptions\n",
    "- labels\n",
    "- aliases\n",
    "- descriptions"
   ]
  },
  {
   "cell_type": "code",
   "execution_count": 55,
   "metadata": {},
   "outputs": [
    {
     "name": "stdout",
     "output_type": "stream",
     "text": [
      "[Errno 2] No such file or directory: '/data1/rogers/kgtk/tutorial/build-tutorial/root.graph.item.quantity.time.monolingual.string.property.qualifiers.P31.P279.ontology.datatype.tsv.gz'\n",
      "CPU times: user 4.83 ms, sys: 3.54 ms, total: 8.38 ms\n",
      "Wall time: 428 ms\n"
     ]
    }
   ],
   "source": [
    "%%time\n",
    "!$kgtk cat \\\n",
    "-i \"$OUT\"/root.graph.item.quantity.time.monolingual.string.property.qualifiers.P31.P279.ontology.datatype.tsv.gz \\\n",
    "-i \"$OUT\"/root.graph.alias.tsv.gz \\\n",
    "-i \"$OUT\"/root.graph.label.tsv.gz \\\n",
    "-i \"$OUT\"/root.graph.description.tsv.gz \\\n",
    "-o \"$OUT\"/all.tsv.gz"
   ]
  },
  {
   "cell_type": "code",
   "execution_count": null,
   "metadata": {},
   "outputs": [],
   "source": []
  }
 ],
 "metadata": {
  "kernelspec": {
   "display_name": "Python 3 (ipykernel)",
   "language": "python",
   "name": "python3"
  },
  "language_info": {
   "codemirror_mode": {
    "name": "ipython",
    "version": 3
   },
   "file_extension": ".py",
   "mimetype": "text/x-python",
   "name": "python",
   "nbconvert_exporter": "python",
   "pygments_lexer": "ipython3",
   "version": "3.8.11"
  }
 },
 "nbformat": 4,
 "nbformat_minor": 4
}
