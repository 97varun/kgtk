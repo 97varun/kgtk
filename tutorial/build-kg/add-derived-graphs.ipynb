{
 "cells": [
  {
   "cell_type": "markdown",
   "metadata": {},
   "source": [
    "# Add Derived Graphs To The Tutorial Graph\n",
    "\n"
   ]
  },
  {
   "cell_type": "code",
   "execution_count": 1,
   "metadata": {},
   "outputs": [],
   "source": [
    "import io\n",
    "import os\n",
    "import subprocess\n",
    "import sys\n",
    "\n",
    "import numpy as np\n",
    "import pandas as pd\n",
    "from IPython.display import display, HTML\n",
    "\n",
    "import papermill as pm\n",
    "\n",
    "sys.path.insert(0,'../..')\n",
    "from configure_kgtk_notebooks import ConfigureKGTK\n",
    "\n",
    "from kgtk.functions import kgtk, kypher"
   ]
  },
  {
   "cell_type": "code",
   "execution_count": 2,
   "metadata": {
    "tags": [
     "parameters"
    ]
   },
   "outputs": [],
   "source": [
    "# Parameters\n",
    "\n",
    "kgtk_path = \"/Users/pedroszekely/Documents/GitHub/kgtk\"\n",
    "\n",
    "# Folder on local machine where to create the output and temporary folders\n",
    "input_path = \"/Users/pedroszekely/Downloads/kypher/projects/build-tutorial\"\n",
    "output_path = \"/Users/pedroszekely/Downloads/kypher/projects\"\n",
    "project_name = \"tutorial-derived-graphs\"\n",
    "tutorial_files_path = \"/Users/pedroszekely/Documents/GitHub/kgtk-tutorial-files/datasets/arnold\""
   ]
  },
  {
   "cell_type": "code",
   "execution_count": 3,
   "metadata": {},
   "outputs": [
    {
     "name": "stdout",
     "output_type": "stream",
     "text": [
      "User home: /Users/pedroszekely\n",
      "Current dir: /Users/pedroszekely/Documents/GitHub/kgtk/tutorial/build-kg\n",
      "KGTK dir: /Users/pedroszekely/Documents/GitHub/kgtk\n",
      "Use-cases dir: /Users/pedroszekely/Documents/GitHub/kgtk/use-cases\n"
     ]
    }
   ],
   "source": [
    "files = [\n",
    "    \"all\"\n",
    "]\n",
    "ck = ConfigureKGTK(kgtk_path=kgtk_path)\n",
    "ck.configure_kgtk(input_graph_path=input_path,\n",
    "                  output_path=output_path,\n",
    "                  project_name=project_name)"
   ]
  },
  {
   "cell_type": "code",
   "execution_count": 4,
   "metadata": {},
   "outputs": [
    {
     "name": "stdout",
     "output_type": "stream",
     "text": [
      "GRAPH: /Users/pedroszekely/Downloads/kypher/projects/build-tutorial\n",
      "kypher: kgtk query --graph-cache /Users/pedroszekely/Downloads/kypher/projects/tutorial-derived-graphs/temp.tutorial-derived-graphs/wikidata.sqlite3.db\n",
      "USE_CASES_DIR: /Users/pedroszekely/Documents/GitHub/kgtk/use-cases\n",
      "TEMP: /Users/pedroszekely/Downloads/kypher/projects/tutorial-derived-graphs/temp.tutorial-derived-graphs\n",
      "STORE: /Users/pedroszekely/Downloads/kypher/projects/tutorial-derived-graphs/temp.tutorial-derived-graphs/wikidata.sqlite3.db\n",
      "kgtk: kgtk\n",
      "OUT: /Users/pedroszekely/Downloads/kypher/projects/tutorial-derived-graphs\n",
      "EXAMPLES_DIR: /Users/pedroszekely/Documents/GitHub/kgtk/examples\n",
      "all: /Users/pedroszekely/Downloads/kypher/projects/build-tutorial/all.tsv.gz\n"
     ]
    }
   ],
   "source": [
    "ck.print_env_variables(files)"
   ]
  },
  {
   "cell_type": "markdown",
   "metadata": {},
   "source": [
    "Turn on debugging for kypher"
   ]
  },
  {
   "cell_type": "code",
   "execution_count": 5,
   "metadata": {},
   "outputs": [],
   "source": [
    "os.environ['tutorial_files_path'] = tutorial_files_path\n",
    "os.environ['kgtk_path'] = kgtk_path\n",
    "os.environ['KGTK_GRAPH_CACHE'] = os.environ['STORE']\n",
    "os.environ['KGTK_LABEL_FILE'] = os.environ['OUT'] + \"/parts/labels.en.tsv.gz\"\n",
    "os.environ['KGTK_OPTION_DEBUG'] = \"true\""
   ]
  },
  {
   "cell_type": "markdown",
   "metadata": {},
   "source": [
    "Load all my files into the kypher cache so that all graph aliases are defined"
   ]
  },
  {
   "cell_type": "code",
   "execution_count": 6,
   "metadata": {},
   "outputs": [
    {
     "name": "stdout",
     "output_type": "stream",
     "text": [
      "kgtk query --graph-cache /Users/pedroszekely/Downloads/kypher/projects/tutorial-derived-graphs/temp.tutorial-derived-graphs/wikidata.sqlite3.db -i \"/Users/pedroszekely/Downloads/kypher/projects/build-tutorial/all.tsv.gz\" --as all  --limit 3\n",
      "[2021-10-08 17:12:05 query]: SQL Translation:\n",
      "---------------------------------------------\n",
      "  SELECT *\n",
      "     FROM graph_1 AS graph_1_c1\n",
      "     LIMIT ?\n",
      "  PARAS: [3]\n",
      "---------------------------------------------\n",
      "node1\tlabel\tnode2\tid\n",
      "P10\tP31\tQ18610173\tP10-P31-Q18610173-85ef4d24-0\n",
      "P1000\tP31\tQ18608871\tP1000-P31-Q18608871-093affb5-0\n",
      "P1001\tP1647\tP276\tP1001-P1647-P276-e4e44f83-0\n"
     ]
    }
   ],
   "source": [
    "ck.load_files_into_cache(file_list=files)"
   ]
  },
  {
   "cell_type": "code",
   "execution_count": 7,
   "metadata": {},
   "outputs": [
    {
     "name": "stdout",
     "output_type": "stream",
     "text": [
      "/Users/pedroszekely/Downloads/kypher/projects/tutorial-derived-graphs\n"
     ]
    }
   ],
   "source": [
    "%cd {os.environ['OUT']}"
   ]
  },
  {
   "cell_type": "markdown",
   "metadata": {},
   "source": [
    "## Run partition notebook\n",
    "\n",
    "We need the parts to run the Useful Files notebook"
   ]
  },
  {
   "cell_type": "code",
   "execution_count": 8,
   "metadata": {},
   "outputs": [
    {
     "data": {
      "application/vnd.jupyter.widget-view+json": {
       "model_id": "1ce904e0d0c045be8caecef17e851f6c",
       "version_major": 2,
       "version_minor": 0
      },
      "text/plain": [
       "Executing:   0%|          | 0/49 [00:00<?, ?cell/s]"
      ]
     },
     "metadata": {},
     "output_type": "display_data"
    },
    {
     "data": {
      "text/plain": [
       "''"
      ]
     },
     "execution_count": 8,
     "metadata": {},
     "output_type": "execute_result"
    }
   ],
   "source": [
    "pm.execute_notebook(\n",
    "    os.environ[\"EXAMPLES_DIR\"] + \"/partition-wikidata.ipynb\",\n",
    "    os.environ[\"TEMP\"] + \"/partition-wikidata.out.ipynb\",\n",
    "    parameters=dict(\n",
    "        wikidata_input_path = input_path + \"/all.tsv.gz\",\n",
    "        wikidata_parts_path = os.environ[\"OUT\"] + \"/parts\",\n",
    "        temp_folder_path = os.environ[\"OUT\"] + \"/parts/temp\",\n",
    "        sort_extras = \"--buffer-size 30% --temporary-directory $OUT/parts/temp\",\n",
    "        verbose = False,\n",
    "        gzip_command = 'gzip'\n",
    "    )\n",
    ")\n",
    ";"
   ]
  },
  {
   "cell_type": "markdown",
   "metadata": {},
   "source": [
    "Show the files after partition"
   ]
  },
  {
   "cell_type": "code",
   "execution_count": 9,
   "metadata": {},
   "outputs": [
    {
     "name": "stdout",
     "output_type": "stream",
     "text": [
      "aliases.en.tsv.gz                   metadata.property.datatypes.tsv.gz\n",
      "aliases.tsv.gz                      metadata.types.tsv.gz\n",
      "all.tsv.gz                          qualifiers.commonsMedia.tsv.gz\n",
      "claims.commonsMedia.tsv.gz          qualifiers.external-id.tsv.gz\n",
      "claims.external-id.tsv.gz           qualifiers.geo-shape.tsv.gz\n",
      "claims.geo-shape.tsv.gz             qualifiers.globe-coordinate.tsv.gz\n",
      "claims.globe-coordinate.tsv.gz      qualifiers.math.tsv.gz\n",
      "claims.math.tsv.gz                  qualifiers.monolingualtext.tsv.gz\n",
      "claims.monolingualtext.tsv.gz       qualifiers.musical-notation.tsv.gz\n",
      "claims.musical-notation.tsv.gz      qualifiers.quantity.tsv.gz\n",
      "claims.other.tsv.gz                 qualifiers.string.tsv.gz\n",
      "claims.quantity.tsv.gz              qualifiers.tabular-data.tsv.gz\n",
      "claims.string.tsv.gz                qualifiers.time.tsv.gz\n",
      "claims.tabular-data.tsv.gz          qualifiers.tsv.gz\n",
      "claims.time.tsv.gz                  qualifiers.url.tsv.gz\n",
      "claims.tsv.gz                       qualifiers.wikibase-form.tsv.gz\n",
      "claims.url.tsv.gz                   qualifiers.wikibase-item.tsv.gz\n",
      "claims.wikibase-form.tsv.gz         qualifiers.wikibase-lexeme.tsv.gz\n",
      "claims.wikibase-item.tsv.gz         qualifiers.wikibase-property.tsv.gz\n",
      "claims.wikibase-lexeme.tsv.gz       qualifiers.wikibase-sense.tsv.gz\n",
      "claims.wikibase-property.tsv.gz     sitelinks.en.tsv.gz\n",
      "claims.wikibase-sense.tsv.gz        sitelinks.qualifiers.en.tsv.gz\n",
      "descriptions.en.tsv.gz              sitelinks.qualifiers.tsv.gz\n",
      "descriptions.tsv.gz                 sitelinks.tsv.gz\n",
      "labels.en.tsv.gz                    \u001b[34mtemp\u001b[m\u001b[m\n",
      "labels.tsv.gz\n"
     ]
    }
   ],
   "source": [
    "!ls $OUT/parts"
   ]
  },
  {
   "cell_type": "markdown",
   "metadata": {},
   "source": [
    "Deploy the parts to `$tutorial_files_path`"
   ]
  },
  {
   "cell_type": "markdown",
   "metadata": {},
   "source": [
    "## Run useful files notebook"
   ]
  },
  {
   "cell_type": "code",
   "execution_count": 10,
   "metadata": {},
   "outputs": [
    {
     "data": {
      "application/vnd.jupyter.widget-view+json": {
       "model_id": "a53537a9e2644a69858eab18ae4f0648",
       "version_major": 2,
       "version_minor": 0
      },
      "text/plain": [
       "Executing:   0%|          | 0/157 [00:00<?, ?cell/s]"
      ]
     },
     "metadata": {},
     "output_type": "display_data"
    },
    {
     "data": {
      "text/plain": [
       "''"
      ]
     },
     "execution_count": 10,
     "metadata": {},
     "output_type": "execute_result"
    }
   ],
   "source": [
    "pm.execute_notebook(\n",
    "    os.environ[\"USE_CASES_DIR\"] + \"/Wikidata Useful Files.ipynb\",\n",
    "    os.environ[\"TEMP\"] + \"/Wikidata Useful Files Out.ipynb\",\n",
    "    parameters=dict(\n",
    "        output_path = os.environ[\"OUT\"],\n",
    "        output_folder = \"useful_files\",\n",
    "        temp_folder = \"temp.useful_files\",\n",
    "        wiki_root_folder = os.environ[\"OUT\"] + \"/parts/\",\n",
    "        cache_path = os.environ[\"TEMP\"],\n",
    "        languages = 'en',\n",
    "        compute_pagerank = True,\n",
    "        compute_degrees = True,\n",
    "        compute_hits = False, \n",
    "        delete_database = False,\n",
    "        debug = \"false\"\n",
    "    )\n",
    ")\n",
    ";"
   ]
  },
  {
   "cell_type": "code",
   "execution_count": 11,
   "metadata": {},
   "outputs": [
    {
     "name": "stdout",
     "output_type": "stream",
     "text": [
      "total 46304\n",
      "-rw-r--r--   1 pedroszekely  staff  1167663 Oct  8 13:41 aliases.en.tsv.gz\n",
      "-rw-r--r--   1 pedroszekely  staff   326969 Oct  8 13:42 derived.P279.tsv.gz\n",
      "-rw-r--r--   1 pedroszekely  staff  2649699 Oct  8 13:42 derived.P279star.tsv.gz\n",
      "-rw-r--r--   1 pedroszekely  staff  1006728 Oct  8 13:41 derived.P31.tsv.gz\n",
      "-rw-r--r--   1 pedroszekely  staff       47 Oct  8 13:43 derived.dwd.count.tsv.gz\n",
      "-rw-r--r--   1 pedroszekely  staff  1540685 Oct  8 13:43 derived.dwd_isa.tsv.gz\n",
      "-rw-r--r--   1 pedroszekely  staff  1158470 Oct  8 13:41 descriptions.en.tsv.gz\n",
      "-rw-r--r--   1 pedroszekely  staff  1260472 Oct  8 13:43 item.property.count.compact.tsv.gz\n",
      "-rw-r--r--   1 pedroszekely  staff   886001 Oct  8 13:41 labels.en.tsv.gz\n",
      "-rw-r--r--   1 pedroszekely  staff   274394 Oct  8 13:43 metadata.in_degree.tsv.gz\n",
      "-rw-r--r--   1 pedroszekely  staff   496777 Oct  8 13:42 metadata.out_degree.tsv.gz\n",
      "-rw-r--r--   1 pedroszekely  staff  1606082 Oct  8 13:24 metadata.pagerank.directed.ordinal.tsv.gz\n",
      "-rw-r--r--   1 pedroszekely  staff  1869393 Oct  8 13:42 metadata.pagerank.directed.tsv.gz\n",
      "-rw-r--r--   1 pedroszekely  staff  1865466 Oct  8 13:24 metadata.pagerank.undirected.ordinal.tsv.gz\n",
      "-rw-r--r--   1 pedroszekely  staff  2059646 Oct  8 13:42 metadata.pagerank.undirected.tsv.gz\n",
      "-rw-r--r--   1 pedroszekely  staff     4142 Oct  8 13:43 statistics.in_degree.distribution.tsv\n",
      "-rw-r--r--   1 pedroszekely  staff     4885 Oct  8 13:43 statistics.out_degree.distribution.tsv\n",
      "drwxr-xr-x  25 pedroszekely  staff      800 Oct  8 13:21 \u001b[34mtemp.useful_files\u001b[m\u001b[m\n"
     ]
    }
   ],
   "source": [
    "!ls -l $OUT/useful_files"
   ]
  },
  {
   "cell_type": "markdown",
   "metadata": {},
   "source": [
    "## Enhance pagerank files to include ordinal"
   ]
  },
  {
   "cell_type": "markdown",
   "metadata": {},
   "source": [
    "Approach:\n",
    "- Load the `directed_pagerank` from the metadata file into a dataframe (using kypher because somehow cat is broken, sigh\n",
    "- Sort the file by pagerank descending\n",
    "- Add a new column with header `P1545` (ordinal) and store the ranks in this column\n",
    "- Store the result in a temporary file."
   ]
  },
  {
   "cell_type": "code",
   "execution_count": 12,
   "metadata": {},
   "outputs": [
    {
     "name": "stdout",
     "output_type": "stream",
     "text": [
      "[2021-10-08 13:43:49 sqlstore]: DROP graph data table graph_19 from /Users/pedroszekely/Downloads/kypher/projects/tutorial-derived-graphs/useful_files/metadata.pagerank.directed.tsv.gz\n",
      "[2021-10-08 13:43:49 sqlstore]: IMPORT graph directly into table graph_19 from /Users/pedroszekely/Downloads/kypher/projects/tutorial-derived-graphs/useful_files/metadata.pagerank.directed.tsv.gz ...\n",
      "[2021-10-08 13:43:50 query]: SQL Translation:\n",
      "---------------------------------------------\n",
      "  SELECT *\n",
      "     FROM graph_19 AS graph_19_c1\n",
      "     WHERE graph_19_c1.\"label\" = ?\n",
      "  PARAS: ['Pdirected_pagerank']\n",
      "---------------------------------------------\n",
      "[2021-10-08 13:43:50 sqlstore]: CREATE INDEX on table graph_19 column label ...\n",
      "[2021-10-08 13:43:50 sqlstore]: ANALYZE INDEX on table graph_19 column label ...\n",
      "\n",
      "CPU times: user 545 ms, sys: 89.7 ms, total: 634 ms\n",
      "Wall time: 2.33 s\n"
     ]
    },
    {
     "data": {
      "text/html": [
       "<div>\n",
       "<style scoped>\n",
       "    .dataframe tbody tr th:only-of-type {\n",
       "        vertical-align: middle;\n",
       "    }\n",
       "\n",
       "    .dataframe tbody tr th {\n",
       "        vertical-align: top;\n",
       "    }\n",
       "\n",
       "    .dataframe thead th {\n",
       "        text-align: right;\n",
       "    }\n",
       "</style>\n",
       "<table border=\"1\" class=\"dataframe\">\n",
       "  <thead>\n",
       "    <tr style=\"text-align: right;\">\n",
       "      <th></th>\n",
       "      <th>P1545</th>\n",
       "      <th>node1</th>\n",
       "      <th>label</th>\n",
       "      <th>node2</th>\n",
       "      <th>id</th>\n",
       "    </tr>\n",
       "  </thead>\n",
       "  <tbody>\n",
       "    <tr>\n",
       "      <th>23658</th>\n",
       "      <td>1</td>\n",
       "      <td>Q23958852</td>\n",
       "      <td>Pdirected_pagerank</td>\n",
       "      <td>0.074847</td>\n",
       "      <td>Q23958852-Pdirected_pagerank-70976</td>\n",
       "    </tr>\n",
       "    <tr>\n",
       "      <th>37555</th>\n",
       "      <td>2</td>\n",
       "      <td>Q23960977</td>\n",
       "      <td>Pdirected_pagerank</td>\n",
       "      <td>0.034511</td>\n",
       "      <td>Q23960977-Pdirected_pagerank-112667</td>\n",
       "    </tr>\n",
       "    <tr>\n",
       "      <th>13394</th>\n",
       "      <td>3</td>\n",
       "      <td>Q35120</td>\n",
       "      <td>Pdirected_pagerank</td>\n",
       "      <td>0.030465</td>\n",
       "      <td>Q35120-Pdirected_pagerank-40184</td>\n",
       "    </tr>\n",
       "    <tr>\n",
       "      <th>10098</th>\n",
       "      <td>4</td>\n",
       "      <td>Q151885</td>\n",
       "      <td>Pdirected_pagerank</td>\n",
       "      <td>0.027707</td>\n",
       "      <td>Q151885-Pdirected_pagerank-30296</td>\n",
       "    </tr>\n",
       "    <tr>\n",
       "      <th>11016</th>\n",
       "      <td>5</td>\n",
       "      <td>Q7184903</td>\n",
       "      <td>Pdirected_pagerank</td>\n",
       "      <td>0.011759</td>\n",
       "      <td>Q7184903-Pdirected_pagerank-33050</td>\n",
       "    </tr>\n",
       "    <tr>\n",
       "      <th>...</th>\n",
       "      <td>...</td>\n",
       "      <td>...</td>\n",
       "      <td>...</td>\n",
       "      <td>...</td>\n",
       "      <td>...</td>\n",
       "    </tr>\n",
       "    <tr>\n",
       "      <th>32303</th>\n",
       "      <td>55947</td>\n",
       "      <td>Q19345728</td>\n",
       "      <td>Pdirected_pagerank</td>\n",
       "      <td>0.000003</td>\n",
       "      <td>Q19345728-Pdirected_pagerank-96911</td>\n",
       "    </tr>\n",
       "    <tr>\n",
       "      <th>32291</th>\n",
       "      <td>55948</td>\n",
       "      <td>Q193369</td>\n",
       "      <td>Pdirected_pagerank</td>\n",
       "      <td>0.000003</td>\n",
       "      <td>Q193369-Pdirected_pagerank-96875</td>\n",
       "    </tr>\n",
       "    <tr>\n",
       "      <th>32281</th>\n",
       "      <td>55949</td>\n",
       "      <td>Q193326</td>\n",
       "      <td>Pdirected_pagerank</td>\n",
       "      <td>0.000003</td>\n",
       "      <td>Q193326-Pdirected_pagerank-96845</td>\n",
       "    </tr>\n",
       "    <tr>\n",
       "      <th>32279</th>\n",
       "      <td>55950</td>\n",
       "      <td>Q1932957</td>\n",
       "      <td>Pdirected_pagerank</td>\n",
       "      <td>0.000003</td>\n",
       "      <td>Q1932957-Pdirected_pagerank-96839</td>\n",
       "    </tr>\n",
       "    <tr>\n",
       "      <th>55950</th>\n",
       "      <td>55951</td>\n",
       "      <td>Q99975457</td>\n",
       "      <td>Pdirected_pagerank</td>\n",
       "      <td>0.000003</td>\n",
       "      <td>Q99975457-Pdirected_pagerank-167852</td>\n",
       "    </tr>\n",
       "  </tbody>\n",
       "</table>\n",
       "<p>55951 rows × 5 columns</p>\n",
       "</div>"
      ],
      "text/plain": [
       "       P1545      node1               label     node2  \\\n",
       "23658      1  Q23958852  Pdirected_pagerank  0.074847   \n",
       "37555      2  Q23960977  Pdirected_pagerank  0.034511   \n",
       "13394      3     Q35120  Pdirected_pagerank  0.030465   \n",
       "10098      4    Q151885  Pdirected_pagerank  0.027707   \n",
       "11016      5   Q7184903  Pdirected_pagerank  0.011759   \n",
       "...      ...        ...                 ...       ...   \n",
       "32303  55947  Q19345728  Pdirected_pagerank  0.000003   \n",
       "32291  55948    Q193369  Pdirected_pagerank  0.000003   \n",
       "32281  55949    Q193326  Pdirected_pagerank  0.000003   \n",
       "32279  55950   Q1932957  Pdirected_pagerank  0.000003   \n",
       "55950  55951  Q99975457  Pdirected_pagerank  0.000003   \n",
       "\n",
       "                                        id  \n",
       "23658   Q23958852-Pdirected_pagerank-70976  \n",
       "37555  Q23960977-Pdirected_pagerank-112667  \n",
       "13394      Q35120-Pdirected_pagerank-40184  \n",
       "10098     Q151885-Pdirected_pagerank-30296  \n",
       "11016    Q7184903-Pdirected_pagerank-33050  \n",
       "...                                    ...  \n",
       "32303   Q19345728-Pdirected_pagerank-96911  \n",
       "32291     Q193369-Pdirected_pagerank-96875  \n",
       "32281     Q193326-Pdirected_pagerank-96845  \n",
       "32279    Q1932957-Pdirected_pagerank-96839  \n",
       "55950  Q99975457-Pdirected_pagerank-167852  \n",
       "\n",
       "[55951 rows x 5 columns]"
      ]
     },
     "execution_count": 12,
     "metadata": {},
     "output_type": "execute_result"
    }
   ],
   "source": [
    "%%time\n",
    "directed_pagerank = kgtk(\"\"\"\n",
    "    query -i $OUT/useful_files/metadata.pagerank.directed.tsv.gz \n",
    "    --match '(n1)-[l:Pdirected_pagerank]->(pagerank)'\n",
    "\"\"\")\n",
    "\n",
    "directed_pagerank_sorted = directed_pagerank.sort_values(\"node2\", ascending=False)\n",
    "directed_pagerank_sorted.insert(0, 'P1545', range(1, 1 + len(directed_pagerank_sorted)))\n",
    "directed_pagerank_sorted.to_csv(f\"{os.environ['TEMP']}/directed-pagerank.ordinal.tsv\", index=False, sep='\\t')\n",
    "directed_pagerank_sorted"
   ]
  },
  {
   "cell_type": "markdown",
   "metadata": {},
   "source": [
    "The temporary file looks good, next steps:\n",
    "- `normalize` to put the qualifiers as extra edges so the file has only `node1/label/node2/id`\n",
    "- `add-ids` as we want all edges to have ids"
   ]
  },
  {
   "cell_type": "code",
   "execution_count": 13,
   "metadata": {},
   "outputs": [],
   "source": [
    "kgtk(\"\"\"\n",
    "    normalize -i \"$TEMP\"/directed-pagerank.ordinal.tsv\n",
    "    / add-id --id-style wikidata \n",
    "    -o \"$OUT\"/useful_files/metadata.pagerank.directed.ordinal.tsv.gz\n",
    "\"\"\")"
   ]
  },
  {
   "cell_type": "markdown",
   "metadata": {},
   "source": [
    "Look at the result to confirm that we are generating the data we want."
   ]
  },
  {
   "cell_type": "code",
   "execution_count": 14,
   "metadata": {},
   "outputs": [
    {
     "data": {
      "text/html": [
       "<div>\n",
       "<style scoped>\n",
       "    .dataframe tbody tr th:only-of-type {\n",
       "        vertical-align: middle;\n",
       "    }\n",
       "\n",
       "    .dataframe tbody tr th {\n",
       "        vertical-align: top;\n",
       "    }\n",
       "\n",
       "    .dataframe thead th {\n",
       "        text-align: right;\n",
       "    }\n",
       "</style>\n",
       "<table border=\"1\" class=\"dataframe\">\n",
       "  <thead>\n",
       "    <tr style=\"text-align: right;\">\n",
       "      <th></th>\n",
       "      <th>node1</th>\n",
       "      <th>label</th>\n",
       "      <th>node2</th>\n",
       "      <th>id</th>\n",
       "      <th>node1;label</th>\n",
       "      <th>label;label</th>\n",
       "    </tr>\n",
       "  </thead>\n",
       "  <tbody>\n",
       "    <tr>\n",
       "      <th>0</th>\n",
       "      <td>Q23958852</td>\n",
       "      <td>Pdirected_pagerank</td>\n",
       "      <td>0.074847</td>\n",
       "      <td>Q23958852-Pdirected_pagerank-70976</td>\n",
       "      <td>'variable-order class'@en</td>\n",
       "      <td>NaN</td>\n",
       "    </tr>\n",
       "    <tr>\n",
       "      <th>1</th>\n",
       "      <td>Q23958852-Pdirected_pagerank-70976</td>\n",
       "      <td>P1545</td>\n",
       "      <td>1.000000</td>\n",
       "      <td>Q23958852-Pdirected_pagerank-70976-P1545-6b86b2</td>\n",
       "      <td>NaN</td>\n",
       "      <td>'series ordinal'@en</td>\n",
       "    </tr>\n",
       "    <tr>\n",
       "      <th>2</th>\n",
       "      <td>Q23960977</td>\n",
       "      <td>Pdirected_pagerank</td>\n",
       "      <td>0.034511</td>\n",
       "      <td>Q23960977-Pdirected_pagerank-112667</td>\n",
       "      <td>'(meta)class'@en</td>\n",
       "      <td>NaN</td>\n",
       "    </tr>\n",
       "    <tr>\n",
       "      <th>3</th>\n",
       "      <td>Q23960977-Pdirected_pagerank-112667</td>\n",
       "      <td>P1545</td>\n",
       "      <td>2.000000</td>\n",
       "      <td>Q23960977-Pdirected_pagerank-112667-P1545-d4735e</td>\n",
       "      <td>NaN</td>\n",
       "      <td>'series ordinal'@en</td>\n",
       "    </tr>\n",
       "    <tr>\n",
       "      <th>4</th>\n",
       "      <td>Q35120</td>\n",
       "      <td>Pdirected_pagerank</td>\n",
       "      <td>0.030465</td>\n",
       "      <td>Q35120-Pdirected_pagerank-40184</td>\n",
       "      <td>'entity'@en</td>\n",
       "      <td>NaN</td>\n",
       "    </tr>\n",
       "    <tr>\n",
       "      <th>5</th>\n",
       "      <td>Q35120-Pdirected_pagerank-40184</td>\n",
       "      <td>P1545</td>\n",
       "      <td>3.000000</td>\n",
       "      <td>Q35120-Pdirected_pagerank-40184-P1545-4e0740</td>\n",
       "      <td>NaN</td>\n",
       "      <td>'series ordinal'@en</td>\n",
       "    </tr>\n",
       "    <tr>\n",
       "      <th>6</th>\n",
       "      <td>Q151885</td>\n",
       "      <td>Pdirected_pagerank</td>\n",
       "      <td>0.027707</td>\n",
       "      <td>Q151885-Pdirected_pagerank-30296</td>\n",
       "      <td>'concept'@en</td>\n",
       "      <td>NaN</td>\n",
       "    </tr>\n",
       "    <tr>\n",
       "      <th>7</th>\n",
       "      <td>Q151885-Pdirected_pagerank-30296</td>\n",
       "      <td>P1545</td>\n",
       "      <td>4.000000</td>\n",
       "      <td>Q151885-Pdirected_pagerank-30296-P1545-4b2277</td>\n",
       "      <td>NaN</td>\n",
       "      <td>'series ordinal'@en</td>\n",
       "    </tr>\n",
       "    <tr>\n",
       "      <th>8</th>\n",
       "      <td>Q7184903</td>\n",
       "      <td>Pdirected_pagerank</td>\n",
       "      <td>0.011759</td>\n",
       "      <td>Q7184903-Pdirected_pagerank-33050</td>\n",
       "      <td>'abstract object'@en</td>\n",
       "      <td>NaN</td>\n",
       "    </tr>\n",
       "    <tr>\n",
       "      <th>9</th>\n",
       "      <td>Q7184903-Pdirected_pagerank-33050</td>\n",
       "      <td>P1545</td>\n",
       "      <td>5.000000</td>\n",
       "      <td>Q7184903-Pdirected_pagerank-33050-P1545-ef2d12</td>\n",
       "      <td>NaN</td>\n",
       "      <td>'series ordinal'@en</td>\n",
       "    </tr>\n",
       "  </tbody>\n",
       "</table>\n",
       "</div>"
      ],
      "text/plain": [
       "                                 node1               label     node2  \\\n",
       "0                            Q23958852  Pdirected_pagerank  0.074847   \n",
       "1   Q23958852-Pdirected_pagerank-70976               P1545  1.000000   \n",
       "2                            Q23960977  Pdirected_pagerank  0.034511   \n",
       "3  Q23960977-Pdirected_pagerank-112667               P1545  2.000000   \n",
       "4                               Q35120  Pdirected_pagerank  0.030465   \n",
       "5      Q35120-Pdirected_pagerank-40184               P1545  3.000000   \n",
       "6                              Q151885  Pdirected_pagerank  0.027707   \n",
       "7     Q151885-Pdirected_pagerank-30296               P1545  4.000000   \n",
       "8                             Q7184903  Pdirected_pagerank  0.011759   \n",
       "9    Q7184903-Pdirected_pagerank-33050               P1545  5.000000   \n",
       "\n",
       "                                                 id  \\\n",
       "0                Q23958852-Pdirected_pagerank-70976   \n",
       "1   Q23958852-Pdirected_pagerank-70976-P1545-6b86b2   \n",
       "2               Q23960977-Pdirected_pagerank-112667   \n",
       "3  Q23960977-Pdirected_pagerank-112667-P1545-d4735e   \n",
       "4                   Q35120-Pdirected_pagerank-40184   \n",
       "5      Q35120-Pdirected_pagerank-40184-P1545-4e0740   \n",
       "6                  Q151885-Pdirected_pagerank-30296   \n",
       "7     Q151885-Pdirected_pagerank-30296-P1545-4b2277   \n",
       "8                 Q7184903-Pdirected_pagerank-33050   \n",
       "9    Q7184903-Pdirected_pagerank-33050-P1545-ef2d12   \n",
       "\n",
       "                 node1;label          label;label  \n",
       "0  'variable-order class'@en                  NaN  \n",
       "1                        NaN  'series ordinal'@en  \n",
       "2           '(meta)class'@en                  NaN  \n",
       "3                        NaN  'series ordinal'@en  \n",
       "4                'entity'@en                  NaN  \n",
       "5                        NaN  'series ordinal'@en  \n",
       "6               'concept'@en                  NaN  \n",
       "7                        NaN  'series ordinal'@en  \n",
       "8       'abstract object'@en                  NaN  \n",
       "9                        NaN  'series ordinal'@en  "
      ]
     },
     "execution_count": 14,
     "metadata": {},
     "output_type": "execute_result"
    }
   ],
   "source": [
    "kgtk(\"\"\"\n",
    "    head -i \"$OUT\"/useful_files/metadata.pagerank.directed.ordinal.tsv.gz / add-labels\n",
    "\"\"\")"
   ]
  },
  {
   "cell_type": "markdown",
   "metadata": {},
   "source": [
    "Repeat the same steps for `undirected_pagerank`"
   ]
  },
  {
   "cell_type": "code",
   "execution_count": 15,
   "metadata": {},
   "outputs": [
    {
     "name": "stdout",
     "output_type": "stream",
     "text": [
      "[2021-10-08 13:43:55 sqlstore]: DROP graph data table graph_20 from /Users/pedroszekely/Downloads/kypher/projects/tutorial-derived-graphs/useful_files/metadata.pagerank.undirected.tsv.gz\n",
      "[2021-10-08 13:43:55 sqlstore]: IMPORT graph directly into table graph_20 from /Users/pedroszekely/Downloads/kypher/projects/tutorial-derived-graphs/useful_files/metadata.pagerank.undirected.tsv.gz ...\n",
      "[2021-10-08 13:43:56 query]: SQL Translation:\n",
      "---------------------------------------------\n",
      "  SELECT *\n",
      "     FROM graph_20 AS graph_20_c1\n",
      "     WHERE graph_20_c1.\"label\" = ?\n",
      "  PARAS: ['Pundirected_pagerank']\n",
      "---------------------------------------------\n",
      "[2021-10-08 13:43:56 sqlstore]: CREATE INDEX on table graph_20 column label ...\n",
      "[2021-10-08 13:43:56 sqlstore]: ANALYZE INDEX on table graph_20 column label ...\n",
      "\n",
      "CPU times: user 564 ms, sys: 95.5 ms, total: 659 ms\n",
      "Wall time: 2.38 s\n"
     ]
    },
    {
     "data": {
      "text/html": [
       "<div>\n",
       "<style scoped>\n",
       "    .dataframe tbody tr th:only-of-type {\n",
       "        vertical-align: middle;\n",
       "    }\n",
       "\n",
       "    .dataframe tbody tr th {\n",
       "        vertical-align: top;\n",
       "    }\n",
       "\n",
       "    .dataframe thead th {\n",
       "        text-align: right;\n",
       "    }\n",
       "</style>\n",
       "<table border=\"1\" class=\"dataframe\">\n",
       "  <thead>\n",
       "    <tr style=\"text-align: right;\">\n",
       "      <th></th>\n",
       "      <th>P1545</th>\n",
       "      <th>node1</th>\n",
       "      <th>label</th>\n",
       "      <th>node2</th>\n",
       "      <th>id</th>\n",
       "    </tr>\n",
       "  </thead>\n",
       "  <tbody>\n",
       "    <tr>\n",
       "      <th>4526</th>\n",
       "      <td>1</td>\n",
       "      <td>Q5</td>\n",
       "      <td>Pundirected_pagerank</td>\n",
       "      <td>0.018951</td>\n",
       "      <td>Q5-Pundirected_pagerank-13580</td>\n",
       "    </tr>\n",
       "    <tr>\n",
       "      <th>165</th>\n",
       "      <td>2</td>\n",
       "      <td>Q30</td>\n",
       "      <td>Pundirected_pagerank</td>\n",
       "      <td>0.014160</td>\n",
       "      <td>Q30-Pundirected_pagerank-497</td>\n",
       "    </tr>\n",
       "    <tr>\n",
       "      <th>4525</th>\n",
       "      <td>3</td>\n",
       "      <td>Q6581097</td>\n",
       "      <td>Pundirected_pagerank</td>\n",
       "      <td>0.008022</td>\n",
       "      <td>Q6581097-Pundirected_pagerank-13577</td>\n",
       "    </tr>\n",
       "    <tr>\n",
       "      <th>6512</th>\n",
       "      <td>4</td>\n",
       "      <td>Q15221623</td>\n",
       "      <td>Pundirected_pagerank</td>\n",
       "      <td>0.005540</td>\n",
       "      <td>Q15221623-Pundirected_pagerank-19538</td>\n",
       "    </tr>\n",
       "    <tr>\n",
       "      <th>1305</th>\n",
       "      <td>5</td>\n",
       "      <td>Q1860</td>\n",
       "      <td>Pundirected_pagerank</td>\n",
       "      <td>0.004913</td>\n",
       "      <td>Q1860-Pundirected_pagerank-3917</td>\n",
       "    </tr>\n",
       "    <tr>\n",
       "      <th>...</th>\n",
       "      <td>...</td>\n",
       "      <td>...</td>\n",
       "      <td>...</td>\n",
       "      <td>...</td>\n",
       "      <td>...</td>\n",
       "    </tr>\n",
       "    <tr>\n",
       "      <th>54625</th>\n",
       "      <td>55947</td>\n",
       "      <td>Q8033256</td>\n",
       "      <td>Pundirected_pagerank</td>\n",
       "      <td>0.000004</td>\n",
       "      <td>Q8033256-Pundirected_pagerank-163877</td>\n",
       "    </tr>\n",
       "    <tr>\n",
       "      <th>28405</th>\n",
       "      <td>55948</td>\n",
       "      <td>Q16892375</td>\n",
       "      <td>Pundirected_pagerank</td>\n",
       "      <td>0.000004</td>\n",
       "      <td>Q16892375-Pundirected_pagerank-85217</td>\n",
       "    </tr>\n",
       "    <tr>\n",
       "      <th>39926</th>\n",
       "      <td>55949</td>\n",
       "      <td>Q27890917</td>\n",
       "      <td>Pundirected_pagerank</td>\n",
       "      <td>0.000004</td>\n",
       "      <td>Q27890917-Pundirected_pagerank-119780</td>\n",
       "    </tr>\n",
       "    <tr>\n",
       "      <th>31429</th>\n",
       "      <td>55950</td>\n",
       "      <td>Q10876480</td>\n",
       "      <td>Pundirected_pagerank</td>\n",
       "      <td>0.000004</td>\n",
       "      <td>Q10876480-Pundirected_pagerank-94289</td>\n",
       "    </tr>\n",
       "    <tr>\n",
       "      <th>15809</th>\n",
       "      <td>55951</td>\n",
       "      <td>Q1199713</td>\n",
       "      <td>Pundirected_pagerank</td>\n",
       "      <td>0.000004</td>\n",
       "      <td>Q1199713-Pundirected_pagerank-47429</td>\n",
       "    </tr>\n",
       "  </tbody>\n",
       "</table>\n",
       "<p>55951 rows × 5 columns</p>\n",
       "</div>"
      ],
      "text/plain": [
       "       P1545      node1                 label     node2  \\\n",
       "4526       1         Q5  Pundirected_pagerank  0.018951   \n",
       "165        2        Q30  Pundirected_pagerank  0.014160   \n",
       "4525       3   Q6581097  Pundirected_pagerank  0.008022   \n",
       "6512       4  Q15221623  Pundirected_pagerank  0.005540   \n",
       "1305       5      Q1860  Pundirected_pagerank  0.004913   \n",
       "...      ...        ...                   ...       ...   \n",
       "54625  55947   Q8033256  Pundirected_pagerank  0.000004   \n",
       "28405  55948  Q16892375  Pundirected_pagerank  0.000004   \n",
       "39926  55949  Q27890917  Pundirected_pagerank  0.000004   \n",
       "31429  55950  Q10876480  Pundirected_pagerank  0.000004   \n",
       "15809  55951   Q1199713  Pundirected_pagerank  0.000004   \n",
       "\n",
       "                                          id  \n",
       "4526           Q5-Pundirected_pagerank-13580  \n",
       "165             Q30-Pundirected_pagerank-497  \n",
       "4525     Q6581097-Pundirected_pagerank-13577  \n",
       "6512    Q15221623-Pundirected_pagerank-19538  \n",
       "1305         Q1860-Pundirected_pagerank-3917  \n",
       "...                                      ...  \n",
       "54625   Q8033256-Pundirected_pagerank-163877  \n",
       "28405   Q16892375-Pundirected_pagerank-85217  \n",
       "39926  Q27890917-Pundirected_pagerank-119780  \n",
       "31429   Q10876480-Pundirected_pagerank-94289  \n",
       "15809    Q1199713-Pundirected_pagerank-47429  \n",
       "\n",
       "[55951 rows x 5 columns]"
      ]
     },
     "execution_count": 15,
     "metadata": {},
     "output_type": "execute_result"
    }
   ],
   "source": [
    "%%time\n",
    "undirected_pagerank = kgtk(\"\"\"\n",
    "    query -i $OUT/useful_files/metadata.pagerank.undirected.tsv.gz \n",
    "    --match '(n1)-[l:Pundirected_pagerank]->(pagerank)'\n",
    "\"\"\")\n",
    "\n",
    "undirected_pagerank = undirected_pagerank.sort_values(\"node2\", ascending=False)\n",
    "undirected_pagerank.insert(0, 'P1545', range(1, 1 + len(undirected_pagerank)))\n",
    "undirected_pagerank.to_csv(f\"{os.environ['TEMP']}/undirected-pagerank.ordinal.tsv\", index=False, sep='\\t')\n",
    "undirected_pagerank"
   ]
  },
  {
   "cell_type": "code",
   "execution_count": 16,
   "metadata": {},
   "outputs": [],
   "source": [
    "kgtk(\"\"\"\n",
    "    normalize -i \"$TEMP\"/undirected-pagerank.ordinal.tsv\n",
    "    / add-id --id-style wikidata \n",
    "    -o \"$OUT\"/useful_files/metadata.pagerank.undirected.ordinal.tsv.gz\n",
    "\"\"\")"
   ]
  },
  {
   "cell_type": "code",
   "execution_count": 17,
   "metadata": {},
   "outputs": [
    {
     "data": {
      "text/html": [
       "<div>\n",
       "<style scoped>\n",
       "    .dataframe tbody tr th:only-of-type {\n",
       "        vertical-align: middle;\n",
       "    }\n",
       "\n",
       "    .dataframe tbody tr th {\n",
       "        vertical-align: top;\n",
       "    }\n",
       "\n",
       "    .dataframe thead th {\n",
       "        text-align: right;\n",
       "    }\n",
       "</style>\n",
       "<table border=\"1\" class=\"dataframe\">\n",
       "  <thead>\n",
       "    <tr style=\"text-align: right;\">\n",
       "      <th></th>\n",
       "      <th>node1</th>\n",
       "      <th>label</th>\n",
       "      <th>node2</th>\n",
       "      <th>id</th>\n",
       "      <th>node1;label</th>\n",
       "      <th>label;label</th>\n",
       "    </tr>\n",
       "  </thead>\n",
       "  <tbody>\n",
       "    <tr>\n",
       "      <th>0</th>\n",
       "      <td>Q5</td>\n",
       "      <td>Pundirected_pagerank</td>\n",
       "      <td>0.018951</td>\n",
       "      <td>Q5-Pundirected_pagerank-13580</td>\n",
       "      <td>'human'@en</td>\n",
       "      <td>NaN</td>\n",
       "    </tr>\n",
       "    <tr>\n",
       "      <th>1</th>\n",
       "      <td>Q5-Pundirected_pagerank-13580</td>\n",
       "      <td>P1545</td>\n",
       "      <td>1.000000</td>\n",
       "      <td>Q5-Pundirected_pagerank-13580-P1545-6b86b2</td>\n",
       "      <td>NaN</td>\n",
       "      <td>'series ordinal'@en</td>\n",
       "    </tr>\n",
       "    <tr>\n",
       "      <th>2</th>\n",
       "      <td>Q30</td>\n",
       "      <td>Pundirected_pagerank</td>\n",
       "      <td>0.014160</td>\n",
       "      <td>Q30-Pundirected_pagerank-497</td>\n",
       "      <td>'United States of America'@en</td>\n",
       "      <td>NaN</td>\n",
       "    </tr>\n",
       "    <tr>\n",
       "      <th>3</th>\n",
       "      <td>Q30-Pundirected_pagerank-497</td>\n",
       "      <td>P1545</td>\n",
       "      <td>2.000000</td>\n",
       "      <td>Q30-Pundirected_pagerank-497-P1545-d4735e</td>\n",
       "      <td>NaN</td>\n",
       "      <td>'series ordinal'@en</td>\n",
       "    </tr>\n",
       "    <tr>\n",
       "      <th>4</th>\n",
       "      <td>Q6581097</td>\n",
       "      <td>Pundirected_pagerank</td>\n",
       "      <td>0.008022</td>\n",
       "      <td>Q6581097-Pundirected_pagerank-13577</td>\n",
       "      <td>'male'@en</td>\n",
       "      <td>NaN</td>\n",
       "    </tr>\n",
       "    <tr>\n",
       "      <th>5</th>\n",
       "      <td>Q6581097-Pundirected_pagerank-13577</td>\n",
       "      <td>P1545</td>\n",
       "      <td>3.000000</td>\n",
       "      <td>Q6581097-Pundirected_pagerank-13577-P1545-4e0740</td>\n",
       "      <td>NaN</td>\n",
       "      <td>'series ordinal'@en</td>\n",
       "    </tr>\n",
       "    <tr>\n",
       "      <th>6</th>\n",
       "      <td>Q15221623</td>\n",
       "      <td>Pundirected_pagerank</td>\n",
       "      <td>0.005540</td>\n",
       "      <td>Q15221623-Pundirected_pagerank-19538</td>\n",
       "      <td>'bilateral relation'@en</td>\n",
       "      <td>NaN</td>\n",
       "    </tr>\n",
       "    <tr>\n",
       "      <th>7</th>\n",
       "      <td>Q15221623-Pundirected_pagerank-19538</td>\n",
       "      <td>P1545</td>\n",
       "      <td>4.000000</td>\n",
       "      <td>Q15221623-Pundirected_pagerank-19538-P1545-4b2277</td>\n",
       "      <td>NaN</td>\n",
       "      <td>'series ordinal'@en</td>\n",
       "    </tr>\n",
       "    <tr>\n",
       "      <th>8</th>\n",
       "      <td>Q1860</td>\n",
       "      <td>Pundirected_pagerank</td>\n",
       "      <td>0.004913</td>\n",
       "      <td>Q1860-Pundirected_pagerank-3917</td>\n",
       "      <td>'English'@en</td>\n",
       "      <td>NaN</td>\n",
       "    </tr>\n",
       "    <tr>\n",
       "      <th>9</th>\n",
       "      <td>Q1860-Pundirected_pagerank-3917</td>\n",
       "      <td>P1545</td>\n",
       "      <td>5.000000</td>\n",
       "      <td>Q1860-Pundirected_pagerank-3917-P1545-ef2d12</td>\n",
       "      <td>NaN</td>\n",
       "      <td>'series ordinal'@en</td>\n",
       "    </tr>\n",
       "  </tbody>\n",
       "</table>\n",
       "</div>"
      ],
      "text/plain": [
       "                                  node1                 label     node2  \\\n",
       "0                                    Q5  Pundirected_pagerank  0.018951   \n",
       "1         Q5-Pundirected_pagerank-13580                 P1545  1.000000   \n",
       "2                                   Q30  Pundirected_pagerank  0.014160   \n",
       "3          Q30-Pundirected_pagerank-497                 P1545  2.000000   \n",
       "4                              Q6581097  Pundirected_pagerank  0.008022   \n",
       "5   Q6581097-Pundirected_pagerank-13577                 P1545  3.000000   \n",
       "6                             Q15221623  Pundirected_pagerank  0.005540   \n",
       "7  Q15221623-Pundirected_pagerank-19538                 P1545  4.000000   \n",
       "8                                 Q1860  Pundirected_pagerank  0.004913   \n",
       "9       Q1860-Pundirected_pagerank-3917                 P1545  5.000000   \n",
       "\n",
       "                                                  id  \\\n",
       "0                      Q5-Pundirected_pagerank-13580   \n",
       "1         Q5-Pundirected_pagerank-13580-P1545-6b86b2   \n",
       "2                       Q30-Pundirected_pagerank-497   \n",
       "3          Q30-Pundirected_pagerank-497-P1545-d4735e   \n",
       "4                Q6581097-Pundirected_pagerank-13577   \n",
       "5   Q6581097-Pundirected_pagerank-13577-P1545-4e0740   \n",
       "6               Q15221623-Pundirected_pagerank-19538   \n",
       "7  Q15221623-Pundirected_pagerank-19538-P1545-4b2277   \n",
       "8                    Q1860-Pundirected_pagerank-3917   \n",
       "9       Q1860-Pundirected_pagerank-3917-P1545-ef2d12   \n",
       "\n",
       "                     node1;label          label;label  \n",
       "0                     'human'@en                  NaN  \n",
       "1                            NaN  'series ordinal'@en  \n",
       "2  'United States of America'@en                  NaN  \n",
       "3                            NaN  'series ordinal'@en  \n",
       "4                      'male'@en                  NaN  \n",
       "5                            NaN  'series ordinal'@en  \n",
       "6        'bilateral relation'@en                  NaN  \n",
       "7                            NaN  'series ordinal'@en  \n",
       "8                   'English'@en                  NaN  \n",
       "9                            NaN  'series ordinal'@en  "
      ]
     },
     "execution_count": 17,
     "metadata": {},
     "output_type": "execute_result"
    }
   ],
   "source": [
    "kgtk(\"\"\"\n",
    "    head -i \"$OUT\"/useful_files/metadata.pagerank.undirected.ordinal.tsv.gz / add-labels\n",
    "\"\"\")"
   ]
  },
  {
   "cell_type": "markdown",
   "metadata": {},
   "source": [
    "## Deploy the tutorial files to `$tutorial_files_path`"
   ]
  },
  {
   "cell_type": "markdown",
   "metadata": {},
   "source": [
    "Define the files we want to have in the tutorial"
   ]
  },
  {
   "cell_type": "code",
   "execution_count": 17,
   "metadata": {},
   "outputs": [],
   "source": [
    "tutorial_files_parts = [\n",
    "    \"labels.en.tsv.gz\",\n",
    "    \"aliases.en.tsv.gz\",\n",
    "    \"descriptions.en.tsv.gz\",\n",
    "    \"claims.external-id.tsv.gz\",\n",
    "    \"claims.monolingualtext.tsv.gz\",\n",
    "    \"claims.quantity.tsv.gz\",\n",
    "    \"claims.string.tsv.gz\",\n",
    "    \"claims.time.tsv.gz\",\n",
    "    \"claims.wikibase-item.tsv.gz\",\n",
    "    \"claims.wikibase-property.tsv.gz\",\n",
    "    \"qualifiers.tsv.gz\"\n",
    "]\n",
    "\n",
    "tutorial_files_useful = [\n",
    "    \"derived.P279.tsv.gz\",\n",
    "    \"derived.P279star.tsv.gz\",\n",
    "    \"derived.P31.tsv.gz\",\n",
    "    \"metadata.in_degree.tsv.gz\",\n",
    "    \"metadata.out_degree.tsv.gz\"\n",
    "]"
   ]
  },
  {
   "cell_type": "markdown",
   "metadata": {},
   "source": [
    "Deploy the files from the partition and useful notebooks. "
   ]
  },
  {
   "cell_type": "code",
   "execution_count": 18,
   "metadata": {},
   "outputs": [],
   "source": [
    "for file in tutorial_files_parts:\n",
    "    path = \"$OUT/parts/\" + file\n",
    "    !cp -p {path} $tutorial_files_path\n",
    "\n",
    "for file in tutorial_files_useful:\n",
    "    path = \"$OUT/useful_files/\" + file\n",
    "    !cp -p {path} $tutorial_files_path"
   ]
  },
  {
   "cell_type": "markdown",
   "metadata": {},
   "source": [
    "Overwrite the original pagerank files with the ones that include ordinal"
   ]
  },
  {
   "cell_type": "code",
   "execution_count": 39,
   "metadata": {},
   "outputs": [],
   "source": [
    "!cp -p $OUT/useful_files/metadata.pagerank.directed.ordinal.tsv.gz $tutorial_files_path/metadata.pagerank.directed.tsv.gz\n",
    "!cp -p $OUT/useful_files/metadata.pagerank.undirected.ordinal.tsv.gz $tutorial_files_path/metadata.pagerank.undirected.tsv.gz "
   ]
  },
  {
   "cell_type": "markdown",
   "metadata": {},
   "source": [
    "Important to deply the custom KGTK properties file. Copy using KGTK to conveniently compress the file."
   ]
  },
  {
   "cell_type": "code",
   "execution_count": 16,
   "metadata": {},
   "outputs": [],
   "source": [
    "kgtk(\"\"\"\n",
    "    cat \n",
    "        -i \"$kgtk_path\"/kgtk-properties/kgtk.properties.tsv \n",
    "        -i \"$OUT\"/parts/metadata.property.datatypes.tsv.gz\n",
    "        -o \"$tutorial_files_path\"/metadata.property.datatypes.tsv.gz\n",
    "\"\"\")"
   ]
  },
  {
   "cell_type": "code",
   "execution_count": 41,
   "metadata": {},
   "outputs": [
    {
     "name": "stdout",
     "output_type": "stream",
     "text": [
      "total 79304\n",
      "-rw-r--r--  1 pedroszekely  staff   1166435 Oct  8 13:40 aliases.en.tsv.gz\n",
      "-rw-r--r--  1 pedroszekely  staff  12290024 Oct  8 13:40 claims.external-id.tsv.gz\n",
      "-rw-r--r--  1 pedroszekely  staff    928096 Oct  8 13:40 claims.monolingualtext.tsv.gz\n",
      "-rw-r--r--  1 pedroszekely  staff   1853807 Oct  8 13:40 claims.quantity.tsv.gz\n",
      "-rw-r--r--  1 pedroszekely  staff    970374 Oct  8 13:41 claims.string.tsv.gz\n",
      "-rw-r--r--  1 pedroszekely  staff    660098 Oct  8 13:41 claims.time.tsv.gz\n",
      "-rw-r--r--  1 pedroszekely  staff   5458682 Oct  8 13:41 claims.wikibase-item.tsv.gz\n",
      "-rw-r--r--  1 pedroszekely  staff     91306 Oct  8 13:41 claims.wikibase-property.tsv.gz\n",
      "-rw-r--r--  1 pedroszekely  staff    326969 Oct  8 13:42 derived.P279.tsv.gz\n",
      "-rw-r--r--  1 pedroszekely  staff   2649699 Oct  8 13:42 derived.P279star.tsv.gz\n",
      "-rw-r--r--  1 pedroszekely  staff   1006728 Oct  8 13:41 derived.P31.tsv.gz\n",
      "-rw-r--r--  1 pedroszekely  staff   1157497 Oct  8 13:39 descriptions.tsv.gz\n",
      "-rw-r--r--  1 pedroszekely  staff      1252 Oct  8 17:09 kgtk.properties.tsv.gz\n",
      "-rw-r--r--  1 pedroszekely  staff    885121 Oct  8 13:40 labels.en.tsv.gz\n",
      "-rw-r--r--  1 pedroszekely  staff    274394 Oct  8 13:43 metadata.in_degree.tsv.gz\n",
      "-rw-r--r--  1 pedroszekely  staff    496777 Oct  8 13:42 metadata.out_degree.tsv.gz\n",
      "-rw-r--r--  1 pedroszekely  staff   1606082 Oct  8 13:43 metadata.pagerank.directed.tsv.gz\n",
      "-rw-r--r--  1 pedroszekely  staff   1865466 Oct  8 13:43 metadata.pagerank.undirected.tsv.gz\n",
      "-rw-r--r--  1 pedroszekely  staff     19569 Oct  8 13:39 metadata.property.datatypes.tsv.gz\n",
      "-rw-r--r--  1 pedroszekely  staff   5151491 Oct  8 13:40 qualifiers.tsv.gz\n"
     ]
    }
   ],
   "source": [
    "!ls -l \"$tutorial_files_path\""
   ]
  },
  {
   "cell_type": "markdown",
   "metadata": {},
   "source": [
    "Create an `all.tsv.gz` file"
   ]
  },
  {
   "cell_type": "code",
   "execution_count": 42,
   "metadata": {},
   "outputs": [
    {
     "name": "stdout",
     "output_type": "stream",
     "text": [
      "CPU times: user 250 ms, sys: 85.7 ms, total: 336 ms\n",
      "Wall time: 21.8 s\n"
     ]
    }
   ],
   "source": [
    "%%time\n",
    "!kgtk cat -i \"$tutorial_files_path\"/*.tsv.gz -o \"$tutorial_files_path\"/all.tsv.gz"
   ]
  },
  {
   "cell_type": "markdown",
   "metadata": {},
   "source": [
    "Peek at the file"
   ]
  },
  {
   "cell_type": "code",
   "execution_count": 43,
   "metadata": {},
   "outputs": [
    {
     "data": {
      "text/html": [
       "<div>\n",
       "<style scoped>\n",
       "    .dataframe tbody tr th:only-of-type {\n",
       "        vertical-align: middle;\n",
       "    }\n",
       "\n",
       "    .dataframe tbody tr th {\n",
       "        vertical-align: top;\n",
       "    }\n",
       "\n",
       "    .dataframe thead th {\n",
       "        text-align: right;\n",
       "    }\n",
       "</style>\n",
       "<table border=\"1\" class=\"dataframe\">\n",
       "  <thead>\n",
       "    <tr style=\"text-align: right;\">\n",
       "      <th></th>\n",
       "      <th>node1</th>\n",
       "      <th>label</th>\n",
       "      <th>node2</th>\n",
       "      <th>id</th>\n",
       "      <th>node2;wikidatatype</th>\n",
       "    </tr>\n",
       "  </thead>\n",
       "  <tbody>\n",
       "    <tr>\n",
       "      <th>0</th>\n",
       "      <td>P10</td>\n",
       "      <td>alias</td>\n",
       "      <td>'gif'@en</td>\n",
       "      <td>P10-alias-en-282226-0</td>\n",
       "      <td>NaN</td>\n",
       "    </tr>\n",
       "    <tr>\n",
       "      <th>1</th>\n",
       "      <td>P10</td>\n",
       "      <td>alias</td>\n",
       "      <td>'animation'@en</td>\n",
       "      <td>P10-alias-en-2f86d8-0</td>\n",
       "      <td>NaN</td>\n",
       "    </tr>\n",
       "    <tr>\n",
       "      <th>2</th>\n",
       "      <td>P10</td>\n",
       "      <td>alias</td>\n",
       "      <td>'media'@en</td>\n",
       "      <td>P10-alias-en-c1427e-0</td>\n",
       "      <td>NaN</td>\n",
       "    </tr>\n",
       "    <tr>\n",
       "      <th>3</th>\n",
       "      <td>P10</td>\n",
       "      <td>alias</td>\n",
       "      <td>'trailer (Commons)'@en</td>\n",
       "      <td>P10-alias-en-c61ab1-0</td>\n",
       "      <td>NaN</td>\n",
       "    </tr>\n",
       "    <tr>\n",
       "      <th>4</th>\n",
       "      <td>P1001</td>\n",
       "      <td>alias</td>\n",
       "      <td>'belongs to jurisdiction'@en</td>\n",
       "      <td>P1001-alias-en-0dd7ce-0</td>\n",
       "      <td>NaN</td>\n",
       "    </tr>\n",
       "    <tr>\n",
       "      <th>5</th>\n",
       "      <td>P1001</td>\n",
       "      <td>alias</td>\n",
       "      <td>'linked to jurisdiction'@en</td>\n",
       "      <td>P1001-alias-en-106818-0</td>\n",
       "      <td>NaN</td>\n",
       "    </tr>\n",
       "    <tr>\n",
       "      <th>6</th>\n",
       "      <td>P1001</td>\n",
       "      <td>alias</td>\n",
       "      <td>'of jurisdiction'@en</td>\n",
       "      <td>P1001-alias-en-7e4abe-0</td>\n",
       "      <td>NaN</td>\n",
       "    </tr>\n",
       "    <tr>\n",
       "      <th>7</th>\n",
       "      <td>P1001</td>\n",
       "      <td>alias</td>\n",
       "      <td>'applied to jurisdiction'@en</td>\n",
       "      <td>P1001-alias-en-89ed18-0</td>\n",
       "      <td>NaN</td>\n",
       "    </tr>\n",
       "    <tr>\n",
       "      <th>8</th>\n",
       "      <td>P1001</td>\n",
       "      <td>alias</td>\n",
       "      <td>'jurisdiction'@en</td>\n",
       "      <td>P1001-alias-en-a524ab-0</td>\n",
       "      <td>NaN</td>\n",
       "    </tr>\n",
       "    <tr>\n",
       "      <th>9</th>\n",
       "      <td>P1001</td>\n",
       "      <td>alias</td>\n",
       "      <td>'valid in jurisdiction'@en</td>\n",
       "      <td>P1001-alias-en-ca2e7c-0</td>\n",
       "      <td>NaN</td>\n",
       "    </tr>\n",
       "  </tbody>\n",
       "</table>\n",
       "</div>"
      ],
      "text/plain": [
       "   node1  label                         node2                       id  \\\n",
       "0    P10  alias                      'gif'@en    P10-alias-en-282226-0   \n",
       "1    P10  alias                'animation'@en    P10-alias-en-2f86d8-0   \n",
       "2    P10  alias                    'media'@en    P10-alias-en-c1427e-0   \n",
       "3    P10  alias        'trailer (Commons)'@en    P10-alias-en-c61ab1-0   \n",
       "4  P1001  alias  'belongs to jurisdiction'@en  P1001-alias-en-0dd7ce-0   \n",
       "5  P1001  alias   'linked to jurisdiction'@en  P1001-alias-en-106818-0   \n",
       "6  P1001  alias          'of jurisdiction'@en  P1001-alias-en-7e4abe-0   \n",
       "7  P1001  alias  'applied to jurisdiction'@en  P1001-alias-en-89ed18-0   \n",
       "8  P1001  alias             'jurisdiction'@en  P1001-alias-en-a524ab-0   \n",
       "9  P1001  alias    'valid in jurisdiction'@en  P1001-alias-en-ca2e7c-0   \n",
       "\n",
       "   node2;wikidatatype  \n",
       "0                 NaN  \n",
       "1                 NaN  \n",
       "2                 NaN  \n",
       "3                 NaN  \n",
       "4                 NaN  \n",
       "5                 NaN  \n",
       "6                 NaN  \n",
       "7                 NaN  \n",
       "8                 NaN  \n",
       "9                 NaN  "
      ]
     },
     "execution_count": 43,
     "metadata": {},
     "output_type": "execute_result"
    }
   ],
   "source": [
    "kgtk(\"\"\"\n",
    "    head -i \"$tutorial_files_path\"/all.tsv.gz\n",
    "\"\"\")"
   ]
  },
  {
   "cell_type": "markdown",
   "metadata": {},
   "source": [
    "Run the KGTK validator on the new knowledge graph"
   ]
  },
  {
   "cell_type": "code",
   "execution_count": 15,
   "metadata": {},
   "outputs": [
    {
     "name": "stdout",
     "output_type": "stream",
     "text": [
      "\n",
      "====================================================\n",
      "Data lines read: 2263488\n",
      "Data lines passed: 2263488\n",
      "CPU times: user 1.47 s, sys: 458 ms, total: 1.93 s\n",
      "Wall time: 2min 1s\n"
     ]
    }
   ],
   "source": [
    "%%time\n",
    "!kgtk validate -i \"$tutorial_files_path\"/all.tsv.gz \\\n",
    "    --allow-wikidata-lq-strings True \\\n",
    "    --ignore-minimum-year True \\\n",
    "    --ignore-maximum-year True"
   ]
  },
  {
   "cell_type": "code",
   "execution_count": null,
   "metadata": {},
   "outputs": [],
   "source": []
  },
  {
   "cell_type": "markdown",
   "metadata": {},
   "source": [
    "### Somehow `kgtk cat` is broken, as it returns nothing. \n",
    "The command works if I invoke it before running the config cells at the top, but stops working after I run the config cells, very strange."
   ]
  },
  {
   "cell_type": "code",
   "execution_count": 25,
   "metadata": {},
   "outputs": [
    {
     "name": "stdout",
     "output_type": "stream",
     "text": [
      "node1\tlabel\tnode2\tid\n",
      "P10\tvertex_in_degree\t0\tP10-vertex_in_degree-0\n",
      "P10\tvertex_out_degree\t1\tP10-vertex_out_degree-1\n",
      "P10\tPdirected_pagerank\t2.7060194813141665e-06\tP10-Pdirected_pagerank-2\n",
      "Q18610173\tvertex_in_degree\t15\tQ18610173-vertex_in_degree-3\n",
      "Q18610173\tvertex_out_degree\t1\tQ18610173-vertex_out_degree-4\n",
      "Q18610173\tPdirected_pagerank\t1.800179459943962e-05\tQ18610173-Pdirected_pagerank-5\n",
      "P1000\tvertex_in_degree\t0\tP1000-vertex_in_degree-6\n",
      "P1000\tvertex_out_degree\t1\tP1000-vertex_out_degree-7\n",
      "P1000\tPdirected_pagerank\t2.7060194813141665e-06\tP1000-Pdirected_pagerank-8\n",
      "zcat: error writing to output: Broken pipe\n"
     ]
    }
   ],
   "source": [
    "!zcat < $OUT/useful_files/metadata.pagerank.directed.tsv.gz | head"
   ]
  },
  {
   "cell_type": "code",
   "execution_count": 26,
   "metadata": {},
   "outputs": [
    {
     "data": {
      "text/html": [
       "<div>\n",
       "<style scoped>\n",
       "    .dataframe tbody tr th:only-of-type {\n",
       "        vertical-align: middle;\n",
       "    }\n",
       "\n",
       "    .dataframe tbody tr th {\n",
       "        vertical-align: top;\n",
       "    }\n",
       "\n",
       "    .dataframe thead th {\n",
       "        text-align: right;\n",
       "    }\n",
       "</style>\n",
       "<table border=\"1\" class=\"dataframe\">\n",
       "  <thead>\n",
       "    <tr style=\"text-align: right;\">\n",
       "      <th></th>\n",
       "      <th>node1</th>\n",
       "      <th>label</th>\n",
       "      <th>node2</th>\n",
       "      <th>id</th>\n",
       "    </tr>\n",
       "  </thead>\n",
       "  <tbody>\n",
       "  </tbody>\n",
       "</table>\n",
       "</div>"
      ],
      "text/plain": [
       "Empty DataFrame\n",
       "Columns: [node1, label, node2, id]\n",
       "Index: []"
      ]
     },
     "execution_count": 26,
     "metadata": {},
     "output_type": "execute_result"
    }
   ],
   "source": [
    "kgtk(\"\"\"\n",
    "    cat -i  $OUT/useful_files/metadata.pagerank.directed.tsv.gz \n",
    "\"\"\")"
   ]
  },
  {
   "cell_type": "code",
   "execution_count": 27,
   "metadata": {},
   "outputs": [
    {
     "name": "stdout",
     "output_type": "stream",
     "text": [
      "^C\n",
      "\n",
      "Keyboard interrupt in cat -i /Users/pedroszekely/Downloads/kypher/projects/tutorial-derived-graphs/useful_files/metadata.pagerank.directed.tsv.gz.\n"
     ]
    }
   ],
   "source": [
    "!kgtk cat -i /Users/pedroszekely/Downloads/kypher/projects/tutorial-derived-graphs/useful_files/metadata.pagerank.directed.tsv.gz  | head"
   ]
  }
 ],
 "metadata": {
  "kernelspec": {
   "display_name": "kgtk-env",
   "language": "python",
   "name": "kgtk-env"
  },
  "language_info": {
   "codemirror_mode": {
    "name": "ipython",
    "version": 3
   },
   "file_extension": ".py",
   "mimetype": "text/x-python",
   "name": "python",
   "nbconvert_exporter": "python",
   "pygments_lexer": "ipython3",
   "version": "3.8.11"
  }
 },
 "nbformat": 4,
 "nbformat_minor": 4
}
