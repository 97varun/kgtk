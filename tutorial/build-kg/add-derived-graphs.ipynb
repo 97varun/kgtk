{
 "cells": [
  {
   "cell_type": "markdown",
   "metadata": {},
   "source": [
    "# Add Derived Graphs To The Tutorial Graph\n",
    "\n"
   ]
  },
  {
   "cell_type": "code",
   "execution_count": 1,
   "metadata": {},
   "outputs": [],
   "source": [
    "import io\n",
    "import os\n",
    "import subprocess\n",
    "import sys\n",
    "\n",
    "import numpy as np\n",
    "import pandas as pd\n",
    "from IPython.display import display, HTML\n",
    "\n",
    "import papermill as pm\n",
    "\n",
    "sys.path.insert(0,'../..')\n",
    "from configure_kgtk_notebooks import ConfigureKGTK\n",
    "\n",
    "from kgtk.functions import kgtk, kypher"
   ]
  },
  {
   "cell_type": "code",
   "execution_count": 2,
   "metadata": {
    "tags": [
     "parameters"
    ]
   },
   "outputs": [],
   "source": [
    "# Parameters\n",
    "\n",
    "kgtk_path = \"/Users/pedroszekely/Documents/GitHub/kgtk\"\n",
    "\n",
    "# Folder on local machine where to create the output and temporary folders\n",
    "input_path = \"/Users/pedroszekely/Downloads/kypher/projects/build-tutorial\"\n",
    "output_path = \"/Users/pedroszekely/Downloads/kypher/projects\"\n",
    "project_name = \"tutorial-derived-graphs\"\n",
    "tutorial_files_path = \"/Users/pedroszekely/Documents/GitHub/kgtk-tutorial-files/datasets/arnold\""
   ]
  },
  {
   "cell_type": "code",
   "execution_count": 3,
   "metadata": {},
   "outputs": [
    {
     "name": "stdout",
     "output_type": "stream",
     "text": [
      "User home: /Users/pedroszekely\n",
      "Current dir: /Users/pedroszekely/Documents/GitHub/kgtk/tutorial/build-kg\n",
      "KGTK dir: /Users/pedroszekely/Documents/GitHub/kgtk\n",
      "Use-cases dir: /Users/pedroszekely/Documents/GitHub/kgtk/use-cases\n"
     ]
    }
   ],
   "source": [
    "files = [\n",
    "    \"all\"\n",
    "]\n",
    "ck = ConfigureKGTK(kgtk_path=kgtk_path)\n",
    "ck.configure_kgtk(input_graph_path=input_path,\n",
    "                  output_path=output_path,\n",
    "                  project_name=project_name)"
   ]
  },
  {
   "cell_type": "code",
   "execution_count": 4,
   "metadata": {},
   "outputs": [
    {
     "name": "stdout",
     "output_type": "stream",
     "text": [
      "kgtk: kgtk\n",
      "USE_CASES_DIR: /Users/pedroszekely/Documents/GitHub/kgtk/use-cases\n",
      "EXAMPLES_DIR: /Users/pedroszekely/Documents/GitHub/kgtk/examples\n",
      "TEMP: /Users/pedroszekely/Downloads/kypher/projects/tutorial-derived-graphs/temp.tutorial-derived-graphs\n",
      "OUT: /Users/pedroszekely/Downloads/kypher/projects/tutorial-derived-graphs\n",
      "STORE: /Users/pedroszekely/Downloads/kypher/projects/tutorial-derived-graphs/temp.tutorial-derived-graphs/wikidata.sqlite3.db\n",
      "GRAPH: /Users/pedroszekely/Downloads/kypher/projects/build-tutorial\n",
      "kypher: kgtk query --graph-cache /Users/pedroszekely/Downloads/kypher/projects/tutorial-derived-graphs/temp.tutorial-derived-graphs/wikidata.sqlite3.db\n",
      "all: /Users/pedroszekely/Downloads/kypher/projects/build-tutorial/all.tsv.gz\n"
     ]
    }
   ],
   "source": [
    "ck.print_env_variables(files)"
   ]
  },
  {
   "cell_type": "markdown",
   "metadata": {},
   "source": [
    "Turn on debugging for kypher"
   ]
  },
  {
   "cell_type": "code",
   "execution_count": 5,
   "metadata": {},
   "outputs": [],
   "source": [
    "os.environ['tutorial_files_path'] = tutorial_files_path\n",
    "os.environ['kgtk_path'] = kgtk_path\n",
    "os.environ['KGTK_GRAPH_CACHE'] = os.environ['STORE']\n",
    "os.environ['KGTK_LABEL_FILE'] = os.environ['OUT'] + \"/parts/labels.en.tsv.gz\"\n",
    "os.environ['KGTK_OPTION_DEBUG'] = \"true\""
   ]
  },
  {
   "cell_type": "markdown",
   "metadata": {},
   "source": [
    "Load all my files into the kypher cache so that all graph aliases are defined"
   ]
  },
  {
   "cell_type": "code",
   "execution_count": 6,
   "metadata": {},
   "outputs": [
    {
     "name": "stdout",
     "output_type": "stream",
     "text": [
      "kgtk query --graph-cache /Users/pedroszekely/Downloads/kypher/projects/tutorial-derived-graphs/temp.tutorial-derived-graphs/wikidata.sqlite3.db -i \"/Users/pedroszekely/Downloads/kypher/projects/build-tutorial/all.tsv.gz\" --as all  --limit 3\n",
      "[2021-10-10 11:51:26 query]: SQL Translation:\n",
      "---------------------------------------------\n",
      "  SELECT *\n",
      "     FROM graph_27 AS graph_27_c1\n",
      "     LIMIT ?\n",
      "  PARAS: [3]\n",
      "---------------------------------------------\n",
      "node1\tlabel\tnode2\tid\n",
      "P10\tP31\tQ18610173\tP10-P31-Q18610173-85ef4d24-0\n",
      "P1000\tP31\tQ18608871\tP1000-P31-Q18608871-093affb5-0\n",
      "P1001\tP1647\tP276\tP1001-P1647-P276-e4e44f83-0\n"
     ]
    }
   ],
   "source": [
    "ck.load_files_into_cache(file_list=files)"
   ]
  },
  {
   "cell_type": "code",
   "execution_count": 7,
   "metadata": {},
   "outputs": [
    {
     "name": "stdout",
     "output_type": "stream",
     "text": [
      "/Users/pedroszekely/Downloads/kypher/projects/tutorial-derived-graphs\n"
     ]
    }
   ],
   "source": [
    "%cd {os.environ['OUT']}"
   ]
  },
  {
   "cell_type": "markdown",
   "metadata": {},
   "source": [
    "## Run partition notebook\n",
    "\n",
    "We need the parts to run the Useful Files notebook"
   ]
  },
  {
   "cell_type": "code",
   "execution_count": 8,
   "metadata": {},
   "outputs": [
    {
     "data": {
      "application/vnd.jupyter.widget-view+json": {
       "model_id": "a36e9d35693a4d3ea546ccff53b14e4b",
       "version_major": 2,
       "version_minor": 0
      },
      "text/plain": [
       "Executing:   0%|          | 0/49 [00:00<?, ?cell/s]"
      ]
     },
     "metadata": {},
     "output_type": "display_data"
    },
    {
     "data": {
      "text/plain": [
       "''"
      ]
     },
     "execution_count": 8,
     "metadata": {},
     "output_type": "execute_result"
    }
   ],
   "source": [
    "pm.execute_notebook(\n",
    "    os.environ[\"EXAMPLES_DIR\"] + \"/partition-wikidata.ipynb\",\n",
    "    os.environ[\"TEMP\"] + \"/partition-wikidata.out.ipynb\",\n",
    "    parameters=dict(\n",
    "        wikidata_input_path = input_path + \"/all.tsv.gz\",\n",
    "        wikidata_parts_path = os.environ[\"OUT\"] + \"/parts\",\n",
    "        temp_folder_path = os.environ[\"OUT\"] + \"/parts/temp\",\n",
    "        sort_extras = \"--buffer-size 30% --temporary-directory $OUT/parts/temp\",\n",
    "        verbose = False,\n",
    "        gzip_command = 'gzip'\n",
    "    )\n",
    ")\n",
    ";"
   ]
  },
  {
   "cell_type": "markdown",
   "metadata": {},
   "source": [
    "Show the files after partition"
   ]
  },
  {
   "cell_type": "code",
   "execution_count": 9,
   "metadata": {},
   "outputs": [
    {
     "name": "stdout",
     "output_type": "stream",
     "text": [
      "aliases.en.tsv.gz                   metadata.property.datatypes.tsv.gz\n",
      "aliases.tsv.gz                      metadata.types.tsv.gz\n",
      "all.tsv.gz                          qualifiers.commonsMedia.tsv.gz\n",
      "claims.commonsMedia.tsv.gz          qualifiers.external-id.tsv.gz\n",
      "claims.external-id.tsv.gz           qualifiers.geo-shape.tsv.gz\n",
      "claims.geo-shape.tsv.gz             qualifiers.globe-coordinate.tsv.gz\n",
      "claims.globe-coordinate.tsv.gz      qualifiers.math.tsv.gz\n",
      "claims.math.tsv.gz                  qualifiers.monolingualtext.tsv.gz\n",
      "claims.monolingualtext.tsv.gz       qualifiers.musical-notation.tsv.gz\n",
      "claims.musical-notation.tsv.gz      qualifiers.quantity.tsv.gz\n",
      "claims.other.tsv.gz                 qualifiers.string.tsv.gz\n",
      "claims.quantity.tsv.gz              qualifiers.tabular-data.tsv.gz\n",
      "claims.string.tsv.gz                qualifiers.time.tsv.gz\n",
      "claims.tabular-data.tsv.gz          qualifiers.tsv.gz\n",
      "claims.time.tsv.gz                  qualifiers.url.tsv.gz\n",
      "claims.tsv.gz                       qualifiers.wikibase-form.tsv.gz\n",
      "claims.url.tsv.gz                   qualifiers.wikibase-item.tsv.gz\n",
      "claims.wikibase-form.tsv.gz         qualifiers.wikibase-lexeme.tsv.gz\n",
      "claims.wikibase-item.tsv.gz         qualifiers.wikibase-property.tsv.gz\n",
      "claims.wikibase-lexeme.tsv.gz       qualifiers.wikibase-sense.tsv.gz\n",
      "claims.wikibase-property.tsv.gz     sitelinks.en.tsv.gz\n",
      "claims.wikibase-sense.tsv.gz        sitelinks.qualifiers.en.tsv.gz\n",
      "descriptions.en.tsv.gz              sitelinks.qualifiers.tsv.gz\n",
      "descriptions.tsv.gz                 sitelinks.tsv.gz\n",
      "labels.en.tsv.gz                    \u001b[34mtemp\u001b[m\u001b[m\n",
      "labels.tsv.gz\n"
     ]
    }
   ],
   "source": [
    "!ls $OUT/parts"
   ]
  },
  {
   "cell_type": "markdown",
   "metadata": {},
   "source": [
    "Deploy the parts to `$tutorial_files_path`"
   ]
  },
  {
   "cell_type": "markdown",
   "metadata": {},
   "source": [
    "## Run useful files notebook"
   ]
  },
  {
   "cell_type": "code",
   "execution_count": null,
   "metadata": {},
   "outputs": [
    {
     "data": {
      "application/vnd.jupyter.widget-view+json": {
       "model_id": "292e90e5d41c48c492136100a83d0f5e",
       "version_major": 2,
       "version_minor": 0
      },
      "text/plain": [
       "Executing:   0%|          | 0/157 [00:00<?, ?cell/s]"
      ]
     },
     "metadata": {},
     "output_type": "display_data"
    }
   ],
   "source": [
    "pm.execute_notebook(\n",
    "    os.environ[\"USE_CASES_DIR\"] + \"/Wikidata Useful Files.ipynb\",\n",
    "    os.environ[\"TEMP\"] + \"/Wikidata Useful Files Out.ipynb\",\n",
    "    parameters=dict(\n",
    "        output_path = os.environ[\"OUT\"],\n",
    "        output_folder = \"useful_files\",\n",
    "        temp_folder = \"temp.useful_files\",\n",
    "        wiki_root_folder = os.environ[\"OUT\"] + \"/parts/\",\n",
    "        cache_path = os.environ[\"TEMP\"],\n",
    "        languages = 'en',\n",
    "        compute_pagerank = True,\n",
    "        compute_degrees = True,\n",
    "        compute_hits = False, \n",
    "        delete_database = False,\n",
    "        debug = \"false\"\n",
    "    )\n",
    ")\n",
    ";"
   ]
  },
  {
   "cell_type": "code",
   "execution_count": null,
   "metadata": {},
   "outputs": [],
   "source": [
    "!ls -l $OUT/useful_files"
   ]
  },
  {
   "cell_type": "markdown",
   "metadata": {},
   "source": [
    "## Enhance pagerank files to include ordinal"
   ]
  },
  {
   "cell_type": "markdown",
   "metadata": {},
   "source": [
    "Approach:\n",
    "- Load the `directed_pagerank` from the metadata file into a dataframe (using kypher because somehow cat is broken, sigh\n",
    "- Sort the file by pagerank descending\n",
    "- Add a new column with header `P1545` (ordinal) and store the ranks in this column\n",
    "- Store the result in a temporary file."
   ]
  },
  {
   "cell_type": "code",
   "execution_count": null,
   "metadata": {},
   "outputs": [],
   "source": [
    "%%time\n",
    "directed_pagerank = kgtk(\"\"\"\n",
    "    query -i $OUT/useful_files/metadata.pagerank.directed.tsv.gz \n",
    "    --match '(n1)-[l:Pdirected_pagerank]->(pagerank)'\n",
    "\"\"\")\n",
    "\n",
    "directed_pagerank_sorted = directed_pagerank.sort_values(\"node2\", ascending=False)\n",
    "directed_pagerank_sorted.insert(0, 'P1545', range(1, 1 + len(directed_pagerank_sorted)))\n",
    "directed_pagerank_sorted.to_csv(f\"{os.environ['TEMP']}/directed-pagerank.ordinal.tsv\", index=False, sep='\\t')\n",
    "directed_pagerank_sorted"
   ]
  },
  {
   "cell_type": "markdown",
   "metadata": {},
   "source": [
    "The temporary file looks good, next steps:\n",
    "- `normalize` to put the qualifiers as extra edges so the file has only `node1/label/node2/id`\n",
    "- `add-ids` as we want all edges to have ids"
   ]
  },
  {
   "cell_type": "code",
   "execution_count": null,
   "metadata": {},
   "outputs": [],
   "source": [
    "kgtk(\"\"\"\n",
    "    normalize -i \"$TEMP\"/directed-pagerank.ordinal.tsv\n",
    "    / add-id --id-style wikidata \n",
    "    -o \"$OUT\"/useful_files/metadata.pagerank.directed.ordinal.tsv.gz\n",
    "\"\"\")"
   ]
  },
  {
   "cell_type": "markdown",
   "metadata": {},
   "source": [
    "Look at the result to confirm that we are generating the data we want."
   ]
  },
  {
   "cell_type": "code",
   "execution_count": null,
   "metadata": {},
   "outputs": [],
   "source": [
    "kgtk(\"\"\"\n",
    "    head -i \"$OUT\"/useful_files/metadata.pagerank.directed.ordinal.tsv.gz / add-labels\n",
    "\"\"\")"
   ]
  },
  {
   "cell_type": "markdown",
   "metadata": {},
   "source": [
    "Repeat the same steps for `undirected_pagerank`"
   ]
  },
  {
   "cell_type": "code",
   "execution_count": null,
   "metadata": {},
   "outputs": [],
   "source": [
    "%%time\n",
    "undirected_pagerank = kgtk(\"\"\"\n",
    "    query -i $OUT/useful_files/metadata.pagerank.undirected.tsv.gz \n",
    "    --match '(n1)-[l:Pundirected_pagerank]->(pagerank)'\n",
    "\"\"\")\n",
    "\n",
    "undirected_pagerank = undirected_pagerank.sort_values(\"node2\", ascending=False)\n",
    "undirected_pagerank.insert(0, 'P1545', range(1, 1 + len(undirected_pagerank)))\n",
    "undirected_pagerank.to_csv(f\"{os.environ['TEMP']}/undirected-pagerank.ordinal.tsv\", index=False, sep='\\t')\n",
    "undirected_pagerank"
   ]
  },
  {
   "cell_type": "code",
   "execution_count": null,
   "metadata": {},
   "outputs": [],
   "source": [
    "kgtk(\"\"\"\n",
    "    normalize -i \"$TEMP\"/undirected-pagerank.ordinal.tsv\n",
    "    / add-id --id-style wikidata \n",
    "    -o \"$OUT\"/useful_files/metadata.pagerank.undirected.ordinal.tsv.gz\n",
    "\"\"\")"
   ]
  },
  {
   "cell_type": "code",
   "execution_count": null,
   "metadata": {},
   "outputs": [],
   "source": [
    "kgtk(\"\"\"\n",
    "    head -i \"$OUT\"/useful_files/metadata.pagerank.undirected.ordinal.tsv.gz / add-labels\n",
    "\"\"\")"
   ]
  },
  {
   "cell_type": "markdown",
   "metadata": {},
   "source": [
    "## Deploy the tutorial files to `$tutorial_files_path`"
   ]
  },
  {
   "cell_type": "markdown",
   "metadata": {},
   "source": [
    "Define the files we want to have in the tutorial"
   ]
  },
  {
   "cell_type": "code",
   "execution_count": null,
   "metadata": {},
   "outputs": [],
   "source": [
    "tutorial_files_parts = [\n",
    "    \"labels.en.tsv.gz\",\n",
    "    \"aliases.en.tsv.gz\",\n",
    "    \"descriptions.en.tsv.gz\",\n",
    "    \"claims.external-id.tsv.gz\",\n",
    "    \"claims.monolingualtext.tsv.gz\",\n",
    "    \"claims.quantity.tsv.gz\",\n",
    "    \"claims.string.tsv.gz\",\n",
    "    \"claims.time.tsv.gz\",\n",
    "    \"claims.wikibase-item.tsv.gz\",\n",
    "    \"claims.wikibase-property.tsv.gz\",\n",
    "    \"qualifiers.tsv.gz\"\n",
    "]\n",
    "\n",
    "tutorial_files_useful = [\n",
    "    \"derived.P279.tsv.gz\",\n",
    "    \"derived.P279star.tsv.gz\",\n",
    "    \"derived.P31.tsv.gz\",\n",
    "    \"metadata.in_degree.tsv.gz\",\n",
    "    \"metadata.out_degree.tsv.gz\"\n",
    "]"
   ]
  },
  {
   "cell_type": "markdown",
   "metadata": {},
   "source": [
    "Deploy the files from the partition and useful notebooks. "
   ]
  },
  {
   "cell_type": "code",
   "execution_count": null,
   "metadata": {},
   "outputs": [],
   "source": [
    "for file in tutorial_files_parts:\n",
    "    path = \"$OUT/parts/\" + file\n",
    "    !cp -p {path} $tutorial_files_path\n",
    "\n",
    "for file in tutorial_files_useful:\n",
    "    path = \"$OUT/useful_files/\" + file\n",
    "    !cp -p {path} $tutorial_files_path"
   ]
  },
  {
   "cell_type": "markdown",
   "metadata": {},
   "source": [
    "Overwrite the original pagerank files with the ones that include ordinal"
   ]
  },
  {
   "cell_type": "code",
   "execution_count": null,
   "metadata": {},
   "outputs": [],
   "source": [
    "!cp -p $OUT/useful_files/metadata.pagerank.directed.ordinal.tsv.gz $tutorial_files_path/metadata.pagerank.directed.tsv.gz\n",
    "!cp -p $OUT/useful_files/metadata.pagerank.undirected.ordinal.tsv.gz $tutorial_files_path/metadata.pagerank.undirected.tsv.gz "
   ]
  },
  {
   "cell_type": "markdown",
   "metadata": {},
   "source": [
    "Important to deply the custom KGTK properties file. Copy using KGTK to conveniently compress the file."
   ]
  },
  {
   "cell_type": "code",
   "execution_count": null,
   "metadata": {},
   "outputs": [],
   "source": [
    "kgtk(\"\"\"\n",
    "    cat \n",
    "        -i \"$kgtk_path\"/kgtk-properties/kgtk.properties.tsv \n",
    "        -i \"$OUT\"/parts/metadata.property.datatypes.tsv.gz\n",
    "        -o \"$tutorial_files_path\"/metadata.property.datatypes.tsv.gz\n",
    "\"\"\")"
   ]
  },
  {
   "cell_type": "code",
   "execution_count": null,
   "metadata": {},
   "outputs": [],
   "source": [
    "!ls -l \"$tutorial_files_path\""
   ]
  },
  {
   "cell_type": "markdown",
   "metadata": {},
   "source": [
    "Create an `all.tsv.gz` file"
   ]
  },
  {
   "cell_type": "code",
   "execution_count": null,
   "metadata": {},
   "outputs": [],
   "source": [
    "%%time\n",
    "all_file_path = os.environ['tutorial_files_path'] + \"/all.tsv.gz\"\n",
    "if os.path.exists(all_file_path):\n",
    "    !rm {all_file_path}\n",
    "!kgtk cat -i \"$tutorial_files_path\"/*.tsv.gz -o {all_file_path}"
   ]
  },
  {
   "cell_type": "markdown",
   "metadata": {},
   "source": [
    "Peek at the file"
   ]
  },
  {
   "cell_type": "code",
   "execution_count": null,
   "metadata": {},
   "outputs": [],
   "source": [
    "kgtk(\"\"\"\n",
    "    head -i \"$tutorial_files_path\"/all.tsv.gz\n",
    "\"\"\")"
   ]
  },
  {
   "cell_type": "markdown",
   "metadata": {},
   "source": [
    "Run the KGTK validator on the new knowledge graph"
   ]
  },
  {
   "cell_type": "code",
   "execution_count": null,
   "metadata": {},
   "outputs": [],
   "source": [
    "%%time\n",
    "!kgtk validate -i \"$tutorial_files_path\"/all.tsv.gz \\\n",
    "    --allow-wikidata-lq-strings True \\\n",
    "    --ignore-minimum-year True \\\n",
    "    --ignore-maximum-year True"
   ]
  },
  {
   "cell_type": "code",
   "execution_count": null,
   "metadata": {},
   "outputs": [],
   "source": []
  },
  {
   "cell_type": "markdown",
   "metadata": {},
   "source": [
    "### Somehow `kgtk cat` is broken, as it returns nothing. \n",
    "The command works if I invoke it before running the config cells at the top, but stops working after I run the config cells, very strange."
   ]
  },
  {
   "cell_type": "code",
   "execution_count": null,
   "metadata": {},
   "outputs": [],
   "source": [
    "!zcat < $OUT/useful_files/metadata.pagerank.directed.tsv.gz | head"
   ]
  },
  {
   "cell_type": "code",
   "execution_count": null,
   "metadata": {},
   "outputs": [],
   "source": [
    "kgtk(\"\"\"\n",
    "    cat -i  $OUT/useful_files/metadata.pagerank.directed.tsv.gz \n",
    "\"\"\")"
   ]
  },
  {
   "cell_type": "code",
   "execution_count": null,
   "metadata": {},
   "outputs": [],
   "source": [
    "!kgtk cat -i /Users/pedroszekely/Downloads/kypher/projects/tutorial-derived-graphs/useful_files/metadata.pagerank.directed.tsv.gz  | head"
   ]
  }
 ],
 "metadata": {
  "kernelspec": {
   "display_name": "kgtk-env",
   "language": "python",
   "name": "kgtk-env"
  },
  "language_info": {
   "codemirror_mode": {
    "name": "ipython",
    "version": 3
   },
   "file_extension": ".py",
   "mimetype": "text/x-python",
   "name": "python",
   "nbconvert_exporter": "python",
   "pygments_lexer": "ipython3",
   "version": "3.8.11"
  }
 },
 "nbformat": 4,
 "nbformat_minor": 4
}
