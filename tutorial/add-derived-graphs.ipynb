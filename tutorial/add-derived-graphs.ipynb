{
 "cells": [
  {
   "cell_type": "markdown",
   "metadata": {},
   "source": [
    "# Add Derived Graphs To The Tutorial Graph\n",
    "\n"
   ]
  },
  {
   "cell_type": "code",
   "execution_count": 1,
   "metadata": {},
   "outputs": [],
   "source": [
    "import io\n",
    "import os\n",
    "import subprocess\n",
    "import sys\n",
    "\n",
    "import numpy as np\n",
    "import pandas as pd\n",
    "from IPython.display import display, HTML\n",
    "\n",
    "import papermill as pm\n",
    "\n",
    "sys.path.insert(0,'..')\n",
    "from configure_kgtk_notebooks import ConfigureKGTK\n",
    "\n",
    "from kgtk.functions import kgtk, kypher"
   ]
  },
  {
   "cell_type": "code",
   "execution_count": 2,
   "metadata": {
    "tags": [
     "parameters"
    ]
   },
   "outputs": [],
   "source": [
    "# Parameters\n",
    "\n",
    "kgtk_path = \"/Users/pedroszekely/Documents/GitHub/kgtk\"\n",
    "\n",
    "# Folder on local machine where to create the output and temporary folders\n",
    "input_path = \"/Users/pedroszekely/Downloads/kypher/projects/build-tutorial\"\n",
    "output_path = \"/Users/pedroszekely/Downloads/kypher/projects\"\n",
    "project_name = \"tutorial-derived-graphs\"\n",
    "tutorial_files_path = \"/Users/pedroszekely/Downloads/kypher/projects/tutorial-files\""
   ]
  },
  {
   "cell_type": "code",
   "execution_count": 3,
   "metadata": {},
   "outputs": [
    {
     "name": "stdout",
     "output_type": "stream",
     "text": [
      "User home: /Users/pedroszekely\n",
      "Current dir: /Users/pedroszekely/Documents/GitHub/kgtk/tutorial\n",
      "KGTK dir: /Users/pedroszekely/Documents/GitHub/kgtk\n",
      "Use-cases dir: /Users/pedroszekely/Documents/GitHub/kgtk/use-cases\n"
     ]
    }
   ],
   "source": [
    "files = [\n",
    "    \"all\"\n",
    "]\n",
    "ck = ConfigureKGTK()\n",
    "ck.configure_kgtk(input_graph_path=input_path,\n",
    "                  output_path=output_path,\n",
    "                  project_name=project_name)"
   ]
  },
  {
   "cell_type": "code",
   "execution_count": 4,
   "metadata": {},
   "outputs": [
    {
     "name": "stdout",
     "output_type": "stream",
     "text": [
      "STORE: /Users/pedroszekely/Downloads/kypher/projects/tutorial-derived-graphs/temp.tutorial-derived-graphs/wikidata.sqlite3.db\n",
      "TEMP: /Users/pedroszekely/Downloads/kypher/projects/tutorial-derived-graphs/temp.tutorial-derived-graphs\n",
      "EXAMPLES_DIR: /Users/pedroszekely/Documents/GitHub/kgtk/examples\n",
      "OUT: /Users/pedroszekely/Downloads/kypher/projects/tutorial-derived-graphs\n",
      "kypher: kgtk query --graph-cache /Users/pedroszekely/Downloads/kypher/projects/tutorial-derived-graphs/temp.tutorial-derived-graphs/wikidata.sqlite3.db\n",
      "kgtk: kgtk\n",
      "GRAPH: /Users/pedroszekely/Downloads/kypher/projects/build-tutorial\n",
      "USE_CASES_DIR: /Users/pedroszekely/Documents/GitHub/kgtk/use-cases\n",
      "all: /Users/pedroszekely/Downloads/kypher/projects/build-tutorial/all.tsv.gz\n"
     ]
    }
   ],
   "source": [
    "ck.print_env_variables(files)"
   ]
  },
  {
   "cell_type": "markdown",
   "metadata": {},
   "source": [
    "Turn on debugging for kypher"
   ]
  },
  {
   "cell_type": "code",
   "execution_count": 5,
   "metadata": {},
   "outputs": [],
   "source": [
    "os.environ['tutorial_files_path'] = tutorial_files_path\n",
    "os.environ['kgtk_path'] = kgtk_path\n",
    "os.environ['KGTK_GRAPH_CACHE'] = os.environ['STORE']\n",
    "os.environ['KGTK_LABEL_FILE'] = os.environ['tutorial_files_path'] + \"/labels.en.tsv.gz\"\n",
    "os.environ['KGTK_OPTION_DEBUG'] = \"true\""
   ]
  },
  {
   "cell_type": "markdown",
   "metadata": {},
   "source": [
    "Load all my files into the kypher cache so that all graph aliases are defined"
   ]
  },
  {
   "cell_type": "code",
   "execution_count": 6,
   "metadata": {},
   "outputs": [
    {
     "name": "stdout",
     "output_type": "stream",
     "text": [
      "kgtk query --graph-cache /Users/pedroszekely/Downloads/kypher/projects/tutorial-derived-graphs/temp.tutorial-derived-graphs/wikidata.sqlite3.db -i \"/Users/pedroszekely/Downloads/kypher/projects/build-tutorial/all.tsv.gz\" --as all  --limit 3\n",
      "[2021-10-06 19:34:58 query]: SQL Translation:\n",
      "---------------------------------------------\n",
      "  SELECT *\n",
      "     FROM graph_1 AS graph_1_c1\n",
      "     LIMIT ?\n",
      "  PARAS: [3]\n",
      "---------------------------------------------\n",
      "node1\tlabel\tnode2\tid\n",
      "P10\tP31\tQ18610173\tP10-P31-Q18610173-85ef4d24-0\n",
      "P1000\tP31\tQ18608871\tP1000-P31-Q18608871-093affb5-0\n",
      "P1001\tP1647\tP276\tP1001-P1647-P276-e4e44f83-0\n"
     ]
    }
   ],
   "source": [
    "ck.load_files_into_cache(file_list=files)"
   ]
  },
  {
   "cell_type": "code",
   "execution_count": 7,
   "metadata": {},
   "outputs": [
    {
     "name": "stdout",
     "output_type": "stream",
     "text": [
      "/Users/pedroszekely/Downloads/kypher/projects/tutorial-derived-graphs\n"
     ]
    }
   ],
   "source": [
    "%cd {os.environ['OUT']}"
   ]
  },
  {
   "cell_type": "code",
   "execution_count": null,
   "metadata": {},
   "outputs": [],
   "source": []
  },
  {
   "cell_type": "code",
   "execution_count": 8,
   "metadata": {},
   "outputs": [],
   "source": [
    "!kgtk filter --verbose=False --use-mgzip=True --first-match-only \\\n",
    "--input-file /Users/pedroszekely/Downloads/kypher/projects/tutorial-derived-graphs/parts/all.tsv.gz \\\n",
    "-p '; datatype ;' \\\n",
    "-o /Users/pedroszekely/Downloads/kypher/projects/tutorial-derived-graphs/parts/metadata.property.datatypes.tsv.gz "
   ]
  },
  {
   "cell_type": "markdown",
   "metadata": {},
   "source": [
    "## Run partition notebook\n",
    "\n",
    "We need the parts to run the Useful Files notebook"
   ]
  },
  {
   "cell_type": "code",
   "execution_count": 9,
   "metadata": {},
   "outputs": [
    {
     "data": {
      "application/vnd.jupyter.widget-view+json": {
       "model_id": "16f576b729f644109da9c8a3fb79430e",
       "version_major": 2,
       "version_minor": 0
      },
      "text/plain": [
       "Executing:   0%|          | 0/49 [00:00<?, ?cell/s]"
      ]
     },
     "metadata": {},
     "output_type": "display_data"
    },
    {
     "data": {
      "text/plain": [
       "''"
      ]
     },
     "execution_count": 9,
     "metadata": {},
     "output_type": "execute_result"
    }
   ],
   "source": [
    "pm.execute_notebook(\n",
    "    os.environ[\"EXAMPLES_DIR\"] + \"/partition-wikidata.ipynb\",\n",
    "    os.environ[\"TEMP\"] + \"/partition-wikidata.out.ipynb\",\n",
    "    parameters=dict(\n",
    "        wikidata_input_path = input_path + \"/all.tsv.gz\",\n",
    "        wikidata_parts_path = os.environ[\"OUT\"] + \"/parts\",\n",
    "        temp_folder_path = os.environ[\"OUT\"] + \"/parts/temp\",\n",
    "        sort_extras = \"--buffer-size 30% --temporary-directory $OUT/parts/temp\",\n",
    "        verbose = False,\n",
    "        gzip_command = 'gzip'\n",
    "    )\n",
    ")\n",
    ";"
   ]
  },
  {
   "cell_type": "markdown",
   "metadata": {},
   "source": [
    "Show the files after partition"
   ]
  },
  {
   "cell_type": "code",
   "execution_count": 10,
   "metadata": {},
   "outputs": [
    {
     "name": "stdout",
     "output_type": "stream",
     "text": [
      "aliases.en.tsv.gz                   metadata.property.datatypes.tsv.gz\n",
      "aliases.tsv.gz                      metadata.types.tsv.gz\n",
      "all.tsv.gz                          qualifiers.commonsMedia.tsv.gz\n",
      "claims.commonsMedia.tsv.gz          qualifiers.external-id.tsv.gz\n",
      "claims.external-id.tsv.gz           qualifiers.geo-shape.tsv.gz\n",
      "claims.geo-shape.tsv.gz             qualifiers.globe-coordinate.tsv.gz\n",
      "claims.globe-coordinate.tsv.gz      qualifiers.math.tsv.gz\n",
      "claims.math.tsv.gz                  qualifiers.monolingualtext.tsv.gz\n",
      "claims.monolingualtext.tsv.gz       qualifiers.musical-notation.tsv.gz\n",
      "claims.musical-notation.tsv.gz      qualifiers.quantity.tsv.gz\n",
      "claims.other.tsv.gz                 qualifiers.string.tsv.gz\n",
      "claims.quantity.tsv.gz              qualifiers.tabular-data.tsv.gz\n",
      "claims.string.tsv.gz                qualifiers.time.tsv.gz\n",
      "claims.tabular-data.tsv.gz          qualifiers.tsv.gz\n",
      "claims.time.tsv.gz                  qualifiers.url.tsv.gz\n",
      "claims.tsv.gz                       qualifiers.wikibase-form.tsv.gz\n",
      "claims.url.tsv.gz                   qualifiers.wikibase-item.tsv.gz\n",
      "claims.wikibase-form.tsv.gz         qualifiers.wikibase-lexeme.tsv.gz\n",
      "claims.wikibase-item.tsv.gz         qualifiers.wikibase-property.tsv.gz\n",
      "claims.wikibase-lexeme.tsv.gz       qualifiers.wikibase-sense.tsv.gz\n",
      "claims.wikibase-property.tsv.gz     sitelinks.en.tsv.gz\n",
      "claims.wikibase-sense.tsv.gz        sitelinks.qualifiers.en.tsv.gz\n",
      "descriptions.en.tsv.gz              sitelinks.qualifiers.tsv.gz\n",
      "descriptions.tsv.gz                 sitelinks.tsv.gz\n",
      "labels.en.tsv.gz                    \u001b[34mtemp\u001b[m\u001b[m\n",
      "labels.tsv.gz\n"
     ]
    }
   ],
   "source": [
    "!ls $OUT/parts"
   ]
  },
  {
   "cell_type": "markdown",
   "metadata": {},
   "source": [
    "Copy the files we want for the tutorial to our output directory"
   ]
  },
  {
   "cell_type": "code",
   "execution_count": 11,
   "metadata": {},
   "outputs": [],
   "source": [
    "!cp -p $OUT/parts/*.tsv.gz $tutorial_files_path"
   ]
  },
  {
   "cell_type": "markdown",
   "metadata": {},
   "source": [
    "## Run useful files notebook"
   ]
  },
  {
   "cell_type": "code",
   "execution_count": 13,
   "metadata": {},
   "outputs": [
    {
     "data": {
      "application/vnd.jupyter.widget-view+json": {
       "model_id": "093d64ca44bd46e7b9f22c5d84fb2ee6",
       "version_major": 2,
       "version_minor": 0
      },
      "text/plain": [
       "Executing:   0%|          | 0/157 [00:00<?, ?cell/s]"
      ]
     },
     "metadata": {},
     "output_type": "display_data"
    },
    {
     "data": {
      "text/plain": [
       "''"
      ]
     },
     "execution_count": 13,
     "metadata": {},
     "output_type": "execute_result"
    }
   ],
   "source": [
    "pm.execute_notebook(\n",
    "    os.environ[\"USE_CASES_DIR\"] + \"/Wikidata Useful Files.ipynb\",\n",
    "    os.environ[\"TEMP\"] + \"/Wikidata Useful Files Out.ipynb\",\n",
    "    parameters=dict(\n",
    "        output_path = os.environ[\"OUT\"],\n",
    "        output_folder = \"useful_files\",\n",
    "        temp_folder = \"temp.useful_files\",\n",
    "        wiki_root_folder = os.environ[\"OUT\"] + \"/parts/\",\n",
    "        cache_path = os.environ[\"TEMP\"],\n",
    "        languages = 'en',\n",
    "        compute_pagerank = True,\n",
    "        compute_degrees = True,\n",
    "        compute_hits = False, \n",
    "        delete_database = False,\n",
    "        debug = \"false\"\n",
    "    )\n",
    ")\n",
    ";"
   ]
  },
  {
   "cell_type": "code",
   "execution_count": 14,
   "metadata": {},
   "outputs": [
    {
     "name": "stdout",
     "output_type": "stream",
     "text": [
      "total 43456\n",
      "-rw-r--r--   1 pedroszekely  staff  1167663 Oct  6 15:24 aliases.en.tsv.gz\n",
      "-rw-r--r--   1 pedroszekely  staff   326969 Oct  6 15:24 derived.P279.tsv.gz\n",
      "-rw-r--r--   1 pedroszekely  staff  2649699 Oct  6 15:24 derived.P279star.tsv.gz\n",
      "-rw-r--r--   1 pedroszekely  staff  1006728 Oct  6 15:24 derived.P31.tsv.gz\n",
      "-rw-r--r--   1 pedroszekely  staff    46319 Oct  6 15:25 derived.dwd.count.tsv.gz\n",
      "-rw-r--r--   1 pedroszekely  staff  1540685 Oct  6 15:25 derived.dwd_isa.tsv.gz\n",
      "-rw-r--r--   1 pedroszekely  staff  1158470 Oct  6 15:24 descriptions.en.tsv.gz\n",
      "-rw-r--r--   1 pedroszekely  staff  2524967 Oct  6 15:25 dwd_isa_class_count.compact.tsv.gz\n",
      "-rw-r--r--   1 pedroszekely  staff  1260472 Oct  6 15:26 item.property.count.compact.tsv.gz\n",
      "-rw-r--r--   1 pedroszekely  staff   886001 Oct  6 15:24 labels.en.tsv.gz\n",
      "-rw-r--r--   1 pedroszekely  staff   274394 Oct  6 15:24 metadata.in_degree.tsv.gz\n",
      "-rw-r--r--   1 pedroszekely  staff   496777 Oct  6 15:24 metadata.out_degree.tsv.gz\n",
      "-rw-r--r--   1 pedroszekely  staff  1869393 Oct  6 15:24 metadata.pagerank.directed.tsv.gz\n",
      "-rw-r--r--   1 pedroszekely  staff  2059646 Oct  6 15:24 metadata.pagerank.undirected.tsv.gz\n",
      "-rw-r--r--   1 pedroszekely  staff     4142 Oct  6 15:24 statistics.in_degree.distribution.tsv\n",
      "-rw-r--r--   1 pedroszekely  staff     4885 Oct  6 15:25 statistics.out_degree.distribution.tsv\n",
      "drwxr-xr-x  25 pedroszekely  staff      800 Oct  6 15:23 \u001b[34mtemp.useful_files\u001b[m\u001b[m\n"
     ]
    }
   ],
   "source": [
    "!ls -l $OUT/useful_files"
   ]
  },
  {
   "cell_type": "markdown",
   "metadata": {},
   "source": [
    "### Enhance pagerank files to include ordinal"
   ]
  },
  {
   "cell_type": "code",
   "execution_count": null,
   "metadata": {},
   "outputs": [],
   "source": []
  },
  {
   "cell_type": "code",
   "execution_count": 8,
   "metadata": {},
   "outputs": [
    {
     "name": "stdout",
     "output_type": "stream",
     "text": [
      "[2021-10-06 19:35:19 query]: SQL Translation:\n",
      "---------------------------------------------\n",
      "  SELECT *\n",
      "     FROM graph_34 AS graph_34_c1\n",
      "     WHERE graph_34_c1.\"label\" = ?\n",
      "  PARAS: ['Pdirected_pagerank']\n",
      "---------------------------------------------\n",
      "\n",
      "CPU times: user 297 ms, sys: 70.7 ms, total: 368 ms\n",
      "Wall time: 875 ms\n"
     ]
    },
    {
     "data": {
      "text/html": [
       "<div>\n",
       "<style scoped>\n",
       "    .dataframe tbody tr th:only-of-type {\n",
       "        vertical-align: middle;\n",
       "    }\n",
       "\n",
       "    .dataframe tbody tr th {\n",
       "        vertical-align: top;\n",
       "    }\n",
       "\n",
       "    .dataframe thead th {\n",
       "        text-align: right;\n",
       "    }\n",
       "</style>\n",
       "<table border=\"1\" class=\"dataframe\">\n",
       "  <thead>\n",
       "    <tr style=\"text-align: right;\">\n",
       "      <th></th>\n",
       "      <th>P1545</th>\n",
       "      <th>node1</th>\n",
       "      <th>label</th>\n",
       "      <th>node2</th>\n",
       "      <th>id</th>\n",
       "    </tr>\n",
       "  </thead>\n",
       "  <tbody>\n",
       "    <tr>\n",
       "      <th>23658</th>\n",
       "      <td>1</td>\n",
       "      <td>Q23958852</td>\n",
       "      <td>Pdirected_pagerank</td>\n",
       "      <td>0.074847</td>\n",
       "      <td>Q23958852-Pdirected_pagerank-70976</td>\n",
       "    </tr>\n",
       "    <tr>\n",
       "      <th>37555</th>\n",
       "      <td>2</td>\n",
       "      <td>Q23960977</td>\n",
       "      <td>Pdirected_pagerank</td>\n",
       "      <td>0.034511</td>\n",
       "      <td>Q23960977-Pdirected_pagerank-112667</td>\n",
       "    </tr>\n",
       "    <tr>\n",
       "      <th>13394</th>\n",
       "      <td>3</td>\n",
       "      <td>Q35120</td>\n",
       "      <td>Pdirected_pagerank</td>\n",
       "      <td>0.030465</td>\n",
       "      <td>Q35120-Pdirected_pagerank-40184</td>\n",
       "    </tr>\n",
       "    <tr>\n",
       "      <th>10098</th>\n",
       "      <td>4</td>\n",
       "      <td>Q151885</td>\n",
       "      <td>Pdirected_pagerank</td>\n",
       "      <td>0.027707</td>\n",
       "      <td>Q151885-Pdirected_pagerank-30296</td>\n",
       "    </tr>\n",
       "    <tr>\n",
       "      <th>11016</th>\n",
       "      <td>5</td>\n",
       "      <td>Q7184903</td>\n",
       "      <td>Pdirected_pagerank</td>\n",
       "      <td>0.011759</td>\n",
       "      <td>Q7184903-Pdirected_pagerank-33050</td>\n",
       "    </tr>\n",
       "    <tr>\n",
       "      <th>...</th>\n",
       "      <td>...</td>\n",
       "      <td>...</td>\n",
       "      <td>...</td>\n",
       "      <td>...</td>\n",
       "      <td>...</td>\n",
       "    </tr>\n",
       "    <tr>\n",
       "      <th>32303</th>\n",
       "      <td>55947</td>\n",
       "      <td>Q19345728</td>\n",
       "      <td>Pdirected_pagerank</td>\n",
       "      <td>0.000003</td>\n",
       "      <td>Q19345728-Pdirected_pagerank-96911</td>\n",
       "    </tr>\n",
       "    <tr>\n",
       "      <th>32291</th>\n",
       "      <td>55948</td>\n",
       "      <td>Q193369</td>\n",
       "      <td>Pdirected_pagerank</td>\n",
       "      <td>0.000003</td>\n",
       "      <td>Q193369-Pdirected_pagerank-96875</td>\n",
       "    </tr>\n",
       "    <tr>\n",
       "      <th>32281</th>\n",
       "      <td>55949</td>\n",
       "      <td>Q193326</td>\n",
       "      <td>Pdirected_pagerank</td>\n",
       "      <td>0.000003</td>\n",
       "      <td>Q193326-Pdirected_pagerank-96845</td>\n",
       "    </tr>\n",
       "    <tr>\n",
       "      <th>32279</th>\n",
       "      <td>55950</td>\n",
       "      <td>Q1932957</td>\n",
       "      <td>Pdirected_pagerank</td>\n",
       "      <td>0.000003</td>\n",
       "      <td>Q1932957-Pdirected_pagerank-96839</td>\n",
       "    </tr>\n",
       "    <tr>\n",
       "      <th>55950</th>\n",
       "      <td>55951</td>\n",
       "      <td>Q99975457</td>\n",
       "      <td>Pdirected_pagerank</td>\n",
       "      <td>0.000003</td>\n",
       "      <td>Q99975457-Pdirected_pagerank-167852</td>\n",
       "    </tr>\n",
       "  </tbody>\n",
       "</table>\n",
       "<p>55951 rows × 5 columns</p>\n",
       "</div>"
      ],
      "text/plain": [
       "       P1545      node1               label     node2  \\\n",
       "23658      1  Q23958852  Pdirected_pagerank  0.074847   \n",
       "37555      2  Q23960977  Pdirected_pagerank  0.034511   \n",
       "13394      3     Q35120  Pdirected_pagerank  0.030465   \n",
       "10098      4    Q151885  Pdirected_pagerank  0.027707   \n",
       "11016      5   Q7184903  Pdirected_pagerank  0.011759   \n",
       "...      ...        ...                 ...       ...   \n",
       "32303  55947  Q19345728  Pdirected_pagerank  0.000003   \n",
       "32291  55948    Q193369  Pdirected_pagerank  0.000003   \n",
       "32281  55949    Q193326  Pdirected_pagerank  0.000003   \n",
       "32279  55950   Q1932957  Pdirected_pagerank  0.000003   \n",
       "55950  55951  Q99975457  Pdirected_pagerank  0.000003   \n",
       "\n",
       "                                        id  \n",
       "23658   Q23958852-Pdirected_pagerank-70976  \n",
       "37555  Q23960977-Pdirected_pagerank-112667  \n",
       "13394      Q35120-Pdirected_pagerank-40184  \n",
       "10098     Q151885-Pdirected_pagerank-30296  \n",
       "11016    Q7184903-Pdirected_pagerank-33050  \n",
       "...                                    ...  \n",
       "32303   Q19345728-Pdirected_pagerank-96911  \n",
       "32291     Q193369-Pdirected_pagerank-96875  \n",
       "32281     Q193326-Pdirected_pagerank-96845  \n",
       "32279    Q1932957-Pdirected_pagerank-96839  \n",
       "55950  Q99975457-Pdirected_pagerank-167852  \n",
       "\n",
       "[55951 rows x 5 columns]"
      ]
     },
     "execution_count": 8,
     "metadata": {},
     "output_type": "execute_result"
    }
   ],
   "source": [
    "%%time\n",
    "directed_pagerank = kgtk(\"\"\"\n",
    "    query -i $OUT/useful_files/metadata.pagerank.directed.tsv.gz \n",
    "    --match '(n1)-[l:Pdirected_pagerank]->(pagerank)'\n",
    "\"\"\")\n",
    "\n",
    "directed_pagerank_sorted = directed_pagerank.sort_values(\"node2\", ascending=False)\n",
    "directed_pagerank_sorted.insert(0, 'P1545', range(1, 1 + len(directed_pagerank_sorted)))\n",
    "directed_pagerank_sorted"
   ]
  },
  {
   "cell_type": "code",
   "execution_count": null,
   "metadata": {},
   "outputs": [],
   "source": []
  },
  {
   "cell_type": "code",
   "execution_count": 9,
   "metadata": {},
   "outputs": [],
   "source": [
    "directed_pagerank_sorted.to_csv(f\"{os.environ['TEMP']}/directed-pagerank.ordinal.tsv\", index=False, sep='\\t')"
   ]
  },
  {
   "cell_type": "code",
   "execution_count": 23,
   "metadata": {},
   "outputs": [
    {
     "data": {
      "text/html": [
       "<div>\n",
       "<style scoped>\n",
       "    .dataframe tbody tr th:only-of-type {\n",
       "        vertical-align: middle;\n",
       "    }\n",
       "\n",
       "    .dataframe tbody tr th {\n",
       "        vertical-align: top;\n",
       "    }\n",
       "\n",
       "    .dataframe thead th {\n",
       "        text-align: right;\n",
       "    }\n",
       "</style>\n",
       "<table border=\"1\" class=\"dataframe\">\n",
       "  <thead>\n",
       "    <tr style=\"text-align: right;\">\n",
       "      <th></th>\n",
       "      <th>P1545</th>\n",
       "      <th>node1</th>\n",
       "      <th>label</th>\n",
       "      <th>node2</th>\n",
       "      <th>id</th>\n",
       "      <th>node1;label</th>\n",
       "    </tr>\n",
       "  </thead>\n",
       "  <tbody>\n",
       "    <tr>\n",
       "      <th>0</th>\n",
       "      <td>1</td>\n",
       "      <td>Q23958852</td>\n",
       "      <td>Pdirected_pagerank</td>\n",
       "      <td>0.074847</td>\n",
       "      <td>Q23958852-Pdirected_pagerank-70976</td>\n",
       "      <td>'variable-order class'@en</td>\n",
       "    </tr>\n",
       "    <tr>\n",
       "      <th>1</th>\n",
       "      <td>2</td>\n",
       "      <td>Q23960977</td>\n",
       "      <td>Pdirected_pagerank</td>\n",
       "      <td>0.034511</td>\n",
       "      <td>Q23960977-Pdirected_pagerank-112667</td>\n",
       "      <td>'(meta)class'@en</td>\n",
       "    </tr>\n",
       "    <tr>\n",
       "      <th>2</th>\n",
       "      <td>3</td>\n",
       "      <td>Q35120</td>\n",
       "      <td>Pdirected_pagerank</td>\n",
       "      <td>0.030465</td>\n",
       "      <td>Q35120-Pdirected_pagerank-40184</td>\n",
       "      <td>'entity'@en</td>\n",
       "    </tr>\n",
       "    <tr>\n",
       "      <th>3</th>\n",
       "      <td>4</td>\n",
       "      <td>Q151885</td>\n",
       "      <td>Pdirected_pagerank</td>\n",
       "      <td>0.027707</td>\n",
       "      <td>Q151885-Pdirected_pagerank-30296</td>\n",
       "      <td>'concept'@en</td>\n",
       "    </tr>\n",
       "    <tr>\n",
       "      <th>4</th>\n",
       "      <td>5</td>\n",
       "      <td>Q7184903</td>\n",
       "      <td>Pdirected_pagerank</td>\n",
       "      <td>0.011759</td>\n",
       "      <td>Q7184903-Pdirected_pagerank-33050</td>\n",
       "      <td>'abstract object'@en</td>\n",
       "    </tr>\n",
       "    <tr>\n",
       "      <th>5</th>\n",
       "      <td>6</td>\n",
       "      <td>Q5</td>\n",
       "      <td>Pdirected_pagerank</td>\n",
       "      <td>0.011419</td>\n",
       "      <td>Q5-Pdirected_pagerank-13580</td>\n",
       "      <td>'human'@en</td>\n",
       "    </tr>\n",
       "    <tr>\n",
       "      <th>6</th>\n",
       "      <td>7</td>\n",
       "      <td>Q30</td>\n",
       "      <td>Pdirected_pagerank</td>\n",
       "      <td>0.008336</td>\n",
       "      <td>Q30-Pdirected_pagerank-497</td>\n",
       "      <td>'United States of America'@en</td>\n",
       "    </tr>\n",
       "    <tr>\n",
       "      <th>7</th>\n",
       "      <td>8</td>\n",
       "      <td>Q19478619</td>\n",
       "      <td>Pdirected_pagerank</td>\n",
       "      <td>0.007651</td>\n",
       "      <td>Q19478619-Pdirected_pagerank-14804</td>\n",
       "      <td>'metaclass'@en</td>\n",
       "    </tr>\n",
       "    <tr>\n",
       "      <th>8</th>\n",
       "      <td>9</td>\n",
       "      <td>Q24017414</td>\n",
       "      <td>Pdirected_pagerank</td>\n",
       "      <td>0.006919</td>\n",
       "      <td>Q24017414-Pdirected_pagerank-14342</td>\n",
       "      <td>'second-order class'@en</td>\n",
       "    </tr>\n",
       "    <tr>\n",
       "      <th>9</th>\n",
       "      <td>10</td>\n",
       "      <td>Q1207505</td>\n",
       "      <td>Pdirected_pagerank</td>\n",
       "      <td>0.006406</td>\n",
       "      <td>Q1207505-Pdirected_pagerank-13835</td>\n",
       "      <td>'quality'@en</td>\n",
       "    </tr>\n",
       "  </tbody>\n",
       "</table>\n",
       "</div>"
      ],
      "text/plain": [
       "   P1545      node1               label     node2  \\\n",
       "0      1  Q23958852  Pdirected_pagerank  0.074847   \n",
       "1      2  Q23960977  Pdirected_pagerank  0.034511   \n",
       "2      3     Q35120  Pdirected_pagerank  0.030465   \n",
       "3      4    Q151885  Pdirected_pagerank  0.027707   \n",
       "4      5   Q7184903  Pdirected_pagerank  0.011759   \n",
       "5      6         Q5  Pdirected_pagerank  0.011419   \n",
       "6      7        Q30  Pdirected_pagerank  0.008336   \n",
       "7      8  Q19478619  Pdirected_pagerank  0.007651   \n",
       "8      9  Q24017414  Pdirected_pagerank  0.006919   \n",
       "9     10   Q1207505  Pdirected_pagerank  0.006406   \n",
       "\n",
       "                                    id                    node1;label  \n",
       "0   Q23958852-Pdirected_pagerank-70976      'variable-order class'@en  \n",
       "1  Q23960977-Pdirected_pagerank-112667               '(meta)class'@en  \n",
       "2      Q35120-Pdirected_pagerank-40184                    'entity'@en  \n",
       "3     Q151885-Pdirected_pagerank-30296                   'concept'@en  \n",
       "4    Q7184903-Pdirected_pagerank-33050           'abstract object'@en  \n",
       "5          Q5-Pdirected_pagerank-13580                     'human'@en  \n",
       "6           Q30-Pdirected_pagerank-497  'United States of America'@en  \n",
       "7   Q19478619-Pdirected_pagerank-14804                 'metaclass'@en  \n",
       "8   Q24017414-Pdirected_pagerank-14342        'second-order class'@en  \n",
       "9    Q1207505-Pdirected_pagerank-13835                   'quality'@en  "
      ]
     },
     "execution_count": 23,
     "metadata": {},
     "output_type": "execute_result"
    }
   ],
   "source": [
    "kgtk(\"\"\"\n",
    "    head -i \"$TEMP\"/directed-pagerank.ordinal.tsv / add-labels\n",
    "\"\"\")"
   ]
  },
  {
   "cell_type": "code",
   "execution_count": 10,
   "metadata": {},
   "outputs": [
    {
     "ename": "EmptyDataError",
     "evalue": "No columns to parse from file",
     "output_type": "error",
     "traceback": [
      "\u001b[0;31m---------------------------------------------------------------------------\u001b[0m",
      "\u001b[0;31mEmptyDataError\u001b[0m                            Traceback (most recent call last)",
      "\u001b[0;32m/var/folders/1_/_5pln4v50xxf_3f_8vy081x40000gq/T/ipykernel_35469/1562615993.py\u001b[0m in \u001b[0;36m<module>\u001b[0;34m\u001b[0m\n\u001b[0;32m----> 1\u001b[0;31m kgtk(\"\"\"\n\u001b[0m\u001b[1;32m      2\u001b[0m     \u001b[0mnormalize\u001b[0m \u001b[0;34m-\u001b[0m\u001b[0mi\u001b[0m \u001b[0;34m\"$TEMP\"\u001b[0m\u001b[0;34m/\u001b[0m\u001b[0mdirected\u001b[0m\u001b[0;34m-\u001b[0m\u001b[0mpagerank\u001b[0m\u001b[0;34m.\u001b[0m\u001b[0mordinal\u001b[0m\u001b[0;34m.\u001b[0m\u001b[0mtsv\u001b[0m\u001b[0;34m\u001b[0m\u001b[0;34m\u001b[0m\u001b[0m\n\u001b[1;32m      3\u001b[0m     \u001b[0;34m/\u001b[0m \u001b[0madd\u001b[0m\u001b[0;34m-\u001b[0m\u001b[0mid\u001b[0m \u001b[0;34m-\u001b[0m\u001b[0;34m-\u001b[0m\u001b[0mid\u001b[0m\u001b[0;34m-\u001b[0m\u001b[0mstyle\u001b[0m \u001b[0mwikidata\u001b[0m\u001b[0;34m\u001b[0m\u001b[0;34m\u001b[0m\u001b[0m\n\u001b[1;32m      4\u001b[0m     \u001b[0;34m-\u001b[0m\u001b[0mo\u001b[0m \u001b[0;34m\"$OUT\"\u001b[0m\u001b[0;34m/\u001b[0m\u001b[0mdirected\u001b[0m\u001b[0;34m-\u001b[0m\u001b[0mpagerank\u001b[0m\u001b[0;34m.\u001b[0m\u001b[0mordinal\u001b[0m\u001b[0;34m.\u001b[0m\u001b[0mtsv\u001b[0m\u001b[0;34m.\u001b[0m\u001b[0mgz\u001b[0m\u001b[0;34m\u001b[0m\u001b[0;34m\u001b[0m\u001b[0m\n\u001b[1;32m      5\u001b[0m \"\"\")\n",
      "\u001b[0;32m~/Documents/GitHub/kgtk/tutorial/../kgtk/functions.py\u001b[0m in \u001b[0;36mkgtk\u001b[0;34m(arg1, arg2, df, auto_display_html, auto_display_json, auto_display_md, bash_command, kgtk_command)\u001b[0m\n\u001b[1;32m    252\u001b[0m         \u001b[0;31m# `\\|` -> `|`\u001b[0m\u001b[0;34m\u001b[0m\u001b[0;34m\u001b[0m\u001b[0;34m\u001b[0m\u001b[0m\n\u001b[1;32m    253\u001b[0m         \u001b[0moutbuf\u001b[0m\u001b[0;34m.\u001b[0m\u001b[0mseek\u001b[0m\u001b[0;34m(\u001b[0m\u001b[0;36m0\u001b[0m\u001b[0;34m)\u001b[0m\u001b[0;34m\u001b[0m\u001b[0;34m\u001b[0m\u001b[0m\n\u001b[0;32m--> 254\u001b[0;31m         \u001b[0mresult\u001b[0m \u001b[0;34m=\u001b[0m \u001b[0mpandas\u001b[0m\u001b[0;34m.\u001b[0m\u001b[0mread_csv\u001b[0m\u001b[0;34m(\u001b[0m\u001b[0moutbuf\u001b[0m\u001b[0;34m,\u001b[0m \u001b[0msep\u001b[0m\u001b[0;34m=\u001b[0m\u001b[0;34m'\\t'\u001b[0m\u001b[0;34m)\u001b[0m\u001b[0;34m\u001b[0m\u001b[0;34m\u001b[0m\u001b[0m\n\u001b[0m\u001b[1;32m    255\u001b[0m \u001b[0;34m\u001b[0m\u001b[0m\n\u001b[1;32m    256\u001b[0m     \u001b[0moutbuf\u001b[0m\u001b[0;34m.\u001b[0m\u001b[0mclose\u001b[0m\u001b[0;34m(\u001b[0m\u001b[0;34m)\u001b[0m\u001b[0;34m\u001b[0m\u001b[0;34m\u001b[0m\u001b[0m\n",
      "\u001b[0;32m~/opt/anaconda3/envs/kgtk-env/lib/python3.8/site-packages/pandas/util/_decorators.py\u001b[0m in \u001b[0;36mwrapper\u001b[0;34m(*args, **kwargs)\u001b[0m\n\u001b[1;32m    309\u001b[0m                     \u001b[0mstacklevel\u001b[0m\u001b[0;34m=\u001b[0m\u001b[0mstacklevel\u001b[0m\u001b[0;34m,\u001b[0m\u001b[0;34m\u001b[0m\u001b[0;34m\u001b[0m\u001b[0m\n\u001b[1;32m    310\u001b[0m                 )\n\u001b[0;32m--> 311\u001b[0;31m             \u001b[0;32mreturn\u001b[0m \u001b[0mfunc\u001b[0m\u001b[0;34m(\u001b[0m\u001b[0;34m*\u001b[0m\u001b[0margs\u001b[0m\u001b[0;34m,\u001b[0m \u001b[0;34m**\u001b[0m\u001b[0mkwargs\u001b[0m\u001b[0;34m)\u001b[0m\u001b[0;34m\u001b[0m\u001b[0;34m\u001b[0m\u001b[0m\n\u001b[0m\u001b[1;32m    312\u001b[0m \u001b[0;34m\u001b[0m\u001b[0m\n\u001b[1;32m    313\u001b[0m         \u001b[0;32mreturn\u001b[0m \u001b[0mwrapper\u001b[0m\u001b[0;34m\u001b[0m\u001b[0;34m\u001b[0m\u001b[0m\n",
      "\u001b[0;32m~/opt/anaconda3/envs/kgtk-env/lib/python3.8/site-packages/pandas/io/parsers/readers.py\u001b[0m in \u001b[0;36mread_csv\u001b[0;34m(filepath_or_buffer, sep, delimiter, header, names, index_col, usecols, squeeze, prefix, mangle_dupe_cols, dtype, engine, converters, true_values, false_values, skipinitialspace, skiprows, skipfooter, nrows, na_values, keep_default_na, na_filter, verbose, skip_blank_lines, parse_dates, infer_datetime_format, keep_date_col, date_parser, dayfirst, cache_dates, iterator, chunksize, compression, thousands, decimal, lineterminator, quotechar, quoting, doublequote, escapechar, comment, encoding, encoding_errors, dialect, error_bad_lines, warn_bad_lines, on_bad_lines, delim_whitespace, low_memory, memory_map, float_precision, storage_options)\u001b[0m\n\u001b[1;32m    584\u001b[0m     \u001b[0mkwds\u001b[0m\u001b[0;34m.\u001b[0m\u001b[0mupdate\u001b[0m\u001b[0;34m(\u001b[0m\u001b[0mkwds_defaults\u001b[0m\u001b[0;34m)\u001b[0m\u001b[0;34m\u001b[0m\u001b[0;34m\u001b[0m\u001b[0m\n\u001b[1;32m    585\u001b[0m \u001b[0;34m\u001b[0m\u001b[0m\n\u001b[0;32m--> 586\u001b[0;31m     \u001b[0;32mreturn\u001b[0m \u001b[0m_read\u001b[0m\u001b[0;34m(\u001b[0m\u001b[0mfilepath_or_buffer\u001b[0m\u001b[0;34m,\u001b[0m \u001b[0mkwds\u001b[0m\u001b[0;34m)\u001b[0m\u001b[0;34m\u001b[0m\u001b[0;34m\u001b[0m\u001b[0m\n\u001b[0m\u001b[1;32m    587\u001b[0m \u001b[0;34m\u001b[0m\u001b[0m\n\u001b[1;32m    588\u001b[0m \u001b[0;34m\u001b[0m\u001b[0m\n",
      "\u001b[0;32m~/opt/anaconda3/envs/kgtk-env/lib/python3.8/site-packages/pandas/io/parsers/readers.py\u001b[0m in \u001b[0;36m_read\u001b[0;34m(filepath_or_buffer, kwds)\u001b[0m\n\u001b[1;32m    480\u001b[0m \u001b[0;34m\u001b[0m\u001b[0m\n\u001b[1;32m    481\u001b[0m     \u001b[0;31m# Create the parser.\u001b[0m\u001b[0;34m\u001b[0m\u001b[0;34m\u001b[0m\u001b[0;34m\u001b[0m\u001b[0m\n\u001b[0;32m--> 482\u001b[0;31m     \u001b[0mparser\u001b[0m \u001b[0;34m=\u001b[0m \u001b[0mTextFileReader\u001b[0m\u001b[0;34m(\u001b[0m\u001b[0mfilepath_or_buffer\u001b[0m\u001b[0;34m,\u001b[0m \u001b[0;34m**\u001b[0m\u001b[0mkwds\u001b[0m\u001b[0;34m)\u001b[0m\u001b[0;34m\u001b[0m\u001b[0;34m\u001b[0m\u001b[0m\n\u001b[0m\u001b[1;32m    483\u001b[0m \u001b[0;34m\u001b[0m\u001b[0m\n\u001b[1;32m    484\u001b[0m     \u001b[0;32mif\u001b[0m \u001b[0mchunksize\u001b[0m \u001b[0;32mor\u001b[0m \u001b[0miterator\u001b[0m\u001b[0;34m:\u001b[0m\u001b[0;34m\u001b[0m\u001b[0;34m\u001b[0m\u001b[0m\n",
      "\u001b[0;32m~/opt/anaconda3/envs/kgtk-env/lib/python3.8/site-packages/pandas/io/parsers/readers.py\u001b[0m in \u001b[0;36m__init__\u001b[0;34m(self, f, engine, **kwds)\u001b[0m\n\u001b[1;32m    809\u001b[0m             \u001b[0mself\u001b[0m\u001b[0;34m.\u001b[0m\u001b[0moptions\u001b[0m\u001b[0;34m[\u001b[0m\u001b[0;34m\"has_index_names\"\u001b[0m\u001b[0;34m]\u001b[0m \u001b[0;34m=\u001b[0m \u001b[0mkwds\u001b[0m\u001b[0;34m[\u001b[0m\u001b[0;34m\"has_index_names\"\u001b[0m\u001b[0;34m]\u001b[0m\u001b[0;34m\u001b[0m\u001b[0;34m\u001b[0m\u001b[0m\n\u001b[1;32m    810\u001b[0m \u001b[0;34m\u001b[0m\u001b[0m\n\u001b[0;32m--> 811\u001b[0;31m         \u001b[0mself\u001b[0m\u001b[0;34m.\u001b[0m\u001b[0m_engine\u001b[0m \u001b[0;34m=\u001b[0m \u001b[0mself\u001b[0m\u001b[0;34m.\u001b[0m\u001b[0m_make_engine\u001b[0m\u001b[0;34m(\u001b[0m\u001b[0mself\u001b[0m\u001b[0;34m.\u001b[0m\u001b[0mengine\u001b[0m\u001b[0;34m)\u001b[0m\u001b[0;34m\u001b[0m\u001b[0;34m\u001b[0m\u001b[0m\n\u001b[0m\u001b[1;32m    812\u001b[0m \u001b[0;34m\u001b[0m\u001b[0m\n\u001b[1;32m    813\u001b[0m     \u001b[0;32mdef\u001b[0m \u001b[0mclose\u001b[0m\u001b[0;34m(\u001b[0m\u001b[0mself\u001b[0m\u001b[0;34m)\u001b[0m\u001b[0;34m:\u001b[0m\u001b[0;34m\u001b[0m\u001b[0;34m\u001b[0m\u001b[0m\n",
      "\u001b[0;32m~/opt/anaconda3/envs/kgtk-env/lib/python3.8/site-packages/pandas/io/parsers/readers.py\u001b[0m in \u001b[0;36m_make_engine\u001b[0;34m(self, engine)\u001b[0m\n\u001b[1;32m   1038\u001b[0m             )\n\u001b[1;32m   1039\u001b[0m         \u001b[0;31m# error: Too many arguments for \"ParserBase\"\u001b[0m\u001b[0;34m\u001b[0m\u001b[0;34m\u001b[0m\u001b[0;34m\u001b[0m\u001b[0m\n\u001b[0;32m-> 1040\u001b[0;31m         \u001b[0;32mreturn\u001b[0m \u001b[0mmapping\u001b[0m\u001b[0;34m[\u001b[0m\u001b[0mengine\u001b[0m\u001b[0;34m]\u001b[0m\u001b[0;34m(\u001b[0m\u001b[0mself\u001b[0m\u001b[0;34m.\u001b[0m\u001b[0mf\u001b[0m\u001b[0;34m,\u001b[0m \u001b[0;34m**\u001b[0m\u001b[0mself\u001b[0m\u001b[0;34m.\u001b[0m\u001b[0moptions\u001b[0m\u001b[0;34m)\u001b[0m  \u001b[0;31m# type: ignore[call-arg]\u001b[0m\u001b[0;34m\u001b[0m\u001b[0;34m\u001b[0m\u001b[0m\n\u001b[0m\u001b[1;32m   1041\u001b[0m \u001b[0;34m\u001b[0m\u001b[0m\n\u001b[1;32m   1042\u001b[0m     \u001b[0;32mdef\u001b[0m \u001b[0m_failover_to_python\u001b[0m\u001b[0;34m(\u001b[0m\u001b[0mself\u001b[0m\u001b[0;34m)\u001b[0m\u001b[0;34m:\u001b[0m\u001b[0;34m\u001b[0m\u001b[0;34m\u001b[0m\u001b[0m\n",
      "\u001b[0;32m~/opt/anaconda3/envs/kgtk-env/lib/python3.8/site-packages/pandas/io/parsers/c_parser_wrapper.py\u001b[0m in \u001b[0;36m__init__\u001b[0;34m(self, src, **kwds)\u001b[0m\n\u001b[1;32m     67\u001b[0m         \u001b[0mkwds\u001b[0m\u001b[0;34m[\u001b[0m\u001b[0;34m\"dtype\"\u001b[0m\u001b[0;34m]\u001b[0m \u001b[0;34m=\u001b[0m \u001b[0mensure_dtype_objs\u001b[0m\u001b[0;34m(\u001b[0m\u001b[0mkwds\u001b[0m\u001b[0;34m.\u001b[0m\u001b[0mget\u001b[0m\u001b[0;34m(\u001b[0m\u001b[0;34m\"dtype\"\u001b[0m\u001b[0;34m,\u001b[0m \u001b[0;32mNone\u001b[0m\u001b[0;34m)\u001b[0m\u001b[0;34m)\u001b[0m\u001b[0;34m\u001b[0m\u001b[0;34m\u001b[0m\u001b[0m\n\u001b[1;32m     68\u001b[0m         \u001b[0;32mtry\u001b[0m\u001b[0;34m:\u001b[0m\u001b[0;34m\u001b[0m\u001b[0;34m\u001b[0m\u001b[0m\n\u001b[0;32m---> 69\u001b[0;31m             \u001b[0mself\u001b[0m\u001b[0;34m.\u001b[0m\u001b[0m_reader\u001b[0m \u001b[0;34m=\u001b[0m \u001b[0mparsers\u001b[0m\u001b[0;34m.\u001b[0m\u001b[0mTextReader\u001b[0m\u001b[0;34m(\u001b[0m\u001b[0mself\u001b[0m\u001b[0;34m.\u001b[0m\u001b[0mhandles\u001b[0m\u001b[0;34m.\u001b[0m\u001b[0mhandle\u001b[0m\u001b[0;34m,\u001b[0m \u001b[0;34m**\u001b[0m\u001b[0mkwds\u001b[0m\u001b[0;34m)\u001b[0m\u001b[0;34m\u001b[0m\u001b[0;34m\u001b[0m\u001b[0m\n\u001b[0m\u001b[1;32m     70\u001b[0m         \u001b[0;32mexcept\u001b[0m \u001b[0mException\u001b[0m\u001b[0;34m:\u001b[0m\u001b[0;34m\u001b[0m\u001b[0;34m\u001b[0m\u001b[0m\n\u001b[1;32m     71\u001b[0m             \u001b[0mself\u001b[0m\u001b[0;34m.\u001b[0m\u001b[0mhandles\u001b[0m\u001b[0;34m.\u001b[0m\u001b[0mclose\u001b[0m\u001b[0;34m(\u001b[0m\u001b[0;34m)\u001b[0m\u001b[0;34m\u001b[0m\u001b[0;34m\u001b[0m\u001b[0m\n",
      "\u001b[0;32m~/opt/anaconda3/envs/kgtk-env/lib/python3.8/site-packages/pandas/_libs/parsers.pyx\u001b[0m in \u001b[0;36mpandas._libs.parsers.TextReader.__cinit__\u001b[0;34m()\u001b[0m\n",
      "\u001b[0;31mEmptyDataError\u001b[0m: No columns to parse from file"
     ]
    }
   ],
   "source": [
    "kgtk(\"\"\"\n",
    "    normalize -i \"$TEMP\"/directed-pagerank.ordinal.tsv\n",
    "    / add-id --id-style wikidata \n",
    "    -o \"$OUT\"/directed-pagerank.ordinal.tsv.gz\n",
    "\"\"\")"
   ]
  },
  {
   "cell_type": "code",
   "execution_count": null,
   "metadata": {},
   "outputs": [],
   "source": []
  },
  {
   "cell_type": "code",
   "execution_count": 23,
   "metadata": {},
   "outputs": [
    {
     "name": "stdout",
     "output_type": "stream",
     "text": [
      "usage: cp [-R [-H | -L | -P]] [-fi | -n] [-apvXc] source_file target_file\n",
      "       cp [-R [-H | -L | -P]] [-fi | -n] [-apvXc] source_file ... target_directory\n"
     ]
    }
   ],
   "source": [
    "!cp $OUT/useful_files/*.tsv.gz $tutorial_files_path"
   ]
  },
  {
   "cell_type": "code",
   "execution_count": null,
   "metadata": {},
   "outputs": [],
   "source": []
  },
  {
   "cell_type": "code",
   "execution_count": 26,
   "metadata": {},
   "outputs": [
    {
     "name": "stdout",
     "output_type": "stream",
     "text": [
      "    3507\n"
     ]
    }
   ],
   "source": [
    "!zcat < $tutorial_files_path/metadata.property.datatypes.tsv.gz | wc -l"
   ]
  },
  {
   "cell_type": "code",
   "execution_count": 27,
   "metadata": {},
   "outputs": [
    {
     "name": "stdout",
     "output_type": "stream",
     "text": [
      "node1\tlabel\tnode2\tid\n",
      "P10\tvertex_in_degree\t0\tP10-vertex_in_degree-0\n",
      "P10\tvertex_out_degree\t1\tP10-vertex_out_degree-1\n",
      "P10\tPdirected_pagerank\t2.7060194813141665e-06\tP10-Pdirected_pagerank-2\n",
      "Q18610173\tvertex_in_degree\t15\tQ18610173-vertex_in_degree-3\n",
      "Q18610173\tvertex_out_degree\t1\tQ18610173-vertex_out_degree-4\n",
      "Q18610173\tPdirected_pagerank\t1.800179459943962e-05\tQ18610173-Pdirected_pagerank-5\n",
      "P1000\tvertex_in_degree\t0\tP1000-vertex_in_degree-6\n",
      "P1000\tvertex_out_degree\t1\tP1000-vertex_out_degree-7\n",
      "P1000\tPdirected_pagerank\t2.7060194813141665e-06\tP1000-Pdirected_pagerank-8\n",
      "zcat: error writing to output: Broken pipe\n"
     ]
    }
   ],
   "source": [
    "!zcat < $tutorial_files_path/metadata.pagerank.directed.tsv.gz | head"
   ]
  },
  {
   "cell_type": "code",
   "execution_count": 28,
   "metadata": {},
   "outputs": [
    {
     "name": "stdout",
     "output_type": "stream",
     "text": [
      "/bin/bash: /metadata.in_degree.tsv.gz: No such file or directory\n"
     ]
    }
   ],
   "source": [
    "!zcat < $tutorial_files/metadata.in_degree.tsv.gz | head"
   ]
  },
  {
   "cell_type": "code",
   "execution_count": null,
   "metadata": {},
   "outputs": [],
   "source": []
  },
  {
   "cell_type": "code",
   "execution_count": 29,
   "metadata": {},
   "outputs": [
    {
     "name": "stdout",
     "output_type": "stream",
     "text": [
      "/Users/pedroszekely/Documents/GitHub/kgtk\n"
     ]
    }
   ],
   "source": [
    "!echo $kgtk_path"
   ]
  },
  {
   "cell_type": "code",
   "execution_count": 30,
   "metadata": {},
   "outputs": [],
   "source": [
    "cp \"$kgtk_path\"/kgtk-properties/kgtk.properties.tsv \"$tutorial_files_path\""
   ]
  },
  {
   "cell_type": "code",
   "execution_count": 31,
   "metadata": {},
   "outputs": [
    {
     "name": "stdout",
     "output_type": "stream",
     "text": [
      "Pdirected_pagerank\tlabel\t'pagerank (directed)'@en\tPdirected_pagerank-label-d3bd07\n",
      "Pdirected_pagerank\talias\t'page rank (directed)'@en\tPdirected_pagerank-alias-9d4733\n",
      "Pdirected_pagerank\tdescription\t'pagerank canculated on the directed graph'@en\tPdirected_pagerank-description-b62fff\n",
      "Pdirected_pagerank\tP31\tQ18616576\tPdirected_pagerank-P31-Q18616576\n",
      "Pdirected_pagerank\tP31\tQ47512165\tPdirected_pagerank-P31-Q47512165\n",
      "Pdirected_pagerank\tP1629\tQ184316\tPdirected_pagerank-P1629-Q184316\n",
      "Pdirected_pagerank\tdata_type\tquantity\tPdirected_pagerank-data_type-1a7b30\n",
      "Pundirected_pagerank\tlabel\t'pagerank (undirected)'@en\tPundirected_pagerank-label-d3bd07\n",
      "Pundirected_pagerank\talias\t'page rank (undirected)'@en\tPundirected_pagerank-alias-9d4733\n",
      "Pundirected_pagerank\tdescription\t'pagerank canculated on the undirected graph'@en\tPundirected_pagerank-description-ee8b1c\n",
      "Pundirected_pagerank\tP31\tQ18616576\tPundirected_pagerank-P31-Q18616576\n",
      "Pundirected_pagerank\tP31\tQ47512165\tPundirected_pagerank-P31-Q47512165\n",
      "Pundirected_pagerank\tP1629\tQ184316\tPundirected_pagerank-P1629-Q184316\n",
      "Pundirected_pagerank\tdata_type\tquantity\tPundirected_pagerank-data_type-1a7b30\n"
     ]
    }
   ],
   "source": [
    "!grep page \"$kgtk_path\"/kgtk-properties/kgtk.properties.tsv "
   ]
  },
  {
   "cell_type": "code",
   "execution_count": 32,
   "metadata": {},
   "outputs": [
    {
     "name": "stdout",
     "output_type": "stream",
     "text": [
      "aliases.en.tsv.gz\n",
      "aliases.tsv.gz\n",
      "all.tsv.gz\n",
      "arnold.all.tsv.gz\n",
      "claims.commonsMedia.tsv.gz\n",
      "claims.external-id.tsv.gz\n",
      "claims.geo-shape.tsv.gz\n",
      "claims.globe-coordinate.tsv.gz\n",
      "claims.math.tsv.gz\n",
      "claims.monolingualtext.tsv.gz\n",
      "claims.musical-notation.tsv.gz\n",
      "claims.other.tsv.gz\n",
      "claims.quantity.tsv.gz\n",
      "claims.string.tsv.gz\n",
      "claims.tabular-data.tsv.gz\n",
      "claims.time.tsv.gz\n",
      "claims.tsv.gz\n",
      "claims.url.tsv.gz\n",
      "claims.wikibase-form.tsv.gz\n",
      "claims.wikibase-item.tsv.gz\n",
      "claims.wikibase-lexeme.tsv.gz\n",
      "claims.wikibase-property.tsv.gz\n",
      "claims.wikibase-sense.tsv.gz\n",
      "derived.P279.tsv.gz\n",
      "derived.P279star.tsv.gz\n",
      "derived.P31.tsv.gz\n",
      "derived.P31P279star.tsv.gz\n",
      "derived.P31_39_106_279star.tsv.gz\n",
      "derived.dwd.count.tsv.gz\n",
      "derived.dwd_isa.tsv.gz\n",
      "derived.isa.tsv.gz\n",
      "derived.isastar.tsv.gz\n",
      "descriptions.en.tsv.gz\n",
      "descriptions.tsv.gz\n",
      "dwd_isa_class_count.compact.tsv.gz\n",
      "item.property.count.compact.tsv.gz\n",
      "kgtk.properties.tsv\n",
      "labels.en.tsv.gz\n",
      "labels.tsv.gz\n",
      "metadata.in_degree.tsv.gz\n",
      "metadata.out_degree.tsv.gz\n",
      "metadata.pagerank.directed.tsv.gz\n",
      "metadata.pagerank.undirected.tsv.gz\n",
      "metadata.property.datatypes.tsv.gz\n",
      "metadata.types.tsv.gz\n",
      "qualifiers.commonsMedia.tsv.gz\n",
      "qualifiers.external-id.tsv.gz\n",
      "qualifiers.geo-shape.tsv.gz\n",
      "qualifiers.globe-coordinate.tsv.gz\n",
      "qualifiers.math.tsv.gz\n",
      "qualifiers.monolingualtext.tsv.gz\n",
      "qualifiers.musical-notation.tsv.gz\n",
      "qualifiers.quantity.tsv.gz\n",
      "qualifiers.string.tsv.gz\n",
      "qualifiers.tabular-data.tsv.gz\n",
      "qualifiers.time.tsv.gz\n",
      "qualifiers.tsv.gz\n",
      "qualifiers.url.tsv.gz\n",
      "qualifiers.wikibase-form.tsv.gz\n",
      "qualifiers.wikibase-item.tsv.gz\n",
      "qualifiers.wikibase-lexeme.tsv.gz\n",
      "qualifiers.wikibase-property.tsv.gz\n",
      "qualifiers.wikibase-sense.tsv.gz\n",
      "sitelinks.en.tsv.gz\n",
      "sitelinks.qualifiers.en.tsv.gz\n",
      "sitelinks.qualifiers.tsv.gz\n",
      "sitelinks.tsv.gz\n"
     ]
    }
   ],
   "source": [
    "!ls -1 \"$tutorial_files_path\""
   ]
  },
  {
   "cell_type": "code",
   "execution_count": 33,
   "metadata": {},
   "outputs": [],
   "source": [
    "tutorial_files = [\n",
    "    \"aliases.tsv.gz\",\n",
    "    \"claims.external-id.tsv.gz\",\n",
    "    \"claims.monolingualtext.tsv.gz\",\n",
    "    \"claims.quantity.tsv.gz\",\n",
    "    \"claims.string.tsv.gz\",\n",
    "    \"claims.time.tsv.gz\",\n",
    "    \"claims.url.tsv.gz\",\n",
    "    \"claims.wikibase-item.tsv.gz\",\n",
    "    \"claims.wikibase-property.tsv.gz\",\n",
    "    \"derived.P279.tsv.gz\",\n",
    "    \"derived.P279star.tsv.gz\",\n",
    "    \"derived.P31.tsv.gz\",\n",
    "    \"descriptions.tsv.gz\",\n",
    "    \"kgtk.properties.tsv\",\n",
    "    \"labels.en.tsv.gz\",\n",
    "    \"metadata.in_degree.tsv.gz\",\n",
    "    \"metadata.out_degree.tsv.gz\",\n",
    "    \"metadata.pagerank.directed.tsv.gz\",\n",
    "    \"metadata.pagerank.undirected.tsv.gz\",\n",
    "    \"metadata.property.datatypes.tsv.gz\",\n",
    "    \"metadata.types.tsv.gz\",\n",
    "    \"qualifiers.tsv.gz\",\n",
    "]\n",
    "\n",
    "tutorial_files_argument = (\" -i \"+tutorial_files_path+\"/\") + (\" -i \"+tutorial_files_path+\"/\").join(tutorial_files)"
   ]
  },
  {
   "cell_type": "code",
   "execution_count": 34,
   "metadata": {},
   "outputs": [
    {
     "data": {
      "text/plain": [
       "' -i /Users/pedroszekely/Downloads/kypher/projects/tutorial-files/aliases.tsv.gz -i /Users/pedroszekely/Downloads/kypher/projects/tutorial-files/claims.external-id.tsv.gz -i /Users/pedroszekely/Downloads/kypher/projects/tutorial-files/claims.monolingualtext.tsv.gz -i /Users/pedroszekely/Downloads/kypher/projects/tutorial-files/claims.quantity.tsv.gz -i /Users/pedroszekely/Downloads/kypher/projects/tutorial-files/claims.string.tsv.gz -i /Users/pedroszekely/Downloads/kypher/projects/tutorial-files/claims.time.tsv.gz -i /Users/pedroszekely/Downloads/kypher/projects/tutorial-files/claims.url.tsv.gz -i /Users/pedroszekely/Downloads/kypher/projects/tutorial-files/claims.wikibase-item.tsv.gz -i /Users/pedroszekely/Downloads/kypher/projects/tutorial-files/claims.wikibase-property.tsv.gz -i /Users/pedroszekely/Downloads/kypher/projects/tutorial-files/derived.P279.tsv.gz -i /Users/pedroszekely/Downloads/kypher/projects/tutorial-files/derived.P279star.tsv.gz -i /Users/pedroszekely/Downloads/kypher/projects/tutorial-files/derived.P31.tsv.gz -i /Users/pedroszekely/Downloads/kypher/projects/tutorial-files/descriptions.tsv.gz -i /Users/pedroszekely/Downloads/kypher/projects/tutorial-files/kgtk.properties.tsv -i /Users/pedroszekely/Downloads/kypher/projects/tutorial-files/labels.en.tsv.gz -i /Users/pedroszekely/Downloads/kypher/projects/tutorial-files/metadata.in_degree.tsv.gz -i /Users/pedroszekely/Downloads/kypher/projects/tutorial-files/metadata.out_degree.tsv.gz -i /Users/pedroszekely/Downloads/kypher/projects/tutorial-files/metadata.pagerank.directed.tsv.gz -i /Users/pedroszekely/Downloads/kypher/projects/tutorial-files/metadata.pagerank.undirected.tsv.gz -i /Users/pedroszekely/Downloads/kypher/projects/tutorial-files/metadata.property.datatypes.tsv.gz -i /Users/pedroszekely/Downloads/kypher/projects/tutorial-files/metadata.types.tsv.gz -i /Users/pedroszekely/Downloads/kypher/projects/tutorial-files/qualifiers.tsv.gz'"
      ]
     },
     "execution_count": 34,
     "metadata": {},
     "output_type": "execute_result"
    }
   ],
   "source": [
    "tutorial_files_argument"
   ]
  },
  {
   "cell_type": "code",
   "execution_count": 35,
   "metadata": {},
   "outputs": [],
   "source": [
    "!kgtk cat {tutorial_files_argument} -o \"$tutorial_files_path\"/arnold.all.tsv.gz"
   ]
  },
  {
   "cell_type": "code",
   "execution_count": null,
   "metadata": {},
   "outputs": [],
   "source": []
  },
  {
   "cell_type": "code",
   "execution_count": 36,
   "metadata": {},
   "outputs": [
    {
     "data": {
      "text/html": [
       "<div>\n",
       "<style scoped>\n",
       "    .dataframe tbody tr th:only-of-type {\n",
       "        vertical-align: middle;\n",
       "    }\n",
       "\n",
       "    .dataframe tbody tr th {\n",
       "        vertical-align: top;\n",
       "    }\n",
       "\n",
       "    .dataframe thead th {\n",
       "        text-align: right;\n",
       "    }\n",
       "</style>\n",
       "<table border=\"1\" class=\"dataframe\">\n",
       "  <thead>\n",
       "    <tr style=\"text-align: right;\">\n",
       "      <th></th>\n",
       "      <th>node1</th>\n",
       "      <th>label</th>\n",
       "      <th>node2</th>\n",
       "      <th>id</th>\n",
       "      <th>node2;wikidatatype</th>\n",
       "    </tr>\n",
       "  </thead>\n",
       "  <tbody>\n",
       "    <tr>\n",
       "      <th>0</th>\n",
       "      <td>P10</td>\n",
       "      <td>alias</td>\n",
       "      <td>'gif'@en</td>\n",
       "      <td>P10-alias-en-282226-0</td>\n",
       "      <td>NaN</td>\n",
       "    </tr>\n",
       "    <tr>\n",
       "      <th>1</th>\n",
       "      <td>P10</td>\n",
       "      <td>alias</td>\n",
       "      <td>'animation'@en</td>\n",
       "      <td>P10-alias-en-2f86d8-0</td>\n",
       "      <td>NaN</td>\n",
       "    </tr>\n",
       "    <tr>\n",
       "      <th>2</th>\n",
       "      <td>P10</td>\n",
       "      <td>alias</td>\n",
       "      <td>'media'@en</td>\n",
       "      <td>P10-alias-en-c1427e-0</td>\n",
       "      <td>NaN</td>\n",
       "    </tr>\n",
       "    <tr>\n",
       "      <th>3</th>\n",
       "      <td>P10</td>\n",
       "      <td>alias</td>\n",
       "      <td>'trailer (Commons)'@en</td>\n",
       "      <td>P10-alias-en-c61ab1-0</td>\n",
       "      <td>NaN</td>\n",
       "    </tr>\n",
       "    <tr>\n",
       "      <th>4</th>\n",
       "      <td>P1001</td>\n",
       "      <td>alias</td>\n",
       "      <td>'belongs to jurisdiction'@en</td>\n",
       "      <td>P1001-alias-en-0dd7ce-0</td>\n",
       "      <td>NaN</td>\n",
       "    </tr>\n",
       "    <tr>\n",
       "      <th>5</th>\n",
       "      <td>P1001</td>\n",
       "      <td>alias</td>\n",
       "      <td>'linked to jurisdiction'@en</td>\n",
       "      <td>P1001-alias-en-106818-0</td>\n",
       "      <td>NaN</td>\n",
       "    </tr>\n",
       "    <tr>\n",
       "      <th>6</th>\n",
       "      <td>P1001</td>\n",
       "      <td>alias</td>\n",
       "      <td>'of jurisdiction'@en</td>\n",
       "      <td>P1001-alias-en-7e4abe-0</td>\n",
       "      <td>NaN</td>\n",
       "    </tr>\n",
       "    <tr>\n",
       "      <th>7</th>\n",
       "      <td>P1001</td>\n",
       "      <td>alias</td>\n",
       "      <td>'applied to jurisdiction'@en</td>\n",
       "      <td>P1001-alias-en-89ed18-0</td>\n",
       "      <td>NaN</td>\n",
       "    </tr>\n",
       "    <tr>\n",
       "      <th>8</th>\n",
       "      <td>P1001</td>\n",
       "      <td>alias</td>\n",
       "      <td>'jurisdiction'@en</td>\n",
       "      <td>P1001-alias-en-a524ab-0</td>\n",
       "      <td>NaN</td>\n",
       "    </tr>\n",
       "    <tr>\n",
       "      <th>9</th>\n",
       "      <td>P1001</td>\n",
       "      <td>alias</td>\n",
       "      <td>'valid in jurisdiction'@en</td>\n",
       "      <td>P1001-alias-en-ca2e7c-0</td>\n",
       "      <td>NaN</td>\n",
       "    </tr>\n",
       "  </tbody>\n",
       "</table>\n",
       "</div>"
      ],
      "text/plain": [
       "   node1  label                         node2                       id  \\\n",
       "0    P10  alias                      'gif'@en    P10-alias-en-282226-0   \n",
       "1    P10  alias                'animation'@en    P10-alias-en-2f86d8-0   \n",
       "2    P10  alias                    'media'@en    P10-alias-en-c1427e-0   \n",
       "3    P10  alias        'trailer (Commons)'@en    P10-alias-en-c61ab1-0   \n",
       "4  P1001  alias  'belongs to jurisdiction'@en  P1001-alias-en-0dd7ce-0   \n",
       "5  P1001  alias   'linked to jurisdiction'@en  P1001-alias-en-106818-0   \n",
       "6  P1001  alias          'of jurisdiction'@en  P1001-alias-en-7e4abe-0   \n",
       "7  P1001  alias  'applied to jurisdiction'@en  P1001-alias-en-89ed18-0   \n",
       "8  P1001  alias             'jurisdiction'@en  P1001-alias-en-a524ab-0   \n",
       "9  P1001  alias    'valid in jurisdiction'@en  P1001-alias-en-ca2e7c-0   \n",
       "\n",
       "   node2;wikidatatype  \n",
       "0                 NaN  \n",
       "1                 NaN  \n",
       "2                 NaN  \n",
       "3                 NaN  \n",
       "4                 NaN  \n",
       "5                 NaN  \n",
       "6                 NaN  \n",
       "7                 NaN  \n",
       "8                 NaN  \n",
       "9                 NaN  "
      ]
     },
     "execution_count": 36,
     "metadata": {},
     "output_type": "execute_result"
    }
   ],
   "source": [
    "kgtk(\"\"\"\n",
    "    head -i \"$tutorial_files_path\"/arnold.all.tsv.gz\n",
    "\"\"\")"
   ]
  },
  {
   "cell_type": "code",
   "execution_count": 40,
   "metadata": {},
   "outputs": [
    {
     "name": "stdout",
     "output_type": "stream",
     "text": [
      "CPU times: user 5.64 ms, sys: 13.8 ms, total: 19.4 ms\n",
      "Wall time: 914 ms\n"
     ]
    },
    {
     "data": {
      "text/html": [
       "<div>\n",
       "<style scoped>\n",
       "    .dataframe tbody tr th:only-of-type {\n",
       "        vertical-align: middle;\n",
       "    }\n",
       "\n",
       "    .dataframe tbody tr th {\n",
       "        vertical-align: top;\n",
       "    }\n",
       "\n",
       "    .dataframe thead th {\n",
       "        text-align: right;\n",
       "    }\n",
       "</style>\n",
       "<table border=\"1\" class=\"dataframe\">\n",
       "  <thead>\n",
       "    <tr style=\"text-align: right;\">\n",
       "      <th></th>\n",
       "      <th>node1</th>\n",
       "      <th>label</th>\n",
       "      <th>node2</th>\n",
       "      <th>id</th>\n",
       "      <th>node2;wikidatatype</th>\n",
       "      <th>node1;label</th>\n",
       "    </tr>\n",
       "  </thead>\n",
       "  <tbody>\n",
       "    <tr>\n",
       "      <th>0</th>\n",
       "      <td>P10</td>\n",
       "      <td>alias</td>\n",
       "      <td>'gif'@en</td>\n",
       "      <td>P10-alias-en-282226-0</td>\n",
       "      <td>NaN</td>\n",
       "      <td>'video'@en</td>\n",
       "    </tr>\n",
       "    <tr>\n",
       "      <th>1</th>\n",
       "      <td>P10</td>\n",
       "      <td>alias</td>\n",
       "      <td>'animation'@en</td>\n",
       "      <td>P10-alias-en-2f86d8-0</td>\n",
       "      <td>NaN</td>\n",
       "      <td>'video'@en</td>\n",
       "    </tr>\n",
       "    <tr>\n",
       "      <th>2</th>\n",
       "      <td>P10</td>\n",
       "      <td>alias</td>\n",
       "      <td>'media'@en</td>\n",
       "      <td>P10-alias-en-c1427e-0</td>\n",
       "      <td>NaN</td>\n",
       "      <td>'video'@en</td>\n",
       "    </tr>\n",
       "    <tr>\n",
       "      <th>3</th>\n",
       "      <td>P10</td>\n",
       "      <td>alias</td>\n",
       "      <td>'trailer (Commons)'@en</td>\n",
       "      <td>P10-alias-en-c61ab1-0</td>\n",
       "      <td>NaN</td>\n",
       "      <td>'video'@en</td>\n",
       "    </tr>\n",
       "    <tr>\n",
       "      <th>4</th>\n",
       "      <td>P1001</td>\n",
       "      <td>alias</td>\n",
       "      <td>'belongs to jurisdiction'@en</td>\n",
       "      <td>P1001-alias-en-0dd7ce-0</td>\n",
       "      <td>NaN</td>\n",
       "      <td>'applies to jurisdiction'@en</td>\n",
       "    </tr>\n",
       "    <tr>\n",
       "      <th>5</th>\n",
       "      <td>P1001</td>\n",
       "      <td>alias</td>\n",
       "      <td>'linked to jurisdiction'@en</td>\n",
       "      <td>P1001-alias-en-106818-0</td>\n",
       "      <td>NaN</td>\n",
       "      <td>'applies to jurisdiction'@en</td>\n",
       "    </tr>\n",
       "    <tr>\n",
       "      <th>6</th>\n",
       "      <td>P1001</td>\n",
       "      <td>alias</td>\n",
       "      <td>'of jurisdiction'@en</td>\n",
       "      <td>P1001-alias-en-7e4abe-0</td>\n",
       "      <td>NaN</td>\n",
       "      <td>'applies to jurisdiction'@en</td>\n",
       "    </tr>\n",
       "    <tr>\n",
       "      <th>7</th>\n",
       "      <td>P1001</td>\n",
       "      <td>alias</td>\n",
       "      <td>'applied to jurisdiction'@en</td>\n",
       "      <td>P1001-alias-en-89ed18-0</td>\n",
       "      <td>NaN</td>\n",
       "      <td>'applies to jurisdiction'@en</td>\n",
       "    </tr>\n",
       "    <tr>\n",
       "      <th>8</th>\n",
       "      <td>P1001</td>\n",
       "      <td>alias</td>\n",
       "      <td>'jurisdiction'@en</td>\n",
       "      <td>P1001-alias-en-a524ab-0</td>\n",
       "      <td>NaN</td>\n",
       "      <td>'applies to jurisdiction'@en</td>\n",
       "    </tr>\n",
       "    <tr>\n",
       "      <th>9</th>\n",
       "      <td>P1001</td>\n",
       "      <td>alias</td>\n",
       "      <td>'valid in jurisdiction'@en</td>\n",
       "      <td>P1001-alias-en-ca2e7c-0</td>\n",
       "      <td>NaN</td>\n",
       "      <td>'applies to jurisdiction'@en</td>\n",
       "    </tr>\n",
       "  </tbody>\n",
       "</table>\n",
       "</div>"
      ],
      "text/plain": [
       "   node1  label                         node2                       id  \\\n",
       "0    P10  alias                      'gif'@en    P10-alias-en-282226-0   \n",
       "1    P10  alias                'animation'@en    P10-alias-en-2f86d8-0   \n",
       "2    P10  alias                    'media'@en    P10-alias-en-c1427e-0   \n",
       "3    P10  alias        'trailer (Commons)'@en    P10-alias-en-c61ab1-0   \n",
       "4  P1001  alias  'belongs to jurisdiction'@en  P1001-alias-en-0dd7ce-0   \n",
       "5  P1001  alias   'linked to jurisdiction'@en  P1001-alias-en-106818-0   \n",
       "6  P1001  alias          'of jurisdiction'@en  P1001-alias-en-7e4abe-0   \n",
       "7  P1001  alias  'applied to jurisdiction'@en  P1001-alias-en-89ed18-0   \n",
       "8  P1001  alias             'jurisdiction'@en  P1001-alias-en-a524ab-0   \n",
       "9  P1001  alias    'valid in jurisdiction'@en  P1001-alias-en-ca2e7c-0   \n",
       "\n",
       "   node2;wikidatatype                   node1;label  \n",
       "0                 NaN                    'video'@en  \n",
       "1                 NaN                    'video'@en  \n",
       "2                 NaN                    'video'@en  \n",
       "3                 NaN                    'video'@en  \n",
       "4                 NaN  'applies to jurisdiction'@en  \n",
       "5                 NaN  'applies to jurisdiction'@en  \n",
       "6                 NaN  'applies to jurisdiction'@en  \n",
       "7                 NaN  'applies to jurisdiction'@en  \n",
       "8                 NaN  'applies to jurisdiction'@en  \n",
       "9                 NaN  'applies to jurisdiction'@en  "
      ]
     },
     "execution_count": 40,
     "metadata": {},
     "output_type": "execute_result"
    }
   ],
   "source": [
    "%%time\n",
    "kgtk(\"\"\"\n",
    "    head -i \"$tutorial_files_path\"/arnold.all.tsv.gz / add-labels\n",
    "\"\"\")"
   ]
  },
  {
   "cell_type": "code",
   "execution_count": 9,
   "metadata": {},
   "outputs": [
    {
     "name": "stdout",
     "output_type": "stream",
     "text": [
      "aliases.en.tsv.gz                      labels.en.tsv.gz\n",
      "derived.P279.tsv.gz                    metadata.in_degree.tsv.gz\n",
      "derived.P279star.tsv.gz                metadata.out_degree.tsv.gz\n",
      "derived.P31.tsv.gz                     metadata.pagerank.directed.tsv.gz\n",
      "derived.dwd.count.tsv.gz               metadata.pagerank.undirected.tsv.gz\n",
      "derived.dwd_isa.tsv.gz                 statistics.in_degree.distribution.tsv\n",
      "descriptions.en.tsv.gz                 statistics.out_degree.distribution.tsv\n",
      "dwd_isa_class_count.compact.tsv.gz     \u001b[34mtemp.useful_files\u001b[m\u001b[m\n",
      "item.property.count.compact.tsv.gz\n"
     ]
    }
   ],
   "source": [
    "!ls \"$OUT\"/useful_files"
   ]
  },
  {
   "cell_type": "code",
   "execution_count": null,
   "metadata": {},
   "outputs": [],
   "source": []
  },
  {
   "cell_type": "code",
   "execution_count": null,
   "metadata": {},
   "outputs": [],
   "source": []
  },
  {
   "cell_type": "code",
   "execution_count": null,
   "metadata": {},
   "outputs": [],
   "source": []
  }
 ],
 "metadata": {
  "kernelspec": {
   "display_name": "kgtk-env",
   "language": "python",
   "name": "kgtk-env"
  },
  "language_info": {
   "codemirror_mode": {
    "name": "ipython",
    "version": 3
   },
   "file_extension": ".py",
   "mimetype": "text/x-python",
   "name": "python",
   "nbconvert_exporter": "python",
   "pygments_lexer": "ipython3",
   "version": "3.8.11"
  }
 },
 "nbformat": 4,
 "nbformat_minor": 4
}
