{
 "cells": [
  {
   "cell_type": "markdown",
   "id": "d34e89ca",
   "metadata": {},
   "source": [
    "# Enriching Wikidata with the Getty KG\n",
    "This notebook shows how graphs like Getty Vocabulary can be used to enrich Wikidata by using `kgtk` operations. We will show this enrichment on the records of people in the `Arnold Schwarzenegger` graph that exist both in Wikidata (with Qnode) and Getty Vocabulary (with ULAN ID). We will enrich their `date of birth` information. \n",
    "\n",
    "Specifically, we will investigate: *Does Getty contain complementary information to Wikidata about people's date of birth?*\n",
    "\n",
    "We will use KGTK to import Getty data, align Getty to Wikidata, query dates of birth in both graphs separately, compare the results, and enrich the Wikidata graph with the missing information."
   ]
  },
  {
   "cell_type": "code",
   "execution_count": 1,
   "id": "ad7e2663",
   "metadata": {},
   "outputs": [],
   "source": [
    "import io\n",
    "import os\n",
    "import subprocess\n",
    "import sys\n",
    "\n",
    "import numpy as np\n",
    "import pandas as pd\n",
    "from IPython.display import display, HTML\n",
    "\n",
    "# import papermill as pm\n",
    "# sys.path.insert(0,'..')\n",
    "from kgtk.configure_kgtk_notebooks import ConfigureKGTK\n",
    "from kgtk.functions import kgtk, kypher"
   ]
  },
  {
   "cell_type": "markdown",
   "id": "0d135d32",
   "metadata": {},
   "source": [
    "## Set up environment path\n",
    "Here we set up environment variables that will be used in the following sections, including folders, files like basic databases, query output and so on."
   ]
  },
  {
   "cell_type": "code",
   "execution_count": 2,
   "id": "f62fd5b0-c242-48e7-9dfd-4d9dbaedb164",
   "metadata": {},
   "outputs": [],
   "source": [
    "# Parameters\n",
    "\n",
    "kgtk_path = \"/Users/filipilievski/mcs/kgtk\"\n",
    "\n",
    "tutorial_deployment_path = \"/Users/filipilievski/mcs/kgtk-tutorial-files/datasets\"\n",
    "project_deployment_path = tutorial_deployment_path + \"/arnold-network-analysis\"\n",
    "\n",
    "# Folder on local machine where to create the output and temporary folders\n",
    "input_path = \"/Users/filipilievski/mcs/kgtk-tutorial-files/datasets/getty\"\n",
    "output_path = \"/Users/filipilievski/mcs/kgtk-projects\"\n",
    "project_name = \"getty-enrichment\""
   ]
  },
  {
   "cell_type": "code",
   "execution_count": 3,
   "id": "fd172fb9-8155-4824-b443-4faa8d742279",
   "metadata": {},
   "outputs": [
    {
     "name": "stdout",
     "output_type": "stream",
     "text": [
      "User home: /Users/filipilievski\n",
      "Current dir: /Users/filipilievski/mcs/kgtk/tutorial\n",
      "KGTK dir: /Users/filipilievski/mcs/kgtk\n",
      "Use-cases dir: /Users/filipilievski/mcs/kgtk/use-cases\n"
     ]
    }
   ],
   "source": [
    "files = [\n",
    "    \"all\",\n",
    "    \"label\",\n",
    "    'ULAN_term',\n",
    "    'ULAN_subject',\n",
    "    'ULAN_agentmap',\n",
    "    'ULAN_biography',\n",
    "    \"ULAN_namespace\"\n",
    "]\n",
    "ck = ConfigureKGTK(files, kgtk_path=kgtk_path)\n",
    "ck.configure_kgtk(input_graph_path=input_path,\n",
    "                  output_path=output_path,\n",
    "                  project_name=project_name,\n",
    "                  json_config_file=\"files_config.json\")"
   ]
  },
  {
   "cell_type": "code",
   "execution_count": 4,
   "id": "5739b942-9391-4159-b55d-c8afe24c3b94",
   "metadata": {},
   "outputs": [],
   "source": [
    "os.environ['kgtk_path'] = kgtk_path\n",
    "os.environ['KGTK_GRAPH_CACHE'] = os.environ['STORE']\n",
    "os.environ['KGTK_OPTION_DEBUG'] = \"false\""
   ]
  },
  {
   "cell_type": "code",
   "execution_count": 5,
   "id": "c413a881-de11-4e47-a409-ee1d5720288f",
   "metadata": {},
   "outputs": [
    {
     "name": "stdout",
     "output_type": "stream",
     "text": [
      "STORE: /Users/filipilievski/mcs/kgtk-projects/getty-enrichment/temp.getty-enrichment/wikidata.sqlite3.db\n",
      "OUT: /Users/filipilievski/mcs/kgtk-projects/getty-enrichment\n",
      "EXAMPLES_DIR: /Users/filipilievski/mcs/kgtk/examples\n",
      "USE_CASES_DIR: /Users/filipilievski/mcs/kgtk/use-cases\n",
      "GRAPH: /Users/filipilievski/mcs/kgtk-tutorial-files/datasets/getty\n",
      "kypher: kgtk query --graph-cache /Users/filipilievski/mcs/kgtk-projects/getty-enrichment/temp.getty-enrichment/wikidata.sqlite3.db\n",
      "TEMP: /Users/filipilievski/mcs/kgtk-projects/getty-enrichment/temp.getty-enrichment\n",
      "kgtk: kgtk\n",
      "all: /Users/filipilievski/mcs/kgtk-tutorial-files/datasets/getty/all.tsv.gz\n",
      "label: /Users/filipilievski/mcs/kgtk-tutorial-files/datasets/getty/labels.en.tsv.gz\n",
      "ULAN_term: /Users/filipilievski/mcs/kgtk-tutorial-files/datasets/getty/ULANOut_2Terms.nt\n",
      "ULAN_subject: /Users/filipilievski/mcs/kgtk-tutorial-files/datasets/getty/ULANOut_1Subjects.nt\n",
      "ULAN_agentmap: /Users/filipilievski/mcs/kgtk-tutorial-files/datasets/getty/ULANOut_AgentMap.nt\n",
      "ULAN_biography: /Users/filipilievski/mcs/kgtk-tutorial-files/datasets/getty/ULANOut_Biographies.nt\n",
      "ULAN_namespace: /Users/filipilievski/mcs/kgtk-tutorial-files/datasets/getty/namespaces.tsv\n"
     ]
    }
   ],
   "source": [
    "ck.print_env_variables()\n"
   ]
  },
  {
   "cell_type": "markdown",
   "id": "791ea034-d77d-44e6-85f1-0946ded85070",
   "metadata": {},
   "source": [
    "## Approach overview\n",
    "\n",
    "The Getty knowledge graph consists of [multiple vocabulary files](https://www.getty.edu/research/tools/vocabularies/), including ULAN (Union List of Artist Names), TGN (Thesaurus of Geographic Names), and AAT (Art & Architecture Thesaurus).\n",
    "In this tutorial, we will focus on the ULAN vocabulary, which \"includes names, rich relationships, notes, sources, and biographical information for artists, architects, firms, studios, repositories, and patrons, both individuals and corporate bodies, named and anonymous\". The procedures for the other vocabularies should be analogous as they are also in `.nt` format.\n",
    "\n",
    "The method that we will use consists of the following 5 steps:\n",
    "1. Import Getty's ULAN file into KGTK\n",
    "2. Align Getty to Wikidata\n",
    "3. Query Wikidata, record known & unknown values\n",
    "4. Query Getty to see if we can find these unknown values\n",
    "5. Append the newly found values to Wikidata"
   ]
  },
  {
   "cell_type": "markdown",
   "id": "0923ad59",
   "metadata": {},
   "source": [
    "## 1. Import TGN & ULAN into `kgtk`"
   ]
  },
  {
   "cell_type": "markdown",
   "id": "2c08d3f1",
   "metadata": {},
   "source": [
    "As both ULAN and TGN are stored in n-triples (`.nt`) format, we can simply use the `import-ntriples` command. \n",
    "\n",
    "**Understanding prefixes** Getty conveniently provides an ontology file in an [RDF format](http://vocab.getty.edu/ontology.rdf), which defines the prefixes in the file header. We have transformed this file in KGTK format (`namespaces.tsv`) and we will use it to help KGTK understand prefixes in the data.\n",
    "\n",
    "**Getty files** We will use four files from Getty's ULAN vocabulary:\n",
    "1. `Biography` - which links agents to biographies, using the `gvp:biographyPrefered` property.\n",
    "2. `Agent Map` which links people to their roles (\"agents\"), through the `foaf:focus` property.\n",
    "3. `Subjects` use `dc:identifier` to link ULAN nodes to their ULAN ID strings.\n",
    "4. `Terms` which links agents to their year of birth and death, using the `gvp:estStart` and `gvp:estEnd` properties \n",
    "\n",
    "We first import each of these four files into KGTK:"
   ]
  },
  {
   "cell_type": "code",
   "execution_count": 6,
   "id": "bb458fc6",
   "metadata": {},
   "outputs": [
    {
     "name": "stdout",
     "output_type": "stream",
     "text": [
      "CPU times: user 43.9 ms, sys: 41 ms, total: 84.8 ms\n",
      "Wall time: 2min 19s\n"
     ]
    }
   ],
   "source": [
    "%%time\n",
    "kgtk(\"\"\"\n",
    "    import-ntriples \n",
    "        -i $ULAN_term \n",
    "        -o $TEMP/ULAN_term_KGTK.tsv \n",
    "        --namespace-file $ULAN_namespace \n",
    "        --namespace-id-use-uuid True \n",
    "        --build-new-namespaces False \n",
    "        --output-only-used-namespaces True \n",
    "        --structured-value-label gvp:structured_value \n",
    "        --structured-uri-label gvp:structured_uri \n",
    "        --newnode-prefix node \n",
    "        --newnode-use-uuid True\n",
    "    \"\"\")"
   ]
  },
  {
   "cell_type": "code",
   "execution_count": 7,
   "id": "bcd33982",
   "metadata": {},
   "outputs": [
    {
     "name": "stdout",
     "output_type": "stream",
     "text": [
      "CPU times: user 15.8 ms, sys: 17.3 ms, total: 33.1 ms\n",
      "Wall time: 51.7 s\n"
     ]
    }
   ],
   "source": [
    "%%time\n",
    "kgtk(\"\"\"\n",
    "    import-ntriples \n",
    "        -i $ULAN_subject \n",
    "        -o $TEMP/ULAN_subject_KGTK.tsv \n",
    "        --namespace-file $ULAN_namespace \n",
    "        --namespace-id-use-uuid True \n",
    "        --build-new-namespaces False \n",
    "        --output-only-used-namespaces True \n",
    "        --structured-value-label gvp:structured_value \n",
    "        --structured-uri-label gvp:structured_uri \n",
    "        --newnode-prefix node \n",
    "        --newnode-use-uuid True\n",
    "    \"\"\")"
   ]
  },
  {
   "cell_type": "code",
   "execution_count": 8,
   "id": "5e7a747e-cc2c-4f9a-aa85-343c6e7a08a4",
   "metadata": {},
   "outputs": [
    {
     "name": "stdout",
     "output_type": "stream",
     "text": [
      "CPU times: user 10.8 ms, sys: 14.7 ms, total: 25.5 ms\n",
      "Wall time: 23.5 s\n"
     ]
    }
   ],
   "source": [
    "%%time\n",
    "kgtk(\"\"\"\n",
    "    import-ntriples \n",
    "        -i $ULAN_agentmap \n",
    "        -o $TEMP/ULAN_agentmap_KGTK.tsv \n",
    "        --namespace-file $ULAN_namespace \n",
    "        --namespace-id-use-uuid True \n",
    "        --build-new-namespaces False \n",
    "        --output-only-used-namespaces True \n",
    "        --structured-value-label gvp:structured_value \n",
    "        --structured-uri-label gvp:structured_uri \n",
    "        --newnode-prefix node \n",
    "        --newnode-use-uuid True\n",
    "    \"\"\")"
   ]
  },
  {
   "cell_type": "code",
   "execution_count": 9,
   "id": "bc17eafd-8925-4895-a19c-ecc33e265c4b",
   "metadata": {},
   "outputs": [
    {
     "name": "stdout",
     "output_type": "stream",
     "text": [
      "CPU times: user 32 ms, sys: 30.3 ms, total: 62.2 ms\n",
      "Wall time: 1min 33s\n"
     ]
    }
   ],
   "source": [
    "%%time\n",
    "kgtk(\"\"\"\n",
    "    import-ntriples \n",
    "        -i $ULAN_biography \n",
    "        -o $TEMP/ULAN_biography_KGTK.tsv \n",
    "        --namespace-file $ULAN_namespace \n",
    "        --namespace-id-use-uuid True \n",
    "        --build-new-namespaces False \n",
    "        --output-only-used-namespaces True \n",
    "        --structured-value-label gvp:structured_value \n",
    "        --structured-uri-label gvp:structured_uri \n",
    "        --newnode-prefix node \n",
    "        --newnode-use-uuid True\n",
    "    \"\"\")"
   ]
  },
  {
   "cell_type": "markdown",
   "id": "0ae93142-7680-427a-8555-0f3d8fb9a088",
   "metadata": {},
   "source": [
    "After importing each of the files, we can now use KGTK operations on them. We start by `kgtk cat` to concatenate them into a single file for more convenient work with it."
   ]
  },
  {
   "cell_type": "code",
   "execution_count": 10,
   "id": "7ff48c95-5e70-400d-bd22-b7d55a1c161d",
   "metadata": {},
   "outputs": [
    {
     "name": "stdout",
     "output_type": "stream",
     "text": [
      "CPU times: user 6.22 ms, sys: 9.73 ms, total: 15.9 ms\n",
      "Wall time: 11 s\n"
     ]
    }
   ],
   "source": [
    "%%time\n",
    "kgtk(\"\"\"\n",
    "    cat -i $TEMP/ULAN_term_KGTK.tsv $TEMP/ULAN_subject_KGTK.tsv $TEMP/ULAN_agentmap_KGTK.tsv $TEMP/ULAN_biography_KGTK.tsv \n",
    "        -o $TEMP/ULAN_all.tsv\n",
    "    \"\"\")"
   ]
  },
  {
   "cell_type": "markdown",
   "id": "caae378c",
   "metadata": {},
   "source": [
    "## 2. Build Getty-Wikidata Alignment\n",
    "Getty provides a `WikidataAlignment` file but our analysis showed that this alignment file is incomplete or out-of-date. Thus, we build our own alignment file, which links ULAN IDs to Wikidata Qnodes."
   ]
  },
  {
   "cell_type": "markdown",
   "id": "7dd3db2d",
   "metadata": {},
   "source": [
    "We perform a join between the Wikidata and the ULAN graph, through the ULAN identifiers available in both graphs.\n",
    "Wikidata uses the property `P245` to map Qnode ids to ULAN identifiers, whereas Getty combines ULAN nodes to IDs with the `dc:identifier` property.\n",
    "\n",
    "We will use the `skos:exactMatch` property to indicate alignment between ULAN nodes and Wikidata nodes.\n",
    "\n",
    "Let's first see what results we get with this join operation:"
   ]
  },
  {
   "cell_type": "code",
   "execution_count": 11,
   "id": "69cf5f27",
   "metadata": {},
   "outputs": [
    {
     "name": "stdout",
     "output_type": "stream",
     "text": [
      "CPU times: user 51.3 ms, sys: 39.8 ms, total: 91.1 ms\n",
      "Wall time: 2min 7s\n"
     ]
    },
    {
     "data": {
      "text/html": [
       "<div>\n",
       "<style scoped>\n",
       "    .dataframe tbody tr th:only-of-type {\n",
       "        vertical-align: middle;\n",
       "    }\n",
       "\n",
       "    .dataframe tbody tr th {\n",
       "        vertical-align: top;\n",
       "    }\n",
       "\n",
       "    .dataframe thead th {\n",
       "        text-align: right;\n",
       "    }\n",
       "</style>\n",
       "<table border=\"1\" class=\"dataframe\">\n",
       "  <thead>\n",
       "    <tr style=\"text-align: right;\">\n",
       "      <th></th>\n",
       "      <th>node1</th>\n",
       "      <th>label</th>\n",
       "      <th>node2</th>\n",
       "      <th>node2;label</th>\n",
       "    </tr>\n",
       "  </thead>\n",
       "  <tbody>\n",
       "    <tr>\n",
       "      <th>0</th>\n",
       "      <td>ulan:500224955</td>\n",
       "      <td>skos:exactMatch</td>\n",
       "      <td>Q100948</td>\n",
       "      <td>'Rachel Carson'@en</td>\n",
       "    </tr>\n",
       "    <tr>\n",
       "      <th>1</th>\n",
       "      <td>ulan:500281177</td>\n",
       "      <td>skos:exactMatch</td>\n",
       "      <td>Q101771</td>\n",
       "      <td>'Gottfried Gruben'@en</td>\n",
       "    </tr>\n",
       "    <tr>\n",
       "      <th>2</th>\n",
       "      <td>ulan:500001235</td>\n",
       "      <td>skos:exactMatch</td>\n",
       "      <td>Q101791</td>\n",
       "      <td>'Sep Ruf'@en</td>\n",
       "    </tr>\n",
       "    <tr>\n",
       "      <th>3</th>\n",
       "      <td>ulan:500256782</td>\n",
       "      <td>skos:exactMatch</td>\n",
       "      <td>Q102139</td>\n",
       "      <td>'Margrethe II of Denmark'@en</td>\n",
       "    </tr>\n",
       "    <tr>\n",
       "      <th>4</th>\n",
       "      <td>ulan:500302331</td>\n",
       "      <td>skos:exactMatch</td>\n",
       "      <td>Q1024362</td>\n",
       "      <td>'Spanish National Research Council'@en</td>\n",
       "    </tr>\n",
       "    <tr>\n",
       "      <th>5</th>\n",
       "      <td>ulan:500286871</td>\n",
       "      <td>skos:exactMatch</td>\n",
       "      <td>Q1024426</td>\n",
       "      <td>'University of South Carolina'@en</td>\n",
       "    </tr>\n",
       "    <tr>\n",
       "      <th>6</th>\n",
       "      <td>ulan:500114625</td>\n",
       "      <td>skos:exactMatch</td>\n",
       "      <td>Q102711</td>\n",
       "      <td>'Dennis Hopper'@en</td>\n",
       "    </tr>\n",
       "    <tr>\n",
       "      <th>7</th>\n",
       "      <td>ulan:500304375</td>\n",
       "      <td>skos:exactMatch</td>\n",
       "      <td>Q10288082</td>\n",
       "      <td>'Wildenstein &amp; Company'@en</td>\n",
       "    </tr>\n",
       "    <tr>\n",
       "      <th>8</th>\n",
       "      <td>ulan:500355461</td>\n",
       "      <td>skos:exactMatch</td>\n",
       "      <td>Q103876</td>\n",
       "      <td>'Peter O\\'Toole'@en</td>\n",
       "    </tr>\n",
       "    <tr>\n",
       "      <th>9</th>\n",
       "      <td>ulan:500221924</td>\n",
       "      <td>skos:exactMatch</td>\n",
       "      <td>Q1049334</td>\n",
       "      <td>'United States Army Corps of Engineers'@en</td>\n",
       "    </tr>\n",
       "  </tbody>\n",
       "</table>\n",
       "</div>"
      ],
      "text/plain": [
       "            node1            label      node2  \\\n",
       "0  ulan:500224955  skos:exactMatch    Q100948   \n",
       "1  ulan:500281177  skos:exactMatch    Q101771   \n",
       "2  ulan:500001235  skos:exactMatch    Q101791   \n",
       "3  ulan:500256782  skos:exactMatch    Q102139   \n",
       "4  ulan:500302331  skos:exactMatch   Q1024362   \n",
       "5  ulan:500286871  skos:exactMatch   Q1024426   \n",
       "6  ulan:500114625  skos:exactMatch    Q102711   \n",
       "7  ulan:500304375  skos:exactMatch  Q10288082   \n",
       "8  ulan:500355461  skos:exactMatch    Q103876   \n",
       "9  ulan:500221924  skos:exactMatch   Q1049334   \n",
       "\n",
       "                                  node2;label  \n",
       "0                          'Rachel Carson'@en  \n",
       "1                       'Gottfried Gruben'@en  \n",
       "2                                'Sep Ruf'@en  \n",
       "3                'Margrethe II of Denmark'@en  \n",
       "4      'Spanish National Research Council'@en  \n",
       "5           'University of South Carolina'@en  \n",
       "6                          'Dennis Hopper'@en  \n",
       "7                  'Wildenstein & Company'@en  \n",
       "8                         'Peter O\\'Toole'@en  \n",
       "9  'United States Army Corps of Engineers'@en  "
      ]
     },
     "execution_count": 11,
     "metadata": {},
     "output_type": "execute_result"
    }
   ],
   "source": [
    "%%time\n",
    "kgtk(\"\"\"\n",
    "    query -i $all $TEMP/ULAN_all.tsv \n",
    "        --match 'all: (qnode)-[:P245]->(identifier), ULAN: (ulanid)-[p]->(identifier)' \n",
    "        --where 'p.label = \"dc:identifier\"' \n",
    "        --return 'distinct ulanid as node1, \"skos:exactMatch\" as label, qnode as node2' \n",
    "        --limit 10\n",
    "    / add-labels\n",
    "    \"\"\")"
   ]
  },
  {
   "cell_type": "markdown",
   "id": "17acc728-cc7e-4cb9-ade5-e92a40a36d21",
   "metadata": {},
   "source": [
    "The results look reasonable, so let's go ahead and store the alignment into a KGTK file:"
   ]
  },
  {
   "cell_type": "code",
   "execution_count": 12,
   "id": "4a3fdca2",
   "metadata": {},
   "outputs": [
    {
     "name": "stdout",
     "output_type": "stream",
     "text": [
      "CPU times: user 2.79 ms, sys: 8.3 ms, total: 11.1 ms\n",
      "Wall time: 1.02 s\n"
     ]
    }
   ],
   "source": [
    "%%time\n",
    "kgtk(\"\"\"\n",
    "    query -i $all $TEMP/ULAN_KGTK.tsv \n",
    "        --match 'all: (qnode)-[:P245]->(identifier), ULAN: (ulanid)-[p]->(identifier)' \n",
    "        --where 'p.label = \"dc:identifier\"' \n",
    "        --return 'distinct ulanid as node1, \"skos:exactMatch\" as label, qnode as node2' \n",
    "        -o $TEMP/ULAN_ALIGN.tsv\n",
    "    \"\"\")"
   ]
  },
  {
   "cell_type": "markdown",
   "id": "2daceb10-44c6-4e82-9dc7-e628618451ad",
   "metadata": {},
   "source": [
    "We will now run a simple Kypher query to count the Qnodes for which we have ULAN mapping:"
   ]
  },
  {
   "cell_type": "code",
   "execution_count": 13,
   "id": "5e2e7b05",
   "metadata": {},
   "outputs": [
    {
     "data": {
      "text/html": [
       "<div>\n",
       "<style scoped>\n",
       "    .dataframe tbody tr th:only-of-type {\n",
       "        vertical-align: middle;\n",
       "    }\n",
       "\n",
       "    .dataframe tbody tr th {\n",
       "        vertical-align: top;\n",
       "    }\n",
       "\n",
       "    .dataframe thead th {\n",
       "        text-align: right;\n",
       "    }\n",
       "</style>\n",
       "<table border=\"1\" class=\"dataframe\">\n",
       "  <thead>\n",
       "    <tr style=\"text-align: right;\">\n",
       "      <th></th>\n",
       "      <th>QNODE</th>\n",
       "    </tr>\n",
       "  </thead>\n",
       "  <tbody>\n",
       "    <tr>\n",
       "      <th>0</th>\n",
       "      <td>535</td>\n",
       "    </tr>\n",
       "  </tbody>\n",
       "</table>\n",
       "</div>"
      ],
      "text/plain": [
       "   QNODE\n",
       "0    535"
      ]
     },
     "execution_count": 13,
     "metadata": {},
     "output_type": "execute_result"
    }
   ],
   "source": [
    "kgtk(\"\"\"\n",
    "    query -i $TEMP/ULAN_ALIGN.tsv \n",
    "        --match '(ulanid)-[]->(qnode)' \n",
    "        --return 'count(distinct qnode) as QNODE'\n",
    "    \"\"\")"
   ]
  },
  {
   "cell_type": "markdown",
   "id": "e046658a-9e8e-4b4f-91a6-79511b07ba45",
   "metadata": {},
   "source": [
    "**Finding:** we obtain ULAN mappings for 535 Wikidata nodes."
   ]
  },
  {
   "cell_type": "markdown",
   "id": "fde64419",
   "metadata": {},
   "source": [
    "## 3. Query Wikidata\n",
    "We query Wikidata for these 535 people to see if it has recorded date of birth, using the `P569` property.\n",
    "\n",
    "We provide first a glimpse of the query results (about 10 results):"
   ]
  },
  {
   "cell_type": "code",
   "execution_count": 14,
   "id": "72b0a8c4",
   "metadata": {},
   "outputs": [
    {
     "name": "stdout",
     "output_type": "stream",
     "text": [
      "CPU times: user 4.78 ms, sys: 7.48 ms, total: 12.3 ms\n",
      "Wall time: 2 s\n"
     ]
    },
    {
     "data": {
      "text/html": [
       "<div>\n",
       "<style scoped>\n",
       "    .dataframe tbody tr th:only-of-type {\n",
       "        vertical-align: middle;\n",
       "    }\n",
       "\n",
       "    .dataframe tbody tr th {\n",
       "        vertical-align: top;\n",
       "    }\n",
       "\n",
       "    .dataframe thead th {\n",
       "        text-align: right;\n",
       "    }\n",
       "</style>\n",
       "<table border=\"1\" class=\"dataframe\">\n",
       "  <thead>\n",
       "    <tr style=\"text-align: right;\">\n",
       "      <th></th>\n",
       "      <th>node1</th>\n",
       "      <th>label</th>\n",
       "      <th>node2</th>\n",
       "      <th>node1;label</th>\n",
       "      <th>label;label</th>\n",
       "    </tr>\n",
       "  </thead>\n",
       "  <tbody>\n",
       "    <tr>\n",
       "      <th>0</th>\n",
       "      <td>Q100948</td>\n",
       "      <td>P569</td>\n",
       "      <td>^1907-05-27T00:00:00Z/11</td>\n",
       "      <td>'Rachel Carson'@en</td>\n",
       "      <td>'date of birth'@en</td>\n",
       "    </tr>\n",
       "    <tr>\n",
       "      <th>1</th>\n",
       "      <td>Q101771</td>\n",
       "      <td>P569</td>\n",
       "      <td>^1929-06-21T00:00:00Z/11</td>\n",
       "      <td>'Gottfried Gruben'@en</td>\n",
       "      <td>'date of birth'@en</td>\n",
       "    </tr>\n",
       "    <tr>\n",
       "      <th>2</th>\n",
       "      <td>Q101791</td>\n",
       "      <td>P569</td>\n",
       "      <td>^1908-03-09T00:00:00Z/11</td>\n",
       "      <td>'Sep Ruf'@en</td>\n",
       "      <td>'date of birth'@en</td>\n",
       "    </tr>\n",
       "    <tr>\n",
       "      <th>3</th>\n",
       "      <td>Q102139</td>\n",
       "      <td>P569</td>\n",
       "      <td>^1940-04-16T00:00:00Z/11</td>\n",
       "      <td>'Margrethe II of Denmark'@en</td>\n",
       "      <td>'date of birth'@en</td>\n",
       "    </tr>\n",
       "    <tr>\n",
       "      <th>4</th>\n",
       "      <td>Q102711</td>\n",
       "      <td>P569</td>\n",
       "      <td>^1936-05-17T00:00:00Z/11</td>\n",
       "      <td>'Dennis Hopper'@en</td>\n",
       "      <td>'date of birth'@en</td>\n",
       "    </tr>\n",
       "    <tr>\n",
       "      <th>5</th>\n",
       "      <td>Q103876</td>\n",
       "      <td>P569</td>\n",
       "      <td>^1932-08-02T00:00:00Z/11</td>\n",
       "      <td>'Peter O\\'Toole'@en</td>\n",
       "      <td>'date of birth'@en</td>\n",
       "    </tr>\n",
       "    <tr>\n",
       "      <th>6</th>\n",
       "      <td>Q1066442</td>\n",
       "      <td>P569</td>\n",
       "      <td>^1925-10-31T00:00:00Z/11</td>\n",
       "      <td>'Charles Moore'@en</td>\n",
       "      <td>'date of birth'@en</td>\n",
       "    </tr>\n",
       "    <tr>\n",
       "      <th>7</th>\n",
       "      <td>Q106775</td>\n",
       "      <td>P569</td>\n",
       "      <td>^1930-10-02T00:00:00Z/11</td>\n",
       "      <td>'Richard Harris'@en</td>\n",
       "      <td>'date of birth'@en</td>\n",
       "    </tr>\n",
       "    <tr>\n",
       "      <th>8</th>\n",
       "      <td>Q106775</td>\n",
       "      <td>P569</td>\n",
       "      <td>^1930-10-01T00:00:00Z/11</td>\n",
       "      <td>'Richard Harris'@en</td>\n",
       "      <td>'date of birth'@en</td>\n",
       "    </tr>\n",
       "    <tr>\n",
       "      <th>9</th>\n",
       "      <td>Q1080053</td>\n",
       "      <td>P569</td>\n",
       "      <td>^1864-07-20T00:00:00Z/11</td>\n",
       "      <td>'Louis Finot'@en</td>\n",
       "      <td>'date of birth'@en</td>\n",
       "    </tr>\n",
       "  </tbody>\n",
       "</table>\n",
       "</div>"
      ],
      "text/plain": [
       "      node1 label                     node2                   node1;label  \\\n",
       "0   Q100948  P569  ^1907-05-27T00:00:00Z/11            'Rachel Carson'@en   \n",
       "1   Q101771  P569  ^1929-06-21T00:00:00Z/11         'Gottfried Gruben'@en   \n",
       "2   Q101791  P569  ^1908-03-09T00:00:00Z/11                  'Sep Ruf'@en   \n",
       "3   Q102139  P569  ^1940-04-16T00:00:00Z/11  'Margrethe II of Denmark'@en   \n",
       "4   Q102711  P569  ^1936-05-17T00:00:00Z/11            'Dennis Hopper'@en   \n",
       "5   Q103876  P569  ^1932-08-02T00:00:00Z/11           'Peter O\\'Toole'@en   \n",
       "6  Q1066442  P569  ^1925-10-31T00:00:00Z/11            'Charles Moore'@en   \n",
       "7   Q106775  P569  ^1930-10-02T00:00:00Z/11           'Richard Harris'@en   \n",
       "8   Q106775  P569  ^1930-10-01T00:00:00Z/11           'Richard Harris'@en   \n",
       "9  Q1080053  P569  ^1864-07-20T00:00:00Z/11              'Louis Finot'@en   \n",
       "\n",
       "          label;label  \n",
       "0  'date of birth'@en  \n",
       "1  'date of birth'@en  \n",
       "2  'date of birth'@en  \n",
       "3  'date of birth'@en  \n",
       "4  'date of birth'@en  \n",
       "5  'date of birth'@en  \n",
       "6  'date of birth'@en  \n",
       "7  'date of birth'@en  \n",
       "8  'date of birth'@en  \n",
       "9  'date of birth'@en  "
      ]
     },
     "execution_count": 14,
     "metadata": {},
     "output_type": "execute_result"
    }
   ],
   "source": [
    "%%time\n",
    "kgtk(\"\"\"\n",
    "    query -i $TEMP/ULAN_ALIGN.tsv $all \n",
    "        --match 'ALIGN: (ulanid)-[]->(qnode), \n",
    "                 all: (qnode)-[p:P569]->(birthdate)' \n",
    "        --return 'qnode as node1, p.label as label, birthdate as node2' \n",
    "        --limit 10\n",
    "    / add-labels\n",
    "    \"\"\")"
   ]
  },
  {
   "cell_type": "markdown",
   "id": "1dbe420d-5fd1-41f2-9f46-3d2b919d794a",
   "metadata": {},
   "source": [
    "Now that we understand the results, we perform the query for all 535 people:"
   ]
  },
  {
   "cell_type": "code",
   "execution_count": 15,
   "id": "6b0a1f41",
   "metadata": {},
   "outputs": [
    {
     "name": "stdout",
     "output_type": "stream",
     "text": [
      "CPU times: user 2.62 ms, sys: 6.74 ms, total: 9.36 ms\n",
      "Wall time: 947 ms\n"
     ]
    }
   ],
   "source": [
    "%%time\n",
    "kgtk(\"\"\"\n",
    "    query -i $TEMP/ULAN_ALIGN.tsv $all \n",
    "        --match 'ALIGN: (ulanid)-[]->(qnode), \n",
    "                 all: (qnode)-[p:P569]->(birthdate)' \n",
    "        --return 'qnode as node1, p.label as label, birthdate as node2' \n",
    "        -o $TEMP/WD_BD.tsv\n",
    "    \"\"\")"
   ]
  },
  {
   "cell_type": "markdown",
   "id": "02722b2b-fe2e-4692-bb2c-4624824773e5",
   "metadata": {},
   "source": [
    "And we count the date of birth rows that we find:"
   ]
  },
  {
   "cell_type": "code",
   "execution_count": 16,
   "id": "b56692c5",
   "metadata": {},
   "outputs": [
    {
     "data": {
      "text/html": [
       "<div>\n",
       "<style scoped>\n",
       "    .dataframe tbody tr th:only-of-type {\n",
       "        vertical-align: middle;\n",
       "    }\n",
       "\n",
       "    .dataframe tbody tr th {\n",
       "        vertical-align: top;\n",
       "    }\n",
       "\n",
       "    .dataframe thead th {\n",
       "        text-align: right;\n",
       "    }\n",
       "</style>\n",
       "<table border=\"1\" class=\"dataframe\">\n",
       "  <thead>\n",
       "    <tr style=\"text-align: right;\">\n",
       "      <th></th>\n",
       "      <th>Qnode</th>\n",
       "    </tr>\n",
       "  </thead>\n",
       "  <tbody>\n",
       "    <tr>\n",
       "      <th>0</th>\n",
       "      <td>266</td>\n",
       "    </tr>\n",
       "  </tbody>\n",
       "</table>\n",
       "</div>"
      ],
      "text/plain": [
       "   Qnode\n",
       "0    266"
      ]
     },
     "execution_count": 16,
     "metadata": {},
     "output_type": "execute_result"
    }
   ],
   "source": [
    "kgtk(\"\"\"\n",
    "    query -i $TEMP/WD_BD.tsv\n",
    "        --match '(qnode)-[]->()' \n",
    "        --return 'count(distinct qnode) as Qnode'\n",
    "    \"\"\")"
   ]
  },
  {
   "cell_type": "markdown",
   "id": "b5b76f1e-193c-4313-81d0-0be123667bc8",
   "metadata": {},
   "source": [
    "**Finding:** Out of the 535 people, 266 have date of birth in Wikidata. "
   ]
  },
  {
   "cell_type": "markdown",
   "id": "496a9ad1",
   "metadata": {},
   "source": [
    "## 4. Query Getty"
   ]
  },
  {
   "cell_type": "markdown",
   "id": "5e1dcbb8",
   "metadata": {},
   "source": [
    "*Let's see whether Getty can fill the knowledge gaps for the remaining people in Wikidata...*\n",
    "\n",
    "We now query Getty for the same set of 535 people. In this query, we take the ulan IDs that correspond to the Qnodes of interest, we link these ULAN nodes to ULAN agents or \"roles\" (using `foaf:focus`), we find their biography (using `gvp:biographyPreferred`), and we get the birth year based on the `gvp:estStart` property. As the birth year is a structured literal, we consider its value (`gvp:structuredValue`).\n",
    "\n",
    "Getty provides date of birth on a year granularity level. For this purpose, we query Getty for years of birth, and we format them as dates, using the appropriate year precision marker (`/9` in Wikidata and KGTK)."
   ]
  },
  {
   "cell_type": "code",
   "execution_count": 17,
   "id": "1879b0d5",
   "metadata": {},
   "outputs": [
    {
     "name": "stdout",
     "output_type": "stream",
     "text": [
      "CPU times: user 10.7 ms, sys: 11.1 ms, total: 21.7 ms\n",
      "Wall time: 18.1 s\n"
     ]
    },
    {
     "data": {
      "text/html": [
       "<div>\n",
       "<style scoped>\n",
       "    .dataframe tbody tr th:only-of-type {\n",
       "        vertical-align: middle;\n",
       "    }\n",
       "\n",
       "    .dataframe tbody tr th {\n",
       "        vertical-align: top;\n",
       "    }\n",
       "\n",
       "    .dataframe thead th {\n",
       "        text-align: right;\n",
       "    }\n",
       "</style>\n",
       "<table border=\"1\" class=\"dataframe\">\n",
       "  <thead>\n",
       "    <tr style=\"text-align: right;\">\n",
       "      <th></th>\n",
       "      <th>node1</th>\n",
       "      <th>label</th>\n",
       "      <th>node2</th>\n",
       "      <th>node1;label</th>\n",
       "      <th>label;label</th>\n",
       "    </tr>\n",
       "  </thead>\n",
       "  <tbody>\n",
       "    <tr>\n",
       "      <th>0</th>\n",
       "      <td>Q100948</td>\n",
       "      <td>P569</td>\n",
       "      <td>^1907-01-01T00:00:00Z/9</td>\n",
       "      <td>'Rachel Carson'@en</td>\n",
       "      <td>'date of birth'@en</td>\n",
       "    </tr>\n",
       "    <tr>\n",
       "      <th>1</th>\n",
       "      <td>Q101771</td>\n",
       "      <td>P569</td>\n",
       "      <td>^1929-01-01T00:00:00Z/9</td>\n",
       "      <td>'Gottfried Gruben'@en</td>\n",
       "      <td>'date of birth'@en</td>\n",
       "    </tr>\n",
       "    <tr>\n",
       "      <th>2</th>\n",
       "      <td>Q101791</td>\n",
       "      <td>P569</td>\n",
       "      <td>^1908-01-01T00:00:00Z/9</td>\n",
       "      <td>'Sep Ruf'@en</td>\n",
       "      <td>'date of birth'@en</td>\n",
       "    </tr>\n",
       "    <tr>\n",
       "      <th>3</th>\n",
       "      <td>Q102139</td>\n",
       "      <td>P569</td>\n",
       "      <td>^1940-01-01T00:00:00Z/9</td>\n",
       "      <td>'Margrethe II of Denmark'@en</td>\n",
       "      <td>'date of birth'@en</td>\n",
       "    </tr>\n",
       "    <tr>\n",
       "      <th>4</th>\n",
       "      <td>Q1024362</td>\n",
       "      <td>P569</td>\n",
       "      <td>^1800-01-01T00:00:00Z/9</td>\n",
       "      <td>'Spanish National Research Council'@en</td>\n",
       "      <td>'date of birth'@en</td>\n",
       "    </tr>\n",
       "    <tr>\n",
       "      <th>5</th>\n",
       "      <td>Q1024426</td>\n",
       "      <td>P569</td>\n",
       "      <td>^1850-01-01T00:00:00Z/9</td>\n",
       "      <td>'University of South Carolina'@en</td>\n",
       "      <td>'date of birth'@en</td>\n",
       "    </tr>\n",
       "    <tr>\n",
       "      <th>6</th>\n",
       "      <td>Q102711</td>\n",
       "      <td>P569</td>\n",
       "      <td>^1936-01-01T00:00:00Z/9</td>\n",
       "      <td>'Dennis Hopper'@en</td>\n",
       "      <td>'date of birth'@en</td>\n",
       "    </tr>\n",
       "    <tr>\n",
       "      <th>7</th>\n",
       "      <td>Q10288082</td>\n",
       "      <td>P569</td>\n",
       "      <td>^1875-01-01T00:00:00Z/9</td>\n",
       "      <td>'Wildenstein &amp; Company'@en</td>\n",
       "      <td>'date of birth'@en</td>\n",
       "    </tr>\n",
       "    <tr>\n",
       "      <th>8</th>\n",
       "      <td>Q103876</td>\n",
       "      <td>P569</td>\n",
       "      <td>^1932-01-01T00:00:00Z/9</td>\n",
       "      <td>'Peter O\\'Toole'@en</td>\n",
       "      <td>'date of birth'@en</td>\n",
       "    </tr>\n",
       "    <tr>\n",
       "      <th>9</th>\n",
       "      <td>Q1049334</td>\n",
       "      <td>P569</td>\n",
       "      <td>^1850-01-01T00:00:00Z/9</td>\n",
       "      <td>'United States Army Corps of Engineers'@en</td>\n",
       "      <td>'date of birth'@en</td>\n",
       "    </tr>\n",
       "  </tbody>\n",
       "</table>\n",
       "</div>"
      ],
      "text/plain": [
       "       node1 label                    node2  \\\n",
       "0    Q100948  P569  ^1907-01-01T00:00:00Z/9   \n",
       "1    Q101771  P569  ^1929-01-01T00:00:00Z/9   \n",
       "2    Q101791  P569  ^1908-01-01T00:00:00Z/9   \n",
       "3    Q102139  P569  ^1940-01-01T00:00:00Z/9   \n",
       "4   Q1024362  P569  ^1800-01-01T00:00:00Z/9   \n",
       "5   Q1024426  P569  ^1850-01-01T00:00:00Z/9   \n",
       "6    Q102711  P569  ^1936-01-01T00:00:00Z/9   \n",
       "7  Q10288082  P569  ^1875-01-01T00:00:00Z/9   \n",
       "8    Q103876  P569  ^1932-01-01T00:00:00Z/9   \n",
       "9   Q1049334  P569  ^1850-01-01T00:00:00Z/9   \n",
       "\n",
       "                                  node1;label         label;label  \n",
       "0                          'Rachel Carson'@en  'date of birth'@en  \n",
       "1                       'Gottfried Gruben'@en  'date of birth'@en  \n",
       "2                                'Sep Ruf'@en  'date of birth'@en  \n",
       "3                'Margrethe II of Denmark'@en  'date of birth'@en  \n",
       "4      'Spanish National Research Council'@en  'date of birth'@en  \n",
       "5           'University of South Carolina'@en  'date of birth'@en  \n",
       "6                          'Dennis Hopper'@en  'date of birth'@en  \n",
       "7                  'Wildenstein & Company'@en  'date of birth'@en  \n",
       "8                         'Peter O\\'Toole'@en  'date of birth'@en  \n",
       "9  'United States Army Corps of Engineers'@en  'date of birth'@en  "
      ]
     },
     "execution_count": 17,
     "metadata": {},
     "output_type": "execute_result"
    }
   ],
   "source": [
    "%%time\n",
    "kgtk(\"\"\"\n",
    "    query -i $TEMP/ULAN_ALIGN.tsv $TEMP/ULAN_all.tsv\n",
    "        --match 'ALIGN: (ulanid)-[]->(qnode), \n",
    "                 all: (ulanid)-[p0]->(ulanagent), \n",
    "                 all: (ulanagent)-[p1]->()-[p2]->()-[p3]->(datevalue)' \n",
    "        --where 'p0.label = \"foaf:focus\" AND p1.label = \"gvp:biographyPreferred\" AND p2.label = \"gvp:estStart\" AND p3.label = \"gvp:structured_value\"' \n",
    "        --return 'distinct qnode as node1, \"P569\" as label, printf(\"^%s-01-01T00:00:00Z/9\", kgtk_unstringify(datevalue)) as node2' \n",
    "        --limit 10\n",
    "    / add-labels\n",
    "    \"\"\")"
   ]
  },
  {
   "cell_type": "markdown",
   "id": "67ecee50-1e8e-441b-a730-c538f25dea70",
   "metadata": {},
   "source": [
    "As expected, we obtain dates of birth with a year precision (`/9`). We can thus go ahead and query for the dates of birth for all 535 entities:"
   ]
  },
  {
   "cell_type": "code",
   "execution_count": 18,
   "id": "265a5ca7",
   "metadata": {},
   "outputs": [
    {
     "name": "stdout",
     "output_type": "stream",
     "text": [
      "CPU times: user 2.69 ms, sys: 7.51 ms, total: 10.2 ms\n",
      "Wall time: 1 s\n"
     ]
    }
   ],
   "source": [
    "%%time\n",
    "kgtk(\"\"\"\n",
    "    query -i $TEMP/ULAN_ALIGN.tsv $TEMP/ULAN_all.tsv\n",
    "        --match 'ALIGN: (ulanid)-[]->(qnode), \n",
    "                 all: (ulanid)-[p0]->(ulanagent), \n",
    "                 all: (ulanagent)-[p1]->()-[p2]->()-[p3]->(datevalue)' \n",
    "        --where 'p0.label = \"foaf:focus\" AND p1.label = \"gvp:biographyPreferred\" AND p2.label = \"gvp:estStart\" AND p3.label = \"gvp:structured_value\"' \n",
    "        --return 'distinct qnode as node1, \"P569\" as label, printf(\"^%s-01-01T00:00:00Z/9\", kgtk_unstringify(datevalue)) as node2' \n",
    "        -o $TEMP/Getty_BD.tsv\n",
    "    \"\"\")"
   ]
  },
  {
   "cell_type": "markdown",
   "id": "1e247a96",
   "metadata": {},
   "source": [
    "Perform validation for results in Getty:"
   ]
  },
  {
   "cell_type": "code",
   "execution_count": 19,
   "id": "2297fa66",
   "metadata": {},
   "outputs": [
    {
     "name": "stdout",
     "output_type": "stream",
     "text": [
      "\n",
      "====================================================\n",
      "Data lines read: 0\n",
      "Data lines passed: 0\n"
     ]
    }
   ],
   "source": [
    "!kgtk validate -i $TEMP/Getty_BD.tsv --ignore-minimum-year"
   ]
  },
  {
   "cell_type": "markdown",
   "id": "ba953da9",
   "metadata": {},
   "source": [
    "Let's see how many results we found in Getty:"
   ]
  },
  {
   "cell_type": "code",
   "execution_count": 20,
   "id": "7199e4a8",
   "metadata": {},
   "outputs": [
    {
     "data": {
      "text/html": [
       "<div>\n",
       "<style scoped>\n",
       "    .dataframe tbody tr th:only-of-type {\n",
       "        vertical-align: middle;\n",
       "    }\n",
       "\n",
       "    .dataframe tbody tr th {\n",
       "        vertical-align: top;\n",
       "    }\n",
       "\n",
       "    .dataframe thead th {\n",
       "        text-align: right;\n",
       "    }\n",
       "</style>\n",
       "<table border=\"1\" class=\"dataframe\">\n",
       "  <thead>\n",
       "    <tr style=\"text-align: right;\">\n",
       "      <th></th>\n",
       "      <th>Qnode</th>\n",
       "    </tr>\n",
       "  </thead>\n",
       "  <tbody>\n",
       "    <tr>\n",
       "      <th>0</th>\n",
       "      <td>535</td>\n",
       "    </tr>\n",
       "  </tbody>\n",
       "</table>\n",
       "</div>"
      ],
      "text/plain": [
       "   Qnode\n",
       "0    535"
      ]
     },
     "execution_count": 20,
     "metadata": {},
     "output_type": "execute_result"
    }
   ],
   "source": [
    "kgtk(\"\"\"\n",
    "    query -i $TEMP/Getty_BD.tsv \n",
    "        --match '(qnode)-[]->()' \n",
    "        --return 'count(distinct qnode) as Qnode'\n",
    "    \"\"\")"
   ]
  },
  {
   "cell_type": "markdown",
   "id": "71cfd959-712e-429a-8b99-f82fdde6f642",
   "metadata": {},
   "source": [
    "**Finding:** We find date of birth for all 535 people in our Getty knowledge graph!"
   ]
  },
  {
   "cell_type": "markdown",
   "id": "c6b9ea99",
   "metadata": {},
   "source": [
    "### 4a. How many values are novel?\n",
    "Here we count for how many new date of birth we found in Getty:"
   ]
  },
  {
   "cell_type": "code",
   "execution_count": 21,
   "id": "93b9ba52",
   "metadata": {},
   "outputs": [
    {
     "name": "stdout",
     "output_type": "stream",
     "text": [
      "CPU times: user 2.4 ms, sys: 7.04 ms, total: 9.44 ms\n",
      "Wall time: 963 ms\n"
     ]
    }
   ],
   "source": [
    "%%time\n",
    "kgtk(\"\"\"\n",
    "    ifnotexists -i $TEMP/Getty_BD.tsv \n",
    "        --filter-on $TEMP/WD_BD.tsv \n",
    "        --input-keys node1 \n",
    "        --filter-keys node1 \n",
    "        -o $TEMP/New_BD.tsv\n",
    "    \"\"\")"
   ]
  },
  {
   "cell_type": "code",
   "execution_count": 22,
   "id": "f624e3fe",
   "metadata": {
    "scrolled": true
   },
   "outputs": [
    {
     "data": {
      "text/html": [
       "<div>\n",
       "<style scoped>\n",
       "    .dataframe tbody tr th:only-of-type {\n",
       "        vertical-align: middle;\n",
       "    }\n",
       "\n",
       "    .dataframe tbody tr th {\n",
       "        vertical-align: top;\n",
       "    }\n",
       "\n",
       "    .dataframe thead th {\n",
       "        text-align: right;\n",
       "    }\n",
       "</style>\n",
       "<table border=\"1\" class=\"dataframe\">\n",
       "  <thead>\n",
       "    <tr style=\"text-align: right;\">\n",
       "      <th></th>\n",
       "      <th>Qnode</th>\n",
       "    </tr>\n",
       "  </thead>\n",
       "  <tbody>\n",
       "    <tr>\n",
       "      <th>0</th>\n",
       "      <td>269</td>\n",
       "    </tr>\n",
       "  </tbody>\n",
       "</table>\n",
       "</div>"
      ],
      "text/plain": [
       "   Qnode\n",
       "0    269"
      ]
     },
     "execution_count": 22,
     "metadata": {},
     "output_type": "execute_result"
    }
   ],
   "source": [
    "kgtk(\"\"\"\n",
    "    query -i $TEMP/New_BD.tsv\n",
    "        --match '(qnode)-[]->()' \n",
    "        --return 'count(distinct qnode) as Qnode'\n",
    "    \"\"\")"
   ]
  },
  {
   "cell_type": "markdown",
   "id": "399e2e73",
   "metadata": {},
   "source": [
    "**Finding:** There are newly found dates of birth in Getty for 269 entities!** -- this is expected, given that Getty has 535 values, and Wikidata had 266 values."
   ]
  },
  {
   "cell_type": "markdown",
   "id": "30e3b26d-2548-4a4d-92b9-4807f8a14c63",
   "metadata": {},
   "source": [
    "Let's see how many values we get in total:"
   ]
  },
  {
   "cell_type": "code",
   "execution_count": 23,
   "id": "8635cf9e-fccf-409d-b1f9-ba893996abe9",
   "metadata": {},
   "outputs": [
    {
     "data": {
      "text/html": [
       "<div>\n",
       "<style scoped>\n",
       "    .dataframe tbody tr th:only-of-type {\n",
       "        vertical-align: middle;\n",
       "    }\n",
       "\n",
       "    .dataframe tbody tr th {\n",
       "        vertical-align: top;\n",
       "    }\n",
       "\n",
       "    .dataframe thead th {\n",
       "        text-align: right;\n",
       "    }\n",
       "</style>\n",
       "<table border=\"1\" class=\"dataframe\">\n",
       "  <thead>\n",
       "    <tr style=\"text-align: right;\">\n",
       "      <th></th>\n",
       "      <th>Qnode</th>\n",
       "    </tr>\n",
       "  </thead>\n",
       "  <tbody>\n",
       "    <tr>\n",
       "      <th>0</th>\n",
       "      <td>273</td>\n",
       "    </tr>\n",
       "  </tbody>\n",
       "</table>\n",
       "</div>"
      ],
      "text/plain": [
       "   Qnode\n",
       "0    273"
      ]
     },
     "execution_count": 23,
     "metadata": {},
     "output_type": "execute_result"
    }
   ],
   "source": [
    "kgtk(\"\"\"\n",
    "    query -i $TEMP/New_BD.tsv\n",
    "        --match '(qnode)-[]->()' \n",
    "        --return 'count(qnode) as Qnode'\n",
    "    \"\"\")"
   ]
  },
  {
   "cell_type": "markdown",
   "id": "f9113f44-2b62-4d53-96a4-cb4ab939fdb8",
   "metadata": {},
   "source": [
    "**Finding:** We see that in four cases, Getty has two birth dates for a node."
   ]
  },
  {
   "cell_type": "markdown",
   "id": "771e3669",
   "metadata": {},
   "source": [
    "### 4b. Do the known values in Getty and Wikidata match?\n",
    "Let's check if the found results in Getty match with those in Wikidata. We first obtain the list of matching birth dates, using the `ifexists` command:"
   ]
  },
  {
   "cell_type": "code",
   "execution_count": 24,
   "id": "0c413e48",
   "metadata": {},
   "outputs": [
    {
     "name": "stdout",
     "output_type": "stream",
     "text": [
      "CPU times: user 3.11 ms, sys: 8.2 ms, total: 11.3 ms\n",
      "Wall time: 1.04 s\n"
     ]
    }
   ],
   "source": [
    "%%time\n",
    "kgtk(\"\"\"\n",
    "    ifexists -i $TEMP/Getty_BD.tsv \n",
    "        --filter-on $TEMP/WD_BD.tsv \n",
    "        --input-keys node1 \n",
    "        --filter-keys node1 \n",
    "        -o $TEMP/matching_bd.tsv\n",
    "    \"\"\")"
   ]
  },
  {
   "cell_type": "markdown",
   "id": "6912b9d0-ed38-4050-bfe3-41079f40d72d",
   "metadata": {},
   "source": [
    "We expect to get birth date values by both sources for 266 nodes:"
   ]
  },
  {
   "cell_type": "code",
   "execution_count": 25,
   "id": "3194a6af",
   "metadata": {},
   "outputs": [
    {
     "data": {
      "text/html": [
       "<div>\n",
       "<style scoped>\n",
       "    .dataframe tbody tr th:only-of-type {\n",
       "        vertical-align: middle;\n",
       "    }\n",
       "\n",
       "    .dataframe tbody tr th {\n",
       "        vertical-align: top;\n",
       "    }\n",
       "\n",
       "    .dataframe thead th {\n",
       "        text-align: right;\n",
       "    }\n",
       "</style>\n",
       "<table border=\"1\" class=\"dataframe\">\n",
       "  <thead>\n",
       "    <tr style=\"text-align: right;\">\n",
       "      <th></th>\n",
       "      <th>Qnode</th>\n",
       "    </tr>\n",
       "  </thead>\n",
       "  <tbody>\n",
       "    <tr>\n",
       "      <th>0</th>\n",
       "      <td>266</td>\n",
       "    </tr>\n",
       "  </tbody>\n",
       "</table>\n",
       "</div>"
      ],
      "text/plain": [
       "   Qnode\n",
       "0    266"
      ]
     },
     "execution_count": 25,
     "metadata": {},
     "output_type": "execute_result"
    }
   ],
   "source": [
    "kgtk(\"\"\"\n",
    "    query -i $TEMP/matching_bd.tsv \n",
    "        --match '(qnode)-[]->()' \n",
    "        --return 'count(distinct qnode) as Qnode'\n",
    "    \"\"\")"
   ]
  },
  {
   "cell_type": "markdown",
   "id": "2f4e4850-b38f-48ae-9bce-bb8429835f2c",
   "metadata": {},
   "source": [
    "Ok, our expectation is correct. Let's now see for how many of those nodes do Wikidata and Getty agree:"
   ]
  },
  {
   "cell_type": "code",
   "execution_count": 26,
   "id": "7d3574ad",
   "metadata": {},
   "outputs": [
    {
     "data": {
      "text/html": [
       "<div>\n",
       "<style scoped>\n",
       "    .dataframe tbody tr th:only-of-type {\n",
       "        vertical-align: middle;\n",
       "    }\n",
       "\n",
       "    .dataframe tbody tr th {\n",
       "        vertical-align: top;\n",
       "    }\n",
       "\n",
       "    .dataframe thead th {\n",
       "        text-align: right;\n",
       "    }\n",
       "</style>\n",
       "<table border=\"1\" class=\"dataframe\">\n",
       "  <thead>\n",
       "    <tr style=\"text-align: right;\">\n",
       "      <th></th>\n",
       "      <th>count(DISTINCT graph_18_c1.\"node1\")</th>\n",
       "    </tr>\n",
       "  </thead>\n",
       "  <tbody>\n",
       "    <tr>\n",
       "      <th>0</th>\n",
       "      <td>250</td>\n",
       "    </tr>\n",
       "  </tbody>\n",
       "</table>\n",
       "</div>"
      ],
      "text/plain": [
       "   count(DISTINCT graph_18_c1.\"node1\")\n",
       "0                                  250"
      ]
     },
     "execution_count": 26,
     "metadata": {},
     "output_type": "execute_result"
    }
   ],
   "source": [
    "kgtk(\"\"\"\n",
    "    query -i $TEMP/Getty_BD.tsv $TEMP/WD_BD.tsv\n",
    "        --match 'Getty: (qnode)-[p]->(v1), WD: (qnode)-[]->(v2)' \n",
    "        --where 'kgtk_date_year(v1) = kgtk_date_year(v2)' \n",
    "        --return 'count(distinct qnode)'\n",
    "    \"\"\")"
   ]
  },
  {
   "cell_type": "markdown",
   "id": "487ed9da",
   "metadata": {},
   "source": [
    "**Finding:** 250 of the 266 ULAN ids have identical years of birth in Wikidata and Getty."
   ]
  },
  {
   "cell_type": "markdown",
   "id": "7f00dc6a",
   "metadata": {},
   "source": [
    "# 5. Append the newly found years to the Wikidata graph"
   ]
  },
  {
   "cell_type": "markdown",
   "id": "88a66808",
   "metadata": {},
   "source": [
    "We are now ready to insert that 269 new values from Getty into Wikidata. We first complete each edge with an id, using the `add-id` command:"
   ]
  },
  {
   "cell_type": "code",
   "execution_count": 27,
   "id": "c1ea1318",
   "metadata": {},
   "outputs": [
    {
     "name": "stdout",
     "output_type": "stream",
     "text": [
      "CPU times: user 2.5 ms, sys: 6.95 ms, total: 9.45 ms\n",
      "Wall time: 1.02 s\n"
     ]
    }
   ],
   "source": [
    "%%time\n",
    "kgtk(\"\"\"add-id --debug -i $TEMP/New_BD.tsv --id-style wikidata -o $TEMP/New_BD_with_ID.tsv\"\"\")"
   ]
  },
  {
   "cell_type": "markdown",
   "id": "4c927fcd",
   "metadata": {},
   "source": [
    "Finally, we concatenate the original Wikidata graph with the new edges from Getty:"
   ]
  },
  {
   "cell_type": "code",
   "execution_count": 28,
   "id": "9643994d",
   "metadata": {},
   "outputs": [
    {
     "name": "stdout",
     "output_type": "stream",
     "text": [
      "CPU times: user 6.42 ms, sys: 9.5 ms, total: 15.9 ms\n",
      "Wall time: 12.5 s\n"
     ]
    }
   ],
   "source": [
    "%%time\n",
    "kgtk(\"\"\"cat -i $all $TEMP/New_BD_with_ID.tsv -o $OUT/all_plus_getty.tsv\"\"\")"
   ]
  },
  {
   "cell_type": "markdown",
   "id": "5da279ca-bc9b-4939-95ec-07d9ce630d03",
   "metadata": {},
   "source": [
    "Let's count the number of edges in Wikidata before and after enrichment.\n",
    "\n",
    "Before:"
   ]
  },
  {
   "cell_type": "code",
   "execution_count": 29,
   "id": "4c22293a-df9f-4684-bf8d-46fa7329ec9d",
   "metadata": {},
   "outputs": [
    {
     "name": "stdout",
     "output_type": "stream",
     "text": [
      "CPU times: user 5.13 ms, sys: 9.06 ms, total: 14.2 ms\n",
      "Wall time: 1.12 s\n"
     ]
    },
    {
     "data": {
      "text/html": [
       "<div>\n",
       "<style scoped>\n",
       "    .dataframe tbody tr th:only-of-type {\n",
       "        vertical-align: middle;\n",
       "    }\n",
       "\n",
       "    .dataframe tbody tr th {\n",
       "        vertical-align: top;\n",
       "    }\n",
       "\n",
       "    .dataframe thead th {\n",
       "        text-align: right;\n",
       "    }\n",
       "</style>\n",
       "<table border=\"1\" class=\"dataframe\">\n",
       "  <thead>\n",
       "    <tr style=\"text-align: right;\">\n",
       "      <th></th>\n",
       "      <th>count(graph_1_c1.\"node1\")</th>\n",
       "    </tr>\n",
       "  </thead>\n",
       "  <tbody>\n",
       "    <tr>\n",
       "      <th>0</th>\n",
       "      <td>3577653</td>\n",
       "    </tr>\n",
       "  </tbody>\n",
       "</table>\n",
       "</div>"
      ],
      "text/plain": [
       "   count(graph_1_c1.\"node1\")\n",
       "0                    3577653"
      ]
     },
     "execution_count": 29,
     "metadata": {},
     "output_type": "execute_result"
    }
   ],
   "source": [
    "%%time\n",
    "kgtk(\"\"\"\n",
    "    query -i $all \n",
    "    --match '(q)-[]->()'\n",
    "    --return 'count(q)'\n",
    "    \"\"\")"
   ]
  },
  {
   "cell_type": "markdown",
   "id": "3b028c09-d13b-4679-969e-abda4aaac3ad",
   "metadata": {},
   "source": [
    "After:"
   ]
  },
  {
   "cell_type": "code",
   "execution_count": 31,
   "id": "d7143b3c-cddf-4537-9c16-b52dbd63e91d",
   "metadata": {},
   "outputs": [
    {
     "name": "stdout",
     "output_type": "stream",
     "text": [
      "CPU times: user 11.9 ms, sys: 12.5 ms, total: 24.4 ms\n",
      "Wall time: 22.5 s\n"
     ]
    },
    {
     "data": {
      "text/html": [
       "<div>\n",
       "<style scoped>\n",
       "    .dataframe tbody tr th:only-of-type {\n",
       "        vertical-align: middle;\n",
       "    }\n",
       "\n",
       "    .dataframe tbody tr th {\n",
       "        vertical-align: top;\n",
       "    }\n",
       "\n",
       "    .dataframe thead th {\n",
       "        text-align: right;\n",
       "    }\n",
       "</style>\n",
       "<table border=\"1\" class=\"dataframe\">\n",
       "  <thead>\n",
       "    <tr style=\"text-align: right;\">\n",
       "      <th></th>\n",
       "      <th>count(graph_21_c1.\"node1\")</th>\n",
       "    </tr>\n",
       "  </thead>\n",
       "  <tbody>\n",
       "    <tr>\n",
       "      <th>0</th>\n",
       "      <td>3577926</td>\n",
       "    </tr>\n",
       "  </tbody>\n",
       "</table>\n",
       "</div>"
      ],
      "text/plain": [
       "   count(graph_21_c1.\"node1\")\n",
       "0                     3577926"
      ]
     },
     "execution_count": 31,
     "metadata": {},
     "output_type": "execute_result"
    }
   ],
   "source": [
    "%%time\n",
    "kgtk(\"\"\"\n",
    "    query -i $OUT/all_plus_getty.tsv \n",
    "    --match '(q)-[]->()'\n",
    "    --return 'count(q)'\n",
    "    \"\"\")"
   ]
  },
  {
   "cell_type": "markdown",
   "id": "cd63c295-b8fa-497c-b094-1e5edbe60753",
   "metadata": {},
   "source": [
    "**Finding:** As expected, the difference is 273 (3,577,926 - 3,577,653) edges."
   ]
  }
 ],
 "metadata": {
  "kernelspec": {
   "display_name": "Python 3",
   "language": "python",
   "name": "python3"
  },
  "language_info": {
   "codemirror_mode": {
    "name": "ipython",
    "version": 3
   },
   "file_extension": ".py",
   "mimetype": "text/x-python",
   "name": "python",
   "nbconvert_exporter": "python",
   "pygments_lexer": "ipython3",
   "version": "3.8.8"
  }
 },
 "nbformat": 4,
 "nbformat_minor": 5
}
