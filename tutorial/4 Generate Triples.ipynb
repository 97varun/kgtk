{
 "cells": [
  {
   "cell_type": "code",
   "execution_count": 1,
   "id": "angry-dover",
   "metadata": {},
   "outputs": [
    {
     "name": "stdout",
     "output_type": "stream",
     "text": [
      "ALIAS: \"/Volumes/GoogleDrive/Shared drives/KGTK/datasets/wikidataos-v4/aliases.en.tsv.gz\"\n",
      "ALL: \"/Volumes/GoogleDrive/Shared drives/KGTK/datasets/wikidataos-v4/all.tsv.gz\"\n",
      "CLAIMS: \"/Volumes/GoogleDrive/Shared drives/KGTK/datasets/wikidataos-v4/claims.tsv.gz\"\n",
      "DESCRIPTION: \"/Volumes/GoogleDrive/Shared drives/KGTK/datasets/wikidataos-v4/descriptions.en.tsv.gz\"\n",
      "EXAMPLES_DIR: \"/Users/amandeep/Github/kgtk/examples\"\n",
      "GE: \"/Users/amandeep/Documents/kypher/temp.wikidata_os_v5/graph-embedding\"\n",
      "ISA: \"/Volumes/GoogleDrive/Shared drives/KGTK/datasets/wikidataos-v4/derived.isa.tsv.gz\"\n",
      "ITEM: \"/Volumes/GoogleDrive/Shared drives/KGTK/datasets/wikidataos-v4/claims.wikibase-item.tsv.gz\"\n",
      "LABEL: \"/Volumes/GoogleDrive/Shared drives/KGTK/datasets/wikidataos-v4/labels.en.tsv.gz\"\n",
      "OUT: \"/Users/amandeep/Documents/kypher/wikidata_os_v5\"\n",
      "P279: \"/Volumes/GoogleDrive/Shared drives/KGTK/datasets/wikidataos-v4/derived.P279.tsv.gz\"\n",
      "P279STAR: \"/Volumes/GoogleDrive/Shared drives/KGTK/datasets/wikidataos-v4/derived.P279star.tsv.gz\"\n",
      "PROPERTY_DATATYPES: \"/Volumes/GoogleDrive/Shared drives/KGTK/datasets/wikidataos-v4/metadata.property.datatypes.tsv.gz\"\n",
      "Q154ALIAS: \"/Users/amandeep/Documents/kypher/wikidata_os_v5/parts/aliases.en.tsv.gz\"\n",
      "Q154ALL: \"/Users/amandeep/Documents/kypher/wikidata_os_v5/parts/all.tsv.gz\"\n",
      "Q154CLAIMS: \"/Users/amandeep/Documents/kypher/wikidata_os_v5/parts/claims.tsv.gz\"\n",
      "Q154DESCRIPTION: \"/Users/amandeep/Documents/kypher/wikidata_os_v5/parts/descriptions.en.tsv.gz\"\n",
      "Q154ISA: \"/Users/amandeep/Documents/kypher/wikidata_os_v5/parts/derived.isa.tsv.gz\"\n",
      "Q154ITEM: \"/Users/amandeep/Documents/kypher/wikidata_os_v5/parts/claims.wikibase-item.tsv.gz\"\n",
      "Q154LABEL: \"/Users/amandeep/Documents/kypher/wikidata_os_v5/parts/labels.en.tsv.gz\"\n",
      "Q154P279: \"/Users/amandeep/Documents/kypher/wikidata_os_v5/parts/derived.P279.tsv.gz\"\n",
      "Q154P279STAR: \"/Users/amandeep/Documents/kypher/wikidata_os_v5/parts/derived.P279star.tsv.gz\"\n",
      "Q154PROPERTY_DATATYPES: \"/Users/amandeep/Documents/kypher/wikidata_os_v5/parts/metadata.property.datatypes.tsv.gz\"\n",
      "Q154QUALIFIERS: \"/Users/amandeep/Documents/kypher/wikidata_os_v5/parts/qualifiers.tsv.gz\"\n",
      "Q154QUALIFIERS_TIME: \"/Users/amandeep/Documents/kypher/wikidata_os_v5/parts/qualifiers.time.tsv.gz\"\n",
      "Q154SITELINKS: \"/Users/amandeep/Documents/kypher/wikidata_os_v5/parts/sitelinks.tsv.gz\"\n",
      "QUALIFIERS: \"/Volumes/GoogleDrive/Shared drives/KGTK/datasets/wikidataos-v4/qualifiers.tsv.gz\"\n",
      "QUALIFIERS_TIME: \"/Volumes/GoogleDrive/Shared drives/KGTK/datasets/wikidataos-v4/qualifiers.time.tsv.gz\"\n",
      "SITELINKS: \"/Volumes/GoogleDrive/Shared drives/KGTK/datasets/wikidataos-v4/sitelinks.tsv.gz\"\n",
      "STORE: \"/Users/amandeep/Documents/kypher/temp.wikidata_os_v5/wikidata.sqlite3.db\"\n",
      "TE: \"/Users/amandeep/Documents/kypher/temp.wikidata_os_v5/text-embedding\"\n",
      "TEMP: \"/Users/amandeep/Documents/kypher/temp.wikidata_os_v5\"\n",
      "USECASE_DIR: \"/Users/amandeep/Github/kgtk/use-cases\"\n",
      "WIKIDATA: \"/Volumes/GoogleDrive/Shared drives/KGTK/datasets/wikidataos-v4/\"\n",
      "kgtk: \"time kgtk --debug\"\n",
      "kypher: \"kgtk query --graph-cache /Users/amandeep/Documents/kypher/temp.wikidata_os_v5/wikidata.sqlite3.db\"\n"
     ]
    }
   ],
   "source": [
    "import sys  \n",
    "sys.path.insert(0, 'tutorial')\n",
    "from tutorial_setup import *"
   ]
  },
  {
   "cell_type": "markdown",
   "id": "other-joint",
   "metadata": {},
   "source": [
    "### Sort the file with all edges and qualifiers for the subgraph"
   ]
  },
  {
   "cell_type": "code",
   "execution_count": 13,
   "id": "shaped-society",
   "metadata": {},
   "outputs": [
    {
     "name": "stdout",
     "output_type": "stream",
     "text": [
      "        2.73 real         2.40 user         0.22 sys\n"
     ]
    }
   ],
   "source": [
    "!$kgtk sort -i \"$TEMP\"/all_and_qualifiers.tsv.gz -o \"$OUT\"/all_and_qualifiers.sorted.1.tsv.gz"
   ]
  },
  {
   "cell_type": "code",
   "execution_count": 14,
   "id": "illegal-cowboy",
   "metadata": {},
   "outputs": [
    {
     "name": "stdout",
     "output_type": "stream",
     "text": [
      "        5.46 real         5.23 user         0.10 sys\n"
     ]
    }
   ],
   "source": [
    "!$kgtk filter -i \"$OUT\"/all_and_qualifiers.sorted.1.tsv.gz -p ';data_type,datatype;' --invert -o \"$OUT\"/all_and_qualifiers.sorted.tsv.gz"
   ]
  },
  {
   "cell_type": "code",
   "execution_count": 15,
   "id": "classified-handy",
   "metadata": {},
   "outputs": [
    {
     "name": "stdout",
     "output_type": "stream",
     "text": [
      "        0.89 real         0.77 user         0.08 sys\n"
     ]
    }
   ],
   "source": [
    "!$kgtk filter -i \"$TEMP\"/kgtk.properties.tsv -p ';data_type;' -o \"$TEMP/datatypes.kgtk.properties.tsv.gz\""
   ]
  },
  {
   "cell_type": "code",
   "execution_count": 16,
   "id": "quantitative-biodiversity",
   "metadata": {},
   "outputs": [
    {
     "name": "stdout",
     "output_type": "stream",
     "text": [
      "        0.73 real         0.64 user         0.07 sys\n"
     ]
    }
   ],
   "source": [
    "!$kgtk cat -i \"$WIKIDATA\"/metadata.property.datatypes.tsv.gz  \"$TEMP\"/datatypes.kgtk.properties.tsv.gz -o \"$OUT\"/all.metadata.property.datatypes.tsv\n",
    "\n",
    "!gzip -f \"$OUT\"/all.metadata.property.datatypes.tsv\n"
   ]
  },
  {
   "cell_type": "code",
   "execution_count": 17,
   "id": "tight-technology",
   "metadata": {},
   "outputs": [
    {
     "name": "stdout",
     "output_type": "stream",
     "text": [
      "-rw-r--r--  1 amandeep  staff    45K Jan 20 18:25 /Users/amandeep/Documents/kypher/wikidata_os_v5/all.metadata.property.datatypes.tsv.gz\n"
     ]
    }
   ],
   "source": [
    "!ls -lrth \"$OUT\"/all.metadata.property.datatypes.tsv.gz"
   ]
  },
  {
   "cell_type": "code",
   "execution_count": null,
   "id": "wicked-retailer",
   "metadata": {},
   "outputs": [],
   "source": []
  }
 ],
 "metadata": {
  "kernelspec": {
   "display_name": "kgtk-env",
   "language": "python",
   "name": "kgtk-env"
  },
  "language_info": {
   "codemirror_mode": {
    "name": "ipython",
    "version": 3
   },
   "file_extension": ".py",
   "mimetype": "text/x-python",
   "name": "python",
   "nbconvert_exporter": "python",
   "pygments_lexer": "ipython3",
   "version": "3.7.9"
  }
 },
 "nbformat": 4,
 "nbformat_minor": 5
}
