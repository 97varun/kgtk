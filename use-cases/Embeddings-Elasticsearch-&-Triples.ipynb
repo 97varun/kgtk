{
 "cells": [
  {
   "cell_type": "markdown",
   "id": "parental-samba",
   "metadata": {},
   "source": [
    "# Computes Graph and Text Embeddings, Elasticsearch Ready KGTK File and RDF Triples for Blazegraph\n",
    "\n",
    "This notebook computes the following:\n",
    "\n",
    "- `complEx` graph embeddings\n",
    "- `transE` graph embeddings\n",
    "- `BERT` text embeddings\n",
    "- `elasticsearch` ready KGTK edge for [KGTK Search](https://kgtk.isi.edu/search/)\n",
    "- `elasticsearch` ready KGTK edge file for Table Linker\n",
    "- `RDF Triples` to be loaded into blazegraph\n",
    "\n",
    "Inputs:\n",
    "\n",
    "- `item_file`: the subset of the `claims_file` consistin of edges for property of data type `wikibase-item`\n",
    "- `label_file`, `alias_file` and `description_file` containing labels, aliases and descriptions. It is assume that these files contain the labels, aliases and descriptions of all nodes appearing in the claims file. Users may provide these files for specific languages only.\n"
   ]
  },
  {
   "cell_type": "markdown",
   "id": "enormous-blanket",
   "metadata": {},
   "source": [
    "### Batch Invocation\n",
    "Example batch command. The second argument is a notebook where the output will be stored. You can load it to see progress.\n",
    "\n",
    "```\n",
    "papermill Embeddings-Elasticsearch-&-Triples.ipynb Embeddings-Elasticsearch-&-Triples.out.ipynb \\\n",
    "-p claims_file /Volumes/GoogleDrive/Shared\\ drives/KGTK-public-graphs/wikidata-20200803-v4/all.tsv.gz \\\n",
    "-p label_file /Volumes/GoogleDrive/Shared\\ drives/KGTK-public-graphs/wikidata-20200803-v4/part.label.en.tsv.gz \\\n",
    "-p item_file /Volumes/GoogleDrive/Shared\\ drives/KGTK-public-graphs/wikidata-20200803-v4/part.wikibase-item.tsv.gz \\\n",
    "-p property_item_file = /Volumes/GoogleDrive/Shared\\ drives/KGTK-public-graphs/wikidata-20200803-v4/part.property.wikibase-item.tsv.gz \\\n",
    "-p output_path <local folder> \\\n",
    "-p output_folder useful_files_v4 \\\n",
    "-p temp_folder temp.useful_files_v4 \\\n",
    "-p delete_database no \n",
    "-p languages es,ru,zh-cn\n",
    "```"
   ]
  },
  {
   "cell_type": "code",
   "execution_count": 1,
   "id": "small-purpose",
   "metadata": {
    "tags": [
     "parameters"
    ]
   },
   "outputs": [],
   "source": [
    "# Parameters\n",
    "wikidata_root_folder = \"/data/amandeep/wikidata-20210215-dwd-v2\"\n",
    "items_file = \"claims.wikibase-item.tsv.gz\"\n",
    "all_sorted_file = \"all.sorted.tsv.gz\"\n",
    "en_labels_file = \"labels.en.tsv.gz\"\n",
    "temp_folder = \"temp.elasticsearch.embeddings\""
   ]
  },
  {
   "cell_type": "code",
   "execution_count": 2,
   "id": "developmental-mitchell",
   "metadata": {},
   "outputs": [],
   "source": [
    "import os"
   ]
  },
  {
   "cell_type": "code",
   "execution_count": 3,
   "id": "extraordinary-exchange",
   "metadata": {},
   "outputs": [],
   "source": [
    "os.environ['OUT'] = f\"{wikidata_root_folder}\"\n",
    "os.environ['kgtk'] = \"kgtk --debug\"\n",
    "os.environ['ITEMS'] = f\"{wikidata_root_folder}/{items_file}\"\n",
    "os.environ['ALL'] = f\"{wikidata_root_folder}/{all_sorted_file}\"\n",
    "os.environ['LABELS_EN'] = f\"{wikidata_root_folder}/{en_labels_file}\""
   ]
  },
  {
   "cell_type": "markdown",
   "id": "composite-variable",
   "metadata": {},
   "source": [
    "## Graph Embeddings"
   ]
  },
  {
   "cell_type": "markdown",
   "id": "threatened-assurance",
   "metadata": {},
   "source": [
    "### complEx"
   ]
  },
  {
   "cell_type": "code",
   "execution_count": 6,
   "id": "advance-polyester",
   "metadata": {},
   "outputs": [],
   "source": [
    "complex_temp_folder = f\"{wikidata_root_folder}/temp.graph-embeddings.complex\""
   ]
  },
  {
   "cell_type": "code",
   "execution_count": 7,
   "id": "involved-functionality",
   "metadata": {},
   "outputs": [],
   "source": [
    "!mkdir -p {complex_temp_folder}"
   ]
  },
  {
   "cell_type": "code",
   "execution_count": null,
   "id": "binding-keeping",
   "metadata": {},
   "outputs": [],
   "source": [
    "os.environ['TEMP_COMPLEX'] = complex_temp_folder"
   ]
  },
  {
   "cell_type": "code",
   "execution_count": null,
   "id": "honey-centre",
   "metadata": {},
   "outputs": [],
   "source": [
    "!kgtk graph-embeddings --verbose -i \"$ITEMS\" \\\n",
    "-o $OUT/wikidatadwd.complEx.graph-embeddings.txt \\\n",
    "--retain_temporary_data True \\\n",
    "--operator ComplEx \\\n",
    "--workers 24 \\\n",
    "--log $TEMP_COMPLEX/ge.complex.log \\\n",
    "-T $TEMP_COMPLEX \\\n",
    "-ot w2v \\\n",
    "-e 600"
   ]
  },
  {
   "cell_type": "markdown",
   "id": "advance-christian",
   "metadata": {},
   "source": [
    "### transE"
   ]
  },
  {
   "cell_type": "code",
   "execution_count": null,
   "id": "systematic-series",
   "metadata": {},
   "outputs": [],
   "source": [
    "transe_temp_folder = f\"{wikidata_root_folder}/temp.graph-embeddings.transe\""
   ]
  },
  {
   "cell_type": "code",
   "execution_count": null,
   "id": "nervous-silicon",
   "metadata": {},
   "outputs": [],
   "source": [
    "!mkdir -p {transe_temp_folder}"
   ]
  },
  {
   "cell_type": "code",
   "execution_count": null,
   "id": "functional-casting",
   "metadata": {},
   "outputs": [],
   "source": [
    "os.environ['TEMP_TRANSE'] = transe_temp_folder"
   ]
  },
  {
   "cell_type": "code",
   "execution_count": null,
   "id": "offshore-image",
   "metadata": {},
   "outputs": [],
   "source": [
    "!$kgtk graph-embeddings --verbose -i \"$ITEMS\" \\\n",
    "-o $OUT/wikidatadwd.transE.graph-embeddings.txt \\\n",
    "--retain_temporary_data True \\\n",
    "--operator TransE \\\n",
    "--workers 24 \\\n",
    "--log $TEMP_TRANSE/ge.transE.log \\\n",
    "-T $TEMP_TRANSE \\\n",
    "-ot w2v \\\n",
    "-e 600"
   ]
  },
  {
   "cell_type": "markdown",
   "id": "backed-petersburg",
   "metadata": {},
   "source": [
    "### BERT Embeddings"
   ]
  },
  {
   "cell_type": "code",
   "execution_count": null,
   "id": "crude-shirt",
   "metadata": {},
   "outputs": [],
   "source": [
    "!$kgtk text-embedding -i $ALL   \\\n",
    "--model roberta-large-nli-mean-tokens   \\\n",
    "--property-labels-file $LABELS_EN   \\\n",
    "--isa-properties P31 P279 P106 P39 P1382 P373 P452 \\\n",
    "--save-embedding-sentence > $OUT/wikidatadwd-text-embeddings-all.tsv"
   ]
  },
  {
   "cell_type": "markdown",
   "id": "animal-stable",
   "metadata": {},
   "source": [
    "### Build KGTK edge file for KGTK Search"
   ]
  },
  {
   "cell_type": "code",
   "execution_count": null,
   "id": "sensitive-singapore",
   "metadata": {},
   "outputs": [],
   "source": [
    " !$kgtk cat -i $OUT/all.sorted.tsv.gz \\\n",
    "    -i $OUT/derived.isastar.tsv.gz \\\n",
    "    -i $OUT/metadata.property.datatypes.tsv.gz \\\n",
    "    -i $OUT/metadata.pagerank.undirected.tsv.gz \\\n",
    "    -i $OUT/metadata.pagerank.directed.tsv.gz \\\n",
    "    -o $OUT/wikidata.dwd.all.kgtk.search.unsorted.tsv.gz"
   ]
  },
  {
   "cell_type": "code",
   "execution_count": null,
   "id": "theoretical-athens",
   "metadata": {},
   "outputs": [],
   "source": [
    "!$kgtk sort -i $OUT/wikidata.dwd.all.kgtk.search.unsorted.tsv.gz \\\n",
    "--columns node1 \\\n",
    " --extra '--parallel 24 --buffer-size 30% --temporary-directory ' + temp_folder_path \\\n",
    "-o $OUT/wikidata.dwd.all.kgtk.search.sorted.tsv.gz"
   ]
  },
  {
   "cell_type": "raw",
   "id": "pressing-robertson",
   "metadata": {},
   "source": [
    "tl build-elasticsearch-input --input-file wikidata.dwd.all.kgtk.search.sorted.tsv.gz  \\\n",
    "--output-file wikidata.dwd.all.kgtk.search.sorted.jl \\\n",
    "--label-properties label \\\n",
    "--alias-properties alias \\\n",
    "--description-properties description \\\n",
    "--pagerank-properties directed_pagerank \\\n",
    "--mapping-file wikidata_os_mapping_es_ver7_v2.json \\\n",
    "--copy-to-properties labels,aliases --es-version 7"
   ]
  },
  {
   "cell_type": "markdown",
   "id": "effective-newman",
   "metadata": {},
   "source": [
    "### Build KGTK edge file for Triple generation\n"
   ]
  },
  {
   "cell_type": "code",
   "execution_count": null,
   "id": "atlantic-peter",
   "metadata": {},
   "outputs": [],
   "source": [
    "!$kgtk cat \\\n",
    "-i $OUT/wikidata.dwd.all.kgtk.search.sorted.tsv.gz \\\n",
    "-i $OUT/derived.isa.tsv.gz \\\n",
    "-i $OUT/derived.P279star.tsv.gz \\\n",
    "-i $OUT/metadata.in_degree.tsv.gz \\\n",
    "-i $OUT/metadata.out_degree.tsv.gz \\\n",
    "-o $TEMP/wikidata.dwd.all.kgtk.triples.1.tsv.gz"
   ]
  },
  {
   "cell_type": "code",
   "execution_count": null,
   "id": "western-receipt",
   "metadata": {},
   "outputs": [],
   "source": [
    "!$kgtk add-id -i $TEMP/wikidata.dwd.all.kgtk.triples.1.tsv.gz \\\n",
    "--id-style wikidata \\\n",
    "-o $TEMP/wikidata.dwd.all.kgtk.triples.2.tsv.gz"
   ]
  },
  {
   "cell_type": "code",
   "execution_count": null,
   "id": "destroyed-wilderness",
   "metadata": {},
   "outputs": [],
   "source": [
    "!$kgtk sort -i $TEMP/wikidata.dwd.all.kgtk.triples.2.tsv.gz \\\n",
    "--columns node1 \\\n",
    " --extra '--parallel 24 --buffer-size 30% --temporary-directory ' + temp_folder_path \\\n",
    "-o $OUT/wikidata.dwd.all.kgtk.triples.sorted.tsv.gz"
   ]
  },
  {
   "cell_type": "markdown",
   "id": "parliamentary-wiring",
   "metadata": {},
   "source": [
    "Split the triples file to parallelize triple generation"
   ]
  },
  {
   "cell_type": "code",
   "execution_count": null,
   "id": "chemical-thriller",
   "metadata": {},
   "outputs": [],
   "source": [
    "!mkdir -p $OUT/kgtk_triples_split"
   ]
  },
  {
   "cell_type": "code",
   "execution_count": null,
   "id": "ignored-dressing",
   "metadata": {},
   "outputs": [],
   "source": [
    "!$kgtk split -i $OUT/wikidata.dwd.all.kgtk.triples.sorted.tsv.gz \\\n",
    "--output-path $OUT/kgtk_triples_split \\\n",
    "--gzipped-output --lines 10000000 \\\n",
    "--file-prefix kgtk_triples"
   ]
  },
  {
   "cell_type": "code",
   "execution_count": null,
   "id": "annual-equation",
   "metadata": {},
   "outputs": [],
   "source": [
    "!curl https://raw.githubusercontent.com/usc-isi-i2/kgtk/dev/kgtk-properties/kgtk.properties.tsv -o $TEMP/kgtk-properties.tsv"
   ]
  },
  {
   "cell_type": "code",
   "execution_count": null,
   "id": "surface-rapid",
   "metadata": {},
   "outputs": [],
   "source": [
    "!$kgtk filter -p \";data_type;\" -i $TEMP/kgtk-properties.tsv -o $TEMP/kgtk-properties.datatype.tsv.gz"
   ]
  },
  {
   "cell_type": "code",
   "execution_count": 1,
   "id": "going-organizer",
   "metadata": {},
   "outputs": [
    {
     "name": "stdout",
     "output_type": "stream",
     "text": [
      "cat: illegal option -- i\n",
      "usage: cat [-benstuv] [file ...]\n"
     ]
    }
   ],
   "source": [
    "!$kgtk cat -i $TEMP/kgtk-properties.datatype.tsv.gz $OUT/metadata.property.datatypes.tsv.gz -o $OUT/metadata.property.datatypes.augmented.tsv.gz"
   ]
  },
  {
   "cell_type": "code",
   "execution_count": null,
   "id": "matched-emission",
   "metadata": {},
   "outputs": [],
   "source": [
    "!ls $OUT/kgtk_triples_split/*tsv.gz | parallel -j 18 'kgtk generate-wikidata-triples -lp label -ap alias -dp description -pf $OUT/metadata.property.datatypes.augmented.tsv.gz --output-n-lines 100000 --generate-truthy --warning --use-id --log-path $TEMP/generate_triples_log.txt --error-action log -i {} > {.}.ttl'\n",
    "\n"
   ]
  },
  {
   "cell_type": "markdown",
   "id": "growing-state",
   "metadata": {},
   "source": [
    "### Build KGTK edge file for Table Linker Index"
   ]
  },
  {
   "cell_type": "markdown",
   "id": "located-bulgaria",
   "metadata": {},
   "source": [
    "The augmentation files can be downloaded from Google Drive,\n",
    "https://drive.google.com/drive/u/1/folders/1qbbgjo7pddMdDvQzOSeSaL6lYwj_f5gi"
   ]
  },
  {
   "cell_type": "code",
   "execution_count": null,
   "id": "american-minutes",
   "metadata": {},
   "outputs": [],
   "source": [
    "def convert_w2v_kgtk(input_path, output_path, label):\n",
    "    f = open(input_path)\n",
    "    o = gzip.open(output_path, 'wt')\n",
    "    o.write(\"node1\\tlabel\\tnode2\\n\")\n",
    "    i = 0\n",
    "    for line in f:\n",
    "        if i % 1000000 == 0:\n",
    "            print(i)\n",
    "        i += 1\n",
    "        vals = line.strip().split(\" \")\n",
    "        if len(vals) == 2: # first line\n",
    "            continue\n",
    "        qnode = vals[0]\n",
    "        vector = \",\".join(vals[1:])\n",
    "        o.write(f\"{qnode}\\t{label}\\t{vector}\\n\")\n",
    "    print(\"Done!\")"
   ]
  },
  {
   "cell_type": "code",
   "execution_count": null,
   "id": "pretty-engineer",
   "metadata": {},
   "outputs": [],
   "source": [
    "convert_w2v_kgtk(\"$OUT/wikidatadwd.complEx.graph-embeddings.txt\", \"$OUT/wikidatadwd.complEx.graph-embeddings.tsv.gz\", \"graph_embeddings_complEx\")"
   ]
  },
  {
   "cell_type": "code",
   "execution_count": null,
   "id": "driving-finland",
   "metadata": {},
   "outputs": [],
   "source": [
    "convert_w2v_kgtk('$OUT/wikidatadwd.transE.graph-embeddings.txt', '$OUT/wikidatadwd.transE.graph-embeddings.tsv.gz', 'graph_embeddings_transE')"
   ]
  },
  {
   "cell_type": "code",
   "execution_count": null,
   "id": "patient-caution",
   "metadata": {},
   "outputs": [],
   "source": [
    "!$kgtk cat -i $OUT/wikidata.dwd.all.kgtk.search.sorted.tsv.gz \\\n",
    "/data/amandeep/wikidata_augmented_files_for_table_linker_index/augmentation.wikipedia.anchors.tsv.gz \\\n",
    "/data/amandeep/wikidata_augmented_files_for_table_linker_index/augmentation.wikipedia.tables.anchors.tsv.gz \\\n",
    "/data/amandeep/wikidata_augmented_files_for_table_linker_index/augmentation.wikipedia.redirect.tsv.gz \\\n",
    "$OUT/item.property.count.compact.tsv.gz \\\n",
    "$OUT/dwd_isa_class_count.compact.tsv.gz \\\n",
    "$OUT/wikidatadwd.complEx.graph-embeddings.tsv.gz \\\n",
    "$OUT/wikidatadwd.transE.graph-embeddings.tsv.gz \\\n",
    "$OUT/text-embeddings-concatenated.tsv.gz \\\n",
    "$OUT/derived.dwd_isa.tsv.gz \\\n",
    "$OUT/table_linker.qnode.property.values.tsv.gz \\\n",
    "$OUT/derived.isastar.tsv.gz \\\n",
    "-o $TEMP/wikidata.dwd.table-linker.index.tsv.gz"
   ]
  },
  {
   "cell_type": "code",
   "execution_count": null,
   "id": "quantitative-chester",
   "metadata": {},
   "outputs": [],
   "source": [
    "!$kgtk sort -i $TEMP/wikidata.dwd.table-linker.index.tsv.gz \\\n",
    "--columns node1 \\\n",
    " --extra '--parallel 24 --buffer-size 30% --temporary-directory ' + temp_folder_path \\\n",
    "-o $OUT/wikidata.dwd.table-linker.index.sorted.tsv.gz"
   ]
  },
  {
   "cell_type": "code",
   "execution_count": null,
   "id": "sensitive-marriage",
   "metadata": {},
   "outputs": [],
   "source": [
    "!$kgtk build-kgtk-search-input --input-file $OUT/wikidata.dwd.table-linker.index.sorted.tsv.gz  \\\n",
    "--output-file $OUT/wikidata.dwd.table-linker.index.sorted.jl \\\n",
    "--label-properties label \\\n",
    "--alias-properties alias \\\n",
    "--description-properties description \\\n",
    "--pagerank-properties directed_pagerank \\\n",
    "--mapping-file $OUT/wikidata_dwd.v2.table-linker.json \\\n",
    "--property-datatype-file $OUT/metadata.property.datatypes.augmented.tsv.gz"
   ]
  }
 ],
 "metadata": {
  "kernelspec": {
   "display_name": "kgtk-env",
   "language": "python",
   "name": "kgtk-env"
  },
  "language_info": {
   "codemirror_mode": {
    "name": "ipython",
    "version": 3
   },
   "file_extension": ".py",
   "mimetype": "text/x-python",
   "name": "python",
   "nbconvert_exporter": "python",
   "pygments_lexer": "ipython3",
   "version": "3.7.9"
  }
 },
 "nbformat": 4,
 "nbformat_minor": 5
}
