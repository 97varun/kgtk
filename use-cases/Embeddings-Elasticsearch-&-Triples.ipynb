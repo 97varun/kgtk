{
 "cells": [
  {
   "cell_type": "markdown",
   "id": "convinced-stress",
   "metadata": {},
   "source": [
    "# Computes Graph and Text Embeddings, Elasticsearch Ready KGTK File and RDF Triples for Blazegraph\n",
    "\n",
    "This notebook computes the following:\n",
    "\n",
    "- `complEx` graph embeddings\n",
    "- `transE` graph embeddings\n",
    "- `BERT` text embeddings\n",
    "- `elasticsearch` ready KGTK edge for [KGTK Search](https://kgtk.isi.edu/search/)\n",
    "- `elasticsearch` ready KGTK edge file for Table Linker\n",
    "- `RDF Triples` to be loaded into blazegraph\n",
    "\n",
    "Inputs:\n",
    "\n",
    "- `item_file`: the subset of the `claims_file` consistin of edges for property of data type `wikibase-item`\n",
    "- `label_file`, `alias_file` and `description_file` containing labels, aliases and descriptions. It is assume that these files contain the labels, aliases and descriptions of all nodes appearing in the claims file. Users may provide these files for specific languages only.\n"
   ]
  },
  {
   "cell_type": "markdown",
   "id": "coral-switzerland",
   "metadata": {},
   "source": [
    "### Batch Invocation\n",
    "Example batch command. The second argument is a notebook where the output will be stored. You can load it to see progress.\n",
    "\n",
    "```\n",
    "papermill Embeddings-Elasticsearch-&-Triples.ipynb Embeddings-Elasticsearch-&-Triples.out.ipynb \\\n",
    "-p claims_file /Volumes/GoogleDrive/Shared\\ drives/KGTK-public-graphs/wikidata-20200803-v4/all.tsv.gz \\\n",
    "-p label_file /Volumes/GoogleDrive/Shared\\ drives/KGTK-public-graphs/wikidata-20200803-v4/part.label.en.tsv.gz \\\n",
    "-p item_file /Volumes/GoogleDrive/Shared\\ drives/KGTK-public-graphs/wikidata-20200803-v4/part.wikibase-item.tsv.gz \\\n",
    "-p property_item_file = /Volumes/GoogleDrive/Shared\\ drives/KGTK-public-graphs/wikidata-20200803-v4/part.property.wikibase-item.tsv.gz \\\n",
    "-p output_path <local folder> \\\n",
    "-p output_folder useful_files_v4 \\\n",
    "-p temp_folder temp.useful_files_v4 \\\n",
    "-p delete_database no \n",
    "-p languages es,ru,zh-cn\n",
    "```"
   ]
  },
  {
   "cell_type": "code",
   "execution_count": 1,
   "id": "respected-tuesday",
   "metadata": {
    "tags": [
     "parameters"
    ]
   },
   "outputs": [],
   "source": [
    "# Parameters\n",
    "wikidata_root_folder = \"/data/amandeep/wikidata-20210215-dwd-v2\"\n",
    "items_file = \"claims.wikibase-item.tsv.gz\"\n",
    "all_sorted_file = \"all.sorted.tsv.gz\"\n",
    "en_labels_file = \"labels.en.tsv.gz\"\n",
    "temp_folder = \"temp.elasticsearch.embeddings\""
   ]
  },
  {
   "cell_type": "code",
   "execution_count": 2,
   "id": "decimal-channels",
   "metadata": {},
   "outputs": [],
   "source": [
    "import os"
   ]
  },
  {
   "cell_type": "code",
   "execution_count": 3,
   "id": "immune-dream",
   "metadata": {},
   "outputs": [],
   "source": [
    "os.environ['OUT'] = f\"{wikidata_root_folder}\"\n",
    "os.environ['kgtk'] = \"kgtk --debug\"\n",
    "os.environ['ITEMS'] = f\"{wikidata_root_folder}/{items_file}\"\n",
    "os.environ['ALL'] = f\"{wikidata_root_folder}/{all_sorted_file}\"\n",
    "os.environ['LABELS_EN'] = f\"{wikidata_root_folder}/{en_labels_file}\""
   ]
  },
  {
   "cell_type": "markdown",
   "id": "purple-identification",
   "metadata": {},
   "source": [
    "## Graph Embeddings"
   ]
  },
  {
   "cell_type": "markdown",
   "id": "brutal-freeware",
   "metadata": {},
   "source": [
    "### complEx"
   ]
  },
  {
   "cell_type": "code",
   "execution_count": 6,
   "id": "interstate-wednesday",
   "metadata": {},
   "outputs": [],
   "source": [
    "complex_temp_folder = f\"{wikidata_root_folder}/temp.graph-embeddings.complex\""
   ]
  },
  {
   "cell_type": "code",
   "execution_count": 7,
   "id": "artificial-wealth",
   "metadata": {},
   "outputs": [],
   "source": [
    "!mkdir -p {complex_temp_folder}"
   ]
  },
  {
   "cell_type": "code",
   "execution_count": null,
   "id": "hourly-heaven",
   "metadata": {},
   "outputs": [],
   "source": [
    "os.environ['TEMP_COMPLEX'] = complex_temp_folder"
   ]
  },
  {
   "cell_type": "code",
   "execution_count": null,
   "id": "primary-sampling",
   "metadata": {},
   "outputs": [],
   "source": [
    "!kgtk graph-embeddings --verbose -i \"$ITEMS\" \\\n",
    "-o $OUT/wikidatadwd.complEx.graph-embeddings.txt \\\n",
    "--retain_temporary_data True \\\n",
    "--operator ComplEx \\\n",
    "--workers 24 \\\n",
    "--log $TEMP_COMPLEX/ge.complex.log \\\n",
    "-T $TEMP_COMPLEX \\\n",
    "-ot w2v \\\n",
    "-e 600"
   ]
  },
  {
   "cell_type": "markdown",
   "id": "interpreted-thanks",
   "metadata": {},
   "source": [
    "### transE"
   ]
  },
  {
   "cell_type": "code",
   "execution_count": null,
   "id": "sudden-corps",
   "metadata": {},
   "outputs": [],
   "source": [
    "transe_temp_folder = f\"{wikidata_root_folder}/temp.graph-embeddings.transe\""
   ]
  },
  {
   "cell_type": "code",
   "execution_count": null,
   "id": "defined-sudan",
   "metadata": {},
   "outputs": [],
   "source": [
    "!mkdir -p {transe_temp_folder}"
   ]
  },
  {
   "cell_type": "code",
   "execution_count": null,
   "id": "innocent-sally",
   "metadata": {},
   "outputs": [],
   "source": [
    "os.environ['TEMP_TRANSE'] = transe_temp_folder"
   ]
  },
  {
   "cell_type": "code",
   "execution_count": null,
   "id": "white-stadium",
   "metadata": {},
   "outputs": [],
   "source": [
    "!$kgtk graph-embeddings --verbose -i \"$ITEMS\" \\\n",
    "-o $OUT/wikidatadwd.transE.graph-embeddings.txt \\\n",
    "--retain_temporary_data True \\\n",
    "--operator TransE \\\n",
    "--workers 24 \\\n",
    "--log $TEMP_TRANSE/ge.transE.log \\\n",
    "-T $TEMP_TRANSE \\\n",
    "-ot w2v \\\n",
    "-e 600"
   ]
  },
  {
   "cell_type": "markdown",
   "id": "extra-functionality",
   "metadata": {},
   "source": [
    "### BERT Embeddings"
   ]
  },
  {
   "cell_type": "code",
   "execution_count": null,
   "id": "solid-persian",
   "metadata": {},
   "outputs": [],
   "source": [
    "!$kgtk text-embedding -i $ALL   \\\n",
    "--model roberta-large-nli-mean-tokens   \\\n",
    "--property-labels-file $LABELS_EN   \\\n",
    "--isa-properties P31 P279 P106 P39 P1382 P373 P452 \\\n",
    "--save-embedding-sentence > $OUT/wikidatadwd-text-embeddings-all.tsv"
   ]
  },
  {
   "cell_type": "markdown",
   "id": "plastic-charge",
   "metadata": {},
   "source": [
    "### Build KGTK edge file for KGTK Search"
   ]
  },
  {
   "cell_type": "code",
   "execution_count": null,
   "id": "greatest-volunteer",
   "metadata": {},
   "outputs": [],
   "source": [
    " !$kgtk cat -i all.sorted.tsv.gz \\\n",
    "    -i derived.isastar.tsv.gz \\\n",
    "    -i metadata.property.datatypes.tsv.gz \\\n",
    "    -i metadata.pagerank.undirected.tsv.gz \\\n",
    "    -i metadata.pagerank.directed.tsv.gz \\\n",
    "    -o wikidata.dwd.all.kgtk.search.unsorted.tsv.gz"
   ]
  },
  {
   "cell_type": "code",
   "execution_count": null,
   "id": "hired-explanation",
   "metadata": {},
   "outputs": [],
   "source": [
    "!$kgtk sort -i wikidata.dwd.all.kgtk.search.unsorted.tsv.gz \\\n",
    "--columns node1 \\\n",
    " --extra '--parallel 24 --buffer-size 30% --temporary-directory ' + temp_folder_path"
   ]
  },
  {
   "cell_type": "raw",
   "id": "efficient-bouquet",
   "metadata": {},
   "source": [
    "tl build-elasticsearch-input --input-file wikidataos.all.for.triples.filtered.id.sorted.property.metadata.sorted.isastar.sorted.tsv.gz  \\\n",
    "--output-file wikidataos.all.for.triples.filtered.id.sorted.property.metadata.sorted.isastar.sorted.jl \\\n",
    "--label-properties label \\\n",
    "--alias-properties alias \\\n",
    "--description-properties description \\\n",
    "--pagerank-properties directed_pagerank \\\n",
    "--mapping-file wikidata_os_mapping_es_ver7_v2.json \\\n",
    "--copy-to-properties labels,aliases --es-version 7"
   ]
  }
 ],
 "metadata": {
  "kernelspec": {
   "display_name": "kgtk-env",
   "language": "python",
   "name": "kgtk-env"
  },
  "language_info": {
   "codemirror_mode": {
    "name": "ipython",
    "version": 3
   },
   "file_extension": ".py",
   "mimetype": "text/x-python",
   "name": "python",
   "nbconvert_exporter": "python",
   "pygments_lexer": "ipython3",
   "version": "3.7.9"
  }
 },
 "nbformat": 4,
 "nbformat_minor": 5
}
