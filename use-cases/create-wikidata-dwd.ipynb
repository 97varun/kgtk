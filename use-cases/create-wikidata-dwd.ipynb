{
 "cells": [
  {
   "cell_type": "code",
   "execution_count": 1,
   "id": "93f651b9-d27d-40bb-b531-cfabad740521",
   "metadata": {},
   "outputs": [],
   "source": [
    "import papermill as pm\n",
    "\n",
    "from kgtk.configure_kgtk_notebooks import ConfigureKGTK\n",
    "from kgtk.functions import kgtk, kypher"
   ]
  },
  {
   "cell_type": "code",
   "execution_count": 3,
   "id": "217db6b6-3e26-47f0-ba62-cbce9270021b",
   "metadata": {},
   "outputs": [],
   "source": [
    "input_path = \"/data/amandeep\"\n",
    "output_path = \"/data/amandeep\"\n",
    "project_name = \"create-wikidata-dwd\"\n",
    "\n",
    "kgtk_path = \"/data/amandeep/Github/kgtk\"\n",
    "kernel_name = \"kgtk-env-ckg07\""
   ]
  },
  {
   "cell_type": "code",
   "execution_count": null,
   "id": "b1c90cb1-baab-4387-bad5-62d703d84ec1",
   "metadata": {},
   "outputs": [],
   "source": [
    "ck = ConfigureKGTK([], kgtk_path=kgtk_path)\n",
    "ck.configure_kgtk(input_graph_path=input_path,\n",
    "                  output_path=output_path,\n",
    "                  project_name=project_name,\n",
    "                 graph_cache_path=None)"
   ]
  },
  {
   "cell_type": "markdown",
   "id": "7f51bc57-e01e-4bf5-bcd6-d3c0b50b0c84",
   "metadata": {},
   "source": [
    "## Run the Import Wikidata Notebook "
   ]
  },
  {
   "cell_type": "code",
   "execution_count": null,
   "id": "f247bcc7-29a6-4756-9b4e-73a84693af20",
   "metadata": {},
   "outputs": [],
   "source": [
    "# Parameters for Import Wikidata\n",
    "json_file_path = \"/data/amandeep/wikidata-20220519\"\n",
    "import_wikidata_path = \"/data/amandeep/wikidata-20220519\"\n",
    "wikidata_project_name = \"import-wikidata\"\n",
    "wikidata_json_file = \"latest-all.json.bz2\"\n",
    "sort_command = 'sort'"
   ]
  },
  {
   "cell_type": "code",
   "execution_count": null,
   "id": "8a8a6cc0-1c9b-42f2-9f50-9366820dbf58",
   "metadata": {},
   "outputs": [],
   "source": [
    "pm.execute_notebook(\n",
    "    \"import-wikidata.ipynb\",\n",
    "    os.environ[\"TEMP\"] + \"/import-wikidata.out.ipynb\",\n",
    "    kernel_name=kernel_name,\n",
    "    parameters=dict(\n",
    "        input_path = json_file_path,\n",
    "        output_path = import_wikidata_path,\n",
    "        project_name = wikidata_project_name,\n",
    "        wikidata_json_file = wikidata_json_file,\n",
    "        kgtk_path = kgtk_path,\n",
    "        sort_command = sort_command\n",
    "    )\n",
    ")"
   ]
  },
  {
   "cell_type": "markdown",
   "id": "7373d403-c73b-47ee-a7d2-13054f5e1516",
   "metadata": {},
   "source": [
    "## Run the Useful Files Notebook to compute `isa` and `p279star` files only"
   ]
  },
  {
   "cell_type": "code",
   "execution_count": null,
   "id": "f3d42da9-ac53-4f77-85aa-fe889b87c8f0",
   "metadata": {},
   "outputs": [],
   "source": [
    "# Parameters for First run on Useful Files\n",
    "first_useful_files_input_path = f\"{import_wikidata_path}/{wikidata_project_name}\"\n",
    "first_useful_files_output_path = import_wikidata_path\n",
    "first_useful_files_project_name = \"useful-files\"\n",
    "first_useful_files = 'claims,label_all,alias_all,description_all'\n",
    "first_useful_files_for_cache = 'claims'"
   ]
  },
  {
   "cell_type": "code",
   "execution_count": null,
   "id": "31ad8208-eb1a-41f8-99b4-354f6dcbec07",
   "metadata": {},
   "outputs": [],
   "source": [
    "pm.execute_notebook(\n",
    "    \"Wikidata-Useful-Files.ipynb\",\n",
    "    os.environ[\"TEMP\"] + \"/Wikidata-Useful-Files.out.ipynb\",\n",
    "    kernel_name=kernel_name,\n",
    "    parameters=dict(\n",
    "        input_path = first_useful_files_input_path,\n",
    "        output_path = first_useful_files_output_path,\n",
    "        project_name = first_useful_files_project_name,\n",
    "        kgtk_path = kgtk_path,\n",
    "        files = first_useful_files,\n",
    "        files_for_cache=first_useful_files_for_cache,\n",
    "        compute_pagerank=False,\n",
    "        compute_degrees=False,\n",
    "        debug=False,\n",
    "        compute_isa_star=False,\n",
    "        compute_p31p279_star=False\n",
    "    )\n",
    ")"
   ]
  },
  {
   "cell_type": "code",
   "execution_count": null,
   "id": "4b14d680-9631-401a-8903-7245a9cad80d",
   "metadata": {},
   "outputs": [],
   "source": [
    "!cp $import_wikidata_path/$first_useful_files_project_name/derived.isa.tsv.gz $import_wikidata_path\n",
    "!cp $import_wikidata_path/$first_useful_files_project_name/derived.P279star.tsv.gz $import_wikidata_path"
   ]
  },
  {
   "cell_type": "markdown",
   "id": "54f7dab3-1528-4049-9e8a-e9b6aeff5aa1",
   "metadata": {},
   "source": [
    "## Run Wikidata Subsets Notebook"
   ]
  },
  {
   "cell_type": "code",
   "execution_count": null,
   "id": "6341b690-c846-4482-adcc-ba30dc69f267",
   "metadata": {},
   "outputs": [],
   "source": [
    "subset_input_path = import_wikidata_path\n",
    "subset_output_path = \"/data/amandeep\"\n",
    "\n",
    "\n",
    "subset_project_name = \"wikidata-20220519-dwd-v5\"\n",
    "\n",
    "subset_files = 'claims,label_all,alias_all,description_all,item,qualifiers,datatypes,types,isa,p279star'\n",
    "\n",
    "# Classes to remove\n",
    "remove_classes = \"Q7318358,Q13442814\"\n",
    "\n",
    "languages = \"en,ru,es,zh-cn,de,it,nl,pl,fr,pt,sv\""
   ]
  },
  {
   "cell_type": "code",
   "execution_count": null,
   "id": "ce354040-80ce-42bc-a868-dafe324131d1",
   "metadata": {},
   "outputs": [],
   "source": [
    "pm.execute_notebook(\n",
    "    \"Wikidata-Subsets.ipynb\",\n",
    "    os.environ[\"TEMP\"] + \"/Wikidata-Subsets.out.ipynb\",\n",
    "    kernel_name=kernel_name,\n",
    "    parameters=dict(\n",
    "        input_path = subset_input_path,\n",
    "        output_path = subset_output_path,\n",
    "        project_name = subset_project_name,\n",
    "        kgtk_path = kgtk_path,\n",
    "        files = subset_files,\n",
    "        remove_classes = remove_classes,\n",
    "        languages = languages\n",
    "    )\n",
    ")"
   ]
  }
 ],
 "metadata": {
  "kernelspec": {
   "display_name": "kgtk-env",
   "language": "python",
   "name": "kgtk-env"
  },
  "language_info": {
   "codemirror_mode": {
    "name": "ipython",
    "version": 3
   },
   "file_extension": ".py",
   "mimetype": "text/x-python",
   "name": "python",
   "nbconvert_exporter": "python",
   "pygments_lexer": "ipython3",
   "version": "3.9.7"
  }
 },
 "nbformat": 4,
 "nbformat_minor": 5
}
