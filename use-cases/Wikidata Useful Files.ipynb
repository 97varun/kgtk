{
 "cells": [
  {
   "cell_type": "markdown",
   "metadata": {},
   "source": [
    "# Generating Useful Wikidata Files\n",
    "\n",
    "This notebook generates files that contain derived data that is useful in many applications. The input to the notebook is the full Wikidata or a subset of Wikidata. It also works for arbitrary KGs as long as they follow the representation requirements of Wikidata:\n",
    "\n",
    "- the *instance of* relation is represented using the `P31` property\n",
    "- the *subclass of* relation is represented using the `P279` property\n",
    "- all properties declare a datatype, and the data types must be one of the datatypes in Wikidata.\n",
    "\n",
    "Inputs:\n",
    "\n",
    "- `claims_file`: contains all statements, which consist of edges `node1/label/node2` where `label` is a property in Wikidata (e.g., sitelinks, labels, aliases and description are not in the claims file.\n",
    "- `item_file`: the subset of the `claims_file` consistin of edges for property of data type `wikibase-item`\n",
    "- `label_file`, `alias_file` and `description_file` containing labels, aliases and descriptions. It is assume that these files contain the labels, aliases and descriptions of all nodes appearing in the claims file. Users may provide these files for specific languages only.\n",
    "\n",
    "Outputs:\n",
    "\n",
    "- **Instance of (P31):** `derived.P31.tsv.gz` contains all the `instance of (P31)` edges present in the claims file.\n",
    "- **Subclass of (P279):** `derived.P279.tsv.gz` contains all the `subclass of (P279)` edges present in the claims file.\n",
    "- **Is A (isa):** `derived.isa.tsv.gz` contains edges `node`isa/node2` where either `node1/P31/node2` or `node1/P279/node2`\n",
    "- **Closure of subclass of (P279star):** `derived.P279star.tsv.gz` contains edges `node1/P279star/node2` where `node2` is reachable from `node1` via zero or more hops using the `P279` property. Note that for example, `Q44/P279star/Q44`. An example when this file is useful is when you want to find all the instance of a class, including instances of subclasses of the given class.\n",
    "- **In/out degrees:** `metadata.out_degree.tsv.gz` contains the out degree of every node, and `metadata.in_degree.tsv.gz` contains the in degree of every node.\n",
    "- **Pagerank:** outputs page rank on the directed graph in `metadata.pagerank.directed.tsv.gz` and page rank of the directed graph in `metadata.pagerank.undirected.tsv.gz`."
   ]
  },
  {
   "cell_type": "markdown",
   "metadata": {},
   "source": [
    "### Batch Invocation\n",
    "Example batch command. The second argument is a notebook where the output will be stored. You can load it to see progress.\n",
    "\n",
    "```\n",
    "papermill Wikidata\\ Useful\\ Files.ipynb useful-files.out.ipynb \\\n",
    "-p claims_file /Volumes/GoogleDrive/Shared\\ drives/KGTK-public-graphs/wikidata-20200803-v4/all.tsv.gz \\\n",
    "-p label_file /Volumes/GoogleDrive/Shared\\ drives/KGTK-public-graphs/wikidata-20200803-v4/part.label.en.tsv.gz \\\n",
    "-p item_file /Volumes/GoogleDrive/Shared\\ drives/KGTK-public-graphs/wikidata-20200803-v4/part.wikibase-item.tsv.gz \\\n",
    "-p property_item_file = /Volumes/GoogleDrive/Shared\\ drives/KGTK-public-graphs/wikidata-20200803-v4/part.property.wikibase-item.tsv.gz \\\n",
    "-p output_path <local folder> \\\n",
    "-p output_folder useful_files_v4 \\\n",
    "-p temp_folder temp.useful_files_v4 \\\n",
    "-p delete_database no \n",
    "-p languages es,ru,zh-cn\n",
    "```"
   ]
  },
  {
   "cell_type": "code",
   "execution_count": 2,
   "metadata": {},
   "outputs": [],
   "source": [
    "import io\n",
    "import os\n",
    "import subprocess\n",
    "import sys\n",
    "\n",
    "import numpy as np\n",
    "import pandas as pd\n",
    "\n",
    "import altair as alt \n",
    "from kgtk.configure_kgtk_notebooks import ConfigureKGTK"
   ]
  },
  {
   "cell_type": "code",
   "execution_count": 3,
   "metadata": {
    "tags": [
     "parameters"
    ]
   },
   "outputs": [],
   "source": [
    "# Parameters\n",
    "# input_path = \"/Volumes/saggu-ssd/kgtk-tutorial-files/datasets/arnold\"\n",
    "input_path = None\n",
    "output_path = \"/Volumes/saggu-ssd\"\n",
    "kgtk_path = \"/Users/amandeep/Github/kgtk\"\n",
    "\n",
    "graph_cache_path = None\n",
    "\n",
    "project_name = \"arnold-github-test\"\n",
    "\n",
    "languages = 'en'\n",
    "\n",
    "files = 'claims,label,label_all,alias,alias_all,description,description_all,item'\n",
    "\n",
    "compute_pagerank = True\n",
    "compute_degrees = True\n",
    "compute_hits = False\n",
    "compute_table_linker_files = True\n",
    "\n",
    "debug = \"false\""
   ]
  },
  {
   "cell_type": "code",
   "execution_count": 4,
   "metadata": {},
   "outputs": [],
   "source": [
    "files = files.split(',')"
   ]
  },
  {
   "cell_type": "code",
   "execution_count": 5,
   "metadata": {},
   "outputs": [
    {
     "name": "stdout",
     "output_type": "stream",
     "text": [
      "User home: /Users/amandeep\n",
      "Current dir: /Users/amandeep/Github/kgtk/use-cases\n",
      "KGTK dir: /Users/amandeep/Github/kgtk\n",
      "Use-cases dir: /Users/amandeep/Github/kgtk/use-cases\n",
      "--2021-10-13 16:53:03--  https://github.com/usc-isi-i2/kgtk-tutorial-files/raw/main/datasets/arnold/claims.tsv.gz\n",
      "Resolving github.com (github.com)... 140.82.112.4\n",
      "Connecting to github.com (github.com)|140.82.112.4|:443... connected.\n",
      "HTTP request sent, awaiting response... 404 Not Found\n",
      "2021-10-13 16:53:04 ERROR 404: Not Found.\n",
      "\n",
      "--2021-10-13 16:53:04--  https://github.com/usc-isi-i2/kgtk-tutorial-files/raw/main/datasets/arnold/labels.en.tsv.gz\n",
      "Resolving github.com (github.com)... 140.82.112.4\n",
      "Connecting to github.com (github.com)|140.82.112.4|:443... connected.\n",
      "HTTP request sent, awaiting response... 302 Found\n",
      "Location: https://raw.githubusercontent.com/usc-isi-i2/kgtk-tutorial-files/main/datasets/arnold/labels.en.tsv.gz [following]\n",
      "--2021-10-13 16:53:05--  https://raw.githubusercontent.com/usc-isi-i2/kgtk-tutorial-files/main/datasets/arnold/labels.en.tsv.gz\n",
      "Resolving raw.githubusercontent.com (raw.githubusercontent.com)... 185.199.111.133, 185.199.108.133, 185.199.109.133, ...\n",
      "Connecting to raw.githubusercontent.com (raw.githubusercontent.com)|185.199.111.133|:443... connected.\n",
      "HTTP request sent, awaiting response... 200 OK\n",
      "Length: 1064283 (1.0M) [application/octet-stream]\n",
      "Saving to: ‘/Users/amandeep/isi-kgtk-tutorial/input/labels.en.tsv.gz’\n",
      "\n",
      "     0K .......... .......... .......... .......... ..........  4% 2.10M 0s\n",
      "    50K .......... .......... .......... .......... ..........  9% 5.20M 0s\n",
      "   100K .......... .......... .......... .......... .......... 14% 2.96M 0s\n",
      "   150K .......... .......... .......... .......... .......... 19% 16.1M 0s\n",
      "   200K .......... .......... .......... .......... .......... 24% 7.60M 0s\n",
      "   250K .......... .......... .......... .......... .......... 28% 5.67M 0s\n",
      "   300K .......... .......... .......... .......... .......... 33% 6.03M 0s\n",
      "   350K .......... .......... .......... .......... .......... 38% 26.0M 0s\n",
      "   400K .......... .......... .......... .......... .......... 43% 49.5M 0s\n",
      "   450K .......... .......... .......... .......... .......... 48% 23.4M 0s\n",
      "   500K .......... .......... .......... .......... .......... 52% 22.7M 0s\n",
      "   550K .......... .......... .......... .......... .......... 57% 14.0M 0s\n",
      "   600K .......... .......... .......... .......... .......... 62% 3.93M 0s\n",
      "   650K .......... .......... .......... .......... .......... 67% 37.2M 0s\n",
      "   700K .......... .......... .......... .......... .......... 72% 13.3M 0s\n",
      "   750K .......... .......... .......... .......... .......... 76% 18.2M 0s\n",
      "   800K .......... .......... .......... .......... .......... 81% 12.2M 0s\n",
      "   850K .......... .......... .......... .......... .......... 86% 19.8M 0s\n",
      "   900K .......... .......... .......... .......... .......... 91% 47.2M 0s\n",
      "   950K .......... .......... .......... .......... .......... 96% 4.91M 0s\n",
      "  1000K .......... .......... .......... .........            100% 17.9M=0.1s\n",
      "\n",
      "2021-10-13 16:53:05 (8.08 MB/s) - ‘/Users/amandeep/isi-kgtk-tutorial/input/labels.en.tsv.gz’ saved [1064283/1064283]\n",
      "\n",
      "--2021-10-13 16:53:05--  https://github.com/usc-isi-i2/kgtk-tutorial-files/raw/main/datasets/arnold/labels.tsv.gz\n",
      "Resolving github.com (github.com)... 140.82.112.4\n",
      "Connecting to github.com (github.com)|140.82.112.4|:443... connected.\n",
      "HTTP request sent, awaiting response... 404 Not Found\n",
      "2021-10-13 16:53:06 ERROR 404: Not Found.\n",
      "\n",
      "--2021-10-13 16:53:06--  https://github.com/usc-isi-i2/kgtk-tutorial-files/raw/main/datasets/arnold/aliases.en.tsv.gz\n",
      "Resolving github.com (github.com)... 140.82.112.4\n",
      "Connecting to github.com (github.com)|140.82.112.4|:443... connected.\n",
      "HTTP request sent, awaiting response... 302 Found\n",
      "Location: https://raw.githubusercontent.com/usc-isi-i2/kgtk-tutorial-files/main/datasets/arnold/aliases.en.tsv.gz [following]\n",
      "--2021-10-13 16:53:07--  https://raw.githubusercontent.com/usc-isi-i2/kgtk-tutorial-files/main/datasets/arnold/aliases.en.tsv.gz\n",
      "Resolving raw.githubusercontent.com (raw.githubusercontent.com)... 185.199.111.133, 185.199.108.133, 185.199.109.133, ...\n",
      "Connecting to raw.githubusercontent.com (raw.githubusercontent.com)|185.199.111.133|:443... connected.\n",
      "HTTP request sent, awaiting response... 200 OK\n",
      "Length: 1342345 (1.3M) [application/octet-stream]\n",
      "Saving to: ‘/Users/amandeep/isi-kgtk-tutorial/input/aliases.en.tsv.gz’\n",
      "\n",
      "     0K .......... .......... .......... .......... ..........  3% 2.23M 1s\n",
      "    50K .......... .......... .......... .......... ..........  7% 4.48M 0s\n",
      "   100K .......... .......... .......... .......... .......... 11% 3.17M 0s\n",
      "   150K .......... .......... .......... .......... .......... 15% 9.63M 0s\n",
      "   200K .......... .......... .......... .......... .......... 19% 10.2M 0s\n",
      "   250K .......... .......... .......... .......... .......... 22% 8.11M 0s\n",
      "   300K .......... .......... .......... .......... .......... 26% 6.05M 0s\n",
      "   350K .......... .......... .......... .......... .......... 30% 12.3M 0s\n",
      "   400K .......... .......... .......... .......... .......... 34% 18.2M 0s\n",
      "   450K .......... .......... .......... .......... .......... 38% 17.3M 0s\n",
      "   500K .......... .......... .......... .......... .......... 41% 31.9M 0s\n",
      "   550K .......... .......... .......... .......... .......... 45% 28.0M 0s\n",
      "   600K .......... .......... .......... .......... .......... 49% 16.7M 0s\n",
      "   650K .......... .......... .......... .......... .......... 53% 5.62M 0s\n",
      "   700K .......... .......... .......... .......... .......... 57% 89.9M 0s\n",
      "   750K .......... .......... .......... .......... .......... 61% 30.3M 0s\n",
      "   800K .......... .......... .......... .......... .......... 64% 13.9M 0s\n",
      "   850K .......... .......... .......... .......... .......... 68% 11.3M 0s\n",
      "   900K .......... .......... .......... .......... .......... 72% 79.8M 0s\n",
      "   950K .......... .......... .......... .......... .......... 76% 43.8M 0s\n",
      "  1000K .......... .......... .......... .......... .......... 80% 51.7M 0s\n",
      "  1050K .......... .......... .......... .......... .......... 83% 48.9M 0s\n",
      "  1100K .......... .......... .......... .......... .......... 87% 79.8M 0s\n",
      "  1150K .......... .......... .......... .......... .......... 91% 31.2M 0s\n",
      "  1200K .......... .......... .......... .......... .......... 95% 10.7M 0s\n",
      "  1250K .......... .......... .......... .......... .......... 99%  125M 0s\n",
      "  1300K ..........                                            100%  159M=0.1s\n",
      "\n",
      "2021-10-13 16:53:07 (10.9 MB/s) - ‘/Users/amandeep/isi-kgtk-tutorial/input/aliases.en.tsv.gz’ saved [1342345/1342345]\n",
      "\n",
      "--2021-10-13 16:53:07--  https://github.com/usc-isi-i2/kgtk-tutorial-files/raw/main/datasets/arnold/aliases.tsv.gz\n",
      "Resolving github.com (github.com)... 140.82.112.4\n",
      "Connecting to github.com (github.com)|140.82.112.4|:443... connected.\n",
      "HTTP request sent, awaiting response... 404 Not Found\n",
      "2021-10-13 16:53:08 ERROR 404: Not Found.\n",
      "\n",
      "--2021-10-13 16:53:08--  https://github.com/usc-isi-i2/kgtk-tutorial-files/raw/main/datasets/arnold/descriptions.en.tsv.gz\n",
      "Resolving github.com (github.com)... 140.82.112.4\n",
      "Connecting to github.com (github.com)|140.82.112.4|:443... connected.\n",
      "HTTP request sent, awaiting response... 302 Found\n",
      "Location: https://raw.githubusercontent.com/usc-isi-i2/kgtk-tutorial-files/main/datasets/arnold/descriptions.en.tsv.gz [following]\n",
      "--2021-10-13 16:53:09--  https://raw.githubusercontent.com/usc-isi-i2/kgtk-tutorial-files/main/datasets/arnold/descriptions.en.tsv.gz\n",
      "Resolving raw.githubusercontent.com (raw.githubusercontent.com)... 185.199.111.133, 185.199.108.133, 185.199.109.133, ...\n",
      "Connecting to raw.githubusercontent.com (raw.githubusercontent.com)|185.199.111.133|:443... connected.\n",
      "HTTP request sent, awaiting response... 200 OK\n",
      "Length: 1339811 (1.3M) [application/octet-stream]\n",
      "Saving to: ‘/Users/amandeep/isi-kgtk-tutorial/input/descriptions.en.tsv.gz’\n",
      "\n",
      "     0K .......... .......... .......... .......... ..........  3% 2.21M 1s\n",
      "    50K .......... .......... .......... .......... ..........  7% 1.68M 1s\n",
      "   100K .......... .......... .......... .......... .......... 11% 2.25M 1s\n",
      "   150K .......... .......... .......... .......... .......... 15% 2.52M 1s\n",
      "   200K .......... .......... .......... .......... .......... 19% 2.81M 0s\n",
      "   250K .......... .......... .......... .......... .......... 22% 2.65M 0s\n",
      "   300K .......... .......... .......... .......... .......... 26% 2.77M 0s\n",
      "   350K .......... .......... .......... .......... .......... 30% 2.09M 0s\n",
      "   400K .......... .......... .......... .......... .......... 34% 3.06M 0s\n",
      "   450K .......... .......... .......... .......... .......... 38% 3.65M 0s\n",
      "   500K .......... .......... .......... .......... .......... 42% 2.86M 0s\n",
      "   550K .......... .......... .......... .......... .......... 45% 3.17M 0s\n",
      "   600K .......... .......... .......... .......... .......... 49% 3.69M 0s\n",
      "   650K .......... .......... .......... .......... .......... 53% 3.05M 0s\n",
      "   700K .......... .......... .......... .......... .......... 57% 1.93M 0s\n",
      "   750K .......... .......... .......... .......... .......... 61%  112M 0s\n",
      "   800K .......... .......... .......... .......... .......... 64% 4.80M 0s\n",
      "   850K .......... .......... .......... .......... .......... 68% 2.82M 0s\n",
      "   900K .......... .......... .......... .......... .......... 72% 3.97M 0s\n",
      "   950K .......... .......... .......... .......... .......... 76% 3.40M 0s\n",
      "  1000K .......... .......... .......... .......... .......... 80% 4.66M 0s\n",
      "  1050K .......... .......... .......... .......... .......... 84% 4.47M 0s\n",
      "  1100K .......... .......... .......... .......... .......... 87% 3.77M 0s\n",
      "  1150K .......... .......... .......... .......... .......... 91% 4.13M 0s\n",
      "  1200K .......... .......... .......... .......... .......... 95% 4.39M 0s\n",
      "  1250K .......... .......... .......... .......... .......... 99% 4.49M 0s\n",
      "  1300K ........                                              100%  114M=0.4s\n",
      "\n",
      "2021-10-13 16:53:09 (3.13 MB/s) - ‘/Users/amandeep/isi-kgtk-tutorial/input/descriptions.en.tsv.gz’ saved [1339811/1339811]\n",
      "\n",
      "--2021-10-13 16:53:09--  https://github.com/usc-isi-i2/kgtk-tutorial-files/raw/main/datasets/arnold/descriptions.tsv.gz\n",
      "Resolving github.com (github.com)... 140.82.112.4\n",
      "Connecting to github.com (github.com)|140.82.112.4|:443... connected.\n",
      "HTTP request sent, awaiting response... 404 Not Found\n",
      "2021-10-13 16:53:10 ERROR 404: Not Found.\n",
      "\n",
      "--2021-10-13 16:53:10--  https://github.com/usc-isi-i2/kgtk-tutorial-files/raw/main/datasets/arnold/claims.wikibase-item.tsv.gz\n",
      "Resolving github.com (github.com)... 140.82.112.4\n",
      "Connecting to github.com (github.com)|140.82.112.4|:443... connected.\n",
      "HTTP request sent, awaiting response... 302 Found\n",
      "Location: https://raw.githubusercontent.com/usc-isi-i2/kgtk-tutorial-files/main/datasets/arnold/claims.wikibase-item.tsv.gz [following]\n",
      "--2021-10-13 16:53:11--  https://raw.githubusercontent.com/usc-isi-i2/kgtk-tutorial-files/main/datasets/arnold/claims.wikibase-item.tsv.gz\n",
      "Resolving raw.githubusercontent.com (raw.githubusercontent.com)... 185.199.111.133, 185.199.108.133, 185.199.109.133, ...\n",
      "Connecting to raw.githubusercontent.com (raw.githubusercontent.com)|185.199.111.133|:443... connected.\n",
      "HTTP request sent, awaiting response... 200 OK\n",
      "Length: 6332200 (6.0M) [application/octet-stream]\n",
      "Saving to: ‘/Users/amandeep/isi-kgtk-tutorial/input/claims.wikibase-item.tsv.gz’\n",
      "\n",
      "     0K .......... .......... .......... .......... ..........  0% 1.74M 3s\n",
      "    50K .......... .......... .......... .......... ..........  1% 1.42M 4s\n",
      "   100K .......... .......... .......... .......... ..........  2% 1.20M 4s\n",
      "   150K .......... .......... .......... .......... ..........  3%  111M 3s\n",
      "   200K .......... .......... .......... .......... ..........  4% 1.97M 3s\n",
      "   250K .......... .......... .......... .......... ..........  4% 3.04M 3s\n",
      "   300K .......... .......... .......... .......... ..........  5% 2.35M 3s\n",
      "   350K .......... .......... .......... .......... ..........  6% 3.38M 3s\n",
      "   400K .......... .......... .......... .......... ..........  7% 2.56M 3s\n",
      "   450K .......... .......... .......... .......... ..........  8% 2.14M 3s\n",
      "   500K .......... .......... .......... .......... ..........  8% 2.55M 2s\n",
      "   550K .......... .......... .......... .......... ..........  9% 4.30M 2s\n",
      "   600K .......... .......... .......... .......... .......... 10% 2.87M 2s\n",
      "   650K .......... .......... .......... .......... .......... 11% 4.13M 2s\n",
      "   700K .......... .......... .......... .......... .......... 12% 2.72M 2s\n",
      "   750K .......... .......... .......... .......... .......... 12% 4.02M 2s\n",
      "   800K .......... .......... .......... .......... .......... 13% 3.38M 2s\n",
      "   850K .......... .......... .......... .......... .......... 14% 3.28M 2s\n",
      "   900K .......... .......... .......... .......... .......... 15% 5.24M 2s\n",
      "   950K .......... .......... .......... .......... .......... 16% 3.88M 2s\n",
      "  1000K .......... .......... .......... .......... .......... 16% 5.19M 2s\n",
      "  1050K .......... .......... .......... .......... .......... 17% 3.54M 2s\n",
      "  1100K .......... .......... .......... .......... .......... 18% 6.93M 2s\n",
      "  1150K .......... .......... .......... .......... .......... 19% 3.80M 2s\n",
      "  1200K .......... .......... .......... .......... .......... 20% 4.80M 2s\n",
      "  1250K .......... .......... .......... .......... .......... 21% 3.78M 2s\n",
      "  1300K .......... .......... .......... .......... .......... 21% 4.28M 2s\n",
      "  1350K .......... .......... .......... .......... .......... 22% 6.05M 2s\n",
      "  1400K .......... .......... .......... .......... .......... 23% 7.38M 1s\n",
      "  1450K .......... .......... .......... .......... .......... 24% 3.51M 1s\n",
      "  1500K .......... .......... .......... .......... .......... 25% 7.94M 1s\n",
      "  1550K .......... .......... .......... .......... .......... 25% 8.42M 1s\n",
      "  1600K .......... .......... .......... .......... .......... 26% 3.40M 1s\n",
      "  1650K .......... .......... .......... .......... .......... 27% 5.67M 1s\n",
      "  1700K .......... .......... .......... .......... .......... 28% 4.56M 1s\n",
      "  1750K .......... .......... .......... .......... .......... 29% 5.21M 1s\n",
      "  1800K .......... .......... .......... .......... .......... 29% 8.42M 1s\n",
      "  1850K .......... .......... .......... .......... .......... 30% 4.23M 1s\n",
      "  1900K .......... .......... .......... .......... .......... 31% 7.31M 1s\n",
      "  1950K .......... .......... .......... .......... .......... 32% 7.08M 1s\n",
      "  2000K .......... .......... .......... .......... .......... 33% 4.05M 1s\n",
      "  2050K .......... .......... .......... .......... .......... 33% 6.11M 1s\n",
      "  2100K .......... .......... .......... .......... .......... 34% 9.66M 1s\n",
      "  2150K .......... .......... .......... .......... .......... 35% 4.98M 1s\n",
      "  2200K .......... .......... .......... .......... .......... 36% 5.92M 1s\n",
      "  2250K .......... .......... .......... .......... .......... 37% 7.60M 1s\n",
      "  2300K .......... .......... .......... .......... .......... 38% 7.57M 1s\n",
      "  2350K .......... .......... .......... .......... .......... 38% 9.90M 1s\n",
      "  2400K .......... .......... .......... .......... .......... 39% 7.52M 1s\n",
      "  2450K .......... .......... .......... .......... .......... 40% 4.67M 1s\n",
      "  2500K .......... .......... .......... .......... .......... 41% 6.89M 1s\n",
      "  2550K .......... .......... .......... .......... .......... 42% 5.97M 1s\n",
      "  2600K .......... .......... .......... .......... .......... 42% 26.5M 1s\n",
      "  2650K .......... .......... .......... .......... .......... 43% 8.08M 1s\n",
      "  2700K .......... .......... .......... .......... .......... 44% 4.10M 1s\n",
      "  2750K .......... .......... .......... .......... .......... 45% 9.75M 1s\n",
      "  2800K .......... .......... .......... .......... .......... 46% 11.1M 1s\n",
      "  2850K .......... .......... .......... .......... .......... 46% 4.62M 1s\n",
      "  2900K .......... .......... .......... .......... .......... 47% 6.11M 1s\n",
      "  2950K .......... .......... .......... .......... .......... 48% 5.88M 1s\n",
      "  3000K .......... .......... .......... .......... .......... 49% 12.4M 1s\n",
      "  3050K .......... .......... .......... .......... .......... 50% 7.94M 1s\n",
      "  3100K .......... .......... .......... .......... .......... 50% 12.8M 1s\n",
      "  3150K .......... .......... .......... .......... .......... 51% 4.43M 1s\n",
      "  3200K .......... .......... .......... .......... .......... 52% 10.1M 1s\n",
      "  3250K .......... .......... .......... .......... .......... 53% 8.03M 1s\n",
      "  3300K .......... .......... .......... .......... .......... 54% 7.55M 1s\n",
      "  3350K .......... .......... .......... .......... .......... 54% 7.29M 1s\n",
      "  3400K .......... .......... .......... .......... .......... 55% 8.67M 1s\n",
      "  3450K .......... .......... .......... .......... .......... 56% 11.4M 1s\n",
      "  3500K .......... .......... .......... .......... .......... 57% 7.01M 1s\n",
      "  3550K .......... .......... .......... .......... .......... 58% 25.2M 1s\n",
      "  3600K .......... .......... .......... .......... .......... 59% 5.38M 1s\n",
      "  3650K .......... .......... .......... .......... .......... 59% 7.09M 1s\n",
      "  3700K .......... .......... .......... .......... .......... 60% 12.4M 1s\n",
      "  3750K .......... .......... .......... .......... .......... 61% 9.69M 0s\n",
      "  3800K .......... .......... .......... .......... .......... 62% 16.6M 0s\n",
      "  3850K .......... .......... .......... .......... .......... 63% 6.65M 0s\n",
      "  3900K .......... .......... .......... .......... .......... 63% 8.21M 0s\n",
      "  3950K .......... .......... .......... .......... .......... 64% 3.58M 0s\n",
      "  4000K .......... .......... .......... .......... .......... 65%  118M 0s\n",
      "  4050K .......... .......... .......... .......... .......... 66% 14.1M 0s\n",
      "  4100K .......... .......... .......... .......... .......... 67% 3.01M 0s\n",
      "  4150K .......... .......... .......... .......... .......... 67% 7.12M 0s\n",
      "  4200K .......... .......... .......... .......... .......... 68% 9.12M 0s\n",
      "  4250K .......... .......... .......... .......... .......... 69% 12.6M 0s\n",
      "  4300K .......... .......... .......... .......... .......... 70% 12.4M 0s\n",
      "  4350K .......... .......... .......... .......... .......... 71% 16.5M 0s\n",
      "  4400K .......... .......... .......... .......... .......... 71% 12.2M 0s\n",
      "  4450K .......... .......... .......... .......... .......... 72% 4.91M 0s\n",
      "  4500K .......... .......... .......... .......... .......... 73% 11.7M 0s\n",
      "  4550K .......... .......... .......... .......... .......... 74% 16.2M 0s\n",
      "  4600K .......... .......... .......... .......... .......... 75% 10.0M 0s\n",
      "  4650K .......... .......... .......... .......... .......... 76% 9.46M 0s\n",
      "  4700K .......... .......... .......... .......... .......... 76% 12.4M 0s\n",
      "  4750K .......... .......... .......... .......... .......... 77% 8.34M 0s\n",
      "  4800K .......... .......... .......... .......... .......... 78% 21.4M 0s\n",
      "  4850K .......... .......... .......... .......... .......... 79% 10.2M 0s\n",
      "  4900K .......... .......... .......... .......... .......... 80% 6.75M 0s\n",
      "  4950K .......... .......... .......... .......... .......... 80% 13.0M 0s\n",
      "  5000K .......... .......... .......... .......... .......... 81% 12.4M 0s\n",
      "  5050K .......... .......... .......... .......... .......... 82% 13.9M 0s\n",
      "  5100K .......... .......... .......... .......... .......... 83% 10.8M 0s\n",
      "  5150K .......... .......... .......... .......... .......... 84% 6.05M 0s\n",
      "  5200K .......... .......... .......... .......... .......... 84% 90.4M 0s\n",
      "  5250K .......... .......... .......... .......... .......... 85% 9.85M 0s\n",
      "  5300K .......... .......... .......... .......... .......... 86% 4.80M 0s\n",
      "  5350K .......... .......... .......... .......... .......... 87% 42.4M 0s\n",
      "  5400K .......... .......... .......... .......... .......... 88% 5.38M 0s\n",
      "  5450K .......... .......... .......... .......... .......... 88% 61.8M 0s\n",
      "  5500K .......... .......... .......... .......... .......... 89%  101M 0s\n",
      "  5550K .......... .......... .......... .......... .......... 90% 24.6M 0s\n",
      "  5600K .......... .......... .......... .......... .......... 91% 2.73M 0s\n",
      "  5650K .......... .......... .......... .......... .......... 92% 9.95M 0s\n",
      "  5700K .......... .......... .......... .......... .......... 92% 17.0M 0s\n",
      "  5750K .......... .......... .......... .......... .......... 93% 11.1M 0s\n",
      "  5800K .......... .......... .......... .......... .......... 94% 11.6M 0s\n",
      "  5850K .......... .......... .......... .......... .......... 95% 59.2M 0s\n",
      "  5900K .......... .......... .......... .......... .......... 96% 12.2M 0s\n",
      "  5950K .......... .......... .......... .......... .......... 97% 22.5M 0s\n",
      "  6000K .......... .......... .......... .......... .......... 97% 13.4M 0s\n",
      "  6050K .......... .......... .......... .......... .......... 98% 7.55M 0s\n",
      "  6100K .......... .......... .......... .......... .......... 99% 7.20M 0s\n",
      "  6150K .......... .......... .......... ...                  100%  175M=1.0s\n",
      "\n",
      "2021-10-13 16:53:12 (5.83 MB/s) - ‘/Users/amandeep/isi-kgtk-tutorial/input/claims.wikibase-item.tsv.gz’ saved [6332200/6332200]\n",
      "\n"
     ]
    }
   ],
   "source": [
    "\n",
    "ck = ConfigureKGTK(files, kgtk_path=kgtk_path)\n",
    "ck.configure_kgtk(input_graph_path=input_path,\n",
    "                  output_path=output_path,\n",
    "                  project_name=project_name,\n",
    "                 graph_cache_path=graph_cache_path)"
   ]
  },
  {
   "cell_type": "code",
   "execution_count": 7,
   "metadata": {},
   "outputs": [
    {
     "name": "stdout",
     "output_type": "stream",
     "text": [
      "OUT: /Volumes/saggu-ssd/arnold-github-test\n",
      "kypher: kgtk query --graph-cache /Volumes/saggu-ssd/arnold-github-test/temp.arnold-github-test/wikidata.sqlite3.db\n",
      "kgtk: kgtk\n",
      "USE_CASES_DIR: /Users/amandeep/Github/kgtk/use-cases\n",
      "GRAPH: /Users/amandeep/isi-kgtk-tutorial/input\n",
      "EXAMPLES_DIR: /Users/amandeep/Github/kgtk/examples\n",
      "STORE: /Volumes/saggu-ssd/arnold-github-test/temp.arnold-github-test/wikidata.sqlite3.db\n",
      "TEMP: /Volumes/saggu-ssd/arnold-github-test/temp.arnold-github-test\n",
      "claims: None/claims.tsv.gz\n",
      "label: None/labels.en.tsv.gz\n",
      "label_all: None/labels.tsv.gz\n",
      "alias: None/aliases.en.tsv.gz\n",
      "alias_all: None/aliases.tsv.gz\n",
      "description: None/descriptions.en.tsv.gz\n",
      "description_all: None/descriptions.tsv.gz\n",
      "item: None/claims.wikibase-item.tsv.gz\n"
     ]
    }
   ],
   "source": [
    "ck.print_env_variables()"
   ]
  },
  {
   "cell_type": "code",
   "execution_count": 8,
   "metadata": {},
   "outputs": [
    {
     "name": "stdout",
     "output_type": "stream",
     "text": [
      "kgtk query --graph-cache /Volumes/saggu-ssd/arnold-github-test/temp.arnold-github-test/wikidata.sqlite3.db -i \"None/claims.tsv.gz\" --as claims  -i \"None/labels.en.tsv.gz\" --as label  -i \"None/labels.tsv.gz\" --as label_all  -i \"None/aliases.en.tsv.gz\" --as alias  -i \"None/aliases.tsv.gz\" --as alias_all  -i \"None/descriptions.en.tsv.gz\" --as description  -i \"None/descriptions.tsv.gz\" --as description_all  -i \"None/claims.wikibase-item.tsv.gz\" --as item  --limit 3\n",
      "[Errno 2] No such file or directory: '/Users/amandeep/Github/kgtk/use-cases/None/claims.tsv.gz'\n",
      "\n"
     ]
    }
   ],
   "source": [
    "ck.load_files_into_cache()"
   ]
  },
  {
   "cell_type": "code",
   "execution_count": 5,
   "metadata": {},
   "outputs": [],
   "source": [
    "debug = debug.lower() == \"true\"\n",
    "languages = languages.split(',')"
   ]
  },
  {
   "cell_type": "markdown",
   "metadata": {},
   "source": [
    "### Preview the input files"
   ]
  },
  {
   "cell_type": "markdown",
   "metadata": {},
   "source": [
    "It is always a good practice to peek a the files to make sure the column headings are what we expect"
   ]
  },
  {
   "cell_type": "code",
   "execution_count": 8,
   "metadata": {},
   "outputs": [
    {
     "name": "stdout",
     "output_type": "stream",
     "text": [
      "node1\tlabel\tnode2\tid\tnode2;wikidatatype\n",
      "P10\tP31\tQ18610173\tP10-P31-Q18610173-85ef4d24-0\twikibase-item\n",
      "P1000\tP31\tQ18608871\tP1000-P31-Q18608871-093affb5-0\twikibase-item\n",
      "P1001\tP1855\tQ11696\tP1001-P1855-Q11696-cdbf391b-0\twikibase-item\n",
      "P1001\tP1855\tQ12371988\tP1001-P1855-Q12371988-12c10bc0-0\twikibase-item\n",
      "P1001\tP1855\tQ181574 P1001-P1855-Q181574-7f428c9b-0\twikibase-item\n",
      "P1001\tP1855\tQ29868931\tP1001-P1855-Q29868931-76b67d84-0\twikibase-item\n",
      "P1001\tP1855\tQ8901\tP1001-P1855-Q8901-15be5b36-0\twikibase-item\n",
      "P1001\tP31\tQ15720608\tP1001-P31-Q15720608-deeedec9-0\twikibase-item\n",
      "P1001\tP31\tQ22984026\tP1001-P31-Q22984026-8beb0cfe-0\twikibase-item\n",
      "P1001\tP31\tQ22997934\tP1001-P31-Q22997934-1e5b1a96-0\twikibase-item\n"
     ]
    }
   ],
   "source": [
    "!$kypher -i item --limit 10 | col "
   ]
  },
  {
   "cell_type": "markdown",
   "metadata": {},
   "source": [
    "Force creation of the index on the label column"
   ]
  },
  {
   "cell_type": "code",
   "execution_count": 9,
   "metadata": {},
   "outputs": [
    {
     "name": "stdout",
     "output_type": "stream",
     "text": [
      "node1  label  node2      id                              node2;wikidatatype\n",
      "P10    P31    Q18610173  P10-P31-Q18610173-85ef4d24-0    wikibase-item\n",
      "P1000  P31    Q18608871  P1000-P31-Q18608871-093affb5-0  wikibase-item\n",
      "P1001  P31    Q15720608  P1001-P31-Q15720608-deeedec9-0  wikibase-item\n",
      "P1001  P31    Q22984026  P1001-P31-Q22984026-8beb0cfe-0  wikibase-item\n",
      "P1001  P31    Q22997934  P1001-P31-Q22997934-1e5b1a96-0  wikibase-item\n"
     ]
    }
   ],
   "source": [
    "!$kypher -i item -o - \\\n",
    "--match '(i)-[:P31]->(c)' \\\n",
    "--limit 5 \\\n",
    "| column -t -s $'\\t' "
   ]
  },
  {
   "cell_type": "markdown",
   "metadata": {},
   "source": [
    "Force creation of the index on the node2 column"
   ]
  },
  {
   "cell_type": "code",
   "execution_count": 10,
   "metadata": {},
   "outputs": [
    {
     "name": "stdout",
     "output_type": "stream",
     "text": [
      "node1     label  node2  id                          node2;wikidatatype\n",
      "P1424     P1855  Q5     P1424-P1855-Q5-47bdcd17-0   wikibase-item\n",
      "P1552     P1855  Q5     P1552-P1855-Q5-53b667e4-0   wikibase-item\n",
      "P5869     P1855  Q5     P5869-P1855-Q5-3a19317f-0   wikibase-item\n",
      "Q1000048  P31    Q5     Q1000048-P31-Q5-f02d7495-0  wikibase-item\n",
      "Q1000061  P31    Q5     Q1000061-P31-Q5-6d7f3e39-0  wikibase-item\n"
     ]
    }
   ],
   "source": [
    "!$kypher -i item -o - \\\n",
    "--match '(i)-[r]->(:Q5)' \\\n",
    "--limit 5 \\\n",
    "| column -t -s $'\\t' "
   ]
  },
  {
   "cell_type": "markdown",
   "metadata": {},
   "source": [
    "### Count the number of edges"
   ]
  },
  {
   "cell_type": "markdown",
   "metadata": {},
   "source": [
    "Counting takes a long time"
   ]
  },
  {
   "cell_type": "code",
   "execution_count": 11,
   "metadata": {},
   "outputs": [
    {
     "name": "stdout",
     "output_type": "stream",
     "text": [
      "count\n",
      "393716\n"
     ]
    }
   ],
   "source": [
    "if debug:\n",
    "    !$kypher -i item \\\n",
    "    --match '()-[r]->()' \\\n",
    "    --return 'count(r) as count' \\\n",
    "    --limit 10"
   ]
  },
  {
   "cell_type": "markdown",
   "metadata": {},
   "source": [
    "### Get labels, aliases and descriptions for other languages"
   ]
  },
  {
   "cell_type": "code",
   "execution_count": 12,
   "metadata": {},
   "outputs": [],
   "source": [
    "for lang in languages:\n",
    "    cmd = f\"$kypher -i label_all -o $OUT/labels.{lang}.tsv.gz --match '(n1)-[l:label]->(n2)' --where 'n2.kgtk_lqstring_lang_suffix = \\\"{lang}\\\"' --return 'n1, l.label, n2, l.id' \"\n",
    "    !{cmd}"
   ]
  },
  {
   "cell_type": "code",
   "execution_count": 13,
   "metadata": {},
   "outputs": [],
   "source": [
    "for lang in languages:\n",
    "    cmd = f\"$kypher -i alias_all -o $OUT/aliases.{lang}.tsv.gz --match '(n1)-[l:alias]->(n2)' --where 'n2.kgtk_lqstring_lang_suffix = \\\"{lang}\\\"' --return 'n1, l.label, n2, l.id' \"\n",
    "    !{cmd}"
   ]
  },
  {
   "cell_type": "code",
   "execution_count": 14,
   "metadata": {},
   "outputs": [],
   "source": [
    "for lang in languages:\n",
    "    cmd = f\"$kypher -i description_all -o $OUT/descriptions.{lang}.tsv.gz --match '(n1)-[l:description]->(n2)' --where 'n2.kgtk_lqstring_lang_suffix = \\\"{lang}\\\"' --return 'n1, l.label, n2, l.id' \"\n",
    "    !{cmd}"
   ]
  },
  {
   "cell_type": "markdown",
   "metadata": {},
   "source": [
    "### Create the P31 and P279 files"
   ]
  },
  {
   "cell_type": "markdown",
   "metadata": {},
   "source": [
    "Create the `P31` file"
   ]
  },
  {
   "cell_type": "code",
   "execution_count": 15,
   "metadata": {},
   "outputs": [],
   "source": [
    "!$kypher -i item -o $OUT/derived.P31.tsv.gz \\\n",
    "--match '(n1)-[l:P31]->(n2)' \\\n",
    "--return 'l, n1, l.label, n2' "
   ]
  },
  {
   "cell_type": "code",
   "execution_count": 16,
   "metadata": {},
   "outputs": [
    {
     "name": "stdout",
     "output_type": "stream",
     "text": [
      "id\tnode1\tlabel\tnode2\n",
      "P10-P31-Q18610173-85ef4d24-0\tP10\tP31\tQ18610173\n",
      "P1000-P31-Q18608871-093affb5-0\tP1000\tP31\tQ18608871\n",
      "P1001-P31-Q15720608-deeedec9-0\tP1001\tP31\tQ15720608\n",
      "P1001-P31-Q22984026-8beb0cfe-0\tP1001\tP31\tQ22984026\n",
      "P1001-P31-Q22997934-1e5b1a96-0\tP1001\tP31\tQ22997934\n",
      "P1001-P31-Q61719275-0ccc11a5-0\tP1001\tP31\tQ61719275\n",
      "P1001-P31-Q70564278-b92b04ba-0\tP1001\tP31\tQ70564278\n",
      "P1004-P31-Q19829908-6077b37d-0\tP1004\tP31\tQ19829908\n",
      "P1004-P31-Q24075706-ef209004-0\tP1004\tP31\tQ24075706\n",
      "zcat: error writing to output: Broken pipe\n"
     ]
    }
   ],
   "source": [
    "!zcat < $OUT/derived.P31.tsv.gz | head | col"
   ]
  },
  {
   "cell_type": "markdown",
   "metadata": {},
   "source": [
    "Create the P279 file"
   ]
  },
  {
   "cell_type": "code",
   "execution_count": 17,
   "metadata": {},
   "outputs": [],
   "source": [
    "!$kypher -i item -o $OUT/derived.P279.tsv.gz \\\n",
    "    --match '(n1)-[l:P279]->(n2)' \\\n",
    "    --return 'l, n1, l.label, n2' "
   ]
  },
  {
   "cell_type": "code",
   "execution_count": 18,
   "metadata": {},
   "outputs": [
    {
     "name": "stdout",
     "output_type": "stream",
     "text": [
      "zcat: id\tnode1\tlabel\tnode2\n",
      "Q100039327-P279-Q327333-539148f1-0\tQ100039327\tP279\tQ327333\n",
      "error writing to outputQ100052008-P279-Q100116222-d1597eca-0\tQ100052008\tP279\tQ100116222\n",
      ": Broken pipe\n",
      "Q100052008-P279-Q27304565-f02464c8-0\tQ100052008\tP279\tQ27304565\n",
      "Q1000660-P279-Q125977-c41a8764-0\tQ1000660\tP279\tQ125977\n",
      "Q1000660-P279-Q2030545-c687deec-0\tQ1000660\tP279\tQ2030545\n",
      "Q1000976-P279-Q34187-7e54a7c0-0 Q1000976\tP279\tQ34187\n",
      "Q1001059-P279-Q216200-82eda284-0\tQ1001059\tP279\tQ216200\n",
      "Q1001059-P279-Q234460-f0e0aefd-0\tQ1001059\tP279\tQ234460\n",
      "Q100116222-P279-Q15831457-afcc497b-0\tQ100116222\tP279\tQ15831457\n"
     ]
    }
   ],
   "source": [
    "!zcat < $OUT/derived.P279.tsv.gz | head | col"
   ]
  },
  {
   "cell_type": "markdown",
   "metadata": {},
   "source": [
    "### Create the file that contains all nodes reachable via P279 starting from a node2 in P31 or a node1 in P279"
   ]
  },
  {
   "cell_type": "markdown",
   "metadata": {},
   "source": [
    "First compute the roots"
   ]
  },
  {
   "cell_type": "code",
   "execution_count": 19,
   "metadata": {},
   "outputs": [],
   "source": [
    "!$kypher -i $OUT/derived.P279.tsv.gz -o $TEMP/P279.n1.tsv.gz \\\n",
    "--match '(n1)-[l]->()' \\\n",
    "--return 'n1 as id' "
   ]
  },
  {
   "cell_type": "code",
   "execution_count": 20,
   "metadata": {},
   "outputs": [],
   "source": [
    "!$kypher -i $OUT/derived.P31.tsv.gz -o $TEMP/P31.n2.tsv.gz \\\n",
    "--match '()-[l]->(n2)' \\\n",
    "--return 'n2 as id' "
   ]
  },
  {
   "cell_type": "code",
   "execution_count": 21,
   "metadata": {},
   "outputs": [],
   "source": [
    "!$kgtk cat --mode NONE -i $TEMP/P31.n2.tsv.gz $TEMP/P279.n1.tsv.gz \\\n",
    "| gzip > $TEMP/P279.roots.1.tsv.gz"
   ]
  },
  {
   "cell_type": "code",
   "execution_count": 22,
   "metadata": {},
   "outputs": [],
   "source": [
    "!$kgtk sort2 --mode NONE --column id -i $TEMP/P279.roots.1.tsv.gz \\\n",
    "| gzip > $TEMP/P279.roots.2.tsv.gz"
   ]
  },
  {
   "cell_type": "markdown",
   "metadata": {},
   "source": [
    "We have lots of duplicates"
   ]
  },
  {
   "cell_type": "code",
   "execution_count": 23,
   "metadata": {},
   "outputs": [
    {
     "name": "stdout",
     "output_type": "stream",
     "text": [
      "id\n",
      "Q100039327\n",
      "Q100039327\n",
      "Q100052008\n",
      "Q100052008\n",
      "Q1000660\n",
      "Q1000660\n",
      "Q1000976\n",
      "Q1001059\n",
      "Q1001059\n",
      "zcat: error writing to output: Broken pipe\n"
     ]
    }
   ],
   "source": [
    "!zcat < $TEMP/P279.roots.2.tsv.gz | head"
   ]
  },
  {
   "cell_type": "code",
   "execution_count": 24,
   "metadata": {},
   "outputs": [],
   "source": [
    "!$kgtk compact -i $TEMP/P279.roots.2.tsv.gz --mode NONE \\\n",
    "    --presorted \\\n",
    "    --columns id \\\n",
    "    -o $TEMP/P279.roots.tsv"
   ]
  },
  {
   "cell_type": "markdown",
   "metadata": {},
   "source": [
    "Now we can invoke the reachable-nodes command"
   ]
  },
  {
   "cell_type": "code",
   "execution_count": 25,
   "metadata": {},
   "outputs": [],
   "source": [
    "!$kgtk reachable-nodes \\\n",
    "    --rootfile $TEMP/P279.roots.tsv \\\n",
    "    --selflink \\\n",
    "    -i $OUT/derived.P279.tsv.gz \\\n",
    "| gzip > $TEMP/P279.reachable.tsv.gz"
   ]
  },
  {
   "cell_type": "code",
   "execution_count": 26,
   "metadata": {},
   "outputs": [
    {
     "name": "stdout",
     "output_type": "stream",
     "text": [
      "zcat: error writing to output: Broken pipe\n",
      "node1\tlabel\tnode2\n",
      "Q100039327\treachable\tQ100039327\n",
      "Q100039327\treachable\tQ327333\n",
      "Q100039327\treachable\tQ43229\n",
      "Q100039327\treachable\tQ16334295\n",
      "Q100039327\treachable\tQ16334298\n",
      "Q100039327\treachable\tQ61961344\n",
      "Q100039327\treachable\tQ16887380\n",
      "Q100039327\treachable\tQ28813620\n",
      "Q100039327\treachable\tQ99527517\n"
     ]
    }
   ],
   "source": [
    "!zcat < $TEMP/P279.reachable.tsv.gz | head | col"
   ]
  },
  {
   "cell_type": "markdown",
   "metadata": {},
   "source": [
    "The reachable-nodes command produces edges labeled `reachable`, so we need one command to rename them."
   ]
  },
  {
   "cell_type": "code",
   "execution_count": 27,
   "metadata": {},
   "outputs": [],
   "source": [
    "!$kypher -i $TEMP/P279.reachable.tsv.gz -o $TEMP/P279star.1.tsv.gz \\\n",
    "--match '(n1)-[]->(n2)' \\\n",
    "--return 'n1, \"P279star\" as label, n2 as node2' "
   ]
  },
  {
   "cell_type": "markdown",
   "metadata": {},
   "source": [
    "Now we can concatenate these files to produce the final output"
   ]
  },
  {
   "cell_type": "code",
   "execution_count": 28,
   "metadata": {},
   "outputs": [],
   "source": [
    "!$kgtk sort2 -i $TEMP/P279star.1.tsv.gz -o $TEMP/P279star.2.tsv.gz"
   ]
  },
  {
   "cell_type": "markdown",
   "metadata": {},
   "source": [
    "Make sure there are no duplicates"
   ]
  },
  {
   "cell_type": "code",
   "execution_count": 29,
   "metadata": {},
   "outputs": [],
   "source": [
    "!$kgtk compact --presorted -i $TEMP/P279star.2.tsv.gz -o $TEMP/P279star.3.tsv.gz"
   ]
  },
  {
   "cell_type": "markdown",
   "metadata": {},
   "source": [
    "Add ids"
   ]
  },
  {
   "cell_type": "code",
   "execution_count": 30,
   "metadata": {},
   "outputs": [],
   "source": [
    "!$kgtk add-id --id-style node1-label-node2-num -i $TEMP/P279star.3.tsv.gz -o $OUT/derived.P279star.tsv.gz"
   ]
  },
  {
   "cell_type": "code",
   "execution_count": 31,
   "metadata": {},
   "outputs": [
    {
     "name": "stdout",
     "output_type": "stream",
     "text": [
      "zcat: error writing to output: Broken pipe\n",
      "node1\tlabel\tnode2\tid\n",
      "Q100039327\tP279star\tQ100039327\tQ100039327-P279star-Q100039327-0000\n",
      "Q100039327\tP279star\tQ16334295\tQ100039327-P279star-Q16334295-0000\n",
      "Q100039327\tP279star\tQ16334298\tQ100039327-P279star-Q16334298-0000\n",
      "Q100039327\tP279star\tQ16887380\tQ100039327-P279star-Q16887380-0000\n",
      "Q100039327\tP279star\tQ16889133\tQ100039327-P279star-Q16889133-0000\n",
      "Q100039327\tP279star\tQ23958946\tQ100039327-P279star-Q23958946-0000\n",
      "Q100039327\tP279star\tQ24229398\tQ100039327-P279star-Q24229398-0000\n",
      "Q100039327\tP279star\tQ26720107\tQ100039327-P279star-Q26720107-0000\n",
      "Q100039327\tP279star\tQ28813620\tQ100039327-P279star-Q28813620-0000\n"
     ]
    }
   ],
   "source": [
    "!zcat < $OUT/derived.P279star.tsv.gz | head | col"
   ]
  },
  {
   "cell_type": "markdown",
   "metadata": {},
   "source": [
    "This is how we would do the typical `?item P31/P279* ?class` in Kypher. \n",
    "The example shows how to get all the counts of instances of subclasses of city (Q515)."
   ]
  },
  {
   "cell_type": "code",
   "execution_count": 32,
   "metadata": {},
   "outputs": [
    {
     "name": "stdout",
     "output_type": "stream",
     "text": [
      "class\tcount\tclass name\tinstance\tlabel\n",
      "Q1549591\t627\t'big city'@en\tQ100\t'Boston'@en\n",
      "Q1093829\t470\t'city of the United States'@en\tQ100\t'Boston'@en\n",
      "Q515\t438\t'city'@en\tQ1001887\t'Ifrane'@en\n",
      "Q1637706\t224\t'city with millions of inhabitants'@en\tQ10127\t'Tangerang'@en\n",
      "Q42744322\t77\t'urban municipality of Germany'@en\tQ1022\t'Stuttgart'@en\n",
      "Q21518270\t55\t'state or insular area capital in the United States'@en Q100\t'Boston'@en\n",
      "Q2264924\t54\t'port settlement'@en\tQ10400\t'Almería'@en\n",
      "Q1266818\t41\t'independent city'@en\tQ123766 'Charlottesville'@en\n",
      "Q13218391\t36\t'charter city'@en\tQ159260 'Santa Clara'@en\n",
      "Q13539802\t33\t'place with town rights and privileges'@en\tQ131128 'Braunau am Inn'@en\n"
     ]
    }
   ],
   "source": [
    "if debug:\n",
    "    !$kypher -i $OUT/derived.P31.tsv.gz -i $OUT/derived.P279star.tsv.gz -i label \\\n",
    "    --match 'P31: (n1)-[:P31]->(c), P279star: (c)-[]->(:Q515), label: (n1)-[:label]->(label), label: (c)-[:label]->(c_label)' \\\n",
    "    --return 'distinct c as class, count(c) as count, c_label as `class name`, n1 as instance, label as `label`' \\\n",
    "    --order-by 'count(c) desc, c, n1' \\\n",
    "    --limit 10 \\\n",
    "    | col"
   ]
  },
  {
   "cell_type": "markdown",
   "metadata": {},
   "source": [
    "Illustrate that it is indeed `P279*`"
   ]
  },
  {
   "cell_type": "code",
   "execution_count": 33,
   "metadata": {},
   "outputs": [
    {
     "name": "stdout",
     "output_type": "stream",
     "text": [
      "class\tclass name\tinstance\tlabel\n",
      "Q63440326\t'city of Oregon'@en\tQ1065556\t'Gold Beach'@en\n",
      "Q63440326\t'city of Oregon'@en\tQ171224 'Eugene'@en\n",
      "Q63440326\t'city of Oregon'@en\tQ43919\t'Salem'@en\n",
      "Q63440326\t'city of Oregon'@en\tQ6106\t'Portland'@en\n",
      "Q63440326\t'city of Oregon'@en\tQ846170 'Roseburg'@en\n",
      "Q63440326\t'city of Oregon'@en\tQ849596 'Oregon City'@en\n"
     ]
    }
   ],
   "source": [
    "if debug:\n",
    "    !$kypher -i $OUT/derived.P31.tsv.gz -i $OUT/derived.P279star.tsv.gz -i label \\\n",
    "    --match 'P31: (n1)-[:P31]->(c), P279star: (c)-[]->(:Q63440326), label: (n1)-[:label]->(label), label: (c)-[:label]->(c_label)' \\\n",
    "    --return 'distinct c as class, c_label as `class name`, n1 as instance, label as `label`' \\\n",
    "    --order-by 'c, n1' \\\n",
    "    --limit 10 \\\n",
    "    | col "
   ]
  },
  {
   "cell_type": "markdown",
   "metadata": {},
   "source": [
    "### Create a file to do generalized Is-A queries\n",
    "The idea is that `(n1)-[:isa]->(n2)` when `(n1)-[:P31]->(n2)` or `(n1)-[:P279]->(n2)`\n",
    "\n",
    "We do this by concatenating the files and renaming the relation"
   ]
  },
  {
   "cell_type": "code",
   "execution_count": 34,
   "metadata": {},
   "outputs": [],
   "source": [
    "!$kgtk cat -i $OUT/derived.P31.tsv.gz $OUT/derived.P279.tsv.gz \\\n",
    "-o $TEMP/isa.1.tsv.gz"
   ]
  },
  {
   "cell_type": "code",
   "execution_count": 35,
   "metadata": {},
   "outputs": [],
   "source": [
    "!$kypher -i $TEMP/isa.1.tsv.gz -o $OUT/derived.isa.tsv.gz \\\n",
    "--match '(n1)-[]->(n2)' \\\n",
    "--return 'n1, \"isa\" as label, n2' "
   ]
  },
  {
   "cell_type": "markdown",
   "metadata": {},
   "source": [
    "Example of how to use the `isa` relation"
   ]
  },
  {
   "cell_type": "code",
   "execution_count": 36,
   "metadata": {},
   "outputs": [
    {
     "name": "stdout",
     "output_type": "stream",
     "text": [
      "node1\tlabel\tnode2\tn1_label\n"
     ]
    }
   ],
   "source": [
    "if debug:\n",
    "    !$kypher -i $OUT/derived.isa.tsv.gz -i $OUT/derived.P279star.tsv.gz -i label -o - \\\n",
    "    --match 'isa: (n1)-[l:isa]->(c), P279star: (c)-[]->(:Q44), label: (n1)-[:label]->(label)' \\\n",
    "    --return 'distinct n1, l.label, \"Q44\" as node2, label as n1_label' \\\n",
    "    --limit 10 \\\n",
    "    | col"
   ]
  },
  {
   "cell_type": "markdown",
   "metadata": {},
   "source": [
    "### Create files with `isa/P279* and P31/P279*` \n",
    "This file is useful to find all nodes that are below a q-node via P279 or isa.\n",
    "\n",
    "> These files are very large and take many hours to compute"
   ]
  },
  {
   "cell_type": "code",
   "execution_count": 37,
   "metadata": {},
   "outputs": [],
   "source": [
    "os.environ['P279STAR'] = f\"{os.environ['OUT']}/derived.P279star.tsv.gz\"\n",
    "os.environ['ISA'] = f\"{os.environ['OUT']}/derived.isa.tsv.gz\""
   ]
  },
  {
   "cell_type": "code",
   "execution_count": 38,
   "metadata": {},
   "outputs": [],
   "source": [
    "!$kypher -i \"$P279STAR\" --as P279star -i \"$ISA\" --as isa  \\\n",
    "--match '\\\n",
    "  isa: (n1)-[]->(n2), \\\n",
    "  P279star: (n2)-[]->(n3)' \\\n",
    "--return 'distinct n1 as node1, \"isa_star\" as label, n3 as node2' \\\n",
    "-o \"$TEMP\"/derived.isastar_1.tsv.gz"
   ]
  },
  {
   "cell_type": "markdown",
   "metadata": {},
   "source": [
    "Now add ids and sort it"
   ]
  },
  {
   "cell_type": "code",
   "execution_count": 39,
   "metadata": {},
   "outputs": [],
   "source": [
    "!$kgtk add-id --id-style wikidata -i \"$TEMP\"/derived.isastar_1.tsv.gz \\\n",
    "/ sort2 -o \"$OUT\"/derived.isastar.tsv.gz"
   ]
  },
  {
   "cell_type": "markdown",
   "metadata": {},
   "source": [
    "Also calculate the same file by for P31/P279*"
   ]
  },
  {
   "cell_type": "code",
   "execution_count": 40,
   "metadata": {},
   "outputs": [],
   "source": [
    "!$kypher -i item -i P279star \\\n",
    "--match '\\\n",
    "  item: (n1)-[:P31]->(n2), \\\n",
    "  P279star: (n2)-[]->(n3)' \\\n",
    "--return 'distinct n1 as node1, \"P31P279star\" as label, n3 as node2' \\\n",
    "-o \"$TEMP\"/derived.P31P279star.gz"
   ]
  },
  {
   "cell_type": "markdown",
   "metadata": {},
   "source": [
    "Add ids and sort it"
   ]
  },
  {
   "cell_type": "code",
   "execution_count": 41,
   "metadata": {},
   "outputs": [],
   "source": [
    "!$kgtk add-id --id-style wikidata -i \"$TEMP\"/derived.P31P279star.gz \\\n",
    "/ sort2 -o \"$OUT\"/derived.P31P279star.tsv.gz"
   ]
  },
  {
   "cell_type": "markdown",
   "metadata": {},
   "source": [
    "It is also very big"
   ]
  },
  {
   "cell_type": "code",
   "execution_count": 42,
   "metadata": {},
   "outputs": [
    {
     "name": "stdout",
     "output_type": "stream",
     "text": [
      " 1704159 6816636 100144221\n"
     ]
    }
   ],
   "source": [
    "if debug:\n",
    "    !zcat < \"$OUT\"/derived.P31P279star.tsv.gz | wc"
   ]
  },
  {
   "cell_type": "markdown",
   "metadata": {},
   "source": [
    "## Compute pagerank"
   ]
  },
  {
   "cell_type": "markdown",
   "metadata": {},
   "source": [
    "Now compute pagerank. These commands will exceed 16GB memory for graphs containing over 25 million nodes."
   ]
  },
  {
   "cell_type": "code",
   "execution_count": 43,
   "metadata": {},
   "outputs": [
    {
     "name": "stdout",
     "output_type": "stream",
     "text": [
      "\n",
      "(kgtk:5754): Gtk-\u001b[1;33mWARNING\u001b[0m **: \u001b[34m15:50:20.706\u001b[0m: Locale not supported by C library.\n",
      "\tUsing the fallback 'C' locale.\n"
     ]
    }
   ],
   "source": [
    "if compute_pagerank:\n",
    "    !$kgtk graph-statistics -i \"$item\" -o $OUT/metadata.pagerank.directed.tsv.gz \\\n",
    "    --compute-pagerank True \\\n",
    "    --compute-hits False \\\n",
    "    --page-rank-property Pdirected_pagerank \\\n",
    "    --output-degrees True \\\n",
    "    --output-pagerank True \\\n",
    "    --output-hits False \\\n",
    "    --output-statistics-only \\\n",
    "    --undirected False \\\n",
    "    --log-file $TEMP/metadata.pagerank.directed.summary.txt "
   ]
  },
  {
   "cell_type": "code",
   "execution_count": 44,
   "metadata": {},
   "outputs": [
    {
     "name": "stdout",
     "output_type": "stream",
     "text": [
      "graph loaded! It has 66014 nodes and 393716 edges\n",
      "\n",
      "*** Top relations:\n",
      "P31\t76899\n",
      "P17\t30213\n",
      "P47\t29116\n",
      "P279\t21917\n",
      "P131\t13895\n",
      "P1889\t13443\n",
      "P106\t11174\n",
      "P1411\t10914\n",
      "P166\t10452\n",
      "P21\t10171\n",
      "\n",
      "*** Degrees:\n",
      "in degree stats: mean=5.964129, std=0.363567, max=1\n",
      "out degree stats: mean=5.964129, std=0.043517, max=1\n",
      "total degree stats: mean=11.928258, std=0.380512, max=1\n",
      "\n",
      "*** PageRank\n",
      "Max pageranks\n",
      "26562\tQ23958852\t0.071410\n",
      "42551\tQ23960977\t0.032866\n",
      "14856\tQ35120\t0.028596\n",
      "11192\tQ151885\t0.026957\n",
      "439\tQ5\t0.012807\n"
     ]
    }
   ],
   "source": [
    "if compute_pagerank:\n",
    "    !cat $TEMP/metadata.pagerank.directed.summary.txt"
   ]
  },
  {
   "cell_type": "code",
   "execution_count": 45,
   "metadata": {},
   "outputs": [
    {
     "name": "stdout",
     "output_type": "stream",
     "text": [
      "\n",
      "(kgtk:5761): Gtk-\u001b[1;33mWARNING\u001b[0m **: \u001b[34m15:50:34.892\u001b[0m: Locale not supported by C library.\n",
      "\tUsing the fallback 'C' locale.\n"
     ]
    }
   ],
   "source": [
    "if compute_pagerank:\n",
    "    !$kgtk graph-statistics -i \"$item\" -o $OUT/metadata.pagerank.undirected.tsv.gz \\\n",
    "    --compute-pagerank True \\\n",
    "    --compute-hits False \\\n",
    "    --page-rank-property Pundirected_pagerank \\\n",
    "    --output-degrees True \\\n",
    "    --output-pagerank True \\\n",
    "    --output-hits False \\\n",
    "    --output-statistics-only \\\n",
    "    --undirected True \\\n",
    "    --log-file $TEMP/metadata.pagerank.undirected.summary.txt "
   ]
  },
  {
   "cell_type": "code",
   "execution_count": 46,
   "metadata": {},
   "outputs": [
    {
     "name": "stdout",
     "output_type": "stream",
     "text": [
      "graph loaded! It has 66014 nodes and 393716 edges\n",
      "\n",
      "*** Top relations:\n",
      "P31\t76899\n",
      "P17\t30213\n",
      "P47\t29116\n",
      "P279\t21917\n",
      "P131\t13895\n",
      "P1889\t13443\n",
      "P106\t11174\n",
      "P1411\t10914\n",
      "P166\t10452\n",
      "P21\t10171\n",
      "\n",
      "*** Degrees:\n",
      "in degree stats: mean=0.000000, std=0.000000, max=1\n",
      "out degree stats: mean=11.928258, std=0.380512, max=1\n",
      "total degree stats: mean=11.928258, std=0.380512, max=1\n",
      "\n",
      "*** PageRank\n",
      "Max pageranks\n",
      "439\tQ5\t0.022010\n",
      "173\tQ30\t0.012919\n",
      "4782\tQ6581097\t0.008353\n",
      "7097\tQ15221623\t0.004738\n",
      "1391\tQ1860\t0.004441\n"
     ]
    }
   ],
   "source": [
    "if compute_pagerank:\n",
    "    !cat $TEMP/metadata.pagerank.undirected.summary.txt "
   ]
  },
  {
   "cell_type": "markdown",
   "metadata": {},
   "source": [
    "## Compute Degrees"
   ]
  },
  {
   "cell_type": "markdown",
   "metadata": {},
   "source": [
    "Kypher can compute the out degree by counting the node2s for each node1"
   ]
  },
  {
   "cell_type": "code",
   "execution_count": 47,
   "metadata": {},
   "outputs": [],
   "source": [
    "!$kypher -i claims -o $TEMP/metadata.out_degree.tsv.gz \\\n",
    "--match '(n1)-[l]->()' \\\n",
    "--return 'distinct n1 as node1, count(distinct l) as node2, \"Pout_degree\" as label' "
   ]
  },
  {
   "cell_type": "code",
   "execution_count": 48,
   "metadata": {},
   "outputs": [],
   "source": [
    "!$kgtk add-id --id-style wikidata -i $TEMP/metadata.out_degree.tsv.gz \\\n",
    "/ sort2 -o $OUT/metadata.out_degree.tsv.gz"
   ]
  },
  {
   "cell_type": "code",
   "execution_count": 52,
   "metadata": {},
   "outputs": [
    {
     "name": "stdout",
     "output_type": "stream",
     "text": [
      "zcat: error writing to output: Broken pipe\n",
      "node1\tnode2\tlabel\tid\n",
      "P10\t1\tPout_degree\tP10-Pout_degree-6b86b2\n",
      "P1000\t1\tPout_degree\tP1000-Pout_degree-6b86b2\n",
      "P1001\t13\tPout_degree\tP1001-Pout_degree-3fdba3\n",
      "P1004\t5\tPout_degree\tP1004-Pout_degree-ef2d12\n",
      "P1005\t3\tPout_degree\tP1005-Pout_degree-4e0740\n",
      "P1006\t2\tPout_degree\tP1006-Pout_degree-d4735e\n",
      "P1007\t2\tPout_degree\tP1007-Pout_degree-d4735e\n",
      "P101\t13\tPout_degree\tP101-Pout_degree-3fdba3\n",
      "P1012\t3\tPout_degree\tP1012-Pout_degree-4e0740\n"
     ]
    }
   ],
   "source": [
    "!zcat < $OUT/metadata.out_degree.tsv.gz | head | col"
   ]
  },
  {
   "cell_type": "markdown",
   "metadata": {},
   "source": [
    "To count the in-degree we only care when the node2 is a wikibase-item"
   ]
  },
  {
   "cell_type": "code",
   "execution_count": 49,
   "metadata": {},
   "outputs": [],
   "source": [
    "!$kypher -i claims -o $TEMP/metadata.in_degree.tsv.gz \\\n",
    "--match '()-[l]->(n2 {`wikidatatype`:\"wikibase-item\"})' \\\n",
    "--return 'distinct n2 as node1, count(distinct l) as node2, \"Pin_degree\" as label' \\\n",
    "--order-by 'n2'"
   ]
  },
  {
   "cell_type": "code",
   "execution_count": 50,
   "metadata": {},
   "outputs": [],
   "source": [
    "!$kgtk add-id --id-style wikidata -i $TEMP/metadata.in_degree.tsv.gz \\\n",
    "/ sort2 -o $OUT/metadata.in_degree.tsv.gz"
   ]
  },
  {
   "cell_type": "code",
   "execution_count": 51,
   "metadata": {},
   "outputs": [
    {
     "name": "stdout",
     "output_type": "stream",
     "text": [
      "zcat: error writing to output: Broken pipe\n",
      "node1\tnode2\tlabel\tid\n",
      "Q100\t168\tPin_degree\tQ100-Pin_degree-80c3cd\n",
      "Q1000\t76\tPin_degree\tQ1000-Pin_degree-f74efa\n",
      "Q1000048\t1\tPin_degree\tQ1000048-Pin_degree-6b86b2\n",
      "Q1000148\t3\tPin_degree\tQ1000148-Pin_degree-4e0740\n",
      "Q100039327\t1\tPin_degree\tQ100039327-Pin_degree-6b86b2\n",
      "Q100046246\t1\tPin_degree\tQ100046246-Pin_degree-6b86b2\n",
      "Q100052008\t1\tPin_degree\tQ100052008-Pin_degree-6b86b2\n",
      "Q100055982\t1\tPin_degree\tQ100055982-Pin_degree-6b86b2\n",
      "Q100063122\t1\tPin_degree\tQ100063122-Pin_degree-6b86b2\n"
     ]
    }
   ],
   "source": [
    "!zcat < $OUT/metadata.in_degree.tsv.gz | head | col"
   ]
  },
  {
   "cell_type": "markdown",
   "metadata": {},
   "source": [
    "Calculate the distribution so we can make a nice chart"
   ]
  },
  {
   "cell_type": "code",
   "execution_count": 53,
   "metadata": {},
   "outputs": [],
   "source": [
    "!$kypher -i $OUT/metadata.in_degree.tsv.gz -o $OUT/statistics.in_degree.distribution.tsv \\\n",
    "--match '(n1)-[]->(n2)' \\\n",
    "--return 'distinct n2 as Pin_degree, count(distinct n1) as count, \"count\" as label' \\\n",
    "--order-by 'cast(n2, integer)' "
   ]
  },
  {
   "cell_type": "code",
   "execution_count": 54,
   "metadata": {},
   "outputs": [
    {
     "name": "stdout",
     "output_type": "stream",
     "text": [
      "Pin_degree\tcount\tlabel\n",
      "1\t16523\tcount\n",
      "2\t5740\tcount\n",
      "3\t3206\tcount\n",
      "4\t2123\tcount\n",
      "5\t1736\tcount\n",
      "6\t1414\tcount\n",
      "7\t1315\tcount\n",
      "8\t1120\tcount\n",
      "9\t851\tcount\n"
     ]
    }
   ],
   "source": [
    "!head $OUT/statistics.in_degree.distribution.tsv | col"
   ]
  },
  {
   "cell_type": "code",
   "execution_count": 55,
   "metadata": {},
   "outputs": [],
   "source": [
    "!$kypher -i $OUT/metadata.out_degree.tsv.gz -o $OUT/statistics.out_degree.distribution.tsv \\\n",
    "--match '(n1)-[]->(n2)' \\\n",
    "--return 'distinct n2 as Pout_degree, count(distinct n1) as count, \"count\" as label' \\\n",
    "--order-by 'cast(n2, integer)' "
   ]
  },
  {
   "cell_type": "markdown",
   "metadata": {},
   "source": [
    "Draw some charts"
   ]
  },
  {
   "cell_type": "code",
   "execution_count": 56,
   "metadata": {},
   "outputs": [],
   "source": [
    "if debug:\n",
    "    data = pd.read_csv(\n",
    "        os.environ[\"OUT\"] + \"/statistics.in_degree.distribution.tsv\", sep=\"\\t\"\n",
    "    )\n",
    "\n",
    "    alt.Chart(data).mark_circle(size=60).encode(\n",
    "        x=alt.X(\"in_degree\", scale=alt.Scale(type=\"log\")),\n",
    "        y=alt.Y(\"count\", scale=alt.Scale(type=\"log\"), title=\"count of nodes\"),\n",
    "        tooltip=[\"in_degree\", \"count\"],\n",
    "    ).interactive().properties(title=\"Distribution of In Degree\")"
   ]
  },
  {
   "cell_type": "code",
   "execution_count": 57,
   "metadata": {},
   "outputs": [],
   "source": [
    "if debug:\n",
    "    data = pd.read_csv(\n",
    "        os.environ[\"OUT\"] + \"/statistics.out_degree.distribution.tsv\", sep=\"\\t\"\n",
    "    )\n",
    "\n",
    "    alt.Chart(data).mark_circle(size=60).encode(\n",
    "        x=alt.X(\"out_degree\", scale=alt.Scale(type=\"log\")),\n",
    "        y=alt.Y(\"count\", scale=alt.Scale(type=\"log\"), title=\"count of nodes\"),\n",
    "        tooltip=[\"out_degree\", \"count\"],\n",
    "    ).interactive().properties(title=\"Distribution of Out Degree\")"
   ]
  },
  {
   "cell_type": "markdown",
   "metadata": {},
   "source": [
    "## Summary of results"
   ]
  },
  {
   "cell_type": "code",
   "execution_count": 58,
   "metadata": {},
   "outputs": [
    {
     "name": "stdout",
     "output_type": "stream",
     "text": [
      "-rw-r--r--  1 amandeep  staff    61B Oct 11 15:47 /Volumes/saggu-ssd/arnold-useful-files/aliases.de.tsv.gz\n",
      "-rw-r--r--  1 amandeep  staff   1.3M Oct 11 15:47 /Volumes/saggu-ssd/arnold-useful-files/aliases.en.tsv.gz\n",
      "-rw-r--r--  1 amandeep  staff    61B Oct 11 15:47 /Volumes/saggu-ssd/arnold-useful-files/aliases.es.tsv.gz\n",
      "-rw-r--r--  1 amandeep  staff    61B Oct 11 15:47 /Volumes/saggu-ssd/arnold-useful-files/aliases.fr.tsv.gz\n",
      "-rw-r--r--  1 amandeep  staff    61B Oct 11 15:47 /Volumes/saggu-ssd/arnold-useful-files/aliases.it.tsv.gz\n",
      "-rw-r--r--  1 amandeep  staff    61B Oct 11 15:47 /Volumes/saggu-ssd/arnold-useful-files/aliases.nl.tsv.gz\n",
      "-rw-r--r--  1 amandeep  staff    61B Oct 11 15:47 /Volumes/saggu-ssd/arnold-useful-files/aliases.pl.tsv.gz\n",
      "-rw-r--r--  1 amandeep  staff    61B Oct 11 15:47 /Volumes/saggu-ssd/arnold-useful-files/aliases.pt.tsv.gz\n",
      "-rw-r--r--  1 amandeep  staff    61B Oct 11 15:47 /Volumes/saggu-ssd/arnold-useful-files/aliases.ru.tsv.gz\n",
      "-rw-r--r--  1 amandeep  staff    61B Oct 11 15:47 /Volumes/saggu-ssd/arnold-useful-files/aliases.sv.tsv.gz\n",
      "-rw-r--r--  1 amandeep  staff    64B Oct 11 15:47 /Volumes/saggu-ssd/arnold-useful-files/aliases.zh-cn.tsv.gz\n",
      "-rw-r--r--  1 amandeep  staff   382K Oct 11 15:48 /Volumes/saggu-ssd/arnold-useful-files/derived.P279.tsv.gz\n",
      "-rw-r--r--  1 amandeep  staff   3.2M Oct 11 15:48 /Volumes/saggu-ssd/arnold-useful-files/derived.P279star.tsv.gz\n",
      "-rw-r--r--  1 amandeep  staff   1.1M Oct 11 15:47 /Volumes/saggu-ssd/arnold-useful-files/derived.P31.tsv.gz\n",
      "-rw-r--r--  1 amandeep  staff    12M Oct 11 15:50 /Volumes/saggu-ssd/arnold-useful-files/derived.P31P279star.tsv.gz\n",
      "-rw-r--r--  1 amandeep  staff   487K Oct 11 15:49 /Volumes/saggu-ssd/arnold-useful-files/derived.isa.tsv.gz\n",
      "-rw-r--r--  1 amandeep  staff    15M Oct 11 15:49 /Volumes/saggu-ssd/arnold-useful-files/derived.isastar.tsv.gz\n",
      "-rw-r--r--  1 amandeep  staff    66B Oct 11 15:47 /Volumes/saggu-ssd/arnold-useful-files/descriptions.de.tsv.gz\n",
      "-rw-r--r--  1 amandeep  staff   1.3M Oct 11 15:47 /Volumes/saggu-ssd/arnold-useful-files/descriptions.en.tsv.gz\n",
      "-rw-r--r--  1 amandeep  staff    66B Oct 11 15:47 /Volumes/saggu-ssd/arnold-useful-files/descriptions.es.tsv.gz\n",
      "-rw-r--r--  1 amandeep  staff    66B Oct 11 15:47 /Volumes/saggu-ssd/arnold-useful-files/descriptions.fr.tsv.gz\n",
      "-rw-r--r--  1 amandeep  staff    66B Oct 11 15:47 /Volumes/saggu-ssd/arnold-useful-files/descriptions.it.tsv.gz\n",
      "-rw-r--r--  1 amandeep  staff    66B Oct 11 15:47 /Volumes/saggu-ssd/arnold-useful-files/descriptions.nl.tsv.gz\n",
      "-rw-r--r--  1 amandeep  staff    66B Oct 11 15:47 /Volumes/saggu-ssd/arnold-useful-files/descriptions.pl.tsv.gz\n",
      "-rw-r--r--  1 amandeep  staff    66B Oct 11 15:47 /Volumes/saggu-ssd/arnold-useful-files/descriptions.pt.tsv.gz\n",
      "-rw-r--r--  1 amandeep  staff    66B Oct 11 15:47 /Volumes/saggu-ssd/arnold-useful-files/descriptions.ru.tsv.gz\n",
      "-rw-r--r--  1 amandeep  staff    66B Oct 11 15:47 /Volumes/saggu-ssd/arnold-useful-files/descriptions.sv.tsv.gz\n",
      "-rw-r--r--  1 amandeep  staff    69B Oct 11 15:47 /Volumes/saggu-ssd/arnold-useful-files/descriptions.zh-cn.tsv.gz\n",
      "-rw-r--r--  1 amandeep  staff    60B Oct 11 15:47 /Volumes/saggu-ssd/arnold-useful-files/labels.de.tsv.gz\n",
      "-rw-r--r--  1 amandeep  staff   1.0M Oct 11 15:47 /Volumes/saggu-ssd/arnold-useful-files/labels.en.tsv.gz\n",
      "-rw-r--r--  1 amandeep  staff    60B Oct 11 15:47 /Volumes/saggu-ssd/arnold-useful-files/labels.es.tsv.gz\n",
      "-rw-r--r--  1 amandeep  staff    60B Oct 11 15:47 /Volumes/saggu-ssd/arnold-useful-files/labels.fr.tsv.gz\n",
      "-rw-r--r--  1 amandeep  staff    60B Oct 11 15:47 /Volumes/saggu-ssd/arnold-useful-files/labels.it.tsv.gz\n",
      "-rw-r--r--  1 amandeep  staff    60B Oct 11 15:47 /Volumes/saggu-ssd/arnold-useful-files/labels.nl.tsv.gz\n",
      "-rw-r--r--  1 amandeep  staff    60B Oct 11 15:47 /Volumes/saggu-ssd/arnold-useful-files/labels.pl.tsv.gz\n",
      "-rw-r--r--  1 amandeep  staff    60B Oct 11 15:47 /Volumes/saggu-ssd/arnold-useful-files/labels.pt.tsv.gz\n",
      "-rw-r--r--  1 amandeep  staff    60B Oct 11 15:47 /Volumes/saggu-ssd/arnold-useful-files/labels.ru.tsv.gz\n",
      "-rw-r--r--  1 amandeep  staff    60B Oct 11 15:47 /Volumes/saggu-ssd/arnold-useful-files/labels.sv.tsv.gz\n",
      "-rw-r--r--  1 amandeep  staff    63B Oct 11 15:47 /Volumes/saggu-ssd/arnold-useful-files/labels.zh-cn.tsv.gz\n",
      "-rw-r--r--  1 amandeep  staff   302K Oct 11 15:55 /Volumes/saggu-ssd/arnold-useful-files/metadata.in_degree.tsv.gz\n",
      "-rw-r--r--  1 amandeep  staff   572K Oct 11 15:52 /Volumes/saggu-ssd/arnold-useful-files/metadata.out_degree.tsv.gz\n",
      "-rw-r--r--  1 amandeep  staff   2.1M Oct 11 15:50 /Volumes/saggu-ssd/arnold-useful-files/metadata.pagerank.directed.tsv.gz\n",
      "-rw-r--r--  1 amandeep  staff   2.3M Oct 11 15:50 /Volumes/saggu-ssd/arnold-useful-files/metadata.pagerank.undirected.tsv.gz\n",
      "-rw-r--r--  1 amandeep  staff   4.3K Oct 11 15:55 /Volumes/saggu-ssd/arnold-useful-files/statistics.in_degree.distribution.tsv\n",
      "-rw-r--r--  1 amandeep  staff   4.8K Oct 11 15:55 /Volumes/saggu-ssd/arnold-useful-files/statistics.out_degree.distribution.tsv\n",
      "\n",
      "/Volumes/saggu-ssd/arnold-useful-files/temp.arnold-useful-files:\n",
      "total 575984\n",
      "-rw-r--r--  1 amandeep  staff    48K Oct 11 15:48 P279.n1.tsv.gz\n",
      "-rw-r--r--  1 amandeep  staff   1.8M Oct 11 15:48 P279.reachable.tsv.gz\n",
      "-rw-r--r--  1 amandeep  staff   189K Oct 11 15:48 P279.roots.1.tsv.gz\n",
      "-rw-r--r--  1 amandeep  staff    54K Oct 11 15:48 P279.roots.2.tsv.gz\n",
      "-rw-r--r--  1 amandeep  staff   125K Oct 11 15:48 P279.roots.tsv\n",
      "-rw-r--r--  1 amandeep  staff   1.8M Oct 11 15:48 P279star.1.tsv.gz\n",
      "-rw-r--r--  1 amandeep  staff   1.6M Oct 11 15:48 P279star.2.tsv.gz\n",
      "-rw-r--r--  1 amandeep  staff   1.6M Oct 11 15:48 P279star.3.tsv.gz\n",
      "-rw-r--r--  1 amandeep  staff   136K Oct 11 15:48 P31.n2.tsv.gz\n",
      "-rw-r--r--  1 amandeep  staff   6.0M Oct 11 15:50 derived.P31P279star.gz\n",
      "-rw-r--r--  1 amandeep  staff   7.3M Oct 11 15:49 derived.isastar_1.tsv.gz\n",
      "-rw-r--r--  1 amandeep  staff   1.5M Oct 11 15:49 isa.1.tsv.gz\n",
      "-rw-r--r--  1 amandeep  staff   146K Oct 11 15:55 metadata.in_degree.tsv.gz\n",
      "-rw-r--r--  1 amandeep  staff   259K Oct 11 15:52 metadata.out_degree.tsv.gz\n",
      "-rw-r--r--  1 amandeep  staff   492B Oct 11 15:50 metadata.pagerank.directed.summary.txt\n",
      "-rw-r--r--  1 amandeep  staff   482B Oct 11 15:50 metadata.pagerank.undirected.summary.txt\n",
      "-rw-r--r--  1 amandeep  staff   243M Oct 11 15:55 wikidata.sqlite3.db\n"
     ]
    }
   ],
   "source": [
    "!ls -lh $OUT/*"
   ]
  },
  {
   "cell_type": "markdown",
   "metadata": {},
   "source": [
    "Highest page rank"
   ]
  },
  {
   "cell_type": "code",
   "execution_count": 61,
   "metadata": {},
   "outputs": [
    {
     "name": "stdout",
     "output_type": "stream",
     "text": [
      "node1\tlabel\tundirected page rank\n",
      "Q5062876\t'Centro Superior de Información de la Defensa'@en\t9.999978201327167e-06\n",
      "Q835831\t'Mount Vernon'@en\t9.999710615250981e-06\n",
      "Q62302889\t'art practice'@en\t9.999306691384986e-06\n",
      "Q12562330\t'asymmetry property'@en\t9.998677779801328e-06\n",
      "Q23\t'George Washington'@en\t9.998210185434762e-05\n",
      "Q42293667\t'honorary doctor of Ben-Gurion University'@en\t9.99804745885785e-06\n",
      "Q608723\t'Bristol Old Vic Theatre School'@en\t9.997870819410728e-06\n",
      "Q392316\t'First Nations'@en\t9.997432367947012e-06\n",
      "Q55955335\t'Mike Lowrey'@en\t9.996814408119406e-06\n",
      "Q23968798\t'Eduard Sanjuán'@en\t9.996765931174855e-06\n"
     ]
    }
   ],
   "source": [
    "if debug:\n",
    "    if compute_pagerank:\n",
    "        !$kypher -i $OUT/metadata.pagerank.undirected.tsv.gz -i label \\\n",
    "        --match 'pagerank: (n1)-[:Pundirected_pagerank]->(page_rank), label: (n1)-[:label]->(label)' \\\n",
    "        --return 'distinct n1, label as label, page_rank as `undirected page rank`' \\\n",
    "        --order-by 'page_rank desc' \\\n",
    "        --limit 10 "
   ]
  }
 ],
 "metadata": {
  "celltoolbar": "Tags",
  "kernelspec": {
   "display_name": "kgtk-env",
   "language": "python",
   "name": "kgtk-env"
  },
  "language_info": {
   "codemirror_mode": {
    "name": "ipython",
    "version": 3
   },
   "file_extension": ".py",
   "mimetype": "text/x-python",
   "name": "python",
   "nbconvert_exporter": "python",
   "pygments_lexer": "ipython3",
   "version": "3.8.12"
  }
 },
 "nbformat": 4,
 "nbformat_minor": 4
}
