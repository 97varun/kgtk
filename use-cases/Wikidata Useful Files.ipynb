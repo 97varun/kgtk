{
 "cells": [
  {
   "cell_type": "markdown",
   "metadata": {},
   "source": [
    "# Generating Useful Wikidata Files\n",
    "\n",
    "This notebook generates files that contain derived data that is useful in many applications. The input to the notebook is the full Wikidata or a subset of Wikidata. It also works for arbutrary KGs as long as they follow the representation requirements of Wikidata:\n",
    "\n",
    "- the *instance of* relation is represented using the `P31` property\n",
    "- the *subclass of* relation is represented using the `P279` property\n",
    "- all properties declare a datatype, and the data types must be one of the datatypes in Wikidata.\n",
    "\n",
    "Inputs:\n",
    "\n",
    "- `claims_file`: contains all statements, which consist of edges `node1/label/node2` where `label` is a property in Wikidata (e.g., sitelinks, labels, aliases and description are not in the claims file.\n",
    "- `item_file`: the subset of the `claims_file` consistin of edges for property of data type `wikibase-item`\n",
    "- `label_file`, `alias_file` and `description_file` containing labels, aliases and descriptions. It is assume that these files contain the labels, aliases and descriptions of all nodes appearing in the claims file. Users may provide these files for specific languages only.\n",
    "\n",
    "Outputs:\n",
    "\n",
    "- **Instance of (P31):** `derived.P31.tsv.gz` contains all the `instance of (P31)` edges present in the claims file.\n",
    "- **Subclass of (P279):** `derived.P279.tsv.gz` contains all the `subclass of (P279)` edges present in the claims file.\n",
    "- **Is A (isa):** `derived.isa.tsv.gz` contains edges `node`isa/node2` where either `node1/P31/node2` or `node1/P279/node2`\n",
    "- **Closure of subclass of (P279star):** `derived.P279star.tsv.gz` contains edges `node1/P279star/node2` where `node2` is reachable from `node1` via zero or more hops using the `P279` property. Note that for example, `Q44/P279star/Q44`. An example when this file is useful is when you want to find all the instance of a class, including instances of subclasses of the given class.\n",
    "- **In/out degrees:** `metadata.out_degree.tsv.gz` contains the out degree of every node, and `metadata.in_degree.tsv.gz` contains the in degree of every node.\n",
    "- **Pagerank:** outputs page rank on the directed graph in `metadata.pagerank.directed.tsv.gz` and page rank of the directed graph in `metadata.pagerank.undirected.tsv.gz`."
   ]
  },
  {
   "cell_type": "markdown",
   "metadata": {},
   "source": [
    "### Batch Invocation\n",
    "Example batch command. The second argument is a notebook where the output will be stored. You can load it to see progress.\n",
    "\n",
    "```\n",
    "papermill Wikidata\\ Useful\\ Files.ipynb useful-files.out.ipynb \\\n",
    "-p claims_file /Volumes/GoogleDrive/Shared\\ drives/KGTK-public-graphs/wikidata-20200803-v4/all.tsv.gz \\\n",
    "-p label_file /Volumes/GoogleDrive/Shared\\ drives/KGTK-public-graphs/wikidata-20200803-v4/part.label.en.tsv.gz \\\n",
    "-p item_file /Volumes/GoogleDrive/Shared\\ drives/KGTK-public-graphs/wikidata-20200803-v4/part.wikibase-item.tsv.gz \\\n",
    "-p property_item_file = /Volumes/GoogleDrive/Shared\\ drives/KGTK-public-graphs/wikidata-20200803-v4/part.property.wikibase-item.tsv.gz \\\n",
    "-p output_path <local folder> \\\n",
    "-p output_folder useful_files_v4 \\\n",
    "-p temp_folder temp.useful_files_v4 \\\n",
    "-p delete_database no \n",
    "-p languages es,ru,zh-cn\n",
    "```"
   ]
  },
  {
   "cell_type": "code",
   "execution_count": 1,
   "metadata": {
    "tags": [
     "parameters"
    ]
   },
   "outputs": [],
   "source": [
    "# Parameters\n",
    "\n",
    "# Folder on local machine where to create the output and temporary folders\n",
    "output_path = \"/data/amandeep/wikidata-20210215\"\n",
    "\n",
    "# The names of the output and temporary folders\n",
    "output_folder = \"useful_wikidata_files\"\n",
    "temp_folder = \"temp.useful_wikidata_files\"\n",
    "\n",
    "# The location of input files\n",
    "wiki_root_folder = \"/data/amandeep/wikidata-20210215\"\n",
    "claims_file = \"claims.tsv.gz\"\n",
    "label_file = \"labels.en.tsv.gz\"\n",
    "alias_file = \"aliases.en.tsv.gz\"\n",
    "description_file = \"descriptions.en.tsv.gz\"\n",
    "item_file = \"claims.wikibase-item.tsv.gz\"\n",
    "\n",
    "label_all = \"labels.tsv.gz\"\n",
    "alias_all = \"aliases.tsv.gz\"\n",
    "description_all = \"descriptions.tsv.gz\"\n",
    "\n",
    "# Location of the cache database for kypher\n",
    "cache_path = f\"{output_path}/{output_folder}/{temp_folder}\"\n",
    "\n",
    "# Whether to delete the cache database\n",
    "delete_database = False\n",
    "\n",
    "# Whether to compute pagerank as it may not run on the laptop\n",
    "compute_pagerank = True\n",
    "languages = 'en,ru,es,zh-cn,de,it,nl,pl,fr,pt,sv'\n",
    "debug = \"false\"\n",
    "debug = debug.lower() == \"true\""
   ]
  },
  {
   "cell_type": "code",
   "execution_count": 2,
   "metadata": {},
   "outputs": [],
   "source": [
    "languages = languages.split(',')"
   ]
  },
  {
   "cell_type": "code",
   "execution_count": 3,
   "metadata": {},
   "outputs": [],
   "source": [
    "import io\n",
    "import os\n",
    "import subprocess\n",
    "import sys\n",
    "\n",
    "import numpy as np\n",
    "import pandas as pd\n",
    "\n",
    "import altair as alt"
   ]
  },
  {
   "cell_type": "markdown",
   "metadata": {},
   "source": [
    "## Set up environment and folders to store the files\n",
    "\n",
    "- `OUT` folder where the output files go\n",
    "- `TEMP` folder to keep temporary files , including the database\n",
    "- `kgtk` shortcut to invoke the kgtk software\n",
    "- `kypher` shortcut to invoke `kgtk query with the cache database\n",
    "- `CLAIMS` the `all.tsv` file of wikidata that contains all edges except label/alias/description\n",
    "- `LABELS` the file with the English labels\n",
    "- `ITEMS` the wikibase-item file (currently does not include node1 that are properties so for now we need the net file\n",
    "- `STORE` location of the cache file"
   ]
  },
  {
   "cell_type": "code",
   "execution_count": 4,
   "metadata": {},
   "outputs": [],
   "source": [
    "if cache_path:\n",
    "    os.environ['STORE'] = \"{}/wikidata.sqlite3.db\".format(cache_path)\n",
    "else:\n",
    "    os.environ['STORE'] = \"{}/{}/{}/wikidata.sqlite3.db\".format(output_path, output_folder, temp_folder)\n",
    "os.environ['OUT'] = \"{}/{}\".format(output_path, output_folder)\n",
    "os.environ['TEMP'] = \"{}/{}/{}\".format(output_path, output_folder, temp_folder)\n",
    "os.environ['kgtk'] = \"kgtk\"\n",
    "os.environ['kgtk'] = \"kgtk --debug\"\n",
    "os.environ['kypher'] = \"kgtk --debug query --graph-cache \" + os.environ['STORE']\n",
    "os.environ['CLAIMS'] = f\"{wiki_root_folder}/{claims_file}\"\n",
    "os.environ['LABELS'] = f\"{wiki_root_folder}/{label_file}\"\n",
    "os.environ['ALIASES'] = f\"{wiki_root_folder}/{alias_file}\"\n",
    "os.environ['DESCRIPTIONS'] = f\"{wiki_root_folder}/{description_file}\"\n",
    "os.environ['ITEMS'] = f\"{wiki_root_folder}/{item_file}\""
   ]
  },
  {
   "cell_type": "markdown",
   "metadata": {},
   "source": [
    "Echo the variables to see if they are all set correctly"
   ]
  },
  {
   "cell_type": "code",
   "execution_count": 7,
   "metadata": {},
   "outputs": [
    {
     "name": "stdout",
     "output_type": "stream",
     "text": [
      "/data/amandeep/wikidata-20210215/useful_wikidata_files\n",
      "/data/amandeep/wikidata-20210215/temp.useful_wikidata_files\n",
      "time kgtk --debug\n",
      "time kgtk --debug query --graph-cache /data/amandeep/wikidata-20210215/temp.useful_wikidata_files/wikidata.sqlite3.db\n",
      "/data/amandeep/wikidata-20210215/claims.tsv.gz\n",
      "/data/amandeep/wikidata-20210215/labels.en.tsv.gz\n",
      "/data/amandeep/wikidata-20210215/aliases.en.tsv.gz\n",
      "/data/amandeep/wikidata-20210215/labels.en.tsv.gz\n",
      "/data/amandeep/wikidata-20210215/descriptions.en.tsv.gz\n",
      "/data/amandeep/wikidata-20210215/temp.useful_wikidata_files/wikidata.sqlite3.db\n"
     ]
    }
   ],
   "source": [
    "!echo $OUT\n",
    "!echo $TEMP\n",
    "!echo $kgtk\n",
    "!echo $kypher\n",
    "!echo $CLAIMS\n",
    "!echo $LABELS\n",
    "!echo $ALIASES\n",
    "!echo $LABELS\n",
    "!echo $DESCRIPTIONS\n",
    "!echo $STORE\n",
    "!alias col=\"column -t -s $'\\t' \""
   ]
  },
  {
   "cell_type": "markdown",
   "metadata": {},
   "source": [
    "Go to the output directory and create the subfolders for the output files and the temporary files"
   ]
  },
  {
   "cell_type": "code",
   "execution_count": 8,
   "metadata": {},
   "outputs": [
    {
     "name": "stdout",
     "output_type": "stream",
     "text": [
      "/data/amandeep/wikidata-20210215\n"
     ]
    }
   ],
   "source": [
    "cd $output_path"
   ]
  },
  {
   "cell_type": "code",
   "execution_count": 10,
   "metadata": {},
   "outputs": [],
   "source": [
    "!mkdir -p $OUT\n",
    "!mkdir -p $TEMP"
   ]
  },
  {
   "cell_type": "markdown",
   "metadata": {},
   "source": [
    "Clean up the output and temp folders before we start"
   ]
  },
  {
   "cell_type": "code",
   "execution_count": 11,
   "metadata": {},
   "outputs": [],
   "source": [
    "# !rm $OUT/*.tsv $OUT/*.tsv.gz\n",
    "# !rm $TEMP/*.tsv $TEMP/*.tsv.gz"
   ]
  },
  {
   "cell_type": "code",
   "execution_count": 12,
   "metadata": {},
   "outputs": [],
   "source": [
    "if delete_database:\n",
    "    print(\"Deleted database\") \n",
    "    !rm $STORE"
   ]
  },
  {
   "cell_type": "code",
   "execution_count": 13,
   "metadata": {},
   "outputs": [
    {
     "name": "stdout",
     "output_type": "stream",
     "text": [
      "total 0\n",
      "-rw-r--r-- 1 amandeep root 25910383480 Feb 26 04:59 /data/amandeep/wikidata-20210215/claims.tsv.gz\n",
      "-rw-r--r-- 1 amandeep root 2247582427 Feb 26 11:18 /data/amandeep/wikidata-20210215/labels.en.tsv.gz\n",
      "-rw-r--r-- 1 amandeep root 140720117 Feb 25 10:36 /data/amandeep/wikidata-20210215/aliases.en.tsv.gz\n",
      "-rw-r--r-- 1 amandeep root 2247582427 Feb 26 11:18 /data/amandeep/wikidata-20210215/labels.en.tsv.gz\n",
      "-rw-r--r-- 1 amandeep root 632811768 Feb 26 08:53 /data/amandeep/wikidata-20210215/descriptions.en.tsv.gz\n",
      "ls: cannot access /data/amandeep/wikidata-20210215/temp.useful_wikidata_files/wikidata.sqlite3.db: No such file or directory\n"
     ]
    }
   ],
   "source": [
    "!ls -l $OUT\n",
    "!ls $TEMP\n",
    "!ls -l \"$CLAIMS\"\n",
    "!ls -l \"$LABELS\"\n",
    "!ls -l \"$ALIASES\"\n",
    "!ls -l \"$LABELS\"\n",
    "!ls -l \"$DESCRIPTIONS\"\n",
    "!ls $STORE"
   ]
  },
  {
   "cell_type": "code",
   "execution_count": 14,
   "metadata": {},
   "outputs": [
    {
     "name": "stdout",
     "output_type": "stream",
     "text": [
      "id\tnode1\tlabel\tnode2\trank\tnode2;wikidatatype\n",
      "P10-P1628-32b85d-7927ece6-0\tP10\tP1628\t\"http://www.w3.org/2006/vcard/ns#Video\" normal\turl\n",
      "P10-P1628-acf60d-b8950832-0\tP10\tP1628\t\"https://schema.org/video\"\tnormal\turl\n",
      "P10-P1629-Q34508-bcc39400-0\tP10\tP1629\tQ34508\tnormal\twikibase-item\n",
      "P10-P1659-P1651-c4068028-0\tP10\tP1659\tP1651\tnormal\twikibase-property\n",
      "P10-P1659-P18-5e4b9c4f-0\tP10\tP1659\tP18\tnormal\twikibase-property\n",
      "\n",
      "gzip: P10-P1659-P4238-d21d1ac0-0\tP10\tP1659\tP4238\tnormal\twikibase-property\n",
      "stdout: Broken pipe\n",
      "P10-P1659-P51-86aca4c5-0\tP10\tP1659\tP51\tnormal\twikibase-property\n",
      "P10-P1855-Q15075950-7eff6d65-0\tP10\tP1855\tQ15075950\tnormal\twikibase-item\n",
      "P10-P1855-Q4504-a69d2c73-0\tP10\tP1855\tQ4504\tnormal\twikibase-item\n"
     ]
    }
   ],
   "source": [
    "!zcat < \"$CLAIMS\" | head | col"
   ]
  },
  {
   "cell_type": "markdown",
   "metadata": {},
   "source": [
    "### Preview the input files"
   ]
  },
  {
   "cell_type": "markdown",
   "metadata": {},
   "source": [
    "It is always a good practice to peek a the files to make sure the column headings are what we expect"
   ]
  },
  {
   "cell_type": "code",
   "execution_count": 17,
   "metadata": {},
   "outputs": [
    {
     "name": "stdout",
     "output_type": "stream",
     "text": [
      "[2021-03-01 11:55:31 sqlstore]: IMPORT graph directly into table graph_1 from /data/amandeep/wikidata-20210215/claims.tsv.gz ...\n",
      "[2021-03-01 12:29:45 query]: SQL Translation:\n",
      "---------------------------------------------\n",
      "  SELECT *\n",
      "     FROM graph_1 AS graph_1_c1\n",
      "     LIMIT ?\n",
      "  PARAS: [10]\n",
      "---------------------------------------------\n",
      "id\tnode1\tlabel\tnode2\trank\tnode2;wikidatatype\n",
      "P10-P1628-32b85d-7927ece6-0\tP10\tP1628\t\"http://www.w3.org/2006/vcard/ns#Video\" normal\turl\n",
      "P10-P1628-acf60d-b8950832-0\tP10\tP1628\t\"https://schema.org/video\"\tnormal\turl\n",
      "P10-P1629-Q34508-bcc39400-0\tP10\tP1629\tQ34508\tnormal\twikibase-item\n",
      "P10-P1659-P1651-c4068028-0\tP10\tP1659\tP1651\tnormal\twikibase-property\n",
      "P10-P1659-P18-5e4b9c4f-0\tP10\tP1659\tP18\tnormal\twikibase-property\n",
      "P10-P1659-P4238-d21d1ac0-0\tP10\tP1659\tP4238\tnormal\twikibase-property\n",
      "P10-P1659-P51-86aca4c5-0\tP10\tP1659\tP51\tnormal\twikibase-property\n",
      "P10-P1855-Q15075950-7eff6d65-0\tP10\tP1855\tQ15075950\tnormal\twikibase-item\n",
      "P10-P1855-Q4504-a69d2c73-0\tP10\tP1855\tQ4504\tnormal\twikibase-item\n",
      "P10-P1855-Q69063653-c8cdb04c-0\tP10\tP1855\tQ69063653\tnormal\twikibase-item\n"
     ]
    }
   ],
   "source": [
    "!$kypher -i \"$CLAIMS\" --limit 10 | col "
   ]
  },
  {
   "cell_type": "markdown",
   "metadata": {},
   "source": [
    "Force creation of the index on the label column"
   ]
  },
  {
   "cell_type": "code",
   "execution_count": 18,
   "metadata": {},
   "outputs": [
    {
     "name": "stdout",
     "output_type": "stream",
     "text": [
      "[2021-03-01 12:29:46 query]: SQL Translation:\n",
      "---------------------------------------------\n",
      "  SELECT *\n",
      "     FROM graph_1 AS graph_1_c1\n",
      "     WHERE graph_1_c1.\"label\"=?\n",
      "     LIMIT ?\n",
      "  PARAS: ['P31', 5]\n",
      "---------------------------------------------\n",
      "[2021-03-01 12:29:46 sqlstore]: CREATE INDEX on table graph_1 column label ...\n",
      "[2021-03-01 12:46:38 sqlstore]: ANALYZE INDEX on table graph_1 column label ...\n",
      "id                              node1  label  node2      rank    node2;wikidatatype\n",
      "P10-P31-Q18610173-85ef4d24-0    P10    P31    Q18610173  normal  wikibase-item\n",
      "P1000-P31-Q18608871-093affb5-0  P1000  P31    Q18608871  normal  wikibase-item\n",
      "P1001-P31-Q15720608-deeedec9-0  P1001  P31    Q15720608  normal  wikibase-item\n",
      "P1001-P31-Q22984026-8beb0cfe-0  P1001  P31    Q22984026  normal  wikibase-item\n",
      "P1001-P31-Q22997934-1e5b1a96-0  P1001  P31    Q22997934  normal  wikibase-item\n"
     ]
    }
   ],
   "source": [
    "!$kypher -i \"$CLAIMS\" -o - \\\n",
    "--match '(i)-[:P31]->(c)' \\\n",
    "--limit 5 \\\n",
    "| column -t -s $'\\t' "
   ]
  },
  {
   "cell_type": "markdown",
   "metadata": {},
   "source": [
    "Force creation of the index on the node2 column"
   ]
  },
  {
   "cell_type": "code",
   "execution_count": 19,
   "metadata": {},
   "outputs": [
    {
     "name": "stdout",
     "output_type": "stream",
     "text": [
      "[2021-03-01 12:47:50 query]: SQL Translation:\n",
      "---------------------------------------------\n",
      "  SELECT *\n",
      "     FROM graph_1 AS graph_1_c1\n",
      "     WHERE graph_1_c1.\"node2\"=?\n",
      "     LIMIT ?\n",
      "  PARAS: ['Q5', 5]\n",
      "---------------------------------------------\n",
      "[2021-03-01 12:47:50 sqlstore]: CREATE INDEX on table graph_1 column node2 ...\n",
      "[2021-03-01 13:14:30 sqlstore]: ANALYZE INDEX on table graph_1 column node2 ...\n",
      "id                         node1  label  node2  rank    node2;wikidatatype\n",
      "P1424-P1855-Q5-47bdcd17-0  P1424  P1855  Q5     normal  wikibase-item\n",
      "P1552-P1855-Q5-53b667e4-0  P1552  P1855  Q5     normal  wikibase-item\n",
      "P1963-P1855-Q5-1ba43aca-0  P1963  P1855  Q5     normal  wikibase-item\n",
      "P3055-P1629-Q5-fb63cfeb-0  P3055  P1629  Q5     normal  wikibase-item\n",
      "P5869-P1855-Q5-3a19317f-0  P5869  P1855  Q5     normal  wikibase-item\n"
     ]
    }
   ],
   "source": [
    "!$kypher -i \"$CLAIMS\" -o - \\\n",
    "--match '(i)-[r]->(:Q5)' \\\n",
    "--limit 5 \\\n",
    "| column -t -s $'\\t' "
   ]
  },
  {
   "cell_type": "markdown",
   "metadata": {},
   "source": [
    "### Count the number of edges"
   ]
  },
  {
   "cell_type": "markdown",
   "metadata": {},
   "source": [
    "Counting takes a long time"
   ]
  },
  {
   "cell_type": "code",
   "execution_count": 20,
   "metadata": {},
   "outputs": [
    {
     "name": "stdout",
     "output_type": "stream",
     "text": [
      "[2021-03-01 13:15:59 query]: SQL Translation:\n",
      "---------------------------------------------\n",
      "  SELECT count(graph_1_c1.\"id\") \"_aLias.count\"\n",
      "     FROM graph_1 AS graph_1_c1\n",
      "     LIMIT ?\n",
      "  PARAS: [10]\n",
      "---------------------------------------------\n",
      "count\n",
      "1180224951\n"
     ]
    }
   ],
   "source": [
    "if debug:\n",
    "    !$kypher -i \"$CLAIMS\" \\\n",
    "    --match '()-[r]->()' \\\n",
    "    --return 'count(r) as count' \\\n",
    "    --limit 10"
   ]
  },
  {
   "cell_type": "markdown",
   "metadata": {},
   "source": [
    "### Get labels, aliases and descriptions for other languages"
   ]
  },
  {
   "cell_type": "code",
   "execution_count": 21,
   "metadata": {},
   "outputs": [
    {
     "name": "stdout",
     "output_type": "stream",
     "text": [
      "[2021-03-01 16:17:26 sqlstore]: IMPORT graph directly into table graph_2 from /data/amandeep/wikidata-20210215/labels.tsv.gz ...\n",
      "[2021-03-01 16:30:42 query]: SQL Translation:\n",
      "---------------------------------------------\n",
      "  SELECT graph_2_c1.\"node1\", graph_2_c1.\"label\", graph_2_c1.\"node2\", graph_2_c1.\"id\"\n",
      "     FROM graph_2 AS graph_2_c1\n",
      "     WHERE graph_2_c1.\"label\"=?\n",
      "     AND (kgtk_lqstring_lang_suffix(graph_2_c1.\"node2\") = ?)\n",
      "  PARAS: ['label', 'ru']\n",
      "---------------------------------------------\n",
      "[2021-03-01 16:30:42 sqlstore]: CREATE INDEX on table graph_2 column label ...\n",
      "[2021-03-01 16:35:29 sqlstore]: ANALYZE INDEX on table graph_2 column label ...\n",
      "[2021-03-01 16:45:36 query]: SQL Translation:\n",
      "---------------------------------------------\n",
      "  SELECT graph_2_c1.\"node1\", graph_2_c1.\"label\", graph_2_c1.\"node2\", graph_2_c1.\"id\"\n",
      "     FROM graph_2 AS graph_2_c1\n",
      "     WHERE graph_2_c1.\"label\"=?\n",
      "     AND (kgtk_lqstring_lang_suffix(graph_2_c1.\"node2\") = ?)\n",
      "  PARAS: ['label', 'es']\n",
      "---------------------------------------------\n",
      "[2021-03-01 16:55:41 query]: SQL Translation:\n",
      "---------------------------------------------\n",
      "  SELECT graph_2_c1.\"node1\", graph_2_c1.\"label\", graph_2_c1.\"node2\", graph_2_c1.\"id\"\n",
      "     FROM graph_2 AS graph_2_c1\n",
      "     WHERE graph_2_c1.\"label\"=?\n",
      "     AND (kgtk_lqstring_lang_suffix(graph_2_c1.\"node2\") = ?)\n",
      "  PARAS: ['label', 'zh-cn']\n",
      "---------------------------------------------\n",
      "[2021-03-01 17:03:43 query]: SQL Translation:\n",
      "---------------------------------------------\n",
      "  SELECT graph_2_c1.\"node1\", graph_2_c1.\"label\", graph_2_c1.\"node2\", graph_2_c1.\"id\"\n",
      "     FROM graph_2 AS graph_2_c1\n",
      "     WHERE graph_2_c1.\"label\"=?\n",
      "     AND (kgtk_lqstring_lang_suffix(graph_2_c1.\"node2\") = ?)\n",
      "  PARAS: ['label', 'de']\n",
      "---------------------------------------------\n",
      "[2021-03-01 17:14:04 query]: SQL Translation:\n",
      "---------------------------------------------\n",
      "  SELECT graph_2_c1.\"node1\", graph_2_c1.\"label\", graph_2_c1.\"node2\", graph_2_c1.\"id\"\n",
      "     FROM graph_2 AS graph_2_c1\n",
      "     WHERE graph_2_c1.\"label\"=?\n",
      "     AND (kgtk_lqstring_lang_suffix(graph_2_c1.\"node2\") = ?)\n",
      "  PARAS: ['label', 'it']\n",
      "---------------------------------------------\n",
      "[2021-03-01 17:23:33 query]: SQL Translation:\n",
      "---------------------------------------------\n",
      "  SELECT graph_2_c1.\"node1\", graph_2_c1.\"label\", graph_2_c1.\"node2\", graph_2_c1.\"id\"\n",
      "     FROM graph_2 AS graph_2_c1\n",
      "     WHERE graph_2_c1.\"label\"=?\n",
      "     AND (kgtk_lqstring_lang_suffix(graph_2_c1.\"node2\") = ?)\n",
      "  PARAS: ['label', 'nl']\n",
      "---------------------------------------------\n",
      "[2021-03-01 17:40:58 query]: SQL Translation:\n",
      "---------------------------------------------\n",
      "  SELECT graph_2_c1.\"node1\", graph_2_c1.\"label\", graph_2_c1.\"node2\", graph_2_c1.\"id\"\n",
      "     FROM graph_2 AS graph_2_c1\n",
      "     WHERE graph_2_c1.\"label\"=?\n",
      "     AND (kgtk_lqstring_lang_suffix(graph_2_c1.\"node2\") = ?)\n",
      "  PARAS: ['label', 'pl']\n",
      "---------------------------------------------\n",
      "[2021-03-01 17:49:16 query]: SQL Translation:\n",
      "---------------------------------------------\n",
      "  SELECT graph_2_c1.\"node1\", graph_2_c1.\"label\", graph_2_c1.\"node2\", graph_2_c1.\"id\"\n",
      "     FROM graph_2 AS graph_2_c1\n",
      "     WHERE graph_2_c1.\"label\"=?\n",
      "     AND (kgtk_lqstring_lang_suffix(graph_2_c1.\"node2\") = ?)\n",
      "  PARAS: ['label', 'fr']\n",
      "---------------------------------------------\n",
      "[2021-03-01 17:58:53 query]: SQL Translation:\n",
      "---------------------------------------------\n",
      "  SELECT graph_2_c1.\"node1\", graph_2_c1.\"label\", graph_2_c1.\"node2\", graph_2_c1.\"id\"\n",
      "     FROM graph_2 AS graph_2_c1\n",
      "     WHERE graph_2_c1.\"label\"=?\n",
      "     AND (kgtk_lqstring_lang_suffix(graph_2_c1.\"node2\") = ?)\n",
      "  PARAS: ['label', 'pt']\n",
      "---------------------------------------------\n",
      "[2021-03-01 18:08:26 query]: SQL Translation:\n",
      "---------------------------------------------\n",
      "  SELECT graph_2_c1.\"node1\", graph_2_c1.\"label\", graph_2_c1.\"node2\", graph_2_c1.\"id\"\n",
      "     FROM graph_2 AS graph_2_c1\n",
      "     WHERE graph_2_c1.\"label\"=?\n",
      "     AND (kgtk_lqstring_lang_suffix(graph_2_c1.\"node2\") = ?)\n",
      "  PARAS: ['label', 'sv']\n",
      "---------------------------------------------\n"
     ]
    }
   ],
   "source": [
    "for lang in languages:\n",
    "    cmd = f\"kgtk --debug query --graph-cache {os.environ['STORE']} -i {wiki_root_folder}/{label_all} -o {output_path}/{output_folder}/labels.{lang}.tsv.gz --match '(n1)-[l:label]->(n2)' --where 'n2.kgtk_lqstring_lang_suffix = \\\"{lang}\\\"' --return 'n1, l.label, n2, l.id' \"\n",
    "    !{cmd}"
   ]
  },
  {
   "cell_type": "code",
   "execution_count": 22,
   "metadata": {},
   "outputs": [
    {
     "name": "stdout",
     "output_type": "stream",
     "text": [
      "[2021-03-01 18:17:16 sqlstore]: IMPORT graph directly into table graph_3 from /data/amandeep/wikidata-20210215/aliases.tsv.gz ...\n",
      "[2021-03-01 18:19:25 query]: SQL Translation:\n",
      "---------------------------------------------\n",
      "  SELECT graph_3_c1.\"node1\", graph_3_c1.\"label\", graph_3_c1.\"node2\", graph_3_c1.\"id\"\n",
      "     FROM graph_3 AS graph_3_c1\n",
      "     WHERE graph_3_c1.\"label\"=?\n",
      "     AND (kgtk_lqstring_lang_suffix(graph_3_c1.\"node2\") = ?)\n",
      "  PARAS: ['alias', 'ru']\n",
      "---------------------------------------------\n",
      "[2021-03-01 18:19:25 sqlstore]: CREATE INDEX on table graph_3 column label ...\n",
      "[2021-03-01 18:20:07 sqlstore]: ANALYZE INDEX on table graph_3 column label ...\n",
      "[2021-03-01 18:22:15 query]: SQL Translation:\n",
      "---------------------------------------------\n",
      "  SELECT graph_3_c1.\"node1\", graph_3_c1.\"label\", graph_3_c1.\"node2\", graph_3_c1.\"id\"\n",
      "     FROM graph_3 AS graph_3_c1\n",
      "     WHERE graph_3_c1.\"label\"=?\n",
      "     AND (kgtk_lqstring_lang_suffix(graph_3_c1.\"node2\") = ?)\n",
      "  PARAS: ['alias', 'es']\n",
      "---------------------------------------------\n",
      "[2021-03-01 18:24:00 query]: SQL Translation:\n",
      "---------------------------------------------\n",
      "  SELECT graph_3_c1.\"node1\", graph_3_c1.\"label\", graph_3_c1.\"node2\", graph_3_c1.\"id\"\n",
      "     FROM graph_3 AS graph_3_c1\n",
      "     WHERE graph_3_c1.\"label\"=?\n",
      "     AND (kgtk_lqstring_lang_suffix(graph_3_c1.\"node2\") = ?)\n",
      "  PARAS: ['alias', 'zh-cn']\n",
      "---------------------------------------------\n",
      "[2021-03-01 18:25:53 query]: SQL Translation:\n",
      "---------------------------------------------\n",
      "  SELECT graph_3_c1.\"node1\", graph_3_c1.\"label\", graph_3_c1.\"node2\", graph_3_c1.\"id\"\n",
      "     FROM graph_3 AS graph_3_c1\n",
      "     WHERE graph_3_c1.\"label\"=?\n",
      "     AND (kgtk_lqstring_lang_suffix(graph_3_c1.\"node2\") = ?)\n",
      "  PARAS: ['alias', 'de']\n",
      "---------------------------------------------\n",
      "[2021-03-01 18:27:48 query]: SQL Translation:\n",
      "---------------------------------------------\n",
      "  SELECT graph_3_c1.\"node1\", graph_3_c1.\"label\", graph_3_c1.\"node2\", graph_3_c1.\"id\"\n",
      "     FROM graph_3 AS graph_3_c1\n",
      "     WHERE graph_3_c1.\"label\"=?\n",
      "     AND (kgtk_lqstring_lang_suffix(graph_3_c1.\"node2\") = ?)\n",
      "  PARAS: ['alias', 'it']\n",
      "---------------------------------------------\n",
      "[2021-03-01 18:29:27 query]: SQL Translation:\n",
      "---------------------------------------------\n",
      "  SELECT graph_3_c1.\"node1\", graph_3_c1.\"label\", graph_3_c1.\"node2\", graph_3_c1.\"id\"\n",
      "     FROM graph_3 AS graph_3_c1\n",
      "     WHERE graph_3_c1.\"label\"=?\n",
      "     AND (kgtk_lqstring_lang_suffix(graph_3_c1.\"node2\") = ?)\n",
      "  PARAS: ['alias', 'nl']\n",
      "---------------------------------------------\n",
      "[2021-03-01 18:31:16 query]: SQL Translation:\n",
      "---------------------------------------------\n",
      "  SELECT graph_3_c1.\"node1\", graph_3_c1.\"label\", graph_3_c1.\"node2\", graph_3_c1.\"id\"\n",
      "     FROM graph_3 AS graph_3_c1\n",
      "     WHERE graph_3_c1.\"label\"=?\n",
      "     AND (kgtk_lqstring_lang_suffix(graph_3_c1.\"node2\") = ?)\n",
      "  PARAS: ['alias', 'pl']\n",
      "---------------------------------------------\n",
      "[2021-03-01 18:32:52 query]: SQL Translation:\n",
      "---------------------------------------------\n",
      "  SELECT graph_3_c1.\"node1\", graph_3_c1.\"label\", graph_3_c1.\"node2\", graph_3_c1.\"id\"\n",
      "     FROM graph_3 AS graph_3_c1\n",
      "     WHERE graph_3_c1.\"label\"=?\n",
      "     AND (kgtk_lqstring_lang_suffix(graph_3_c1.\"node2\") = ?)\n",
      "  PARAS: ['alias', 'fr']\n",
      "---------------------------------------------\n",
      "[2021-03-01 18:34:47 query]: SQL Translation:\n",
      "---------------------------------------------\n",
      "  SELECT graph_3_c1.\"node1\", graph_3_c1.\"label\", graph_3_c1.\"node2\", graph_3_c1.\"id\"\n",
      "     FROM graph_3 AS graph_3_c1\n",
      "     WHERE graph_3_c1.\"label\"=?\n",
      "     AND (kgtk_lqstring_lang_suffix(graph_3_c1.\"node2\") = ?)\n",
      "  PARAS: ['alias', 'pt']\n",
      "---------------------------------------------\n",
      "[2021-03-01 18:36:23 query]: SQL Translation:\n",
      "---------------------------------------------\n",
      "  SELECT graph_3_c1.\"node1\", graph_3_c1.\"label\", graph_3_c1.\"node2\", graph_3_c1.\"id\"\n",
      "     FROM graph_3 AS graph_3_c1\n",
      "     WHERE graph_3_c1.\"label\"=?\n",
      "     AND (kgtk_lqstring_lang_suffix(graph_3_c1.\"node2\") = ?)\n",
      "  PARAS: ['alias', 'sv']\n",
      "---------------------------------------------\n"
     ]
    }
   ],
   "source": [
    "for lang in languages:\n",
    "    cmd = f\"kgtk --debug query --graph-cache {os.environ['STORE']} -i {wiki_root_folder}/{alias_all} -o {output_path}/{output_folder}/aliases.{lang}.tsv.gz --match '(n1)-[l:alias]->(n2)' --where 'n2.kgtk_lqstring_lang_suffix = \\\"{lang}\\\"' --return 'n1, l.label, n2, l.id' \"\n",
    "    !{cmd}"
   ]
  },
  {
   "cell_type": "code",
   "execution_count": 23,
   "metadata": {},
   "outputs": [
    {
     "name": "stdout",
     "output_type": "stream",
     "text": [
      "[2021-03-01 18:38:00 sqlstore]: IMPORT graph directly into table graph_4 from /data/amandeep/wikidata-20210215/descriptions.tsv.gz ...\n",
      "[2021-03-01 19:52:20 query]: SQL Translation:\n",
      "---------------------------------------------\n",
      "  SELECT graph_4_c1.\"node1\", graph_4_c1.\"label\", graph_4_c1.\"node2\", graph_4_c1.\"id\"\n",
      "     FROM graph_4 AS graph_4_c1\n",
      "     WHERE graph_4_c1.\"label\"=?\n",
      "     AND (kgtk_lqstring_lang_suffix(graph_4_c1.\"node2\") = ?)\n",
      "  PARAS: ['description', 'ru']\n",
      "---------------------------------------------\n",
      "[2021-03-01 19:52:20 sqlstore]: CREATE INDEX on table graph_4 column label ...\n",
      "[2021-03-01 20:15:45 sqlstore]: ANALYZE INDEX on table graph_4 column label ...\n",
      "[2021-03-01 21:03:03 query]: SQL Translation:\n",
      "---------------------------------------------\n",
      "  SELECT graph_4_c1.\"node1\", graph_4_c1.\"label\", graph_4_c1.\"node2\", graph_4_c1.\"id\"\n",
      "     FROM graph_4 AS graph_4_c1\n",
      "     WHERE graph_4_c1.\"label\"=?\n",
      "     AND (kgtk_lqstring_lang_suffix(graph_4_c1.\"node2\") = ?)\n",
      "  PARAS: ['description', 'es']\n",
      "---------------------------------------------\n",
      "[2021-03-01 21:48:08 query]: SQL Translation:\n",
      "---------------------------------------------\n",
      "  SELECT graph_4_c1.\"node1\", graph_4_c1.\"label\", graph_4_c1.\"node2\", graph_4_c1.\"id\"\n",
      "     FROM graph_4 AS graph_4_c1\n",
      "     WHERE graph_4_c1.\"label\"=?\n",
      "     AND (kgtk_lqstring_lang_suffix(graph_4_c1.\"node2\") = ?)\n",
      "  PARAS: ['description', 'zh-cn']\n",
      "---------------------------------------------\n",
      "[2021-03-01 22:31:27 query]: SQL Translation:\n",
      "---------------------------------------------\n",
      "  SELECT graph_4_c1.\"node1\", graph_4_c1.\"label\", graph_4_c1.\"node2\", graph_4_c1.\"id\"\n",
      "     FROM graph_4 AS graph_4_c1\n",
      "     WHERE graph_4_c1.\"label\"=?\n",
      "     AND (kgtk_lqstring_lang_suffix(graph_4_c1.\"node2\") = ?)\n",
      "  PARAS: ['description', 'de']\n",
      "---------------------------------------------\n",
      "[2021-03-01 23:18:16 query]: SQL Translation:\n",
      "---------------------------------------------\n",
      "  SELECT graph_4_c1.\"node1\", graph_4_c1.\"label\", graph_4_c1.\"node2\", graph_4_c1.\"id\"\n",
      "     FROM graph_4 AS graph_4_c1\n",
      "     WHERE graph_4_c1.\"label\"=?\n",
      "     AND (kgtk_lqstring_lang_suffix(graph_4_c1.\"node2\") = ?)\n",
      "  PARAS: ['description', 'it']\n",
      "---------------------------------------------\n",
      "[2021-03-02 00:03:22 query]: SQL Translation:\n",
      "---------------------------------------------\n",
      "  SELECT graph_4_c1.\"node1\", graph_4_c1.\"label\", graph_4_c1.\"node2\", graph_4_c1.\"id\"\n",
      "     FROM graph_4 AS graph_4_c1\n",
      "     WHERE graph_4_c1.\"label\"=?\n",
      "     AND (kgtk_lqstring_lang_suffix(graph_4_c1.\"node2\") = ?)\n",
      "  PARAS: ['description', 'nl']\n",
      "---------------------------------------------\n",
      "[2021-03-02 00:51:52 query]: SQL Translation:\n",
      "---------------------------------------------\n",
      "  SELECT graph_4_c1.\"node1\", graph_4_c1.\"label\", graph_4_c1.\"node2\", graph_4_c1.\"id\"\n",
      "     FROM graph_4 AS graph_4_c1\n",
      "     WHERE graph_4_c1.\"label\"=?\n",
      "     AND (kgtk_lqstring_lang_suffix(graph_4_c1.\"node2\") = ?)\n",
      "  PARAS: ['description', 'pl']\n",
      "---------------------------------------------\n",
      "[2021-03-02 01:35:20 query]: SQL Translation:\n",
      "---------------------------------------------\n",
      "  SELECT graph_4_c1.\"node1\", graph_4_c1.\"label\", graph_4_c1.\"node2\", graph_4_c1.\"id\"\n",
      "     FROM graph_4 AS graph_4_c1\n",
      "     WHERE graph_4_c1.\"label\"=?\n",
      "     AND (kgtk_lqstring_lang_suffix(graph_4_c1.\"node2\") = ?)\n",
      "  PARAS: ['description', 'fr']\n",
      "---------------------------------------------\n",
      "[2021-03-02 02:21:06 query]: SQL Translation:\n",
      "---------------------------------------------\n",
      "  SELECT graph_4_c1.\"node1\", graph_4_c1.\"label\", graph_4_c1.\"node2\", graph_4_c1.\"id\"\n",
      "     FROM graph_4 AS graph_4_c1\n",
      "     WHERE graph_4_c1.\"label\"=?\n",
      "     AND (kgtk_lqstring_lang_suffix(graph_4_c1.\"node2\") = ?)\n",
      "  PARAS: ['description', 'pt']\n",
      "---------------------------------------------\n",
      "[2021-03-02 03:05:45 query]: SQL Translation:\n",
      "---------------------------------------------\n",
      "  SELECT graph_4_c1.\"node1\", graph_4_c1.\"label\", graph_4_c1.\"node2\", graph_4_c1.\"id\"\n",
      "     FROM graph_4 AS graph_4_c1\n",
      "     WHERE graph_4_c1.\"label\"=?\n",
      "     AND (kgtk_lqstring_lang_suffix(graph_4_c1.\"node2\") = ?)\n",
      "  PARAS: ['description', 'sv']\n",
      "---------------------------------------------\n"
     ]
    }
   ],
   "source": [
    "for lang in languages:\n",
    "    cmd = f\"kgtk --debug query --graph-cache {os.environ['STORE']} -i {wiki_root_folder}/{description_all} -o {output_path}/{output_folder}/descriptions.{lang}.tsv.gz --match '(n1)-[l:description]->(n2)' --where 'n2.kgtk_lqstring_lang_suffix = \\\"{lang}\\\"' --return 'n1, l.label, n2, l.id' \"\n",
    "    !{cmd}"
   ]
  },
  {
   "cell_type": "markdown",
   "metadata": {},
   "source": [
    "### Create the P31 and P279 files"
   ]
  },
  {
   "cell_type": "markdown",
   "metadata": {},
   "source": [
    "Create the `P31` file"
   ]
  },
  {
   "cell_type": "code",
   "execution_count": 24,
   "metadata": {},
   "outputs": [
    {
     "name": "stdout",
     "output_type": "stream",
     "text": [
      "[2021-03-02 03:49:07 query]: SQL Translation:\n",
      "---------------------------------------------\n",
      "  SELECT graph_1_c1.\"id\", graph_1_c1.\"node1\", graph_1_c1.\"label\", graph_1_c1.\"node2\"\n",
      "     FROM graph_1 AS graph_1_c1\n",
      "     WHERE graph_1_c1.\"label\"=?\n",
      "  PARAS: ['P31']\n",
      "---------------------------------------------\n"
     ]
    }
   ],
   "source": [
    "!$kypher -i \"$CLAIMS\" -o $OUT/derived.P31.tsv.gz \\\n",
    "--match '(n1)-[l:P31]->(n2)' \\\n",
    "--return 'l, n1, l.label, n2' "
   ]
  },
  {
   "cell_type": "code",
   "execution_count": 25,
   "metadata": {},
   "outputs": [
    {
     "name": "stdout",
     "output_type": "stream",
     "text": [
      "/bin/bash: gzcat: command not found\n",
      "\n"
     ]
    }
   ],
   "source": [
    "!gzcat $OUT/derived.P31.tsv.gz | head | col"
   ]
  },
  {
   "cell_type": "markdown",
   "metadata": {},
   "source": [
    "Create the P279 file"
   ]
  },
  {
   "cell_type": "code",
   "execution_count": 26,
   "metadata": {},
   "outputs": [
    {
     "name": "stdout",
     "output_type": "stream",
     "text": [
      "[2021-03-02 04:05:11 query]: SQL Translation:\n",
      "---------------------------------------------\n",
      "  SELECT graph_1_c1.\"id\", graph_1_c1.\"node1\", graph_1_c1.\"label\", graph_1_c1.\"node2\"\n",
      "     FROM graph_1 AS graph_1_c1\n",
      "     WHERE graph_1_c1.\"label\"=?\n",
      "  PARAS: ['P279']\n",
      "---------------------------------------------\n"
     ]
    }
   ],
   "source": [
    "!$kypher -i \"$CLAIMS\" -o $OUT/derived.P279.tsv.gz \\\n",
    "    --match '(n1)-[l:P279]->(n2)' \\\n",
    "    --return 'l, n1, l.label, n2' "
   ]
  },
  {
   "cell_type": "markdown",
   "metadata": {},
   "source": [
    "### Create the file that contains all nodes reachable via P279 starting from a node2 in P31 or a node1 in P279"
   ]
  },
  {
   "cell_type": "markdown",
   "metadata": {},
   "source": [
    "First compute the roots"
   ]
  },
  {
   "cell_type": "code",
   "execution_count": 27,
   "metadata": {},
   "outputs": [
    {
     "name": "stdout",
     "output_type": "stream",
     "text": [
      "[2021-03-02 04:06:27 sqlstore]: IMPORT graph directly into table graph_5 from /data/amandeep/wikidata-20210215/useful_wikidata_files/derived.P279.tsv.gz ...\n",
      "[2021-03-02 04:06:31 query]: SQL Translation:\n",
      "---------------------------------------------\n",
      "  SELECT graph_5_c1.\"node1\" \"_aLias.id\"\n",
      "     FROM graph_5 AS graph_5_c1\n",
      "  PARAS: []\n",
      "---------------------------------------------\n"
     ]
    }
   ],
   "source": [
    "!$kypher -i $OUT/derived.P279.tsv.gz -o $TEMP/P279.n1.tsv.gz \\\n",
    "--match '(n1)-[l]->()' \\\n",
    "--return 'n1 as id' "
   ]
  },
  {
   "cell_type": "code",
   "execution_count": 28,
   "metadata": {},
   "outputs": [
    {
     "name": "stdout",
     "output_type": "stream",
     "text": [
      "[2021-03-02 04:06:46 sqlstore]: IMPORT graph directly into table graph_6 from /data/amandeep/wikidata-20210215/useful_wikidata_files/derived.P31.tsv.gz ...\n",
      "[2021-03-02 04:08:22 query]: SQL Translation:\n",
      "---------------------------------------------\n",
      "  SELECT graph_6_c1.\"node2\" \"_aLias.id\"\n",
      "     FROM graph_6 AS graph_6_c1\n",
      "  PARAS: []\n",
      "---------------------------------------------\n"
     ]
    }
   ],
   "source": [
    "!$kypher -i $OUT/derived.P31.tsv.gz -o $TEMP/P31.n2.tsv.gz \\\n",
    "--match '()-[l]->(n2)' \\\n",
    "--return 'n2 as id' "
   ]
  },
  {
   "cell_type": "code",
   "execution_count": 29,
   "metadata": {},
   "outputs": [],
   "source": [
    "!$kgtk cat --mode NONE -i $TEMP/P31.n2.tsv.gz $TEMP/P279.n1.tsv.gz \\\n",
    "| gzip > $TEMP/P279.roots.1.tsv.gz"
   ]
  },
  {
   "cell_type": "code",
   "execution_count": 30,
   "metadata": {},
   "outputs": [],
   "source": [
    "!$kgtk sort2 --mode NONE --column id -i $TEMP/P279.roots.1.tsv.gz \\\n",
    "| gzip > $TEMP/P279.roots.2.tsv.gz"
   ]
  },
  {
   "cell_type": "markdown",
   "metadata": {},
   "source": [
    "We have lots of duplicates"
   ]
  },
  {
   "cell_type": "code",
   "execution_count": 31,
   "metadata": {},
   "outputs": [
    {
     "name": "stdout",
     "output_type": "stream",
     "text": [
      "id\n",
      "Q100000030\n",
      "Q100000058\n",
      "Q1000017\n",
      "Q1000032\n",
      "Q1000032\n",
      "Q1000039\n",
      "Q100004761\n",
      "Q100004761\n",
      "Q100004761\n",
      "\n",
      "gzip: stdout: Broken pipe\n"
     ]
    }
   ],
   "source": [
    "!zcat < $TEMP/P279.roots.2.tsv.gz | head"
   ]
  },
  {
   "cell_type": "code",
   "execution_count": 47,
   "metadata": {},
   "outputs": [],
   "source": [
    "!$kgtk compact -i $TEMP/P279.roots.2.tsv.gz --mode NONE \\\n",
    "    --presorted \\\n",
    "    --columns id \\\n",
    "    -o $TEMP/P279.roots.tsv"
   ]
  },
  {
   "cell_type": "markdown",
   "metadata": {},
   "source": [
    "Now we can invoke the reachable-nodes command"
   ]
  },
  {
   "cell_type": "code",
   "execution_count": 48,
   "metadata": {},
   "outputs": [],
   "source": [
    "!$kgtk reachable-nodes \\\n",
    "    --rootfile $TEMP/P279.roots.tsv \\\n",
    "    --selflink \\\n",
    "    -i $OUT/derived.P279.tsv.gz \\\n",
    "| gzip > $TEMP/P279.reachable.tsv.gz"
   ]
  },
  {
   "cell_type": "code",
   "execution_count": 49,
   "metadata": {},
   "outputs": [
    {
     "name": "stdout",
     "output_type": "stream",
     "text": [
      "node1\tlabel\tnode2\n",
      "Q100000030\treachable\tQ100000030\n",
      "Q100000030\treachable\tQ14748\n",
      "Q100000030\treachable\tQ14745\n",
      "Q100000030\treachable\tQ1357761\n",
      "Q100000030\treachable\tQ223557\n",
      "Q100000030\treachable\tQ4406616\n",
      "Q100000030\treachable\tQ488383\n",
      "Q100000030\treachable\tQ35120\n",
      "\n",
      "gzip: Q100000030\treachable\tQ2424752\n",
      "stdout: Broken pipe\n"
     ]
    }
   ],
   "source": [
    "!zcat < $TEMP/P279.reachable.tsv.gz | head | col"
   ]
  },
  {
   "cell_type": "markdown",
   "metadata": {},
   "source": [
    "The reachable-nodes command produces edges labeled `reachable`, so we need one command to rename them."
   ]
  },
  {
   "cell_type": "code",
   "execution_count": 50,
   "metadata": {},
   "outputs": [
    {
     "name": "stdout",
     "output_type": "stream",
     "text": [
      "[2021-03-02 09:28:05 sqlstore]: IMPORT graph directly into table graph_7 from /data/amandeep/wikidata-20210215/temp.useful_wikidata_files/P279.reachable.tsv.gz ...\n",
      "[2021-03-02 09:29:11 query]: SQL Translation:\n",
      "---------------------------------------------\n",
      "  SELECT graph_7_c1.\"node1\", ? \"_aLias.label\", graph_7_c1.\"node2\" \"_aLias.node2\"\n",
      "     FROM graph_7 AS graph_7_c1\n",
      "  PARAS: ['P279star']\n",
      "---------------------------------------------\n"
     ]
    }
   ],
   "source": [
    "!$kypher -i $TEMP/P279.reachable.tsv.gz -o $TEMP/P279star.1.tsv.gz \\\n",
    "--match '(n1)-[]->(n2)' \\\n",
    "--return 'n1, \"P279star\" as label, n2 as node2' "
   ]
  },
  {
   "cell_type": "markdown",
   "metadata": {},
   "source": [
    "Now we can concatenate these files to produce the final output"
   ]
  },
  {
   "cell_type": "code",
   "execution_count": 51,
   "metadata": {},
   "outputs": [],
   "source": [
    "!$kgtk sort2 -i $TEMP/P279star.1.tsv.gz -o $TEMP/P279star.2.tsv.gz"
   ]
  },
  {
   "cell_type": "markdown",
   "metadata": {},
   "source": [
    "Make sure there are no duplicates"
   ]
  },
  {
   "cell_type": "code",
   "execution_count": 52,
   "metadata": {},
   "outputs": [],
   "source": [
    "!$kgtk compact --presorted -i $TEMP/P279star.2.tsv.gz -o $TEMP/P279star.3.tsv.gz"
   ]
  },
  {
   "cell_type": "markdown",
   "metadata": {},
   "source": [
    "Add ids"
   ]
  },
  {
   "cell_type": "code",
   "execution_count": 62,
   "metadata": {},
   "outputs": [],
   "source": [
    "!$kgtk add-id --id-style node1-label-node2-num -i $TEMP/P279star.3.tsv.gz -o $OUT/derived.P279star.tsv.gz"
   ]
  },
  {
   "cell_type": "code",
   "execution_count": 63,
   "metadata": {},
   "outputs": [
    {
     "name": "stdout",
     "output_type": "stream",
     "text": [
      "node1\tlabel\tnode2\tid\n",
      "\n",
      "gzip: Q100000030\tP279star\tQ100000030\tQ100000030-P279star-Q100000030-0000\n",
      "stdout: Broken pipe\n",
      "Q100000030\tP279star\tQ1357761\tQ100000030-P279star-Q1357761-0000\n",
      "Q100000030\tP279star\tQ14745\tQ100000030-P279star-Q14745-0000\n",
      "Q100000030\tP279star\tQ14748\tQ100000030-P279star-Q14748-0000\n",
      "Q100000030\tP279star\tQ15401930\tQ100000030-P279star-Q15401930-0000\n",
      "Q100000030\tP279star\tQ15621286\tQ100000030-P279star-Q15621286-0000\n",
      "Q100000030\tP279star\tQ16686448\tQ100000030-P279star-Q16686448-0000\n",
      "Q100000030\tP279star\tQ17537576\tQ100000030-P279star-Q17537576-0000\n",
      "Q100000030\tP279star\tQ223557 Q100000030-P279star-Q223557-0000\n"
     ]
    }
   ],
   "source": [
    "!zcat < $OUT/derived.P279star.tsv.gz | head | col"
   ]
  },
  {
   "cell_type": "markdown",
   "metadata": {},
   "source": [
    "This is how we would do the typical `?item P31/P279* ?class` in Kypher. \n",
    "The example shows how to get all the counts of instances of subclasses of city (Q515)."
   ]
  },
  {
   "cell_type": "code",
   "execution_count": 64,
   "metadata": {},
   "outputs": [
    {
     "name": "stdout",
     "output_type": "stream",
     "text": [
      "[2021-03-02 11:13:34 sqlstore]: IMPORT graph directly into table graph_8 from /data/amandeep/wikidata-20210215/useful_wikidata_files/derived.P279star.tsv.gz ...\n",
      "[2021-03-02 11:15:10 sqlstore]: IMPORT graph directly into table graph_9 from /data/amandeep/wikidata-20210215/labels.en.tsv.gz ...\n",
      "[2021-03-02 11:17:42 query]: SQL Translation:\n",
      "---------------------------------------------\n",
      "  SELECT DISTINCT graph_9_c4.\"node1\" \"_aLias.class\", count(graph_9_c4.\"node1\") \"_aLias.count\", graph_9_c4.\"node2\" \"_aLias.class name\", graph_9_c3.\"node1\" \"_aLias.instance\", graph_9_c3.\"node2\" \"_aLias.label\"\n",
      "     FROM graph_6 AS graph_6_c1, graph_8 AS graph_8_c2, graph_9 AS graph_9_c3, graph_9 AS graph_9_c4\n",
      "     WHERE graph_6_c1.\"label\"=?\n",
      "     AND graph_8_c2.\"node2\"=?\n",
      "     AND graph_9_c3.\"label\"=?\n",
      "     AND graph_9_c4.\"label\"=?\n",
      "     AND graph_6_c1.\"node1\"=graph_9_c3.\"node1\"\n",
      "     AND graph_6_c1.\"node2\"=graph_8_c2.\"node1\"\n",
      "     AND graph_8_c2.\"node1\"=graph_9_c4.\"node1\"\n",
      "     GROUP BY \"_aLias.class\"\n",
      "     ORDER BY count(graph_9_c4.\"node1\") DESC, graph_9_c4.\"node1\" ASC, graph_9_c3.\"node1\" ASC\n",
      "     LIMIT ?\n",
      "  PARAS: ['P31', 'Q515', 'label', 'label', 10]\n",
      "---------------------------------------------\n",
      "[2021-03-02 11:17:42 sqlstore]: CREATE INDEX on table graph_8 column node1 ...\n",
      "[2021-03-02 11:18:22 sqlstore]: ANALYZE INDEX on table graph_8 column node1 ...\n",
      "[2021-03-02 11:18:28 sqlstore]: CREATE INDEX on table graph_6 column label ...\n",
      "[2021-03-02 11:19:04 sqlstore]: ANALYZE INDEX on table graph_6 column label ...\n",
      "[2021-03-02 11:19:09 sqlstore]: CREATE INDEX on table graph_9 column node1 ...\n",
      "[2021-03-02 11:19:48 sqlstore]: ANALYZE INDEX on table graph_9 column node1 ...\n",
      "[2021-03-02 11:19:53 sqlstore]: CREATE INDEX on table graph_8 column node2 ...\n",
      "[2021-03-02 11:21:07 sqlstore]: ANALYZE INDEX on table graph_8 column node2 ...\n",
      "[2021-03-02 11:21:12 sqlstore]: CREATE INDEX on table graph_9 column label ...\n",
      "[2021-03-02 11:21:46 sqlstore]: ANALYZE INDEX on table graph_9 column label ...\n",
      "[2021-03-02 11:21:51 sqlstore]: CREATE INDEX on table graph_6 column node2 ...\n",
      "[2021-03-02 11:22:56 sqlstore]: ANALYZE INDEX on table graph_6 column node2 ...\n",
      "[2021-03-02 11:23:02 sqlstore]: CREATE INDEX on table graph_6 column node1 ...\n",
      "[2021-03-02 11:23:43 sqlstore]: ANALYZE INDEX on table graph_6 column node1 ...\n",
      "class\tcount\tclass name\tinstance\tlabel\n",
      "Q1093829\t9739\t'city of the United States'@en\tQ100\t'Boston'@en\n",
      "Q515\t7804\t'city'@en\tQ1000143\t'Güigüe'@en\n",
      "Q1549591\t3411\t'big city'@en\tQ100\t'Boston'@en\n",
      "Q918230 3244\t'Roman villa'@en\tQ100349105\t'Colonnacce Roman villa'@en\n",
      "Q42744322\t2086\t'urban municipality of Germany'@en\tQ1017\t'Aachen'@en\n",
      "Q15661340\t1609\t'ancient city'@en\tQ1001370\t'Colossae'@en\n",
      "Q148837 835\t'polis'@en\tQ1001533\t'Lyctus'@en\n",
      "Q494721 709\t'city of Japan'@en\tQ1011145\t'Itoshima'@en\n",
      "Q1637706\t643\t'city with millions of inhabitants'@en\tQ10103\t'Batam'@en\n",
      "Q13539802\t388\t'place with town rights and privileges'@en\tQ100076 'Valkenburg'@en\n"
     ]
    }
   ],
   "source": [
    "if debug:\n",
    "    !$kypher -i $OUT/derived.P31.tsv.gz -i $OUT/derived.P279star.tsv.gz -i \"$LABELS\" \\\n",
    "    --match 'P31: (n1)-[:P31]->(c), P279star: (c)-[]->(:Q515), label: (n1)-[:label]->(label), label: (c)-[:label]->(c_label)' \\\n",
    "    --return 'distinct c as class, count(c) as count, c_label as `class name`, n1 as instance, label as `label`' \\\n",
    "    --order-by 'count(c) desc, c, n1' \\\n",
    "    --limit 10 \\\n",
    "    | col"
   ]
  },
  {
   "cell_type": "markdown",
   "metadata": {},
   "source": [
    "Illustrate that it is indeed `P279*`"
   ]
  },
  {
   "cell_type": "code",
   "execution_count": 65,
   "metadata": {},
   "outputs": [
    {
     "name": "stdout",
     "output_type": "stream",
     "text": [
      "[2021-03-02 11:23:52 query]: SQL Translation:\n",
      "---------------------------------------------\n",
      "  SELECT DISTINCT graph_9_c4.\"node1\" \"_aLias.class\", graph_9_c4.\"node2\" \"_aLias.class name\", graph_9_c3.\"node1\" \"_aLias.instance\", graph_9_c3.\"node2\" \"_aLias.label\"\n",
      "     FROM graph_6 AS graph_6_c1, graph_8 AS graph_8_c2, graph_9 AS graph_9_c3, graph_9 AS graph_9_c4\n",
      "     WHERE graph_6_c1.\"label\"=?\n",
      "     AND graph_8_c2.\"node2\"=?\n",
      "     AND graph_9_c3.\"label\"=?\n",
      "     AND graph_9_c4.\"label\"=?\n",
      "     AND graph_6_c1.\"node1\"=graph_9_c3.\"node1\"\n",
      "     AND graph_6_c1.\"node2\"=graph_8_c2.\"node1\"\n",
      "     AND graph_8_c2.\"node1\"=graph_9_c4.\"node1\"\n",
      "     ORDER BY graph_9_c4.\"node1\" ASC, graph_9_c3.\"node1\" ASC\n",
      "     LIMIT ?\n",
      "  PARAS: ['P31', 'Q63440326', 'label', 'label', 10]\n",
      "---------------------------------------------\n",
      "class\tclass name\tinstance\tlabel\n",
      "Q63440326\t'city of Oregon'@en\tQ1003672\t'Cascade Locks'@en\n",
      "Q63440326\t'city of Oregon'@en\tQ1003826\t'Yamhill'@en\n",
      "Q63440326\t'city of Oregon'@en\tQ1003838\t'La Pine'@en\n",
      "Q63440326\t'city of Oregon'@en\tQ1007028\t'Cottage Grove'@en\n",
      "Q63440326\t'city of Oregon'@en\tQ1012169\t'Mount Vernon'@en\n",
      "Q63440326\t'city of Oregon'@en\tQ1012351\t'Sutherlin'@en\n",
      "Q63440326\t'city of Oregon'@en\tQ1012371\t'Lafayette'@en\n",
      "Q63440326\t'city of Oregon'@en\tQ1022986\t'Paisley'@en\n",
      "Q63440326\t'city of Oregon'@en\tQ1065556\t'Gold Beach'@en\n",
      "Q63440326\t'city of Oregon'@en\tQ1152219\t'Baker City'@en\n"
     ]
    }
   ],
   "source": [
    "if debug:\n",
    "    !$kypher -i $OUT/derived.P31.tsv.gz -i $OUT/derived.P279star.tsv.gz -i \"$LABELS\" \\\n",
    "    --match 'P31: (n1)-[:P31]->(c), P279star: (c)-[]->(:Q63440326), label: (n1)-[:label]->(label), label: (c)-[:label]->(c_label)' \\\n",
    "    --return 'distinct c as class, c_label as `class name`, n1 as instance, label as `label`' \\\n",
    "    --order-by 'c, n1' \\\n",
    "    --limit 10 \\\n",
    "    | col "
   ]
  },
  {
   "cell_type": "markdown",
   "metadata": {},
   "source": [
    "Test that `P279star` is indeed star"
   ]
  },
  {
   "cell_type": "code",
   "execution_count": 66,
   "metadata": {},
   "outputs": [
    {
     "name": "stdout",
     "output_type": "stream",
     "text": [
      "[2021-03-02 11:23:53 query]: SQL Translation:\n",
      "---------------------------------------------\n",
      "  SELECT *\n",
      "     FROM graph_8 AS graph_8_c1\n",
      "     WHERE graph_8_c1.\"label\"=?\n",
      "     AND graph_8_c1.\"node1\"=?\n",
      "     AND graph_8_c1.\"node2\"=?\n",
      "  PARAS: ['P279star', 'Q44', 'Q44']\n",
      "---------------------------------------------\n",
      "[2021-03-02 11:23:53 sqlstore]: CREATE INDEX on table graph_8 column label ...\n",
      "[2021-03-02 11:24:29 sqlstore]: ANALYZE INDEX on table graph_8 column label ...\n",
      "node1\tlabel\tnode2\tid\n",
      "Q44\tP279star\tQ44\tQ44-P279star-Q44-0000\n"
     ]
    }
   ],
   "source": [
    "if debug:\n",
    "    !$kypher -i $OUT/derived.P279star.tsv.gz \\\n",
    "    --match '(n1:Q44)-[:P279star]->(n2:Q44)'"
   ]
  },
  {
   "cell_type": "markdown",
   "metadata": {},
   "source": [
    "### Create a file to do generalized Is-A queries\n",
    "The idea is that `(n1)-[:isa]->(n2)` when `(n1)-[:P31]->(n2)` or `(n1)-[:P279]->(n2)`\n",
    "\n",
    "We do this by concatenating the files and renaming the relation"
   ]
  },
  {
   "cell_type": "code",
   "execution_count": 67,
   "metadata": {},
   "outputs": [],
   "source": [
    "!$kgtk cat -i $OUT/derived.P31.tsv.gz $OUT/derived.P279.tsv.gz \\\n",
    "-o $TEMP/isa.1.tsv.gz"
   ]
  },
  {
   "cell_type": "code",
   "execution_count": 68,
   "metadata": {},
   "outputs": [
    {
     "name": "stdout",
     "output_type": "stream",
     "text": [
      "[2021-03-02 11:32:09 sqlstore]: IMPORT graph directly into table graph_10 from /data/amandeep/wikidata-20210215/temp.useful_wikidata_files/isa.1.tsv.gz ...\n",
      "[2021-03-02 11:33:50 query]: SQL Translation:\n",
      "---------------------------------------------\n",
      "  SELECT graph_10_c1.\"node1\", ? \"_aLias.label\", graph_10_c1.\"node2\"\n",
      "     FROM graph_10 AS graph_10_c1\n",
      "  PARAS: ['isa']\n",
      "---------------------------------------------\n"
     ]
    }
   ],
   "source": [
    "!$kypher -i $TEMP/isa.1.tsv.gz -o $OUT/derived.isa.tsv.gz \\\n",
    "--match '(n1)-[]->(n2)' \\\n",
    "--return 'n1, \"isa\" as label, n2' "
   ]
  },
  {
   "cell_type": "markdown",
   "metadata": {},
   "source": [
    "Example of how to use the `isa` relation"
   ]
  },
  {
   "cell_type": "code",
   "execution_count": 69,
   "metadata": {},
   "outputs": [
    {
     "name": "stdout",
     "output_type": "stream",
     "text": [
      "[2021-03-02 11:39:35 sqlstore]: IMPORT graph directly into table graph_11 from /data/amandeep/wikidata-20210215/useful_wikidata_files/derived.isa.tsv.gz ...\n",
      "[2021-03-02 11:40:39 query]: SQL Translation:\n",
      "---------------------------------------------\n",
      "  SELECT DISTINCT graph_9_c3.\"node1\", graph_11_c1.\"label\", ? \"_aLias.node2\", graph_9_c3.\"node2\" \"_aLias.n1_label\"\n",
      "     FROM graph_11 AS graph_11_c1, graph_8 AS graph_8_c2, graph_9 AS graph_9_c3\n",
      "     WHERE graph_11_c1.\"label\"=?\n",
      "     AND graph_8_c2.\"node2\"=?\n",
      "     AND graph_9_c3.\"label\"=?\n",
      "     AND graph_11_c1.\"node1\"=graph_9_c3.\"node1\"\n",
      "     AND graph_11_c1.\"node2\"=graph_8_c2.\"node1\"\n",
      "     LIMIT ?\n",
      "  PARAS: ['Q44', 'isa', 'Q44', 'label', 10]\n",
      "---------------------------------------------\n",
      "[2021-03-02 11:40:39 sqlstore]: CREATE INDEX on table graph_11 column node2 ...\n",
      "[2021-03-02 11:41:41 sqlstore]: ANALYZE INDEX on table graph_11 column node2 ...\n",
      "[2021-03-02 11:41:46 sqlstore]: CREATE INDEX on table graph_11 column node1 ...\n",
      "[2021-03-02 11:42:24 sqlstore]: ANALYZE INDEX on table graph_11 column node1 ...\n",
      "[2021-03-02 11:42:30 sqlstore]: CREATE INDEX on table graph_11 column label ...\n",
      "[2021-03-02 11:43:03 sqlstore]: ANALYZE INDEX on table graph_11 column label ...\n",
      "node1\tlabel\tnode2\tn1_label\n",
      "Q103351397\tisa\tQ44\t'Milkshake India Pale Ale'@en\n",
      "Q15875298\tisa\tQ44\t'Floreffe'@en\n",
      "Q1917255\tisa\tQ44\t'St-Idesbald'@en\n",
      "Q2004062\tisa\tQ44\t'Sancti Adalberti'@en\n",
      "Q2006077\tisa\tQ44\t'Abbaye de Bonne-Espérance'@en\n",
      "Q2272636\tisa\tQ44\t'Ename beer'@en\n",
      "Q2290730\tisa\tQ44\t'Ter Dolen (beer)'@en\n",
      "Q3625571\tisa\tQ44\t'Herkenrode Tripel'@en\n",
      "Q505815 isa\tQ44\t'Trappist beer'@en\n",
      "Q747216 isa\tQ44\t'Bornem'@en\n"
     ]
    }
   ],
   "source": [
    "!$kypher -i $OUT/derived.isa.tsv.gz -i $OUT/derived.P279star.tsv.gz -i \"$LABELS\" -o - \\\n",
    "--match 'isa: (n1)-[l:isa]->(c), P279star: (c)-[]->(:Q44), label: (n1)-[:label]->(label)' \\\n",
    "--return 'distinct n1, l.label, \"Q44\" as node2, label as n1_label' \\\n",
    "--limit 10 \\\n",
    "| col"
   ]
  },
  {
   "cell_type": "markdown",
   "metadata": {},
   "source": [
    "### Create files with `isa/P279* and P31/P279*` \n",
    "This file is useful to find all nodes that are below a q-node via P279 or isa.\n",
    "\n",
    "> These files are very large and take many hours to compute"
   ]
  },
  {
   "cell_type": "code",
   "execution_count": 75,
   "metadata": {},
   "outputs": [],
   "source": [
    "os.environ['P279STAR'] = f\"{os.environ['OUT']}/derived.P279star.tsv.gz\"\n",
    "os.environ['ISA'] = f\"{os.environ['OUT']}/derived.isa.tsv.gz\""
   ]
  },
  {
   "cell_type": "code",
   "execution_count": 76,
   "metadata": {},
   "outputs": [
    {
     "name": "stdout",
     "output_type": "stream",
     "text": [
      "-rw-r--r-- 1 amandeep root 25910383480 Feb 26 04:59 /data/amandeep/wikidata-20210215/claims.tsv.gz\n",
      "-rw-r--r-- 1 amandeep isdstaff 555040419 Mar  2 11:12 /data/amandeep/wikidata-20210215/useful_wikidata_files/derived.P279star.tsv.gz\n",
      "-rw-r--r-- 1 amandeep isdstaff 301114416 Mar  2 11:39 /data/amandeep/wikidata-20210215/useful_wikidata_files/derived.isa.tsv.gz\n"
     ]
    }
   ],
   "source": [
    "!ls -l $CLAIMS\n",
    "!ls -l $P279STAR\n",
    "!ls -l $ISA"
   ]
  },
  {
   "cell_type": "code",
   "execution_count": 77,
   "metadata": {},
   "outputs": [
    {
     "name": "stdout",
     "output_type": "stream",
     "text": [
      "[2021-03-02 11:48:35 query]: SQL Translation:\n",
      "---------------------------------------------\n",
      "  SELECT DISTINCT graph_11_c1.\"node1\" \"_aLias.node1\", ? \"_aLias.label\", graph_8_c2.\"node2\" \"_aLias.node2\"\n",
      "     FROM graph_11 AS graph_11_c1, graph_8 AS graph_8_c2\n",
      "     WHERE graph_11_c1.\"node2\"=graph_8_c2.\"node1\"\n",
      "  PARAS: ['isa_star']\n",
      "---------------------------------------------\n"
     ]
    }
   ],
   "source": [
    "!$kypher -i \"$P279STAR\" -i \"$ISA\"  \\\n",
    "--match '\\\n",
    "  isa: (n1)-[]->(n2), \\\n",
    "  P279star: (n2)-[]->(n3)' \\\n",
    "--return 'distinct n1 as node1, \"isa_star\" as label, n3 as node2' \\\n",
    "-o \"$TEMP\"/derived.isastar_1.tsv.gz"
   ]
  },
  {
   "cell_type": "markdown",
   "metadata": {},
   "source": [
    "Now add ids and sort it"
   ]
  },
  {
   "cell_type": "code",
   "execution_count": 78,
   "metadata": {},
   "outputs": [],
   "source": [
    "!$kgtk add-id --id-style wikidata -i \"$TEMP\"/derived.isastar_1.tsv.gz \\\n",
    "/ sort2 -o \"$OUT\"/derived.isastar.tsv.gz"
   ]
  },
  {
   "cell_type": "markdown",
   "metadata": {},
   "source": [
    "It is very big"
   ]
  },
  {
   "cell_type": "code",
   "execution_count": 79,
   "metadata": {},
   "outputs": [
    {
     "name": "stdout",
     "output_type": "stream",
     "text": [
      "2617235272 10468941088 145469856635\n"
     ]
    }
   ],
   "source": [
    "if debug:\n",
    "    !zcat < \"$OUT\"/derived.isastar.tsv.gz | wc"
   ]
  },
  {
   "cell_type": "markdown",
   "metadata": {},
   "source": [
    "Also calculate the same file by for P31/P279*"
   ]
  },
  {
   "cell_type": "code",
   "execution_count": 80,
   "metadata": {},
   "outputs": [
    {
     "name": "stdout",
     "output_type": "stream",
     "text": [
      "[2021-03-02 22:51:38 query]: SQL Translation:\n",
      "---------------------------------------------\n",
      "  SELECT DISTINCT graph_1_c1.\"node1\" \"_aLias.node1\", ? \"_aLias.label\", graph_8_c2.\"node2\" \"_aLias.node2\"\n",
      "     FROM graph_1 AS graph_1_c1, graph_8 AS graph_8_c2\n",
      "     WHERE graph_1_c1.\"label\"=?\n",
      "     AND graph_1_c1.\"node2\"=graph_8_c2.\"node1\"\n",
      "  PARAS: ['P31P279star', 'P31']\n",
      "---------------------------------------------\n"
     ]
    }
   ],
   "source": [
    "!$kypher -i \"$CLAIMS\" -i \"$P279STAR\" \\\n",
    "--match '\\\n",
    "  claims: (n1)-[:P31]->(n2), \\\n",
    "  P279star: (n2)-[]->(n3)' \\\n",
    "--return 'distinct n1 as node1, \"P31P279star\" as label, n3 as node2' \\\n",
    "-o \"$TEMP\"/derived.P31P279star.gz"
   ]
  },
  {
   "cell_type": "markdown",
   "metadata": {},
   "source": [
    "Add ids and sort it"
   ]
  },
  {
   "cell_type": "code",
   "execution_count": 81,
   "metadata": {},
   "outputs": [],
   "source": [
    "!$kgtk add-id --id-style wikidata -i \"$TEMP\"/derived.P31P279star.gz \\\n",
    "/ sort2 -o \"$OUT\"/derived.P31P279star.tsv.gz"
   ]
  },
  {
   "cell_type": "markdown",
   "metadata": {},
   "source": [
    "It is also very big"
   ]
  },
  {
   "cell_type": "code",
   "execution_count": 82,
   "metadata": {},
   "outputs": [
    {
     "name": "stdout",
     "output_type": "stream",
     "text": [
      "2593337226 10373348904 159708531569\n"
     ]
    }
   ],
   "source": [
    "if debug:\n",
    "    !zcat < \"$OUT\"/derived.P31P279star.tsv.gz | wc"
   ]
  },
  {
   "cell_type": "markdown",
   "metadata": {},
   "source": [
    "## Compute pagerank"
   ]
  },
  {
   "cell_type": "markdown",
   "metadata": {},
   "source": [
    "Now compute pagerank. These commands will exceed 16GB memory for graphs containing over 25 million nodes."
   ]
  },
  {
   "cell_type": "code",
   "execution_count": 88,
   "metadata": {},
   "outputs": [],
   "source": [
    "if compute_pagerank:\n",
    "    !$kgtk graph-statistics -i \"$ITEMS\" -o $OUT/metadata.pagerank.directed.tsv.gz \\\n",
    "    --page-rank-property directed_pagerank \\\n",
    "    --pagerank --statistics-only \\\n",
    "    --log $TEMP/metadata.pagerank.directed.summary.txt "
   ]
  },
  {
   "cell_type": "code",
   "execution_count": 89,
   "metadata": {},
   "outputs": [
    {
     "name": "stdout",
     "output_type": "stream",
     "text": [
      "graph loaded! It has 90168160 nodes and 527218491 edges\n",
      "\n",
      "###Top relations:\n",
      "P2860\t181975473\n",
      "P31\t94148018\n",
      "P1433\t37049039\n",
      "P50\t20454513\n",
      "P17\t13639526\n",
      "P407\t13632234\n",
      "P921\t12555461\n",
      "P131\t10428633\n",
      "P106\t8273145\n",
      "P6259\t8083472\n",
      "\n",
      "###PageRank\n",
      "Max pageranks\n",
      "3724\tQ4167836\t0.024227\n",
      "38679\tQ13442814\t0.023336\n",
      "7471\tQ1860\t0.007249\n",
      "2306\tQ5\t0.006819\n",
      "966866\tQ35252665\t0.006501\n"
     ]
    }
   ],
   "source": [
    "if compute_pagerank:\n",
    "    !cat $TEMP/metadata.pagerank.directed.summary.txt"
   ]
  },
  {
   "cell_type": "code",
   "execution_count": 90,
   "metadata": {},
   "outputs": [],
   "source": [
    "if compute_pagerank:\n",
    "    !$kgtk graph-statistics -i \"$ITEMS\" -o $OUT/metadata.pagerank.undirected.tsv.gz \\\n",
    "    --page-rank-property undirected_pagerank \\\n",
    "    --pagerank --statistics-only --undirected \\\n",
    "    --log $TEMP/metadata.pagerank.undirected.summary.txt "
   ]
  },
  {
   "cell_type": "code",
   "execution_count": 91,
   "metadata": {},
   "outputs": [
    {
     "name": "stdout",
     "output_type": "stream",
     "text": [
      "graph loaded! It has 90168160 nodes and 527218491 edges\n",
      "\n",
      "###Top relations:\n",
      "P2860\t181975473\n",
      "P31\t94148018\n",
      "P1433\t37049039\n",
      "P50\t20454513\n",
      "P17\t13639526\n",
      "P407\t13632234\n",
      "P921\t12555461\n",
      "P131\t10428633\n",
      "P106\t8273145\n",
      "P6259\t8083472\n",
      "\n",
      "###PageRank\n",
      "Max pageranks\n",
      "38679\tQ13442814\t0.039830\n",
      "118262\tQ1264450\t0.013909\n",
      "3724\tQ4167836\t0.012974\n",
      "2306\tQ5\t0.008969\n",
      "7471\tQ1860\t0.008689\n"
     ]
    }
   ],
   "source": [
    "if compute_pagerank:\n",
    "    !cat $TEMP/metadata.pagerank.undirected.summary.txt "
   ]
  },
  {
   "cell_type": "markdown",
   "metadata": {},
   "source": [
    "## Compute Degrees"
   ]
  },
  {
   "cell_type": "markdown",
   "metadata": {},
   "source": [
    "Kypher can compute the out degree by counting the node2s for each node1"
   ]
  },
  {
   "cell_type": "code",
   "execution_count": 92,
   "metadata": {},
   "outputs": [
    {
     "name": "stdout",
     "output_type": "stream",
     "text": [
      "[2021-03-03 14:42:51 query]: SQL Translation:\n",
      "---------------------------------------------\n",
      "  SELECT DISTINCT graph_1_c1.\"node1\" \"_aLias.node1\", count(DISTINCT graph_1_c1.\"id\") \"_aLias.node2\", ? \"_aLias.label\"\n",
      "     FROM graph_1 AS graph_1_c1\n",
      "     GROUP BY \"_aLias.node1\"\n",
      "  PARAS: ['out_degree']\n",
      "---------------------------------------------\n"
     ]
    }
   ],
   "source": [
    "!$kypher -i \"$CLAIMS\" -o $TEMP/metadata.out_degree.tsv.gz \\\n",
    "--match '(n1)-[l]->()' \\\n",
    "--return 'distinct n1 as node1, count(distinct l) as node2, \"out_degree\" as label' "
   ]
  },
  {
   "cell_type": "code",
   "execution_count": 105,
   "metadata": {},
   "outputs": [],
   "source": [
    "!$kgtk add-id --id-style wikidata -i $TEMP/metadata.out_degree.tsv.gz \\\n",
    "/ sort2 -o $OUT/metadata.out_degree.tsv.gz"
   ]
  },
  {
   "cell_type": "markdown",
   "metadata": {},
   "source": [
    "To count the in-degree we only care when the node2 is a wikibase-item"
   ]
  },
  {
   "cell_type": "code",
   "execution_count": 94,
   "metadata": {},
   "outputs": [
    {
     "name": "stdout",
     "output_type": "stream",
     "text": [
      "[2021-03-03 15:20:22 query]: SQL Translation:\n",
      "---------------------------------------------\n",
      "  SELECT DISTINCT graph_1_c1.\"node2\" \"_aLias.node1\", count(DISTINCT graph_1_c1.\"id\") \"_aLias.node2\", ? \"_aLias.label\"\n",
      "     FROM graph_1 AS graph_1_c1\n",
      "     WHERE graph_1_c1.\"node2;wikidatatype\"=?\n",
      "     GROUP BY \"_aLias.node1\"\n",
      "     ORDER BY graph_1_c1.\"node2\" ASC\n",
      "  PARAS: ['in_degree', 'wikibase-item']\n",
      "---------------------------------------------\n"
     ]
    }
   ],
   "source": [
    "# BUG in kypher, sometimes the following command will not work, as in we'll see multilple rows for a Qnode, which is\n",
    "# fixable by deleting cache\n",
    "!$kypher -i \"$CLAIMS\" -o $TEMP/metadata.in_degree.tsv.gz \\\n",
    "--match '()-[l]->(n2 {`wikidatatype`:\"wikibase-item\"})' \\\n",
    "--return 'distinct n2 as node1, count(distinct l) as node2, \"in_degree\" as label' \\\n",
    "--order-by 'n2'"
   ]
  },
  {
   "cell_type": "code",
   "execution_count": 106,
   "metadata": {},
   "outputs": [],
   "source": [
    "!$kgtk add-id --id-style wikidata -i $TEMP/metadata.in_degree.tsv.gz \\\n",
    "/ sort2 -o $OUT/metadata.in_degree.tsv.gz"
   ]
  },
  {
   "cell_type": "code",
   "execution_count": 97,
   "metadata": {},
   "outputs": [
    {
     "name": "stdout",
     "output_type": "stream",
     "text": [
      "node1\tnode2\tlabel\tid\n",
      "Q1\t82\tin_degree\tQ1-in_degree-82-0000\n",
      "Q100\t12349\tin_degree\tQ100-in_degree-12349-0000\n",
      "\n",
      "gzip: Q1000\t6529\tin_degree\tQ1000-in_degree-6529-0000\n",
      "stdout: Broken pipe\n",
      "Q100000 124\tin_degree\tQ100000-in_degree-124-0000\n",
      "Q10000000\t1\tin_degree\tQ10000000-in_degree-1-0000\n",
      "Q100000001\t3\tin_degree\tQ100000001-in_degree-3-0000\n",
      "Q10000002\t1\tin_degree\tQ10000002-in_degree-1-0000\n",
      "Q100000040\t1\tin_degree\tQ100000040-in_degree-1-0000\n",
      "Q10000005\t1\tin_degree\tQ10000005-in_degree-1-0000\n"
     ]
    }
   ],
   "source": [
    "!zcat < $OUT/metadata.in_degree.tsv.gz | head | col"
   ]
  },
  {
   "cell_type": "markdown",
   "metadata": {},
   "source": [
    "Calculate the distribution so we can make a nice chart"
   ]
  },
  {
   "cell_type": "code",
   "execution_count": 98,
   "metadata": {},
   "outputs": [
    {
     "name": "stdout",
     "output_type": "stream",
     "text": [
      "[2021-03-03 16:43:34 sqlstore]: IMPORT graph directly into table graph_12 from /data/amandeep/wikidata-20210215/useful_wikidata_files/metadata.in_degree.tsv.gz ...\n",
      "[2021-03-03 16:44:08 query]: SQL Translation:\n",
      "---------------------------------------------\n",
      "  SELECT DISTINCT graph_12_c1.\"node2\" \"_aLias.in_degree\", count(DISTINCT graph_12_c1.\"node1\") \"_aLias.count\", ? \"_aLias.label\"\n",
      "     FROM graph_12 AS graph_12_c1\n",
      "     GROUP BY \"_aLias.in_degree\"\n",
      "     ORDER BY CAST(graph_12_c1.\"node2\" AS integer) ASC\n",
      "  PARAS: ['count']\n",
      "---------------------------------------------\n"
     ]
    }
   ],
   "source": [
    "!$kypher -i $OUT/metadata.in_degree.tsv.gz -o $OUT/statistics.in_degree.distribution.tsv \\\n",
    "--match '(n1)-[]->(n2)' \\\n",
    "--return 'distinct n2 as in_degree, count(distinct n1) as count, \"count\" as label' \\\n",
    "--order-by 'cast(n2, integer)' "
   ]
  },
  {
   "cell_type": "code",
   "execution_count": 107,
   "metadata": {},
   "outputs": [
    {
     "name": "stdout",
     "output_type": "stream",
     "text": [
      "in_degree\tcount\tlabel\n",
      "1\t10695755\tcount\n",
      "2\t4087073 count\n",
      "3\t2203179 count\n",
      "4\t1458671 count\n",
      "5\t1119862 count\n",
      "6\t876990\tcount\n",
      "7\t724348\tcount\n",
      "8\t587460\tcount\n",
      "9\t500293\tcount\n"
     ]
    }
   ],
   "source": [
    "!head $OUT/statistics.in_degree.distribution.tsv | col"
   ]
  },
  {
   "cell_type": "code",
   "execution_count": 100,
   "metadata": {},
   "outputs": [
    {
     "name": "stdout",
     "output_type": "stream",
     "text": [
      "[2021-03-03 16:44:51 sqlstore]: IMPORT graph directly into table graph_13 from /data/amandeep/wikidata-20210215/useful_wikidata_files/metadata.out_degree.tsv.gz ...\n",
      "[2021-03-03 16:46:37 query]: SQL Translation:\n",
      "---------------------------------------------\n",
      "  SELECT DISTINCT graph_13_c1.\"node2\" \"_aLias.out_degree\", count(DISTINCT graph_13_c1.\"node1\") \"_aLias.count\", ? \"_aLias.label\"\n",
      "     FROM graph_13 AS graph_13_c1\n",
      "     GROUP BY \"_aLias.out_degree\"\n",
      "     ORDER BY CAST(graph_13_c1.\"node2\" AS integer) ASC\n",
      "  PARAS: ['count']\n",
      "---------------------------------------------\n"
     ]
    }
   ],
   "source": [
    "!$kypher -i $OUT/metadata.out_degree.tsv.gz -o $OUT/statistics.out_degree.distribution.tsv \\\n",
    "--match '(n1)-[]->(n2)' \\\n",
    "--return 'distinct n2 as out_degree, count(distinct n1) as count, \"count\" as label' \\\n",
    "--order-by 'cast(n2, integer)' "
   ]
  },
  {
   "cell_type": "markdown",
   "metadata": {},
   "source": [
    "Draw some charts"
   ]
  },
  {
   "cell_type": "code",
   "execution_count": 101,
   "metadata": {},
   "outputs": [
    {
     "ename": "MaxRowsError",
     "evalue": "The number of rows in your dataset is greater than the maximum allowed (5000). For information on how to plot larger datasets in Altair, see the documentation",
     "output_type": "error",
     "traceback": [
      "\u001b[0;31m---------------------------------------------------------------------------\u001b[0m",
      "\u001b[0;31mMaxRowsError\u001b[0m                              Traceback (most recent call last)",
      "\u001b[0;32m/opt/miniconda3/envs/kgtk-env/lib/python3.7/site-packages/altair/vegalite/v4/api.py\u001b[0m in \u001b[0;36mto_dict\u001b[0;34m(self, *args, **kwargs)\u001b[0m\n\u001b[1;32m    361\u001b[0m         \u001b[0mcopy\u001b[0m \u001b[0;34m=\u001b[0m \u001b[0mself\u001b[0m\u001b[0;34m.\u001b[0m\u001b[0mcopy\u001b[0m\u001b[0;34m(\u001b[0m\u001b[0mdeep\u001b[0m\u001b[0;34m=\u001b[0m\u001b[0;32mFalse\u001b[0m\u001b[0;34m)\u001b[0m\u001b[0;34m\u001b[0m\u001b[0;34m\u001b[0m\u001b[0m\n\u001b[1;32m    362\u001b[0m         \u001b[0moriginal_data\u001b[0m \u001b[0;34m=\u001b[0m \u001b[0mgetattr\u001b[0m\u001b[0;34m(\u001b[0m\u001b[0mcopy\u001b[0m\u001b[0;34m,\u001b[0m \u001b[0;34m\"data\"\u001b[0m\u001b[0;34m,\u001b[0m \u001b[0mUndefined\u001b[0m\u001b[0;34m)\u001b[0m\u001b[0;34m\u001b[0m\u001b[0;34m\u001b[0m\u001b[0m\n\u001b[0;32m--> 363\u001b[0;31m         \u001b[0mcopy\u001b[0m\u001b[0;34m.\u001b[0m\u001b[0mdata\u001b[0m \u001b[0;34m=\u001b[0m \u001b[0m_prepare_data\u001b[0m\u001b[0;34m(\u001b[0m\u001b[0moriginal_data\u001b[0m\u001b[0;34m,\u001b[0m \u001b[0mcontext\u001b[0m\u001b[0;34m)\u001b[0m\u001b[0;34m\u001b[0m\u001b[0;34m\u001b[0m\u001b[0m\n\u001b[0m\u001b[1;32m    364\u001b[0m \u001b[0;34m\u001b[0m\u001b[0m\n\u001b[1;32m    365\u001b[0m         \u001b[0;32mif\u001b[0m \u001b[0moriginal_data\u001b[0m \u001b[0;32mis\u001b[0m \u001b[0;32mnot\u001b[0m \u001b[0mUndefined\u001b[0m\u001b[0;34m:\u001b[0m\u001b[0;34m\u001b[0m\u001b[0;34m\u001b[0m\u001b[0m\n",
      "\u001b[0;32m/opt/miniconda3/envs/kgtk-env/lib/python3.7/site-packages/altair/vegalite/v4/api.py\u001b[0m in \u001b[0;36m_prepare_data\u001b[0;34m(data, context)\u001b[0m\n\u001b[1;32m     82\u001b[0m     \u001b[0;31m# convert dataframes  or objects with __geo_interface__ to dict\u001b[0m\u001b[0;34m\u001b[0m\u001b[0;34m\u001b[0m\u001b[0;34m\u001b[0m\u001b[0m\n\u001b[1;32m     83\u001b[0m     \u001b[0;32mif\u001b[0m \u001b[0misinstance\u001b[0m\u001b[0;34m(\u001b[0m\u001b[0mdata\u001b[0m\u001b[0;34m,\u001b[0m \u001b[0mpd\u001b[0m\u001b[0;34m.\u001b[0m\u001b[0mDataFrame\u001b[0m\u001b[0;34m)\u001b[0m \u001b[0;32mor\u001b[0m \u001b[0mhasattr\u001b[0m\u001b[0;34m(\u001b[0m\u001b[0mdata\u001b[0m\u001b[0;34m,\u001b[0m \u001b[0;34m\"__geo_interface__\"\u001b[0m\u001b[0;34m)\u001b[0m\u001b[0;34m:\u001b[0m\u001b[0;34m\u001b[0m\u001b[0;34m\u001b[0m\u001b[0m\n\u001b[0;32m---> 84\u001b[0;31m         \u001b[0mdata\u001b[0m \u001b[0;34m=\u001b[0m \u001b[0m_pipe\u001b[0m\u001b[0;34m(\u001b[0m\u001b[0mdata\u001b[0m\u001b[0;34m,\u001b[0m \u001b[0mdata_transformers\u001b[0m\u001b[0;34m.\u001b[0m\u001b[0mget\u001b[0m\u001b[0;34m(\u001b[0m\u001b[0;34m)\u001b[0m\u001b[0;34m)\u001b[0m\u001b[0;34m\u001b[0m\u001b[0;34m\u001b[0m\u001b[0m\n\u001b[0m\u001b[1;32m     85\u001b[0m \u001b[0;34m\u001b[0m\u001b[0m\n\u001b[1;32m     86\u001b[0m     \u001b[0;31m# convert string input to a URLData\u001b[0m\u001b[0;34m\u001b[0m\u001b[0;34m\u001b[0m\u001b[0;34m\u001b[0m\u001b[0m\n",
      "\u001b[0;32m/opt/miniconda3/envs/kgtk-env/lib/python3.7/site-packages/toolz/functoolz.py\u001b[0m in \u001b[0;36mpipe\u001b[0;34m(data, *funcs)\u001b[0m\n\u001b[1;32m    625\u001b[0m     \"\"\"\n\u001b[1;32m    626\u001b[0m     \u001b[0;32mfor\u001b[0m \u001b[0mfunc\u001b[0m \u001b[0;32min\u001b[0m \u001b[0mfuncs\u001b[0m\u001b[0;34m:\u001b[0m\u001b[0;34m\u001b[0m\u001b[0;34m\u001b[0m\u001b[0m\n\u001b[0;32m--> 627\u001b[0;31m         \u001b[0mdata\u001b[0m \u001b[0;34m=\u001b[0m \u001b[0mfunc\u001b[0m\u001b[0;34m(\u001b[0m\u001b[0mdata\u001b[0m\u001b[0;34m)\u001b[0m\u001b[0;34m\u001b[0m\u001b[0;34m\u001b[0m\u001b[0m\n\u001b[0m\u001b[1;32m    628\u001b[0m     \u001b[0;32mreturn\u001b[0m \u001b[0mdata\u001b[0m\u001b[0;34m\u001b[0m\u001b[0;34m\u001b[0m\u001b[0m\n\u001b[1;32m    629\u001b[0m \u001b[0;34m\u001b[0m\u001b[0m\n",
      "\u001b[0;32m/opt/miniconda3/envs/kgtk-env/lib/python3.7/site-packages/toolz/functoolz.py\u001b[0m in \u001b[0;36m__call__\u001b[0;34m(self, *args, **kwargs)\u001b[0m\n\u001b[1;32m    301\u001b[0m     \u001b[0;32mdef\u001b[0m \u001b[0m__call__\u001b[0m\u001b[0;34m(\u001b[0m\u001b[0mself\u001b[0m\u001b[0;34m,\u001b[0m \u001b[0;34m*\u001b[0m\u001b[0margs\u001b[0m\u001b[0;34m,\u001b[0m \u001b[0;34m**\u001b[0m\u001b[0mkwargs\u001b[0m\u001b[0;34m)\u001b[0m\u001b[0;34m:\u001b[0m\u001b[0;34m\u001b[0m\u001b[0;34m\u001b[0m\u001b[0m\n\u001b[1;32m    302\u001b[0m         \u001b[0;32mtry\u001b[0m\u001b[0;34m:\u001b[0m\u001b[0;34m\u001b[0m\u001b[0;34m\u001b[0m\u001b[0m\n\u001b[0;32m--> 303\u001b[0;31m             \u001b[0;32mreturn\u001b[0m \u001b[0mself\u001b[0m\u001b[0;34m.\u001b[0m\u001b[0m_partial\u001b[0m\u001b[0;34m(\u001b[0m\u001b[0;34m*\u001b[0m\u001b[0margs\u001b[0m\u001b[0;34m,\u001b[0m \u001b[0;34m**\u001b[0m\u001b[0mkwargs\u001b[0m\u001b[0;34m)\u001b[0m\u001b[0;34m\u001b[0m\u001b[0;34m\u001b[0m\u001b[0m\n\u001b[0m\u001b[1;32m    304\u001b[0m         \u001b[0;32mexcept\u001b[0m \u001b[0mTypeError\u001b[0m \u001b[0;32mas\u001b[0m \u001b[0mexc\u001b[0m\u001b[0;34m:\u001b[0m\u001b[0;34m\u001b[0m\u001b[0;34m\u001b[0m\u001b[0m\n\u001b[1;32m    305\u001b[0m             \u001b[0;32mif\u001b[0m \u001b[0mself\u001b[0m\u001b[0;34m.\u001b[0m\u001b[0m_should_curry\u001b[0m\u001b[0;34m(\u001b[0m\u001b[0margs\u001b[0m\u001b[0;34m,\u001b[0m \u001b[0mkwargs\u001b[0m\u001b[0;34m,\u001b[0m \u001b[0mexc\u001b[0m\u001b[0;34m)\u001b[0m\u001b[0;34m:\u001b[0m\u001b[0;34m\u001b[0m\u001b[0;34m\u001b[0m\u001b[0m\n",
      "\u001b[0;32m/opt/miniconda3/envs/kgtk-env/lib/python3.7/site-packages/altair/vegalite/data.py\u001b[0m in \u001b[0;36mdefault_data_transformer\u001b[0;34m(data, max_rows)\u001b[0m\n\u001b[1;32m     17\u001b[0m \u001b[0;34m@\u001b[0m\u001b[0mcurried\u001b[0m\u001b[0;34m.\u001b[0m\u001b[0mcurry\u001b[0m\u001b[0;34m\u001b[0m\u001b[0;34m\u001b[0m\u001b[0m\n\u001b[1;32m     18\u001b[0m \u001b[0;32mdef\u001b[0m \u001b[0mdefault_data_transformer\u001b[0m\u001b[0;34m(\u001b[0m\u001b[0mdata\u001b[0m\u001b[0;34m,\u001b[0m \u001b[0mmax_rows\u001b[0m\u001b[0;34m=\u001b[0m\u001b[0;36m5000\u001b[0m\u001b[0;34m)\u001b[0m\u001b[0;34m:\u001b[0m\u001b[0;34m\u001b[0m\u001b[0;34m\u001b[0m\u001b[0m\n\u001b[0;32m---> 19\u001b[0;31m     \u001b[0;32mreturn\u001b[0m \u001b[0mcurried\u001b[0m\u001b[0;34m.\u001b[0m\u001b[0mpipe\u001b[0m\u001b[0;34m(\u001b[0m\u001b[0mdata\u001b[0m\u001b[0;34m,\u001b[0m \u001b[0mlimit_rows\u001b[0m\u001b[0;34m(\u001b[0m\u001b[0mmax_rows\u001b[0m\u001b[0;34m=\u001b[0m\u001b[0mmax_rows\u001b[0m\u001b[0;34m)\u001b[0m\u001b[0;34m,\u001b[0m \u001b[0mto_values\u001b[0m\u001b[0;34m)\u001b[0m\u001b[0;34m\u001b[0m\u001b[0;34m\u001b[0m\u001b[0m\n\u001b[0m\u001b[1;32m     20\u001b[0m \u001b[0;34m\u001b[0m\u001b[0m\n\u001b[1;32m     21\u001b[0m \u001b[0;34m\u001b[0m\u001b[0m\n",
      "\u001b[0;32m/opt/miniconda3/envs/kgtk-env/lib/python3.7/site-packages/toolz/functoolz.py\u001b[0m in \u001b[0;36mpipe\u001b[0;34m(data, *funcs)\u001b[0m\n\u001b[1;32m    625\u001b[0m     \"\"\"\n\u001b[1;32m    626\u001b[0m     \u001b[0;32mfor\u001b[0m \u001b[0mfunc\u001b[0m \u001b[0;32min\u001b[0m \u001b[0mfuncs\u001b[0m\u001b[0;34m:\u001b[0m\u001b[0;34m\u001b[0m\u001b[0;34m\u001b[0m\u001b[0m\n\u001b[0;32m--> 627\u001b[0;31m         \u001b[0mdata\u001b[0m \u001b[0;34m=\u001b[0m \u001b[0mfunc\u001b[0m\u001b[0;34m(\u001b[0m\u001b[0mdata\u001b[0m\u001b[0;34m)\u001b[0m\u001b[0;34m\u001b[0m\u001b[0;34m\u001b[0m\u001b[0m\n\u001b[0m\u001b[1;32m    628\u001b[0m     \u001b[0;32mreturn\u001b[0m \u001b[0mdata\u001b[0m\u001b[0;34m\u001b[0m\u001b[0;34m\u001b[0m\u001b[0m\n\u001b[1;32m    629\u001b[0m \u001b[0;34m\u001b[0m\u001b[0m\n",
      "\u001b[0;32m/opt/miniconda3/envs/kgtk-env/lib/python3.7/site-packages/toolz/functoolz.py\u001b[0m in \u001b[0;36m__call__\u001b[0;34m(self, *args, **kwargs)\u001b[0m\n\u001b[1;32m    301\u001b[0m     \u001b[0;32mdef\u001b[0m \u001b[0m__call__\u001b[0m\u001b[0;34m(\u001b[0m\u001b[0mself\u001b[0m\u001b[0;34m,\u001b[0m \u001b[0;34m*\u001b[0m\u001b[0margs\u001b[0m\u001b[0;34m,\u001b[0m \u001b[0;34m**\u001b[0m\u001b[0mkwargs\u001b[0m\u001b[0;34m)\u001b[0m\u001b[0;34m:\u001b[0m\u001b[0;34m\u001b[0m\u001b[0;34m\u001b[0m\u001b[0m\n\u001b[1;32m    302\u001b[0m         \u001b[0;32mtry\u001b[0m\u001b[0;34m:\u001b[0m\u001b[0;34m\u001b[0m\u001b[0;34m\u001b[0m\u001b[0m\n\u001b[0;32m--> 303\u001b[0;31m             \u001b[0;32mreturn\u001b[0m \u001b[0mself\u001b[0m\u001b[0;34m.\u001b[0m\u001b[0m_partial\u001b[0m\u001b[0;34m(\u001b[0m\u001b[0;34m*\u001b[0m\u001b[0margs\u001b[0m\u001b[0;34m,\u001b[0m \u001b[0;34m**\u001b[0m\u001b[0mkwargs\u001b[0m\u001b[0;34m)\u001b[0m\u001b[0;34m\u001b[0m\u001b[0;34m\u001b[0m\u001b[0m\n\u001b[0m\u001b[1;32m    304\u001b[0m         \u001b[0;32mexcept\u001b[0m \u001b[0mTypeError\u001b[0m \u001b[0;32mas\u001b[0m \u001b[0mexc\u001b[0m\u001b[0;34m:\u001b[0m\u001b[0;34m\u001b[0m\u001b[0;34m\u001b[0m\u001b[0m\n\u001b[1;32m    305\u001b[0m             \u001b[0;32mif\u001b[0m \u001b[0mself\u001b[0m\u001b[0;34m.\u001b[0m\u001b[0m_should_curry\u001b[0m\u001b[0;34m(\u001b[0m\u001b[0margs\u001b[0m\u001b[0;34m,\u001b[0m \u001b[0mkwargs\u001b[0m\u001b[0;34m,\u001b[0m \u001b[0mexc\u001b[0m\u001b[0;34m)\u001b[0m\u001b[0;34m:\u001b[0m\u001b[0;34m\u001b[0m\u001b[0;34m\u001b[0m\u001b[0m\n",
      "\u001b[0;32m/opt/miniconda3/envs/kgtk-env/lib/python3.7/site-packages/altair/utils/data.py\u001b[0m in \u001b[0;36mlimit_rows\u001b[0;34m(data, max_rows)\u001b[0m\n\u001b[1;32m     82\u001b[0m             \u001b[0;34m\"than the maximum allowed ({}). \"\u001b[0m\u001b[0;34m\u001b[0m\u001b[0;34m\u001b[0m\u001b[0m\n\u001b[1;32m     83\u001b[0m             \u001b[0;34m\"For information on how to plot larger datasets \"\u001b[0m\u001b[0;34m\u001b[0m\u001b[0;34m\u001b[0m\u001b[0m\n\u001b[0;32m---> 84\u001b[0;31m             \u001b[0;34m\"in Altair, see the documentation\"\u001b[0m\u001b[0;34m.\u001b[0m\u001b[0mformat\u001b[0m\u001b[0;34m(\u001b[0m\u001b[0mmax_rows\u001b[0m\u001b[0;34m)\u001b[0m\u001b[0;34m\u001b[0m\u001b[0;34m\u001b[0m\u001b[0m\n\u001b[0m\u001b[1;32m     85\u001b[0m         )\n\u001b[1;32m     86\u001b[0m     \u001b[0;32mreturn\u001b[0m \u001b[0mdata\u001b[0m\u001b[0;34m\u001b[0m\u001b[0;34m\u001b[0m\u001b[0m\n",
      "\u001b[0;31mMaxRowsError\u001b[0m: The number of rows in your dataset is greater than the maximum allowed (5000). For information on how to plot larger datasets in Altair, see the documentation"
     ]
    },
    {
     "data": {
      "text/plain": [
       "alt.Chart(...)"
      ]
     },
     "execution_count": 101,
     "metadata": {},
     "output_type": "execute_result"
    }
   ],
   "source": [
    "if debug:\n",
    "    data = pd.read_csv(\n",
    "        os.environ[\"OUT\"] + \"/statistics.in_degree.distribution.tsv\", sep=\"\\t\"\n",
    "    )\n",
    "\n",
    "    alt.Chart(data).mark_circle(size=60).encode(\n",
    "        x=alt.X(\"in_degree\", scale=alt.Scale(type=\"log\")),\n",
    "        y=alt.Y(\"count\", scale=alt.Scale(type=\"log\"), title=\"count of nodes\"),\n",
    "        tooltip=[\"in_degree\", \"count\"],\n",
    "    ).interactive().properties(title=\"Distribution of In Degree\")"
   ]
  },
  {
   "cell_type": "code",
   "execution_count": 102,
   "metadata": {},
   "outputs": [
    {
     "data": {
      "text/html": [
       "\n",
       "<div id=\"altair-viz-6333c08126284c8c8215b6744bde52e9\"></div>\n",
       "<script type=\"text/javascript\">\n",
       "  (function(spec, embedOpt){\n",
       "    let outputDiv = document.currentScript.previousElementSibling;\n",
       "    if (outputDiv.id !== \"altair-viz-6333c08126284c8c8215b6744bde52e9\") {\n",
       "      outputDiv = document.getElementById(\"altair-viz-6333c08126284c8c8215b6744bde52e9\");\n",
       "    }\n",
       "    const paths = {\n",
       "      \"vega\": \"https://cdn.jsdelivr.net/npm//vega@5?noext\",\n",
       "      \"vega-lib\": \"https://cdn.jsdelivr.net/npm//vega-lib?noext\",\n",
       "      \"vega-lite\": \"https://cdn.jsdelivr.net/npm//vega-lite@4.8.1?noext\",\n",
       "      \"vega-embed\": \"https://cdn.jsdelivr.net/npm//vega-embed@6?noext\",\n",
       "    };\n",
       "\n",
       "    function loadScript(lib) {\n",
       "      return new Promise(function(resolve, reject) {\n",
       "        var s = document.createElement('script');\n",
       "        s.src = paths[lib];\n",
       "        s.async = true;\n",
       "        s.onload = () => resolve(paths[lib]);\n",
       "        s.onerror = () => reject(`Error loading script: ${paths[lib]}`);\n",
       "        document.getElementsByTagName(\"head\")[0].appendChild(s);\n",
       "      });\n",
       "    }\n",
       "\n",
       "    function showError(err) {\n",
       "      outputDiv.innerHTML = `<div class=\"error\" style=\"color:red;\">${err}</div>`;\n",
       "      throw err;\n",
       "    }\n",
       "\n",
       "    function displayChart(vegaEmbed) {\n",
       "      vegaEmbed(outputDiv, spec, embedOpt)\n",
       "        .catch(err => showError(`Javascript Error: ${err.message}<br>This usually means there's a typo in your chart specification. See the javascript console for the full traceback.`));\n",
       "    }\n",
       "\n",
       "    if(typeof define === \"function\" && define.amd) {\n",
       "      requirejs.config({paths});\n",
       "      require([\"vega-embed\"], displayChart, err => showError(`Error loading script: ${err.message}`));\n",
       "    } else if (typeof vegaEmbed === \"function\") {\n",
       "      displayChart(vegaEmbed);\n",
       "    } else {\n",
       "      loadScript(\"vega\")\n",
       "        .then(() => loadScript(\"vega-lite\"))\n",
       "        .then(() => loadScript(\"vega-embed\"))\n",
       "        .catch(showError)\n",
       "        .then(() => displayChart(vegaEmbed));\n",
       "    }\n",
       "  })({\"config\": {\"view\": {\"continuousWidth\": 400, \"continuousHeight\": 300}}, \"data\": {\"name\": \"data-95af63acda85bfb3c77c402c5328e820\"}, \"mark\": {\"type\": \"circle\", \"size\": 60}, \"encoding\": {\"tooltip\": [{\"type\": \"quantitative\", \"field\": \"out_degree\"}, {\"type\": \"quantitative\", \"field\": \"count\"}], \"x\": {\"type\": \"quantitative\", \"field\": \"out_degree\", \"scale\": {\"type\": \"log\"}}, \"y\": {\"type\": \"quantitative\", \"field\": \"count\", \"scale\": {\"type\": \"log\"}, \"title\": \"count of nodes\"}}, \"selection\": {\"selector002\": {\"type\": \"interval\", \"bind\": \"scales\", \"encodings\": [\"x\", \"y\"]}}, \"title\": \"Distribution of Out Degree\", \"$schema\": \"https://vega.github.io/schema/vega-lite/v4.8.1.json\", \"datasets\": {\"data-95af63acda85bfb3c77c402c5328e820\": [{\"out_degree\": 1, \"count\": 5900298, \"label\": \"count\"}, {\"out_degree\": 2, \"count\": 2588042, \"label\": \"count\"}, {\"out_degree\": 3, \"count\": 2974200, \"label\": \"count\"}, {\"out_degree\": 4, \"count\": 3066664, \"label\": \"count\"}, {\"out_degree\": 5, \"count\": 4206800, \"label\": \"count\"}, {\"out_degree\": 6, \"count\": 5796853, \"label\": \"count\"}, {\"out_degree\": 7, \"count\": 4956243, \"label\": \"count\"}, {\"out_degree\": 8, \"count\": 4910889, \"label\": \"count\"}, {\"out_degree\": 9, \"count\": 6309703, \"label\": \"count\"}, {\"out_degree\": 10, \"count\": 6216022, \"label\": \"count\"}, {\"out_degree\": 11, \"count\": 5766168, \"label\": \"count\"}, {\"out_degree\": 12, \"count\": 5471271, \"label\": \"count\"}, {\"out_degree\": 13, \"count\": 5033851, \"label\": \"count\"}, {\"out_degree\": 14, \"count\": 4012187, \"label\": \"count\"}, {\"out_degree\": 15, \"count\": 3114650, \"label\": \"count\"}, {\"out_degree\": 16, \"count\": 2425619, \"label\": \"count\"}, {\"out_degree\": 17, \"count\": 1948515, \"label\": \"count\"}, {\"out_degree\": 18, \"count\": 1590616, \"label\": \"count\"}, {\"out_degree\": 19, \"count\": 1438089, \"label\": \"count\"}, {\"out_degree\": 20, \"count\": 1444218, \"label\": \"count\"}, {\"out_degree\": 21, \"count\": 1535517, \"label\": \"count\"}, {\"out_degree\": 22, \"count\": 839177, \"label\": \"count\"}, {\"out_degree\": 23, \"count\": 579797, \"label\": \"count\"}, {\"out_degree\": 24, \"count\": 537226, \"label\": \"count\"}, {\"out_degree\": 25, \"count\": 476182, \"label\": \"count\"}, {\"out_degree\": 26, \"count\": 442779, \"label\": \"count\"}, {\"out_degree\": 27, \"count\": 438979, \"label\": \"count\"}, {\"out_degree\": 28, \"count\": 364242, \"label\": \"count\"}, {\"out_degree\": 29, \"count\": 320354, \"label\": \"count\"}, {\"out_degree\": 30, \"count\": 286897, \"label\": \"count\"}, {\"out_degree\": 31, \"count\": 267486, \"label\": \"count\"}, {\"out_degree\": 32, \"count\": 248503, \"label\": \"count\"}, {\"out_degree\": 33, \"count\": 246729, \"label\": \"count\"}, {\"out_degree\": 34, \"count\": 263087, \"label\": \"count\"}, {\"out_degree\": 35, \"count\": 211667, \"label\": \"count\"}, {\"out_degree\": 36, \"count\": 191867, \"label\": \"count\"}, {\"out_degree\": 37, \"count\": 183606, \"label\": \"count\"}, {\"out_degree\": 38, \"count\": 173155, \"label\": \"count\"}, {\"out_degree\": 39, \"count\": 164708, \"label\": \"count\"}, {\"out_degree\": 40, \"count\": 159359, \"label\": \"count\"}, {\"out_degree\": 41, \"count\": 152572, \"label\": \"count\"}, {\"out_degree\": 42, \"count\": 145362, \"label\": \"count\"}, {\"out_degree\": 43, \"count\": 138718, \"label\": \"count\"}, {\"out_degree\": 44, \"count\": 132584, \"label\": \"count\"}, {\"out_degree\": 45, \"count\": 127837, \"label\": \"count\"}, {\"out_degree\": 46, \"count\": 122390, \"label\": \"count\"}, {\"out_degree\": 47, \"count\": 117312, \"label\": \"count\"}, {\"out_degree\": 48, \"count\": 112793, \"label\": \"count\"}, {\"out_degree\": 49, \"count\": 108576, \"label\": \"count\"}, {\"out_degree\": 50, \"count\": 104128, \"label\": \"count\"}, {\"out_degree\": 51, \"count\": 99576, \"label\": \"count\"}, {\"out_degree\": 52, \"count\": 96354, \"label\": \"count\"}, {\"out_degree\": 53, \"count\": 91849, \"label\": \"count\"}, {\"out_degree\": 54, \"count\": 88162, \"label\": \"count\"}, {\"out_degree\": 55, \"count\": 84095, \"label\": \"count\"}, {\"out_degree\": 56, \"count\": 80639, \"label\": \"count\"}, {\"out_degree\": 57, \"count\": 77338, \"label\": \"count\"}, {\"out_degree\": 58, \"count\": 73700, \"label\": \"count\"}, {\"out_degree\": 59, \"count\": 70055, \"label\": \"count\"}, {\"out_degree\": 60, \"count\": 66863, \"label\": \"count\"}, {\"out_degree\": 61, \"count\": 63372, \"label\": \"count\"}, {\"out_degree\": 62, \"count\": 60386, \"label\": \"count\"}, {\"out_degree\": 63, \"count\": 57556, \"label\": \"count\"}, {\"out_degree\": 64, \"count\": 54737, \"label\": \"count\"}, {\"out_degree\": 65, \"count\": 52263, \"label\": \"count\"}, {\"out_degree\": 66, \"count\": 49255, \"label\": \"count\"}, {\"out_degree\": 67, \"count\": 46812, \"label\": \"count\"}, {\"out_degree\": 68, \"count\": 43967, \"label\": \"count\"}, {\"out_degree\": 69, \"count\": 41800, \"label\": \"count\"}, {\"out_degree\": 70, \"count\": 39864, \"label\": \"count\"}, {\"out_degree\": 71, \"count\": 37373, \"label\": \"count\"}, {\"out_degree\": 72, \"count\": 35057, \"label\": \"count\"}, {\"out_degree\": 73, \"count\": 33647, \"label\": \"count\"}, {\"out_degree\": 74, \"count\": 31655, \"label\": \"count\"}, {\"out_degree\": 75, \"count\": 29867, \"label\": \"count\"}, {\"out_degree\": 76, \"count\": 28265, \"label\": \"count\"}, {\"out_degree\": 77, \"count\": 26971, \"label\": \"count\"}, {\"out_degree\": 78, \"count\": 25480, \"label\": \"count\"}, {\"out_degree\": 79, \"count\": 23501, \"label\": \"count\"}, {\"out_degree\": 80, \"count\": 22612, \"label\": \"count\"}, {\"out_degree\": 81, \"count\": 21309, \"label\": \"count\"}, {\"out_degree\": 82, \"count\": 20255, \"label\": \"count\"}, {\"out_degree\": 83, \"count\": 19025, \"label\": \"count\"}, {\"out_degree\": 84, \"count\": 18158, \"label\": \"count\"}, {\"out_degree\": 85, \"count\": 17164, \"label\": \"count\"}, {\"out_degree\": 86, \"count\": 16381, \"label\": \"count\"}, {\"out_degree\": 87, \"count\": 15536, \"label\": \"count\"}, {\"out_degree\": 88, \"count\": 14856, \"label\": \"count\"}, {\"out_degree\": 89, \"count\": 13783, \"label\": \"count\"}, {\"out_degree\": 90, \"count\": 13329, \"label\": \"count\"}, {\"out_degree\": 91, \"count\": 12473, \"label\": \"count\"}, {\"out_degree\": 92, \"count\": 11874, \"label\": \"count\"}, {\"out_degree\": 93, \"count\": 11341, \"label\": \"count\"}, {\"out_degree\": 94, \"count\": 10653, \"label\": \"count\"}, {\"out_degree\": 95, \"count\": 10263, \"label\": \"count\"}, {\"out_degree\": 96, \"count\": 9597, \"label\": \"count\"}, {\"out_degree\": 97, \"count\": 9214, \"label\": \"count\"}, {\"out_degree\": 98, \"count\": 8708, \"label\": \"count\"}, {\"out_degree\": 99, \"count\": 8409, \"label\": \"count\"}, {\"out_degree\": 100, \"count\": 8093, \"label\": \"count\"}, {\"out_degree\": 101, \"count\": 7878, \"label\": \"count\"}, {\"out_degree\": 102, \"count\": 7311, \"label\": \"count\"}, {\"out_degree\": 103, \"count\": 7013, \"label\": \"count\"}, {\"out_degree\": 104, \"count\": 6882, \"label\": \"count\"}, {\"out_degree\": 105, \"count\": 6462, \"label\": \"count\"}, {\"out_degree\": 106, \"count\": 6112, \"label\": \"count\"}, {\"out_degree\": 107, \"count\": 5900, \"label\": \"count\"}, {\"out_degree\": 108, \"count\": 5739, \"label\": \"count\"}, {\"out_degree\": 109, \"count\": 5439, \"label\": \"count\"}, {\"out_degree\": 110, \"count\": 5252, \"label\": \"count\"}, {\"out_degree\": 111, \"count\": 4957, \"label\": \"count\"}, {\"out_degree\": 112, \"count\": 4971, \"label\": \"count\"}, {\"out_degree\": 113, \"count\": 4830, \"label\": \"count\"}, {\"out_degree\": 114, \"count\": 4584, \"label\": \"count\"}, {\"out_degree\": 115, \"count\": 4504, \"label\": \"count\"}, {\"out_degree\": 116, \"count\": 4322, \"label\": \"count\"}, {\"out_degree\": 117, \"count\": 4003, \"label\": \"count\"}, {\"out_degree\": 118, \"count\": 3991, \"label\": \"count\"}, {\"out_degree\": 119, \"count\": 3950, \"label\": \"count\"}, {\"out_degree\": 120, \"count\": 3803, \"label\": \"count\"}, {\"out_degree\": 121, \"count\": 3438, \"label\": \"count\"}, {\"out_degree\": 122, \"count\": 3516, \"label\": \"count\"}, {\"out_degree\": 123, \"count\": 3411, \"label\": \"count\"}, {\"out_degree\": 124, \"count\": 3242, \"label\": \"count\"}, {\"out_degree\": 125, \"count\": 3138, \"label\": \"count\"}, {\"out_degree\": 126, \"count\": 3012, \"label\": \"count\"}, {\"out_degree\": 127, \"count\": 3003, \"label\": \"count\"}, {\"out_degree\": 128, \"count\": 2898, \"label\": \"count\"}, {\"out_degree\": 129, \"count\": 2792, \"label\": \"count\"}, {\"out_degree\": 130, \"count\": 2820, \"label\": \"count\"}, {\"out_degree\": 131, \"count\": 2728, \"label\": \"count\"}, {\"out_degree\": 132, \"count\": 2746, \"label\": \"count\"}, {\"out_degree\": 133, \"count\": 2616, \"label\": \"count\"}, {\"out_degree\": 134, \"count\": 2452, \"label\": \"count\"}, {\"out_degree\": 135, \"count\": 2489, \"label\": \"count\"}, {\"out_degree\": 136, \"count\": 2327, \"label\": \"count\"}, {\"out_degree\": 137, \"count\": 2242, \"label\": \"count\"}, {\"out_degree\": 138, \"count\": 2191, \"label\": \"count\"}, {\"out_degree\": 139, \"count\": 2150, \"label\": \"count\"}, {\"out_degree\": 140, \"count\": 2045, \"label\": \"count\"}, {\"out_degree\": 141, \"count\": 1999, \"label\": \"count\"}, {\"out_degree\": 142, \"count\": 2004, \"label\": \"count\"}, {\"out_degree\": 143, \"count\": 1909, \"label\": \"count\"}, {\"out_degree\": 144, \"count\": 1957, \"label\": \"count\"}, {\"out_degree\": 145, \"count\": 1966, \"label\": \"count\"}, {\"out_degree\": 146, \"count\": 1789, \"label\": \"count\"}, {\"out_degree\": 147, \"count\": 1787, \"label\": \"count\"}, {\"out_degree\": 148, \"count\": 1762, \"label\": \"count\"}, {\"out_degree\": 149, \"count\": 1829, \"label\": \"count\"}, {\"out_degree\": 150, \"count\": 1783, \"label\": \"count\"}, {\"out_degree\": 151, \"count\": 1608, \"label\": \"count\"}, {\"out_degree\": 152, \"count\": 1628, \"label\": \"count\"}, {\"out_degree\": 153, \"count\": 1574, \"label\": \"count\"}, {\"out_degree\": 154, \"count\": 1516, \"label\": \"count\"}, {\"out_degree\": 155, \"count\": 1489, \"label\": \"count\"}, {\"out_degree\": 156, \"count\": 1413, \"label\": \"count\"}, {\"out_degree\": 157, \"count\": 1461, \"label\": \"count\"}, {\"out_degree\": 158, \"count\": 1393, \"label\": \"count\"}, {\"out_degree\": 159, \"count\": 1474, \"label\": \"count\"}, {\"out_degree\": 160, \"count\": 1354, \"label\": \"count\"}, {\"out_degree\": 161, \"count\": 1594, \"label\": \"count\"}, {\"out_degree\": 162, \"count\": 1295, \"label\": \"count\"}, {\"out_degree\": 163, \"count\": 1255, \"label\": \"count\"}, {\"out_degree\": 164, \"count\": 1223, \"label\": \"count\"}, {\"out_degree\": 165, \"count\": 1191, \"label\": \"count\"}, {\"out_degree\": 166, \"count\": 1205, \"label\": \"count\"}, {\"out_degree\": 167, \"count\": 1178, \"label\": \"count\"}, {\"out_degree\": 168, \"count\": 1103, \"label\": \"count\"}, {\"out_degree\": 169, \"count\": 1188, \"label\": \"count\"}, {\"out_degree\": 170, \"count\": 1202, \"label\": \"count\"}, {\"out_degree\": 171, \"count\": 1303, \"label\": \"count\"}, {\"out_degree\": 172, \"count\": 1145, \"label\": \"count\"}, {\"out_degree\": 173, \"count\": 1151, \"label\": \"count\"}, {\"out_degree\": 174, \"count\": 1093, \"label\": \"count\"}, {\"out_degree\": 175, \"count\": 1046, \"label\": \"count\"}, {\"out_degree\": 176, \"count\": 1336, \"label\": \"count\"}, {\"out_degree\": 177, \"count\": 1059, \"label\": \"count\"}, {\"out_degree\": 178, \"count\": 1038, \"label\": \"count\"}, {\"out_degree\": 179, \"count\": 1079, \"label\": \"count\"}, {\"out_degree\": 180, \"count\": 1166, \"label\": \"count\"}, {\"out_degree\": 181, \"count\": 966, \"label\": \"count\"}, {\"out_degree\": 182, \"count\": 979, \"label\": \"count\"}, {\"out_degree\": 183, \"count\": 953, \"label\": \"count\"}, {\"out_degree\": 184, \"count\": 899, \"label\": \"count\"}, {\"out_degree\": 185, \"count\": 926, \"label\": \"count\"}, {\"out_degree\": 186, \"count\": 864, \"label\": \"count\"}, {\"out_degree\": 187, \"count\": 850, \"label\": \"count\"}, {\"out_degree\": 188, \"count\": 805, \"label\": \"count\"}, {\"out_degree\": 189, \"count\": 815, \"label\": \"count\"}, {\"out_degree\": 190, \"count\": 974, \"label\": \"count\"}, {\"out_degree\": 191, \"count\": 763, \"label\": \"count\"}, {\"out_degree\": 192, \"count\": 800, \"label\": \"count\"}, {\"out_degree\": 193, \"count\": 795, \"label\": \"count\"}, {\"out_degree\": 194, \"count\": 736, \"label\": \"count\"}, {\"out_degree\": 195, \"count\": 726, \"label\": \"count\"}, {\"out_degree\": 196, \"count\": 674, \"label\": \"count\"}, {\"out_degree\": 197, \"count\": 684, \"label\": \"count\"}, {\"out_degree\": 198, \"count\": 627, \"label\": \"count\"}, {\"out_degree\": 199, \"count\": 635, \"label\": \"count\"}, {\"out_degree\": 200, \"count\": 628, \"label\": \"count\"}, {\"out_degree\": 201, \"count\": 639, \"label\": \"count\"}, {\"out_degree\": 202, \"count\": 605, \"label\": \"count\"}, {\"out_degree\": 203, \"count\": 592, \"label\": \"count\"}, {\"out_degree\": 204, \"count\": 586, \"label\": \"count\"}, {\"out_degree\": 205, \"count\": 756, \"label\": \"count\"}, {\"out_degree\": 206, \"count\": 570, \"label\": \"count\"}, {\"out_degree\": 207, \"count\": 762, \"label\": \"count\"}, {\"out_degree\": 208, \"count\": 564, \"label\": \"count\"}, {\"out_degree\": 209, \"count\": 534, \"label\": \"count\"}, {\"out_degree\": 210, \"count\": 525, \"label\": \"count\"}, {\"out_degree\": 211, \"count\": 501, \"label\": \"count\"}, {\"out_degree\": 212, \"count\": 494, \"label\": \"count\"}, {\"out_degree\": 213, \"count\": 645, \"label\": \"count\"}, {\"out_degree\": 214, \"count\": 441, \"label\": \"count\"}, {\"out_degree\": 215, \"count\": 454, \"label\": \"count\"}, {\"out_degree\": 216, \"count\": 641, \"label\": \"count\"}, {\"out_degree\": 217, \"count\": 410, \"label\": \"count\"}, {\"out_degree\": 218, \"count\": 415, \"label\": \"count\"}, {\"out_degree\": 219, \"count\": 383, \"label\": \"count\"}, {\"out_degree\": 220, \"count\": 578, \"label\": \"count\"}, {\"out_degree\": 221, \"count\": 363, \"label\": \"count\"}, {\"out_degree\": 222, \"count\": 390, \"label\": \"count\"}, {\"out_degree\": 223, \"count\": 353, \"label\": \"count\"}, {\"out_degree\": 224, \"count\": 338, \"label\": \"count\"}, {\"out_degree\": 225, \"count\": 370, \"label\": \"count\"}, {\"out_degree\": 226, \"count\": 307, \"label\": \"count\"}, {\"out_degree\": 227, \"count\": 311, \"label\": \"count\"}, {\"out_degree\": 228, \"count\": 296, \"label\": \"count\"}, {\"out_degree\": 229, \"count\": 319, \"label\": \"count\"}, {\"out_degree\": 230, \"count\": 277, \"label\": \"count\"}, {\"out_degree\": 231, \"count\": 298, \"label\": \"count\"}, {\"out_degree\": 232, \"count\": 290, \"label\": \"count\"}, {\"out_degree\": 233, \"count\": 251, \"label\": \"count\"}, {\"out_degree\": 234, \"count\": 238, \"label\": \"count\"}, {\"out_degree\": 235, \"count\": 249, \"label\": \"count\"}, {\"out_degree\": 236, \"count\": 454, \"label\": \"count\"}, {\"out_degree\": 237, \"count\": 259, \"label\": \"count\"}, {\"out_degree\": 238, \"count\": 258, \"label\": \"count\"}, {\"out_degree\": 239, \"count\": 252, \"label\": \"count\"}, {\"out_degree\": 240, \"count\": 202, \"label\": \"count\"}, {\"out_degree\": 241, \"count\": 209, \"label\": \"count\"}, {\"out_degree\": 242, \"count\": 197, \"label\": \"count\"}, {\"out_degree\": 243, \"count\": 215, \"label\": \"count\"}, {\"out_degree\": 244, \"count\": 211, \"label\": \"count\"}, {\"out_degree\": 245, \"count\": 672, \"label\": \"count\"}, {\"out_degree\": 246, \"count\": 203, \"label\": \"count\"}, {\"out_degree\": 247, \"count\": 195, \"label\": \"count\"}, {\"out_degree\": 248, \"count\": 154, \"label\": \"count\"}, {\"out_degree\": 249, \"count\": 176, \"label\": \"count\"}, {\"out_degree\": 250, \"count\": 194, \"label\": \"count\"}, {\"out_degree\": 251, \"count\": 184, \"label\": \"count\"}, {\"out_degree\": 252, \"count\": 160, \"label\": \"count\"}, {\"out_degree\": 253, \"count\": 171, \"label\": \"count\"}, {\"out_degree\": 254, \"count\": 176, \"label\": \"count\"}, {\"out_degree\": 255, \"count\": 170, \"label\": \"count\"}, {\"out_degree\": 256, \"count\": 166, \"label\": \"count\"}, {\"out_degree\": 257, \"count\": 152, \"label\": \"count\"}, {\"out_degree\": 258, \"count\": 152, \"label\": \"count\"}, {\"out_degree\": 259, \"count\": 148, \"label\": \"count\"}, {\"out_degree\": 260, \"count\": 142, \"label\": \"count\"}, {\"out_degree\": 261, \"count\": 142, \"label\": \"count\"}, {\"out_degree\": 262, \"count\": 150, \"label\": \"count\"}, {\"out_degree\": 263, \"count\": 140, \"label\": \"count\"}, {\"out_degree\": 264, \"count\": 122, \"label\": \"count\"}, {\"out_degree\": 265, \"count\": 125, \"label\": \"count\"}, {\"out_degree\": 266, \"count\": 121, \"label\": \"count\"}, {\"out_degree\": 267, \"count\": 130, \"label\": \"count\"}, {\"out_degree\": 268, \"count\": 121, \"label\": \"count\"}, {\"out_degree\": 269, \"count\": 135, \"label\": \"count\"}, {\"out_degree\": 270, \"count\": 104, \"label\": \"count\"}, {\"out_degree\": 271, \"count\": 123, \"label\": \"count\"}, {\"out_degree\": 272, \"count\": 113, \"label\": \"count\"}, {\"out_degree\": 273, \"count\": 126, \"label\": \"count\"}, {\"out_degree\": 274, \"count\": 137, \"label\": \"count\"}, {\"out_degree\": 275, \"count\": 111, \"label\": \"count\"}, {\"out_degree\": 276, \"count\": 105, \"label\": \"count\"}, {\"out_degree\": 277, \"count\": 104, \"label\": \"count\"}, {\"out_degree\": 278, \"count\": 116, \"label\": \"count\"}, {\"out_degree\": 279, \"count\": 101, \"label\": \"count\"}, {\"out_degree\": 280, \"count\": 126, \"label\": \"count\"}, {\"out_degree\": 281, \"count\": 114, \"label\": \"count\"}, {\"out_degree\": 282, \"count\": 125, \"label\": \"count\"}, {\"out_degree\": 283, \"count\": 109, \"label\": \"count\"}, {\"out_degree\": 284, \"count\": 114, \"label\": \"count\"}, {\"out_degree\": 285, \"count\": 93, \"label\": \"count\"}, {\"out_degree\": 286, \"count\": 326, \"label\": \"count\"}, {\"out_degree\": 287, \"count\": 368, \"label\": \"count\"}, {\"out_degree\": 288, \"count\": 115, \"label\": \"count\"}, {\"out_degree\": 289, \"count\": 80, \"label\": \"count\"}, {\"out_degree\": 290, \"count\": 370, \"label\": \"count\"}, {\"out_degree\": 291, \"count\": 378, \"label\": \"count\"}, {\"out_degree\": 292, \"count\": 90, \"label\": \"count\"}, {\"out_degree\": 293, \"count\": 93, \"label\": \"count\"}, {\"out_degree\": 294, \"count\": 101, \"label\": \"count\"}, {\"out_degree\": 295, \"count\": 117, \"label\": \"count\"}, {\"out_degree\": 296, \"count\": 85, \"label\": \"count\"}, {\"out_degree\": 297, \"count\": 68, \"label\": \"count\"}, {\"out_degree\": 298, \"count\": 98, \"label\": \"count\"}, {\"out_degree\": 299, \"count\": 89, \"label\": \"count\"}, {\"out_degree\": 300, \"count\": 80, \"label\": \"count\"}, {\"out_degree\": 301, \"count\": 86, \"label\": \"count\"}, {\"out_degree\": 302, \"count\": 69, \"label\": \"count\"}, {\"out_degree\": 303, \"count\": 362, \"label\": \"count\"}, {\"out_degree\": 304, \"count\": 93, \"label\": \"count\"}, {\"out_degree\": 305, \"count\": 79, \"label\": \"count\"}, {\"out_degree\": 306, \"count\": 376, \"label\": \"count\"}, {\"out_degree\": 307, \"count\": 68, \"label\": \"count\"}, {\"out_degree\": 308, \"count\": 66, \"label\": \"count\"}, {\"out_degree\": 309, \"count\": 366, \"label\": \"count\"}, {\"out_degree\": 310, \"count\": 77, \"label\": \"count\"}, {\"out_degree\": 311, \"count\": 65, \"label\": \"count\"}, {\"out_degree\": 312, \"count\": 78, \"label\": \"count\"}, {\"out_degree\": 313, \"count\": 77, \"label\": \"count\"}, {\"out_degree\": 314, \"count\": 69, \"label\": \"count\"}, {\"out_degree\": 315, \"count\": 56, \"label\": \"count\"}, {\"out_degree\": 316, \"count\": 74, \"label\": \"count\"}, {\"out_degree\": 317, \"count\": 70, \"label\": \"count\"}, {\"out_degree\": 318, \"count\": 49, \"label\": \"count\"}, {\"out_degree\": 319, \"count\": 49, \"label\": \"count\"}, {\"out_degree\": 320, \"count\": 305, \"label\": \"count\"}, {\"out_degree\": 321, \"count\": 50, \"label\": \"count\"}, {\"out_degree\": 322, \"count\": 53, \"label\": \"count\"}, {\"out_degree\": 323, \"count\": 47, \"label\": \"count\"}, {\"out_degree\": 324, \"count\": 64, \"label\": \"count\"}, {\"out_degree\": 325, \"count\": 66, \"label\": \"count\"}, {\"out_degree\": 326, \"count\": 64, \"label\": \"count\"}, {\"out_degree\": 327, \"count\": 48, \"label\": \"count\"}, {\"out_degree\": 328, \"count\": 62, \"label\": \"count\"}, {\"out_degree\": 329, \"count\": 56, \"label\": \"count\"}, {\"out_degree\": 330, \"count\": 56, \"label\": \"count\"}, {\"out_degree\": 331, \"count\": 58, \"label\": \"count\"}, {\"out_degree\": 332, \"count\": 50, \"label\": \"count\"}, {\"out_degree\": 333, \"count\": 59, \"label\": \"count\"}, {\"out_degree\": 334, \"count\": 52, \"label\": \"count\"}, {\"out_degree\": 335, \"count\": 386, \"label\": \"count\"}, {\"out_degree\": 336, \"count\": 48, \"label\": \"count\"}, {\"out_degree\": 337, \"count\": 52, \"label\": \"count\"}, {\"out_degree\": 338, \"count\": 55, \"label\": \"count\"}, {\"out_degree\": 339, \"count\": 107, \"label\": \"count\"}, {\"out_degree\": 340, \"count\": 57, \"label\": \"count\"}, {\"out_degree\": 341, \"count\": 59, \"label\": \"count\"}, {\"out_degree\": 342, \"count\": 60, \"label\": \"count\"}, {\"out_degree\": 343, \"count\": 53, \"label\": \"count\"}, {\"out_degree\": 344, \"count\": 385, \"label\": \"count\"}, {\"out_degree\": 345, \"count\": 54, \"label\": \"count\"}, {\"out_degree\": 346, \"count\": 49, \"label\": \"count\"}, {\"out_degree\": 347, \"count\": 48, \"label\": \"count\"}, {\"out_degree\": 348, \"count\": 46, \"label\": \"count\"}, {\"out_degree\": 349, \"count\": 37, \"label\": \"count\"}, {\"out_degree\": 350, \"count\": 40, \"label\": \"count\"}, {\"out_degree\": 351, \"count\": 53, \"label\": \"count\"}, {\"out_degree\": 352, \"count\": 36, \"label\": \"count\"}, {\"out_degree\": 353, \"count\": 47, \"label\": \"count\"}, {\"out_degree\": 354, \"count\": 34, \"label\": \"count\"}, {\"out_degree\": 355, \"count\": 33, \"label\": \"count\"}, {\"out_degree\": 356, \"count\": 53, \"label\": \"count\"}, {\"out_degree\": 357, \"count\": 47, \"label\": \"count\"}, {\"out_degree\": 358, \"count\": 45, \"label\": \"count\"}, {\"out_degree\": 359, \"count\": 31, \"label\": \"count\"}, {\"out_degree\": 360, \"count\": 27, \"label\": \"count\"}, {\"out_degree\": 361, \"count\": 33, \"label\": \"count\"}, {\"out_degree\": 362, \"count\": 38, \"label\": \"count\"}, {\"out_degree\": 363, \"count\": 50, \"label\": \"count\"}, {\"out_degree\": 364, \"count\": 47, \"label\": \"count\"}, {\"out_degree\": 365, \"count\": 32, \"label\": \"count\"}, {\"out_degree\": 366, \"count\": 36, \"label\": \"count\"}, {\"out_degree\": 367, \"count\": 35, \"label\": \"count\"}, {\"out_degree\": 368, \"count\": 45, \"label\": \"count\"}, {\"out_degree\": 369, \"count\": 42, \"label\": \"count\"}, {\"out_degree\": 370, \"count\": 53, \"label\": \"count\"}, {\"out_degree\": 371, \"count\": 39, \"label\": \"count\"}, {\"out_degree\": 372, \"count\": 34, \"label\": \"count\"}, {\"out_degree\": 373, \"count\": 39, \"label\": \"count\"}, {\"out_degree\": 374, \"count\": 37, \"label\": \"count\"}, {\"out_degree\": 375, \"count\": 29, \"label\": \"count\"}, {\"out_degree\": 376, \"count\": 34, \"label\": \"count\"}, {\"out_degree\": 377, \"count\": 38, \"label\": \"count\"}, {\"out_degree\": 378, \"count\": 32, \"label\": \"count\"}, {\"out_degree\": 379, \"count\": 44, \"label\": \"count\"}, {\"out_degree\": 380, \"count\": 33, \"label\": \"count\"}, {\"out_degree\": 381, \"count\": 50, \"label\": \"count\"}, {\"out_degree\": 382, \"count\": 29, \"label\": \"count\"}, {\"out_degree\": 383, \"count\": 42, \"label\": \"count\"}, {\"out_degree\": 384, \"count\": 46, \"label\": \"count\"}, {\"out_degree\": 385, \"count\": 37, \"label\": \"count\"}, {\"out_degree\": 386, \"count\": 30, \"label\": \"count\"}, {\"out_degree\": 387, \"count\": 42, \"label\": \"count\"}, {\"out_degree\": 388, \"count\": 38, \"label\": \"count\"}, {\"out_degree\": 389, \"count\": 34, \"label\": \"count\"}, {\"out_degree\": 390, \"count\": 45, \"label\": \"count\"}, {\"out_degree\": 391, \"count\": 30, \"label\": \"count\"}, {\"out_degree\": 392, \"count\": 35, \"label\": \"count\"}, {\"out_degree\": 393, \"count\": 35, \"label\": \"count\"}, {\"out_degree\": 394, \"count\": 39, \"label\": \"count\"}, {\"out_degree\": 395, \"count\": 38, \"label\": \"count\"}, {\"out_degree\": 396, \"count\": 39, \"label\": \"count\"}, {\"out_degree\": 397, \"count\": 38, \"label\": \"count\"}, {\"out_degree\": 398, \"count\": 29, \"label\": \"count\"}, {\"out_degree\": 399, \"count\": 29, \"label\": \"count\"}, {\"out_degree\": 400, \"count\": 30, \"label\": \"count\"}, {\"out_degree\": 401, \"count\": 31, \"label\": \"count\"}, {\"out_degree\": 402, \"count\": 25, \"label\": \"count\"}, {\"out_degree\": 403, \"count\": 28, \"label\": \"count\"}, {\"out_degree\": 404, \"count\": 24, \"label\": \"count\"}, {\"out_degree\": 405, \"count\": 36, \"label\": \"count\"}, {\"out_degree\": 406, \"count\": 23, \"label\": \"count\"}, {\"out_degree\": 407, \"count\": 35, \"label\": \"count\"}, {\"out_degree\": 408, \"count\": 34, \"label\": \"count\"}, {\"out_degree\": 409, \"count\": 30, \"label\": \"count\"}, {\"out_degree\": 410, \"count\": 38, \"label\": \"count\"}, {\"out_degree\": 411, \"count\": 33, \"label\": \"count\"}, {\"out_degree\": 412, \"count\": 25, \"label\": \"count\"}, {\"out_degree\": 413, \"count\": 31, \"label\": \"count\"}, {\"out_degree\": 414, \"count\": 22, \"label\": \"count\"}, {\"out_degree\": 415, \"count\": 28, \"label\": \"count\"}, {\"out_degree\": 416, \"count\": 30, \"label\": \"count\"}, {\"out_degree\": 417, \"count\": 28, \"label\": \"count\"}, {\"out_degree\": 418, \"count\": 440, \"label\": \"count\"}, {\"out_degree\": 419, \"count\": 30, \"label\": \"count\"}, {\"out_degree\": 420, \"count\": 26, \"label\": \"count\"}, {\"out_degree\": 421, \"count\": 24, \"label\": \"count\"}, {\"out_degree\": 422, \"count\": 29, \"label\": \"count\"}, {\"out_degree\": 423, \"count\": 39, \"label\": \"count\"}, {\"out_degree\": 424, \"count\": 30, \"label\": \"count\"}, {\"out_degree\": 425, \"count\": 36, \"label\": \"count\"}, {\"out_degree\": 426, \"count\": 31, \"label\": \"count\"}, {\"out_degree\": 427, \"count\": 38, \"label\": \"count\"}, {\"out_degree\": 428, \"count\": 33, \"label\": \"count\"}, {\"out_degree\": 429, \"count\": 24, \"label\": \"count\"}, {\"out_degree\": 430, \"count\": 35, \"label\": \"count\"}, {\"out_degree\": 431, \"count\": 26, \"label\": \"count\"}, {\"out_degree\": 432, \"count\": 27, \"label\": \"count\"}, {\"out_degree\": 433, \"count\": 28, \"label\": \"count\"}, {\"out_degree\": 434, \"count\": 27, \"label\": \"count\"}, {\"out_degree\": 435, \"count\": 34, \"label\": \"count\"}, {\"out_degree\": 436, \"count\": 24, \"label\": \"count\"}, {\"out_degree\": 437, \"count\": 26, \"label\": \"count\"}, {\"out_degree\": 438, \"count\": 23, \"label\": \"count\"}, {\"out_degree\": 439, \"count\": 34, \"label\": \"count\"}, {\"out_degree\": 440, \"count\": 27, \"label\": \"count\"}, {\"out_degree\": 441, \"count\": 26, \"label\": \"count\"}, {\"out_degree\": 442, \"count\": 25, \"label\": \"count\"}, {\"out_degree\": 443, \"count\": 26, \"label\": \"count\"}, {\"out_degree\": 444, \"count\": 21, \"label\": \"count\"}, {\"out_degree\": 445, \"count\": 26, \"label\": \"count\"}, {\"out_degree\": 446, \"count\": 30, \"label\": \"count\"}, {\"out_degree\": 447, \"count\": 14, \"label\": \"count\"}, {\"out_degree\": 448, \"count\": 25, \"label\": \"count\"}, {\"out_degree\": 449, \"count\": 25, \"label\": \"count\"}, {\"out_degree\": 450, \"count\": 23, \"label\": \"count\"}, {\"out_degree\": 451, \"count\": 23, \"label\": \"count\"}, {\"out_degree\": 452, \"count\": 22, \"label\": \"count\"}, {\"out_degree\": 453, \"count\": 23, \"label\": \"count\"}, {\"out_degree\": 454, \"count\": 22, \"label\": \"count\"}, {\"out_degree\": 455, \"count\": 19, \"label\": \"count\"}, {\"out_degree\": 456, \"count\": 22, \"label\": \"count\"}, {\"out_degree\": 457, \"count\": 31, \"label\": \"count\"}, {\"out_degree\": 458, \"count\": 33, \"label\": \"count\"}, {\"out_degree\": 459, \"count\": 11, \"label\": \"count\"}, {\"out_degree\": 460, \"count\": 32, \"label\": \"count\"}, {\"out_degree\": 461, \"count\": 27, \"label\": \"count\"}, {\"out_degree\": 462, \"count\": 22, \"label\": \"count\"}, {\"out_degree\": 463, \"count\": 21, \"label\": \"count\"}, {\"out_degree\": 464, \"count\": 18, \"label\": \"count\"}, {\"out_degree\": 465, \"count\": 22, \"label\": \"count\"}, {\"out_degree\": 466, \"count\": 22, \"label\": \"count\"}, {\"out_degree\": 467, \"count\": 15, \"label\": \"count\"}, {\"out_degree\": 468, \"count\": 18, \"label\": \"count\"}, {\"out_degree\": 469, \"count\": 18, \"label\": \"count\"}, {\"out_degree\": 470, \"count\": 23, \"label\": \"count\"}, {\"out_degree\": 471, \"count\": 20, \"label\": \"count\"}, {\"out_degree\": 472, \"count\": 25, \"label\": \"count\"}, {\"out_degree\": 473, \"count\": 19, \"label\": \"count\"}, {\"out_degree\": 474, \"count\": 21, \"label\": \"count\"}, {\"out_degree\": 475, \"count\": 21, \"label\": \"count\"}, {\"out_degree\": 476, \"count\": 18, \"label\": \"count\"}, {\"out_degree\": 477, \"count\": 21, \"label\": \"count\"}, {\"out_degree\": 478, \"count\": 21, \"label\": \"count\"}, {\"out_degree\": 479, \"count\": 18, \"label\": \"count\"}, {\"out_degree\": 480, \"count\": 13, \"label\": \"count\"}, {\"out_degree\": 481, \"count\": 14, \"label\": \"count\"}, {\"out_degree\": 482, \"count\": 19, \"label\": \"count\"}, {\"out_degree\": 483, \"count\": 20, \"label\": \"count\"}, {\"out_degree\": 484, \"count\": 9, \"label\": \"count\"}, {\"out_degree\": 485, \"count\": 6, \"label\": \"count\"}, {\"out_degree\": 486, \"count\": 17, \"label\": \"count\"}, {\"out_degree\": 487, \"count\": 10, \"label\": \"count\"}, {\"out_degree\": 488, \"count\": 20, \"label\": \"count\"}, {\"out_degree\": 489, \"count\": 12, \"label\": \"count\"}, {\"out_degree\": 490, \"count\": 20, \"label\": \"count\"}, {\"out_degree\": 491, \"count\": 8, \"label\": \"count\"}, {\"out_degree\": 492, \"count\": 15, \"label\": \"count\"}, {\"out_degree\": 493, \"count\": 26, \"label\": \"count\"}, {\"out_degree\": 494, \"count\": 14, \"label\": \"count\"}, {\"out_degree\": 495, \"count\": 21, \"label\": \"count\"}, {\"out_degree\": 496, \"count\": 17, \"label\": \"count\"}, {\"out_degree\": 497, \"count\": 14, \"label\": \"count\"}, {\"out_degree\": 498, \"count\": 7, \"label\": \"count\"}, {\"out_degree\": 499, \"count\": 16, \"label\": \"count\"}, {\"out_degree\": 500, \"count\": 17, \"label\": \"count\"}, {\"out_degree\": 501, \"count\": 22, \"label\": \"count\"}, {\"out_degree\": 502, \"count\": 21, \"label\": \"count\"}, {\"out_degree\": 503, \"count\": 14, \"label\": \"count\"}, {\"out_degree\": 504, \"count\": 19, \"label\": \"count\"}, {\"out_degree\": 505, \"count\": 11, \"label\": \"count\"}, {\"out_degree\": 506, \"count\": 15, \"label\": \"count\"}, {\"out_degree\": 507, \"count\": 14, \"label\": \"count\"}, {\"out_degree\": 508, \"count\": 14, \"label\": \"count\"}, {\"out_degree\": 509, \"count\": 16, \"label\": \"count\"}, {\"out_degree\": 510, \"count\": 14, \"label\": \"count\"}, {\"out_degree\": 511, \"count\": 17, \"label\": \"count\"}, {\"out_degree\": 512, \"count\": 10, \"label\": \"count\"}, {\"out_degree\": 513, \"count\": 16, \"label\": \"count\"}, {\"out_degree\": 514, \"count\": 14, \"label\": \"count\"}, {\"out_degree\": 515, \"count\": 18, \"label\": \"count\"}, {\"out_degree\": 516, \"count\": 8, \"label\": \"count\"}, {\"out_degree\": 517, \"count\": 14, \"label\": \"count\"}, {\"out_degree\": 518, \"count\": 13, \"label\": \"count\"}, {\"out_degree\": 519, \"count\": 12, \"label\": \"count\"}, {\"out_degree\": 520, \"count\": 11, \"label\": \"count\"}, {\"out_degree\": 521, \"count\": 11, \"label\": \"count\"}, {\"out_degree\": 522, \"count\": 7, \"label\": \"count\"}, {\"out_degree\": 523, \"count\": 12, \"label\": \"count\"}, {\"out_degree\": 524, \"count\": 10, \"label\": \"count\"}, {\"out_degree\": 525, \"count\": 8, \"label\": \"count\"}, {\"out_degree\": 526, \"count\": 9, \"label\": \"count\"}, {\"out_degree\": 527, \"count\": 9, \"label\": \"count\"}, {\"out_degree\": 528, \"count\": 11, \"label\": \"count\"}, {\"out_degree\": 529, \"count\": 5, \"label\": \"count\"}, {\"out_degree\": 530, \"count\": 12, \"label\": \"count\"}, {\"out_degree\": 531, \"count\": 17, \"label\": \"count\"}, {\"out_degree\": 532, \"count\": 9, \"label\": \"count\"}, {\"out_degree\": 533, \"count\": 21, \"label\": \"count\"}, {\"out_degree\": 534, \"count\": 25, \"label\": \"count\"}, {\"out_degree\": 535, \"count\": 13, \"label\": \"count\"}, {\"out_degree\": 536, \"count\": 17, \"label\": \"count\"}, {\"out_degree\": 537, \"count\": 20, \"label\": \"count\"}, {\"out_degree\": 538, \"count\": 9, \"label\": \"count\"}, {\"out_degree\": 539, \"count\": 13, \"label\": \"count\"}, {\"out_degree\": 540, \"count\": 10, \"label\": \"count\"}, {\"out_degree\": 541, \"count\": 16, \"label\": \"count\"}, {\"out_degree\": 542, \"count\": 14, \"label\": \"count\"}, {\"out_degree\": 543, \"count\": 10, \"label\": \"count\"}, {\"out_degree\": 544, \"count\": 12, \"label\": \"count\"}, {\"out_degree\": 545, \"count\": 6, \"label\": \"count\"}, {\"out_degree\": 546, \"count\": 13, \"label\": \"count\"}, {\"out_degree\": 547, \"count\": 12, \"label\": \"count\"}, {\"out_degree\": 548, \"count\": 18, \"label\": \"count\"}, {\"out_degree\": 549, \"count\": 14, \"label\": \"count\"}, {\"out_degree\": 550, \"count\": 552, \"label\": \"count\"}, {\"out_degree\": 551, \"count\": 6, \"label\": \"count\"}, {\"out_degree\": 552, \"count\": 12, \"label\": \"count\"}, {\"out_degree\": 553, \"count\": 13, \"label\": \"count\"}, {\"out_degree\": 554, \"count\": 11, \"label\": \"count\"}, {\"out_degree\": 555, \"count\": 21, \"label\": \"count\"}, {\"out_degree\": 556, \"count\": 12, \"label\": \"count\"}, {\"out_degree\": 557, \"count\": 6, \"label\": \"count\"}, {\"out_degree\": 558, \"count\": 11, \"label\": \"count\"}, {\"out_degree\": 559, \"count\": 13, \"label\": \"count\"}, {\"out_degree\": 560, \"count\": 14, \"label\": \"count\"}, {\"out_degree\": 561, \"count\": 15, \"label\": \"count\"}, {\"out_degree\": 562, \"count\": 19, \"label\": \"count\"}, {\"out_degree\": 563, \"count\": 14, \"label\": \"count\"}, {\"out_degree\": 564, \"count\": 22, \"label\": \"count\"}, {\"out_degree\": 565, \"count\": 21, \"label\": \"count\"}, {\"out_degree\": 566, \"count\": 13, \"label\": \"count\"}, {\"out_degree\": 567, \"count\": 12, \"label\": \"count\"}, {\"out_degree\": 568, \"count\": 11, \"label\": \"count\"}, {\"out_degree\": 569, \"count\": 5, \"label\": \"count\"}, {\"out_degree\": 570, \"count\": 10, \"label\": \"count\"}, {\"out_degree\": 571, \"count\": 12, \"label\": \"count\"}, {\"out_degree\": 572, \"count\": 9, \"label\": \"count\"}, {\"out_degree\": 573, \"count\": 9, \"label\": \"count\"}, {\"out_degree\": 574, \"count\": 4, \"label\": \"count\"}, {\"out_degree\": 575, \"count\": 11, \"label\": \"count\"}, {\"out_degree\": 576, \"count\": 10, \"label\": \"count\"}, {\"out_degree\": 577, \"count\": 15, \"label\": \"count\"}, {\"out_degree\": 578, \"count\": 9, \"label\": \"count\"}, {\"out_degree\": 579, \"count\": 10, \"label\": \"count\"}, {\"out_degree\": 580, \"count\": 11, \"label\": \"count\"}, {\"out_degree\": 581, \"count\": 7, \"label\": \"count\"}, {\"out_degree\": 582, \"count\": 13, \"label\": \"count\"}, {\"out_degree\": 583, \"count\": 5, \"label\": \"count\"}, {\"out_degree\": 584, \"count\": 8, \"label\": \"count\"}, {\"out_degree\": 585, \"count\": 10, \"label\": \"count\"}, {\"out_degree\": 586, \"count\": 14, \"label\": \"count\"}, {\"out_degree\": 587, \"count\": 7, \"label\": \"count\"}, {\"out_degree\": 588, \"count\": 7, \"label\": \"count\"}, {\"out_degree\": 589, \"count\": 16, \"label\": \"count\"}, {\"out_degree\": 590, \"count\": 5, \"label\": \"count\"}, {\"out_degree\": 591, \"count\": 11, \"label\": \"count\"}, {\"out_degree\": 592, \"count\": 9, \"label\": \"count\"}, {\"out_degree\": 593, \"count\": 12, \"label\": \"count\"}, {\"out_degree\": 594, \"count\": 8, \"label\": \"count\"}, {\"out_degree\": 595, \"count\": 15, \"label\": \"count\"}, {\"out_degree\": 596, \"count\": 17, \"label\": \"count\"}, {\"out_degree\": 597, \"count\": 15, \"label\": \"count\"}, {\"out_degree\": 598, \"count\": 10, \"label\": \"count\"}, {\"out_degree\": 599, \"count\": 12, \"label\": \"count\"}, {\"out_degree\": 600, \"count\": 11, \"label\": \"count\"}, {\"out_degree\": 601, \"count\": 14, \"label\": \"count\"}, {\"out_degree\": 602, \"count\": 4, \"label\": \"count\"}, {\"out_degree\": 603, \"count\": 17, \"label\": \"count\"}, {\"out_degree\": 604, \"count\": 16, \"label\": \"count\"}, {\"out_degree\": 605, \"count\": 8, \"label\": \"count\"}, {\"out_degree\": 606, \"count\": 6, \"label\": \"count\"}, {\"out_degree\": 607, \"count\": 10, \"label\": \"count\"}, {\"out_degree\": 608, \"count\": 10, \"label\": \"count\"}, {\"out_degree\": 609, \"count\": 8, \"label\": \"count\"}, {\"out_degree\": 610, \"count\": 11, \"label\": \"count\"}, {\"out_degree\": 611, \"count\": 9, \"label\": \"count\"}, {\"out_degree\": 612, \"count\": 7, \"label\": \"count\"}, {\"out_degree\": 613, \"count\": 8, \"label\": \"count\"}, {\"out_degree\": 614, \"count\": 6, \"label\": \"count\"}, {\"out_degree\": 615, \"count\": 9, \"label\": \"count\"}, {\"out_degree\": 616, \"count\": 11, \"label\": \"count\"}, {\"out_degree\": 617, \"count\": 10, \"label\": \"count\"}, {\"out_degree\": 618, \"count\": 13, \"label\": \"count\"}, {\"out_degree\": 619, \"count\": 13, \"label\": \"count\"}, {\"out_degree\": 620, \"count\": 13, \"label\": \"count\"}, {\"out_degree\": 621, \"count\": 14, \"label\": \"count\"}, {\"out_degree\": 622, \"count\": 16, \"label\": \"count\"}, {\"out_degree\": 623, \"count\": 14, \"label\": \"count\"}, {\"out_degree\": 624, \"count\": 14, \"label\": \"count\"}, {\"out_degree\": 625, \"count\": 19, \"label\": \"count\"}, {\"out_degree\": 626, \"count\": 12, \"label\": \"count\"}, {\"out_degree\": 627, \"count\": 25, \"label\": \"count\"}, {\"out_degree\": 628, \"count\": 15, \"label\": \"count\"}, {\"out_degree\": 629, \"count\": 10, \"label\": \"count\"}, {\"out_degree\": 630, \"count\": 15, \"label\": \"count\"}, {\"out_degree\": 631, \"count\": 8, \"label\": \"count\"}, {\"out_degree\": 632, \"count\": 17, \"label\": \"count\"}, {\"out_degree\": 633, \"count\": 12, \"label\": \"count\"}, {\"out_degree\": 634, \"count\": 6, \"label\": \"count\"}, {\"out_degree\": 635, \"count\": 9, \"label\": \"count\"}, {\"out_degree\": 636, \"count\": 10, \"label\": \"count\"}, {\"out_degree\": 637, \"count\": 9, \"label\": \"count\"}, {\"out_degree\": 638, \"count\": 10, \"label\": \"count\"}, {\"out_degree\": 639, \"count\": 11, \"label\": \"count\"}, {\"out_degree\": 640, \"count\": 17, \"label\": \"count\"}, {\"out_degree\": 641, \"count\": 18, \"label\": \"count\"}, {\"out_degree\": 642, \"count\": 18, \"label\": \"count\"}, {\"out_degree\": 643, \"count\": 22, \"label\": \"count\"}, {\"out_degree\": 644, \"count\": 18, \"label\": \"count\"}, {\"out_degree\": 645, \"count\": 10, \"label\": \"count\"}, {\"out_degree\": 646, \"count\": 14, \"label\": \"count\"}, {\"out_degree\": 647, \"count\": 17, \"label\": \"count\"}, {\"out_degree\": 648, \"count\": 18, \"label\": \"count\"}, {\"out_degree\": 649, \"count\": 16, \"label\": \"count\"}, {\"out_degree\": 650, \"count\": 8, \"label\": \"count\"}, {\"out_degree\": 651, \"count\": 11, \"label\": \"count\"}, {\"out_degree\": 652, \"count\": 10, \"label\": \"count\"}, {\"out_degree\": 653, \"count\": 13, \"label\": \"count\"}, {\"out_degree\": 654, \"count\": 12, \"label\": \"count\"}, {\"out_degree\": 655, \"count\": 4, \"label\": \"count\"}, {\"out_degree\": 656, \"count\": 13, \"label\": \"count\"}, {\"out_degree\": 657, \"count\": 11, \"label\": \"count\"}, {\"out_degree\": 658, \"count\": 5, \"label\": \"count\"}, {\"out_degree\": 659, \"count\": 7, \"label\": \"count\"}, {\"out_degree\": 660, \"count\": 9, \"label\": \"count\"}, {\"out_degree\": 661, \"count\": 10, \"label\": \"count\"}, {\"out_degree\": 662, \"count\": 9, \"label\": \"count\"}, {\"out_degree\": 663, \"count\": 6, \"label\": \"count\"}, {\"out_degree\": 664, \"count\": 7, \"label\": \"count\"}, {\"out_degree\": 665, \"count\": 7, \"label\": \"count\"}, {\"out_degree\": 666, \"count\": 4, \"label\": \"count\"}, {\"out_degree\": 667, \"count\": 5, \"label\": \"count\"}, {\"out_degree\": 668, \"count\": 2, \"label\": \"count\"}, {\"out_degree\": 669, \"count\": 5, \"label\": \"count\"}, {\"out_degree\": 670, \"count\": 4, \"label\": \"count\"}, {\"out_degree\": 671, \"count\": 4, \"label\": \"count\"}, {\"out_degree\": 672, \"count\": 1, \"label\": \"count\"}, {\"out_degree\": 673, \"count\": 3, \"label\": \"count\"}, {\"out_degree\": 674, \"count\": 1, \"label\": \"count\"}, {\"out_degree\": 676, \"count\": 4, \"label\": \"count\"}, {\"out_degree\": 677, \"count\": 7, \"label\": \"count\"}, {\"out_degree\": 678, \"count\": 4, \"label\": \"count\"}, {\"out_degree\": 679, \"count\": 5, \"label\": \"count\"}, {\"out_degree\": 680, \"count\": 1, \"label\": \"count\"}, {\"out_degree\": 681, \"count\": 4, \"label\": \"count\"}, {\"out_degree\": 682, \"count\": 6, \"label\": \"count\"}, {\"out_degree\": 683, \"count\": 1, \"label\": \"count\"}, {\"out_degree\": 684, \"count\": 4, \"label\": \"count\"}, {\"out_degree\": 685, \"count\": 1, \"label\": \"count\"}, {\"out_degree\": 686, \"count\": 4, \"label\": \"count\"}, {\"out_degree\": 687, \"count\": 3, \"label\": \"count\"}, {\"out_degree\": 688, \"count\": 5, \"label\": \"count\"}, {\"out_degree\": 689, \"count\": 5, \"label\": \"count\"}, {\"out_degree\": 690, \"count\": 3, \"label\": \"count\"}, {\"out_degree\": 691, \"count\": 3, \"label\": \"count\"}, {\"out_degree\": 692, \"count\": 4, \"label\": \"count\"}, {\"out_degree\": 694, \"count\": 3, \"label\": \"count\"}, {\"out_degree\": 695, \"count\": 2, \"label\": \"count\"}, {\"out_degree\": 696, \"count\": 4, \"label\": \"count\"}, {\"out_degree\": 698, \"count\": 3, \"label\": \"count\"}, {\"out_degree\": 699, \"count\": 3, \"label\": \"count\"}, {\"out_degree\": 700, \"count\": 6, \"label\": \"count\"}, {\"out_degree\": 701, \"count\": 2, \"label\": \"count\"}, {\"out_degree\": 702, \"count\": 2, \"label\": \"count\"}, {\"out_degree\": 703, \"count\": 3, \"label\": \"count\"}, {\"out_degree\": 704, \"count\": 3, \"label\": \"count\"}, {\"out_degree\": 706, \"count\": 1, \"label\": \"count\"}, {\"out_degree\": 707, \"count\": 3, \"label\": \"count\"}, {\"out_degree\": 708, \"count\": 6, \"label\": \"count\"}, {\"out_degree\": 709, \"count\": 7, \"label\": \"count\"}, {\"out_degree\": 711, \"count\": 4, \"label\": \"count\"}, {\"out_degree\": 712, \"count\": 5, \"label\": \"count\"}, {\"out_degree\": 713, \"count\": 2, \"label\": \"count\"}, {\"out_degree\": 714, \"count\": 6, \"label\": \"count\"}, {\"out_degree\": 715, \"count\": 6, \"label\": \"count\"}, {\"out_degree\": 716, \"count\": 3, \"label\": \"count\"}, {\"out_degree\": 717, \"count\": 1, \"label\": \"count\"}, {\"out_degree\": 718, \"count\": 4, \"label\": \"count\"}, {\"out_degree\": 719, \"count\": 6, \"label\": \"count\"}, {\"out_degree\": 720, \"count\": 2, \"label\": \"count\"}, {\"out_degree\": 721, \"count\": 3, \"label\": \"count\"}, {\"out_degree\": 722, \"count\": 3, \"label\": \"count\"}, {\"out_degree\": 723, \"count\": 5, \"label\": \"count\"}, {\"out_degree\": 724, \"count\": 3, \"label\": \"count\"}, {\"out_degree\": 725, \"count\": 3, \"label\": \"count\"}, {\"out_degree\": 726, \"count\": 4, \"label\": \"count\"}, {\"out_degree\": 727, \"count\": 4, \"label\": \"count\"}, {\"out_degree\": 728, \"count\": 2, \"label\": \"count\"}, {\"out_degree\": 729, \"count\": 5, \"label\": \"count\"}, {\"out_degree\": 730, \"count\": 6, \"label\": \"count\"}, {\"out_degree\": 731, \"count\": 5, \"label\": \"count\"}, {\"out_degree\": 732, \"count\": 3, \"label\": \"count\"}, {\"out_degree\": 733, \"count\": 3, \"label\": \"count\"}, {\"out_degree\": 734, \"count\": 6, \"label\": \"count\"}, {\"out_degree\": 735, \"count\": 3, \"label\": \"count\"}, {\"out_degree\": 736, \"count\": 4, \"label\": \"count\"}, {\"out_degree\": 737, \"count\": 3, \"label\": \"count\"}, {\"out_degree\": 738, \"count\": 2, \"label\": \"count\"}, {\"out_degree\": 739, \"count\": 7, \"label\": \"count\"}, {\"out_degree\": 740, \"count\": 2, \"label\": \"count\"}, {\"out_degree\": 741, \"count\": 4, \"label\": \"count\"}, {\"out_degree\": 742, \"count\": 4, \"label\": \"count\"}, {\"out_degree\": 743, \"count\": 2, \"label\": \"count\"}, {\"out_degree\": 744, \"count\": 4, \"label\": \"count\"}, {\"out_degree\": 745, \"count\": 3, \"label\": \"count\"}, {\"out_degree\": 746, \"count\": 4, \"label\": \"count\"}, {\"out_degree\": 747, \"count\": 1, \"label\": \"count\"}, {\"out_degree\": 748, \"count\": 4, \"label\": \"count\"}, {\"out_degree\": 749, \"count\": 2, \"label\": \"count\"}, {\"out_degree\": 750, \"count\": 3, \"label\": \"count\"}, {\"out_degree\": 751, \"count\": 1, \"label\": \"count\"}, {\"out_degree\": 752, \"count\": 4, \"label\": \"count\"}, {\"out_degree\": 753, \"count\": 2, \"label\": \"count\"}, {\"out_degree\": 754, \"count\": 1, \"label\": \"count\"}, {\"out_degree\": 755, \"count\": 2, \"label\": \"count\"}, {\"out_degree\": 756, \"count\": 4, \"label\": \"count\"}, {\"out_degree\": 757, \"count\": 4, \"label\": \"count\"}, {\"out_degree\": 758, \"count\": 4, \"label\": \"count\"}, {\"out_degree\": 759, \"count\": 2, \"label\": \"count\"}, {\"out_degree\": 760, \"count\": 3, \"label\": \"count\"}, {\"out_degree\": 761, \"count\": 3, \"label\": \"count\"}, {\"out_degree\": 762, \"count\": 7, \"label\": \"count\"}, {\"out_degree\": 763, \"count\": 4, \"label\": \"count\"}, {\"out_degree\": 764, \"count\": 5, \"label\": \"count\"}, {\"out_degree\": 765, \"count\": 4, \"label\": \"count\"}, {\"out_degree\": 766, \"count\": 5, \"label\": \"count\"}, {\"out_degree\": 767, \"count\": 5, \"label\": \"count\"}, {\"out_degree\": 768, \"count\": 4, \"label\": \"count\"}, {\"out_degree\": 769, \"count\": 7, \"label\": \"count\"}, {\"out_degree\": 770, \"count\": 4, \"label\": \"count\"}, {\"out_degree\": 771, \"count\": 1, \"label\": \"count\"}, {\"out_degree\": 772, \"count\": 4, \"label\": \"count\"}, {\"out_degree\": 773, \"count\": 3, \"label\": \"count\"}, {\"out_degree\": 774, \"count\": 1, \"label\": \"count\"}, {\"out_degree\": 775, \"count\": 4, \"label\": \"count\"}, {\"out_degree\": 776, \"count\": 3, \"label\": \"count\"}, {\"out_degree\": 777, \"count\": 1, \"label\": \"count\"}, {\"out_degree\": 778, \"count\": 5, \"label\": \"count\"}, {\"out_degree\": 779, \"count\": 2, \"label\": \"count\"}, {\"out_degree\": 780, \"count\": 2, \"label\": \"count\"}, {\"out_degree\": 781, \"count\": 4, \"label\": \"count\"}, {\"out_degree\": 782, \"count\": 5, \"label\": \"count\"}, {\"out_degree\": 783, \"count\": 2, \"label\": \"count\"}, {\"out_degree\": 784, \"count\": 3, \"label\": \"count\"}, {\"out_degree\": 785, \"count\": 1, \"label\": \"count\"}, {\"out_degree\": 786, \"count\": 2, \"label\": \"count\"}, {\"out_degree\": 787, \"count\": 5, \"label\": \"count\"}, {\"out_degree\": 788, \"count\": 2, \"label\": \"count\"}, {\"out_degree\": 789, \"count\": 4, \"label\": \"count\"}, {\"out_degree\": 790, \"count\": 4, \"label\": \"count\"}, {\"out_degree\": 791, \"count\": 5, \"label\": \"count\"}, {\"out_degree\": 792, \"count\": 5, \"label\": \"count\"}, {\"out_degree\": 793, \"count\": 3, \"label\": \"count\"}, {\"out_degree\": 794, \"count\": 3, \"label\": \"count\"}, {\"out_degree\": 795, \"count\": 1, \"label\": \"count\"}, {\"out_degree\": 796, \"count\": 2, \"label\": \"count\"}, {\"out_degree\": 797, \"count\": 3, \"label\": \"count\"}, {\"out_degree\": 799, \"count\": 5, \"label\": \"count\"}, {\"out_degree\": 800, \"count\": 1, \"label\": \"count\"}, {\"out_degree\": 801, \"count\": 2, \"label\": \"count\"}, {\"out_degree\": 802, \"count\": 2, \"label\": \"count\"}, {\"out_degree\": 803, \"count\": 1, \"label\": \"count\"}, {\"out_degree\": 804, \"count\": 7, \"label\": \"count\"}, {\"out_degree\": 805, \"count\": 2, \"label\": \"count\"}, {\"out_degree\": 806, \"count\": 5, \"label\": \"count\"}, {\"out_degree\": 807, \"count\": 5, \"label\": \"count\"}, {\"out_degree\": 808, \"count\": 4, \"label\": \"count\"}, {\"out_degree\": 809, \"count\": 7, \"label\": \"count\"}, {\"out_degree\": 810, \"count\": 3, \"label\": \"count\"}, {\"out_degree\": 811, \"count\": 4, \"label\": \"count\"}, {\"out_degree\": 812, \"count\": 1, \"label\": \"count\"}, {\"out_degree\": 813, \"count\": 4, \"label\": \"count\"}, {\"out_degree\": 814, \"count\": 7, \"label\": \"count\"}, {\"out_degree\": 815, \"count\": 9, \"label\": \"count\"}, {\"out_degree\": 816, \"count\": 2, \"label\": \"count\"}, {\"out_degree\": 817, \"count\": 1, \"label\": \"count\"}, {\"out_degree\": 818, \"count\": 3, \"label\": \"count\"}, {\"out_degree\": 819, \"count\": 2, \"label\": \"count\"}, {\"out_degree\": 820, \"count\": 4, \"label\": \"count\"}, {\"out_degree\": 821, \"count\": 4, \"label\": \"count\"}, {\"out_degree\": 822, \"count\": 4, \"label\": \"count\"}, {\"out_degree\": 823, \"count\": 3, \"label\": \"count\"}, {\"out_degree\": 824, \"count\": 1, \"label\": \"count\"}, {\"out_degree\": 825, \"count\": 10, \"label\": \"count\"}, {\"out_degree\": 826, \"count\": 2, \"label\": \"count\"}, {\"out_degree\": 828, \"count\": 3, \"label\": \"count\"}, {\"out_degree\": 829, \"count\": 3, \"label\": \"count\"}, {\"out_degree\": 830, \"count\": 5, \"label\": \"count\"}, {\"out_degree\": 833, \"count\": 1, \"label\": \"count\"}, {\"out_degree\": 834, \"count\": 4, \"label\": \"count\"}, {\"out_degree\": 837, \"count\": 3, \"label\": \"count\"}, {\"out_degree\": 838, \"count\": 1, \"label\": \"count\"}, {\"out_degree\": 839, \"count\": 1, \"label\": \"count\"}, {\"out_degree\": 841, \"count\": 1, \"label\": \"count\"}, {\"out_degree\": 842, \"count\": 1, \"label\": \"count\"}, {\"out_degree\": 843, \"count\": 1, \"label\": \"count\"}, {\"out_degree\": 844, \"count\": 1, \"label\": \"count\"}, {\"out_degree\": 845, \"count\": 3, \"label\": \"count\"}, {\"out_degree\": 846, \"count\": 3, \"label\": \"count\"}, {\"out_degree\": 847, \"count\": 1, \"label\": \"count\"}, {\"out_degree\": 848, \"count\": 2, \"label\": \"count\"}, {\"out_degree\": 849, \"count\": 4, \"label\": \"count\"}, {\"out_degree\": 850, \"count\": 2, \"label\": \"count\"}, {\"out_degree\": 851, \"count\": 1, \"label\": \"count\"}, {\"out_degree\": 852, \"count\": 5, \"label\": \"count\"}, {\"out_degree\": 853, \"count\": 1, \"label\": \"count\"}, {\"out_degree\": 854, \"count\": 3, \"label\": \"count\"}, {\"out_degree\": 856, \"count\": 4, \"label\": \"count\"}, {\"out_degree\": 857, \"count\": 3, \"label\": \"count\"}, {\"out_degree\": 858, \"count\": 3, \"label\": \"count\"}, {\"out_degree\": 859, \"count\": 4, \"label\": \"count\"}, {\"out_degree\": 860, \"count\": 3, \"label\": \"count\"}, {\"out_degree\": 861, \"count\": 3, \"label\": \"count\"}, {\"out_degree\": 862, \"count\": 3, \"label\": \"count\"}, {\"out_degree\": 863, \"count\": 4, \"label\": \"count\"}, {\"out_degree\": 864, \"count\": 4, \"label\": \"count\"}, {\"out_degree\": 865, \"count\": 3, \"label\": \"count\"}, {\"out_degree\": 866, \"count\": 1, \"label\": \"count\"}, {\"out_degree\": 867, \"count\": 1, \"label\": \"count\"}, {\"out_degree\": 868, \"count\": 1, \"label\": \"count\"}, {\"out_degree\": 870, \"count\": 2, \"label\": \"count\"}, {\"out_degree\": 871, \"count\": 2, \"label\": \"count\"}, {\"out_degree\": 873, \"count\": 1, \"label\": \"count\"}, {\"out_degree\": 875, \"count\": 1, \"label\": \"count\"}, {\"out_degree\": 876, \"count\": 2, \"label\": \"count\"}, {\"out_degree\": 877, \"count\": 3, \"label\": \"count\"}, {\"out_degree\": 878, \"count\": 1, \"label\": \"count\"}, {\"out_degree\": 880, \"count\": 3, \"label\": \"count\"}, {\"out_degree\": 881, \"count\": 4, \"label\": \"count\"}, {\"out_degree\": 882, \"count\": 2, \"label\": \"count\"}, {\"out_degree\": 883, \"count\": 2, \"label\": \"count\"}, {\"out_degree\": 884, \"count\": 2, \"label\": \"count\"}, {\"out_degree\": 885, \"count\": 1, \"label\": \"count\"}, {\"out_degree\": 886, \"count\": 1, \"label\": \"count\"}, {\"out_degree\": 887, \"count\": 3, \"label\": \"count\"}, {\"out_degree\": 888, \"count\": 1, \"label\": \"count\"}, {\"out_degree\": 890, \"count\": 1, \"label\": \"count\"}, {\"out_degree\": 891, \"count\": 3, \"label\": \"count\"}, {\"out_degree\": 892, \"count\": 1, \"label\": \"count\"}, {\"out_degree\": 895, \"count\": 1, \"label\": \"count\"}, {\"out_degree\": 898, \"count\": 2, \"label\": \"count\"}, {\"out_degree\": 900, \"count\": 1, \"label\": \"count\"}, {\"out_degree\": 901, \"count\": 3, \"label\": \"count\"}, {\"out_degree\": 902, \"count\": 1, \"label\": \"count\"}, {\"out_degree\": 903, \"count\": 2, \"label\": \"count\"}, {\"out_degree\": 904, \"count\": 2, \"label\": \"count\"}, {\"out_degree\": 905, \"count\": 1, \"label\": \"count\"}, {\"out_degree\": 907, \"count\": 1, \"label\": \"count\"}, {\"out_degree\": 908, \"count\": 1, \"label\": \"count\"}, {\"out_degree\": 909, \"count\": 1, \"label\": \"count\"}, {\"out_degree\": 910, \"count\": 2, \"label\": \"count\"}, {\"out_degree\": 911, \"count\": 3, \"label\": \"count\"}, {\"out_degree\": 912, \"count\": 1, \"label\": \"count\"}, {\"out_degree\": 914, \"count\": 3, \"label\": \"count\"}, {\"out_degree\": 915, \"count\": 1, \"label\": \"count\"}, {\"out_degree\": 917, \"count\": 1, \"label\": \"count\"}, {\"out_degree\": 918, \"count\": 3, \"label\": \"count\"}, {\"out_degree\": 919, \"count\": 3, \"label\": \"count\"}, {\"out_degree\": 920, \"count\": 1, \"label\": \"count\"}, {\"out_degree\": 921, \"count\": 1, \"label\": \"count\"}, {\"out_degree\": 922, \"count\": 1, \"label\": \"count\"}, {\"out_degree\": 923, \"count\": 3, \"label\": \"count\"}, {\"out_degree\": 924, \"count\": 2, \"label\": \"count\"}, {\"out_degree\": 925, \"count\": 1, \"label\": \"count\"}, {\"out_degree\": 927, \"count\": 2, \"label\": \"count\"}, {\"out_degree\": 928, \"count\": 1, \"label\": \"count\"}, {\"out_degree\": 929, \"count\": 1, \"label\": \"count\"}, {\"out_degree\": 931, \"count\": 1, \"label\": \"count\"}, {\"out_degree\": 934, \"count\": 1, \"label\": \"count\"}, {\"out_degree\": 935, \"count\": 1, \"label\": \"count\"}, {\"out_degree\": 936, \"count\": 2, \"label\": \"count\"}, {\"out_degree\": 937, \"count\": 1, \"label\": \"count\"}, {\"out_degree\": 939, \"count\": 1, \"label\": \"count\"}, {\"out_degree\": 943, \"count\": 2, \"label\": \"count\"}, {\"out_degree\": 944, \"count\": 1, \"label\": \"count\"}, {\"out_degree\": 945, \"count\": 1, \"label\": \"count\"}, {\"out_degree\": 946, \"count\": 1, \"label\": \"count\"}, {\"out_degree\": 947, \"count\": 1, \"label\": \"count\"}, {\"out_degree\": 948, \"count\": 3, \"label\": \"count\"}, {\"out_degree\": 949, \"count\": 2, \"label\": \"count\"}, {\"out_degree\": 950, \"count\": 3, \"label\": \"count\"}, {\"out_degree\": 951, \"count\": 1, \"label\": \"count\"}, {\"out_degree\": 952, \"count\": 1, \"label\": \"count\"}, {\"out_degree\": 953, \"count\": 3, \"label\": \"count\"}, {\"out_degree\": 954, \"count\": 2, \"label\": \"count\"}, {\"out_degree\": 955, \"count\": 1, \"label\": \"count\"}, {\"out_degree\": 956, \"count\": 1, \"label\": \"count\"}, {\"out_degree\": 957, \"count\": 4, \"label\": \"count\"}, {\"out_degree\": 958, \"count\": 2, \"label\": \"count\"}, {\"out_degree\": 960, \"count\": 1, \"label\": \"count\"}, {\"out_degree\": 961, \"count\": 1, \"label\": \"count\"}, {\"out_degree\": 962, \"count\": 1, \"label\": \"count\"}, {\"out_degree\": 964, \"count\": 1, \"label\": \"count\"}, {\"out_degree\": 966, \"count\": 3, \"label\": \"count\"}, {\"out_degree\": 967, \"count\": 2, \"label\": \"count\"}, {\"out_degree\": 968, \"count\": 2, \"label\": \"count\"}, {\"out_degree\": 969, \"count\": 2, \"label\": \"count\"}, {\"out_degree\": 970, \"count\": 1, \"label\": \"count\"}, {\"out_degree\": 971, \"count\": 3, \"label\": \"count\"}, {\"out_degree\": 972, \"count\": 3, \"label\": \"count\"}, {\"out_degree\": 973, \"count\": 4, \"label\": \"count\"}, {\"out_degree\": 974, \"count\": 2, \"label\": \"count\"}, {\"out_degree\": 975, \"count\": 1, \"label\": \"count\"}, {\"out_degree\": 976, \"count\": 1, \"label\": \"count\"}, {\"out_degree\": 978, \"count\": 4, \"label\": \"count\"}, {\"out_degree\": 979, \"count\": 1, \"label\": \"count\"}, {\"out_degree\": 980, \"count\": 4, \"label\": \"count\"}, {\"out_degree\": 981, \"count\": 1, \"label\": \"count\"}, {\"out_degree\": 982, \"count\": 7, \"label\": \"count\"}, {\"out_degree\": 983, \"count\": 5, \"label\": \"count\"}, {\"out_degree\": 984, \"count\": 3, \"label\": \"count\"}, {\"out_degree\": 985, \"count\": 1, \"label\": \"count\"}, {\"out_degree\": 986, \"count\": 2, \"label\": \"count\"}, {\"out_degree\": 987, \"count\": 2, \"label\": \"count\"}, {\"out_degree\": 988, \"count\": 2, \"label\": \"count\"}, {\"out_degree\": 989, \"count\": 1, \"label\": \"count\"}, {\"out_degree\": 990, \"count\": 4, \"label\": \"count\"}, {\"out_degree\": 991, \"count\": 4, \"label\": \"count\"}, {\"out_degree\": 992, \"count\": 4, \"label\": \"count\"}, {\"out_degree\": 993, \"count\": 6, \"label\": \"count\"}, {\"out_degree\": 994, \"count\": 4, \"label\": \"count\"}, {\"out_degree\": 995, \"count\": 4, \"label\": \"count\"}, {\"out_degree\": 996, \"count\": 4, \"label\": \"count\"}, {\"out_degree\": 997, \"count\": 2, \"label\": \"count\"}, {\"out_degree\": 998, \"count\": 4, \"label\": \"count\"}, {\"out_degree\": 999, \"count\": 2, \"label\": \"count\"}, {\"out_degree\": 1000, \"count\": 7, \"label\": \"count\"}, {\"out_degree\": 1001, \"count\": 6, \"label\": \"count\"}, {\"out_degree\": 1002, \"count\": 1, \"label\": \"count\"}, {\"out_degree\": 1003, \"count\": 4, \"label\": \"count\"}, {\"out_degree\": 1004, \"count\": 1, \"label\": \"count\"}, {\"out_degree\": 1005, \"count\": 1, \"label\": \"count\"}, {\"out_degree\": 1006, \"count\": 3, \"label\": \"count\"}, {\"out_degree\": 1007, \"count\": 1, \"label\": \"count\"}, {\"out_degree\": 1008, \"count\": 5, \"label\": \"count\"}, {\"out_degree\": 1010, \"count\": 3, \"label\": \"count\"}, {\"out_degree\": 1011, \"count\": 1, \"label\": \"count\"}, {\"out_degree\": 1012, \"count\": 5, \"label\": \"count\"}, {\"out_degree\": 1013, \"count\": 4, \"label\": \"count\"}, {\"out_degree\": 1014, \"count\": 6, \"label\": \"count\"}, {\"out_degree\": 1015, \"count\": 3, \"label\": \"count\"}, {\"out_degree\": 1016, \"count\": 6, \"label\": \"count\"}, {\"out_degree\": 1017, \"count\": 5, \"label\": \"count\"}, {\"out_degree\": 1018, \"count\": 4, \"label\": \"count\"}, {\"out_degree\": 1020, \"count\": 5, \"label\": \"count\"}, {\"out_degree\": 1021, \"count\": 3, \"label\": \"count\"}, {\"out_degree\": 1022, \"count\": 3, \"label\": \"count\"}, {\"out_degree\": 1023, \"count\": 5, \"label\": \"count\"}, {\"out_degree\": 1024, \"count\": 6, \"label\": \"count\"}, {\"out_degree\": 1025, \"count\": 7, \"label\": \"count\"}, {\"out_degree\": 1026, \"count\": 4, \"label\": \"count\"}, {\"out_degree\": 1027, \"count\": 4, \"label\": \"count\"}, {\"out_degree\": 1028, \"count\": 6, \"label\": \"count\"}, {\"out_degree\": 1029, \"count\": 5, \"label\": \"count\"}, {\"out_degree\": 1030, \"count\": 7, \"label\": \"count\"}, {\"out_degree\": 1031, \"count\": 7, \"label\": \"count\"}, {\"out_degree\": 1032, \"count\": 2, \"label\": \"count\"}, {\"out_degree\": 1033, \"count\": 2, \"label\": \"count\"}, {\"out_degree\": 1034, \"count\": 4, \"label\": \"count\"}, {\"out_degree\": 1035, \"count\": 5, \"label\": \"count\"}, {\"out_degree\": 1036, \"count\": 5, \"label\": \"count\"}, {\"out_degree\": 1037, \"count\": 2, \"label\": \"count\"}, {\"out_degree\": 1038, \"count\": 3, \"label\": \"count\"}, {\"out_degree\": 1039, \"count\": 1, \"label\": \"count\"}, {\"out_degree\": 1040, \"count\": 2, \"label\": \"count\"}, {\"out_degree\": 1041, \"count\": 4, \"label\": \"count\"}, {\"out_degree\": 1042, \"count\": 2, \"label\": \"count\"}, {\"out_degree\": 1043, \"count\": 2, \"label\": \"count\"}, {\"out_degree\": 1044, \"count\": 1, \"label\": \"count\"}, {\"out_degree\": 1045, \"count\": 2, \"label\": \"count\"}, {\"out_degree\": 1046, \"count\": 1, \"label\": \"count\"}, {\"out_degree\": 1048, \"count\": 3, \"label\": \"count\"}, {\"out_degree\": 1050, \"count\": 4, \"label\": \"count\"}, {\"out_degree\": 1051, \"count\": 4, \"label\": \"count\"}, {\"out_degree\": 1052, \"count\": 5, \"label\": \"count\"}, {\"out_degree\": 1053, \"count\": 2, \"label\": \"count\"}, {\"out_degree\": 1054, \"count\": 2, \"label\": \"count\"}, {\"out_degree\": 1055, \"count\": 1, \"label\": \"count\"}, {\"out_degree\": 1056, \"count\": 3, \"label\": \"count\"}, {\"out_degree\": 1057, \"count\": 4, \"label\": \"count\"}, {\"out_degree\": 1060, \"count\": 1, \"label\": \"count\"}, {\"out_degree\": 1061, \"count\": 1, \"label\": \"count\"}, {\"out_degree\": 1063, \"count\": 2, \"label\": \"count\"}, {\"out_degree\": 1065, \"count\": 2, \"label\": \"count\"}, {\"out_degree\": 1068, \"count\": 4, \"label\": \"count\"}, {\"out_degree\": 1069, \"count\": 3, \"label\": \"count\"}, {\"out_degree\": 1071, \"count\": 2, \"label\": \"count\"}, {\"out_degree\": 1072, \"count\": 4, \"label\": \"count\"}, {\"out_degree\": 1073, \"count\": 1, \"label\": \"count\"}, {\"out_degree\": 1081, \"count\": 1, \"label\": \"count\"}, {\"out_degree\": 1083, \"count\": 1, \"label\": \"count\"}, {\"out_degree\": 1087, \"count\": 1, \"label\": \"count\"}, {\"out_degree\": 1088, \"count\": 1, \"label\": \"count\"}, {\"out_degree\": 1091, \"count\": 2, \"label\": \"count\"}, {\"out_degree\": 1095, \"count\": 1, \"label\": \"count\"}, {\"out_degree\": 1105, \"count\": 1, \"label\": \"count\"}, {\"out_degree\": 1106, \"count\": 1, \"label\": \"count\"}, {\"out_degree\": 1108, \"count\": 2, \"label\": \"count\"}, {\"out_degree\": 1110, \"count\": 1, \"label\": \"count\"}, {\"out_degree\": 1111, \"count\": 2, \"label\": \"count\"}, {\"out_degree\": 1112, \"count\": 1, \"label\": \"count\"}, {\"out_degree\": 1113, \"count\": 2, \"label\": \"count\"}, {\"out_degree\": 1117, \"count\": 1, \"label\": \"count\"}, {\"out_degree\": 1119, \"count\": 1, \"label\": \"count\"}, {\"out_degree\": 1120, \"count\": 2, \"label\": \"count\"}, {\"out_degree\": 1121, \"count\": 1, \"label\": \"count\"}, {\"out_degree\": 1122, \"count\": 1, \"label\": \"count\"}, {\"out_degree\": 1123, \"count\": 2, \"label\": \"count\"}, {\"out_degree\": 1125, \"count\": 1, \"label\": \"count\"}, {\"out_degree\": 1129, \"count\": 1, \"label\": \"count\"}, {\"out_degree\": 1132, \"count\": 1, \"label\": \"count\"}, {\"out_degree\": 1133, \"count\": 1, \"label\": \"count\"}, {\"out_degree\": 1135, \"count\": 2, \"label\": \"count\"}, {\"out_degree\": 1137, \"count\": 1, \"label\": \"count\"}, {\"out_degree\": 1139, \"count\": 2, \"label\": \"count\"}, {\"out_degree\": 1141, \"count\": 2, \"label\": \"count\"}, {\"out_degree\": 1142, \"count\": 1, \"label\": \"count\"}, {\"out_degree\": 1144, \"count\": 1, \"label\": \"count\"}, {\"out_degree\": 1146, \"count\": 2, \"label\": \"count\"}, {\"out_degree\": 1149, \"count\": 1, \"label\": \"count\"}, {\"out_degree\": 1150, \"count\": 2, \"label\": \"count\"}, {\"out_degree\": 1151, \"count\": 1, \"label\": \"count\"}, {\"out_degree\": 1152, \"count\": 2, \"label\": \"count\"}, {\"out_degree\": 1154, \"count\": 1, \"label\": \"count\"}, {\"out_degree\": 1155, \"count\": 1, \"label\": \"count\"}, {\"out_degree\": 1156, \"count\": 1, \"label\": \"count\"}, {\"out_degree\": 1157, \"count\": 1, \"label\": \"count\"}, {\"out_degree\": 1160, \"count\": 2, \"label\": \"count\"}, {\"out_degree\": 1161, \"count\": 1, \"label\": \"count\"}, {\"out_degree\": 1162, \"count\": 1, \"label\": \"count\"}, {\"out_degree\": 1165, \"count\": 2, \"label\": \"count\"}, {\"out_degree\": 1166, \"count\": 1, \"label\": \"count\"}, {\"out_degree\": 1167, \"count\": 1, \"label\": \"count\"}, {\"out_degree\": 1168, \"count\": 1, \"label\": \"count\"}, {\"out_degree\": 1172, \"count\": 2, \"label\": \"count\"}, {\"out_degree\": 1176, \"count\": 1, \"label\": \"count\"}, {\"out_degree\": 1178, \"count\": 1, \"label\": \"count\"}, {\"out_degree\": 1182, \"count\": 1, \"label\": \"count\"}, {\"out_degree\": 1193, \"count\": 2, \"label\": \"count\"}, {\"out_degree\": 1194, \"count\": 1, \"label\": \"count\"}, {\"out_degree\": 1196, \"count\": 3, \"label\": \"count\"}, {\"out_degree\": 1197, \"count\": 2, \"label\": \"count\"}, {\"out_degree\": 1199, \"count\": 2, \"label\": \"count\"}, {\"out_degree\": 1200, \"count\": 2, \"label\": \"count\"}, {\"out_degree\": 1202, \"count\": 1, \"label\": \"count\"}, {\"out_degree\": 1207, \"count\": 1, \"label\": \"count\"}, {\"out_degree\": 1208, \"count\": 2, \"label\": \"count\"}, {\"out_degree\": 1209, \"count\": 1, \"label\": \"count\"}, {\"out_degree\": 1213, \"count\": 1, \"label\": \"count\"}, {\"out_degree\": 1225, \"count\": 1, \"label\": \"count\"}, {\"out_degree\": 1231, \"count\": 1, \"label\": \"count\"}, {\"out_degree\": 1234, \"count\": 1, \"label\": \"count\"}, {\"out_degree\": 1243, \"count\": 1, \"label\": \"count\"}, {\"out_degree\": 1244, \"count\": 1, \"label\": \"count\"}, {\"out_degree\": 1250, \"count\": 1, \"label\": \"count\"}, {\"out_degree\": 1252, \"count\": 1, \"label\": \"count\"}, {\"out_degree\": 1254, \"count\": 3, \"label\": \"count\"}, {\"out_degree\": 1263, \"count\": 1, \"label\": \"count\"}, {\"out_degree\": 1265, \"count\": 2, \"label\": \"count\"}, {\"out_degree\": 1267, \"count\": 1, \"label\": \"count\"}, {\"out_degree\": 1270, \"count\": 1, \"label\": \"count\"}, {\"out_degree\": 1276, \"count\": 1, \"label\": \"count\"}, {\"out_degree\": 1278, \"count\": 1, \"label\": \"count\"}, {\"out_degree\": 1280, \"count\": 1, \"label\": \"count\"}, {\"out_degree\": 1291, \"count\": 1, \"label\": \"count\"}, {\"out_degree\": 1293, \"count\": 1, \"label\": \"count\"}, {\"out_degree\": 1309, \"count\": 1, \"label\": \"count\"}, {\"out_degree\": 1327, \"count\": 1, \"label\": \"count\"}, {\"out_degree\": 1328, \"count\": 1, \"label\": \"count\"}, {\"out_degree\": 1330, \"count\": 1, \"label\": \"count\"}, {\"out_degree\": 1352, \"count\": 1, \"label\": \"count\"}, {\"out_degree\": 1357, \"count\": 1, \"label\": \"count\"}, {\"out_degree\": 1365, \"count\": 1, \"label\": \"count\"}, {\"out_degree\": 1367, \"count\": 1, \"label\": \"count\"}, {\"out_degree\": 1381, \"count\": 1, \"label\": \"count\"}, {\"out_degree\": 1392, \"count\": 1, \"label\": \"count\"}, {\"out_degree\": 1393, \"count\": 1, \"label\": \"count\"}, {\"out_degree\": 1394, \"count\": 1, \"label\": \"count\"}, {\"out_degree\": 1399, \"count\": 1, \"label\": \"count\"}, {\"out_degree\": 1402, \"count\": 1, \"label\": \"count\"}, {\"out_degree\": 1407, \"count\": 1, \"label\": \"count\"}, {\"out_degree\": 1412, \"count\": 1, \"label\": \"count\"}, {\"out_degree\": 1418, \"count\": 1, \"label\": \"count\"}, {\"out_degree\": 1419, \"count\": 1, \"label\": \"count\"}, {\"out_degree\": 1440, \"count\": 2, \"label\": \"count\"}, {\"out_degree\": 1445, \"count\": 1, \"label\": \"count\"}, {\"out_degree\": 1467, \"count\": 1, \"label\": \"count\"}, {\"out_degree\": 1479, \"count\": 1, \"label\": \"count\"}, {\"out_degree\": 1482, \"count\": 1, \"label\": \"count\"}, {\"out_degree\": 1487, \"count\": 1, \"label\": \"count\"}, {\"out_degree\": 1502, \"count\": 2, \"label\": \"count\"}, {\"out_degree\": 1518, \"count\": 1, \"label\": \"count\"}, {\"out_degree\": 1519, \"count\": 1, \"label\": \"count\"}, {\"out_degree\": 1537, \"count\": 1, \"label\": \"count\"}, {\"out_degree\": 1539, \"count\": 1, \"label\": \"count\"}, {\"out_degree\": 1558, \"count\": 1, \"label\": \"count\"}, {\"out_degree\": 1564, \"count\": 1, \"label\": \"count\"}, {\"out_degree\": 1586, \"count\": 1, \"label\": \"count\"}, {\"out_degree\": 1588, \"count\": 1, \"label\": \"count\"}, {\"out_degree\": 1593, \"count\": 1, \"label\": \"count\"}, {\"out_degree\": 1601, \"count\": 1, \"label\": \"count\"}, {\"out_degree\": 1625, \"count\": 1, \"label\": \"count\"}, {\"out_degree\": 1662, \"count\": 1, \"label\": \"count\"}, {\"out_degree\": 1720, \"count\": 1, \"label\": \"count\"}, {\"out_degree\": 1741, \"count\": 1, \"label\": \"count\"}, {\"out_degree\": 1780, \"count\": 1, \"label\": \"count\"}, {\"out_degree\": 1802, \"count\": 1, \"label\": \"count\"}, {\"out_degree\": 1812, \"count\": 2, \"label\": \"count\"}, {\"out_degree\": 1848, \"count\": 1, \"label\": \"count\"}, {\"out_degree\": 1897, \"count\": 1, \"label\": \"count\"}, {\"out_degree\": 1952, \"count\": 1, \"label\": \"count\"}, {\"out_degree\": 1971, \"count\": 1, \"label\": \"count\"}, {\"out_degree\": 1983, \"count\": 1, \"label\": \"count\"}, {\"out_degree\": 1986, \"count\": 1, \"label\": \"count\"}, {\"out_degree\": 1991, \"count\": 1, \"label\": \"count\"}, {\"out_degree\": 1992, \"count\": 1, \"label\": \"count\"}, {\"out_degree\": 2009, \"count\": 1, \"label\": \"count\"}, {\"out_degree\": 2024, \"count\": 1, \"label\": \"count\"}, {\"out_degree\": 2030, \"count\": 1, \"label\": \"count\"}, {\"out_degree\": 2032, \"count\": 1, \"label\": \"count\"}, {\"out_degree\": 2046, \"count\": 1, \"label\": \"count\"}, {\"out_degree\": 2053, \"count\": 1, \"label\": \"count\"}, {\"out_degree\": 2059, \"count\": 1, \"label\": \"count\"}, {\"out_degree\": 2060, \"count\": 2, \"label\": \"count\"}, {\"out_degree\": 2064, \"count\": 1, \"label\": \"count\"}, {\"out_degree\": 2065, \"count\": 1, \"label\": \"count\"}, {\"out_degree\": 2066, \"count\": 3, \"label\": \"count\"}, {\"out_degree\": 2067, \"count\": 1, \"label\": \"count\"}, {\"out_degree\": 2069, \"count\": 1, \"label\": \"count\"}, {\"out_degree\": 2072, \"count\": 3, \"label\": \"count\"}, {\"out_degree\": 2073, \"count\": 2, \"label\": \"count\"}, {\"out_degree\": 2074, \"count\": 3, \"label\": \"count\"}, {\"out_degree\": 2075, \"count\": 3, \"label\": \"count\"}, {\"out_degree\": 2076, \"count\": 1, \"label\": \"count\"}, {\"out_degree\": 2077, \"count\": 1, \"label\": \"count\"}, {\"out_degree\": 2078, \"count\": 2, \"label\": \"count\"}, {\"out_degree\": 2079, \"count\": 1, \"label\": \"count\"}, {\"out_degree\": 2081, \"count\": 2, \"label\": \"count\"}, {\"out_degree\": 2086, \"count\": 1, \"label\": \"count\"}, {\"out_degree\": 2089, \"count\": 1, \"label\": \"count\"}, {\"out_degree\": 2091, \"count\": 1, \"label\": \"count\"}, {\"out_degree\": 2097, \"count\": 1, \"label\": \"count\"}, {\"out_degree\": 2100, \"count\": 1, \"label\": \"count\"}, {\"out_degree\": 2125, \"count\": 1, \"label\": \"count\"}, {\"out_degree\": 2134, \"count\": 1, \"label\": \"count\"}, {\"out_degree\": 2138, \"count\": 2, \"label\": \"count\"}, {\"out_degree\": 2142, \"count\": 2, \"label\": \"count\"}, {\"out_degree\": 2144, \"count\": 6, \"label\": \"count\"}, {\"out_degree\": 2145, \"count\": 1, \"label\": \"count\"}, {\"out_degree\": 2146, \"count\": 2, \"label\": \"count\"}, {\"out_degree\": 2147, \"count\": 2, \"label\": \"count\"}, {\"out_degree\": 2148, \"count\": 1, \"label\": \"count\"}, {\"out_degree\": 2149, \"count\": 2, \"label\": \"count\"}, {\"out_degree\": 2150, \"count\": 2, \"label\": \"count\"}, {\"out_degree\": 2151, \"count\": 4, \"label\": \"count\"}, {\"out_degree\": 2152, \"count\": 4, \"label\": \"count\"}, {\"out_degree\": 2153, \"count\": 2, \"label\": \"count\"}, {\"out_degree\": 2154, \"count\": 3, \"label\": \"count\"}, {\"out_degree\": 2155, \"count\": 5, \"label\": \"count\"}, {\"out_degree\": 2156, \"count\": 3, \"label\": \"count\"}, {\"out_degree\": 2157, \"count\": 2, \"label\": \"count\"}, {\"out_degree\": 2158, \"count\": 3, \"label\": \"count\"}, {\"out_degree\": 2160, \"count\": 3, \"label\": \"count\"}, {\"out_degree\": 2161, \"count\": 1, \"label\": \"count\"}, {\"out_degree\": 2162, \"count\": 2, \"label\": \"count\"}, {\"out_degree\": 2164, \"count\": 2, \"label\": \"count\"}, {\"out_degree\": 2165, \"count\": 1, \"label\": \"count\"}, {\"out_degree\": 2166, \"count\": 1, \"label\": \"count\"}, {\"out_degree\": 2167, \"count\": 1, \"label\": \"count\"}, {\"out_degree\": 2168, \"count\": 1, \"label\": \"count\"}, {\"out_degree\": 2169, \"count\": 2, \"label\": \"count\"}, {\"out_degree\": 2170, \"count\": 2, \"label\": \"count\"}, {\"out_degree\": 2171, \"count\": 2, \"label\": \"count\"}, {\"out_degree\": 2172, \"count\": 3, \"label\": \"count\"}, {\"out_degree\": 2173, \"count\": 1, \"label\": \"count\"}, {\"out_degree\": 2174, \"count\": 2, \"label\": \"count\"}, {\"out_degree\": 2175, \"count\": 4, \"label\": \"count\"}, {\"out_degree\": 2176, \"count\": 4, \"label\": \"count\"}, {\"out_degree\": 2177, \"count\": 3, \"label\": \"count\"}, {\"out_degree\": 2178, \"count\": 3, \"label\": \"count\"}, {\"out_degree\": 2179, \"count\": 2, \"label\": \"count\"}, {\"out_degree\": 2180, \"count\": 2, \"label\": \"count\"}, {\"out_degree\": 2181, \"count\": 4, \"label\": \"count\"}, {\"out_degree\": 2182, \"count\": 2, \"label\": \"count\"}, {\"out_degree\": 2183, \"count\": 1, \"label\": \"count\"}, {\"out_degree\": 2184, \"count\": 2, \"label\": \"count\"}, {\"out_degree\": 2185, \"count\": 2, \"label\": \"count\"}, {\"out_degree\": 2186, \"count\": 4, \"label\": \"count\"}, {\"out_degree\": 2187, \"count\": 3, \"label\": \"count\"}, {\"out_degree\": 2188, \"count\": 4, \"label\": \"count\"}, {\"out_degree\": 2189, \"count\": 4, \"label\": \"count\"}, {\"out_degree\": 2190, \"count\": 1, \"label\": \"count\"}, {\"out_degree\": 2191, \"count\": 4, \"label\": \"count\"}, {\"out_degree\": 2192, \"count\": 2, \"label\": \"count\"}, {\"out_degree\": 2194, \"count\": 4, \"label\": \"count\"}, {\"out_degree\": 2195, \"count\": 2, \"label\": \"count\"}, {\"out_degree\": 2196, \"count\": 4, \"label\": \"count\"}, {\"out_degree\": 2197, \"count\": 1, \"label\": \"count\"}, {\"out_degree\": 2198, \"count\": 3, \"label\": \"count\"}, {\"out_degree\": 2199, \"count\": 4, \"label\": \"count\"}, {\"out_degree\": 2200, \"count\": 3, \"label\": \"count\"}, {\"out_degree\": 2201, \"count\": 5, \"label\": \"count\"}, {\"out_degree\": 2202, \"count\": 9, \"label\": \"count\"}, {\"out_degree\": 2203, \"count\": 2, \"label\": \"count\"}, {\"out_degree\": 2204, \"count\": 2, \"label\": \"count\"}, {\"out_degree\": 2205, \"count\": 6, \"label\": \"count\"}, {\"out_degree\": 2206, \"count\": 6, \"label\": \"count\"}, {\"out_degree\": 2207, \"count\": 4, \"label\": \"count\"}, {\"out_degree\": 2208, \"count\": 6, \"label\": \"count\"}, {\"out_degree\": 2209, \"count\": 5, \"label\": \"count\"}, {\"out_degree\": 2210, \"count\": 5, \"label\": \"count\"}, {\"out_degree\": 2211, \"count\": 7, \"label\": \"count\"}, {\"out_degree\": 2212, \"count\": 9, \"label\": \"count\"}, {\"out_degree\": 2213, \"count\": 8, \"label\": \"count\"}, {\"out_degree\": 2214, \"count\": 6, \"label\": \"count\"}, {\"out_degree\": 2215, \"count\": 4, \"label\": \"count\"}, {\"out_degree\": 2216, \"count\": 7, \"label\": \"count\"}, {\"out_degree\": 2217, \"count\": 4, \"label\": \"count\"}, {\"out_degree\": 2218, \"count\": 3, \"label\": \"count\"}, {\"out_degree\": 2219, \"count\": 4, \"label\": \"count\"}, {\"out_degree\": 2220, \"count\": 12, \"label\": \"count\"}, {\"out_degree\": 2221, \"count\": 6, \"label\": \"count\"}, {\"out_degree\": 2222, \"count\": 7, \"label\": \"count\"}, {\"out_degree\": 2223, \"count\": 2, \"label\": \"count\"}, {\"out_degree\": 2224, \"count\": 4, \"label\": \"count\"}, {\"out_degree\": 2225, \"count\": 4, \"label\": \"count\"}, {\"out_degree\": 2226, \"count\": 12, \"label\": \"count\"}, {\"out_degree\": 2227, \"count\": 3, \"label\": \"count\"}, {\"out_degree\": 2228, \"count\": 2, \"label\": \"count\"}, {\"out_degree\": 2229, \"count\": 4, \"label\": \"count\"}, {\"out_degree\": 2230, \"count\": 5, \"label\": \"count\"}, {\"out_degree\": 2231, \"count\": 5, \"label\": \"count\"}, {\"out_degree\": 2232, \"count\": 3, \"label\": \"count\"}, {\"out_degree\": 2233, \"count\": 6, \"label\": \"count\"}, {\"out_degree\": 2234, \"count\": 8, \"label\": \"count\"}, {\"out_degree\": 2235, \"count\": 6, \"label\": \"count\"}, {\"out_degree\": 2236, \"count\": 3, \"label\": \"count\"}, {\"out_degree\": 2237, \"count\": 11, \"label\": \"count\"}, {\"out_degree\": 2238, \"count\": 11, \"label\": \"count\"}, {\"out_degree\": 2239, \"count\": 6, \"label\": \"count\"}, {\"out_degree\": 2240, \"count\": 9, \"label\": \"count\"}, {\"out_degree\": 2241, \"count\": 9, \"label\": \"count\"}, {\"out_degree\": 2242, \"count\": 4, \"label\": \"count\"}, {\"out_degree\": 2243, \"count\": 9, \"label\": \"count\"}, {\"out_degree\": 2244, \"count\": 13, \"label\": \"count\"}, {\"out_degree\": 2245, \"count\": 8, \"label\": \"count\"}, {\"out_degree\": 2246, \"count\": 9, \"label\": \"count\"}, {\"out_degree\": 2247, \"count\": 10, \"label\": \"count\"}, {\"out_degree\": 2248, \"count\": 5, \"label\": \"count\"}, {\"out_degree\": 2249, \"count\": 8, \"label\": \"count\"}, {\"out_degree\": 2250, \"count\": 5, \"label\": \"count\"}, {\"out_degree\": 2251, \"count\": 5, \"label\": \"count\"}, {\"out_degree\": 2252, \"count\": 3, \"label\": \"count\"}, {\"out_degree\": 2253, \"count\": 1, \"label\": \"count\"}, {\"out_degree\": 2254, \"count\": 3, \"label\": \"count\"}, {\"out_degree\": 2255, \"count\": 2, \"label\": \"count\"}, {\"out_degree\": 2256, \"count\": 1, \"label\": \"count\"}, {\"out_degree\": 2257, \"count\": 2, \"label\": \"count\"}, {\"out_degree\": 2258, \"count\": 2, \"label\": \"count\"}, {\"out_degree\": 2259, \"count\": 1, \"label\": \"count\"}, {\"out_degree\": 2260, \"count\": 2, \"label\": \"count\"}, {\"out_degree\": 2261, \"count\": 1, \"label\": \"count\"}, {\"out_degree\": 2262, \"count\": 4, \"label\": \"count\"}, {\"out_degree\": 2264, \"count\": 3, \"label\": \"count\"}, {\"out_degree\": 2265, \"count\": 4, \"label\": \"count\"}, {\"out_degree\": 2266, \"count\": 5, \"label\": \"count\"}, {\"out_degree\": 2267, \"count\": 8, \"label\": \"count\"}, {\"out_degree\": 2268, \"count\": 5, \"label\": \"count\"}, {\"out_degree\": 2269, \"count\": 3, \"label\": \"count\"}, {\"out_degree\": 2270, \"count\": 4, \"label\": \"count\"}, {\"out_degree\": 2271, \"count\": 6, \"label\": \"count\"}, {\"out_degree\": 2272, \"count\": 8, \"label\": \"count\"}, {\"out_degree\": 2273, \"count\": 7, \"label\": \"count\"}, {\"out_degree\": 2274, \"count\": 5, \"label\": \"count\"}, {\"out_degree\": 2275, \"count\": 3, \"label\": \"count\"}, {\"out_degree\": 2276, \"count\": 6, \"label\": \"count\"}, {\"out_degree\": 2277, \"count\": 5, \"label\": \"count\"}, {\"out_degree\": 2278, \"count\": 6, \"label\": \"count\"}, {\"out_degree\": 2279, \"count\": 5, \"label\": \"count\"}, {\"out_degree\": 2280, \"count\": 5, \"label\": \"count\"}, {\"out_degree\": 2281, \"count\": 6, \"label\": \"count\"}, {\"out_degree\": 2282, \"count\": 9, \"label\": \"count\"}, {\"out_degree\": 2283, \"count\": 2, \"label\": \"count\"}, {\"out_degree\": 2284, \"count\": 8, \"label\": \"count\"}, {\"out_degree\": 2285, \"count\": 5, \"label\": \"count\"}, {\"out_degree\": 2286, \"count\": 6, \"label\": \"count\"}, {\"out_degree\": 2287, \"count\": 1, \"label\": \"count\"}, {\"out_degree\": 2288, \"count\": 6, \"label\": \"count\"}, {\"out_degree\": 2289, \"count\": 6, \"label\": \"count\"}, {\"out_degree\": 2290, \"count\": 3, \"label\": \"count\"}, {\"out_degree\": 2291, \"count\": 4, \"label\": \"count\"}, {\"out_degree\": 2292, \"count\": 2, \"label\": \"count\"}, {\"out_degree\": 2293, \"count\": 8, \"label\": \"count\"}, {\"out_degree\": 2294, \"count\": 7, \"label\": \"count\"}, {\"out_degree\": 2295, \"count\": 14, \"label\": \"count\"}, {\"out_degree\": 2296, \"count\": 9, \"label\": \"count\"}, {\"out_degree\": 2297, \"count\": 4, \"label\": \"count\"}, {\"out_degree\": 2298, \"count\": 10, \"label\": \"count\"}, {\"out_degree\": 2299, \"count\": 2, \"label\": \"count\"}, {\"out_degree\": 2300, \"count\": 4, \"label\": \"count\"}, {\"out_degree\": 2301, \"count\": 6, \"label\": \"count\"}, {\"out_degree\": 2302, \"count\": 6, \"label\": \"count\"}, {\"out_degree\": 2303, \"count\": 8, \"label\": \"count\"}, {\"out_degree\": 2304, \"count\": 11, \"label\": \"count\"}, {\"out_degree\": 2305, \"count\": 8, \"label\": \"count\"}, {\"out_degree\": 2306, \"count\": 4, \"label\": \"count\"}, {\"out_degree\": 2307, \"count\": 8, \"label\": \"count\"}, {\"out_degree\": 2308, \"count\": 5, \"label\": \"count\"}, {\"out_degree\": 2309, \"count\": 16, \"label\": \"count\"}, {\"out_degree\": 2310, \"count\": 11, \"label\": \"count\"}, {\"out_degree\": 2311, \"count\": 11, \"label\": \"count\"}, {\"out_degree\": 2312, \"count\": 7, \"label\": \"count\"}, {\"out_degree\": 2313, \"count\": 13, \"label\": \"count\"}, {\"out_degree\": 2314, \"count\": 11, \"label\": \"count\"}, {\"out_degree\": 2315, \"count\": 11, \"label\": \"count\"}, {\"out_degree\": 2316, \"count\": 6, \"label\": \"count\"}, {\"out_degree\": 2317, \"count\": 7, \"label\": \"count\"}, {\"out_degree\": 2318, \"count\": 8, \"label\": \"count\"}, {\"out_degree\": 2319, \"count\": 12, \"label\": \"count\"}, {\"out_degree\": 2320, \"count\": 12, \"label\": \"count\"}, {\"out_degree\": 2321, \"count\": 12, \"label\": \"count\"}, {\"out_degree\": 2322, \"count\": 4, \"label\": \"count\"}, {\"out_degree\": 2323, \"count\": 12, \"label\": \"count\"}, {\"out_degree\": 2324, \"count\": 3, \"label\": \"count\"}, {\"out_degree\": 2325, \"count\": 4, \"label\": \"count\"}, {\"out_degree\": 2326, \"count\": 5, \"label\": \"count\"}, {\"out_degree\": 2327, \"count\": 6, \"label\": \"count\"}, {\"out_degree\": 2328, \"count\": 5, \"label\": \"count\"}, {\"out_degree\": 2330, \"count\": 1, \"label\": \"count\"}, {\"out_degree\": 2331, \"count\": 1, \"label\": \"count\"}, {\"out_degree\": 2332, \"count\": 4, \"label\": \"count\"}, {\"out_degree\": 2333, \"count\": 3, \"label\": \"count\"}, {\"out_degree\": 2334, \"count\": 4, \"label\": \"count\"}, {\"out_degree\": 2335, \"count\": 4, \"label\": \"count\"}, {\"out_degree\": 2336, \"count\": 3, \"label\": \"count\"}, {\"out_degree\": 2337, \"count\": 3, \"label\": \"count\"}, {\"out_degree\": 2338, \"count\": 2, \"label\": \"count\"}, {\"out_degree\": 2339, \"count\": 2, \"label\": \"count\"}, {\"out_degree\": 2340, \"count\": 3, \"label\": \"count\"}, {\"out_degree\": 2341, \"count\": 2, \"label\": \"count\"}, {\"out_degree\": 2342, \"count\": 3, \"label\": \"count\"}, {\"out_degree\": 2343, \"count\": 3, \"label\": \"count\"}, {\"out_degree\": 2344, \"count\": 4, \"label\": \"count\"}, {\"out_degree\": 2345, \"count\": 1, \"label\": \"count\"}, {\"out_degree\": 2346, \"count\": 2, \"label\": \"count\"}, {\"out_degree\": 2347, \"count\": 3, \"label\": \"count\"}, {\"out_degree\": 2348, \"count\": 5, \"label\": \"count\"}, {\"out_degree\": 2349, \"count\": 2, \"label\": \"count\"}, {\"out_degree\": 2350, \"count\": 2, \"label\": \"count\"}, {\"out_degree\": 2351, \"count\": 2, \"label\": \"count\"}, {\"out_degree\": 2353, \"count\": 2, \"label\": \"count\"}, {\"out_degree\": 2354, \"count\": 3, \"label\": \"count\"}, {\"out_degree\": 2355, \"count\": 3, \"label\": \"count\"}, {\"out_degree\": 2356, \"count\": 1, \"label\": \"count\"}, {\"out_degree\": 2358, \"count\": 4, \"label\": \"count\"}, {\"out_degree\": 2359, \"count\": 1, \"label\": \"count\"}, {\"out_degree\": 2362, \"count\": 1, \"label\": \"count\"}, {\"out_degree\": 2363, \"count\": 1, \"label\": \"count\"}, {\"out_degree\": 2364, \"count\": 4, \"label\": \"count\"}, {\"out_degree\": 2365, \"count\": 1, \"label\": \"count\"}, {\"out_degree\": 2366, \"count\": 1, \"label\": \"count\"}, {\"out_degree\": 2367, \"count\": 1, \"label\": \"count\"}, {\"out_degree\": 2368, \"count\": 2, \"label\": \"count\"}, {\"out_degree\": 2369, \"count\": 1, \"label\": \"count\"}, {\"out_degree\": 2373, \"count\": 2, \"label\": \"count\"}, {\"out_degree\": 2375, \"count\": 2, \"label\": \"count\"}, {\"out_degree\": 2377, \"count\": 1, \"label\": \"count\"}, {\"out_degree\": 2380, \"count\": 1, \"label\": \"count\"}, {\"out_degree\": 2381, \"count\": 1, \"label\": \"count\"}, {\"out_degree\": 2386, \"count\": 1, \"label\": \"count\"}, {\"out_degree\": 2387, \"count\": 1, \"label\": \"count\"}, {\"out_degree\": 2391, \"count\": 1, \"label\": \"count\"}, {\"out_degree\": 2392, \"count\": 1, \"label\": \"count\"}, {\"out_degree\": 2394, \"count\": 1, \"label\": \"count\"}, {\"out_degree\": 2402, \"count\": 1, \"label\": \"count\"}, {\"out_degree\": 2415, \"count\": 1, \"label\": \"count\"}, {\"out_degree\": 2449, \"count\": 1, \"label\": \"count\"}, {\"out_degree\": 2454, \"count\": 1, \"label\": \"count\"}, {\"out_degree\": 2455, \"count\": 1, \"label\": \"count\"}, {\"out_degree\": 2472, \"count\": 1, \"label\": \"count\"}, {\"out_degree\": 2478, \"count\": 1, \"label\": \"count\"}, {\"out_degree\": 2508, \"count\": 1, \"label\": \"count\"}, {\"out_degree\": 2512, \"count\": 1, \"label\": \"count\"}, {\"out_degree\": 2529, \"count\": 1, \"label\": \"count\"}, {\"out_degree\": 2561, \"count\": 1, \"label\": \"count\"}, {\"out_degree\": 2581, \"count\": 1, \"label\": \"count\"}, {\"out_degree\": 2590, \"count\": 1, \"label\": \"count\"}, {\"out_degree\": 2603, \"count\": 1, \"label\": \"count\"}, {\"out_degree\": 2610, \"count\": 1, \"label\": \"count\"}, {\"out_degree\": 2629, \"count\": 1, \"label\": \"count\"}, {\"out_degree\": 2630, \"count\": 1, \"label\": \"count\"}, {\"out_degree\": 2742, \"count\": 1, \"label\": \"count\"}, {\"out_degree\": 2807, \"count\": 1, \"label\": \"count\"}, {\"out_degree\": 2811, \"count\": 1, \"label\": \"count\"}, {\"out_degree\": 2821, \"count\": 1, \"label\": \"count\"}, {\"out_degree\": 2834, \"count\": 1, \"label\": \"count\"}, {\"out_degree\": 2835, \"count\": 2, \"label\": \"count\"}, {\"out_degree\": 2836, \"count\": 2, \"label\": \"count\"}, {\"out_degree\": 2837, \"count\": 2, \"label\": \"count\"}, {\"out_degree\": 2838, \"count\": 5, \"label\": \"count\"}, {\"out_degree\": 2839, \"count\": 6, \"label\": \"count\"}, {\"out_degree\": 2840, \"count\": 3, \"label\": \"count\"}, {\"out_degree\": 2841, \"count\": 2, \"label\": \"count\"}, {\"out_degree\": 2842, \"count\": 2, \"label\": \"count\"}, {\"out_degree\": 2843, \"count\": 2, \"label\": \"count\"}, {\"out_degree\": 2844, \"count\": 2, \"label\": \"count\"}, {\"out_degree\": 2845, \"count\": 1, \"label\": \"count\"}, {\"out_degree\": 2847, \"count\": 3, \"label\": \"count\"}, {\"out_degree\": 2848, \"count\": 1, \"label\": \"count\"}, {\"out_degree\": 2849, \"count\": 1, \"label\": \"count\"}, {\"out_degree\": 2850, \"count\": 3, \"label\": \"count\"}, {\"out_degree\": 2851, \"count\": 3, \"label\": \"count\"}, {\"out_degree\": 2852, \"count\": 1, \"label\": \"count\"}, {\"out_degree\": 2853, \"count\": 3, \"label\": \"count\"}, {\"out_degree\": 2854, \"count\": 1, \"label\": \"count\"}, {\"out_degree\": 2855, \"count\": 5, \"label\": \"count\"}, {\"out_degree\": 2856, \"count\": 3, \"label\": \"count\"}, {\"out_degree\": 2857, \"count\": 2, \"label\": \"count\"}, {\"out_degree\": 2858, \"count\": 3, \"label\": \"count\"}, {\"out_degree\": 2859, \"count\": 3, \"label\": \"count\"}, {\"out_degree\": 2860, \"count\": 4, \"label\": \"count\"}, {\"out_degree\": 2861, \"count\": 4, \"label\": \"count\"}, {\"out_degree\": 2862, \"count\": 4, \"label\": \"count\"}, {\"out_degree\": 2863, \"count\": 4, \"label\": \"count\"}, {\"out_degree\": 2864, \"count\": 7, \"label\": \"count\"}, {\"out_degree\": 2865, \"count\": 7, \"label\": \"count\"}, {\"out_degree\": 2866, \"count\": 5, \"label\": \"count\"}, {\"out_degree\": 2867, \"count\": 6, \"label\": \"count\"}, {\"out_degree\": 2868, \"count\": 9, \"label\": \"count\"}, {\"out_degree\": 2869, \"count\": 8, \"label\": \"count\"}, {\"out_degree\": 2870, \"count\": 10, \"label\": \"count\"}, {\"out_degree\": 2871, \"count\": 7, \"label\": \"count\"}, {\"out_degree\": 2872, \"count\": 7, \"label\": \"count\"}, {\"out_degree\": 2873, \"count\": 7, \"label\": \"count\"}, {\"out_degree\": 2874, \"count\": 6, \"label\": \"count\"}, {\"out_degree\": 2875, \"count\": 12, \"label\": \"count\"}, {\"out_degree\": 2876, \"count\": 11, \"label\": \"count\"}, {\"out_degree\": 2877, \"count\": 2, \"label\": \"count\"}, {\"out_degree\": 2878, \"count\": 11, \"label\": \"count\"}, {\"out_degree\": 2879, \"count\": 9, \"label\": \"count\"}, {\"out_degree\": 2880, \"count\": 5, \"label\": \"count\"}, {\"out_degree\": 2881, \"count\": 9, \"label\": \"count\"}, {\"out_degree\": 2882, \"count\": 5, \"label\": \"count\"}, {\"out_degree\": 2883, \"count\": 7, \"label\": \"count\"}, {\"out_degree\": 2884, \"count\": 3, \"label\": \"count\"}, {\"out_degree\": 2885, \"count\": 4, \"label\": \"count\"}, {\"out_degree\": 2886, \"count\": 11, \"label\": \"count\"}, {\"out_degree\": 2887, \"count\": 5, \"label\": \"count\"}, {\"out_degree\": 2888, \"count\": 5, \"label\": \"count\"}, {\"out_degree\": 2889, \"count\": 10, \"label\": \"count\"}, {\"out_degree\": 2890, \"count\": 5, \"label\": \"count\"}, {\"out_degree\": 2891, \"count\": 6, \"label\": \"count\"}, {\"out_degree\": 2892, \"count\": 10, \"label\": \"count\"}, {\"out_degree\": 2893, \"count\": 8, \"label\": \"count\"}, {\"out_degree\": 2894, \"count\": 9, \"label\": \"count\"}, {\"out_degree\": 2895, \"count\": 9, \"label\": \"count\"}, {\"out_degree\": 2896, \"count\": 8, \"label\": \"count\"}, {\"out_degree\": 2897, \"count\": 9, \"label\": \"count\"}, {\"out_degree\": 2898, \"count\": 7, \"label\": \"count\"}, {\"out_degree\": 2899, \"count\": 11, \"label\": \"count\"}, {\"out_degree\": 2900, \"count\": 8, \"label\": \"count\"}, {\"out_degree\": 2901, \"count\": 13, \"label\": \"count\"}, {\"out_degree\": 2902, \"count\": 16, \"label\": \"count\"}, {\"out_degree\": 2903, \"count\": 13, \"label\": \"count\"}, {\"out_degree\": 2904, \"count\": 14, \"label\": \"count\"}, {\"out_degree\": 2905, \"count\": 12, \"label\": \"count\"}, {\"out_degree\": 2906, \"count\": 7, \"label\": \"count\"}, {\"out_degree\": 2907, \"count\": 12, \"label\": \"count\"}, {\"out_degree\": 2908, \"count\": 10, \"label\": \"count\"}, {\"out_degree\": 2909, \"count\": 11, \"label\": \"count\"}, {\"out_degree\": 2910, \"count\": 14, \"label\": \"count\"}, {\"out_degree\": 2911, \"count\": 10, \"label\": \"count\"}, {\"out_degree\": 2912, \"count\": 9, \"label\": \"count\"}, {\"out_degree\": 2913, \"count\": 7, \"label\": \"count\"}, {\"out_degree\": 2914, \"count\": 7, \"label\": \"count\"}, {\"out_degree\": 2915, \"count\": 13, \"label\": \"count\"}, {\"out_degree\": 2916, \"count\": 12, \"label\": \"count\"}, {\"out_degree\": 2917, \"count\": 8, \"label\": \"count\"}, {\"out_degree\": 2918, \"count\": 12, \"label\": \"count\"}, {\"out_degree\": 2919, \"count\": 14, \"label\": \"count\"}, {\"out_degree\": 2920, \"count\": 11, \"label\": \"count\"}, {\"out_degree\": 2921, \"count\": 7, \"label\": \"count\"}, {\"out_degree\": 2922, \"count\": 7, \"label\": \"count\"}, {\"out_degree\": 2923, \"count\": 6, \"label\": \"count\"}, {\"out_degree\": 2924, \"count\": 9, \"label\": \"count\"}, {\"out_degree\": 2925, \"count\": 8, \"label\": \"count\"}, {\"out_degree\": 2926, \"count\": 11, \"label\": \"count\"}, {\"out_degree\": 2927, \"count\": 10, \"label\": \"count\"}, {\"out_degree\": 2928, \"count\": 18, \"label\": \"count\"}, {\"out_degree\": 2929, \"count\": 7, \"label\": \"count\"}, {\"out_degree\": 2930, \"count\": 11, \"label\": \"count\"}, {\"out_degree\": 2931, \"count\": 11, \"label\": \"count\"}, {\"out_degree\": 2932, \"count\": 6, \"label\": \"count\"}, {\"out_degree\": 2933, \"count\": 13, \"label\": \"count\"}, {\"out_degree\": 2934, \"count\": 4, \"label\": \"count\"}, {\"out_degree\": 2935, \"count\": 11, \"label\": \"count\"}, {\"out_degree\": 2936, \"count\": 12, \"label\": \"count\"}, {\"out_degree\": 2937, \"count\": 7, \"label\": \"count\"}, {\"out_degree\": 2938, \"count\": 1, \"label\": \"count\"}, {\"out_degree\": 2939, \"count\": 5, \"label\": \"count\"}, {\"out_degree\": 2940, \"count\": 10, \"label\": \"count\"}, {\"out_degree\": 2941, \"count\": 4, \"label\": \"count\"}, {\"out_degree\": 2942, \"count\": 5, \"label\": \"count\"}, {\"out_degree\": 2943, \"count\": 7, \"label\": \"count\"}, {\"out_degree\": 2944, \"count\": 6, \"label\": \"count\"}, {\"out_degree\": 2945, \"count\": 4, \"label\": \"count\"}, {\"out_degree\": 2946, \"count\": 7, \"label\": \"count\"}, {\"out_degree\": 2947, \"count\": 6, \"label\": \"count\"}, {\"out_degree\": 2948, \"count\": 4, \"label\": \"count\"}, {\"out_degree\": 2949, \"count\": 2, \"label\": \"count\"}, {\"out_degree\": 2950, \"count\": 4, \"label\": \"count\"}, {\"out_degree\": 2951, \"count\": 3, \"label\": \"count\"}, {\"out_degree\": 2952, \"count\": 1, \"label\": \"count\"}, {\"out_degree\": 2953, \"count\": 10, \"label\": \"count\"}, {\"out_degree\": 2954, \"count\": 5, \"label\": \"count\"}, {\"out_degree\": 2955, \"count\": 4, \"label\": \"count\"}, {\"out_degree\": 2957, \"count\": 2, \"label\": \"count\"}, {\"out_degree\": 2958, \"count\": 5, \"label\": \"count\"}, {\"out_degree\": 2959, \"count\": 2, \"label\": \"count\"}, {\"out_degree\": 2960, \"count\": 1, \"label\": \"count\"}, {\"out_degree\": 2961, \"count\": 1, \"label\": \"count\"}, {\"out_degree\": 2962, \"count\": 1, \"label\": \"count\"}, {\"out_degree\": 2963, \"count\": 2, \"label\": \"count\"}, {\"out_degree\": 2964, \"count\": 5, \"label\": \"count\"}, {\"out_degree\": 2965, \"count\": 2, \"label\": \"count\"}, {\"out_degree\": 2967, \"count\": 2, \"label\": \"count\"}, {\"out_degree\": 2968, \"count\": 2, \"label\": \"count\"}, {\"out_degree\": 2969, \"count\": 2, \"label\": \"count\"}, {\"out_degree\": 2973, \"count\": 2, \"label\": \"count\"}, {\"out_degree\": 2975, \"count\": 1, \"label\": \"count\"}, {\"out_degree\": 2976, \"count\": 1, \"label\": \"count\"}, {\"out_degree\": 2977, \"count\": 2, \"label\": \"count\"}, {\"out_degree\": 2978, \"count\": 1, \"label\": \"count\"}, {\"out_degree\": 2981, \"count\": 1, \"label\": \"count\"}, {\"out_degree\": 2982, \"count\": 1, \"label\": \"count\"}, {\"out_degree\": 2988, \"count\": 1, \"label\": \"count\"}, {\"out_degree\": 2989, \"count\": 1, \"label\": \"count\"}, {\"out_degree\": 3004, \"count\": 1, \"label\": \"count\"}, {\"out_degree\": 3006, \"count\": 1, \"label\": \"count\"}, {\"out_degree\": 3014, \"count\": 1, \"label\": \"count\"}, {\"out_degree\": 3015, \"count\": 1, \"label\": \"count\"}, {\"out_degree\": 3016, \"count\": 1, \"label\": \"count\"}, {\"out_degree\": 3018, \"count\": 1, \"label\": \"count\"}, {\"out_degree\": 3019, \"count\": 1, \"label\": \"count\"}, {\"out_degree\": 3023, \"count\": 1, \"label\": \"count\"}, {\"out_degree\": 3028, \"count\": 2, \"label\": \"count\"}, {\"out_degree\": 3030, \"count\": 1, \"label\": \"count\"}, {\"out_degree\": 3032, \"count\": 3, \"label\": \"count\"}, {\"out_degree\": 3034, \"count\": 1, \"label\": \"count\"}, {\"out_degree\": 3035, \"count\": 1, \"label\": \"count\"}, {\"out_degree\": 3036, \"count\": 10, \"label\": \"count\"}, {\"out_degree\": 3037, \"count\": 3, \"label\": \"count\"}, {\"out_degree\": 3038, \"count\": 3, \"label\": \"count\"}, {\"out_degree\": 3039, \"count\": 1, \"label\": \"count\"}, {\"out_degree\": 3040, \"count\": 1, \"label\": \"count\"}, {\"out_degree\": 3042, \"count\": 2, \"label\": \"count\"}, {\"out_degree\": 3043, \"count\": 1, \"label\": \"count\"}, {\"out_degree\": 3045, \"count\": 4, \"label\": \"count\"}, {\"out_degree\": 3046, \"count\": 3, \"label\": \"count\"}, {\"out_degree\": 3047, \"count\": 3, \"label\": \"count\"}, {\"out_degree\": 3048, \"count\": 5, \"label\": \"count\"}, {\"out_degree\": 3049, \"count\": 4, \"label\": \"count\"}, {\"out_degree\": 3050, \"count\": 3, \"label\": \"count\"}, {\"out_degree\": 3051, \"count\": 1, \"label\": \"count\"}, {\"out_degree\": 3052, \"count\": 1, \"label\": \"count\"}, {\"out_degree\": 3053, \"count\": 4, \"label\": \"count\"}, {\"out_degree\": 3054, \"count\": 4, \"label\": \"count\"}, {\"out_degree\": 3055, \"count\": 2, \"label\": \"count\"}, {\"out_degree\": 3056, \"count\": 3, \"label\": \"count\"}, {\"out_degree\": 3057, \"count\": 6, \"label\": \"count\"}, {\"out_degree\": 3058, \"count\": 3, \"label\": \"count\"}, {\"out_degree\": 3060, \"count\": 3, \"label\": \"count\"}, {\"out_degree\": 3061, \"count\": 3, \"label\": \"count\"}, {\"out_degree\": 3062, \"count\": 1, \"label\": \"count\"}, {\"out_degree\": 3063, \"count\": 1, \"label\": \"count\"}, {\"out_degree\": 3065, \"count\": 4, \"label\": \"count\"}, {\"out_degree\": 3066, \"count\": 2, \"label\": \"count\"}, {\"out_degree\": 3067, \"count\": 2, \"label\": \"count\"}, {\"out_degree\": 3068, \"count\": 2, \"label\": \"count\"}, {\"out_degree\": 3069, \"count\": 5, \"label\": \"count\"}, {\"out_degree\": 3070, \"count\": 4, \"label\": \"count\"}, {\"out_degree\": 3071, \"count\": 2, \"label\": \"count\"}, {\"out_degree\": 3072, \"count\": 3, \"label\": \"count\"}, {\"out_degree\": 3073, \"count\": 3, \"label\": \"count\"}, {\"out_degree\": 3074, \"count\": 4, \"label\": \"count\"}, {\"out_degree\": 3076, \"count\": 1, \"label\": \"count\"}, {\"out_degree\": 3077, \"count\": 2, \"label\": \"count\"}, {\"out_degree\": 3078, \"count\": 1, \"label\": \"count\"}, {\"out_degree\": 3079, \"count\": 1, \"label\": \"count\"}, {\"out_degree\": 3080, \"count\": 1, \"label\": \"count\"}, {\"out_degree\": 3081, \"count\": 1, \"label\": \"count\"}, {\"out_degree\": 3082, \"count\": 1, \"label\": \"count\"}, {\"out_degree\": 3084, \"count\": 1, \"label\": \"count\"}, {\"out_degree\": 3087, \"count\": 2, \"label\": \"count\"}, {\"out_degree\": 3088, \"count\": 1, \"label\": \"count\"}, {\"out_degree\": 3089, \"count\": 2, \"label\": \"count\"}, {\"out_degree\": 3093, \"count\": 1, \"label\": \"count\"}, {\"out_degree\": 3094, \"count\": 3, \"label\": \"count\"}, {\"out_degree\": 3096, \"count\": 1, \"label\": \"count\"}, {\"out_degree\": 3097, \"count\": 1, \"label\": \"count\"}, {\"out_degree\": 3100, \"count\": 2, \"label\": \"count\"}, {\"out_degree\": 3103, \"count\": 1, \"label\": \"count\"}, {\"out_degree\": 3110, \"count\": 1, \"label\": \"count\"}, {\"out_degree\": 3111, \"count\": 1, \"label\": \"count\"}, {\"out_degree\": 3115, \"count\": 1, \"label\": \"count\"}, {\"out_degree\": 3137, \"count\": 2, \"label\": \"count\"}, {\"out_degree\": 3192, \"count\": 1, \"label\": \"count\"}, {\"out_degree\": 3204, \"count\": 1, \"label\": \"count\"}, {\"out_degree\": 3207, \"count\": 1, \"label\": \"count\"}, {\"out_degree\": 3211, \"count\": 1, \"label\": \"count\"}, {\"out_degree\": 3217, \"count\": 1, \"label\": \"count\"}, {\"out_degree\": 3236, \"count\": 1, \"label\": \"count\"}, {\"out_degree\": 3579, \"count\": 1, \"label\": \"count\"}, {\"out_degree\": 4391, \"count\": 1, \"label\": \"count\"}, {\"out_degree\": 4541, \"count\": 1, \"label\": \"count\"}, {\"out_degree\": 4592, \"count\": 2, \"label\": \"count\"}, {\"out_degree\": 5121, \"count\": 1, \"label\": \"count\"}, {\"out_degree\": 5136, \"count\": 1, \"label\": \"count\"}, {\"out_degree\": 5138, \"count\": 1, \"label\": \"count\"}, {\"out_degree\": 5237, \"count\": 1, \"label\": \"count\"}, {\"out_degree\": 5516, \"count\": 1, \"label\": \"count\"}, {\"out_degree\": 5651, \"count\": 1, \"label\": \"count\"}, {\"out_degree\": 8343, \"count\": 1, \"label\": \"count\"}]}}, {\"mode\": \"vega-lite\"});\n",
       "</script>"
      ],
      "text/plain": [
       "alt.Chart(...)"
      ]
     },
     "execution_count": 102,
     "metadata": {},
     "output_type": "execute_result"
    }
   ],
   "source": [
    "id debug:\n",
    "    data = pd.read_csv(\n",
    "        os.environ[\"OUT\"] + \"/statistics.out_degree.distribution.tsv\", sep=\"\\t\"\n",
    "    )\n",
    "\n",
    "    alt.Chart(data).mark_circle(size=60).encode(\n",
    "        x=alt.X(\"out_degree\", scale=alt.Scale(type=\"log\")),\n",
    "        y=alt.Y(\"count\", scale=alt.Scale(type=\"log\"), title=\"count of nodes\"),\n",
    "        tooltip=[\"out_degree\", \"count\"],\n",
    "    ).interactive().properties(title=\"Distribution of Out Degree\")"
   ]
  },
  {
   "cell_type": "markdown",
   "metadata": {},
   "source": [
    "## Summary of results"
   ]
  },
  {
   "cell_type": "code",
   "execution_count": 103,
   "metadata": {},
   "outputs": [
    {
     "name": "stdout",
     "output_type": "stream",
     "text": [
      "-rw-r--r-- 1 amandeep isdstaff  32M Mar  1 18:27 /data/amandeep/wikidata-20210215/useful_wikidata_files/aliases.de.tsv.gz\n",
      "-rw-r--r-- 1 amandeep isdstaff  24M Mar  1 18:23 /data/amandeep/wikidata-20210215/useful_wikidata_files/aliases.es.tsv.gz\n",
      "-rw-r--r-- 1 amandeep isdstaff  27M Mar  1 18:34 /data/amandeep/wikidata-20210215/useful_wikidata_files/aliases.fr.tsv.gz\n",
      "-rw-r--r-- 1 amandeep isdstaff  13M Mar  1 18:29 /data/amandeep/wikidata-20210215/useful_wikidata_files/aliases.it.tsv.gz\n",
      "-rw-r--r-- 1 amandeep isdstaff  26M Mar  1 18:31 /data/amandeep/wikidata-20210215/useful_wikidata_files/aliases.nl.tsv.gz\n",
      "-rw-r--r-- 1 amandeep isdstaff 6.9M Mar  1 18:32 /data/amandeep/wikidata-20210215/useful_wikidata_files/aliases.pl.tsv.gz\n",
      "-rw-r--r-- 1 amandeep isdstaff 9.2M Mar  1 18:36 /data/amandeep/wikidata-20210215/useful_wikidata_files/aliases.pt.tsv.gz\n",
      "-rw-r--r-- 1 amandeep isdstaff  34M Mar  1 18:22 /data/amandeep/wikidata-20210215/useful_wikidata_files/aliases.ru.tsv.gz\n",
      "-rw-r--r-- 1 amandeep isdstaff 7.6M Mar  1 18:37 /data/amandeep/wikidata-20210215/useful_wikidata_files/aliases.sv.tsv.gz\n",
      "-rw-r--r-- 1 amandeep isdstaff 5.3M Mar  1 18:25 /data/amandeep/wikidata-20210215/useful_wikidata_files/aliases.zh-cn.tsv.gz\n",
      "-rw-r--r-- 1 amandeep isdstaff  17G Mar  2 22:16 /data/amandeep/wikidata-20210215/useful_wikidata_files/derived.isastar.tsv.gz\n",
      "-rw-r--r-- 1 amandeep isdstaff 288M Mar  2 11:39 /data/amandeep/wikidata-20210215/useful_wikidata_files/derived.isa.tsv.gz\n",
      "-rw-r--r-- 1 amandeep isdstaff 530M Mar  2 11:12 /data/amandeep/wikidata-20210215/useful_wikidata_files/derived.P279star.tsv.gz\n",
      "-rw-r--r-- 1 amandeep isdstaff  38M Mar  2 04:06 /data/amandeep/wikidata-20210215/useful_wikidata_files/derived.P279.tsv.gz\n",
      "-rw-r--r-- 1 amandeep isdstaff  17G Mar  3 09:08 /data/amandeep/wikidata-20210215/useful_wikidata_files/derived.P31P279star.tsv.gz\n",
      "-rw-r--r-- 1 amandeep isdstaff 1.1G Mar  2 04:05 /data/amandeep/wikidata-20210215/useful_wikidata_files/derived.P31.tsv.gz\n",
      "-rw-r--r-- 1 amandeep isdstaff 427M Mar  1 23:18 /data/amandeep/wikidata-20210215/useful_wikidata_files/descriptions.de.tsv.gz\n",
      "-rw-r--r-- 1 amandeep isdstaff 262M Mar  1 21:48 /data/amandeep/wikidata-20210215/useful_wikidata_files/descriptions.es.tsv.gz\n",
      "-rw-r--r-- 1 amandeep isdstaff 289M Mar  2 02:21 /data/amandeep/wikidata-20210215/useful_wikidata_files/descriptions.fr.tsv.gz\n",
      "-rw-r--r-- 1 amandeep isdstaff 227M Mar  2 00:03 /data/amandeep/wikidata-20210215/useful_wikidata_files/descriptions.it.tsv.gz\n",
      "-rw-r--r-- 1 amandeep isdstaff 506M Mar  2 00:51 /data/amandeep/wikidata-20210215/useful_wikidata_files/descriptions.nl.tsv.gz\n",
      "-rw-r--r-- 1 amandeep isdstaff 177M Mar  2 01:35 /data/amandeep/wikidata-20210215/useful_wikidata_files/descriptions.pl.tsv.gz\n",
      "-rw-r--r-- 1 amandeep isdstaff 215M Mar  2 03:05 /data/amandeep/wikidata-20210215/useful_wikidata_files/descriptions.pt.tsv.gz\n",
      "-rw-r--r-- 1 amandeep isdstaff 206M Mar  1 21:03 /data/amandeep/wikidata-20210215/useful_wikidata_files/descriptions.ru.tsv.gz\n",
      "-rw-r--r-- 1 amandeep isdstaff 191M Mar  2 03:49 /data/amandeep/wikidata-20210215/useful_wikidata_files/descriptions.sv.tsv.gz\n",
      "-rw-r--r-- 1 amandeep isdstaff 170M Mar  1 22:31 /data/amandeep/wikidata-20210215/useful_wikidata_files/descriptions.zh-cn.tsv.gz\n",
      "-rw-r--r-- 1 amandeep isdstaff 179M Mar  1 17:14 /data/amandeep/wikidata-20210215/useful_wikidata_files/labels.de.tsv.gz\n",
      "-rw-r--r-- 1 amandeep isdstaff 171M Mar  1 16:55 /data/amandeep/wikidata-20210215/useful_wikidata_files/labels.es.tsv.gz\n",
      "-rw-r--r-- 1 amandeep isdstaff 184M Mar  1 17:58 /data/amandeep/wikidata-20210215/useful_wikidata_files/labels.fr.tsv.gz\n",
      "-rw-r--r-- 1 amandeep isdstaff 118M Mar  1 17:23 /data/amandeep/wikidata-20210215/useful_wikidata_files/labels.it.tsv.gz\n",
      "-rw-r--r-- 1 amandeep isdstaff 1.6G Mar  1 17:40 /data/amandeep/wikidata-20210215/useful_wikidata_files/labels.nl.tsv.gz\n",
      "-rw-r--r-- 1 amandeep isdstaff  86M Mar  1 17:49 /data/amandeep/wikidata-20210215/useful_wikidata_files/labels.pl.tsv.gz\n",
      "-rw-r--r-- 1 amandeep isdstaff 100M Mar  1 18:08 /data/amandeep/wikidata-20210215/useful_wikidata_files/labels.pt.tsv.gz\n",
      "-rw-r--r-- 1 amandeep isdstaff 100M Mar  1 16:45 /data/amandeep/wikidata-20210215/useful_wikidata_files/labels.ru.tsv.gz\n",
      "-rw-r--r-- 1 amandeep isdstaff  95M Mar  1 18:17 /data/amandeep/wikidata-20210215/useful_wikidata_files/labels.sv.tsv.gz\n",
      "-rw-r--r-- 1 amandeep isdstaff  12M Mar  1 17:03 /data/amandeep/wikidata-20210215/useful_wikidata_files/labels.zh-cn.tsv.gz\n",
      "-rw-r--r-- 1 amandeep isdstaff 181M Mar  3 16:43 /data/amandeep/wikidata-20210215/useful_wikidata_files/metadata.in_degree.tsv.gz\n",
      "-rw-r--r-- 1 amandeep isdstaff 584M Mar  3 15:20 /data/amandeep/wikidata-20210215/useful_wikidata_files/metadata.out_degree.tsv.gz\n",
      "-rw-r--r-- 1 amandeep isdstaff 2.4G Mar  3 11:59 /data/amandeep/wikidata-20210215/useful_wikidata_files/metadata.pagerank.directed.tsv.gz\n",
      "-rw-r--r-- 1 amandeep isdstaff 2.8G Mar  3 14:40 /data/amandeep/wikidata-20210215/useful_wikidata_files/metadata.pagerank.undirected.tsv.gz\n",
      "-rw-r--r-- 1 amandeep isdstaff 117K Mar  3 16:44 /data/amandeep/wikidata-20210215/useful_wikidata_files/statistics.in_degree.distribution.tsv\n",
      "-rw-r--r-- 1 amandeep isdstaff  22K Mar  3 16:48 /data/amandeep/wikidata-20210215/useful_wikidata_files/statistics.out_degree.distribution.tsv\n"
     ]
    }
   ],
   "source": [
    "!ls -lh $OUT/*"
   ]
  },
  {
   "cell_type": "markdown",
   "metadata": {},
   "source": [
    "Highest page rank"
   ]
  },
  {
   "cell_type": "code",
   "execution_count": 5,
   "metadata": {},
   "outputs": [
    {
     "name": "stdout",
     "output_type": "stream",
     "text": [
      "[2021-05-17 11:13:55 query]: SQL Translation:\n",
      "---------------------------------------------\n",
      "  SELECT DISTINCT graph_2_c1.\"node1\", graph_3_c2.\"node2\" \"_aLias.label\", graph_2_c1.\"node2\" \"_aLias.undirected page rank\"\n",
      "     FROM graph_2 AS graph_2_c1, graph_3 AS graph_3_c2\n",
      "     WHERE graph_2_c1.\"label\"=?\n",
      "     AND graph_3_c2.\"label\"=?\n",
      "     AND graph_2_c1.\"node1\"=graph_3_c2.\"node1\"\n",
      "     ORDER BY graph_2_c1.\"node2\" DESC\n",
      "     LIMIT ?\n",
      "  PARAS: ['undirected_pagerank', 'label', 10]\n",
      "---------------------------------------------\n",
      "node1\tlabel\tundirected page rank\n",
      "Q75818371\t'Charles Illingworth'@en\t9.999999243667743e-09\n",
      "Q23417931\t'3-deoxy-manno-octulosonate cytidylyltransferase BN117_1886'@en\t9.999999002311657e-09\n",
      "Q23911432\t'Gahnite in the Metamorphosed Stratiform Massive Sulfide Deposits of the Mineral District, Virginia, U.S.A'@en\t9.999998269043717e-09\n",
      "Q23352480\t'hypothetical protein BSU10100'@en\t9.999997894232425e-09\n",
      "Q80741080\t'Cl* NGC 6981 KBP S5'@en\t9.999997538018684e-09\n",
      "Q80741836\t'[GMF2013] VVDS22H MOS00-12'@en\t9.999997538018684e-09\n",
      "Q80742184\t'[GMF2013] VVDS22H MOS03-16'@en\t9.999997538018684e-09\n",
      "Q80745148\t'[GMF2013] VVDS22H MOS06-13'@en\t9.999997538018684e-09\n",
      "Q80888390\t'Cl* NGC 6981 SAW V53'@en\t9.999997538018684e-09\n",
      "Q80894026\t'Cl* NGC 6981 SAW V52'@en\t9.999997538018684e-09\n"
     ]
    }
   ],
   "source": [
    "if debug:\n",
    "    if compute_pagerank:\n",
    "        !$kypher -i $OUT/metadata.pagerank.undirected.tsv.gz -i \"$LABELS\" \\\n",
    "        --match 'pagerank: (n1)-[:undirected_pagerank]->(page_rank), label: (n1)-[:label]->(label)' \\\n",
    "        --return 'distinct n1, label as label, page_rank as `undirected page rank`' \\\n",
    "        --order-by 'page_rank desc' \\\n",
    "        --limit 10 "
   ]
  },
  {
   "cell_type": "markdown",
   "metadata": {},
   "source": [
    "## Create DWD ISA (Variant of IS A)"
   ]
  },
  {
   "cell_type": "code",
   "execution_count": null,
   "metadata": {},
   "outputs": [],
   "source": [
    "!$kgtk filter -i \"$CLAIMS\" -p '; P31, P279, P106, P39 ;' -o \"$TEMP\"/derived.P31_39_106_279.1.tsv.gz"
   ]
  },
  {
   "cell_type": "code",
   "execution_count": null,
   "metadata": {},
   "outputs": [],
   "source": [
    "with open(os.environ['TEMP'] + '/custom-edges.tsv', 'w') as fp:\n",
    "    fp.write(\"node1\\tlabel\\tnode2\\n\")\n",
    "    fp.write(\"Q215627\\tdwd_isa\\tQ5\\n\") # person dwd_isa human\n",
    "    fp.write(\"Q12737077\\tdwd_isa\\tQ5\\n\") # occupation dwd_isa human (perhaps controversial)\n",
    "    fp.write(\"Q5\\tdwd_isa_\\tQ215627\\n\") # inverse\n",
    "    fp.write(\"Q5\\tdwd_isa_\\tQ12737077\\n\") # inverse\n",
    "fp.close()"
   ]
  },
  {
   "cell_type": "code",
   "execution_count": null,
   "metadata": {},
   "outputs": [],
   "source": [
    "!$kgtk cat -i \"$TEMP\"/derived.P31_39_106_279.1.tsv.gz -i \"$TEMP\"/custom-edges.tsv \\\n",
    "-o \"$OUT\"/derived.dwd_isa.tsv.gz"
   ]
  },
  {
   "cell_type": "code",
   "execution_count": null,
   "metadata": {},
   "outputs": [],
   "source": [
    "!zcat < \"$OUT\"/derived.dwd_isa.tsv.gz | wc"
   ]
  },
  {
   "cell_type": "markdown",
   "metadata": {},
   "source": [
    "## Compute TF IDF : Class and Property count files"
   ]
  },
  {
   "cell_type": "markdown",
   "metadata": {},
   "source": [
    "### Class Counts"
   ]
  },
  {
   "cell_type": "code",
   "execution_count": null,
   "metadata": {},
   "outputs": [],
   "source": [
    "!$kypher  -i \"$P279STAR\" -i \"$OUT\"/derived.dwd_isa.tsv.gz \\\n",
    "--match 'dwd_isa: (n1)-[]->(class), P279star: (class)-[]->(super_class)' \\\n",
    "--return 'distinct class as node1, \"P31_39_106_279star\" as label, super_class as node2' \\\n",
    "--order-by 'node1, label, node2' \\\n",
    "/ add-id --id-style wikidata \\\n",
    "-o \"$OUT\"/derived.P31_39_106_279star.tsv.gz"
   ]
  },
  {
   "cell_type": "code",
   "execution_count": null,
   "metadata": {},
   "outputs": [],
   "source": [
    "!$kypher -i \"$OUT\"/derived.P31_39_106_279star.tsv.gz --as dwd_isa_star -i \"$OUT\"/derived.dwd_isa.tsv.gz --as P31_39_106_279 \\\n",
    "--match 'P31_39_106_279: (n1)-[]->(class), dwd_isa_star: (class)-[]->(super_class)' \\\n",
    "--return 'distinct super_class as node1, count(distinct n1) as node2, \"P31_39_106_279_count\" as label' \\\n",
    "--order-by 'node1, label, node2' \\\n",
    "-o \"$OUT\"/derived.dwd.count.tsv.gz"
   ]
  },
  {
   "cell_type": "code",
   "execution_count": null,
   "metadata": {},
   "outputs": [],
   "source": [
    "!$kypher -i dwd_isa_star -i P31_39_106_279 -i \"$OUT\"/derived.dwd.count.tsv.gz \\\n",
    "--match 'P31_39_106_279: (n1)-[]->(class), dwd_isa_star: (class)-[]->(super_class), count: (super_class)-[]->(count)' \\\n",
    "--return 'distinct n1 as node1, \"class_count\" as label, printf(\"%s:%s\", super_class, count) as node2' \\\n",
    "--order-by 'node1, label, node2' \\\n",
    "-o \"$TEMP\"/dwd_isa_class_count.tsv.gz"
   ]
  },
  {
   "cell_type": "code",
   "execution_count": null,
   "metadata": {},
   "outputs": [],
   "source": [
    "!kgtk sort -i \"$TEMP\"/dwd_isa_class_count.tsv.gz -X \"--parallel 8 --buffer-size 60%\" -o \"$TEMP\"/dwd_isa_class_count.sorted.tsv.gz"
   ]
  },
  {
   "cell_type": "code",
   "execution_count": null,
   "metadata": {},
   "outputs": [],
   "source": [
    "!kgtk compact -i \"$TEMP\"/dwd_isa_class_count.sorted.tsv.gz --mode=NONE --columns node1 label --presorted True -o \"$OUT\"/dwd_isa_class_count.compact.tsv.gz"
   ]
  },
  {
   "cell_type": "markdown",
   "metadata": {},
   "source": [
    "### Property Counts"
   ]
  },
  {
   "cell_type": "markdown",
   "metadata": {},
   "source": [
    "#### For each property get the number of node1 that it occurs in"
   ]
  },
  {
   "cell_type": "code",
   "execution_count": null,
   "metadata": {},
   "outputs": [],
   "source": [
    "!$kypher -i \"$CLAIMS\" \\\n",
    "--match '(n1)-[l {label: property}]->()' \\\n",
    "--return 'distinct property as node1, count(distinct n1) as node2, \"nodes_count\" as label' \\\n",
    "-o \"$TEMP\"/property.count.tsv.gz"
   ]
  },
  {
   "cell_type": "markdown",
   "metadata": {},
   "source": [
    "#### For each item, list the properties it has"
   ]
  },
  {
   "cell_type": "code",
   "execution_count": null,
   "metadata": {},
   "outputs": [],
   "source": [
    "!$kypher -i \"$CLAIMS\" \\\n",
    "--match '(n1)-[l {label: property}]->()' \\\n",
    "--return 'distinct n1 as node1, property as node2, \"property\" as label' \\\n",
    "-o \"$TEMP\"/item.property.tsv.gz"
   ]
  },
  {
   "cell_type": "markdown",
   "metadata": {},
   "source": [
    "#### Combine the property and the counts into one column"
   ]
  },
  {
   "cell_type": "code",
   "execution_count": null,
   "metadata": {},
   "outputs": [],
   "source": [
    "!$kypher -i \"$TEMP\"/property.count.tsv.gz -i \"$TEMP\"/item.property.tsv.gz \\\n",
    "--match 'count: (property)-[]->(count), item: (n1)-[]->(property)' \\\n",
    "--return 'distinct n1 as node1, \"property_count\" as label, printf(\"%s:%s\", property, count) as node2' \\\n",
    "--order-by 'node1, label, node2' \\\n",
    "-o \"$TEMP\"/item.property.count.tsv.gz"
   ]
  },
  {
   "cell_type": "markdown",
   "metadata": {},
   "source": [
    "#### Put all the property/count pairs in one row for each node"
   ]
  },
  {
   "cell_type": "code",
   "execution_count": null,
   "metadata": {},
   "outputs": [],
   "source": [
    "!kgtk sort -i \"$TEMP\"/item.property.count.tsv.gz --sort-command gsort -X \"--parallel 8 --buffer-size 60%\" -o \"$TEMP\"/item.property.count.sorted.tsv.gz"
   ]
  },
  {
   "cell_type": "code",
   "execution_count": null,
   "metadata": {},
   "outputs": [],
   "source": [
    "!kgtk compact -i \"$TEMP\"/item.property.count.sorted.tsv.gz --mode=NONE --columns node1 label --presorted True -o \"$OUT\"/item.property.count.compact.tsv.gz"
   ]
  }
 ],
 "metadata": {
  "celltoolbar": "Tags",
  "kernelspec": {
   "display_name": "kgtk-env",
   "language": "python",
   "name": "kgtk-env"
  },
  "language_info": {
   "codemirror_mode": {
    "name": "ipython",
    "version": 3
   },
   "file_extension": ".py",
   "mimetype": "text/x-python",
   "name": "python",
   "nbconvert_exporter": "python",
   "pygments_lexer": "ipython3",
   "version": "3.7.9"
  }
 },
 "nbformat": 4,
 "nbformat_minor": 4
}
