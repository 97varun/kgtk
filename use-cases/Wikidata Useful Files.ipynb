{
 "cells": [
  {
   "cell_type": "markdown",
   "metadata": {},
   "source": [
    "# Generating Useful Wikidata Files\n",
    "\n",
    "This notebook generates files that contain derived data that is useful in many applications. The input to the notebook is the full Wikidata or a subset of Wikidata. It also works for arbitrary KGs as long as they follow the representation requirements of Wikidata:\n",
    "\n",
    "- the *instance of* relation is represented using the `P31` property\n",
    "- the *subclass of* relation is represented using the `P279` property\n",
    "- all properties declare a datatype, and the data types must be one of the datatypes in Wikidata.\n",
    "\n",
    "Inputs:\n",
    "\n",
    "- `claims_file`: contains all statements, which consist of edges `node1/label/node2` where `label` is a property in Wikidata (e.g., sitelinks, labels, aliases and description are not in the claims file.\n",
    "- `item_file`: the subset of the `claims_file` consistin of edges for property of data type `wikibase-item`\n",
    "- `label_file`, `alias_file` and `description_file` containing labels, aliases and descriptions. It is assume that these files contain the labels, aliases and descriptions of all nodes appearing in the claims file. Users may provide these files for specific languages only.\n",
    "\n",
    "Outputs:\n",
    "\n",
    "- **Instance of (P31):** `derived.P31.tsv.gz` contains all the `instance of (P31)` edges present in the claims file.\n",
    "- **Subclass of (P279):** `derived.P279.tsv.gz` contains all the `subclass of (P279)` edges present in the claims file.\n",
    "- **Is A (isa):** `derived.isa.tsv.gz` contains edges `node`isa/node2` where either `node1/P31/node2` or `node1/P279/node2`\n",
    "- **Closure of subclass of (P279star):** `derived.P279star.tsv.gz` contains edges `node1/P279star/node2` where `node2` is reachable from `node1` via zero or more hops using the `P279` property. Note that for example, `Q44/P279star/Q44`. An example when this file is useful is when you want to find all the instance of a class, including instances of subclasses of the given class.\n",
    "- **In/out degrees:** `metadata.out_degree.tsv.gz` contains the out degree of every node, and `metadata.in_degree.tsv.gz` contains the in degree of every node.\n",
    "- **Pagerank:** outputs page rank on the directed graph in `metadata.pagerank.directed.tsv.gz` and page rank of the directed graph in `metadata.pagerank.undirected.tsv.gz`."
   ]
  },
  {
   "cell_type": "markdown",
   "metadata": {},
   "source": [
    "### Batch Invocation\n",
    "Example batch command. The second argument is a notebook where the output will be stored. You can load it to see progress.\n",
    "\n",
    "```\n",
    "papermill Wikidata\\ Useful\\ Files.ipynb useful-files.out.ipynb \\\n",
    "-p claims_file /Volumes/GoogleDrive/Shared\\ drives/KGTK-public-graphs/wikidata-20200803-v4/all.tsv.gz \\\n",
    "-p label_file /Volumes/GoogleDrive/Shared\\ drives/KGTK-public-graphs/wikidata-20200803-v4/part.label.en.tsv.gz \\\n",
    "-p item_file /Volumes/GoogleDrive/Shared\\ drives/KGTK-public-graphs/wikidata-20200803-v4/part.wikibase-item.tsv.gz \\\n",
    "-p property_item_file = /Volumes/GoogleDrive/Shared\\ drives/KGTK-public-graphs/wikidata-20200803-v4/part.property.wikibase-item.tsv.gz \\\n",
    "-p output_path <local folder> \\\n",
    "-p output_folder useful_files_v4 \\\n",
    "-p temp_folder temp.useful_files_v4 \\\n",
    "-p delete_database no \n",
    "-p languages es,ru,zh-cn\n",
    "```"
   ]
  },
  {
   "cell_type": "code",
   "execution_count": 24,
   "metadata": {},
   "outputs": [],
   "source": [
    "import io\n",
    "import os\n",
    "import subprocess\n",
    "import sys\n",
    "\n",
    "import numpy as np\n",
    "import pandas as pd\n",
    " \n",
    "from kgtk.configure_kgtk_notebooks import ConfigureKGTK\n",
    "from kgtk.functions import kgtk, kypher"
   ]
  },
  {
   "cell_type": "code",
   "execution_count": 38,
   "metadata": {
    "tags": [
     "parameters"
    ]
   },
   "outputs": [],
   "source": [
    "# Parameters\n",
    "\n",
    "input_path = \"/Volumes/saggu-ssd/wikidata_import/wikidata-20211021/data\"\n",
    "output_path = \"/Volumes/saggu-ssd/wikidata_import/wikidata-20211021\"\n",
    "kgtk_path = \"/Users/amandeep/Github/kgtk\"\n",
    "\n",
    "graph_cache_path = None\n",
    "\n",
    "project_name = \"useful-files\"\n",
    "\n",
    "languages = 'en,ru,es,zh-cn,de,it,nl,pl,fr,pt,sv'\n",
    "\n",
    "files = 'claims,label_all,alias_all,description_all'\n",
    "\n",
    "compute_pagerank = True\n",
    "compute_degrees = True\n",
    "compute_hits = False\n",
    "debug = False"
   ]
  },
  {
   "cell_type": "code",
   "execution_count": 8,
   "metadata": {},
   "outputs": [],
   "source": [
    "files = files.split(',')\n",
    "languages = languages.split(',')"
   ]
  },
  {
   "cell_type": "code",
   "execution_count": 9,
   "metadata": {},
   "outputs": [
    {
     "name": "stdout",
     "output_type": "stream",
     "text": [
      "User home: /Users/amandeep\n",
      "Current dir: /Users/amandeep/Github/kgtk/use-cases\n",
      "KGTK dir: /Users/amandeep/Github/kgtk\n",
      "Use-cases dir: /Users/amandeep/Github/kgtk/use-cases\n"
     ]
    }
   ],
   "source": [
    "ck = ConfigureKGTK(files, kgtk_path=kgtk_path)\n",
    "ck.configure_kgtk(input_graph_path=input_path,\n",
    "                  output_path=output_path,\n",
    "                  project_name=project_name,\n",
    "                 graph_cache_path=graph_cache_path)"
   ]
  },
  {
   "cell_type": "code",
   "execution_count": 10,
   "metadata": {},
   "outputs": [
    {
     "name": "stdout",
     "output_type": "stream",
     "text": [
      "STORE: /Volumes/saggu-ssd/wikidata_import/wikidata-20211021/useful-files/temp.useful-files/wikidata.sqlite3.db\n",
      "KGTK_OPTION_DEBUG: false\n",
      "USE_CASES_DIR: /Users/amandeep/Github/kgtk/use-cases\n",
      "GRAPH: /Volumes/saggu-ssd/wikidata_import/wikidata-20211021/data\n",
      "OUT: /Volumes/saggu-ssd/wikidata_import/wikidata-20211021/useful-files\n",
      "kgtk: kgtk\n",
      "TEMP: /Volumes/saggu-ssd/wikidata_import/wikidata-20211021/useful-files/temp.useful-files\n",
      "EXAMPLES_DIR: /Users/amandeep/Github/kgtk/examples\n",
      "KGTK_LABEL_FILE: /Volumes/saggu-ssd/wikidata_import/wikidata-20211021/data/labels.en.tsv.gz\n",
      "KGTK_GRAPH_CACHE: /Volumes/saggu-ssd/wikidata_import/wikidata-20211021/useful-files/temp.useful-files/wikidata.sqlite3.db\n",
      "kypher: kgtk query --graph-cache /Volumes/saggu-ssd/wikidata_import/wikidata-20211021/useful-files/temp.useful-files/wikidata.sqlite3.db\n",
      "claims: /Volumes/saggu-ssd/wikidata_import/wikidata-20211021/data/claims.tsv.gz\n",
      "label_all: /Volumes/saggu-ssd/wikidata_import/wikidata-20211021/data/labels.tsv.gz\n",
      "alias_all: /Volumes/saggu-ssd/wikidata_import/wikidata-20211021/data/aliases.tsv.gz\n",
      "description_all: /Volumes/saggu-ssd/wikidata_import/wikidata-20211021/data/descriptions.tsv.gz\n"
     ]
    }
   ],
   "source": [
    "ck.print_env_variables()"
   ]
  },
  {
   "cell_type": "code",
   "execution_count": 11,
   "metadata": {},
   "outputs": [
    {
     "name": "stdout",
     "output_type": "stream",
     "text": [
      "kgtk query --graph-cache /Volumes/saggu-ssd/wikidata_import/wikidata-20211021/useful-files/temp.useful-files/wikidata.sqlite3.db -i \"/Volumes/saggu-ssd/wikidata_import/wikidata-20211021/data/claims.tsv.gz\" --as claims  -i \"/Volumes/saggu-ssd/wikidata_import/wikidata-20211021/data/labels.tsv.gz\" --as label_all  -i \"/Volumes/saggu-ssd/wikidata_import/wikidata-20211021/data/aliases.tsv.gz\" --as alias_all  -i \"/Volumes/saggu-ssd/wikidata_import/wikidata-20211021/data/descriptions.tsv.gz\" --as description_all  --limit 3\n",
      "id\tnode1\tlabel\tnode2\trank\tnode2;wikidatatype\n",
      "P10-P1628-32b85d-7927ece6-0\tP10\tP1628\t\"http://www.w3.org/2006/vcard/ns#Video\"\tnormal\turl\n",
      "P10-P1628-acf60d-b8950832-0\tP10\tP1628\t\"https://schema.org/video\"\tnormal\turl\n",
      "P10-P1629-Q34508-bcc39400-0\tP10\tP1629\tQ34508\tnormal\twikibase-item\n"
     ]
    }
   ],
   "source": [
    "if graph_cache_path is None:\n",
    "    ck.load_files_into_cache()"
   ]
  },
  {
   "cell_type": "markdown",
   "metadata": {},
   "source": [
    "### Preview the input files"
   ]
  },
  {
   "cell_type": "markdown",
   "metadata": {},
   "source": [
    "It is always a good practice to peek a the files to make sure the column headings are what we expect"
   ]
  },
  {
   "cell_type": "code",
   "execution_count": 12,
   "metadata": {},
   "outputs": [
    {
     "name": "stdout",
     "output_type": "stream",
     "text": [
      "id\tnode1\tlabel\tnode2\trank\tnode2;wikidatatype\n",
      "P10-P1628-32b85d-7927ece6-0\tP10\tP1628\t\"http://www.w3.org/2006/vcard/ns#Video\" normal\turl\n",
      "P10-P1628-acf60d-b8950832-0\tP10\tP1628\t\"https://schema.org/video\"\tnormal\turl\n",
      "P10-P1629-Q34508-bcc39400-0\tP10\tP1629\tQ34508\tnormal\twikibase-item\n",
      "P10-P1630-53947a-fbe9093e-0\tP10\tP1630\t\"https://commons.wikimedia.org/wiki/File:$1\"\tnormal\tstring\n",
      "P10-P1659-P1651-c4068028-0\tP10\tP1659\tP1651\tnormal\twikibase-property\n",
      "P10-P1659-P18-5e4b9c4f-0\tP10\tP1659\tP18\tnormal\twikibase-property\n",
      "P10-P1659-P4238-d21d1ac0-0\tP10\tP1659\tP4238\tnormal\twikibase-property\n",
      "P10-P1659-P51-86aca4c5-0\tP10\tP1659\tP51\tnormal\twikibase-property\n",
      "P10-P1855-Q15075950-7eff6d65-0\tP10\tP1855\tQ15075950\tnormal\twikibase-item\n",
      "P10-P1855-Q4504-a69d2c73-0\tP10\tP1855\tQ4504\tnormal\twikibase-item\n"
     ]
    }
   ],
   "source": [
    "!$kypher -i claims --limit 10 | col "
   ]
  },
  {
   "cell_type": "markdown",
   "metadata": {},
   "source": [
    "Force creation of the index on the label column"
   ]
  },
  {
   "cell_type": "code",
   "execution_count": 13,
   "metadata": {},
   "outputs": [
    {
     "name": "stdout",
     "output_type": "stream",
     "text": [
      "id                                node1   label  node2       rank    node2;wikidatatype\n",
      "P10-P31-Q18610173-85ef4d24-0      P10     P31    Q18610173   normal  wikibase-item\n",
      "P1000-P31-Q18608871-093affb5-0    P1000   P31    Q18608871   normal  wikibase-item\n",
      "P10000-P31-Q19833377-f87f0d4c-0   P10000  P31    Q19833377   normal  wikibase-item\n",
      "P10000-P31-Q89560413-f555a944-0   P10000  P31    Q89560413   normal  wikibase-item\n",
      "P10001-P31-Q107738007-c7725ce7-0  P10001  P31    Q107738007  normal  wikibase-item\n"
     ]
    }
   ],
   "source": [
    "!$kypher -i claims -o - \\\n",
    "--match '(i)-[:P31]->(c)' \\\n",
    "--limit 5 \\\n",
    "| column -t -s $'\\t' "
   ]
  },
  {
   "cell_type": "markdown",
   "metadata": {},
   "source": [
    "Force creation of the index on the node2 column"
   ]
  },
  {
   "cell_type": "code",
   "execution_count": 14,
   "metadata": {},
   "outputs": [
    {
     "name": "stdout",
     "output_type": "stream",
     "text": [
      "id                         node1  label  node2  rank    node2;wikidatatype\n",
      "P1424-P1855-Q5-47bdcd17-0  P1424  P1855  Q5     normal  wikibase-item\n",
      "P1552-P1855-Q5-53b667e4-0  P1552  P1855  Q5     normal  wikibase-item\n",
      "P1963-P1855-Q5-1ba43aca-0  P1963  P1855  Q5     normal  wikibase-item\n",
      "P3055-P1629-Q5-fb63cfeb-0  P3055  P1629  Q5     normal  wikibase-item\n",
      "P5869-P1855-Q5-3a19317f-0  P5869  P1855  Q5     normal  wikibase-item\n"
     ]
    }
   ],
   "source": [
    "!$kypher -i claims -o - \\\n",
    "--match '(i)-[r]->(:Q5)' \\\n",
    "--limit 5 \\\n",
    "| column -t -s $'\\t' "
   ]
  },
  {
   "cell_type": "markdown",
   "metadata": {},
   "source": [
    "### Get labels, aliases and descriptions for other languages"
   ]
  },
  {
   "cell_type": "code",
   "execution_count": 12,
   "metadata": {},
   "outputs": [],
   "source": [
    "for lang in languages:\n",
    "    cmd = f\"$kypher -i label_all -o $OUT/labels.{lang}.tsv.gz --match '(n1)-[l:label]->(n2)' --where 'n2.kgtk_lqstring_lang_suffix = \\\"{lang}\\\"' --return 'n1, l.label, n2, l.id' \"\n",
    "    !{cmd}"
   ]
  },
  {
   "cell_type": "code",
   "execution_count": 13,
   "metadata": {},
   "outputs": [],
   "source": [
    "for lang in languages:\n",
    "    cmd = f\"$kypher -i alias_all -o $OUT/aliases.{lang}.tsv.gz --match '(n1)-[l:alias]->(n2)' --where 'n2.kgtk_lqstring_lang_suffix = \\\"{lang}\\\"' --return 'n1, l.label, n2, l.id' \"\n",
    "    !{cmd}"
   ]
  },
  {
   "cell_type": "code",
   "execution_count": 14,
   "metadata": {},
   "outputs": [],
   "source": [
    "for lang in languages:\n",
    "    cmd = f\"$kypher -i description_all -o $OUT/descriptions.{lang}.tsv.gz --match '(n1)-[l:description]->(n2)' --where 'n2.kgtk_lqstring_lang_suffix = \\\"{lang}\\\"' --return 'n1, l.label, n2, l.id' \"\n",
    "    !{cmd}"
   ]
  },
  {
   "cell_type": "markdown",
   "metadata": {},
   "source": [
    "### Create the P31 and P279 files"
   ]
  },
  {
   "cell_type": "markdown",
   "metadata": {},
   "source": [
    "Create the `P31` file"
   ]
  },
  {
   "cell_type": "code",
   "execution_count": 15,
   "metadata": {},
   "outputs": [],
   "source": [
    "!$kypher -i claims -o $OUT/derived.P31.tsv.gz \\\n",
    "--match '(n1)-[l:P31]->(n2)' \\\n",
    "--return 'l, n1, l.label, n2' "
   ]
  },
  {
   "cell_type": "code",
   "execution_count": 16,
   "metadata": {},
   "outputs": [
    {
     "name": "stdout",
     "output_type": "stream",
     "text": [
      "id\tnode1\tlabel\tnode2\n",
      "P10-P31-Q18610173-85ef4d24-0\tP10\tP31\tQ18610173\n",
      "P1000-P31-Q18608871-093affb5-0\tP1000\tP31\tQ18608871\n",
      "P10000-P31-Q19833377-f87f0d4c-0 P10000\tP31\tQ19833377\n",
      "P10000-P31-Q89560413-f555a944-0 P10000\tP31\tQ89560413\n",
      "zcat: P10001-P31-Q107738007-c7725ce7-0\tP10001\tP31\tQ107738007\n",
      "P10001-P31-Q64221137-d154ffd9-0 P10001\tP31\tQ64221137\n",
      "P10002-P31-Q93433126-dbd52b84-0 P10002\tP31\tQ93433126\n",
      "P10003-P31-Q108914651-f3644858-0\tP10003\tP31\tQ108914651\n",
      "error writing to outputP10003-P31-Q42396390-7f1b5502-0 P10003\tP31\tQ42396390\n",
      ": Broken pipe\n"
     ]
    }
   ],
   "source": [
    "!zcat < $OUT/derived.P31.tsv.gz | head | col"
   ]
  },
  {
   "cell_type": "markdown",
   "metadata": {},
   "source": [
    "Create the P279 file"
   ]
  },
  {
   "cell_type": "code",
   "execution_count": 17,
   "metadata": {},
   "outputs": [],
   "source": [
    "!$kypher -i claims -o $OUT/derived.P279.tsv.gz \\\n",
    "    --match '(n1)-[l:P279]->(n2)' \\\n",
    "    --return 'l, n1, l.label, n2' "
   ]
  },
  {
   "cell_type": "code",
   "execution_count": 18,
   "metadata": {},
   "outputs": [
    {
     "name": "stdout",
     "output_type": "stream",
     "text": [
      "id\tnode1\tlabel\tnode2\n",
      "Q100000030-P279-Q14748-30394205-0\tQ100000030\tP279\tQ14748\n",
      "Q100000058-P279-Q1622444-bd182663-0\tQ100000058\tP279\tQ1622444\n",
      "Q1000032-P279-Q1813494-0aa0f1dc-0\tQ1000032\tP279\tQ1813494\n",
      "Q1000032-P279-Q83602-482a1943-0 Q1000032\tP279\tQ83602\n",
      "Q1000039-P279-Q11555767-2dddfd86-0\tQ1000039\tP279\tQ11555767\n",
      "Q100004761-P279-Q100095237-3971e1cd-0\tQ100004761\tP279\tQ100095237\n",
      "Q100004761-P279-Q126793-77b1fce8-0\tQ100004761\tP279\tQ126793\n",
      "Q100004761-P279-Q4544523-639fbe16-0\tQ100004761\tP279\tQ4544523\n",
      "Q1000064-P279-Q11016-0ab23344-0 Q1000064\tP279\tQ11016\n",
      "zcat: error writing to output: Broken pipe\n"
     ]
    }
   ],
   "source": [
    "!zcat < $OUT/derived.P279.tsv.gz | head | col"
   ]
  },
  {
   "cell_type": "markdown",
   "metadata": {},
   "source": [
    "### Create the file that contains all nodes reachable via P279 starting from a node2 in P31 or a node1 in P279"
   ]
  },
  {
   "cell_type": "markdown",
   "metadata": {},
   "source": [
    "First compute the roots"
   ]
  },
  {
   "cell_type": "code",
   "execution_count": 19,
   "metadata": {},
   "outputs": [],
   "source": [
    "!$kypher -i $OUT/derived.P279.tsv.gz -o $TEMP/P279.n1.tsv.gz \\\n",
    "--match '(n1)-[l]->()' \\\n",
    "--return 'n1 as id' "
   ]
  },
  {
   "cell_type": "code",
   "execution_count": 20,
   "metadata": {},
   "outputs": [],
   "source": [
    "!$kypher -i $OUT/derived.P31.tsv.gz -o $TEMP/P31.n2.tsv.gz \\\n",
    "--match '()-[l]->(n2)' \\\n",
    "--return 'n2 as id' "
   ]
  },
  {
   "cell_type": "code",
   "execution_count": 25,
   "metadata": {},
   "outputs": [],
   "source": [
    "kgtk(\"\"\"cat --mode NONE \n",
    "       -i $TEMP/P31.n2.tsv.gz\n",
    "       -i $TEMP/P279.n1.tsv.gz\n",
    "       -o $TEMP/P279.roots.1.tsv.gz\"\"\")"
   ]
  },
  {
   "cell_type": "code",
   "execution_count": 26,
   "metadata": {},
   "outputs": [],
   "source": [
    "kgtk(\"\"\"sort --mode NONE \n",
    "        --column id \n",
    "        -i $TEMP/P279.roots.1.tsv.gz \n",
    "        -o $TEMP/P279.roots.2.tsv.gz\"\"\")"
   ]
  },
  {
   "cell_type": "markdown",
   "metadata": {},
   "source": [
    "We have lots of duplicates"
   ]
  },
  {
   "cell_type": "code",
   "execution_count": 27,
   "metadata": {},
   "outputs": [
    {
     "name": "stdout",
     "output_type": "stream",
     "text": [
      "id\n",
      "Q100000030\n",
      "Q100000058\n",
      "Q1000017\n",
      "Q1000032\n",
      "Q1000032\n",
      "Q1000039\n",
      "Q100004761\n",
      "Q100004761\n",
      "Q100004761\n",
      "zcat: error writing to output: Broken pipe\n"
     ]
    }
   ],
   "source": [
    "!zcat < $TEMP/P279.roots.2.tsv.gz | head"
   ]
  },
  {
   "cell_type": "code",
   "execution_count": 28,
   "metadata": {},
   "outputs": [],
   "source": [
    "kgtk(\"\"\"compact \n",
    "        -i $TEMP/P279.roots.2.tsv.gz \n",
    "        --mode NONE\n",
    "        --presorted \n",
    "        --columns id\n",
    "        -o $TEMP/P279.roots.tsv\"\"\")"
   ]
  },
  {
   "cell_type": "markdown",
   "metadata": {},
   "source": [
    "Now we can invoke the reachable-nodes command"
   ]
  },
  {
   "cell_type": "code",
   "execution_count": 29,
   "metadata": {},
   "outputs": [],
   "source": [
    "kgtk(\"\"\"reachable-nodes\n",
    "        --rootfile $TEMP/P279.roots.tsv\n",
    "        --selflink \n",
    "        -i $OUT/derived.P279.tsv.gz\n",
    "        -o $TEMP/P279.reachable.tsv.gz\"\"\")"
   ]
  },
  {
   "cell_type": "code",
   "execution_count": 30,
   "metadata": {},
   "outputs": [
    {
     "name": "stdout",
     "output_type": "stream",
     "text": [
      "node1\tlabel\tnode2\n",
      "zcat: Q100000030\treachable\tQ100000030\n",
      "Q100000030\treachable\tQ14748\n",
      "error writing to outputQ100000030\treachable\tQ14745\n",
      ": Broken pipe\n",
      "Q100000030\treachable\tQ1357761\n",
      "Q100000030\treachable\tQ223557\n",
      "Q100000030\treachable\tQ35459920\n",
      "Q100000030\treachable\tQ488383\n",
      "Q100000030\treachable\tQ35120\n",
      "Q100000030\treachable\tQ4406616\n"
     ]
    }
   ],
   "source": [
    "!zcat < $TEMP/P279.reachable.tsv.gz | head | col"
   ]
  },
  {
   "cell_type": "markdown",
   "metadata": {},
   "source": [
    "The reachable-nodes command produces edges labeled `reachable`, so we need one command to rename them."
   ]
  },
  {
   "cell_type": "code",
   "execution_count": 33,
   "metadata": {},
   "outputs": [],
   "source": [
    "!$kypher -i $TEMP/P279.reachable.tsv.gz -o $TEMP/P279star.1.tsv.gz \\\n",
    "--match '(n1)-[]->(n2)' \\\n",
    "--return 'distinct n1, \"P279star\" as label, n2 as node2' \\\n",
    "--order-by 'n1'"
   ]
  },
  {
   "cell_type": "markdown",
   "metadata": {},
   "source": [
    "Add ids"
   ]
  },
  {
   "cell_type": "code",
   "execution_count": 34,
   "metadata": {},
   "outputs": [],
   "source": [
    "!$kgtk add-id --id-style wikidata -i $TEMP/P279star.1.tsv.gz -o $OUT/derived.P279star.tsv.gz"
   ]
  },
  {
   "cell_type": "code",
   "execution_count": 35,
   "metadata": {},
   "outputs": [
    {
     "name": "stdout",
     "output_type": "stream",
     "text": [
      "zcat: node1\tlabel\tnode2\tid\n",
      "Q100000030\tP279star\tQ100000030\tQ100000030-P279star-Q100000030\n",
      "error writing to outputQ100000030\tP279star\tQ14748\tQ100000030-P279star-Q14748\n",
      ": Broken pipe\n",
      "Q100000030\tP279star\tQ14745\tQ100000030-P279star-Q14745\n",
      "Q100000030\tP279star\tQ1357761\tQ100000030-P279star-Q1357761\n",
      "Q100000030\tP279star\tQ223557 Q100000030-P279star-Q223557\n",
      "Q100000030\tP279star\tQ35459920\tQ100000030-P279star-Q35459920\n",
      "Q100000030\tP279star\tQ488383 Q100000030-P279star-Q488383\n",
      "Q100000030\tP279star\tQ35120\tQ100000030-P279star-Q35120\n",
      "Q100000030\tP279star\tQ4406616\tQ100000030-P279star-Q4406616\n"
     ]
    }
   ],
   "source": [
    "!zcat < $OUT/derived.P279star.tsv.gz | head | col"
   ]
  },
  {
   "cell_type": "markdown",
   "metadata": {},
   "source": [
    "This is how we would do the typical `?item P31/P279* ?class` in Kypher. \n",
    "The example shows how to get all the counts of instances of subclasses of city (Q515)."
   ]
  },
  {
   "cell_type": "code",
   "execution_count": 39,
   "metadata": {},
   "outputs": [],
   "source": [
    "if debug:\n",
    "    !$kypher -i $OUT/derived.P31.tsv.gz -i $OUT/derived.P279star.tsv.gz -i label \\\n",
    "    --match 'P31: (n1)-[:P31]->(c), P279star: (c)-[]->(:Q515), label: (n1)-[:label]->(label), label: (c)-[:label]->(c_label)' \\\n",
    "    --return 'distinct c as class, count(c) as count, c_label as `class name`, n1 as instance, label as `label`' \\\n",
    "    --order-by 'count(c) desc, c, n1' \\\n",
    "    --limit 10 \\\n",
    "    | col"
   ]
  },
  {
   "cell_type": "markdown",
   "metadata": {},
   "source": [
    "Illustrate that it is indeed `P279*`"
   ]
  },
  {
   "cell_type": "code",
   "execution_count": 40,
   "metadata": {},
   "outputs": [],
   "source": [
    "if debug:\n",
    "    !$kypher -i $OUT/derived.P31.tsv.gz -i $OUT/derived.P279star.tsv.gz -i label \\\n",
    "    --match 'P31: (n1)-[:P31]->(c), P279star: (c)-[]->(:Q63440326), label: (n1)-[:label]->(label), label: (c)-[:label]->(c_label)' \\\n",
    "    --return 'distinct c as class, c_label as `class name`, n1 as instance, label as `label`' \\\n",
    "    --order-by 'c, n1' \\\n",
    "    --limit 10 \\\n",
    "    | col "
   ]
  },
  {
   "cell_type": "markdown",
   "metadata": {},
   "source": [
    "### Create a file to do generalized Is-A queries\n",
    "The idea is that `(n1)-[:isa]->(n2)` when `(n1)-[:P31]->(n2)` or `(n1)-[:P279]->(n2)`\n",
    "\n",
    "We do this by concatenating the files and renaming the relation"
   ]
  },
  {
   "cell_type": "code",
   "execution_count": 41,
   "metadata": {},
   "outputs": [],
   "source": [
    "kgtk(\"\"\"cat \n",
    "        -i $OUT/derived.P31.tsv.gz \n",
    "        -i $OUT/derived.P279.tsv.gz\n",
    "        -o $TEMP/isa.1.tsv.gz\"\"\")"
   ]
  },
  {
   "cell_type": "code",
   "execution_count": 42,
   "metadata": {},
   "outputs": [],
   "source": [
    "!$kypher -i $TEMP/isa.1.tsv.gz -o $OUT/derived.isa.tsv.gz \\\n",
    "--match '(n1)-[]->(n2)' \\\n",
    "--return 'n1, \"isa\" as label, n2' \\\n",
    "--order-by 'n1'"
   ]
  },
  {
   "cell_type": "markdown",
   "metadata": {},
   "source": [
    "Example of how to use the `isa` relation"
   ]
  },
  {
   "cell_type": "code",
   "execution_count": 43,
   "metadata": {},
   "outputs": [],
   "source": [
    "if debug:\n",
    "    !$kypher -i $OUT/derived.isa.tsv.gz -i $OUT/derived.P279star.tsv.gz -i label -o - \\\n",
    "    --match 'isa: (n1)-[l:isa]->(c), P279star: (c)-[]->(:Q44), label: (n1)-[:label]->(label)' \\\n",
    "    --return 'distinct n1, l.label, \"Q44\" as node2, label as n1_label' \\\n",
    "    --limit 10 \\\n",
    "    | col"
   ]
  },
  {
   "cell_type": "markdown",
   "metadata": {},
   "source": [
    "### Create files with `isa/P279* and P31/P279*` \n",
    "This file is useful to find all nodes that are below a q-node via P279 or isa.\n",
    "\n",
    "> These files are very large and take many hours to compute"
   ]
  },
  {
   "cell_type": "code",
   "execution_count": 44,
   "metadata": {},
   "outputs": [],
   "source": [
    "os.environ['P279STAR'] = f\"{os.environ['OUT']}/derived.P279star.tsv.gz\"\n",
    "os.environ['ISA'] = f\"{os.environ['OUT']}/derived.isa.tsv.gz\""
   ]
  },
  {
   "cell_type": "code",
   "execution_count": 45,
   "metadata": {},
   "outputs": [
    {
     "name": "stdout",
     "output_type": "stream",
     "text": [
      "database or disk is full\n",
      "\n"
     ]
    }
   ],
   "source": [
    "!$kypher -i \"$P279STAR\" --as P279star -i \"$ISA\" --as isa  \\\n",
    "--match '\\\n",
    "  isa: (n1)-[]->(n2), \\\n",
    "  P279star: (n2)-[]->(n3)' \\\n",
    "--return 'distinct n1 as node1, \"isa_star\" as label, n3 as node2' \\\n",
    "--order-by 'n1' \\\n",
    "-o \"$TEMP\"/derived.isastar_1.tsv.gz"
   ]
  },
  {
   "cell_type": "markdown",
   "metadata": {},
   "source": [
    "Now add ids"
   ]
  },
  {
   "cell_type": "code",
   "execution_count": 39,
   "metadata": {},
   "outputs": [],
   "source": [
    "kgtk(\"\"\"add-id \n",
    "        --id-style wikidata \n",
    "        -i \"$TEMP\"/derived.isastar_1.tsv.gz \n",
    "        -o \"$OUT\"/derived.isastar.tsv.gz\"\"\")"
   ]
  },
  {
   "cell_type": "markdown",
   "metadata": {},
   "source": [
    "Also calculate the same file by for P31/P279*"
   ]
  },
  {
   "cell_type": "code",
   "execution_count": 40,
   "metadata": {},
   "outputs": [],
   "source": [
    "!$kypher -i item -i P279star \\\n",
    "--match '\\\n",
    "  item: (n1)-[:P31]->(n2), \\\n",
    "  P279star: (n2)-[]->(n3)' \\\n",
    "--return 'distinct n1 as node1, \"P31P279star\" as label, n3 as node2' \\\n",
    "--order-by 'n1' \\\n",
    "-o \"$TEMP\"/derived.P31P279star.gz"
   ]
  },
  {
   "cell_type": "markdown",
   "metadata": {},
   "source": [
    "Add ids"
   ]
  },
  {
   "cell_type": "code",
   "execution_count": 41,
   "metadata": {},
   "outputs": [],
   "source": [
    "kgtk(\"\"\"add-id \n",
    "        --id-style wikidata \n",
    "        -i \"$TEMP\"/derived.P31P279star.gz \n",
    "        -o \"$OUT\"/derived.P31P279star.tsv.gz\"\"\")"
   ]
  },
  {
   "cell_type": "markdown",
   "metadata": {},
   "source": [
    "It is also very big"
   ]
  },
  {
   "cell_type": "code",
   "execution_count": 42,
   "metadata": {},
   "outputs": [
    {
     "name": "stdout",
     "output_type": "stream",
     "text": [
      " 1704159 6816636 100144221\n"
     ]
    }
   ],
   "source": [
    "if debug:\n",
    "    !zcat < \"$OUT\"/derived.P31P279star.tsv.gz | wc"
   ]
  },
  {
   "cell_type": "markdown",
   "metadata": {},
   "source": [
    "## Compute pagerank"
   ]
  },
  {
   "cell_type": "markdown",
   "metadata": {},
   "source": [
    "Now compute pagerank. These commands will exceed 16GB memory for graphs containing over 25 million nodes."
   ]
  },
  {
   "cell_type": "code",
   "execution_count": 43,
   "metadata": {},
   "outputs": [
    {
     "name": "stdout",
     "output_type": "stream",
     "text": [
      "\n",
      "(kgtk:5754): Gtk-\u001b[1;33mWARNING\u001b[0m **: \u001b[34m15:50:20.706\u001b[0m: Locale not supported by C library.\n",
      "\tUsing the fallback 'C' locale.\n"
     ]
    }
   ],
   "source": [
    "if compute_pagerank:\n",
    "    !$kgtk graph-statistics -i \"$item\" -o $OUT/metadata.pagerank.directed.tsv.gz \\\n",
    "    --compute-pagerank True \\\n",
    "    --compute-hits False \\\n",
    "    --page-rank-property Pdirected_pagerank \\\n",
    "    --output-degrees True \\\n",
    "    --output-pagerank True \\\n",
    "    --output-hits False \\\n",
    "    --output-statistics-only \\\n",
    "    --undirected False \\\n",
    "    --log-file $TEMP/metadata.pagerank.directed.summary.txt "
   ]
  },
  {
   "cell_type": "code",
   "execution_count": 44,
   "metadata": {},
   "outputs": [
    {
     "name": "stdout",
     "output_type": "stream",
     "text": [
      "graph loaded! It has 66014 nodes and 393716 edges\n",
      "\n",
      "*** Top relations:\n",
      "P31\t76899\n",
      "P17\t30213\n",
      "P47\t29116\n",
      "P279\t21917\n",
      "P131\t13895\n",
      "P1889\t13443\n",
      "P106\t11174\n",
      "P1411\t10914\n",
      "P166\t10452\n",
      "P21\t10171\n",
      "\n",
      "*** Degrees:\n",
      "in degree stats: mean=5.964129, std=0.363567, max=1\n",
      "out degree stats: mean=5.964129, std=0.043517, max=1\n",
      "total degree stats: mean=11.928258, std=0.380512, max=1\n",
      "\n",
      "*** PageRank\n",
      "Max pageranks\n",
      "26562\tQ23958852\t0.071410\n",
      "42551\tQ23960977\t0.032866\n",
      "14856\tQ35120\t0.028596\n",
      "11192\tQ151885\t0.026957\n",
      "439\tQ5\t0.012807\n"
     ]
    }
   ],
   "source": [
    "if compute_pagerank:\n",
    "    !cat $TEMP/metadata.pagerank.directed.summary.txt"
   ]
  },
  {
   "cell_type": "code",
   "execution_count": 45,
   "metadata": {},
   "outputs": [
    {
     "name": "stdout",
     "output_type": "stream",
     "text": [
      "\n",
      "(kgtk:5761): Gtk-\u001b[1;33mWARNING\u001b[0m **: \u001b[34m15:50:34.892\u001b[0m: Locale not supported by C library.\n",
      "\tUsing the fallback 'C' locale.\n"
     ]
    }
   ],
   "source": [
    "if compute_pagerank:\n",
    "    !$kgtk graph-statistics -i \"$item\" -o $OUT/metadata.pagerank.undirected.tsv.gz \\\n",
    "    --compute-pagerank True \\\n",
    "    --compute-hits False \\\n",
    "    --page-rank-property Pundirected_pagerank \\\n",
    "    --output-degrees True \\\n",
    "    --output-pagerank True \\\n",
    "    --output-hits False \\\n",
    "    --output-statistics-only \\\n",
    "    --undirected True \\\n",
    "    --log-file $TEMP/metadata.pagerank.undirected.summary.txt "
   ]
  },
  {
   "cell_type": "code",
   "execution_count": 46,
   "metadata": {},
   "outputs": [
    {
     "name": "stdout",
     "output_type": "stream",
     "text": [
      "graph loaded! It has 66014 nodes and 393716 edges\n",
      "\n",
      "*** Top relations:\n",
      "P31\t76899\n",
      "P17\t30213\n",
      "P47\t29116\n",
      "P279\t21917\n",
      "P131\t13895\n",
      "P1889\t13443\n",
      "P106\t11174\n",
      "P1411\t10914\n",
      "P166\t10452\n",
      "P21\t10171\n",
      "\n",
      "*** Degrees:\n",
      "in degree stats: mean=0.000000, std=0.000000, max=1\n",
      "out degree stats: mean=11.928258, std=0.380512, max=1\n",
      "total degree stats: mean=11.928258, std=0.380512, max=1\n",
      "\n",
      "*** PageRank\n",
      "Max pageranks\n",
      "439\tQ5\t0.022010\n",
      "173\tQ30\t0.012919\n",
      "4782\tQ6581097\t0.008353\n",
      "7097\tQ15221623\t0.004738\n",
      "1391\tQ1860\t0.004441\n"
     ]
    }
   ],
   "source": [
    "if compute_pagerank:\n",
    "    !cat $TEMP/metadata.pagerank.undirected.summary.txt "
   ]
  },
  {
   "cell_type": "markdown",
   "metadata": {},
   "source": [
    "## Compute Degrees"
   ]
  },
  {
   "cell_type": "markdown",
   "metadata": {},
   "source": [
    "Kypher can compute the out degree by counting the node2s for each node1"
   ]
  },
  {
   "cell_type": "code",
   "execution_count": 47,
   "metadata": {},
   "outputs": [],
   "source": [
    "!$kypher -i claims -o $TEMP/metadata.out_degree.tsv.gz \\\n",
    "--match '(n1)-[l]->()' \\\n",
    "--return 'distinct n1 as node1, count(distinct l) as node2, \"Pout_degree\" as label' "
   ]
  },
  {
   "cell_type": "code",
   "execution_count": 48,
   "metadata": {},
   "outputs": [],
   "source": [
    "!$kgtk add-id --id-style wikidata -i $TEMP/metadata.out_degree.tsv.gz \\\n",
    "/ sort2 -o $OUT/metadata.out_degree.tsv.gz"
   ]
  },
  {
   "cell_type": "code",
   "execution_count": 52,
   "metadata": {},
   "outputs": [
    {
     "name": "stdout",
     "output_type": "stream",
     "text": [
      "zcat: error writing to output: Broken pipe\n",
      "node1\tnode2\tlabel\tid\n",
      "P10\t1\tPout_degree\tP10-Pout_degree-6b86b2\n",
      "P1000\t1\tPout_degree\tP1000-Pout_degree-6b86b2\n",
      "P1001\t13\tPout_degree\tP1001-Pout_degree-3fdba3\n",
      "P1004\t5\tPout_degree\tP1004-Pout_degree-ef2d12\n",
      "P1005\t3\tPout_degree\tP1005-Pout_degree-4e0740\n",
      "P1006\t2\tPout_degree\tP1006-Pout_degree-d4735e\n",
      "P1007\t2\tPout_degree\tP1007-Pout_degree-d4735e\n",
      "P101\t13\tPout_degree\tP101-Pout_degree-3fdba3\n",
      "P1012\t3\tPout_degree\tP1012-Pout_degree-4e0740\n"
     ]
    }
   ],
   "source": [
    "!zcat < $OUT/metadata.out_degree.tsv.gz | head | col"
   ]
  },
  {
   "cell_type": "markdown",
   "metadata": {},
   "source": [
    "To count the in-degree we only care when the node2 is a wikibase-item"
   ]
  },
  {
   "cell_type": "code",
   "execution_count": 49,
   "metadata": {},
   "outputs": [],
   "source": [
    "!$kypher -i claims -o $TEMP/metadata.in_degree.tsv.gz \\\n",
    "--match '()-[l]->(n2 {`wikidatatype`:\"wikibase-item\"})' \\\n",
    "--return 'distinct n2 as node1, count(distinct l) as node2, \"Pin_degree\" as label' \\\n",
    "--order-by 'n2'"
   ]
  },
  {
   "cell_type": "code",
   "execution_count": 50,
   "metadata": {},
   "outputs": [],
   "source": [
    "!$kgtk add-id --id-style wikidata -i $TEMP/metadata.in_degree.tsv.gz \\\n",
    "/ sort2 -o $OUT/metadata.in_degree.tsv.gz"
   ]
  },
  {
   "cell_type": "code",
   "execution_count": 51,
   "metadata": {},
   "outputs": [
    {
     "name": "stdout",
     "output_type": "stream",
     "text": [
      "zcat: error writing to output: Broken pipe\n",
      "node1\tnode2\tlabel\tid\n",
      "Q100\t168\tPin_degree\tQ100-Pin_degree-80c3cd\n",
      "Q1000\t76\tPin_degree\tQ1000-Pin_degree-f74efa\n",
      "Q1000048\t1\tPin_degree\tQ1000048-Pin_degree-6b86b2\n",
      "Q1000148\t3\tPin_degree\tQ1000148-Pin_degree-4e0740\n",
      "Q100039327\t1\tPin_degree\tQ100039327-Pin_degree-6b86b2\n",
      "Q100046246\t1\tPin_degree\tQ100046246-Pin_degree-6b86b2\n",
      "Q100052008\t1\tPin_degree\tQ100052008-Pin_degree-6b86b2\n",
      "Q100055982\t1\tPin_degree\tQ100055982-Pin_degree-6b86b2\n",
      "Q100063122\t1\tPin_degree\tQ100063122-Pin_degree-6b86b2\n"
     ]
    }
   ],
   "source": [
    "!zcat < $OUT/metadata.in_degree.tsv.gz | head | col"
   ]
  },
  {
   "cell_type": "markdown",
   "metadata": {},
   "source": [
    "Calculate the distribution so we can make a nice chart"
   ]
  },
  {
   "cell_type": "code",
   "execution_count": 53,
   "metadata": {},
   "outputs": [],
   "source": [
    "!$kypher -i $OUT/metadata.in_degree.tsv.gz -o $OUT/statistics.in_degree.distribution.tsv \\\n",
    "--match '(n1)-[]->(n2)' \\\n",
    "--return 'distinct n2 as Pin_degree, count(distinct n1) as count, \"count\" as label' \\\n",
    "--order-by 'cast(n2, integer)' "
   ]
  },
  {
   "cell_type": "code",
   "execution_count": 54,
   "metadata": {},
   "outputs": [
    {
     "name": "stdout",
     "output_type": "stream",
     "text": [
      "Pin_degree\tcount\tlabel\n",
      "1\t16523\tcount\n",
      "2\t5740\tcount\n",
      "3\t3206\tcount\n",
      "4\t2123\tcount\n",
      "5\t1736\tcount\n",
      "6\t1414\tcount\n",
      "7\t1315\tcount\n",
      "8\t1120\tcount\n",
      "9\t851\tcount\n"
     ]
    }
   ],
   "source": [
    "!head $OUT/statistics.in_degree.distribution.tsv | col"
   ]
  },
  {
   "cell_type": "code",
   "execution_count": 55,
   "metadata": {},
   "outputs": [],
   "source": [
    "!$kypher -i $OUT/metadata.out_degree.tsv.gz -o $OUT/statistics.out_degree.distribution.tsv \\\n",
    "--match '(n1)-[]->(n2)' \\\n",
    "--return 'distinct n2 as Pout_degree, count(distinct n1) as count, \"count\" as label' \\\n",
    "--order-by 'cast(n2, integer)' "
   ]
  },
  {
   "cell_type": "markdown",
   "metadata": {},
   "source": [
    "Draw some charts"
   ]
  },
  {
   "cell_type": "code",
   "execution_count": 56,
   "metadata": {},
   "outputs": [],
   "source": [
    "if debug:\n",
    "    data = pd.read_csv(\n",
    "        os.environ[\"OUT\"] + \"/statistics.in_degree.distribution.tsv\", sep=\"\\t\"\n",
    "    )\n",
    "\n",
    "    alt.Chart(data).mark_circle(size=60).encode(\n",
    "        x=alt.X(\"in_degree\", scale=alt.Scale(type=\"log\")),\n",
    "        y=alt.Y(\"count\", scale=alt.Scale(type=\"log\"), title=\"count of nodes\"),\n",
    "        tooltip=[\"in_degree\", \"count\"],\n",
    "    ).interactive().properties(title=\"Distribution of In Degree\")"
   ]
  },
  {
   "cell_type": "code",
   "execution_count": 57,
   "metadata": {},
   "outputs": [],
   "source": [
    "if debug:\n",
    "    data = pd.read_csv(\n",
    "        os.environ[\"OUT\"] + \"/statistics.out_degree.distribution.tsv\", sep=\"\\t\"\n",
    "    )\n",
    "\n",
    "    alt.Chart(data).mark_circle(size=60).encode(\n",
    "        x=alt.X(\"out_degree\", scale=alt.Scale(type=\"log\")),\n",
    "        y=alt.Y(\"count\", scale=alt.Scale(type=\"log\"), title=\"count of nodes\"),\n",
    "        tooltip=[\"out_degree\", \"count\"],\n",
    "    ).interactive().properties(title=\"Distribution of Out Degree\")"
   ]
  },
  {
   "cell_type": "markdown",
   "metadata": {},
   "source": [
    "## Summary of results"
   ]
  },
  {
   "cell_type": "code",
   "execution_count": 58,
   "metadata": {},
   "outputs": [
    {
     "name": "stdout",
     "output_type": "stream",
     "text": [
      "-rw-r--r--  1 amandeep  staff    61B Oct 11 15:47 /Volumes/saggu-ssd/arnold-useful-files/aliases.de.tsv.gz\n",
      "-rw-r--r--  1 amandeep  staff   1.3M Oct 11 15:47 /Volumes/saggu-ssd/arnold-useful-files/aliases.en.tsv.gz\n",
      "-rw-r--r--  1 amandeep  staff    61B Oct 11 15:47 /Volumes/saggu-ssd/arnold-useful-files/aliases.es.tsv.gz\n",
      "-rw-r--r--  1 amandeep  staff    61B Oct 11 15:47 /Volumes/saggu-ssd/arnold-useful-files/aliases.fr.tsv.gz\n",
      "-rw-r--r--  1 amandeep  staff    61B Oct 11 15:47 /Volumes/saggu-ssd/arnold-useful-files/aliases.it.tsv.gz\n",
      "-rw-r--r--  1 amandeep  staff    61B Oct 11 15:47 /Volumes/saggu-ssd/arnold-useful-files/aliases.nl.tsv.gz\n",
      "-rw-r--r--  1 amandeep  staff    61B Oct 11 15:47 /Volumes/saggu-ssd/arnold-useful-files/aliases.pl.tsv.gz\n",
      "-rw-r--r--  1 amandeep  staff    61B Oct 11 15:47 /Volumes/saggu-ssd/arnold-useful-files/aliases.pt.tsv.gz\n",
      "-rw-r--r--  1 amandeep  staff    61B Oct 11 15:47 /Volumes/saggu-ssd/arnold-useful-files/aliases.ru.tsv.gz\n",
      "-rw-r--r--  1 amandeep  staff    61B Oct 11 15:47 /Volumes/saggu-ssd/arnold-useful-files/aliases.sv.tsv.gz\n",
      "-rw-r--r--  1 amandeep  staff    64B Oct 11 15:47 /Volumes/saggu-ssd/arnold-useful-files/aliases.zh-cn.tsv.gz\n",
      "-rw-r--r--  1 amandeep  staff   382K Oct 11 15:48 /Volumes/saggu-ssd/arnold-useful-files/derived.P279.tsv.gz\n",
      "-rw-r--r--  1 amandeep  staff   3.2M Oct 11 15:48 /Volumes/saggu-ssd/arnold-useful-files/derived.P279star.tsv.gz\n",
      "-rw-r--r--  1 amandeep  staff   1.1M Oct 11 15:47 /Volumes/saggu-ssd/arnold-useful-files/derived.P31.tsv.gz\n",
      "-rw-r--r--  1 amandeep  staff    12M Oct 11 15:50 /Volumes/saggu-ssd/arnold-useful-files/derived.P31P279star.tsv.gz\n",
      "-rw-r--r--  1 amandeep  staff   487K Oct 11 15:49 /Volumes/saggu-ssd/arnold-useful-files/derived.isa.tsv.gz\n",
      "-rw-r--r--  1 amandeep  staff    15M Oct 11 15:49 /Volumes/saggu-ssd/arnold-useful-files/derived.isastar.tsv.gz\n",
      "-rw-r--r--  1 amandeep  staff    66B Oct 11 15:47 /Volumes/saggu-ssd/arnold-useful-files/descriptions.de.tsv.gz\n",
      "-rw-r--r--  1 amandeep  staff   1.3M Oct 11 15:47 /Volumes/saggu-ssd/arnold-useful-files/descriptions.en.tsv.gz\n",
      "-rw-r--r--  1 amandeep  staff    66B Oct 11 15:47 /Volumes/saggu-ssd/arnold-useful-files/descriptions.es.tsv.gz\n",
      "-rw-r--r--  1 amandeep  staff    66B Oct 11 15:47 /Volumes/saggu-ssd/arnold-useful-files/descriptions.fr.tsv.gz\n",
      "-rw-r--r--  1 amandeep  staff    66B Oct 11 15:47 /Volumes/saggu-ssd/arnold-useful-files/descriptions.it.tsv.gz\n",
      "-rw-r--r--  1 amandeep  staff    66B Oct 11 15:47 /Volumes/saggu-ssd/arnold-useful-files/descriptions.nl.tsv.gz\n",
      "-rw-r--r--  1 amandeep  staff    66B Oct 11 15:47 /Volumes/saggu-ssd/arnold-useful-files/descriptions.pl.tsv.gz\n",
      "-rw-r--r--  1 amandeep  staff    66B Oct 11 15:47 /Volumes/saggu-ssd/arnold-useful-files/descriptions.pt.tsv.gz\n",
      "-rw-r--r--  1 amandeep  staff    66B Oct 11 15:47 /Volumes/saggu-ssd/arnold-useful-files/descriptions.ru.tsv.gz\n",
      "-rw-r--r--  1 amandeep  staff    66B Oct 11 15:47 /Volumes/saggu-ssd/arnold-useful-files/descriptions.sv.tsv.gz\n",
      "-rw-r--r--  1 amandeep  staff    69B Oct 11 15:47 /Volumes/saggu-ssd/arnold-useful-files/descriptions.zh-cn.tsv.gz\n",
      "-rw-r--r--  1 amandeep  staff    60B Oct 11 15:47 /Volumes/saggu-ssd/arnold-useful-files/labels.de.tsv.gz\n",
      "-rw-r--r--  1 amandeep  staff   1.0M Oct 11 15:47 /Volumes/saggu-ssd/arnold-useful-files/labels.en.tsv.gz\n",
      "-rw-r--r--  1 amandeep  staff    60B Oct 11 15:47 /Volumes/saggu-ssd/arnold-useful-files/labels.es.tsv.gz\n",
      "-rw-r--r--  1 amandeep  staff    60B Oct 11 15:47 /Volumes/saggu-ssd/arnold-useful-files/labels.fr.tsv.gz\n",
      "-rw-r--r--  1 amandeep  staff    60B Oct 11 15:47 /Volumes/saggu-ssd/arnold-useful-files/labels.it.tsv.gz\n",
      "-rw-r--r--  1 amandeep  staff    60B Oct 11 15:47 /Volumes/saggu-ssd/arnold-useful-files/labels.nl.tsv.gz\n",
      "-rw-r--r--  1 amandeep  staff    60B Oct 11 15:47 /Volumes/saggu-ssd/arnold-useful-files/labels.pl.tsv.gz\n",
      "-rw-r--r--  1 amandeep  staff    60B Oct 11 15:47 /Volumes/saggu-ssd/arnold-useful-files/labels.pt.tsv.gz\n",
      "-rw-r--r--  1 amandeep  staff    60B Oct 11 15:47 /Volumes/saggu-ssd/arnold-useful-files/labels.ru.tsv.gz\n",
      "-rw-r--r--  1 amandeep  staff    60B Oct 11 15:47 /Volumes/saggu-ssd/arnold-useful-files/labels.sv.tsv.gz\n",
      "-rw-r--r--  1 amandeep  staff    63B Oct 11 15:47 /Volumes/saggu-ssd/arnold-useful-files/labels.zh-cn.tsv.gz\n",
      "-rw-r--r--  1 amandeep  staff   302K Oct 11 15:55 /Volumes/saggu-ssd/arnold-useful-files/metadata.in_degree.tsv.gz\n",
      "-rw-r--r--  1 amandeep  staff   572K Oct 11 15:52 /Volumes/saggu-ssd/arnold-useful-files/metadata.out_degree.tsv.gz\n",
      "-rw-r--r--  1 amandeep  staff   2.1M Oct 11 15:50 /Volumes/saggu-ssd/arnold-useful-files/metadata.pagerank.directed.tsv.gz\n",
      "-rw-r--r--  1 amandeep  staff   2.3M Oct 11 15:50 /Volumes/saggu-ssd/arnold-useful-files/metadata.pagerank.undirected.tsv.gz\n",
      "-rw-r--r--  1 amandeep  staff   4.3K Oct 11 15:55 /Volumes/saggu-ssd/arnold-useful-files/statistics.in_degree.distribution.tsv\n",
      "-rw-r--r--  1 amandeep  staff   4.8K Oct 11 15:55 /Volumes/saggu-ssd/arnold-useful-files/statistics.out_degree.distribution.tsv\n",
      "\n",
      "/Volumes/saggu-ssd/arnold-useful-files/temp.arnold-useful-files:\n",
      "total 575984\n",
      "-rw-r--r--  1 amandeep  staff    48K Oct 11 15:48 P279.n1.tsv.gz\n",
      "-rw-r--r--  1 amandeep  staff   1.8M Oct 11 15:48 P279.reachable.tsv.gz\n",
      "-rw-r--r--  1 amandeep  staff   189K Oct 11 15:48 P279.roots.1.tsv.gz\n",
      "-rw-r--r--  1 amandeep  staff    54K Oct 11 15:48 P279.roots.2.tsv.gz\n",
      "-rw-r--r--  1 amandeep  staff   125K Oct 11 15:48 P279.roots.tsv\n",
      "-rw-r--r--  1 amandeep  staff   1.8M Oct 11 15:48 P279star.1.tsv.gz\n",
      "-rw-r--r--  1 amandeep  staff   1.6M Oct 11 15:48 P279star.2.tsv.gz\n",
      "-rw-r--r--  1 amandeep  staff   1.6M Oct 11 15:48 P279star.3.tsv.gz\n",
      "-rw-r--r--  1 amandeep  staff   136K Oct 11 15:48 P31.n2.tsv.gz\n",
      "-rw-r--r--  1 amandeep  staff   6.0M Oct 11 15:50 derived.P31P279star.gz\n",
      "-rw-r--r--  1 amandeep  staff   7.3M Oct 11 15:49 derived.isastar_1.tsv.gz\n",
      "-rw-r--r--  1 amandeep  staff   1.5M Oct 11 15:49 isa.1.tsv.gz\n",
      "-rw-r--r--  1 amandeep  staff   146K Oct 11 15:55 metadata.in_degree.tsv.gz\n",
      "-rw-r--r--  1 amandeep  staff   259K Oct 11 15:52 metadata.out_degree.tsv.gz\n",
      "-rw-r--r--  1 amandeep  staff   492B Oct 11 15:50 metadata.pagerank.directed.summary.txt\n",
      "-rw-r--r--  1 amandeep  staff   482B Oct 11 15:50 metadata.pagerank.undirected.summary.txt\n",
      "-rw-r--r--  1 amandeep  staff   243M Oct 11 15:55 wikidata.sqlite3.db\n"
     ]
    }
   ],
   "source": [
    "!ls -lh $OUT/*"
   ]
  },
  {
   "cell_type": "markdown",
   "metadata": {},
   "source": [
    "Highest page rank"
   ]
  },
  {
   "cell_type": "code",
   "execution_count": 61,
   "metadata": {},
   "outputs": [
    {
     "name": "stdout",
     "output_type": "stream",
     "text": [
      "node1\tlabel\tundirected page rank\n",
      "Q5062876\t'Centro Superior de Información de la Defensa'@en\t9.999978201327167e-06\n",
      "Q835831\t'Mount Vernon'@en\t9.999710615250981e-06\n",
      "Q62302889\t'art practice'@en\t9.999306691384986e-06\n",
      "Q12562330\t'asymmetry property'@en\t9.998677779801328e-06\n",
      "Q23\t'George Washington'@en\t9.998210185434762e-05\n",
      "Q42293667\t'honorary doctor of Ben-Gurion University'@en\t9.99804745885785e-06\n",
      "Q608723\t'Bristol Old Vic Theatre School'@en\t9.997870819410728e-06\n",
      "Q392316\t'First Nations'@en\t9.997432367947012e-06\n",
      "Q55955335\t'Mike Lowrey'@en\t9.996814408119406e-06\n",
      "Q23968798\t'Eduard Sanjuán'@en\t9.996765931174855e-06\n"
     ]
    }
   ],
   "source": [
    "if debug:\n",
    "    if compute_pagerank:\n",
    "        !$kypher -i $OUT/metadata.pagerank.undirected.tsv.gz -i label \\\n",
    "        --match 'pagerank: (n1)-[:Pundirected_pagerank]->(page_rank), label: (n1)-[:label]->(label)' \\\n",
    "        --return 'distinct n1, label as label, page_rank as `undirected page rank`' \\\n",
    "        --order-by 'page_rank desc' \\\n",
    "        --limit 10 "
   ]
  },
  {
   "cell_type": "markdown",
   "metadata": {},
   "source": [
    "#### Move all the files to input folder\n",
    "Should not do this, files should be left in output"
   ]
  },
  {
   "cell_type": "raw",
   "metadata": {},
   "source": [
    "!mv $OUT/* $GRAPH/"
   ]
  },
  {
   "cell_type": "code",
   "execution_count": null,
   "metadata": {},
   "outputs": [],
   "source": []
  }
 ],
 "metadata": {
  "celltoolbar": "Tags",
  "kernelspec": {
   "display_name": "kgtk-env",
   "language": "python",
   "name": "kgtk-env"
  },
  "language_info": {
   "codemirror_mode": {
    "name": "ipython",
    "version": 3
   },
   "file_extension": ".py",
   "mimetype": "text/x-python",
   "name": "python",
   "nbconvert_exporter": "python",
   "pygments_lexer": "ipython3",
   "version": "3.9.7"
  }
 },
 "nbformat": 4,
 "nbformat_minor": 4
}
