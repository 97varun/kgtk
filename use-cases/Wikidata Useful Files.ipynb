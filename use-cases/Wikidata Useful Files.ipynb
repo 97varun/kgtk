{
 "cells": [
  {
   "cell_type": "markdown",
   "metadata": {},
   "source": [
    "# Generating Useful Wikidata Files\n",
    "\n",
    "This notebook generates files that contain derived data that is useful in many applications. The input to the notebook is the full Wikidata or a subset of Wikidata. It also works for arbitrary KGs as long as they follow the representation requirements of Wikidata:\n",
    "\n",
    "- the *instance of* relation is represented using the `P31` property\n",
    "- the *subclass of* relation is represented using the `P279` property\n",
    "- all properties declare a datatype, and the data types must be one of the datatypes in Wikidata.\n",
    "\n",
    "Inputs:\n",
    "\n",
    "- `claims_file`: contains all statements, which consist of edges `node1/label/node2` where `label` is a property in Wikidata (e.g., sitelinks, labels, aliases and description are not in the claims file.\n",
    "- `item_file`: the subset of the `claims_file` consistin of edges for property of data type `wikibase-item`\n",
    "- `label_file`, `alias_file` and `description_file` containing labels, aliases and descriptions. It is assume that these files contain the labels, aliases and descriptions of all nodes appearing in the claims file. Users may provide these files for specific languages only.\n",
    "\n",
    "Outputs:\n",
    "\n",
    "- **Instance of (P31):** `derived.P31.tsv.gz` contains all the `instance of (P31)` edges present in the claims file.\n",
    "- **Subclass of (P279):** `derived.P279.tsv.gz` contains all the `subclass of (P279)` edges present in the claims file.\n",
    "- **Is A (isa):** `derived.isa.tsv.gz` contains edges `node`isa/node2` where either `node1/P31/node2` or `node1/P279/node2`\n",
    "- **Closure of subclass of (P279star):** `derived.P279star.tsv.gz` contains edges `node1/P279star/node2` where `node2` is reachable from `node1` via zero or more hops using the `P279` property. Note that for example, `Q44/P279star/Q44`. An example when this file is useful is when you want to find all the instance of a class, including instances of subclasses of the given class.\n",
    "- **In/out degrees:** `metadata.out_degree.tsv.gz` contains the out degree of every node, and `metadata.in_degree.tsv.gz` contains the in degree of every node.\n",
    "- **Pagerank:** outputs page rank on the directed graph in `metadata.pagerank.directed.tsv.gz` and page rank of the directed graph in `metadata.pagerank.undirected.tsv.gz`."
   ]
  },
  {
   "cell_type": "markdown",
   "metadata": {},
   "source": [
    "### Batch Invocation\n",
    "Example batch command. The second argument is a notebook where the output will be stored. You can load it to see progress.\n",
    "\n",
    "```\n",
    "papermill Wikidata\\ Useful\\ Files.ipynb useful-files.out.ipynb \\\n",
    "-p claims_file /Volumes/GoogleDrive/Shared\\ drives/KGTK-public-graphs/wikidata-20200803-v4/all.tsv.gz \\\n",
    "-p label_file /Volumes/GoogleDrive/Shared\\ drives/KGTK-public-graphs/wikidata-20200803-v4/part.label.en.tsv.gz \\\n",
    "-p item_file /Volumes/GoogleDrive/Shared\\ drives/KGTK-public-graphs/wikidata-20200803-v4/part.wikibase-item.tsv.gz \\\n",
    "-p property_item_file = /Volumes/GoogleDrive/Shared\\ drives/KGTK-public-graphs/wikidata-20200803-v4/part.property.wikibase-item.tsv.gz \\\n",
    "-p output_path <local folder> \\\n",
    "-p output_folder useful_files_v4 \\\n",
    "-p temp_folder temp.useful_files_v4 \\\n",
    "-p delete_database no \n",
    "-p languages es,ru,zh-cn\n",
    "```"
   ]
  },
  {
   "cell_type": "code",
   "execution_count": 1,
   "metadata": {},
   "outputs": [],
   "source": [
    "import io\n",
    "import os\n",
    "import subprocess\n",
    "import sys\n",
    "\n",
    "import numpy as np\n",
    "import pandas as pd\n",
    "\n",
    "import altair as alt \n",
    "from configure_kgtk_notebooks import ConfigureKGTK"
   ]
  },
  {
   "cell_type": "code",
   "execution_count": 2,
   "metadata": {
    "tags": [
     "parameters"
    ]
   },
   "outputs": [],
   "source": [
    "# Parameters\n",
    "input_path = \"/Volumes/saggu-ssd/kgtk-tutorial-files/datasets/arnold\"\n",
    "output_path = \"/Volumes/saggu-ssd\"\n",
    "kgtk_path = \"/Users/amandeep/Github/kgtk\"\n",
    "\n",
    "project_name = \"arnold-useful-files\"\n",
    "\n",
    "languages = 'en,ru,es,zh-cn,de,it,nl,pl,fr,pt,sv'\n",
    "\n",
    "files = 'claims,label,label_all,alias,alias_all,description,description_all,item'\n",
    "\n",
    "compute_pagerank = True\n",
    "compute_degrees = True\n",
    "compute_hits = False\n",
    "compute_table_linker_files = True\n",
    "\n",
    "debug = \"false\""
   ]
  },
  {
   "cell_type": "code",
   "execution_count": 3,
   "metadata": {},
   "outputs": [
    {
     "name": "stdout",
     "output_type": "stream",
     "text": [
      "User home: /Users/amandeep\n",
      "Current dir: /Users/amandeep/Github/kgtk/use-cases\n",
      "KGTK dir: /Users/amandeep/Github/kgtk\n",
      "Use-cases dir: /Users/amandeep/Github/kgtk/use-cases\n"
     ]
    }
   ],
   "source": [
    "ck = ConfigureKGTK(kgtk_path=kgtk_path)\n",
    "ck.configure_kgtk(input_graph_path=input_path,\n",
    "                  output_path=output_path,\n",
    "                  project_name=project_name)"
   ]
  },
  {
   "cell_type": "code",
   "execution_count": 4,
   "metadata": {},
   "outputs": [
    {
     "name": "stdout",
     "output_type": "stream",
     "text": [
      "kgtk: kgtk\n",
      "GRAPH: /Volumes/saggu-ssd/kgtk-tutorial-files/datasets/arnold\n",
      "EXAMPLES_DIR: /Users/amandeep/Github/kgtk/examples\n",
      "TEMP: /Volumes/saggu-ssd/arnold-useful-files/temp.arnold-useful-files\n",
      "kypher: kgtk query --graph-cache /Volumes/saggu-ssd/arnold-useful-files/temp.arnold-useful-files/wikidata.sqlite3.db\n",
      "OUT: /Volumes/saggu-ssd/arnold-useful-files\n",
      "USE_CASES_DIR: /Users/amandeep/Github/kgtk/use-cases\n",
      "STORE: /Volumes/saggu-ssd/arnold-useful-files/temp.arnold-useful-files/wikidata.sqlite3.db\n",
      "claims: /Volumes/saggu-ssd/kgtk-tutorial-files/datasets/arnold/claims.tsv.gz\n",
      "label: /Volumes/saggu-ssd/kgtk-tutorial-files/datasets/arnold/labels.en.tsv.gz\n",
      "label_all: /Volumes/saggu-ssd/kgtk-tutorial-files/datasets/arnold/labels.tsv.gz\n",
      "alias: /Volumes/saggu-ssd/kgtk-tutorial-files/datasets/arnold/aliases.en.tsv.gz\n",
      "alias_all: /Volumes/saggu-ssd/kgtk-tutorial-files/datasets/arnold/aliases.tsv.gz\n",
      "description: /Volumes/saggu-ssd/kgtk-tutorial-files/datasets/arnold/descriptions.en.tsv.gz\n",
      "description_all: /Volumes/saggu-ssd/kgtk-tutorial-files/datasets/arnold/descriptions.tsv.gz\n",
      "item: /Volumes/saggu-ssd/kgtk-tutorial-files/datasets/arnold/claims.wikibase-item.tsv.gz\n"
     ]
    }
   ],
   "source": [
    "files = files.split(',')\n",
    "ck.print_env_variables(files)"
   ]
  },
  {
   "cell_type": "code",
   "execution_count": 5,
   "metadata": {},
   "outputs": [
    {
     "name": "stdout",
     "output_type": "stream",
     "text": [
      "kgtk query --graph-cache /Volumes/saggu-ssd/arnold-useful-files/temp.arnold-useful-files/wikidata.sqlite3.db -i \"/Volumes/saggu-ssd/kgtk-tutorial-files/datasets/arnold/claims.tsv.gz\" --as claims  -i \"/Volumes/saggu-ssd/kgtk-tutorial-files/datasets/arnold/labels.en.tsv.gz\" --as label  -i \"/Volumes/saggu-ssd/kgtk-tutorial-files/datasets/arnold/labels.tsv.gz\" --as label_all  -i \"/Volumes/saggu-ssd/kgtk-tutorial-files/datasets/arnold/aliases.en.tsv.gz\" --as alias  -i \"/Volumes/saggu-ssd/kgtk-tutorial-files/datasets/arnold/aliases.tsv.gz\" --as alias_all  -i \"/Volumes/saggu-ssd/kgtk-tutorial-files/datasets/arnold/descriptions.en.tsv.gz\" --as description  -i \"/Volumes/saggu-ssd/kgtk-tutorial-files/datasets/arnold/descriptions.tsv.gz\" --as description_all  -i \"/Volumes/saggu-ssd/kgtk-tutorial-files/datasets/arnold/claims.wikibase-item.tsv.gz\" --as item  --limit 3\n",
      "node1\tlabel\tnode2\tid\tnode2;wikidatatype\n",
      "P10\tP31\tQ18610173\tP10-P31-Q18610173-85ef4d24-0\twikibase-item\n",
      "P1000\tP31\tQ18608871\tP1000-P31-Q18608871-093affb5-0\twikibase-item\n",
      "P1001\tP1647\tP276\tP1001-P1647-P276-e4e44f83-0\twikibase-property\n"
     ]
    }
   ],
   "source": [
    "ck.load_files_into_cache(files)"
   ]
  },
  {
   "cell_type": "code",
   "execution_count": 5,
   "metadata": {},
   "outputs": [],
   "source": [
    "debug = debug.lower() == \"true\"\n",
    "languages = languages.split(',')"
   ]
  },
  {
   "cell_type": "markdown",
   "metadata": {},
   "source": [
    "### Preview the input files"
   ]
  },
  {
   "cell_type": "markdown",
   "metadata": {},
   "source": [
    "It is always a good practice to peek a the files to make sure the column headings are what we expect"
   ]
  },
  {
   "cell_type": "code",
   "execution_count": 8,
   "metadata": {},
   "outputs": [
    {
     "name": "stdout",
     "output_type": "stream",
     "text": [
      "node1\tlabel\tnode2\tid\tnode2;wikidatatype\n",
      "P10\tP31\tQ18610173\tP10-P31-Q18610173-85ef4d24-0\twikibase-item\n",
      "P1000\tP31\tQ18608871\tP1000-P31-Q18608871-093affb5-0\twikibase-item\n",
      "P1001\tP1855\tQ11696\tP1001-P1855-Q11696-cdbf391b-0\twikibase-item\n",
      "P1001\tP1855\tQ12371988\tP1001-P1855-Q12371988-12c10bc0-0\twikibase-item\n",
      "P1001\tP1855\tQ181574 P1001-P1855-Q181574-7f428c9b-0\twikibase-item\n",
      "P1001\tP1855\tQ29868931\tP1001-P1855-Q29868931-76b67d84-0\twikibase-item\n",
      "P1001\tP1855\tQ8901\tP1001-P1855-Q8901-15be5b36-0\twikibase-item\n",
      "P1001\tP31\tQ15720608\tP1001-P31-Q15720608-deeedec9-0\twikibase-item\n",
      "P1001\tP31\tQ22984026\tP1001-P31-Q22984026-8beb0cfe-0\twikibase-item\n",
      "P1001\tP31\tQ22997934\tP1001-P31-Q22997934-1e5b1a96-0\twikibase-item\n"
     ]
    }
   ],
   "source": [
    "!$kypher -i item --limit 10 | col "
   ]
  },
  {
   "cell_type": "markdown",
   "metadata": {},
   "source": [
    "Force creation of the index on the label column"
   ]
  },
  {
   "cell_type": "code",
   "execution_count": 9,
   "metadata": {},
   "outputs": [
    {
     "name": "stdout",
     "output_type": "stream",
     "text": [
      "node1  label  node2      id                              node2;wikidatatype\n",
      "P10    P31    Q18610173  P10-P31-Q18610173-85ef4d24-0    wikibase-item\n",
      "P1000  P31    Q18608871  P1000-P31-Q18608871-093affb5-0  wikibase-item\n",
      "P1001  P31    Q15720608  P1001-P31-Q15720608-deeedec9-0  wikibase-item\n",
      "P1001  P31    Q22984026  P1001-P31-Q22984026-8beb0cfe-0  wikibase-item\n",
      "P1001  P31    Q22997934  P1001-P31-Q22997934-1e5b1a96-0  wikibase-item\n"
     ]
    }
   ],
   "source": [
    "!$kypher -i item -o - \\\n",
    "--match '(i)-[:P31]->(c)' \\\n",
    "--limit 5 \\\n",
    "| column -t -s $'\\t' "
   ]
  },
  {
   "cell_type": "markdown",
   "metadata": {},
   "source": [
    "Force creation of the index on the node2 column"
   ]
  },
  {
   "cell_type": "code",
   "execution_count": 10,
   "metadata": {},
   "outputs": [
    {
     "name": "stdout",
     "output_type": "stream",
     "text": [
      "node1     label  node2  id                          node2;wikidatatype\n",
      "P1424     P1855  Q5     P1424-P1855-Q5-47bdcd17-0   wikibase-item\n",
      "P1552     P1855  Q5     P1552-P1855-Q5-53b667e4-0   wikibase-item\n",
      "P5869     P1855  Q5     P5869-P1855-Q5-3a19317f-0   wikibase-item\n",
      "Q1000048  P31    Q5     Q1000048-P31-Q5-f02d7495-0  wikibase-item\n",
      "Q1000061  P31    Q5     Q1000061-P31-Q5-6d7f3e39-0  wikibase-item\n"
     ]
    }
   ],
   "source": [
    "!$kypher -i item -o - \\\n",
    "--match '(i)-[r]->(:Q5)' \\\n",
    "--limit 5 \\\n",
    "| column -t -s $'\\t' "
   ]
  },
  {
   "cell_type": "markdown",
   "metadata": {},
   "source": [
    "### Count the number of edges"
   ]
  },
  {
   "cell_type": "markdown",
   "metadata": {},
   "source": [
    "Counting takes a long time"
   ]
  },
  {
   "cell_type": "code",
   "execution_count": 11,
   "metadata": {},
   "outputs": [
    {
     "name": "stdout",
     "output_type": "stream",
     "text": [
      "count\n",
      "393716\n"
     ]
    }
   ],
   "source": [
    "if debug:\n",
    "    !$kypher -i item \\\n",
    "    --match '()-[r]->()' \\\n",
    "    --return 'count(r) as count' \\\n",
    "    --limit 10"
   ]
  },
  {
   "cell_type": "markdown",
   "metadata": {},
   "source": [
    "### Get labels, aliases and descriptions for other languages"
   ]
  },
  {
   "cell_type": "code",
   "execution_count": 12,
   "metadata": {},
   "outputs": [],
   "source": [
    "for lang in languages:\n",
    "    cmd = f\"$kypher -i label_all -o $OUT/labels.{lang}.tsv.gz --match '(n1)-[l:label]->(n2)' --where 'n2.kgtk_lqstring_lang_suffix = \\\"{lang}\\\"' --return 'n1, l.label, n2, l.id' \"\n",
    "    !{cmd}"
   ]
  },
  {
   "cell_type": "code",
   "execution_count": 13,
   "metadata": {},
   "outputs": [],
   "source": [
    "for lang in languages:\n",
    "    cmd = f\"$kypher -i alias_all -o $OUT/aliases.{lang}.tsv.gz --match '(n1)-[l:alias]->(n2)' --where 'n2.kgtk_lqstring_lang_suffix = \\\"{lang}\\\"' --return 'n1, l.label, n2, l.id' \"\n",
    "    !{cmd}"
   ]
  },
  {
   "cell_type": "code",
   "execution_count": 14,
   "metadata": {},
   "outputs": [],
   "source": [
    "for lang in languages:\n",
    "    cmd = f\"$kypher -i description_all -o $OUT/descriptions.{lang}.tsv.gz --match '(n1)-[l:description]->(n2)' --where 'n2.kgtk_lqstring_lang_suffix = \\\"{lang}\\\"' --return 'n1, l.label, n2, l.id' \"\n",
    "    !{cmd}"
   ]
  },
  {
   "cell_type": "markdown",
   "metadata": {},
   "source": [
    "### Create the P31 and P279 files"
   ]
  },
  {
   "cell_type": "markdown",
   "metadata": {},
   "source": [
    "Create the `P31` file"
   ]
  },
  {
   "cell_type": "code",
   "execution_count": 15,
   "metadata": {},
   "outputs": [],
   "source": [
    "!$kypher -i item -o $OUT/derived.P31.tsv.gz \\\n",
    "--match '(n1)-[l:P31]->(n2)' \\\n",
    "--return 'l, n1, l.label, n2' "
   ]
  },
  {
   "cell_type": "code",
   "execution_count": 16,
   "metadata": {},
   "outputs": [
    {
     "name": "stdout",
     "output_type": "stream",
     "text": [
      "id\tnode1\tlabel\tnode2\n",
      "P10-P31-Q18610173-85ef4d24-0\tP10\tP31\tQ18610173\n",
      "P1000-P31-Q18608871-093affb5-0\tP1000\tP31\tQ18608871\n",
      "P1001-P31-Q15720608-deeedec9-0\tP1001\tP31\tQ15720608\n",
      "P1001-P31-Q22984026-8beb0cfe-0\tP1001\tP31\tQ22984026\n",
      "P1001-P31-Q22997934-1e5b1a96-0\tP1001\tP31\tQ22997934\n",
      "P1001-P31-Q61719275-0ccc11a5-0\tP1001\tP31\tQ61719275\n",
      "P1001-P31-Q70564278-b92b04ba-0\tP1001\tP31\tQ70564278\n",
      "P1004-P31-Q19829908-6077b37d-0\tP1004\tP31\tQ19829908\n",
      "P1004-P31-Q24075706-ef209004-0\tP1004\tP31\tQ24075706\n",
      "zcat: error writing to output: Broken pipe\n"
     ]
    }
   ],
   "source": [
    "!zcat < $OUT/derived.P31.tsv.gz | head | col"
   ]
  },
  {
   "cell_type": "markdown",
   "metadata": {},
   "source": [
    "Create the P279 file"
   ]
  },
  {
   "cell_type": "code",
   "execution_count": 17,
   "metadata": {},
   "outputs": [],
   "source": [
    "!$kypher -i item -o $OUT/derived.P279.tsv.gz \\\n",
    "    --match '(n1)-[l:P279]->(n2)' \\\n",
    "    --return 'l, n1, l.label, n2' "
   ]
  },
  {
   "cell_type": "code",
   "execution_count": 18,
   "metadata": {},
   "outputs": [
    {
     "name": "stdout",
     "output_type": "stream",
     "text": [
      "zcat: id\tnode1\tlabel\tnode2\n",
      "Q100039327-P279-Q327333-539148f1-0\tQ100039327\tP279\tQ327333\n",
      "error writing to outputQ100052008-P279-Q100116222-d1597eca-0\tQ100052008\tP279\tQ100116222\n",
      ": Broken pipe\n",
      "Q100052008-P279-Q27304565-f02464c8-0\tQ100052008\tP279\tQ27304565\n",
      "Q1000660-P279-Q125977-c41a8764-0\tQ1000660\tP279\tQ125977\n",
      "Q1000660-P279-Q2030545-c687deec-0\tQ1000660\tP279\tQ2030545\n",
      "Q1000976-P279-Q34187-7e54a7c0-0 Q1000976\tP279\tQ34187\n",
      "Q1001059-P279-Q216200-82eda284-0\tQ1001059\tP279\tQ216200\n",
      "Q1001059-P279-Q234460-f0e0aefd-0\tQ1001059\tP279\tQ234460\n",
      "Q100116222-P279-Q15831457-afcc497b-0\tQ100116222\tP279\tQ15831457\n"
     ]
    }
   ],
   "source": [
    "!zcat < $OUT/derived.P279.tsv.gz | head | col"
   ]
  },
  {
   "cell_type": "markdown",
   "metadata": {},
   "source": [
    "### Create the file that contains all nodes reachable via P279 starting from a node2 in P31 or a node1 in P279"
   ]
  },
  {
   "cell_type": "markdown",
   "metadata": {},
   "source": [
    "First compute the roots"
   ]
  },
  {
   "cell_type": "code",
   "execution_count": 19,
   "metadata": {},
   "outputs": [],
   "source": [
    "!$kypher -i $OUT/derived.P279.tsv.gz -o $TEMP/P279.n1.tsv.gz \\\n",
    "--match '(n1)-[l]->()' \\\n",
    "--return 'n1 as id' "
   ]
  },
  {
   "cell_type": "code",
   "execution_count": 20,
   "metadata": {},
   "outputs": [],
   "source": [
    "!$kypher -i $OUT/derived.P31.tsv.gz -o $TEMP/P31.n2.tsv.gz \\\n",
    "--match '()-[l]->(n2)' \\\n",
    "--return 'n2 as id' "
   ]
  },
  {
   "cell_type": "code",
   "execution_count": 21,
   "metadata": {},
   "outputs": [],
   "source": [
    "!$kgtk cat --mode NONE -i $TEMP/P31.n2.tsv.gz $TEMP/P279.n1.tsv.gz \\\n",
    "| gzip > $TEMP/P279.roots.1.tsv.gz"
   ]
  },
  {
   "cell_type": "code",
   "execution_count": 22,
   "metadata": {},
   "outputs": [],
   "source": [
    "!$kgtk sort2 --mode NONE --column id -i $TEMP/P279.roots.1.tsv.gz \\\n",
    "| gzip > $TEMP/P279.roots.2.tsv.gz"
   ]
  },
  {
   "cell_type": "markdown",
   "metadata": {},
   "source": [
    "We have lots of duplicates"
   ]
  },
  {
   "cell_type": "code",
   "execution_count": 23,
   "metadata": {},
   "outputs": [
    {
     "name": "stdout",
     "output_type": "stream",
     "text": [
      "id\n",
      "Q100039327\n",
      "Q100039327\n",
      "Q100052008\n",
      "Q100052008\n",
      "Q1000660\n",
      "Q1000660\n",
      "Q1000976\n",
      "Q1001059\n",
      "Q1001059\n",
      "zcat: error writing to output: Broken pipe\n"
     ]
    }
   ],
   "source": [
    "!zcat < $TEMP/P279.roots.2.tsv.gz | head"
   ]
  },
  {
   "cell_type": "code",
   "execution_count": 24,
   "metadata": {},
   "outputs": [],
   "source": [
    "!$kgtk compact -i $TEMP/P279.roots.2.tsv.gz --mode NONE \\\n",
    "    --presorted \\\n",
    "    --columns id \\\n",
    "    -o $TEMP/P279.roots.tsv"
   ]
  },
  {
   "cell_type": "markdown",
   "metadata": {},
   "source": [
    "Now we can invoke the reachable-nodes command"
   ]
  },
  {
   "cell_type": "code",
   "execution_count": 25,
   "metadata": {},
   "outputs": [],
   "source": [
    "!$kgtk reachable-nodes \\\n",
    "    --rootfile $TEMP/P279.roots.tsv \\\n",
    "    --selflink \\\n",
    "    -i $OUT/derived.P279.tsv.gz \\\n",
    "| gzip > $TEMP/P279.reachable.tsv.gz"
   ]
  },
  {
   "cell_type": "code",
   "execution_count": 26,
   "metadata": {},
   "outputs": [
    {
     "name": "stdout",
     "output_type": "stream",
     "text": [
      "zcat: error writing to output: Broken pipe\n",
      "node1\tlabel\tnode2\n",
      "Q100039327\treachable\tQ100039327\n",
      "Q100039327\treachable\tQ327333\n",
      "Q100039327\treachable\tQ43229\n",
      "Q100039327\treachable\tQ16334295\n",
      "Q100039327\treachable\tQ16334298\n",
      "Q100039327\treachable\tQ61961344\n",
      "Q100039327\treachable\tQ16887380\n",
      "Q100039327\treachable\tQ28813620\n",
      "Q100039327\treachable\tQ99527517\n"
     ]
    }
   ],
   "source": [
    "!zcat < $TEMP/P279.reachable.tsv.gz | head | col"
   ]
  },
  {
   "cell_type": "markdown",
   "metadata": {},
   "source": [
    "The reachable-nodes command produces edges labeled `reachable`, so we need one command to rename them."
   ]
  },
  {
   "cell_type": "code",
   "execution_count": 27,
   "metadata": {},
   "outputs": [],
   "source": [
    "!$kypher -i $TEMP/P279.reachable.tsv.gz -o $TEMP/P279star.1.tsv.gz \\\n",
    "--match '(n1)-[]->(n2)' \\\n",
    "--return 'n1, \"P279star\" as label, n2 as node2' "
   ]
  },
  {
   "cell_type": "markdown",
   "metadata": {},
   "source": [
    "Now we can concatenate these files to produce the final output"
   ]
  },
  {
   "cell_type": "code",
   "execution_count": 28,
   "metadata": {},
   "outputs": [],
   "source": [
    "!$kgtk sort2 -i $TEMP/P279star.1.tsv.gz -o $TEMP/P279star.2.tsv.gz"
   ]
  },
  {
   "cell_type": "markdown",
   "metadata": {},
   "source": [
    "Make sure there are no duplicates"
   ]
  },
  {
   "cell_type": "code",
   "execution_count": 29,
   "metadata": {},
   "outputs": [],
   "source": [
    "!$kgtk compact --presorted -i $TEMP/P279star.2.tsv.gz -o $TEMP/P279star.3.tsv.gz"
   ]
  },
  {
   "cell_type": "markdown",
   "metadata": {},
   "source": [
    "Add ids"
   ]
  },
  {
   "cell_type": "code",
   "execution_count": 30,
   "metadata": {},
   "outputs": [],
   "source": [
    "!$kgtk add-id --id-style node1-label-node2-num -i $TEMP/P279star.3.tsv.gz -o $OUT/derived.P279star.tsv.gz"
   ]
  },
  {
   "cell_type": "code",
   "execution_count": 31,
   "metadata": {},
   "outputs": [
    {
     "name": "stdout",
     "output_type": "stream",
     "text": [
      "zcat: error writing to output: Broken pipe\n",
      "node1\tlabel\tnode2\tid\n",
      "Q100039327\tP279star\tQ100039327\tQ100039327-P279star-Q100039327-0000\n",
      "Q100039327\tP279star\tQ16334295\tQ100039327-P279star-Q16334295-0000\n",
      "Q100039327\tP279star\tQ16334298\tQ100039327-P279star-Q16334298-0000\n",
      "Q100039327\tP279star\tQ16887380\tQ100039327-P279star-Q16887380-0000\n",
      "Q100039327\tP279star\tQ16889133\tQ100039327-P279star-Q16889133-0000\n",
      "Q100039327\tP279star\tQ23958946\tQ100039327-P279star-Q23958946-0000\n",
      "Q100039327\tP279star\tQ24229398\tQ100039327-P279star-Q24229398-0000\n",
      "Q100039327\tP279star\tQ26720107\tQ100039327-P279star-Q26720107-0000\n",
      "Q100039327\tP279star\tQ28813620\tQ100039327-P279star-Q28813620-0000\n"
     ]
    }
   ],
   "source": [
    "!zcat < $OUT/derived.P279star.tsv.gz | head | col"
   ]
  },
  {
   "cell_type": "markdown",
   "metadata": {},
   "source": [
    "This is how we would do the typical `?item P31/P279* ?class` in Kypher. \n",
    "The example shows how to get all the counts of instances of subclasses of city (Q515)."
   ]
  },
  {
   "cell_type": "code",
   "execution_count": 32,
   "metadata": {},
   "outputs": [
    {
     "name": "stdout",
     "output_type": "stream",
     "text": [
      "class\tcount\tclass name\tinstance\tlabel\n",
      "Q1549591\t627\t'big city'@en\tQ100\t'Boston'@en\n",
      "Q1093829\t470\t'city of the United States'@en\tQ100\t'Boston'@en\n",
      "Q515\t438\t'city'@en\tQ1001887\t'Ifrane'@en\n",
      "Q1637706\t224\t'city with millions of inhabitants'@en\tQ10127\t'Tangerang'@en\n",
      "Q42744322\t77\t'urban municipality of Germany'@en\tQ1022\t'Stuttgart'@en\n",
      "Q21518270\t55\t'state or insular area capital in the United States'@en Q100\t'Boston'@en\n",
      "Q2264924\t54\t'port settlement'@en\tQ10400\t'Almería'@en\n",
      "Q1266818\t41\t'independent city'@en\tQ123766 'Charlottesville'@en\n",
      "Q13218391\t36\t'charter city'@en\tQ159260 'Santa Clara'@en\n",
      "Q13539802\t33\t'place with town rights and privileges'@en\tQ131128 'Braunau am Inn'@en\n"
     ]
    }
   ],
   "source": [
    "if debug:\n",
    "    !$kypher -i $OUT/derived.P31.tsv.gz -i $OUT/derived.P279star.tsv.gz -i label \\\n",
    "    --match 'P31: (n1)-[:P31]->(c), P279star: (c)-[]->(:Q515), label: (n1)-[:label]->(label), label: (c)-[:label]->(c_label)' \\\n",
    "    --return 'distinct c as class, count(c) as count, c_label as `class name`, n1 as instance, label as `label`' \\\n",
    "    --order-by 'count(c) desc, c, n1' \\\n",
    "    --limit 10 \\\n",
    "    | col"
   ]
  },
  {
   "cell_type": "markdown",
   "metadata": {},
   "source": [
    "Illustrate that it is indeed `P279*`"
   ]
  },
  {
   "cell_type": "code",
   "execution_count": 33,
   "metadata": {},
   "outputs": [
    {
     "name": "stdout",
     "output_type": "stream",
     "text": [
      "class\tclass name\tinstance\tlabel\n",
      "Q63440326\t'city of Oregon'@en\tQ1065556\t'Gold Beach'@en\n",
      "Q63440326\t'city of Oregon'@en\tQ171224 'Eugene'@en\n",
      "Q63440326\t'city of Oregon'@en\tQ43919\t'Salem'@en\n",
      "Q63440326\t'city of Oregon'@en\tQ6106\t'Portland'@en\n",
      "Q63440326\t'city of Oregon'@en\tQ846170 'Roseburg'@en\n",
      "Q63440326\t'city of Oregon'@en\tQ849596 'Oregon City'@en\n"
     ]
    }
   ],
   "source": [
    "if debug:\n",
    "    !$kypher -i $OUT/derived.P31.tsv.gz -i $OUT/derived.P279star.tsv.gz -i label \\\n",
    "    --match 'P31: (n1)-[:P31]->(c), P279star: (c)-[]->(:Q63440326), label: (n1)-[:label]->(label), label: (c)-[:label]->(c_label)' \\\n",
    "    --return 'distinct c as class, c_label as `class name`, n1 as instance, label as `label`' \\\n",
    "    --order-by 'c, n1' \\\n",
    "    --limit 10 \\\n",
    "    | col "
   ]
  },
  {
   "cell_type": "markdown",
   "metadata": {},
   "source": [
    "### Create a file to do generalized Is-A queries\n",
    "The idea is that `(n1)-[:isa]->(n2)` when `(n1)-[:P31]->(n2)` or `(n1)-[:P279]->(n2)`\n",
    "\n",
    "We do this by concatenating the files and renaming the relation"
   ]
  },
  {
   "cell_type": "code",
   "execution_count": 34,
   "metadata": {},
   "outputs": [],
   "source": [
    "!$kgtk cat -i $OUT/derived.P31.tsv.gz $OUT/derived.P279.tsv.gz \\\n",
    "-o $TEMP/isa.1.tsv.gz"
   ]
  },
  {
   "cell_type": "code",
   "execution_count": 35,
   "metadata": {},
   "outputs": [],
   "source": [
    "!$kypher -i $TEMP/isa.1.tsv.gz -o $OUT/derived.isa.tsv.gz \\\n",
    "--match '(n1)-[]->(n2)' \\\n",
    "--return 'n1, \"isa\" as label, n2' "
   ]
  },
  {
   "cell_type": "markdown",
   "metadata": {},
   "source": [
    "Example of how to use the `isa` relation"
   ]
  },
  {
   "cell_type": "code",
   "execution_count": 36,
   "metadata": {},
   "outputs": [
    {
     "name": "stdout",
     "output_type": "stream",
     "text": [
      "node1\tlabel\tnode2\tn1_label\n"
     ]
    }
   ],
   "source": [
    "if debug:\n",
    "    !$kypher -i $OUT/derived.isa.tsv.gz -i $OUT/derived.P279star.tsv.gz -i label -o - \\\n",
    "    --match 'isa: (n1)-[l:isa]->(c), P279star: (c)-[]->(:Q44), label: (n1)-[:label]->(label)' \\\n",
    "    --return 'distinct n1, l.label, \"Q44\" as node2, label as n1_label' \\\n",
    "    --limit 10 \\\n",
    "    | col"
   ]
  },
  {
   "cell_type": "markdown",
   "metadata": {},
   "source": [
    "### Create files with `isa/P279* and P31/P279*` \n",
    "This file is useful to find all nodes that are below a q-node via P279 or isa.\n",
    "\n",
    "> These files are very large and take many hours to compute"
   ]
  },
  {
   "cell_type": "code",
   "execution_count": 37,
   "metadata": {},
   "outputs": [],
   "source": [
    "os.environ['P279STAR'] = f\"{os.environ['OUT']}/derived.P279star.tsv.gz\"\n",
    "os.environ['ISA'] = f\"{os.environ['OUT']}/derived.isa.tsv.gz\""
   ]
  },
  {
   "cell_type": "code",
   "execution_count": 38,
   "metadata": {},
   "outputs": [],
   "source": [
    "!$kypher -i \"$P279STAR\" --as P279star -i \"$ISA\" --as isa  \\\n",
    "--match '\\\n",
    "  isa: (n1)-[]->(n2), \\\n",
    "  P279star: (n2)-[]->(n3)' \\\n",
    "--return 'distinct n1 as node1, \"isa_star\" as label, n3 as node2' \\\n",
    "-o \"$TEMP\"/derived.isastar_1.tsv.gz"
   ]
  },
  {
   "cell_type": "markdown",
   "metadata": {},
   "source": [
    "Now add ids and sort it"
   ]
  },
  {
   "cell_type": "code",
   "execution_count": 39,
   "metadata": {},
   "outputs": [],
   "source": [
    "!$kgtk add-id --id-style wikidata -i \"$TEMP\"/derived.isastar_1.tsv.gz \\\n",
    "/ sort2 -o \"$OUT\"/derived.isastar.tsv.gz"
   ]
  },
  {
   "cell_type": "markdown",
   "metadata": {},
   "source": [
    "Also calculate the same file by for P31/P279*"
   ]
  },
  {
   "cell_type": "code",
   "execution_count": 40,
   "metadata": {},
   "outputs": [],
   "source": [
    "!$kypher -i item -i P279star \\\n",
    "--match '\\\n",
    "  item: (n1)-[:P31]->(n2), \\\n",
    "  P279star: (n2)-[]->(n3)' \\\n",
    "--return 'distinct n1 as node1, \"P31P279star\" as label, n3 as node2' \\\n",
    "-o \"$TEMP\"/derived.P31P279star.gz"
   ]
  },
  {
   "cell_type": "markdown",
   "metadata": {},
   "source": [
    "Add ids and sort it"
   ]
  },
  {
   "cell_type": "code",
   "execution_count": 41,
   "metadata": {},
   "outputs": [],
   "source": [
    "!$kgtk add-id --id-style wikidata -i \"$TEMP\"/derived.P31P279star.gz \\\n",
    "/ sort2 -o \"$OUT\"/derived.P31P279star.tsv.gz"
   ]
  },
  {
   "cell_type": "markdown",
   "metadata": {},
   "source": [
    "It is also very big"
   ]
  },
  {
   "cell_type": "code",
   "execution_count": 42,
   "metadata": {},
   "outputs": [
    {
     "name": "stdout",
     "output_type": "stream",
     "text": [
      " 1704159 6816636 100144221\n"
     ]
    }
   ],
   "source": [
    "if debug:\n",
    "    !zcat < \"$OUT\"/derived.P31P279star.tsv.gz | wc"
   ]
  },
  {
   "cell_type": "markdown",
   "metadata": {},
   "source": [
    "## Compute pagerank"
   ]
  },
  {
   "cell_type": "markdown",
   "metadata": {},
   "source": [
    "Now compute pagerank. These commands will exceed 16GB memory for graphs containing over 25 million nodes."
   ]
  },
  {
   "cell_type": "code",
   "execution_count": 43,
   "metadata": {},
   "outputs": [
    {
     "name": "stdout",
     "output_type": "stream",
     "text": [
      "\n",
      "(kgtk:5754): Gtk-\u001b[1;33mWARNING\u001b[0m **: \u001b[34m15:50:20.706\u001b[0m: Locale not supported by C library.\n",
      "\tUsing the fallback 'C' locale.\n"
     ]
    }
   ],
   "source": [
    "if compute_pagerank:\n",
    "    !$kgtk graph-statistics -i \"$item\" -o $OUT/metadata.pagerank.directed.tsv.gz \\\n",
    "    --compute-pagerank True \\\n",
    "    --compute-hits False \\\n",
    "    --page-rank-property Pdirected_pagerank \\\n",
    "    --output-degrees True \\\n",
    "    --output-pagerank True \\\n",
    "    --output-hits False \\\n",
    "    --output-statistics-only \\\n",
    "    --undirected False \\\n",
    "    --log-file $TEMP/metadata.pagerank.directed.summary.txt "
   ]
  },
  {
   "cell_type": "code",
   "execution_count": 44,
   "metadata": {},
   "outputs": [
    {
     "name": "stdout",
     "output_type": "stream",
     "text": [
      "graph loaded! It has 66014 nodes and 393716 edges\n",
      "\n",
      "*** Top relations:\n",
      "P31\t76899\n",
      "P17\t30213\n",
      "P47\t29116\n",
      "P279\t21917\n",
      "P131\t13895\n",
      "P1889\t13443\n",
      "P106\t11174\n",
      "P1411\t10914\n",
      "P166\t10452\n",
      "P21\t10171\n",
      "\n",
      "*** Degrees:\n",
      "in degree stats: mean=5.964129, std=0.363567, max=1\n",
      "out degree stats: mean=5.964129, std=0.043517, max=1\n",
      "total degree stats: mean=11.928258, std=0.380512, max=1\n",
      "\n",
      "*** PageRank\n",
      "Max pageranks\n",
      "26562\tQ23958852\t0.071410\n",
      "42551\tQ23960977\t0.032866\n",
      "14856\tQ35120\t0.028596\n",
      "11192\tQ151885\t0.026957\n",
      "439\tQ5\t0.012807\n"
     ]
    }
   ],
   "source": [
    "if compute_pagerank:\n",
    "    !cat $TEMP/metadata.pagerank.directed.summary.txt"
   ]
  },
  {
   "cell_type": "code",
   "execution_count": 45,
   "metadata": {},
   "outputs": [
    {
     "name": "stdout",
     "output_type": "stream",
     "text": [
      "\n",
      "(kgtk:5761): Gtk-\u001b[1;33mWARNING\u001b[0m **: \u001b[34m15:50:34.892\u001b[0m: Locale not supported by C library.\n",
      "\tUsing the fallback 'C' locale.\n"
     ]
    }
   ],
   "source": [
    "if compute_pagerank:\n",
    "    !$kgtk graph-statistics -i \"$item\" -o $OUT/metadata.pagerank.undirected.tsv.gz \\\n",
    "    --compute-pagerank True \\\n",
    "    --compute-hits False \\\n",
    "    --page-rank-property Pundirected_pagerank \\\n",
    "    --output-degrees True \\\n",
    "    --output-pagerank True \\\n",
    "    --output-hits False \\\n",
    "    --output-statistics-only \\\n",
    "    --undirected True \\\n",
    "    --log-file $TEMP/metadata.pagerank.undirected.summary.txt "
   ]
  },
  {
   "cell_type": "code",
   "execution_count": 46,
   "metadata": {},
   "outputs": [
    {
     "name": "stdout",
     "output_type": "stream",
     "text": [
      "graph loaded! It has 66014 nodes and 393716 edges\n",
      "\n",
      "*** Top relations:\n",
      "P31\t76899\n",
      "P17\t30213\n",
      "P47\t29116\n",
      "P279\t21917\n",
      "P131\t13895\n",
      "P1889\t13443\n",
      "P106\t11174\n",
      "P1411\t10914\n",
      "P166\t10452\n",
      "P21\t10171\n",
      "\n",
      "*** Degrees:\n",
      "in degree stats: mean=0.000000, std=0.000000, max=1\n",
      "out degree stats: mean=11.928258, std=0.380512, max=1\n",
      "total degree stats: mean=11.928258, std=0.380512, max=1\n",
      "\n",
      "*** PageRank\n",
      "Max pageranks\n",
      "439\tQ5\t0.022010\n",
      "173\tQ30\t0.012919\n",
      "4782\tQ6581097\t0.008353\n",
      "7097\tQ15221623\t0.004738\n",
      "1391\tQ1860\t0.004441\n"
     ]
    }
   ],
   "source": [
    "if compute_pagerank:\n",
    "    !cat $TEMP/metadata.pagerank.undirected.summary.txt "
   ]
  },
  {
   "cell_type": "markdown",
   "metadata": {},
   "source": [
    "## Compute Degrees"
   ]
  },
  {
   "cell_type": "markdown",
   "metadata": {},
   "source": [
    "Kypher can compute the out degree by counting the node2s for each node1"
   ]
  },
  {
   "cell_type": "code",
   "execution_count": 47,
   "metadata": {},
   "outputs": [],
   "source": [
    "!$kypher -i claims -o $TEMP/metadata.out_degree.tsv.gz \\\n",
    "--match '(n1)-[l]->()' \\\n",
    "--return 'distinct n1 as node1, count(distinct l) as node2, \"Pout_degree\" as label' "
   ]
  },
  {
   "cell_type": "code",
   "execution_count": 48,
   "metadata": {},
   "outputs": [],
   "source": [
    "!$kgtk add-id --id-style wikidata -i $TEMP/metadata.out_degree.tsv.gz \\\n",
    "/ sort2 -o $OUT/metadata.out_degree.tsv.gz"
   ]
  },
  {
   "cell_type": "code",
   "execution_count": 52,
   "metadata": {},
   "outputs": [
    {
     "name": "stdout",
     "output_type": "stream",
     "text": [
      "zcat: error writing to output: Broken pipe\n",
      "node1\tnode2\tlabel\tid\n",
      "P10\t1\tPout_degree\tP10-Pout_degree-6b86b2\n",
      "P1000\t1\tPout_degree\tP1000-Pout_degree-6b86b2\n",
      "P1001\t13\tPout_degree\tP1001-Pout_degree-3fdba3\n",
      "P1004\t5\tPout_degree\tP1004-Pout_degree-ef2d12\n",
      "P1005\t3\tPout_degree\tP1005-Pout_degree-4e0740\n",
      "P1006\t2\tPout_degree\tP1006-Pout_degree-d4735e\n",
      "P1007\t2\tPout_degree\tP1007-Pout_degree-d4735e\n",
      "P101\t13\tPout_degree\tP101-Pout_degree-3fdba3\n",
      "P1012\t3\tPout_degree\tP1012-Pout_degree-4e0740\n"
     ]
    }
   ],
   "source": [
    "!zcat < $OUT/metadata.out_degree.tsv.gz | head | col"
   ]
  },
  {
   "cell_type": "markdown",
   "metadata": {},
   "source": [
    "To count the in-degree we only care when the node2 is a wikibase-item"
   ]
  },
  {
   "cell_type": "code",
   "execution_count": 49,
   "metadata": {},
   "outputs": [],
   "source": [
    "!$kypher -i claims -o $TEMP/metadata.in_degree.tsv.gz \\\n",
    "--match '()-[l]->(n2 {`wikidatatype`:\"wikibase-item\"})' \\\n",
    "--return 'distinct n2 as node1, count(distinct l) as node2, \"Pin_degree\" as label' \\\n",
    "--order-by 'n2'"
   ]
  },
  {
   "cell_type": "code",
   "execution_count": 50,
   "metadata": {},
   "outputs": [],
   "source": [
    "!$kgtk add-id --id-style wikidata -i $TEMP/metadata.in_degree.tsv.gz \\\n",
    "/ sort2 -o $OUT/metadata.in_degree.tsv.gz"
   ]
  },
  {
   "cell_type": "code",
   "execution_count": 51,
   "metadata": {},
   "outputs": [
    {
     "name": "stdout",
     "output_type": "stream",
     "text": [
      "zcat: error writing to output: Broken pipe\n",
      "node1\tnode2\tlabel\tid\n",
      "Q100\t168\tPin_degree\tQ100-Pin_degree-80c3cd\n",
      "Q1000\t76\tPin_degree\tQ1000-Pin_degree-f74efa\n",
      "Q1000048\t1\tPin_degree\tQ1000048-Pin_degree-6b86b2\n",
      "Q1000148\t3\tPin_degree\tQ1000148-Pin_degree-4e0740\n",
      "Q100039327\t1\tPin_degree\tQ100039327-Pin_degree-6b86b2\n",
      "Q100046246\t1\tPin_degree\tQ100046246-Pin_degree-6b86b2\n",
      "Q100052008\t1\tPin_degree\tQ100052008-Pin_degree-6b86b2\n",
      "Q100055982\t1\tPin_degree\tQ100055982-Pin_degree-6b86b2\n",
      "Q100063122\t1\tPin_degree\tQ100063122-Pin_degree-6b86b2\n"
     ]
    }
   ],
   "source": [
    "!zcat < $OUT/metadata.in_degree.tsv.gz | head | col"
   ]
  },
  {
   "cell_type": "markdown",
   "metadata": {},
   "source": [
    "Calculate the distribution so we can make a nice chart"
   ]
  },
  {
   "cell_type": "code",
   "execution_count": 53,
   "metadata": {},
   "outputs": [],
   "source": [
    "!$kypher -i $OUT/metadata.in_degree.tsv.gz -o $OUT/statistics.in_degree.distribution.tsv \\\n",
    "--match '(n1)-[]->(n2)' \\\n",
    "--return 'distinct n2 as Pin_degree, count(distinct n1) as count, \"count\" as label' \\\n",
    "--order-by 'cast(n2, integer)' "
   ]
  },
  {
   "cell_type": "code",
   "execution_count": 54,
   "metadata": {},
   "outputs": [
    {
     "name": "stdout",
     "output_type": "stream",
     "text": [
      "Pin_degree\tcount\tlabel\n",
      "1\t16523\tcount\n",
      "2\t5740\tcount\n",
      "3\t3206\tcount\n",
      "4\t2123\tcount\n",
      "5\t1736\tcount\n",
      "6\t1414\tcount\n",
      "7\t1315\tcount\n",
      "8\t1120\tcount\n",
      "9\t851\tcount\n"
     ]
    }
   ],
   "source": [
    "!head $OUT/statistics.in_degree.distribution.tsv | col"
   ]
  },
  {
   "cell_type": "code",
   "execution_count": 55,
   "metadata": {},
   "outputs": [],
   "source": [
    "!$kypher -i $OUT/metadata.out_degree.tsv.gz -o $OUT/statistics.out_degree.distribution.tsv \\\n",
    "--match '(n1)-[]->(n2)' \\\n",
    "--return 'distinct n2 as Pout_degree, count(distinct n1) as count, \"count\" as label' \\\n",
    "--order-by 'cast(n2, integer)' "
   ]
  },
  {
   "cell_type": "markdown",
   "metadata": {},
   "source": [
    "Draw some charts"
   ]
  },
  {
   "cell_type": "code",
   "execution_count": 56,
   "metadata": {},
   "outputs": [],
   "source": [
    "if debug:\n",
    "    data = pd.read_csv(\n",
    "        os.environ[\"OUT\"] + \"/statistics.in_degree.distribution.tsv\", sep=\"\\t\"\n",
    "    )\n",
    "\n",
    "    alt.Chart(data).mark_circle(size=60).encode(\n",
    "        x=alt.X(\"in_degree\", scale=alt.Scale(type=\"log\")),\n",
    "        y=alt.Y(\"count\", scale=alt.Scale(type=\"log\"), title=\"count of nodes\"),\n",
    "        tooltip=[\"in_degree\", \"count\"],\n",
    "    ).interactive().properties(title=\"Distribution of In Degree\")"
   ]
  },
  {
   "cell_type": "code",
   "execution_count": 57,
   "metadata": {},
   "outputs": [],
   "source": [
    "if debug:\n",
    "    data = pd.read_csv(\n",
    "        os.environ[\"OUT\"] + \"/statistics.out_degree.distribution.tsv\", sep=\"\\t\"\n",
    "    )\n",
    "\n",
    "    alt.Chart(data).mark_circle(size=60).encode(\n",
    "        x=alt.X(\"out_degree\", scale=alt.Scale(type=\"log\")),\n",
    "        y=alt.Y(\"count\", scale=alt.Scale(type=\"log\"), title=\"count of nodes\"),\n",
    "        tooltip=[\"out_degree\", \"count\"],\n",
    "    ).interactive().properties(title=\"Distribution of Out Degree\")"
   ]
  },
  {
   "cell_type": "markdown",
   "metadata": {},
   "source": [
    "## Summary of results"
   ]
  },
  {
   "cell_type": "code",
   "execution_count": 58,
   "metadata": {},
   "outputs": [
    {
     "name": "stdout",
     "output_type": "stream",
     "text": [
      "-rw-r--r--  1 amandeep  staff    61B Oct 11 15:47 /Volumes/saggu-ssd/arnold-useful-files/aliases.de.tsv.gz\n",
      "-rw-r--r--  1 amandeep  staff   1.3M Oct 11 15:47 /Volumes/saggu-ssd/arnold-useful-files/aliases.en.tsv.gz\n",
      "-rw-r--r--  1 amandeep  staff    61B Oct 11 15:47 /Volumes/saggu-ssd/arnold-useful-files/aliases.es.tsv.gz\n",
      "-rw-r--r--  1 amandeep  staff    61B Oct 11 15:47 /Volumes/saggu-ssd/arnold-useful-files/aliases.fr.tsv.gz\n",
      "-rw-r--r--  1 amandeep  staff    61B Oct 11 15:47 /Volumes/saggu-ssd/arnold-useful-files/aliases.it.tsv.gz\n",
      "-rw-r--r--  1 amandeep  staff    61B Oct 11 15:47 /Volumes/saggu-ssd/arnold-useful-files/aliases.nl.tsv.gz\n",
      "-rw-r--r--  1 amandeep  staff    61B Oct 11 15:47 /Volumes/saggu-ssd/arnold-useful-files/aliases.pl.tsv.gz\n",
      "-rw-r--r--  1 amandeep  staff    61B Oct 11 15:47 /Volumes/saggu-ssd/arnold-useful-files/aliases.pt.tsv.gz\n",
      "-rw-r--r--  1 amandeep  staff    61B Oct 11 15:47 /Volumes/saggu-ssd/arnold-useful-files/aliases.ru.tsv.gz\n",
      "-rw-r--r--  1 amandeep  staff    61B Oct 11 15:47 /Volumes/saggu-ssd/arnold-useful-files/aliases.sv.tsv.gz\n",
      "-rw-r--r--  1 amandeep  staff    64B Oct 11 15:47 /Volumes/saggu-ssd/arnold-useful-files/aliases.zh-cn.tsv.gz\n",
      "-rw-r--r--  1 amandeep  staff   382K Oct 11 15:48 /Volumes/saggu-ssd/arnold-useful-files/derived.P279.tsv.gz\n",
      "-rw-r--r--  1 amandeep  staff   3.2M Oct 11 15:48 /Volumes/saggu-ssd/arnold-useful-files/derived.P279star.tsv.gz\n",
      "-rw-r--r--  1 amandeep  staff   1.1M Oct 11 15:47 /Volumes/saggu-ssd/arnold-useful-files/derived.P31.tsv.gz\n",
      "-rw-r--r--  1 amandeep  staff    12M Oct 11 15:50 /Volumes/saggu-ssd/arnold-useful-files/derived.P31P279star.tsv.gz\n",
      "-rw-r--r--  1 amandeep  staff   487K Oct 11 15:49 /Volumes/saggu-ssd/arnold-useful-files/derived.isa.tsv.gz\n",
      "-rw-r--r--  1 amandeep  staff    15M Oct 11 15:49 /Volumes/saggu-ssd/arnold-useful-files/derived.isastar.tsv.gz\n",
      "-rw-r--r--  1 amandeep  staff    66B Oct 11 15:47 /Volumes/saggu-ssd/arnold-useful-files/descriptions.de.tsv.gz\n",
      "-rw-r--r--  1 amandeep  staff   1.3M Oct 11 15:47 /Volumes/saggu-ssd/arnold-useful-files/descriptions.en.tsv.gz\n",
      "-rw-r--r--  1 amandeep  staff    66B Oct 11 15:47 /Volumes/saggu-ssd/arnold-useful-files/descriptions.es.tsv.gz\n",
      "-rw-r--r--  1 amandeep  staff    66B Oct 11 15:47 /Volumes/saggu-ssd/arnold-useful-files/descriptions.fr.tsv.gz\n",
      "-rw-r--r--  1 amandeep  staff    66B Oct 11 15:47 /Volumes/saggu-ssd/arnold-useful-files/descriptions.it.tsv.gz\n",
      "-rw-r--r--  1 amandeep  staff    66B Oct 11 15:47 /Volumes/saggu-ssd/arnold-useful-files/descriptions.nl.tsv.gz\n",
      "-rw-r--r--  1 amandeep  staff    66B Oct 11 15:47 /Volumes/saggu-ssd/arnold-useful-files/descriptions.pl.tsv.gz\n",
      "-rw-r--r--  1 amandeep  staff    66B Oct 11 15:47 /Volumes/saggu-ssd/arnold-useful-files/descriptions.pt.tsv.gz\n",
      "-rw-r--r--  1 amandeep  staff    66B Oct 11 15:47 /Volumes/saggu-ssd/arnold-useful-files/descriptions.ru.tsv.gz\n",
      "-rw-r--r--  1 amandeep  staff    66B Oct 11 15:47 /Volumes/saggu-ssd/arnold-useful-files/descriptions.sv.tsv.gz\n",
      "-rw-r--r--  1 amandeep  staff    69B Oct 11 15:47 /Volumes/saggu-ssd/arnold-useful-files/descriptions.zh-cn.tsv.gz\n",
      "-rw-r--r--  1 amandeep  staff    60B Oct 11 15:47 /Volumes/saggu-ssd/arnold-useful-files/labels.de.tsv.gz\n",
      "-rw-r--r--  1 amandeep  staff   1.0M Oct 11 15:47 /Volumes/saggu-ssd/arnold-useful-files/labels.en.tsv.gz\n",
      "-rw-r--r--  1 amandeep  staff    60B Oct 11 15:47 /Volumes/saggu-ssd/arnold-useful-files/labels.es.tsv.gz\n",
      "-rw-r--r--  1 amandeep  staff    60B Oct 11 15:47 /Volumes/saggu-ssd/arnold-useful-files/labels.fr.tsv.gz\n",
      "-rw-r--r--  1 amandeep  staff    60B Oct 11 15:47 /Volumes/saggu-ssd/arnold-useful-files/labels.it.tsv.gz\n",
      "-rw-r--r--  1 amandeep  staff    60B Oct 11 15:47 /Volumes/saggu-ssd/arnold-useful-files/labels.nl.tsv.gz\n",
      "-rw-r--r--  1 amandeep  staff    60B Oct 11 15:47 /Volumes/saggu-ssd/arnold-useful-files/labels.pl.tsv.gz\n",
      "-rw-r--r--  1 amandeep  staff    60B Oct 11 15:47 /Volumes/saggu-ssd/arnold-useful-files/labels.pt.tsv.gz\n",
      "-rw-r--r--  1 amandeep  staff    60B Oct 11 15:47 /Volumes/saggu-ssd/arnold-useful-files/labels.ru.tsv.gz\n",
      "-rw-r--r--  1 amandeep  staff    60B Oct 11 15:47 /Volumes/saggu-ssd/arnold-useful-files/labels.sv.tsv.gz\n",
      "-rw-r--r--  1 amandeep  staff    63B Oct 11 15:47 /Volumes/saggu-ssd/arnold-useful-files/labels.zh-cn.tsv.gz\n",
      "-rw-r--r--  1 amandeep  staff   302K Oct 11 15:55 /Volumes/saggu-ssd/arnold-useful-files/metadata.in_degree.tsv.gz\n",
      "-rw-r--r--  1 amandeep  staff   572K Oct 11 15:52 /Volumes/saggu-ssd/arnold-useful-files/metadata.out_degree.tsv.gz\n",
      "-rw-r--r--  1 amandeep  staff   2.1M Oct 11 15:50 /Volumes/saggu-ssd/arnold-useful-files/metadata.pagerank.directed.tsv.gz\n",
      "-rw-r--r--  1 amandeep  staff   2.3M Oct 11 15:50 /Volumes/saggu-ssd/arnold-useful-files/metadata.pagerank.undirected.tsv.gz\n",
      "-rw-r--r--  1 amandeep  staff   4.3K Oct 11 15:55 /Volumes/saggu-ssd/arnold-useful-files/statistics.in_degree.distribution.tsv\n",
      "-rw-r--r--  1 amandeep  staff   4.8K Oct 11 15:55 /Volumes/saggu-ssd/arnold-useful-files/statistics.out_degree.distribution.tsv\n",
      "\n",
      "/Volumes/saggu-ssd/arnold-useful-files/temp.arnold-useful-files:\n",
      "total 575984\n",
      "-rw-r--r--  1 amandeep  staff    48K Oct 11 15:48 P279.n1.tsv.gz\n",
      "-rw-r--r--  1 amandeep  staff   1.8M Oct 11 15:48 P279.reachable.tsv.gz\n",
      "-rw-r--r--  1 amandeep  staff   189K Oct 11 15:48 P279.roots.1.tsv.gz\n",
      "-rw-r--r--  1 amandeep  staff    54K Oct 11 15:48 P279.roots.2.tsv.gz\n",
      "-rw-r--r--  1 amandeep  staff   125K Oct 11 15:48 P279.roots.tsv\n",
      "-rw-r--r--  1 amandeep  staff   1.8M Oct 11 15:48 P279star.1.tsv.gz\n",
      "-rw-r--r--  1 amandeep  staff   1.6M Oct 11 15:48 P279star.2.tsv.gz\n",
      "-rw-r--r--  1 amandeep  staff   1.6M Oct 11 15:48 P279star.3.tsv.gz\n",
      "-rw-r--r--  1 amandeep  staff   136K Oct 11 15:48 P31.n2.tsv.gz\n",
      "-rw-r--r--  1 amandeep  staff   6.0M Oct 11 15:50 derived.P31P279star.gz\n",
      "-rw-r--r--  1 amandeep  staff   7.3M Oct 11 15:49 derived.isastar_1.tsv.gz\n",
      "-rw-r--r--  1 amandeep  staff   1.5M Oct 11 15:49 isa.1.tsv.gz\n",
      "-rw-r--r--  1 amandeep  staff   146K Oct 11 15:55 metadata.in_degree.tsv.gz\n",
      "-rw-r--r--  1 amandeep  staff   259K Oct 11 15:52 metadata.out_degree.tsv.gz\n",
      "-rw-r--r--  1 amandeep  staff   492B Oct 11 15:50 metadata.pagerank.directed.summary.txt\n",
      "-rw-r--r--  1 amandeep  staff   482B Oct 11 15:50 metadata.pagerank.undirected.summary.txt\n",
      "-rw-r--r--  1 amandeep  staff   243M Oct 11 15:55 wikidata.sqlite3.db\n"
     ]
    }
   ],
   "source": [
    "!ls -lh $OUT/*"
   ]
  },
  {
   "cell_type": "markdown",
   "metadata": {},
   "source": [
    "Highest page rank"
   ]
  },
  {
   "cell_type": "code",
   "execution_count": 61,
   "metadata": {},
   "outputs": [
    {
     "name": "stdout",
     "output_type": "stream",
     "text": [
      "node1\tlabel\tundirected page rank\n",
      "Q5062876\t'Centro Superior de Información de la Defensa'@en\t9.999978201327167e-06\n",
      "Q835831\t'Mount Vernon'@en\t9.999710615250981e-06\n",
      "Q62302889\t'art practice'@en\t9.999306691384986e-06\n",
      "Q12562330\t'asymmetry property'@en\t9.998677779801328e-06\n",
      "Q23\t'George Washington'@en\t9.998210185434762e-05\n",
      "Q42293667\t'honorary doctor of Ben-Gurion University'@en\t9.99804745885785e-06\n",
      "Q608723\t'Bristol Old Vic Theatre School'@en\t9.997870819410728e-06\n",
      "Q392316\t'First Nations'@en\t9.997432367947012e-06\n",
      "Q55955335\t'Mike Lowrey'@en\t9.996814408119406e-06\n",
      "Q23968798\t'Eduard Sanjuán'@en\t9.996765931174855e-06\n"
     ]
    }
   ],
   "source": [
    "if debug:\n",
    "    if compute_pagerank:\n",
    "        !$kypher -i $OUT/metadata.pagerank.undirected.tsv.gz -i label \\\n",
    "        --match 'pagerank: (n1)-[:Pundirected_pagerank]->(page_rank), label: (n1)-[:label]->(label)' \\\n",
    "        --return 'distinct n1, label as label, page_rank as `undirected page rank`' \\\n",
    "        --order-by 'page_rank desc' \\\n",
    "        --limit 10 "
   ]
  },
  {
   "cell_type": "markdown",
   "metadata": {},
   "source": [
    "## Create DWD ISA (Variant of IS A)"
   ]
  },
  {
   "cell_type": "code",
   "execution_count": 62,
   "metadata": {},
   "outputs": [],
   "source": [
    "if compute_table_linker_files:\n",
    "    !$kgtk filter -i \"$item\" -p '; P31, P279, P106, P39 ;' -o \"$TEMP\"/derived.P31_39_106_279.1.tsv.gz"
   ]
  },
  {
   "cell_type": "code",
   "execution_count": 63,
   "metadata": {},
   "outputs": [],
   "source": [
    "if compute_table_linker_files:\n",
    "    with open(os.environ['TEMP'] + '/custom-edges.tsv', 'w') as fp:\n",
    "        fp.write(\"node1\\tlabel\\tnode2\\n\")\n",
    "        fp.write(\"Q215627\\tdwd_isa\\tQ5\\n\") # person dwd_isa human\n",
    "        fp.write(\"Q12737077\\tdwd_isa\\tQ5\\n\") # occupation dwd_isa human (perhaps controversial)\n",
    "        fp.write(\"Q5\\tdwd_isa_\\tQ215627\\n\") # inverse\n",
    "        fp.write(\"Q5\\tdwd_isa_\\tQ12737077\\n\") # inverse\n",
    "    fp.close()"
   ]
  },
  {
   "cell_type": "code",
   "execution_count": 64,
   "metadata": {},
   "outputs": [],
   "source": [
    "if compute_table_linker_files:\n",
    "    !$kgtk cat -i \"$TEMP\"/derived.P31_39_106_279.1.tsv.gz -i \"$TEMP\"/custom-edges.tsv \\\n",
    "    -o \"$OUT\"/derived.dwd_isa.tsv.gz"
   ]
  },
  {
   "cell_type": "code",
   "execution_count": 65,
   "metadata": {},
   "outputs": [
    {
     "name": "stdout",
     "output_type": "stream",
     "text": [
      "  116087  580427 7696070\n"
     ]
    }
   ],
   "source": [
    "if compute_table_linker_files:\n",
    "    !zcat < \"$OUT\"/derived.dwd_isa.tsv.gz | wc"
   ]
  },
  {
   "cell_type": "markdown",
   "metadata": {},
   "source": [
    "## Compute TF IDF : Class and Property count files"
   ]
  },
  {
   "cell_type": "markdown",
   "metadata": {},
   "source": [
    "### Class Counts"
   ]
  },
  {
   "cell_type": "code",
   "execution_count": 66,
   "metadata": {},
   "outputs": [],
   "source": [
    "if compute_table_linker_files:\n",
    "    !$kypher  -i P279star -i \"$OUT\"/derived.dwd_isa.tsv.gz \\\n",
    "    --match 'dwd_isa: (n1)-[]->(class), P279star: (class)-[]->(super_class)' \\\n",
    "    --return 'distinct class as node1, \"P31_39_106_279star\" as label, super_class as node2' \\\n",
    "    --order-by 'node1, label, node2' \\\n",
    "    / add-id --id-style wikidata \\\n",
    "    -o \"$OUT\"/derived.P31_39_106_279star.tsv.gz"
   ]
  },
  {
   "cell_type": "code",
   "execution_count": 67,
   "metadata": {},
   "outputs": [],
   "source": [
    "if compute_table_linker_files:\n",
    "    !$kypher -i \"$OUT\"/derived.P31_39_106_279star.tsv.gz --as dwd_isa_star -i \"$OUT\"/derived.dwd_isa.tsv.gz --as P31_39_106_279 \\\n",
    "    --match 'P31_39_106_279: (n1)-[]->(class), dwd_isa_star: (class)-[]->(super_class)' \\\n",
    "    --return 'distinct super_class as node1, count(distinct n1) as node2, \"P31_39_106_279_count\" as label' \\\n",
    "    --order-by 'node1, label, node2' \\\n",
    "    -o \"$OUT\"/derived.dwd.count.tsv.gz"
   ]
  },
  {
   "cell_type": "code",
   "execution_count": 68,
   "metadata": {},
   "outputs": [],
   "source": [
    "if compute_table_linker_files:\n",
    "    !$kypher -i dwd_isa_star -i P31_39_106_279 -i \"$OUT\"/derived.dwd.count.tsv.gz \\\n",
    "    --match 'P31_39_106_279: (n1)-[]->(class), dwd_isa_star: (class)-[]->(super_class), count: (super_class)-[]->(count)' \\\n",
    "    --return 'distinct n1 as node1, \"class_count\" as label, printf(\"%s:%s\", super_class, count) as node2' \\\n",
    "    --order-by 'node1, label, node2' \\\n",
    "    -o \"$TEMP\"/dwd_isa_class_count.tsv.gz"
   ]
  },
  {
   "cell_type": "code",
   "execution_count": 69,
   "metadata": {},
   "outputs": [],
   "source": [
    "if compute_table_linker_files:\n",
    "    !kgtk sort -i \"$TEMP\"/dwd_isa_class_count.tsv.gz -X \"--parallel 8 --buffer-size 60%\" -o \"$TEMP\"/dwd_isa_class_count.sorted.tsv.gz"
   ]
  },
  {
   "cell_type": "code",
   "execution_count": 70,
   "metadata": {},
   "outputs": [],
   "source": [
    "if compute_table_linker_files:\n",
    "    !kgtk compact -i \"$TEMP\"/dwd_isa_class_count.sorted.tsv.gz --mode=NONE --columns node1 label --presorted True -o \"$OUT\"/dwd_isa_class_count.compact.tsv.gz"
   ]
  },
  {
   "cell_type": "markdown",
   "metadata": {},
   "source": [
    "### Property Counts"
   ]
  },
  {
   "cell_type": "markdown",
   "metadata": {},
   "source": [
    "#### For each property get the number of node1 that it occurs in"
   ]
  },
  {
   "cell_type": "code",
   "execution_count": 71,
   "metadata": {},
   "outputs": [],
   "source": [
    "if compute_table_linker_files:\n",
    "    !$kypher -i claims \\\n",
    "    --match '(n1)-[l {label: property}]->()' \\\n",
    "    --return 'distinct property as node1, count(distinct n1) as node2, \"nodes_count\" as label' \\\n",
    "    -o \"$TEMP\"/property.count.tsv.gz"
   ]
  },
  {
   "cell_type": "markdown",
   "metadata": {},
   "source": [
    "#### For each item, list the properties it has"
   ]
  },
  {
   "cell_type": "code",
   "execution_count": 72,
   "metadata": {},
   "outputs": [],
   "source": [
    "if compute_table_linker_files:\n",
    "    !$kypher -i claims \\\n",
    "    --match '(n1)-[l {label: property}]->()' \\\n",
    "    --return 'distinct n1 as node1, property as node2, \"property\" as label' \\\n",
    "    -o \"$TEMP\"/item.property.tsv.gz"
   ]
  },
  {
   "cell_type": "markdown",
   "metadata": {},
   "source": [
    "#### Combine the property and the counts into one column"
   ]
  },
  {
   "cell_type": "code",
   "execution_count": 73,
   "metadata": {},
   "outputs": [],
   "source": [
    "if compute_table_linker_files:\n",
    "    !$kypher -i \"$TEMP\"/property.count.tsv.gz -i \"$TEMP\"/item.property.tsv.gz \\\n",
    "    --match 'count: (property)-[]->(count), item: (n1)-[]->(property)' \\\n",
    "    --return 'distinct n1 as node1, \"property_count\" as label, printf(\"%s:%s\", property, count) as node2' \\\n",
    "    --order-by 'node1, label, node2' \\\n",
    "    -o \"$TEMP\"/item.property.count.tsv.gz"
   ]
  },
  {
   "cell_type": "markdown",
   "metadata": {},
   "source": [
    "#### Put all the property/count pairs in one row for each node"
   ]
  },
  {
   "cell_type": "code",
   "execution_count": 74,
   "metadata": {},
   "outputs": [],
   "source": [
    "if compute_table_linker_files:\n",
    "    !kgtk sort -i \"$TEMP\"/item.property.count.tsv.gz --sort-command gsort -X \"--parallel 8 --buffer-size 60%\" -o \"$TEMP\"/item.property.count.sorted.tsv.gz"
   ]
  },
  {
   "cell_type": "code",
   "execution_count": 75,
   "metadata": {},
   "outputs": [],
   "source": [
    "if compute_table_linker_files:\n",
    "    !kgtk compact -i \"$TEMP\"/item.property.count.sorted.tsv.gz --mode=NONE --columns node1 label --presorted True -o \"$OUT\"/item.property.count.compact.tsv.gz"
   ]
  },
  {
   "cell_type": "markdown",
   "metadata": {},
   "source": [
    "## Compute Property Values (context) File"
   ]
  },
  {
   "cell_type": "markdown",
   "metadata": {},
   "source": [
    "### Collecting all the properties that we do not need in the wikibase items\n",
    "\n",
    "For wikibase-item properties, the context will include the label of the value of the property.\n",
    "\n",
    "The follwing query creates context information for all wikibase-item properties. We need to trim the set of properties to include only the ones that give us useful values:\n",
    "\n",
    "- exclude P31, P279 as this info is unlikely to be useful as context\n",
    "- exclude P793, P47, P1830, P190, P1549 (these properties are likely to give confusing contexts, this is just a small sample)\n",
    "- exclude all properties that are is-a of P31/P279star of\n",
    "  - Q19820110 (Wikidata property for property documentation)\n",
    "  - Q18667213 (Wikidata property about Wikimedia categories)\n",
    "  - Q51118703 (Wikidata property about Wikimedia templates)\n",
    "  - Q51118821 (Wikidata property about Wikimedia entities)\n",
    "  - Q18608359 (Wikidata property to indicate a source)\n",
    "- exclude properties that are subproperty of (note: some of the following may already be exluded by the above exlusions):\n",
    "  - P1455 (list of works) \n",
    "  - P2354 (has list)"
   ]
  },
  {
   "cell_type": "code",
   "execution_count": 76,
   "metadata": {},
   "outputs": [
    {
     "name": "stdout",
     "output_type": "stream",
     "text": [
      "\u001b[90mid\u001b[39m P31\n",
      "\u001b[42mLabel\u001b[49m instance of\n",
      "\u001b[44mDescription\u001b[49m that class of which this subject is a particular example and member\n",
      "\u001b[30m\u001b[47minstance of\u001b[49m\u001b[39m \u001b[90m(P31)\u001b[39m\u001b[90m: \u001b[39mWikidata property \u001b[90m(Q18616576)\u001b[39m | Wikidata property for the relationship \u001b[90m(Q28326730)\u001b[39m | Wikidata property used as \"depicts\" (P180) qualifier on Commonsتص \u001b[90m(Q70564278)\u001b[39m\n",
      "\n",
      "\u001b[90mid\u001b[39m P279\n",
      "\u001b[42mLabel\u001b[49m subclass of\n",
      "\u001b[44mDescription\u001b[49m next higher class or type; all instances of these items are instances of those items; this item is a class (subset) of that item. Not to be confused with P31 (instance of)\n",
      "\u001b[30m\u001b[47minstance of\u001b[49m\u001b[39m \u001b[90m(P31)\u001b[39m\u001b[90m: \u001b[39mtransitive property \u001b[90m(Q18647515)\u001b[39m | asymmetric Wikidata property \u001b[90m(Q18647519)\u001b[39m | Wikidata property for the relationship between classes \u001b[90m(Q28326461)\u001b[39m | Wikidata property \u001b[90m(Q18616576)\u001b[39m\n",
      "\n",
      "\u001b[90mid\u001b[39m P793\n",
      "\u001b[42mLabel\u001b[49m significant event\n",
      "\u001b[44mDescription\u001b[49m significant or notable events associated with the subject\n",
      "\u001b[30m\u001b[47minstance of\u001b[49m\u001b[39m \u001b[90m(P31)\u001b[39m\u001b[90m: \u001b[39mWikidata property related to events \u001b[90m(Q22964785)\u001b[39m | Wikidata property used as \"depicts\" (P180) qualifier on Commonsتص \u001b[90m(Q70564278)\u001b[39m\n",
      "\n",
      "\u001b[90mid\u001b[39m P47\n",
      "\u001b[42mLabel\u001b[49m shares border with\n",
      "\u001b[44mDescription\u001b[49m countries or administrative subdivisions, of equal level, that this item borders, either by land or water. A single common point is enough.\n",
      "\u001b[30m\u001b[47minstance of\u001b[49m\u001b[39m \u001b[90m(P31)\u001b[39m\u001b[90m: \u001b[39mWikidata property to indicate a location \u001b[90m(Q18615777)\u001b[39m\n",
      "\n",
      "\u001b[90mid\u001b[39m P1830\n",
      "\u001b[42mLabel\u001b[49m owner of\n",
      "\u001b[44mDescription\u001b[49m entities owned by the subject\n",
      "\u001b[30m\u001b[47minstance of\u001b[49m\u001b[39m \u001b[90m(P31)\u001b[39m\u001b[90m: \u001b[39mWikidata property regarding utilization and ownership \u001b[90m(Q30025373)\u001b[39m | Wikidata property related to slavery \u001b[90m(Q98929163)\u001b[39m\n",
      "\n",
      "\u001b[90mid\u001b[39m P190\n",
      "\u001b[42mLabel\u001b[49m twinned administrative body\n",
      "\u001b[44mDescription\u001b[49m twin towns, sister cities, twinned municipalities and other localities that have a partnership or cooperative agreement, either legally or informally acknowledged by their governments\n",
      "\u001b[30m\u001b[47minstance of\u001b[49m\u001b[39m \u001b[90m(P31)\u001b[39m\u001b[90m: \u001b[39mWikidata property for places \u001b[90m(Q19829914)\u001b[39m\n",
      "\n",
      "\u001b[90mid\u001b[39m P1549\n",
      "\u001b[42mLabel\u001b[49m demonym\n",
      "\u001b[44mDescription\u001b[49m demonym (proper noun) for people or things associated with a given place, usually based off the placename; multiple entries with qualifiers to distinguish are used to list variant forms by reason of grammatical gender or plurality.\n",
      "\u001b[30m\u001b[47minstance of\u001b[49m\u001b[39m \u001b[90m(P31)\u001b[39m\u001b[90m: \u001b[39mWikidata property for places \u001b[90m(Q19829914)\u001b[39m | Wikidata property to indicate a name \u001b[90m(Q19643892)\u001b[39m\n"
     ]
    }
   ],
   "source": [
    "!wd u P31 P279 P793 P47 P1830 P190 P1549"
   ]
  },
  {
   "cell_type": "code",
   "execution_count": 77,
   "metadata": {},
   "outputs": [],
   "source": [
    "if compute_table_linker_files:\n",
    "    df = pd.DataFrame()\n",
    "    df['node1'] = [\"P31\", \"P279\", \"P793\", \"P47\", \"P1830\", \"P190\", \"P1549\"]\n",
    "    df.to_csv(f\"{os.environ['TEMP']}/properties.to.remove.tsv\", index=False)"
   ]
  },
  {
   "cell_type": "code",
   "execution_count": 90,
   "metadata": {},
   "outputs": [],
   "source": [
    "isa_classes = \"Q19820110,Q18667213,Q51118703,Q51118821\""
   ]
  },
  {
   "cell_type": "code",
   "execution_count": 79,
   "metadata": {},
   "outputs": [
    {
     "name": "stdout",
     "output_type": "stream",
     "text": [
      "\u001b[90mid\u001b[39m Q19820110\n",
      "\u001b[42mLabel\u001b[49m Wikidata property for property documentation\n",
      "\u001b[44mDescription\u001b[49m property used to document other Wikidata properties\n",
      "\u001b[30m\u001b[47minstance of\u001b[49m\u001b[39m \u001b[90m(P31)\u001b[39m\u001b[90m: \u001b[39m type of Wikidata property \u001b[90m(Q107649491)\u001b[39m\n",
      "\u001b[30m\u001b[47msubclass of\u001b[49m\u001b[39m \u001b[90m(P279)\u001b[39m\u001b[90m: \u001b[39mWikidata property for properties \u001b[90m(Q22582645)\u001b[39m\n",
      "\n",
      "\u001b[90mid\u001b[39m Q18667213\n",
      "\u001b[42mLabel\u001b[49m Wikidata property about Wikimedia categories\n",
      "\u001b[44mDescription\u001b[49m type of Wikidata property\n",
      "\u001b[30m\u001b[47minstance of\u001b[49m\u001b[39m \u001b[90m(P31)\u001b[39m\u001b[90m: \u001b[39m type of Wikidata property \u001b[90m(Q107649491)\u001b[39m\n",
      "\u001b[30m\u001b[47msubclass of\u001b[49m\u001b[39m \u001b[90m(P279)\u001b[39m\u001b[90m: \u001b[39mWikidata property about Wikimedia entities \u001b[90m(Q51118821)\u001b[39m\n",
      "\n",
      "\u001b[90mid\u001b[39m Q51118703\n",
      "\u001b[42mLabel\u001b[49m Wikidata property about Wikimedia templates\n",
      "\u001b[44mDescription\u001b[49m класс свойств Викиданных\n",
      "\u001b[30m\u001b[47minstance of\u001b[49m\u001b[39m \u001b[90m(P31)\u001b[39m\u001b[90m: \u001b[39m type of Wikidata property \u001b[90m(Q107649491)\u001b[39m\n",
      "\u001b[30m\u001b[47msubclass of\u001b[49m\u001b[39m \u001b[90m(P279)\u001b[39m\u001b[90m: \u001b[39mWikidata property about Wikimedia entities \u001b[90m(Q51118821)\u001b[39m\n",
      "\n",
      "\u001b[90mid\u001b[39m Q51118821\n",
      "\u001b[42mLabel\u001b[49m Wikidata property about Wikimedia entities\n",
      "\u001b[44mDescription\u001b[49m Wikidata property\n",
      "\u001b[30m\u001b[47minstance of\u001b[49m\u001b[39m \u001b[90m(P31)\u001b[39m\u001b[90m: \u001b[39m type of Wikidata property \u001b[90m(Q107649491)\u001b[39m\n",
      "\u001b[30m\u001b[47msubclass of\u001b[49m\u001b[39m \u001b[90m(P279)\u001b[39m\u001b[90m: \u001b[39mWikidata property \u001b[90m(Q18616576)\u001b[39m\n"
     ]
    }
   ],
   "source": [
    "!wd u Q19820110 Q18667213 Q51118703 Q51118821"
   ]
  },
  {
   "cell_type": "markdown",
   "metadata": {},
   "source": [
    "Make sure the following files are present in the input path. These files for DWD v2 can be downloaded from https://drive.google.com/drive/folders/1AyKSLjt5OmTZvEvi4cp2lJt7FIvFKvzG"
   ]
  },
  {
   "cell_type": "code",
   "execution_count": 24,
   "metadata": {},
   "outputs": [],
   "source": [
    "if compute_table_linker_files:\n",
    "    assert os.path.exists(f'{os.environ[\"GRAPH\"]}/derived.P131.admin.tsv.gz'), \"derived.P131.admin.tsv.gz is missing from the input graph path\"\n",
    "\n",
    "    assert os.path.exists(f'{os.environ[\"GRAPH\"]}/derived.alias.settlement.admin1.tsv.gz'), \"derived.alias.settlement.admin1.tsv.gz is missing from the input graph path\"\n",
    "\n",
    "    assert os.path.exists(f'{os.environ[\"GRAPH\"]}/derived.alias.settlement.admin1.full.tsv.gz'), \"derived.alias.settlement.admin1.full.tsv.gz is missing from the input graph path\"\n",
    "\n",
    "    assert os.path.exists(f'{os.environ[\"GRAPH\"]}/derived.alias.settlement.admin1.iso.tsv.gz'), \"derived.alias.settlement.admin1.iso.tsv.gz is missing from the input graph path\"\n",
    "\n",
    "    assert os.path.exists(f'{os.environ[\"GRAPH\"]}/derived.alias.city.country.tsv.gz'), \"derived.alias.city.country.tsv.gz is missing from the input graph path\"\n",
    "\n",
    "    assert os.path.exists(f'{os.environ[\"GRAPH\"]}/derived.alias.city.us.tsv.gz'), \"derived.alias.city.us.tsv.gz is missing from the input graph path\"\n",
    "\n",
    "    assert os.path.exists(f'{os.environ[\"GRAPH\"]}/derived.alias.settlement.tsv.gz'), \"derived.alias.settlement.tsv.gz is missing from the input graph path\""
   ]
  },
  {
   "cell_type": "code",
   "execution_count": 94,
   "metadata": {},
   "outputs": [],
   "source": [
    "if compute_table_linker_files:\n",
    "    !$kypher -i isa \\\n",
    "    --match '(n1)-[]->(n2)' \\\n",
    "    --where 'n2 in [\"Q19820110\", \"Q18667213\", \"Q51118703\", \"Q51118821\"]' \\\n",
    "    --return 'n1' \\\n",
    "    -o $TEMP/isa.properties.remove.tsv.gz"
   ]
  },
  {
   "cell_type": "code",
   "execution_count": 95,
   "metadata": {},
   "outputs": [],
   "source": [
    "if compute_table_linker_files:\n",
    "    !$kypher -i $TEMP/isa.properties.remove.tsv.gz \\\n",
    "    --match '(n1)-[]->()' \\\n",
    "    --where \"substr(n1,1,1)='P'\" \\\n",
    "    --return 'distinct n1' \\\n",
    "    -o $TEMP/isa.properties.remove.distinct.tsv.gz"
   ]
  },
  {
   "cell_type": "code",
   "execution_count": 96,
   "metadata": {},
   "outputs": [],
   "source": [
    "if compute_table_linker_files:\n",
    "    !$kgtk cat -i $TEMP/isa.properties.remove.distinct.tsv.gz $TEMP/properties.to.remove.tsv \\\n",
    "    -o $TEMP/properties.remove.tsv.gz --mode=NONE"
   ]
  },
  {
   "cell_type": "code",
   "execution_count": 6,
   "metadata": {},
   "outputs": [],
   "source": [
    "if compute_table_linker_files:\n",
    "    !$kgtk cat -i $item \\\n",
    "    -i \"$GRAPH/derived.P131.admin.tsv.gz\" \\\n",
    "    -o \"$TEMP/derived.table-linker.items.tsv.gz\""
   ]
  },
  {
   "cell_type": "code",
   "execution_count": 9,
   "metadata": {},
   "outputs": [],
   "source": [
    "if compute_table_linker_files:\n",
    "    !$kypher -i \"$TEMP/derived.table-linker.items.tsv.gz\" --as table_linker_item \\\n",
    "    --match 'item: (n1)-[l {label: property}]->()' \\\n",
    "    --return 'distinct property as node1' \\\n",
    "    -o $TEMP/all.properties.tsv.gz"
   ]
  },
  {
   "cell_type": "code",
   "execution_count": 10,
   "metadata": {},
   "outputs": [],
   "source": [
    "if compute_table_linker_files:\n",
    "    !$kgtk ifnotexists -i $TEMP/all.properties.tsv.gz \\\n",
    "    --filter-on $TEMP/properties.remove.tsv.gz \\\n",
    "    --input-keys node1 \\\n",
    "    --filter-keys node1 \\\n",
    "    --mode=NONE \\\n",
    "    -o $TEMP/final.properties.tsv.gz"
   ]
  },
  {
   "cell_type": "code",
   "execution_count": 11,
   "metadata": {},
   "outputs": [],
   "source": [
    "if compute_table_linker_files:\n",
    "    !$kypher -i claims \\\n",
    "    --match 'claims: (n1)-[l {label: property}]->(n2 {wikidatatype:\"time\"})' \\\n",
    "    --return 'n1 as node1, \"context\" as label, printf(\"d\\\"%s\\\":%s\", kgtk_date_year(n2), property) as node2' \\\n",
    "    -o $TEMP/context.time.tsv.gz"
   ]
  },
  {
   "cell_type": "code",
   "execution_count": 24,
   "metadata": {},
   "outputs": [],
   "source": [
    "if compute_table_linker_files:\n",
    "    !$kypher -i table_linker_item -i label -i $TEMP/final.properties.tsv.gz --as final_props \\\n",
    "    --match 'item: (n1)-[l {label: property}]->(n2), label: (n2)-[]->(lab), final_props: (property)' \\\n",
    "    --return 'n1 as node1, \"context\" as label, printf(\"i%s:%s:%s\", lower(kgtk_lqstring_text_string(lab)), property, n2) as node2' \\\n",
    "    --where 'n1 != n2' \\\n",
    "    -o \"$TEMP\"/context.labels.tsv.gz"
   ]
  },
  {
   "cell_type": "code",
   "execution_count": 25,
   "metadata": {},
   "outputs": [
    {
     "name": "stdout",
     "output_type": "stream",
     "text": [
      "node1\tlabel\tnode2\n",
      "Q1024037\tcontext\ti\"boston\":P131:Q100\n",
      "Q1116352\tcontext\ti\"boston\":P19:Q100\n",
      "Q1168830\tcontext\ti\"boston\":P19:Q100\n",
      "Q11806\tcontext\ti\"boston\":P937:Q100\n",
      "Q1181582\tcontext\ti\"boston\":P19:Q100\n",
      "Q1194524\tcontext\ti\"boston\":P840:Q100\n",
      "Q1195372\tcontext\ti\"boston\":P20:Q100\n",
      "Q125017\tcontext\ti\"boston\":P19:Q100\n",
      "Q1335396\tcontext\ti\"boston\":P131:Q100\n",
      "zcat: error writing to output: Broken pipe\n"
     ]
    }
   ],
   "source": [
    "if compute_table_linker_files:\n",
    "    !zcat < \"$TEMP\"/context.labels.tsv.gz | head"
   ]
  },
  {
   "cell_type": "code",
   "execution_count": 115,
   "metadata": {},
   "outputs": [],
   "source": [
    "if compute_table_linker_files:\n",
    "    !$kgtk cat -i $alias \\\n",
    "    -i \"$GRAPH/derived.alias.settlement.admin1.tsv.gz\" \\\n",
    "    -i \"$GRAPH/derived.alias.settlement.admin1.full.tsv.gz\" \\\n",
    "    -i \"$GRAPH/derived.alias.settlement.admin1.iso.tsv.gz\" \\\n",
    "    -i \"$GRAPH/derived.alias.city.country.tsv.gz\" \\\n",
    "    -i \"$GRAPH/derived.alias.city.us.tsv.gz\" \\\n",
    "    -i \"$GRAPH/derived.alias.settlement.tsv.gz\" \\\n",
    "    -o \"$TEMP/derived.location.aliases.tsv.gz\""
   ]
  },
  {
   "cell_type": "code",
   "execution_count": 27,
   "metadata": {},
   "outputs": [],
   "source": [
    "if compute_table_linker_files:\n",
    "    !$kypher -i table_linker_item -i \"$TEMP/derived.location.aliases.tsv.gz\" -i final_props \\\n",
    "    --match 'item: (n1)-[l {label: property}]->(n2), aliases: (n2)-[]->(alias), final_props: (property)' \\\n",
    "    --return 'n1 as node1, \"context\" as label, printf(\"i%s:%s:%s\", lower(kgtk_lqstring_text_string(alias)), property, n2) as node2' \\\n",
    "    --where 'n1 != n2' \\\n",
    "    -o \"$TEMP\"/context.aliases.tsv.gz"
   ]
  },
  {
   "cell_type": "code",
   "execution_count": 28,
   "metadata": {},
   "outputs": [
    {
     "name": "stdout",
     "output_type": "stream",
     "text": [
      "node1\tlabel\tnode2\n",
      "P8874\tcontext\ti\"hkg\":P1001:Q8646\n",
      "P8874\tcontext\ti\"hk\":P1001:Q8646\n",
      "P8874\tcontext\ti\"hksar\":P1001:Q8646\n",
      "P8874\tcontext\ti\"🇭🇰\":P1001:Q8646\n",
      "P8874\tcontext\ti\"china hong kong\":P1001:Q8646\n",
      "P8874\tcontext\ti\"hong kong special administrative region\":P1001:Q8646\n",
      "P8874\tcontext\ti\"hong kong, china\":P1001:Q8646\n",
      "P8874\tcontext\ti\"hongkong\":P1001:Q8646\n",
      "P8874\tcontext\ti\"hong kong sar\":P1001:Q8646\n",
      "zcat: error writing to output: Broken pipe\n"
     ]
    }
   ],
   "source": [
    "if compute_table_linker_files:\n",
    "    !zcat < \"$TEMP\"/context.aliases.tsv.gz | head"
   ]
  },
  {
   "cell_type": "code",
   "execution_count": 29,
   "metadata": {},
   "outputs": [],
   "source": [
    "if compute_table_linker_files:\n",
    "    !$kypher -i claims \\\n",
    "    --match 'claims: (n1)-[l {label: property}]->(n2 {wikidatatype:\"external-id\"})' \\\n",
    "    --return 'n1 as node1, \"context\" as label, printf(\"e%s:%s\", n2, property) as node2' \\\n",
    "    -o \"$TEMP\"/context.external_id.tsv.gz"
   ]
  },
  {
   "cell_type": "code",
   "execution_count": 30,
   "metadata": {},
   "outputs": [
    {
     "name": "stdout",
     "output_type": "stream",
     "text": [
      "node1\tlabel\tnode2\n",
      "P128\tcontext\te\"RO_0002211\":P3590\n",
      "P1282\tcontext\te\"3809\":P2264\n",
      "P1382\tcontext\te\"RO_0002008\":P3590\n",
      "P1472\tcontext\te\"510\":P2264\n",
      "P1472\tcontext\te\"471\":P2264\n",
      "P1536\tcontext\te\"RO_0002405\":P3590\n",
      "P1542\tcontext\te\"RO_0002404\":P3590\n",
      "P169\tcontext\te\"10010073\":P3347\n",
      "P1762\tcontext\te\"1048\":P2689\n",
      "zcat: error writing to output: Broken pipe\n"
     ]
    }
   ],
   "source": [
    "if compute_table_linker_files:\n",
    "    !zcat < \"$TEMP\"/context.external_id.tsv.gz | head"
   ]
  },
  {
   "cell_type": "code",
   "execution_count": 31,
   "metadata": {},
   "outputs": [],
   "source": [
    "if compute_table_linker_files:\n",
    "    !$kypher -i claims \\\n",
    "    --match 'claims: (n1)-[l {label: property}]->(n2 {wikidatatype:\"quantity\"})' \\\n",
    "    --return 'n1 as node1, \"context\" as label, printf(\"q\\\"%s\\\":%s\",kgtk_quantity_number(n2), property) as node2' \\\n",
    "    -o \"$TEMP\"/context.quantity.tsv.gz"
   ]
  },
  {
   "cell_type": "code",
   "execution_count": 32,
   "metadata": {},
   "outputs": [
    {
     "name": "stdout",
     "output_type": "stream",
     "text": [
      "node1\tlabel\tnode2\n",
      "P2146\tcontext\tq\"0.05\":P2045\n",
      "P3156\tcontext\tq\"344567\":P4876\n",
      "P5970\tcontext\tq\"4100\":P4876\n",
      "P7327\tcontext\tq\"54715\":P4876\n",
      "P8283\tcontext\tq\"7017\":P4876\n",
      "P8476\tcontext\tq\"137\":P4876\n",
      "P8477\tcontext\tq\"137\":P4876\n",
      "Q100\tcontext\tq\"33787\":P1082\n",
      "Q100\tcontext\tq\"697197\":P1082\n",
      "zcat: error writing to output: Broken pipe\n"
     ]
    }
   ],
   "source": [
    "if compute_table_linker_files:\n",
    "    !zcat < \"$TEMP\"/context.quantity.tsv.gz | head"
   ]
  },
  {
   "cell_type": "code",
   "execution_count": 15,
   "metadata": {},
   "outputs": [],
   "source": [
    "if compute_table_linker_files:\n",
    "    !$kypher -i claims \\\n",
    "    --match 'claims: (n1)-[l {label: property}]->(n2 {wikidatatype:\"monolingualtext\"})' \\\n",
    "    --return 'n1 as node1, \"context\" as label, printf(\"m%s:%s\",lower(kgtk_lqstring_text_string(n2)), property) as node2' \\\n",
    "    --where 'n2.kgtk_lqstring_lang = \"en\"' \\\n",
    "    -o \"$TEMP\"/context.monolingualtext.tsv.gz"
   ]
  },
  {
   "cell_type": "code",
   "execution_count": 16,
   "metadata": {},
   "outputs": [
    {
     "name": "stdout",
     "output_type": "stream",
     "text": [
      "node1\tlabel\tnode2\n",
      "P101\tcontext\tm\"fow\":P1813\n",
      "P1027\tcontext\tm\"can be used as qualifier for \\\\award received\\\\\\\" [[property:p166]] for persons or organisation\\\"\":P2559\n",
      "P1027\tcontext\tm\"can be used in statements on items that describe awards or titles\":P2559\n",
      "P1031\tcontext\tm\"short legal citations, see examples. items can have more than one value if more than one publisher included it.\":P2559\n",
      "P1064\tcontext\tm\"please never assign this property to any maglev-related items (neither maglev trains, nor maglev railways), use width (p2049) for maglevs when necessary.\":P2559\n",
      "P1074\tcontext\tm\"use for fictional entities that do not actually exist, not for simply artificial entities.\":P2559\n",
      "P112\tcontext\tm\"foundress\":P2521\n",
      "P1142\tcontext\tm\"p1387 (political alignment) indicates general position in the political spectrum, whereas p1142 (political ideology) links to an arbitrary ideology which may be more specific.\":P2559\n",
      "P1192\tcontext\tm\"use this to denote a service that actually stops at the station/stop at any point during the day and not just always passing through. see this property\\'s talk page for more information. distinct from p81.\":P2559\n",
      "zcat: error writing to output: Broken pipe\n"
     ]
    }
   ],
   "source": [
    "if compute_table_linker_files:\n",
    "    !zcat < \"$TEMP\"/context.monolingualtext.tsv.gz | head"
   ]
  },
  {
   "cell_type": "markdown",
   "metadata": {},
   "source": [
    "Concatenate to get all the property values"
   ]
  },
  {
   "cell_type": "code",
   "execution_count": 17,
   "metadata": {},
   "outputs": [],
   "source": [
    "if compute_table_linker_files:\n",
    "    !kgtk cat -i $TEMP/context.external_id.tsv.gz \\\n",
    "    $TEMP/context.quantity.tsv.gz \\\n",
    "    $TEMP/context.aliases.tsv.gz \\\n",
    "    $TEMP/context.labels.tsv.gz  \\\n",
    "    $TEMP/context.time.tsv.gz \\\n",
    "    \"$TEMP\"/context.monolingualtext.tsv.gz \\\n",
    "    -o $TEMP/context.all.tsv.gz "
   ]
  },
  {
   "cell_type": "code",
   "execution_count": 18,
   "metadata": {},
   "outputs": [],
   "source": [
    "if compute_table_linker_files:\n",
    "    !$kgtk sort --columns node1 -i $TEMP/context.all.tsv.gz -X \"--parallel 8 --buffer-size 60%\" -o \"$TEMP\"/context.all.sorted.tsv.gz"
   ]
  },
  {
   "cell_type": "code",
   "execution_count": 19,
   "metadata": {},
   "outputs": [],
   "source": [
    "if compute_table_linker_files:\n",
    "    !kgtk compact -i \"$TEMP\"/context.all.sorted.tsv.gz \\\n",
    "    --mode=NONE \\\n",
    "    --columns node1 label \\\n",
    "    --presorted True \\\n",
    "    -o \"$OUT\"/table_linker.qnode.property.values.tsv.gz"
   ]
  },
  {
   "cell_type": "code",
   "execution_count": 20,
   "metadata": {},
   "outputs": [
    {
     "name": "stdout",
     "output_type": "stream",
     "text": [
      "node1\tlabel\tnode2\n",
      "P101\tcontext\tm\"fow\":P1813\n",
      "P1027\tcontext\tm\"can be used as qualifier for \\\\award received\\\\\\\" [[property:p166]] for persons or organisation\\\"\":P2559|m\"can be used in statements on items that describe awards or titles\":P2559\n",
      "P1031\tcontext\tm\"short legal citations, see examples. items can have more than one value if more than one publisher included it.\":P2559\n",
      "P1064\tcontext\tm\"please never assign this property to any maglev-related items (neither maglev trains, nor maglev railways), use width (p2049) for maglevs when necessary.\":P2559\n",
      "P1074\tcontext\tm\"use for fictional entities that do not actually exist, not for simply artificial entities.\":P2559\n",
      "P1082\tcontext\ti\"most recent value\":P7452:Q71533355|i\"newest value\":P7452:Q71533355\n",
      "P112\tcontext\tm\"foundress\":P2521\n",
      "P1142\tcontext\tm\"p1387 (political alignment) indicates general position in the political spectrum, whereas p1142 (political ideology) links to an arbitrary ideology which may be more specific.\":P2559\n",
      "P1192\tcontext\tm\"use this to denote a service that actually stops at the station/stop at any point during the day and not just always passing through. see this property\\'s talk page for more information. distinct from p81.\":P2559\n",
      "zcat: error writing to output: Broken pipe\n"
     ]
    }
   ],
   "source": [
    "if compute_table_linker_files:\n",
    "    !zcat < \"$OUT\"/table_linker.qnode.property.values.tsv.gz | head"
   ]
  },
  {
   "cell_type": "code",
   "execution_count": null,
   "metadata": {},
   "outputs": [],
   "source": []
  }
 ],
 "metadata": {
  "celltoolbar": "Tags",
  "kernelspec": {
   "display_name": "kgtk-env",
   "language": "python",
   "name": "kgtk-env"
  },
  "language_info": {
   "codemirror_mode": {
    "name": "ipython",
    "version": 3
   },
   "file_extension": ".py",
   "mimetype": "text/x-python",
   "name": "python",
   "nbconvert_exporter": "python",
   "pygments_lexer": "ipython3",
   "version": "3.7.9"
  }
 },
 "nbformat": 4,
 "nbformat_minor": 4
}
